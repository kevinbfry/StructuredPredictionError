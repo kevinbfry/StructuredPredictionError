{
 "cells": [
  {
   "cell_type": "code",
   "execution_count": 1,
   "metadata": {},
   "outputs": [],
   "source": [
    "import numpy as np\n",
    "import pandas as pd\n",
    "from sklearn.linear_model import Lasso, LinearRegression\n",
    "from sklearn.cluster import KMeans\n",
    "\n",
    "import plotly.express as px\n",
    "\n",
    "import plotly.graph_objects as go\n",
    "\n",
    "from scipy.linalg import toeplitz, block_diag\n",
    "\n",
    "from spe.mse_estimator import ErrorComparer, gen_rbf_X, create_clus_split\n",
    "from spe.relaxed_lasso import RelaxedLasso"
   ]
  },
  {
   "cell_type": "code",
   "execution_count": 2,
   "metadata": {},
   "outputs": [],
   "source": [
    "err_cmp = ErrorComparer()"
   ]
  },
  {
   "cell_type": "code",
   "execution_count": 62,
   "metadata": {},
   "outputs": [],
   "source": [
    "niter = 100\n",
    "\n",
    "n=50**2\n",
    "p=200\n",
    "s=30\n",
    "\n",
    "k=3\n",
    "alpha=1.\n",
    "lambd=.2"
   ]
  },
  {
   "cell_type": "code",
   "execution_count": 63,
   "metadata": {},
   "outputs": [],
   "source": [
    "nx = ny = int(np.sqrt(n))\n",
    "xs = np.linspace(0, 10, nx)\n",
    "ys = np.linspace(0, 10, ny)\n",
    "c_x, c_y = np.meshgrid(xs, ys)\n",
    "c_x = c_x.flatten()\n",
    "c_y = c_y.flatten()"
   ]
  },
  {
   "cell_type": "code",
   "execution_count": 64,
   "metadata": {},
   "outputs": [],
   "source": [
    "rho = 0.5\n",
    "delta = 0.8\n",
    "\n",
    "D = np.abs(c_x - c_x[:,None]) + np.abs(c_y - c_y[:,None])\n",
    "Sigma_t = rho**D\n",
    "Sigma_t = delta*Sigma_t + (1-delta) * np.eye(n)\n",
    "\n",
    "# m = 20\n",
    "# c = np.zeros(n)\n",
    "# c[:m] = [rho**i for i in np.arange(m)]\n",
    "# Sigma_t = toeplitz(c)\n",
    "\n",
    "# b = n / m\n",
    "# c = [rho**i for i in np.arange(m)] \n",
    "# Sigma_t = block_diag(*[toeplitz(c) for _ in np.arange(b)])\n",
    "\n",
    "Chol_t = np.linalg.cholesky(Sigma_t)\n",
    "# Sigma_t = np.eye(n)\n",
    "# Chol_t = np.eye(n)"
   ]
  },
  {
   "cell_type": "code",
   "execution_count": 65,
   "metadata": {},
   "outputs": [],
   "source": [
    "# c_x = np.random.uniform(0,10,size=n)\n",
    "# c_y = np.random.uniform(0,10,size=n)\n",
    "\n",
    "# rn = int(np.sqrt(n))\n",
    "# ctr_x = np.random.uniform(0,10,size=rn)\n",
    "# ctr_y = np.random.uniform(0,10,size=rn)\n",
    "# c_x = np.concatenate([c + .35 * np.random.randn(rn) for c in ctr_x])\n",
    "# c_y = np.concatenate([c + .35 * np.random.randn(rn) for c in ctr_y])\n",
    "\n",
    "X = gen_rbf_X(c_x, c_y, p)\n",
    "\n",
    "beta = np.zeros(p)\n",
    "idx = np.random.choice(p,size=s)\n",
    "beta[idx] = np.random.uniform(-1,1,size=s)"
   ]
  },
  {
   "cell_type": "code",
   "execution_count": 66,
   "metadata": {},
   "outputs": [],
   "source": [
    "# xv, yv = np.meshgrid(np.arange(nx), np.arange(ny))\n",
    "# pts = np.stack([xv.ravel(), yv.ravel()]).T\n",
    "# n = nx*ny\n",
    "# rn = int(np.sqrt(n))\n",
    "# ctr = np.random.choice(pts.shape[0], size=rn, replace=True)\n",
    "# ctr = pts[ctr]\n",
    "# tr_idx = np.vstack([[pt + np.array((1.25*np.random.randn(2)).astype(int)) for _ in np.arange(rn)] for pt in ctr])\n",
    "# tr_idx = np.maximum(0, tr_idx)\n",
    "# tr_idx[:,0] = cx = np.minimum(nx-1, tr_idx[:,0])\n",
    "# tr_idx[:,1] = cy = np.minimum(ny-1, tr_idx[:,1])\n",
    "# tr_idx = np.unique(np.ravel_multi_index(tr_idx.T, (nx,ny)))\n",
    "# tr_idx.shape"
   ]
  },
  {
   "cell_type": "code",
   "execution_count": 67,
   "metadata": {},
   "outputs": [
    {
     "name": "stdout",
     "output_type": "stream",
     "text": [
      "0\n",
      "0.6\n",
      "10\n",
      "20\n",
      "30\n",
      "40\n",
      "50\n",
      "60\n",
      "70\n",
      "80\n",
      "90\n"
     ]
    }
   ],
   "source": [
    "(test_err,\n",
    " kfcv_err,\n",
    " spcv_err,\n",
    " rela_err) = err_cmp.compareRelaxedLassoTrTs(n=n,\n",
    "                                             p=p,\n",
    "                                             X=X,\n",
    "                                             beta=beta,\n",
    "                                             coord=np.stack([c_x, c_y]).T,\n",
    "                                             Chol_t=Chol_t,\n",
    "                                             niter=niter,\n",
    "                                             alpha=alpha,\n",
    "                                             lambd=lambd,\n",
    "                                             k=k,\n",
    "                                             tr_frac=.6,\n",
    "                                            )\n",
    "    "
   ]
  },
  {
   "cell_type": "code",
   "execution_count": 68,
   "metadata": {},
   "outputs": [],
   "source": [
    "# groups = KMeans(n_clusters=10).fit(tr_idx).labels_"
   ]
  },
  {
   "cell_type": "code",
   "execution_count": 69,
   "metadata": {
    "scrolled": true
   },
   "outputs": [],
   "source": [
    "# px.scatter(pd.DataFrame({'x': tr_idx[:,0], 'y': tr_idx[:,1], 'g': groups}), x='x', y='y', color='g')"
   ]
  },
  {
   "cell_type": "code",
   "execution_count": 70,
   "metadata": {},
   "outputs": [
    {
     "data": {
      "text/plain": [
       "(0.46441663267048805,\n",
       " 0.3755244690549453,\n",
       " 0.4849942269867206,\n",
       " 0.437044197245327)"
      ]
     },
     "execution_count": 70,
     "metadata": {},
     "output_type": "execute_result"
    }
   ],
   "source": [
    "risk = test_err.mean()\n",
    "risk_kfcv = kfcv_err.mean()\n",
    "risk_spcv = spcv_err.mean()\n",
    "risk_rela = rela_err.mean()\n",
    "risk, risk_kfcv, risk_spcv, risk_rela"
   ]
  },
  {
   "cell_type": "code",
   "execution_count": 71,
   "metadata": {},
   "outputs": [],
   "source": [
    "df = pd.DataFrame({'GenCp': (rela_err.T),# - test_err.T) / test_err.T,\n",
    "                   'KFCV': (kfcv_err.T),# - test_err.T) / test_err.T,\n",
    "                   'SPCV': (spcv_err.T)})# - test_err.T) / test_err.T})"
   ]
  },
  {
   "cell_type": "code",
   "execution_count": 72,
   "metadata": {},
   "outputs": [],
   "source": [
    "(pd.DataFrame({'GenCp': (rela_err.T),\n",
    "                   'KFCV': (kfcv_err.T),\n",
    "                   'SPCV': (spcv_err.T)}) /risk).to_csv(\"~/Downloads/rl_df.csv\")"
   ]
  },
  {
   "cell_type": "code",
   "execution_count": 73,
   "metadata": {
    "scrolled": false
   },
   "outputs": [
    {
     "data": {
      "application/vnd.plotly.v1+json": {
       "config": {
        "plotlyServerURL": "https://plot.ly"
       },
       "data": [
        {
         "alignmentgroup": "True",
         "boxmean": true,
         "boxpoints": false,
         "hovertemplate": "Method=%{x}<br>Relative MSE=%{y}<extra></extra>",
         "legendgroup": "",
         "marker": {
          "color": "#636efa"
         },
         "name": "",
         "notched": false,
         "offsetgroup": "",
         "orientation": "v",
         "showlegend": false,
         "type": "box",
         "x": [
          "GenCp",
          "GenCp",
          "GenCp",
          "GenCp",
          "GenCp",
          "GenCp",
          "GenCp",
          "GenCp",
          "GenCp",
          "GenCp",
          "GenCp",
          "GenCp",
          "GenCp",
          "GenCp",
          "GenCp",
          "GenCp",
          "GenCp",
          "GenCp",
          "GenCp",
          "GenCp",
          "GenCp",
          "GenCp",
          "GenCp",
          "GenCp",
          "GenCp",
          "GenCp",
          "GenCp",
          "GenCp",
          "GenCp",
          "GenCp",
          "GenCp",
          "GenCp",
          "GenCp",
          "GenCp",
          "GenCp",
          "GenCp",
          "GenCp",
          "GenCp",
          "GenCp",
          "GenCp",
          "GenCp",
          "GenCp",
          "GenCp",
          "GenCp",
          "GenCp",
          "GenCp",
          "GenCp",
          "GenCp",
          "GenCp",
          "GenCp",
          "GenCp",
          "GenCp",
          "GenCp",
          "GenCp",
          "GenCp",
          "GenCp",
          "GenCp",
          "GenCp",
          "GenCp",
          "GenCp",
          "GenCp",
          "GenCp",
          "GenCp",
          "GenCp",
          "GenCp",
          "GenCp",
          "GenCp",
          "GenCp",
          "GenCp",
          "GenCp",
          "GenCp",
          "GenCp",
          "GenCp",
          "GenCp",
          "GenCp",
          "GenCp",
          "GenCp",
          "GenCp",
          "GenCp",
          "GenCp",
          "GenCp",
          "GenCp",
          "GenCp",
          "GenCp",
          "GenCp",
          "GenCp",
          "GenCp",
          "GenCp",
          "GenCp",
          "GenCp",
          "GenCp",
          "GenCp",
          "GenCp",
          "GenCp",
          "GenCp",
          "GenCp",
          "GenCp",
          "GenCp",
          "GenCp",
          "GenCp",
          "KFCV",
          "KFCV",
          "KFCV",
          "KFCV",
          "KFCV",
          "KFCV",
          "KFCV",
          "KFCV",
          "KFCV",
          "KFCV",
          "KFCV",
          "KFCV",
          "KFCV",
          "KFCV",
          "KFCV",
          "KFCV",
          "KFCV",
          "KFCV",
          "KFCV",
          "KFCV",
          "KFCV",
          "KFCV",
          "KFCV",
          "KFCV",
          "KFCV",
          "KFCV",
          "KFCV",
          "KFCV",
          "KFCV",
          "KFCV",
          "KFCV",
          "KFCV",
          "KFCV",
          "KFCV",
          "KFCV",
          "KFCV",
          "KFCV",
          "KFCV",
          "KFCV",
          "KFCV",
          "KFCV",
          "KFCV",
          "KFCV",
          "KFCV",
          "KFCV",
          "KFCV",
          "KFCV",
          "KFCV",
          "KFCV",
          "KFCV",
          "KFCV",
          "KFCV",
          "KFCV",
          "KFCV",
          "KFCV",
          "KFCV",
          "KFCV",
          "KFCV",
          "KFCV",
          "KFCV",
          "KFCV",
          "KFCV",
          "KFCV",
          "KFCV",
          "KFCV",
          "KFCV",
          "KFCV",
          "KFCV",
          "KFCV",
          "KFCV",
          "KFCV",
          "KFCV",
          "KFCV",
          "KFCV",
          "KFCV",
          "KFCV",
          "KFCV",
          "KFCV",
          "KFCV",
          "KFCV",
          "KFCV",
          "KFCV",
          "KFCV",
          "KFCV",
          "KFCV",
          "KFCV",
          "KFCV",
          "KFCV",
          "KFCV",
          "KFCV",
          "KFCV",
          "KFCV",
          "KFCV",
          "KFCV",
          "KFCV",
          "KFCV",
          "KFCV",
          "KFCV",
          "KFCV",
          "KFCV",
          "SPCV",
          "SPCV",
          "SPCV",
          "SPCV",
          "SPCV",
          "SPCV",
          "SPCV",
          "SPCV",
          "SPCV",
          "SPCV",
          "SPCV",
          "SPCV",
          "SPCV",
          "SPCV",
          "SPCV",
          "SPCV",
          "SPCV",
          "SPCV",
          "SPCV",
          "SPCV",
          "SPCV",
          "SPCV",
          "SPCV",
          "SPCV",
          "SPCV",
          "SPCV",
          "SPCV",
          "SPCV",
          "SPCV",
          "SPCV",
          "SPCV",
          "SPCV",
          "SPCV",
          "SPCV",
          "SPCV",
          "SPCV",
          "SPCV",
          "SPCV",
          "SPCV",
          "SPCV",
          "SPCV",
          "SPCV",
          "SPCV",
          "SPCV",
          "SPCV",
          "SPCV",
          "SPCV",
          "SPCV",
          "SPCV",
          "SPCV",
          "SPCV",
          "SPCV",
          "SPCV",
          "SPCV",
          "SPCV",
          "SPCV",
          "SPCV",
          "SPCV",
          "SPCV",
          "SPCV",
          "SPCV",
          "SPCV",
          "SPCV",
          "SPCV",
          "SPCV",
          "SPCV",
          "SPCV",
          "SPCV",
          "SPCV",
          "SPCV",
          "SPCV",
          "SPCV",
          "SPCV",
          "SPCV",
          "SPCV",
          "SPCV",
          "SPCV",
          "SPCV",
          "SPCV",
          "SPCV",
          "SPCV",
          "SPCV",
          "SPCV",
          "SPCV",
          "SPCV",
          "SPCV",
          "SPCV",
          "SPCV",
          "SPCV",
          "SPCV",
          "SPCV",
          "SPCV",
          "SPCV",
          "SPCV",
          "SPCV",
          "SPCV",
          "SPCV",
          "SPCV",
          "SPCV",
          "SPCV"
         ],
         "x0": " ",
         "xaxis": "x",
         "y": [
          -0.1743779062554838,
          -0.16839908340722623,
          -0.07682910336047928,
          -0.13159481174515092,
          -0.20394759870836557,
          0.14166164019929822,
          0.06608318075161092,
          -0.23942192035757676,
          0.18519352332538905,
          -0.12664587668509056,
          -0.04278739611687277,
          0.014300672761466645,
          0.19630320757177672,
          0.04178516010483817,
          0.022011390921247532,
          -0.026398664078757093,
          -0.04543711703723971,
          -0.030584565933678906,
          -0.22014109651329902,
          -0.008265869555625499,
          -0.14710579905698043,
          -0.1432528767830955,
          -0.17380471232176542,
          0.1298010970550663,
          -0.15978504630869123,
          -0.05108483953344666,
          0.007494060945752346,
          -0.08367281570072377,
          -0.10597489066789582,
          -0.19933693424330456,
          0.018385526016594655,
          -0.07247925970188236,
          0.009768202647696376,
          -0.17234007480225666,
          0.11318639498310534,
          0.11392718925812224,
          -0.082965035959741,
          -0.16734071661505653,
          0.17490339718131143,
          -0.11587711194065786,
          -0.05343951566303377,
          0.10844932701268158,
          -0.0299455656620765,
          0.16456216561401615,
          -0.06420003001562195,
          -0.04835877286291212,
          -0.15547650164871363,
          -0.11123279782618453,
          -0.16960895494544864,
          0.053591170999724755,
          -0.19686350756560606,
          -0.1007985935776613,
          0.07410768177150903,
          0.1404417076610076,
          0.07742079082008399,
          -0.0894084563948321,
          -0.10770350718656557,
          -0.15198743209184495,
          -0.03406619836185746,
          -0.16509392995470248,
          -0.09759514754286457,
          0.08846651565390219,
          -0.21484797595001495,
          -0.14927432163495521,
          -0.09143256483505044,
          -0.2041571830357515,
          -0.14163570232000292,
          0.10186613272210979,
          -0.032328489544425715,
          -0.15004840422141058,
          -0.2175113590251542,
          -0.11235986366629414,
          -0.20672451509547934,
          -0.045617508639025986,
          -0.20885422962629901,
          -0.015710049509256075,
          0.22531132631253403,
          0.06298168947584701,
          -0.16070043540946946,
          -0.2214455594547498,
          0.2628760825237822,
          0.058946491087606016,
          0.1685838066578013,
          0.013448101088724223,
          -0.22030297936113752,
          0.06224305168920857,
          0.019502610604797126,
          -0.09742671866174667,
          -0.14428183571243355,
          -0.031406746552114534,
          -0.04064253899075586,
          -0.1435162344012354,
          -0.21152993972240827,
          -0.19402883309349098,
          -0.2129904706274088,
          -0.0019892226443577053,
          -0.03321510583147921,
          -0.2249677498260782,
          -0.31021646674894143,
          -0.02674977114875467,
          -0.26201711361183166,
          -0.2605567150549294,
          -0.17508216665588203,
          -0.3010524855192735,
          -0.31010953673161773,
          -0.05761727143705181,
          -0.09714369711437881,
          -0.31545185287732913,
          -0.002840113475664072,
          -0.24036923898640128,
          -0.14086984267632355,
          -0.14276256107010799,
          0.11325369203449952,
          -0.13473129994128444,
          -0.2730334130838563,
          -0.1971720588779834,
          -0.284236778754545,
          -0.21381525047070546,
          -0.2980094481697687,
          -0.1434757212694035,
          -0.2553343379360522,
          -0.29340791919010006,
          -0.3268570693077766,
          -0.01945628982789893,
          -0.3647498711475507,
          -0.16778669754246073,
          -0.18079150954299672,
          -0.0840029259097763,
          -0.23634098633659445,
          -0.34874997910558464,
          -0.13408786972064127,
          -0.20954441678367655,
          -0.1448661895058745,
          -0.31901066474304346,
          0.021615231783665808,
          -0.10017376716851255,
          -0.2868869240977973,
          -0.29942817267128274,
          0.14521146005750013,
          -0.1819108830138848,
          -0.24412747041979826,
          -0.08577897487334428,
          -0.1912199060393965,
          0.014948735655947178,
          -0.10190943407873448,
          -0.20695708086010853,
          -0.25808350394170304,
          -0.14327384663317397,
          -0.30195520402142584,
          -0.1306744530338526,
          -0.293729629880459,
          -0.17228070670423876,
          0.03186511840388955,
          -0.013545056292415668,
          -0.049037250257261744,
          -0.1497817438857652,
          -0.27751334136223366,
          -0.25788683070796725,
          -0.257254553470362,
          -0.24128470014717948,
          -0.2064815632407613,
          -0.06618434158671514,
          -0.36499117730134256,
          -0.29590485696680435,
          -0.27997588308570837,
          -0.29401802515348674,
          -0.311597927229023,
          -0.22250723524559593,
          -0.08350963445541926,
          -0.27224418004516615,
          -0.37751742743483674,
          -0.23754271889050813,
          -0.2525724833939689,
          -0.14307465118618878,
          -0.3722809870012392,
          -0.15915509785639387,
          0.05014845194868085,
          -0.21486492595711648,
          -0.25033008003147467,
          -0.32418083160588756,
          0.19564427632455206,
          0.017227719948434583,
          -0.05980376423360273,
          -0.09748465168302148,
          -0.2566385660753088,
          -0.14654594116252162,
          -0.19115823430923526,
          -0.3044215393279475,
          -0.21276892747746012,
          -0.19843696666479144,
          -0.07999166533838109,
          -0.23696107132260158,
          -0.2712664850516006,
          -0.2566577803825366,
          -0.31819854830226724,
          -0.17391293243231773,
          -0.1492051607907701,
          -0.2863306615499989,
          -0.38326340661718505,
          -0.19851486958132794,
          -0.08775699901355954,
          0.3374588465598233,
          0.16335521830443703,
          0.19122169797408978,
          -0.15303885379172041,
          0.04922764593293763,
          0.22767706830899664,
          -0.19302410938049966,
          0.14749687116738505,
          -0.18898201394492814,
          0.06686185092472416,
          0.38248360797242464,
          0.9218748082663261,
          -0.03714673631257883,
          0.035707082237504496,
          -0.03492930739467264,
          0.032548828176740756,
          -0.1937646575928723,
          0.06222649460573807,
          0.33708097888042127,
          -0.17493732497119668,
          0.3943578269188425,
          -0.1828978931303914,
          0.23973427044914847,
          -0.2872479469289161,
          0.062406262630614766,
          0.4329543478284445,
          -0.0010114822458003859,
          -0.1507191024167083,
          -0.16439333252456634,
          -0.11598277023600069,
          -0.12593228016129612,
          -0.004352903350633812,
          -0.2777739927326856,
          0.09128443731458205,
          0.02912537373048726,
          -0.15038272792415888,
          -0.28066105974988337,
          0.3507629715553405,
          0.21343276389127194,
          0.029338763248360367,
          -0.08095589716699159,
          0.020979403305025117,
          0.11301346038430675,
          0.5771861763799745,
          -0.16531710470518968,
          -0.23464360361250122,
          -0.01862308731717193,
          0.17574100814131124,
          0.3866151651333558,
          -0.22824408048078454,
          -0.112815317322576,
          0.8621687040294683,
          0.30520045556521214,
          0.1454981763782372,
          0.021152645117888908,
          -0.24635558484039563,
          -0.19668401515249803,
          0.14312527430848634,
          -0.10290640425173483,
          -0.16787475824439116,
          0.26955692602789244,
          -0.2654700702831527,
          -0.19163875462626198,
          -0.22637662408852025,
          -0.2716951829444466,
          -0.01517652415282292,
          0.21505494062177152,
          0.4926369313399481,
          -0.051649020754117064,
          0.06950913597177528,
          -0.08881251369963399,
          -0.1919398435087316,
          -0.11753847240174611,
          -0.3450581351462083,
          0.1867831767494369,
          0.577965668833534,
          0.23578676905090173,
          -0.21314913147477393,
          -0.3145774272721365,
          1.6263755077920874,
          0.6003155303893354,
          0.20101033713628008,
          0.1821965517210947,
          -0.15582776117351113,
          0.08527066023270034,
          0.033341649704070046,
          0.09621077133033025,
          -0.21946281319136118,
          0.08117951307254763,
          -0.06246910413554166,
          -0.03082818245865145,
          -0.2657966506590945,
          -0.17045701355300402,
          -0.04707531819065088,
          0.004077178808015397,
          0.26627441362477494,
          -0.3037103506430947,
          -0.3912787566154095,
          -0.04265331469046759
         ],
         "y0": " ",
         "yaxis": "y"
        }
       ],
       "layout": {
        "boxmode": "group",
        "legend": {
         "tracegroupgap": 0
        },
        "shapes": [
         {
          "line": {
           "color": "red"
          },
          "type": "line",
          "x0": 0,
          "x1": 1,
          "xref": "x domain",
          "y0": 0,
          "y1": 0,
          "yref": "y"
         }
        ],
        "template": {
         "data": {
          "bar": [
           {
            "error_x": {
             "color": "#2a3f5f"
            },
            "error_y": {
             "color": "#2a3f5f"
            },
            "marker": {
             "line": {
              "color": "#E5ECF6",
              "width": 0.5
             },
             "pattern": {
              "fillmode": "overlay",
              "size": 10,
              "solidity": 0.2
             }
            },
            "type": "bar"
           }
          ],
          "barpolar": [
           {
            "marker": {
             "line": {
              "color": "#E5ECF6",
              "width": 0.5
             },
             "pattern": {
              "fillmode": "overlay",
              "size": 10,
              "solidity": 0.2
             }
            },
            "type": "barpolar"
           }
          ],
          "carpet": [
           {
            "aaxis": {
             "endlinecolor": "#2a3f5f",
             "gridcolor": "white",
             "linecolor": "white",
             "minorgridcolor": "white",
             "startlinecolor": "#2a3f5f"
            },
            "baxis": {
             "endlinecolor": "#2a3f5f",
             "gridcolor": "white",
             "linecolor": "white",
             "minorgridcolor": "white",
             "startlinecolor": "#2a3f5f"
            },
            "type": "carpet"
           }
          ],
          "choropleth": [
           {
            "colorbar": {
             "outlinewidth": 0,
             "ticks": ""
            },
            "type": "choropleth"
           }
          ],
          "contour": [
           {
            "colorbar": {
             "outlinewidth": 0,
             "ticks": ""
            },
            "colorscale": [
             [
              0,
              "#0d0887"
             ],
             [
              0.1111111111111111,
              "#46039f"
             ],
             [
              0.2222222222222222,
              "#7201a8"
             ],
             [
              0.3333333333333333,
              "#9c179e"
             ],
             [
              0.4444444444444444,
              "#bd3786"
             ],
             [
              0.5555555555555556,
              "#d8576b"
             ],
             [
              0.6666666666666666,
              "#ed7953"
             ],
             [
              0.7777777777777778,
              "#fb9f3a"
             ],
             [
              0.8888888888888888,
              "#fdca26"
             ],
             [
              1,
              "#f0f921"
             ]
            ],
            "type": "contour"
           }
          ],
          "contourcarpet": [
           {
            "colorbar": {
             "outlinewidth": 0,
             "ticks": ""
            },
            "type": "contourcarpet"
           }
          ],
          "heatmap": [
           {
            "colorbar": {
             "outlinewidth": 0,
             "ticks": ""
            },
            "colorscale": [
             [
              0,
              "#0d0887"
             ],
             [
              0.1111111111111111,
              "#46039f"
             ],
             [
              0.2222222222222222,
              "#7201a8"
             ],
             [
              0.3333333333333333,
              "#9c179e"
             ],
             [
              0.4444444444444444,
              "#bd3786"
             ],
             [
              0.5555555555555556,
              "#d8576b"
             ],
             [
              0.6666666666666666,
              "#ed7953"
             ],
             [
              0.7777777777777778,
              "#fb9f3a"
             ],
             [
              0.8888888888888888,
              "#fdca26"
             ],
             [
              1,
              "#f0f921"
             ]
            ],
            "type": "heatmap"
           }
          ],
          "heatmapgl": [
           {
            "colorbar": {
             "outlinewidth": 0,
             "ticks": ""
            },
            "colorscale": [
             [
              0,
              "#0d0887"
             ],
             [
              0.1111111111111111,
              "#46039f"
             ],
             [
              0.2222222222222222,
              "#7201a8"
             ],
             [
              0.3333333333333333,
              "#9c179e"
             ],
             [
              0.4444444444444444,
              "#bd3786"
             ],
             [
              0.5555555555555556,
              "#d8576b"
             ],
             [
              0.6666666666666666,
              "#ed7953"
             ],
             [
              0.7777777777777778,
              "#fb9f3a"
             ],
             [
              0.8888888888888888,
              "#fdca26"
             ],
             [
              1,
              "#f0f921"
             ]
            ],
            "type": "heatmapgl"
           }
          ],
          "histogram": [
           {
            "marker": {
             "pattern": {
              "fillmode": "overlay",
              "size": 10,
              "solidity": 0.2
             }
            },
            "type": "histogram"
           }
          ],
          "histogram2d": [
           {
            "colorbar": {
             "outlinewidth": 0,
             "ticks": ""
            },
            "colorscale": [
             [
              0,
              "#0d0887"
             ],
             [
              0.1111111111111111,
              "#46039f"
             ],
             [
              0.2222222222222222,
              "#7201a8"
             ],
             [
              0.3333333333333333,
              "#9c179e"
             ],
             [
              0.4444444444444444,
              "#bd3786"
             ],
             [
              0.5555555555555556,
              "#d8576b"
             ],
             [
              0.6666666666666666,
              "#ed7953"
             ],
             [
              0.7777777777777778,
              "#fb9f3a"
             ],
             [
              0.8888888888888888,
              "#fdca26"
             ],
             [
              1,
              "#f0f921"
             ]
            ],
            "type": "histogram2d"
           }
          ],
          "histogram2dcontour": [
           {
            "colorbar": {
             "outlinewidth": 0,
             "ticks": ""
            },
            "colorscale": [
             [
              0,
              "#0d0887"
             ],
             [
              0.1111111111111111,
              "#46039f"
             ],
             [
              0.2222222222222222,
              "#7201a8"
             ],
             [
              0.3333333333333333,
              "#9c179e"
             ],
             [
              0.4444444444444444,
              "#bd3786"
             ],
             [
              0.5555555555555556,
              "#d8576b"
             ],
             [
              0.6666666666666666,
              "#ed7953"
             ],
             [
              0.7777777777777778,
              "#fb9f3a"
             ],
             [
              0.8888888888888888,
              "#fdca26"
             ],
             [
              1,
              "#f0f921"
             ]
            ],
            "type": "histogram2dcontour"
           }
          ],
          "mesh3d": [
           {
            "colorbar": {
             "outlinewidth": 0,
             "ticks": ""
            },
            "type": "mesh3d"
           }
          ],
          "parcoords": [
           {
            "line": {
             "colorbar": {
              "outlinewidth": 0,
              "ticks": ""
             }
            },
            "type": "parcoords"
           }
          ],
          "pie": [
           {
            "automargin": true,
            "type": "pie"
           }
          ],
          "scatter": [
           {
            "marker": {
             "colorbar": {
              "outlinewidth": 0,
              "ticks": ""
             }
            },
            "type": "scatter"
           }
          ],
          "scatter3d": [
           {
            "line": {
             "colorbar": {
              "outlinewidth": 0,
              "ticks": ""
             }
            },
            "marker": {
             "colorbar": {
              "outlinewidth": 0,
              "ticks": ""
             }
            },
            "type": "scatter3d"
           }
          ],
          "scattercarpet": [
           {
            "marker": {
             "colorbar": {
              "outlinewidth": 0,
              "ticks": ""
             }
            },
            "type": "scattercarpet"
           }
          ],
          "scattergeo": [
           {
            "marker": {
             "colorbar": {
              "outlinewidth": 0,
              "ticks": ""
             }
            },
            "type": "scattergeo"
           }
          ],
          "scattergl": [
           {
            "marker": {
             "colorbar": {
              "outlinewidth": 0,
              "ticks": ""
             }
            },
            "type": "scattergl"
           }
          ],
          "scattermapbox": [
           {
            "marker": {
             "colorbar": {
              "outlinewidth": 0,
              "ticks": ""
             }
            },
            "type": "scattermapbox"
           }
          ],
          "scatterpolar": [
           {
            "marker": {
             "colorbar": {
              "outlinewidth": 0,
              "ticks": ""
             }
            },
            "type": "scatterpolar"
           }
          ],
          "scatterpolargl": [
           {
            "marker": {
             "colorbar": {
              "outlinewidth": 0,
              "ticks": ""
             }
            },
            "type": "scatterpolargl"
           }
          ],
          "scatterternary": [
           {
            "marker": {
             "colorbar": {
              "outlinewidth": 0,
              "ticks": ""
             }
            },
            "type": "scatterternary"
           }
          ],
          "surface": [
           {
            "colorbar": {
             "outlinewidth": 0,
             "ticks": ""
            },
            "colorscale": [
             [
              0,
              "#0d0887"
             ],
             [
              0.1111111111111111,
              "#46039f"
             ],
             [
              0.2222222222222222,
              "#7201a8"
             ],
             [
              0.3333333333333333,
              "#9c179e"
             ],
             [
              0.4444444444444444,
              "#bd3786"
             ],
             [
              0.5555555555555556,
              "#d8576b"
             ],
             [
              0.6666666666666666,
              "#ed7953"
             ],
             [
              0.7777777777777778,
              "#fb9f3a"
             ],
             [
              0.8888888888888888,
              "#fdca26"
             ],
             [
              1,
              "#f0f921"
             ]
            ],
            "type": "surface"
           }
          ],
          "table": [
           {
            "cells": {
             "fill": {
              "color": "#EBF0F8"
             },
             "line": {
              "color": "white"
             }
            },
            "header": {
             "fill": {
              "color": "#C8D4E3"
             },
             "line": {
              "color": "white"
             }
            },
            "type": "table"
           }
          ]
         },
         "layout": {
          "annotationdefaults": {
           "arrowcolor": "#2a3f5f",
           "arrowhead": 0,
           "arrowwidth": 1
          },
          "autotypenumbers": "strict",
          "coloraxis": {
           "colorbar": {
            "outlinewidth": 0,
            "ticks": ""
           }
          },
          "colorscale": {
           "diverging": [
            [
             0,
             "#8e0152"
            ],
            [
             0.1,
             "#c51b7d"
            ],
            [
             0.2,
             "#de77ae"
            ],
            [
             0.3,
             "#f1b6da"
            ],
            [
             0.4,
             "#fde0ef"
            ],
            [
             0.5,
             "#f7f7f7"
            ],
            [
             0.6,
             "#e6f5d0"
            ],
            [
             0.7,
             "#b8e186"
            ],
            [
             0.8,
             "#7fbc41"
            ],
            [
             0.9,
             "#4d9221"
            ],
            [
             1,
             "#276419"
            ]
           ],
           "sequential": [
            [
             0,
             "#0d0887"
            ],
            [
             0.1111111111111111,
             "#46039f"
            ],
            [
             0.2222222222222222,
             "#7201a8"
            ],
            [
             0.3333333333333333,
             "#9c179e"
            ],
            [
             0.4444444444444444,
             "#bd3786"
            ],
            [
             0.5555555555555556,
             "#d8576b"
            ],
            [
             0.6666666666666666,
             "#ed7953"
            ],
            [
             0.7777777777777778,
             "#fb9f3a"
            ],
            [
             0.8888888888888888,
             "#fdca26"
            ],
            [
             1,
             "#f0f921"
            ]
           ],
           "sequentialminus": [
            [
             0,
             "#0d0887"
            ],
            [
             0.1111111111111111,
             "#46039f"
            ],
            [
             0.2222222222222222,
             "#7201a8"
            ],
            [
             0.3333333333333333,
             "#9c179e"
            ],
            [
             0.4444444444444444,
             "#bd3786"
            ],
            [
             0.5555555555555556,
             "#d8576b"
            ],
            [
             0.6666666666666666,
             "#ed7953"
            ],
            [
             0.7777777777777778,
             "#fb9f3a"
            ],
            [
             0.8888888888888888,
             "#fdca26"
            ],
            [
             1,
             "#f0f921"
            ]
           ]
          },
          "colorway": [
           "#636efa",
           "#EF553B",
           "#00cc96",
           "#ab63fa",
           "#FFA15A",
           "#19d3f3",
           "#FF6692",
           "#B6E880",
           "#FF97FF",
           "#FECB52"
          ],
          "font": {
           "color": "#2a3f5f"
          },
          "geo": {
           "bgcolor": "white",
           "lakecolor": "white",
           "landcolor": "#E5ECF6",
           "showlakes": true,
           "showland": true,
           "subunitcolor": "white"
          },
          "hoverlabel": {
           "align": "left"
          },
          "hovermode": "closest",
          "mapbox": {
           "style": "light"
          },
          "paper_bgcolor": "white",
          "plot_bgcolor": "#E5ECF6",
          "polar": {
           "angularaxis": {
            "gridcolor": "white",
            "linecolor": "white",
            "ticks": ""
           },
           "bgcolor": "#E5ECF6",
           "radialaxis": {
            "gridcolor": "white",
            "linecolor": "white",
            "ticks": ""
           }
          },
          "scene": {
           "xaxis": {
            "backgroundcolor": "#E5ECF6",
            "gridcolor": "white",
            "gridwidth": 2,
            "linecolor": "white",
            "showbackground": true,
            "ticks": "",
            "zerolinecolor": "white"
           },
           "yaxis": {
            "backgroundcolor": "#E5ECF6",
            "gridcolor": "white",
            "gridwidth": 2,
            "linecolor": "white",
            "showbackground": true,
            "ticks": "",
            "zerolinecolor": "white"
           },
           "zaxis": {
            "backgroundcolor": "#E5ECF6",
            "gridcolor": "white",
            "gridwidth": 2,
            "linecolor": "white",
            "showbackground": true,
            "ticks": "",
            "zerolinecolor": "white"
           }
          },
          "shapedefaults": {
           "line": {
            "color": "#2a3f5f"
           }
          },
          "ternary": {
           "aaxis": {
            "gridcolor": "white",
            "linecolor": "white",
            "ticks": ""
           },
           "baxis": {
            "gridcolor": "white",
            "linecolor": "white",
            "ticks": ""
           },
           "bgcolor": "#E5ECF6",
           "caxis": {
            "gridcolor": "white",
            "linecolor": "white",
            "ticks": ""
           }
          },
          "title": {
           "x": 0.05
          },
          "xaxis": {
           "automargin": true,
           "gridcolor": "white",
           "linecolor": "white",
           "ticks": "",
           "title": {
            "standoff": 15
           },
           "zerolinecolor": "white",
           "zerolinewidth": 2
          },
          "yaxis": {
           "automargin": true,
           "gridcolor": "white",
           "linecolor": "white",
           "ticks": "",
           "title": {
            "standoff": 15
           },
           "zerolinecolor": "white",
           "zerolinewidth": 2
          }
         }
        },
        "title": {
         "text": "lin correction"
        },
        "xaxis": {
         "anchor": "y",
         "domain": [
          0,
          1
         ],
         "title": {
          "text": "Method"
         }
        },
        "yaxis": {
         "anchor": "x",
         "domain": [
          0,
          1
         ],
         "title": {
          "text": "Relative MSE"
         }
        }
       }
      },
      "text/html": [
       "<div>                            <div id=\"cdfcb2e7-c8e7-4f17-a091-6cea49738299\" class=\"plotly-graph-div\" style=\"height:525px; width:100%;\"></div>            <script type=\"text/javascript\">                require([\"plotly\"], function(Plotly) {                    window.PLOTLYENV=window.PLOTLYENV || {};                                    if (document.getElementById(\"cdfcb2e7-c8e7-4f17-a091-6cea49738299\")) {                    Plotly.newPlot(                        \"cdfcb2e7-c8e7-4f17-a091-6cea49738299\",                        [{\"alignmentgroup\":\"True\",\"boxpoints\":false,\"hovertemplate\":\"Method=%{x}<br>Relative MSE=%{y}<extra></extra>\",\"legendgroup\":\"\",\"marker\":{\"color\":\"#636efa\"},\"name\":\"\",\"notched\":false,\"offsetgroup\":\"\",\"orientation\":\"v\",\"showlegend\":false,\"x\":[\"GenCp\",\"GenCp\",\"GenCp\",\"GenCp\",\"GenCp\",\"GenCp\",\"GenCp\",\"GenCp\",\"GenCp\",\"GenCp\",\"GenCp\",\"GenCp\",\"GenCp\",\"GenCp\",\"GenCp\",\"GenCp\",\"GenCp\",\"GenCp\",\"GenCp\",\"GenCp\",\"GenCp\",\"GenCp\",\"GenCp\",\"GenCp\",\"GenCp\",\"GenCp\",\"GenCp\",\"GenCp\",\"GenCp\",\"GenCp\",\"GenCp\",\"GenCp\",\"GenCp\",\"GenCp\",\"GenCp\",\"GenCp\",\"GenCp\",\"GenCp\",\"GenCp\",\"GenCp\",\"GenCp\",\"GenCp\",\"GenCp\",\"GenCp\",\"GenCp\",\"GenCp\",\"GenCp\",\"GenCp\",\"GenCp\",\"GenCp\",\"GenCp\",\"GenCp\",\"GenCp\",\"GenCp\",\"GenCp\",\"GenCp\",\"GenCp\",\"GenCp\",\"GenCp\",\"GenCp\",\"GenCp\",\"GenCp\",\"GenCp\",\"GenCp\",\"GenCp\",\"GenCp\",\"GenCp\",\"GenCp\",\"GenCp\",\"GenCp\",\"GenCp\",\"GenCp\",\"GenCp\",\"GenCp\",\"GenCp\",\"GenCp\",\"GenCp\",\"GenCp\",\"GenCp\",\"GenCp\",\"GenCp\",\"GenCp\",\"GenCp\",\"GenCp\",\"GenCp\",\"GenCp\",\"GenCp\",\"GenCp\",\"GenCp\",\"GenCp\",\"GenCp\",\"GenCp\",\"GenCp\",\"GenCp\",\"GenCp\",\"GenCp\",\"GenCp\",\"GenCp\",\"GenCp\",\"GenCp\",\"KFCV\",\"KFCV\",\"KFCV\",\"KFCV\",\"KFCV\",\"KFCV\",\"KFCV\",\"KFCV\",\"KFCV\",\"KFCV\",\"KFCV\",\"KFCV\",\"KFCV\",\"KFCV\",\"KFCV\",\"KFCV\",\"KFCV\",\"KFCV\",\"KFCV\",\"KFCV\",\"KFCV\",\"KFCV\",\"KFCV\",\"KFCV\",\"KFCV\",\"KFCV\",\"KFCV\",\"KFCV\",\"KFCV\",\"KFCV\",\"KFCV\",\"KFCV\",\"KFCV\",\"KFCV\",\"KFCV\",\"KFCV\",\"KFCV\",\"KFCV\",\"KFCV\",\"KFCV\",\"KFCV\",\"KFCV\",\"KFCV\",\"KFCV\",\"KFCV\",\"KFCV\",\"KFCV\",\"KFCV\",\"KFCV\",\"KFCV\",\"KFCV\",\"KFCV\",\"KFCV\",\"KFCV\",\"KFCV\",\"KFCV\",\"KFCV\",\"KFCV\",\"KFCV\",\"KFCV\",\"KFCV\",\"KFCV\",\"KFCV\",\"KFCV\",\"KFCV\",\"KFCV\",\"KFCV\",\"KFCV\",\"KFCV\",\"KFCV\",\"KFCV\",\"KFCV\",\"KFCV\",\"KFCV\",\"KFCV\",\"KFCV\",\"KFCV\",\"KFCV\",\"KFCV\",\"KFCV\",\"KFCV\",\"KFCV\",\"KFCV\",\"KFCV\",\"KFCV\",\"KFCV\",\"KFCV\",\"KFCV\",\"KFCV\",\"KFCV\",\"KFCV\",\"KFCV\",\"KFCV\",\"KFCV\",\"KFCV\",\"KFCV\",\"KFCV\",\"KFCV\",\"KFCV\",\"KFCV\",\"SPCV\",\"SPCV\",\"SPCV\",\"SPCV\",\"SPCV\",\"SPCV\",\"SPCV\",\"SPCV\",\"SPCV\",\"SPCV\",\"SPCV\",\"SPCV\",\"SPCV\",\"SPCV\",\"SPCV\",\"SPCV\",\"SPCV\",\"SPCV\",\"SPCV\",\"SPCV\",\"SPCV\",\"SPCV\",\"SPCV\",\"SPCV\",\"SPCV\",\"SPCV\",\"SPCV\",\"SPCV\",\"SPCV\",\"SPCV\",\"SPCV\",\"SPCV\",\"SPCV\",\"SPCV\",\"SPCV\",\"SPCV\",\"SPCV\",\"SPCV\",\"SPCV\",\"SPCV\",\"SPCV\",\"SPCV\",\"SPCV\",\"SPCV\",\"SPCV\",\"SPCV\",\"SPCV\",\"SPCV\",\"SPCV\",\"SPCV\",\"SPCV\",\"SPCV\",\"SPCV\",\"SPCV\",\"SPCV\",\"SPCV\",\"SPCV\",\"SPCV\",\"SPCV\",\"SPCV\",\"SPCV\",\"SPCV\",\"SPCV\",\"SPCV\",\"SPCV\",\"SPCV\",\"SPCV\",\"SPCV\",\"SPCV\",\"SPCV\",\"SPCV\",\"SPCV\",\"SPCV\",\"SPCV\",\"SPCV\",\"SPCV\",\"SPCV\",\"SPCV\",\"SPCV\",\"SPCV\",\"SPCV\",\"SPCV\",\"SPCV\",\"SPCV\",\"SPCV\",\"SPCV\",\"SPCV\",\"SPCV\",\"SPCV\",\"SPCV\",\"SPCV\",\"SPCV\",\"SPCV\",\"SPCV\",\"SPCV\",\"SPCV\",\"SPCV\",\"SPCV\",\"SPCV\",\"SPCV\"],\"x0\":\" \",\"xaxis\":\"x\",\"y\":[-0.1743779062554838,-0.16839908340722623,-0.07682910336047928,-0.13159481174515092,-0.20394759870836557,0.14166164019929822,0.06608318075161092,-0.23942192035757676,0.18519352332538905,-0.12664587668509056,-0.04278739611687277,0.014300672761466645,0.19630320757177672,0.04178516010483817,0.022011390921247532,-0.026398664078757093,-0.04543711703723971,-0.030584565933678906,-0.22014109651329902,-0.008265869555625499,-0.14710579905698043,-0.1432528767830955,-0.17380471232176542,0.1298010970550663,-0.15978504630869123,-0.05108483953344666,0.007494060945752346,-0.08367281570072377,-0.10597489066789582,-0.19933693424330456,0.018385526016594655,-0.07247925970188236,0.009768202647696376,-0.17234007480225666,0.11318639498310534,0.11392718925812224,-0.082965035959741,-0.16734071661505653,0.17490339718131143,-0.11587711194065786,-0.05343951566303377,0.10844932701268158,-0.0299455656620765,0.16456216561401615,-0.06420003001562195,-0.04835877286291212,-0.15547650164871363,-0.11123279782618453,-0.16960895494544864,0.053591170999724755,-0.19686350756560606,-0.1007985935776613,0.07410768177150903,0.1404417076610076,0.07742079082008399,-0.0894084563948321,-0.10770350718656557,-0.15198743209184495,-0.03406619836185746,-0.16509392995470248,-0.09759514754286457,0.08846651565390219,-0.21484797595001495,-0.14927432163495521,-0.09143256483505044,-0.2041571830357515,-0.14163570232000292,0.10186613272210979,-0.032328489544425715,-0.15004840422141058,-0.2175113590251542,-0.11235986366629414,-0.20672451509547934,-0.045617508639025986,-0.20885422962629901,-0.015710049509256075,0.22531132631253403,0.06298168947584701,-0.16070043540946946,-0.2214455594547498,0.2628760825237822,0.058946491087606016,0.1685838066578013,0.013448101088724223,-0.22030297936113752,0.06224305168920857,0.019502610604797126,-0.09742671866174667,-0.14428183571243355,-0.031406746552114534,-0.04064253899075586,-0.1435162344012354,-0.21152993972240827,-0.19402883309349098,-0.2129904706274088,-0.0019892226443577053,-0.03321510583147921,-0.2249677498260782,-0.31021646674894143,-0.02674977114875467,-0.26201711361183166,-0.2605567150549294,-0.17508216665588203,-0.3010524855192735,-0.31010953673161773,-0.05761727143705181,-0.09714369711437881,-0.31545185287732913,-0.002840113475664072,-0.24036923898640128,-0.14086984267632355,-0.14276256107010799,0.11325369203449952,-0.13473129994128444,-0.2730334130838563,-0.1971720588779834,-0.284236778754545,-0.21381525047070546,-0.2980094481697687,-0.1434757212694035,-0.2553343379360522,-0.29340791919010006,-0.3268570693077766,-0.01945628982789893,-0.3647498711475507,-0.16778669754246073,-0.18079150954299672,-0.0840029259097763,-0.23634098633659445,-0.34874997910558464,-0.13408786972064127,-0.20954441678367655,-0.1448661895058745,-0.31901066474304346,0.021615231783665808,-0.10017376716851255,-0.2868869240977973,-0.29942817267128274,0.14521146005750013,-0.1819108830138848,-0.24412747041979826,-0.08577897487334428,-0.1912199060393965,0.014948735655947178,-0.10190943407873448,-0.20695708086010853,-0.25808350394170304,-0.14327384663317397,-0.30195520402142584,-0.1306744530338526,-0.293729629880459,-0.17228070670423876,0.03186511840388955,-0.013545056292415668,-0.049037250257261744,-0.1497817438857652,-0.27751334136223366,-0.25788683070796725,-0.257254553470362,-0.24128470014717948,-0.2064815632407613,-0.06618434158671514,-0.36499117730134256,-0.29590485696680435,-0.27997588308570837,-0.29401802515348674,-0.311597927229023,-0.22250723524559593,-0.08350963445541926,-0.27224418004516615,-0.37751742743483674,-0.23754271889050813,-0.2525724833939689,-0.14307465118618878,-0.3722809870012392,-0.15915509785639387,0.05014845194868085,-0.21486492595711648,-0.25033008003147467,-0.32418083160588756,0.19564427632455206,0.017227719948434583,-0.05980376423360273,-0.09748465168302148,-0.2566385660753088,-0.14654594116252162,-0.19115823430923526,-0.3044215393279475,-0.21276892747746012,-0.19843696666479144,-0.07999166533838109,-0.23696107132260158,-0.2712664850516006,-0.2566577803825366,-0.31819854830226724,-0.17391293243231773,-0.1492051607907701,-0.2863306615499989,-0.38326340661718505,-0.19851486958132794,-0.08775699901355954,0.3374588465598233,0.16335521830443703,0.19122169797408978,-0.15303885379172041,0.04922764593293763,0.22767706830899664,-0.19302410938049966,0.14749687116738505,-0.18898201394492814,0.06686185092472416,0.38248360797242464,0.9218748082663261,-0.03714673631257883,0.035707082237504496,-0.03492930739467264,0.032548828176740756,-0.1937646575928723,0.06222649460573807,0.33708097888042127,-0.17493732497119668,0.3943578269188425,-0.1828978931303914,0.23973427044914847,-0.2872479469289161,0.062406262630614766,0.4329543478284445,-0.0010114822458003859,-0.1507191024167083,-0.16439333252456634,-0.11598277023600069,-0.12593228016129612,-0.004352903350633812,-0.2777739927326856,0.09128443731458205,0.02912537373048726,-0.15038272792415888,-0.28066105974988337,0.3507629715553405,0.21343276389127194,0.029338763248360367,-0.08095589716699159,0.020979403305025117,0.11301346038430675,0.5771861763799745,-0.16531710470518968,-0.23464360361250122,-0.01862308731717193,0.17574100814131124,0.3866151651333558,-0.22824408048078454,-0.112815317322576,0.8621687040294683,0.30520045556521214,0.1454981763782372,0.021152645117888908,-0.24635558484039563,-0.19668401515249803,0.14312527430848634,-0.10290640425173483,-0.16787475824439116,0.26955692602789244,-0.2654700702831527,-0.19163875462626198,-0.22637662408852025,-0.2716951829444466,-0.01517652415282292,0.21505494062177152,0.4926369313399481,-0.051649020754117064,0.06950913597177528,-0.08881251369963399,-0.1919398435087316,-0.11753847240174611,-0.3450581351462083,0.1867831767494369,0.577965668833534,0.23578676905090173,-0.21314913147477393,-0.3145774272721365,1.6263755077920874,0.6003155303893354,0.20101033713628008,0.1821965517210947,-0.15582776117351113,0.08527066023270034,0.033341649704070046,0.09621077133033025,-0.21946281319136118,0.08117951307254763,-0.06246910413554166,-0.03082818245865145,-0.2657966506590945,-0.17045701355300402,-0.04707531819065088,0.004077178808015397,0.26627441362477494,-0.3037103506430947,-0.3912787566154095,-0.04265331469046759],\"y0\":\" \",\"yaxis\":\"y\",\"type\":\"box\",\"boxmean\":true}],                        {\"template\":{\"data\":{\"bar\":[{\"error_x\":{\"color\":\"#2a3f5f\"},\"error_y\":{\"color\":\"#2a3f5f\"},\"marker\":{\"line\":{\"color\":\"#E5ECF6\",\"width\":0.5},\"pattern\":{\"fillmode\":\"overlay\",\"size\":10,\"solidity\":0.2}},\"type\":\"bar\"}],\"barpolar\":[{\"marker\":{\"line\":{\"color\":\"#E5ECF6\",\"width\":0.5},\"pattern\":{\"fillmode\":\"overlay\",\"size\":10,\"solidity\":0.2}},\"type\":\"barpolar\"}],\"carpet\":[{\"aaxis\":{\"endlinecolor\":\"#2a3f5f\",\"gridcolor\":\"white\",\"linecolor\":\"white\",\"minorgridcolor\":\"white\",\"startlinecolor\":\"#2a3f5f\"},\"baxis\":{\"endlinecolor\":\"#2a3f5f\",\"gridcolor\":\"white\",\"linecolor\":\"white\",\"minorgridcolor\":\"white\",\"startlinecolor\":\"#2a3f5f\"},\"type\":\"carpet\"}],\"choropleth\":[{\"colorbar\":{\"outlinewidth\":0,\"ticks\":\"\"},\"type\":\"choropleth\"}],\"contour\":[{\"colorbar\":{\"outlinewidth\":0,\"ticks\":\"\"},\"colorscale\":[[0.0,\"#0d0887\"],[0.1111111111111111,\"#46039f\"],[0.2222222222222222,\"#7201a8\"],[0.3333333333333333,\"#9c179e\"],[0.4444444444444444,\"#bd3786\"],[0.5555555555555556,\"#d8576b\"],[0.6666666666666666,\"#ed7953\"],[0.7777777777777778,\"#fb9f3a\"],[0.8888888888888888,\"#fdca26\"],[1.0,\"#f0f921\"]],\"type\":\"contour\"}],\"contourcarpet\":[{\"colorbar\":{\"outlinewidth\":0,\"ticks\":\"\"},\"type\":\"contourcarpet\"}],\"heatmap\":[{\"colorbar\":{\"outlinewidth\":0,\"ticks\":\"\"},\"colorscale\":[[0.0,\"#0d0887\"],[0.1111111111111111,\"#46039f\"],[0.2222222222222222,\"#7201a8\"],[0.3333333333333333,\"#9c179e\"],[0.4444444444444444,\"#bd3786\"],[0.5555555555555556,\"#d8576b\"],[0.6666666666666666,\"#ed7953\"],[0.7777777777777778,\"#fb9f3a\"],[0.8888888888888888,\"#fdca26\"],[1.0,\"#f0f921\"]],\"type\":\"heatmap\"}],\"heatmapgl\":[{\"colorbar\":{\"outlinewidth\":0,\"ticks\":\"\"},\"colorscale\":[[0.0,\"#0d0887\"],[0.1111111111111111,\"#46039f\"],[0.2222222222222222,\"#7201a8\"],[0.3333333333333333,\"#9c179e\"],[0.4444444444444444,\"#bd3786\"],[0.5555555555555556,\"#d8576b\"],[0.6666666666666666,\"#ed7953\"],[0.7777777777777778,\"#fb9f3a\"],[0.8888888888888888,\"#fdca26\"],[1.0,\"#f0f921\"]],\"type\":\"heatmapgl\"}],\"histogram\":[{\"marker\":{\"pattern\":{\"fillmode\":\"overlay\",\"size\":10,\"solidity\":0.2}},\"type\":\"histogram\"}],\"histogram2d\":[{\"colorbar\":{\"outlinewidth\":0,\"ticks\":\"\"},\"colorscale\":[[0.0,\"#0d0887\"],[0.1111111111111111,\"#46039f\"],[0.2222222222222222,\"#7201a8\"],[0.3333333333333333,\"#9c179e\"],[0.4444444444444444,\"#bd3786\"],[0.5555555555555556,\"#d8576b\"],[0.6666666666666666,\"#ed7953\"],[0.7777777777777778,\"#fb9f3a\"],[0.8888888888888888,\"#fdca26\"],[1.0,\"#f0f921\"]],\"type\":\"histogram2d\"}],\"histogram2dcontour\":[{\"colorbar\":{\"outlinewidth\":0,\"ticks\":\"\"},\"colorscale\":[[0.0,\"#0d0887\"],[0.1111111111111111,\"#46039f\"],[0.2222222222222222,\"#7201a8\"],[0.3333333333333333,\"#9c179e\"],[0.4444444444444444,\"#bd3786\"],[0.5555555555555556,\"#d8576b\"],[0.6666666666666666,\"#ed7953\"],[0.7777777777777778,\"#fb9f3a\"],[0.8888888888888888,\"#fdca26\"],[1.0,\"#f0f921\"]],\"type\":\"histogram2dcontour\"}],\"mesh3d\":[{\"colorbar\":{\"outlinewidth\":0,\"ticks\":\"\"},\"type\":\"mesh3d\"}],\"parcoords\":[{\"line\":{\"colorbar\":{\"outlinewidth\":0,\"ticks\":\"\"}},\"type\":\"parcoords\"}],\"pie\":[{\"automargin\":true,\"type\":\"pie\"}],\"scatter\":[{\"marker\":{\"colorbar\":{\"outlinewidth\":0,\"ticks\":\"\"}},\"type\":\"scatter\"}],\"scatter3d\":[{\"line\":{\"colorbar\":{\"outlinewidth\":0,\"ticks\":\"\"}},\"marker\":{\"colorbar\":{\"outlinewidth\":0,\"ticks\":\"\"}},\"type\":\"scatter3d\"}],\"scattercarpet\":[{\"marker\":{\"colorbar\":{\"outlinewidth\":0,\"ticks\":\"\"}},\"type\":\"scattercarpet\"}],\"scattergeo\":[{\"marker\":{\"colorbar\":{\"outlinewidth\":0,\"ticks\":\"\"}},\"type\":\"scattergeo\"}],\"scattergl\":[{\"marker\":{\"colorbar\":{\"outlinewidth\":0,\"ticks\":\"\"}},\"type\":\"scattergl\"}],\"scattermapbox\":[{\"marker\":{\"colorbar\":{\"outlinewidth\":0,\"ticks\":\"\"}},\"type\":\"scattermapbox\"}],\"scatterpolar\":[{\"marker\":{\"colorbar\":{\"outlinewidth\":0,\"ticks\":\"\"}},\"type\":\"scatterpolar\"}],\"scatterpolargl\":[{\"marker\":{\"colorbar\":{\"outlinewidth\":0,\"ticks\":\"\"}},\"type\":\"scatterpolargl\"}],\"scatterternary\":[{\"marker\":{\"colorbar\":{\"outlinewidth\":0,\"ticks\":\"\"}},\"type\":\"scatterternary\"}],\"surface\":[{\"colorbar\":{\"outlinewidth\":0,\"ticks\":\"\"},\"colorscale\":[[0.0,\"#0d0887\"],[0.1111111111111111,\"#46039f\"],[0.2222222222222222,\"#7201a8\"],[0.3333333333333333,\"#9c179e\"],[0.4444444444444444,\"#bd3786\"],[0.5555555555555556,\"#d8576b\"],[0.6666666666666666,\"#ed7953\"],[0.7777777777777778,\"#fb9f3a\"],[0.8888888888888888,\"#fdca26\"],[1.0,\"#f0f921\"]],\"type\":\"surface\"}],\"table\":[{\"cells\":{\"fill\":{\"color\":\"#EBF0F8\"},\"line\":{\"color\":\"white\"}},\"header\":{\"fill\":{\"color\":\"#C8D4E3\"},\"line\":{\"color\":\"white\"}},\"type\":\"table\"}]},\"layout\":{\"annotationdefaults\":{\"arrowcolor\":\"#2a3f5f\",\"arrowhead\":0,\"arrowwidth\":1},\"autotypenumbers\":\"strict\",\"coloraxis\":{\"colorbar\":{\"outlinewidth\":0,\"ticks\":\"\"}},\"colorscale\":{\"diverging\":[[0,\"#8e0152\"],[0.1,\"#c51b7d\"],[0.2,\"#de77ae\"],[0.3,\"#f1b6da\"],[0.4,\"#fde0ef\"],[0.5,\"#f7f7f7\"],[0.6,\"#e6f5d0\"],[0.7,\"#b8e186\"],[0.8,\"#7fbc41\"],[0.9,\"#4d9221\"],[1,\"#276419\"]],\"sequential\":[[0.0,\"#0d0887\"],[0.1111111111111111,\"#46039f\"],[0.2222222222222222,\"#7201a8\"],[0.3333333333333333,\"#9c179e\"],[0.4444444444444444,\"#bd3786\"],[0.5555555555555556,\"#d8576b\"],[0.6666666666666666,\"#ed7953\"],[0.7777777777777778,\"#fb9f3a\"],[0.8888888888888888,\"#fdca26\"],[1.0,\"#f0f921\"]],\"sequentialminus\":[[0.0,\"#0d0887\"],[0.1111111111111111,\"#46039f\"],[0.2222222222222222,\"#7201a8\"],[0.3333333333333333,\"#9c179e\"],[0.4444444444444444,\"#bd3786\"],[0.5555555555555556,\"#d8576b\"],[0.6666666666666666,\"#ed7953\"],[0.7777777777777778,\"#fb9f3a\"],[0.8888888888888888,\"#fdca26\"],[1.0,\"#f0f921\"]]},\"colorway\":[\"#636efa\",\"#EF553B\",\"#00cc96\",\"#ab63fa\",\"#FFA15A\",\"#19d3f3\",\"#FF6692\",\"#B6E880\",\"#FF97FF\",\"#FECB52\"],\"font\":{\"color\":\"#2a3f5f\"},\"geo\":{\"bgcolor\":\"white\",\"lakecolor\":\"white\",\"landcolor\":\"#E5ECF6\",\"showlakes\":true,\"showland\":true,\"subunitcolor\":\"white\"},\"hoverlabel\":{\"align\":\"left\"},\"hovermode\":\"closest\",\"mapbox\":{\"style\":\"light\"},\"paper_bgcolor\":\"white\",\"plot_bgcolor\":\"#E5ECF6\",\"polar\":{\"angularaxis\":{\"gridcolor\":\"white\",\"linecolor\":\"white\",\"ticks\":\"\"},\"bgcolor\":\"#E5ECF6\",\"radialaxis\":{\"gridcolor\":\"white\",\"linecolor\":\"white\",\"ticks\":\"\"}},\"scene\":{\"xaxis\":{\"backgroundcolor\":\"#E5ECF6\",\"gridcolor\":\"white\",\"gridwidth\":2,\"linecolor\":\"white\",\"showbackground\":true,\"ticks\":\"\",\"zerolinecolor\":\"white\"},\"yaxis\":{\"backgroundcolor\":\"#E5ECF6\",\"gridcolor\":\"white\",\"gridwidth\":2,\"linecolor\":\"white\",\"showbackground\":true,\"ticks\":\"\",\"zerolinecolor\":\"white\"},\"zaxis\":{\"backgroundcolor\":\"#E5ECF6\",\"gridcolor\":\"white\",\"gridwidth\":2,\"linecolor\":\"white\",\"showbackground\":true,\"ticks\":\"\",\"zerolinecolor\":\"white\"}},\"shapedefaults\":{\"line\":{\"color\":\"#2a3f5f\"}},\"ternary\":{\"aaxis\":{\"gridcolor\":\"white\",\"linecolor\":\"white\",\"ticks\":\"\"},\"baxis\":{\"gridcolor\":\"white\",\"linecolor\":\"white\",\"ticks\":\"\"},\"bgcolor\":\"#E5ECF6\",\"caxis\":{\"gridcolor\":\"white\",\"linecolor\":\"white\",\"ticks\":\"\"}},\"title\":{\"x\":0.05},\"xaxis\":{\"automargin\":true,\"gridcolor\":\"white\",\"linecolor\":\"white\",\"ticks\":\"\",\"title\":{\"standoff\":15},\"zerolinecolor\":\"white\",\"zerolinewidth\":2},\"yaxis\":{\"automargin\":true,\"gridcolor\":\"white\",\"linecolor\":\"white\",\"ticks\":\"\",\"title\":{\"standoff\":15},\"zerolinecolor\":\"white\",\"zerolinewidth\":2}}},\"xaxis\":{\"anchor\":\"y\",\"domain\":[0.0,1.0],\"title\":{\"text\":\"Method\"}},\"yaxis\":{\"anchor\":\"x\",\"domain\":[0.0,1.0],\"title\":{\"text\":\"Relative MSE\"}},\"legend\":{\"tracegroupgap\":0},\"title\":{\"text\":\"lin correction\"},\"boxmode\":\"group\",\"shapes\":[{\"line\":{\"color\":\"red\"},\"type\":\"line\",\"x0\":0,\"x1\":1,\"xref\":\"x domain\",\"y0\":0.0,\"y1\":0.0,\"yref\":\"y\"}]},                        {\"responsive\": true}                    ).then(function(){\n",
       "                            \n",
       "var gd = document.getElementById('cdfcb2e7-c8e7-4f17-a091-6cea49738299');\n",
       "var x = new MutationObserver(function (mutations, observer) {{\n",
       "        var display = window.getComputedStyle(gd).display;\n",
       "        if (!display || display === 'none') {{\n",
       "            console.log([gd, 'removed!']);\n",
       "            Plotly.purge(gd);\n",
       "            observer.disconnect();\n",
       "        }}\n",
       "}});\n",
       "\n",
       "// Listen for the removal of the full notebook cells\n",
       "var notebookContainer = gd.closest('#notebook-container');\n",
       "if (notebookContainer) {{\n",
       "    x.observe(notebookContainer, {childList: true});\n",
       "}}\n",
       "\n",
       "// Listen for the clearing of the current output cell\n",
       "var outputEl = gd.closest('.output');\n",
       "if (outputEl) {{\n",
       "    x.observe(outputEl, {childList: true});\n",
       "}}\n",
       "\n",
       "                        })                };                });            </script>        </div>"
      ]
     },
     "metadata": {},
     "output_type": "display_data"
    }
   ],
   "source": [
    "fig_rela = px.box((df - risk) / risk, \n",
    "             labels={\n",
    "                     \"variable\": \"Method\",\n",
    "                     \"value\": \"Relative MSE\"\n",
    "                     },\n",
    "             title=\"lin correction\",\n",
    "             points=False)\n",
    "fig_rela.update_traces(boxmean=True)\n",
    "\n",
    "fig_rela.add_hline(y=0., line_color='red')"
   ]
  },
  {
   "cell_type": "code",
   "execution_count": 74,
   "metadata": {},
   "outputs": [
    {
     "data": {
      "application/vnd.plotly.v1+json": {
       "config": {
        "plotlyServerURL": "https://plot.ly"
       },
       "data": [
        {
         "error_y": {
          "array": [
           1.018664797163645,
           0.8654295576138764,
           1.1833432079781803
          ],
          "arrayminus": [
           0.8399861064161143,
           0.7189588929970825,
           0.8314796779284557
          ],
          "color": "black",
          "symmetric": false,
          "type": "data"
         },
         "marker": {
          "color": [
           "#636EFA",
           "#EF553B",
           "#00CC96",
           "#AB63FA",
           "#FFA15A",
           "#19D3F3",
           "#FF6692",
           "#B6E880",
           "#FF97FF",
           "#FECB52"
          ]
         },
         "name": "Control",
         "text": [
          0.941,
          0.809,
          1.044
         ],
         "textposition": "outside",
         "type": "bar",
         "x": [
          "GenCp",
          "KFCV",
          "SPCV"
         ],
         "y": [
          0.941060604854387,
          0.8085939276024743,
          1.0443084783546774
         ]
        }
       ],
       "layout": {
        "shapes": [
         {
          "line": {
           "color": "red"
          },
          "type": "line",
          "x0": 0,
          "x1": 1,
          "xref": "x domain",
          "y0": 1,
          "y1": 1,
          "yref": "y"
         }
        ],
        "template": {
         "data": {
          "bar": [
           {
            "error_x": {
             "color": "#2a3f5f"
            },
            "error_y": {
             "color": "#2a3f5f"
            },
            "marker": {
             "line": {
              "color": "#E5ECF6",
              "width": 0.5
             },
             "pattern": {
              "fillmode": "overlay",
              "size": 10,
              "solidity": 0.2
             }
            },
            "type": "bar"
           }
          ],
          "barpolar": [
           {
            "marker": {
             "line": {
              "color": "#E5ECF6",
              "width": 0.5
             },
             "pattern": {
              "fillmode": "overlay",
              "size": 10,
              "solidity": 0.2
             }
            },
            "type": "barpolar"
           }
          ],
          "carpet": [
           {
            "aaxis": {
             "endlinecolor": "#2a3f5f",
             "gridcolor": "white",
             "linecolor": "white",
             "minorgridcolor": "white",
             "startlinecolor": "#2a3f5f"
            },
            "baxis": {
             "endlinecolor": "#2a3f5f",
             "gridcolor": "white",
             "linecolor": "white",
             "minorgridcolor": "white",
             "startlinecolor": "#2a3f5f"
            },
            "type": "carpet"
           }
          ],
          "choropleth": [
           {
            "colorbar": {
             "outlinewidth": 0,
             "ticks": ""
            },
            "type": "choropleth"
           }
          ],
          "contour": [
           {
            "colorbar": {
             "outlinewidth": 0,
             "ticks": ""
            },
            "colorscale": [
             [
              0,
              "#0d0887"
             ],
             [
              0.1111111111111111,
              "#46039f"
             ],
             [
              0.2222222222222222,
              "#7201a8"
             ],
             [
              0.3333333333333333,
              "#9c179e"
             ],
             [
              0.4444444444444444,
              "#bd3786"
             ],
             [
              0.5555555555555556,
              "#d8576b"
             ],
             [
              0.6666666666666666,
              "#ed7953"
             ],
             [
              0.7777777777777778,
              "#fb9f3a"
             ],
             [
              0.8888888888888888,
              "#fdca26"
             ],
             [
              1,
              "#f0f921"
             ]
            ],
            "type": "contour"
           }
          ],
          "contourcarpet": [
           {
            "colorbar": {
             "outlinewidth": 0,
             "ticks": ""
            },
            "type": "contourcarpet"
           }
          ],
          "heatmap": [
           {
            "colorbar": {
             "outlinewidth": 0,
             "ticks": ""
            },
            "colorscale": [
             [
              0,
              "#0d0887"
             ],
             [
              0.1111111111111111,
              "#46039f"
             ],
             [
              0.2222222222222222,
              "#7201a8"
             ],
             [
              0.3333333333333333,
              "#9c179e"
             ],
             [
              0.4444444444444444,
              "#bd3786"
             ],
             [
              0.5555555555555556,
              "#d8576b"
             ],
             [
              0.6666666666666666,
              "#ed7953"
             ],
             [
              0.7777777777777778,
              "#fb9f3a"
             ],
             [
              0.8888888888888888,
              "#fdca26"
             ],
             [
              1,
              "#f0f921"
             ]
            ],
            "type": "heatmap"
           }
          ],
          "heatmapgl": [
           {
            "colorbar": {
             "outlinewidth": 0,
             "ticks": ""
            },
            "colorscale": [
             [
              0,
              "#0d0887"
             ],
             [
              0.1111111111111111,
              "#46039f"
             ],
             [
              0.2222222222222222,
              "#7201a8"
             ],
             [
              0.3333333333333333,
              "#9c179e"
             ],
             [
              0.4444444444444444,
              "#bd3786"
             ],
             [
              0.5555555555555556,
              "#d8576b"
             ],
             [
              0.6666666666666666,
              "#ed7953"
             ],
             [
              0.7777777777777778,
              "#fb9f3a"
             ],
             [
              0.8888888888888888,
              "#fdca26"
             ],
             [
              1,
              "#f0f921"
             ]
            ],
            "type": "heatmapgl"
           }
          ],
          "histogram": [
           {
            "marker": {
             "pattern": {
              "fillmode": "overlay",
              "size": 10,
              "solidity": 0.2
             }
            },
            "type": "histogram"
           }
          ],
          "histogram2d": [
           {
            "colorbar": {
             "outlinewidth": 0,
             "ticks": ""
            },
            "colorscale": [
             [
              0,
              "#0d0887"
             ],
             [
              0.1111111111111111,
              "#46039f"
             ],
             [
              0.2222222222222222,
              "#7201a8"
             ],
             [
              0.3333333333333333,
              "#9c179e"
             ],
             [
              0.4444444444444444,
              "#bd3786"
             ],
             [
              0.5555555555555556,
              "#d8576b"
             ],
             [
              0.6666666666666666,
              "#ed7953"
             ],
             [
              0.7777777777777778,
              "#fb9f3a"
             ],
             [
              0.8888888888888888,
              "#fdca26"
             ],
             [
              1,
              "#f0f921"
             ]
            ],
            "type": "histogram2d"
           }
          ],
          "histogram2dcontour": [
           {
            "colorbar": {
             "outlinewidth": 0,
             "ticks": ""
            },
            "colorscale": [
             [
              0,
              "#0d0887"
             ],
             [
              0.1111111111111111,
              "#46039f"
             ],
             [
              0.2222222222222222,
              "#7201a8"
             ],
             [
              0.3333333333333333,
              "#9c179e"
             ],
             [
              0.4444444444444444,
              "#bd3786"
             ],
             [
              0.5555555555555556,
              "#d8576b"
             ],
             [
              0.6666666666666666,
              "#ed7953"
             ],
             [
              0.7777777777777778,
              "#fb9f3a"
             ],
             [
              0.8888888888888888,
              "#fdca26"
             ],
             [
              1,
              "#f0f921"
             ]
            ],
            "type": "histogram2dcontour"
           }
          ],
          "mesh3d": [
           {
            "colorbar": {
             "outlinewidth": 0,
             "ticks": ""
            },
            "type": "mesh3d"
           }
          ],
          "parcoords": [
           {
            "line": {
             "colorbar": {
              "outlinewidth": 0,
              "ticks": ""
             }
            },
            "type": "parcoords"
           }
          ],
          "pie": [
           {
            "automargin": true,
            "type": "pie"
           }
          ],
          "scatter": [
           {
            "marker": {
             "colorbar": {
              "outlinewidth": 0,
              "ticks": ""
             }
            },
            "type": "scatter"
           }
          ],
          "scatter3d": [
           {
            "line": {
             "colorbar": {
              "outlinewidth": 0,
              "ticks": ""
             }
            },
            "marker": {
             "colorbar": {
              "outlinewidth": 0,
              "ticks": ""
             }
            },
            "type": "scatter3d"
           }
          ],
          "scattercarpet": [
           {
            "marker": {
             "colorbar": {
              "outlinewidth": 0,
              "ticks": ""
             }
            },
            "type": "scattercarpet"
           }
          ],
          "scattergeo": [
           {
            "marker": {
             "colorbar": {
              "outlinewidth": 0,
              "ticks": ""
             }
            },
            "type": "scattergeo"
           }
          ],
          "scattergl": [
           {
            "marker": {
             "colorbar": {
              "outlinewidth": 0,
              "ticks": ""
             }
            },
            "type": "scattergl"
           }
          ],
          "scattermapbox": [
           {
            "marker": {
             "colorbar": {
              "outlinewidth": 0,
              "ticks": ""
             }
            },
            "type": "scattermapbox"
           }
          ],
          "scatterpolar": [
           {
            "marker": {
             "colorbar": {
              "outlinewidth": 0,
              "ticks": ""
             }
            },
            "type": "scatterpolar"
           }
          ],
          "scatterpolargl": [
           {
            "marker": {
             "colorbar": {
              "outlinewidth": 0,
              "ticks": ""
             }
            },
            "type": "scatterpolargl"
           }
          ],
          "scatterternary": [
           {
            "marker": {
             "colorbar": {
              "outlinewidth": 0,
              "ticks": ""
             }
            },
            "type": "scatterternary"
           }
          ],
          "surface": [
           {
            "colorbar": {
             "outlinewidth": 0,
             "ticks": ""
            },
            "colorscale": [
             [
              0,
              "#0d0887"
             ],
             [
              0.1111111111111111,
              "#46039f"
             ],
             [
              0.2222222222222222,
              "#7201a8"
             ],
             [
              0.3333333333333333,
              "#9c179e"
             ],
             [
              0.4444444444444444,
              "#bd3786"
             ],
             [
              0.5555555555555556,
              "#d8576b"
             ],
             [
              0.6666666666666666,
              "#ed7953"
             ],
             [
              0.7777777777777778,
              "#fb9f3a"
             ],
             [
              0.8888888888888888,
              "#fdca26"
             ],
             [
              1,
              "#f0f921"
             ]
            ],
            "type": "surface"
           }
          ],
          "table": [
           {
            "cells": {
             "fill": {
              "color": "#EBF0F8"
             },
             "line": {
              "color": "white"
             }
            },
            "header": {
             "fill": {
              "color": "#C8D4E3"
             },
             "line": {
              "color": "white"
             }
            },
            "type": "table"
           }
          ]
         },
         "layout": {
          "annotationdefaults": {
           "arrowcolor": "#2a3f5f",
           "arrowhead": 0,
           "arrowwidth": 1
          },
          "autotypenumbers": "strict",
          "coloraxis": {
           "colorbar": {
            "outlinewidth": 0,
            "ticks": ""
           }
          },
          "colorscale": {
           "diverging": [
            [
             0,
             "#8e0152"
            ],
            [
             0.1,
             "#c51b7d"
            ],
            [
             0.2,
             "#de77ae"
            ],
            [
             0.3,
             "#f1b6da"
            ],
            [
             0.4,
             "#fde0ef"
            ],
            [
             0.5,
             "#f7f7f7"
            ],
            [
             0.6,
             "#e6f5d0"
            ],
            [
             0.7,
             "#b8e186"
            ],
            [
             0.8,
             "#7fbc41"
            ],
            [
             0.9,
             "#4d9221"
            ],
            [
             1,
             "#276419"
            ]
           ],
           "sequential": [
            [
             0,
             "#0d0887"
            ],
            [
             0.1111111111111111,
             "#46039f"
            ],
            [
             0.2222222222222222,
             "#7201a8"
            ],
            [
             0.3333333333333333,
             "#9c179e"
            ],
            [
             0.4444444444444444,
             "#bd3786"
            ],
            [
             0.5555555555555556,
             "#d8576b"
            ],
            [
             0.6666666666666666,
             "#ed7953"
            ],
            [
             0.7777777777777778,
             "#fb9f3a"
            ],
            [
             0.8888888888888888,
             "#fdca26"
            ],
            [
             1,
             "#f0f921"
            ]
           ],
           "sequentialminus": [
            [
             0,
             "#0d0887"
            ],
            [
             0.1111111111111111,
             "#46039f"
            ],
            [
             0.2222222222222222,
             "#7201a8"
            ],
            [
             0.3333333333333333,
             "#9c179e"
            ],
            [
             0.4444444444444444,
             "#bd3786"
            ],
            [
             0.5555555555555556,
             "#d8576b"
            ],
            [
             0.6666666666666666,
             "#ed7953"
            ],
            [
             0.7777777777777778,
             "#fb9f3a"
            ],
            [
             0.8888888888888888,
             "#fdca26"
            ],
            [
             1,
             "#f0f921"
            ]
           ]
          },
          "colorway": [
           "#636efa",
           "#EF553B",
           "#00cc96",
           "#ab63fa",
           "#FFA15A",
           "#19d3f3",
           "#FF6692",
           "#B6E880",
           "#FF97FF",
           "#FECB52"
          ],
          "font": {
           "color": "#2a3f5f"
          },
          "geo": {
           "bgcolor": "white",
           "lakecolor": "white",
           "landcolor": "#E5ECF6",
           "showlakes": true,
           "showland": true,
           "subunitcolor": "white"
          },
          "hoverlabel": {
           "align": "left"
          },
          "hovermode": "closest",
          "mapbox": {
           "style": "light"
          },
          "paper_bgcolor": "white",
          "plot_bgcolor": "#E5ECF6",
          "polar": {
           "angularaxis": {
            "gridcolor": "white",
            "linecolor": "white",
            "ticks": ""
           },
           "bgcolor": "#E5ECF6",
           "radialaxis": {
            "gridcolor": "white",
            "linecolor": "white",
            "ticks": ""
           }
          },
          "scene": {
           "xaxis": {
            "backgroundcolor": "#E5ECF6",
            "gridcolor": "white",
            "gridwidth": 2,
            "linecolor": "white",
            "showbackground": true,
            "ticks": "",
            "zerolinecolor": "white"
           },
           "yaxis": {
            "backgroundcolor": "#E5ECF6",
            "gridcolor": "white",
            "gridwidth": 2,
            "linecolor": "white",
            "showbackground": true,
            "ticks": "",
            "zerolinecolor": "white"
           },
           "zaxis": {
            "backgroundcolor": "#E5ECF6",
            "gridcolor": "white",
            "gridwidth": 2,
            "linecolor": "white",
            "showbackground": true,
            "ticks": "",
            "zerolinecolor": "white"
           }
          },
          "shapedefaults": {
           "line": {
            "color": "#2a3f5f"
           }
          },
          "ternary": {
           "aaxis": {
            "gridcolor": "white",
            "linecolor": "white",
            "ticks": ""
           },
           "baxis": {
            "gridcolor": "white",
            "linecolor": "white",
            "ticks": ""
           },
           "bgcolor": "#E5ECF6",
           "caxis": {
            "gridcolor": "white",
            "linecolor": "white",
            "ticks": ""
           }
          },
          "title": {
           "x": 0.05
          },
          "xaxis": {
           "automargin": true,
           "gridcolor": "white",
           "linecolor": "white",
           "ticks": "",
           "title": {
            "standoff": 15
           },
           "zerolinecolor": "white",
           "zerolinewidth": 2
          },
          "yaxis": {
           "automargin": true,
           "gridcolor": "white",
           "linecolor": "white",
           "ticks": "",
           "title": {
            "standoff": 15
           },
           "zerolinecolor": "white",
           "zerolinewidth": 2
          }
         }
        },
        "title": {
         "text": "Relaxed Laso Test Error Estimates"
        },
        "xaxis": {
         "title": {
          "text": "Method"
         }
        },
        "yaxis": {
         "title": {
          "text": "Relative MSE"
         }
        }
       }
      },
      "text/html": [
       "<div>                            <div id=\"07421c6a-cc49-4294-a48d-3794a2201362\" class=\"plotly-graph-div\" style=\"height:525px; width:100%;\"></div>            <script type=\"text/javascript\">                require([\"plotly\"], function(Plotly) {                    window.PLOTLYENV=window.PLOTLYENV || {};                                    if (document.getElementById(\"07421c6a-cc49-4294-a48d-3794a2201362\")) {                    Plotly.newPlot(                        \"07421c6a-cc49-4294-a48d-3794a2201362\",                        [{\"error_y\":{\"array\":[1.018664797163645,0.8654295576138764,1.1833432079781803],\"arrayminus\":[0.8399861064161143,0.7189588929970825,0.8314796779284557],\"color\":\"black\",\"symmetric\":false,\"type\":\"data\"},\"marker\":{\"color\":[\"#636EFA\",\"#EF553B\",\"#00CC96\",\"#AB63FA\",\"#FFA15A\",\"#19D3F3\",\"#FF6692\",\"#B6E880\",\"#FF97FF\",\"#FECB52\"]},\"name\":\"Control\",\"text\":[0.941,0.809,1.044],\"textposition\":\"outside\",\"x\":[\"GenCp\",\"KFCV\",\"SPCV\"],\"y\":[0.941060604854387,0.8085939276024743,1.0443084783546774],\"type\":\"bar\"}],                        {\"template\":{\"data\":{\"bar\":[{\"error_x\":{\"color\":\"#2a3f5f\"},\"error_y\":{\"color\":\"#2a3f5f\"},\"marker\":{\"line\":{\"color\":\"#E5ECF6\",\"width\":0.5},\"pattern\":{\"fillmode\":\"overlay\",\"size\":10,\"solidity\":0.2}},\"type\":\"bar\"}],\"barpolar\":[{\"marker\":{\"line\":{\"color\":\"#E5ECF6\",\"width\":0.5},\"pattern\":{\"fillmode\":\"overlay\",\"size\":10,\"solidity\":0.2}},\"type\":\"barpolar\"}],\"carpet\":[{\"aaxis\":{\"endlinecolor\":\"#2a3f5f\",\"gridcolor\":\"white\",\"linecolor\":\"white\",\"minorgridcolor\":\"white\",\"startlinecolor\":\"#2a3f5f\"},\"baxis\":{\"endlinecolor\":\"#2a3f5f\",\"gridcolor\":\"white\",\"linecolor\":\"white\",\"minorgridcolor\":\"white\",\"startlinecolor\":\"#2a3f5f\"},\"type\":\"carpet\"}],\"choropleth\":[{\"colorbar\":{\"outlinewidth\":0,\"ticks\":\"\"},\"type\":\"choropleth\"}],\"contour\":[{\"colorbar\":{\"outlinewidth\":0,\"ticks\":\"\"},\"colorscale\":[[0.0,\"#0d0887\"],[0.1111111111111111,\"#46039f\"],[0.2222222222222222,\"#7201a8\"],[0.3333333333333333,\"#9c179e\"],[0.4444444444444444,\"#bd3786\"],[0.5555555555555556,\"#d8576b\"],[0.6666666666666666,\"#ed7953\"],[0.7777777777777778,\"#fb9f3a\"],[0.8888888888888888,\"#fdca26\"],[1.0,\"#f0f921\"]],\"type\":\"contour\"}],\"contourcarpet\":[{\"colorbar\":{\"outlinewidth\":0,\"ticks\":\"\"},\"type\":\"contourcarpet\"}],\"heatmap\":[{\"colorbar\":{\"outlinewidth\":0,\"ticks\":\"\"},\"colorscale\":[[0.0,\"#0d0887\"],[0.1111111111111111,\"#46039f\"],[0.2222222222222222,\"#7201a8\"],[0.3333333333333333,\"#9c179e\"],[0.4444444444444444,\"#bd3786\"],[0.5555555555555556,\"#d8576b\"],[0.6666666666666666,\"#ed7953\"],[0.7777777777777778,\"#fb9f3a\"],[0.8888888888888888,\"#fdca26\"],[1.0,\"#f0f921\"]],\"type\":\"heatmap\"}],\"heatmapgl\":[{\"colorbar\":{\"outlinewidth\":0,\"ticks\":\"\"},\"colorscale\":[[0.0,\"#0d0887\"],[0.1111111111111111,\"#46039f\"],[0.2222222222222222,\"#7201a8\"],[0.3333333333333333,\"#9c179e\"],[0.4444444444444444,\"#bd3786\"],[0.5555555555555556,\"#d8576b\"],[0.6666666666666666,\"#ed7953\"],[0.7777777777777778,\"#fb9f3a\"],[0.8888888888888888,\"#fdca26\"],[1.0,\"#f0f921\"]],\"type\":\"heatmapgl\"}],\"histogram\":[{\"marker\":{\"pattern\":{\"fillmode\":\"overlay\",\"size\":10,\"solidity\":0.2}},\"type\":\"histogram\"}],\"histogram2d\":[{\"colorbar\":{\"outlinewidth\":0,\"ticks\":\"\"},\"colorscale\":[[0.0,\"#0d0887\"],[0.1111111111111111,\"#46039f\"],[0.2222222222222222,\"#7201a8\"],[0.3333333333333333,\"#9c179e\"],[0.4444444444444444,\"#bd3786\"],[0.5555555555555556,\"#d8576b\"],[0.6666666666666666,\"#ed7953\"],[0.7777777777777778,\"#fb9f3a\"],[0.8888888888888888,\"#fdca26\"],[1.0,\"#f0f921\"]],\"type\":\"histogram2d\"}],\"histogram2dcontour\":[{\"colorbar\":{\"outlinewidth\":0,\"ticks\":\"\"},\"colorscale\":[[0.0,\"#0d0887\"],[0.1111111111111111,\"#46039f\"],[0.2222222222222222,\"#7201a8\"],[0.3333333333333333,\"#9c179e\"],[0.4444444444444444,\"#bd3786\"],[0.5555555555555556,\"#d8576b\"],[0.6666666666666666,\"#ed7953\"],[0.7777777777777778,\"#fb9f3a\"],[0.8888888888888888,\"#fdca26\"],[1.0,\"#f0f921\"]],\"type\":\"histogram2dcontour\"}],\"mesh3d\":[{\"colorbar\":{\"outlinewidth\":0,\"ticks\":\"\"},\"type\":\"mesh3d\"}],\"parcoords\":[{\"line\":{\"colorbar\":{\"outlinewidth\":0,\"ticks\":\"\"}},\"type\":\"parcoords\"}],\"pie\":[{\"automargin\":true,\"type\":\"pie\"}],\"scatter\":[{\"marker\":{\"colorbar\":{\"outlinewidth\":0,\"ticks\":\"\"}},\"type\":\"scatter\"}],\"scatter3d\":[{\"line\":{\"colorbar\":{\"outlinewidth\":0,\"ticks\":\"\"}},\"marker\":{\"colorbar\":{\"outlinewidth\":0,\"ticks\":\"\"}},\"type\":\"scatter3d\"}],\"scattercarpet\":[{\"marker\":{\"colorbar\":{\"outlinewidth\":0,\"ticks\":\"\"}},\"type\":\"scattercarpet\"}],\"scattergeo\":[{\"marker\":{\"colorbar\":{\"outlinewidth\":0,\"ticks\":\"\"}},\"type\":\"scattergeo\"}],\"scattergl\":[{\"marker\":{\"colorbar\":{\"outlinewidth\":0,\"ticks\":\"\"}},\"type\":\"scattergl\"}],\"scattermapbox\":[{\"marker\":{\"colorbar\":{\"outlinewidth\":0,\"ticks\":\"\"}},\"type\":\"scattermapbox\"}],\"scatterpolar\":[{\"marker\":{\"colorbar\":{\"outlinewidth\":0,\"ticks\":\"\"}},\"type\":\"scatterpolar\"}],\"scatterpolargl\":[{\"marker\":{\"colorbar\":{\"outlinewidth\":0,\"ticks\":\"\"}},\"type\":\"scatterpolargl\"}],\"scatterternary\":[{\"marker\":{\"colorbar\":{\"outlinewidth\":0,\"ticks\":\"\"}},\"type\":\"scatterternary\"}],\"surface\":[{\"colorbar\":{\"outlinewidth\":0,\"ticks\":\"\"},\"colorscale\":[[0.0,\"#0d0887\"],[0.1111111111111111,\"#46039f\"],[0.2222222222222222,\"#7201a8\"],[0.3333333333333333,\"#9c179e\"],[0.4444444444444444,\"#bd3786\"],[0.5555555555555556,\"#d8576b\"],[0.6666666666666666,\"#ed7953\"],[0.7777777777777778,\"#fb9f3a\"],[0.8888888888888888,\"#fdca26\"],[1.0,\"#f0f921\"]],\"type\":\"surface\"}],\"table\":[{\"cells\":{\"fill\":{\"color\":\"#EBF0F8\"},\"line\":{\"color\":\"white\"}},\"header\":{\"fill\":{\"color\":\"#C8D4E3\"},\"line\":{\"color\":\"white\"}},\"type\":\"table\"}]},\"layout\":{\"annotationdefaults\":{\"arrowcolor\":\"#2a3f5f\",\"arrowhead\":0,\"arrowwidth\":1},\"autotypenumbers\":\"strict\",\"coloraxis\":{\"colorbar\":{\"outlinewidth\":0,\"ticks\":\"\"}},\"colorscale\":{\"diverging\":[[0,\"#8e0152\"],[0.1,\"#c51b7d\"],[0.2,\"#de77ae\"],[0.3,\"#f1b6da\"],[0.4,\"#fde0ef\"],[0.5,\"#f7f7f7\"],[0.6,\"#e6f5d0\"],[0.7,\"#b8e186\"],[0.8,\"#7fbc41\"],[0.9,\"#4d9221\"],[1,\"#276419\"]],\"sequential\":[[0.0,\"#0d0887\"],[0.1111111111111111,\"#46039f\"],[0.2222222222222222,\"#7201a8\"],[0.3333333333333333,\"#9c179e\"],[0.4444444444444444,\"#bd3786\"],[0.5555555555555556,\"#d8576b\"],[0.6666666666666666,\"#ed7953\"],[0.7777777777777778,\"#fb9f3a\"],[0.8888888888888888,\"#fdca26\"],[1.0,\"#f0f921\"]],\"sequentialminus\":[[0.0,\"#0d0887\"],[0.1111111111111111,\"#46039f\"],[0.2222222222222222,\"#7201a8\"],[0.3333333333333333,\"#9c179e\"],[0.4444444444444444,\"#bd3786\"],[0.5555555555555556,\"#d8576b\"],[0.6666666666666666,\"#ed7953\"],[0.7777777777777778,\"#fb9f3a\"],[0.8888888888888888,\"#fdca26\"],[1.0,\"#f0f921\"]]},\"colorway\":[\"#636efa\",\"#EF553B\",\"#00cc96\",\"#ab63fa\",\"#FFA15A\",\"#19d3f3\",\"#FF6692\",\"#B6E880\",\"#FF97FF\",\"#FECB52\"],\"font\":{\"color\":\"#2a3f5f\"},\"geo\":{\"bgcolor\":\"white\",\"lakecolor\":\"white\",\"landcolor\":\"#E5ECF6\",\"showlakes\":true,\"showland\":true,\"subunitcolor\":\"white\"},\"hoverlabel\":{\"align\":\"left\"},\"hovermode\":\"closest\",\"mapbox\":{\"style\":\"light\"},\"paper_bgcolor\":\"white\",\"plot_bgcolor\":\"#E5ECF6\",\"polar\":{\"angularaxis\":{\"gridcolor\":\"white\",\"linecolor\":\"white\",\"ticks\":\"\"},\"bgcolor\":\"#E5ECF6\",\"radialaxis\":{\"gridcolor\":\"white\",\"linecolor\":\"white\",\"ticks\":\"\"}},\"scene\":{\"xaxis\":{\"backgroundcolor\":\"#E5ECF6\",\"gridcolor\":\"white\",\"gridwidth\":2,\"linecolor\":\"white\",\"showbackground\":true,\"ticks\":\"\",\"zerolinecolor\":\"white\"},\"yaxis\":{\"backgroundcolor\":\"#E5ECF6\",\"gridcolor\":\"white\",\"gridwidth\":2,\"linecolor\":\"white\",\"showbackground\":true,\"ticks\":\"\",\"zerolinecolor\":\"white\"},\"zaxis\":{\"backgroundcolor\":\"#E5ECF6\",\"gridcolor\":\"white\",\"gridwidth\":2,\"linecolor\":\"white\",\"showbackground\":true,\"ticks\":\"\",\"zerolinecolor\":\"white\"}},\"shapedefaults\":{\"line\":{\"color\":\"#2a3f5f\"}},\"ternary\":{\"aaxis\":{\"gridcolor\":\"white\",\"linecolor\":\"white\",\"ticks\":\"\"},\"baxis\":{\"gridcolor\":\"white\",\"linecolor\":\"white\",\"ticks\":\"\"},\"bgcolor\":\"#E5ECF6\",\"caxis\":{\"gridcolor\":\"white\",\"linecolor\":\"white\",\"ticks\":\"\"}},\"title\":{\"x\":0.05},\"xaxis\":{\"automargin\":true,\"gridcolor\":\"white\",\"linecolor\":\"white\",\"ticks\":\"\",\"title\":{\"standoff\":15},\"zerolinecolor\":\"white\",\"zerolinewidth\":2},\"yaxis\":{\"automargin\":true,\"gridcolor\":\"white\",\"linecolor\":\"white\",\"ticks\":\"\",\"title\":{\"standoff\":15},\"zerolinecolor\":\"white\",\"zerolinewidth\":2}}},\"shapes\":[{\"line\":{\"color\":\"red\"},\"type\":\"line\",\"x0\":0,\"x1\":1,\"xref\":\"x domain\",\"y0\":1.0,\"y1\":1.0,\"yref\":\"y\"}],\"title\":{\"text\":\"Relaxed Laso Test Error Estimates\"},\"xaxis\":{\"title\":{\"text\":\"Method\"}},\"yaxis\":{\"title\":{\"text\":\"Relative MSE\"}}},                        {\"responsive\": true}                    ).then(function(){\n",
       "                            \n",
       "var gd = document.getElementById('07421c6a-cc49-4294-a48d-3794a2201362');\n",
       "var x = new MutationObserver(function (mutations, observer) {{\n",
       "        var display = window.getComputedStyle(gd).display;\n",
       "        if (!display || display === 'none') {{\n",
       "            console.log([gd, 'removed!']);\n",
       "            Plotly.purge(gd);\n",
       "            observer.disconnect();\n",
       "        }}\n",
       "}});\n",
       "\n",
       "// Listen for the removal of the full notebook cells\n",
       "var notebookContainer = gd.closest('#notebook-container');\n",
       "if (notebookContainer) {{\n",
       "    x.observe(notebookContainer, {childList: true});\n",
       "}}\n",
       "\n",
       "// Listen for the clearing of the current output cell\n",
       "var outputEl = gd.closest('.output');\n",
       "if (outputEl) {{\n",
       "    x.observe(outputEl, {childList: true});\n",
       "}}\n",
       "\n",
       "                        })                };                });            </script>        </div>"
      ]
     },
     "metadata": {},
     "output_type": "display_data"
    }
   ],
   "source": [
    "fig = go.Figure()\n",
    "fig.add_trace(go.Bar(\n",
    "    name='Control',\n",
    "    x=['GenCp', 'KFCV', 'SPCV'], y=(df/risk).mean(),\n",
    "    marker_color=px.colors.qualitative.Plotly,\n",
    "    text=np.around((df/risk).mean(),3),\n",
    "    textposition='outside',\n",
    "    error_y=dict(\n",
    "        type='data',\n",
    "        color='black',\n",
    "        symmetric=False,\n",
    "        array=(df/risk).quantile(.75),\n",
    "        arrayminus=(df/risk).quantile(.25))\n",
    "))\n",
    "# fig.add_trace(go.Bar(\n",
    "#     name='Experimental',\n",
    "#     x=['GenCp', 'KFCV', 'SPCV'], y=(df/risk).mean(),\n",
    "#     error_y=dict(type='data', array=[1, 2])\n",
    "# ))\n",
    "# fig.update_layout(barmode='group')\n",
    "fig.add_hline(y=1., line_color='red')\n",
    "fig.update_layout(\n",
    "    title=\"Relaxed Laso Test Error Estimates\",\n",
    "    xaxis_title=\"Method\",\n",
    "    yaxis_title=\"Relative MSE\",\n",
    "#     legend_title=\"Legend Title\",\n",
    "#     font=dict(\n",
    "#         family=\"Courier New, monospace\",\n",
    "#         size=18,\n",
    "#         color=\"RebeccaPurple\"\n",
    "#     )\n",
    ")\n",
    "# ticktext= []\n",
    "# for i in np.arange()\n",
    "# fig.update_layout(\n",
    "#     yaxis = dict(\n",
    "#         tickmode = 'linear',\n",
    "#         tick0 = 0.,\n",
    "#         dtick = 1.,\n",
    "# #         ticktext = ticktext,\n",
    "#     )\n",
    "# )\n",
    "fig.show()"
   ]
  },
  {
   "cell_type": "code",
   "execution_count": null,
   "metadata": {},
   "outputs": [],
   "source": []
  },
  {
   "cell_type": "code",
   "execution_count": null,
   "metadata": {},
   "outputs": [],
   "source": []
  },
  {
   "cell_type": "code",
   "execution_count": null,
   "metadata": {},
   "outputs": [],
   "source": []
  },
  {
   "cell_type": "code",
   "execution_count": null,
   "metadata": {},
   "outputs": [],
   "source": []
  }
 ],
 "metadata": {
  "kernelspec": {
   "display_name": "blur",
   "language": "python",
   "name": "blur"
  },
  "language_info": {
   "codemirror_mode": {
    "name": "ipython",
    "version": 3
   },
   "file_extension": ".py",
   "mimetype": "text/x-python",
   "name": "python",
   "nbconvert_exporter": "python",
   "pygments_lexer": "ipython3",
   "version": "3.8.13"
  }
 },
 "nbformat": 4,
 "nbformat_minor": 4
}
