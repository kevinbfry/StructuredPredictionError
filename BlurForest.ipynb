{
 "cells": [
  {
   "cell_type": "code",
   "execution_count": 1,
   "metadata": {},
   "outputs": [],
   "source": [
    "import numpy as np\n",
    "import pandas as pd\n",
    "\n",
    "import plotly.express as px\n",
    "import plotly.graph_objects as go\n",
    "\n",
    "from spe.mse_estimator import ErrorComparer, gen_rbf_X\n",
    "from spe.forest import BlurredForest\n",
    "\n",
    "from scipy.linalg import toeplitz"
   ]
  },
  {
   "cell_type": "code",
   "execution_count": 2,
   "metadata": {},
   "outputs": [],
   "source": [
    "err_cmp = ErrorComparer()"
   ]
  },
  {
   "cell_type": "code",
   "execution_count": 21,
   "metadata": {},
   "outputs": [],
   "source": [
    "niter = 100\n",
    "n_estimators = 10\n",
    "\n",
    "n=200\n",
    "p=300\n",
    "s=30\n",
    "\n",
    "rho = 0.5\n",
    "c = np.zeros(n)\n",
    "c[:20] = [rho**i for i in np.arange(20)] \n",
    "Sigma_t = toeplitz(c)\n",
    "Chol_t = np.linalg.cholesky(Sigma_t)\n",
    "# Chol_t = None\n",
    "\n",
    "# Theta_p = np.linalg.inv(Sigma_t)\n",
    "# Theta_p = np.linalg.inv(Chol_t @ Chol_t.T)\n",
    "# Theta_p = np.diag(np.random.choice([0,1],size=n,replace=True))\n",
    "Theta_p = None\n",
    "\n",
    "alphas = [0.05, 0.1, 0.2, 0.5, 0.8, 1.]\n",
    "# alphas = [0.05, 0.5, 1.]\n",
    "na = len(alphas)"
   ]
  },
  {
   "cell_type": "code",
   "execution_count": 22,
   "metadata": {},
   "outputs": [],
   "source": [
    "nx = ny = int(np.sqrt(n))\n",
    "xs = np.linspace(0, 10, nx)\n",
    "ys = np.linspace(0, 10, ny)\n",
    "c_x, c_y = np.meshgrid(xs, ys)\n",
    "c_x = c_x.flatten()\n",
    "c_y = c_y.flatten()\n",
    "\n",
    "# c_x = np.random.uniform(0,10,size=n)\n",
    "# c_y = np.random.uniform(0,10,size=n)\n",
    "\n",
    "# rn = int(np.sqrt(n))\n",
    "# ctr_x = np.random.uniform(0,10,size=rn)\n",
    "# ctr_y = np.random.uniform(0,10,size=rn)\n",
    "# c_x = np.concatenate([c + .35 * np.random.randn(rn) for c in ctr_x])\n",
    "# c_y = np.concatenate([c + .35 * np.random.randn(rn) for c in ctr_y])\n",
    "\n",
    "X = gen_rbf_X(c_x, c_y, p)\n",
    "# X = np.random.randn(n,p)\n",
    "beta = np.zeros(p)\n",
    "idx = np.random.choice(p,size=s)\n",
    "beta[idx] = np.random.uniform(-1,1,size=s)"
   ]
  },
  {
   "cell_type": "code",
   "execution_count": 23,
   "metadata": {
    "scrolled": true
   },
   "outputs": [
    {
     "name": "stdout",
     "output_type": "stream",
     "text": [
      "0\n"
     ]
    },
    {
     "ename": "ValueError",
     "evalue": "matmul: Input operand 1 has a mismatch in its core dimension 0, with gufunc signature (n?,k),(k,m?)->(n?,m?) (size 196 is different from 200)",
     "output_type": "error",
     "traceback": [
      "\u001b[0;31m---------------------------------------------------------------------------\u001b[0m",
      "\u001b[0;31mValueError\u001b[0m                                Traceback (most recent call last)",
      "\u001b[0;32m<ipython-input-23-34d62f402bd8>\u001b[0m in \u001b[0;36m<module>\u001b[0;34m\u001b[0m\n\u001b[1;32m      5\u001b[0m     \u001b[0mprint\u001b[0m\u001b[0;34m(\u001b[0m\u001b[0mi\u001b[0m\u001b[0;34m)\u001b[0m\u001b[0;34m\u001b[0m\u001b[0;34m\u001b[0m\u001b[0m\n\u001b[1;32m      6\u001b[0m     (test_err[i,:],\n\u001b[0;32m----> 7\u001b[0;31m      \u001b[0mblur_err\u001b[0m\u001b[0;34m[\u001b[0m\u001b[0mi\u001b[0m\u001b[0;34m,\u001b[0m\u001b[0;34m:\u001b[0m\u001b[0;34m]\u001b[0m\u001b[0;34m)\u001b[0m \u001b[0;34m=\u001b[0m \u001b[0merr_cmp\u001b[0m\u001b[0;34m.\u001b[0m\u001b[0mcompareForest\u001b[0m\u001b[0;34m(\u001b[0m\u001b[0mn\u001b[0m\u001b[0;34m=\u001b[0m\u001b[0mn\u001b[0m\u001b[0;34m,\u001b[0m\u001b[0;34m\u001b[0m\u001b[0;34m\u001b[0m\u001b[0m\n\u001b[0m\u001b[1;32m      8\u001b[0m                                          \u001b[0mp\u001b[0m\u001b[0;34m=\u001b[0m\u001b[0mp\u001b[0m\u001b[0;34m,\u001b[0m\u001b[0;34m\u001b[0m\u001b[0;34m\u001b[0m\u001b[0m\n\u001b[1;32m      9\u001b[0m                                          \u001b[0mX\u001b[0m\u001b[0;34m=\u001b[0m\u001b[0mX\u001b[0m\u001b[0;34m,\u001b[0m\u001b[0;34m\u001b[0m\u001b[0;34m\u001b[0m\u001b[0m\n",
      "\u001b[0;32m~/Documents/GitHub/StructuredPredictionError/spe/mse_estimator.py\u001b[0m in \u001b[0;36mcompareForest\u001b[0;34m(self, niter, n, p, s, snr, Chol_t, Theta_p, X, beta, model, rand_type, use_expectation, alpha, est_sigma, est_risk)\u001b[0m\n\u001b[1;32m    790\u001b[0m                         \u001b[0meps_test\u001b[0m \u001b[0;34m=\u001b[0m \u001b[0msigma_true\u001b[0m \u001b[0;34m*\u001b[0m \u001b[0mnp\u001b[0m\u001b[0;34m.\u001b[0m\u001b[0mrandom\u001b[0m\u001b[0;34m.\u001b[0m\u001b[0mrandn\u001b[0m\u001b[0;34m(\u001b[0m\u001b[0mn\u001b[0m\u001b[0;34m)\u001b[0m\u001b[0;34m\u001b[0m\u001b[0;34m\u001b[0m\u001b[0m\n\u001b[1;32m    791\u001b[0m                         \u001b[0;32mif\u001b[0m \u001b[0mChol_t\u001b[0m \u001b[0;32mis\u001b[0m \u001b[0;32mnot\u001b[0m \u001b[0;32mNone\u001b[0m\u001b[0;34m:\u001b[0m\u001b[0;34m\u001b[0m\u001b[0;34m\u001b[0m\u001b[0m\n\u001b[0;32m--> 792\u001b[0;31m                                 \u001b[0meps\u001b[0m \u001b[0;34m=\u001b[0m \u001b[0mChol_t\u001b[0m \u001b[0;34m@\u001b[0m \u001b[0meps\u001b[0m\u001b[0;34m\u001b[0m\u001b[0;34m\u001b[0m\u001b[0m\n\u001b[0m\u001b[1;32m    793\u001b[0m                                 \u001b[0meps_test\u001b[0m \u001b[0;34m=\u001b[0m \u001b[0mChol_t\u001b[0m \u001b[0;34m@\u001b[0m \u001b[0meps_test\u001b[0m\u001b[0;34m\u001b[0m\u001b[0;34m\u001b[0m\u001b[0m\n\u001b[1;32m    794\u001b[0m \u001b[0;34m\u001b[0m\u001b[0m\n",
      "\u001b[0;31mValueError\u001b[0m: matmul: Input operand 1 has a mismatch in its core dimension 0, with gufunc signature (n?,k),(k,m?)->(n?,m?) (size 196 is different from 200)"
     ]
    }
   ],
   "source": [
    "test_err = np.zeros((na, niter))\n",
    "blur_err = np.zeros((na, niter))\n",
    "\n",
    "for i,alpha in enumerate(alphas):\n",
    "    print(i)\n",
    "    (test_err[i,:],\n",
    "     blur_err[i,:]) = err_cmp.compareForest(n=n,\n",
    "                                         p=p,\n",
    "                                         X=X,\n",
    "                                         beta=beta,\n",
    "                                         Chol_t=Chol_t,\n",
    "                                         Theta_p=Theta_p,\n",
    "                                         model=BlurredForest(max_depth=4, \n",
    "                                                             max_features=\"sqrt\",\n",
    "                                                             n_estimators=n_estimators),\n",
    "                                         alpha=alpha,\n",
    "                                         niter=niter,\n",
    "                                         use_expectation=True,\n",
    "                                         rand_type='full',\n",
    "                                         est_risk=False)\n",
    "    "
   ]
  },
  {
   "cell_type": "code",
   "execution_count": null,
   "metadata": {},
   "outputs": [],
   "source": [
    "risk = test_err.mean(axis=1)"
   ]
  },
  {
   "cell_type": "code",
   "execution_count": 24,
   "metadata": {},
   "outputs": [],
   "source": [
    "blur_df = pd.DataFrame((blur_err.T))# - test_err.T)/test_err.T)"
   ]
  },
  {
   "cell_type": "code",
   "execution_count": 25,
   "metadata": {
    "scrolled": false
   },
   "outputs": [
    {
     "data": {
      "application/vnd.plotly.v1+json": {
       "config": {
        "plotlyServerURL": "https://plot.ly"
       },
       "data": [
        {
         "alignmentgroup": "True",
         "boxmean": true,
         "boxpoints": "all",
         "hovertemplate": "Alpha=%{x}<br>Risk=%{y}<extra></extra>",
         "legendgroup": "",
         "marker": {
          "color": "#636efa"
         },
         "name": "",
         "notched": false,
         "offsetgroup": "",
         "orientation": "v",
         "showlegend": false,
         "type": "box",
         "x": [
          "0",
          "0",
          "0",
          "0",
          "0",
          "0",
          "0",
          "0",
          "0",
          "0",
          "0",
          "0",
          "0",
          "0",
          "0",
          "0",
          "0",
          "0",
          "0",
          "0",
          "0",
          "0",
          "0",
          "0",
          "0",
          "0",
          "0",
          "0",
          "0",
          "0",
          "0",
          "0",
          "0",
          "0",
          "0",
          "0",
          "0",
          "0",
          "0",
          "0",
          "0",
          "0",
          "0",
          "0",
          "0",
          "0",
          "0",
          "0",
          "0",
          "0",
          "0",
          "0",
          "0",
          "0",
          "0",
          "0",
          "0",
          "0",
          "0",
          "0",
          "0",
          "0",
          "0",
          "0",
          "0",
          "0",
          "0",
          "0",
          "0",
          "0",
          "0",
          "0",
          "0",
          "0",
          "0",
          "0",
          "0",
          "0",
          "0",
          "0",
          "0",
          "0",
          "0",
          "0",
          "0",
          "0",
          "0",
          "0",
          "0",
          "0",
          "0",
          "0",
          "0",
          "0",
          "0",
          "0",
          "0",
          "0",
          "0",
          "0",
          "1",
          "1",
          "1",
          "1",
          "1",
          "1",
          "1",
          "1",
          "1",
          "1",
          "1",
          "1",
          "1",
          "1",
          "1",
          "1",
          "1",
          "1",
          "1",
          "1",
          "1",
          "1",
          "1",
          "1",
          "1",
          "1",
          "1",
          "1",
          "1",
          "1",
          "1",
          "1",
          "1",
          "1",
          "1",
          "1",
          "1",
          "1",
          "1",
          "1",
          "1",
          "1",
          "1",
          "1",
          "1",
          "1",
          "1",
          "1",
          "1",
          "1",
          "1",
          "1",
          "1",
          "1",
          "1",
          "1",
          "1",
          "1",
          "1",
          "1",
          "1",
          "1",
          "1",
          "1",
          "1",
          "1",
          "1",
          "1",
          "1",
          "1",
          "1",
          "1",
          "1",
          "1",
          "1",
          "1",
          "1",
          "1",
          "1",
          "1",
          "1",
          "1",
          "1",
          "1",
          "1",
          "1",
          "1",
          "1",
          "1",
          "1",
          "1",
          "1",
          "1",
          "1",
          "1",
          "1",
          "1",
          "1",
          "1",
          "1",
          "2",
          "2",
          "2",
          "2",
          "2",
          "2",
          "2",
          "2",
          "2",
          "2",
          "2",
          "2",
          "2",
          "2",
          "2",
          "2",
          "2",
          "2",
          "2",
          "2",
          "2",
          "2",
          "2",
          "2",
          "2",
          "2",
          "2",
          "2",
          "2",
          "2",
          "2",
          "2",
          "2",
          "2",
          "2",
          "2",
          "2",
          "2",
          "2",
          "2",
          "2",
          "2",
          "2",
          "2",
          "2",
          "2",
          "2",
          "2",
          "2",
          "2",
          "2",
          "2",
          "2",
          "2",
          "2",
          "2",
          "2",
          "2",
          "2",
          "2",
          "2",
          "2",
          "2",
          "2",
          "2",
          "2",
          "2",
          "2",
          "2",
          "2",
          "2",
          "2",
          "2",
          "2",
          "2",
          "2",
          "2",
          "2",
          "2",
          "2",
          "2",
          "2",
          "2",
          "2",
          "2",
          "2",
          "2",
          "2",
          "2",
          "2",
          "2",
          "2",
          "2",
          "2",
          "2",
          "2",
          "2",
          "2",
          "2",
          "2",
          "3",
          "3",
          "3",
          "3",
          "3",
          "3",
          "3",
          "3",
          "3",
          "3",
          "3",
          "3",
          "3",
          "3",
          "3",
          "3",
          "3",
          "3",
          "3",
          "3",
          "3",
          "3",
          "3",
          "3",
          "3",
          "3",
          "3",
          "3",
          "3",
          "3",
          "3",
          "3",
          "3",
          "3",
          "3",
          "3",
          "3",
          "3",
          "3",
          "3",
          "3",
          "3",
          "3",
          "3",
          "3",
          "3",
          "3",
          "3",
          "3",
          "3",
          "3",
          "3",
          "3",
          "3",
          "3",
          "3",
          "3",
          "3",
          "3",
          "3",
          "3",
          "3",
          "3",
          "3",
          "3",
          "3",
          "3",
          "3",
          "3",
          "3",
          "3",
          "3",
          "3",
          "3",
          "3",
          "3",
          "3",
          "3",
          "3",
          "3",
          "3",
          "3",
          "3",
          "3",
          "3",
          "3",
          "3",
          "3",
          "3",
          "3",
          "3",
          "3",
          "3",
          "3",
          "3",
          "3",
          "3",
          "3",
          "3",
          "3",
          "4",
          "4",
          "4",
          "4",
          "4",
          "4",
          "4",
          "4",
          "4",
          "4",
          "4",
          "4",
          "4",
          "4",
          "4",
          "4",
          "4",
          "4",
          "4",
          "4",
          "4",
          "4",
          "4",
          "4",
          "4",
          "4",
          "4",
          "4",
          "4",
          "4",
          "4",
          "4",
          "4",
          "4",
          "4",
          "4",
          "4",
          "4",
          "4",
          "4",
          "4",
          "4",
          "4",
          "4",
          "4",
          "4",
          "4",
          "4",
          "4",
          "4",
          "4",
          "4",
          "4",
          "4",
          "4",
          "4",
          "4",
          "4",
          "4",
          "4",
          "4",
          "4",
          "4",
          "4",
          "4",
          "4",
          "4",
          "4",
          "4",
          "4",
          "4",
          "4",
          "4",
          "4",
          "4",
          "4",
          "4",
          "4",
          "4",
          "4",
          "4",
          "4",
          "4",
          "4",
          "4",
          "4",
          "4",
          "4",
          "4",
          "4",
          "4",
          "4",
          "4",
          "4",
          "4",
          "4",
          "4",
          "4",
          "4",
          "4",
          "5",
          "5",
          "5",
          "5",
          "5",
          "5",
          "5",
          "5",
          "5",
          "5",
          "5",
          "5",
          "5",
          "5",
          "5",
          "5",
          "5",
          "5",
          "5",
          "5",
          "5",
          "5",
          "5",
          "5",
          "5",
          "5",
          "5",
          "5",
          "5",
          "5",
          "5",
          "5",
          "5",
          "5",
          "5",
          "5",
          "5",
          "5",
          "5",
          "5",
          "5",
          "5",
          "5",
          "5",
          "5",
          "5",
          "5",
          "5",
          "5",
          "5",
          "5",
          "5",
          "5",
          "5",
          "5",
          "5",
          "5",
          "5",
          "5",
          "5",
          "5",
          "5",
          "5",
          "5",
          "5",
          "5",
          "5",
          "5",
          "5",
          "5",
          "5",
          "5",
          "5",
          "5",
          "5",
          "5",
          "5",
          "5",
          "5",
          "5",
          "5",
          "5",
          "5",
          "5",
          "5",
          "5",
          "5",
          "5",
          "5",
          "5",
          "5",
          "5",
          "5",
          "5",
          "5",
          "5",
          "5",
          "5",
          "5",
          "5"
         ],
         "x0": " ",
         "xaxis": "x",
         "y": [
          null,
          null,
          null,
          null,
          null,
          null,
          null,
          null,
          null,
          null,
          null,
          null,
          null,
          null,
          null,
          null,
          null,
          null,
          null,
          null,
          null,
          null,
          null,
          null,
          null,
          null,
          null,
          null,
          null,
          null,
          null,
          null,
          null,
          null,
          null,
          null,
          null,
          null,
          null,
          null,
          null,
          null,
          null,
          null,
          null,
          null,
          null,
          null,
          null,
          null,
          null,
          null,
          null,
          null,
          null,
          null,
          null,
          null,
          null,
          null,
          null,
          null,
          null,
          null,
          null,
          null,
          null,
          null,
          null,
          null,
          null,
          null,
          null,
          null,
          null,
          null,
          null,
          null,
          null,
          null,
          null,
          null,
          null,
          null,
          null,
          null,
          null,
          null,
          null,
          null,
          null,
          null,
          null,
          null,
          null,
          null,
          null,
          null,
          null,
          null,
          null,
          null,
          null,
          null,
          null,
          null,
          null,
          null,
          null,
          null,
          null,
          null,
          null,
          null,
          null,
          null,
          null,
          null,
          null,
          null,
          null,
          null,
          null,
          null,
          null,
          null,
          null,
          null,
          null,
          null,
          null,
          null,
          null,
          null,
          null,
          null,
          null,
          null,
          null,
          null,
          null,
          null,
          null,
          null,
          null,
          null,
          null,
          null,
          null,
          null,
          null,
          null,
          null,
          null,
          null,
          null,
          null,
          null,
          null,
          null,
          null,
          null,
          null,
          null,
          null,
          null,
          null,
          null,
          null,
          null,
          null,
          null,
          null,
          null,
          null,
          null,
          null,
          null,
          null,
          null,
          null,
          null,
          null,
          null,
          null,
          null,
          null,
          null,
          null,
          null,
          null,
          null,
          null,
          null,
          null,
          null,
          null,
          null,
          null,
          null,
          null,
          null,
          null,
          null,
          null,
          null,
          null,
          null,
          null,
          null,
          null,
          null,
          null,
          null,
          null,
          null,
          null,
          null,
          null,
          null,
          null,
          null,
          null,
          null,
          null,
          null,
          null,
          null,
          null,
          null,
          null,
          null,
          null,
          null,
          null,
          null,
          null,
          null,
          null,
          null,
          null,
          null,
          null,
          null,
          null,
          null,
          null,
          null,
          null,
          null,
          null,
          null,
          null,
          null,
          null,
          null,
          null,
          null,
          null,
          null,
          null,
          null,
          null,
          null,
          null,
          null,
          null,
          null,
          null,
          null,
          null,
          null,
          null,
          null,
          null,
          null,
          null,
          null,
          null,
          null,
          null,
          null,
          null,
          null,
          null,
          null,
          null,
          null,
          null,
          null,
          null,
          null,
          null,
          null,
          null,
          null,
          null,
          null,
          null,
          null,
          null,
          null,
          null,
          null,
          null,
          null,
          null,
          null,
          null,
          null,
          null,
          null,
          null,
          null,
          null,
          null,
          null,
          null,
          null,
          null,
          null,
          null,
          null,
          null,
          null,
          null,
          null,
          null,
          null,
          null,
          null,
          null,
          null,
          null,
          null,
          null,
          null,
          null,
          null,
          null,
          null,
          null,
          null,
          null,
          null,
          null,
          null,
          null,
          null,
          null,
          null,
          null,
          null,
          null,
          null,
          null,
          null,
          null,
          null,
          null,
          null,
          null,
          null,
          null,
          null,
          null,
          null,
          null,
          null,
          null,
          null,
          null,
          null,
          null,
          null,
          null,
          null,
          null,
          null,
          null,
          null,
          null,
          null,
          null,
          null,
          null,
          null,
          null,
          null,
          null,
          null,
          null,
          null,
          null,
          null,
          null,
          null,
          null,
          null,
          null,
          null,
          null,
          null,
          null,
          null,
          null,
          null,
          null,
          null,
          null,
          null,
          null,
          null,
          null,
          null,
          null,
          null,
          null,
          null,
          null,
          null,
          null,
          null,
          null,
          null,
          null,
          null,
          null,
          null,
          null,
          null,
          null,
          null,
          null,
          null,
          null,
          null,
          null,
          null,
          null,
          null,
          null,
          null,
          null,
          null,
          null,
          null,
          null,
          null,
          null,
          null,
          null,
          null,
          null,
          null,
          null,
          null,
          null,
          null,
          null,
          null,
          null,
          null,
          null,
          null,
          null,
          null,
          null,
          null,
          null,
          null,
          null,
          null,
          null,
          null,
          null,
          null,
          null,
          null,
          null,
          null,
          null,
          null,
          null,
          null,
          null,
          null,
          null,
          null,
          null,
          null,
          null,
          null,
          null,
          null,
          null,
          null,
          null,
          null,
          null,
          null,
          null,
          null,
          null,
          null,
          null,
          null,
          null,
          null,
          null,
          null,
          null,
          null,
          null,
          null,
          null,
          null,
          null,
          null,
          null,
          null,
          null,
          null,
          null,
          null,
          null,
          null,
          null,
          null,
          null,
          null,
          null,
          null,
          null,
          null,
          null,
          null,
          null,
          null,
          null,
          null,
          null,
          null,
          null,
          null,
          null,
          null,
          null,
          null,
          null,
          null,
          null,
          null,
          null,
          null,
          null,
          null,
          null,
          null,
          null,
          null,
          null,
          null,
          null,
          null,
          null,
          null,
          null,
          null,
          null,
          null,
          null,
          null,
          null,
          null,
          null,
          null,
          null,
          null,
          null,
          null,
          null,
          null,
          null,
          null,
          null,
          null,
          null,
          null,
          null,
          null,
          null,
          null,
          null,
          null,
          null,
          null,
          null,
          null,
          null
         ],
         "y0": " ",
         "yaxis": "y"
        }
       ],
       "layout": {
        "boxmode": "group",
        "legend": {
         "tracegroupgap": 0
        },
        "shapes": [
         {
          "line": {
           "color": "red"
          },
          "type": "line",
          "x0": 0,
          "x1": 1,
          "xref": "x domain",
          "y0": 0,
          "y1": 0,
          "yref": "y"
         }
        ],
        "template": {
         "data": {
          "bar": [
           {
            "error_x": {
             "color": "#2a3f5f"
            },
            "error_y": {
             "color": "#2a3f5f"
            },
            "marker": {
             "line": {
              "color": "#E5ECF6",
              "width": 0.5
             },
             "pattern": {
              "fillmode": "overlay",
              "size": 10,
              "solidity": 0.2
             }
            },
            "type": "bar"
           }
          ],
          "barpolar": [
           {
            "marker": {
             "line": {
              "color": "#E5ECF6",
              "width": 0.5
             },
             "pattern": {
              "fillmode": "overlay",
              "size": 10,
              "solidity": 0.2
             }
            },
            "type": "barpolar"
           }
          ],
          "carpet": [
           {
            "aaxis": {
             "endlinecolor": "#2a3f5f",
             "gridcolor": "white",
             "linecolor": "white",
             "minorgridcolor": "white",
             "startlinecolor": "#2a3f5f"
            },
            "baxis": {
             "endlinecolor": "#2a3f5f",
             "gridcolor": "white",
             "linecolor": "white",
             "minorgridcolor": "white",
             "startlinecolor": "#2a3f5f"
            },
            "type": "carpet"
           }
          ],
          "choropleth": [
           {
            "colorbar": {
             "outlinewidth": 0,
             "ticks": ""
            },
            "type": "choropleth"
           }
          ],
          "contour": [
           {
            "colorbar": {
             "outlinewidth": 0,
             "ticks": ""
            },
            "colorscale": [
             [
              0,
              "#0d0887"
             ],
             [
              0.1111111111111111,
              "#46039f"
             ],
             [
              0.2222222222222222,
              "#7201a8"
             ],
             [
              0.3333333333333333,
              "#9c179e"
             ],
             [
              0.4444444444444444,
              "#bd3786"
             ],
             [
              0.5555555555555556,
              "#d8576b"
             ],
             [
              0.6666666666666666,
              "#ed7953"
             ],
             [
              0.7777777777777778,
              "#fb9f3a"
             ],
             [
              0.8888888888888888,
              "#fdca26"
             ],
             [
              1,
              "#f0f921"
             ]
            ],
            "type": "contour"
           }
          ],
          "contourcarpet": [
           {
            "colorbar": {
             "outlinewidth": 0,
             "ticks": ""
            },
            "type": "contourcarpet"
           }
          ],
          "heatmap": [
           {
            "colorbar": {
             "outlinewidth": 0,
             "ticks": ""
            },
            "colorscale": [
             [
              0,
              "#0d0887"
             ],
             [
              0.1111111111111111,
              "#46039f"
             ],
             [
              0.2222222222222222,
              "#7201a8"
             ],
             [
              0.3333333333333333,
              "#9c179e"
             ],
             [
              0.4444444444444444,
              "#bd3786"
             ],
             [
              0.5555555555555556,
              "#d8576b"
             ],
             [
              0.6666666666666666,
              "#ed7953"
             ],
             [
              0.7777777777777778,
              "#fb9f3a"
             ],
             [
              0.8888888888888888,
              "#fdca26"
             ],
             [
              1,
              "#f0f921"
             ]
            ],
            "type": "heatmap"
           }
          ],
          "heatmapgl": [
           {
            "colorbar": {
             "outlinewidth": 0,
             "ticks": ""
            },
            "colorscale": [
             [
              0,
              "#0d0887"
             ],
             [
              0.1111111111111111,
              "#46039f"
             ],
             [
              0.2222222222222222,
              "#7201a8"
             ],
             [
              0.3333333333333333,
              "#9c179e"
             ],
             [
              0.4444444444444444,
              "#bd3786"
             ],
             [
              0.5555555555555556,
              "#d8576b"
             ],
             [
              0.6666666666666666,
              "#ed7953"
             ],
             [
              0.7777777777777778,
              "#fb9f3a"
             ],
             [
              0.8888888888888888,
              "#fdca26"
             ],
             [
              1,
              "#f0f921"
             ]
            ],
            "type": "heatmapgl"
           }
          ],
          "histogram": [
           {
            "marker": {
             "pattern": {
              "fillmode": "overlay",
              "size": 10,
              "solidity": 0.2
             }
            },
            "type": "histogram"
           }
          ],
          "histogram2d": [
           {
            "colorbar": {
             "outlinewidth": 0,
             "ticks": ""
            },
            "colorscale": [
             [
              0,
              "#0d0887"
             ],
             [
              0.1111111111111111,
              "#46039f"
             ],
             [
              0.2222222222222222,
              "#7201a8"
             ],
             [
              0.3333333333333333,
              "#9c179e"
             ],
             [
              0.4444444444444444,
              "#bd3786"
             ],
             [
              0.5555555555555556,
              "#d8576b"
             ],
             [
              0.6666666666666666,
              "#ed7953"
             ],
             [
              0.7777777777777778,
              "#fb9f3a"
             ],
             [
              0.8888888888888888,
              "#fdca26"
             ],
             [
              1,
              "#f0f921"
             ]
            ],
            "type": "histogram2d"
           }
          ],
          "histogram2dcontour": [
           {
            "colorbar": {
             "outlinewidth": 0,
             "ticks": ""
            },
            "colorscale": [
             [
              0,
              "#0d0887"
             ],
             [
              0.1111111111111111,
              "#46039f"
             ],
             [
              0.2222222222222222,
              "#7201a8"
             ],
             [
              0.3333333333333333,
              "#9c179e"
             ],
             [
              0.4444444444444444,
              "#bd3786"
             ],
             [
              0.5555555555555556,
              "#d8576b"
             ],
             [
              0.6666666666666666,
              "#ed7953"
             ],
             [
              0.7777777777777778,
              "#fb9f3a"
             ],
             [
              0.8888888888888888,
              "#fdca26"
             ],
             [
              1,
              "#f0f921"
             ]
            ],
            "type": "histogram2dcontour"
           }
          ],
          "mesh3d": [
           {
            "colorbar": {
             "outlinewidth": 0,
             "ticks": ""
            },
            "type": "mesh3d"
           }
          ],
          "parcoords": [
           {
            "line": {
             "colorbar": {
              "outlinewidth": 0,
              "ticks": ""
             }
            },
            "type": "parcoords"
           }
          ],
          "pie": [
           {
            "automargin": true,
            "type": "pie"
           }
          ],
          "scatter": [
           {
            "marker": {
             "colorbar": {
              "outlinewidth": 0,
              "ticks": ""
             }
            },
            "type": "scatter"
           }
          ],
          "scatter3d": [
           {
            "line": {
             "colorbar": {
              "outlinewidth": 0,
              "ticks": ""
             }
            },
            "marker": {
             "colorbar": {
              "outlinewidth": 0,
              "ticks": ""
             }
            },
            "type": "scatter3d"
           }
          ],
          "scattercarpet": [
           {
            "marker": {
             "colorbar": {
              "outlinewidth": 0,
              "ticks": ""
             }
            },
            "type": "scattercarpet"
           }
          ],
          "scattergeo": [
           {
            "marker": {
             "colorbar": {
              "outlinewidth": 0,
              "ticks": ""
             }
            },
            "type": "scattergeo"
           }
          ],
          "scattergl": [
           {
            "marker": {
             "colorbar": {
              "outlinewidth": 0,
              "ticks": ""
             }
            },
            "type": "scattergl"
           }
          ],
          "scattermapbox": [
           {
            "marker": {
             "colorbar": {
              "outlinewidth": 0,
              "ticks": ""
             }
            },
            "type": "scattermapbox"
           }
          ],
          "scatterpolar": [
           {
            "marker": {
             "colorbar": {
              "outlinewidth": 0,
              "ticks": ""
             }
            },
            "type": "scatterpolar"
           }
          ],
          "scatterpolargl": [
           {
            "marker": {
             "colorbar": {
              "outlinewidth": 0,
              "ticks": ""
             }
            },
            "type": "scatterpolargl"
           }
          ],
          "scatterternary": [
           {
            "marker": {
             "colorbar": {
              "outlinewidth": 0,
              "ticks": ""
             }
            },
            "type": "scatterternary"
           }
          ],
          "surface": [
           {
            "colorbar": {
             "outlinewidth": 0,
             "ticks": ""
            },
            "colorscale": [
             [
              0,
              "#0d0887"
             ],
             [
              0.1111111111111111,
              "#46039f"
             ],
             [
              0.2222222222222222,
              "#7201a8"
             ],
             [
              0.3333333333333333,
              "#9c179e"
             ],
             [
              0.4444444444444444,
              "#bd3786"
             ],
             [
              0.5555555555555556,
              "#d8576b"
             ],
             [
              0.6666666666666666,
              "#ed7953"
             ],
             [
              0.7777777777777778,
              "#fb9f3a"
             ],
             [
              0.8888888888888888,
              "#fdca26"
             ],
             [
              1,
              "#f0f921"
             ]
            ],
            "type": "surface"
           }
          ],
          "table": [
           {
            "cells": {
             "fill": {
              "color": "#EBF0F8"
             },
             "line": {
              "color": "white"
             }
            },
            "header": {
             "fill": {
              "color": "#C8D4E3"
             },
             "line": {
              "color": "white"
             }
            },
            "type": "table"
           }
          ]
         },
         "layout": {
          "annotationdefaults": {
           "arrowcolor": "#2a3f5f",
           "arrowhead": 0,
           "arrowwidth": 1
          },
          "autotypenumbers": "strict",
          "coloraxis": {
           "colorbar": {
            "outlinewidth": 0,
            "ticks": ""
           }
          },
          "colorscale": {
           "diverging": [
            [
             0,
             "#8e0152"
            ],
            [
             0.1,
             "#c51b7d"
            ],
            [
             0.2,
             "#de77ae"
            ],
            [
             0.3,
             "#f1b6da"
            ],
            [
             0.4,
             "#fde0ef"
            ],
            [
             0.5,
             "#f7f7f7"
            ],
            [
             0.6,
             "#e6f5d0"
            ],
            [
             0.7,
             "#b8e186"
            ],
            [
             0.8,
             "#7fbc41"
            ],
            [
             0.9,
             "#4d9221"
            ],
            [
             1,
             "#276419"
            ]
           ],
           "sequential": [
            [
             0,
             "#0d0887"
            ],
            [
             0.1111111111111111,
             "#46039f"
            ],
            [
             0.2222222222222222,
             "#7201a8"
            ],
            [
             0.3333333333333333,
             "#9c179e"
            ],
            [
             0.4444444444444444,
             "#bd3786"
            ],
            [
             0.5555555555555556,
             "#d8576b"
            ],
            [
             0.6666666666666666,
             "#ed7953"
            ],
            [
             0.7777777777777778,
             "#fb9f3a"
            ],
            [
             0.8888888888888888,
             "#fdca26"
            ],
            [
             1,
             "#f0f921"
            ]
           ],
           "sequentialminus": [
            [
             0,
             "#0d0887"
            ],
            [
             0.1111111111111111,
             "#46039f"
            ],
            [
             0.2222222222222222,
             "#7201a8"
            ],
            [
             0.3333333333333333,
             "#9c179e"
            ],
            [
             0.4444444444444444,
             "#bd3786"
            ],
            [
             0.5555555555555556,
             "#d8576b"
            ],
            [
             0.6666666666666666,
             "#ed7953"
            ],
            [
             0.7777777777777778,
             "#fb9f3a"
            ],
            [
             0.8888888888888888,
             "#fdca26"
            ],
            [
             1,
             "#f0f921"
            ]
           ]
          },
          "colorway": [
           "#636efa",
           "#EF553B",
           "#00cc96",
           "#ab63fa",
           "#FFA15A",
           "#19d3f3",
           "#FF6692",
           "#B6E880",
           "#FF97FF",
           "#FECB52"
          ],
          "font": {
           "color": "#2a3f5f"
          },
          "geo": {
           "bgcolor": "white",
           "lakecolor": "white",
           "landcolor": "#E5ECF6",
           "showlakes": true,
           "showland": true,
           "subunitcolor": "white"
          },
          "hoverlabel": {
           "align": "left"
          },
          "hovermode": "closest",
          "mapbox": {
           "style": "light"
          },
          "paper_bgcolor": "white",
          "plot_bgcolor": "#E5ECF6",
          "polar": {
           "angularaxis": {
            "gridcolor": "white",
            "linecolor": "white",
            "ticks": ""
           },
           "bgcolor": "#E5ECF6",
           "radialaxis": {
            "gridcolor": "white",
            "linecolor": "white",
            "ticks": ""
           }
          },
          "scene": {
           "xaxis": {
            "backgroundcolor": "#E5ECF6",
            "gridcolor": "white",
            "gridwidth": 2,
            "linecolor": "white",
            "showbackground": true,
            "ticks": "",
            "zerolinecolor": "white"
           },
           "yaxis": {
            "backgroundcolor": "#E5ECF6",
            "gridcolor": "white",
            "gridwidth": 2,
            "linecolor": "white",
            "showbackground": true,
            "ticks": "",
            "zerolinecolor": "white"
           },
           "zaxis": {
            "backgroundcolor": "#E5ECF6",
            "gridcolor": "white",
            "gridwidth": 2,
            "linecolor": "white",
            "showbackground": true,
            "ticks": "",
            "zerolinecolor": "white"
           }
          },
          "shapedefaults": {
           "line": {
            "color": "#2a3f5f"
           }
          },
          "ternary": {
           "aaxis": {
            "gridcolor": "white",
            "linecolor": "white",
            "ticks": ""
           },
           "baxis": {
            "gridcolor": "white",
            "linecolor": "white",
            "ticks": ""
           },
           "bgcolor": "#E5ECF6",
           "caxis": {
            "gridcolor": "white",
            "linecolor": "white",
            "ticks": ""
           }
          },
          "title": {
           "x": 0.05
          },
          "xaxis": {
           "automargin": true,
           "gridcolor": "white",
           "linecolor": "white",
           "ticks": "",
           "title": {
            "standoff": 15
           },
           "zerolinecolor": "white",
           "zerolinewidth": 2
          },
          "yaxis": {
           "automargin": true,
           "gridcolor": "white",
           "linecolor": "white",
           "ticks": "",
           "title": {
            "standoff": 15
           },
           "zerolinecolor": "white",
           "zerolinewidth": 2
          }
         }
        },
        "title": {
         "text": "Blurred full refit n=200, p=300"
        },
        "xaxis": {
         "anchor": "y",
         "domain": [
          0,
          1
         ],
         "tickmode": "array",
         "ticktext": [
          0.05,
          0.1,
          0.2,
          0.5,
          0.8,
          1
         ],
         "tickvals": [
          0,
          1,
          2,
          3,
          4,
          5
         ],
         "title": {
          "text": "Alpha"
         }
        },
        "yaxis": {
         "anchor": "x",
         "domain": [
          0,
          1
         ],
         "title": {
          "text": "Risk"
         }
        }
       }
      },
      "text/html": [
       "<div>                            <div id=\"b2e91b78-98f3-41ea-93da-e024637967cf\" class=\"plotly-graph-div\" style=\"height:525px; width:100%;\"></div>            <script type=\"text/javascript\">                require([\"plotly\"], function(Plotly) {                    window.PLOTLYENV=window.PLOTLYENV || {};                                    if (document.getElementById(\"b2e91b78-98f3-41ea-93da-e024637967cf\")) {                    Plotly.newPlot(                        \"b2e91b78-98f3-41ea-93da-e024637967cf\",                        [{\"alignmentgroup\":\"True\",\"boxpoints\":\"all\",\"hovertemplate\":\"Alpha=%{x}<br>Risk=%{y}<extra></extra>\",\"legendgroup\":\"\",\"marker\":{\"color\":\"#636efa\"},\"name\":\"\",\"notched\":false,\"offsetgroup\":\"\",\"orientation\":\"v\",\"showlegend\":false,\"x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x0\":\" \",\"xaxis\":\"x\",\"y\":[null,null,null,null,null,null,null,null,null,null,null,null,null,null,null,null,null,null,null,null,null,null,null,null,null,null,null,null,null,null,null,null,null,null,null,null,null,null,null,null,null,null,null,null,null,null,null,null,null,null,null,null,null,null,null,null,null,null,null,null,null,null,null,null,null,null,null,null,null,null,null,null,null,null,null,null,null,null,null,null,null,null,null,null,null,null,null,null,null,null,null,null,null,null,null,null,null,null,null,null,null,null,null,null,null,null,null,null,null,null,null,null,null,null,null,null,null,null,null,null,null,null,null,null,null,null,null,null,null,null,null,null,null,null,null,null,null,null,null,null,null,null,null,null,null,null,null,null,null,null,null,null,null,null,null,null,null,null,null,null,null,null,null,null,null,null,null,null,null,null,null,null,null,null,null,null,null,null,null,null,null,null,null,null,null,null,null,null,null,null,null,null,null,null,null,null,null,null,null,null,null,null,null,null,null,null,null,null,null,null,null,null,null,null,null,null,null,null,null,null,null,null,null,null,null,null,null,null,null,null,null,null,null,null,null,null,null,null,null,null,null,null,null,null,null,null,null,null,null,null,null,null,null,null,null,null,null,null,null,null,null,null,null,null,null,null,null,null,null,null,null,null,null,null,null,null,null,null,null,null,null,null,null,null,null,null,null,null,null,null,null,null,null,null,null,null,null,null,null,null,null,null,null,null,null,null,null,null,null,null,null,null,null,null,null,null,null,null,null,null,null,null,null,null,null,null,null,null,null,null,null,null,null,null,null,null,null,null,null,null,null,null,null,null,null,null,null,null,null,null,null,null,null,null,null,null,null,null,null,null,null,null,null,null,null,null,null,null,null,null,null,null,null,null,null,null,null,null,null,null,null,null,null,null,null,null,null,null,null,null,null,null,null,null,null,null,null,null,null,null,null,null,null,null,null,null,null,null,null,null,null,null,null,null,null,null,null,null,null,null,null,null,null,null,null,null,null,null,null,null,null,null,null,null,null,null,null,null,null,null,null,null,null,null,null,null,null,null,null,null,null,null,null,null,null,null,null,null,null,null,null,null,null,null,null,null,null,null,null,null,null,null,null,null,null,null,null,null,null,null,null,null,null,null,null,null,null,null,null,null,null,null,null,null,null,null,null,null,null,null,null,null,null,null,null,null,null,null,null,null,null,null,null,null,null,null,null,null,null,null,null,null,null,null,null,null,null,null,null,null,null,null,null,null,null,null,null,null,null,null,null,null,null,null,null,null,null,null,null,null,null,null,null,null,null,null,null,null,null,null,null,null,null,null,null,null,null,null,null,null,null,null,null,null,null,null,null,null,null,null,null,null,null,null,null,null,null,null,null,null,null,null,null,null,null,null,null,null,null,null],\"y0\":\" \",\"yaxis\":\"y\",\"type\":\"box\",\"boxmean\":true}],                        {\"template\":{\"data\":{\"bar\":[{\"error_x\":{\"color\":\"#2a3f5f\"},\"error_y\":{\"color\":\"#2a3f5f\"},\"marker\":{\"line\":{\"color\":\"#E5ECF6\",\"width\":0.5},\"pattern\":{\"fillmode\":\"overlay\",\"size\":10,\"solidity\":0.2}},\"type\":\"bar\"}],\"barpolar\":[{\"marker\":{\"line\":{\"color\":\"#E5ECF6\",\"width\":0.5},\"pattern\":{\"fillmode\":\"overlay\",\"size\":10,\"solidity\":0.2}},\"type\":\"barpolar\"}],\"carpet\":[{\"aaxis\":{\"endlinecolor\":\"#2a3f5f\",\"gridcolor\":\"white\",\"linecolor\":\"white\",\"minorgridcolor\":\"white\",\"startlinecolor\":\"#2a3f5f\"},\"baxis\":{\"endlinecolor\":\"#2a3f5f\",\"gridcolor\":\"white\",\"linecolor\":\"white\",\"minorgridcolor\":\"white\",\"startlinecolor\":\"#2a3f5f\"},\"type\":\"carpet\"}],\"choropleth\":[{\"colorbar\":{\"outlinewidth\":0,\"ticks\":\"\"},\"type\":\"choropleth\"}],\"contour\":[{\"colorbar\":{\"outlinewidth\":0,\"ticks\":\"\"},\"colorscale\":[[0.0,\"#0d0887\"],[0.1111111111111111,\"#46039f\"],[0.2222222222222222,\"#7201a8\"],[0.3333333333333333,\"#9c179e\"],[0.4444444444444444,\"#bd3786\"],[0.5555555555555556,\"#d8576b\"],[0.6666666666666666,\"#ed7953\"],[0.7777777777777778,\"#fb9f3a\"],[0.8888888888888888,\"#fdca26\"],[1.0,\"#f0f921\"]],\"type\":\"contour\"}],\"contourcarpet\":[{\"colorbar\":{\"outlinewidth\":0,\"ticks\":\"\"},\"type\":\"contourcarpet\"}],\"heatmap\":[{\"colorbar\":{\"outlinewidth\":0,\"ticks\":\"\"},\"colorscale\":[[0.0,\"#0d0887\"],[0.1111111111111111,\"#46039f\"],[0.2222222222222222,\"#7201a8\"],[0.3333333333333333,\"#9c179e\"],[0.4444444444444444,\"#bd3786\"],[0.5555555555555556,\"#d8576b\"],[0.6666666666666666,\"#ed7953\"],[0.7777777777777778,\"#fb9f3a\"],[0.8888888888888888,\"#fdca26\"],[1.0,\"#f0f921\"]],\"type\":\"heatmap\"}],\"heatmapgl\":[{\"colorbar\":{\"outlinewidth\":0,\"ticks\":\"\"},\"colorscale\":[[0.0,\"#0d0887\"],[0.1111111111111111,\"#46039f\"],[0.2222222222222222,\"#7201a8\"],[0.3333333333333333,\"#9c179e\"],[0.4444444444444444,\"#bd3786\"],[0.5555555555555556,\"#d8576b\"],[0.6666666666666666,\"#ed7953\"],[0.7777777777777778,\"#fb9f3a\"],[0.8888888888888888,\"#fdca26\"],[1.0,\"#f0f921\"]],\"type\":\"heatmapgl\"}],\"histogram\":[{\"marker\":{\"pattern\":{\"fillmode\":\"overlay\",\"size\":10,\"solidity\":0.2}},\"type\":\"histogram\"}],\"histogram2d\":[{\"colorbar\":{\"outlinewidth\":0,\"ticks\":\"\"},\"colorscale\":[[0.0,\"#0d0887\"],[0.1111111111111111,\"#46039f\"],[0.2222222222222222,\"#7201a8\"],[0.3333333333333333,\"#9c179e\"],[0.4444444444444444,\"#bd3786\"],[0.5555555555555556,\"#d8576b\"],[0.6666666666666666,\"#ed7953\"],[0.7777777777777778,\"#fb9f3a\"],[0.8888888888888888,\"#fdca26\"],[1.0,\"#f0f921\"]],\"type\":\"histogram2d\"}],\"histogram2dcontour\":[{\"colorbar\":{\"outlinewidth\":0,\"ticks\":\"\"},\"colorscale\":[[0.0,\"#0d0887\"],[0.1111111111111111,\"#46039f\"],[0.2222222222222222,\"#7201a8\"],[0.3333333333333333,\"#9c179e\"],[0.4444444444444444,\"#bd3786\"],[0.5555555555555556,\"#d8576b\"],[0.6666666666666666,\"#ed7953\"],[0.7777777777777778,\"#fb9f3a\"],[0.8888888888888888,\"#fdca26\"],[1.0,\"#f0f921\"]],\"type\":\"histogram2dcontour\"}],\"mesh3d\":[{\"colorbar\":{\"outlinewidth\":0,\"ticks\":\"\"},\"type\":\"mesh3d\"}],\"parcoords\":[{\"line\":{\"colorbar\":{\"outlinewidth\":0,\"ticks\":\"\"}},\"type\":\"parcoords\"}],\"pie\":[{\"automargin\":true,\"type\":\"pie\"}],\"scatter\":[{\"marker\":{\"colorbar\":{\"outlinewidth\":0,\"ticks\":\"\"}},\"type\":\"scatter\"}],\"scatter3d\":[{\"line\":{\"colorbar\":{\"outlinewidth\":0,\"ticks\":\"\"}},\"marker\":{\"colorbar\":{\"outlinewidth\":0,\"ticks\":\"\"}},\"type\":\"scatter3d\"}],\"scattercarpet\":[{\"marker\":{\"colorbar\":{\"outlinewidth\":0,\"ticks\":\"\"}},\"type\":\"scattercarpet\"}],\"scattergeo\":[{\"marker\":{\"colorbar\":{\"outlinewidth\":0,\"ticks\":\"\"}},\"type\":\"scattergeo\"}],\"scattergl\":[{\"marker\":{\"colorbar\":{\"outlinewidth\":0,\"ticks\":\"\"}},\"type\":\"scattergl\"}],\"scattermapbox\":[{\"marker\":{\"colorbar\":{\"outlinewidth\":0,\"ticks\":\"\"}},\"type\":\"scattermapbox\"}],\"scatterpolar\":[{\"marker\":{\"colorbar\":{\"outlinewidth\":0,\"ticks\":\"\"}},\"type\":\"scatterpolar\"}],\"scatterpolargl\":[{\"marker\":{\"colorbar\":{\"outlinewidth\":0,\"ticks\":\"\"}},\"type\":\"scatterpolargl\"}],\"scatterternary\":[{\"marker\":{\"colorbar\":{\"outlinewidth\":0,\"ticks\":\"\"}},\"type\":\"scatterternary\"}],\"surface\":[{\"colorbar\":{\"outlinewidth\":0,\"ticks\":\"\"},\"colorscale\":[[0.0,\"#0d0887\"],[0.1111111111111111,\"#46039f\"],[0.2222222222222222,\"#7201a8\"],[0.3333333333333333,\"#9c179e\"],[0.4444444444444444,\"#bd3786\"],[0.5555555555555556,\"#d8576b\"],[0.6666666666666666,\"#ed7953\"],[0.7777777777777778,\"#fb9f3a\"],[0.8888888888888888,\"#fdca26\"],[1.0,\"#f0f921\"]],\"type\":\"surface\"}],\"table\":[{\"cells\":{\"fill\":{\"color\":\"#EBF0F8\"},\"line\":{\"color\":\"white\"}},\"header\":{\"fill\":{\"color\":\"#C8D4E3\"},\"line\":{\"color\":\"white\"}},\"type\":\"table\"}]},\"layout\":{\"annotationdefaults\":{\"arrowcolor\":\"#2a3f5f\",\"arrowhead\":0,\"arrowwidth\":1},\"autotypenumbers\":\"strict\",\"coloraxis\":{\"colorbar\":{\"outlinewidth\":0,\"ticks\":\"\"}},\"colorscale\":{\"diverging\":[[0,\"#8e0152\"],[0.1,\"#c51b7d\"],[0.2,\"#de77ae\"],[0.3,\"#f1b6da\"],[0.4,\"#fde0ef\"],[0.5,\"#f7f7f7\"],[0.6,\"#e6f5d0\"],[0.7,\"#b8e186\"],[0.8,\"#7fbc41\"],[0.9,\"#4d9221\"],[1,\"#276419\"]],\"sequential\":[[0.0,\"#0d0887\"],[0.1111111111111111,\"#46039f\"],[0.2222222222222222,\"#7201a8\"],[0.3333333333333333,\"#9c179e\"],[0.4444444444444444,\"#bd3786\"],[0.5555555555555556,\"#d8576b\"],[0.6666666666666666,\"#ed7953\"],[0.7777777777777778,\"#fb9f3a\"],[0.8888888888888888,\"#fdca26\"],[1.0,\"#f0f921\"]],\"sequentialminus\":[[0.0,\"#0d0887\"],[0.1111111111111111,\"#46039f\"],[0.2222222222222222,\"#7201a8\"],[0.3333333333333333,\"#9c179e\"],[0.4444444444444444,\"#bd3786\"],[0.5555555555555556,\"#d8576b\"],[0.6666666666666666,\"#ed7953\"],[0.7777777777777778,\"#fb9f3a\"],[0.8888888888888888,\"#fdca26\"],[1.0,\"#f0f921\"]]},\"colorway\":[\"#636efa\",\"#EF553B\",\"#00cc96\",\"#ab63fa\",\"#FFA15A\",\"#19d3f3\",\"#FF6692\",\"#B6E880\",\"#FF97FF\",\"#FECB52\"],\"font\":{\"color\":\"#2a3f5f\"},\"geo\":{\"bgcolor\":\"white\",\"lakecolor\":\"white\",\"landcolor\":\"#E5ECF6\",\"showlakes\":true,\"showland\":true,\"subunitcolor\":\"white\"},\"hoverlabel\":{\"align\":\"left\"},\"hovermode\":\"closest\",\"mapbox\":{\"style\":\"light\"},\"paper_bgcolor\":\"white\",\"plot_bgcolor\":\"#E5ECF6\",\"polar\":{\"angularaxis\":{\"gridcolor\":\"white\",\"linecolor\":\"white\",\"ticks\":\"\"},\"bgcolor\":\"#E5ECF6\",\"radialaxis\":{\"gridcolor\":\"white\",\"linecolor\":\"white\",\"ticks\":\"\"}},\"scene\":{\"xaxis\":{\"backgroundcolor\":\"#E5ECF6\",\"gridcolor\":\"white\",\"gridwidth\":2,\"linecolor\":\"white\",\"showbackground\":true,\"ticks\":\"\",\"zerolinecolor\":\"white\"},\"yaxis\":{\"backgroundcolor\":\"#E5ECF6\",\"gridcolor\":\"white\",\"gridwidth\":2,\"linecolor\":\"white\",\"showbackground\":true,\"ticks\":\"\",\"zerolinecolor\":\"white\"},\"zaxis\":{\"backgroundcolor\":\"#E5ECF6\",\"gridcolor\":\"white\",\"gridwidth\":2,\"linecolor\":\"white\",\"showbackground\":true,\"ticks\":\"\",\"zerolinecolor\":\"white\"}},\"shapedefaults\":{\"line\":{\"color\":\"#2a3f5f\"}},\"ternary\":{\"aaxis\":{\"gridcolor\":\"white\",\"linecolor\":\"white\",\"ticks\":\"\"},\"baxis\":{\"gridcolor\":\"white\",\"linecolor\":\"white\",\"ticks\":\"\"},\"bgcolor\":\"#E5ECF6\",\"caxis\":{\"gridcolor\":\"white\",\"linecolor\":\"white\",\"ticks\":\"\"}},\"title\":{\"x\":0.05},\"xaxis\":{\"automargin\":true,\"gridcolor\":\"white\",\"linecolor\":\"white\",\"ticks\":\"\",\"title\":{\"standoff\":15},\"zerolinecolor\":\"white\",\"zerolinewidth\":2},\"yaxis\":{\"automargin\":true,\"gridcolor\":\"white\",\"linecolor\":\"white\",\"ticks\":\"\",\"title\":{\"standoff\":15},\"zerolinecolor\":\"white\",\"zerolinewidth\":2}}},\"xaxis\":{\"anchor\":\"y\",\"domain\":[0.0,1.0],\"title\":{\"text\":\"Alpha\"},\"tickmode\":\"array\",\"tickvals\":[0,1,2,3,4,5],\"ticktext\":[0.05,0.1,0.2,0.5,0.8,1.0]},\"yaxis\":{\"anchor\":\"x\",\"domain\":[0.0,1.0],\"title\":{\"text\":\"Risk\"}},\"legend\":{\"tracegroupgap\":0},\"title\":{\"text\":\"Blurred full refit n=200, p=300\"},\"boxmode\":\"group\",\"shapes\":[{\"line\":{\"color\":\"red\"},\"type\":\"line\",\"x0\":0,\"x1\":1,\"xref\":\"x domain\",\"y0\":0.0,\"y1\":0.0,\"yref\":\"y\"}]},                        {\"responsive\": true}                    ).then(function(){\n",
       "                            \n",
       "var gd = document.getElementById('b2e91b78-98f3-41ea-93da-e024637967cf');\n",
       "var x = new MutationObserver(function (mutations, observer) {{\n",
       "        var display = window.getComputedStyle(gd).display;\n",
       "        if (!display || display === 'none') {{\n",
       "            console.log([gd, 'removed!']);\n",
       "            Plotly.purge(gd);\n",
       "            observer.disconnect();\n",
       "        }}\n",
       "}});\n",
       "\n",
       "// Listen for the removal of the full notebook cells\n",
       "var notebookContainer = gd.closest('#notebook-container');\n",
       "if (notebookContainer) {{\n",
       "    x.observe(notebookContainer, {childList: true});\n",
       "}}\n",
       "\n",
       "// Listen for the clearing of the current output cell\n",
       "var outputEl = gd.closest('.output');\n",
       "if (outputEl) {{\n",
       "    x.observe(outputEl, {childList: true});\n",
       "}}\n",
       "\n",
       "                        })                };                });            </script>        </div>"
      ]
     },
     "metadata": {},
     "output_type": "display_data"
    }
   ],
   "source": [
    "fig_blur = px.box((blur_df - test_err.mean(1))/test_err.mean(1), \n",
    "                  labels={\n",
    "                         \"variable\": \"Alpha\",\n",
    "                         \"value\": \"Risk\"\n",
    "                         },\n",
    "                  points='all',\n",
    "                  title=f\"Blurred full refit n={n}, p={p}\")\n",
    "fig_blur.update_traces(boxmean=True)\n",
    "# fig_blur.add_trace(go.Scatter(x=[-1,na], \n",
    "#                          y=[test_err.mean(),test_err.mean()], \n",
    "#                          mode='lines', \n",
    "#                          name=f'err: {test_err.mean():.2f}'))\n",
    "fig_blur.add_hline(y=0.,line_color='red')\n",
    "fig_blur.update_layout(\n",
    "    xaxis = dict(\n",
    "        tickmode = 'array',\n",
    "        tickvals = np.arange(na),\n",
    "        ticktext = alphas,\n",
    "    )\n",
    ")"
   ]
  },
  {
   "cell_type": "code",
   "execution_count": null,
   "metadata": {},
   "outputs": [],
   "source": []
  },
  {
   "cell_type": "code",
   "execution_count": 26,
   "metadata": {},
   "outputs": [
    {
     "name": "stdout",
     "output_type": "stream",
     "text": [
      "0\n",
      "1\n",
      "2\n",
      "3\n",
      "4\n",
      "5\n"
     ]
    }
   ],
   "source": [
    "test_err_rand = np.zeros((na, niter))\n",
    "blur_err_rand = np.zeros((na, niter))\n",
    "\n",
    "X = np.random.randn(n,p)\n",
    "beta = np.zeros(p)\n",
    "idx = np.random.choice(p,size=s)\n",
    "beta[idx] = np.random.uniform(-1,1,size=s)\n",
    "\n",
    "for i,alpha in enumerate(alphas):\n",
    "    print(i)\n",
    "    (test_err_rand[i,:],\n",
    "     blur_err_rand[i,:]) = err_cmp.compareForest(n=n,\n",
    "                                         p=p,\n",
    "                                         X=X,\n",
    "                                         beta=beta,\n",
    "                                         Chol_t=Chol_t,\n",
    "                                         Theta_p=Theta_p,\n",
    "                                         model=BlurredForest(max_depth=4, \n",
    "                                                             max_features=\"sqrt\",\n",
    "                                                             n_estimators=n_estimators),\n",
    "                                         alpha=alpha,\n",
    "                                         niter=niter,\n",
    "                                         use_expectation=False,\n",
    "                                         rand_type='full',\n",
    "                                         est_risk=False)\n",
    "    "
   ]
  },
  {
   "cell_type": "code",
   "execution_count": 27,
   "metadata": {},
   "outputs": [],
   "source": [
    "risk = test_err_rand.mean(axis=1)"
   ]
  },
  {
   "cell_type": "code",
   "execution_count": 28,
   "metadata": {},
   "outputs": [],
   "source": [
    "blur_df_rand = pd.DataFrame((blur_err_rand.T))# - test_err_rand.T)/test_err_rand.T)"
   ]
  },
  {
   "cell_type": "code",
   "execution_count": 29,
   "metadata": {
    "scrolled": false
   },
   "outputs": [
    {
     "data": {
      "application/vnd.plotly.v1+json": {
       "config": {
        "plotlyServerURL": "https://plot.ly"
       },
       "data": [
        {
         "alignmentgroup": "True",
         "boxmean": true,
         "boxpoints": false,
         "hovertemplate": "Alpha=%{x}<br>Risk=%{y}<extra></extra>",
         "legendgroup": "",
         "marker": {
          "color": "#636efa"
         },
         "name": "",
         "notched": false,
         "offsetgroup": "",
         "orientation": "v",
         "showlegend": false,
         "type": "box",
         "x": [
          "0",
          "0",
          "0",
          "0",
          "0",
          "0",
          "0",
          "0",
          "0",
          "0",
          "0",
          "0",
          "0",
          "0",
          "0",
          "0",
          "0",
          "0",
          "0",
          "0",
          "0",
          "0",
          "0",
          "0",
          "0",
          "0",
          "0",
          "0",
          "0",
          "0",
          "0",
          "0",
          "0",
          "0",
          "0",
          "0",
          "0",
          "0",
          "0",
          "0",
          "0",
          "0",
          "0",
          "0",
          "0",
          "0",
          "0",
          "0",
          "0",
          "0",
          "0",
          "0",
          "0",
          "0",
          "0",
          "0",
          "0",
          "0",
          "0",
          "0",
          "0",
          "0",
          "0",
          "0",
          "0",
          "0",
          "0",
          "0",
          "0",
          "0",
          "0",
          "0",
          "0",
          "0",
          "0",
          "0",
          "0",
          "0",
          "0",
          "0",
          "0",
          "0",
          "0",
          "0",
          "0",
          "0",
          "0",
          "0",
          "0",
          "0",
          "0",
          "0",
          "0",
          "0",
          "0",
          "0",
          "0",
          "0",
          "0",
          "0",
          "1",
          "1",
          "1",
          "1",
          "1",
          "1",
          "1",
          "1",
          "1",
          "1",
          "1",
          "1",
          "1",
          "1",
          "1",
          "1",
          "1",
          "1",
          "1",
          "1",
          "1",
          "1",
          "1",
          "1",
          "1",
          "1",
          "1",
          "1",
          "1",
          "1",
          "1",
          "1",
          "1",
          "1",
          "1",
          "1",
          "1",
          "1",
          "1",
          "1",
          "1",
          "1",
          "1",
          "1",
          "1",
          "1",
          "1",
          "1",
          "1",
          "1",
          "1",
          "1",
          "1",
          "1",
          "1",
          "1",
          "1",
          "1",
          "1",
          "1",
          "1",
          "1",
          "1",
          "1",
          "1",
          "1",
          "1",
          "1",
          "1",
          "1",
          "1",
          "1",
          "1",
          "1",
          "1",
          "1",
          "1",
          "1",
          "1",
          "1",
          "1",
          "1",
          "1",
          "1",
          "1",
          "1",
          "1",
          "1",
          "1",
          "1",
          "1",
          "1",
          "1",
          "1",
          "1",
          "1",
          "1",
          "1",
          "1",
          "1",
          "2",
          "2",
          "2",
          "2",
          "2",
          "2",
          "2",
          "2",
          "2",
          "2",
          "2",
          "2",
          "2",
          "2",
          "2",
          "2",
          "2",
          "2",
          "2",
          "2",
          "2",
          "2",
          "2",
          "2",
          "2",
          "2",
          "2",
          "2",
          "2",
          "2",
          "2",
          "2",
          "2",
          "2",
          "2",
          "2",
          "2",
          "2",
          "2",
          "2",
          "2",
          "2",
          "2",
          "2",
          "2",
          "2",
          "2",
          "2",
          "2",
          "2",
          "2",
          "2",
          "2",
          "2",
          "2",
          "2",
          "2",
          "2",
          "2",
          "2",
          "2",
          "2",
          "2",
          "2",
          "2",
          "2",
          "2",
          "2",
          "2",
          "2",
          "2",
          "2",
          "2",
          "2",
          "2",
          "2",
          "2",
          "2",
          "2",
          "2",
          "2",
          "2",
          "2",
          "2",
          "2",
          "2",
          "2",
          "2",
          "2",
          "2",
          "2",
          "2",
          "2",
          "2",
          "2",
          "2",
          "2",
          "2",
          "2",
          "2",
          "3",
          "3",
          "3",
          "3",
          "3",
          "3",
          "3",
          "3",
          "3",
          "3",
          "3",
          "3",
          "3",
          "3",
          "3",
          "3",
          "3",
          "3",
          "3",
          "3",
          "3",
          "3",
          "3",
          "3",
          "3",
          "3",
          "3",
          "3",
          "3",
          "3",
          "3",
          "3",
          "3",
          "3",
          "3",
          "3",
          "3",
          "3",
          "3",
          "3",
          "3",
          "3",
          "3",
          "3",
          "3",
          "3",
          "3",
          "3",
          "3",
          "3",
          "3",
          "3",
          "3",
          "3",
          "3",
          "3",
          "3",
          "3",
          "3",
          "3",
          "3",
          "3",
          "3",
          "3",
          "3",
          "3",
          "3",
          "3",
          "3",
          "3",
          "3",
          "3",
          "3",
          "3",
          "3",
          "3",
          "3",
          "3",
          "3",
          "3",
          "3",
          "3",
          "3",
          "3",
          "3",
          "3",
          "3",
          "3",
          "3",
          "3",
          "3",
          "3",
          "3",
          "3",
          "3",
          "3",
          "3",
          "3",
          "3",
          "3",
          "4",
          "4",
          "4",
          "4",
          "4",
          "4",
          "4",
          "4",
          "4",
          "4",
          "4",
          "4",
          "4",
          "4",
          "4",
          "4",
          "4",
          "4",
          "4",
          "4",
          "4",
          "4",
          "4",
          "4",
          "4",
          "4",
          "4",
          "4",
          "4",
          "4",
          "4",
          "4",
          "4",
          "4",
          "4",
          "4",
          "4",
          "4",
          "4",
          "4",
          "4",
          "4",
          "4",
          "4",
          "4",
          "4",
          "4",
          "4",
          "4",
          "4",
          "4",
          "4",
          "4",
          "4",
          "4",
          "4",
          "4",
          "4",
          "4",
          "4",
          "4",
          "4",
          "4",
          "4",
          "4",
          "4",
          "4",
          "4",
          "4",
          "4",
          "4",
          "4",
          "4",
          "4",
          "4",
          "4",
          "4",
          "4",
          "4",
          "4",
          "4",
          "4",
          "4",
          "4",
          "4",
          "4",
          "4",
          "4",
          "4",
          "4",
          "4",
          "4",
          "4",
          "4",
          "4",
          "4",
          "4",
          "4",
          "4",
          "4",
          "5",
          "5",
          "5",
          "5",
          "5",
          "5",
          "5",
          "5",
          "5",
          "5",
          "5",
          "5",
          "5",
          "5",
          "5",
          "5",
          "5",
          "5",
          "5",
          "5",
          "5",
          "5",
          "5",
          "5",
          "5",
          "5",
          "5",
          "5",
          "5",
          "5",
          "5",
          "5",
          "5",
          "5",
          "5",
          "5",
          "5",
          "5",
          "5",
          "5",
          "5",
          "5",
          "5",
          "5",
          "5",
          "5",
          "5",
          "5",
          "5",
          "5",
          "5",
          "5",
          "5",
          "5",
          "5",
          "5",
          "5",
          "5",
          "5",
          "5",
          "5",
          "5",
          "5",
          "5",
          "5",
          "5",
          "5",
          "5",
          "5",
          "5",
          "5",
          "5",
          "5",
          "5",
          "5",
          "5",
          "5",
          "5",
          "5",
          "5",
          "5",
          "5",
          "5",
          "5",
          "5",
          "5",
          "5",
          "5",
          "5",
          "5",
          "5",
          "5",
          "5",
          "5",
          "5",
          "5",
          "5",
          "5",
          "5",
          "5"
         ],
         "x0": " ",
         "xaxis": "x",
         "y": [
          0.2686361016243235,
          -0.07746146925041451,
          0.10512088902912116,
          0.25563660475128985,
          -0.03219548044849931,
          0.3129091825753701,
          -0.1582395801698099,
          0.2037706369892603,
          0.06716330138099703,
          -0.015311190713598093,
          0.15988875990974477,
          0.15561754818031706,
          -0.026554531675100173,
          0.003902008718637184,
          -0.33579880717030125,
          0.29794025905947774,
          0.1814375574852786,
          0.11405422573723871,
          -0.25776890310478356,
          0.3640527854535068,
          0.10294291162239716,
          0.015033805704861436,
          0.1610976342828808,
          -0.20978308085627195,
          0.2829639882054059,
          0.043051845965616765,
          -0.27748033939613626,
          0.1808264514340673,
          0.054993338290427705,
          0.46473353556527564,
          0.02352788560795673,
          0.13015977348332045,
          -0.03463874413390974,
          0.16360858802671666,
          -0.15614332894352206,
          -0.1364460040210914,
          0.10102184679249013,
          0.023137540432816593,
          -0.048410634568832,
          0.15219920935291192,
          0.08732852382061985,
          0.24046565988476234,
          0.11921323908929526,
          0.16194049218487883,
          0.3964815970695824,
          0.4259044542829566,
          0.21656853228074222,
          -0.08432049742859701,
          0.1609967810118921,
          0.08955810291331862,
          -0.05319071296922831,
          0.07797439946958444,
          0.3025800176384511,
          -0.07469277095968578,
          -0.24241515920185117,
          -0.0911734584494273,
          -0.16258854362067307,
          -0.02847669265367187,
          0.2267019797259677,
          0.3695674020549516,
          0.3597764202057144,
          -0.07315303487721371,
          0.07476642970751257,
          0.3985940589058838,
          -0.1735670574181463,
          0.025105353885107203,
          -0.014029249077902414,
          -0.02546643277917859,
          -0.14851976272359332,
          0.5441031543811251,
          0.1683537452718341,
          0.16658700245847707,
          0.004773967177602934,
          -0.28780270055571633,
          -0.13381208002825942,
          -0.18237656954069265,
          -0.2267833958653479,
          -0.006785211365562224,
          -0.017492472396738453,
          -0.14180855849331697,
          0.011368369335272719,
          0.03885072516124194,
          0.0644668423821184,
          -0.24422897622872305,
          0.15693834783831206,
          0.2270748515083326,
          -0.13797571509655737,
          -0.09602698324389201,
          0.32324830629025747,
          0.2607893631338771,
          -0.38718703108521224,
          0.2999174686299318,
          -0.013631436023705904,
          -0.0069964215766075135,
          -0.37104050938093897,
          0.273733100107825,
          -0.33792423395039106,
          -0.051671897631459233,
          0.19652176171097793,
          0.00785781797060406,
          0.07904827964105718,
          -0.11023240948611346,
          -0.031755733264390976,
          -0.07886407115587335,
          -0.1576346708424319,
          0.028642506823349817,
          0.19712444445621813,
          0.1642310437355375,
          -0.01573496485590766,
          -0.07377106115643066,
          0.27463763524904694,
          -0.04074589283612845,
          0.09379716147725921,
          0.021392542578146535,
          -0.11356421846198853,
          -0.10680821243699194,
          0.22856003662150115,
          0.29339507805596593,
          -0.09765173765473398,
          0.22507132545100936,
          0.05108362980506553,
          0.10485616138668348,
          -0.0788504607386614,
          0.024470255086097133,
          0.0540862267294728,
          -0.07091042517009148,
          -0.05110559039616567,
          0.15127642262891616,
          0.06475688353240866,
          -0.04723990231449025,
          0.0785719596586736,
          0.16315988366833856,
          -0.09977724993159161,
          0.1936699193477025,
          0.2122252935771217,
          0.06030062233337207,
          -0.17540971852359144,
          0.042818154667276585,
          0.05884613685834811,
          0.11252162001301211,
          0.15560155176712856,
          0.07286986089790419,
          0.2147605350581371,
          0.18237545946370387,
          0.007796093343680047,
          -0.07122974728531724,
          -0.055204883568616775,
          0.07507594151432305,
          -0.06504373405246375,
          0.050896240531856526,
          0.1287922716117045,
          -0.10248004789754818,
          -0.028173993919156114,
          -0.11789247995227499,
          0.15154177966285703,
          -0.010625780003482532,
          -0.09166488030957927,
          0.04122146227102439,
          0.12067107596545394,
          0.05585485749987558,
          0.20504615454382424,
          0.021302118404286988,
          -0.07480904256808257,
          0.1216616524245067,
          -0.09398638542631021,
          0.3563628249989555,
          0.04986146345301222,
          0.015563553673717064,
          -0.0011137203729917886,
          0.02772838247000083,
          -0.01122354097369631,
          0.2862181037611882,
          -0.06296941641690926,
          -0.10712338981863806,
          0.11952155285308237,
          -0.0818708941588848,
          -0.06003987661903761,
          0.2729380259632601,
          0.14594237587227413,
          0.1645011978777673,
          -0.14269395141248858,
          0.13213763203601528,
          0.03577675735876284,
          0.0501929272618379,
          -0.07097789256733987,
          0.14006211895479062,
          0.13098811377027206,
          -0.11588880968831952,
          0.1986237714316726,
          0.022631965321210513,
          -0.09378311593154365,
          0.030823106351877547,
          0.09608717141480304,
          0.08494786511957624,
          0.14298332769811029,
          0.1523541307959879,
          0.18002036966976817,
          0.10224448082314876,
          0.11386422282892815,
          -0.07603503268326078,
          -0.08990549129116436,
          -0.07390255311227416,
          0.03560811177877232,
          -0.05799865227179129,
          -0.0567955747746246,
          0.24195481543116676,
          0.22374764341210002,
          -0.026693616943474774,
          0.08209159871997525,
          -0.07105161741552518,
          0.080033275968741,
          0.245319869399164,
          0.12875243082644364,
          0.05711882393908766,
          0.04603445555820018,
          0.1267578095418514,
          0.011549927248864503,
          0.17829906548461366,
          -0.07107660253123006,
          0.00782494479231841,
          -0.15229347177705854,
          0.10681500470815798,
          -0.0445577357279205,
          0.06896125450844676,
          0.09544419145845177,
          0.05153063697973335,
          0.1286784585928618,
          0.010029062613114622,
          0.11947055652528449,
          0.10573106468754465,
          0.16972353998040904,
          0.1654896414642995,
          -0.036557157746014445,
          0.04871433075078886,
          -0.005437555671550603,
          -0.16187435767277633,
          0.17701343650001572,
          0.3018288797330746,
          -0.06751693294255004,
          -0.03594142156585287,
          0.1885862449793322,
          0.07845359222559468,
          -0.01238252832240698,
          0.08524422560188367,
          0.0015784238691917854,
          0.05373600886800848,
          -0.012218899861546506,
          0.12347547324199004,
          -0.17182963011543315,
          0.06349597989580441,
          0.06080522470585754,
          0.19618895030830116,
          0.12734013378456588,
          0.2070468478688185,
          -0.12788544713181443,
          0.16906029271562031,
          -0.12356322966593764,
          -0.1799344497084522,
          0.053136656646905096,
          0.14082744596699914,
          -0.08152212836462391,
          -0.14079379049020818,
          0.015950805756716886,
          0.03969423561946023,
          -0.00740067464444966,
          -0.04938372323838527,
          0.1299279514565663,
          -0.3107070147513836,
          0.011243235334029753,
          0.07557599860802561,
          -0.15390973419406215,
          0.07379062943983372,
          -0.031131622401641263,
          0.06562922111763775,
          -0.03704464561351862,
          0.16552587328903995,
          -0.011384587256868799,
          0.09461604008447634,
          0.17039759067036014,
          -0.010887581130931601,
          0.1106026888548605,
          -0.012753700630023738,
          -0.08676156910083137,
          -0.008632640689333103,
          0.1002557599817072,
          0.05206920653508578,
          -0.0072502681033022615,
          0.14592862276495525,
          0.08907144270117172,
          -0.10064756095959762,
          0.027740390116753912,
          0.19622307037044687,
          0.1810536721118501,
          0.16633331927835263,
          0.035564193239321425,
          0.051844533223241035,
          0.0681026492245762,
          -0.15635524086662042,
          -0.07822995960457664,
          -0.040223676664722305,
          0.03702033618715068,
          0.06197831510097449,
          0.058090985053961604,
          0.07888060525542595,
          0.15032484814995578,
          -0.056955670582935304,
          0.23220258358830245,
          0.08946604228474118,
          0.1489459487925294,
          -0.207958143886757,
          0.060518585195997995,
          -0.11984795499146521,
          0.13173401802117216,
          0.13555206576421264,
          0.09922938205417513,
          0.21204008472820432,
          0.10207376940837035,
          0.1496152754665957,
          0.10145562723662717,
          0.08278860418515349,
          0.20745821986312196,
          0.030561697584337896,
          0.10401119757112591,
          0.06478388726436664,
          0.03624552350567006,
          -0.04332743879391084,
          0.09270356376635046,
          -0.0027604985940303064,
          0.1371932040485475,
          0.1677820000312207,
          0.030325902120377647,
          0.06923611340319304,
          0.012155509537958227,
          -0.006060329989858344,
          0.06725561237356896,
          0.03067242907451592,
          0.01952867069916156,
          0.16450528418969598,
          0.08973071150625295,
          0.042958703516382625,
          -0.06782599627107579,
          0.1892583953910953,
          -0.022803948751847092,
          0.007373828054168418,
          0.02609641088690111,
          0.1506482473715198,
          0.06796284183588983,
          -0.034467922011640735,
          0.0788621720645141,
          0.15628718631205238,
          0.016407883989792777,
          -0.008087931594790751,
          0.06270808933517802,
          -0.07881549552118598,
          0.15833760398439636,
          0.09931462136703834,
          0.09284186213561843,
          0.0777171915478174,
          0.11208947571211064,
          0.1283480249272769,
          0.08415118395466435,
          0.13017676363471592,
          0.05674001859646407,
          0.07848922828684801,
          -0.019512347961174657,
          0.05067048432989676,
          0.15850435609202695,
          0.12871721648026976,
          -0.056949842438961604,
          0.2166303629375897,
          0.08109126382074634,
          -0.08908110356255768,
          0.12471674587787963,
          0.13481337912310762,
          0.1274443500932778,
          0.1028299925735365,
          0.049986245942280495,
          -0.003699962372840485,
          0.10837247077136482,
          -0.03194962357339844,
          0.08406545128802138,
          0.0306621801690651,
          0.18555535633940487,
          -0.07188722581297237,
          0.10769654844381833,
          0.23326362924693866,
          0.0806852862028748,
          0.0009416838346197542,
          0.0019693933506243575,
          -0.09524275737460386,
          0.08193786740720417,
          0.043282213576924744,
          0.0992159418836773,
          0.09114328818215525,
          -0.011719445596490203,
          0.05597901995550948,
          0.12137319083552418,
          0.02850454179947545,
          -0.01524294899417348,
          0.07398284633000099,
          0.07987190733736793,
          0.10408916088312466,
          -0.0032473113770757644,
          0.047925328698296646,
          0.16017845473568232,
          0.06099583214099622,
          0.1599136722114916,
          0.06399744786675017,
          0.10994398782223264,
          0.2055528862999413,
          0.14542844231564486,
          -0.0651789220256762,
          -0.006137720761080111,
          0.183448142732352,
          0.1346881766485364,
          0.10725570525816111,
          -0.018619687551197972,
          0.018028529921741154,
          0.06399080840806809,
          0.22498205875618602,
          0.15931983437976516,
          0.09125072532383283,
          0.13655634951646395,
          0.34448891556778477,
          -0.03446268651771014,
          -0.011302122221595923,
          0.09659517457771134,
          0.045990005815860144,
          0.14918162866043794,
          0.12329844199512743,
          0.01891517463104977,
          0.23206542744778058,
          -0.10814748337249644,
          0.12278852259878684,
          -0.07220819884624607,
          0.2516753477219555,
          0.08773227068354032,
          0.09230608301740169,
          0.07241411175488562,
          0.09173775053047983,
          0.027353259388135882,
          0.24116125687905338,
          0.06428508292053974,
          0.14799088601030488,
          -0.0027448499103665818,
          0.11177777958470594,
          -0.0026684874571450625,
          0.12944486658830326,
          0.040505219583272044,
          0.04664406397272888,
          0.06200715383123832,
          -0.0030823117423008323,
          0.06402256074798184,
          0.012902880417489567,
          0.21722658156993288,
          0.06461651380064037,
          -0.020134567209936158,
          0.238297752630719,
          0.14751203992670586,
          -0.030041265762778047,
          0.05937918561617209,
          0.33147387754075386,
          0.049655928761480006,
          0.08710449715596685,
          0.12405682499697063,
          0.07817286246383262,
          0.11329004828962155,
          0.05301157426029653,
          -0.06510988095831104,
          0.04686244624270477,
          0.1093514940980825,
          -0.03976319446564423,
          0.09798343981235957,
          0.07066959465490937,
          0.016183530631872386,
          0.18104048030482273,
          -0.009547958490948725,
          0.014426120079975143,
          0.06874960447915372,
          -0.05214420850491513,
          0.011046474778519501,
          0.004984460708004904,
          0.13078589484963826,
          0.1647890515228013,
          0.12172781101054278,
          0.09060564820904153,
          -0.00822185100525625,
          0.018692384535929567,
          -0.0362908869219102,
          0.08063186917161941,
          0.10293057958783414,
          0.04464813583613319,
          0.23464667336106765,
          0.11274628109014154,
          -0.011171100890302316,
          0.21345040825078093,
          0.08981472071105126,
          0.051749016715588285,
          -0.04556638340921043,
          0.19571131499942274,
          0.1428381439368304,
          0.06825925834158833,
          -0.016527624363739217,
          0.059351173345512466,
          0.10579086882439745,
          0.10286322719527376,
          -0.07898728398881108,
          0.24527750756401775,
          0.056646448341519696,
          0.02599962031765764,
          0.283942391973505,
          0.08597854627898896,
          -0.01321351844131277,
          0.042642380741460456,
          0.0787204298992867,
          0.07406197355085341,
          0.16789203607235273,
          0.23358671594700767,
          0.02535183202432928,
          -0.01894142140026467,
          0.076722290817079,
          0.022465798376007977,
          0.07084966949687257,
          0.027426174488400918,
          0.15023642292102166,
          0.2519292302224988,
          0.17338822455350997,
          0.044549976061200494,
          -0.002804474764656753,
          0.09854188526946042,
          -0.07304793382802346,
          0.12127969470285031,
          0.07831763222574577,
          0.12139883331636982,
          0.11576568046931154,
          0.2848179933205202,
          -0.032089184417048326,
          -0.037160835515423214,
          0.15137717901480138,
          0.18814857284926892,
          0.16468024092231257,
          -0.010830126871542433,
          0.12578780213303312,
          0.24196781670565867,
          0.0007366799882067806,
          0.08390594978395413,
          0.0016780144213072432,
          0.06886706905117619,
          -0.002711078986993165,
          0.10591856562010545,
          0.03246577748652931,
          0.2206513247443241,
          0.005464057723229005,
          0.017358855016178572,
          0.01247153240617407,
          0.05223437850240665,
          0.06036598661711572,
          0.009114671700587784,
          0.14822848540096145,
          0.06796340067806442,
          0.03568515547444107,
          0.16348728402731555,
          0.1414878453166893,
          0.11446948012065795,
          0.15153670268898173,
          0.06068414768759161,
          0.012130475895787824,
          0.18488988432422504,
          0.22850063834492795,
          0.08867691480485025,
          -0.005295962129004533,
          0.0744539949157739,
          0.01598660576888652,
          0.11326050465384015,
          0.13067982898795774,
          0.0866344171621754,
          0.08841680088288731,
          0.05975337652344063,
          -0.003305509629147308,
          0.14821505606159238,
          0.13065524595660577,
          -0.0797440628395802,
          0.12659945995171606,
          0.08815891849468681,
          -0.012932518122510927,
          0.12430224379540507,
          0.2022893203046075,
          0.0851078541876908,
          0.16186323535944613,
          0.13239949266842496,
          0.11333572796716061,
          0.044554569499551056,
          0.038105710279347706,
          -0.009665006790597926,
          0.15875310476609697,
          0.08828895478082778,
          0.038683970570933354,
          0.12301009099257819,
          0.10350110586969354,
          0.16860956890420242
         ],
         "y0": " ",
         "yaxis": "y"
        }
       ],
       "layout": {
        "boxmode": "group",
        "legend": {
         "tracegroupgap": 0
        },
        "shapes": [
         {
          "line": {
           "color": "red"
          },
          "type": "line",
          "x0": 0,
          "x1": 1,
          "xref": "x domain",
          "y0": 0,
          "y1": 0,
          "yref": "y"
         }
        ],
        "template": {
         "data": {
          "bar": [
           {
            "error_x": {
             "color": "#2a3f5f"
            },
            "error_y": {
             "color": "#2a3f5f"
            },
            "marker": {
             "line": {
              "color": "#E5ECF6",
              "width": 0.5
             },
             "pattern": {
              "fillmode": "overlay",
              "size": 10,
              "solidity": 0.2
             }
            },
            "type": "bar"
           }
          ],
          "barpolar": [
           {
            "marker": {
             "line": {
              "color": "#E5ECF6",
              "width": 0.5
             },
             "pattern": {
              "fillmode": "overlay",
              "size": 10,
              "solidity": 0.2
             }
            },
            "type": "barpolar"
           }
          ],
          "carpet": [
           {
            "aaxis": {
             "endlinecolor": "#2a3f5f",
             "gridcolor": "white",
             "linecolor": "white",
             "minorgridcolor": "white",
             "startlinecolor": "#2a3f5f"
            },
            "baxis": {
             "endlinecolor": "#2a3f5f",
             "gridcolor": "white",
             "linecolor": "white",
             "minorgridcolor": "white",
             "startlinecolor": "#2a3f5f"
            },
            "type": "carpet"
           }
          ],
          "choropleth": [
           {
            "colorbar": {
             "outlinewidth": 0,
             "ticks": ""
            },
            "type": "choropleth"
           }
          ],
          "contour": [
           {
            "colorbar": {
             "outlinewidth": 0,
             "ticks": ""
            },
            "colorscale": [
             [
              0,
              "#0d0887"
             ],
             [
              0.1111111111111111,
              "#46039f"
             ],
             [
              0.2222222222222222,
              "#7201a8"
             ],
             [
              0.3333333333333333,
              "#9c179e"
             ],
             [
              0.4444444444444444,
              "#bd3786"
             ],
             [
              0.5555555555555556,
              "#d8576b"
             ],
             [
              0.6666666666666666,
              "#ed7953"
             ],
             [
              0.7777777777777778,
              "#fb9f3a"
             ],
             [
              0.8888888888888888,
              "#fdca26"
             ],
             [
              1,
              "#f0f921"
             ]
            ],
            "type": "contour"
           }
          ],
          "contourcarpet": [
           {
            "colorbar": {
             "outlinewidth": 0,
             "ticks": ""
            },
            "type": "contourcarpet"
           }
          ],
          "heatmap": [
           {
            "colorbar": {
             "outlinewidth": 0,
             "ticks": ""
            },
            "colorscale": [
             [
              0,
              "#0d0887"
             ],
             [
              0.1111111111111111,
              "#46039f"
             ],
             [
              0.2222222222222222,
              "#7201a8"
             ],
             [
              0.3333333333333333,
              "#9c179e"
             ],
             [
              0.4444444444444444,
              "#bd3786"
             ],
             [
              0.5555555555555556,
              "#d8576b"
             ],
             [
              0.6666666666666666,
              "#ed7953"
             ],
             [
              0.7777777777777778,
              "#fb9f3a"
             ],
             [
              0.8888888888888888,
              "#fdca26"
             ],
             [
              1,
              "#f0f921"
             ]
            ],
            "type": "heatmap"
           }
          ],
          "heatmapgl": [
           {
            "colorbar": {
             "outlinewidth": 0,
             "ticks": ""
            },
            "colorscale": [
             [
              0,
              "#0d0887"
             ],
             [
              0.1111111111111111,
              "#46039f"
             ],
             [
              0.2222222222222222,
              "#7201a8"
             ],
             [
              0.3333333333333333,
              "#9c179e"
             ],
             [
              0.4444444444444444,
              "#bd3786"
             ],
             [
              0.5555555555555556,
              "#d8576b"
             ],
             [
              0.6666666666666666,
              "#ed7953"
             ],
             [
              0.7777777777777778,
              "#fb9f3a"
             ],
             [
              0.8888888888888888,
              "#fdca26"
             ],
             [
              1,
              "#f0f921"
             ]
            ],
            "type": "heatmapgl"
           }
          ],
          "histogram": [
           {
            "marker": {
             "pattern": {
              "fillmode": "overlay",
              "size": 10,
              "solidity": 0.2
             }
            },
            "type": "histogram"
           }
          ],
          "histogram2d": [
           {
            "colorbar": {
             "outlinewidth": 0,
             "ticks": ""
            },
            "colorscale": [
             [
              0,
              "#0d0887"
             ],
             [
              0.1111111111111111,
              "#46039f"
             ],
             [
              0.2222222222222222,
              "#7201a8"
             ],
             [
              0.3333333333333333,
              "#9c179e"
             ],
             [
              0.4444444444444444,
              "#bd3786"
             ],
             [
              0.5555555555555556,
              "#d8576b"
             ],
             [
              0.6666666666666666,
              "#ed7953"
             ],
             [
              0.7777777777777778,
              "#fb9f3a"
             ],
             [
              0.8888888888888888,
              "#fdca26"
             ],
             [
              1,
              "#f0f921"
             ]
            ],
            "type": "histogram2d"
           }
          ],
          "histogram2dcontour": [
           {
            "colorbar": {
             "outlinewidth": 0,
             "ticks": ""
            },
            "colorscale": [
             [
              0,
              "#0d0887"
             ],
             [
              0.1111111111111111,
              "#46039f"
             ],
             [
              0.2222222222222222,
              "#7201a8"
             ],
             [
              0.3333333333333333,
              "#9c179e"
             ],
             [
              0.4444444444444444,
              "#bd3786"
             ],
             [
              0.5555555555555556,
              "#d8576b"
             ],
             [
              0.6666666666666666,
              "#ed7953"
             ],
             [
              0.7777777777777778,
              "#fb9f3a"
             ],
             [
              0.8888888888888888,
              "#fdca26"
             ],
             [
              1,
              "#f0f921"
             ]
            ],
            "type": "histogram2dcontour"
           }
          ],
          "mesh3d": [
           {
            "colorbar": {
             "outlinewidth": 0,
             "ticks": ""
            },
            "type": "mesh3d"
           }
          ],
          "parcoords": [
           {
            "line": {
             "colorbar": {
              "outlinewidth": 0,
              "ticks": ""
             }
            },
            "type": "parcoords"
           }
          ],
          "pie": [
           {
            "automargin": true,
            "type": "pie"
           }
          ],
          "scatter": [
           {
            "marker": {
             "colorbar": {
              "outlinewidth": 0,
              "ticks": ""
             }
            },
            "type": "scatter"
           }
          ],
          "scatter3d": [
           {
            "line": {
             "colorbar": {
              "outlinewidth": 0,
              "ticks": ""
             }
            },
            "marker": {
             "colorbar": {
              "outlinewidth": 0,
              "ticks": ""
             }
            },
            "type": "scatter3d"
           }
          ],
          "scattercarpet": [
           {
            "marker": {
             "colorbar": {
              "outlinewidth": 0,
              "ticks": ""
             }
            },
            "type": "scattercarpet"
           }
          ],
          "scattergeo": [
           {
            "marker": {
             "colorbar": {
              "outlinewidth": 0,
              "ticks": ""
             }
            },
            "type": "scattergeo"
           }
          ],
          "scattergl": [
           {
            "marker": {
             "colorbar": {
              "outlinewidth": 0,
              "ticks": ""
             }
            },
            "type": "scattergl"
           }
          ],
          "scattermapbox": [
           {
            "marker": {
             "colorbar": {
              "outlinewidth": 0,
              "ticks": ""
             }
            },
            "type": "scattermapbox"
           }
          ],
          "scatterpolar": [
           {
            "marker": {
             "colorbar": {
              "outlinewidth": 0,
              "ticks": ""
             }
            },
            "type": "scatterpolar"
           }
          ],
          "scatterpolargl": [
           {
            "marker": {
             "colorbar": {
              "outlinewidth": 0,
              "ticks": ""
             }
            },
            "type": "scatterpolargl"
           }
          ],
          "scatterternary": [
           {
            "marker": {
             "colorbar": {
              "outlinewidth": 0,
              "ticks": ""
             }
            },
            "type": "scatterternary"
           }
          ],
          "surface": [
           {
            "colorbar": {
             "outlinewidth": 0,
             "ticks": ""
            },
            "colorscale": [
             [
              0,
              "#0d0887"
             ],
             [
              0.1111111111111111,
              "#46039f"
             ],
             [
              0.2222222222222222,
              "#7201a8"
             ],
             [
              0.3333333333333333,
              "#9c179e"
             ],
             [
              0.4444444444444444,
              "#bd3786"
             ],
             [
              0.5555555555555556,
              "#d8576b"
             ],
             [
              0.6666666666666666,
              "#ed7953"
             ],
             [
              0.7777777777777778,
              "#fb9f3a"
             ],
             [
              0.8888888888888888,
              "#fdca26"
             ],
             [
              1,
              "#f0f921"
             ]
            ],
            "type": "surface"
           }
          ],
          "table": [
           {
            "cells": {
             "fill": {
              "color": "#EBF0F8"
             },
             "line": {
              "color": "white"
             }
            },
            "header": {
             "fill": {
              "color": "#C8D4E3"
             },
             "line": {
              "color": "white"
             }
            },
            "type": "table"
           }
          ]
         },
         "layout": {
          "annotationdefaults": {
           "arrowcolor": "#2a3f5f",
           "arrowhead": 0,
           "arrowwidth": 1
          },
          "autotypenumbers": "strict",
          "coloraxis": {
           "colorbar": {
            "outlinewidth": 0,
            "ticks": ""
           }
          },
          "colorscale": {
           "diverging": [
            [
             0,
             "#8e0152"
            ],
            [
             0.1,
             "#c51b7d"
            ],
            [
             0.2,
             "#de77ae"
            ],
            [
             0.3,
             "#f1b6da"
            ],
            [
             0.4,
             "#fde0ef"
            ],
            [
             0.5,
             "#f7f7f7"
            ],
            [
             0.6,
             "#e6f5d0"
            ],
            [
             0.7,
             "#b8e186"
            ],
            [
             0.8,
             "#7fbc41"
            ],
            [
             0.9,
             "#4d9221"
            ],
            [
             1,
             "#276419"
            ]
           ],
           "sequential": [
            [
             0,
             "#0d0887"
            ],
            [
             0.1111111111111111,
             "#46039f"
            ],
            [
             0.2222222222222222,
             "#7201a8"
            ],
            [
             0.3333333333333333,
             "#9c179e"
            ],
            [
             0.4444444444444444,
             "#bd3786"
            ],
            [
             0.5555555555555556,
             "#d8576b"
            ],
            [
             0.6666666666666666,
             "#ed7953"
            ],
            [
             0.7777777777777778,
             "#fb9f3a"
            ],
            [
             0.8888888888888888,
             "#fdca26"
            ],
            [
             1,
             "#f0f921"
            ]
           ],
           "sequentialminus": [
            [
             0,
             "#0d0887"
            ],
            [
             0.1111111111111111,
             "#46039f"
            ],
            [
             0.2222222222222222,
             "#7201a8"
            ],
            [
             0.3333333333333333,
             "#9c179e"
            ],
            [
             0.4444444444444444,
             "#bd3786"
            ],
            [
             0.5555555555555556,
             "#d8576b"
            ],
            [
             0.6666666666666666,
             "#ed7953"
            ],
            [
             0.7777777777777778,
             "#fb9f3a"
            ],
            [
             0.8888888888888888,
             "#fdca26"
            ],
            [
             1,
             "#f0f921"
            ]
           ]
          },
          "colorway": [
           "#636efa",
           "#EF553B",
           "#00cc96",
           "#ab63fa",
           "#FFA15A",
           "#19d3f3",
           "#FF6692",
           "#B6E880",
           "#FF97FF",
           "#FECB52"
          ],
          "font": {
           "color": "#2a3f5f"
          },
          "geo": {
           "bgcolor": "white",
           "lakecolor": "white",
           "landcolor": "#E5ECF6",
           "showlakes": true,
           "showland": true,
           "subunitcolor": "white"
          },
          "hoverlabel": {
           "align": "left"
          },
          "hovermode": "closest",
          "mapbox": {
           "style": "light"
          },
          "paper_bgcolor": "white",
          "plot_bgcolor": "#E5ECF6",
          "polar": {
           "angularaxis": {
            "gridcolor": "white",
            "linecolor": "white",
            "ticks": ""
           },
           "bgcolor": "#E5ECF6",
           "radialaxis": {
            "gridcolor": "white",
            "linecolor": "white",
            "ticks": ""
           }
          },
          "scene": {
           "xaxis": {
            "backgroundcolor": "#E5ECF6",
            "gridcolor": "white",
            "gridwidth": 2,
            "linecolor": "white",
            "showbackground": true,
            "ticks": "",
            "zerolinecolor": "white"
           },
           "yaxis": {
            "backgroundcolor": "#E5ECF6",
            "gridcolor": "white",
            "gridwidth": 2,
            "linecolor": "white",
            "showbackground": true,
            "ticks": "",
            "zerolinecolor": "white"
           },
           "zaxis": {
            "backgroundcolor": "#E5ECF6",
            "gridcolor": "white",
            "gridwidth": 2,
            "linecolor": "white",
            "showbackground": true,
            "ticks": "",
            "zerolinecolor": "white"
           }
          },
          "shapedefaults": {
           "line": {
            "color": "#2a3f5f"
           }
          },
          "ternary": {
           "aaxis": {
            "gridcolor": "white",
            "linecolor": "white",
            "ticks": ""
           },
           "baxis": {
            "gridcolor": "white",
            "linecolor": "white",
            "ticks": ""
           },
           "bgcolor": "#E5ECF6",
           "caxis": {
            "gridcolor": "white",
            "linecolor": "white",
            "ticks": ""
           }
          },
          "title": {
           "x": 0.05
          },
          "xaxis": {
           "automargin": true,
           "gridcolor": "white",
           "linecolor": "white",
           "ticks": "",
           "title": {
            "standoff": 15
           },
           "zerolinecolor": "white",
           "zerolinewidth": 2
          },
          "yaxis": {
           "automargin": true,
           "gridcolor": "white",
           "linecolor": "white",
           "ticks": "",
           "title": {
            "standoff": 15
           },
           "zerolinecolor": "white",
           "zerolinewidth": 2
          }
         }
        },
        "title": {
         "text": "Blurred full refit rand correction n=200, p=300"
        },
        "xaxis": {
         "anchor": "y",
         "domain": [
          0,
          1
         ],
         "tickmode": "array",
         "ticktext": [
          0.05,
          0.1,
          0.2,
          0.5,
          0.8,
          1
         ],
         "tickvals": [
          0,
          1,
          2,
          3,
          4,
          5
         ],
         "title": {
          "text": "Alpha"
         }
        },
        "yaxis": {
         "anchor": "x",
         "domain": [
          0,
          1
         ],
         "title": {
          "text": "Risk"
         }
        }
       }
      },
      "text/html": [
       "<div>                            <div id=\"1ab8f5be-aaf2-4caa-ae06-22a00fa97642\" class=\"plotly-graph-div\" style=\"height:525px; width:100%;\"></div>            <script type=\"text/javascript\">                require([\"plotly\"], function(Plotly) {                    window.PLOTLYENV=window.PLOTLYENV || {};                                    if (document.getElementById(\"1ab8f5be-aaf2-4caa-ae06-22a00fa97642\")) {                    Plotly.newPlot(                        \"1ab8f5be-aaf2-4caa-ae06-22a00fa97642\",                        [{\"alignmentgroup\":\"True\",\"boxpoints\":false,\"hovertemplate\":\"Alpha=%{x}<br>Risk=%{y}<extra></extra>\",\"legendgroup\":\"\",\"marker\":{\"color\":\"#636efa\"},\"name\":\"\",\"notched\":false,\"offsetgroup\":\"\",\"orientation\":\"v\",\"showlegend\":false,\"x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x0\":\" \",\"xaxis\":\"x\",\"y\":[0.2686361016243235,-0.07746146925041451,0.10512088902912116,0.25563660475128985,-0.03219548044849931,0.3129091825753701,-0.1582395801698099,0.2037706369892603,0.06716330138099703,-0.015311190713598093,0.15988875990974477,0.15561754818031706,-0.026554531675100173,0.003902008718637184,-0.33579880717030125,0.29794025905947774,0.1814375574852786,0.11405422573723871,-0.25776890310478356,0.3640527854535068,0.10294291162239716,0.015033805704861436,0.1610976342828808,-0.20978308085627195,0.2829639882054059,0.043051845965616765,-0.27748033939613626,0.1808264514340673,0.054993338290427705,0.46473353556527564,0.02352788560795673,0.13015977348332045,-0.03463874413390974,0.16360858802671666,-0.15614332894352206,-0.1364460040210914,0.10102184679249013,0.023137540432816593,-0.048410634568832,0.15219920935291192,0.08732852382061985,0.24046565988476234,0.11921323908929526,0.16194049218487883,0.3964815970695824,0.4259044542829566,0.21656853228074222,-0.08432049742859701,0.1609967810118921,0.08955810291331862,-0.05319071296922831,0.07797439946958444,0.3025800176384511,-0.07469277095968578,-0.24241515920185117,-0.0911734584494273,-0.16258854362067307,-0.02847669265367187,0.2267019797259677,0.3695674020549516,0.3597764202057144,-0.07315303487721371,0.07476642970751257,0.3985940589058838,-0.1735670574181463,0.025105353885107203,-0.014029249077902414,-0.02546643277917859,-0.14851976272359332,0.5441031543811251,0.1683537452718341,0.16658700245847707,0.004773967177602934,-0.28780270055571633,-0.13381208002825942,-0.18237656954069265,-0.2267833958653479,-0.006785211365562224,-0.017492472396738453,-0.14180855849331697,0.011368369335272719,0.03885072516124194,0.0644668423821184,-0.24422897622872305,0.15693834783831206,0.2270748515083326,-0.13797571509655737,-0.09602698324389201,0.32324830629025747,0.2607893631338771,-0.38718703108521224,0.2999174686299318,-0.013631436023705904,-0.0069964215766075135,-0.37104050938093897,0.273733100107825,-0.33792423395039106,-0.051671897631459233,0.19652176171097793,0.00785781797060406,0.07904827964105718,-0.11023240948611346,-0.031755733264390976,-0.07886407115587335,-0.1576346708424319,0.028642506823349817,0.19712444445621813,0.1642310437355375,-0.01573496485590766,-0.07377106115643066,0.27463763524904694,-0.04074589283612845,0.09379716147725921,0.021392542578146535,-0.11356421846198853,-0.10680821243699194,0.22856003662150115,0.29339507805596593,-0.09765173765473398,0.22507132545100936,0.05108362980506553,0.10485616138668348,-0.0788504607386614,0.024470255086097133,0.0540862267294728,-0.07091042517009148,-0.05110559039616567,0.15127642262891616,0.06475688353240866,-0.04723990231449025,0.0785719596586736,0.16315988366833856,-0.09977724993159161,0.1936699193477025,0.2122252935771217,0.06030062233337207,-0.17540971852359144,0.042818154667276585,0.05884613685834811,0.11252162001301211,0.15560155176712856,0.07286986089790419,0.2147605350581371,0.18237545946370387,0.007796093343680047,-0.07122974728531724,-0.055204883568616775,0.07507594151432305,-0.06504373405246375,0.050896240531856526,0.1287922716117045,-0.10248004789754818,-0.028173993919156114,-0.11789247995227499,0.15154177966285703,-0.010625780003482532,-0.09166488030957927,0.04122146227102439,0.12067107596545394,0.05585485749987558,0.20504615454382424,0.021302118404286988,-0.07480904256808257,0.1216616524245067,-0.09398638542631021,0.3563628249989555,0.04986146345301222,0.015563553673717064,-0.0011137203729917886,0.02772838247000083,-0.01122354097369631,0.2862181037611882,-0.06296941641690926,-0.10712338981863806,0.11952155285308237,-0.0818708941588848,-0.06003987661903761,0.2729380259632601,0.14594237587227413,0.1645011978777673,-0.14269395141248858,0.13213763203601528,0.03577675735876284,0.0501929272618379,-0.07097789256733987,0.14006211895479062,0.13098811377027206,-0.11588880968831952,0.1986237714316726,0.022631965321210513,-0.09378311593154365,0.030823106351877547,0.09608717141480304,0.08494786511957624,0.14298332769811029,0.1523541307959879,0.18002036966976817,0.10224448082314876,0.11386422282892815,-0.07603503268326078,-0.08990549129116436,-0.07390255311227416,0.03560811177877232,-0.05799865227179129,-0.0567955747746246,0.24195481543116676,0.22374764341210002,-0.026693616943474774,0.08209159871997525,-0.07105161741552518,0.080033275968741,0.245319869399164,0.12875243082644364,0.05711882393908766,0.04603445555820018,0.1267578095418514,0.011549927248864503,0.17829906548461366,-0.07107660253123006,0.00782494479231841,-0.15229347177705854,0.10681500470815798,-0.0445577357279205,0.06896125450844676,0.09544419145845177,0.05153063697973335,0.1286784585928618,0.010029062613114622,0.11947055652528449,0.10573106468754465,0.16972353998040904,0.1654896414642995,-0.036557157746014445,0.04871433075078886,-0.005437555671550603,-0.16187435767277633,0.17701343650001572,0.3018288797330746,-0.06751693294255004,-0.03594142156585287,0.1885862449793322,0.07845359222559468,-0.01238252832240698,0.08524422560188367,0.0015784238691917854,0.05373600886800848,-0.012218899861546506,0.12347547324199004,-0.17182963011543315,0.06349597989580441,0.06080522470585754,0.19618895030830116,0.12734013378456588,0.2070468478688185,-0.12788544713181443,0.16906029271562031,-0.12356322966593764,-0.1799344497084522,0.053136656646905096,0.14082744596699914,-0.08152212836462391,-0.14079379049020818,0.015950805756716886,0.03969423561946023,-0.00740067464444966,-0.04938372323838527,0.1299279514565663,-0.3107070147513836,0.011243235334029753,0.07557599860802561,-0.15390973419406215,0.07379062943983372,-0.031131622401641263,0.06562922111763775,-0.03704464561351862,0.16552587328903995,-0.011384587256868799,0.09461604008447634,0.17039759067036014,-0.010887581130931601,0.1106026888548605,-0.012753700630023738,-0.08676156910083137,-0.008632640689333103,0.1002557599817072,0.05206920653508578,-0.0072502681033022615,0.14592862276495525,0.08907144270117172,-0.10064756095959762,0.027740390116753912,0.19622307037044687,0.1810536721118501,0.16633331927835263,0.035564193239321425,0.051844533223241035,0.0681026492245762,-0.15635524086662042,-0.07822995960457664,-0.040223676664722305,0.03702033618715068,0.06197831510097449,0.058090985053961604,0.07888060525542595,0.15032484814995578,-0.056955670582935304,0.23220258358830245,0.08946604228474118,0.1489459487925294,-0.207958143886757,0.060518585195997995,-0.11984795499146521,0.13173401802117216,0.13555206576421264,0.09922938205417513,0.21204008472820432,0.10207376940837035,0.1496152754665957,0.10145562723662717,0.08278860418515349,0.20745821986312196,0.030561697584337896,0.10401119757112591,0.06478388726436664,0.03624552350567006,-0.04332743879391084,0.09270356376635046,-0.0027604985940303064,0.1371932040485475,0.1677820000312207,0.030325902120377647,0.06923611340319304,0.012155509537958227,-0.006060329989858344,0.06725561237356896,0.03067242907451592,0.01952867069916156,0.16450528418969598,0.08973071150625295,0.042958703516382625,-0.06782599627107579,0.1892583953910953,-0.022803948751847092,0.007373828054168418,0.02609641088690111,0.1506482473715198,0.06796284183588983,-0.034467922011640735,0.0788621720645141,0.15628718631205238,0.016407883989792777,-0.008087931594790751,0.06270808933517802,-0.07881549552118598,0.15833760398439636,0.09931462136703834,0.09284186213561843,0.0777171915478174,0.11208947571211064,0.1283480249272769,0.08415118395466435,0.13017676363471592,0.05674001859646407,0.07848922828684801,-0.019512347961174657,0.05067048432989676,0.15850435609202695,0.12871721648026976,-0.056949842438961604,0.2166303629375897,0.08109126382074634,-0.08908110356255768,0.12471674587787963,0.13481337912310762,0.1274443500932778,0.1028299925735365,0.049986245942280495,-0.003699962372840485,0.10837247077136482,-0.03194962357339844,0.08406545128802138,0.0306621801690651,0.18555535633940487,-0.07188722581297237,0.10769654844381833,0.23326362924693866,0.0806852862028748,0.0009416838346197542,0.0019693933506243575,-0.09524275737460386,0.08193786740720417,0.043282213576924744,0.0992159418836773,0.09114328818215525,-0.011719445596490203,0.05597901995550948,0.12137319083552418,0.02850454179947545,-0.01524294899417348,0.07398284633000099,0.07987190733736793,0.10408916088312466,-0.0032473113770757644,0.047925328698296646,0.16017845473568232,0.06099583214099622,0.1599136722114916,0.06399744786675017,0.10994398782223264,0.2055528862999413,0.14542844231564486,-0.0651789220256762,-0.006137720761080111,0.183448142732352,0.1346881766485364,0.10725570525816111,-0.018619687551197972,0.018028529921741154,0.06399080840806809,0.22498205875618602,0.15931983437976516,0.09125072532383283,0.13655634951646395,0.34448891556778477,-0.03446268651771014,-0.011302122221595923,0.09659517457771134,0.045990005815860144,0.14918162866043794,0.12329844199512743,0.01891517463104977,0.23206542744778058,-0.10814748337249644,0.12278852259878684,-0.07220819884624607,0.2516753477219555,0.08773227068354032,0.09230608301740169,0.07241411175488562,0.09173775053047983,0.027353259388135882,0.24116125687905338,0.06428508292053974,0.14799088601030488,-0.0027448499103665818,0.11177777958470594,-0.0026684874571450625,0.12944486658830326,0.040505219583272044,0.04664406397272888,0.06200715383123832,-0.0030823117423008323,0.06402256074798184,0.012902880417489567,0.21722658156993288,0.06461651380064037,-0.020134567209936158,0.238297752630719,0.14751203992670586,-0.030041265762778047,0.05937918561617209,0.33147387754075386,0.049655928761480006,0.08710449715596685,0.12405682499697063,0.07817286246383262,0.11329004828962155,0.05301157426029653,-0.06510988095831104,0.04686244624270477,0.1093514940980825,-0.03976319446564423,0.09798343981235957,0.07066959465490937,0.016183530631872386,0.18104048030482273,-0.009547958490948725,0.014426120079975143,0.06874960447915372,-0.05214420850491513,0.011046474778519501,0.004984460708004904,0.13078589484963826,0.1647890515228013,0.12172781101054278,0.09060564820904153,-0.00822185100525625,0.018692384535929567,-0.0362908869219102,0.08063186917161941,0.10293057958783414,0.04464813583613319,0.23464667336106765,0.11274628109014154,-0.011171100890302316,0.21345040825078093,0.08981472071105126,0.051749016715588285,-0.04556638340921043,0.19571131499942274,0.1428381439368304,0.06825925834158833,-0.016527624363739217,0.059351173345512466,0.10579086882439745,0.10286322719527376,-0.07898728398881108,0.24527750756401775,0.056646448341519696,0.02599962031765764,0.283942391973505,0.08597854627898896,-0.01321351844131277,0.042642380741460456,0.0787204298992867,0.07406197355085341,0.16789203607235273,0.23358671594700767,0.02535183202432928,-0.01894142140026467,0.076722290817079,0.022465798376007977,0.07084966949687257,0.027426174488400918,0.15023642292102166,0.2519292302224988,0.17338822455350997,0.044549976061200494,-0.002804474764656753,0.09854188526946042,-0.07304793382802346,0.12127969470285031,0.07831763222574577,0.12139883331636982,0.11576568046931154,0.2848179933205202,-0.032089184417048326,-0.037160835515423214,0.15137717901480138,0.18814857284926892,0.16468024092231257,-0.010830126871542433,0.12578780213303312,0.24196781670565867,0.0007366799882067806,0.08390594978395413,0.0016780144213072432,0.06886706905117619,-0.002711078986993165,0.10591856562010545,0.03246577748652931,0.2206513247443241,0.005464057723229005,0.017358855016178572,0.01247153240617407,0.05223437850240665,0.06036598661711572,0.009114671700587784,0.14822848540096145,0.06796340067806442,0.03568515547444107,0.16348728402731555,0.1414878453166893,0.11446948012065795,0.15153670268898173,0.06068414768759161,0.012130475895787824,0.18488988432422504,0.22850063834492795,0.08867691480485025,-0.005295962129004533,0.0744539949157739,0.01598660576888652,0.11326050465384015,0.13067982898795774,0.0866344171621754,0.08841680088288731,0.05975337652344063,-0.003305509629147308,0.14821505606159238,0.13065524595660577,-0.0797440628395802,0.12659945995171606,0.08815891849468681,-0.012932518122510927,0.12430224379540507,0.2022893203046075,0.0851078541876908,0.16186323535944613,0.13239949266842496,0.11333572796716061,0.044554569499551056,0.038105710279347706,-0.009665006790597926,0.15875310476609697,0.08828895478082778,0.038683970570933354,0.12301009099257819,0.10350110586969354,0.16860956890420242],\"y0\":\" \",\"yaxis\":\"y\",\"type\":\"box\",\"boxmean\":true}],                        {\"template\":{\"data\":{\"bar\":[{\"error_x\":{\"color\":\"#2a3f5f\"},\"error_y\":{\"color\":\"#2a3f5f\"},\"marker\":{\"line\":{\"color\":\"#E5ECF6\",\"width\":0.5},\"pattern\":{\"fillmode\":\"overlay\",\"size\":10,\"solidity\":0.2}},\"type\":\"bar\"}],\"barpolar\":[{\"marker\":{\"line\":{\"color\":\"#E5ECF6\",\"width\":0.5},\"pattern\":{\"fillmode\":\"overlay\",\"size\":10,\"solidity\":0.2}},\"type\":\"barpolar\"}],\"carpet\":[{\"aaxis\":{\"endlinecolor\":\"#2a3f5f\",\"gridcolor\":\"white\",\"linecolor\":\"white\",\"minorgridcolor\":\"white\",\"startlinecolor\":\"#2a3f5f\"},\"baxis\":{\"endlinecolor\":\"#2a3f5f\",\"gridcolor\":\"white\",\"linecolor\":\"white\",\"minorgridcolor\":\"white\",\"startlinecolor\":\"#2a3f5f\"},\"type\":\"carpet\"}],\"choropleth\":[{\"colorbar\":{\"outlinewidth\":0,\"ticks\":\"\"},\"type\":\"choropleth\"}],\"contour\":[{\"colorbar\":{\"outlinewidth\":0,\"ticks\":\"\"},\"colorscale\":[[0.0,\"#0d0887\"],[0.1111111111111111,\"#46039f\"],[0.2222222222222222,\"#7201a8\"],[0.3333333333333333,\"#9c179e\"],[0.4444444444444444,\"#bd3786\"],[0.5555555555555556,\"#d8576b\"],[0.6666666666666666,\"#ed7953\"],[0.7777777777777778,\"#fb9f3a\"],[0.8888888888888888,\"#fdca26\"],[1.0,\"#f0f921\"]],\"type\":\"contour\"}],\"contourcarpet\":[{\"colorbar\":{\"outlinewidth\":0,\"ticks\":\"\"},\"type\":\"contourcarpet\"}],\"heatmap\":[{\"colorbar\":{\"outlinewidth\":0,\"ticks\":\"\"},\"colorscale\":[[0.0,\"#0d0887\"],[0.1111111111111111,\"#46039f\"],[0.2222222222222222,\"#7201a8\"],[0.3333333333333333,\"#9c179e\"],[0.4444444444444444,\"#bd3786\"],[0.5555555555555556,\"#d8576b\"],[0.6666666666666666,\"#ed7953\"],[0.7777777777777778,\"#fb9f3a\"],[0.8888888888888888,\"#fdca26\"],[1.0,\"#f0f921\"]],\"type\":\"heatmap\"}],\"heatmapgl\":[{\"colorbar\":{\"outlinewidth\":0,\"ticks\":\"\"},\"colorscale\":[[0.0,\"#0d0887\"],[0.1111111111111111,\"#46039f\"],[0.2222222222222222,\"#7201a8\"],[0.3333333333333333,\"#9c179e\"],[0.4444444444444444,\"#bd3786\"],[0.5555555555555556,\"#d8576b\"],[0.6666666666666666,\"#ed7953\"],[0.7777777777777778,\"#fb9f3a\"],[0.8888888888888888,\"#fdca26\"],[1.0,\"#f0f921\"]],\"type\":\"heatmapgl\"}],\"histogram\":[{\"marker\":{\"pattern\":{\"fillmode\":\"overlay\",\"size\":10,\"solidity\":0.2}},\"type\":\"histogram\"}],\"histogram2d\":[{\"colorbar\":{\"outlinewidth\":0,\"ticks\":\"\"},\"colorscale\":[[0.0,\"#0d0887\"],[0.1111111111111111,\"#46039f\"],[0.2222222222222222,\"#7201a8\"],[0.3333333333333333,\"#9c179e\"],[0.4444444444444444,\"#bd3786\"],[0.5555555555555556,\"#d8576b\"],[0.6666666666666666,\"#ed7953\"],[0.7777777777777778,\"#fb9f3a\"],[0.8888888888888888,\"#fdca26\"],[1.0,\"#f0f921\"]],\"type\":\"histogram2d\"}],\"histogram2dcontour\":[{\"colorbar\":{\"outlinewidth\":0,\"ticks\":\"\"},\"colorscale\":[[0.0,\"#0d0887\"],[0.1111111111111111,\"#46039f\"],[0.2222222222222222,\"#7201a8\"],[0.3333333333333333,\"#9c179e\"],[0.4444444444444444,\"#bd3786\"],[0.5555555555555556,\"#d8576b\"],[0.6666666666666666,\"#ed7953\"],[0.7777777777777778,\"#fb9f3a\"],[0.8888888888888888,\"#fdca26\"],[1.0,\"#f0f921\"]],\"type\":\"histogram2dcontour\"}],\"mesh3d\":[{\"colorbar\":{\"outlinewidth\":0,\"ticks\":\"\"},\"type\":\"mesh3d\"}],\"parcoords\":[{\"line\":{\"colorbar\":{\"outlinewidth\":0,\"ticks\":\"\"}},\"type\":\"parcoords\"}],\"pie\":[{\"automargin\":true,\"type\":\"pie\"}],\"scatter\":[{\"marker\":{\"colorbar\":{\"outlinewidth\":0,\"ticks\":\"\"}},\"type\":\"scatter\"}],\"scatter3d\":[{\"line\":{\"colorbar\":{\"outlinewidth\":0,\"ticks\":\"\"}},\"marker\":{\"colorbar\":{\"outlinewidth\":0,\"ticks\":\"\"}},\"type\":\"scatter3d\"}],\"scattercarpet\":[{\"marker\":{\"colorbar\":{\"outlinewidth\":0,\"ticks\":\"\"}},\"type\":\"scattercarpet\"}],\"scattergeo\":[{\"marker\":{\"colorbar\":{\"outlinewidth\":0,\"ticks\":\"\"}},\"type\":\"scattergeo\"}],\"scattergl\":[{\"marker\":{\"colorbar\":{\"outlinewidth\":0,\"ticks\":\"\"}},\"type\":\"scattergl\"}],\"scattermapbox\":[{\"marker\":{\"colorbar\":{\"outlinewidth\":0,\"ticks\":\"\"}},\"type\":\"scattermapbox\"}],\"scatterpolar\":[{\"marker\":{\"colorbar\":{\"outlinewidth\":0,\"ticks\":\"\"}},\"type\":\"scatterpolar\"}],\"scatterpolargl\":[{\"marker\":{\"colorbar\":{\"outlinewidth\":0,\"ticks\":\"\"}},\"type\":\"scatterpolargl\"}],\"scatterternary\":[{\"marker\":{\"colorbar\":{\"outlinewidth\":0,\"ticks\":\"\"}},\"type\":\"scatterternary\"}],\"surface\":[{\"colorbar\":{\"outlinewidth\":0,\"ticks\":\"\"},\"colorscale\":[[0.0,\"#0d0887\"],[0.1111111111111111,\"#46039f\"],[0.2222222222222222,\"#7201a8\"],[0.3333333333333333,\"#9c179e\"],[0.4444444444444444,\"#bd3786\"],[0.5555555555555556,\"#d8576b\"],[0.6666666666666666,\"#ed7953\"],[0.7777777777777778,\"#fb9f3a\"],[0.8888888888888888,\"#fdca26\"],[1.0,\"#f0f921\"]],\"type\":\"surface\"}],\"table\":[{\"cells\":{\"fill\":{\"color\":\"#EBF0F8\"},\"line\":{\"color\":\"white\"}},\"header\":{\"fill\":{\"color\":\"#C8D4E3\"},\"line\":{\"color\":\"white\"}},\"type\":\"table\"}]},\"layout\":{\"annotationdefaults\":{\"arrowcolor\":\"#2a3f5f\",\"arrowhead\":0,\"arrowwidth\":1},\"autotypenumbers\":\"strict\",\"coloraxis\":{\"colorbar\":{\"outlinewidth\":0,\"ticks\":\"\"}},\"colorscale\":{\"diverging\":[[0,\"#8e0152\"],[0.1,\"#c51b7d\"],[0.2,\"#de77ae\"],[0.3,\"#f1b6da\"],[0.4,\"#fde0ef\"],[0.5,\"#f7f7f7\"],[0.6,\"#e6f5d0\"],[0.7,\"#b8e186\"],[0.8,\"#7fbc41\"],[0.9,\"#4d9221\"],[1,\"#276419\"]],\"sequential\":[[0.0,\"#0d0887\"],[0.1111111111111111,\"#46039f\"],[0.2222222222222222,\"#7201a8\"],[0.3333333333333333,\"#9c179e\"],[0.4444444444444444,\"#bd3786\"],[0.5555555555555556,\"#d8576b\"],[0.6666666666666666,\"#ed7953\"],[0.7777777777777778,\"#fb9f3a\"],[0.8888888888888888,\"#fdca26\"],[1.0,\"#f0f921\"]],\"sequentialminus\":[[0.0,\"#0d0887\"],[0.1111111111111111,\"#46039f\"],[0.2222222222222222,\"#7201a8\"],[0.3333333333333333,\"#9c179e\"],[0.4444444444444444,\"#bd3786\"],[0.5555555555555556,\"#d8576b\"],[0.6666666666666666,\"#ed7953\"],[0.7777777777777778,\"#fb9f3a\"],[0.8888888888888888,\"#fdca26\"],[1.0,\"#f0f921\"]]},\"colorway\":[\"#636efa\",\"#EF553B\",\"#00cc96\",\"#ab63fa\",\"#FFA15A\",\"#19d3f3\",\"#FF6692\",\"#B6E880\",\"#FF97FF\",\"#FECB52\"],\"font\":{\"color\":\"#2a3f5f\"},\"geo\":{\"bgcolor\":\"white\",\"lakecolor\":\"white\",\"landcolor\":\"#E5ECF6\",\"showlakes\":true,\"showland\":true,\"subunitcolor\":\"white\"},\"hoverlabel\":{\"align\":\"left\"},\"hovermode\":\"closest\",\"mapbox\":{\"style\":\"light\"},\"paper_bgcolor\":\"white\",\"plot_bgcolor\":\"#E5ECF6\",\"polar\":{\"angularaxis\":{\"gridcolor\":\"white\",\"linecolor\":\"white\",\"ticks\":\"\"},\"bgcolor\":\"#E5ECF6\",\"radialaxis\":{\"gridcolor\":\"white\",\"linecolor\":\"white\",\"ticks\":\"\"}},\"scene\":{\"xaxis\":{\"backgroundcolor\":\"#E5ECF6\",\"gridcolor\":\"white\",\"gridwidth\":2,\"linecolor\":\"white\",\"showbackground\":true,\"ticks\":\"\",\"zerolinecolor\":\"white\"},\"yaxis\":{\"backgroundcolor\":\"#E5ECF6\",\"gridcolor\":\"white\",\"gridwidth\":2,\"linecolor\":\"white\",\"showbackground\":true,\"ticks\":\"\",\"zerolinecolor\":\"white\"},\"zaxis\":{\"backgroundcolor\":\"#E5ECF6\",\"gridcolor\":\"white\",\"gridwidth\":2,\"linecolor\":\"white\",\"showbackground\":true,\"ticks\":\"\",\"zerolinecolor\":\"white\"}},\"shapedefaults\":{\"line\":{\"color\":\"#2a3f5f\"}},\"ternary\":{\"aaxis\":{\"gridcolor\":\"white\",\"linecolor\":\"white\",\"ticks\":\"\"},\"baxis\":{\"gridcolor\":\"white\",\"linecolor\":\"white\",\"ticks\":\"\"},\"bgcolor\":\"#E5ECF6\",\"caxis\":{\"gridcolor\":\"white\",\"linecolor\":\"white\",\"ticks\":\"\"}},\"title\":{\"x\":0.05},\"xaxis\":{\"automargin\":true,\"gridcolor\":\"white\",\"linecolor\":\"white\",\"ticks\":\"\",\"title\":{\"standoff\":15},\"zerolinecolor\":\"white\",\"zerolinewidth\":2},\"yaxis\":{\"automargin\":true,\"gridcolor\":\"white\",\"linecolor\":\"white\",\"ticks\":\"\",\"title\":{\"standoff\":15},\"zerolinecolor\":\"white\",\"zerolinewidth\":2}}},\"xaxis\":{\"anchor\":\"y\",\"domain\":[0.0,1.0],\"title\":{\"text\":\"Alpha\"},\"tickmode\":\"array\",\"tickvals\":[0,1,2,3,4,5],\"ticktext\":[0.05,0.1,0.2,0.5,0.8,1.0]},\"yaxis\":{\"anchor\":\"x\",\"domain\":[0.0,1.0],\"title\":{\"text\":\"Risk\"}},\"legend\":{\"tracegroupgap\":0},\"title\":{\"text\":\"Blurred full refit rand correction n=200, p=300\"},\"boxmode\":\"group\",\"shapes\":[{\"line\":{\"color\":\"red\"},\"type\":\"line\",\"x0\":0,\"x1\":1,\"xref\":\"x domain\",\"y0\":0.0,\"y1\":0.0,\"yref\":\"y\"}]},                        {\"responsive\": true}                    ).then(function(){\n",
       "                            \n",
       "var gd = document.getElementById('1ab8f5be-aaf2-4caa-ae06-22a00fa97642');\n",
       "var x = new MutationObserver(function (mutations, observer) {{\n",
       "        var display = window.getComputedStyle(gd).display;\n",
       "        if (!display || display === 'none') {{\n",
       "            console.log([gd, 'removed!']);\n",
       "            Plotly.purge(gd);\n",
       "            observer.disconnect();\n",
       "        }}\n",
       "}});\n",
       "\n",
       "// Listen for the removal of the full notebook cells\n",
       "var notebookContainer = gd.closest('#notebook-container');\n",
       "if (notebookContainer) {{\n",
       "    x.observe(notebookContainer, {childList: true});\n",
       "}}\n",
       "\n",
       "// Listen for the clearing of the current output cell\n",
       "var outputEl = gd.closest('.output');\n",
       "if (outputEl) {{\n",
       "    x.observe(outputEl, {childList: true});\n",
       "}}\n",
       "\n",
       "                        })                };                });            </script>        </div>"
      ]
     },
     "metadata": {},
     "output_type": "display_data"
    }
   ],
   "source": [
    "fig_blur_rand = px.box((blur_df_rand - test_err_rand.mean(1))/test_err_rand.mean(1), \n",
    "                  labels={\n",
    "                         \"variable\": \"Alpha\",\n",
    "                         \"value\": \"Risk\"\n",
    "                         },\n",
    "                  points=False,\n",
    "                  title=f\"Blurred full refit rand correction n={n}, p={p}\")\n",
    "fig_blur_rand.update_traces(boxmean=True)\n",
    "# fig_blur.add_trace(go.Scatter(x=[-1,na], \n",
    "#                          y=[test_err_rand.mean(),test_err_rand.mean()], \n",
    "#                          mode='lines', \n",
    "#                          name=f'err: {test_err_rand.mean():.2f}'))\n",
    "fig_blur_rand.add_hline(y=0.,line_color='red')\n",
    "fig_blur_rand.update_layout(\n",
    "    xaxis = dict(\n",
    "        tickmode = 'array',\n",
    "        tickvals = np.arange(na),\n",
    "        ticktext = alphas,\n",
    "    )\n",
    ")"
   ]
  },
  {
   "cell_type": "code",
   "execution_count": null,
   "metadata": {},
   "outputs": [],
   "source": []
  },
  {
   "cell_type": "code",
   "execution_count": null,
   "metadata": {},
   "outputs": [],
   "source": []
  },
  {
   "cell_type": "code",
   "execution_count": null,
   "metadata": {},
   "outputs": [],
   "source": []
  },
  {
   "cell_type": "code",
   "execution_count": null,
   "metadata": {},
   "outputs": [],
   "source": []
  },
  {
   "cell_type": "code",
   "execution_count": null,
   "metadata": {},
   "outputs": [],
   "source": []
  },
  {
   "cell_type": "code",
   "execution_count": 30,
   "metadata": {},
   "outputs": [
    {
     "name": "stdout",
     "output_type": "stream",
     "text": [
      "0\n",
      "1\n",
      "2\n",
      "3\n",
      "4\n",
      "5\n"
     ]
    }
   ],
   "source": [
    "test_err_w = np.zeros((na, niter))\n",
    "blur_err_w = np.zeros((na, niter))\n",
    "\n",
    "X = np.random.randn(n,p)\n",
    "beta = np.zeros(p)\n",
    "idx = np.random.choice(p,size=s)\n",
    "beta[idx] = np.random.uniform(-1,1,size=s)\n",
    "\n",
    "for i,alpha in enumerate(alphas):\n",
    "    print(i)\n",
    "    (test_err_w[i,:],\n",
    "     blur_err_w[i,:]) = err_cmp.compareForest(n=n,\n",
    "                                         p=p,\n",
    "                                         X=X,\n",
    "                                         beta=beta,\n",
    "                                         Chol_t=Chol_t,\n",
    "                                         Theta_p=Theta_p,\n",
    "                                         model=BlurredForest(max_depth=4, \n",
    "                                                             max_features=\"sqrt\",\n",
    "                                                             n_estimators=n_estimators),\n",
    "                                         alpha=alpha,\n",
    "                                         niter=niter,\n",
    "                                         use_expectation=True,\n",
    "                                         rand_type='rand',\n",
    "                                         est_risk=False)\n",
    "    "
   ]
  },
  {
   "cell_type": "code",
   "execution_count": 31,
   "metadata": {},
   "outputs": [],
   "source": [
    "risk_w = test_err_w.mean(axis=1)"
   ]
  },
  {
   "cell_type": "code",
   "execution_count": 32,
   "metadata": {},
   "outputs": [],
   "source": [
    "blur_df_w = pd.DataFrame((blur_err_w.T))# - test_err_w.T)/test_err_w.T)"
   ]
  },
  {
   "cell_type": "code",
   "execution_count": 33,
   "metadata": {
    "scrolled": false
   },
   "outputs": [
    {
     "data": {
      "application/vnd.plotly.v1+json": {
       "config": {
        "plotlyServerURL": "https://plot.ly"
       },
       "data": [
        {
         "alignmentgroup": "True",
         "boxmean": true,
         "boxpoints": false,
         "hovertemplate": "Alpha=%{x}<br>Risk=%{y}<extra></extra>",
         "legendgroup": "",
         "marker": {
          "color": "#636efa"
         },
         "name": "",
         "notched": false,
         "offsetgroup": "",
         "orientation": "v",
         "showlegend": false,
         "type": "box",
         "x": [
          "0",
          "0",
          "0",
          "0",
          "0",
          "0",
          "0",
          "0",
          "0",
          "0",
          "0",
          "0",
          "0",
          "0",
          "0",
          "0",
          "0",
          "0",
          "0",
          "0",
          "0",
          "0",
          "0",
          "0",
          "0",
          "0",
          "0",
          "0",
          "0",
          "0",
          "0",
          "0",
          "0",
          "0",
          "0",
          "0",
          "0",
          "0",
          "0",
          "0",
          "0",
          "0",
          "0",
          "0",
          "0",
          "0",
          "0",
          "0",
          "0",
          "0",
          "0",
          "0",
          "0",
          "0",
          "0",
          "0",
          "0",
          "0",
          "0",
          "0",
          "0",
          "0",
          "0",
          "0",
          "0",
          "0",
          "0",
          "0",
          "0",
          "0",
          "0",
          "0",
          "0",
          "0",
          "0",
          "0",
          "0",
          "0",
          "0",
          "0",
          "0",
          "0",
          "0",
          "0",
          "0",
          "0",
          "0",
          "0",
          "0",
          "0",
          "0",
          "0",
          "0",
          "0",
          "0",
          "0",
          "0",
          "0",
          "0",
          "0",
          "1",
          "1",
          "1",
          "1",
          "1",
          "1",
          "1",
          "1",
          "1",
          "1",
          "1",
          "1",
          "1",
          "1",
          "1",
          "1",
          "1",
          "1",
          "1",
          "1",
          "1",
          "1",
          "1",
          "1",
          "1",
          "1",
          "1",
          "1",
          "1",
          "1",
          "1",
          "1",
          "1",
          "1",
          "1",
          "1",
          "1",
          "1",
          "1",
          "1",
          "1",
          "1",
          "1",
          "1",
          "1",
          "1",
          "1",
          "1",
          "1",
          "1",
          "1",
          "1",
          "1",
          "1",
          "1",
          "1",
          "1",
          "1",
          "1",
          "1",
          "1",
          "1",
          "1",
          "1",
          "1",
          "1",
          "1",
          "1",
          "1",
          "1",
          "1",
          "1",
          "1",
          "1",
          "1",
          "1",
          "1",
          "1",
          "1",
          "1",
          "1",
          "1",
          "1",
          "1",
          "1",
          "1",
          "1",
          "1",
          "1",
          "1",
          "1",
          "1",
          "1",
          "1",
          "1",
          "1",
          "1",
          "1",
          "1",
          "1",
          "2",
          "2",
          "2",
          "2",
          "2",
          "2",
          "2",
          "2",
          "2",
          "2",
          "2",
          "2",
          "2",
          "2",
          "2",
          "2",
          "2",
          "2",
          "2",
          "2",
          "2",
          "2",
          "2",
          "2",
          "2",
          "2",
          "2",
          "2",
          "2",
          "2",
          "2",
          "2",
          "2",
          "2",
          "2",
          "2",
          "2",
          "2",
          "2",
          "2",
          "2",
          "2",
          "2",
          "2",
          "2",
          "2",
          "2",
          "2",
          "2",
          "2",
          "2",
          "2",
          "2",
          "2",
          "2",
          "2",
          "2",
          "2",
          "2",
          "2",
          "2",
          "2",
          "2",
          "2",
          "2",
          "2",
          "2",
          "2",
          "2",
          "2",
          "2",
          "2",
          "2",
          "2",
          "2",
          "2",
          "2",
          "2",
          "2",
          "2",
          "2",
          "2",
          "2",
          "2",
          "2",
          "2",
          "2",
          "2",
          "2",
          "2",
          "2",
          "2",
          "2",
          "2",
          "2",
          "2",
          "2",
          "2",
          "2",
          "2",
          "3",
          "3",
          "3",
          "3",
          "3",
          "3",
          "3",
          "3",
          "3",
          "3",
          "3",
          "3",
          "3",
          "3",
          "3",
          "3",
          "3",
          "3",
          "3",
          "3",
          "3",
          "3",
          "3",
          "3",
          "3",
          "3",
          "3",
          "3",
          "3",
          "3",
          "3",
          "3",
          "3",
          "3",
          "3",
          "3",
          "3",
          "3",
          "3",
          "3",
          "3",
          "3",
          "3",
          "3",
          "3",
          "3",
          "3",
          "3",
          "3",
          "3",
          "3",
          "3",
          "3",
          "3",
          "3",
          "3",
          "3",
          "3",
          "3",
          "3",
          "3",
          "3",
          "3",
          "3",
          "3",
          "3",
          "3",
          "3",
          "3",
          "3",
          "3",
          "3",
          "3",
          "3",
          "3",
          "3",
          "3",
          "3",
          "3",
          "3",
          "3",
          "3",
          "3",
          "3",
          "3",
          "3",
          "3",
          "3",
          "3",
          "3",
          "3",
          "3",
          "3",
          "3",
          "3",
          "3",
          "3",
          "3",
          "3",
          "3",
          "4",
          "4",
          "4",
          "4",
          "4",
          "4",
          "4",
          "4",
          "4",
          "4",
          "4",
          "4",
          "4",
          "4",
          "4",
          "4",
          "4",
          "4",
          "4",
          "4",
          "4",
          "4",
          "4",
          "4",
          "4",
          "4",
          "4",
          "4",
          "4",
          "4",
          "4",
          "4",
          "4",
          "4",
          "4",
          "4",
          "4",
          "4",
          "4",
          "4",
          "4",
          "4",
          "4",
          "4",
          "4",
          "4",
          "4",
          "4",
          "4",
          "4",
          "4",
          "4",
          "4",
          "4",
          "4",
          "4",
          "4",
          "4",
          "4",
          "4",
          "4",
          "4",
          "4",
          "4",
          "4",
          "4",
          "4",
          "4",
          "4",
          "4",
          "4",
          "4",
          "4",
          "4",
          "4",
          "4",
          "4",
          "4",
          "4",
          "4",
          "4",
          "4",
          "4",
          "4",
          "4",
          "4",
          "4",
          "4",
          "4",
          "4",
          "4",
          "4",
          "4",
          "4",
          "4",
          "4",
          "4",
          "4",
          "4",
          "4",
          "5",
          "5",
          "5",
          "5",
          "5",
          "5",
          "5",
          "5",
          "5",
          "5",
          "5",
          "5",
          "5",
          "5",
          "5",
          "5",
          "5",
          "5",
          "5",
          "5",
          "5",
          "5",
          "5",
          "5",
          "5",
          "5",
          "5",
          "5",
          "5",
          "5",
          "5",
          "5",
          "5",
          "5",
          "5",
          "5",
          "5",
          "5",
          "5",
          "5",
          "5",
          "5",
          "5",
          "5",
          "5",
          "5",
          "5",
          "5",
          "5",
          "5",
          "5",
          "5",
          "5",
          "5",
          "5",
          "5",
          "5",
          "5",
          "5",
          "5",
          "5",
          "5",
          "5",
          "5",
          "5",
          "5",
          "5",
          "5",
          "5",
          "5",
          "5",
          "5",
          "5",
          "5",
          "5",
          "5",
          "5",
          "5",
          "5",
          "5",
          "5",
          "5",
          "5",
          "5",
          "5",
          "5",
          "5",
          "5",
          "5",
          "5",
          "5",
          "5",
          "5",
          "5",
          "5",
          "5",
          "5",
          "5",
          "5",
          "5"
         ],
         "x0": " ",
         "xaxis": "x",
         "y": [
          -0.46551437387348993,
          0.5327608476255579,
          -1.8097829863265096,
          -0.46619743130045826,
          -1.255434630442911,
          0.47445417262366063,
          0.33604037030829603,
          0.02315827153723924,
          -1.0995306364310817,
          0.9038835680539618,
          1.0242456536334947,
          -0.2583293154537849,
          0.21127989503986438,
          -0.1625217835385618,
          0.3716193576895389,
          -1.3475276583981504,
          0.42389546227157,
          0.6097462312636164,
          -0.21544574630218907,
          0.18145413438675595,
          6.916912502490012e-05,
          1.000911935089906,
          -1.7331819614607986,
          -0.5296147933557285,
          0.23973468892728686,
          -0.122290206340826,
          0.09702545749261553,
          0.3055123781288498,
          -0.04768808071179581,
          -0.5281089814373251,
          0.09046021252321004,
          -1.0075351957704273,
          -0.1375071937885226,
          0.5114411134218522,
          -0.7332327382320614,
          0.8383116002379368,
          1.4956678564772152,
          -0.8023013358947373,
          -0.9992672429945385,
          -1.1651080810584646,
          0.9446760559352821,
          -0.7701714783452965,
          -0.34335860201342444,
          0.8073476572933868,
          0.6305968497697161,
          0.47604052828038396,
          0.05448240679475874,
          -0.1729090958647276,
          -0.6455648279459237,
          -0.5786507106449085,
          0.4639934507423225,
          0.6157881636974852,
          -1.140005612878125,
          -0.5053882805140085,
          0.8860315252468404,
          0.358171773195677,
          0.8857684789164884,
          0.3399882103043685,
          -0.5322727752228082,
          0.7366218650543699,
          0.6180658736938193,
          -0.37757177350713017,
          -0.0593896376806985,
          -0.7062245938062808,
          0.6392054692341628,
          0.642539174471013,
          0.5453912838218405,
          0.6773210511563346,
          -0.2518719029607924,
          0.5409463854305907,
          0.5287315080858219,
          0.8617346734004868,
          0.34390113032963215,
          1.1354106449038062,
          -0.2289526520395617,
          0.718963322549186,
          -0.015370268197117969,
          -0.37749072001976763,
          0.18191583439228765,
          -1.760244371825487,
          -1.0454865842260548,
          0.18421538069859494,
          -0.20409361188066058,
          0.151840752356504,
          -1.1182769956037666,
          -0.9655758635971846,
          0.2578148709510869,
          0.05167646428759343,
          0.2038806816978634,
          -0.001418533958734141,
          -0.36407342065936277,
          1.055599997400359,
          0.013021565002489152,
          0.6436288671850177,
          -0.39905517619109493,
          0.32823896426930793,
          0.6255109556859805,
          0.3518122365254663,
          0.7491834091296238,
          -0.4460987963516264,
          0.2148781854684774,
          0.206413650811216,
          -0.010700587038524834,
          0.14341035881816439,
          -0.2245720356241374,
          -0.06878508989841166,
          0.05257930578292283,
          -0.19059586899846595,
          -0.5790545715313226,
          0.050505866985237534,
          0.13586124806908703,
          0.48703848909727215,
          -0.28381365499885053,
          -0.2484790240816446,
          -0.40998465715439614,
          0.543631653153062,
          -0.032934522876375404,
          -0.9572274353974835,
          0.19163310149650603,
          0.17061457756868637,
          -0.6821192287543189,
          0.048429681270008275,
          -0.720849361856251,
          0.36385249859468366,
          -0.175587109256442,
          -0.29376230242614576,
          0.09027284187069873,
          -0.660741039264928,
          -0.2532635614030634,
          -0.09350068831603137,
          -0.3351902583189536,
          -0.14693402536891165,
          0.7649009577977134,
          -0.10518050041538148,
          0.12260559867912842,
          0.12109070708890983,
          0.1083750291893027,
          -0.12470937505261642,
          -0.19650332338423873,
          -0.009851534316507805,
          -0.29438192487995457,
          0.09495833611082774,
          0.3304390047074432,
          0.5385309335770436,
          -0.5330176651514883,
          -0.01033843470500127,
          0.10647030182496423,
          0.3302592494823338,
          0.2672724462133016,
          -0.17322573513590983,
          -0.3845549226920485,
          0.28639052315724967,
          -0.026121127319502554,
          0.3240470113644172,
          -0.2551743090116884,
          0.16397847495601275,
          0.5020739362932106,
          0.06024659926474524,
          -0.5002551804969494,
          -0.1446630716958507,
          -0.14515207021756957,
          0.05922174743673861,
          -0.3427251199188093,
          0.2742434510714522,
          -0.46541846690467853,
          0.01860932637056559,
          -0.32960774525008035,
          0.016137727420097756,
          -0.1513186338416704,
          0.28696518997716897,
          0.14465507843116526,
          0.19989390496222317,
          -0.24457711900038834,
          -0.026435732382013258,
          -0.02032850098759362,
          0.1362776978808479,
          0.1098328836943986,
          -0.02612708702056467,
          0.28904708001741924,
          -0.3412139604257989,
          0.6016750647222284,
          0.7489176232677853,
          0.07269312074635063,
          0.40385993438288026,
          -0.09630081310041795,
          -0.4739062905829456,
          0.2238110125663681,
          -0.37188337110064484,
          -0.09913025671383437,
          -0.3544561052451644,
          -0.2975098456436476,
          0.08537592979685528,
          0.5373214839003256,
          0.021152912644482866,
          0.21596166185807053,
          -0.07138795699548785,
          -0.13552855756486515,
          0.6504860331905505,
          -0.1855783899852981,
          0.27046720060613255,
          0.09170830170901885,
          0.2753397419969264,
          0.27264833602839716,
          0.03802338553900485,
          0.26946434076268155,
          -0.0769454082381112,
          -0.15500413493874313,
          -0.3098956668785826,
          0.05381610266588939,
          0.25411701140431064,
          -0.16870679710102213,
          0.19715882465854165,
          -0.18993984423298887,
          -0.15816978329678028,
          0.10302240015287932,
          0.08753485962822075,
          0.009650113803501116,
          -0.1664142105466354,
          0.02461950075063638,
          -0.07057686178439536,
          0.22840016230857557,
          0.01617158283217647,
          0.012775388381452955,
          -0.21473557315104327,
          -0.2125693084419799,
          0.2422375084904625,
          -0.36395883114975364,
          -0.23314124029386918,
          0.4482969160295264,
          0.005949517203765068,
          0.03160147208593484,
          0.09188458410837165,
          0.20836176766409875,
          0.13596089165049197,
          0.2220549412920339,
          -0.022354276723515726,
          -0.01747334401058471,
          -0.2988547751273243,
          0.018822064380750677,
          -0.14696862945871086,
          0.21442494337001597,
          0.03938740901823255,
          0.0889180140832587,
          0.10630049783932922,
          -0.1950894871054394,
          -0.249177572101379,
          0.0588947110763438,
          -0.12428362879869571,
          -0.0934493153531378,
          0.19969652112501235,
          -0.22205907224081078,
          -0.096535076792621,
          -0.16099486239540572,
          0.02057773110202196,
          -0.06657312569728845,
          0.14774049579923418,
          0.35907222967906005,
          0.19636537885033478,
          -0.2557801371593004,
          0.22001739115835897,
          0.12523307611652365,
          -0.059411965285640855,
          0.3155600364840354,
          -0.036219038078279066,
          0.12121528358288129,
          -0.06212020662547869,
          0.1302444712126386,
          0.04892596454141168,
          0.3255945786102045,
          0.23469193536967728,
          -0.24079895042077937,
          0.2830803504964757,
          0.3276825301383608,
          0.07582463251331494,
          0.029467692587429165,
          0.10719125653272094,
          -0.17053711506900243,
          -0.06506833165009594,
          -0.22975404655283463,
          -0.00357411968343948,
          -0.0005697938611302863,
          0.19348294162852187,
          -0.07157754799895866,
          -0.1267306302207372,
          -0.5363367060569039,
          0.16105172626983066,
          -0.024195901000388643,
          -0.15505760576908786,
          -0.15766182259453618,
          0.4941555526896921,
          -0.16304971308310082,
          -0.16648525054851607,
          -0.09389684943597036,
          0.042363408149671544,
          -0.12897043988283874,
          0.0014931546552597993,
          0.0317930269778978,
          0.05560496862704785,
          -0.045968739453873524,
          0.06718947920193026,
          -0.0537681300934159,
          0.10278996905195348,
          0.2137865121946969,
          0.09190149092743927,
          -0.09076882026265641,
          0.18228770346663348,
          0.04560437289484006,
          -0.29404003740284296,
          -0.056517827799730413,
          0.10880994764889108,
          -0.03725197530990972,
          0.209898431438293,
          0.003554982459782807,
          -0.3223440077457473,
          0.04156720508726178,
          0.04639438321951566,
          -0.12294577183585374,
          0.05330478116846821,
          -0.22460213519962888,
          -0.0858706767223745,
          -0.061294112040986594,
          0.05692420893807651,
          0.05775666022849265,
          -0.009500620740107806,
          -0.014012158997985868,
          -0.03145715792737627,
          -0.09693118565688558,
          -0.14451846790564282,
          -0.0012003958471209497,
          -0.023124179664717363,
          -0.01521139062059292,
          -0.08726004677256143,
          0.14612171771425778,
          -0.00037813571034519335,
          0.07587463154569031,
          0.05360119685914896,
          0.032008348329026735,
          0.06448474293777363,
          0.06322477795993703,
          -0.023846243931552102,
          0.22310001457929876,
          0.036184932781176946,
          0.08452829905897838,
          -0.2781015991967301,
          0.14132070330354424,
          0.09012749027849515,
          -0.16778479469361388,
          0.4034107349846599,
          -0.011435170048495548,
          -0.04594550485053447,
          0.006643165833109837,
          0.17823989956615288,
          0.25477891970516225,
          0.033335922487871275,
          0.0560735828035614,
          -0.058515207166784225,
          0.039736425306312606,
          0.21403348198741973,
          0.06639679283866569,
          0.04611641112499322,
          0.1617310746129664,
          0.10372923923105588,
          0.014344261005038399,
          0.17185852942816532,
          -0.11787623000356012,
          0.0583562984533204,
          0.1363141565709731,
          -0.06483999154816456,
          0.0503464925717635,
          0.06006540109300838,
          -0.12720906819710473,
          -0.09755864176480526,
          -0.052293113700993564,
          0.00877350163893487,
          -0.028234251935908245,
          -0.04473371925849718,
          -0.00885801831218325,
          0.02734599603272748,
          -0.08229423542394657,
          -0.0006364347015865488,
          -0.009945403419384179,
          0.049743759041619116,
          0.03953129317152636,
          0.1080077558310822,
          0.08570681613576422,
          -0.0351551572817545,
          -0.1347180954304447,
          0.050666665228692384,
          0.03269191177535765,
          0.0694878640559398,
          -0.044389938312800636,
          0.1329269177568125,
          -0.08168056388847134,
          0.07363396903627581,
          0.1546445913264162,
          0.29570312426428497,
          0.186111790160583,
          0.05441455446221427,
          0.06479055851405223,
          0.046769566694369616,
          -0.05758800132046744,
          0.06897418045597356,
          0.1468415694397187,
          -0.08593706554829506,
          0.1406596371596486,
          -0.13126600452263676,
          0.0992513152005225,
          0.050600919923824025,
          -0.20404672755732578,
          0.13896465028503407,
          -0.021289851342638312,
          0.025076885098463137,
          -0.04920394762726904,
          -0.06204713472722236,
          0.14878740668986684,
          0.13667859848102878,
          1.633669666170255e-05,
          0.06178830700945293,
          -0.12426944939364166,
          -0.010137760011512394,
          -0.1212630960591606,
          -0.09412255396080431,
          -0.14919483336974546,
          0.19251910880157022,
          -0.06943264331039922,
          0.03847688370588217,
          0.05202139553107304,
          0.01570052428488091,
          -0.038291263069635234,
          -0.11371001840217829,
          -0.19836104997345652,
          -0.06520980778241967,
          0.029328449684650145,
          0.06632235260230586,
          0.10511681162988602,
          0.10499377975143978,
          0.2345103023944375,
          -0.07714613460842484,
          -0.007139743777270382,
          -0.09634967669260708,
          0.00045243883088486996,
          0.25007076832286146,
          -0.01447089091822787,
          -0.04014697683733252,
          0.0013930240299595928,
          0.1994313966688188,
          -0.11413905886576167,
          -0.011668684903951726,
          -0.1600964546913074,
          -0.025432681031880764,
          -0.013505422239251223,
          -0.12661851333080362,
          0.09167903581725362,
          -0.09288439631598151,
          -0.07092490226404675,
          -0.06249142525306917,
          -0.019209927431317626,
          -0.0005001040989313155,
          -0.008049179268061044,
          0.013448308436932068,
          -0.14877429164565678,
          -0.050961061300301695,
          -0.04961178768359443,
          0.054367701009782665,
          -0.025314359578273656,
          0.07792697504964513,
          -0.054463331908260554,
          0.01562885198104318,
          0.011753067379671,
          -0.13862123066131668,
          0.06872719986948919,
          0.19195753345917,
          0.30822873779534327,
          0.0186090716207109,
          -0.11031027360082328,
          -0.016567664124680227,
          -0.06983139274938666,
          -0.11990657387944705,
          -0.016580869060043784,
          -0.0934502675777541,
          -0.038464377806608024,
          -0.12067951402641994,
          0.012382839868274997,
          -0.056427817916378284,
          0.0006652584638829545,
          -0.06529148706791774,
          0.032393690899045334,
          0.028876210555338965,
          0.1547968683138094,
          0.12840931932766736,
          0.10392241321829646,
          -0.1843849628079235,
          0.06583993726042826,
          0.14997818660737305,
          -0.029862188228154514,
          0.03500595214922474,
          0.0727912956261066,
          -0.07663459968966518,
          0.031655338136158374,
          0.20698519091954928,
          -0.12326756137902513,
          -0.05728974589048385,
          0.05747065127003687,
          0.18732417959206002,
          0.10020522911812392,
          -0.07563140341034795,
          0.22369507570872646,
          -0.013303430624687694,
          0.08906546866346353,
          0.04866257527091725,
          -0.07390597727580309,
          0.07310146993594427,
          -0.01058289133895942,
          -0.03800705954342197,
          -0.10868179359519502,
          -0.10536793227989448,
          -0.011871652780439473,
          0.061147199554076624,
          0.0801074436261289,
          0.004389627625465336,
          -0.01801095619096421,
          0.048893869787115504,
          -0.029658565140768055,
          0.05925258007669404,
          -0.0527237444808808,
          0.02039147539740242,
          0.08670802098318463,
          0.15016262152881504,
          0.036754021851584086,
          -0.03604072954723723,
          -0.025766771350800195,
          -0.027675375437597374,
          -0.10444222571367341,
          -0.1465133263616718,
          -0.05400117032231146,
          -0.11411481796486468,
          0.15325302502876886,
          -0.11769397931060295,
          -0.037731872050161756,
          -0.14481948634795785,
          0.04558267692206808,
          0.05045701023947155,
          0.09312433374290814,
          -0.09956905179332905,
          -0.052802278628384394,
          -0.012508556928898885,
          -0.029986429808199575,
          -0.16942666889959887,
          -0.05056999828495546,
          0.13778499297862717,
          0.1527229445400937,
          0.03334951121755747,
          0.002243631217353112,
          -0.07156858680884633,
          -0.00546690731285701,
          0.12047894880013182,
          -0.02847154557702601,
          -0.09697260388538902,
          -0.17090403819239838,
          0.06455052923302397,
          -0.019175569391871247,
          -0.014723051080087276,
          -0.1048405709286848,
          0.028366589632718864,
          0.02708793501356533,
          0.0414080150619593,
          0.06087826626114155,
          -0.12275247898186395,
          -0.07708440441443715,
          0.14548673458006886,
          -0.03837270547664567,
          -0.026792621258974414,
          0.013075766630612329,
          -0.05414155525278702,
          0.10635024739960293,
          0.1149636917545279,
          -0.05050480364233942,
          -0.10719276896556647,
          0.09421351096962075,
          0.020386906927885706,
          0.03328930466229881,
          0.03497798836473374,
          -0.07500461194229631,
          -0.09365349232268595,
          0.02350447871478977,
          -0.0176688306352298,
          -0.16167540686929038,
          -0.08007507064963082,
          0.1518720926621294,
          -0.008287004452295911,
          -0.01296096291851808,
          0.018727555115162577,
          -0.13338943283498012,
          -0.028002614811797447,
          -0.03494892689172894,
          -0.056138848428384486,
          0.08018855667832807,
          -0.04305223485166613,
          0.018570791663562656,
          -0.01262486376943192
         ],
         "y0": " ",
         "yaxis": "y"
        }
       ],
       "layout": {
        "boxmode": "group",
        "legend": {
         "tracegroupgap": 0
        },
        "shapes": [
         {
          "line": {
           "color": "red"
          },
          "type": "line",
          "x0": 0,
          "x1": 1,
          "xref": "x domain",
          "y0": 0,
          "y1": 0,
          "yref": "y"
         }
        ],
        "template": {
         "data": {
          "bar": [
           {
            "error_x": {
             "color": "#2a3f5f"
            },
            "error_y": {
             "color": "#2a3f5f"
            },
            "marker": {
             "line": {
              "color": "#E5ECF6",
              "width": 0.5
             },
             "pattern": {
              "fillmode": "overlay",
              "size": 10,
              "solidity": 0.2
             }
            },
            "type": "bar"
           }
          ],
          "barpolar": [
           {
            "marker": {
             "line": {
              "color": "#E5ECF6",
              "width": 0.5
             },
             "pattern": {
              "fillmode": "overlay",
              "size": 10,
              "solidity": 0.2
             }
            },
            "type": "barpolar"
           }
          ],
          "carpet": [
           {
            "aaxis": {
             "endlinecolor": "#2a3f5f",
             "gridcolor": "white",
             "linecolor": "white",
             "minorgridcolor": "white",
             "startlinecolor": "#2a3f5f"
            },
            "baxis": {
             "endlinecolor": "#2a3f5f",
             "gridcolor": "white",
             "linecolor": "white",
             "minorgridcolor": "white",
             "startlinecolor": "#2a3f5f"
            },
            "type": "carpet"
           }
          ],
          "choropleth": [
           {
            "colorbar": {
             "outlinewidth": 0,
             "ticks": ""
            },
            "type": "choropleth"
           }
          ],
          "contour": [
           {
            "colorbar": {
             "outlinewidth": 0,
             "ticks": ""
            },
            "colorscale": [
             [
              0,
              "#0d0887"
             ],
             [
              0.1111111111111111,
              "#46039f"
             ],
             [
              0.2222222222222222,
              "#7201a8"
             ],
             [
              0.3333333333333333,
              "#9c179e"
             ],
             [
              0.4444444444444444,
              "#bd3786"
             ],
             [
              0.5555555555555556,
              "#d8576b"
             ],
             [
              0.6666666666666666,
              "#ed7953"
             ],
             [
              0.7777777777777778,
              "#fb9f3a"
             ],
             [
              0.8888888888888888,
              "#fdca26"
             ],
             [
              1,
              "#f0f921"
             ]
            ],
            "type": "contour"
           }
          ],
          "contourcarpet": [
           {
            "colorbar": {
             "outlinewidth": 0,
             "ticks": ""
            },
            "type": "contourcarpet"
           }
          ],
          "heatmap": [
           {
            "colorbar": {
             "outlinewidth": 0,
             "ticks": ""
            },
            "colorscale": [
             [
              0,
              "#0d0887"
             ],
             [
              0.1111111111111111,
              "#46039f"
             ],
             [
              0.2222222222222222,
              "#7201a8"
             ],
             [
              0.3333333333333333,
              "#9c179e"
             ],
             [
              0.4444444444444444,
              "#bd3786"
             ],
             [
              0.5555555555555556,
              "#d8576b"
             ],
             [
              0.6666666666666666,
              "#ed7953"
             ],
             [
              0.7777777777777778,
              "#fb9f3a"
             ],
             [
              0.8888888888888888,
              "#fdca26"
             ],
             [
              1,
              "#f0f921"
             ]
            ],
            "type": "heatmap"
           }
          ],
          "heatmapgl": [
           {
            "colorbar": {
             "outlinewidth": 0,
             "ticks": ""
            },
            "colorscale": [
             [
              0,
              "#0d0887"
             ],
             [
              0.1111111111111111,
              "#46039f"
             ],
             [
              0.2222222222222222,
              "#7201a8"
             ],
             [
              0.3333333333333333,
              "#9c179e"
             ],
             [
              0.4444444444444444,
              "#bd3786"
             ],
             [
              0.5555555555555556,
              "#d8576b"
             ],
             [
              0.6666666666666666,
              "#ed7953"
             ],
             [
              0.7777777777777778,
              "#fb9f3a"
             ],
             [
              0.8888888888888888,
              "#fdca26"
             ],
             [
              1,
              "#f0f921"
             ]
            ],
            "type": "heatmapgl"
           }
          ],
          "histogram": [
           {
            "marker": {
             "pattern": {
              "fillmode": "overlay",
              "size": 10,
              "solidity": 0.2
             }
            },
            "type": "histogram"
           }
          ],
          "histogram2d": [
           {
            "colorbar": {
             "outlinewidth": 0,
             "ticks": ""
            },
            "colorscale": [
             [
              0,
              "#0d0887"
             ],
             [
              0.1111111111111111,
              "#46039f"
             ],
             [
              0.2222222222222222,
              "#7201a8"
             ],
             [
              0.3333333333333333,
              "#9c179e"
             ],
             [
              0.4444444444444444,
              "#bd3786"
             ],
             [
              0.5555555555555556,
              "#d8576b"
             ],
             [
              0.6666666666666666,
              "#ed7953"
             ],
             [
              0.7777777777777778,
              "#fb9f3a"
             ],
             [
              0.8888888888888888,
              "#fdca26"
             ],
             [
              1,
              "#f0f921"
             ]
            ],
            "type": "histogram2d"
           }
          ],
          "histogram2dcontour": [
           {
            "colorbar": {
             "outlinewidth": 0,
             "ticks": ""
            },
            "colorscale": [
             [
              0,
              "#0d0887"
             ],
             [
              0.1111111111111111,
              "#46039f"
             ],
             [
              0.2222222222222222,
              "#7201a8"
             ],
             [
              0.3333333333333333,
              "#9c179e"
             ],
             [
              0.4444444444444444,
              "#bd3786"
             ],
             [
              0.5555555555555556,
              "#d8576b"
             ],
             [
              0.6666666666666666,
              "#ed7953"
             ],
             [
              0.7777777777777778,
              "#fb9f3a"
             ],
             [
              0.8888888888888888,
              "#fdca26"
             ],
             [
              1,
              "#f0f921"
             ]
            ],
            "type": "histogram2dcontour"
           }
          ],
          "mesh3d": [
           {
            "colorbar": {
             "outlinewidth": 0,
             "ticks": ""
            },
            "type": "mesh3d"
           }
          ],
          "parcoords": [
           {
            "line": {
             "colorbar": {
              "outlinewidth": 0,
              "ticks": ""
             }
            },
            "type": "parcoords"
           }
          ],
          "pie": [
           {
            "automargin": true,
            "type": "pie"
           }
          ],
          "scatter": [
           {
            "marker": {
             "colorbar": {
              "outlinewidth": 0,
              "ticks": ""
             }
            },
            "type": "scatter"
           }
          ],
          "scatter3d": [
           {
            "line": {
             "colorbar": {
              "outlinewidth": 0,
              "ticks": ""
             }
            },
            "marker": {
             "colorbar": {
              "outlinewidth": 0,
              "ticks": ""
             }
            },
            "type": "scatter3d"
           }
          ],
          "scattercarpet": [
           {
            "marker": {
             "colorbar": {
              "outlinewidth": 0,
              "ticks": ""
             }
            },
            "type": "scattercarpet"
           }
          ],
          "scattergeo": [
           {
            "marker": {
             "colorbar": {
              "outlinewidth": 0,
              "ticks": ""
             }
            },
            "type": "scattergeo"
           }
          ],
          "scattergl": [
           {
            "marker": {
             "colorbar": {
              "outlinewidth": 0,
              "ticks": ""
             }
            },
            "type": "scattergl"
           }
          ],
          "scattermapbox": [
           {
            "marker": {
             "colorbar": {
              "outlinewidth": 0,
              "ticks": ""
             }
            },
            "type": "scattermapbox"
           }
          ],
          "scatterpolar": [
           {
            "marker": {
             "colorbar": {
              "outlinewidth": 0,
              "ticks": ""
             }
            },
            "type": "scatterpolar"
           }
          ],
          "scatterpolargl": [
           {
            "marker": {
             "colorbar": {
              "outlinewidth": 0,
              "ticks": ""
             }
            },
            "type": "scatterpolargl"
           }
          ],
          "scatterternary": [
           {
            "marker": {
             "colorbar": {
              "outlinewidth": 0,
              "ticks": ""
             }
            },
            "type": "scatterternary"
           }
          ],
          "surface": [
           {
            "colorbar": {
             "outlinewidth": 0,
             "ticks": ""
            },
            "colorscale": [
             [
              0,
              "#0d0887"
             ],
             [
              0.1111111111111111,
              "#46039f"
             ],
             [
              0.2222222222222222,
              "#7201a8"
             ],
             [
              0.3333333333333333,
              "#9c179e"
             ],
             [
              0.4444444444444444,
              "#bd3786"
             ],
             [
              0.5555555555555556,
              "#d8576b"
             ],
             [
              0.6666666666666666,
              "#ed7953"
             ],
             [
              0.7777777777777778,
              "#fb9f3a"
             ],
             [
              0.8888888888888888,
              "#fdca26"
             ],
             [
              1,
              "#f0f921"
             ]
            ],
            "type": "surface"
           }
          ],
          "table": [
           {
            "cells": {
             "fill": {
              "color": "#EBF0F8"
             },
             "line": {
              "color": "white"
             }
            },
            "header": {
             "fill": {
              "color": "#C8D4E3"
             },
             "line": {
              "color": "white"
             }
            },
            "type": "table"
           }
          ]
         },
         "layout": {
          "annotationdefaults": {
           "arrowcolor": "#2a3f5f",
           "arrowhead": 0,
           "arrowwidth": 1
          },
          "autotypenumbers": "strict",
          "coloraxis": {
           "colorbar": {
            "outlinewidth": 0,
            "ticks": ""
           }
          },
          "colorscale": {
           "diverging": [
            [
             0,
             "#8e0152"
            ],
            [
             0.1,
             "#c51b7d"
            ],
            [
             0.2,
             "#de77ae"
            ],
            [
             0.3,
             "#f1b6da"
            ],
            [
             0.4,
             "#fde0ef"
            ],
            [
             0.5,
             "#f7f7f7"
            ],
            [
             0.6,
             "#e6f5d0"
            ],
            [
             0.7,
             "#b8e186"
            ],
            [
             0.8,
             "#7fbc41"
            ],
            [
             0.9,
             "#4d9221"
            ],
            [
             1,
             "#276419"
            ]
           ],
           "sequential": [
            [
             0,
             "#0d0887"
            ],
            [
             0.1111111111111111,
             "#46039f"
            ],
            [
             0.2222222222222222,
             "#7201a8"
            ],
            [
             0.3333333333333333,
             "#9c179e"
            ],
            [
             0.4444444444444444,
             "#bd3786"
            ],
            [
             0.5555555555555556,
             "#d8576b"
            ],
            [
             0.6666666666666666,
             "#ed7953"
            ],
            [
             0.7777777777777778,
             "#fb9f3a"
            ],
            [
             0.8888888888888888,
             "#fdca26"
            ],
            [
             1,
             "#f0f921"
            ]
           ],
           "sequentialminus": [
            [
             0,
             "#0d0887"
            ],
            [
             0.1111111111111111,
             "#46039f"
            ],
            [
             0.2222222222222222,
             "#7201a8"
            ],
            [
             0.3333333333333333,
             "#9c179e"
            ],
            [
             0.4444444444444444,
             "#bd3786"
            ],
            [
             0.5555555555555556,
             "#d8576b"
            ],
            [
             0.6666666666666666,
             "#ed7953"
            ],
            [
             0.7777777777777778,
             "#fb9f3a"
            ],
            [
             0.8888888888888888,
             "#fdca26"
            ],
            [
             1,
             "#f0f921"
            ]
           ]
          },
          "colorway": [
           "#636efa",
           "#EF553B",
           "#00cc96",
           "#ab63fa",
           "#FFA15A",
           "#19d3f3",
           "#FF6692",
           "#B6E880",
           "#FF97FF",
           "#FECB52"
          ],
          "font": {
           "color": "#2a3f5f"
          },
          "geo": {
           "bgcolor": "white",
           "lakecolor": "white",
           "landcolor": "#E5ECF6",
           "showlakes": true,
           "showland": true,
           "subunitcolor": "white"
          },
          "hoverlabel": {
           "align": "left"
          },
          "hovermode": "closest",
          "mapbox": {
           "style": "light"
          },
          "paper_bgcolor": "white",
          "plot_bgcolor": "#E5ECF6",
          "polar": {
           "angularaxis": {
            "gridcolor": "white",
            "linecolor": "white",
            "ticks": ""
           },
           "bgcolor": "#E5ECF6",
           "radialaxis": {
            "gridcolor": "white",
            "linecolor": "white",
            "ticks": ""
           }
          },
          "scene": {
           "xaxis": {
            "backgroundcolor": "#E5ECF6",
            "gridcolor": "white",
            "gridwidth": 2,
            "linecolor": "white",
            "showbackground": true,
            "ticks": "",
            "zerolinecolor": "white"
           },
           "yaxis": {
            "backgroundcolor": "#E5ECF6",
            "gridcolor": "white",
            "gridwidth": 2,
            "linecolor": "white",
            "showbackground": true,
            "ticks": "",
            "zerolinecolor": "white"
           },
           "zaxis": {
            "backgroundcolor": "#E5ECF6",
            "gridcolor": "white",
            "gridwidth": 2,
            "linecolor": "white",
            "showbackground": true,
            "ticks": "",
            "zerolinecolor": "white"
           }
          },
          "shapedefaults": {
           "line": {
            "color": "#2a3f5f"
           }
          },
          "ternary": {
           "aaxis": {
            "gridcolor": "white",
            "linecolor": "white",
            "ticks": ""
           },
           "baxis": {
            "gridcolor": "white",
            "linecolor": "white",
            "ticks": ""
           },
           "bgcolor": "#E5ECF6",
           "caxis": {
            "gridcolor": "white",
            "linecolor": "white",
            "ticks": ""
           }
          },
          "title": {
           "x": 0.05
          },
          "xaxis": {
           "automargin": true,
           "gridcolor": "white",
           "linecolor": "white",
           "ticks": "",
           "title": {
            "standoff": 15
           },
           "zerolinecolor": "white",
           "zerolinewidth": 2
          },
          "yaxis": {
           "automargin": true,
           "gridcolor": "white",
           "linecolor": "white",
           "ticks": "",
           "title": {
            "standoff": 15
           },
           "zerolinecolor": "white",
           "zerolinewidth": 2
          }
         }
        },
        "title": {
         "text": "Blurred W refit n=200, p=300"
        },
        "xaxis": {
         "anchor": "y",
         "domain": [
          0,
          1
         ],
         "tickmode": "array",
         "ticktext": [
          0.05,
          0.1,
          0.2,
          0.5,
          0.8,
          1
         ],
         "tickvals": [
          0,
          1,
          2,
          3,
          4,
          5
         ],
         "title": {
          "text": "Alpha"
         }
        },
        "yaxis": {
         "anchor": "x",
         "domain": [
          0,
          1
         ],
         "title": {
          "text": "Risk"
         }
        }
       }
      },
      "text/html": [
       "<div>                            <div id=\"a0f32150-fc29-4693-9b6e-0671e2feb45d\" class=\"plotly-graph-div\" style=\"height:525px; width:100%;\"></div>            <script type=\"text/javascript\">                require([\"plotly\"], function(Plotly) {                    window.PLOTLYENV=window.PLOTLYENV || {};                                    if (document.getElementById(\"a0f32150-fc29-4693-9b6e-0671e2feb45d\")) {                    Plotly.newPlot(                        \"a0f32150-fc29-4693-9b6e-0671e2feb45d\",                        [{\"alignmentgroup\":\"True\",\"boxpoints\":false,\"hovertemplate\":\"Alpha=%{x}<br>Risk=%{y}<extra></extra>\",\"legendgroup\":\"\",\"marker\":{\"color\":\"#636efa\"},\"name\":\"\",\"notched\":false,\"offsetgroup\":\"\",\"orientation\":\"v\",\"showlegend\":false,\"x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x0\":\" \",\"xaxis\":\"x\",\"y\":[-0.46551437387348993,0.5327608476255579,-1.8097829863265096,-0.46619743130045826,-1.255434630442911,0.47445417262366063,0.33604037030829603,0.02315827153723924,-1.0995306364310817,0.9038835680539618,1.0242456536334947,-0.2583293154537849,0.21127989503986438,-0.1625217835385618,0.3716193576895389,-1.3475276583981504,0.42389546227157,0.6097462312636164,-0.21544574630218907,0.18145413438675595,6.916912502490012e-05,1.000911935089906,-1.7331819614607986,-0.5296147933557285,0.23973468892728686,-0.122290206340826,0.09702545749261553,0.3055123781288498,-0.04768808071179581,-0.5281089814373251,0.09046021252321004,-1.0075351957704273,-0.1375071937885226,0.5114411134218522,-0.7332327382320614,0.8383116002379368,1.4956678564772152,-0.8023013358947373,-0.9992672429945385,-1.1651080810584646,0.9446760559352821,-0.7701714783452965,-0.34335860201342444,0.8073476572933868,0.6305968497697161,0.47604052828038396,0.05448240679475874,-0.1729090958647276,-0.6455648279459237,-0.5786507106449085,0.4639934507423225,0.6157881636974852,-1.140005612878125,-0.5053882805140085,0.8860315252468404,0.358171773195677,0.8857684789164884,0.3399882103043685,-0.5322727752228082,0.7366218650543699,0.6180658736938193,-0.37757177350713017,-0.0593896376806985,-0.7062245938062808,0.6392054692341628,0.642539174471013,0.5453912838218405,0.6773210511563346,-0.2518719029607924,0.5409463854305907,0.5287315080858219,0.8617346734004868,0.34390113032963215,1.1354106449038062,-0.2289526520395617,0.718963322549186,-0.015370268197117969,-0.37749072001976763,0.18191583439228765,-1.760244371825487,-1.0454865842260548,0.18421538069859494,-0.20409361188066058,0.151840752356504,-1.1182769956037666,-0.9655758635971846,0.2578148709510869,0.05167646428759343,0.2038806816978634,-0.001418533958734141,-0.36407342065936277,1.055599997400359,0.013021565002489152,0.6436288671850177,-0.39905517619109493,0.32823896426930793,0.6255109556859805,0.3518122365254663,0.7491834091296238,-0.4460987963516264,0.2148781854684774,0.206413650811216,-0.010700587038524834,0.14341035881816439,-0.2245720356241374,-0.06878508989841166,0.05257930578292283,-0.19059586899846595,-0.5790545715313226,0.050505866985237534,0.13586124806908703,0.48703848909727215,-0.28381365499885053,-0.2484790240816446,-0.40998465715439614,0.543631653153062,-0.032934522876375404,-0.9572274353974835,0.19163310149650603,0.17061457756868637,-0.6821192287543189,0.048429681270008275,-0.720849361856251,0.36385249859468366,-0.175587109256442,-0.29376230242614576,0.09027284187069873,-0.660741039264928,-0.2532635614030634,-0.09350068831603137,-0.3351902583189536,-0.14693402536891165,0.7649009577977134,-0.10518050041538148,0.12260559867912842,0.12109070708890983,0.1083750291893027,-0.12470937505261642,-0.19650332338423873,-0.009851534316507805,-0.29438192487995457,0.09495833611082774,0.3304390047074432,0.5385309335770436,-0.5330176651514883,-0.01033843470500127,0.10647030182496423,0.3302592494823338,0.2672724462133016,-0.17322573513590983,-0.3845549226920485,0.28639052315724967,-0.026121127319502554,0.3240470113644172,-0.2551743090116884,0.16397847495601275,0.5020739362932106,0.06024659926474524,-0.5002551804969494,-0.1446630716958507,-0.14515207021756957,0.05922174743673861,-0.3427251199188093,0.2742434510714522,-0.46541846690467853,0.01860932637056559,-0.32960774525008035,0.016137727420097756,-0.1513186338416704,0.28696518997716897,0.14465507843116526,0.19989390496222317,-0.24457711900038834,-0.026435732382013258,-0.02032850098759362,0.1362776978808479,0.1098328836943986,-0.02612708702056467,0.28904708001741924,-0.3412139604257989,0.6016750647222284,0.7489176232677853,0.07269312074635063,0.40385993438288026,-0.09630081310041795,-0.4739062905829456,0.2238110125663681,-0.37188337110064484,-0.09913025671383437,-0.3544561052451644,-0.2975098456436476,0.08537592979685528,0.5373214839003256,0.021152912644482866,0.21596166185807053,-0.07138795699548785,-0.13552855756486515,0.6504860331905505,-0.1855783899852981,0.27046720060613255,0.09170830170901885,0.2753397419969264,0.27264833602839716,0.03802338553900485,0.26946434076268155,-0.0769454082381112,-0.15500413493874313,-0.3098956668785826,0.05381610266588939,0.25411701140431064,-0.16870679710102213,0.19715882465854165,-0.18993984423298887,-0.15816978329678028,0.10302240015287932,0.08753485962822075,0.009650113803501116,-0.1664142105466354,0.02461950075063638,-0.07057686178439536,0.22840016230857557,0.01617158283217647,0.012775388381452955,-0.21473557315104327,-0.2125693084419799,0.2422375084904625,-0.36395883114975364,-0.23314124029386918,0.4482969160295264,0.005949517203765068,0.03160147208593484,0.09188458410837165,0.20836176766409875,0.13596089165049197,0.2220549412920339,-0.022354276723515726,-0.01747334401058471,-0.2988547751273243,0.018822064380750677,-0.14696862945871086,0.21442494337001597,0.03938740901823255,0.0889180140832587,0.10630049783932922,-0.1950894871054394,-0.249177572101379,0.0588947110763438,-0.12428362879869571,-0.0934493153531378,0.19969652112501235,-0.22205907224081078,-0.096535076792621,-0.16099486239540572,0.02057773110202196,-0.06657312569728845,0.14774049579923418,0.35907222967906005,0.19636537885033478,-0.2557801371593004,0.22001739115835897,0.12523307611652365,-0.059411965285640855,0.3155600364840354,-0.036219038078279066,0.12121528358288129,-0.06212020662547869,0.1302444712126386,0.04892596454141168,0.3255945786102045,0.23469193536967728,-0.24079895042077937,0.2830803504964757,0.3276825301383608,0.07582463251331494,0.029467692587429165,0.10719125653272094,-0.17053711506900243,-0.06506833165009594,-0.22975404655283463,-0.00357411968343948,-0.0005697938611302863,0.19348294162852187,-0.07157754799895866,-0.1267306302207372,-0.5363367060569039,0.16105172626983066,-0.024195901000388643,-0.15505760576908786,-0.15766182259453618,0.4941555526896921,-0.16304971308310082,-0.16648525054851607,-0.09389684943597036,0.042363408149671544,-0.12897043988283874,0.0014931546552597993,0.0317930269778978,0.05560496862704785,-0.045968739453873524,0.06718947920193026,-0.0537681300934159,0.10278996905195348,0.2137865121946969,0.09190149092743927,-0.09076882026265641,0.18228770346663348,0.04560437289484006,-0.29404003740284296,-0.056517827799730413,0.10880994764889108,-0.03725197530990972,0.209898431438293,0.003554982459782807,-0.3223440077457473,0.04156720508726178,0.04639438321951566,-0.12294577183585374,0.05330478116846821,-0.22460213519962888,-0.0858706767223745,-0.061294112040986594,0.05692420893807651,0.05775666022849265,-0.009500620740107806,-0.014012158997985868,-0.03145715792737627,-0.09693118565688558,-0.14451846790564282,-0.0012003958471209497,-0.023124179664717363,-0.01521139062059292,-0.08726004677256143,0.14612171771425778,-0.00037813571034519335,0.07587463154569031,0.05360119685914896,0.032008348329026735,0.06448474293777363,0.06322477795993703,-0.023846243931552102,0.22310001457929876,0.036184932781176946,0.08452829905897838,-0.2781015991967301,0.14132070330354424,0.09012749027849515,-0.16778479469361388,0.4034107349846599,-0.011435170048495548,-0.04594550485053447,0.006643165833109837,0.17823989956615288,0.25477891970516225,0.033335922487871275,0.0560735828035614,-0.058515207166784225,0.039736425306312606,0.21403348198741973,0.06639679283866569,0.04611641112499322,0.1617310746129664,0.10372923923105588,0.014344261005038399,0.17185852942816532,-0.11787623000356012,0.0583562984533204,0.1363141565709731,-0.06483999154816456,0.0503464925717635,0.06006540109300838,-0.12720906819710473,-0.09755864176480526,-0.052293113700993564,0.00877350163893487,-0.028234251935908245,-0.04473371925849718,-0.00885801831218325,0.02734599603272748,-0.08229423542394657,-0.0006364347015865488,-0.009945403419384179,0.049743759041619116,0.03953129317152636,0.1080077558310822,0.08570681613576422,-0.0351551572817545,-0.1347180954304447,0.050666665228692384,0.03269191177535765,0.0694878640559398,-0.044389938312800636,0.1329269177568125,-0.08168056388847134,0.07363396903627581,0.1546445913264162,0.29570312426428497,0.186111790160583,0.05441455446221427,0.06479055851405223,0.046769566694369616,-0.05758800132046744,0.06897418045597356,0.1468415694397187,-0.08593706554829506,0.1406596371596486,-0.13126600452263676,0.0992513152005225,0.050600919923824025,-0.20404672755732578,0.13896465028503407,-0.021289851342638312,0.025076885098463137,-0.04920394762726904,-0.06204713472722236,0.14878740668986684,0.13667859848102878,1.633669666170255e-05,0.06178830700945293,-0.12426944939364166,-0.010137760011512394,-0.1212630960591606,-0.09412255396080431,-0.14919483336974546,0.19251910880157022,-0.06943264331039922,0.03847688370588217,0.05202139553107304,0.01570052428488091,-0.038291263069635234,-0.11371001840217829,-0.19836104997345652,-0.06520980778241967,0.029328449684650145,0.06632235260230586,0.10511681162988602,0.10499377975143978,0.2345103023944375,-0.07714613460842484,-0.007139743777270382,-0.09634967669260708,0.00045243883088486996,0.25007076832286146,-0.01447089091822787,-0.04014697683733252,0.0013930240299595928,0.1994313966688188,-0.11413905886576167,-0.011668684903951726,-0.1600964546913074,-0.025432681031880764,-0.013505422239251223,-0.12661851333080362,0.09167903581725362,-0.09288439631598151,-0.07092490226404675,-0.06249142525306917,-0.019209927431317626,-0.0005001040989313155,-0.008049179268061044,0.013448308436932068,-0.14877429164565678,-0.050961061300301695,-0.04961178768359443,0.054367701009782665,-0.025314359578273656,0.07792697504964513,-0.054463331908260554,0.01562885198104318,0.011753067379671,-0.13862123066131668,0.06872719986948919,0.19195753345917,0.30822873779534327,0.0186090716207109,-0.11031027360082328,-0.016567664124680227,-0.06983139274938666,-0.11990657387944705,-0.016580869060043784,-0.0934502675777541,-0.038464377806608024,-0.12067951402641994,0.012382839868274997,-0.056427817916378284,0.0006652584638829545,-0.06529148706791774,0.032393690899045334,0.028876210555338965,0.1547968683138094,0.12840931932766736,0.10392241321829646,-0.1843849628079235,0.06583993726042826,0.14997818660737305,-0.029862188228154514,0.03500595214922474,0.0727912956261066,-0.07663459968966518,0.031655338136158374,0.20698519091954928,-0.12326756137902513,-0.05728974589048385,0.05747065127003687,0.18732417959206002,0.10020522911812392,-0.07563140341034795,0.22369507570872646,-0.013303430624687694,0.08906546866346353,0.04866257527091725,-0.07390597727580309,0.07310146993594427,-0.01058289133895942,-0.03800705954342197,-0.10868179359519502,-0.10536793227989448,-0.011871652780439473,0.061147199554076624,0.0801074436261289,0.004389627625465336,-0.01801095619096421,0.048893869787115504,-0.029658565140768055,0.05925258007669404,-0.0527237444808808,0.02039147539740242,0.08670802098318463,0.15016262152881504,0.036754021851584086,-0.03604072954723723,-0.025766771350800195,-0.027675375437597374,-0.10444222571367341,-0.1465133263616718,-0.05400117032231146,-0.11411481796486468,0.15325302502876886,-0.11769397931060295,-0.037731872050161756,-0.14481948634795785,0.04558267692206808,0.05045701023947155,0.09312433374290814,-0.09956905179332905,-0.052802278628384394,-0.012508556928898885,-0.029986429808199575,-0.16942666889959887,-0.05056999828495546,0.13778499297862717,0.1527229445400937,0.03334951121755747,0.002243631217353112,-0.07156858680884633,-0.00546690731285701,0.12047894880013182,-0.02847154557702601,-0.09697260388538902,-0.17090403819239838,0.06455052923302397,-0.019175569391871247,-0.014723051080087276,-0.1048405709286848,0.028366589632718864,0.02708793501356533,0.0414080150619593,0.06087826626114155,-0.12275247898186395,-0.07708440441443715,0.14548673458006886,-0.03837270547664567,-0.026792621258974414,0.013075766630612329,-0.05414155525278702,0.10635024739960293,0.1149636917545279,-0.05050480364233942,-0.10719276896556647,0.09421351096962075,0.020386906927885706,0.03328930466229881,0.03497798836473374,-0.07500461194229631,-0.09365349232268595,0.02350447871478977,-0.0176688306352298,-0.16167540686929038,-0.08007507064963082,0.1518720926621294,-0.008287004452295911,-0.01296096291851808,0.018727555115162577,-0.13338943283498012,-0.028002614811797447,-0.03494892689172894,-0.056138848428384486,0.08018855667832807,-0.04305223485166613,0.018570791663562656,-0.01262486376943192],\"y0\":\" \",\"yaxis\":\"y\",\"type\":\"box\",\"boxmean\":true}],                        {\"template\":{\"data\":{\"bar\":[{\"error_x\":{\"color\":\"#2a3f5f\"},\"error_y\":{\"color\":\"#2a3f5f\"},\"marker\":{\"line\":{\"color\":\"#E5ECF6\",\"width\":0.5},\"pattern\":{\"fillmode\":\"overlay\",\"size\":10,\"solidity\":0.2}},\"type\":\"bar\"}],\"barpolar\":[{\"marker\":{\"line\":{\"color\":\"#E5ECF6\",\"width\":0.5},\"pattern\":{\"fillmode\":\"overlay\",\"size\":10,\"solidity\":0.2}},\"type\":\"barpolar\"}],\"carpet\":[{\"aaxis\":{\"endlinecolor\":\"#2a3f5f\",\"gridcolor\":\"white\",\"linecolor\":\"white\",\"minorgridcolor\":\"white\",\"startlinecolor\":\"#2a3f5f\"},\"baxis\":{\"endlinecolor\":\"#2a3f5f\",\"gridcolor\":\"white\",\"linecolor\":\"white\",\"minorgridcolor\":\"white\",\"startlinecolor\":\"#2a3f5f\"},\"type\":\"carpet\"}],\"choropleth\":[{\"colorbar\":{\"outlinewidth\":0,\"ticks\":\"\"},\"type\":\"choropleth\"}],\"contour\":[{\"colorbar\":{\"outlinewidth\":0,\"ticks\":\"\"},\"colorscale\":[[0.0,\"#0d0887\"],[0.1111111111111111,\"#46039f\"],[0.2222222222222222,\"#7201a8\"],[0.3333333333333333,\"#9c179e\"],[0.4444444444444444,\"#bd3786\"],[0.5555555555555556,\"#d8576b\"],[0.6666666666666666,\"#ed7953\"],[0.7777777777777778,\"#fb9f3a\"],[0.8888888888888888,\"#fdca26\"],[1.0,\"#f0f921\"]],\"type\":\"contour\"}],\"contourcarpet\":[{\"colorbar\":{\"outlinewidth\":0,\"ticks\":\"\"},\"type\":\"contourcarpet\"}],\"heatmap\":[{\"colorbar\":{\"outlinewidth\":0,\"ticks\":\"\"},\"colorscale\":[[0.0,\"#0d0887\"],[0.1111111111111111,\"#46039f\"],[0.2222222222222222,\"#7201a8\"],[0.3333333333333333,\"#9c179e\"],[0.4444444444444444,\"#bd3786\"],[0.5555555555555556,\"#d8576b\"],[0.6666666666666666,\"#ed7953\"],[0.7777777777777778,\"#fb9f3a\"],[0.8888888888888888,\"#fdca26\"],[1.0,\"#f0f921\"]],\"type\":\"heatmap\"}],\"heatmapgl\":[{\"colorbar\":{\"outlinewidth\":0,\"ticks\":\"\"},\"colorscale\":[[0.0,\"#0d0887\"],[0.1111111111111111,\"#46039f\"],[0.2222222222222222,\"#7201a8\"],[0.3333333333333333,\"#9c179e\"],[0.4444444444444444,\"#bd3786\"],[0.5555555555555556,\"#d8576b\"],[0.6666666666666666,\"#ed7953\"],[0.7777777777777778,\"#fb9f3a\"],[0.8888888888888888,\"#fdca26\"],[1.0,\"#f0f921\"]],\"type\":\"heatmapgl\"}],\"histogram\":[{\"marker\":{\"pattern\":{\"fillmode\":\"overlay\",\"size\":10,\"solidity\":0.2}},\"type\":\"histogram\"}],\"histogram2d\":[{\"colorbar\":{\"outlinewidth\":0,\"ticks\":\"\"},\"colorscale\":[[0.0,\"#0d0887\"],[0.1111111111111111,\"#46039f\"],[0.2222222222222222,\"#7201a8\"],[0.3333333333333333,\"#9c179e\"],[0.4444444444444444,\"#bd3786\"],[0.5555555555555556,\"#d8576b\"],[0.6666666666666666,\"#ed7953\"],[0.7777777777777778,\"#fb9f3a\"],[0.8888888888888888,\"#fdca26\"],[1.0,\"#f0f921\"]],\"type\":\"histogram2d\"}],\"histogram2dcontour\":[{\"colorbar\":{\"outlinewidth\":0,\"ticks\":\"\"},\"colorscale\":[[0.0,\"#0d0887\"],[0.1111111111111111,\"#46039f\"],[0.2222222222222222,\"#7201a8\"],[0.3333333333333333,\"#9c179e\"],[0.4444444444444444,\"#bd3786\"],[0.5555555555555556,\"#d8576b\"],[0.6666666666666666,\"#ed7953\"],[0.7777777777777778,\"#fb9f3a\"],[0.8888888888888888,\"#fdca26\"],[1.0,\"#f0f921\"]],\"type\":\"histogram2dcontour\"}],\"mesh3d\":[{\"colorbar\":{\"outlinewidth\":0,\"ticks\":\"\"},\"type\":\"mesh3d\"}],\"parcoords\":[{\"line\":{\"colorbar\":{\"outlinewidth\":0,\"ticks\":\"\"}},\"type\":\"parcoords\"}],\"pie\":[{\"automargin\":true,\"type\":\"pie\"}],\"scatter\":[{\"marker\":{\"colorbar\":{\"outlinewidth\":0,\"ticks\":\"\"}},\"type\":\"scatter\"}],\"scatter3d\":[{\"line\":{\"colorbar\":{\"outlinewidth\":0,\"ticks\":\"\"}},\"marker\":{\"colorbar\":{\"outlinewidth\":0,\"ticks\":\"\"}},\"type\":\"scatter3d\"}],\"scattercarpet\":[{\"marker\":{\"colorbar\":{\"outlinewidth\":0,\"ticks\":\"\"}},\"type\":\"scattercarpet\"}],\"scattergeo\":[{\"marker\":{\"colorbar\":{\"outlinewidth\":0,\"ticks\":\"\"}},\"type\":\"scattergeo\"}],\"scattergl\":[{\"marker\":{\"colorbar\":{\"outlinewidth\":0,\"ticks\":\"\"}},\"type\":\"scattergl\"}],\"scattermapbox\":[{\"marker\":{\"colorbar\":{\"outlinewidth\":0,\"ticks\":\"\"}},\"type\":\"scattermapbox\"}],\"scatterpolar\":[{\"marker\":{\"colorbar\":{\"outlinewidth\":0,\"ticks\":\"\"}},\"type\":\"scatterpolar\"}],\"scatterpolargl\":[{\"marker\":{\"colorbar\":{\"outlinewidth\":0,\"ticks\":\"\"}},\"type\":\"scatterpolargl\"}],\"scatterternary\":[{\"marker\":{\"colorbar\":{\"outlinewidth\":0,\"ticks\":\"\"}},\"type\":\"scatterternary\"}],\"surface\":[{\"colorbar\":{\"outlinewidth\":0,\"ticks\":\"\"},\"colorscale\":[[0.0,\"#0d0887\"],[0.1111111111111111,\"#46039f\"],[0.2222222222222222,\"#7201a8\"],[0.3333333333333333,\"#9c179e\"],[0.4444444444444444,\"#bd3786\"],[0.5555555555555556,\"#d8576b\"],[0.6666666666666666,\"#ed7953\"],[0.7777777777777778,\"#fb9f3a\"],[0.8888888888888888,\"#fdca26\"],[1.0,\"#f0f921\"]],\"type\":\"surface\"}],\"table\":[{\"cells\":{\"fill\":{\"color\":\"#EBF0F8\"},\"line\":{\"color\":\"white\"}},\"header\":{\"fill\":{\"color\":\"#C8D4E3\"},\"line\":{\"color\":\"white\"}},\"type\":\"table\"}]},\"layout\":{\"annotationdefaults\":{\"arrowcolor\":\"#2a3f5f\",\"arrowhead\":0,\"arrowwidth\":1},\"autotypenumbers\":\"strict\",\"coloraxis\":{\"colorbar\":{\"outlinewidth\":0,\"ticks\":\"\"}},\"colorscale\":{\"diverging\":[[0,\"#8e0152\"],[0.1,\"#c51b7d\"],[0.2,\"#de77ae\"],[0.3,\"#f1b6da\"],[0.4,\"#fde0ef\"],[0.5,\"#f7f7f7\"],[0.6,\"#e6f5d0\"],[0.7,\"#b8e186\"],[0.8,\"#7fbc41\"],[0.9,\"#4d9221\"],[1,\"#276419\"]],\"sequential\":[[0.0,\"#0d0887\"],[0.1111111111111111,\"#46039f\"],[0.2222222222222222,\"#7201a8\"],[0.3333333333333333,\"#9c179e\"],[0.4444444444444444,\"#bd3786\"],[0.5555555555555556,\"#d8576b\"],[0.6666666666666666,\"#ed7953\"],[0.7777777777777778,\"#fb9f3a\"],[0.8888888888888888,\"#fdca26\"],[1.0,\"#f0f921\"]],\"sequentialminus\":[[0.0,\"#0d0887\"],[0.1111111111111111,\"#46039f\"],[0.2222222222222222,\"#7201a8\"],[0.3333333333333333,\"#9c179e\"],[0.4444444444444444,\"#bd3786\"],[0.5555555555555556,\"#d8576b\"],[0.6666666666666666,\"#ed7953\"],[0.7777777777777778,\"#fb9f3a\"],[0.8888888888888888,\"#fdca26\"],[1.0,\"#f0f921\"]]},\"colorway\":[\"#636efa\",\"#EF553B\",\"#00cc96\",\"#ab63fa\",\"#FFA15A\",\"#19d3f3\",\"#FF6692\",\"#B6E880\",\"#FF97FF\",\"#FECB52\"],\"font\":{\"color\":\"#2a3f5f\"},\"geo\":{\"bgcolor\":\"white\",\"lakecolor\":\"white\",\"landcolor\":\"#E5ECF6\",\"showlakes\":true,\"showland\":true,\"subunitcolor\":\"white\"},\"hoverlabel\":{\"align\":\"left\"},\"hovermode\":\"closest\",\"mapbox\":{\"style\":\"light\"},\"paper_bgcolor\":\"white\",\"plot_bgcolor\":\"#E5ECF6\",\"polar\":{\"angularaxis\":{\"gridcolor\":\"white\",\"linecolor\":\"white\",\"ticks\":\"\"},\"bgcolor\":\"#E5ECF6\",\"radialaxis\":{\"gridcolor\":\"white\",\"linecolor\":\"white\",\"ticks\":\"\"}},\"scene\":{\"xaxis\":{\"backgroundcolor\":\"#E5ECF6\",\"gridcolor\":\"white\",\"gridwidth\":2,\"linecolor\":\"white\",\"showbackground\":true,\"ticks\":\"\",\"zerolinecolor\":\"white\"},\"yaxis\":{\"backgroundcolor\":\"#E5ECF6\",\"gridcolor\":\"white\",\"gridwidth\":2,\"linecolor\":\"white\",\"showbackground\":true,\"ticks\":\"\",\"zerolinecolor\":\"white\"},\"zaxis\":{\"backgroundcolor\":\"#E5ECF6\",\"gridcolor\":\"white\",\"gridwidth\":2,\"linecolor\":\"white\",\"showbackground\":true,\"ticks\":\"\",\"zerolinecolor\":\"white\"}},\"shapedefaults\":{\"line\":{\"color\":\"#2a3f5f\"}},\"ternary\":{\"aaxis\":{\"gridcolor\":\"white\",\"linecolor\":\"white\",\"ticks\":\"\"},\"baxis\":{\"gridcolor\":\"white\",\"linecolor\":\"white\",\"ticks\":\"\"},\"bgcolor\":\"#E5ECF6\",\"caxis\":{\"gridcolor\":\"white\",\"linecolor\":\"white\",\"ticks\":\"\"}},\"title\":{\"x\":0.05},\"xaxis\":{\"automargin\":true,\"gridcolor\":\"white\",\"linecolor\":\"white\",\"ticks\":\"\",\"title\":{\"standoff\":15},\"zerolinecolor\":\"white\",\"zerolinewidth\":2},\"yaxis\":{\"automargin\":true,\"gridcolor\":\"white\",\"linecolor\":\"white\",\"ticks\":\"\",\"title\":{\"standoff\":15},\"zerolinecolor\":\"white\",\"zerolinewidth\":2}}},\"xaxis\":{\"anchor\":\"y\",\"domain\":[0.0,1.0],\"title\":{\"text\":\"Alpha\"},\"tickmode\":\"array\",\"tickvals\":[0,1,2,3,4,5],\"ticktext\":[0.05,0.1,0.2,0.5,0.8,1.0]},\"yaxis\":{\"anchor\":\"x\",\"domain\":[0.0,1.0],\"title\":{\"text\":\"Risk\"}},\"legend\":{\"tracegroupgap\":0},\"title\":{\"text\":\"Blurred W refit n=200, p=300\"},\"boxmode\":\"group\",\"shapes\":[{\"line\":{\"color\":\"red\"},\"type\":\"line\",\"x0\":0,\"x1\":1,\"xref\":\"x domain\",\"y0\":0.0,\"y1\":0.0,\"yref\":\"y\"}]},                        {\"responsive\": true}                    ).then(function(){\n",
       "                            \n",
       "var gd = document.getElementById('a0f32150-fc29-4693-9b6e-0671e2feb45d');\n",
       "var x = new MutationObserver(function (mutations, observer) {{\n",
       "        var display = window.getComputedStyle(gd).display;\n",
       "        if (!display || display === 'none') {{\n",
       "            console.log([gd, 'removed!']);\n",
       "            Plotly.purge(gd);\n",
       "            observer.disconnect();\n",
       "        }}\n",
       "}});\n",
       "\n",
       "// Listen for the removal of the full notebook cells\n",
       "var notebookContainer = gd.closest('#notebook-container');\n",
       "if (notebookContainer) {{\n",
       "    x.observe(notebookContainer, {childList: true});\n",
       "}}\n",
       "\n",
       "// Listen for the clearing of the current output cell\n",
       "var outputEl = gd.closest('.output');\n",
       "if (outputEl) {{\n",
       "    x.observe(outputEl, {childList: true});\n",
       "}}\n",
       "\n",
       "                        })                };                });            </script>        </div>"
      ]
     },
     "metadata": {},
     "output_type": "display_data"
    }
   ],
   "source": [
    "fig_blur_w = px.box((blur_df_w - test_err_w.mean(1))/test_err_w.mean(1), \n",
    "                  labels={\n",
    "                         \"variable\": \"Alpha\",\n",
    "                         \"value\": \"Risk\"\n",
    "                         },\n",
    "                  points=False,\n",
    "                  title=f\"Blurred W refit n={n}, p={p}\")\n",
    "fig_blur_w.update_traces(boxmean=True)\n",
    "# fig_blur_w.add_trace(go.Scatter(x=[-1,na], \n",
    "#                          y=[test_err_w.mean(),test_err_w.mean()], \n",
    "#                          mode='lines', \n",
    "#                          name=f'err: {test_err_w.mean():.2f}'))\n",
    "fig_blur_w.add_hline(y=0.,line_color='red')\n",
    "fig_blur_w.update_layout(\n",
    "    xaxis = dict(\n",
    "        tickmode = 'array',\n",
    "        tickvals = np.arange(na),\n",
    "        ticktext = alphas,\n",
    "    )\n",
    ")"
   ]
  },
  {
   "cell_type": "code",
   "execution_count": null,
   "metadata": {},
   "outputs": [],
   "source": []
  },
  {
   "cell_type": "code",
   "execution_count": 34,
   "metadata": {},
   "outputs": [
    {
     "name": "stdout",
     "output_type": "stream",
     "text": [
      "0\n",
      "1\n",
      "2\n",
      "3\n",
      "4\n",
      "5\n"
     ]
    }
   ],
   "source": [
    "test_err_w_rand = np.zeros((na, niter))\n",
    "blur_err_w_rand = np.zeros((na, niter))\n",
    "\n",
    "X = np.random.randn(n,p)\n",
    "beta = np.zeros(p)\n",
    "idx = np.random.choice(p,size=s)\n",
    "beta[idx] = np.random.uniform(-1,1,size=s)\n",
    "\n",
    "for i,alpha in enumerate(alphas):\n",
    "    print(i)\n",
    "    (test_err_w_rand[i,:],\n",
    "     blur_err_w_rand[i,:]) = err_cmp.compareForest(n=n,\n",
    "                                         p=p,\n",
    "                                         X=X,\n",
    "                                         beta=beta,\n",
    "                                         Chol_t=Chol_t,\n",
    "                                         Theta_p=Theta_p,\n",
    "                                         model=BlurredForest(max_depth=4, \n",
    "                                                             max_features=\"sqrt\",\n",
    "                                                             n_estimators=n_estimators),\n",
    "                                         alpha=alpha,\n",
    "                                         niter=niter,\n",
    "                                         use_expectation=False,\n",
    "                                         rand_type='rand',\n",
    "                                         est_risk=False)\n",
    "    "
   ]
  },
  {
   "cell_type": "code",
   "execution_count": 35,
   "metadata": {},
   "outputs": [],
   "source": [
    "risk_w_rand = test_err_w_rand.mean(axis=1)"
   ]
  },
  {
   "cell_type": "code",
   "execution_count": 36,
   "metadata": {},
   "outputs": [],
   "source": [
    "blur_df_w_rand = pd.DataFrame((blur_err_w_rand.T))# - test_err_w_rand.T)/test_err_w_rand.T)"
   ]
  },
  {
   "cell_type": "code",
   "execution_count": 37,
   "metadata": {
    "scrolled": false
   },
   "outputs": [
    {
     "data": {
      "application/vnd.plotly.v1+json": {
       "config": {
        "plotlyServerURL": "https://plot.ly"
       },
       "data": [
        {
         "alignmentgroup": "True",
         "boxmean": true,
         "boxpoints": false,
         "hovertemplate": "Alpha=%{x}<br>Risk=%{y}<extra></extra>",
         "legendgroup": "",
         "marker": {
          "color": "#636efa"
         },
         "name": "",
         "notched": false,
         "offsetgroup": "",
         "orientation": "v",
         "showlegend": false,
         "type": "box",
         "x": [
          "0",
          "0",
          "0",
          "0",
          "0",
          "0",
          "0",
          "0",
          "0",
          "0",
          "0",
          "0",
          "0",
          "0",
          "0",
          "0",
          "0",
          "0",
          "0",
          "0",
          "0",
          "0",
          "0",
          "0",
          "0",
          "0",
          "0",
          "0",
          "0",
          "0",
          "0",
          "0",
          "0",
          "0",
          "0",
          "0",
          "0",
          "0",
          "0",
          "0",
          "0",
          "0",
          "0",
          "0",
          "0",
          "0",
          "0",
          "0",
          "0",
          "0",
          "0",
          "0",
          "0",
          "0",
          "0",
          "0",
          "0",
          "0",
          "0",
          "0",
          "0",
          "0",
          "0",
          "0",
          "0",
          "0",
          "0",
          "0",
          "0",
          "0",
          "0",
          "0",
          "0",
          "0",
          "0",
          "0",
          "0",
          "0",
          "0",
          "0",
          "0",
          "0",
          "0",
          "0",
          "0",
          "0",
          "0",
          "0",
          "0",
          "0",
          "0",
          "0",
          "0",
          "0",
          "0",
          "0",
          "0",
          "0",
          "0",
          "0",
          "1",
          "1",
          "1",
          "1",
          "1",
          "1",
          "1",
          "1",
          "1",
          "1",
          "1",
          "1",
          "1",
          "1",
          "1",
          "1",
          "1",
          "1",
          "1",
          "1",
          "1",
          "1",
          "1",
          "1",
          "1",
          "1",
          "1",
          "1",
          "1",
          "1",
          "1",
          "1",
          "1",
          "1",
          "1",
          "1",
          "1",
          "1",
          "1",
          "1",
          "1",
          "1",
          "1",
          "1",
          "1",
          "1",
          "1",
          "1",
          "1",
          "1",
          "1",
          "1",
          "1",
          "1",
          "1",
          "1",
          "1",
          "1",
          "1",
          "1",
          "1",
          "1",
          "1",
          "1",
          "1",
          "1",
          "1",
          "1",
          "1",
          "1",
          "1",
          "1",
          "1",
          "1",
          "1",
          "1",
          "1",
          "1",
          "1",
          "1",
          "1",
          "1",
          "1",
          "1",
          "1",
          "1",
          "1",
          "1",
          "1",
          "1",
          "1",
          "1",
          "1",
          "1",
          "1",
          "1",
          "1",
          "1",
          "1",
          "1",
          "2",
          "2",
          "2",
          "2",
          "2",
          "2",
          "2",
          "2",
          "2",
          "2",
          "2",
          "2",
          "2",
          "2",
          "2",
          "2",
          "2",
          "2",
          "2",
          "2",
          "2",
          "2",
          "2",
          "2",
          "2",
          "2",
          "2",
          "2",
          "2",
          "2",
          "2",
          "2",
          "2",
          "2",
          "2",
          "2",
          "2",
          "2",
          "2",
          "2",
          "2",
          "2",
          "2",
          "2",
          "2",
          "2",
          "2",
          "2",
          "2",
          "2",
          "2",
          "2",
          "2",
          "2",
          "2",
          "2",
          "2",
          "2",
          "2",
          "2",
          "2",
          "2",
          "2",
          "2",
          "2",
          "2",
          "2",
          "2",
          "2",
          "2",
          "2",
          "2",
          "2",
          "2",
          "2",
          "2",
          "2",
          "2",
          "2",
          "2",
          "2",
          "2",
          "2",
          "2",
          "2",
          "2",
          "2",
          "2",
          "2",
          "2",
          "2",
          "2",
          "2",
          "2",
          "2",
          "2",
          "2",
          "2",
          "2",
          "2",
          "3",
          "3",
          "3",
          "3",
          "3",
          "3",
          "3",
          "3",
          "3",
          "3",
          "3",
          "3",
          "3",
          "3",
          "3",
          "3",
          "3",
          "3",
          "3",
          "3",
          "3",
          "3",
          "3",
          "3",
          "3",
          "3",
          "3",
          "3",
          "3",
          "3",
          "3",
          "3",
          "3",
          "3",
          "3",
          "3",
          "3",
          "3",
          "3",
          "3",
          "3",
          "3",
          "3",
          "3",
          "3",
          "3",
          "3",
          "3",
          "3",
          "3",
          "3",
          "3",
          "3",
          "3",
          "3",
          "3",
          "3",
          "3",
          "3",
          "3",
          "3",
          "3",
          "3",
          "3",
          "3",
          "3",
          "3",
          "3",
          "3",
          "3",
          "3",
          "3",
          "3",
          "3",
          "3",
          "3",
          "3",
          "3",
          "3",
          "3",
          "3",
          "3",
          "3",
          "3",
          "3",
          "3",
          "3",
          "3",
          "3",
          "3",
          "3",
          "3",
          "3",
          "3",
          "3",
          "3",
          "3",
          "3",
          "3",
          "3",
          "4",
          "4",
          "4",
          "4",
          "4",
          "4",
          "4",
          "4",
          "4",
          "4",
          "4",
          "4",
          "4",
          "4",
          "4",
          "4",
          "4",
          "4",
          "4",
          "4",
          "4",
          "4",
          "4",
          "4",
          "4",
          "4",
          "4",
          "4",
          "4",
          "4",
          "4",
          "4",
          "4",
          "4",
          "4",
          "4",
          "4",
          "4",
          "4",
          "4",
          "4",
          "4",
          "4",
          "4",
          "4",
          "4",
          "4",
          "4",
          "4",
          "4",
          "4",
          "4",
          "4",
          "4",
          "4",
          "4",
          "4",
          "4",
          "4",
          "4",
          "4",
          "4",
          "4",
          "4",
          "4",
          "4",
          "4",
          "4",
          "4",
          "4",
          "4",
          "4",
          "4",
          "4",
          "4",
          "4",
          "4",
          "4",
          "4",
          "4",
          "4",
          "4",
          "4",
          "4",
          "4",
          "4",
          "4",
          "4",
          "4",
          "4",
          "4",
          "4",
          "4",
          "4",
          "4",
          "4",
          "4",
          "4",
          "4",
          "4",
          "5",
          "5",
          "5",
          "5",
          "5",
          "5",
          "5",
          "5",
          "5",
          "5",
          "5",
          "5",
          "5",
          "5",
          "5",
          "5",
          "5",
          "5",
          "5",
          "5",
          "5",
          "5",
          "5",
          "5",
          "5",
          "5",
          "5",
          "5",
          "5",
          "5",
          "5",
          "5",
          "5",
          "5",
          "5",
          "5",
          "5",
          "5",
          "5",
          "5",
          "5",
          "5",
          "5",
          "5",
          "5",
          "5",
          "5",
          "5",
          "5",
          "5",
          "5",
          "5",
          "5",
          "5",
          "5",
          "5",
          "5",
          "5",
          "5",
          "5",
          "5",
          "5",
          "5",
          "5",
          "5",
          "5",
          "5",
          "5",
          "5",
          "5",
          "5",
          "5",
          "5",
          "5",
          "5",
          "5",
          "5",
          "5",
          "5",
          "5",
          "5",
          "5",
          "5",
          "5",
          "5",
          "5",
          "5",
          "5",
          "5",
          "5",
          "5",
          "5",
          "5",
          "5",
          "5",
          "5",
          "5",
          "5",
          "5",
          "5"
         ],
         "x0": " ",
         "xaxis": "x",
         "y": [
          0.4883066178982378,
          0.05419416658236121,
          0.08023501855780034,
          0.0532856569952726,
          0.23746924674395317,
          0.26126869661289615,
          -0.2526399544856248,
          0.009226420594553827,
          0.0921253599131902,
          0.05623980003124939,
          0.19981612024414283,
          0.015395612247511918,
          0.03967556000426522,
          -0.11886424002257442,
          -0.06422233033883494,
          -0.05092549845569775,
          -0.16346664143905856,
          0.14899606547359695,
          0.05461554103681007,
          0.12899965796016138,
          -0.21356998758968274,
          0.015218485953044798,
          -0.17076089613195003,
          -0.1242456130386829,
          0.1059617883852047,
          -0.012098217823210675,
          -0.13888377973383498,
          -0.050791635277504396,
          -0.07772349212244067,
          0.17617610390188532,
          -0.15611482564206594,
          -0.10004857292272397,
          -0.07553233341062306,
          0.07421465548773695,
          -0.07891392657854658,
          -0.1520193673729222,
          0.247523919894583,
          0.07194559882011628,
          -0.04925596759544464,
          -0.006704641366089331,
          0.12209821721615444,
          0.13665743406083655,
          0.0018404518618077921,
          0.19908398894218626,
          0.16342018811543343,
          0.004530218672744521,
          -0.021923753980603918,
          -0.12768666578358798,
          0.36836336743665815,
          -0.08021068067860092,
          -0.09131030655149837,
          0.1358108072313529,
          -0.13223516686276549,
          -0.06191754997602724,
          -0.03699784926321981,
          -0.17673472906317322,
          0.015019278046050747,
          -0.11464847470489442,
          -0.10457634749018005,
          0.29419335390428164,
          -0.08295954658243573,
          -0.06504206397610522,
          0.05907196412873728,
          -0.17413190758132693,
          0.008814864997830239,
          -0.015276071420092236,
          0.07954190609124791,
          -0.13018234280611382,
          0.29581142746938266,
          -0.08366237436587594,
          -0.04854113601608196,
          0.2876142595622878,
          0.15462743519995228,
          -0.06749749820751588,
          -0.20346759519274818,
          0.20218548771431044,
          -0.1282074859289079,
          0.10720675901197549,
          0.03477605679708225,
          0.16980201168707745,
          -0.07553449104927461,
          0.30883592740176125,
          -0.4206729404594329,
          -0.19094315934616438,
          -0.34522191208915437,
          -0.02819782252081864,
          -0.02794686536597994,
          -0.0047171150380333985,
          -0.08299302572908182,
          0.09013829079666086,
          -0.0978699153491633,
          -0.03956027280292504,
          -0.036030535978405956,
          -0.10769196176559888,
          -0.03719633650977123,
          -0.07993229307753305,
          -0.1360917307104576,
          0.15998219428279595,
          0.034810677363687224,
          -0.08893830443149783,
          -0.031597338312003787,
          -0.1492952493302532,
          0.19514708404258369,
          0.11487258436718646,
          -0.005936044922838816,
          0.040390296286051,
          -0.05519417301338662,
          -0.04484130412296046,
          -0.020143033002014483,
          -0.08673343816903854,
          -0.0016498962889857363,
          -0.0014049351269061583,
          0.15136327252138873,
          0.09288222499778923,
          0.1509503998115785,
          -0.1943284471411282,
          0.18221767854120038,
          0.21700338060399077,
          -0.19863926146949681,
          0.1389179535651412,
          -0.14858602893288037,
          0.29670620854830126,
          0.20993171246421843,
          0.05209912854687799,
          -0.14365907775591144,
          -0.0923806095386849,
          -0.17417327927801515,
          0.14669238647718166,
          -0.1756113833228054,
          -0.15893972823364447,
          -0.0839369979983705,
          0.05230857726164465,
          0.09442110313284642,
          0.01371453752136492,
          0.19877108216563757,
          -0.09320233347089588,
          -0.0698041015208546,
          0.07208801439488423,
          -0.10229602286587593,
          -0.1559646788074562,
          -0.020507594949279014,
          0.251491419236122,
          0.05549422164311425,
          0.22032093300866037,
          0.08042877459121896,
          -0.11971610681431505,
          -0.3172483384344729,
          -0.0681867050501531,
          0.08004679809533832,
          0.05074746659638266,
          -0.060786104480246496,
          0.018462265727572653,
          0.05657295195405251,
          0.2780747422048504,
          0.21151993715553602,
          -0.0489318391292077,
          0.004817225548883945,
          0.06547044575680945,
          -0.0316231770669699,
          0.057966555697299034,
          0.09321471503899478,
          0.2344947068805088,
          -0.04489052461341097,
          -0.02371858139667692,
          0.011978759104950542,
          -0.09202293255887221,
          0.056572640817137254,
          0.27489844453698675,
          0.03281947288104536,
          0.08482710054781144,
          -0.2273814300964898,
          -0.11299099731729755,
          0.15794969952109453,
          0.0669664371210987,
          -0.03468753140120955,
          0.14901535793997828,
          -0.07361679831463089,
          -0.04428185810017661,
          0.1605629480931012,
          -0.18642400898210976,
          -0.001386112234939259,
          -0.034895893203303656,
          -0.1374323946263832,
          -0.03710822311634988,
          0.03716554691819681,
          -0.10099410437104028,
          0.20793509586694797,
          0.04146513123957957,
          0.04102012624965172,
          0.09703867762537273,
          0.08011661591548215,
          -0.15744231513854148,
          0.12957451699151248,
          -0.14852784903140567,
          -0.10507331300836291,
          0.03221712540715794,
          0.1375238350968576,
          -0.12115480408639676,
          0.18044320171460285,
          0.05035717225181781,
          -0.1396499913279782,
          -0.17247519127752967,
          0.08910759348457413,
          -0.0007073780965987502,
          0.09841379009314215,
          0.14617811675725734,
          0.11727194748151597,
          0.007728497396883238,
          0.05397079819508993,
          0.009460729480416328,
          0.09881102851065132,
          -0.07269828171937615,
          0.08388303226900437,
          0.3870657394327192,
          0.009243913739727801,
          -0.026631746309765125,
          0.15418133025259442,
          -0.15403725681274377,
          0.007736517398035868,
          0.04532450443824118,
          0.009083059257173046,
          -0.06008924387713166,
          0.024474341247337276,
          -0.02060936874681325,
          0.1260065960083678,
          -0.10952273823697067,
          0.08217509711293941,
          -0.13241145026496828,
          -0.09090217063640539,
          0.06850620086340783,
          -0.04365979494942728,
          0.03166640867340248,
          0.11447733443148848,
          0.1262692492930332,
          0.05295935076563448,
          -0.09667456422394013,
          0.0743311187608947,
          -0.14431953806355394,
          0.13432196616623623,
          0.2271302280120292,
          0.026975194970527652,
          -0.20796675871046713,
          0.003223862059477435,
          0.0006988644751821193,
          0.07574746145276601,
          -0.10255395609733833,
          0.06424491223453793,
          -0.1389369696720062,
          0.07778616320150665,
          -0.02164345801353,
          0.021756467838625723,
          0.016579758986980435,
          -0.019678148611492745,
          -0.035679620189822576,
          0.09964717958811853,
          0.06282778097846178,
          -0.025514566346489784,
          -0.032263992156323994,
          0.024689080076986395,
          0.139239796445394,
          -0.09526580217992298,
          -0.05171518707595032,
          0.03790359867807453,
          0.15802518581640296,
          0.1622207583595652,
          0.022582253563285117,
          -0.11247542386469195,
          -0.1544211847591393,
          0.16170039743595074,
          -0.006762205761327167,
          -0.033975890350721474,
          0.1249942041648677,
          -0.005769233889584558,
          -0.049249517678814636,
          -0.01180440595466415,
          -0.10214220034993286,
          0.03965809266931973,
          -0.02518682687871087,
          -0.19955628598363684,
          -0.04530691842281679,
          -0.017606456038842817,
          0.10258552562031653,
          0.07288895975642071,
          0.03722984725914173,
          0.10595208254738102,
          -0.08447177827302318,
          -0.01701037757300812,
          0.11632955654254817,
          0.04984408027368052,
          5.505204057871373e-05,
          0.09644609228635337,
          0.11561290467115957,
          -0.07912957714474676,
          0.11118657835953431,
          -0.10734244188393116,
          -0.1437365834489437,
          -0.029609852606292175,
          -0.04687217640248782,
          -0.16945394983195688,
          -0.07021982855552786,
          0.01688556865042865,
          0.10634393864629271,
          -0.04345643182920496,
          -0.021168185691713477,
          -0.09120563656293983,
          0.054622327438345074,
          -0.03976977509091787,
          0.07130155684927698,
          0.03549987028362186,
          -0.018936625885359964,
          -0.15355681457876422,
          0.135425469044586,
          0.06017955095670582,
          -0.0036793283633692747,
          0.04782215081442162,
          -0.06098850628586163,
          -0.0918349836029197,
          -0.1262384371150966,
          -0.13396882750159175,
          0.12469612551713427,
          -0.005051783859799011,
          0.034399497784957565,
          -0.10995863989394221,
          -0.04535096618388665,
          0.07177528999461806,
          -0.025932267008404678,
          0.0018340288118280223,
          -0.07517453584522131,
          -0.035072645017717965,
          -0.06633411336010027,
          -0.13631282714912557,
          -0.0992590732121127,
          0.1498525906480685,
          -0.09760003444366135,
          0.06929803893846506,
          -0.0022260466761968973,
          0.048806211023044915,
          0.03197546563104746,
          0.1069207395957816,
          0.022315562564042112,
          -0.09968192343010464,
          -0.10985342881634146,
          0.063666662031558,
          -0.03431037103206856,
          0.02168736989834641,
          0.07519705856146922,
          0.09536225228756315,
          -0.10317474165162573,
          0.10018193117341082,
          0.08445945865050221,
          -0.05571856638433469,
          -0.006319538340173252,
          0.03744866716370979,
          -0.12084214818940724,
          0.039646393404615086,
          0.02582069632990311,
          -0.048721634621532804,
          0.03825561891048415,
          -0.018591471594757734,
          0.28715846624087626,
          -0.0633066525949151,
          -0.00615453174890397,
          0.160723363782419,
          0.055612810217573916,
          -0.1234519091775733,
          0.1921364480452609,
          -0.17352504491595236,
          0.0380985793487396,
          0.044384746279796244,
          -0.05068226623078211,
          -0.0396373343062081,
          -0.08919228133357388,
          -0.14915865260241284,
          -0.08534621931437592,
          -0.10321503551736333,
          -0.0202629595633494,
          -0.10066751236537085,
          -0.05479052265827712,
          -0.12211314990976926,
          -0.13514870638820461,
          -0.12992042765376677,
          0.02178872435981427,
          -0.11014356640154499,
          -0.11799976463145517,
          0.10296121444653979,
          -0.007884593423989979,
          0.013738872568994817,
          0.12030049554671998,
          0.03740790271680208,
          -0.04699533583029378,
          -0.08868620709738041,
          -0.03175792301242982,
          0.14861746768461265,
          -0.0031623852533956076,
          0.1295032323265185,
          0.011054849490145319,
          0.08780148881551135,
          -0.16491695465608924,
          0.18154041300681606,
          0.08593048060754017,
          0.1082272622645625,
          -0.05818024096622192,
          -0.06954608190441736,
          -0.00874365483156245,
          0.06236100747999368,
          -0.0718568442589133,
          -0.1291877270269041,
          -0.0740744962391698,
          0.05225610062587903,
          0.008555820852375318,
          0.021702490370925604,
          -0.005383686467705339,
          -0.05370289582363995,
          -0.06930919019885039,
          -0.13537831146032464,
          -0.028775035927431216,
          -0.07797358651479466,
          0.016161936853516336,
          -0.03844772842077159,
          0.06886969900213942,
          -0.06950776033567074,
          0.017415531774130504,
          0.03836502425831079,
          0.06428391322833693,
          0.13786183610786729,
          0.03459944091839087,
          -0.10110943759017903,
          -0.01604120812518265,
          -0.07643274792560106,
          -0.12466949274814652,
          -0.14232606905830805,
          -0.03364400955782359,
          -0.011604093362530581,
          -0.020939532938264005,
          0.14468472854793515,
          -0.1922933166423178,
          0.02722593731928914,
          -0.035626131474360945,
          0.11677366788202556,
          -0.046506233545164005,
          0.1081749761857323,
          0.14777546237121295,
          -0.04800518571981918,
          -0.04694458715741384,
          0.028351043396273645,
          -0.1042964497328011,
          -0.12625848808906398,
          0.02299959610845052,
          0.07262122092897805,
          0.0744933966227934,
          0.0028769740796969544,
          0.027976598690466623,
          -0.02869291129941689,
          -0.11600153117544114,
          -0.06444052666571715,
          0.030919292979652728,
          -0.008523426748179895,
          -0.14190168046119933,
          -0.10219610518952753,
          0.036991335684536455,
          0.054945310681889376,
          0.05097153778115442,
          0.06731482837555834,
          -0.09101734035415313,
          0.007224327199877843,
          0.03474192642696617,
          -0.0946421686042916,
          0.0755003948840974,
          -0.0931713450473848,
          -0.06855807097851402,
          -0.16408982598519503,
          -0.054187555275869125,
          0.03531564130657566,
          -0.02144124382109301,
          0.10788573932928222,
          -0.1609892710781804,
          -0.04618025574098056,
          -0.1623228116887666,
          -0.06566349219334564,
          -0.06707164061619096,
          0.16634555110111987,
          0.09985304912781477,
          -0.12582892223671524,
          -0.020948860446415668,
          -0.06364866288469016,
          0.059592497020195104,
          -0.11330130461960942,
          -0.05249382883125542,
          -0.04000458243731936,
          -0.0017758365065307458,
          -0.1296269027729343,
          0.036541486714254875,
          -0.09639210441452604,
          -0.09264243080021095,
          0.004808191756778002,
          -0.05634965566023164,
          -0.19827512066519917,
          -0.10167023138281597,
          -0.023167701972736914,
          0.04491872926669655,
          -0.1045700928961261,
          0.04905478199266667,
          0.003682846373551911,
          0.1588036987973964,
          0.04097908651592988,
          -0.038142305420122896,
          0.006659113562916057,
          -0.025167331165832335,
          0.22369412102514805,
          -0.0925244441778536,
          0.05921002801726294,
          0.08152518839009285,
          0.01821237037808094,
          0.15731312530975278,
          -0.04803169876205583,
          -0.03208001230795966,
          -0.11250861855566002,
          0.04289959262062721,
          -0.027984164272959026,
          0.04961679032716176,
          -0.07155718722882695,
          -0.06562291987820083,
          -0.014337610277984195,
          -9.107419404507195e-05,
          0.09927148392024254,
          0.013792291207333385,
          0.003820751204851406,
          -0.005672630222189018,
          -0.05310387557272023,
          -0.10798015699474416,
          -0.050658329921112216,
          -0.011479701678842453,
          0.003210676871471579,
          0.120055304969718,
          -0.053500485086083995,
          -0.02440330715124749,
          -0.13287580448129951,
          0.017666391866679447,
          -0.06450554582409833,
          -0.06926775180684563,
          0.24990684617083073,
          -0.03568532133321131,
          -0.0038160507616747373,
          0.12844750304412428,
          -0.09063419717492553,
          -0.06449297457333368,
          -0.006714513520687961,
          0.01443820132149266,
          0.054810184352194036,
          0.0995018218270436,
          -0.04081355877426972,
          -0.028520087752935734,
          0.057417170642733814,
          0.2105553242169587,
          0.06322295492062552,
          -0.09060329153265424,
          0.06502724189712292,
          0.04319939532567944,
          -0.07025578588955768,
          -0.07119351339237946,
          -0.041434035992924806,
          0.2347588805640515,
          -0.028163237502810832,
          0.006046379782774594,
          -0.03184928662227063,
          -0.009545152267315091,
          -0.06769987206273516,
          0.03219770169099065,
          0.12806600339111784,
          -0.11223546270494981,
          0.05299605598686085,
          -0.0966014422185494,
          -0.004412826264583763,
          -0.000640370151894083,
          0.08413284938298907,
          -0.015080655256201175,
          0.006214777324978038,
          -0.004412651403440424,
          0.04779821096920971,
          0.019219644067299015,
          0.04775215378648436,
          -0.013726975521377152,
          0.033224962524359095,
          0.034780871780890704,
          -0.006485304307489211,
          -0.04907198181721549,
          0.005721492800454088,
          0.008402261562738685,
          0.09477848275859871,
          -0.007342758640170908,
          -0.04504943280448863,
          -0.09874430413413854,
          -0.09529276931100962,
          -0.026200704083579975,
          0.04156873367851526,
          -0.06275411128828119,
          0.12554828799287607,
          -0.005666317307220889,
          -0.060502431921146134,
          0.023304252419371986
         ],
         "y0": " ",
         "yaxis": "y"
        }
       ],
       "layout": {
        "boxmode": "group",
        "legend": {
         "tracegroupgap": 0
        },
        "shapes": [
         {
          "line": {
           "color": "red"
          },
          "type": "line",
          "x0": 0,
          "x1": 1,
          "xref": "x domain",
          "y0": 0,
          "y1": 0,
          "yref": "y"
         }
        ],
        "template": {
         "data": {
          "bar": [
           {
            "error_x": {
             "color": "#2a3f5f"
            },
            "error_y": {
             "color": "#2a3f5f"
            },
            "marker": {
             "line": {
              "color": "#E5ECF6",
              "width": 0.5
             },
             "pattern": {
              "fillmode": "overlay",
              "size": 10,
              "solidity": 0.2
             }
            },
            "type": "bar"
           }
          ],
          "barpolar": [
           {
            "marker": {
             "line": {
              "color": "#E5ECF6",
              "width": 0.5
             },
             "pattern": {
              "fillmode": "overlay",
              "size": 10,
              "solidity": 0.2
             }
            },
            "type": "barpolar"
           }
          ],
          "carpet": [
           {
            "aaxis": {
             "endlinecolor": "#2a3f5f",
             "gridcolor": "white",
             "linecolor": "white",
             "minorgridcolor": "white",
             "startlinecolor": "#2a3f5f"
            },
            "baxis": {
             "endlinecolor": "#2a3f5f",
             "gridcolor": "white",
             "linecolor": "white",
             "minorgridcolor": "white",
             "startlinecolor": "#2a3f5f"
            },
            "type": "carpet"
           }
          ],
          "choropleth": [
           {
            "colorbar": {
             "outlinewidth": 0,
             "ticks": ""
            },
            "type": "choropleth"
           }
          ],
          "contour": [
           {
            "colorbar": {
             "outlinewidth": 0,
             "ticks": ""
            },
            "colorscale": [
             [
              0,
              "#0d0887"
             ],
             [
              0.1111111111111111,
              "#46039f"
             ],
             [
              0.2222222222222222,
              "#7201a8"
             ],
             [
              0.3333333333333333,
              "#9c179e"
             ],
             [
              0.4444444444444444,
              "#bd3786"
             ],
             [
              0.5555555555555556,
              "#d8576b"
             ],
             [
              0.6666666666666666,
              "#ed7953"
             ],
             [
              0.7777777777777778,
              "#fb9f3a"
             ],
             [
              0.8888888888888888,
              "#fdca26"
             ],
             [
              1,
              "#f0f921"
             ]
            ],
            "type": "contour"
           }
          ],
          "contourcarpet": [
           {
            "colorbar": {
             "outlinewidth": 0,
             "ticks": ""
            },
            "type": "contourcarpet"
           }
          ],
          "heatmap": [
           {
            "colorbar": {
             "outlinewidth": 0,
             "ticks": ""
            },
            "colorscale": [
             [
              0,
              "#0d0887"
             ],
             [
              0.1111111111111111,
              "#46039f"
             ],
             [
              0.2222222222222222,
              "#7201a8"
             ],
             [
              0.3333333333333333,
              "#9c179e"
             ],
             [
              0.4444444444444444,
              "#bd3786"
             ],
             [
              0.5555555555555556,
              "#d8576b"
             ],
             [
              0.6666666666666666,
              "#ed7953"
             ],
             [
              0.7777777777777778,
              "#fb9f3a"
             ],
             [
              0.8888888888888888,
              "#fdca26"
             ],
             [
              1,
              "#f0f921"
             ]
            ],
            "type": "heatmap"
           }
          ],
          "heatmapgl": [
           {
            "colorbar": {
             "outlinewidth": 0,
             "ticks": ""
            },
            "colorscale": [
             [
              0,
              "#0d0887"
             ],
             [
              0.1111111111111111,
              "#46039f"
             ],
             [
              0.2222222222222222,
              "#7201a8"
             ],
             [
              0.3333333333333333,
              "#9c179e"
             ],
             [
              0.4444444444444444,
              "#bd3786"
             ],
             [
              0.5555555555555556,
              "#d8576b"
             ],
             [
              0.6666666666666666,
              "#ed7953"
             ],
             [
              0.7777777777777778,
              "#fb9f3a"
             ],
             [
              0.8888888888888888,
              "#fdca26"
             ],
             [
              1,
              "#f0f921"
             ]
            ],
            "type": "heatmapgl"
           }
          ],
          "histogram": [
           {
            "marker": {
             "pattern": {
              "fillmode": "overlay",
              "size": 10,
              "solidity": 0.2
             }
            },
            "type": "histogram"
           }
          ],
          "histogram2d": [
           {
            "colorbar": {
             "outlinewidth": 0,
             "ticks": ""
            },
            "colorscale": [
             [
              0,
              "#0d0887"
             ],
             [
              0.1111111111111111,
              "#46039f"
             ],
             [
              0.2222222222222222,
              "#7201a8"
             ],
             [
              0.3333333333333333,
              "#9c179e"
             ],
             [
              0.4444444444444444,
              "#bd3786"
             ],
             [
              0.5555555555555556,
              "#d8576b"
             ],
             [
              0.6666666666666666,
              "#ed7953"
             ],
             [
              0.7777777777777778,
              "#fb9f3a"
             ],
             [
              0.8888888888888888,
              "#fdca26"
             ],
             [
              1,
              "#f0f921"
             ]
            ],
            "type": "histogram2d"
           }
          ],
          "histogram2dcontour": [
           {
            "colorbar": {
             "outlinewidth": 0,
             "ticks": ""
            },
            "colorscale": [
             [
              0,
              "#0d0887"
             ],
             [
              0.1111111111111111,
              "#46039f"
             ],
             [
              0.2222222222222222,
              "#7201a8"
             ],
             [
              0.3333333333333333,
              "#9c179e"
             ],
             [
              0.4444444444444444,
              "#bd3786"
             ],
             [
              0.5555555555555556,
              "#d8576b"
             ],
             [
              0.6666666666666666,
              "#ed7953"
             ],
             [
              0.7777777777777778,
              "#fb9f3a"
             ],
             [
              0.8888888888888888,
              "#fdca26"
             ],
             [
              1,
              "#f0f921"
             ]
            ],
            "type": "histogram2dcontour"
           }
          ],
          "mesh3d": [
           {
            "colorbar": {
             "outlinewidth": 0,
             "ticks": ""
            },
            "type": "mesh3d"
           }
          ],
          "parcoords": [
           {
            "line": {
             "colorbar": {
              "outlinewidth": 0,
              "ticks": ""
             }
            },
            "type": "parcoords"
           }
          ],
          "pie": [
           {
            "automargin": true,
            "type": "pie"
           }
          ],
          "scatter": [
           {
            "marker": {
             "colorbar": {
              "outlinewidth": 0,
              "ticks": ""
             }
            },
            "type": "scatter"
           }
          ],
          "scatter3d": [
           {
            "line": {
             "colorbar": {
              "outlinewidth": 0,
              "ticks": ""
             }
            },
            "marker": {
             "colorbar": {
              "outlinewidth": 0,
              "ticks": ""
             }
            },
            "type": "scatter3d"
           }
          ],
          "scattercarpet": [
           {
            "marker": {
             "colorbar": {
              "outlinewidth": 0,
              "ticks": ""
             }
            },
            "type": "scattercarpet"
           }
          ],
          "scattergeo": [
           {
            "marker": {
             "colorbar": {
              "outlinewidth": 0,
              "ticks": ""
             }
            },
            "type": "scattergeo"
           }
          ],
          "scattergl": [
           {
            "marker": {
             "colorbar": {
              "outlinewidth": 0,
              "ticks": ""
             }
            },
            "type": "scattergl"
           }
          ],
          "scattermapbox": [
           {
            "marker": {
             "colorbar": {
              "outlinewidth": 0,
              "ticks": ""
             }
            },
            "type": "scattermapbox"
           }
          ],
          "scatterpolar": [
           {
            "marker": {
             "colorbar": {
              "outlinewidth": 0,
              "ticks": ""
             }
            },
            "type": "scatterpolar"
           }
          ],
          "scatterpolargl": [
           {
            "marker": {
             "colorbar": {
              "outlinewidth": 0,
              "ticks": ""
             }
            },
            "type": "scatterpolargl"
           }
          ],
          "scatterternary": [
           {
            "marker": {
             "colorbar": {
              "outlinewidth": 0,
              "ticks": ""
             }
            },
            "type": "scatterternary"
           }
          ],
          "surface": [
           {
            "colorbar": {
             "outlinewidth": 0,
             "ticks": ""
            },
            "colorscale": [
             [
              0,
              "#0d0887"
             ],
             [
              0.1111111111111111,
              "#46039f"
             ],
             [
              0.2222222222222222,
              "#7201a8"
             ],
             [
              0.3333333333333333,
              "#9c179e"
             ],
             [
              0.4444444444444444,
              "#bd3786"
             ],
             [
              0.5555555555555556,
              "#d8576b"
             ],
             [
              0.6666666666666666,
              "#ed7953"
             ],
             [
              0.7777777777777778,
              "#fb9f3a"
             ],
             [
              0.8888888888888888,
              "#fdca26"
             ],
             [
              1,
              "#f0f921"
             ]
            ],
            "type": "surface"
           }
          ],
          "table": [
           {
            "cells": {
             "fill": {
              "color": "#EBF0F8"
             },
             "line": {
              "color": "white"
             }
            },
            "header": {
             "fill": {
              "color": "#C8D4E3"
             },
             "line": {
              "color": "white"
             }
            },
            "type": "table"
           }
          ]
         },
         "layout": {
          "annotationdefaults": {
           "arrowcolor": "#2a3f5f",
           "arrowhead": 0,
           "arrowwidth": 1
          },
          "autotypenumbers": "strict",
          "coloraxis": {
           "colorbar": {
            "outlinewidth": 0,
            "ticks": ""
           }
          },
          "colorscale": {
           "diverging": [
            [
             0,
             "#8e0152"
            ],
            [
             0.1,
             "#c51b7d"
            ],
            [
             0.2,
             "#de77ae"
            ],
            [
             0.3,
             "#f1b6da"
            ],
            [
             0.4,
             "#fde0ef"
            ],
            [
             0.5,
             "#f7f7f7"
            ],
            [
             0.6,
             "#e6f5d0"
            ],
            [
             0.7,
             "#b8e186"
            ],
            [
             0.8,
             "#7fbc41"
            ],
            [
             0.9,
             "#4d9221"
            ],
            [
             1,
             "#276419"
            ]
           ],
           "sequential": [
            [
             0,
             "#0d0887"
            ],
            [
             0.1111111111111111,
             "#46039f"
            ],
            [
             0.2222222222222222,
             "#7201a8"
            ],
            [
             0.3333333333333333,
             "#9c179e"
            ],
            [
             0.4444444444444444,
             "#bd3786"
            ],
            [
             0.5555555555555556,
             "#d8576b"
            ],
            [
             0.6666666666666666,
             "#ed7953"
            ],
            [
             0.7777777777777778,
             "#fb9f3a"
            ],
            [
             0.8888888888888888,
             "#fdca26"
            ],
            [
             1,
             "#f0f921"
            ]
           ],
           "sequentialminus": [
            [
             0,
             "#0d0887"
            ],
            [
             0.1111111111111111,
             "#46039f"
            ],
            [
             0.2222222222222222,
             "#7201a8"
            ],
            [
             0.3333333333333333,
             "#9c179e"
            ],
            [
             0.4444444444444444,
             "#bd3786"
            ],
            [
             0.5555555555555556,
             "#d8576b"
            ],
            [
             0.6666666666666666,
             "#ed7953"
            ],
            [
             0.7777777777777778,
             "#fb9f3a"
            ],
            [
             0.8888888888888888,
             "#fdca26"
            ],
            [
             1,
             "#f0f921"
            ]
           ]
          },
          "colorway": [
           "#636efa",
           "#EF553B",
           "#00cc96",
           "#ab63fa",
           "#FFA15A",
           "#19d3f3",
           "#FF6692",
           "#B6E880",
           "#FF97FF",
           "#FECB52"
          ],
          "font": {
           "color": "#2a3f5f"
          },
          "geo": {
           "bgcolor": "white",
           "lakecolor": "white",
           "landcolor": "#E5ECF6",
           "showlakes": true,
           "showland": true,
           "subunitcolor": "white"
          },
          "hoverlabel": {
           "align": "left"
          },
          "hovermode": "closest",
          "mapbox": {
           "style": "light"
          },
          "paper_bgcolor": "white",
          "plot_bgcolor": "#E5ECF6",
          "polar": {
           "angularaxis": {
            "gridcolor": "white",
            "linecolor": "white",
            "ticks": ""
           },
           "bgcolor": "#E5ECF6",
           "radialaxis": {
            "gridcolor": "white",
            "linecolor": "white",
            "ticks": ""
           }
          },
          "scene": {
           "xaxis": {
            "backgroundcolor": "#E5ECF6",
            "gridcolor": "white",
            "gridwidth": 2,
            "linecolor": "white",
            "showbackground": true,
            "ticks": "",
            "zerolinecolor": "white"
           },
           "yaxis": {
            "backgroundcolor": "#E5ECF6",
            "gridcolor": "white",
            "gridwidth": 2,
            "linecolor": "white",
            "showbackground": true,
            "ticks": "",
            "zerolinecolor": "white"
           },
           "zaxis": {
            "backgroundcolor": "#E5ECF6",
            "gridcolor": "white",
            "gridwidth": 2,
            "linecolor": "white",
            "showbackground": true,
            "ticks": "",
            "zerolinecolor": "white"
           }
          },
          "shapedefaults": {
           "line": {
            "color": "#2a3f5f"
           }
          },
          "ternary": {
           "aaxis": {
            "gridcolor": "white",
            "linecolor": "white",
            "ticks": ""
           },
           "baxis": {
            "gridcolor": "white",
            "linecolor": "white",
            "ticks": ""
           },
           "bgcolor": "#E5ECF6",
           "caxis": {
            "gridcolor": "white",
            "linecolor": "white",
            "ticks": ""
           }
          },
          "title": {
           "x": 0.05
          },
          "xaxis": {
           "automargin": true,
           "gridcolor": "white",
           "linecolor": "white",
           "ticks": "",
           "title": {
            "standoff": 15
           },
           "zerolinecolor": "white",
           "zerolinewidth": 2
          },
          "yaxis": {
           "automargin": true,
           "gridcolor": "white",
           "linecolor": "white",
           "ticks": "",
           "title": {
            "standoff": 15
           },
           "zerolinecolor": "white",
           "zerolinewidth": 2
          }
         }
        },
        "title": {
         "text": "Blurred W refit rand correction n=200, p=300"
        },
        "xaxis": {
         "anchor": "y",
         "domain": [
          0,
          1
         ],
         "tickmode": "array",
         "ticktext": [
          0.05,
          0.1,
          0.2,
          0.5,
          0.8,
          1
         ],
         "tickvals": [
          0,
          1,
          2,
          3,
          4,
          5
         ],
         "title": {
          "text": "Alpha"
         }
        },
        "yaxis": {
         "anchor": "x",
         "domain": [
          0,
          1
         ],
         "title": {
          "text": "Risk"
         }
        }
       }
      },
      "text/html": [
       "<div>                            <div id=\"02270584-1827-479b-815f-4c6afd39810f\" class=\"plotly-graph-div\" style=\"height:525px; width:100%;\"></div>            <script type=\"text/javascript\">                require([\"plotly\"], function(Plotly) {                    window.PLOTLYENV=window.PLOTLYENV || {};                                    if (document.getElementById(\"02270584-1827-479b-815f-4c6afd39810f\")) {                    Plotly.newPlot(                        \"02270584-1827-479b-815f-4c6afd39810f\",                        [{\"alignmentgroup\":\"True\",\"boxpoints\":false,\"hovertemplate\":\"Alpha=%{x}<br>Risk=%{y}<extra></extra>\",\"legendgroup\":\"\",\"marker\":{\"color\":\"#636efa\"},\"name\":\"\",\"notched\":false,\"offsetgroup\":\"\",\"orientation\":\"v\",\"showlegend\":false,\"x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x0\":\" \",\"xaxis\":\"x\",\"y\":[0.4883066178982378,0.05419416658236121,0.08023501855780034,0.0532856569952726,0.23746924674395317,0.26126869661289615,-0.2526399544856248,0.009226420594553827,0.0921253599131902,0.05623980003124939,0.19981612024414283,0.015395612247511918,0.03967556000426522,-0.11886424002257442,-0.06422233033883494,-0.05092549845569775,-0.16346664143905856,0.14899606547359695,0.05461554103681007,0.12899965796016138,-0.21356998758968274,0.015218485953044798,-0.17076089613195003,-0.1242456130386829,0.1059617883852047,-0.012098217823210675,-0.13888377973383498,-0.050791635277504396,-0.07772349212244067,0.17617610390188532,-0.15611482564206594,-0.10004857292272397,-0.07553233341062306,0.07421465548773695,-0.07891392657854658,-0.1520193673729222,0.247523919894583,0.07194559882011628,-0.04925596759544464,-0.006704641366089331,0.12209821721615444,0.13665743406083655,0.0018404518618077921,0.19908398894218626,0.16342018811543343,0.004530218672744521,-0.021923753980603918,-0.12768666578358798,0.36836336743665815,-0.08021068067860092,-0.09131030655149837,0.1358108072313529,-0.13223516686276549,-0.06191754997602724,-0.03699784926321981,-0.17673472906317322,0.015019278046050747,-0.11464847470489442,-0.10457634749018005,0.29419335390428164,-0.08295954658243573,-0.06504206397610522,0.05907196412873728,-0.17413190758132693,0.008814864997830239,-0.015276071420092236,0.07954190609124791,-0.13018234280611382,0.29581142746938266,-0.08366237436587594,-0.04854113601608196,0.2876142595622878,0.15462743519995228,-0.06749749820751588,-0.20346759519274818,0.20218548771431044,-0.1282074859289079,0.10720675901197549,0.03477605679708225,0.16980201168707745,-0.07553449104927461,0.30883592740176125,-0.4206729404594329,-0.19094315934616438,-0.34522191208915437,-0.02819782252081864,-0.02794686536597994,-0.0047171150380333985,-0.08299302572908182,0.09013829079666086,-0.0978699153491633,-0.03956027280292504,-0.036030535978405956,-0.10769196176559888,-0.03719633650977123,-0.07993229307753305,-0.1360917307104576,0.15998219428279595,0.034810677363687224,-0.08893830443149783,-0.031597338312003787,-0.1492952493302532,0.19514708404258369,0.11487258436718646,-0.005936044922838816,0.040390296286051,-0.05519417301338662,-0.04484130412296046,-0.020143033002014483,-0.08673343816903854,-0.0016498962889857363,-0.0014049351269061583,0.15136327252138873,0.09288222499778923,0.1509503998115785,-0.1943284471411282,0.18221767854120038,0.21700338060399077,-0.19863926146949681,0.1389179535651412,-0.14858602893288037,0.29670620854830126,0.20993171246421843,0.05209912854687799,-0.14365907775591144,-0.0923806095386849,-0.17417327927801515,0.14669238647718166,-0.1756113833228054,-0.15893972823364447,-0.0839369979983705,0.05230857726164465,0.09442110313284642,0.01371453752136492,0.19877108216563757,-0.09320233347089588,-0.0698041015208546,0.07208801439488423,-0.10229602286587593,-0.1559646788074562,-0.020507594949279014,0.251491419236122,0.05549422164311425,0.22032093300866037,0.08042877459121896,-0.11971610681431505,-0.3172483384344729,-0.0681867050501531,0.08004679809533832,0.05074746659638266,-0.060786104480246496,0.018462265727572653,0.05657295195405251,0.2780747422048504,0.21151993715553602,-0.0489318391292077,0.004817225548883945,0.06547044575680945,-0.0316231770669699,0.057966555697299034,0.09321471503899478,0.2344947068805088,-0.04489052461341097,-0.02371858139667692,0.011978759104950542,-0.09202293255887221,0.056572640817137254,0.27489844453698675,0.03281947288104536,0.08482710054781144,-0.2273814300964898,-0.11299099731729755,0.15794969952109453,0.0669664371210987,-0.03468753140120955,0.14901535793997828,-0.07361679831463089,-0.04428185810017661,0.1605629480931012,-0.18642400898210976,-0.001386112234939259,-0.034895893203303656,-0.1374323946263832,-0.03710822311634988,0.03716554691819681,-0.10099410437104028,0.20793509586694797,0.04146513123957957,0.04102012624965172,0.09703867762537273,0.08011661591548215,-0.15744231513854148,0.12957451699151248,-0.14852784903140567,-0.10507331300836291,0.03221712540715794,0.1375238350968576,-0.12115480408639676,0.18044320171460285,0.05035717225181781,-0.1396499913279782,-0.17247519127752967,0.08910759348457413,-0.0007073780965987502,0.09841379009314215,0.14617811675725734,0.11727194748151597,0.007728497396883238,0.05397079819508993,0.009460729480416328,0.09881102851065132,-0.07269828171937615,0.08388303226900437,0.3870657394327192,0.009243913739727801,-0.026631746309765125,0.15418133025259442,-0.15403725681274377,0.007736517398035868,0.04532450443824118,0.009083059257173046,-0.06008924387713166,0.024474341247337276,-0.02060936874681325,0.1260065960083678,-0.10952273823697067,0.08217509711293941,-0.13241145026496828,-0.09090217063640539,0.06850620086340783,-0.04365979494942728,0.03166640867340248,0.11447733443148848,0.1262692492930332,0.05295935076563448,-0.09667456422394013,0.0743311187608947,-0.14431953806355394,0.13432196616623623,0.2271302280120292,0.026975194970527652,-0.20796675871046713,0.003223862059477435,0.0006988644751821193,0.07574746145276601,-0.10255395609733833,0.06424491223453793,-0.1389369696720062,0.07778616320150665,-0.02164345801353,0.021756467838625723,0.016579758986980435,-0.019678148611492745,-0.035679620189822576,0.09964717958811853,0.06282778097846178,-0.025514566346489784,-0.032263992156323994,0.024689080076986395,0.139239796445394,-0.09526580217992298,-0.05171518707595032,0.03790359867807453,0.15802518581640296,0.1622207583595652,0.022582253563285117,-0.11247542386469195,-0.1544211847591393,0.16170039743595074,-0.006762205761327167,-0.033975890350721474,0.1249942041648677,-0.005769233889584558,-0.049249517678814636,-0.01180440595466415,-0.10214220034993286,0.03965809266931973,-0.02518682687871087,-0.19955628598363684,-0.04530691842281679,-0.017606456038842817,0.10258552562031653,0.07288895975642071,0.03722984725914173,0.10595208254738102,-0.08447177827302318,-0.01701037757300812,0.11632955654254817,0.04984408027368052,5.505204057871373e-05,0.09644609228635337,0.11561290467115957,-0.07912957714474676,0.11118657835953431,-0.10734244188393116,-0.1437365834489437,-0.029609852606292175,-0.04687217640248782,-0.16945394983195688,-0.07021982855552786,0.01688556865042865,0.10634393864629271,-0.04345643182920496,-0.021168185691713477,-0.09120563656293983,0.054622327438345074,-0.03976977509091787,0.07130155684927698,0.03549987028362186,-0.018936625885359964,-0.15355681457876422,0.135425469044586,0.06017955095670582,-0.0036793283633692747,0.04782215081442162,-0.06098850628586163,-0.0918349836029197,-0.1262384371150966,-0.13396882750159175,0.12469612551713427,-0.005051783859799011,0.034399497784957565,-0.10995863989394221,-0.04535096618388665,0.07177528999461806,-0.025932267008404678,0.0018340288118280223,-0.07517453584522131,-0.035072645017717965,-0.06633411336010027,-0.13631282714912557,-0.0992590732121127,0.1498525906480685,-0.09760003444366135,0.06929803893846506,-0.0022260466761968973,0.048806211023044915,0.03197546563104746,0.1069207395957816,0.022315562564042112,-0.09968192343010464,-0.10985342881634146,0.063666662031558,-0.03431037103206856,0.02168736989834641,0.07519705856146922,0.09536225228756315,-0.10317474165162573,0.10018193117341082,0.08445945865050221,-0.05571856638433469,-0.006319538340173252,0.03744866716370979,-0.12084214818940724,0.039646393404615086,0.02582069632990311,-0.048721634621532804,0.03825561891048415,-0.018591471594757734,0.28715846624087626,-0.0633066525949151,-0.00615453174890397,0.160723363782419,0.055612810217573916,-0.1234519091775733,0.1921364480452609,-0.17352504491595236,0.0380985793487396,0.044384746279796244,-0.05068226623078211,-0.0396373343062081,-0.08919228133357388,-0.14915865260241284,-0.08534621931437592,-0.10321503551736333,-0.0202629595633494,-0.10066751236537085,-0.05479052265827712,-0.12211314990976926,-0.13514870638820461,-0.12992042765376677,0.02178872435981427,-0.11014356640154499,-0.11799976463145517,0.10296121444653979,-0.007884593423989979,0.013738872568994817,0.12030049554671998,0.03740790271680208,-0.04699533583029378,-0.08868620709738041,-0.03175792301242982,0.14861746768461265,-0.0031623852533956076,0.1295032323265185,0.011054849490145319,0.08780148881551135,-0.16491695465608924,0.18154041300681606,0.08593048060754017,0.1082272622645625,-0.05818024096622192,-0.06954608190441736,-0.00874365483156245,0.06236100747999368,-0.0718568442589133,-0.1291877270269041,-0.0740744962391698,0.05225610062587903,0.008555820852375318,0.021702490370925604,-0.005383686467705339,-0.05370289582363995,-0.06930919019885039,-0.13537831146032464,-0.028775035927431216,-0.07797358651479466,0.016161936853516336,-0.03844772842077159,0.06886969900213942,-0.06950776033567074,0.017415531774130504,0.03836502425831079,0.06428391322833693,0.13786183610786729,0.03459944091839087,-0.10110943759017903,-0.01604120812518265,-0.07643274792560106,-0.12466949274814652,-0.14232606905830805,-0.03364400955782359,-0.011604093362530581,-0.020939532938264005,0.14468472854793515,-0.1922933166423178,0.02722593731928914,-0.035626131474360945,0.11677366788202556,-0.046506233545164005,0.1081749761857323,0.14777546237121295,-0.04800518571981918,-0.04694458715741384,0.028351043396273645,-0.1042964497328011,-0.12625848808906398,0.02299959610845052,0.07262122092897805,0.0744933966227934,0.0028769740796969544,0.027976598690466623,-0.02869291129941689,-0.11600153117544114,-0.06444052666571715,0.030919292979652728,-0.008523426748179895,-0.14190168046119933,-0.10219610518952753,0.036991335684536455,0.054945310681889376,0.05097153778115442,0.06731482837555834,-0.09101734035415313,0.007224327199877843,0.03474192642696617,-0.0946421686042916,0.0755003948840974,-0.0931713450473848,-0.06855807097851402,-0.16408982598519503,-0.054187555275869125,0.03531564130657566,-0.02144124382109301,0.10788573932928222,-0.1609892710781804,-0.04618025574098056,-0.1623228116887666,-0.06566349219334564,-0.06707164061619096,0.16634555110111987,0.09985304912781477,-0.12582892223671524,-0.020948860446415668,-0.06364866288469016,0.059592497020195104,-0.11330130461960942,-0.05249382883125542,-0.04000458243731936,-0.0017758365065307458,-0.1296269027729343,0.036541486714254875,-0.09639210441452604,-0.09264243080021095,0.004808191756778002,-0.05634965566023164,-0.19827512066519917,-0.10167023138281597,-0.023167701972736914,0.04491872926669655,-0.1045700928961261,0.04905478199266667,0.003682846373551911,0.1588036987973964,0.04097908651592988,-0.038142305420122896,0.006659113562916057,-0.025167331165832335,0.22369412102514805,-0.0925244441778536,0.05921002801726294,0.08152518839009285,0.01821237037808094,0.15731312530975278,-0.04803169876205583,-0.03208001230795966,-0.11250861855566002,0.04289959262062721,-0.027984164272959026,0.04961679032716176,-0.07155718722882695,-0.06562291987820083,-0.014337610277984195,-9.107419404507195e-05,0.09927148392024254,0.013792291207333385,0.003820751204851406,-0.005672630222189018,-0.05310387557272023,-0.10798015699474416,-0.050658329921112216,-0.011479701678842453,0.003210676871471579,0.120055304969718,-0.053500485086083995,-0.02440330715124749,-0.13287580448129951,0.017666391866679447,-0.06450554582409833,-0.06926775180684563,0.24990684617083073,-0.03568532133321131,-0.0038160507616747373,0.12844750304412428,-0.09063419717492553,-0.06449297457333368,-0.006714513520687961,0.01443820132149266,0.054810184352194036,0.0995018218270436,-0.04081355877426972,-0.028520087752935734,0.057417170642733814,0.2105553242169587,0.06322295492062552,-0.09060329153265424,0.06502724189712292,0.04319939532567944,-0.07025578588955768,-0.07119351339237946,-0.041434035992924806,0.2347588805640515,-0.028163237502810832,0.006046379782774594,-0.03184928662227063,-0.009545152267315091,-0.06769987206273516,0.03219770169099065,0.12806600339111784,-0.11223546270494981,0.05299605598686085,-0.0966014422185494,-0.004412826264583763,-0.000640370151894083,0.08413284938298907,-0.015080655256201175,0.006214777324978038,-0.004412651403440424,0.04779821096920971,0.019219644067299015,0.04775215378648436,-0.013726975521377152,0.033224962524359095,0.034780871780890704,-0.006485304307489211,-0.04907198181721549,0.005721492800454088,0.008402261562738685,0.09477848275859871,-0.007342758640170908,-0.04504943280448863,-0.09874430413413854,-0.09529276931100962,-0.026200704083579975,0.04156873367851526,-0.06275411128828119,0.12554828799287607,-0.005666317307220889,-0.060502431921146134,0.023304252419371986],\"y0\":\" \",\"yaxis\":\"y\",\"type\":\"box\",\"boxmean\":true}],                        {\"template\":{\"data\":{\"bar\":[{\"error_x\":{\"color\":\"#2a3f5f\"},\"error_y\":{\"color\":\"#2a3f5f\"},\"marker\":{\"line\":{\"color\":\"#E5ECF6\",\"width\":0.5},\"pattern\":{\"fillmode\":\"overlay\",\"size\":10,\"solidity\":0.2}},\"type\":\"bar\"}],\"barpolar\":[{\"marker\":{\"line\":{\"color\":\"#E5ECF6\",\"width\":0.5},\"pattern\":{\"fillmode\":\"overlay\",\"size\":10,\"solidity\":0.2}},\"type\":\"barpolar\"}],\"carpet\":[{\"aaxis\":{\"endlinecolor\":\"#2a3f5f\",\"gridcolor\":\"white\",\"linecolor\":\"white\",\"minorgridcolor\":\"white\",\"startlinecolor\":\"#2a3f5f\"},\"baxis\":{\"endlinecolor\":\"#2a3f5f\",\"gridcolor\":\"white\",\"linecolor\":\"white\",\"minorgridcolor\":\"white\",\"startlinecolor\":\"#2a3f5f\"},\"type\":\"carpet\"}],\"choropleth\":[{\"colorbar\":{\"outlinewidth\":0,\"ticks\":\"\"},\"type\":\"choropleth\"}],\"contour\":[{\"colorbar\":{\"outlinewidth\":0,\"ticks\":\"\"},\"colorscale\":[[0.0,\"#0d0887\"],[0.1111111111111111,\"#46039f\"],[0.2222222222222222,\"#7201a8\"],[0.3333333333333333,\"#9c179e\"],[0.4444444444444444,\"#bd3786\"],[0.5555555555555556,\"#d8576b\"],[0.6666666666666666,\"#ed7953\"],[0.7777777777777778,\"#fb9f3a\"],[0.8888888888888888,\"#fdca26\"],[1.0,\"#f0f921\"]],\"type\":\"contour\"}],\"contourcarpet\":[{\"colorbar\":{\"outlinewidth\":0,\"ticks\":\"\"},\"type\":\"contourcarpet\"}],\"heatmap\":[{\"colorbar\":{\"outlinewidth\":0,\"ticks\":\"\"},\"colorscale\":[[0.0,\"#0d0887\"],[0.1111111111111111,\"#46039f\"],[0.2222222222222222,\"#7201a8\"],[0.3333333333333333,\"#9c179e\"],[0.4444444444444444,\"#bd3786\"],[0.5555555555555556,\"#d8576b\"],[0.6666666666666666,\"#ed7953\"],[0.7777777777777778,\"#fb9f3a\"],[0.8888888888888888,\"#fdca26\"],[1.0,\"#f0f921\"]],\"type\":\"heatmap\"}],\"heatmapgl\":[{\"colorbar\":{\"outlinewidth\":0,\"ticks\":\"\"},\"colorscale\":[[0.0,\"#0d0887\"],[0.1111111111111111,\"#46039f\"],[0.2222222222222222,\"#7201a8\"],[0.3333333333333333,\"#9c179e\"],[0.4444444444444444,\"#bd3786\"],[0.5555555555555556,\"#d8576b\"],[0.6666666666666666,\"#ed7953\"],[0.7777777777777778,\"#fb9f3a\"],[0.8888888888888888,\"#fdca26\"],[1.0,\"#f0f921\"]],\"type\":\"heatmapgl\"}],\"histogram\":[{\"marker\":{\"pattern\":{\"fillmode\":\"overlay\",\"size\":10,\"solidity\":0.2}},\"type\":\"histogram\"}],\"histogram2d\":[{\"colorbar\":{\"outlinewidth\":0,\"ticks\":\"\"},\"colorscale\":[[0.0,\"#0d0887\"],[0.1111111111111111,\"#46039f\"],[0.2222222222222222,\"#7201a8\"],[0.3333333333333333,\"#9c179e\"],[0.4444444444444444,\"#bd3786\"],[0.5555555555555556,\"#d8576b\"],[0.6666666666666666,\"#ed7953\"],[0.7777777777777778,\"#fb9f3a\"],[0.8888888888888888,\"#fdca26\"],[1.0,\"#f0f921\"]],\"type\":\"histogram2d\"}],\"histogram2dcontour\":[{\"colorbar\":{\"outlinewidth\":0,\"ticks\":\"\"},\"colorscale\":[[0.0,\"#0d0887\"],[0.1111111111111111,\"#46039f\"],[0.2222222222222222,\"#7201a8\"],[0.3333333333333333,\"#9c179e\"],[0.4444444444444444,\"#bd3786\"],[0.5555555555555556,\"#d8576b\"],[0.6666666666666666,\"#ed7953\"],[0.7777777777777778,\"#fb9f3a\"],[0.8888888888888888,\"#fdca26\"],[1.0,\"#f0f921\"]],\"type\":\"histogram2dcontour\"}],\"mesh3d\":[{\"colorbar\":{\"outlinewidth\":0,\"ticks\":\"\"},\"type\":\"mesh3d\"}],\"parcoords\":[{\"line\":{\"colorbar\":{\"outlinewidth\":0,\"ticks\":\"\"}},\"type\":\"parcoords\"}],\"pie\":[{\"automargin\":true,\"type\":\"pie\"}],\"scatter\":[{\"marker\":{\"colorbar\":{\"outlinewidth\":0,\"ticks\":\"\"}},\"type\":\"scatter\"}],\"scatter3d\":[{\"line\":{\"colorbar\":{\"outlinewidth\":0,\"ticks\":\"\"}},\"marker\":{\"colorbar\":{\"outlinewidth\":0,\"ticks\":\"\"}},\"type\":\"scatter3d\"}],\"scattercarpet\":[{\"marker\":{\"colorbar\":{\"outlinewidth\":0,\"ticks\":\"\"}},\"type\":\"scattercarpet\"}],\"scattergeo\":[{\"marker\":{\"colorbar\":{\"outlinewidth\":0,\"ticks\":\"\"}},\"type\":\"scattergeo\"}],\"scattergl\":[{\"marker\":{\"colorbar\":{\"outlinewidth\":0,\"ticks\":\"\"}},\"type\":\"scattergl\"}],\"scattermapbox\":[{\"marker\":{\"colorbar\":{\"outlinewidth\":0,\"ticks\":\"\"}},\"type\":\"scattermapbox\"}],\"scatterpolar\":[{\"marker\":{\"colorbar\":{\"outlinewidth\":0,\"ticks\":\"\"}},\"type\":\"scatterpolar\"}],\"scatterpolargl\":[{\"marker\":{\"colorbar\":{\"outlinewidth\":0,\"ticks\":\"\"}},\"type\":\"scatterpolargl\"}],\"scatterternary\":[{\"marker\":{\"colorbar\":{\"outlinewidth\":0,\"ticks\":\"\"}},\"type\":\"scatterternary\"}],\"surface\":[{\"colorbar\":{\"outlinewidth\":0,\"ticks\":\"\"},\"colorscale\":[[0.0,\"#0d0887\"],[0.1111111111111111,\"#46039f\"],[0.2222222222222222,\"#7201a8\"],[0.3333333333333333,\"#9c179e\"],[0.4444444444444444,\"#bd3786\"],[0.5555555555555556,\"#d8576b\"],[0.6666666666666666,\"#ed7953\"],[0.7777777777777778,\"#fb9f3a\"],[0.8888888888888888,\"#fdca26\"],[1.0,\"#f0f921\"]],\"type\":\"surface\"}],\"table\":[{\"cells\":{\"fill\":{\"color\":\"#EBF0F8\"},\"line\":{\"color\":\"white\"}},\"header\":{\"fill\":{\"color\":\"#C8D4E3\"},\"line\":{\"color\":\"white\"}},\"type\":\"table\"}]},\"layout\":{\"annotationdefaults\":{\"arrowcolor\":\"#2a3f5f\",\"arrowhead\":0,\"arrowwidth\":1},\"autotypenumbers\":\"strict\",\"coloraxis\":{\"colorbar\":{\"outlinewidth\":0,\"ticks\":\"\"}},\"colorscale\":{\"diverging\":[[0,\"#8e0152\"],[0.1,\"#c51b7d\"],[0.2,\"#de77ae\"],[0.3,\"#f1b6da\"],[0.4,\"#fde0ef\"],[0.5,\"#f7f7f7\"],[0.6,\"#e6f5d0\"],[0.7,\"#b8e186\"],[0.8,\"#7fbc41\"],[0.9,\"#4d9221\"],[1,\"#276419\"]],\"sequential\":[[0.0,\"#0d0887\"],[0.1111111111111111,\"#46039f\"],[0.2222222222222222,\"#7201a8\"],[0.3333333333333333,\"#9c179e\"],[0.4444444444444444,\"#bd3786\"],[0.5555555555555556,\"#d8576b\"],[0.6666666666666666,\"#ed7953\"],[0.7777777777777778,\"#fb9f3a\"],[0.8888888888888888,\"#fdca26\"],[1.0,\"#f0f921\"]],\"sequentialminus\":[[0.0,\"#0d0887\"],[0.1111111111111111,\"#46039f\"],[0.2222222222222222,\"#7201a8\"],[0.3333333333333333,\"#9c179e\"],[0.4444444444444444,\"#bd3786\"],[0.5555555555555556,\"#d8576b\"],[0.6666666666666666,\"#ed7953\"],[0.7777777777777778,\"#fb9f3a\"],[0.8888888888888888,\"#fdca26\"],[1.0,\"#f0f921\"]]},\"colorway\":[\"#636efa\",\"#EF553B\",\"#00cc96\",\"#ab63fa\",\"#FFA15A\",\"#19d3f3\",\"#FF6692\",\"#B6E880\",\"#FF97FF\",\"#FECB52\"],\"font\":{\"color\":\"#2a3f5f\"},\"geo\":{\"bgcolor\":\"white\",\"lakecolor\":\"white\",\"landcolor\":\"#E5ECF6\",\"showlakes\":true,\"showland\":true,\"subunitcolor\":\"white\"},\"hoverlabel\":{\"align\":\"left\"},\"hovermode\":\"closest\",\"mapbox\":{\"style\":\"light\"},\"paper_bgcolor\":\"white\",\"plot_bgcolor\":\"#E5ECF6\",\"polar\":{\"angularaxis\":{\"gridcolor\":\"white\",\"linecolor\":\"white\",\"ticks\":\"\"},\"bgcolor\":\"#E5ECF6\",\"radialaxis\":{\"gridcolor\":\"white\",\"linecolor\":\"white\",\"ticks\":\"\"}},\"scene\":{\"xaxis\":{\"backgroundcolor\":\"#E5ECF6\",\"gridcolor\":\"white\",\"gridwidth\":2,\"linecolor\":\"white\",\"showbackground\":true,\"ticks\":\"\",\"zerolinecolor\":\"white\"},\"yaxis\":{\"backgroundcolor\":\"#E5ECF6\",\"gridcolor\":\"white\",\"gridwidth\":2,\"linecolor\":\"white\",\"showbackground\":true,\"ticks\":\"\",\"zerolinecolor\":\"white\"},\"zaxis\":{\"backgroundcolor\":\"#E5ECF6\",\"gridcolor\":\"white\",\"gridwidth\":2,\"linecolor\":\"white\",\"showbackground\":true,\"ticks\":\"\",\"zerolinecolor\":\"white\"}},\"shapedefaults\":{\"line\":{\"color\":\"#2a3f5f\"}},\"ternary\":{\"aaxis\":{\"gridcolor\":\"white\",\"linecolor\":\"white\",\"ticks\":\"\"},\"baxis\":{\"gridcolor\":\"white\",\"linecolor\":\"white\",\"ticks\":\"\"},\"bgcolor\":\"#E5ECF6\",\"caxis\":{\"gridcolor\":\"white\",\"linecolor\":\"white\",\"ticks\":\"\"}},\"title\":{\"x\":0.05},\"xaxis\":{\"automargin\":true,\"gridcolor\":\"white\",\"linecolor\":\"white\",\"ticks\":\"\",\"title\":{\"standoff\":15},\"zerolinecolor\":\"white\",\"zerolinewidth\":2},\"yaxis\":{\"automargin\":true,\"gridcolor\":\"white\",\"linecolor\":\"white\",\"ticks\":\"\",\"title\":{\"standoff\":15},\"zerolinecolor\":\"white\",\"zerolinewidth\":2}}},\"xaxis\":{\"anchor\":\"y\",\"domain\":[0.0,1.0],\"title\":{\"text\":\"Alpha\"},\"tickmode\":\"array\",\"tickvals\":[0,1,2,3,4,5],\"ticktext\":[0.05,0.1,0.2,0.5,0.8,1.0]},\"yaxis\":{\"anchor\":\"x\",\"domain\":[0.0,1.0],\"title\":{\"text\":\"Risk\"}},\"legend\":{\"tracegroupgap\":0},\"title\":{\"text\":\"Blurred W refit rand correction n=200, p=300\"},\"boxmode\":\"group\",\"shapes\":[{\"line\":{\"color\":\"red\"},\"type\":\"line\",\"x0\":0,\"x1\":1,\"xref\":\"x domain\",\"y0\":0.0,\"y1\":0.0,\"yref\":\"y\"}]},                        {\"responsive\": true}                    ).then(function(){\n",
       "                            \n",
       "var gd = document.getElementById('02270584-1827-479b-815f-4c6afd39810f');\n",
       "var x = new MutationObserver(function (mutations, observer) {{\n",
       "        var display = window.getComputedStyle(gd).display;\n",
       "        if (!display || display === 'none') {{\n",
       "            console.log([gd, 'removed!']);\n",
       "            Plotly.purge(gd);\n",
       "            observer.disconnect();\n",
       "        }}\n",
       "}});\n",
       "\n",
       "// Listen for the removal of the full notebook cells\n",
       "var notebookContainer = gd.closest('#notebook-container');\n",
       "if (notebookContainer) {{\n",
       "    x.observe(notebookContainer, {childList: true});\n",
       "}}\n",
       "\n",
       "// Listen for the clearing of the current output cell\n",
       "var outputEl = gd.closest('.output');\n",
       "if (outputEl) {{\n",
       "    x.observe(outputEl, {childList: true});\n",
       "}}\n",
       "\n",
       "                        })                };                });            </script>        </div>"
      ]
     },
     "metadata": {},
     "output_type": "display_data"
    }
   ],
   "source": [
    "fig_blur_w_rand = px.box((blur_df_w_rand - test_err_w_rand.mean(1))/test_err_w_rand.mean(1), \n",
    "                  labels={\n",
    "                         \"variable\": \"Alpha\",\n",
    "                         \"value\": \"Risk\"\n",
    "                         },\n",
    "                  points=False,\n",
    "                  title=f\"Blurred W refit rand correction n={n}, p={p}\")\n",
    "fig_blur_w_rand.update_traces(boxmean=True)\n",
    "# fig_blur_w.add_trace(go.Scatter(x=[-1,na], \n",
    "#                          y=[test_err_w_rand.mean(),test_err_w_rand.mean()], \n",
    "#                          mode='lines', \n",
    "#                          name=f'err: {test_err_w_rand.mean():.2f}'))\n",
    "fig_blur_w_rand.add_hline(y=0.,line_color='red')\n",
    "fig_blur_w_rand.update_layout(\n",
    "    xaxis = dict(\n",
    "        tickmode = 'array',\n",
    "        tickvals = np.arange(na),\n",
    "        ticktext = alphas,\n",
    "    )\n",
    ")"
   ]
  },
  {
   "cell_type": "code",
   "execution_count": null,
   "metadata": {},
   "outputs": [],
   "source": []
  },
  {
   "cell_type": "code",
   "execution_count": null,
   "metadata": {},
   "outputs": [],
   "source": []
  },
  {
   "cell_type": "code",
   "execution_count": null,
   "metadata": {},
   "outputs": [],
   "source": []
  }
 ],
 "metadata": {
  "kernelspec": {
   "display_name": "blur",
   "language": "python",
   "name": "blur"
  },
  "language_info": {
   "codemirror_mode": {
    "name": "ipython",
    "version": 3
   },
   "file_extension": ".py",
   "mimetype": "text/x-python",
   "name": "python",
   "nbconvert_exporter": "python",
   "pygments_lexer": "ipython3",
   "version": "3.8.13"
  }
 },
 "nbformat": 4,
 "nbformat_minor": 4
}
