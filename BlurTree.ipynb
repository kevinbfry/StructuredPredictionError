{
 "cells": [
  {
   "cell_type": "code",
   "execution_count": 1,
   "metadata": {},
   "outputs": [],
   "source": [
    "import numpy as np\n",
    "import pandas as pd\n",
    "from sklearn.linear_model import Lasso, LinearRegression\n",
    "\n",
    "import plotly.express as px\n",
    "import plotly.graph_objects as go\n",
    "\n",
    "from spe.mse_estimator import ErrorComparer\n",
    "from spe.relaxed_lasso import RelaxedLasso\n",
    "from spe.tree import Tree"
   ]
  },
  {
   "cell_type": "code",
   "execution_count": 2,
   "metadata": {},
   "outputs": [],
   "source": [
    "err_cmp = ErrorComparer()"
   ]
  },
  {
   "cell_type": "code",
   "execution_count": null,
   "metadata": {},
   "outputs": [
    {
     "name": "stdout",
     "output_type": "stream",
     "text": [
      "0\n",
      "1\n",
      "2\n",
      "3\n",
      "4\n"
     ]
    }
   ],
   "source": [
    "alphas = [0.05, 0.1, 0.2, 0.5, 0.8, 1.]\n",
    "na = len(alphas)\n",
    "niter = 100\n",
    "\n",
    "test_err = np.zeros((na, niter))\n",
    "test_err_alpha = np.zeros((na, niter))\n",
    "cb_err = np.zeros((na, niter))\n",
    "blur_err = np.zeros((na, niter))\n",
    "\n",
    "n=100\n",
    "p=30\n",
    "s=10\n",
    "X = np.random.randn(n,p)\n",
    "beta = np.zeros(p)\n",
    "idx = np.random.choice(p,size=s)\n",
    "beta[idx] = np.random.uniform(-1,1,size=s)\n",
    "\n",
    "for i,alpha in enumerate(alphas):\n",
    "    print(i)\n",
    "    (test_err[i,:],\n",
    "     test_err_alpha[i,:],\n",
    "     cb_err[i,:],\n",
    "     blur_err[i,:]) = err_cmp.compareTreeIID(n=n,\n",
    "                                         p=p,\n",
    "                                         X=X,\n",
    "                                         beta=beta,\n",
    "                                         model=Tree(max_depth=4),\n",
    "                                         alpha=alpha,\n",
    "                                         niter=niter,\n",
    "                                         est_risk=True)\n",
    "    "
   ]
  },
  {
   "cell_type": "code",
   "execution_count": null,
   "metadata": {},
   "outputs": [],
   "source": [
    "risk = test_err.mean(axis=1)\n",
    "risk_alpha = test_err_alpha.mean(axis=1)\n",
    "risk_cb = cb_err.mean(axis=1)"
   ]
  },
  {
   "cell_type": "code",
   "execution_count": null,
   "metadata": {},
   "outputs": [],
   "source": [
    "blur_df = pd.DataFrame(blur_err.T - test_err.T)\n",
    "cb_df = pd.DataFrame(cb_err.T)"
   ]
  },
  {
   "cell_type": "code",
   "execution_count": null,
   "metadata": {},
   "outputs": [],
   "source": [
    "fig = px.box(cb_df)\n",
    "fig.update_traces(boxmean=True)\n",
    "fig.add_trace(go.Scatter(x=[-1,6], \n",
    "                         y=[test_err.mean(),test_err.mean()], \n",
    "                         mode='lines', \n",
    "                         name='err'))\n",
    "fig.add_trace(go.Scatter(x=np.arange(6), \n",
    "                         y=risk_alpha, \n",
    "                         mode='markers', \n",
    "                         name='err_alpha'))\n",
    "fig.update_layout(\n",
    "    xaxis = dict(\n",
    "        tickmode = 'array',\n",
    "        tickvals = np.arange(na),\n",
    "        ticktext = alphas,\n",
    "    )\n",
    ")"
   ]
  },
  {
   "cell_type": "code",
   "execution_count": null,
   "metadata": {
    "scrolled": false
   },
   "outputs": [],
   "source": [
    "fig_blur = px.box(blur_df, \n",
    "             labels={\n",
    "                     \"variable\": \"Alpha\",\n",
    "                     \"value\": \"Risk\"\n",
    "                     },\n",
    "             title=\"Blurred n=100, p=30\")\n",
    "fig_blur.update_traces(boxmean=True)\n",
    "# fig_blur.add_trace(go.Scatter(x=[-1,6], \n",
    "#                          y=[test_err.mean(),test_err.mean()], \n",
    "#                          mode='lines', \n",
    "#                          name='err'))\n",
    "fig_blur.update_layout(\n",
    "    xaxis = dict(\n",
    "        tickmode = 'array',\n",
    "        tickvals = np.arange(na),\n",
    "        ticktext = alphas,\n",
    "    )\n",
    ")"
   ]
  },
  {
   "cell_type": "code",
   "execution_count": null,
   "metadata": {},
   "outputs": [],
   "source": []
  }
 ],
 "metadata": {
  "kernelspec": {
   "display_name": "Python 3",
   "language": "python",
   "name": "python3"
  },
  "language_info": {
   "codemirror_mode": {
    "name": "ipython",
    "version": 3
   },
   "file_extension": ".py",
   "mimetype": "text/x-python",
   "name": "python",
   "nbconvert_exporter": "python",
   "pygments_lexer": "ipython3",
   "version": "3.7.6"
  }
 },
 "nbformat": 4,
 "nbformat_minor": 4
}
