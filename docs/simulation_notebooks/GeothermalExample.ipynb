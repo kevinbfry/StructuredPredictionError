{
 "cells": [
  {
   "cell_type": "code",
   "execution_count": 1,
   "metadata": {},
   "outputs": [],
   "source": [
    "import numpy as np\n",
    "from tqdm import tqdm\n",
    "from sklearn.linear_model import ElasticNetCV\n",
    "from sklearn.ensemble import RandomForestRegressor\n",
    "\n",
    "from xgboost import XGBRegressor\n",
    "\n",
    "import plotly.express as px\n",
    "import plotly.graph_objects as go\n",
    "from plotly.subplots import make_subplots\n",
    "\n",
    "from spe.estimators import kfoldcv, kmeanscv, cp_general, simple_train_test_split\n",
    "from spe.relaxed_lasso import RelaxedLasso"
   ]
  },
  {
   "cell_type": "code",
   "execution_count": 2,
   "metadata": {},
   "outputs": [],
   "source": [
    "np.random.seed(1)"
   ]
  },
  {
   "cell_type": "code",
   "execution_count": 3,
   "metadata": {},
   "outputs": [
    {
     "ename": "NameError",
     "evalue": "name 'pd' is not defined",
     "output_type": "error",
     "traceback": [
      "\u001b[0;31m---------------------------------------------------------------------------\u001b[0m",
      "\u001b[0;31mNameError\u001b[0m                                 Traceback (most recent call last)",
      "Cell \u001b[0;32mIn[3], line 1\u001b[0m\n\u001b[0;32m----> 1\u001b[0m nv_df \u001b[38;5;241m=\u001b[39m \u001b[43mpd\u001b[49m\u001b[38;5;241m.\u001b[39mread_csv(\u001b[38;5;124m'\u001b[39m\u001b[38;5;124m../datasets/NV_SMU_wells_shared_kevin_prep_Nov6.csv\u001b[39m\u001b[38;5;124m'\u001b[39m)\n\u001b[1;32m      2\u001b[0m \u001b[38;5;66;03m# nm_df = pd.read_csv('../datasets/NM_SMU_wells_shared_kevin_prep_Nov6.csv')\u001b[39;00m\n",
      "\u001b[0;31mNameError\u001b[0m: name 'pd' is not defined"
     ]
    }
   ],
   "source": [
    "nv_df = pd.read_csv('../datasets/NV_SMU_wells_shared_kevin_prep_Nov6.csv')\n",
    "# nm_df = pd.read_csv('../datasets/NM_SMU_wells_shared_kevin_prep_Nov6.csv')"
   ]
  },
  {
   "cell_type": "code",
   "execution_count": null,
   "metadata": {},
   "outputs": [
    {
     "data": {
      "text/html": [
       "<div>\n",
       "<style scoped>\n",
       "    .dataframe tbody tr th:only-of-type {\n",
       "        vertical-align: middle;\n",
       "    }\n",
       "\n",
       "    .dataframe tbody tr th {\n",
       "        vertical-align: top;\n",
       "    }\n",
       "\n",
       "    .dataframe thead th {\n",
       "        text-align: right;\n",
       "    }\n",
       "</style>\n",
       "<table border=\"1\" class=\"dataframe\">\n",
       "  <thead>\n",
       "    <tr style=\"text-align: right;\">\n",
       "      <th></th>\n",
       "      <th>OBJECTID</th>\n",
       "      <th>Temp_C</th>\n",
       "      <th>Depth_m</th>\n",
       "      <th>GeothermGrad</th>\n",
       "      <th>X_83UTM11_round</th>\n",
       "      <th>Y_83UTM11_round</th>\n",
       "      <th>row</th>\n",
       "      <th>column</th>\n",
       "      <th>id_rc</th>\n",
       "      <th>X_83UTM11</th>\n",
       "      <th>...</th>\n",
       "      <th>Hillshade-100m</th>\n",
       "      <th>DEM-30m</th>\n",
       "      <th>Fairway</th>\n",
       "      <th>Domain</th>\n",
       "      <th>T37</th>\n",
       "      <th>QuaternaryFaultDistance</th>\n",
       "      <th>Local-StructuralSetting</th>\n",
       "      <th>Local-QuaternaryFaultRecency</th>\n",
       "      <th>Local-QuaternaryFaultSlipDilation</th>\n",
       "      <th>Local-QuaternaryFaultSlipRate</th>\n",
       "    </tr>\n",
       "  </thead>\n",
       "  <tbody>\n",
       "    <tr>\n",
       "      <th>0</th>\n",
       "      <td>1</td>\n",
       "      <td>115.56</td>\n",
       "      <td>30.5</td>\n",
       "      <td>3645.0</td>\n",
       "      <td>296000.0</td>\n",
       "      <td>4475000.0</td>\n",
       "      <td>864.0</td>\n",
       "      <td>37.0</td>\n",
       "      <td>R865C38</td>\n",
       "      <td>295577.690182</td>\n",
       "      <td>...</td>\n",
       "      <td>181</td>\n",
       "      <td>1233</td>\n",
       "      <td>43.512299</td>\n",
       "      <td>3</td>\n",
       "      <td>12</td>\n",
       "      <td>-0.866128</td>\n",
       "      <td>0.730942</td>\n",
       "      <td>0.913039</td>\n",
       "      <td>-0.103709</td>\n",
       "      <td>0.834592</td>\n",
       "    </tr>\n",
       "    <tr>\n",
       "      <th>1</th>\n",
       "      <td>2</td>\n",
       "      <td>115.56</td>\n",
       "      <td>30.5</td>\n",
       "      <td>3645.0</td>\n",
       "      <td>296000.0</td>\n",
       "      <td>4475000.0</td>\n",
       "      <td>864.0</td>\n",
       "      <td>37.0</td>\n",
       "      <td>R865C38</td>\n",
       "      <td>295577.690182</td>\n",
       "      <td>...</td>\n",
       "      <td>181</td>\n",
       "      <td>1233</td>\n",
       "      <td>43.512299</td>\n",
       "      <td>3</td>\n",
       "      <td>12</td>\n",
       "      <td>-0.866128</td>\n",
       "      <td>0.730942</td>\n",
       "      <td>0.913039</td>\n",
       "      <td>-0.103709</td>\n",
       "      <td>0.834592</td>\n",
       "    </tr>\n",
       "    <tr>\n",
       "      <th>2</th>\n",
       "      <td>119</td>\n",
       "      <td>63.79</td>\n",
       "      <td>64.0</td>\n",
       "      <td>984.4</td>\n",
       "      <td>296000.0</td>\n",
       "      <td>4475000.0</td>\n",
       "      <td>864.0</td>\n",
       "      <td>37.0</td>\n",
       "      <td>R865C38</td>\n",
       "      <td>295577.690182</td>\n",
       "      <td>...</td>\n",
       "      <td>181</td>\n",
       "      <td>1233</td>\n",
       "      <td>43.512299</td>\n",
       "      <td>3</td>\n",
       "      <td>12</td>\n",
       "      <td>-0.866128</td>\n",
       "      <td>0.730942</td>\n",
       "      <td>0.913039</td>\n",
       "      <td>-0.103709</td>\n",
       "      <td>0.834592</td>\n",
       "    </tr>\n",
       "    <tr>\n",
       "      <th>3</th>\n",
       "      <td>120</td>\n",
       "      <td>63.79</td>\n",
       "      <td>64.0</td>\n",
       "      <td>984.4</td>\n",
       "      <td>296000.0</td>\n",
       "      <td>4475000.0</td>\n",
       "      <td>864.0</td>\n",
       "      <td>37.0</td>\n",
       "      <td>R865C38</td>\n",
       "      <td>295577.690182</td>\n",
       "      <td>...</td>\n",
       "      <td>181</td>\n",
       "      <td>1233</td>\n",
       "      <td>43.512299</td>\n",
       "      <td>3</td>\n",
       "      <td>12</td>\n",
       "      <td>-0.866128</td>\n",
       "      <td>0.730942</td>\n",
       "      <td>0.913039</td>\n",
       "      <td>-0.103709</td>\n",
       "      <td>0.834592</td>\n",
       "    </tr>\n",
       "    <tr>\n",
       "      <th>4</th>\n",
       "      <td>123</td>\n",
       "      <td>67.09</td>\n",
       "      <td>54.9</td>\n",
       "      <td>950.9</td>\n",
       "      <td>296000.0</td>\n",
       "      <td>4475000.0</td>\n",
       "      <td>864.0</td>\n",
       "      <td>37.0</td>\n",
       "      <td>R865C38</td>\n",
       "      <td>295577.690182</td>\n",
       "      <td>...</td>\n",
       "      <td>181</td>\n",
       "      <td>1233</td>\n",
       "      <td>43.512299</td>\n",
       "      <td>3</td>\n",
       "      <td>12</td>\n",
       "      <td>-0.866128</td>\n",
       "      <td>0.730942</td>\n",
       "      <td>0.913039</td>\n",
       "      <td>-0.103709</td>\n",
       "      <td>0.834592</td>\n",
       "    </tr>\n",
       "    <tr>\n",
       "      <th>...</th>\n",
       "      <td>...</td>\n",
       "      <td>...</td>\n",
       "      <td>...</td>\n",
       "      <td>...</td>\n",
       "      <td>...</td>\n",
       "      <td>...</td>\n",
       "      <td>...</td>\n",
       "      <td>...</td>\n",
       "      <td>...</td>\n",
       "      <td>...</td>\n",
       "      <td>...</td>\n",
       "      <td>...</td>\n",
       "      <td>...</td>\n",
       "      <td>...</td>\n",
       "      <td>...</td>\n",
       "      <td>...</td>\n",
       "      <td>...</td>\n",
       "      <td>...</td>\n",
       "      <td>...</td>\n",
       "      <td>...</td>\n",
       "      <td>...</td>\n",
       "    </tr>\n",
       "    <tr>\n",
       "      <th>3321</th>\n",
       "      <td>4818</td>\n",
       "      <td>15.80</td>\n",
       "      <td>108.8</td>\n",
       "      <td>24.8</td>\n",
       "      <td>293000.0</td>\n",
       "      <td>4497000.0</td>\n",
       "      <td>952.0</td>\n",
       "      <td>25.0</td>\n",
       "      <td>R953C26</td>\n",
       "      <td>292577.690182</td>\n",
       "      <td>...</td>\n",
       "      <td>179</td>\n",
       "      <td>1195</td>\n",
       "      <td>41.517601</td>\n",
       "      <td>0</td>\n",
       "      <td>12</td>\n",
       "      <td>2.386731</td>\n",
       "      <td>0.907021</td>\n",
       "      <td>0.641172</td>\n",
       "      <td>0.957744</td>\n",
       "      <td>0.713252</td>\n",
       "    </tr>\n",
       "    <tr>\n",
       "      <th>3322</th>\n",
       "      <td>4821</td>\n",
       "      <td>0.00</td>\n",
       "      <td>350.0</td>\n",
       "      <td>24.6</td>\n",
       "      <td>680000.0</td>\n",
       "      <td>4326000.0</td>\n",
       "      <td>268.0</td>\n",
       "      <td>1573.0</td>\n",
       "      <td>R269C1574</td>\n",
       "      <td>679577.690182</td>\n",
       "      <td>...</td>\n",
       "      <td>198</td>\n",
       "      <td>2654</td>\n",
       "      <td>38.367802</td>\n",
       "      <td>4</td>\n",
       "      <td>12</td>\n",
       "      <td>0.124746</td>\n",
       "      <td>-0.521456</td>\n",
       "      <td>-0.566835</td>\n",
       "      <td>-0.398600</td>\n",
       "      <td>-0.574790</td>\n",
       "    </tr>\n",
       "    <tr>\n",
       "      <th>3323</th>\n",
       "      <td>4822</td>\n",
       "      <td>0.00</td>\n",
       "      <td>350.0</td>\n",
       "      <td>24.6</td>\n",
       "      <td>680000.0</td>\n",
       "      <td>4326000.0</td>\n",
       "      <td>268.0</td>\n",
       "      <td>1573.0</td>\n",
       "      <td>R269C1574</td>\n",
       "      <td>679577.690182</td>\n",
       "      <td>...</td>\n",
       "      <td>198</td>\n",
       "      <td>2654</td>\n",
       "      <td>38.367802</td>\n",
       "      <td>4</td>\n",
       "      <td>12</td>\n",
       "      <td>0.124746</td>\n",
       "      <td>-0.521456</td>\n",
       "      <td>-0.566835</td>\n",
       "      <td>-0.398600</td>\n",
       "      <td>-0.574790</td>\n",
       "    </tr>\n",
       "    <tr>\n",
       "      <th>3324</th>\n",
       "      <td>4823</td>\n",
       "      <td>11.20</td>\n",
       "      <td>85.0</td>\n",
       "      <td>24.6</td>\n",
       "      <td>455000.0</td>\n",
       "      <td>4490000.0</td>\n",
       "      <td>924.0</td>\n",
       "      <td>673.0</td>\n",
       "      <td>R925C674</td>\n",
       "      <td>454577.690182</td>\n",
       "      <td>...</td>\n",
       "      <td>191</td>\n",
       "      <td>1713</td>\n",
       "      <td>48.116501</td>\n",
       "      <td>2</td>\n",
       "      <td>12</td>\n",
       "      <td>-0.469778</td>\n",
       "      <td>2.381751</td>\n",
       "      <td>4.019012</td>\n",
       "      <td>0.525528</td>\n",
       "      <td>1.601224</td>\n",
       "    </tr>\n",
       "    <tr>\n",
       "      <th>3325</th>\n",
       "      <td>4824</td>\n",
       "      <td>11.20</td>\n",
       "      <td>85.0</td>\n",
       "      <td>24.6</td>\n",
       "      <td>455000.0</td>\n",
       "      <td>4490000.0</td>\n",
       "      <td>924.0</td>\n",
       "      <td>673.0</td>\n",
       "      <td>R925C674</td>\n",
       "      <td>454577.690182</td>\n",
       "      <td>...</td>\n",
       "      <td>191</td>\n",
       "      <td>1713</td>\n",
       "      <td>48.116501</td>\n",
       "      <td>2</td>\n",
       "      <td>12</td>\n",
       "      <td>-0.469778</td>\n",
       "      <td>2.381751</td>\n",
       "      <td>4.019012</td>\n",
       "      <td>0.525528</td>\n",
       "      <td>1.601224</td>\n",
       "    </tr>\n",
       "  </tbody>\n",
       "</table>\n",
       "<p>3326 rows × 63 columns</p>\n",
       "</div>"
      ],
      "text/plain": [
       "      OBJECTID  Temp_C  Depth_m  GeothermGrad  X_83UTM11_round  \\\n",
       "0            1  115.56     30.5        3645.0         296000.0   \n",
       "1            2  115.56     30.5        3645.0         296000.0   \n",
       "2          119   63.79     64.0         984.4         296000.0   \n",
       "3          120   63.79     64.0         984.4         296000.0   \n",
       "4          123   67.09     54.9         950.9         296000.0   \n",
       "...        ...     ...      ...           ...              ...   \n",
       "3321      4818   15.80    108.8          24.8         293000.0   \n",
       "3322      4821    0.00    350.0          24.6         680000.0   \n",
       "3323      4822    0.00    350.0          24.6         680000.0   \n",
       "3324      4823   11.20     85.0          24.6         455000.0   \n",
       "3325      4824   11.20     85.0          24.6         455000.0   \n",
       "\n",
       "      Y_83UTM11_round    row  column      id_rc      X_83UTM11  ...  \\\n",
       "0           4475000.0  864.0    37.0    R865C38  295577.690182  ...   \n",
       "1           4475000.0  864.0    37.0    R865C38  295577.690182  ...   \n",
       "2           4475000.0  864.0    37.0    R865C38  295577.690182  ...   \n",
       "3           4475000.0  864.0    37.0    R865C38  295577.690182  ...   \n",
       "4           4475000.0  864.0    37.0    R865C38  295577.690182  ...   \n",
       "...               ...    ...     ...        ...            ...  ...   \n",
       "3321        4497000.0  952.0    25.0    R953C26  292577.690182  ...   \n",
       "3322        4326000.0  268.0  1573.0  R269C1574  679577.690182  ...   \n",
       "3323        4326000.0  268.0  1573.0  R269C1574  679577.690182  ...   \n",
       "3324        4490000.0  924.0   673.0   R925C674  454577.690182  ...   \n",
       "3325        4490000.0  924.0   673.0   R925C674  454577.690182  ...   \n",
       "\n",
       "      Hillshade-100m DEM-30m    Fairway  Domain  T37  QuaternaryFaultDistance  \\\n",
       "0                181    1233  43.512299       3   12                -0.866128   \n",
       "1                181    1233  43.512299       3   12                -0.866128   \n",
       "2                181    1233  43.512299       3   12                -0.866128   \n",
       "3                181    1233  43.512299       3   12                -0.866128   \n",
       "4                181    1233  43.512299       3   12                -0.866128   \n",
       "...              ...     ...        ...     ...  ...                      ...   \n",
       "3321             179    1195  41.517601       0   12                 2.386731   \n",
       "3322             198    2654  38.367802       4   12                 0.124746   \n",
       "3323             198    2654  38.367802       4   12                 0.124746   \n",
       "3324             191    1713  48.116501       2   12                -0.469778   \n",
       "3325             191    1713  48.116501       2   12                -0.469778   \n",
       "\n",
       "      Local-StructuralSetting  Local-QuaternaryFaultRecency  \\\n",
       "0                    0.730942                      0.913039   \n",
       "1                    0.730942                      0.913039   \n",
       "2                    0.730942                      0.913039   \n",
       "3                    0.730942                      0.913039   \n",
       "4                    0.730942                      0.913039   \n",
       "...                       ...                           ...   \n",
       "3321                 0.907021                      0.641172   \n",
       "3322                -0.521456                     -0.566835   \n",
       "3323                -0.521456                     -0.566835   \n",
       "3324                 2.381751                      4.019012   \n",
       "3325                 2.381751                      4.019012   \n",
       "\n",
       "      Local-QuaternaryFaultSlipDilation  Local-QuaternaryFaultSlipRate  \n",
       "0                             -0.103709                       0.834592  \n",
       "1                             -0.103709                       0.834592  \n",
       "2                             -0.103709                       0.834592  \n",
       "3                             -0.103709                       0.834592  \n",
       "4                             -0.103709                       0.834592  \n",
       "...                                 ...                            ...  \n",
       "3321                           0.957744                       0.713252  \n",
       "3322                          -0.398600                      -0.574790  \n",
       "3323                          -0.398600                      -0.574790  \n",
       "3324                           0.525528                       1.601224  \n",
       "3325                           0.525528                       1.601224  \n",
       "\n",
       "[3326 rows x 63 columns]"
      ]
     },
     "execution_count": 4,
     "metadata": {},
     "output_type": "execute_result"
    }
   ],
   "source": [
    "nv_df"
   ]
  },
  {
   "cell_type": "code",
   "execution_count": null,
   "metadata": {},
   "outputs": [
    {
     "data": {
      "text/plain": [
       "Index(['OBJECTID', 'Temp_C', 'Depth_m', 'GeothermGrad', 'X_83UTM11_round',\n",
       "       'Y_83UTM11_round', 'row', 'column', 'id_rc', 'X_83UTM11', 'Y_83UTM11',\n",
       "       'NullInfo', 'TrainCodeNeg', 'TrainCodePos', 'TrainCodePosT130',\n",
       "       'PosSite130_Id', 'PosSite130_Distance', 'PosSite_Id',\n",
       "       'PosSite_Distance', 'NegSite_Id', 'NegSite_Distance',\n",
       "       'Local_polygon_Id', 'Local_polygon_overlap_Id', 'QuaternaryFaultTraces',\n",
       "       'GeodeticStrainRate', 'QuaternarySlipRate', 'FaultRecency',\n",
       "       'FaultSlipDilationTendency2', 'Earthquakes', 'HorizGravityGradient2',\n",
       "       'HorizMagneticGradient2', 'GravityDensity', 'MagneticDensity',\n",
       "       'Heatflow', 'GeochemistryTemperature2', 'Tufa_Distance',\n",
       "       'Travertine_Distance', 'Silica_Distance', 'TufaOrTravertine_Distance',\n",
       "       'FavorableStructuralSettings_Distance', 'Local-StructuralSetting_Error',\n",
       "       'Local-QuaternaryFaultRecency_Error',\n",
       "       'Local-QuaternaryFaultSlipDilation_Error',\n",
       "       'Local-QuaternaryFaultSlipRate_Error', 'QuaternaryFaultTraces_Error',\n",
       "       'HorizGravityGradient_Error', 'GeodeticStrainRate_Error',\n",
       "       'QuaternarySlipRate_Error', 'FaultRecency_Error', 'Earthquakes_Error',\n",
       "       'Heatflow_Error', 'HorizGravityGradient2_Confidence',\n",
       "       'HorizMagneticGradient2_Confidence', 'Hillshade-100m', 'DEM-30m',\n",
       "       'Fairway', 'Domain', 'T37', 'QuaternaryFaultDistance',\n",
       "       'Local-StructuralSetting', 'Local-QuaternaryFaultRecency',\n",
       "       'Local-QuaternaryFaultSlipDilation', 'Local-QuaternaryFaultSlipRate'],\n",
       "      dtype='object')"
      ]
     },
     "execution_count": 5,
     "metadata": {},
     "output_type": "execute_result"
    }
   ],
   "source": [
    "nv_df.columns"
   ]
  },
  {
   "cell_type": "code",
   "execution_count": null,
   "metadata": {},
   "outputs": [],
   "source": [
    "feature_cols = [\n",
    "    'Depth_m',\n",
    "    'GeothermGrad',\n",
    "    'QuaternaryFaultTraces',\n",
    "    'GeodeticStrainRate',\n",
    "    'QuaternarySlipRate',\n",
    "    'FaultRecency',\n",
    "    'FaultSlipDilationTendency2',\n",
    "    'Earthquakes',\n",
    "    'HorizGravityGradient2',\n",
    "    'HorizMagneticGradient2',\n",
    "    'GravityDensity',\n",
    "    'MagneticDensity',\n",
    "    'Heatflow',\n",
    "    'HorizGravityGradient2',\n",
    "    'Tufa_Distance',\n",
    "    'Travertine_Distance',\n",
    "    'Silica_Distance',\n",
    "    'FavorableStructuralSettings_Distance',\n",
    "    'QuaternaryFaultDistance',\n",
    "]\n",
    "y_cols = 'Temp_C'\n",
    "loc_cols = ['X_83UTM11_round', 'Y_83UTM11_round']"
   ]
  },
  {
   "cell_type": "code",
   "execution_count": null,
   "metadata": {},
   "outputs": [],
   "source": [
    "non_nan_nv_df = nv_df[feature_cols+[y_cols]+loc_cols].dropna(axis=0)"
   ]
  },
  {
   "cell_type": "code",
   "execution_count": null,
   "metadata": {},
   "outputs": [
    {
     "data": {
      "text/plain": [
       "Depth_m                                 0.0\n",
       "GeothermGrad                            0.0\n",
       "QuaternaryFaultTraces                   0.0\n",
       "GeodeticStrainRate                      0.0\n",
       "QuaternarySlipRate                      0.0\n",
       "FaultRecency                            0.0\n",
       "FaultSlipDilationTendency2              0.0\n",
       "Earthquakes                             0.0\n",
       "HorizGravityGradient2                   0.0\n",
       "HorizMagneticGradient2                  0.0\n",
       "GravityDensity                          0.0\n",
       "MagneticDensity                         0.0\n",
       "Heatflow                                0.0\n",
       "HorizGravityGradient2                   0.0\n",
       "Tufa_Distance                           0.0\n",
       "Travertine_Distance                     0.0\n",
       "Silica_Distance                         0.0\n",
       "FavorableStructuralSettings_Distance    0.0\n",
       "QuaternaryFaultDistance                 0.0\n",
       "Temp_C                                  0.0\n",
       "X_83UTM11_round                         0.0\n",
       "Y_83UTM11_round                         0.0\n",
       "dtype: float64"
      ]
     },
     "execution_count": 8,
     "metadata": {},
     "output_type": "execute_result"
    }
   ],
   "source": [
    "non_nan_nv_df.isna().mean()"
   ]
  },
  {
   "cell_type": "code",
   "execution_count": null,
   "metadata": {},
   "outputs": [],
   "source": [
    "locs = non_nan_nv_df[loc_cols]\n",
    "y = non_nan_nv_df[y_cols]\n",
    "X = non_nan_nv_df[feature_cols]"
   ]
  },
  {
   "cell_type": "code",
   "execution_count": null,
   "metadata": {},
   "outputs": [
    {
     "data": {
      "text/plain": [
       "(2558, 21)"
      ]
     },
     "execution_count": 10,
     "metadata": {},
     "output_type": "execute_result"
    }
   ],
   "source": [
    "X.shape"
   ]
  },
  {
   "cell_type": "code",
   "execution_count": null,
   "metadata": {},
   "outputs": [
    {
     "data": {
      "text/html": [
       "<div>\n",
       "<style scoped>\n",
       "    .dataframe tbody tr th:only-of-type {\n",
       "        vertical-align: middle;\n",
       "    }\n",
       "\n",
       "    .dataframe tbody tr th {\n",
       "        vertical-align: top;\n",
       "    }\n",
       "\n",
       "    .dataframe thead th {\n",
       "        text-align: right;\n",
       "    }\n",
       "</style>\n",
       "<table border=\"1\" class=\"dataframe\">\n",
       "  <thead>\n",
       "    <tr style=\"text-align: right;\">\n",
       "      <th></th>\n",
       "      <th>Depth_m</th>\n",
       "      <th>GeothermGrad</th>\n",
       "      <th>QuaternaryFaultTraces</th>\n",
       "      <th>GeodeticStrainRate</th>\n",
       "      <th>QuaternarySlipRate</th>\n",
       "      <th>FaultRecency</th>\n",
       "      <th>FaultSlipDilationTendency2</th>\n",
       "      <th>Earthquakes</th>\n",
       "      <th>HorizGravityGradient2</th>\n",
       "      <th>HorizGravityGradient2</th>\n",
       "      <th>...</th>\n",
       "      <th>GravityDensity</th>\n",
       "      <th>MagneticDensity</th>\n",
       "      <th>Heatflow</th>\n",
       "      <th>HorizGravityGradient2</th>\n",
       "      <th>HorizGravityGradient2</th>\n",
       "      <th>Tufa_Distance</th>\n",
       "      <th>Travertine_Distance</th>\n",
       "      <th>Silica_Distance</th>\n",
       "      <th>FavorableStructuralSettings_Distance</th>\n",
       "      <th>QuaternaryFaultDistance</th>\n",
       "    </tr>\n",
       "  </thead>\n",
       "  <tbody>\n",
       "    <tr>\n",
       "      <th>0</th>\n",
       "      <td>30.5</td>\n",
       "      <td>3645.0</td>\n",
       "      <td>0</td>\n",
       "      <td>1.405800</td>\n",
       "      <td>-2.67835</td>\n",
       "      <td>1.64040</td>\n",
       "      <td>0.848943</td>\n",
       "      <td>2.15987</td>\n",
       "      <td>0.005064</td>\n",
       "      <td>0.005064</td>\n",
       "      <td>...</td>\n",
       "      <td>2</td>\n",
       "      <td>8</td>\n",
       "      <td>87.680901</td>\n",
       "      <td>0.005064</td>\n",
       "      <td>0.005064</td>\n",
       "      <td>28851.413871</td>\n",
       "      <td>48392.998068</td>\n",
       "      <td>714.858718</td>\n",
       "      <td>3740.632974</td>\n",
       "      <td>-0.866128</td>\n",
       "    </tr>\n",
       "    <tr>\n",
       "      <th>1</th>\n",
       "      <td>30.5</td>\n",
       "      <td>3645.0</td>\n",
       "      <td>0</td>\n",
       "      <td>1.405800</td>\n",
       "      <td>-2.67835</td>\n",
       "      <td>1.64040</td>\n",
       "      <td>0.848943</td>\n",
       "      <td>2.15987</td>\n",
       "      <td>0.005064</td>\n",
       "      <td>0.005064</td>\n",
       "      <td>...</td>\n",
       "      <td>2</td>\n",
       "      <td>8</td>\n",
       "      <td>87.680901</td>\n",
       "      <td>0.005064</td>\n",
       "      <td>0.005064</td>\n",
       "      <td>28851.413871</td>\n",
       "      <td>48392.998068</td>\n",
       "      <td>714.858718</td>\n",
       "      <td>3740.632974</td>\n",
       "      <td>-0.866128</td>\n",
       "    </tr>\n",
       "    <tr>\n",
       "      <th>2</th>\n",
       "      <td>64.0</td>\n",
       "      <td>984.4</td>\n",
       "      <td>0</td>\n",
       "      <td>1.405800</td>\n",
       "      <td>-2.67835</td>\n",
       "      <td>1.64040</td>\n",
       "      <td>0.848943</td>\n",
       "      <td>2.15987</td>\n",
       "      <td>0.005064</td>\n",
       "      <td>0.005064</td>\n",
       "      <td>...</td>\n",
       "      <td>2</td>\n",
       "      <td>8</td>\n",
       "      <td>87.680901</td>\n",
       "      <td>0.005064</td>\n",
       "      <td>0.005064</td>\n",
       "      <td>28851.413871</td>\n",
       "      <td>48392.998068</td>\n",
       "      <td>714.858718</td>\n",
       "      <td>3740.632974</td>\n",
       "      <td>-0.866128</td>\n",
       "    </tr>\n",
       "    <tr>\n",
       "      <th>3</th>\n",
       "      <td>64.0</td>\n",
       "      <td>984.4</td>\n",
       "      <td>0</td>\n",
       "      <td>1.405800</td>\n",
       "      <td>-2.67835</td>\n",
       "      <td>1.64040</td>\n",
       "      <td>0.848943</td>\n",
       "      <td>2.15987</td>\n",
       "      <td>0.005064</td>\n",
       "      <td>0.005064</td>\n",
       "      <td>...</td>\n",
       "      <td>2</td>\n",
       "      <td>8</td>\n",
       "      <td>87.680901</td>\n",
       "      <td>0.005064</td>\n",
       "      <td>0.005064</td>\n",
       "      <td>28851.413871</td>\n",
       "      <td>48392.998068</td>\n",
       "      <td>714.858718</td>\n",
       "      <td>3740.632974</td>\n",
       "      <td>-0.866128</td>\n",
       "    </tr>\n",
       "    <tr>\n",
       "      <th>4</th>\n",
       "      <td>54.9</td>\n",
       "      <td>950.9</td>\n",
       "      <td>0</td>\n",
       "      <td>1.405800</td>\n",
       "      <td>-2.67835</td>\n",
       "      <td>1.64040</td>\n",
       "      <td>0.848943</td>\n",
       "      <td>2.15987</td>\n",
       "      <td>0.005064</td>\n",
       "      <td>0.005064</td>\n",
       "      <td>...</td>\n",
       "      <td>2</td>\n",
       "      <td>8</td>\n",
       "      <td>87.680901</td>\n",
       "      <td>0.005064</td>\n",
       "      <td>0.005064</td>\n",
       "      <td>28851.413871</td>\n",
       "      <td>48392.998068</td>\n",
       "      <td>714.858718</td>\n",
       "      <td>3740.632974</td>\n",
       "      <td>-0.866128</td>\n",
       "    </tr>\n",
       "    <tr>\n",
       "      <th>...</th>\n",
       "      <td>...</td>\n",
       "      <td>...</td>\n",
       "      <td>...</td>\n",
       "      <td>...</td>\n",
       "      <td>...</td>\n",
       "      <td>...</td>\n",
       "      <td>...</td>\n",
       "      <td>...</td>\n",
       "      <td>...</td>\n",
       "      <td>...</td>\n",
       "      <td>...</td>\n",
       "      <td>...</td>\n",
       "      <td>...</td>\n",
       "      <td>...</td>\n",
       "      <td>...</td>\n",
       "      <td>...</td>\n",
       "      <td>...</td>\n",
       "      <td>...</td>\n",
       "      <td>...</td>\n",
       "      <td>...</td>\n",
       "      <td>...</td>\n",
       "    </tr>\n",
       "    <tr>\n",
       "      <th>3321</th>\n",
       "      <td>108.8</td>\n",
       "      <td>24.8</td>\n",
       "      <td>0</td>\n",
       "      <td>1.343000</td>\n",
       "      <td>-2.45373</td>\n",
       "      <td>1.57206</td>\n",
       "      <td>0.860139</td>\n",
       "      <td>2.24428</td>\n",
       "      <td>0.004033</td>\n",
       "      <td>0.004033</td>\n",
       "      <td>...</td>\n",
       "      <td>6</td>\n",
       "      <td>2</td>\n",
       "      <td>74.396004</td>\n",
       "      <td>0.004033</td>\n",
       "      <td>0.004033</td>\n",
       "      <td>51020.679897</td>\n",
       "      <td>34537.742087</td>\n",
       "      <td>8914.088404</td>\n",
       "      <td>5056.693849</td>\n",
       "      <td>2.386731</td>\n",
       "    </tr>\n",
       "    <tr>\n",
       "      <th>3322</th>\n",
       "      <td>350.0</td>\n",
       "      <td>24.6</td>\n",
       "      <td>0</td>\n",
       "      <td>0.462398</td>\n",
       "      <td>-2.72502</td>\n",
       "      <td>2.45524</td>\n",
       "      <td>0.783172</td>\n",
       "      <td>1.42325</td>\n",
       "      <td>0.000988</td>\n",
       "      <td>0.000988</td>\n",
       "      <td>...</td>\n",
       "      <td>23</td>\n",
       "      <td>8</td>\n",
       "      <td>78.786400</td>\n",
       "      <td>0.000988</td>\n",
       "      <td>0.000988</td>\n",
       "      <td>322268.860515</td>\n",
       "      <td>68016.522897</td>\n",
       "      <td>172065.856774</td>\n",
       "      <td>10037.757911</td>\n",
       "      <td>0.124746</td>\n",
       "    </tr>\n",
       "    <tr>\n",
       "      <th>3323</th>\n",
       "      <td>350.0</td>\n",
       "      <td>24.6</td>\n",
       "      <td>0</td>\n",
       "      <td>0.462398</td>\n",
       "      <td>-2.72502</td>\n",
       "      <td>2.45524</td>\n",
       "      <td>0.783172</td>\n",
       "      <td>1.42325</td>\n",
       "      <td>0.000988</td>\n",
       "      <td>0.000988</td>\n",
       "      <td>...</td>\n",
       "      <td>23</td>\n",
       "      <td>8</td>\n",
       "      <td>78.786400</td>\n",
       "      <td>0.000988</td>\n",
       "      <td>0.000988</td>\n",
       "      <td>322268.860515</td>\n",
       "      <td>68016.522897</td>\n",
       "      <td>172065.856774</td>\n",
       "      <td>10037.757911</td>\n",
       "      <td>0.124746</td>\n",
       "    </tr>\n",
       "    <tr>\n",
       "      <th>3324</th>\n",
       "      <td>85.0</td>\n",
       "      <td>24.6</td>\n",
       "      <td>0</td>\n",
       "      <td>1.374350</td>\n",
       "      <td>-1.84191</td>\n",
       "      <td>1.85678</td>\n",
       "      <td>0.776615</td>\n",
       "      <td>1.64836</td>\n",
       "      <td>0.001607</td>\n",
       "      <td>0.001607</td>\n",
       "      <td>...</td>\n",
       "      <td>29</td>\n",
       "      <td>20</td>\n",
       "      <td>74.607201</td>\n",
       "      <td>0.001607</td>\n",
       "      <td>0.001607</td>\n",
       "      <td>85962.466756</td>\n",
       "      <td>22944.375680</td>\n",
       "      <td>10896.855100</td>\n",
       "      <td>1522.267172</td>\n",
       "      <td>-0.469778</td>\n",
       "    </tr>\n",
       "    <tr>\n",
       "      <th>3325</th>\n",
       "      <td>85.0</td>\n",
       "      <td>24.6</td>\n",
       "      <td>0</td>\n",
       "      <td>1.374350</td>\n",
       "      <td>-1.84191</td>\n",
       "      <td>1.85678</td>\n",
       "      <td>0.776615</td>\n",
       "      <td>1.64836</td>\n",
       "      <td>0.001607</td>\n",
       "      <td>0.001607</td>\n",
       "      <td>...</td>\n",
       "      <td>29</td>\n",
       "      <td>20</td>\n",
       "      <td>74.607201</td>\n",
       "      <td>0.001607</td>\n",
       "      <td>0.001607</td>\n",
       "      <td>85962.466756</td>\n",
       "      <td>22944.375680</td>\n",
       "      <td>10896.855100</td>\n",
       "      <td>1522.267172</td>\n",
       "      <td>-0.469778</td>\n",
       "    </tr>\n",
       "  </tbody>\n",
       "</table>\n",
       "<p>2558 rows × 21 columns</p>\n",
       "</div>"
      ],
      "text/plain": [
       "      Depth_m  GeothermGrad  QuaternaryFaultTraces  GeodeticStrainRate  \\\n",
       "0        30.5        3645.0                      0            1.405800   \n",
       "1        30.5        3645.0                      0            1.405800   \n",
       "2        64.0         984.4                      0            1.405800   \n",
       "3        64.0         984.4                      0            1.405800   \n",
       "4        54.9         950.9                      0            1.405800   \n",
       "...       ...           ...                    ...                 ...   \n",
       "3321    108.8          24.8                      0            1.343000   \n",
       "3322    350.0          24.6                      0            0.462398   \n",
       "3323    350.0          24.6                      0            0.462398   \n",
       "3324     85.0          24.6                      0            1.374350   \n",
       "3325     85.0          24.6                      0            1.374350   \n",
       "\n",
       "      QuaternarySlipRate  FaultRecency  FaultSlipDilationTendency2  \\\n",
       "0               -2.67835       1.64040                    0.848943   \n",
       "1               -2.67835       1.64040                    0.848943   \n",
       "2               -2.67835       1.64040                    0.848943   \n",
       "3               -2.67835       1.64040                    0.848943   \n",
       "4               -2.67835       1.64040                    0.848943   \n",
       "...                  ...           ...                         ...   \n",
       "3321            -2.45373       1.57206                    0.860139   \n",
       "3322            -2.72502       2.45524                    0.783172   \n",
       "3323            -2.72502       2.45524                    0.783172   \n",
       "3324            -1.84191       1.85678                    0.776615   \n",
       "3325            -1.84191       1.85678                    0.776615   \n",
       "\n",
       "      Earthquakes  HorizGravityGradient2  HorizGravityGradient2  ...  \\\n",
       "0         2.15987               0.005064               0.005064  ...   \n",
       "1         2.15987               0.005064               0.005064  ...   \n",
       "2         2.15987               0.005064               0.005064  ...   \n",
       "3         2.15987               0.005064               0.005064  ...   \n",
       "4         2.15987               0.005064               0.005064  ...   \n",
       "...           ...                    ...                    ...  ...   \n",
       "3321      2.24428               0.004033               0.004033  ...   \n",
       "3322      1.42325               0.000988               0.000988  ...   \n",
       "3323      1.42325               0.000988               0.000988  ...   \n",
       "3324      1.64836               0.001607               0.001607  ...   \n",
       "3325      1.64836               0.001607               0.001607  ...   \n",
       "\n",
       "      GravityDensity  MagneticDensity   Heatflow  HorizGravityGradient2  \\\n",
       "0                  2                8  87.680901               0.005064   \n",
       "1                  2                8  87.680901               0.005064   \n",
       "2                  2                8  87.680901               0.005064   \n",
       "3                  2                8  87.680901               0.005064   \n",
       "4                  2                8  87.680901               0.005064   \n",
       "...              ...              ...        ...                    ...   \n",
       "3321               6                2  74.396004               0.004033   \n",
       "3322              23                8  78.786400               0.000988   \n",
       "3323              23                8  78.786400               0.000988   \n",
       "3324              29               20  74.607201               0.001607   \n",
       "3325              29               20  74.607201               0.001607   \n",
       "\n",
       "      HorizGravityGradient2  Tufa_Distance  Travertine_Distance  \\\n",
       "0                  0.005064   28851.413871         48392.998068   \n",
       "1                  0.005064   28851.413871         48392.998068   \n",
       "2                  0.005064   28851.413871         48392.998068   \n",
       "3                  0.005064   28851.413871         48392.998068   \n",
       "4                  0.005064   28851.413871         48392.998068   \n",
       "...                     ...            ...                  ...   \n",
       "3321               0.004033   51020.679897         34537.742087   \n",
       "3322               0.000988  322268.860515         68016.522897   \n",
       "3323               0.000988  322268.860515         68016.522897   \n",
       "3324               0.001607   85962.466756         22944.375680   \n",
       "3325               0.001607   85962.466756         22944.375680   \n",
       "\n",
       "      Silica_Distance  FavorableStructuralSettings_Distance  \\\n",
       "0          714.858718                           3740.632974   \n",
       "1          714.858718                           3740.632974   \n",
       "2          714.858718                           3740.632974   \n",
       "3          714.858718                           3740.632974   \n",
       "4          714.858718                           3740.632974   \n",
       "...               ...                                   ...   \n",
       "3321      8914.088404                           5056.693849   \n",
       "3322    172065.856774                          10037.757911   \n",
       "3323    172065.856774                          10037.757911   \n",
       "3324     10896.855100                           1522.267172   \n",
       "3325     10896.855100                           1522.267172   \n",
       "\n",
       "      QuaternaryFaultDistance  \n",
       "0                   -0.866128  \n",
       "1                   -0.866128  \n",
       "2                   -0.866128  \n",
       "3                   -0.866128  \n",
       "4                   -0.866128  \n",
       "...                       ...  \n",
       "3321                 2.386731  \n",
       "3322                 0.124746  \n",
       "3323                 0.124746  \n",
       "3324                -0.469778  \n",
       "3325                -0.469778  \n",
       "\n",
       "[2558 rows x 21 columns]"
      ]
     },
     "execution_count": 11,
     "metadata": {},
     "output_type": "execute_result"
    }
   ],
   "source": [
    "X"
   ]
  },
  {
   "cell_type": "code",
   "execution_count": null,
   "metadata": {},
   "outputs": [
    {
     "data": {
      "application/vnd.plotly.v1+json": {
       "config": {
        "plotlyServerURL": "https://plot.ly"
       },
       "data": [
        {
         "hovertemplate": "X_83UTM11_round=%{x}<br>Y_83UTM11_round=%{y}<extra></extra>",
         "legendgroup": "",
         "marker": {
          "color": "#636efa",
          "symbol": "circle"
         },
         "mode": "markers",
         "name": "",
         "showlegend": false,
         "type": "scattergl",
         "x": [
          296000,
          296000,
          296000,
          296000,
          296000,
          296000,
          296000,
          296000,
          364000,
          364000,
          534000,
          534000,
          534000,
          534000,
          534000,
          534000,
          534000,
          534000,
          534000,
          534000,
          534000,
          534000,
          534000,
          534000,
          296000,
          296000,
          296000,
          296000,
          428000,
          428000,
          364000,
          364000,
          364000,
          364000,
          364000,
          364000,
          364000,
          364000,
          367000,
          367000,
          367000,
          367000,
          364000,
          364000,
          364000,
          364000,
          364000,
          364000,
          364000,
          364000,
          364000,
          364000,
          364000,
          364000,
          535000,
          535000,
          535000,
          535000,
          535000,
          535000,
          535000,
          535000,
          535000,
          535000,
          535000,
          535000,
          535000,
          535000,
          535000,
          535000,
          364000,
          364000,
          364000,
          364000,
          364000,
          364000,
          327000,
          327000,
          327000,
          327000,
          327000,
          327000,
          327000,
          327000,
          427000,
          428000,
          428000,
          428000,
          428000,
          425000,
          366000,
          366000,
          366000,
          366000,
          300000,
          300000,
          300000,
          300000,
          363000,
          363000,
          363000,
          363000,
          363000,
          363000,
          363000,
          363000,
          296000,
          296000,
          296000,
          296000,
          365000,
          365000,
          536000,
          536000,
          536000,
          536000,
          536000,
          536000,
          408000,
          328000,
          328000,
          328000,
          328000,
          328000,
          328000,
          328000,
          328000,
          328000,
          328000,
          328000,
          328000,
          363000,
          363000,
          363000,
          363000,
          363000,
          363000,
          296000,
          296000,
          446000,
          296000,
          296000,
          296000,
          296000,
          413000,
          413000,
          413000,
          342000,
          342000,
          385000,
          385000,
          385000,
          445000,
          445000,
          445000,
          445000,
          445000,
          413000,
          413000,
          333000,
          333000,
          333000,
          333000,
          293000,
          293000,
          296000,
          296000,
          296000,
          296000,
          296000,
          296000,
          384000,
          384000,
          534000,
          534000,
          534000,
          534000,
          534000,
          534000,
          534000,
          534000,
          333000,
          333000,
          404000,
          365000,
          365000,
          408000,
          340000,
          340000,
          340000,
          340000,
          367000,
          367000,
          367000,
          367000,
          299000,
          299000,
          299000,
          299000,
          367000,
          367000,
          367000,
          367000,
          367000,
          367000,
          403000,
          367000,
          367000,
          402000,
          402000,
          402000,
          329000,
          329000,
          487000,
          487000,
          487000,
          487000,
          487000,
          487000,
          487000,
          487000,
          359000,
          359000,
          359000,
          359000,
          359000,
          359000,
          446000,
          446000,
          446000,
          446000,
          365000,
          365000,
          365000,
          365000,
          362000,
          362000,
          362000,
          362000,
          362000,
          362000,
          362000,
          362000,
          422000,
          422000,
          401000,
          401000,
          401000,
          401000,
          401000,
          401000,
          401000,
          401000,
          401000,
          298000,
          298000,
          298000,
          402000,
          402000,
          402000,
          402000,
          402000,
          402000,
          402000,
          402000,
          311000,
          311000,
          311000,
          311000,
          311000,
          311000,
          407000,
          407000,
          341000,
          341000,
          341000,
          341000,
          341000,
          341000,
          292000,
          292000,
          458000,
          458000,
          458000,
          458000,
          458000,
          458000,
          458000,
          458000,
          401000,
          401000,
          401000,
          401000,
          401000,
          402000,
          402000,
          384000,
          384000,
          367000,
          367000,
          458000,
          458000,
          363000,
          362000,
          362000,
          362000,
          362000,
          362000,
          362000,
          457000,
          457000,
          457000,
          331000,
          331000,
          331000,
          331000,
          331000,
          423000,
          427000,
          427000,
          427000,
          415000,
          415000,
          415000,
          415000,
          446000,
          446000,
          446000,
          446000,
          327000,
          327000,
          366000,
          366000,
          366000,
          366000,
          329000,
          329000,
          488000,
          488000,
          488000,
          488000,
          488000,
          488000,
          488000,
          488000,
          413000,
          413000,
          413000,
          298000,
          298000,
          363000,
          363000,
          310000,
          310000,
          338000,
          338000,
          533000,
          533000,
          533000,
          533000,
          533000,
          533000,
          533000,
          533000,
          533000,
          533000,
          533000,
          403000,
          403000,
          403000,
          311000,
          311000,
          400000,
          400000,
          400000,
          400000,
          400000,
          400000,
          400000,
          400000,
          311000,
          311000,
          300000,
          300000,
          393000,
          393000,
          367000,
          367000,
          359000,
          359000,
          357000,
          357000,
          357000,
          357000,
          415000,
          415000,
          359000,
          359000,
          536000,
          536000,
          297000,
          297000,
          297000,
          297000,
          297000,
          297000,
          297000,
          297000,
          403000,
          403000,
          366000,
          366000,
          366000,
          366000,
          414000,
          456000,
          456000,
          384000,
          384000,
          402000,
          402000,
          488000,
          488000,
          488000,
          488000,
          488000,
          488000,
          488000,
          488000,
          488000,
          439000,
          401000,
          311000,
          311000,
          361000,
          361000,
          312000,
          312000,
          366000,
          366000,
          362000,
          362000,
          362000,
          362000,
          311000,
          311000,
          311000,
          311000,
          402000,
          402000,
          296000,
          296000,
          296000,
          296000,
          296000,
          296000,
          406000,
          406000,
          410000,
          393000,
          393000,
          393000,
          393000,
          393000,
          393000,
          454000,
          454000,
          454000,
          300000,
          300000,
          458000,
          458000,
          339000,
          339000,
          339000,
          339000,
          457000,
          457000,
          457000,
          457000,
          489000,
          489000,
          489000,
          489000,
          489000,
          489000,
          356000,
          356000,
          393000,
          393000,
          365000,
          365000,
          365000,
          365000,
          337000,
          337000,
          486000,
          486000,
          348000,
          348000,
          312000,
          312000,
          312000,
          312000,
          312000,
          312000,
          487000,
          487000,
          487000,
          487000,
          346000,
          346000,
          335000,
          335000,
          313000,
          313000,
          313000,
          313000,
          313000,
          313000,
          466000,
          357000,
          357000,
          456000,
          456000,
          400000,
          400000,
          400000,
          400000,
          401000,
          401000,
          445000,
          445000,
          445000,
          445000,
          459000,
          383000,
          383000,
          383000,
          383000,
          487000,
          487000,
          487000,
          487000,
          487000,
          487000,
          487000,
          487000,
          487000,
          413000,
          413000,
          413000,
          477000,
          337000,
          337000,
          337000,
          337000,
          479000,
          368000,
          368000,
          356000,
          356000,
          393000,
          393000,
          405000,
          476000,
          296000,
          296000,
          296000,
          296000,
          488000,
          488000,
          488000,
          488000,
          488000,
          488000,
          488000,
          488000,
          488000,
          488000,
          488000,
          488000,
          488000,
          459000,
          459000,
          459000,
          459000,
          295000,
          295000,
          327000,
          327000,
          367000,
          367000,
          321000,
          321000,
          439000,
          357000,
          357000,
          357000,
          357000,
          421000,
          421000,
          421000,
          421000,
          476000,
          404000,
          404000,
          475000,
          423000,
          423000,
          423000,
          336000,
          336000,
          474000,
          455000,
          455000,
          311000,
          311000,
          311000,
          311000,
          667000,
          667000,
          415000,
          415000,
          415000,
          456000,
          456000,
          444000,
          444000,
          491000,
          491000,
          491000,
          481000,
          392000,
          392000,
          392000,
          392000,
          392000,
          359000,
          359000,
          394000,
          457000,
          457000,
          446000,
          446000,
          391000,
          424000,
          424000,
          396000,
          392000,
          358000,
          358000,
          414000,
          414000,
          414000,
          297000,
          297000,
          297000,
          297000,
          368000,
          368000,
          391000,
          391000,
          521000,
          473000,
          473000,
          300000,
          300000,
          353000,
          353000,
          353000,
          353000,
          353000,
          353000,
          414000,
          414000,
          414000,
          414000,
          363000,
          363000,
          335000,
          335000,
          335000,
          335000,
          401000,
          401000,
          472000,
          342000,
          342000,
          300000,
          300000,
          445000,
          445000,
          445000,
          458000,
          458000,
          458000,
          479000,
          310000,
          310000,
          310000,
          310000,
          310000,
          310000,
          331000,
          331000,
          310000,
          310000,
          310000,
          310000,
          307000,
          307000,
          311000,
          311000,
          311000,
          311000,
          309000,
          309000,
          314000,
          314000,
          297000,
          297000,
          297000,
          297000,
          297000,
          297000,
          301000,
          301000,
          301000,
          301000,
          301000,
          301000,
          366000,
          366000,
          314000,
          314000,
          488000,
          488000,
          485000,
          485000,
          485000,
          485000,
          457000,
          457000,
          396000,
          396000,
          458000,
          458000,
          670000,
          670000,
          342000,
          342000,
          342000,
          342000,
          533000,
          533000,
          458000,
          458000,
          486000,
          486000,
          486000,
          486000,
          486000,
          373000,
          486000,
          486000,
          486000,
          486000,
          627000,
          627000,
          627000,
          627000,
          627000,
          627000,
          627000,
          627000,
          458000,
          458000,
          341000,
          341000,
          334000,
          334000,
          312000,
          312000,
          409000,
          526000,
          355000,
          355000,
          356000,
          356000,
          356000,
          356000,
          358000,
          358000,
          394000,
          394000,
          533000,
          533000,
          533000,
          533000,
          533000,
          533000,
          533000,
          533000,
          533000,
          580000,
          308000,
          308000,
          571000,
          297000,
          297000,
          297000,
          297000,
          583000,
          573000,
          572000,
          491000,
          392000,
          489000,
          445000,
          445000,
          445000,
          312000,
          312000,
          312000,
          312000,
          367000,
          367000,
          337000,
          337000,
          486000,
          483000,
          307000,
          307000,
          297000,
          297000,
          297000,
          297000,
          327000,
          327000,
          328000,
          328000,
          325000,
          325000,
          325000,
          325000,
          342000,
          342000,
          331000,
          331000,
          515000,
          515000,
          313000,
          313000,
          577000,
          455000,
          455000,
          455000,
          455000,
          455000,
          572000,
          340000,
          340000,
          454000,
          454000,
          361000,
          361000,
          669000,
          669000,
          451000,
          451000,
          451000,
          451000,
          567000,
          587000,
          568000,
          536000,
          536000,
          335000,
          335000,
          628000,
          628000,
          628000,
          628000,
          628000,
          628000,
          532000,
          532000,
          587000,
          404000,
          491000,
          491000,
          491000,
          491000,
          491000,
          361000,
          361000,
          414000,
          602000,
          393000,
          393000,
          393000,
          393000,
          424000,
          620000,
          321000,
          321000,
          535000,
          535000,
          531000,
          531000,
          537000,
          537000,
          537000,
          537000,
          313000,
          313000,
          309000,
          309000,
          304000,
          304000,
          359000,
          359000,
          311000,
          311000,
          627000,
          627000,
          627000,
          627000,
          627000,
          627000,
          627000,
          627000,
          627000,
          627000,
          627000,
          627000,
          329000,
          329000,
          327000,
          327000,
          327000,
          327000,
          327000,
          327000,
          329000,
          329000,
          343000,
          343000,
          446000,
          446000,
          341000,
          341000,
          484000,
          484000,
          362000,
          362000,
          362000,
          362000,
          458000,
          458000,
          312000,
          312000,
          312000,
          312000,
          605000,
          428000,
          336000,
          336000,
          363000,
          363000,
          356000,
          356000,
          356000,
          356000,
          627000,
          627000,
          627000,
          627000,
          627000,
          627000,
          627000,
          627000,
          627000,
          627000,
          627000,
          627000,
          627000,
          627000,
          627000,
          627000,
          627000,
          627000,
          627000,
          627000,
          627000,
          627000,
          627000,
          627000,
          627000,
          627000,
          627000,
          627000,
          427000,
          441000,
          368000,
          423000,
          423000,
          423000,
          423000,
          324000,
          324000,
          644000,
          644000,
          644000,
          644000,
          591000,
          532000,
          532000,
          454000,
          454000,
          311000,
          311000,
          393000,
          392000,
          415000,
          415000,
          415000,
          415000,
          415000,
          415000,
          415000,
          415000,
          415000,
          415000,
          415000,
          415000,
          415000,
          415000,
          415000,
          415000,
          532000,
          532000,
          532000,
          532000,
          537000,
          537000,
          537000,
          537000,
          537000,
          537000,
          643000,
          643000,
          643000,
          643000,
          643000,
          643000,
          643000,
          643000,
          387000,
          387000,
          328000,
          328000,
          328000,
          328000,
          339000,
          339000,
          335000,
          335000,
          355000,
          355000,
          353000,
          353000,
          334000,
          334000,
          314000,
          314000,
          296000,
          296000,
          296000,
          296000,
          296000,
          296000,
          296000,
          296000,
          391000,
          391000,
          340000,
          340000,
          392000,
          392000,
          392000,
          458000,
          458000,
          300000,
          300000,
          352000,
          352000,
          362000,
          362000,
          344000,
          344000,
          376000,
          376000,
          295000,
          295000,
          408000,
          391000,
          391000,
          306000,
          306000,
          297000,
          297000,
          307000,
          307000,
          307000,
          307000,
          307000,
          307000,
          313000,
          313000,
          305000,
          305000,
          360000,
          360000,
          343000,
          343000,
          642000,
          642000,
          392000,
          392000,
          320000,
          320000,
          443000,
          443000,
          443000,
          443000,
          429000,
          645000,
          645000,
          626000,
          626000,
          626000,
          626000,
          626000,
          626000,
          626000,
          626000,
          394000,
          358000,
          358000,
          642000,
          642000,
          457000,
          457000,
          351000,
          351000,
          318000,
          318000,
          318000,
          318000,
          363000,
          363000,
          295000,
          295000,
          361000,
          361000,
          450000,
          450000,
          450000,
          450000,
          299000,
          299000,
          299000,
          299000,
          299000,
          451000,
          451000,
          451000,
          415000,
          415000,
          642000,
          642000,
          297000,
          297000,
          457000,
          457000,
          400000,
          400000,
          400000,
          400000,
          400000,
          348000,
          348000,
          644000,
          644000,
          458000,
          458000,
          458000,
          447000,
          447000,
          411000,
          450000,
          450000,
          380000,
          535000,
          535000,
          353000,
          353000,
          353000,
          353000,
          361000,
          361000,
          361000,
          361000,
          371000,
          371000,
          371000,
          371000,
          371000,
          366000,
          366000,
          360000,
          360000,
          296000,
          296000,
          296000,
          296000,
          509000,
          456000,
          456000,
          404000,
          404000,
          459000,
          459000,
          537000,
          537000,
          357000,
          357000,
          296000,
          296000,
          296000,
          296000,
          368000,
          368000,
          534000,
          534000,
          534000,
          534000,
          534000,
          534000,
          454000,
          454000,
          325000,
          325000,
          323000,
          323000,
          364000,
          364000,
          486000,
          486000,
          486000,
          315000,
          315000,
          355000,
          355000,
          367000,
          367000,
          448000,
          448000,
          296000,
          296000,
          296000,
          296000,
          356000,
          356000,
          422000,
          453000,
          453000,
          444000,
          444000,
          444000,
          444000,
          390000,
          390000,
          343000,
          343000,
          423000,
          423000,
          623000,
          623000,
          623000,
          623000,
          623000,
          623000,
          623000,
          623000,
          623000,
          623000,
          623000,
          623000,
          623000,
          623000,
          308000,
          308000,
          328000,
          450000,
          450000,
          469000,
          469000,
          311000,
          311000,
          334000,
          334000,
          334000,
          334000,
          339000,
          339000,
          324000,
          324000,
          438000,
          626000,
          626000,
          626000,
          626000,
          623000,
          623000,
          623000,
          623000,
          623000,
          623000,
          623000,
          623000,
          627000,
          627000,
          627000,
          627000,
          625000,
          625000,
          625000,
          625000,
          625000,
          625000,
          625000,
          625000,
          625000,
          625000,
          625000,
          625000,
          344000,
          344000,
          334000,
          334000,
          353000,
          353000,
          334000,
          334000,
          315000,
          315000,
          297000,
          297000,
          297000,
          297000,
          650000,
          650000,
          455000,
          455000,
          644000,
          644000,
          326000,
          326000,
          391000,
          371000,
          371000,
          369000,
          369000,
          369000,
          369000,
          328000,
          328000,
          349000,
          349000,
          471000,
          471000,
          295000,
          295000,
          621000,
          621000,
          621000,
          621000,
          455000,
          455000,
          626000,
          626000,
          368000,
          439000,
          439000,
          338000,
          338000,
          355000,
          355000,
          297000,
          297000,
          353000,
          353000,
          485000,
          485000,
          625000,
          625000,
          625000,
          625000,
          625000,
          625000,
          323000,
          323000,
          477000,
          477000,
          301000,
          301000,
          404000,
          394000,
          385000,
          385000,
          353000,
          353000,
          332000,
          332000,
          339000,
          339000,
          364000,
          364000,
          354000,
          354000,
          339000,
          339000,
          449000,
          449000,
          411000,
          392000,
          614000,
          614000,
          448000,
          457000,
          457000,
          454000,
          454000,
          454000,
          454000,
          354000,
          354000,
          328000,
          328000,
          327000,
          327000,
          321000,
          321000,
          356000,
          356000,
          316000,
          316000,
          360000,
          360000,
          295000,
          295000,
          454000,
          454000,
          402000,
          296000,
          296000,
          296000,
          451000,
          451000,
          339000,
          339000,
          324000,
          324000,
          336000,
          336000,
          350000,
          350000,
          301000,
          301000,
          301000,
          301000,
          351000,
          351000,
          294000,
          294000,
          360000,
          360000,
          400000,
          400000,
          424000,
          424000,
          423000,
          301000,
          320000,
          320000,
          411000,
          411000,
          411000,
          301000,
          301000,
          301000,
          302000,
          351000,
          351000,
          350000,
          350000,
          321000,
          321000,
          313000,
          313000,
          335000,
          335000,
          294000,
          294000,
          402000,
          403000,
          403000,
          388000,
          388000,
          328000,
          328000,
          338000,
          338000,
          310000,
          310000,
          310000,
          310000,
          310000,
          310000,
          314000,
          314000,
          341000,
          341000,
          315000,
          315000,
          362000,
          362000,
          420000,
          420000,
          377000,
          377000,
          377000,
          377000,
          377000,
          341000,
          401000,
          401000,
          426000,
          454000,
          454000,
          344000,
          341000,
          342000,
          352000,
          352000,
          352000,
          352000,
          297000,
          297000,
          350000,
          350000,
          350000,
          350000,
          362000,
          362000,
          355000,
          355000,
          317000,
          317000,
          286000,
          286000,
          315000,
          315000,
          446000,
          646000,
          646000,
          370000,
          370000,
          395000,
          395000,
          340000,
          397000,
          397000,
          420000,
          420000,
          687000,
          687000,
          687000,
          687000,
          687000,
          687000,
          340000,
          340000,
          350000,
          350000,
          335000,
          335000,
          396000,
          396000,
          334000,
          334000,
          603000,
          603000,
          312000,
          312000,
          355000,
          355000,
          335000,
          335000,
          315000,
          315000,
          625000,
          625000,
          538000,
          538000,
          339000,
          300000,
          300000,
          328000,
          547000,
          547000,
          547000,
          318000,
          318000,
          342000,
          342000,
          415000,
          350000,
          350000,
          414000,
          437000,
          437000,
          419000,
          341000,
          341000,
          368000,
          368000,
          368000,
          368000,
          470000,
          470000,
          470000,
          457000,
          442000,
          425000,
          325000,
          325000,
          352000,
          352000,
          344000,
          344000,
          357000,
          357000,
          355000,
          355000,
          434000,
          412000,
          427000,
          455000,
          455000,
          347000,
          347000,
          423000,
          423000,
          324000,
          324000,
          351000,
          351000,
          342000,
          342000,
          416000,
          416000,
          626000,
          626000,
          444000,
          444000,
          444000,
          444000,
          570000,
          334000,
          334000,
          423000,
          423000,
          357000,
          357000,
          319000,
          319000,
          330000,
          330000,
          342000,
          342000,
          668000,
          668000,
          348000,
          348000,
          353000,
          353000,
          442000,
          442000,
          346000,
          346000,
          401000,
          401000,
          437000,
          293000,
          470000,
          470000,
          414000,
          414000,
          555000,
          485000,
          294000,
          294000,
          622000,
          622000,
          622000,
          622000,
          313000,
          313000,
          345000,
          345000,
          342000,
          342000,
          331000,
          331000,
          389000,
          385000,
          383000,
          383000,
          387000,
          387000,
          371000,
          371000,
          371000,
          371000,
          342000,
          342000,
          367000,
          367000,
          412000,
          381000,
          381000,
          335000,
          430000,
          338000,
          338000,
          540000,
          540000,
          295000,
          295000,
          295000,
          295000,
          336000,
          646000,
          646000,
          345000,
          366000,
          366000,
          440000,
          443000,
          386000,
          386000,
          452000,
          452000,
          396000,
          396000,
          441000,
          578000,
          454000,
          454000,
          422000,
          422000,
          299000,
          299000,
          430000,
          373000,
          373000,
          485000,
          485000,
          450000,
          423000,
          423000,
          315000,
          315000,
          316000,
          316000,
          337000,
          337000,
          471000,
          471000,
          298000,
          298000,
          450000,
          450000,
          646000,
          646000,
          460000,
          460000,
          416000,
          416000,
          423000,
          423000,
          423000,
          621000,
          621000,
          425000,
          425000,
          351000,
          351000,
          539000,
          539000,
          313000,
          313000,
          302000,
          302000,
          302000,
          302000,
          478000,
          478000,
          459000,
          370000,
          370000,
          419000,
          412000,
          421000,
          442000,
          442000,
          434000,
          373000,
          395000,
          395000,
          533000,
          534000,
          424000,
          424000,
          612000,
          612000,
          435000,
          435000,
          342000,
          342000,
          330000,
          330000,
          641000,
          641000,
          297000,
          297000,
          359000,
          359000,
          359000,
          359000,
          423000,
          423000,
          385000,
          385000,
          385000,
          385000,
          546000,
          352000,
          352000,
          544000,
          439000,
          337000,
          337000,
          335000,
          335000,
          447000,
          447000,
          645000,
          645000,
          645000,
          443000,
          443000,
          534000,
          534000,
          296000,
          296000,
          457000,
          457000,
          410000,
          410000,
          516000,
          516000,
          536000,
          536000,
          547000,
          443000,
          443000,
          447000,
          447000,
          380000,
          411000,
          415000,
          383000,
          383000,
          382000,
          382000,
          438000,
          424000,
          424000,
          292000,
          292000,
          324000,
          324000,
          324000,
          326000,
          326000,
          443000,
          443000,
          421000,
          353000,
          353000,
          346000,
          346000,
          533000,
          533000,
          453000,
          453000,
          512000,
          389000,
          389000,
          410000,
          410000,
          539000,
          329000,
          329000,
          342000,
          342000,
          294000,
          294000,
          294000,
          294000,
          295000,
          295000,
          362000,
          362000,
          399000,
          341000,
          341000,
          511000,
          537000,
          358000,
          358000,
          358000,
          358000,
          385000,
          385000,
          388000,
          393000,
          390000,
          530000,
          460000,
          460000,
          400000,
          426000,
          627000,
          627000,
          627000,
          627000,
          627000,
          627000,
          462000,
          462000,
          610000,
          610000,
          347000,
          347000,
          449000,
          667000,
          667000,
          356000,
          356000,
          340000,
          340000,
          360000,
          360000,
          394000,
          472000,
          372000,
          372000,
          372000,
          372000,
          452000,
          452000,
          337000,
          535000,
          535000,
          386000,
          386000,
          341000,
          341000,
          328000,
          328000,
          399000,
          399000,
          540000,
          540000,
          540000,
          540000,
          613000,
          613000,
          360000,
          360000,
          314000,
          314000,
          342000,
          342000,
          345000,
          345000,
          317000,
          317000,
          404000,
          404000,
          352000,
          352000,
          382000,
          382000,
          425000,
          421000,
          421000,
          288000,
          328000,
          328000,
          328000,
          328000,
          323000,
          323000,
          324000,
          324000,
          316000,
          316000,
          447000,
          447000,
          294000,
          294000,
          297000,
          297000,
          362000,
          362000,
          453000,
          453000,
          443000,
          443000,
          531000,
          531000,
          418000,
          395000,
          303000,
          444000,
          444000,
          444000,
          444000,
          307000,
          462000,
          462000,
          395000,
          395000,
          310000,
          611000,
          611000,
          345000,
          345000,
          345000,
          345000,
          327000,
          327000,
          358000,
          358000,
          354000,
          354000,
          326000,
          326000,
          441000,
          441000,
          399000,
          399000,
          301000,
          301000,
          448000,
          448000,
          538000,
          538000,
          446000,
          446000,
          447000,
          447000,
          328000,
          328000,
          328000,
          328000,
          430000,
          430000,
          392000,
          392000,
          493000,
          451000,
          451000,
          436000,
          300000,
          300000,
          327000,
          327000,
          609000,
          609000,
          345000,
          345000,
          352000,
          352000,
          306000,
          306000,
          307000,
          307000,
          309000,
          309000,
          297000,
          297000,
          442000,
          442000,
          314000,
          314000,
          451000,
          451000,
          449000,
          449000,
          489000,
          386000,
          386000,
          360000,
          360000,
          360000,
          360000,
          407000,
          384000,
          517000,
          477000,
          379000,
          379000,
          500000,
          449000,
          449000,
          362000,
          362000,
          426000,
          290000,
          626000,
          626000,
          626000,
          626000,
          626000,
          626000,
          626000,
          626000,
          626000,
          626000,
          391000,
          391000,
          609000,
          609000,
          439000,
          323000,
          323000,
          335000,
          335000,
          298000,
          298000,
          446000,
          446000,
          389000,
          396000,
          392000,
          392000,
          400000,
          400000,
          532000,
          532000,
          461000,
          461000,
          440000,
          440000,
          407000,
          407000,
          407000,
          608000,
          608000,
          428000,
          428000,
          296000,
          296000,
          357000,
          357000,
          339000,
          339000,
          383000,
          383000,
          459000,
          459000,
          430000,
          430000,
          379000,
          408000,
          327000,
          400000,
          411000,
          345000,
          338000,
          338000,
          338000,
          338000,
          294000,
          294000,
          361000,
          361000,
          546000,
          546000,
          429000,
          429000,
          412000,
          412000,
          327000,
          393000,
          393000,
          412000,
          580000,
          364000,
          364000,
          577000,
          626000,
          626000,
          626000,
          626000,
          626000,
          626000,
          446000,
          446000,
          446000,
          446000,
          309000,
          356000,
          399000,
          319000,
          319000,
          386000,
          386000,
          357000,
          357000,
          443000,
          443000,
          413000,
          294000,
          294000,
          448000,
          448000,
          623000,
          577000,
          577000,
          379000,
          379000,
          379000,
          379000,
          379000,
          379000,
          365000,
          365000,
          400000,
          311000,
          311000,
          384000,
          384000,
          312000,
          312000,
          401000,
          401000,
          354000,
          354000,
          432000,
          432000,
          312000,
          312000,
          451000,
          451000,
          363000,
          363000,
          535000,
          535000,
          453000,
          453000,
          383000,
          404000,
          404000,
          399000,
          399000,
          472000,
          443000,
          443000,
          443000,
          443000,
          626000,
          626000,
          495000,
          382000,
          382000,
          362000,
          362000,
          333000,
          333000,
          310000,
          310000,
          379000,
          379000,
          386000,
          386000,
          460000,
          460000,
          349000,
          349000,
          457000,
          457000,
          366000,
          366000,
          444000,
          444000,
          442000,
          442000,
          440000,
          440000,
          331000,
          331000,
          597000,
          597000,
          438000,
          438000,
          331000,
          331000,
          508000,
          508000,
          489000,
          489000,
          427000,
          427000,
          558000,
          558000,
          387000,
          387000,
          493000,
          396000,
          396000,
          462000,
          462000,
          396000,
          395000,
          369000,
          369000,
          393000,
          393000,
          446000,
          311000,
          311000,
          304000,
          304000,
          417000,
          417000,
          417000,
          414000,
          445000,
          445000,
          462000,
          462000,
          423000,
          391000,
          395000,
          548000,
          548000,
          700000,
          700000,
          295000,
          295000,
          427000,
          427000,
          354000,
          354000,
          347000,
          347000,
          363000,
          363000,
          339000,
          339000,
          353000,
          353000,
          437000,
          437000,
          437000,
          448000,
          448000,
          367000,
          345000,
          318000,
          659000,
          659000,
          443000,
          443000,
          302000,
          302000,
          305000,
          305000,
          304000,
          304000,
          445000,
          445000,
          303000,
          303000,
          487000,
          487000,
          348000,
          348000,
          413000,
          423000,
          423000,
          301000,
          462000,
          462000,
          414000,
          414000,
          376000,
          376000,
          376000,
          376000,
          439000,
          371000,
          584000,
          584000,
          425000,
          425000,
          429000,
          429000,
          351000,
          351000,
          330000,
          330000,
          294000,
          294000,
          440000,
          440000,
          493000,
          493000,
          389000,
          389000,
          393000,
          393000,
          494000,
          494000,
          420000,
          420000,
          410000,
          410000,
          286000,
          446000,
          446000,
          434000,
          434000,
          342000,
          342000,
          426000,
          442000,
          442000,
          349000,
          624000,
          624000,
          358000,
          358000,
          405000,
          581000,
          343000,
          343000,
          512000,
          584000,
          491000,
          491000,
          461000,
          461000,
          452000,
          452000,
          570000,
          570000,
          456000,
          456000,
          459000,
          340000,
          340000,
          515000,
          515000,
          528000,
          528000,
          346000,
          626000,
          626000,
          329000,
          428000,
          428000,
          524000,
          524000,
          674000,
          674000,
          425000,
          438000,
          438000,
          332000,
          332000,
          593000,
          341000,
          337000,
          336000,
          336000,
          461000,
          461000,
          402000,
          402000,
          332000,
          332000,
          324000,
          324000,
          315000,
          315000,
          404000,
          404000,
          359000,
          359000,
          425000,
          406000,
          406000,
          451000,
          451000,
          366000,
          366000,
          306000,
          306000,
          521000,
          521000,
          368000,
          368000,
          447000,
          447000,
          506000,
          506000,
          545000,
          545000,
          442000,
          402000,
          402000,
          395000,
          293000,
          293000,
          680000,
          680000,
          455000,
          455000
         ],
         "xaxis": "x",
         "y": [
          4475000,
          4475000,
          4475000,
          4475000,
          4475000,
          4475000,
          4475000,
          4475000,
          4356000,
          4356000,
          4490000,
          4490000,
          4490000,
          4490000,
          4490000,
          4490000,
          4490000,
          4490000,
          4490000,
          4490000,
          4490000,
          4490000,
          4490000,
          4490000,
          4476000,
          4476000,
          4476000,
          4476000,
          4426000,
          4426000,
          4357000,
          4357000,
          4358000,
          4358000,
          4358000,
          4358000,
          4358000,
          4358000,
          4376000,
          4376000,
          4376000,
          4376000,
          4353000,
          4353000,
          4353000,
          4353000,
          4353000,
          4353000,
          4353000,
          4353000,
          4351000,
          4351000,
          4351000,
          4351000,
          4490000,
          4490000,
          4490000,
          4490000,
          4490000,
          4490000,
          4490000,
          4490000,
          4490000,
          4490000,
          4490000,
          4490000,
          4490000,
          4490000,
          4490000,
          4490000,
          4350000,
          4350000,
          4350000,
          4350000,
          4352000,
          4352000,
          4406000,
          4406000,
          4406000,
          4406000,
          4406000,
          4406000,
          4406000,
          4406000,
          4427000,
          4427000,
          4427000,
          4427000,
          4427000,
          4406000,
          4377000,
          4377000,
          4377000,
          4377000,
          4503000,
          4503000,
          4503000,
          4503000,
          4354000,
          4354000,
          4354000,
          4354000,
          4351000,
          4351000,
          4351000,
          4351000,
          4474000,
          4474000,
          4474000,
          4474000,
          4350000,
          4350000,
          4490000,
          4490000,
          4490000,
          4490000,
          4490000,
          4490000,
          4405000,
          4406000,
          4406000,
          4406000,
          4406000,
          4406000,
          4406000,
          4406000,
          4406000,
          4406000,
          4406000,
          4406000,
          4406000,
          4350000,
          4350000,
          4350000,
          4350000,
          4350000,
          4350000,
          4477000,
          4477000,
          4379000,
          4471000,
          4471000,
          4471000,
          4471000,
          4391000,
          4391000,
          4391000,
          4407000,
          4407000,
          4458000,
          4458000,
          4458000,
          4495000,
          4495000,
          4495000,
          4495000,
          4495000,
          4411000,
          4411000,
          4402000,
          4402000,
          4402000,
          4402000,
          4473000,
          4473000,
          4472000,
          4472000,
          4472000,
          4472000,
          4472000,
          4472000,
          4457000,
          4457000,
          4489000,
          4489000,
          4489000,
          4489000,
          4489000,
          4489000,
          4489000,
          4489000,
          4403000,
          4403000,
          4328000,
          4359000,
          4359000,
          4404000,
          4382000,
          4382000,
          4382000,
          4382000,
          4358000,
          4358000,
          4358000,
          4358000,
          4503000,
          4503000,
          4503000,
          4503000,
          4380000,
          4380000,
          4380000,
          4380000,
          4380000,
          4380000,
          4375000,
          4379000,
          4379000,
          4372000,
          4372000,
          4372000,
          4405000,
          4405000,
          4416000,
          4416000,
          4416000,
          4416000,
          4416000,
          4416000,
          4416000,
          4416000,
          4360000,
          4360000,
          4360000,
          4360000,
          4360000,
          4360000,
          4495000,
          4495000,
          4495000,
          4495000,
          4351000,
          4351000,
          4351000,
          4351000,
          4356000,
          4356000,
          4356000,
          4356000,
          4356000,
          4356000,
          4356000,
          4356000,
          4422000,
          4422000,
          4374000,
          4374000,
          4374000,
          4374000,
          4374000,
          4374000,
          4374000,
          4374000,
          4374000,
          4502000,
          4502000,
          4502000,
          4375000,
          4375000,
          4375000,
          4375000,
          4375000,
          4379000,
          4379000,
          4379000,
          4294000,
          4294000,
          4294000,
          4294000,
          4294000,
          4294000,
          4402000,
          4402000,
          4380000,
          4380000,
          4380000,
          4380000,
          4380000,
          4380000,
          4474000,
          4474000,
          4413000,
          4413000,
          4413000,
          4413000,
          4413000,
          4413000,
          4413000,
          4413000,
          4372000,
          4372000,
          4372000,
          4372000,
          4372000,
          4376000,
          4376000,
          4458000,
          4458000,
          4378000,
          4378000,
          4417000,
          4417000,
          4267000,
          4354000,
          4354000,
          4354000,
          4354000,
          4354000,
          4354000,
          4404000,
          4404000,
          4404000,
          4401000,
          4401000,
          4401000,
          4401000,
          4401000,
          4423000,
          4426000,
          4426000,
          4426000,
          4392000,
          4392000,
          4392000,
          4392000,
          4494000,
          4494000,
          4494000,
          4494000,
          4405000,
          4405000,
          4380000,
          4380000,
          4380000,
          4380000,
          4410000,
          4410000,
          4416000,
          4416000,
          4416000,
          4416000,
          4416000,
          4416000,
          4416000,
          4416000,
          4414000,
          4414000,
          4414000,
          4503000,
          4503000,
          4358000,
          4358000,
          4299000,
          4299000,
          4406000,
          4406000,
          4490000,
          4490000,
          4490000,
          4490000,
          4490000,
          4490000,
          4490000,
          4490000,
          4490000,
          4490000,
          4490000,
          4379000,
          4379000,
          4379000,
          4419000,
          4419000,
          4374000,
          4374000,
          4374000,
          4374000,
          4374000,
          4374000,
          4374000,
          4374000,
          4293000,
          4293000,
          4505000,
          4505000,
          4494000,
          4494000,
          4377000,
          4377000,
          4362000,
          4362000,
          4358000,
          4358000,
          4358000,
          4358000,
          4433000,
          4433000,
          4361000,
          4361000,
          4489000,
          4489000,
          4472000,
          4472000,
          4472000,
          4472000,
          4472000,
          4472000,
          4472000,
          4472000,
          4378000,
          4378000,
          4352000,
          4352000,
          4352000,
          4352000,
          4381000,
          4405000,
          4405000,
          4460000,
          4460000,
          4378000,
          4378000,
          4415000,
          4415000,
          4415000,
          4415000,
          4415000,
          4415000,
          4415000,
          4415000,
          4415000,
          4428000,
          4376000,
          4296000,
          4296000,
          4361000,
          4361000,
          4295000,
          4295000,
          4261000,
          4261000,
          4352000,
          4352000,
          4352000,
          4352000,
          4291000,
          4291000,
          4291000,
          4291000,
          4371000,
          4371000,
          4478000,
          4478000,
          4478000,
          4478000,
          4478000,
          4478000,
          4373000,
          4373000,
          4484000,
          4364000,
          4364000,
          4364000,
          4364000,
          4364000,
          4364000,
          4414000,
          4414000,
          4414000,
          4502000,
          4502000,
          4407000,
          4407000,
          4454000,
          4454000,
          4454000,
          4454000,
          4408000,
          4408000,
          4408000,
          4408000,
          4417000,
          4417000,
          4417000,
          4417000,
          4417000,
          4417000,
          4266000,
          4266000,
          4487000,
          4487000,
          4377000,
          4377000,
          4377000,
          4377000,
          4465000,
          4465000,
          4415000,
          4415000,
          4390000,
          4390000,
          4293000,
          4293000,
          4293000,
          4293000,
          4293000,
          4293000,
          4414000,
          4414000,
          4414000,
          4414000,
          4388000,
          4388000,
          4456000,
          4456000,
          4292000,
          4292000,
          4292000,
          4292000,
          4292000,
          4292000,
          4431000,
          4357000,
          4357000,
          4412000,
          4412000,
          4373000,
          4373000,
          4373000,
          4373000,
          4377000,
          4377000,
          4496000,
          4496000,
          4496000,
          4496000,
          4370000,
          4453000,
          4453000,
          4453000,
          4453000,
          4415000,
          4415000,
          4415000,
          4415000,
          4415000,
          4415000,
          4415000,
          4415000,
          4415000,
          4413000,
          4413000,
          4413000,
          4346000,
          4454000,
          4454000,
          4454000,
          4454000,
          4348000,
          4263000,
          4263000,
          4355000,
          4355000,
          4365000,
          4365000,
          4374000,
          4350000,
          4470000,
          4470000,
          4470000,
          4470000,
          4417000,
          4417000,
          4417000,
          4417000,
          4417000,
          4417000,
          4417000,
          4417000,
          4417000,
          4417000,
          4417000,
          4417000,
          4417000,
          4413000,
          4413000,
          4413000,
          4413000,
          4471000,
          4471000,
          4403000,
          4403000,
          4383000,
          4383000,
          4419000,
          4419000,
          4427000,
          4360000,
          4360000,
          4360000,
          4360000,
          4422000,
          4422000,
          4422000,
          4422000,
          4352000,
          4375000,
          4375000,
          4355000,
          4422000,
          4422000,
          4422000,
          4452000,
          4452000,
          4359000,
          4405000,
          4405000,
          4299000,
          4299000,
          4299000,
          4299000,
          4475000,
          4475000,
          4396000,
          4396000,
          4396000,
          4410000,
          4410000,
          4495000,
          4495000,
          4368000,
          4368000,
          4368000,
          4464000,
          4364000,
          4364000,
          4364000,
          4364000,
          4364000,
          4359000,
          4359000,
          4363000,
          4409000,
          4409000,
          4496000,
          4496000,
          4308000,
          4423000,
          4423000,
          4298000,
          4365000,
          4371000,
          4371000,
          4413000,
          4413000,
          4413000,
          4474000,
          4474000,
          4474000,
          4474000,
          4375000,
          4375000,
          4364000,
          4364000,
          4290000,
          4468000,
          4468000,
          4506000,
          4506000,
          4435000,
          4435000,
          4435000,
          4435000,
          4435000,
          4435000,
          4394000,
          4394000,
          4394000,
          4394000,
          4388000,
          4388000,
          4403000,
          4403000,
          4403000,
          4403000,
          4373000,
          4373000,
          4468000,
          4381000,
          4381000,
          4470000,
          4470000,
          4493000,
          4493000,
          4493000,
          4414000,
          4414000,
          4414000,
          4495000,
          4420000,
          4420000,
          4420000,
          4420000,
          4420000,
          4420000,
          4404000,
          4404000,
          4417000,
          4417000,
          4419000,
          4419000,
          4418000,
          4418000,
          4417000,
          4417000,
          4418000,
          4418000,
          4417000,
          4417000,
          4393000,
          4393000,
          4473000,
          4473000,
          4473000,
          4473000,
          4473000,
          4473000,
          4503000,
          4503000,
          4503000,
          4503000,
          4503000,
          4503000,
          4353000,
          4353000,
          4292000,
          4292000,
          4418000,
          4418000,
          4297000,
          4297000,
          4297000,
          4297000,
          4402000,
          4402000,
          4420000,
          4420000,
          4406000,
          4406000,
          4474000,
          4474000,
          4380000,
          4380000,
          4380000,
          4380000,
          4491000,
          4491000,
          4405000,
          4405000,
          4412000,
          4412000,
          4412000,
          4412000,
          4412000,
          4263000,
          4414000,
          4414000,
          4414000,
          4414000,
          4400000,
          4400000,
          4400000,
          4400000,
          4400000,
          4400000,
          4400000,
          4400000,
          4416000,
          4416000,
          4383000,
          4383000,
          4403000,
          4403000,
          4421000,
          4421000,
          4407000,
          4463000,
          4357000,
          4357000,
          4361000,
          4361000,
          4361000,
          4361000,
          4358000,
          4358000,
          4490000,
          4490000,
          4489000,
          4489000,
          4489000,
          4489000,
          4489000,
          4489000,
          4489000,
          4489000,
          4489000,
          4363000,
          4426000,
          4426000,
          4395000,
          4476000,
          4476000,
          4476000,
          4476000,
          4378000,
          4405000,
          4405000,
          4452000,
          4366000,
          4439000,
          4494000,
          4494000,
          4494000,
          4296000,
          4296000,
          4296000,
          4296000,
          4384000,
          4384000,
          4455000,
          4455000,
          4435000,
          4433000,
          4415000,
          4415000,
          4475000,
          4475000,
          4475000,
          4475000,
          4428000,
          4428000,
          4428000,
          4428000,
          4428000,
          4428000,
          4428000,
          4428000,
          4379000,
          4379000,
          4408000,
          4408000,
          4357000,
          4357000,
          4293000,
          4293000,
          4369000,
          4407000,
          4407000,
          4407000,
          4407000,
          4407000,
          4357000,
          4444000,
          4444000,
          4402000,
          4402000,
          4445000,
          4445000,
          4473000,
          4473000,
          4487000,
          4487000,
          4487000,
          4487000,
          4354000,
          4374000,
          4360000,
          4488000,
          4488000,
          4405000,
          4405000,
          4403000,
          4403000,
          4403000,
          4403000,
          4403000,
          4403000,
          4490000,
          4490000,
          4367000,
          4378000,
          4419000,
          4419000,
          4419000,
          4418000,
          4418000,
          4452000,
          4452000,
          4400000,
          4363000,
          4362000,
          4362000,
          4362000,
          4362000,
          4422000,
          4373000,
          4420000,
          4420000,
          4489000,
          4489000,
          4448000,
          4448000,
          4489000,
          4489000,
          4489000,
          4489000,
          4419000,
          4419000,
          4414000,
          4414000,
          4418000,
          4418000,
          4455000,
          4455000,
          4421000,
          4421000,
          4403000,
          4403000,
          4403000,
          4403000,
          4403000,
          4403000,
          4403000,
          4403000,
          4403000,
          4403000,
          4403000,
          4403000,
          4401000,
          4401000,
          4427000,
          4427000,
          4427000,
          4427000,
          4427000,
          4427000,
          4429000,
          4429000,
          4379000,
          4379000,
          4493000,
          4493000,
          4409000,
          4409000,
          4296000,
          4296000,
          4353000,
          4353000,
          4353000,
          4353000,
          4412000,
          4412000,
          4298000,
          4298000,
          4298000,
          4298000,
          4481000,
          4343000,
          4454000,
          4454000,
          4445000,
          4445000,
          4359000,
          4359000,
          4359000,
          4359000,
          4402000,
          4402000,
          4402000,
          4402000,
          4402000,
          4402000,
          4402000,
          4402000,
          4402000,
          4402000,
          4402000,
          4402000,
          4402000,
          4402000,
          4402000,
          4402000,
          4402000,
          4402000,
          4402000,
          4402000,
          4402000,
          4402000,
          4402000,
          4402000,
          4402000,
          4402000,
          4402000,
          4402000,
          4424000,
          4411000,
          4266000,
          4473000,
          4473000,
          4473000,
          4473000,
          4430000,
          4430000,
          4492000,
          4492000,
          4492000,
          4492000,
          4485000,
          4488000,
          4488000,
          4405000,
          4405000,
          4297000,
          4297000,
          4361000,
          4324000,
          4428000,
          4428000,
          4428000,
          4428000,
          4428000,
          4428000,
          4428000,
          4428000,
          4428000,
          4428000,
          4428000,
          4428000,
          4428000,
          4428000,
          4428000,
          4428000,
          4489000,
          4489000,
          4489000,
          4489000,
          4488000,
          4488000,
          4488000,
          4488000,
          4488000,
          4488000,
          4491000,
          4491000,
          4491000,
          4491000,
          4491000,
          4491000,
          4491000,
          4491000,
          4394000,
          4394000,
          4431000,
          4431000,
          4431000,
          4431000,
          4382000,
          4382000,
          4449000,
          4449000,
          4434000,
          4434000,
          4438000,
          4438000,
          4457000,
          4457000,
          4293000,
          4293000,
          4480000,
          4480000,
          4480000,
          4480000,
          4480000,
          4480000,
          4480000,
          4480000,
          4366000,
          4366000,
          4379000,
          4379000,
          4363000,
          4363000,
          4363000,
          4415000,
          4415000,
          4429000,
          4429000,
          4436000,
          4436000,
          4447000,
          4447000,
          4452000,
          4452000,
          4423000,
          4423000,
          4477000,
          4477000,
          4392000,
          4496000,
          4496000,
          4410000,
          4410000,
          4477000,
          4477000,
          4426000,
          4426000,
          4427000,
          4427000,
          4412000,
          4412000,
          4421000,
          4421000,
          4416000,
          4416000,
          4445000,
          4445000,
          4452000,
          4452000,
          4491000,
          4491000,
          4361000,
          4361000,
          4419000,
          4419000,
          4490000,
          4490000,
          4490000,
          4490000,
          4428000,
          4492000,
          4492000,
          4400000,
          4400000,
          4400000,
          4400000,
          4400000,
          4400000,
          4400000,
          4400000,
          4365000,
          4356000,
          4356000,
          4490000,
          4490000,
          4416000,
          4416000,
          4439000,
          4439000,
          4418000,
          4418000,
          4418000,
          4418000,
          4454000,
          4454000,
          4468000,
          4468000,
          4360000,
          4360000,
          4488000,
          4488000,
          4488000,
          4488000,
          4502000,
          4502000,
          4502000,
          4502000,
          4502000,
          4489000,
          4489000,
          4489000,
          4416000,
          4416000,
          4489000,
          4489000,
          4500000,
          4500000,
          4405000,
          4405000,
          4376000,
          4376000,
          4376000,
          4376000,
          4376000,
          4397000,
          4397000,
          4490000,
          4490000,
          4404000,
          4404000,
          4404000,
          4399000,
          4399000,
          4406000,
          4486000,
          4486000,
          4303000,
          4488000,
          4488000,
          4428000,
          4428000,
          4359000,
          4359000,
          4359000,
          4359000,
          4359000,
          4359000,
          4354000,
          4354000,
          4354000,
          4354000,
          4354000,
          4384000,
          4384000,
          4451000,
          4451000,
          4479000,
          4479000,
          4479000,
          4479000,
          4272000,
          4414000,
          4414000,
          4374000,
          4374000,
          4417000,
          4417000,
          4491000,
          4491000,
          4364000,
          4364000,
          4469000,
          4469000,
          4469000,
          4469000,
          4374000,
          4374000,
          4492000,
          4492000,
          4492000,
          4492000,
          4492000,
          4492000,
          4410000,
          4410000,
          4427000,
          4427000,
          4421000,
          4421000,
          4446000,
          4446000,
          4413000,
          4413000,
          4413000,
          4294000,
          4294000,
          4360000,
          4360000,
          4351000,
          4351000,
          4495000,
          4495000,
          4481000,
          4481000,
          4481000,
          4481000,
          4363000,
          4363000,
          4423000,
          4415000,
          4415000,
          4496000,
          4496000,
          4496000,
          4496000,
          4495000,
          4495000,
          4387000,
          4387000,
          4470000,
          4470000,
          4401000,
          4401000,
          4401000,
          4401000,
          4401000,
          4401000,
          4401000,
          4401000,
          4401000,
          4401000,
          4401000,
          4401000,
          4401000,
          4401000,
          4421000,
          4421000,
          4426000,
          4397000,
          4397000,
          4477000,
          4477000,
          4455000,
          4455000,
          4455000,
          4455000,
          4455000,
          4455000,
          4442000,
          4442000,
          4385000,
          4385000,
          4411000,
          4401000,
          4401000,
          4401000,
          4401000,
          4402000,
          4402000,
          4402000,
          4402000,
          4402000,
          4402000,
          4402000,
          4402000,
          4399000,
          4399000,
          4399000,
          4399000,
          4403000,
          4403000,
          4403000,
          4403000,
          4403000,
          4403000,
          4403000,
          4403000,
          4403000,
          4403000,
          4403000,
          4403000,
          4455000,
          4455000,
          4459000,
          4459000,
          4460000,
          4460000,
          4453000,
          4453000,
          4295000,
          4295000,
          4470000,
          4470000,
          4470000,
          4470000,
          4485000,
          4485000,
          4404000,
          4404000,
          4488000,
          4488000,
          4428000,
          4428000,
          4365000,
          4361000,
          4361000,
          4366000,
          4366000,
          4366000,
          4366000,
          4433000,
          4433000,
          4470000,
          4470000,
          4355000,
          4355000,
          4469000,
          4469000,
          4403000,
          4403000,
          4403000,
          4403000,
          4408000,
          4408000,
          4402000,
          4402000,
          4271000,
          4492000,
          4492000,
          4379000,
          4379000,
          4368000,
          4368000,
          4471000,
          4471000,
          4369000,
          4369000,
          4411000,
          4411000,
          4402000,
          4402000,
          4402000,
          4402000,
          4402000,
          4402000,
          4422000,
          4422000,
          4370000,
          4370000,
          4421000,
          4421000,
          4372000,
          4362000,
          4410000,
          4410000,
          4368000,
          4368000,
          4359000,
          4359000,
          4360000,
          4360000,
          4374000,
          4374000,
          4471000,
          4471000,
          4433000,
          4433000,
          4487000,
          4487000,
          4293000,
          4362000,
          4431000,
          4431000,
          4418000,
          4412000,
          4412000,
          4408000,
          4408000,
          4412000,
          4412000,
          4361000,
          4361000,
          4432000,
          4432000,
          4432000,
          4432000,
          4417000,
          4417000,
          4473000,
          4473000,
          4433000,
          4433000,
          4457000,
          4457000,
          4467000,
          4467000,
          4407000,
          4407000,
          4265000,
          4501000,
          4501000,
          4501000,
          4486000,
          4486000,
          4456000,
          4456000,
          4417000,
          4417000,
          4358000,
          4358000,
          4339000,
          4339000,
          4504000,
          4504000,
          4504000,
          4504000,
          4365000,
          4365000,
          4468000,
          4468000,
          4358000,
          4358000,
          4372000,
          4372000,
          4421000,
          4421000,
          4403000,
          4506000,
          4385000,
          4385000,
          4392000,
          4392000,
          4392000,
          4507000,
          4507000,
          4507000,
          4508000,
          4464000,
          4464000,
          4431000,
          4431000,
          4424000,
          4424000,
          4430000,
          4430000,
          4357000,
          4357000,
          4471000,
          4471000,
          4271000,
          4373000,
          4373000,
          4432000,
          4432000,
          4414000,
          4414000,
          4397000,
          4397000,
          4291000,
          4291000,
          4291000,
          4291000,
          4428000,
          4428000,
          4416000,
          4416000,
          4453000,
          4453000,
          4418000,
          4418000,
          4376000,
          4376000,
          4421000,
          4421000,
          4352000,
          4352000,
          4352000,
          4352000,
          4352000,
          4408000,
          4371000,
          4371000,
          4423000,
          4416000,
          4416000,
          4386000,
          4382000,
          4382000,
          4361000,
          4361000,
          4361000,
          4361000,
          4468000,
          4468000,
          4335000,
          4335000,
          4335000,
          4335000,
          4385000,
          4385000,
          4367000,
          4367000,
          4420000,
          4420000,
          4385000,
          4385000,
          4415000,
          4415000,
          4272000,
          4492000,
          4492000,
          4379000,
          4379000,
          4260000,
          4260000,
          4381000,
          4499000,
          4499000,
          4472000,
          4472000,
          4404000,
          4404000,
          4404000,
          4404000,
          4404000,
          4404000,
          4380000,
          4380000,
          4337000,
          4337000,
          4360000,
          4360000,
          4355000,
          4355000,
          4408000,
          4408000,
          4489000,
          4489000,
          4297000,
          4297000,
          4463000,
          4463000,
          4446000,
          4446000,
          4293000,
          4293000,
          4404000,
          4404000,
          4486000,
          4486000,
          4380000,
          4501000,
          4501000,
          4307000,
          4463000,
          4463000,
          4463000,
          4415000,
          4415000,
          4453000,
          4453000,
          4417000,
          4356000,
          4356000,
          4414000,
          4500000,
          4500000,
          4303000,
          4377000,
          4377000,
          4350000,
          4350000,
          4350000,
          4350000,
          4404000,
          4404000,
          4404000,
          4413000,
          4427000,
          4423000,
          4423000,
          4423000,
          4434000,
          4434000,
          4454000,
          4454000,
          4455000,
          4455000,
          4366000,
          4366000,
          4291000,
          4407000,
          4273000,
          4398000,
          4398000,
          4357000,
          4357000,
          4468000,
          4468000,
          4420000,
          4420000,
          4433000,
          4433000,
          4448000,
          4448000,
          4344000,
          4344000,
          4403000,
          4403000,
          4494000,
          4494000,
          4497000,
          4497000,
          4272000,
          4358000,
          4358000,
          4463000,
          4463000,
          4374000,
          4374000,
          4412000,
          4412000,
          4456000,
          4456000,
          4442000,
          4442000,
          4472000,
          4472000,
          4459000,
          4459000,
          4363000,
          4363000,
          4376000,
          4376000,
          4377000,
          4377000,
          4368000,
          4368000,
          4436000,
          4360000,
          4468000,
          4468000,
          4415000,
          4415000,
          4342000,
          4412000,
          4470000,
          4470000,
          4402000,
          4402000,
          4402000,
          4402000,
          4294000,
          4294000,
          4360000,
          4360000,
          4445000,
          4445000,
          4462000,
          4462000,
          4407000,
          4388000,
          4454000,
          4454000,
          4460000,
          4460000,
          4348000,
          4348000,
          4348000,
          4348000,
          4414000,
          4414000,
          4361000,
          4361000,
          4410000,
          4452000,
          4452000,
          4401000,
          4427000,
          4357000,
          4357000,
          4490000,
          4490000,
          4479000,
          4479000,
          4479000,
          4479000,
          4403000,
          4491000,
          4491000,
          4408000,
          4371000,
          4371000,
          4490000,
          4489000,
          4460000,
          4460000,
          4486000,
          4486000,
          4495000,
          4495000,
          4488000,
          4273000,
          4399000,
          4399000,
          4436000,
          4436000,
          4393000,
          4393000,
          4425000,
          4405000,
          4405000,
          4413000,
          4413000,
          4441000,
          4461000,
          4461000,
          4425000,
          4425000,
          4425000,
          4425000,
          4434000,
          4434000,
          4395000,
          4395000,
          4471000,
          4471000,
          4485000,
          4485000,
          4489000,
          4489000,
          4411000,
          4411000,
          4418000,
          4418000,
          4391000,
          4391000,
          4391000,
          4402000,
          4402000,
          4437000,
          4437000,
          4369000,
          4369000,
          4489000,
          4489000,
          4422000,
          4422000,
          4414000,
          4414000,
          4416000,
          4416000,
          4384000,
          4384000,
          4454000,
          4361000,
          4361000,
          4420000,
          4409000,
          4423000,
          4494000,
          4494000,
          4433000,
          4310000,
          4362000,
          4362000,
          4493000,
          4493000,
          4469000,
          4469000,
          4491000,
          4491000,
          4307000,
          4307000,
          4394000,
          4394000,
          4367000,
          4367000,
          4490000,
          4490000,
          4499000,
          4499000,
          4355000,
          4355000,
          4355000,
          4355000,
          4460000,
          4460000,
          4457000,
          4457000,
          4457000,
          4457000,
          4475000,
          4334000,
          4334000,
          4435000,
          4425000,
          4459000,
          4459000,
          4433000,
          4433000,
          4492000,
          4492000,
          4493000,
          4494000,
          4495000,
          4495000,
          4495000,
          4488000,
          4488000,
          4502000,
          4502000,
          4414000,
          4414000,
          4395000,
          4395000,
          4359000,
          4359000,
          4491000,
          4491000,
          4462000,
          4494000,
          4494000,
          4493000,
          4493000,
          4267000,
          4409000,
          4415000,
          4457000,
          4457000,
          4459000,
          4459000,
          4424000,
          4466000,
          4466000,
          4386000,
          4386000,
          4418000,
          4418000,
          4418000,
          4433000,
          4433000,
          4497000,
          4497000,
          4431000,
          4390000,
          4390000,
          4393000,
          4393000,
          4492000,
          4492000,
          4488000,
          4488000,
          4489000,
          4497000,
          4497000,
          4388000,
          4388000,
          4492000,
          4403000,
          4403000,
          4383000,
          4383000,
          4479000,
          4479000,
          4479000,
          4479000,
          4481000,
          4481000,
          4444000,
          4444000,
          4374000,
          4362000,
          4362000,
          4490000,
          4479000,
          4351000,
          4351000,
          4351000,
          4351000,
          4455000,
          4455000,
          4260000,
          4359000,
          4364000,
          4492000,
          4413000,
          4413000,
          4369000,
          4408000,
          4392000,
          4392000,
          4392000,
          4392000,
          4392000,
          4392000,
          4403000,
          4403000,
          4494000,
          4494000,
          4362000,
          4362000,
          4436000,
          4472000,
          4472000,
          4438000,
          4438000,
          4458000,
          4458000,
          4448000,
          4448000,
          4359000,
          4469000,
          4345000,
          4345000,
          4345000,
          4345000,
          4489000,
          4489000,
          4350000,
          4494000,
          4494000,
          4456000,
          4456000,
          4351000,
          4351000,
          4378000,
          4378000,
          4363000,
          4363000,
          4491000,
          4491000,
          4491000,
          4491000,
          4489000,
          4489000,
          4381000,
          4381000,
          4451000,
          4451000,
          4431000,
          4431000,
          4449000,
          4449000,
          4453000,
          4453000,
          4432000,
          4432000,
          4413000,
          4413000,
          4383000,
          4383000,
          4405000,
          4434000,
          4434000,
          4372000,
          4425000,
          4425000,
          4423000,
          4423000,
          4426000,
          4426000,
          4426000,
          4426000,
          4293000,
          4293000,
          4497000,
          4497000,
          4482000,
          4482000,
          4480000,
          4480000,
          4404000,
          4404000,
          4489000,
          4489000,
          4493000,
          4493000,
          4488000,
          4488000,
          4292000,
          4270000,
          4321000,
          4498000,
          4498000,
          4498000,
          4498000,
          4325000,
          4417000,
          4417000,
          4499000,
          4499000,
          4431000,
          4493000,
          4493000,
          4362000,
          4362000,
          4349000,
          4349000,
          4438000,
          4438000,
          4444000,
          4444000,
          4500000,
          4500000,
          4425000,
          4425000,
          4496000,
          4496000,
          4426000,
          4426000,
          4502000,
          4502000,
          4491000,
          4491000,
          4489000,
          4489000,
          4492000,
          4492000,
          4498000,
          4498000,
          4407000,
          4407000,
          4407000,
          4407000,
          4428000,
          4428000,
          4499000,
          4499000,
          4266000,
          4490000,
          4490000,
          4287000,
          4499000,
          4499000,
          4399000,
          4399000,
          4494000,
          4494000,
          4365000,
          4365000,
          4372000,
          4372000,
          4425000,
          4425000,
          4424000,
          4424000,
          4425000,
          4425000,
          4479000,
          4479000,
          4296000,
          4296000,
          4295000,
          4295000,
          4400000,
          4400000,
          4484000,
          4484000,
          4267000,
          4356000,
          4356000,
          4347000,
          4347000,
          4347000,
          4347000,
          4410000,
          4274000,
          4290000,
          4389000,
          4455000,
          4455000,
          4345000,
          4489000,
          4489000,
          4358000,
          4358000,
          4474000,
          4469000,
          4393000,
          4393000,
          4393000,
          4393000,
          4393000,
          4393000,
          4393000,
          4393000,
          4393000,
          4393000,
          4367000,
          4367000,
          4488000,
          4488000,
          4449000,
          4496000,
          4496000,
          4441000,
          4441000,
          4389000,
          4389000,
          4490000,
          4490000,
          4453000,
          4362000,
          4360000,
          4360000,
          4380000,
          4380000,
          4313000,
          4313000,
          4408000,
          4408000,
          4499000,
          4499000,
          4403000,
          4403000,
          4403000,
          4491000,
          4491000,
          4283000,
          4283000,
          4394000,
          4394000,
          4458000,
          4458000,
          4378000,
          4378000,
          4456000,
          4456000,
          4409000,
          4409000,
          4421000,
          4421000,
          4479000,
          4403000,
          4426000,
          4331000,
          4282000,
          4275000,
          4447000,
          4447000,
          4452000,
          4452000,
          4477000,
          4477000,
          4356000,
          4356000,
          4282000,
          4282000,
          4426000,
          4412000,
          4408000,
          4408000,
          4271000,
          4434000,
          4434000,
          4469000,
          4271000,
          4359000,
          4359000,
          4268000,
          4394000,
          4394000,
          4394000,
          4394000,
          4394000,
          4394000,
          4497000,
          4497000,
          4497000,
          4497000,
          4462000,
          4263000,
          4373000,
          4428000,
          4428000,
          4457000,
          4457000,
          4452000,
          4452000,
          4488000,
          4488000,
          4417000,
          4476000,
          4476000,
          4487000,
          4487000,
          4309000,
          4469000,
          4469000,
          4348000,
          4348000,
          4348000,
          4348000,
          4350000,
          4350000,
          4373000,
          4373000,
          4371000,
          4290000,
          4290000,
          4347000,
          4347000,
          4458000,
          4458000,
          4461000,
          4461000,
          4487000,
          4487000,
          4292000,
          4292000,
          4425000,
          4425000,
          4483000,
          4483000,
          4417000,
          4417000,
          4491000,
          4491000,
          4485000,
          4485000,
          4262000,
          4349000,
          4349000,
          4362000,
          4362000,
          4392000,
          4500000,
          4500000,
          4500000,
          4500000,
          4395000,
          4395000,
          4421000,
          4429000,
          4429000,
          4371000,
          4371000,
          4438000,
          4438000,
          4453000,
          4453000,
          4351000,
          4351000,
          4453000,
          4453000,
          4404000,
          4404000,
          4397000,
          4397000,
          4492000,
          4492000,
          4359000,
          4359000,
          4491000,
          4491000,
          4488000,
          4488000,
          4491000,
          4491000,
          4443000,
          4443000,
          4323000,
          4323000,
          4286000,
          4286000,
          4445000,
          4445000,
          4473000,
          4473000,
          4373000,
          4373000,
          4467000,
          4467000,
          4308000,
          4308000,
          4352000,
          4352000,
          4281000,
          4367000,
          4367000,
          4405000,
          4405000,
          4364000,
          4271000,
          4390000,
          4390000,
          4493000,
          4493000,
          4459000,
          4432000,
          4432000,
          4429000,
          4429000,
          4394000,
          4394000,
          4394000,
          4416000,
          4488000,
          4488000,
          4400000,
          4400000,
          4311000,
          4477000,
          4364000,
          4297000,
          4297000,
          4329000,
          4329000,
          4497000,
          4497000,
          4474000,
          4474000,
          4264000,
          4264000,
          4448000,
          4448000,
          4451000,
          4451000,
          4493000,
          4493000,
          4429000,
          4429000,
          4330000,
          4330000,
          4330000,
          4494000,
          4494000,
          4315000,
          4319000,
          4331000,
          4414000,
          4414000,
          4411000,
          4411000,
          4411000,
          4411000,
          4507000,
          4507000,
          4423000,
          4423000,
          4489000,
          4489000,
          4408000,
          4408000,
          4435000,
          4435000,
          4437000,
          4437000,
          4416000,
          4435000,
          4435000,
          4335000,
          4413000,
          4413000,
          4389000,
          4389000,
          4344000,
          4344000,
          4344000,
          4344000,
          4326000,
          4368000,
          4286000,
          4286000,
          4478000,
          4478000,
          4304000,
          4304000,
          4460000,
          4460000,
          4450000,
          4450000,
          4391000,
          4391000,
          4493000,
          4493000,
          4374000,
          4374000,
          4361000,
          4361000,
          4363000,
          4363000,
          4496000,
          4496000,
          4396000,
          4396000,
          4460000,
          4460000,
          4400000,
          4485000,
          4485000,
          4303000,
          4303000,
          4462000,
          4462000,
          4292000,
          4491000,
          4491000,
          4479000,
          4344000,
          4344000,
          4312000,
          4312000,
          4378000,
          4296000,
          4390000,
          4390000,
          4278000,
          4279000,
          4489000,
          4489000,
          4407000,
          4407000,
          4490000,
          4490000,
          4271000,
          4271000,
          4399000,
          4399000,
          4374000,
          4457000,
          4457000,
          4355000,
          4355000,
          4461000,
          4461000,
          4289000,
          4392000,
          4392000,
          4326000,
          4465000,
          4465000,
          4465000,
          4465000,
          4348000,
          4348000,
          4412000,
          4495000,
          4495000,
          4376000,
          4376000,
          4266000,
          4463000,
          4440000,
          4375000,
          4375000,
          4396000,
          4396000,
          4433000,
          4433000,
          4440000,
          4440000,
          4436000,
          4436000,
          4493000,
          4493000,
          4460000,
          4460000,
          4376000,
          4376000,
          4299000,
          4378000,
          4378000,
          4417000,
          4417000,
          4386000,
          4386000,
          4391000,
          4391000,
          4457000,
          4457000,
          4358000,
          4358000,
          4489000,
          4489000,
          4269000,
          4269000,
          4495000,
          4495000,
          4444000,
          4461000,
          4461000,
          4449000,
          4497000,
          4497000,
          4326000,
          4326000,
          4490000,
          4490000
         ],
         "yaxis": "y"
        }
       ],
       "layout": {
        "legend": {
         "tracegroupgap": 0
        },
        "margin": {
         "t": 60
        },
        "template": {
         "data": {
          "bar": [
           {
            "error_x": {
             "color": "#2a3f5f"
            },
            "error_y": {
             "color": "#2a3f5f"
            },
            "marker": {
             "line": {
              "color": "#E5ECF6",
              "width": 0.5
             },
             "pattern": {
              "fillmode": "overlay",
              "size": 10,
              "solidity": 0.2
             }
            },
            "type": "bar"
           }
          ],
          "barpolar": [
           {
            "marker": {
             "line": {
              "color": "#E5ECF6",
              "width": 0.5
             },
             "pattern": {
              "fillmode": "overlay",
              "size": 10,
              "solidity": 0.2
             }
            },
            "type": "barpolar"
           }
          ],
          "carpet": [
           {
            "aaxis": {
             "endlinecolor": "#2a3f5f",
             "gridcolor": "white",
             "linecolor": "white",
             "minorgridcolor": "white",
             "startlinecolor": "#2a3f5f"
            },
            "baxis": {
             "endlinecolor": "#2a3f5f",
             "gridcolor": "white",
             "linecolor": "white",
             "minorgridcolor": "white",
             "startlinecolor": "#2a3f5f"
            },
            "type": "carpet"
           }
          ],
          "choropleth": [
           {
            "colorbar": {
             "outlinewidth": 0,
             "ticks": ""
            },
            "type": "choropleth"
           }
          ],
          "contour": [
           {
            "colorbar": {
             "outlinewidth": 0,
             "ticks": ""
            },
            "colorscale": [
             [
              0,
              "#0d0887"
             ],
             [
              0.1111111111111111,
              "#46039f"
             ],
             [
              0.2222222222222222,
              "#7201a8"
             ],
             [
              0.3333333333333333,
              "#9c179e"
             ],
             [
              0.4444444444444444,
              "#bd3786"
             ],
             [
              0.5555555555555556,
              "#d8576b"
             ],
             [
              0.6666666666666666,
              "#ed7953"
             ],
             [
              0.7777777777777778,
              "#fb9f3a"
             ],
             [
              0.8888888888888888,
              "#fdca26"
             ],
             [
              1,
              "#f0f921"
             ]
            ],
            "type": "contour"
           }
          ],
          "contourcarpet": [
           {
            "colorbar": {
             "outlinewidth": 0,
             "ticks": ""
            },
            "type": "contourcarpet"
           }
          ],
          "heatmap": [
           {
            "colorbar": {
             "outlinewidth": 0,
             "ticks": ""
            },
            "colorscale": [
             [
              0,
              "#0d0887"
             ],
             [
              0.1111111111111111,
              "#46039f"
             ],
             [
              0.2222222222222222,
              "#7201a8"
             ],
             [
              0.3333333333333333,
              "#9c179e"
             ],
             [
              0.4444444444444444,
              "#bd3786"
             ],
             [
              0.5555555555555556,
              "#d8576b"
             ],
             [
              0.6666666666666666,
              "#ed7953"
             ],
             [
              0.7777777777777778,
              "#fb9f3a"
             ],
             [
              0.8888888888888888,
              "#fdca26"
             ],
             [
              1,
              "#f0f921"
             ]
            ],
            "type": "heatmap"
           }
          ],
          "heatmapgl": [
           {
            "colorbar": {
             "outlinewidth": 0,
             "ticks": ""
            },
            "colorscale": [
             [
              0,
              "#0d0887"
             ],
             [
              0.1111111111111111,
              "#46039f"
             ],
             [
              0.2222222222222222,
              "#7201a8"
             ],
             [
              0.3333333333333333,
              "#9c179e"
             ],
             [
              0.4444444444444444,
              "#bd3786"
             ],
             [
              0.5555555555555556,
              "#d8576b"
             ],
             [
              0.6666666666666666,
              "#ed7953"
             ],
             [
              0.7777777777777778,
              "#fb9f3a"
             ],
             [
              0.8888888888888888,
              "#fdca26"
             ],
             [
              1,
              "#f0f921"
             ]
            ],
            "type": "heatmapgl"
           }
          ],
          "histogram": [
           {
            "marker": {
             "pattern": {
              "fillmode": "overlay",
              "size": 10,
              "solidity": 0.2
             }
            },
            "type": "histogram"
           }
          ],
          "histogram2d": [
           {
            "colorbar": {
             "outlinewidth": 0,
             "ticks": ""
            },
            "colorscale": [
             [
              0,
              "#0d0887"
             ],
             [
              0.1111111111111111,
              "#46039f"
             ],
             [
              0.2222222222222222,
              "#7201a8"
             ],
             [
              0.3333333333333333,
              "#9c179e"
             ],
             [
              0.4444444444444444,
              "#bd3786"
             ],
             [
              0.5555555555555556,
              "#d8576b"
             ],
             [
              0.6666666666666666,
              "#ed7953"
             ],
             [
              0.7777777777777778,
              "#fb9f3a"
             ],
             [
              0.8888888888888888,
              "#fdca26"
             ],
             [
              1,
              "#f0f921"
             ]
            ],
            "type": "histogram2d"
           }
          ],
          "histogram2dcontour": [
           {
            "colorbar": {
             "outlinewidth": 0,
             "ticks": ""
            },
            "colorscale": [
             [
              0,
              "#0d0887"
             ],
             [
              0.1111111111111111,
              "#46039f"
             ],
             [
              0.2222222222222222,
              "#7201a8"
             ],
             [
              0.3333333333333333,
              "#9c179e"
             ],
             [
              0.4444444444444444,
              "#bd3786"
             ],
             [
              0.5555555555555556,
              "#d8576b"
             ],
             [
              0.6666666666666666,
              "#ed7953"
             ],
             [
              0.7777777777777778,
              "#fb9f3a"
             ],
             [
              0.8888888888888888,
              "#fdca26"
             ],
             [
              1,
              "#f0f921"
             ]
            ],
            "type": "histogram2dcontour"
           }
          ],
          "mesh3d": [
           {
            "colorbar": {
             "outlinewidth": 0,
             "ticks": ""
            },
            "type": "mesh3d"
           }
          ],
          "parcoords": [
           {
            "line": {
             "colorbar": {
              "outlinewidth": 0,
              "ticks": ""
             }
            },
            "type": "parcoords"
           }
          ],
          "pie": [
           {
            "automargin": true,
            "type": "pie"
           }
          ],
          "scatter": [
           {
            "fillpattern": {
             "fillmode": "overlay",
             "size": 10,
             "solidity": 0.2
            },
            "type": "scatter"
           }
          ],
          "scatter3d": [
           {
            "line": {
             "colorbar": {
              "outlinewidth": 0,
              "ticks": ""
             }
            },
            "marker": {
             "colorbar": {
              "outlinewidth": 0,
              "ticks": ""
             }
            },
            "type": "scatter3d"
           }
          ],
          "scattercarpet": [
           {
            "marker": {
             "colorbar": {
              "outlinewidth": 0,
              "ticks": ""
             }
            },
            "type": "scattercarpet"
           }
          ],
          "scattergeo": [
           {
            "marker": {
             "colorbar": {
              "outlinewidth": 0,
              "ticks": ""
             }
            },
            "type": "scattergeo"
           }
          ],
          "scattergl": [
           {
            "marker": {
             "colorbar": {
              "outlinewidth": 0,
              "ticks": ""
             }
            },
            "type": "scattergl"
           }
          ],
          "scattermapbox": [
           {
            "marker": {
             "colorbar": {
              "outlinewidth": 0,
              "ticks": ""
             }
            },
            "type": "scattermapbox"
           }
          ],
          "scatterpolar": [
           {
            "marker": {
             "colorbar": {
              "outlinewidth": 0,
              "ticks": ""
             }
            },
            "type": "scatterpolar"
           }
          ],
          "scatterpolargl": [
           {
            "marker": {
             "colorbar": {
              "outlinewidth": 0,
              "ticks": ""
             }
            },
            "type": "scatterpolargl"
           }
          ],
          "scatterternary": [
           {
            "marker": {
             "colorbar": {
              "outlinewidth": 0,
              "ticks": ""
             }
            },
            "type": "scatterternary"
           }
          ],
          "surface": [
           {
            "colorbar": {
             "outlinewidth": 0,
             "ticks": ""
            },
            "colorscale": [
             [
              0,
              "#0d0887"
             ],
             [
              0.1111111111111111,
              "#46039f"
             ],
             [
              0.2222222222222222,
              "#7201a8"
             ],
             [
              0.3333333333333333,
              "#9c179e"
             ],
             [
              0.4444444444444444,
              "#bd3786"
             ],
             [
              0.5555555555555556,
              "#d8576b"
             ],
             [
              0.6666666666666666,
              "#ed7953"
             ],
             [
              0.7777777777777778,
              "#fb9f3a"
             ],
             [
              0.8888888888888888,
              "#fdca26"
             ],
             [
              1,
              "#f0f921"
             ]
            ],
            "type": "surface"
           }
          ],
          "table": [
           {
            "cells": {
             "fill": {
              "color": "#EBF0F8"
             },
             "line": {
              "color": "white"
             }
            },
            "header": {
             "fill": {
              "color": "#C8D4E3"
             },
             "line": {
              "color": "white"
             }
            },
            "type": "table"
           }
          ]
         },
         "layout": {
          "annotationdefaults": {
           "arrowcolor": "#2a3f5f",
           "arrowhead": 0,
           "arrowwidth": 1
          },
          "autotypenumbers": "strict",
          "coloraxis": {
           "colorbar": {
            "outlinewidth": 0,
            "ticks": ""
           }
          },
          "colorscale": {
           "diverging": [
            [
             0,
             "#8e0152"
            ],
            [
             0.1,
             "#c51b7d"
            ],
            [
             0.2,
             "#de77ae"
            ],
            [
             0.3,
             "#f1b6da"
            ],
            [
             0.4,
             "#fde0ef"
            ],
            [
             0.5,
             "#f7f7f7"
            ],
            [
             0.6,
             "#e6f5d0"
            ],
            [
             0.7,
             "#b8e186"
            ],
            [
             0.8,
             "#7fbc41"
            ],
            [
             0.9,
             "#4d9221"
            ],
            [
             1,
             "#276419"
            ]
           ],
           "sequential": [
            [
             0,
             "#0d0887"
            ],
            [
             0.1111111111111111,
             "#46039f"
            ],
            [
             0.2222222222222222,
             "#7201a8"
            ],
            [
             0.3333333333333333,
             "#9c179e"
            ],
            [
             0.4444444444444444,
             "#bd3786"
            ],
            [
             0.5555555555555556,
             "#d8576b"
            ],
            [
             0.6666666666666666,
             "#ed7953"
            ],
            [
             0.7777777777777778,
             "#fb9f3a"
            ],
            [
             0.8888888888888888,
             "#fdca26"
            ],
            [
             1,
             "#f0f921"
            ]
           ],
           "sequentialminus": [
            [
             0,
             "#0d0887"
            ],
            [
             0.1111111111111111,
             "#46039f"
            ],
            [
             0.2222222222222222,
             "#7201a8"
            ],
            [
             0.3333333333333333,
             "#9c179e"
            ],
            [
             0.4444444444444444,
             "#bd3786"
            ],
            [
             0.5555555555555556,
             "#d8576b"
            ],
            [
             0.6666666666666666,
             "#ed7953"
            ],
            [
             0.7777777777777778,
             "#fb9f3a"
            ],
            [
             0.8888888888888888,
             "#fdca26"
            ],
            [
             1,
             "#f0f921"
            ]
           ]
          },
          "colorway": [
           "#636efa",
           "#EF553B",
           "#00cc96",
           "#ab63fa",
           "#FFA15A",
           "#19d3f3",
           "#FF6692",
           "#B6E880",
           "#FF97FF",
           "#FECB52"
          ],
          "font": {
           "color": "#2a3f5f"
          },
          "geo": {
           "bgcolor": "white",
           "lakecolor": "white",
           "landcolor": "#E5ECF6",
           "showlakes": true,
           "showland": true,
           "subunitcolor": "white"
          },
          "hoverlabel": {
           "align": "left"
          },
          "hovermode": "closest",
          "mapbox": {
           "style": "light"
          },
          "paper_bgcolor": "white",
          "plot_bgcolor": "#E5ECF6",
          "polar": {
           "angularaxis": {
            "gridcolor": "white",
            "linecolor": "white",
            "ticks": ""
           },
           "bgcolor": "#E5ECF6",
           "radialaxis": {
            "gridcolor": "white",
            "linecolor": "white",
            "ticks": ""
           }
          },
          "scene": {
           "xaxis": {
            "backgroundcolor": "#E5ECF6",
            "gridcolor": "white",
            "gridwidth": 2,
            "linecolor": "white",
            "showbackground": true,
            "ticks": "",
            "zerolinecolor": "white"
           },
           "yaxis": {
            "backgroundcolor": "#E5ECF6",
            "gridcolor": "white",
            "gridwidth": 2,
            "linecolor": "white",
            "showbackground": true,
            "ticks": "",
            "zerolinecolor": "white"
           },
           "zaxis": {
            "backgroundcolor": "#E5ECF6",
            "gridcolor": "white",
            "gridwidth": 2,
            "linecolor": "white",
            "showbackground": true,
            "ticks": "",
            "zerolinecolor": "white"
           }
          },
          "shapedefaults": {
           "line": {
            "color": "#2a3f5f"
           }
          },
          "ternary": {
           "aaxis": {
            "gridcolor": "white",
            "linecolor": "white",
            "ticks": ""
           },
           "baxis": {
            "gridcolor": "white",
            "linecolor": "white",
            "ticks": ""
           },
           "bgcolor": "#E5ECF6",
           "caxis": {
            "gridcolor": "white",
            "linecolor": "white",
            "ticks": ""
           }
          },
          "title": {
           "x": 0.05
          },
          "xaxis": {
           "automargin": true,
           "gridcolor": "white",
           "linecolor": "white",
           "ticks": "",
           "title": {
            "standoff": 15
           },
           "zerolinecolor": "white",
           "zerolinewidth": 2
          },
          "yaxis": {
           "automargin": true,
           "gridcolor": "white",
           "linecolor": "white",
           "ticks": "",
           "title": {
            "standoff": 15
           },
           "zerolinecolor": "white",
           "zerolinewidth": 2
          }
         }
        },
        "xaxis": {
         "anchor": "y",
         "domain": [
          0,
          1
         ],
         "title": {
          "text": "X_83UTM11_round"
         }
        },
        "yaxis": {
         "anchor": "x",
         "domain": [
          0,
          1
         ],
         "title": {
          "text": "Y_83UTM11_round"
         }
        }
       }
      }
     },
     "metadata": {},
     "output_type": "display_data"
    }
   ],
   "source": [
    "px.scatter(locs, x='X_83UTM11_round', y='Y_83UTM11_round')"
   ]
  },
  {
   "cell_type": "code",
   "execution_count": null,
   "metadata": {},
   "outputs": [
    {
     "data": {
      "text/plain": [
       "count    2558.000000\n",
       "mean       31.854096\n",
       "std        35.015236\n",
       "min         0.000000\n",
       "25%        16.535000\n",
       "50%        22.720000\n",
       "75%        33.000000\n",
       "max       283.700000\n",
       "Name: Temp_C, dtype: float64"
      ]
     },
     "execution_count": 13,
     "metadata": {},
     "output_type": "execute_result"
    }
   ],
   "source": [
    "y.describe()"
   ]
  },
  {
   "cell_type": "code",
   "execution_count": null,
   "metadata": {},
   "outputs": [
    {
     "data": {
      "text/plain": [
       "(367, 0.1434714620797498)"
      ]
     },
     "execution_count": 14,
     "metadata": {},
     "output_type": "execute_result"
    }
   ],
   "source": [
    "(y == 0).sum(), (y == 0).mean()"
   ]
  },
  {
   "cell_type": "code",
   "execution_count": null,
   "metadata": {},
   "outputs": [
    {
     "data": {
      "text/plain": [
       "<Axes: >"
      ]
     },
     "execution_count": 15,
     "metadata": {},
     "output_type": "execute_result"
    },
    {
     "data": {
      "image/png": "[encoded data removed]",
      "text/plain": [
       "<Figure size 640x480 with 1 Axes>"
      ]
     },
     "metadata": {},
     "output_type": "display_data"
    }
   ],
   "source": [
    "y[y != 0].hist(bins=50)"
   ]
  },
  {
   "cell_type": "code",
   "execution_count": null,
   "metadata": {},
   "outputs": [
    {
     "data": {
      "text/plain": [
       "<Axes: >"
      ]
     },
     "execution_count": 16,
     "metadata": {},
     "output_type": "execute_result"
    },
    {
     "data": {
      "image/png": "[encoded data removed]",
      "text/plain": [
       "<Figure size 640x480 with 1 Axes>"
      ]
     },
     "metadata": {},
     "output_type": "display_data"
    }
   ],
   "source": [
    "((np.log(y[y != 0]) - np.log(y[y != 0]).mean()) / (np.log(y[y != 0]).std())).hist(bins=50)"
   ]
  },
  {
   "attachments": {},
   "cell_type": "markdown",
   "metadata": {},
   "source": [
    "# NOT normal, but shouldn't be because sampling is not random, this is not conditional on $X$."
   ]
  },
  {
   "cell_type": "code",
   "execution_count": null,
   "metadata": {},
   "outputs": [],
   "source": [
    "filtered_nv_df = non_nan_nv_df[y != 0]\n",
    "filtered_nv_df = filtered_nv_df.drop_duplicates() ## found lots of duplicates (~40%)\n",
    "filtered_nv_df = filtered_nv_df.drop_duplicates(subset=[\"X_83UTM11_round\", \"Y_83UTM11_round\"]) ## even within this there are duplicated locations (~20%)\n",
    "\n",
    "locs = filtered_nv_df[loc_cols]\n",
    "y = filtered_nv_df[y_cols]\n",
    "X = filtered_nv_df[feature_cols]"
   ]
  },
  {
   "cell_type": "code",
   "execution_count": null,
   "metadata": {},
   "outputs": [
    {
     "data": {
      "text/plain": [
       "((1009, 21), (1009,), (1009, 2))"
      ]
     },
     "execution_count": 18,
     "metadata": {},
     "output_type": "execute_result"
    }
   ],
   "source": [
    "X.shape, y.shape, locs.shape"
   ]
  },
  {
   "cell_type": "code",
   "execution_count": null,
   "metadata": {},
   "outputs": [],
   "source": [
    "## GenCp parameters\n",
    "niter = 10\n",
    "alpha = .05\n",
    "nboot = 100\n",
    "k = 30\n",
    "\n",
    "models = [\n",
    "    XGBRegressor(\n",
    "        max_depth=2, \n",
    "        n_estimators=100\n",
    "    ), \n",
    "    XGBRegressor(\n",
    "        max_depth=6, \n",
    "        n_estimators=100\n",
    "    ), \n",
    "    RandomForestRegressor(\n",
    "        max_depth=2, \n",
    "        max_features='sqrt',\n",
    "        n_estimators=100\n",
    "    ),\n",
    "    RandomForestRegressor(\n",
    "        max_depth=6, \n",
    "        max_features='sqrt',\n",
    "        n_estimators=100\n",
    "    ),\n",
    "    ElasticNetCV()\n",
    "]\n",
    "\n",
    "## plot parameters\n",
    "title = \"General Model Comparisons\"\n",
    "est_names = [\"XGB2\", \"XGB6\", \"RF2\", \"RF6\", \"ENetCV\"]\n",
    "# model_names = [\"Lasso CV\"]"
   ]
  },
  {
   "cell_type": "code",
   "execution_count": null,
   "metadata": {},
   "outputs": [],
   "source": [
    "from sklearn.tree import DecisionTreeRegressor\n",
    "import skgstat as skg\n",
    "from scipy.spatial import distance_matrix"
   ]
  },
  {
   "attachments": {},
   "cell_type": "markdown",
   "metadata": {},
   "source": [
    "# Estimate Covariance"
   ]
  },
  {
   "cell_type": "code",
   "execution_count": null,
   "metadata": {},
   "outputs": [],
   "source": [
    "n = locs.shape[0]\n",
    "est_sigma_model = RandomForestRegressor(\n",
    "    max_depth=3, \n",
    "    max_features='sqrt'\n",
    ")\n",
    "\n",
    "if est_sigma_model is None:\n",
    "    raise ValueError(\"Must provide est_simga_model\")\n",
    "\n",
    "# est_sigma_model.fit(X_tr, y_tr)\n",
    "# resids =  y_tr - est_sigma_model.predict(X_tr)\n",
    "est_sigma_model.fit(X, y)\n",
    "resids =  y - est_sigma_model.predict(X)\n",
    "full_distance = distance_matrix(locs, locs)\n",
    "\n",
    "# V = skg.Variogram(locs_tr, resids, model='matern')\n",
    "V_nugget = skg.Variogram(locs, resids, model='matern', maxlag='median', use_nugget=True)\n",
    "\n",
    "fitted_vm_nugget = V_nugget.fitted_model\n",
    "semivar_nugget = fitted_vm_nugget(full_distance.flatten()).reshape((n,n))\n",
    "\n",
    "V_nonugget = skg.Variogram(locs, resids, model='matern', maxlag='median', use_nugget=False)\n",
    "\n",
    "fitted_vm_nonugget = V_nonugget.fitted_model\n",
    "semivar_nonugget = fitted_vm_nonugget(full_distance.flatten()).reshape((n,n))"
   ]
  },
  {
   "cell_type": "code",
   "execution_count": null,
   "metadata": {},
   "outputs": [],
   "source": [
    "K0 = V_nugget.parameters[1] ## partial sill\n",
    "N0 = V_nugget.parameters[-1] ## nugget\n",
    "est_Cov_SSN = est_Sigma_S = (K0+N0)*np.ones_like(semivar_nugget) - semivar_nugget ## Cov(Y, Y^*)\n",
    "est_Sigma_M = N0*np.eye(semivar_nugget.shape[0])\n",
    "est_Chol_SSN = np.linalg.cholesky(est_Sigma_S + est_Sigma_M) ## Var(Y) = Var(Y^*)"
   ]
  },
  {
   "cell_type": "code",
   "execution_count": null,
   "metadata": {},
   "outputs": [],
   "source": [
    "K0 = V_nonugget.parameters[1] ## partial sill\n",
    "est_Sigma = (K0)*np.ones_like(semivar_nonugget) - semivar_nonugget ## Cov(Y, Y^*)\n",
    "est_Chol_NSN = np.linalg.cholesky(est_Sigma) ## Var(Y) = Var(Y^*)"
   ]
  },
  {
   "attachments": {},
   "cell_type": "markdown",
   "metadata": {},
   "source": [
    "# In-sample"
   ]
  },
  {
   "attachments": {},
   "cell_type": "markdown",
   "metadata": {},
   "source": [
    "## Model Comparison"
   ]
  },
  {
   "cell_type": "code",
   "execution_count": null,
   "metadata": {},
   "outputs": [
    {
     "name": "stderr",
     "output_type": "stream",
     "text": [
      "100%|██████████| 10/10 [02:51<00:00, 17.19s/it]\n",
      "100%|██████████| 10/10 [08:55<00:00, 53.57s/it]\n",
      "100%|██████████| 10/10 [02:16<00:00, 13.66s/it]\n",
      "100%|██████████| 10/10 [03:13<00:00, 19.39s/it]\n",
      "100%|██████████| 10/10 [00:41<00:00,  4.11s/it]\n"
     ]
    }
   ],
   "source": [
    "errs_SSN = []\n",
    "for model in models:\n",
    "    err = []\n",
    "    for i in tqdm(range(niter)):\n",
    "        e = cp_general(\n",
    "            model=model,\n",
    "            X=X, \n",
    "            y=y,\n",
    "            tr_idx=np.ones_like(y),\n",
    "            use_trace_corr=False,\n",
    "            Chol_y=est_Chol_SSN,\n",
    "            Cov_y_ystar=est_Cov_SSN,\n",
    "            nboot=nboot,\n",
    "            alpha=alpha,\n",
    "        )\n",
    "        err.append(e)\n",
    "    errs_SSN.append(err)"
   ]
  },
  {
   "cell_type": "code",
   "execution_count": null,
   "metadata": {},
   "outputs": [
    {
     "data": {
      "application/vnd.plotly.v1+json": {
       "config": {
        "plotlyServerURL": "https://plot.ly"
       },
       "data": [
        {
         "error_y": {
          "array": [
           2.4394491885002076,
           2.331728043282316,
           10.318029994823442,
           5.806379364699933,
           6.467270070942872
          ],
          "color": "black",
          "type": "data"
         },
         "marker": {
          "color": "#636EFA"
         },
         "text": [
          196.553,
          527.17,
          562.804,
          209.378,
          341.489
         ],
         "textposition": "outside",
         "type": "bar",
         "x": [
          "XGB2",
          "XGB6",
          "RF2",
          "RF6",
          "ENetCV"
         ],
         "xaxis": "x",
         "y": [
          196.55279078512223,
          527.1696648489585,
          562.804240375342,
          209.37758434070392,
          341.4888031940765
         ],
         "yaxis": "y"
        }
       ],
       "layout": {
        "showlegend": false,
        "template": {
         "data": {
          "bar": [
           {
            "error_x": {
             "color": "#2a3f5f"
            },
            "error_y": {
             "color": "#2a3f5f"
            },
            "marker": {
             "line": {
              "color": "#E5ECF6",
              "width": 0.5
             },
             "pattern": {
              "fillmode": "overlay",
              "size": 10,
              "solidity": 0.2
             }
            },
            "type": "bar"
           }
          ],
          "barpolar": [
           {
            "marker": {
             "line": {
              "color": "#E5ECF6",
              "width": 0.5
             },
             "pattern": {
              "fillmode": "overlay",
              "size": 10,
              "solidity": 0.2
             }
            },
            "type": "barpolar"
           }
          ],
          "carpet": [
           {
            "aaxis": {
             "endlinecolor": "#2a3f5f",
             "gridcolor": "white",
             "linecolor": "white",
             "minorgridcolor": "white",
             "startlinecolor": "#2a3f5f"
            },
            "baxis": {
             "endlinecolor": "#2a3f5f",
             "gridcolor": "white",
             "linecolor": "white",
             "minorgridcolor": "white",
             "startlinecolor": "#2a3f5f"
            },
            "type": "carpet"
           }
          ],
          "choropleth": [
           {
            "colorbar": {
             "outlinewidth": 0,
             "ticks": ""
            },
            "type": "choropleth"
           }
          ],
          "contour": [
           {
            "colorbar": {
             "outlinewidth": 0,
             "ticks": ""
            },
            "colorscale": [
             [
              0,
              "#0d0887"
             ],
             [
              0.1111111111111111,
              "#46039f"
             ],
             [
              0.2222222222222222,
              "#7201a8"
             ],
             [
              0.3333333333333333,
              "#9c179e"
             ],
             [
              0.4444444444444444,
              "#bd3786"
             ],
             [
              0.5555555555555556,
              "#d8576b"
             ],
             [
              0.6666666666666666,
              "#ed7953"
             ],
             [
              0.7777777777777778,
              "#fb9f3a"
             ],
             [
              0.8888888888888888,
              "#fdca26"
             ],
             [
              1,
              "#f0f921"
             ]
            ],
            "type": "contour"
           }
          ],
          "contourcarpet": [
           {
            "colorbar": {
             "outlinewidth": 0,
             "ticks": ""
            },
            "type": "contourcarpet"
           }
          ],
          "heatmap": [
           {
            "colorbar": {
             "outlinewidth": 0,
             "ticks": ""
            },
            "colorscale": [
             [
              0,
              "#0d0887"
             ],
             [
              0.1111111111111111,
              "#46039f"
             ],
             [
              0.2222222222222222,
              "#7201a8"
             ],
             [
              0.3333333333333333,
              "#9c179e"
             ],
             [
              0.4444444444444444,
              "#bd3786"
             ],
             [
              0.5555555555555556,
              "#d8576b"
             ],
             [
              0.6666666666666666,
              "#ed7953"
             ],
             [
              0.7777777777777778,
              "#fb9f3a"
             ],
             [
              0.8888888888888888,
              "#fdca26"
             ],
             [
              1,
              "#f0f921"
             ]
            ],
            "type": "heatmap"
           }
          ],
          "heatmapgl": [
           {
            "colorbar": {
             "outlinewidth": 0,
             "ticks": ""
            },
            "colorscale": [
             [
              0,
              "#0d0887"
             ],
             [
              0.1111111111111111,
              "#46039f"
             ],
             [
              0.2222222222222222,
              "#7201a8"
             ],
             [
              0.3333333333333333,
              "#9c179e"
             ],
             [
              0.4444444444444444,
              "#bd3786"
             ],
             [
              0.5555555555555556,
              "#d8576b"
             ],
             [
              0.6666666666666666,
              "#ed7953"
             ],
             [
              0.7777777777777778,
              "#fb9f3a"
             ],
             [
              0.8888888888888888,
              "#fdca26"
             ],
             [
              1,
              "#f0f921"
             ]
            ],
            "type": "heatmapgl"
           }
          ],
          "histogram": [
           {
            "marker": {
             "pattern": {
              "fillmode": "overlay",
              "size": 10,
              "solidity": 0.2
             }
            },
            "type": "histogram"
           }
          ],
          "histogram2d": [
           {
            "colorbar": {
             "outlinewidth": 0,
             "ticks": ""
            },
            "colorscale": [
             [
              0,
              "#0d0887"
             ],
             [
              0.1111111111111111,
              "#46039f"
             ],
             [
              0.2222222222222222,
              "#7201a8"
             ],
             [
              0.3333333333333333,
              "#9c179e"
             ],
             [
              0.4444444444444444,
              "#bd3786"
             ],
             [
              0.5555555555555556,
              "#d8576b"
             ],
             [
              0.6666666666666666,
              "#ed7953"
             ],
             [
              0.7777777777777778,
              "#fb9f3a"
             ],
             [
              0.8888888888888888,
              "#fdca26"
             ],
             [
              1,
              "#f0f921"
             ]
            ],
            "type": "histogram2d"
           }
          ],
          "histogram2dcontour": [
           {
            "colorbar": {
             "outlinewidth": 0,
             "ticks": ""
            },
            "colorscale": [
             [
              0,
              "#0d0887"
             ],
             [
              0.1111111111111111,
              "#46039f"
             ],
             [
              0.2222222222222222,
              "#7201a8"
             ],
             [
              0.3333333333333333,
              "#9c179e"
             ],
             [
              0.4444444444444444,
              "#bd3786"
             ],
             [
              0.5555555555555556,
              "#d8576b"
             ],
             [
              0.6666666666666666,
              "#ed7953"
             ],
             [
              0.7777777777777778,
              "#fb9f3a"
             ],
             [
              0.8888888888888888,
              "#fdca26"
             ],
             [
              1,
              "#f0f921"
             ]
            ],
            "type": "histogram2dcontour"
           }
          ],
          "mesh3d": [
           {
            "colorbar": {
             "outlinewidth": 0,
             "ticks": ""
            },
            "type": "mesh3d"
           }
          ],
          "parcoords": [
           {
            "line": {
             "colorbar": {
              "outlinewidth": 0,
              "ticks": ""
             }
            },
            "type": "parcoords"
           }
          ],
          "pie": [
           {
            "automargin": true,
            "type": "pie"
           }
          ],
          "scatter": [
           {
            "fillpattern": {
             "fillmode": "overlay",
             "size": 10,
             "solidity": 0.2
            },
            "type": "scatter"
           }
          ],
          "scatter3d": [
           {
            "line": {
             "colorbar": {
              "outlinewidth": 0,
              "ticks": ""
             }
            },
            "marker": {
             "colorbar": {
              "outlinewidth": 0,
              "ticks": ""
             }
            },
            "type": "scatter3d"
           }
          ],
          "scattercarpet": [
           {
            "marker": {
             "colorbar": {
              "outlinewidth": 0,
              "ticks": ""
             }
            },
            "type": "scattercarpet"
           }
          ],
          "scattergeo": [
           {
            "marker": {
             "colorbar": {
              "outlinewidth": 0,
              "ticks": ""
             }
            },
            "type": "scattergeo"
           }
          ],
          "scattergl": [
           {
            "marker": {
             "colorbar": {
              "outlinewidth": 0,
              "ticks": ""
             }
            },
            "type": "scattergl"
           }
          ],
          "scattermapbox": [
           {
            "marker": {
             "colorbar": {
              "outlinewidth": 0,
              "ticks": ""
             }
            },
            "type": "scattermapbox"
           }
          ],
          "scatterpolar": [
           {
            "marker": {
             "colorbar": {
              "outlinewidth": 0,
              "ticks": ""
             }
            },
            "type": "scatterpolar"
           }
          ],
          "scatterpolargl": [
           {
            "marker": {
             "colorbar": {
              "outlinewidth": 0,
              "ticks": ""
             }
            },
            "type": "scatterpolargl"
           }
          ],
          "scatterternary": [
           {
            "marker": {
             "colorbar": {
              "outlinewidth": 0,
              "ticks": ""
             }
            },
            "type": "scatterternary"
           }
          ],
          "surface": [
           {
            "colorbar": {
             "outlinewidth": 0,
             "ticks": ""
            },
            "colorscale": [
             [
              0,
              "#0d0887"
             ],
             [
              0.1111111111111111,
              "#46039f"
             ],
             [
              0.2222222222222222,
              "#7201a8"
             ],
             [
              0.3333333333333333,
              "#9c179e"
             ],
             [
              0.4444444444444444,
              "#bd3786"
             ],
             [
              0.5555555555555556,
              "#d8576b"
             ],
             [
              0.6666666666666666,
              "#ed7953"
             ],
             [
              0.7777777777777778,
              "#fb9f3a"
             ],
             [
              0.8888888888888888,
              "#fdca26"
             ],
             [
              1,
              "#f0f921"
             ]
            ],
            "type": "surface"
           }
          ],
          "table": [
           {
            "cells": {
             "fill": {
              "color": "#EBF0F8"
             },
             "line": {
              "color": "white"
             }
            },
            "header": {
             "fill": {
              "color": "#C8D4E3"
             },
             "line": {
              "color": "white"
             }
            },
            "type": "table"
           }
          ]
         },
         "layout": {
          "annotationdefaults": {
           "arrowcolor": "#2a3f5f",
           "arrowhead": 0,
           "arrowwidth": 1
          },
          "autotypenumbers": "strict",
          "coloraxis": {
           "colorbar": {
            "outlinewidth": 0,
            "ticks": ""
           }
          },
          "colorscale": {
           "diverging": [
            [
             0,
             "#8e0152"
            ],
            [
             0.1,
             "#c51b7d"
            ],
            [
             0.2,
             "#de77ae"
            ],
            [
             0.3,
             "#f1b6da"
            ],
            [
             0.4,
             "#fde0ef"
            ],
            [
             0.5,
             "#f7f7f7"
            ],
            [
             0.6,
             "#e6f5d0"
            ],
            [
             0.7,
             "#b8e186"
            ],
            [
             0.8,
             "#7fbc41"
            ],
            [
             0.9,
             "#4d9221"
            ],
            [
             1,
             "#276419"
            ]
           ],
           "sequential": [
            [
             0,
             "#0d0887"
            ],
            [
             0.1111111111111111,
             "#46039f"
            ],
            [
             0.2222222222222222,
             "#7201a8"
            ],
            [
             0.3333333333333333,
             "#9c179e"
            ],
            [
             0.4444444444444444,
             "#bd3786"
            ],
            [
             0.5555555555555556,
             "#d8576b"
            ],
            [
             0.6666666666666666,
             "#ed7953"
            ],
            [
             0.7777777777777778,
             "#fb9f3a"
            ],
            [
             0.8888888888888888,
             "#fdca26"
            ],
            [
             1,
             "#f0f921"
            ]
           ],
           "sequentialminus": [
            [
             0,
             "#0d0887"
            ],
            [
             0.1111111111111111,
             "#46039f"
            ],
            [
             0.2222222222222222,
             "#7201a8"
            ],
            [
             0.3333333333333333,
             "#9c179e"
            ],
            [
             0.4444444444444444,
             "#bd3786"
            ],
            [
             0.5555555555555556,
             "#d8576b"
            ],
            [
             0.6666666666666666,
             "#ed7953"
            ],
            [
             0.7777777777777778,
             "#fb9f3a"
            ],
            [
             0.8888888888888888,
             "#fdca26"
            ],
            [
             1,
             "#f0f921"
            ]
           ]
          },
          "colorway": [
           "#636efa",
           "#EF553B",
           "#00cc96",
           "#ab63fa",
           "#FFA15A",
           "#19d3f3",
           "#FF6692",
           "#B6E880",
           "#FF97FF",
           "#FECB52"
          ],
          "font": {
           "color": "#2a3f5f"
          },
          "geo": {
           "bgcolor": "white",
           "lakecolor": "white",
           "landcolor": "#E5ECF6",
           "showlakes": true,
           "showland": true,
           "subunitcolor": "white"
          },
          "hoverlabel": {
           "align": "left"
          },
          "hovermode": "closest",
          "mapbox": {
           "style": "light"
          },
          "paper_bgcolor": "white",
          "plot_bgcolor": "#E5ECF6",
          "polar": {
           "angularaxis": {
            "gridcolor": "white",
            "linecolor": "white",
            "ticks": ""
           },
           "bgcolor": "#E5ECF6",
           "radialaxis": {
            "gridcolor": "white",
            "linecolor": "white",
            "ticks": ""
           }
          },
          "scene": {
           "xaxis": {
            "backgroundcolor": "#E5ECF6",
            "gridcolor": "white",
            "gridwidth": 2,
            "linecolor": "white",
            "showbackground": true,
            "ticks": "",
            "zerolinecolor": "white"
           },
           "yaxis": {
            "backgroundcolor": "#E5ECF6",
            "gridcolor": "white",
            "gridwidth": 2,
            "linecolor": "white",
            "showbackground": true,
            "ticks": "",
            "zerolinecolor": "white"
           },
           "zaxis": {
            "backgroundcolor": "#E5ECF6",
            "gridcolor": "white",
            "gridwidth": 2,
            "linecolor": "white",
            "showbackground": true,
            "ticks": "",
            "zerolinecolor": "white"
           }
          },
          "shapedefaults": {
           "line": {
            "color": "#2a3f5f"
           }
          },
          "ternary": {
           "aaxis": {
            "gridcolor": "white",
            "linecolor": "white",
            "ticks": ""
           },
           "baxis": {
            "gridcolor": "white",
            "linecolor": "white",
            "ticks": ""
           },
           "bgcolor": "#E5ECF6",
           "caxis": {
            "gridcolor": "white",
            "linecolor": "white",
            "ticks": ""
           }
          },
          "title": {
           "x": 0.05
          },
          "xaxis": {
           "automargin": true,
           "gridcolor": "white",
           "linecolor": "white",
           "ticks": "",
           "title": {
            "standoff": 15
           },
           "zerolinecolor": "white",
           "zerolinewidth": 2
          },
          "yaxis": {
           "automargin": true,
           "gridcolor": "white",
           "linecolor": "white",
           "ticks": "",
           "title": {
            "standoff": 15
           },
           "zerolinecolor": "white",
           "zerolinewidth": 2
          }
         }
        },
        "title": {
         "text": "Nevada Data: In-Sample Model Comparison"
        },
        "xaxis": {
         "anchor": "y",
         "domain": [
          0,
          1
         ]
        },
        "yaxis": {
         "anchor": "x",
         "domain": [
          0,
          1
         ],
         "title": {
          "text": "GenCp Estimated MSE"
         }
        }
       }
      }
     },
     "metadata": {},
     "output_type": "display_data"
    }
   ],
   "source": [
    "fig_SSN = make_subplots(\n",
    "    rows=1, cols=1\n",
    ")\n",
    "\n",
    "df_SSN = pd.DataFrame({est_names[i]: errs_SSN[i] for i in np.arange(len(est_names))})\n",
    "\n",
    "fig_SSN.add_trace(go.Bar(\n",
    "    x = df_SSN.columns,\n",
    "    y=df_SSN.mean(),\n",
    "    marker_color=px.colors.qualitative.Plotly[0],\n",
    "    text=np.around(df_SSN.mean(),3),\n",
    "    textposition='outside',\n",
    "    error_y=dict(\n",
    "        type='data',\n",
    "        color='black',\n",
    "        array=df_SSN.std(),\n",
    "    )\n",
    "), row=1, col=1)\n",
    "\n",
    "fig_SSN.update_yaxes(title_text=\"GenCp Estimated MSE\", row=1, col=1)\n",
    "fig_SSN.update_layout(title_text=\"Nevada Data: In-Sample Model Comparison\", showlegend=False)\n",
    "fig_SSN.show()"
   ]
  },
  {
   "attachments": {},
   "cell_type": "markdown",
   "metadata": {},
   "source": [
    "## Estimator Comparison"
   ]
  },
  {
   "cell_type": "code",
   "execution_count": null,
   "metadata": {},
   "outputs": [],
   "source": [
    "# xgb = XGBRegressor(max_depth=3, n_estimators=10)\n",
    "rf = RandomForestRegressor(\n",
    "    max_depth=2,\n",
    "    max_features='sqrt',\n",
    "    n_estimators=100,\n",
    ")\n",
    "rl = RelaxedLasso(lambd=.5)\n"
   ]
  },
  {
   "cell_type": "code",
   "execution_count": null,
   "metadata": {},
   "outputs": [
    {
     "name": "stderr",
     "output_type": "stream",
     "text": [
      "100%|██████████| 10/10 [01:44<00:00, 10.50s/it]\n"
     ]
    }
   ],
   "source": [
    "\n",
    "res_gen = []\n",
    "for i in tqdm(range(niter)):\n",
    "    r = cp_general(\n",
    "        model=rf,\n",
    "        X=X, \n",
    "        y=y,\n",
    "        tr_idx=np.ones_like(y),\n",
    "        use_trace_corr=False,\n",
    "        Chol_y=est_Chol_SSN,\n",
    "        Cov_y_ystar=est_Cov_SSN,\n",
    "        nboot=nboot,\n",
    "        alpha=alpha,\n",
    "    )\n",
    "    res_gen.append(r)"
   ]
  },
  {
   "cell_type": "code",
   "execution_count": null,
   "metadata": {},
   "outputs": [
    {
     "name": "stderr",
     "output_type": "stream",
     "text": [
      "  0%|          | 0/10 [00:00<?, ?it/s]/Users/kevinfry/opt/anaconda3/envs/spe/lib/python3.11/site-packages/sklearn/model_selection/_validation.py:73: FutureWarning:\n",
      "\n",
      "`fit_params` is deprecated and will be removed in version 1.6. Pass parameters via `params` instead.\n",
      "\n",
      " 10%|█         | 1/10 [00:02<00:26,  2.92s/it]/Users/kevinfry/opt/anaconda3/envs/spe/lib/python3.11/site-packages/sklearn/model_selection/_validation.py:73: FutureWarning:\n",
      "\n",
      "`fit_params` is deprecated and will be removed in version 1.6. Pass parameters via `params` instead.\n",
      "\n",
      " 20%|██        | 2/10 [00:05<00:23,  2.92s/it]/Users/kevinfry/opt/anaconda3/envs/spe/lib/python3.11/site-packages/sklearn/model_selection/_validation.py:73: FutureWarning:\n",
      "\n",
      "`fit_params` is deprecated and will be removed in version 1.6. Pass parameters via `params` instead.\n",
      "\n",
      " 30%|███       | 3/10 [00:08<00:20,  2.92s/it]/Users/kevinfry/opt/anaconda3/envs/spe/lib/python3.11/site-packages/sklearn/model_selection/_validation.py:73: FutureWarning:\n",
      "\n",
      "`fit_params` is deprecated and will be removed in version 1.6. Pass parameters via `params` instead.\n",
      "\n",
      " 40%|████      | 4/10 [00:11<00:17,  2.91s/it]/Users/kevinfry/opt/anaconda3/envs/spe/lib/python3.11/site-packages/sklearn/model_selection/_validation.py:73: FutureWarning:\n",
      "\n",
      "`fit_params` is deprecated and will be removed in version 1.6. Pass parameters via `params` instead.\n",
      "\n",
      " 50%|█████     | 5/10 [00:14<00:14,  2.91s/it]/Users/kevinfry/opt/anaconda3/envs/spe/lib/python3.11/site-packages/sklearn/model_selection/_validation.py:73: FutureWarning:\n",
      "\n",
      "`fit_params` is deprecated and will be removed in version 1.6. Pass parameters via `params` instead.\n",
      "\n",
      " 60%|██████    | 6/10 [00:17<00:11,  2.91s/it]/Users/kevinfry/opt/anaconda3/envs/spe/lib/python3.11/site-packages/sklearn/model_selection/_validation.py:73: FutureWarning:\n",
      "\n",
      "`fit_params` is deprecated and will be removed in version 1.6. Pass parameters via `params` instead.\n",
      "\n",
      " 70%|███████   | 7/10 [00:20<00:08,  2.90s/it]/Users/kevinfry/opt/anaconda3/envs/spe/lib/python3.11/site-packages/sklearn/model_selection/_validation.py:73: FutureWarning:\n",
      "\n",
      "`fit_params` is deprecated and will be removed in version 1.6. Pass parameters via `params` instead.\n",
      "\n",
      " 80%|████████  | 8/10 [00:23<00:05,  2.91s/it]/Users/kevinfry/opt/anaconda3/envs/spe/lib/python3.11/site-packages/sklearn/model_selection/_validation.py:73: FutureWarning:\n",
      "\n",
      "`fit_params` is deprecated and will be removed in version 1.6. Pass parameters via `params` instead.\n",
      "\n",
      " 90%|█████████ | 9/10 [00:26<00:02,  2.92s/it]/Users/kevinfry/opt/anaconda3/envs/spe/lib/python3.11/site-packages/sklearn/model_selection/_validation.py:73: FutureWarning:\n",
      "\n",
      "`fit_params` is deprecated and will be removed in version 1.6. Pass parameters via `params` instead.\n",
      "\n",
      "100%|██████████| 10/10 [00:29<00:00,  2.92s/it]\n"
     ]
    }
   ],
   "source": [
    "res_kfcv = []\n",
    "for i in tqdm(range(niter)):\n",
    "    r = kfoldcv(\n",
    "        model=rf,\n",
    "        X=X.values, \n",
    "        y=y.values,\n",
    "        k=k,\n",
    "    )\n",
    "    res_kfcv.append(r)"
   ]
  },
  {
   "cell_type": "code",
   "execution_count": null,
   "metadata": {},
   "outputs": [
    {
     "name": "stderr",
     "output_type": "stream",
     "text": [
      "  0%|          | 0/10 [00:00<?, ?it/s]/Users/kevinfry/opt/anaconda3/envs/spe/lib/python3.11/site-packages/sklearn/model_selection/_validation.py:73: FutureWarning:\n",
      "\n",
      "`fit_params` is deprecated and will be removed in version 1.6. Pass parameters via `params` instead.\n",
      "\n",
      " 10%|█         | 1/10 [00:02<00:26,  2.98s/it]/Users/kevinfry/opt/anaconda3/envs/spe/lib/python3.11/site-packages/sklearn/model_selection/_validation.py:73: FutureWarning:\n",
      "\n",
      "`fit_params` is deprecated and will be removed in version 1.6. Pass parameters via `params` instead.\n",
      "\n",
      " 20%|██        | 2/10 [00:05<00:23,  2.97s/it]/Users/kevinfry/opt/anaconda3/envs/spe/lib/python3.11/site-packages/sklearn/model_selection/_validation.py:73: FutureWarning:\n",
      "\n",
      "`fit_params` is deprecated and will be removed in version 1.6. Pass parameters via `params` instead.\n",
      "\n",
      " 30%|███       | 3/10 [00:08<00:20,  2.97s/it]/Users/kevinfry/opt/anaconda3/envs/spe/lib/python3.11/site-packages/sklearn/model_selection/_validation.py:73: FutureWarning:\n",
      "\n",
      "`fit_params` is deprecated and will be removed in version 1.6. Pass parameters via `params` instead.\n",
      "\n",
      " 40%|████      | 4/10 [00:11<00:17,  2.98s/it]/Users/kevinfry/opt/anaconda3/envs/spe/lib/python3.11/site-packages/sklearn/model_selection/_validation.py:73: FutureWarning:\n",
      "\n",
      "`fit_params` is deprecated and will be removed in version 1.6. Pass parameters via `params` instead.\n",
      "\n",
      " 50%|█████     | 5/10 [00:14<00:14,  2.97s/it]/Users/kevinfry/opt/anaconda3/envs/spe/lib/python3.11/site-packages/sklearn/model_selection/_validation.py:73: FutureWarning:\n",
      "\n",
      "`fit_params` is deprecated and will be removed in version 1.6. Pass parameters via `params` instead.\n",
      "\n",
      " 60%|██████    | 6/10 [00:17<00:11,  2.96s/it]/Users/kevinfry/opt/anaconda3/envs/spe/lib/python3.11/site-packages/sklearn/model_selection/_validation.py:73: FutureWarning:\n",
      "\n",
      "`fit_params` is deprecated and will be removed in version 1.6. Pass parameters via `params` instead.\n",
      "\n",
      " 70%|███████   | 7/10 [00:20<00:08,  2.96s/it]/Users/kevinfry/opt/anaconda3/envs/spe/lib/python3.11/site-packages/sklearn/model_selection/_validation.py:73: FutureWarning:\n",
      "\n",
      "`fit_params` is deprecated and will be removed in version 1.6. Pass parameters via `params` instead.\n",
      "\n",
      " 80%|████████  | 8/10 [00:23<00:05,  2.95s/it]/Users/kevinfry/opt/anaconda3/envs/spe/lib/python3.11/site-packages/sklearn/model_selection/_validation.py:73: FutureWarning:\n",
      "\n",
      "`fit_params` is deprecated and will be removed in version 1.6. Pass parameters via `params` instead.\n",
      "\n",
      " 90%|█████████ | 9/10 [00:26<00:02,  2.96s/it]/Users/kevinfry/opt/anaconda3/envs/spe/lib/python3.11/site-packages/sklearn/model_selection/_validation.py:73: FutureWarning:\n",
      "\n",
      "`fit_params` is deprecated and will be removed in version 1.6. Pass parameters via `params` instead.\n",
      "\n",
      "100%|██████████| 10/10 [00:29<00:00,  2.96s/it]\n"
     ]
    }
   ],
   "source": [
    "res_spcv = []\n",
    "for i in tqdm(range(niter)):\n",
    "    r = kmeanscv(\n",
    "        model=rf,\n",
    "        X=X.values, \n",
    "        y=y.values,\n",
    "        coord=locs.values,\n",
    "        k=k,\n",
    "    )\n",
    "    res_spcv.append(r)"
   ]
  },
  {
   "cell_type": "code",
   "execution_count": null,
   "metadata": {},
   "outputs": [
    {
     "data": {
      "application/vnd.plotly.v1+json": {
       "config": {
        "plotlyServerURL": "https://plot.ly"
       },
       "data": [
        {
         "error_y": {
          "array": [
           10.318029994823442,
           5.851898571689809,
           30.59811500719137
          ],
          "color": "black",
          "type": "data"
         },
         "marker": {
          "color": [
           "#636EFA",
           "#EF553B",
           "#00CC96",
           "#AB63FA",
           "#FFA15A",
           "#19D3F3",
           "#FF6692",
           "#B6E880",
           "#FF97FF",
           "#FECB52"
          ]
         },
         "text": [
          562.8,
          617.4,
          669.8
         ],
         "textposition": "outside",
         "type": "bar",
         "x": [
          "GenCp",
          "KFCV",
          "SPCV"
         ],
         "xaxis": "x",
         "y": [
          562.804240375342,
          617.4040331892548,
          669.8236812810593
         ],
         "yaxis": "y"
        }
       ],
       "layout": {
        "showlegend": false,
        "template": {
         "data": {
          "bar": [
           {
            "error_x": {
             "color": "#2a3f5f"
            },
            "error_y": {
             "color": "#2a3f5f"
            },
            "marker": {
             "line": {
              "color": "#E5ECF6",
              "width": 0.5
             },
             "pattern": {
              "fillmode": "overlay",
              "size": 10,
              "solidity": 0.2
             }
            },
            "type": "bar"
           }
          ],
          "barpolar": [
           {
            "marker": {
             "line": {
              "color": "#E5ECF6",
              "width": 0.5
             },
             "pattern": {
              "fillmode": "overlay",
              "size": 10,
              "solidity": 0.2
             }
            },
            "type": "barpolar"
           }
          ],
          "carpet": [
           {
            "aaxis": {
             "endlinecolor": "#2a3f5f",
             "gridcolor": "white",
             "linecolor": "white",
             "minorgridcolor": "white",
             "startlinecolor": "#2a3f5f"
            },
            "baxis": {
             "endlinecolor": "#2a3f5f",
             "gridcolor": "white",
             "linecolor": "white",
             "minorgridcolor": "white",
             "startlinecolor": "#2a3f5f"
            },
            "type": "carpet"
           }
          ],
          "choropleth": [
           {
            "colorbar": {
             "outlinewidth": 0,
             "ticks": ""
            },
            "type": "choropleth"
           }
          ],
          "contour": [
           {
            "colorbar": {
             "outlinewidth": 0,
             "ticks": ""
            },
            "colorscale": [
             [
              0,
              "#0d0887"
             ],
             [
              0.1111111111111111,
              "#46039f"
             ],
             [
              0.2222222222222222,
              "#7201a8"
             ],
             [
              0.3333333333333333,
              "#9c179e"
             ],
             [
              0.4444444444444444,
              "#bd3786"
             ],
             [
              0.5555555555555556,
              "#d8576b"
             ],
             [
              0.6666666666666666,
              "#ed7953"
             ],
             [
              0.7777777777777778,
              "#fb9f3a"
             ],
             [
              0.8888888888888888,
              "#fdca26"
             ],
             [
              1,
              "#f0f921"
             ]
            ],
            "type": "contour"
           }
          ],
          "contourcarpet": [
           {
            "colorbar": {
             "outlinewidth": 0,
             "ticks": ""
            },
            "type": "contourcarpet"
           }
          ],
          "heatmap": [
           {
            "colorbar": {
             "outlinewidth": 0,
             "ticks": ""
            },
            "colorscale": [
             [
              0,
              "#0d0887"
             ],
             [
              0.1111111111111111,
              "#46039f"
             ],
             [
              0.2222222222222222,
              "#7201a8"
             ],
             [
              0.3333333333333333,
              "#9c179e"
             ],
             [
              0.4444444444444444,
              "#bd3786"
             ],
             [
              0.5555555555555556,
              "#d8576b"
             ],
             [
              0.6666666666666666,
              "#ed7953"
             ],
             [
              0.7777777777777778,
              "#fb9f3a"
             ],
             [
              0.8888888888888888,
              "#fdca26"
             ],
             [
              1,
              "#f0f921"
             ]
            ],
            "type": "heatmap"
           }
          ],
          "heatmapgl": [
           {
            "colorbar": {
             "outlinewidth": 0,
             "ticks": ""
            },
            "colorscale": [
             [
              0,
              "#0d0887"
             ],
             [
              0.1111111111111111,
              "#46039f"
             ],
             [
              0.2222222222222222,
              "#7201a8"
             ],
             [
              0.3333333333333333,
              "#9c179e"
             ],
             [
              0.4444444444444444,
              "#bd3786"
             ],
             [
              0.5555555555555556,
              "#d8576b"
             ],
             [
              0.6666666666666666,
              "#ed7953"
             ],
             [
              0.7777777777777778,
              "#fb9f3a"
             ],
             [
              0.8888888888888888,
              "#fdca26"
             ],
             [
              1,
              "#f0f921"
             ]
            ],
            "type": "heatmapgl"
           }
          ],
          "histogram": [
           {
            "marker": {
             "pattern": {
              "fillmode": "overlay",
              "size": 10,
              "solidity": 0.2
             }
            },
            "type": "histogram"
           }
          ],
          "histogram2d": [
           {
            "colorbar": {
             "outlinewidth": 0,
             "ticks": ""
            },
            "colorscale": [
             [
              0,
              "#0d0887"
             ],
             [
              0.1111111111111111,
              "#46039f"
             ],
             [
              0.2222222222222222,
              "#7201a8"
             ],
             [
              0.3333333333333333,
              "#9c179e"
             ],
             [
              0.4444444444444444,
              "#bd3786"
             ],
             [
              0.5555555555555556,
              "#d8576b"
             ],
             [
              0.6666666666666666,
              "#ed7953"
             ],
             [
              0.7777777777777778,
              "#fb9f3a"
             ],
             [
              0.8888888888888888,
              "#fdca26"
             ],
             [
              1,
              "#f0f921"
             ]
            ],
            "type": "histogram2d"
           }
          ],
          "histogram2dcontour": [
           {
            "colorbar": {
             "outlinewidth": 0,
             "ticks": ""
            },
            "colorscale": [
             [
              0,
              "#0d0887"
             ],
             [
              0.1111111111111111,
              "#46039f"
             ],
             [
              0.2222222222222222,
              "#7201a8"
             ],
             [
              0.3333333333333333,
              "#9c179e"
             ],
             [
              0.4444444444444444,
              "#bd3786"
             ],
             [
              0.5555555555555556,
              "#d8576b"
             ],
             [
              0.6666666666666666,
              "#ed7953"
             ],
             [
              0.7777777777777778,
              "#fb9f3a"
             ],
             [
              0.8888888888888888,
              "#fdca26"
             ],
             [
              1,
              "#f0f921"
             ]
            ],
            "type": "histogram2dcontour"
           }
          ],
          "mesh3d": [
           {
            "colorbar": {
             "outlinewidth": 0,
             "ticks": ""
            },
            "type": "mesh3d"
           }
          ],
          "parcoords": [
           {
            "line": {
             "colorbar": {
              "outlinewidth": 0,
              "ticks": ""
             }
            },
            "type": "parcoords"
           }
          ],
          "pie": [
           {
            "automargin": true,
            "type": "pie"
           }
          ],
          "scatter": [
           {
            "fillpattern": {
             "fillmode": "overlay",
             "size": 10,
             "solidity": 0.2
            },
            "type": "scatter"
           }
          ],
          "scatter3d": [
           {
            "line": {
             "colorbar": {
              "outlinewidth": 0,
              "ticks": ""
             }
            },
            "marker": {
             "colorbar": {
              "outlinewidth": 0,
              "ticks": ""
             }
            },
            "type": "scatter3d"
           }
          ],
          "scattercarpet": [
           {
            "marker": {
             "colorbar": {
              "outlinewidth": 0,
              "ticks": ""
             }
            },
            "type": "scattercarpet"
           }
          ],
          "scattergeo": [
           {
            "marker": {
             "colorbar": {
              "outlinewidth": 0,
              "ticks": ""
             }
            },
            "type": "scattergeo"
           }
          ],
          "scattergl": [
           {
            "marker": {
             "colorbar": {
              "outlinewidth": 0,
              "ticks": ""
             }
            },
            "type": "scattergl"
           }
          ],
          "scattermapbox": [
           {
            "marker": {
             "colorbar": {
              "outlinewidth": 0,
              "ticks": ""
             }
            },
            "type": "scattermapbox"
           }
          ],
          "scatterpolar": [
           {
            "marker": {
             "colorbar": {
              "outlinewidth": 0,
              "ticks": ""
             }
            },
            "type": "scatterpolar"
           }
          ],
          "scatterpolargl": [
           {
            "marker": {
             "colorbar": {
              "outlinewidth": 0,
              "ticks": ""
             }
            },
            "type": "scatterpolargl"
           }
          ],
          "scatterternary": [
           {
            "marker": {
             "colorbar": {
              "outlinewidth": 0,
              "ticks": ""
             }
            },
            "type": "scatterternary"
           }
          ],
          "surface": [
           {
            "colorbar": {
             "outlinewidth": 0,
             "ticks": ""
            },
            "colorscale": [
             [
              0,
              "#0d0887"
             ],
             [
              0.1111111111111111,
              "#46039f"
             ],
             [
              0.2222222222222222,
              "#7201a8"
             ],
             [
              0.3333333333333333,
              "#9c179e"
             ],
             [
              0.4444444444444444,
              "#bd3786"
             ],
             [
              0.5555555555555556,
              "#d8576b"
             ],
             [
              0.6666666666666666,
              "#ed7953"
             ],
             [
              0.7777777777777778,
              "#fb9f3a"
             ],
             [
              0.8888888888888888,
              "#fdca26"
             ],
             [
              1,
              "#f0f921"
             ]
            ],
            "type": "surface"
           }
          ],
          "table": [
           {
            "cells": {
             "fill": {
              "color": "#EBF0F8"
             },
             "line": {
              "color": "white"
             }
            },
            "header": {
             "fill": {
              "color": "#C8D4E3"
             },
             "line": {
              "color": "white"
             }
            },
            "type": "table"
           }
          ]
         },
         "layout": {
          "annotationdefaults": {
           "arrowcolor": "#2a3f5f",
           "arrowhead": 0,
           "arrowwidth": 1
          },
          "autotypenumbers": "strict",
          "coloraxis": {
           "colorbar": {
            "outlinewidth": 0,
            "ticks": ""
           }
          },
          "colorscale": {
           "diverging": [
            [
             0,
             "#8e0152"
            ],
            [
             0.1,
             "#c51b7d"
            ],
            [
             0.2,
             "#de77ae"
            ],
            [
             0.3,
             "#f1b6da"
            ],
            [
             0.4,
             "#fde0ef"
            ],
            [
             0.5,
             "#f7f7f7"
            ],
            [
             0.6,
             "#e6f5d0"
            ],
            [
             0.7,
             "#b8e186"
            ],
            [
             0.8,
             "#7fbc41"
            ],
            [
             0.9,
             "#4d9221"
            ],
            [
             1,
             "#276419"
            ]
           ],
           "sequential": [
            [
             0,
             "#0d0887"
            ],
            [
             0.1111111111111111,
             "#46039f"
            ],
            [
             0.2222222222222222,
             "#7201a8"
            ],
            [
             0.3333333333333333,
             "#9c179e"
            ],
            [
             0.4444444444444444,
             "#bd3786"
            ],
            [
             0.5555555555555556,
             "#d8576b"
            ],
            [
             0.6666666666666666,
             "#ed7953"
            ],
            [
             0.7777777777777778,
             "#fb9f3a"
            ],
            [
             0.8888888888888888,
             "#fdca26"
            ],
            [
             1,
             "#f0f921"
            ]
           ],
           "sequentialminus": [
            [
             0,
             "#0d0887"
            ],
            [
             0.1111111111111111,
             "#46039f"
            ],
            [
             0.2222222222222222,
             "#7201a8"
            ],
            [
             0.3333333333333333,
             "#9c179e"
            ],
            [
             0.4444444444444444,
             "#bd3786"
            ],
            [
             0.5555555555555556,
             "#d8576b"
            ],
            [
             0.6666666666666666,
             "#ed7953"
            ],
            [
             0.7777777777777778,
             "#fb9f3a"
            ],
            [
             0.8888888888888888,
             "#fdca26"
            ],
            [
             1,
             "#f0f921"
            ]
           ]
          },
          "colorway": [
           "#636efa",
           "#EF553B",
           "#00cc96",
           "#ab63fa",
           "#FFA15A",
           "#19d3f3",
           "#FF6692",
           "#B6E880",
           "#FF97FF",
           "#FECB52"
          ],
          "font": {
           "color": "#2a3f5f"
          },
          "geo": {
           "bgcolor": "white",
           "lakecolor": "white",
           "landcolor": "#E5ECF6",
           "showlakes": true,
           "showland": true,
           "subunitcolor": "white"
          },
          "hoverlabel": {
           "align": "left"
          },
          "hovermode": "closest",
          "mapbox": {
           "style": "light"
          },
          "paper_bgcolor": "white",
          "plot_bgcolor": "#E5ECF6",
          "polar": {
           "angularaxis": {
            "gridcolor": "white",
            "linecolor": "white",
            "ticks": ""
           },
           "bgcolor": "#E5ECF6",
           "radialaxis": {
            "gridcolor": "white",
            "linecolor": "white",
            "ticks": ""
           }
          },
          "scene": {
           "xaxis": {
            "backgroundcolor": "#E5ECF6",
            "gridcolor": "white",
            "gridwidth": 2,
            "linecolor": "white",
            "showbackground": true,
            "ticks": "",
            "zerolinecolor": "white"
           },
           "yaxis": {
            "backgroundcolor": "#E5ECF6",
            "gridcolor": "white",
            "gridwidth": 2,
            "linecolor": "white",
            "showbackground": true,
            "ticks": "",
            "zerolinecolor": "white"
           },
           "zaxis": {
            "backgroundcolor": "#E5ECF6",
            "gridcolor": "white",
            "gridwidth": 2,
            "linecolor": "white",
            "showbackground": true,
            "ticks": "",
            "zerolinecolor": "white"
           }
          },
          "shapedefaults": {
           "line": {
            "color": "#2a3f5f"
           }
          },
          "ternary": {
           "aaxis": {
            "gridcolor": "white",
            "linecolor": "white",
            "ticks": ""
           },
           "baxis": {
            "gridcolor": "white",
            "linecolor": "white",
            "ticks": ""
           },
           "bgcolor": "#E5ECF6",
           "caxis": {
            "gridcolor": "white",
            "linecolor": "white",
            "ticks": ""
           }
          },
          "title": {
           "x": 0.05
          },
          "xaxis": {
           "automargin": true,
           "gridcolor": "white",
           "linecolor": "white",
           "ticks": "",
           "title": {
            "standoff": 15
           },
           "zerolinecolor": "white",
           "zerolinewidth": 2
          },
          "yaxis": {
           "automargin": true,
           "gridcolor": "white",
           "linecolor": "white",
           "ticks": "",
           "title": {
            "standoff": 15
           },
           "zerolinecolor": "white",
           "zerolinewidth": 2
          }
         }
        },
        "title": {
         "text": "Nevada Data: RF Estimated MSE"
        },
        "xaxis": {
         "anchor": "y",
         "domain": [
          0,
          1
         ],
         "title": {
          "text": "Method"
         }
        },
        "yaxis": {
         "anchor": "x",
         "domain": [
          0,
          1
         ],
         "title": {
          "text": "Estimated MSE"
         }
        }
       }
      }
     },
     "metadata": {},
     "output_type": "display_data"
    }
   ],
   "source": [
    "fig_cv = make_subplots(\n",
    "    rows=1, cols=1\n",
    ")\n",
    "\n",
    "df = pd.DataFrame({\n",
    "    'GenCp': errs_SSN[2],#res_gen,\n",
    "    'KFCV': res_kfcv,\n",
    "    'SPCV': res_spcv,\n",
    "})\n",
    "\n",
    "fig_cv.add_trace(go.Bar(\n",
    "    x=df.columns,\n",
    "    y=df.mean(),\n",
    "    marker_color=px.colors.qualitative.Plotly,\n",
    "    text=np.around(df.mean(),1),\n",
    "    textposition='outside',\n",
    "    error_y=dict(\n",
    "            type='data',\n",
    "            color='black',\n",
    "            array=df.std(),\n",
    "        )\n",
    "), row=1, col=1)\n",
    "\n",
    "fig_cv.update_yaxes(title_text=\"Estimated MSE\", row=1, col=1)\n",
    "fig_cv.update_xaxes(title_text=\"Method\", row=1, col=1)\n",
    "fig_cv.update_layout(title=\"Nevada Data: RF Estimated MSE\", showlegend=False)\n",
    "fig_cv.show()"
   ]
  },
  {
   "attachments": {},
   "cell_type": "markdown",
   "metadata": {},
   "source": [
    "# Spatial out-sample"
   ]
  },
  {
   "cell_type": "code",
   "execution_count": null,
   "metadata": {},
   "outputs": [],
   "source": [
    "tr_frac = .8\n",
    "tr_idx = np.concatenate((np.ones(int(tr_frac*n)), np.zeros(n - int(tr_frac*n)))).astype(bool)\n",
    "np.random.shuffle(tr_idx)"
   ]
  },
  {
   "attachments": {},
   "cell_type": "markdown",
   "metadata": {},
   "source": [
    "## Model Comparison"
   ]
  },
  {
   "cell_type": "code",
   "execution_count": null,
   "metadata": {},
   "outputs": [
    {
     "name": "stderr",
     "output_type": "stream",
     "text": [
      "100%|██████████| 10/10 [03:20<00:00, 20.09s/it]\n",
      "100%|██████████| 10/10 [07:46<00:00, 46.69s/it]\n",
      "100%|██████████| 10/10 [01:35<00:00,  9.53s/it]\n",
      "100%|██████████| 10/10 [02:36<00:00, 15.69s/it]\n",
      "100%|██████████| 10/10 [00:39<00:00,  3.98s/it]\n"
     ]
    }
   ],
   "source": [
    "errs_SSN_spat = []\n",
    "for model in models:\n",
    "    err = []\n",
    "    for i in tqdm(range(niter)):\n",
    "        e = cp_general(\n",
    "            model=model,\n",
    "            X=X, \n",
    "            y=y,\n",
    "            tr_idx=tr_idx,\n",
    "            use_trace_corr=False,\n",
    "            Chol_y=est_Chol_SSN,\n",
    "            Cov_y_ystar=est_Cov_SSN,\n",
    "            nboot=nboot,\n",
    "            alpha=alpha,\n",
    "        )\n",
    "        err.append(e)\n",
    "    errs_SSN_spat.append(err)"
   ]
  },
  {
   "cell_type": "code",
   "execution_count": null,
   "metadata": {},
   "outputs": [
    {
     "data": {
      "application/vnd.plotly.v1+json": {
       "config": {
        "plotlyServerURL": "https://plot.ly"
       },
       "data": [
        {
         "error_y": {
          "array": [
           16.472578969658525,
           17.556482203675408,
           28.238421744754593,
           20.041725421456416,
           11.588298834073443
          ],
          "color": "black",
          "type": "data"
         },
         "marker": {
          "color": [
           "#636EFA",
           "#EF553B",
           "#00CC96",
           "#AB63FA",
           "#FFA15A",
           "#19D3F3",
           "#FF6692",
           "#B6E880",
           "#FF97FF",
           "#FECB52"
          ]
         },
         "text": [
          299.19,
          312.501,
          830.054,
          460.333,
          391.94
         ],
         "textposition": "outside",
         "type": "bar",
         "x": [
          "XGB2",
          "XGB6",
          "RF2",
          "RF6",
          "ENetCV"
         ],
         "xaxis": "x",
         "y": [
          299.1904911645648,
          312.50135782730104,
          830.053687170656,
          460.33342796839844,
          391.9398877204859
         ],
         "yaxis": "y"
        }
       ],
       "layout": {
        "showlegend": false,
        "template": {
         "data": {
          "bar": [
           {
            "error_x": {
             "color": "#2a3f5f"
            },
            "error_y": {
             "color": "#2a3f5f"
            },
            "marker": {
             "line": {
              "color": "#E5ECF6",
              "width": 0.5
             },
             "pattern": {
              "fillmode": "overlay",
              "size": 10,
              "solidity": 0.2
             }
            },
            "type": "bar"
           }
          ],
          "barpolar": [
           {
            "marker": {
             "line": {
              "color": "#E5ECF6",
              "width": 0.5
             },
             "pattern": {
              "fillmode": "overlay",
              "size": 10,
              "solidity": 0.2
             }
            },
            "type": "barpolar"
           }
          ],
          "carpet": [
           {
            "aaxis": {
             "endlinecolor": "#2a3f5f",
             "gridcolor": "white",
             "linecolor": "white",
             "minorgridcolor": "white",
             "startlinecolor": "#2a3f5f"
            },
            "baxis": {
             "endlinecolor": "#2a3f5f",
             "gridcolor": "white",
             "linecolor": "white",
             "minorgridcolor": "white",
             "startlinecolor": "#2a3f5f"
            },
            "type": "carpet"
           }
          ],
          "choropleth": [
           {
            "colorbar": {
             "outlinewidth": 0,
             "ticks": ""
            },
            "type": "choropleth"
           }
          ],
          "contour": [
           {
            "colorbar": {
             "outlinewidth": 0,
             "ticks": ""
            },
            "colorscale": [
             [
              0,
              "#0d0887"
             ],
             [
              0.1111111111111111,
              "#46039f"
             ],
             [
              0.2222222222222222,
              "#7201a8"
             ],
             [
              0.3333333333333333,
              "#9c179e"
             ],
             [
              0.4444444444444444,
              "#bd3786"
             ],
             [
              0.5555555555555556,
              "#d8576b"
             ],
             [
              0.6666666666666666,
              "#ed7953"
             ],
             [
              0.7777777777777778,
              "#fb9f3a"
             ],
             [
              0.8888888888888888,
              "#fdca26"
             ],
             [
              1,
              "#f0f921"
             ]
            ],
            "type": "contour"
           }
          ],
          "contourcarpet": [
           {
            "colorbar": {
             "outlinewidth": 0,
             "ticks": ""
            },
            "type": "contourcarpet"
           }
          ],
          "heatmap": [
           {
            "colorbar": {
             "outlinewidth": 0,
             "ticks": ""
            },
            "colorscale": [
             [
              0,
              "#0d0887"
             ],
             [
              0.1111111111111111,
              "#46039f"
             ],
             [
              0.2222222222222222,
              "#7201a8"
             ],
             [
              0.3333333333333333,
              "#9c179e"
             ],
             [
              0.4444444444444444,
              "#bd3786"
             ],
             [
              0.5555555555555556,
              "#d8576b"
             ],
             [
              0.6666666666666666,
              "#ed7953"
             ],
             [
              0.7777777777777778,
              "#fb9f3a"
             ],
             [
              0.8888888888888888,
              "#fdca26"
             ],
             [
              1,
              "#f0f921"
             ]
            ],
            "type": "heatmap"
           }
          ],
          "heatmapgl": [
           {
            "colorbar": {
             "outlinewidth": 0,
             "ticks": ""
            },
            "colorscale": [
             [
              0,
              "#0d0887"
             ],
             [
              0.1111111111111111,
              "#46039f"
             ],
             [
              0.2222222222222222,
              "#7201a8"
             ],
             [
              0.3333333333333333,
              "#9c179e"
             ],
             [
              0.4444444444444444,
              "#bd3786"
             ],
             [
              0.5555555555555556,
              "#d8576b"
             ],
             [
              0.6666666666666666,
              "#ed7953"
             ],
             [
              0.7777777777777778,
              "#fb9f3a"
             ],
             [
              0.8888888888888888,
              "#fdca26"
             ],
             [
              1,
              "#f0f921"
             ]
            ],
            "type": "heatmapgl"
           }
          ],
          "histogram": [
           {
            "marker": {
             "pattern": {
              "fillmode": "overlay",
              "size": 10,
              "solidity": 0.2
             }
            },
            "type": "histogram"
           }
          ],
          "histogram2d": [
           {
            "colorbar": {
             "outlinewidth": 0,
             "ticks": ""
            },
            "colorscale": [
             [
              0,
              "#0d0887"
             ],
             [
              0.1111111111111111,
              "#46039f"
             ],
             [
              0.2222222222222222,
              "#7201a8"
             ],
             [
              0.3333333333333333,
              "#9c179e"
             ],
             [
              0.4444444444444444,
              "#bd3786"
             ],
             [
              0.5555555555555556,
              "#d8576b"
             ],
             [
              0.6666666666666666,
              "#ed7953"
             ],
             [
              0.7777777777777778,
              "#fb9f3a"
             ],
             [
              0.8888888888888888,
              "#fdca26"
             ],
             [
              1,
              "#f0f921"
             ]
            ],
            "type": "histogram2d"
           }
          ],
          "histogram2dcontour": [
           {
            "colorbar": {
             "outlinewidth": 0,
             "ticks": ""
            },
            "colorscale": [
             [
              0,
              "#0d0887"
             ],
             [
              0.1111111111111111,
              "#46039f"
             ],
             [
              0.2222222222222222,
              "#7201a8"
             ],
             [
              0.3333333333333333,
              "#9c179e"
             ],
             [
              0.4444444444444444,
              "#bd3786"
             ],
             [
              0.5555555555555556,
              "#d8576b"
             ],
             [
              0.6666666666666666,
              "#ed7953"
             ],
             [
              0.7777777777777778,
              "#fb9f3a"
             ],
             [
              0.8888888888888888,
              "#fdca26"
             ],
             [
              1,
              "#f0f921"
             ]
            ],
            "type": "histogram2dcontour"
           }
          ],
          "mesh3d": [
           {
            "colorbar": {
             "outlinewidth": 0,
             "ticks": ""
            },
            "type": "mesh3d"
           }
          ],
          "parcoords": [
           {
            "line": {
             "colorbar": {
              "outlinewidth": 0,
              "ticks": ""
             }
            },
            "type": "parcoords"
           }
          ],
          "pie": [
           {
            "automargin": true,
            "type": "pie"
           }
          ],
          "scatter": [
           {
            "fillpattern": {
             "fillmode": "overlay",
             "size": 10,
             "solidity": 0.2
            },
            "type": "scatter"
           }
          ],
          "scatter3d": [
           {
            "line": {
             "colorbar": {
              "outlinewidth": 0,
              "ticks": ""
             }
            },
            "marker": {
             "colorbar": {
              "outlinewidth": 0,
              "ticks": ""
             }
            },
            "type": "scatter3d"
           }
          ],
          "scattercarpet": [
           {
            "marker": {
             "colorbar": {
              "outlinewidth": 0,
              "ticks": ""
             }
            },
            "type": "scattercarpet"
           }
          ],
          "scattergeo": [
           {
            "marker": {
             "colorbar": {
              "outlinewidth": 0,
              "ticks": ""
             }
            },
            "type": "scattergeo"
           }
          ],
          "scattergl": [
           {
            "marker": {
             "colorbar": {
              "outlinewidth": 0,
              "ticks": ""
             }
            },
            "type": "scattergl"
           }
          ],
          "scattermapbox": [
           {
            "marker": {
             "colorbar": {
              "outlinewidth": 0,
              "ticks": ""
             }
            },
            "type": "scattermapbox"
           }
          ],
          "scatterpolar": [
           {
            "marker": {
             "colorbar": {
              "outlinewidth": 0,
              "ticks": ""
             }
            },
            "type": "scatterpolar"
           }
          ],
          "scatterpolargl": [
           {
            "marker": {
             "colorbar": {
              "outlinewidth": 0,
              "ticks": ""
             }
            },
            "type": "scatterpolargl"
           }
          ],
          "scatterternary": [
           {
            "marker": {
             "colorbar": {
              "outlinewidth": 0,
              "ticks": ""
             }
            },
            "type": "scatterternary"
           }
          ],
          "surface": [
           {
            "colorbar": {
             "outlinewidth": 0,
             "ticks": ""
            },
            "colorscale": [
             [
              0,
              "#0d0887"
             ],
             [
              0.1111111111111111,
              "#46039f"
             ],
             [
              0.2222222222222222,
              "#7201a8"
             ],
             [
              0.3333333333333333,
              "#9c179e"
             ],
             [
              0.4444444444444444,
              "#bd3786"
             ],
             [
              0.5555555555555556,
              "#d8576b"
             ],
             [
              0.6666666666666666,
              "#ed7953"
             ],
             [
              0.7777777777777778,
              "#fb9f3a"
             ],
             [
              0.8888888888888888,
              "#fdca26"
             ],
             [
              1,
              "#f0f921"
             ]
            ],
            "type": "surface"
           }
          ],
          "table": [
           {
            "cells": {
             "fill": {
              "color": "#EBF0F8"
             },
             "line": {
              "color": "white"
             }
            },
            "header": {
             "fill": {
              "color": "#C8D4E3"
             },
             "line": {
              "color": "white"
             }
            },
            "type": "table"
           }
          ]
         },
         "layout": {
          "annotationdefaults": {
           "arrowcolor": "#2a3f5f",
           "arrowhead": 0,
           "arrowwidth": 1
          },
          "autotypenumbers": "strict",
          "coloraxis": {
           "colorbar": {
            "outlinewidth": 0,
            "ticks": ""
           }
          },
          "colorscale": {
           "diverging": [
            [
             0,
             "#8e0152"
            ],
            [
             0.1,
             "#c51b7d"
            ],
            [
             0.2,
             "#de77ae"
            ],
            [
             0.3,
             "#f1b6da"
            ],
            [
             0.4,
             "#fde0ef"
            ],
            [
             0.5,
             "#f7f7f7"
            ],
            [
             0.6,
             "#e6f5d0"
            ],
            [
             0.7,
             "#b8e186"
            ],
            [
             0.8,
             "#7fbc41"
            ],
            [
             0.9,
             "#4d9221"
            ],
            [
             1,
             "#276419"
            ]
           ],
           "sequential": [
            [
             0,
             "#0d0887"
            ],
            [
             0.1111111111111111,
             "#46039f"
            ],
            [
             0.2222222222222222,
             "#7201a8"
            ],
            [
             0.3333333333333333,
             "#9c179e"
            ],
            [
             0.4444444444444444,
             "#bd3786"
            ],
            [
             0.5555555555555556,
             "#d8576b"
            ],
            [
             0.6666666666666666,
             "#ed7953"
            ],
            [
             0.7777777777777778,
             "#fb9f3a"
            ],
            [
             0.8888888888888888,
             "#fdca26"
            ],
            [
             1,
             "#f0f921"
            ]
           ],
           "sequentialminus": [
            [
             0,
             "#0d0887"
            ],
            [
             0.1111111111111111,
             "#46039f"
            ],
            [
             0.2222222222222222,
             "#7201a8"
            ],
            [
             0.3333333333333333,
             "#9c179e"
            ],
            [
             0.4444444444444444,
             "#bd3786"
            ],
            [
             0.5555555555555556,
             "#d8576b"
            ],
            [
             0.6666666666666666,
             "#ed7953"
            ],
            [
             0.7777777777777778,
             "#fb9f3a"
            ],
            [
             0.8888888888888888,
             "#fdca26"
            ],
            [
             1,
             "#f0f921"
            ]
           ]
          },
          "colorway": [
           "#636efa",
           "#EF553B",
           "#00cc96",
           "#ab63fa",
           "#FFA15A",
           "#19d3f3",
           "#FF6692",
           "#B6E880",
           "#FF97FF",
           "#FECB52"
          ],
          "font": {
           "color": "#2a3f5f"
          },
          "geo": {
           "bgcolor": "white",
           "lakecolor": "white",
           "landcolor": "#E5ECF6",
           "showlakes": true,
           "showland": true,
           "subunitcolor": "white"
          },
          "hoverlabel": {
           "align": "left"
          },
          "hovermode": "closest",
          "mapbox": {
           "style": "light"
          },
          "paper_bgcolor": "white",
          "plot_bgcolor": "#E5ECF6",
          "polar": {
           "angularaxis": {
            "gridcolor": "white",
            "linecolor": "white",
            "ticks": ""
           },
           "bgcolor": "#E5ECF6",
           "radialaxis": {
            "gridcolor": "white",
            "linecolor": "white",
            "ticks": ""
           }
          },
          "scene": {
           "xaxis": {
            "backgroundcolor": "#E5ECF6",
            "gridcolor": "white",
            "gridwidth": 2,
            "linecolor": "white",
            "showbackground": true,
            "ticks": "",
            "zerolinecolor": "white"
           },
           "yaxis": {
            "backgroundcolor": "#E5ECF6",
            "gridcolor": "white",
            "gridwidth": 2,
            "linecolor": "white",
            "showbackground": true,
            "ticks": "",
            "zerolinecolor": "white"
           },
           "zaxis": {
            "backgroundcolor": "#E5ECF6",
            "gridcolor": "white",
            "gridwidth": 2,
            "linecolor": "white",
            "showbackground": true,
            "ticks": "",
            "zerolinecolor": "white"
           }
          },
          "shapedefaults": {
           "line": {
            "color": "#2a3f5f"
           }
          },
          "ternary": {
           "aaxis": {
            "gridcolor": "white",
            "linecolor": "white",
            "ticks": ""
           },
           "baxis": {
            "gridcolor": "white",
            "linecolor": "white",
            "ticks": ""
           },
           "bgcolor": "#E5ECF6",
           "caxis": {
            "gridcolor": "white",
            "linecolor": "white",
            "ticks": ""
           }
          },
          "title": {
           "x": 0.05
          },
          "xaxis": {
           "automargin": true,
           "gridcolor": "white",
           "linecolor": "white",
           "ticks": "",
           "title": {
            "standoff": 15
           },
           "zerolinecolor": "white",
           "zerolinewidth": 2
          },
          "yaxis": {
           "automargin": true,
           "gridcolor": "white",
           "linecolor": "white",
           "ticks": "",
           "title": {
            "standoff": 15
           },
           "zerolinecolor": "white",
           "zerolinewidth": 2
          }
         }
        },
        "title": {
         "text": "Nevada Data: Train/Test Split Model Comparison"
        },
        "xaxis": {
         "anchor": "y",
         "domain": [
          0,
          1
         ]
        },
        "yaxis": {
         "anchor": "x",
         "domain": [
          0,
          1
         ],
         "title": {
          "text": "GenCp Estimated MSE"
         }
        }
       }
      }
     },
     "metadata": {},
     "output_type": "display_data"
    }
   ],
   "source": [
    "fig_SSN_spat = make_subplots(\n",
    "    rows=1, cols=1\n",
    ")\n",
    "\n",
    "df_SSN_spat = pd.DataFrame({est_names[i]: errs_SSN_spat[i] for i in np.arange(len(est_names))})\n",
    "\n",
    "fig_SSN_spat.add_trace(go.Bar(\n",
    "    x = df_SSN_spat.columns,\n",
    "    y=df_SSN_spat.mean(),\n",
    "    marker_color=px.colors.qualitative.Plotly,\n",
    "    text=np.around(df_SSN_spat.mean(),3),\n",
    "    textposition='outside',\n",
    "    error_y=dict(\n",
    "        type='data',\n",
    "        color='black',\n",
    "        array=df_SSN_spat.std(),\n",
    "    )\n",
    "), row=1, col=1)\n",
    "\n",
    "fig_SSN_spat.update_yaxes(title_text=\"GenCp Estimated MSE\", row=1, col=1)\n",
    "fig_SSN_spat.update_layout(title_text=\"Nevada Data: Train/Test Split Model Comparison\", showlegend=False)\n",
    "fig_SSN_spat.show()"
   ]
  },
  {
   "attachments": {},
   "cell_type": "markdown",
   "metadata": {},
   "source": [
    "## Estimator Comparison"
   ]
  },
  {
   "cell_type": "code",
   "execution_count": null,
   "metadata": {},
   "outputs": [],
   "source": [
    "# xgb = XGBRegressor(max_depth=3, n_estimators=10)\n",
    "rf = RandomForestRegressor(\n",
    "    max_depth=3,\n",
    "    max_features='sqrt',\n",
    "    n_estimators=100,\n",
    ")"
   ]
  },
  {
   "cell_type": "code",
   "execution_count": null,
   "metadata": {},
   "outputs": [
    {
     "name": "stderr",
     "output_type": "stream",
     "text": [
      "100%|██████████| 20/20 [03:18<00:00,  9.94s/it]\n"
     ]
    }
   ],
   "source": [
    "\n",
    "res_gen_spat = []\n",
    "for i in tqdm(range(2*niter)):\n",
    "    r = cp_general(\n",
    "        model=rf,\n",
    "        X=X, \n",
    "        y=y,\n",
    "        tr_idx=tr_idx,\n",
    "        use_trace_corr=False,\n",
    "        Chol_y=est_Chol_SSN,\n",
    "        Cov_y_ystar=est_Cov_SSN,\n",
    "        nboot=nboot,\n",
    "        alpha=alpha,\n",
    "    )\n",
    "    res_gen_spat.append(r)"
   ]
  },
  {
   "cell_type": "code",
   "execution_count": null,
   "metadata": {},
   "outputs": [
    {
     "name": "stderr",
     "output_type": "stream",
     "text": [
      "100%|██████████| 100/100 [00:09<00:00, 10.81it/s]\n"
     ]
    }
   ],
   "source": [
    "res_kfcv_spat = []\n",
    "for i in tqdm(range(10*niter)):\n",
    "    r = simple_train_test_split(\n",
    "        model=rf,\n",
    "        X=X.values, \n",
    "        y=y.values,\n",
    "        tr_idx=tr_idx,\n",
    "    )\n",
    "    res_kfcv_spat.append(r)"
   ]
  },
  {
   "cell_type": "code",
   "execution_count": null,
   "metadata": {},
   "outputs": [
    {
     "data": {
      "application/vnd.plotly.v1+json": {
       "config": {
        "plotlyServerURL": "https://plot.ly"
       },
       "data": [
        {
         "error_y": {
          "array": [
           22.489170079762456,
           25.254574299327267
          ],
          "color": "black",
          "type": "data"
         },
         "marker": {
          "color": [
           "#636EFA",
           "#EF553B",
           "#00CC96",
           "#AB63FA",
           "#FFA15A",
           "#19D3F3",
           "#FF6692",
           "#B6E880",
           "#FF97FF",
           "#FECB52"
          ]
         },
         "text": [
          570.6,
          565.4
         ],
         "textposition": "outside",
         "type": "bar",
         "x": [
          "GenCp",
          "TrTs"
         ],
         "xaxis": "x",
         "y": [
          570.6289779913859,
          565.4169035619595
         ],
         "yaxis": "y"
        }
       ],
       "layout": {
        "showlegend": false,
        "template": {
         "data": {
          "bar": [
           {
            "error_x": {
             "color": "#2a3f5f"
            },
            "error_y": {
             "color": "#2a3f5f"
            },
            "marker": {
             "line": {
              "color": "#E5ECF6",
              "width": 0.5
             },
             "pattern": {
              "fillmode": "overlay",
              "size": 10,
              "solidity": 0.2
             }
            },
            "type": "bar"
           }
          ],
          "barpolar": [
           {
            "marker": {
             "line": {
              "color": "#E5ECF6",
              "width": 0.5
             },
             "pattern": {
              "fillmode": "overlay",
              "size": 10,
              "solidity": 0.2
             }
            },
            "type": "barpolar"
           }
          ],
          "carpet": [
           {
            "aaxis": {
             "endlinecolor": "#2a3f5f",
             "gridcolor": "white",
             "linecolor": "white",
             "minorgridcolor": "white",
             "startlinecolor": "#2a3f5f"
            },
            "baxis": {
             "endlinecolor": "#2a3f5f",
             "gridcolor": "white",
             "linecolor": "white",
             "minorgridcolor": "white",
             "startlinecolor": "#2a3f5f"
            },
            "type": "carpet"
           }
          ],
          "choropleth": [
           {
            "colorbar": {
             "outlinewidth": 0,
             "ticks": ""
            },
            "type": "choropleth"
           }
          ],
          "contour": [
           {
            "colorbar": {
             "outlinewidth": 0,
             "ticks": ""
            },
            "colorscale": [
             [
              0,
              "#0d0887"
             ],
             [
              0.1111111111111111,
              "#46039f"
             ],
             [
              0.2222222222222222,
              "#7201a8"
             ],
             [
              0.3333333333333333,
              "#9c179e"
             ],
             [
              0.4444444444444444,
              "#bd3786"
             ],
             [
              0.5555555555555556,
              "#d8576b"
             ],
             [
              0.6666666666666666,
              "#ed7953"
             ],
             [
              0.7777777777777778,
              "#fb9f3a"
             ],
             [
              0.8888888888888888,
              "#fdca26"
             ],
             [
              1,
              "#f0f921"
             ]
            ],
            "type": "contour"
           }
          ],
          "contourcarpet": [
           {
            "colorbar": {
             "outlinewidth": 0,
             "ticks": ""
            },
            "type": "contourcarpet"
           }
          ],
          "heatmap": [
           {
            "colorbar": {
             "outlinewidth": 0,
             "ticks": ""
            },
            "colorscale": [
             [
              0,
              "#0d0887"
             ],
             [
              0.1111111111111111,
              "#46039f"
             ],
             [
              0.2222222222222222,
              "#7201a8"
             ],
             [
              0.3333333333333333,
              "#9c179e"
             ],
             [
              0.4444444444444444,
              "#bd3786"
             ],
             [
              0.5555555555555556,
              "#d8576b"
             ],
             [
              0.6666666666666666,
              "#ed7953"
             ],
             [
              0.7777777777777778,
              "#fb9f3a"
             ],
             [
              0.8888888888888888,
              "#fdca26"
             ],
             [
              1,
              "#f0f921"
             ]
            ],
            "type": "heatmap"
           }
          ],
          "heatmapgl": [
           {
            "colorbar": {
             "outlinewidth": 0,
             "ticks": ""
            },
            "colorscale": [
             [
              0,
              "#0d0887"
             ],
             [
              0.1111111111111111,
              "#46039f"
             ],
             [
              0.2222222222222222,
              "#7201a8"
             ],
             [
              0.3333333333333333,
              "#9c179e"
             ],
             [
              0.4444444444444444,
              "#bd3786"
             ],
             [
              0.5555555555555556,
              "#d8576b"
             ],
             [
              0.6666666666666666,
              "#ed7953"
             ],
             [
              0.7777777777777778,
              "#fb9f3a"
             ],
             [
              0.8888888888888888,
              "#fdca26"
             ],
             [
              1,
              "#f0f921"
             ]
            ],
            "type": "heatmapgl"
           }
          ],
          "histogram": [
           {
            "marker": {
             "pattern": {
              "fillmode": "overlay",
              "size": 10,
              "solidity": 0.2
             }
            },
            "type": "histogram"
           }
          ],
          "histogram2d": [
           {
            "colorbar": {
             "outlinewidth": 0,
             "ticks": ""
            },
            "colorscale": [
             [
              0,
              "#0d0887"
             ],
             [
              0.1111111111111111,
              "#46039f"
             ],
             [
              0.2222222222222222,
              "#7201a8"
             ],
             [
              0.3333333333333333,
              "#9c179e"
             ],
             [
              0.4444444444444444,
              "#bd3786"
             ],
             [
              0.5555555555555556,
              "#d8576b"
             ],
             [
              0.6666666666666666,
              "#ed7953"
             ],
             [
              0.7777777777777778,
              "#fb9f3a"
             ],
             [
              0.8888888888888888,
              "#fdca26"
             ],
             [
              1,
              "#f0f921"
             ]
            ],
            "type": "histogram2d"
           }
          ],
          "histogram2dcontour": [
           {
            "colorbar": {
             "outlinewidth": 0,
             "ticks": ""
            },
            "colorscale": [
             [
              0,
              "#0d0887"
             ],
             [
              0.1111111111111111,
              "#46039f"
             ],
             [
              0.2222222222222222,
              "#7201a8"
             ],
             [
              0.3333333333333333,
              "#9c179e"
             ],
             [
              0.4444444444444444,
              "#bd3786"
             ],
             [
              0.5555555555555556,
              "#d8576b"
             ],
             [
              0.6666666666666666,
              "#ed7953"
             ],
             [
              0.7777777777777778,
              "#fb9f3a"
             ],
             [
              0.8888888888888888,
              "#fdca26"
             ],
             [
              1,
              "#f0f921"
             ]
            ],
            "type": "histogram2dcontour"
           }
          ],
          "mesh3d": [
           {
            "colorbar": {
             "outlinewidth": 0,
             "ticks": ""
            },
            "type": "mesh3d"
           }
          ],
          "parcoords": [
           {
            "line": {
             "colorbar": {
              "outlinewidth": 0,
              "ticks": ""
             }
            },
            "type": "parcoords"
           }
          ],
          "pie": [
           {
            "automargin": true,
            "type": "pie"
           }
          ],
          "scatter": [
           {
            "fillpattern": {
             "fillmode": "overlay",
             "size": 10,
             "solidity": 0.2
            },
            "type": "scatter"
           }
          ],
          "scatter3d": [
           {
            "line": {
             "colorbar": {
              "outlinewidth": 0,
              "ticks": ""
             }
            },
            "marker": {
             "colorbar": {
              "outlinewidth": 0,
              "ticks": ""
             }
            },
            "type": "scatter3d"
           }
          ],
          "scattercarpet": [
           {
            "marker": {
             "colorbar": {
              "outlinewidth": 0,
              "ticks": ""
             }
            },
            "type": "scattercarpet"
           }
          ],
          "scattergeo": [
           {
            "marker": {
             "colorbar": {
              "outlinewidth": 0,
              "ticks": ""
             }
            },
            "type": "scattergeo"
           }
          ],
          "scattergl": [
           {
            "marker": {
             "colorbar": {
              "outlinewidth": 0,
              "ticks": ""
             }
            },
            "type": "scattergl"
           }
          ],
          "scattermapbox": [
           {
            "marker": {
             "colorbar": {
              "outlinewidth": 0,
              "ticks": ""
             }
            },
            "type": "scattermapbox"
           }
          ],
          "scatterpolar": [
           {
            "marker": {
             "colorbar": {
              "outlinewidth": 0,
              "ticks": ""
             }
            },
            "type": "scatterpolar"
           }
          ],
          "scatterpolargl": [
           {
            "marker": {
             "colorbar": {
              "outlinewidth": 0,
              "ticks": ""
             }
            },
            "type": "scatterpolargl"
           }
          ],
          "scatterternary": [
           {
            "marker": {
             "colorbar": {
              "outlinewidth": 0,
              "ticks": ""
             }
            },
            "type": "scatterternary"
           }
          ],
          "surface": [
           {
            "colorbar": {
             "outlinewidth": 0,
             "ticks": ""
            },
            "colorscale": [
             [
              0,
              "#0d0887"
             ],
             [
              0.1111111111111111,
              "#46039f"
             ],
             [
              0.2222222222222222,
              "#7201a8"
             ],
             [
              0.3333333333333333,
              "#9c179e"
             ],
             [
              0.4444444444444444,
              "#bd3786"
             ],
             [
              0.5555555555555556,
              "#d8576b"
             ],
             [
              0.6666666666666666,
              "#ed7953"
             ],
             [
              0.7777777777777778,
              "#fb9f3a"
             ],
             [
              0.8888888888888888,
              "#fdca26"
             ],
             [
              1,
              "#f0f921"
             ]
            ],
            "type": "surface"
           }
          ],
          "table": [
           {
            "cells": {
             "fill": {
              "color": "#EBF0F8"
             },
             "line": {
              "color": "white"
             }
            },
            "header": {
             "fill": {
              "color": "#C8D4E3"
             },
             "line": {
              "color": "white"
             }
            },
            "type": "table"
           }
          ]
         },
         "layout": {
          "annotationdefaults": {
           "arrowcolor": "#2a3f5f",
           "arrowhead": 0,
           "arrowwidth": 1
          },
          "autotypenumbers": "strict",
          "coloraxis": {
           "colorbar": {
            "outlinewidth": 0,
            "ticks": ""
           }
          },
          "colorscale": {
           "diverging": [
            [
             0,
             "#8e0152"
            ],
            [
             0.1,
             "#c51b7d"
            ],
            [
             0.2,
             "#de77ae"
            ],
            [
             0.3,
             "#f1b6da"
            ],
            [
             0.4,
             "#fde0ef"
            ],
            [
             0.5,
             "#f7f7f7"
            ],
            [
             0.6,
             "#e6f5d0"
            ],
            [
             0.7,
             "#b8e186"
            ],
            [
             0.8,
             "#7fbc41"
            ],
            [
             0.9,
             "#4d9221"
            ],
            [
             1,
             "#276419"
            ]
           ],
           "sequential": [
            [
             0,
             "#0d0887"
            ],
            [
             0.1111111111111111,
             "#46039f"
            ],
            [
             0.2222222222222222,
             "#7201a8"
            ],
            [
             0.3333333333333333,
             "#9c179e"
            ],
            [
             0.4444444444444444,
             "#bd3786"
            ],
            [
             0.5555555555555556,
             "#d8576b"
            ],
            [
             0.6666666666666666,
             "#ed7953"
            ],
            [
             0.7777777777777778,
             "#fb9f3a"
            ],
            [
             0.8888888888888888,
             "#fdca26"
            ],
            [
             1,
             "#f0f921"
            ]
           ],
           "sequentialminus": [
            [
             0,
             "#0d0887"
            ],
            [
             0.1111111111111111,
             "#46039f"
            ],
            [
             0.2222222222222222,
             "#7201a8"
            ],
            [
             0.3333333333333333,
             "#9c179e"
            ],
            [
             0.4444444444444444,
             "#bd3786"
            ],
            [
             0.5555555555555556,
             "#d8576b"
            ],
            [
             0.6666666666666666,
             "#ed7953"
            ],
            [
             0.7777777777777778,
             "#fb9f3a"
            ],
            [
             0.8888888888888888,
             "#fdca26"
            ],
            [
             1,
             "#f0f921"
            ]
           ]
          },
          "colorway": [
           "#636efa",
           "#EF553B",
           "#00cc96",
           "#ab63fa",
           "#FFA15A",
           "#19d3f3",
           "#FF6692",
           "#B6E880",
           "#FF97FF",
           "#FECB52"
          ],
          "font": {
           "color": "#2a3f5f"
          },
          "geo": {
           "bgcolor": "white",
           "lakecolor": "white",
           "landcolor": "#E5ECF6",
           "showlakes": true,
           "showland": true,
           "subunitcolor": "white"
          },
          "hoverlabel": {
           "align": "left"
          },
          "hovermode": "closest",
          "mapbox": {
           "style": "light"
          },
          "paper_bgcolor": "white",
          "plot_bgcolor": "#E5ECF6",
          "polar": {
           "angularaxis": {
            "gridcolor": "white",
            "linecolor": "white",
            "ticks": ""
           },
           "bgcolor": "#E5ECF6",
           "radialaxis": {
            "gridcolor": "white",
            "linecolor": "white",
            "ticks": ""
           }
          },
          "scene": {
           "xaxis": {
            "backgroundcolor": "#E5ECF6",
            "gridcolor": "white",
            "gridwidth": 2,
            "linecolor": "white",
            "showbackground": true,
            "ticks": "",
            "zerolinecolor": "white"
           },
           "yaxis": {
            "backgroundcolor": "#E5ECF6",
            "gridcolor": "white",
            "gridwidth": 2,
            "linecolor": "white",
            "showbackground": true,
            "ticks": "",
            "zerolinecolor": "white"
           },
           "zaxis": {
            "backgroundcolor": "#E5ECF6",
            "gridcolor": "white",
            "gridwidth": 2,
            "linecolor": "white",
            "showbackground": true,
            "ticks": "",
            "zerolinecolor": "white"
           }
          },
          "shapedefaults": {
           "line": {
            "color": "#2a3f5f"
           }
          },
          "ternary": {
           "aaxis": {
            "gridcolor": "white",
            "linecolor": "white",
            "ticks": ""
           },
           "baxis": {
            "gridcolor": "white",
            "linecolor": "white",
            "ticks": ""
           },
           "bgcolor": "#E5ECF6",
           "caxis": {
            "gridcolor": "white",
            "linecolor": "white",
            "ticks": ""
           }
          },
          "title": {
           "x": 0.05
          },
          "xaxis": {
           "automargin": true,
           "gridcolor": "white",
           "linecolor": "white",
           "ticks": "",
           "title": {
            "standoff": 15
           },
           "zerolinecolor": "white",
           "zerolinewidth": 2
          },
          "yaxis": {
           "automargin": true,
           "gridcolor": "white",
           "linecolor": "white",
           "ticks": "",
           "title": {
            "standoff": 15
           },
           "zerolinecolor": "white",
           "zerolinewidth": 2
          }
         }
        },
        "title": {
         "text": "Nevada Data: Train/Test Split RF Estimated MSE"
        },
        "xaxis": {
         "anchor": "y",
         "domain": [
          0,
          1
         ],
         "title": {
          "text": "Method"
         }
        },
        "yaxis": {
         "anchor": "x",
         "domain": [
          0,
          1
         ],
         "title": {
          "text": "Estimated MSE"
         }
        }
       }
      }
     },
     "metadata": {},
     "output_type": "display_data"
    }
   ],
   "source": [
    "fig_spat = make_subplots(\n",
    "    rows=1, cols=1\n",
    ")\n",
    "\n",
    "df_spat = pd.DataFrame({\n",
    "    'GenCp': res_gen_spat,\n",
    "    'TrTs': res_kfcv_spat[:20],\n",
    "})\n",
    "\n",
    "fig_spat.add_trace(go.Bar(\n",
    "    x=df_spat.columns,\n",
    "    y=df_spat.mean(),\n",
    "    marker_color=px.colors.qualitative.Plotly,\n",
    "    text=np.around(df_spat.mean(),1),\n",
    "    textposition='outside',\n",
    "    error_y=dict(\n",
    "            type='data',\n",
    "            color='black',\n",
    "            array=df_spat.std(),\n",
    "        )\n",
    "), row=1, col=1)\n",
    "\n",
    "fig_spat.update_yaxes(title_text=\"Estimated MSE\", row=1, col=1)\n",
    "fig_spat.update_xaxes(title_text=\"Method\", row=1, col=1)\n",
    "fig_spat.update_layout(title=\"Nevada Data: Train/Test Split RF Estimated MSE\", showlegend=False)\n",
    "fig_spat.show()"
   ]
  },
  {
   "cell_type": "code",
   "execution_count": null,
   "metadata": {},
   "outputs": [],
   "source": []
  }
 ],
 "metadata": {
  "celltoolbar": "Tags",
  "kernelspec": {
   "display_name": "spe",
   "language": "python",
   "name": "python3"
  },
  "language_info": {
   "codemirror_mode": {
    "name": "ipython",
    "version": 3
   },
   "file_extension": ".py",
   "mimetype": "text/x-python",
   "name": "python",
   "nbconvert_exporter": "python",
   "pygments_lexer": "ipython3",
   "version": "3.11.7"
  }
 },
 "nbformat": 4,
 "nbformat_minor": 4
}
