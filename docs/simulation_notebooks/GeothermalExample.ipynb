{
 "cells": [
  {
   "cell_type": "code",
   "execution_count": 1,
   "metadata": {},
   "outputs": [],
   "source": [
    "import numpy as np\n",
    "import pandas as pd\n",
    "from tqdm import tqdm\n",
    "from sklearn.linear_model import ElasticNetCV\n",
    "from sklearn.ensemble import RandomForestRegressor\n",
    "\n",
    "from xgboost import XGBRegressor\n",
    "\n",
    "import plotly.express as px\n",
    "import plotly.graph_objects as go\n",
    "from plotly.subplots import make_subplots\n",
    "\n",
    "from spe.estimators import kfoldcv, kmeanscv, cp_arbitrary, simple_train_test_split\n",
    "from spe.relaxed_lasso import RelaxedLasso\n",
    "from spe.cov_estimation import est_Sigma"
   ]
  },
  {
   "cell_type": "code",
   "execution_count": 2,
   "metadata": {},
   "outputs": [],
   "source": [
    "np.random.seed(1)"
   ]
  },
  {
   "cell_type": "code",
   "execution_count": 3,
   "metadata": {},
   "outputs": [],
   "source": [
    "nv_df = pd.read_csv('../datasets/NV_SMU_wells_shared_kevin_prep_Nov6.csv')\n",
    "# nm_df = pd.read_csv('../datasets/NM_SMU_wells_shared_kevin_prep_Nov6.csv')"
   ]
  },
  {
   "cell_type": "code",
   "execution_count": 4,
   "metadata": {},
   "outputs": [
    {
     "data": {
      "text/html": [
       "<div>\n",
       "<style scoped>\n",
       "    .dataframe tbody tr th:only-of-type {\n",
       "        vertical-align: middle;\n",
       "    }\n",
       "\n",
       "    .dataframe tbody tr th {\n",
       "        vertical-align: top;\n",
       "    }\n",
       "\n",
       "    .dataframe thead th {\n",
       "        text-align: right;\n",
       "    }\n",
       "</style>\n",
       "<table border=\"1\" class=\"dataframe\">\n",
       "  <thead>\n",
       "    <tr style=\"text-align: right;\">\n",
       "      <th></th>\n",
       "      <th>OBJECTID</th>\n",
       "      <th>Temp_C</th>\n",
       "      <th>Depth_m</th>\n",
       "      <th>GeothermGrad</th>\n",
       "      <th>X_83UTM11_round</th>\n",
       "      <th>Y_83UTM11_round</th>\n",
       "      <th>row</th>\n",
       "      <th>column</th>\n",
       "      <th>id_rc</th>\n",
       "      <th>X_83UTM11</th>\n",
       "      <th>...</th>\n",
       "      <th>Hillshade-100m</th>\n",
       "      <th>DEM-30m</th>\n",
       "      <th>Fairway</th>\n",
       "      <th>Domain</th>\n",
       "      <th>T37</th>\n",
       "      <th>QuaternaryFaultDistance</th>\n",
       "      <th>Local-StructuralSetting</th>\n",
       "      <th>Local-QuaternaryFaultRecency</th>\n",
       "      <th>Local-QuaternaryFaultSlipDilation</th>\n",
       "      <th>Local-QuaternaryFaultSlipRate</th>\n",
       "    </tr>\n",
       "  </thead>\n",
       "  <tbody>\n",
       "    <tr>\n",
       "      <th>0</th>\n",
       "      <td>1</td>\n",
       "      <td>115.56</td>\n",
       "      <td>30.5</td>\n",
       "      <td>3645.0</td>\n",
       "      <td>296000.0</td>\n",
       "      <td>4475000.0</td>\n",
       "      <td>864.0</td>\n",
       "      <td>37.0</td>\n",
       "      <td>R865C38</td>\n",
       "      <td>295577.690182</td>\n",
       "      <td>...</td>\n",
       "      <td>181</td>\n",
       "      <td>1233</td>\n",
       "      <td>43.512299</td>\n",
       "      <td>3</td>\n",
       "      <td>12</td>\n",
       "      <td>-0.866128</td>\n",
       "      <td>0.730942</td>\n",
       "      <td>0.913039</td>\n",
       "      <td>-0.103709</td>\n",
       "      <td>0.834592</td>\n",
       "    </tr>\n",
       "    <tr>\n",
       "      <th>1</th>\n",
       "      <td>2</td>\n",
       "      <td>115.56</td>\n",
       "      <td>30.5</td>\n",
       "      <td>3645.0</td>\n",
       "      <td>296000.0</td>\n",
       "      <td>4475000.0</td>\n",
       "      <td>864.0</td>\n",
       "      <td>37.0</td>\n",
       "      <td>R865C38</td>\n",
       "      <td>295577.690182</td>\n",
       "      <td>...</td>\n",
       "      <td>181</td>\n",
       "      <td>1233</td>\n",
       "      <td>43.512299</td>\n",
       "      <td>3</td>\n",
       "      <td>12</td>\n",
       "      <td>-0.866128</td>\n",
       "      <td>0.730942</td>\n",
       "      <td>0.913039</td>\n",
       "      <td>-0.103709</td>\n",
       "      <td>0.834592</td>\n",
       "    </tr>\n",
       "    <tr>\n",
       "      <th>2</th>\n",
       "      <td>119</td>\n",
       "      <td>63.79</td>\n",
       "      <td>64.0</td>\n",
       "      <td>984.4</td>\n",
       "      <td>296000.0</td>\n",
       "      <td>4475000.0</td>\n",
       "      <td>864.0</td>\n",
       "      <td>37.0</td>\n",
       "      <td>R865C38</td>\n",
       "      <td>295577.690182</td>\n",
       "      <td>...</td>\n",
       "      <td>181</td>\n",
       "      <td>1233</td>\n",
       "      <td>43.512299</td>\n",
       "      <td>3</td>\n",
       "      <td>12</td>\n",
       "      <td>-0.866128</td>\n",
       "      <td>0.730942</td>\n",
       "      <td>0.913039</td>\n",
       "      <td>-0.103709</td>\n",
       "      <td>0.834592</td>\n",
       "    </tr>\n",
       "    <tr>\n",
       "      <th>3</th>\n",
       "      <td>120</td>\n",
       "      <td>63.79</td>\n",
       "      <td>64.0</td>\n",
       "      <td>984.4</td>\n",
       "      <td>296000.0</td>\n",
       "      <td>4475000.0</td>\n",
       "      <td>864.0</td>\n",
       "      <td>37.0</td>\n",
       "      <td>R865C38</td>\n",
       "      <td>295577.690182</td>\n",
       "      <td>...</td>\n",
       "      <td>181</td>\n",
       "      <td>1233</td>\n",
       "      <td>43.512299</td>\n",
       "      <td>3</td>\n",
       "      <td>12</td>\n",
       "      <td>-0.866128</td>\n",
       "      <td>0.730942</td>\n",
       "      <td>0.913039</td>\n",
       "      <td>-0.103709</td>\n",
       "      <td>0.834592</td>\n",
       "    </tr>\n",
       "    <tr>\n",
       "      <th>4</th>\n",
       "      <td>123</td>\n",
       "      <td>67.09</td>\n",
       "      <td>54.9</td>\n",
       "      <td>950.9</td>\n",
       "      <td>296000.0</td>\n",
       "      <td>4475000.0</td>\n",
       "      <td>864.0</td>\n",
       "      <td>37.0</td>\n",
       "      <td>R865C38</td>\n",
       "      <td>295577.690182</td>\n",
       "      <td>...</td>\n",
       "      <td>181</td>\n",
       "      <td>1233</td>\n",
       "      <td>43.512299</td>\n",
       "      <td>3</td>\n",
       "      <td>12</td>\n",
       "      <td>-0.866128</td>\n",
       "      <td>0.730942</td>\n",
       "      <td>0.913039</td>\n",
       "      <td>-0.103709</td>\n",
       "      <td>0.834592</td>\n",
       "    </tr>\n",
       "    <tr>\n",
       "      <th>...</th>\n",
       "      <td>...</td>\n",
       "      <td>...</td>\n",
       "      <td>...</td>\n",
       "      <td>...</td>\n",
       "      <td>...</td>\n",
       "      <td>...</td>\n",
       "      <td>...</td>\n",
       "      <td>...</td>\n",
       "      <td>...</td>\n",
       "      <td>...</td>\n",
       "      <td>...</td>\n",
       "      <td>...</td>\n",
       "      <td>...</td>\n",
       "      <td>...</td>\n",
       "      <td>...</td>\n",
       "      <td>...</td>\n",
       "      <td>...</td>\n",
       "      <td>...</td>\n",
       "      <td>...</td>\n",
       "      <td>...</td>\n",
       "      <td>...</td>\n",
       "    </tr>\n",
       "    <tr>\n",
       "      <th>3321</th>\n",
       "      <td>4818</td>\n",
       "      <td>15.80</td>\n",
       "      <td>108.8</td>\n",
       "      <td>24.8</td>\n",
       "      <td>293000.0</td>\n",
       "      <td>4497000.0</td>\n",
       "      <td>952.0</td>\n",
       "      <td>25.0</td>\n",
       "      <td>R953C26</td>\n",
       "      <td>292577.690182</td>\n",
       "      <td>...</td>\n",
       "      <td>179</td>\n",
       "      <td>1195</td>\n",
       "      <td>41.517601</td>\n",
       "      <td>0</td>\n",
       "      <td>12</td>\n",
       "      <td>2.386731</td>\n",
       "      <td>0.907021</td>\n",
       "      <td>0.641172</td>\n",
       "      <td>0.957744</td>\n",
       "      <td>0.713252</td>\n",
       "    </tr>\n",
       "    <tr>\n",
       "      <th>3322</th>\n",
       "      <td>4821</td>\n",
       "      <td>0.00</td>\n",
       "      <td>350.0</td>\n",
       "      <td>24.6</td>\n",
       "      <td>680000.0</td>\n",
       "      <td>4326000.0</td>\n",
       "      <td>268.0</td>\n",
       "      <td>1573.0</td>\n",
       "      <td>R269C1574</td>\n",
       "      <td>679577.690182</td>\n",
       "      <td>...</td>\n",
       "      <td>198</td>\n",
       "      <td>2654</td>\n",
       "      <td>38.367802</td>\n",
       "      <td>4</td>\n",
       "      <td>12</td>\n",
       "      <td>0.124746</td>\n",
       "      <td>-0.521456</td>\n",
       "      <td>-0.566835</td>\n",
       "      <td>-0.398600</td>\n",
       "      <td>-0.574790</td>\n",
       "    </tr>\n",
       "    <tr>\n",
       "      <th>3323</th>\n",
       "      <td>4822</td>\n",
       "      <td>0.00</td>\n",
       "      <td>350.0</td>\n",
       "      <td>24.6</td>\n",
       "      <td>680000.0</td>\n",
       "      <td>4326000.0</td>\n",
       "      <td>268.0</td>\n",
       "      <td>1573.0</td>\n",
       "      <td>R269C1574</td>\n",
       "      <td>679577.690182</td>\n",
       "      <td>...</td>\n",
       "      <td>198</td>\n",
       "      <td>2654</td>\n",
       "      <td>38.367802</td>\n",
       "      <td>4</td>\n",
       "      <td>12</td>\n",
       "      <td>0.124746</td>\n",
       "      <td>-0.521456</td>\n",
       "      <td>-0.566835</td>\n",
       "      <td>-0.398600</td>\n",
       "      <td>-0.574790</td>\n",
       "    </tr>\n",
       "    <tr>\n",
       "      <th>3324</th>\n",
       "      <td>4823</td>\n",
       "      <td>11.20</td>\n",
       "      <td>85.0</td>\n",
       "      <td>24.6</td>\n",
       "      <td>455000.0</td>\n",
       "      <td>4490000.0</td>\n",
       "      <td>924.0</td>\n",
       "      <td>673.0</td>\n",
       "      <td>R925C674</td>\n",
       "      <td>454577.690182</td>\n",
       "      <td>...</td>\n",
       "      <td>191</td>\n",
       "      <td>1713</td>\n",
       "      <td>48.116501</td>\n",
       "      <td>2</td>\n",
       "      <td>12</td>\n",
       "      <td>-0.469778</td>\n",
       "      <td>2.381751</td>\n",
       "      <td>4.019012</td>\n",
       "      <td>0.525528</td>\n",
       "      <td>1.601224</td>\n",
       "    </tr>\n",
       "    <tr>\n",
       "      <th>3325</th>\n",
       "      <td>4824</td>\n",
       "      <td>11.20</td>\n",
       "      <td>85.0</td>\n",
       "      <td>24.6</td>\n",
       "      <td>455000.0</td>\n",
       "      <td>4490000.0</td>\n",
       "      <td>924.0</td>\n",
       "      <td>673.0</td>\n",
       "      <td>R925C674</td>\n",
       "      <td>454577.690182</td>\n",
       "      <td>...</td>\n",
       "      <td>191</td>\n",
       "      <td>1713</td>\n",
       "      <td>48.116501</td>\n",
       "      <td>2</td>\n",
       "      <td>12</td>\n",
       "      <td>-0.469778</td>\n",
       "      <td>2.381751</td>\n",
       "      <td>4.019012</td>\n",
       "      <td>0.525528</td>\n",
       "      <td>1.601224</td>\n",
       "    </tr>\n",
       "  </tbody>\n",
       "</table>\n",
       "<p>3326 rows × 63 columns</p>\n",
       "</div>"
      ],
      "text/plain": [
       "      OBJECTID  Temp_C  Depth_m  GeothermGrad  X_83UTM11_round  \\\n",
       "0            1  115.56     30.5        3645.0         296000.0   \n",
       "1            2  115.56     30.5        3645.0         296000.0   \n",
       "2          119   63.79     64.0         984.4         296000.0   \n",
       "3          120   63.79     64.0         984.4         296000.0   \n",
       "4          123   67.09     54.9         950.9         296000.0   \n",
       "...        ...     ...      ...           ...              ...   \n",
       "3321      4818   15.80    108.8          24.8         293000.0   \n",
       "3322      4821    0.00    350.0          24.6         680000.0   \n",
       "3323      4822    0.00    350.0          24.6         680000.0   \n",
       "3324      4823   11.20     85.0          24.6         455000.0   \n",
       "3325      4824   11.20     85.0          24.6         455000.0   \n",
       "\n",
       "      Y_83UTM11_round    row  column      id_rc      X_83UTM11  ...  \\\n",
       "0           4475000.0  864.0    37.0    R865C38  295577.690182  ...   \n",
       "1           4475000.0  864.0    37.0    R865C38  295577.690182  ...   \n",
       "2           4475000.0  864.0    37.0    R865C38  295577.690182  ...   \n",
       "3           4475000.0  864.0    37.0    R865C38  295577.690182  ...   \n",
       "4           4475000.0  864.0    37.0    R865C38  295577.690182  ...   \n",
       "...               ...    ...     ...        ...            ...  ...   \n",
       "3321        4497000.0  952.0    25.0    R953C26  292577.690182  ...   \n",
       "3322        4326000.0  268.0  1573.0  R269C1574  679577.690182  ...   \n",
       "3323        4326000.0  268.0  1573.0  R269C1574  679577.690182  ...   \n",
       "3324        4490000.0  924.0   673.0   R925C674  454577.690182  ...   \n",
       "3325        4490000.0  924.0   673.0   R925C674  454577.690182  ...   \n",
       "\n",
       "      Hillshade-100m DEM-30m    Fairway  Domain  T37  QuaternaryFaultDistance  \\\n",
       "0                181    1233  43.512299       3   12                -0.866128   \n",
       "1                181    1233  43.512299       3   12                -0.866128   \n",
       "2                181    1233  43.512299       3   12                -0.866128   \n",
       "3                181    1233  43.512299       3   12                -0.866128   \n",
       "4                181    1233  43.512299       3   12                -0.866128   \n",
       "...              ...     ...        ...     ...  ...                      ...   \n",
       "3321             179    1195  41.517601       0   12                 2.386731   \n",
       "3322             198    2654  38.367802       4   12                 0.124746   \n",
       "3323             198    2654  38.367802       4   12                 0.124746   \n",
       "3324             191    1713  48.116501       2   12                -0.469778   \n",
       "3325             191    1713  48.116501       2   12                -0.469778   \n",
       "\n",
       "      Local-StructuralSetting  Local-QuaternaryFaultRecency  \\\n",
       "0                    0.730942                      0.913039   \n",
       "1                    0.730942                      0.913039   \n",
       "2                    0.730942                      0.913039   \n",
       "3                    0.730942                      0.913039   \n",
       "4                    0.730942                      0.913039   \n",
       "...                       ...                           ...   \n",
       "3321                 0.907021                      0.641172   \n",
       "3322                -0.521456                     -0.566835   \n",
       "3323                -0.521456                     -0.566835   \n",
       "3324                 2.381751                      4.019012   \n",
       "3325                 2.381751                      4.019012   \n",
       "\n",
       "      Local-QuaternaryFaultSlipDilation  Local-QuaternaryFaultSlipRate  \n",
       "0                             -0.103709                       0.834592  \n",
       "1                             -0.103709                       0.834592  \n",
       "2                             -0.103709                       0.834592  \n",
       "3                             -0.103709                       0.834592  \n",
       "4                             -0.103709                       0.834592  \n",
       "...                                 ...                            ...  \n",
       "3321                           0.957744                       0.713252  \n",
       "3322                          -0.398600                      -0.574790  \n",
       "3323                          -0.398600                      -0.574790  \n",
       "3324                           0.525528                       1.601224  \n",
       "3325                           0.525528                       1.601224  \n",
       "\n",
       "[3326 rows x 63 columns]"
      ]
     },
     "execution_count": 4,
     "metadata": {},
     "output_type": "execute_result"
    }
   ],
   "source": [
    "nv_df"
   ]
  },
  {
   "cell_type": "code",
   "execution_count": 5,
   "metadata": {},
   "outputs": [
    {
     "data": {
      "text/plain": [
       "Index(['OBJECTID', 'Temp_C', 'Depth_m', 'GeothermGrad', 'X_83UTM11_round',\n",
       "       'Y_83UTM11_round', 'row', 'column', 'id_rc', 'X_83UTM11', 'Y_83UTM11',\n",
       "       'NullInfo', 'TrainCodeNeg', 'TrainCodePos', 'TrainCodePosT130',\n",
       "       'PosSite130_Id', 'PosSite130_Distance', 'PosSite_Id',\n",
       "       'PosSite_Distance', 'NegSite_Id', 'NegSite_Distance',\n",
       "       'Local_polygon_Id', 'Local_polygon_overlap_Id', 'QuaternaryFaultTraces',\n",
       "       'GeodeticStrainRate', 'QuaternarySlipRate', 'FaultRecency',\n",
       "       'FaultSlipDilationTendency2', 'Earthquakes', 'HorizGravityGradient2',\n",
       "       'HorizMagneticGradient2', 'GravityDensity', 'MagneticDensity',\n",
       "       'Heatflow', 'GeochemistryTemperature2', 'Tufa_Distance',\n",
       "       'Travertine_Distance', 'Silica_Distance', 'TufaOrTravertine_Distance',\n",
       "       'FavorableStructuralSettings_Distance', 'Local-StructuralSetting_Error',\n",
       "       'Local-QuaternaryFaultRecency_Error',\n",
       "       'Local-QuaternaryFaultSlipDilation_Error',\n",
       "       'Local-QuaternaryFaultSlipRate_Error', 'QuaternaryFaultTraces_Error',\n",
       "       'HorizGravityGradient_Error', 'GeodeticStrainRate_Error',\n",
       "       'QuaternarySlipRate_Error', 'FaultRecency_Error', 'Earthquakes_Error',\n",
       "       'Heatflow_Error', 'HorizGravityGradient2_Confidence',\n",
       "       'HorizMagneticGradient2_Confidence', 'Hillshade-100m', 'DEM-30m',\n",
       "       'Fairway', 'Domain', 'T37', 'QuaternaryFaultDistance',\n",
       "       'Local-StructuralSetting', 'Local-QuaternaryFaultRecency',\n",
       "       'Local-QuaternaryFaultSlipDilation', 'Local-QuaternaryFaultSlipRate'],\n",
       "      dtype='object')"
      ]
     },
     "execution_count": 5,
     "metadata": {},
     "output_type": "execute_result"
    }
   ],
   "source": [
    "nv_df.columns"
   ]
  },
  {
   "cell_type": "code",
   "execution_count": 6,
   "metadata": {},
   "outputs": [],
   "source": [
    "feature_cols = [\n",
    "    'Depth_m',\n",
    "    'GeothermGrad',\n",
    "    'QuaternaryFaultTraces',\n",
    "    'GeodeticStrainRate',\n",
    "    'QuaternarySlipRate',\n",
    "    'FaultRecency',\n",
    "    'FaultSlipDilationTendency2',\n",
    "    'Earthquakes',\n",
    "    'HorizGravityGradient2',\n",
    "    'HorizMagneticGradient2',\n",
    "    'GravityDensity',\n",
    "    'MagneticDensity',\n",
    "    'Heatflow',\n",
    "    'Tufa_Distance',\n",
    "    'Travertine_Distance',\n",
    "    'Silica_Distance',\n",
    "    'FavorableStructuralSettings_Distance',\n",
    "    'QuaternaryFaultDistance',\n",
    "]\n",
    "y_cols = 'Temp_C'\n",
    "loc_cols = ['X_83UTM11_round', 'Y_83UTM11_round']"
   ]
  },
  {
   "cell_type": "code",
   "execution_count": 7,
   "metadata": {},
   "outputs": [],
   "source": [
    "non_nan_nv_df = nv_df[feature_cols+[y_cols]+loc_cols].dropna(axis=0)"
   ]
  },
  {
   "cell_type": "code",
   "execution_count": 8,
   "metadata": {},
   "outputs": [],
   "source": [
    "non_nan_nv_df = non_nan_nv_df.drop_duplicates()"
   ]
  },
  {
   "cell_type": "code",
   "execution_count": 9,
   "metadata": {},
   "outputs": [
    {
     "data": {
      "text/plain": [
       "Depth_m                                 0.0\n",
       "GeothermGrad                            0.0\n",
       "QuaternaryFaultTraces                   0.0\n",
       "GeodeticStrainRate                      0.0\n",
       "QuaternarySlipRate                      0.0\n",
       "FaultRecency                            0.0\n",
       "FaultSlipDilationTendency2              0.0\n",
       "Earthquakes                             0.0\n",
       "HorizGravityGradient2                   0.0\n",
       "HorizMagneticGradient2                  0.0\n",
       "GravityDensity                          0.0\n",
       "MagneticDensity                         0.0\n",
       "Heatflow                                0.0\n",
       "Tufa_Distance                           0.0\n",
       "Travertine_Distance                     0.0\n",
       "Silica_Distance                         0.0\n",
       "FavorableStructuralSettings_Distance    0.0\n",
       "QuaternaryFaultDistance                 0.0\n",
       "Temp_C                                  0.0\n",
       "X_83UTM11_round                         0.0\n",
       "Y_83UTM11_round                         0.0\n",
       "dtype: float64"
      ]
     },
     "execution_count": 9,
     "metadata": {},
     "output_type": "execute_result"
    }
   ],
   "source": [
    "non_nan_nv_df.isna().mean()"
   ]
  },
  {
   "cell_type": "code",
   "execution_count": 10,
   "metadata": {},
   "outputs": [],
   "source": [
    "locs = non_nan_nv_df[loc_cols]\n",
    "y = non_nan_nv_df[y_cols]\n",
    "X = non_nan_nv_df[feature_cols]"
   ]
  },
  {
   "cell_type": "code",
   "execution_count": 11,
   "metadata": {},
   "outputs": [
    {
     "data": {
      "text/plain": [
       "(1502, 18)"
      ]
     },
     "execution_count": 11,
     "metadata": {},
     "output_type": "execute_result"
    }
   ],
   "source": [
    "X.shape"
   ]
  },
  {
   "cell_type": "code",
   "execution_count": 12,
   "metadata": {},
   "outputs": [
    {
     "data": {
      "text/html": [
       "<div>\n",
       "<style scoped>\n",
       "    .dataframe tbody tr th:only-of-type {\n",
       "        vertical-align: middle;\n",
       "    }\n",
       "\n",
       "    .dataframe tbody tr th {\n",
       "        vertical-align: top;\n",
       "    }\n",
       "\n",
       "    .dataframe thead th {\n",
       "        text-align: right;\n",
       "    }\n",
       "</style>\n",
       "<table border=\"1\" class=\"dataframe\">\n",
       "  <thead>\n",
       "    <tr style=\"text-align: right;\">\n",
       "      <th></th>\n",
       "      <th>Depth_m</th>\n",
       "      <th>GeothermGrad</th>\n",
       "      <th>QuaternaryFaultTraces</th>\n",
       "      <th>GeodeticStrainRate</th>\n",
       "      <th>QuaternarySlipRate</th>\n",
       "      <th>FaultRecency</th>\n",
       "      <th>FaultSlipDilationTendency2</th>\n",
       "      <th>Earthquakes</th>\n",
       "      <th>HorizGravityGradient2</th>\n",
       "      <th>HorizMagneticGradient2</th>\n",
       "      <th>GravityDensity</th>\n",
       "      <th>MagneticDensity</th>\n",
       "      <th>Heatflow</th>\n",
       "      <th>Tufa_Distance</th>\n",
       "      <th>Travertine_Distance</th>\n",
       "      <th>Silica_Distance</th>\n",
       "      <th>FavorableStructuralSettings_Distance</th>\n",
       "      <th>QuaternaryFaultDistance</th>\n",
       "    </tr>\n",
       "  </thead>\n",
       "  <tbody>\n",
       "    <tr>\n",
       "      <th>0</th>\n",
       "      <td>30.500000</td>\n",
       "      <td>3645.00</td>\n",
       "      <td>0</td>\n",
       "      <td>1.405800</td>\n",
       "      <td>-2.67835</td>\n",
       "      <td>1.64040</td>\n",
       "      <td>0.848943</td>\n",
       "      <td>2.15987</td>\n",
       "      <td>0.005064</td>\n",
       "      <td>0.000012</td>\n",
       "      <td>2</td>\n",
       "      <td>8</td>\n",
       "      <td>87.680901</td>\n",
       "      <td>28851.413871</td>\n",
       "      <td>48392.998068</td>\n",
       "      <td>714.858718</td>\n",
       "      <td>3740.632974</td>\n",
       "      <td>-0.866128</td>\n",
       "    </tr>\n",
       "    <tr>\n",
       "      <th>2</th>\n",
       "      <td>64.000000</td>\n",
       "      <td>984.40</td>\n",
       "      <td>0</td>\n",
       "      <td>1.405800</td>\n",
       "      <td>-2.67835</td>\n",
       "      <td>1.64040</td>\n",
       "      <td>0.848943</td>\n",
       "      <td>2.15987</td>\n",
       "      <td>0.005064</td>\n",
       "      <td>0.000012</td>\n",
       "      <td>2</td>\n",
       "      <td>8</td>\n",
       "      <td>87.680901</td>\n",
       "      <td>28851.413871</td>\n",
       "      <td>48392.998068</td>\n",
       "      <td>714.858718</td>\n",
       "      <td>3740.632974</td>\n",
       "      <td>-0.866128</td>\n",
       "    </tr>\n",
       "    <tr>\n",
       "      <th>4</th>\n",
       "      <td>54.900000</td>\n",
       "      <td>950.90</td>\n",
       "      <td>0</td>\n",
       "      <td>1.405800</td>\n",
       "      <td>-2.67835</td>\n",
       "      <td>1.64040</td>\n",
       "      <td>0.848943</td>\n",
       "      <td>2.15987</td>\n",
       "      <td>0.005064</td>\n",
       "      <td>0.000012</td>\n",
       "      <td>2</td>\n",
       "      <td>8</td>\n",
       "      <td>87.680901</td>\n",
       "      <td>28851.413871</td>\n",
       "      <td>48392.998068</td>\n",
       "      <td>714.858718</td>\n",
       "      <td>3740.632974</td>\n",
       "      <td>-0.866128</td>\n",
       "    </tr>\n",
       "    <tr>\n",
       "      <th>6</th>\n",
       "      <td>44.500000</td>\n",
       "      <td>299.00</td>\n",
       "      <td>0</td>\n",
       "      <td>1.405800</td>\n",
       "      <td>-2.67835</td>\n",
       "      <td>1.64040</td>\n",
       "      <td>0.848943</td>\n",
       "      <td>2.15987</td>\n",
       "      <td>0.005064</td>\n",
       "      <td>0.000012</td>\n",
       "      <td>2</td>\n",
       "      <td>8</td>\n",
       "      <td>87.680901</td>\n",
       "      <td>28851.413871</td>\n",
       "      <td>48392.998068</td>\n",
       "      <td>714.858718</td>\n",
       "      <td>3740.632974</td>\n",
       "      <td>-0.866128</td>\n",
       "    </tr>\n",
       "    <tr>\n",
       "      <th>8</th>\n",
       "      <td>40.000000</td>\n",
       "      <td>3276.00</td>\n",
       "      <td>0</td>\n",
       "      <td>1.704770</td>\n",
       "      <td>-2.50468</td>\n",
       "      <td>1.31850</td>\n",
       "      <td>0.811184</td>\n",
       "      <td>2.18327</td>\n",
       "      <td>0.004109</td>\n",
       "      <td>0.000015</td>\n",
       "      <td>3</td>\n",
       "      <td>4</td>\n",
       "      <td>112.112999</td>\n",
       "      <td>18981.165796</td>\n",
       "      <td>55655.403494</td>\n",
       "      <td>2079.146084</td>\n",
       "      <td>4759.969447</td>\n",
       "      <td>-0.965216</td>\n",
       "    </tr>\n",
       "    <tr>\n",
       "      <th>...</th>\n",
       "      <td>...</td>\n",
       "      <td>...</td>\n",
       "      <td>...</td>\n",
       "      <td>...</td>\n",
       "      <td>...</td>\n",
       "      <td>...</td>\n",
       "      <td>...</td>\n",
       "      <td>...</td>\n",
       "      <td>...</td>\n",
       "      <td>...</td>\n",
       "      <td>...</td>\n",
       "      <td>...</td>\n",
       "      <td>...</td>\n",
       "      <td>...</td>\n",
       "      <td>...</td>\n",
       "      <td>...</td>\n",
       "      <td>...</td>\n",
       "      <td>...</td>\n",
       "    </tr>\n",
       "    <tr>\n",
       "      <th>3313</th>\n",
       "      <td>103.658537</td>\n",
       "      <td>25.48</td>\n",
       "      <td>0</td>\n",
       "      <td>1.236560</td>\n",
       "      <td>-2.16702</td>\n",
       "      <td>2.07204</td>\n",
       "      <td>0.730613</td>\n",
       "      <td>1.75967</td>\n",
       "      <td>0.000117</td>\n",
       "      <td>0.000016</td>\n",
       "      <td>30</td>\n",
       "      <td>8</td>\n",
       "      <td>103.337997</td>\n",
       "      <td>25597.370730</td>\n",
       "      <td>25864.297461</td>\n",
       "      <td>25719.772508</td>\n",
       "      <td>2944.482477</td>\n",
       "      <td>0.161341</td>\n",
       "    </tr>\n",
       "    <tr>\n",
       "      <th>3317</th>\n",
       "      <td>30.000000</td>\n",
       "      <td>25.20</td>\n",
       "      <td>1</td>\n",
       "      <td>1.290760</td>\n",
       "      <td>-2.40406</td>\n",
       "      <td>2.33221</td>\n",
       "      <td>0.729968</td>\n",
       "      <td>1.93197</td>\n",
       "      <td>0.003233</td>\n",
       "      <td>0.000011</td>\n",
       "      <td>8</td>\n",
       "      <td>30</td>\n",
       "      <td>83.903900</td>\n",
       "      <td>14604.081515</td>\n",
       "      <td>36589.383774</td>\n",
       "      <td>24774.006808</td>\n",
       "      <td>11119.594912</td>\n",
       "      <td>-1.064303</td>\n",
       "    </tr>\n",
       "    <tr>\n",
       "      <th>3320</th>\n",
       "      <td>108.800000</td>\n",
       "      <td>24.80</td>\n",
       "      <td>0</td>\n",
       "      <td>1.343000</td>\n",
       "      <td>-2.45373</td>\n",
       "      <td>1.57206</td>\n",
       "      <td>0.860139</td>\n",
       "      <td>2.24428</td>\n",
       "      <td>0.004033</td>\n",
       "      <td>0.000034</td>\n",
       "      <td>6</td>\n",
       "      <td>2</td>\n",
       "      <td>74.396004</td>\n",
       "      <td>51020.679897</td>\n",
       "      <td>34537.742087</td>\n",
       "      <td>8914.088404</td>\n",
       "      <td>5056.693849</td>\n",
       "      <td>2.386731</td>\n",
       "    </tr>\n",
       "    <tr>\n",
       "      <th>3322</th>\n",
       "      <td>350.000000</td>\n",
       "      <td>24.60</td>\n",
       "      <td>0</td>\n",
       "      <td>0.462398</td>\n",
       "      <td>-2.72502</td>\n",
       "      <td>2.45524</td>\n",
       "      <td>0.783172</td>\n",
       "      <td>1.42325</td>\n",
       "      <td>0.000988</td>\n",
       "      <td>0.000017</td>\n",
       "      <td>23</td>\n",
       "      <td>8</td>\n",
       "      <td>78.786400</td>\n",
       "      <td>322268.860515</td>\n",
       "      <td>68016.522897</td>\n",
       "      <td>172065.856774</td>\n",
       "      <td>10037.757911</td>\n",
       "      <td>0.124746</td>\n",
       "    </tr>\n",
       "    <tr>\n",
       "      <th>3324</th>\n",
       "      <td>85.000000</td>\n",
       "      <td>24.60</td>\n",
       "      <td>0</td>\n",
       "      <td>1.374350</td>\n",
       "      <td>-1.84191</td>\n",
       "      <td>1.85678</td>\n",
       "      <td>0.776615</td>\n",
       "      <td>1.64836</td>\n",
       "      <td>0.001607</td>\n",
       "      <td>0.000003</td>\n",
       "      <td>29</td>\n",
       "      <td>20</td>\n",
       "      <td>74.607201</td>\n",
       "      <td>85962.466756</td>\n",
       "      <td>22944.375680</td>\n",
       "      <td>10896.855100</td>\n",
       "      <td>1522.267172</td>\n",
       "      <td>-0.469778</td>\n",
       "    </tr>\n",
       "  </tbody>\n",
       "</table>\n",
       "<p>1502 rows × 18 columns</p>\n",
       "</div>"
      ],
      "text/plain": [
       "         Depth_m  GeothermGrad  QuaternaryFaultTraces  GeodeticStrainRate  \\\n",
       "0      30.500000       3645.00                      0            1.405800   \n",
       "2      64.000000        984.40                      0            1.405800   \n",
       "4      54.900000        950.90                      0            1.405800   \n",
       "6      44.500000        299.00                      0            1.405800   \n",
       "8      40.000000       3276.00                      0            1.704770   \n",
       "...          ...           ...                    ...                 ...   \n",
       "3313  103.658537         25.48                      0            1.236560   \n",
       "3317   30.000000         25.20                      1            1.290760   \n",
       "3320  108.800000         24.80                      0            1.343000   \n",
       "3322  350.000000         24.60                      0            0.462398   \n",
       "3324   85.000000         24.60                      0            1.374350   \n",
       "\n",
       "      QuaternarySlipRate  FaultRecency  FaultSlipDilationTendency2  \\\n",
       "0               -2.67835       1.64040                    0.848943   \n",
       "2               -2.67835       1.64040                    0.848943   \n",
       "4               -2.67835       1.64040                    0.848943   \n",
       "6               -2.67835       1.64040                    0.848943   \n",
       "8               -2.50468       1.31850                    0.811184   \n",
       "...                  ...           ...                         ...   \n",
       "3313            -2.16702       2.07204                    0.730613   \n",
       "3317            -2.40406       2.33221                    0.729968   \n",
       "3320            -2.45373       1.57206                    0.860139   \n",
       "3322            -2.72502       2.45524                    0.783172   \n",
       "3324            -1.84191       1.85678                    0.776615   \n",
       "\n",
       "      Earthquakes  HorizGravityGradient2  HorizMagneticGradient2  \\\n",
       "0         2.15987               0.005064                0.000012   \n",
       "2         2.15987               0.005064                0.000012   \n",
       "4         2.15987               0.005064                0.000012   \n",
       "6         2.15987               0.005064                0.000012   \n",
       "8         2.18327               0.004109                0.000015   \n",
       "...           ...                    ...                     ...   \n",
       "3313      1.75967               0.000117                0.000016   \n",
       "3317      1.93197               0.003233                0.000011   \n",
       "3320      2.24428               0.004033                0.000034   \n",
       "3322      1.42325               0.000988                0.000017   \n",
       "3324      1.64836               0.001607                0.000003   \n",
       "\n",
       "      GravityDensity  MagneticDensity    Heatflow  Tufa_Distance  \\\n",
       "0                  2                8   87.680901   28851.413871   \n",
       "2                  2                8   87.680901   28851.413871   \n",
       "4                  2                8   87.680901   28851.413871   \n",
       "6                  2                8   87.680901   28851.413871   \n",
       "8                  3                4  112.112999   18981.165796   \n",
       "...              ...              ...         ...            ...   \n",
       "3313              30                8  103.337997   25597.370730   \n",
       "3317               8               30   83.903900   14604.081515   \n",
       "3320               6                2   74.396004   51020.679897   \n",
       "3322              23                8   78.786400  322268.860515   \n",
       "3324              29               20   74.607201   85962.466756   \n",
       "\n",
       "      Travertine_Distance  Silica_Distance  \\\n",
       "0            48392.998068       714.858718   \n",
       "2            48392.998068       714.858718   \n",
       "4            48392.998068       714.858718   \n",
       "6            48392.998068       714.858718   \n",
       "8            55655.403494      2079.146084   \n",
       "...                   ...              ...   \n",
       "3313         25864.297461     25719.772508   \n",
       "3317         36589.383774     24774.006808   \n",
       "3320         34537.742087      8914.088404   \n",
       "3322         68016.522897    172065.856774   \n",
       "3324         22944.375680     10896.855100   \n",
       "\n",
       "      FavorableStructuralSettings_Distance  QuaternaryFaultDistance  \n",
       "0                              3740.632974                -0.866128  \n",
       "2                              3740.632974                -0.866128  \n",
       "4                              3740.632974                -0.866128  \n",
       "6                              3740.632974                -0.866128  \n",
       "8                              4759.969447                -0.965216  \n",
       "...                                    ...                      ...  \n",
       "3313                           2944.482477                 0.161341  \n",
       "3317                          11119.594912                -1.064303  \n",
       "3320                           5056.693849                 2.386731  \n",
       "3322                          10037.757911                 0.124746  \n",
       "3324                           1522.267172                -0.469778  \n",
       "\n",
       "[1502 rows x 18 columns]"
      ]
     },
     "execution_count": 12,
     "metadata": {},
     "output_type": "execute_result"
    }
   ],
   "source": [
    "X"
   ]
  },
  {
   "cell_type": "code",
   "execution_count": 13,
   "metadata": {},
   "outputs": [
    {
     "data": {
      "application/vnd.plotly.v1+json": {
       "config": {
        "plotlyServerURL": "https://plot.ly"
       },
       "data": [
        {
         "hovertemplate": "X_83UTM11_round=%{x}<br>Y_83UTM11_round=%{y}<extra></extra>",
         "legendgroup": "",
         "marker": {
          "color": "#636efa",
          "symbol": "circle"
         },
         "mode": "markers",
         "name": "",
         "showlegend": false,
         "type": "scattergl",
         "x": {
          "bdata": "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",
          "dtype": "f8"
         },
         "xaxis": "x",
         "y": {
          "bdata": "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",
          "dtype": "f8"
         },
         "yaxis": "y"
        }
       ],
       "layout": {
        "height": 800,
        "legend": {
         "tracegroupgap": 0
        },
        "margin": {
         "t": 60
        },
        "template": {
         "data": {
          "bar": [
           {
            "error_x": {
             "color": "#2a3f5f"
            },
            "error_y": {
             "color": "#2a3f5f"
            },
            "marker": {
             "line": {
              "color": "#E5ECF6",
              "width": 0.5
             },
             "pattern": {
              "fillmode": "overlay",
              "size": 10,
              "solidity": 0.2
             }
            },
            "type": "bar"
           }
          ],
          "barpolar": [
           {
            "marker": {
             "line": {
              "color": "#E5ECF6",
              "width": 0.5
             },
             "pattern": {
              "fillmode": "overlay",
              "size": 10,
              "solidity": 0.2
             }
            },
            "type": "barpolar"
           }
          ],
          "carpet": [
           {
            "aaxis": {
             "endlinecolor": "#2a3f5f",
             "gridcolor": "white",
             "linecolor": "white",
             "minorgridcolor": "white",
             "startlinecolor": "#2a3f5f"
            },
            "baxis": {
             "endlinecolor": "#2a3f5f",
             "gridcolor": "white",
             "linecolor": "white",
             "minorgridcolor": "white",
             "startlinecolor": "#2a3f5f"
            },
            "type": "carpet"
           }
          ],
          "choropleth": [
           {
            "colorbar": {
             "outlinewidth": 0,
             "ticks": ""
            },
            "type": "choropleth"
           }
          ],
          "contour": [
           {
            "colorbar": {
             "outlinewidth": 0,
             "ticks": ""
            },
            "colorscale": [
             [
              0,
              "#0d0887"
             ],
             [
              0.1111111111111111,
              "#46039f"
             ],
             [
              0.2222222222222222,
              "#7201a8"
             ],
             [
              0.3333333333333333,
              "#9c179e"
             ],
             [
              0.4444444444444444,
              "#bd3786"
             ],
             [
              0.5555555555555556,
              "#d8576b"
             ],
             [
              0.6666666666666666,
              "#ed7953"
             ],
             [
              0.7777777777777778,
              "#fb9f3a"
             ],
             [
              0.8888888888888888,
              "#fdca26"
             ],
             [
              1,
              "#f0f921"
             ]
            ],
            "type": "contour"
           }
          ],
          "contourcarpet": [
           {
            "colorbar": {
             "outlinewidth": 0,
             "ticks": ""
            },
            "type": "contourcarpet"
           }
          ],
          "heatmap": [
           {
            "colorbar": {
             "outlinewidth": 0,
             "ticks": ""
            },
            "colorscale": [
             [
              0,
              "#0d0887"
             ],
             [
              0.1111111111111111,
              "#46039f"
             ],
             [
              0.2222222222222222,
              "#7201a8"
             ],
             [
              0.3333333333333333,
              "#9c179e"
             ],
             [
              0.4444444444444444,
              "#bd3786"
             ],
             [
              0.5555555555555556,
              "#d8576b"
             ],
             [
              0.6666666666666666,
              "#ed7953"
             ],
             [
              0.7777777777777778,
              "#fb9f3a"
             ],
             [
              0.8888888888888888,
              "#fdca26"
             ],
             [
              1,
              "#f0f921"
             ]
            ],
            "type": "heatmap"
           }
          ],
          "histogram": [
           {
            "marker": {
             "pattern": {
              "fillmode": "overlay",
              "size": 10,
              "solidity": 0.2
             }
            },
            "type": "histogram"
           }
          ],
          "histogram2d": [
           {
            "colorbar": {
             "outlinewidth": 0,
             "ticks": ""
            },
            "colorscale": [
             [
              0,
              "#0d0887"
             ],
             [
              0.1111111111111111,
              "#46039f"
             ],
             [
              0.2222222222222222,
              "#7201a8"
             ],
             [
              0.3333333333333333,
              "#9c179e"
             ],
             [
              0.4444444444444444,
              "#bd3786"
             ],
             [
              0.5555555555555556,
              "#d8576b"
             ],
             [
              0.6666666666666666,
              "#ed7953"
             ],
             [
              0.7777777777777778,
              "#fb9f3a"
             ],
             [
              0.8888888888888888,
              "#fdca26"
             ],
             [
              1,
              "#f0f921"
             ]
            ],
            "type": "histogram2d"
           }
          ],
          "histogram2dcontour": [
           {
            "colorbar": {
             "outlinewidth": 0,
             "ticks": ""
            },
            "colorscale": [
             [
              0,
              "#0d0887"
             ],
             [
              0.1111111111111111,
              "#46039f"
             ],
             [
              0.2222222222222222,
              "#7201a8"
             ],
             [
              0.3333333333333333,
              "#9c179e"
             ],
             [
              0.4444444444444444,
              "#bd3786"
             ],
             [
              0.5555555555555556,
              "#d8576b"
             ],
             [
              0.6666666666666666,
              "#ed7953"
             ],
             [
              0.7777777777777778,
              "#fb9f3a"
             ],
             [
              0.8888888888888888,
              "#fdca26"
             ],
             [
              1,
              "#f0f921"
             ]
            ],
            "type": "histogram2dcontour"
           }
          ],
          "mesh3d": [
           {
            "colorbar": {
             "outlinewidth": 0,
             "ticks": ""
            },
            "type": "mesh3d"
           }
          ],
          "parcoords": [
           {
            "line": {
             "colorbar": {
              "outlinewidth": 0,
              "ticks": ""
             }
            },
            "type": "parcoords"
           }
          ],
          "pie": [
           {
            "automargin": true,
            "type": "pie"
           }
          ],
          "scatter": [
           {
            "fillpattern": {
             "fillmode": "overlay",
             "size": 10,
             "solidity": 0.2
            },
            "type": "scatter"
           }
          ],
          "scatter3d": [
           {
            "line": {
             "colorbar": {
              "outlinewidth": 0,
              "ticks": ""
             }
            },
            "marker": {
             "colorbar": {
              "outlinewidth": 0,
              "ticks": ""
             }
            },
            "type": "scatter3d"
           }
          ],
          "scattercarpet": [
           {
            "marker": {
             "colorbar": {
              "outlinewidth": 0,
              "ticks": ""
             }
            },
            "type": "scattercarpet"
           }
          ],
          "scattergeo": [
           {
            "marker": {
             "colorbar": {
              "outlinewidth": 0,
              "ticks": ""
             }
            },
            "type": "scattergeo"
           }
          ],
          "scattergl": [
           {
            "marker": {
             "colorbar": {
              "outlinewidth": 0,
              "ticks": ""
             }
            },
            "type": "scattergl"
           }
          ],
          "scattermap": [
           {
            "marker": {
             "colorbar": {
              "outlinewidth": 0,
              "ticks": ""
             }
            },
            "type": "scattermap"
           }
          ],
          "scattermapbox": [
           {
            "marker": {
             "colorbar": {
              "outlinewidth": 0,
              "ticks": ""
             }
            },
            "type": "scattermapbox"
           }
          ],
          "scatterpolar": [
           {
            "marker": {
             "colorbar": {
              "outlinewidth": 0,
              "ticks": ""
             }
            },
            "type": "scatterpolar"
           }
          ],
          "scatterpolargl": [
           {
            "marker": {
             "colorbar": {
              "outlinewidth": 0,
              "ticks": ""
             }
            },
            "type": "scatterpolargl"
           }
          ],
          "scatterternary": [
           {
            "marker": {
             "colorbar": {
              "outlinewidth": 0,
              "ticks": ""
             }
            },
            "type": "scatterternary"
           }
          ],
          "surface": [
           {
            "colorbar": {
             "outlinewidth": 0,
             "ticks": ""
            },
            "colorscale": [
             [
              0,
              "#0d0887"
             ],
             [
              0.1111111111111111,
              "#46039f"
             ],
             [
              0.2222222222222222,
              "#7201a8"
             ],
             [
              0.3333333333333333,
              "#9c179e"
             ],
             [
              0.4444444444444444,
              "#bd3786"
             ],
             [
              0.5555555555555556,
              "#d8576b"
             ],
             [
              0.6666666666666666,
              "#ed7953"
             ],
             [
              0.7777777777777778,
              "#fb9f3a"
             ],
             [
              0.8888888888888888,
              "#fdca26"
             ],
             [
              1,
              "#f0f921"
             ]
            ],
            "type": "surface"
           }
          ],
          "table": [
           {
            "cells": {
             "fill": {
              "color": "#EBF0F8"
             },
             "line": {
              "color": "white"
             }
            },
            "header": {
             "fill": {
              "color": "#C8D4E3"
             },
             "line": {
              "color": "white"
             }
            },
            "type": "table"
           }
          ]
         },
         "layout": {
          "annotationdefaults": {
           "arrowcolor": "#2a3f5f",
           "arrowhead": 0,
           "arrowwidth": 1
          },
          "autotypenumbers": "strict",
          "coloraxis": {
           "colorbar": {
            "outlinewidth": 0,
            "ticks": ""
           }
          },
          "colorscale": {
           "diverging": [
            [
             0,
             "#8e0152"
            ],
            [
             0.1,
             "#c51b7d"
            ],
            [
             0.2,
             "#de77ae"
            ],
            [
             0.3,
             "#f1b6da"
            ],
            [
             0.4,
             "#fde0ef"
            ],
            [
             0.5,
             "#f7f7f7"
            ],
            [
             0.6,
             "#e6f5d0"
            ],
            [
             0.7,
             "#b8e186"
            ],
            [
             0.8,
             "#7fbc41"
            ],
            [
             0.9,
             "#4d9221"
            ],
            [
             1,
             "#276419"
            ]
           ],
           "sequential": [
            [
             0,
             "#0d0887"
            ],
            [
             0.1111111111111111,
             "#46039f"
            ],
            [
             0.2222222222222222,
             "#7201a8"
            ],
            [
             0.3333333333333333,
             "#9c179e"
            ],
            [
             0.4444444444444444,
             "#bd3786"
            ],
            [
             0.5555555555555556,
             "#d8576b"
            ],
            [
             0.6666666666666666,
             "#ed7953"
            ],
            [
             0.7777777777777778,
             "#fb9f3a"
            ],
            [
             0.8888888888888888,
             "#fdca26"
            ],
            [
             1,
             "#f0f921"
            ]
           ],
           "sequentialminus": [
            [
             0,
             "#0d0887"
            ],
            [
             0.1111111111111111,
             "#46039f"
            ],
            [
             0.2222222222222222,
             "#7201a8"
            ],
            [
             0.3333333333333333,
             "#9c179e"
            ],
            [
             0.4444444444444444,
             "#bd3786"
            ],
            [
             0.5555555555555556,
             "#d8576b"
            ],
            [
             0.6666666666666666,
             "#ed7953"
            ],
            [
             0.7777777777777778,
             "#fb9f3a"
            ],
            [
             0.8888888888888888,
             "#fdca26"
            ],
            [
             1,
             "#f0f921"
            ]
           ]
          },
          "colorway": [
           "#636efa",
           "#EF553B",
           "#00cc96",
           "#ab63fa",
           "#FFA15A",
           "#19d3f3",
           "#FF6692",
           "#B6E880",
           "#FF97FF",
           "#FECB52"
          ],
          "font": {
           "color": "#2a3f5f"
          },
          "geo": {
           "bgcolor": "white",
           "lakecolor": "white",
           "landcolor": "#E5ECF6",
           "showlakes": true,
           "showland": true,
           "subunitcolor": "white"
          },
          "hoverlabel": {
           "align": "left"
          },
          "hovermode": "closest",
          "mapbox": {
           "style": "light"
          },
          "paper_bgcolor": "white",
          "plot_bgcolor": "#E5ECF6",
          "polar": {
           "angularaxis": {
            "gridcolor": "white",
            "linecolor": "white",
            "ticks": ""
           },
           "bgcolor": "#E5ECF6",
           "radialaxis": {
            "gridcolor": "white",
            "linecolor": "white",
            "ticks": ""
           }
          },
          "scene": {
           "xaxis": {
            "backgroundcolor": "#E5ECF6",
            "gridcolor": "white",
            "gridwidth": 2,
            "linecolor": "white",
            "showbackground": true,
            "ticks": "",
            "zerolinecolor": "white"
           },
           "yaxis": {
            "backgroundcolor": "#E5ECF6",
            "gridcolor": "white",
            "gridwidth": 2,
            "linecolor": "white",
            "showbackground": true,
            "ticks": "",
            "zerolinecolor": "white"
           },
           "zaxis": {
            "backgroundcolor": "#E5ECF6",
            "gridcolor": "white",
            "gridwidth": 2,
            "linecolor": "white",
            "showbackground": true,
            "ticks": "",
            "zerolinecolor": "white"
           }
          },
          "shapedefaults": {
           "line": {
            "color": "#2a3f5f"
           }
          },
          "ternary": {
           "aaxis": {
            "gridcolor": "white",
            "linecolor": "white",
            "ticks": ""
           },
           "baxis": {
            "gridcolor": "white",
            "linecolor": "white",
            "ticks": ""
           },
           "bgcolor": "#E5ECF6",
           "caxis": {
            "gridcolor": "white",
            "linecolor": "white",
            "ticks": ""
           }
          },
          "title": {
           "x": 0.05
          },
          "xaxis": {
           "automargin": true,
           "gridcolor": "white",
           "linecolor": "white",
           "ticks": "",
           "title": {
            "standoff": 15
           },
           "zerolinecolor": "white",
           "zerolinewidth": 2
          },
          "yaxis": {
           "automargin": true,
           "gridcolor": "white",
           "linecolor": "white",
           "ticks": "",
           "title": {
            "standoff": 15
           },
           "zerolinecolor": "white",
           "zerolinewidth": 2
          }
         }
        },
        "width": 800,
        "xaxis": {
         "anchor": "y",
         "domain": [
          0,
          1
         ],
         "title": {
          "text": "X_83UTM11_round"
         }
        },
        "yaxis": {
         "anchor": "x",
         "domain": [
          0,
          1
         ],
         "title": {
          "text": "Y_83UTM11_round"
         }
        }
       }
      }
     },
     "metadata": {},
     "output_type": "display_data"
    }
   ],
   "source": [
    "px.scatter(locs, x='X_83UTM11_round', y='Y_83UTM11_round', width=800, height=800)"
   ]
  },
  {
   "cell_type": "code",
   "execution_count": 14,
   "metadata": {},
   "outputs": [
    {
     "data": {
      "text/plain": [
       "count    1502.000000\n",
       "mean       31.767195\n",
       "std        35.346381\n",
       "min         0.000000\n",
       "25%        16.212500\n",
       "50%        22.480000\n",
       "75%        33.200000\n",
       "max       283.700000\n",
       "Name: Temp_C, dtype: float64"
      ]
     },
     "execution_count": 14,
     "metadata": {},
     "output_type": "execute_result"
    }
   ],
   "source": [
    "y.describe()"
   ]
  },
  {
   "cell_type": "code",
   "execution_count": 15,
   "metadata": {},
   "outputs": [
    {
     "data": {
      "text/plain": [
       "(np.int64(218), np.float64(0.14513981358189082))"
      ]
     },
     "execution_count": 15,
     "metadata": {},
     "output_type": "execute_result"
    }
   ],
   "source": [
    "(y == 0).sum(), (y == 0).mean()"
   ]
  },
  {
   "cell_type": "code",
   "execution_count": 16,
   "metadata": {},
   "outputs": [
    {
     "data": {
      "text/plain": [
       "<Axes: >"
      ]
     },
     "execution_count": 16,
     "metadata": {},
     "output_type": "execute_result"
    },
    {
     "data": {
      "image/png": "[encoded data removed]",
      "text/plain": [
       "<Figure size 640x480 with 1 Axes>"
      ]
     },
     "metadata": {},
     "output_type": "display_data"
    }
   ],
   "source": [
    "y[y != 0].hist(bins=50)"
   ]
  },
  {
   "cell_type": "code",
   "execution_count": 17,
   "metadata": {},
   "outputs": [
    {
     "data": {
      "text/plain": [
       "<Axes: >"
      ]
     },
     "execution_count": 17,
     "metadata": {},
     "output_type": "execute_result"
    },
    {
     "data": {
      "image/png": "[encoded data removed]",
      "text/plain": [
       "<Figure size 640x480 with 1 Axes>"
      ]
     },
     "metadata": {},
     "output_type": "display_data"
    }
   ],
   "source": [
    "((np.log(y[y != 0]) - np.log(y[y != 0]).mean()) / (np.log(y[y != 0]).std())).hist(bins=50)"
   ]
  },
  {
   "attachments": {},
   "cell_type": "markdown",
   "metadata": {},
   "source": [
    "### NOT normal, but shouldn't be because sampling is not random and this is not conditional on $X$."
   ]
  },
  {
   "cell_type": "code",
   "execution_count": 18,
   "metadata": {},
   "outputs": [],
   "source": [
    "filtered_nv_df = non_nan_nv_df[y != 0]\n",
    "filtered_nv_df = filtered_nv_df.drop_duplicates() ## found lots of duplicates (~40%)\n",
    "filtered_nv_df = filtered_nv_df.drop_duplicates(subset=[\"X_83UTM11_round\", \"Y_83UTM11_round\"]) ## even within this there are duplicated locations (~20%)\n",
    "\n",
    "locs = filtered_nv_df[loc_cols]\n",
    "y = np.log(filtered_nv_df[y_cols])\n",
    "# y = filtered_nv_df[y_cols]\n",
    "X = filtered_nv_df[feature_cols]"
   ]
  },
  {
   "cell_type": "code",
   "execution_count": 19,
   "metadata": {},
   "outputs": [
    {
     "data": {
      "text/plain": [
       "((1009, 18), (1009,), (1009, 2))"
      ]
     },
     "execution_count": 19,
     "metadata": {},
     "output_type": "execute_result"
    }
   ],
   "source": [
    "X.shape, y.shape, locs.shape"
   ]
  },
  {
   "cell_type": "code",
   "execution_count": null,
   "metadata": {},
   "outputs": [],
   "source": [
    "## GenCp parameters\n",
    "niter = 10\n",
    "alpha = .05\n",
    "nboot = 100\n",
    "k = 10\n",
    "\n",
    "models = [\n",
    "    XGBRegressor(\n",
    "        max_depth=2, \n",
    "        n_estimators=100\n",
    "    ), \n",
    "    XGBRegressor(\n",
    "        max_depth=6, \n",
    "        n_estimators=100\n",
    "    ), \n",
    "    RandomForestRegressor(\n",
    "        max_depth=2, \n",
    "        max_features='sqrt',\n",
    "        n_estimators=100\n",
    "    ),\n",
    "    RandomForestRegressor(\n",
    "        max_depth=6, \n",
    "        max_features='sqrt',\n",
    "        n_estimators=100\n",
    "    ),\n",
    "    ElasticNetCV()\n",
    "]\n",
    "\n",
    "## plot parameters\n",
    "title = \"General Model Comparisons\"\n",
    "est_names = [\"XGB2\", \"XGB6\", \"RF2\", \"RF6\", \"ENetCV\"]\n",
    "# model_names = [\"Lasso CV\"]"
   ]
  },
  {
   "cell_type": "code",
   "execution_count": 21,
   "metadata": {},
   "outputs": [],
   "source": [
    "from sklearn.tree import DecisionTreeRegressor\n",
    "import skgstat as skg\n",
    "from scipy.spatial import distance_matrix"
   ]
  },
  {
   "attachments": {},
   "cell_type": "markdown",
   "metadata": {},
   "source": [
    "# Estimate Covariance"
   ]
  },
  {
   "cell_type": "code",
   "execution_count": 22,
   "metadata": {},
   "outputs": [],
   "source": [
    "est_sigma_model = RandomForestRegressor(\n",
    "    max_depth=3, \n",
    "    max_features='sqrt'\n",
    ")\n",
    "est_Chol_SSN, est_Cov_SSN = est_Sigma(\n",
    "    X,\n",
    "    y,\n",
    "    locs,\n",
    "    est_sigma='corr_resp',\n",
    "    est_sigma_model=est_sigma_model,\n",
    ")"
   ]
  },
  {
   "attachments": {},
   "cell_type": "markdown",
   "metadata": {},
   "source": [
    "# In-sample"
   ]
  },
  {
   "attachments": {},
   "cell_type": "markdown",
   "metadata": {},
   "source": [
    "## Model Comparison"
   ]
  },
  {
   "cell_type": "code",
   "execution_count": 23,
   "metadata": {},
   "outputs": [
    {
     "name": "stderr",
     "output_type": "stream",
     "text": [
      "100%|██████████| 10/10 [01:17<00:00,  7.76s/it]\n",
      "100%|██████████| 10/10 [03:56<00:00, 23.62s/it]\n",
      "100%|██████████| 10/10 [01:16<00:00,  7.62s/it]\n",
      "100%|██████████| 10/10 [02:14<00:00, 13.45s/it]\n",
      "100%|██████████| 10/10 [00:29<00:00,  2.94s/it]\n"
     ]
    }
   ],
   "source": [
    "errs_SSN = []\n",
    "for model in models:\n",
    "    err = []\n",
    "    for i in tqdm(range(niter)):\n",
    "        e = cp_arbitrary(\n",
    "            model=model,\n",
    "            X=X, \n",
    "            y=y,\n",
    "            tr_idx=np.ones_like(y),\n",
    "            use_trace_corr=False,\n",
    "            Chol_y=est_Chol_SSN,\n",
    "            Cov_y_ystar=est_Cov_SSN,\n",
    "            nboot=nboot,\n",
    "            alpha=alpha,\n",
    "        )\n",
    "        err.append(e)\n",
    "    errs_SSN.append(err)"
   ]
  },
  {
   "cell_type": "code",
   "execution_count": null,
   "metadata": {},
   "outputs": [
    {
     "name": "stderr",
     "output_type": "stream",
     "text": [
      "100%|██████████| 10/10 [00:09<00:00,  1.06it/s]\n",
      "100%|██████████| 10/10 [00:30<00:00,  3.07s/it]\n",
      "100%|██████████| 10/10 [00:07<00:00,  1.43it/s]\n",
      "100%|██████████| 10/10 [00:12<00:00,  1.24s/it]\n",
      "100%|██████████| 10/10 [00:02<00:00,  3.42it/s]\n"
     ]
    }
   ],
   "source": [
    "cv_errs = []\n",
    "for model in models:\n",
    "    err = []\n",
    "    for i in tqdm(range(niter)):\n",
    "        e = kmeanscv(\n",
    "            model=model,\n",
    "            X=X, \n",
    "            y=y,\n",
    "            coord=locs,\n",
    "            k=k,\n",
    "        )\n",
    "        err.append(e)\n",
    "    cv_errs.append(err)"
   ]
  },
  {
   "cell_type": "code",
   "execution_count": null,
   "metadata": {},
   "outputs": [
    {
     "data": {
      "application/vnd.plotly.v1+json": {
       "config": {
        "plotlyServerURL": "https://plot.ly"
       },
       "data": [
        {
         "error_y": {
          "array": {
           "bdata": "e3egoVhaTj/tuBWDUrBJP84I7lQ37Gc/XTD0g4d0YT83NBgdAwFjPw==",
           "dtype": "f8"
          },
          "color": "black",
          "type": "data"
         },
         "marker": {
          "color": "rgb(127, 60, 141)"
         },
         "name": "GenCp",
         "text": {
          "bdata": "exSuR+F6tD8Sg8DKoUXGP57vp8ZLN8k/WmQ730+Ntz+DwMqhRbbDPw==",
          "dtype": "f8"
         },
         "textposition": "outside",
         "type": "bar",
         "x": [
          "XGB2",
          "XGB6",
          "RF2",
          "RF6",
          "ENetCV"
         ],
         "xaxis": "x",
         "y": {
          "bdata": "cJrZFhdqtD9QrGqGG0zGPzs2U9NxPMk/hMiQDPpvtz9U4xldy6bDPw==",
          "dtype": "f8"
         },
         "yaxis": "y"
        },
        {
         "error_y": {
          "array": {
           "bdata": "96bi378KVD8dA4oPRCuAP4/x71wvgGg/B6nf4w58dD944vZtGQdGPw==",
           "dtype": "f8"
          },
          "color": "black",
          "type": "data"
         },
         "marker": {
          "color": "rgb(57, 105, 172)"
         },
         "name": "3F SPCV",
         "text": {
          "bdata": "yXa+nxovvT+PwvUoXI/CP/7UeOkmMdA/F9nO91PjxT/l0CLb+X7KPw==",
          "dtype": "f8"
         },
         "textposition": "outside",
         "type": "bar",
         "x": [
          "XGB2",
          "XGB6",
          "RF2",
          "RF6",
          "ENetCV"
         ],
         "xaxis": "x",
         "y": {
          "bdata": "mgpvoqgvvT+BZSxvq5bCP2MegqhCLdA/wc9ipDDlxT+9iSxpv4TKPw==",
          "dtype": "f8"
         },
         "yaxis": "y"
        }
       ],
       "layout": {
        "barmode": "group",
        "template": {
         "data": {
          "bar": [
           {
            "error_x": {
             "color": "#2a3f5f"
            },
            "error_y": {
             "color": "#2a3f5f"
            },
            "marker": {
             "line": {
              "color": "#E5ECF6",
              "width": 0.5
             },
             "pattern": {
              "fillmode": "overlay",
              "size": 10,
              "solidity": 0.2
             }
            },
            "type": "bar"
           }
          ],
          "barpolar": [
           {
            "marker": {
             "line": {
              "color": "#E5ECF6",
              "width": 0.5
             },
             "pattern": {
              "fillmode": "overlay",
              "size": 10,
              "solidity": 0.2
             }
            },
            "type": "barpolar"
           }
          ],
          "carpet": [
           {
            "aaxis": {
             "endlinecolor": "#2a3f5f",
             "gridcolor": "white",
             "linecolor": "white",
             "minorgridcolor": "white",
             "startlinecolor": "#2a3f5f"
            },
            "baxis": {
             "endlinecolor": "#2a3f5f",
             "gridcolor": "white",
             "linecolor": "white",
             "minorgridcolor": "white",
             "startlinecolor": "#2a3f5f"
            },
            "type": "carpet"
           }
          ],
          "choropleth": [
           {
            "colorbar": {
             "outlinewidth": 0,
             "ticks": ""
            },
            "type": "choropleth"
           }
          ],
          "contour": [
           {
            "colorbar": {
             "outlinewidth": 0,
             "ticks": ""
            },
            "colorscale": [
             [
              0,
              "#0d0887"
             ],
             [
              0.1111111111111111,
              "#46039f"
             ],
             [
              0.2222222222222222,
              "#7201a8"
             ],
             [
              0.3333333333333333,
              "#9c179e"
             ],
             [
              0.4444444444444444,
              "#bd3786"
             ],
             [
              0.5555555555555556,
              "#d8576b"
             ],
             [
              0.6666666666666666,
              "#ed7953"
             ],
             [
              0.7777777777777778,
              "#fb9f3a"
             ],
             [
              0.8888888888888888,
              "#fdca26"
             ],
             [
              1,
              "#f0f921"
             ]
            ],
            "type": "contour"
           }
          ],
          "contourcarpet": [
           {
            "colorbar": {
             "outlinewidth": 0,
             "ticks": ""
            },
            "type": "contourcarpet"
           }
          ],
          "heatmap": [
           {
            "colorbar": {
             "outlinewidth": 0,
             "ticks": ""
            },
            "colorscale": [
             [
              0,
              "#0d0887"
             ],
             [
              0.1111111111111111,
              "#46039f"
             ],
             [
              0.2222222222222222,
              "#7201a8"
             ],
             [
              0.3333333333333333,
              "#9c179e"
             ],
             [
              0.4444444444444444,
              "#bd3786"
             ],
             [
              0.5555555555555556,
              "#d8576b"
             ],
             [
              0.6666666666666666,
              "#ed7953"
             ],
             [
              0.7777777777777778,
              "#fb9f3a"
             ],
             [
              0.8888888888888888,
              "#fdca26"
             ],
             [
              1,
              "#f0f921"
             ]
            ],
            "type": "heatmap"
           }
          ],
          "histogram": [
           {
            "marker": {
             "pattern": {
              "fillmode": "overlay",
              "size": 10,
              "solidity": 0.2
             }
            },
            "type": "histogram"
           }
          ],
          "histogram2d": [
           {
            "colorbar": {
             "outlinewidth": 0,
             "ticks": ""
            },
            "colorscale": [
             [
              0,
              "#0d0887"
             ],
             [
              0.1111111111111111,
              "#46039f"
             ],
             [
              0.2222222222222222,
              "#7201a8"
             ],
             [
              0.3333333333333333,
              "#9c179e"
             ],
             [
              0.4444444444444444,
              "#bd3786"
             ],
             [
              0.5555555555555556,
              "#d8576b"
             ],
             [
              0.6666666666666666,
              "#ed7953"
             ],
             [
              0.7777777777777778,
              "#fb9f3a"
             ],
             [
              0.8888888888888888,
              "#fdca26"
             ],
             [
              1,
              "#f0f921"
             ]
            ],
            "type": "histogram2d"
           }
          ],
          "histogram2dcontour": [
           {
            "colorbar": {
             "outlinewidth": 0,
             "ticks": ""
            },
            "colorscale": [
             [
              0,
              "#0d0887"
             ],
             [
              0.1111111111111111,
              "#46039f"
             ],
             [
              0.2222222222222222,
              "#7201a8"
             ],
             [
              0.3333333333333333,
              "#9c179e"
             ],
             [
              0.4444444444444444,
              "#bd3786"
             ],
             [
              0.5555555555555556,
              "#d8576b"
             ],
             [
              0.6666666666666666,
              "#ed7953"
             ],
             [
              0.7777777777777778,
              "#fb9f3a"
             ],
             [
              0.8888888888888888,
              "#fdca26"
             ],
             [
              1,
              "#f0f921"
             ]
            ],
            "type": "histogram2dcontour"
           }
          ],
          "mesh3d": [
           {
            "colorbar": {
             "outlinewidth": 0,
             "ticks": ""
            },
            "type": "mesh3d"
           }
          ],
          "parcoords": [
           {
            "line": {
             "colorbar": {
              "outlinewidth": 0,
              "ticks": ""
             }
            },
            "type": "parcoords"
           }
          ],
          "pie": [
           {
            "automargin": true,
            "type": "pie"
           }
          ],
          "scatter": [
           {
            "fillpattern": {
             "fillmode": "overlay",
             "size": 10,
             "solidity": 0.2
            },
            "type": "scatter"
           }
          ],
          "scatter3d": [
           {
            "line": {
             "colorbar": {
              "outlinewidth": 0,
              "ticks": ""
             }
            },
            "marker": {
             "colorbar": {
              "outlinewidth": 0,
              "ticks": ""
             }
            },
            "type": "scatter3d"
           }
          ],
          "scattercarpet": [
           {
            "marker": {
             "colorbar": {
              "outlinewidth": 0,
              "ticks": ""
             }
            },
            "type": "scattercarpet"
           }
          ],
          "scattergeo": [
           {
            "marker": {
             "colorbar": {
              "outlinewidth": 0,
              "ticks": ""
             }
            },
            "type": "scattergeo"
           }
          ],
          "scattergl": [
           {
            "marker": {
             "colorbar": {
              "outlinewidth": 0,
              "ticks": ""
             }
            },
            "type": "scattergl"
           }
          ],
          "scattermap": [
           {
            "marker": {
             "colorbar": {
              "outlinewidth": 0,
              "ticks": ""
             }
            },
            "type": "scattermap"
           }
          ],
          "scattermapbox": [
           {
            "marker": {
             "colorbar": {
              "outlinewidth": 0,
              "ticks": ""
             }
            },
            "type": "scattermapbox"
           }
          ],
          "scatterpolar": [
           {
            "marker": {
             "colorbar": {
              "outlinewidth": 0,
              "ticks": ""
             }
            },
            "type": "scatterpolar"
           }
          ],
          "scatterpolargl": [
           {
            "marker": {
             "colorbar": {
              "outlinewidth": 0,
              "ticks": ""
             }
            },
            "type": "scatterpolargl"
           }
          ],
          "scatterternary": [
           {
            "marker": {
             "colorbar": {
              "outlinewidth": 0,
              "ticks": ""
             }
            },
            "type": "scatterternary"
           }
          ],
          "surface": [
           {
            "colorbar": {
             "outlinewidth": 0,
             "ticks": ""
            },
            "colorscale": [
             [
              0,
              "#0d0887"
             ],
             [
              0.1111111111111111,
              "#46039f"
             ],
             [
              0.2222222222222222,
              "#7201a8"
             ],
             [
              0.3333333333333333,
              "#9c179e"
             ],
             [
              0.4444444444444444,
              "#bd3786"
             ],
             [
              0.5555555555555556,
              "#d8576b"
             ],
             [
              0.6666666666666666,
              "#ed7953"
             ],
             [
              0.7777777777777778,
              "#fb9f3a"
             ],
             [
              0.8888888888888888,
              "#fdca26"
             ],
             [
              1,
              "#f0f921"
             ]
            ],
            "type": "surface"
           }
          ],
          "table": [
           {
            "cells": {
             "fill": {
              "color": "#EBF0F8"
             },
             "line": {
              "color": "white"
             }
            },
            "header": {
             "fill": {
              "color": "#C8D4E3"
             },
             "line": {
              "color": "white"
             }
            },
            "type": "table"
           }
          ]
         },
         "layout": {
          "annotationdefaults": {
           "arrowcolor": "#2a3f5f",
           "arrowhead": 0,
           "arrowwidth": 1
          },
          "autotypenumbers": "strict",
          "coloraxis": {
           "colorbar": {
            "outlinewidth": 0,
            "ticks": ""
           }
          },
          "colorscale": {
           "diverging": [
            [
             0,
             "#8e0152"
            ],
            [
             0.1,
             "#c51b7d"
            ],
            [
             0.2,
             "#de77ae"
            ],
            [
             0.3,
             "#f1b6da"
            ],
            [
             0.4,
             "#fde0ef"
            ],
            [
             0.5,
             "#f7f7f7"
            ],
            [
             0.6,
             "#e6f5d0"
            ],
            [
             0.7,
             "#b8e186"
            ],
            [
             0.8,
             "#7fbc41"
            ],
            [
             0.9,
             "#4d9221"
            ],
            [
             1,
             "#276419"
            ]
           ],
           "sequential": [
            [
             0,
             "#0d0887"
            ],
            [
             0.1111111111111111,
             "#46039f"
            ],
            [
             0.2222222222222222,
             "#7201a8"
            ],
            [
             0.3333333333333333,
             "#9c179e"
            ],
            [
             0.4444444444444444,
             "#bd3786"
            ],
            [
             0.5555555555555556,
             "#d8576b"
            ],
            [
             0.6666666666666666,
             "#ed7953"
            ],
            [
             0.7777777777777778,
             "#fb9f3a"
            ],
            [
             0.8888888888888888,
             "#fdca26"
            ],
            [
             1,
             "#f0f921"
            ]
           ],
           "sequentialminus": [
            [
             0,
             "#0d0887"
            ],
            [
             0.1111111111111111,
             "#46039f"
            ],
            [
             0.2222222222222222,
             "#7201a8"
            ],
            [
             0.3333333333333333,
             "#9c179e"
            ],
            [
             0.4444444444444444,
             "#bd3786"
            ],
            [
             0.5555555555555556,
             "#d8576b"
            ],
            [
             0.6666666666666666,
             "#ed7953"
            ],
            [
             0.7777777777777778,
             "#fb9f3a"
            ],
            [
             0.8888888888888888,
             "#fdca26"
            ],
            [
             1,
             "#f0f921"
            ]
           ]
          },
          "colorway": [
           "#636efa",
           "#EF553B",
           "#00cc96",
           "#ab63fa",
           "#FFA15A",
           "#19d3f3",
           "#FF6692",
           "#B6E880",
           "#FF97FF",
           "#FECB52"
          ],
          "font": {
           "color": "#2a3f5f"
          },
          "geo": {
           "bgcolor": "white",
           "lakecolor": "white",
           "landcolor": "#E5ECF6",
           "showlakes": true,
           "showland": true,
           "subunitcolor": "white"
          },
          "hoverlabel": {
           "align": "left"
          },
          "hovermode": "closest",
          "mapbox": {
           "style": "light"
          },
          "paper_bgcolor": "white",
          "plot_bgcolor": "#E5ECF6",
          "polar": {
           "angularaxis": {
            "gridcolor": "white",
            "linecolor": "white",
            "ticks": ""
           },
           "bgcolor": "#E5ECF6",
           "radialaxis": {
            "gridcolor": "white",
            "linecolor": "white",
            "ticks": ""
           }
          },
          "scene": {
           "xaxis": {
            "backgroundcolor": "#E5ECF6",
            "gridcolor": "white",
            "gridwidth": 2,
            "linecolor": "white",
            "showbackground": true,
            "ticks": "",
            "zerolinecolor": "white"
           },
           "yaxis": {
            "backgroundcolor": "#E5ECF6",
            "gridcolor": "white",
            "gridwidth": 2,
            "linecolor": "white",
            "showbackground": true,
            "ticks": "",
            "zerolinecolor": "white"
           },
           "zaxis": {
            "backgroundcolor": "#E5ECF6",
            "gridcolor": "white",
            "gridwidth": 2,
            "linecolor": "white",
            "showbackground": true,
            "ticks": "",
            "zerolinecolor": "white"
           }
          },
          "shapedefaults": {
           "line": {
            "color": "#2a3f5f"
           }
          },
          "ternary": {
           "aaxis": {
            "gridcolor": "white",
            "linecolor": "white",
            "ticks": ""
           },
           "baxis": {
            "gridcolor": "white",
            "linecolor": "white",
            "ticks": ""
           },
           "bgcolor": "#E5ECF6",
           "caxis": {
            "gridcolor": "white",
            "linecolor": "white",
            "ticks": ""
           }
          },
          "title": {
           "x": 0.05
          },
          "xaxis": {
           "automargin": true,
           "gridcolor": "white",
           "linecolor": "white",
           "ticks": "",
           "title": {
            "standoff": 15
           },
           "zerolinecolor": "white",
           "zerolinewidth": 2
          },
          "yaxis": {
           "automargin": true,
           "gridcolor": "white",
           "linecolor": "white",
           "ticks": "",
           "title": {
            "standoff": 15
           },
           "zerolinecolor": "white",
           "zerolinewidth": 2
          }
         }
        },
        "title": {
         "text": "Nevada Data: In-Sample Model Comparison"
        },
        "xaxis": {
         "anchor": "y",
         "domain": [
          0,
          1
         ]
        },
        "yaxis": {
         "anchor": "x",
         "domain": [
          0,
          1
         ],
         "title": {
          "text": "GenCp Estimated MSE"
         }
        }
       }
      }
     },
     "metadata": {},
     "output_type": "display_data"
    }
   ],
   "source": [
    "fig_SSN = make_subplots(\n",
    "    rows=1, cols=1\n",
    ")\n",
    "\n",
    "df_SSN = pd.DataFrame({est_names[i]: errs_SSN[i] for i in np.arange(len(est_names))})\n",
    "\n",
    "fig_SSN.add_trace(go.Bar(\n",
    "    x=df_SSN.columns,\n",
    "    y=df_SSN.mean(),\n",
    "    marker_color=px.colors.qualitative.Bold[0],\n",
    "    text=np.around(df_SSN.mean(),3),\n",
    "    textposition='outside',\n",
    "    error_y=dict(\n",
    "        type='data',\n",
    "        color='black',\n",
    "        array=df_SSN.std(),\n",
    "    ),\n",
    "    name=\"GenCp\"\n",
    "), row=1, col=1)\n",
    "\n",
    "df_cv = pd.DataFrame({est_names[i]: cv_errs[i] for i in np.arange(len(est_names))})\n",
    "\n",
    "fig_SSN.add_trace(go.Bar(\n",
    "    x=df_cv.columns,\n",
    "    y=df_cv.mean(),\n",
    "    marker_color=px.colors.qualitative.Bold[2],\n",
    "    text=np.around(df_cv.mean(),3),\n",
    "    textposition='outside',\n",
    "    error_y=dict(\n",
    "        type='data',\n",
    "        color='black',\n",
    "        array=df_cv.std(),\n",
    "    ),\n",
    "    name=\"SPCV\"\n",
    "), row=1, col=1)\n",
    "\n",
    "fig_SSN.update_yaxes(title_text=\"GenCp Estimated MSE\", row=1, col=1)\n",
    "fig_SSN.update_layout(title_text=\"Nevada Data: In-Sample Model Comparison\", barmode=\"group\")\n",
    "fig_SSN.show()"
   ]
  },
  {
   "cell_type": "code",
   "execution_count": null,
   "metadata": {},
   "outputs": [],
   "source": []
  },
  {
   "cell_type": "code",
   "execution_count": null,
   "metadata": {},
   "outputs": [],
   "source": []
  },
  {
   "cell_type": "code",
   "execution_count": null,
   "metadata": {},
   "outputs": [
    {
     "data": {
      "application/vnd.plotly.v1+json": {
       "config": {
        "plotlyServerURL": "https://plot.ly"
       },
       "data": [
        {
         "error_y": {
          "array": [
           0.0009199448125322613,
           0.0007926840539936874,
           0.002920140588297321,
           0.002133512584249708,
           0.002319765683404149
          ],
          "color": "black",
          "type": "data"
         },
         "marker": {
          "color": "rgb(127, 60, 141)"
         },
         "text": [
          0.08,
          0.174,
          0.197,
          0.092,
          0.154
         ],
         "textposition": "outside",
         "type": "bar",
         "x": [
          "XGB2",
          "XGB6",
          "RF2",
          "RF6",
          "ENetCV"
         ],
         "xaxis": "x",
         "y": [
          0.0797330856054261,
          0.17419624766251787,
          0.19715655574167198,
          0.09155093647722404,
          0.1535276496494002
         ],
         "yaxis": "y"
        }
       ],
       "layout": {
        "showlegend": false,
        "template": {
         "data": {
          "bar": [
           {
            "error_x": {
             "color": "#2a3f5f"
            },
            "error_y": {
             "color": "#2a3f5f"
            },
            "marker": {
             "line": {
              "color": "#E5ECF6",
              "width": 0.5
             },
             "pattern": {
              "fillmode": "overlay",
              "size": 10,
              "solidity": 0.2
             }
            },
            "type": "bar"
           }
          ],
          "barpolar": [
           {
            "marker": {
             "line": {
              "color": "#E5ECF6",
              "width": 0.5
             },
             "pattern": {
              "fillmode": "overlay",
              "size": 10,
              "solidity": 0.2
             }
            },
            "type": "barpolar"
           }
          ],
          "carpet": [
           {
            "aaxis": {
             "endlinecolor": "#2a3f5f",
             "gridcolor": "white",
             "linecolor": "white",
             "minorgridcolor": "white",
             "startlinecolor": "#2a3f5f"
            },
            "baxis": {
             "endlinecolor": "#2a3f5f",
             "gridcolor": "white",
             "linecolor": "white",
             "minorgridcolor": "white",
             "startlinecolor": "#2a3f5f"
            },
            "type": "carpet"
           }
          ],
          "choropleth": [
           {
            "colorbar": {
             "outlinewidth": 0,
             "ticks": ""
            },
            "type": "choropleth"
           }
          ],
          "contour": [
           {
            "colorbar": {
             "outlinewidth": 0,
             "ticks": ""
            },
            "colorscale": [
             [
              0,
              "#0d0887"
             ],
             [
              0.1111111111111111,
              "#46039f"
             ],
             [
              0.2222222222222222,
              "#7201a8"
             ],
             [
              0.3333333333333333,
              "#9c179e"
             ],
             [
              0.4444444444444444,
              "#bd3786"
             ],
             [
              0.5555555555555556,
              "#d8576b"
             ],
             [
              0.6666666666666666,
              "#ed7953"
             ],
             [
              0.7777777777777778,
              "#fb9f3a"
             ],
             [
              0.8888888888888888,
              "#fdca26"
             ],
             [
              1,
              "#f0f921"
             ]
            ],
            "type": "contour"
           }
          ],
          "contourcarpet": [
           {
            "colorbar": {
             "outlinewidth": 0,
             "ticks": ""
            },
            "type": "contourcarpet"
           }
          ],
          "heatmap": [
           {
            "colorbar": {
             "outlinewidth": 0,
             "ticks": ""
            },
            "colorscale": [
             [
              0,
              "#0d0887"
             ],
             [
              0.1111111111111111,
              "#46039f"
             ],
             [
              0.2222222222222222,
              "#7201a8"
             ],
             [
              0.3333333333333333,
              "#9c179e"
             ],
             [
              0.4444444444444444,
              "#bd3786"
             ],
             [
              0.5555555555555556,
              "#d8576b"
             ],
             [
              0.6666666666666666,
              "#ed7953"
             ],
             [
              0.7777777777777778,
              "#fb9f3a"
             ],
             [
              0.8888888888888888,
              "#fdca26"
             ],
             [
              1,
              "#f0f921"
             ]
            ],
            "type": "heatmap"
           }
          ],
          "heatmapgl": [
           {
            "colorbar": {
             "outlinewidth": 0,
             "ticks": ""
            },
            "colorscale": [
             [
              0,
              "#0d0887"
             ],
             [
              0.1111111111111111,
              "#46039f"
             ],
             [
              0.2222222222222222,
              "#7201a8"
             ],
             [
              0.3333333333333333,
              "#9c179e"
             ],
             [
              0.4444444444444444,
              "#bd3786"
             ],
             [
              0.5555555555555556,
              "#d8576b"
             ],
             [
              0.6666666666666666,
              "#ed7953"
             ],
             [
              0.7777777777777778,
              "#fb9f3a"
             ],
             [
              0.8888888888888888,
              "#fdca26"
             ],
             [
              1,
              "#f0f921"
             ]
            ],
            "type": "heatmapgl"
           }
          ],
          "histogram": [
           {
            "marker": {
             "pattern": {
              "fillmode": "overlay",
              "size": 10,
              "solidity": 0.2
             }
            },
            "type": "histogram"
           }
          ],
          "histogram2d": [
           {
            "colorbar": {
             "outlinewidth": 0,
             "ticks": ""
            },
            "colorscale": [
             [
              0,
              "#0d0887"
             ],
             [
              0.1111111111111111,
              "#46039f"
             ],
             [
              0.2222222222222222,
              "#7201a8"
             ],
             [
              0.3333333333333333,
              "#9c179e"
             ],
             [
              0.4444444444444444,
              "#bd3786"
             ],
             [
              0.5555555555555556,
              "#d8576b"
             ],
             [
              0.6666666666666666,
              "#ed7953"
             ],
             [
              0.7777777777777778,
              "#fb9f3a"
             ],
             [
              0.8888888888888888,
              "#fdca26"
             ],
             [
              1,
              "#f0f921"
             ]
            ],
            "type": "histogram2d"
           }
          ],
          "histogram2dcontour": [
           {
            "colorbar": {
             "outlinewidth": 0,
             "ticks": ""
            },
            "colorscale": [
             [
              0,
              "#0d0887"
             ],
             [
              0.1111111111111111,
              "#46039f"
             ],
             [
              0.2222222222222222,
              "#7201a8"
             ],
             [
              0.3333333333333333,
              "#9c179e"
             ],
             [
              0.4444444444444444,
              "#bd3786"
             ],
             [
              0.5555555555555556,
              "#d8576b"
             ],
             [
              0.6666666666666666,
              "#ed7953"
             ],
             [
              0.7777777777777778,
              "#fb9f3a"
             ],
             [
              0.8888888888888888,
              "#fdca26"
             ],
             [
              1,
              "#f0f921"
             ]
            ],
            "type": "histogram2dcontour"
           }
          ],
          "mesh3d": [
           {
            "colorbar": {
             "outlinewidth": 0,
             "ticks": ""
            },
            "type": "mesh3d"
           }
          ],
          "parcoords": [
           {
            "line": {
             "colorbar": {
              "outlinewidth": 0,
              "ticks": ""
             }
            },
            "type": "parcoords"
           }
          ],
          "pie": [
           {
            "automargin": true,
            "type": "pie"
           }
          ],
          "scatter": [
           {
            "fillpattern": {
             "fillmode": "overlay",
             "size": 10,
             "solidity": 0.2
            },
            "type": "scatter"
           }
          ],
          "scatter3d": [
           {
            "line": {
             "colorbar": {
              "outlinewidth": 0,
              "ticks": ""
             }
            },
            "marker": {
             "colorbar": {
              "outlinewidth": 0,
              "ticks": ""
             }
            },
            "type": "scatter3d"
           }
          ],
          "scattercarpet": [
           {
            "marker": {
             "colorbar": {
              "outlinewidth": 0,
              "ticks": ""
             }
            },
            "type": "scattercarpet"
           }
          ],
          "scattergeo": [
           {
            "marker": {
             "colorbar": {
              "outlinewidth": 0,
              "ticks": ""
             }
            },
            "type": "scattergeo"
           }
          ],
          "scattergl": [
           {
            "marker": {
             "colorbar": {
              "outlinewidth": 0,
              "ticks": ""
             }
            },
            "type": "scattergl"
           }
          ],
          "scattermapbox": [
           {
            "marker": {
             "colorbar": {
              "outlinewidth": 0,
              "ticks": ""
             }
            },
            "type": "scattermapbox"
           }
          ],
          "scatterpolar": [
           {
            "marker": {
             "colorbar": {
              "outlinewidth": 0,
              "ticks": ""
             }
            },
            "type": "scatterpolar"
           }
          ],
          "scatterpolargl": [
           {
            "marker": {
             "colorbar": {
              "outlinewidth": 0,
              "ticks": ""
             }
            },
            "type": "scatterpolargl"
           }
          ],
          "scatterternary": [
           {
            "marker": {
             "colorbar": {
              "outlinewidth": 0,
              "ticks": ""
             }
            },
            "type": "scatterternary"
           }
          ],
          "surface": [
           {
            "colorbar": {
             "outlinewidth": 0,
             "ticks": ""
            },
            "colorscale": [
             [
              0,
              "#0d0887"
             ],
             [
              0.1111111111111111,
              "#46039f"
             ],
             [
              0.2222222222222222,
              "#7201a8"
             ],
             [
              0.3333333333333333,
              "#9c179e"
             ],
             [
              0.4444444444444444,
              "#bd3786"
             ],
             [
              0.5555555555555556,
              "#d8576b"
             ],
             [
              0.6666666666666666,
              "#ed7953"
             ],
             [
              0.7777777777777778,
              "#fb9f3a"
             ],
             [
              0.8888888888888888,
              "#fdca26"
             ],
             [
              1,
              "#f0f921"
             ]
            ],
            "type": "surface"
           }
          ],
          "table": [
           {
            "cells": {
             "fill": {
              "color": "#EBF0F8"
             },
             "line": {
              "color": "white"
             }
            },
            "header": {
             "fill": {
              "color": "#C8D4E3"
             },
             "line": {
              "color": "white"
             }
            },
            "type": "table"
           }
          ]
         },
         "layout": {
          "annotationdefaults": {
           "arrowcolor": "#2a3f5f",
           "arrowhead": 0,
           "arrowwidth": 1
          },
          "autotypenumbers": "strict",
          "coloraxis": {
           "colorbar": {
            "outlinewidth": 0,
            "ticks": ""
           }
          },
          "colorscale": {
           "diverging": [
            [
             0,
             "#8e0152"
            ],
            [
             0.1,
             "#c51b7d"
            ],
            [
             0.2,
             "#de77ae"
            ],
            [
             0.3,
             "#f1b6da"
            ],
            [
             0.4,
             "#fde0ef"
            ],
            [
             0.5,
             "#f7f7f7"
            ],
            [
             0.6,
             "#e6f5d0"
            ],
            [
             0.7,
             "#b8e186"
            ],
            [
             0.8,
             "#7fbc41"
            ],
            [
             0.9,
             "#4d9221"
            ],
            [
             1,
             "#276419"
            ]
           ],
           "sequential": [
            [
             0,
             "#0d0887"
            ],
            [
             0.1111111111111111,
             "#46039f"
            ],
            [
             0.2222222222222222,
             "#7201a8"
            ],
            [
             0.3333333333333333,
             "#9c179e"
            ],
            [
             0.4444444444444444,
             "#bd3786"
            ],
            [
             0.5555555555555556,
             "#d8576b"
            ],
            [
             0.6666666666666666,
             "#ed7953"
            ],
            [
             0.7777777777777778,
             "#fb9f3a"
            ],
            [
             0.8888888888888888,
             "#fdca26"
            ],
            [
             1,
             "#f0f921"
            ]
           ],
           "sequentialminus": [
            [
             0,
             "#0d0887"
            ],
            [
             0.1111111111111111,
             "#46039f"
            ],
            [
             0.2222222222222222,
             "#7201a8"
            ],
            [
             0.3333333333333333,
             "#9c179e"
            ],
            [
             0.4444444444444444,
             "#bd3786"
            ],
            [
             0.5555555555555556,
             "#d8576b"
            ],
            [
             0.6666666666666666,
             "#ed7953"
            ],
            [
             0.7777777777777778,
             "#fb9f3a"
            ],
            [
             0.8888888888888888,
             "#fdca26"
            ],
            [
             1,
             "#f0f921"
            ]
           ]
          },
          "colorway": [
           "#636efa",
           "#EF553B",
           "#00cc96",
           "#ab63fa",
           "#FFA15A",
           "#19d3f3",
           "#FF6692",
           "#B6E880",
           "#FF97FF",
           "#FECB52"
          ],
          "font": {
           "color": "#2a3f5f"
          },
          "geo": {
           "bgcolor": "white",
           "lakecolor": "white",
           "landcolor": "#E5ECF6",
           "showlakes": true,
           "showland": true,
           "subunitcolor": "white"
          },
          "hoverlabel": {
           "align": "left"
          },
          "hovermode": "closest",
          "mapbox": {
           "style": "light"
          },
          "paper_bgcolor": "white",
          "plot_bgcolor": "#E5ECF6",
          "polar": {
           "angularaxis": {
            "gridcolor": "white",
            "linecolor": "white",
            "ticks": ""
           },
           "bgcolor": "#E5ECF6",
           "radialaxis": {
            "gridcolor": "white",
            "linecolor": "white",
            "ticks": ""
           }
          },
          "scene": {
           "xaxis": {
            "backgroundcolor": "#E5ECF6",
            "gridcolor": "white",
            "gridwidth": 2,
            "linecolor": "white",
            "showbackground": true,
            "ticks": "",
            "zerolinecolor": "white"
           },
           "yaxis": {
            "backgroundcolor": "#E5ECF6",
            "gridcolor": "white",
            "gridwidth": 2,
            "linecolor": "white",
            "showbackground": true,
            "ticks": "",
            "zerolinecolor": "white"
           },
           "zaxis": {
            "backgroundcolor": "#E5ECF6",
            "gridcolor": "white",
            "gridwidth": 2,
            "linecolor": "white",
            "showbackground": true,
            "ticks": "",
            "zerolinecolor": "white"
           }
          },
          "shapedefaults": {
           "line": {
            "color": "#2a3f5f"
           }
          },
          "ternary": {
           "aaxis": {
            "gridcolor": "white",
            "linecolor": "white",
            "ticks": ""
           },
           "baxis": {
            "gridcolor": "white",
            "linecolor": "white",
            "ticks": ""
           },
           "bgcolor": "#E5ECF6",
           "caxis": {
            "gridcolor": "white",
            "linecolor": "white",
            "ticks": ""
           }
          },
          "title": {
           "x": 0.05
          },
          "xaxis": {
           "automargin": true,
           "gridcolor": "white",
           "linecolor": "white",
           "ticks": "",
           "title": {
            "standoff": 15
           },
           "zerolinecolor": "white",
           "zerolinewidth": 2
          },
          "yaxis": {
           "automargin": true,
           "gridcolor": "white",
           "linecolor": "white",
           "ticks": "",
           "title": {
            "standoff": 15
           },
           "zerolinecolor": "white",
           "zerolinewidth": 2
          }
         }
        },
        "title": {
         "text": "Nevada Data: In-Sample Model Comparison"
        },
        "xaxis": {
         "anchor": "y",
         "domain": [
          0,
          1
         ]
        },
        "yaxis": {
         "anchor": "x",
         "domain": [
          0,
          1
         ],
         "title": {
          "text": "GenCp Estimated MSE"
         }
        }
       }
      }
     },
     "metadata": {},
     "output_type": "display_data"
    }
   ],
   "source": [
    "fig_SSN = make_subplots(\n",
    "    rows=1, cols=1\n",
    ")\n",
    "\n",
    "df_SSN = pd.DataFrame({est_names[i]: errs_SSN[i] for i in np.arange(len(est_names))})\n",
    "\n",
    "fig_SSN.add_trace(go.Bar(\n",
    "    x = df_SSN.columns,\n",
    "    y=df_SSN.mean(),\n",
    "    marker_color=px.colors.qualitative.Bold[0],\n",
    "    text=np.around(df_SSN.mean(),3),\n",
    "    textposition='outside',\n",
    "    error_y=dict(\n",
    "        type='data',\n",
    "        color='black',\n",
    "        array=df_SSN.std(),\n",
    "    )\n",
    "), row=1, col=1)\n",
    "\n",
    "fig_SSN.update_yaxes(title_text=\"GenCp Estimated MSE\", row=1, col=1)\n",
    "fig_SSN.update_layout(title_text=\"Nevada Data: In-Sample Model Comparison\", showlegend=False)\n",
    "fig_SSN.show()"
   ]
  },
  {
   "cell_type": "code",
   "execution_count": null,
   "metadata": {},
   "outputs": [
    {
     "data": {
      "application/vnd.plotly.v1+json": {
       "config": {
        "plotlyServerURL": "https://plot.ly"
       },
       "data": [
        {
         "error_y": {
          "array": [
           0.00557050453380625,
           0.001646541510926098,
           0.005775363880268541,
           0.006290898671389738,
           0.003884041886691575
          ],
          "color": "black",
          "type": "data"
         },
         "marker": {
          "color": "rgb(57, 105, 172)"
         },
         "text": [
          0.107,
          0.127,
          0.24,
          0.161,
          0.173
         ],
         "textposition": "outside",
         "type": "bar",
         "x": [
          "XGB2",
          "XGB6",
          "RF2",
          "RF6",
          "ENetCV"
         ],
         "xaxis": "x",
         "y": [
          0.10728272693870892,
          0.12718827869138946,
          0.2397309266382562,
          0.16124152958310772,
          0.1730008777346354
         ],
         "yaxis": "y"
        }
       ],
       "layout": {
        "showlegend": false,
        "template": {
         "data": {
          "bar": [
           {
            "error_x": {
             "color": "#2a3f5f"
            },
            "error_y": {
             "color": "#2a3f5f"
            },
            "marker": {
             "line": {
              "color": "#E5ECF6",
              "width": 0.5
             },
             "pattern": {
              "fillmode": "overlay",
              "size": 10,
              "solidity": 0.2
             }
            },
            "type": "bar"
           }
          ],
          "barpolar": [
           {
            "marker": {
             "line": {
              "color": "#E5ECF6",
              "width": 0.5
             },
             "pattern": {
              "fillmode": "overlay",
              "size": 10,
              "solidity": 0.2
             }
            },
            "type": "barpolar"
           }
          ],
          "carpet": [
           {
            "aaxis": {
             "endlinecolor": "#2a3f5f",
             "gridcolor": "white",
             "linecolor": "white",
             "minorgridcolor": "white",
             "startlinecolor": "#2a3f5f"
            },
            "baxis": {
             "endlinecolor": "#2a3f5f",
             "gridcolor": "white",
             "linecolor": "white",
             "minorgridcolor": "white",
             "startlinecolor": "#2a3f5f"
            },
            "type": "carpet"
           }
          ],
          "choropleth": [
           {
            "colorbar": {
             "outlinewidth": 0,
             "ticks": ""
            },
            "type": "choropleth"
           }
          ],
          "contour": [
           {
            "colorbar": {
             "outlinewidth": 0,
             "ticks": ""
            },
            "colorscale": [
             [
              0,
              "#0d0887"
             ],
             [
              0.1111111111111111,
              "#46039f"
             ],
             [
              0.2222222222222222,
              "#7201a8"
             ],
             [
              0.3333333333333333,
              "#9c179e"
             ],
             [
              0.4444444444444444,
              "#bd3786"
             ],
             [
              0.5555555555555556,
              "#d8576b"
             ],
             [
              0.6666666666666666,
              "#ed7953"
             ],
             [
              0.7777777777777778,
              "#fb9f3a"
             ],
             [
              0.8888888888888888,
              "#fdca26"
             ],
             [
              1,
              "#f0f921"
             ]
            ],
            "type": "contour"
           }
          ],
          "contourcarpet": [
           {
            "colorbar": {
             "outlinewidth": 0,
             "ticks": ""
            },
            "type": "contourcarpet"
           }
          ],
          "heatmap": [
           {
            "colorbar": {
             "outlinewidth": 0,
             "ticks": ""
            },
            "colorscale": [
             [
              0,
              "#0d0887"
             ],
             [
              0.1111111111111111,
              "#46039f"
             ],
             [
              0.2222222222222222,
              "#7201a8"
             ],
             [
              0.3333333333333333,
              "#9c179e"
             ],
             [
              0.4444444444444444,
              "#bd3786"
             ],
             [
              0.5555555555555556,
              "#d8576b"
             ],
             [
              0.6666666666666666,
              "#ed7953"
             ],
             [
              0.7777777777777778,
              "#fb9f3a"
             ],
             [
              0.8888888888888888,
              "#fdca26"
             ],
             [
              1,
              "#f0f921"
             ]
            ],
            "type": "heatmap"
           }
          ],
          "heatmapgl": [
           {
            "colorbar": {
             "outlinewidth": 0,
             "ticks": ""
            },
            "colorscale": [
             [
              0,
              "#0d0887"
             ],
             [
              0.1111111111111111,
              "#46039f"
             ],
             [
              0.2222222222222222,
              "#7201a8"
             ],
             [
              0.3333333333333333,
              "#9c179e"
             ],
             [
              0.4444444444444444,
              "#bd3786"
             ],
             [
              0.5555555555555556,
              "#d8576b"
             ],
             [
              0.6666666666666666,
              "#ed7953"
             ],
             [
              0.7777777777777778,
              "#fb9f3a"
             ],
             [
              0.8888888888888888,
              "#fdca26"
             ],
             [
              1,
              "#f0f921"
             ]
            ],
            "type": "heatmapgl"
           }
          ],
          "histogram": [
           {
            "marker": {
             "pattern": {
              "fillmode": "overlay",
              "size": 10,
              "solidity": 0.2
             }
            },
            "type": "histogram"
           }
          ],
          "histogram2d": [
           {
            "colorbar": {
             "outlinewidth": 0,
             "ticks": ""
            },
            "colorscale": [
             [
              0,
              "#0d0887"
             ],
             [
              0.1111111111111111,
              "#46039f"
             ],
             [
              0.2222222222222222,
              "#7201a8"
             ],
             [
              0.3333333333333333,
              "#9c179e"
             ],
             [
              0.4444444444444444,
              "#bd3786"
             ],
             [
              0.5555555555555556,
              "#d8576b"
             ],
             [
              0.6666666666666666,
              "#ed7953"
             ],
             [
              0.7777777777777778,
              "#fb9f3a"
             ],
             [
              0.8888888888888888,
              "#fdca26"
             ],
             [
              1,
              "#f0f921"
             ]
            ],
            "type": "histogram2d"
           }
          ],
          "histogram2dcontour": [
           {
            "colorbar": {
             "outlinewidth": 0,
             "ticks": ""
            },
            "colorscale": [
             [
              0,
              "#0d0887"
             ],
             [
              0.1111111111111111,
              "#46039f"
             ],
             [
              0.2222222222222222,
              "#7201a8"
             ],
             [
              0.3333333333333333,
              "#9c179e"
             ],
             [
              0.4444444444444444,
              "#bd3786"
             ],
             [
              0.5555555555555556,
              "#d8576b"
             ],
             [
              0.6666666666666666,
              "#ed7953"
             ],
             [
              0.7777777777777778,
              "#fb9f3a"
             ],
             [
              0.8888888888888888,
              "#fdca26"
             ],
             [
              1,
              "#f0f921"
             ]
            ],
            "type": "histogram2dcontour"
           }
          ],
          "mesh3d": [
           {
            "colorbar": {
             "outlinewidth": 0,
             "ticks": ""
            },
            "type": "mesh3d"
           }
          ],
          "parcoords": [
           {
            "line": {
             "colorbar": {
              "outlinewidth": 0,
              "ticks": ""
             }
            },
            "type": "parcoords"
           }
          ],
          "pie": [
           {
            "automargin": true,
            "type": "pie"
           }
          ],
          "scatter": [
           {
            "fillpattern": {
             "fillmode": "overlay",
             "size": 10,
             "solidity": 0.2
            },
            "type": "scatter"
           }
          ],
          "scatter3d": [
           {
            "line": {
             "colorbar": {
              "outlinewidth": 0,
              "ticks": ""
             }
            },
            "marker": {
             "colorbar": {
              "outlinewidth": 0,
              "ticks": ""
             }
            },
            "type": "scatter3d"
           }
          ],
          "scattercarpet": [
           {
            "marker": {
             "colorbar": {
              "outlinewidth": 0,
              "ticks": ""
             }
            },
            "type": "scattercarpet"
           }
          ],
          "scattergeo": [
           {
            "marker": {
             "colorbar": {
              "outlinewidth": 0,
              "ticks": ""
             }
            },
            "type": "scattergeo"
           }
          ],
          "scattergl": [
           {
            "marker": {
             "colorbar": {
              "outlinewidth": 0,
              "ticks": ""
             }
            },
            "type": "scattergl"
           }
          ],
          "scattermapbox": [
           {
            "marker": {
             "colorbar": {
              "outlinewidth": 0,
              "ticks": ""
             }
            },
            "type": "scattermapbox"
           }
          ],
          "scatterpolar": [
           {
            "marker": {
             "colorbar": {
              "outlinewidth": 0,
              "ticks": ""
             }
            },
            "type": "scatterpolar"
           }
          ],
          "scatterpolargl": [
           {
            "marker": {
             "colorbar": {
              "outlinewidth": 0,
              "ticks": ""
             }
            },
            "type": "scatterpolargl"
           }
          ],
          "scatterternary": [
           {
            "marker": {
             "colorbar": {
              "outlinewidth": 0,
              "ticks": ""
             }
            },
            "type": "scatterternary"
           }
          ],
          "surface": [
           {
            "colorbar": {
             "outlinewidth": 0,
             "ticks": ""
            },
            "colorscale": [
             [
              0,
              "#0d0887"
             ],
             [
              0.1111111111111111,
              "#46039f"
             ],
             [
              0.2222222222222222,
              "#7201a8"
             ],
             [
              0.3333333333333333,
              "#9c179e"
             ],
             [
              0.4444444444444444,
              "#bd3786"
             ],
             [
              0.5555555555555556,
              "#d8576b"
             ],
             [
              0.6666666666666666,
              "#ed7953"
             ],
             [
              0.7777777777777778,
              "#fb9f3a"
             ],
             [
              0.8888888888888888,
              "#fdca26"
             ],
             [
              1,
              "#f0f921"
             ]
            ],
            "type": "surface"
           }
          ],
          "table": [
           {
            "cells": {
             "fill": {
              "color": "#EBF0F8"
             },
             "line": {
              "color": "white"
             }
            },
            "header": {
             "fill": {
              "color": "#C8D4E3"
             },
             "line": {
              "color": "white"
             }
            },
            "type": "table"
           }
          ]
         },
         "layout": {
          "annotationdefaults": {
           "arrowcolor": "#2a3f5f",
           "arrowhead": 0,
           "arrowwidth": 1
          },
          "autotypenumbers": "strict",
          "coloraxis": {
           "colorbar": {
            "outlinewidth": 0,
            "ticks": ""
           }
          },
          "colorscale": {
           "diverging": [
            [
             0,
             "#8e0152"
            ],
            [
             0.1,
             "#c51b7d"
            ],
            [
             0.2,
             "#de77ae"
            ],
            [
             0.3,
             "#f1b6da"
            ],
            [
             0.4,
             "#fde0ef"
            ],
            [
             0.5,
             "#f7f7f7"
            ],
            [
             0.6,
             "#e6f5d0"
            ],
            [
             0.7,
             "#b8e186"
            ],
            [
             0.8,
             "#7fbc41"
            ],
            [
             0.9,
             "#4d9221"
            ],
            [
             1,
             "#276419"
            ]
           ],
           "sequential": [
            [
             0,
             "#0d0887"
            ],
            [
             0.1111111111111111,
             "#46039f"
            ],
            [
             0.2222222222222222,
             "#7201a8"
            ],
            [
             0.3333333333333333,
             "#9c179e"
            ],
            [
             0.4444444444444444,
             "#bd3786"
            ],
            [
             0.5555555555555556,
             "#d8576b"
            ],
            [
             0.6666666666666666,
             "#ed7953"
            ],
            [
             0.7777777777777778,
             "#fb9f3a"
            ],
            [
             0.8888888888888888,
             "#fdca26"
            ],
            [
             1,
             "#f0f921"
            ]
           ],
           "sequentialminus": [
            [
             0,
             "#0d0887"
            ],
            [
             0.1111111111111111,
             "#46039f"
            ],
            [
             0.2222222222222222,
             "#7201a8"
            ],
            [
             0.3333333333333333,
             "#9c179e"
            ],
            [
             0.4444444444444444,
             "#bd3786"
            ],
            [
             0.5555555555555556,
             "#d8576b"
            ],
            [
             0.6666666666666666,
             "#ed7953"
            ],
            [
             0.7777777777777778,
             "#fb9f3a"
            ],
            [
             0.8888888888888888,
             "#fdca26"
            ],
            [
             1,
             "#f0f921"
            ]
           ]
          },
          "colorway": [
           "#636efa",
           "#EF553B",
           "#00cc96",
           "#ab63fa",
           "#FFA15A",
           "#19d3f3",
           "#FF6692",
           "#B6E880",
           "#FF97FF",
           "#FECB52"
          ],
          "font": {
           "color": "#2a3f5f"
          },
          "geo": {
           "bgcolor": "white",
           "lakecolor": "white",
           "landcolor": "#E5ECF6",
           "showlakes": true,
           "showland": true,
           "subunitcolor": "white"
          },
          "hoverlabel": {
           "align": "left"
          },
          "hovermode": "closest",
          "mapbox": {
           "style": "light"
          },
          "paper_bgcolor": "white",
          "plot_bgcolor": "#E5ECF6",
          "polar": {
           "angularaxis": {
            "gridcolor": "white",
            "linecolor": "white",
            "ticks": ""
           },
           "bgcolor": "#E5ECF6",
           "radialaxis": {
            "gridcolor": "white",
            "linecolor": "white",
            "ticks": ""
           }
          },
          "scene": {
           "xaxis": {
            "backgroundcolor": "#E5ECF6",
            "gridcolor": "white",
            "gridwidth": 2,
            "linecolor": "white",
            "showbackground": true,
            "ticks": "",
            "zerolinecolor": "white"
           },
           "yaxis": {
            "backgroundcolor": "#E5ECF6",
            "gridcolor": "white",
            "gridwidth": 2,
            "linecolor": "white",
            "showbackground": true,
            "ticks": "",
            "zerolinecolor": "white"
           },
           "zaxis": {
            "backgroundcolor": "#E5ECF6",
            "gridcolor": "white",
            "gridwidth": 2,
            "linecolor": "white",
            "showbackground": true,
            "ticks": "",
            "zerolinecolor": "white"
           }
          },
          "shapedefaults": {
           "line": {
            "color": "#2a3f5f"
           }
          },
          "ternary": {
           "aaxis": {
            "gridcolor": "white",
            "linecolor": "white",
            "ticks": ""
           },
           "baxis": {
            "gridcolor": "white",
            "linecolor": "white",
            "ticks": ""
           },
           "bgcolor": "#E5ECF6",
           "caxis": {
            "gridcolor": "white",
            "linecolor": "white",
            "ticks": ""
           }
          },
          "title": {
           "x": 0.05
          },
          "xaxis": {
           "automargin": true,
           "gridcolor": "white",
           "linecolor": "white",
           "ticks": "",
           "title": {
            "standoff": 15
           },
           "zerolinecolor": "white",
           "zerolinewidth": 2
          },
          "yaxis": {
           "automargin": true,
           "gridcolor": "white",
           "linecolor": "white",
           "ticks": "",
           "title": {
            "standoff": 15
           },
           "zerolinecolor": "white",
           "zerolinewidth": 2
          }
         }
        },
        "title": {
         "text": "Nevada Data: In-Sample Model Comparison"
        },
        "xaxis": {
         "anchor": "y",
         "domain": [
          0,
          1
         ]
        },
        "yaxis": {
         "anchor": "x",
         "domain": [
          0,
          1
         ],
         "title": {
          "text": "10-SPCV Estimated MSE"
         }
        }
       }
      }
     },
     "metadata": {},
     "output_type": "display_data"
    }
   ],
   "source": [
    "fig_CV = make_subplots(\n",
    "    rows=1, cols=1\n",
    ")\n",
    "\n",
    "df_CV = pd.DataFrame({est_names[i]: errs_SSN[i + len(est_names)] for i in np.arange(len(est_names))})\n",
    "\n",
    "fig_CV.add_trace(go.Bar(\n",
    "    x=df_CV.columns,\n",
    "    y=df_CV.mean(),\n",
    "    marker_color=px.colors.qualitative.Bold[2],\n",
    "    text=np.around(df_CV.mean(),3),\n",
    "    textposition='outside',\n",
    "    error_y=dict(\n",
    "        type='data',\n",
    "        color='black',\n",
    "        array=df_CV.std(),\n",
    "    )\n",
    "), row=1, col=1)\n",
    "\n",
    "fig_CV.update_yaxes(title_text=f\"{k}-SPCV Estimated MSE\", row=1, col=1)\n",
    "fig_CV.update_layout(title_text=\"Nevada Data: In-Sample Model Comparison\", showlegend=False)\n",
    "fig_CV.show()"
   ]
  },
  {
   "cell_type": "code",
   "execution_count": 28,
   "metadata": {},
   "outputs": [
    {
     "data": {
      "application/vnd.plotly.v1+json": {
       "config": {
        "plotlyServerURL": "https://plot.ly"
       },
       "data": [
        {
         "error_y": {
          "array": [
           0.0012232660078929627,
           0.007895023082939151,
           0.0029845464773612367,
           0.004867056959555669,
           0.0006722330253330778
          ],
          "color": "black",
          "type": "data"
         },
         "marker": {
          "color": "rgb(57, 105, 172)"
         },
         "text": [
          0.114,
          0.145,
          0.253,
          0.171,
          0.207
         ],
         "textposition": "outside",
         "type": "bar",
         "x": [
          "XGB2",
          "XGB6",
          "RF2",
          "RF6",
          "ENetCV"
         ],
         "xaxis": "x",
         "y": [
          0.11400846448581561,
          0.14522307327642284,
          0.2527865218530813,
          0.1711623438213496,
          0.20717613826225373
         ],
         "yaxis": "y"
        }
       ],
       "layout": {
        "showlegend": false,
        "template": {
         "data": {
          "bar": [
           {
            "error_x": {
             "color": "#2a3f5f"
            },
            "error_y": {
             "color": "#2a3f5f"
            },
            "marker": {
             "line": {
              "color": "#E5ECF6",
              "width": 0.5
             },
             "pattern": {
              "fillmode": "overlay",
              "size": 10,
              "solidity": 0.2
             }
            },
            "type": "bar"
           }
          ],
          "barpolar": [
           {
            "marker": {
             "line": {
              "color": "#E5ECF6",
              "width": 0.5
             },
             "pattern": {
              "fillmode": "overlay",
              "size": 10,
              "solidity": 0.2
             }
            },
            "type": "barpolar"
           }
          ],
          "carpet": [
           {
            "aaxis": {
             "endlinecolor": "#2a3f5f",
             "gridcolor": "white",
             "linecolor": "white",
             "minorgridcolor": "white",
             "startlinecolor": "#2a3f5f"
            },
            "baxis": {
             "endlinecolor": "#2a3f5f",
             "gridcolor": "white",
             "linecolor": "white",
             "minorgridcolor": "white",
             "startlinecolor": "#2a3f5f"
            },
            "type": "carpet"
           }
          ],
          "choropleth": [
           {
            "colorbar": {
             "outlinewidth": 0,
             "ticks": ""
            },
            "type": "choropleth"
           }
          ],
          "contour": [
           {
            "colorbar": {
             "outlinewidth": 0,
             "ticks": ""
            },
            "colorscale": [
             [
              0,
              "#0d0887"
             ],
             [
              0.1111111111111111,
              "#46039f"
             ],
             [
              0.2222222222222222,
              "#7201a8"
             ],
             [
              0.3333333333333333,
              "#9c179e"
             ],
             [
              0.4444444444444444,
              "#bd3786"
             ],
             [
              0.5555555555555556,
              "#d8576b"
             ],
             [
              0.6666666666666666,
              "#ed7953"
             ],
             [
              0.7777777777777778,
              "#fb9f3a"
             ],
             [
              0.8888888888888888,
              "#fdca26"
             ],
             [
              1,
              "#f0f921"
             ]
            ],
            "type": "contour"
           }
          ],
          "contourcarpet": [
           {
            "colorbar": {
             "outlinewidth": 0,
             "ticks": ""
            },
            "type": "contourcarpet"
           }
          ],
          "heatmap": [
           {
            "colorbar": {
             "outlinewidth": 0,
             "ticks": ""
            },
            "colorscale": [
             [
              0,
              "#0d0887"
             ],
             [
              0.1111111111111111,
              "#46039f"
             ],
             [
              0.2222222222222222,
              "#7201a8"
             ],
             [
              0.3333333333333333,
              "#9c179e"
             ],
             [
              0.4444444444444444,
              "#bd3786"
             ],
             [
              0.5555555555555556,
              "#d8576b"
             ],
             [
              0.6666666666666666,
              "#ed7953"
             ],
             [
              0.7777777777777778,
              "#fb9f3a"
             ],
             [
              0.8888888888888888,
              "#fdca26"
             ],
             [
              1,
              "#f0f921"
             ]
            ],
            "type": "heatmap"
           }
          ],
          "heatmapgl": [
           {
            "colorbar": {
             "outlinewidth": 0,
             "ticks": ""
            },
            "colorscale": [
             [
              0,
              "#0d0887"
             ],
             [
              0.1111111111111111,
              "#46039f"
             ],
             [
              0.2222222222222222,
              "#7201a8"
             ],
             [
              0.3333333333333333,
              "#9c179e"
             ],
             [
              0.4444444444444444,
              "#bd3786"
             ],
             [
              0.5555555555555556,
              "#d8576b"
             ],
             [
              0.6666666666666666,
              "#ed7953"
             ],
             [
              0.7777777777777778,
              "#fb9f3a"
             ],
             [
              0.8888888888888888,
              "#fdca26"
             ],
             [
              1,
              "#f0f921"
             ]
            ],
            "type": "heatmapgl"
           }
          ],
          "histogram": [
           {
            "marker": {
             "pattern": {
              "fillmode": "overlay",
              "size": 10,
              "solidity": 0.2
             }
            },
            "type": "histogram"
           }
          ],
          "histogram2d": [
           {
            "colorbar": {
             "outlinewidth": 0,
             "ticks": ""
            },
            "colorscale": [
             [
              0,
              "#0d0887"
             ],
             [
              0.1111111111111111,
              "#46039f"
             ],
             [
              0.2222222222222222,
              "#7201a8"
             ],
             [
              0.3333333333333333,
              "#9c179e"
             ],
             [
              0.4444444444444444,
              "#bd3786"
             ],
             [
              0.5555555555555556,
              "#d8576b"
             ],
             [
              0.6666666666666666,
              "#ed7953"
             ],
             [
              0.7777777777777778,
              "#fb9f3a"
             ],
             [
              0.8888888888888888,
              "#fdca26"
             ],
             [
              1,
              "#f0f921"
             ]
            ],
            "type": "histogram2d"
           }
          ],
          "histogram2dcontour": [
           {
            "colorbar": {
             "outlinewidth": 0,
             "ticks": ""
            },
            "colorscale": [
             [
              0,
              "#0d0887"
             ],
             [
              0.1111111111111111,
              "#46039f"
             ],
             [
              0.2222222222222222,
              "#7201a8"
             ],
             [
              0.3333333333333333,
              "#9c179e"
             ],
             [
              0.4444444444444444,
              "#bd3786"
             ],
             [
              0.5555555555555556,
              "#d8576b"
             ],
             [
              0.6666666666666666,
              "#ed7953"
             ],
             [
              0.7777777777777778,
              "#fb9f3a"
             ],
             [
              0.8888888888888888,
              "#fdca26"
             ],
             [
              1,
              "#f0f921"
             ]
            ],
            "type": "histogram2dcontour"
           }
          ],
          "mesh3d": [
           {
            "colorbar": {
             "outlinewidth": 0,
             "ticks": ""
            },
            "type": "mesh3d"
           }
          ],
          "parcoords": [
           {
            "line": {
             "colorbar": {
              "outlinewidth": 0,
              "ticks": ""
             }
            },
            "type": "parcoords"
           }
          ],
          "pie": [
           {
            "automargin": true,
            "type": "pie"
           }
          ],
          "scatter": [
           {
            "fillpattern": {
             "fillmode": "overlay",
             "size": 10,
             "solidity": 0.2
            },
            "type": "scatter"
           }
          ],
          "scatter3d": [
           {
            "line": {
             "colorbar": {
              "outlinewidth": 0,
              "ticks": ""
             }
            },
            "marker": {
             "colorbar": {
              "outlinewidth": 0,
              "ticks": ""
             }
            },
            "type": "scatter3d"
           }
          ],
          "scattercarpet": [
           {
            "marker": {
             "colorbar": {
              "outlinewidth": 0,
              "ticks": ""
             }
            },
            "type": "scattercarpet"
           }
          ],
          "scattergeo": [
           {
            "marker": {
             "colorbar": {
              "outlinewidth": 0,
              "ticks": ""
             }
            },
            "type": "scattergeo"
           }
          ],
          "scattergl": [
           {
            "marker": {
             "colorbar": {
              "outlinewidth": 0,
              "ticks": ""
             }
            },
            "type": "scattergl"
           }
          ],
          "scattermapbox": [
           {
            "marker": {
             "colorbar": {
              "outlinewidth": 0,
              "ticks": ""
             }
            },
            "type": "scattermapbox"
           }
          ],
          "scatterpolar": [
           {
            "marker": {
             "colorbar": {
              "outlinewidth": 0,
              "ticks": ""
             }
            },
            "type": "scatterpolar"
           }
          ],
          "scatterpolargl": [
           {
            "marker": {
             "colorbar": {
              "outlinewidth": 0,
              "ticks": ""
             }
            },
            "type": "scatterpolargl"
           }
          ],
          "scatterternary": [
           {
            "marker": {
             "colorbar": {
              "outlinewidth": 0,
              "ticks": ""
             }
            },
            "type": "scatterternary"
           }
          ],
          "surface": [
           {
            "colorbar": {
             "outlinewidth": 0,
             "ticks": ""
            },
            "colorscale": [
             [
              0,
              "#0d0887"
             ],
             [
              0.1111111111111111,
              "#46039f"
             ],
             [
              0.2222222222222222,
              "#7201a8"
             ],
             [
              0.3333333333333333,
              "#9c179e"
             ],
             [
              0.4444444444444444,
              "#bd3786"
             ],
             [
              0.5555555555555556,
              "#d8576b"
             ],
             [
              0.6666666666666666,
              "#ed7953"
             ],
             [
              0.7777777777777778,
              "#fb9f3a"
             ],
             [
              0.8888888888888888,
              "#fdca26"
             ],
             [
              1,
              "#f0f921"
             ]
            ],
            "type": "surface"
           }
          ],
          "table": [
           {
            "cells": {
             "fill": {
              "color": "#EBF0F8"
             },
             "line": {
              "color": "white"
             }
            },
            "header": {
             "fill": {
              "color": "#C8D4E3"
             },
             "line": {
              "color": "white"
             }
            },
            "type": "table"
           }
          ]
         },
         "layout": {
          "annotationdefaults": {
           "arrowcolor": "#2a3f5f",
           "arrowhead": 0,
           "arrowwidth": 1
          },
          "autotypenumbers": "strict",
          "coloraxis": {
           "colorbar": {
            "outlinewidth": 0,
            "ticks": ""
           }
          },
          "colorscale": {
           "diverging": [
            [
             0,
             "#8e0152"
            ],
            [
             0.1,
             "#c51b7d"
            ],
            [
             0.2,
             "#de77ae"
            ],
            [
             0.3,
             "#f1b6da"
            ],
            [
             0.4,
             "#fde0ef"
            ],
            [
             0.5,
             "#f7f7f7"
            ],
            [
             0.6,
             "#e6f5d0"
            ],
            [
             0.7,
             "#b8e186"
            ],
            [
             0.8,
             "#7fbc41"
            ],
            [
             0.9,
             "#4d9221"
            ],
            [
             1,
             "#276419"
            ]
           ],
           "sequential": [
            [
             0,
             "#0d0887"
            ],
            [
             0.1111111111111111,
             "#46039f"
            ],
            [
             0.2222222222222222,
             "#7201a8"
            ],
            [
             0.3333333333333333,
             "#9c179e"
            ],
            [
             0.4444444444444444,
             "#bd3786"
            ],
            [
             0.5555555555555556,
             "#d8576b"
            ],
            [
             0.6666666666666666,
             "#ed7953"
            ],
            [
             0.7777777777777778,
             "#fb9f3a"
            ],
            [
             0.8888888888888888,
             "#fdca26"
            ],
            [
             1,
             "#f0f921"
            ]
           ],
           "sequentialminus": [
            [
             0,
             "#0d0887"
            ],
            [
             0.1111111111111111,
             "#46039f"
            ],
            [
             0.2222222222222222,
             "#7201a8"
            ],
            [
             0.3333333333333333,
             "#9c179e"
            ],
            [
             0.4444444444444444,
             "#bd3786"
            ],
            [
             0.5555555555555556,
             "#d8576b"
            ],
            [
             0.6666666666666666,
             "#ed7953"
            ],
            [
             0.7777777777777778,
             "#fb9f3a"
            ],
            [
             0.8888888888888888,
             "#fdca26"
            ],
            [
             1,
             "#f0f921"
            ]
           ]
          },
          "colorway": [
           "#636efa",
           "#EF553B",
           "#00cc96",
           "#ab63fa",
           "#FFA15A",
           "#19d3f3",
           "#FF6692",
           "#B6E880",
           "#FF97FF",
           "#FECB52"
          ],
          "font": {
           "color": "#2a3f5f"
          },
          "geo": {
           "bgcolor": "white",
           "lakecolor": "white",
           "landcolor": "#E5ECF6",
           "showlakes": true,
           "showland": true,
           "subunitcolor": "white"
          },
          "hoverlabel": {
           "align": "left"
          },
          "hovermode": "closest",
          "mapbox": {
           "style": "light"
          },
          "paper_bgcolor": "white",
          "plot_bgcolor": "#E5ECF6",
          "polar": {
           "angularaxis": {
            "gridcolor": "white",
            "linecolor": "white",
            "ticks": ""
           },
           "bgcolor": "#E5ECF6",
           "radialaxis": {
            "gridcolor": "white",
            "linecolor": "white",
            "ticks": ""
           }
          },
          "scene": {
           "xaxis": {
            "backgroundcolor": "#E5ECF6",
            "gridcolor": "white",
            "gridwidth": 2,
            "linecolor": "white",
            "showbackground": true,
            "ticks": "",
            "zerolinecolor": "white"
           },
           "yaxis": {
            "backgroundcolor": "#E5ECF6",
            "gridcolor": "white",
            "gridwidth": 2,
            "linecolor": "white",
            "showbackground": true,
            "ticks": "",
            "zerolinecolor": "white"
           },
           "zaxis": {
            "backgroundcolor": "#E5ECF6",
            "gridcolor": "white",
            "gridwidth": 2,
            "linecolor": "white",
            "showbackground": true,
            "ticks": "",
            "zerolinecolor": "white"
           }
          },
          "shapedefaults": {
           "line": {
            "color": "#2a3f5f"
           }
          },
          "ternary": {
           "aaxis": {
            "gridcolor": "white",
            "linecolor": "white",
            "ticks": ""
           },
           "baxis": {
            "gridcolor": "white",
            "linecolor": "white",
            "ticks": ""
           },
           "bgcolor": "#E5ECF6",
           "caxis": {
            "gridcolor": "white",
            "linecolor": "white",
            "ticks": ""
           }
          },
          "title": {
           "x": 0.05
          },
          "xaxis": {
           "automargin": true,
           "gridcolor": "white",
           "linecolor": "white",
           "ticks": "",
           "title": {
            "standoff": 15
           },
           "zerolinecolor": "white",
           "zerolinewidth": 2
          },
          "yaxis": {
           "automargin": true,
           "gridcolor": "white",
           "linecolor": "white",
           "ticks": "",
           "title": {
            "standoff": 15
           },
           "zerolinecolor": "white",
           "zerolinewidth": 2
          }
         }
        },
        "title": {
         "text": "Nevada Data: In-Sample Model Comparison"
        },
        "xaxis": {
         "anchor": "y",
         "domain": [
          0,
          1
         ]
        },
        "yaxis": {
         "anchor": "x",
         "domain": [
          0,
          1
         ],
         "title": {
          "text": "3-SPCV Estimated MSE"
         }
        }
       }
      }
     },
     "metadata": {},
     "output_type": "display_data"
    }
   ],
   "source": [
    "fig_CV2 = make_subplots(\n",
    "    rows=1, cols=1\n",
    ")\n",
    "\n",
    "df_CV2 = pd.DataFrame({est_names[i]: errs_SSN[i + 2*len(est_names)] for i in np.arange(len(est_names))})\n",
    "\n",
    "fig_CV2.add_trace(go.Bar(\n",
    "    x = df_CV2.columns,\n",
    "    y=df_CV2.mean(),\n",
    "    marker_color=px.colors.qualitative.Bold[2],\n",
    "    text=np.around(df_CV2.mean(),3),\n",
    "    textposition='outside',\n",
    "    error_y=dict(\n",
    "        type='data',\n",
    "        color='black',\n",
    "        array=df_CV2.std(),\n",
    "    )\n",
    "), row=1, col=1)\n",
    "\n",
    "fig_CV2.update_yaxes(title_text=\"3-SPCV Estimated MSE\", row=1, col=1)\n",
    "fig_CV2.update_layout(title_text=\"Nevada Data: In-Sample Model Comparison\", showlegend=False)\n",
    "fig_CV2.show()"
   ]
  },
  {
   "cell_type": "code",
   "execution_count": null,
   "metadata": {},
   "outputs": [],
   "source": []
  }
 ],
 "metadata": {
  "celltoolbar": "Tags",
  "kernelspec": {
   "display_name": "spe",
   "language": "python",
   "name": "python3"
  },
  "language_info": {
   "codemirror_mode": {
    "name": "ipython",
    "version": 3
   },
   "file_extension": ".py",
   "mimetype": "text/x-python",
   "name": "python",
   "nbconvert_exporter": "python",
   "pygments_lexer": "ipython3",
   "version": "3.10.18"
  }
 },
 "nbformat": 4,
 "nbformat_minor": 4
}
