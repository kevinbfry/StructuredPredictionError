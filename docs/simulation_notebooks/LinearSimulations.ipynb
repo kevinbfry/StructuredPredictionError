{
 "cells": [
  {
   "cell_type": "code",
   "execution_count": 1,
   "metadata": {},
   "outputs": [],
   "source": [
    "import numpy as np\n",
    "from sklearn.gaussian_process.kernels import Matern, RBF\n",
    "\n",
    "from doc.mse_estimator import ErrorComparer\n",
    "from doc.data_generation import gen_rbf_X, gen_matern_X, gen_cov_mat\n",
    "from doc.plotting_utils import gen_model_barplots\n",
    "from spe.estimators import kfoldcv, kmeanscv, new_y_est, cp_smoother \n",
    "from spe.smoothers import LinearRegression, BSplineRegressor"
   ]
  },
  {
   "cell_type": "code",
   "execution_count": 2,
   "metadata": {},
   "outputs": [],
   "source": [
    "np.random.seed(1)"
   ]
  },
  {
   "cell_type": "code",
   "execution_count": 3,
   "metadata": {
    "tags": [
     "parameters"
    ]
   },
   "outputs": [],
   "source": [
    "## number of realizations to run\n",
    "niter = 100\n",
    "\n",
    "## data generation parameters\n",
    "gsize=10\n",
    "n=10**2\n",
    "p=5\n",
    "s=5\n",
    "delta = 0.75\n",
    "snr = 0.4\n",
    "tr_frac = .25\n",
    "\n",
    "noise_kernel = 'matern'\n",
    "noise_length_scale = 1.\n",
    "noise_nu = .5\n",
    "\n",
    "X_kernel = 'matern'\n",
    "X_length_scale = 5.\n",
    "X_nu = 2.5\n",
    "\n",
    "## ErrorComparer parameters\n",
    "nboot = 100\n",
    "k = 5\n",
    "models = [LinearRegression(fit_intercept=False), BSplineRegressor()]\n",
    "ests = [\n",
    "    new_y_est,\n",
    "    cp_smoother,\n",
    "    kfoldcv, \n",
    "    kmeanscv\n",
    "]\n",
    "est_kwargs = [\n",
    "    {},\n",
    "    {},\n",
    "    {'k': k},\n",
    "    {'k': k}\n",
    "]\n",
    "\n",
    "## plot parameters\n",
    "model_names = [\"Linear Regression\", \"Spline Regression\"]\n",
    "est_names = [\"GenCp\", \"KFCV\", \"SPCV\"]"
   ]
  },
  {
   "cell_type": "code",
   "execution_count": 4,
   "metadata": {},
   "outputs": [],
   "source": [
    "err_cmp = ErrorComparer()"
   ]
  },
  {
   "cell_type": "code",
   "execution_count": 5,
   "metadata": {},
   "outputs": [],
   "source": [
    "nx = ny = int(np.sqrt(n))\n",
    "xs = np.linspace(0, gsize, nx)\n",
    "ys = np.linspace(0, gsize, ny)\n",
    "c_x, c_y = np.meshgrid(xs, ys)\n",
    "c_x = c_x.flatten()\n",
    "c_y = c_y.flatten()\n",
    "coord = np.stack([c_x, c_y]).T"
   ]
  },
  {
   "cell_type": "code",
   "execution_count": 6,
   "metadata": {},
   "outputs": [],
   "source": [
    "if noise_kernel == 'rbf':\n",
    "    Sigma_t = gen_cov_mat(c_x, c_y, RBF(length_scale=noise_length_scale))\n",
    "elif noise_kernel == 'matern':\n",
    "    Sigma_t = gen_cov_mat(c_x, c_y, Matern(length_scale=noise_length_scale, nu=noise_nu))\n",
    "else:\n",
    "    Sigma_t = np.eye(n)\n",
    "    \n",
    "Cov_y_ystar = delta*Sigma_t\n",
    "Sigma_t = delta*Sigma_t + (1-delta)*np.eye(n)\n",
    "\n",
    "if noise_kernel == 'rbf' or noise_kernel == 'matern':\n",
    "    Chol_y = np.linalg.cholesky(Sigma_t)\n",
    "else:\n",
    "    Chol_y = np.eye(n)"
   ]
  },
  {
   "cell_type": "code",
   "execution_count": 7,
   "metadata": {},
   "outputs": [],
   "source": [
    "if X_kernel == 'rbf':\n",
    "    X = gen_rbf_X(c_x, c_y, p)\n",
    "elif X_kernel == 'matern':\n",
    "    X = gen_matern_X(c_x, c_y, p, length_scale=X_length_scale, nu=X_nu)\n",
    "else:\n",
    "    X = np.random.randn(n,p)\n",
    "\n",
    "beta = np.zeros(p)\n",
    "idx = np.random.choice(p,size=s,replace=False)\n",
    "beta[idx] = np.random.uniform(-1,1,size=s)"
   ]
  },
  {
   "cell_type": "code",
   "execution_count": 8,
   "metadata": {},
   "outputs": [],
   "source": [
    "tr_idx = np.ones(n, dtype=bool)"
   ]
  },
  {
   "attachments": {},
   "cell_type": "markdown",
   "metadata": {},
   "source": [
    "# Simulate $Y, Y^* \\overset{iid}{\\sim} \\mathcal{N}(\\mu, \\Sigma_Y)$"
   ]
  },
  {
   "cell_type": "code",
   "execution_count": 9,
   "metadata": {
    "scrolled": true
   },
   "outputs": [
    {
     "name": "stderr",
     "output_type": "stream",
     "text": [
      "  0%|          | 0/100 [00:00<?, ?it/s]"
     ]
    },
    {
     "name": "stderr",
     "output_type": "stream",
     "text": [
      "/Users/kevinfry/opt/anaconda3/envs/spe/lib/python3.11/site-packages/sklearn/model_selection/_validation.py:73: FutureWarning: `fit_params` is deprecated and will be removed in version 1.6. Pass parameters via `params` instead.\n",
      "  warnings.warn(\n",
      "/Users/kevinfry/opt/anaconda3/envs/spe/lib/python3.11/site-packages/sklearn/model_selection/_validation.py:73: FutureWarning: `fit_params` is deprecated and will be removed in version 1.6. Pass parameters via `params` instead.\n",
      "  warnings.warn(\n",
      "/Users/kevinfry/opt/anaconda3/envs/spe/lib/python3.11/site-packages/sklearn/model_selection/_validation.py:73: FutureWarning: `fit_params` is deprecated and will be removed in version 1.6. Pass parameters via `params` instead.\n",
      "  warnings.warn(\n",
      "/Users/kevinfry/opt/anaconda3/envs/spe/lib/python3.11/site-packages/sklearn/model_selection/_validation.py:73: FutureWarning: `fit_params` is deprecated and will be removed in version 1.6. Pass parameters via `params` instead.\n",
      "  warnings.warn(\n",
      "/Users/kevinfry/opt/anaconda3/envs/spe/lib/python3.11/site-packages/sklearn/model_selection/_validation.py:73: FutureWarning: `fit_params` is deprecated and will be removed in version 1.6. Pass parameters via `params` instead.\n",
      "  warnings.warn(\n",
      "/Users/kevinfry/opt/anaconda3/envs/spe/lib/python3.11/site-packages/sklearn/model_selection/_validation.py:73: FutureWarning: `fit_params` is deprecated and will be removed in version 1.6. Pass parameters via `params` instead.\n",
      "  warnings.warn(\n",
      "  3%|▎         | 3/100 [00:00<00:03, 28.25it/s]/Users/kevinfry/opt/anaconda3/envs/spe/lib/python3.11/site-packages/sklearn/model_selection/_validation.py:73: FutureWarning: `fit_params` is deprecated and will be removed in version 1.6. Pass parameters via `params` instead.\n",
      "  warnings.warn(\n",
      "/Users/kevinfry/opt/anaconda3/envs/spe/lib/python3.11/site-packages/sklearn/model_selection/_validation.py:73: FutureWarning: `fit_params` is deprecated and will be removed in version 1.6. Pass parameters via `params` instead.\n",
      "  warnings.warn(\n",
      "/Users/kevinfry/opt/anaconda3/envs/spe/lib/python3.11/site-packages/sklearn/model_selection/_validation.py:73: FutureWarning: `fit_params` is deprecated and will be removed in version 1.6. Pass parameters via `params` instead.\n",
      "  warnings.warn(\n",
      "/Users/kevinfry/opt/anaconda3/envs/spe/lib/python3.11/site-packages/sklearn/model_selection/_validation.py:73: FutureWarning: `fit_params` is deprecated and will be removed in version 1.6. Pass parameters via `params` instead.\n",
      "  warnings.warn(\n",
      "/Users/kevinfry/opt/anaconda3/envs/spe/lib/python3.11/site-packages/sklearn/model_selection/_validation.py:73: FutureWarning: `fit_params` is deprecated and will be removed in version 1.6. Pass parameters via `params` instead.\n",
      "  warnings.warn(\n",
      "/Users/kevinfry/opt/anaconda3/envs/spe/lib/python3.11/site-packages/sklearn/model_selection/_validation.py:73: FutureWarning: `fit_params` is deprecated and will be removed in version 1.6. Pass parameters via `params` instead.\n",
      "  warnings.warn(\n",
      "  6%|▌         | 6/100 [00:00<00:04, 20.35it/s]/Users/kevinfry/opt/anaconda3/envs/spe/lib/python3.11/site-packages/sklearn/model_selection/_validation.py:73: FutureWarning: `fit_params` is deprecated and will be removed in version 1.6. Pass parameters via `params` instead.\n",
      "  warnings.warn(\n",
      "/Users/kevinfry/opt/anaconda3/envs/spe/lib/python3.11/site-packages/sklearn/model_selection/_validation.py:73: FutureWarning: `fit_params` is deprecated and will be removed in version 1.6. Pass parameters via `params` instead.\n",
      "  warnings.warn(\n",
      "/Users/kevinfry/opt/anaconda3/envs/spe/lib/python3.11/site-packages/sklearn/model_selection/_validation.py:73: FutureWarning: `fit_params` is deprecated and will be removed in version 1.6. Pass parameters via `params` instead.\n",
      "  warnings.warn(\n",
      "/Users/kevinfry/opt/anaconda3/envs/spe/lib/python3.11/site-packages/sklearn/model_selection/_validation.py:73: FutureWarning: `fit_params` is deprecated and will be removed in version 1.6. Pass parameters via `params` instead.\n",
      "  warnings.warn(\n",
      "/Users/kevinfry/opt/anaconda3/envs/spe/lib/python3.11/site-packages/sklearn/model_selection/_validation.py:73: FutureWarning: `fit_params` is deprecated and will be removed in version 1.6. Pass parameters via `params` instead.\n",
      "  warnings.warn(\n",
      "/Users/kevinfry/opt/anaconda3/envs/spe/lib/python3.11/site-packages/sklearn/model_selection/_validation.py:73: FutureWarning: `fit_params` is deprecated and will be removed in version 1.6. Pass parameters via `params` instead.\n",
      "  warnings.warn(\n",
      "  9%|▉         | 9/100 [00:00<00:09,  9.51it/s]/Users/kevinfry/opt/anaconda3/envs/spe/lib/python3.11/site-packages/sklearn/model_selection/_validation.py:73: FutureWarning: `fit_params` is deprecated and will be removed in version 1.6. Pass parameters via `params` instead.\n",
      "  warnings.warn(\n",
      "/Users/kevinfry/opt/anaconda3/envs/spe/lib/python3.11/site-packages/sklearn/model_selection/_validation.py:73: FutureWarning: `fit_params` is deprecated and will be removed in version 1.6. Pass parameters via `params` instead.\n",
      "  warnings.warn(\n",
      "/Users/kevinfry/opt/anaconda3/envs/spe/lib/python3.11/site-packages/sklearn/model_selection/_validation.py:73: FutureWarning: `fit_params` is deprecated and will be removed in version 1.6. Pass parameters via `params` instead.\n",
      "  warnings.warn(\n",
      "/Users/kevinfry/opt/anaconda3/envs/spe/lib/python3.11/site-packages/sklearn/model_selection/_validation.py:73: FutureWarning: `fit_params` is deprecated and will be removed in version 1.6. Pass parameters via `params` instead.\n",
      "  warnings.warn(\n",
      " 11%|█         | 11/100 [00:00<00:09,  9.77it/s]/Users/kevinfry/opt/anaconda3/envs/spe/lib/python3.11/site-packages/sklearn/model_selection/_validation.py:73: FutureWarning: `fit_params` is deprecated and will be removed in version 1.6. Pass parameters via `params` instead.\n",
      "  warnings.warn(\n",
      "/Users/kevinfry/opt/anaconda3/envs/spe/lib/python3.11/site-packages/sklearn/model_selection/_validation.py:73: FutureWarning: `fit_params` is deprecated and will be removed in version 1.6. Pass parameters via `params` instead.\n",
      "  warnings.warn(\n",
      "/Users/kevinfry/opt/anaconda3/envs/spe/lib/python3.11/site-packages/sklearn/model_selection/_validation.py:73: FutureWarning: `fit_params` is deprecated and will be removed in version 1.6. Pass parameters via `params` instead.\n",
      "  warnings.warn(\n",
      "/Users/kevinfry/opt/anaconda3/envs/spe/lib/python3.11/site-packages/sklearn/model_selection/_validation.py:73: FutureWarning: `fit_params` is deprecated and will be removed in version 1.6. Pass parameters via `params` instead.\n",
      "  warnings.warn(\n",
      " 13%|█▎        | 13/100 [00:01<00:09,  9.54it/s]/Users/kevinfry/opt/anaconda3/envs/spe/lib/python3.11/site-packages/sklearn/model_selection/_validation.py:73: FutureWarning: `fit_params` is deprecated and will be removed in version 1.6. Pass parameters via `params` instead.\n",
      "  warnings.warn(\n",
      "/Users/kevinfry/opt/anaconda3/envs/spe/lib/python3.11/site-packages/sklearn/model_selection/_validation.py:73: FutureWarning: `fit_params` is deprecated and will be removed in version 1.6. Pass parameters via `params` instead.\n",
      "  warnings.warn(\n",
      "/Users/kevinfry/opt/anaconda3/envs/spe/lib/python3.11/site-packages/sklearn/model_selection/_validation.py:73: FutureWarning: `fit_params` is deprecated and will be removed in version 1.6. Pass parameters via `params` instead.\n",
      "  warnings.warn(\n",
      "/Users/kevinfry/opt/anaconda3/envs/spe/lib/python3.11/site-packages/sklearn/model_selection/_validation.py:73: FutureWarning: `fit_params` is deprecated and will be removed in version 1.6. Pass parameters via `params` instead.\n",
      "  warnings.warn(\n",
      " 15%|█▌        | 15/100 [00:01<00:07, 11.24it/s]/Users/kevinfry/opt/anaconda3/envs/spe/lib/python3.11/site-packages/sklearn/model_selection/_validation.py:73: FutureWarning: `fit_params` is deprecated and will be removed in version 1.6. Pass parameters via `params` instead.\n",
      "  warnings.warn(\n",
      "/Users/kevinfry/opt/anaconda3/envs/spe/lib/python3.11/site-packages/sklearn/model_selection/_validation.py:73: FutureWarning: `fit_params` is deprecated and will be removed in version 1.6. Pass parameters via `params` instead.\n",
      "  warnings.warn(\n",
      "/Users/kevinfry/opt/anaconda3/envs/spe/lib/python3.11/site-packages/sklearn/model_selection/_validation.py:73: FutureWarning: `fit_params` is deprecated and will be removed in version 1.6. Pass parameters via `params` instead.\n",
      "  warnings.warn(\n",
      "/Users/kevinfry/opt/anaconda3/envs/spe/lib/python3.11/site-packages/sklearn/model_selection/_validation.py:73: FutureWarning: `fit_params` is deprecated and will be removed in version 1.6. Pass parameters via `params` instead.\n",
      "  warnings.warn(\n",
      " 17%|█▋        | 17/100 [00:01<00:08,  9.93it/s]/Users/kevinfry/opt/anaconda3/envs/spe/lib/python3.11/site-packages/sklearn/model_selection/_validation.py:73: FutureWarning: `fit_params` is deprecated and will be removed in version 1.6. Pass parameters via `params` instead.\n",
      "  warnings.warn(\n",
      "/Users/kevinfry/opt/anaconda3/envs/spe/lib/python3.11/site-packages/sklearn/model_selection/_validation.py:73: FutureWarning: `fit_params` is deprecated and will be removed in version 1.6. Pass parameters via `params` instead.\n",
      "  warnings.warn(\n",
      "/Users/kevinfry/opt/anaconda3/envs/spe/lib/python3.11/site-packages/sklearn/model_selection/_validation.py:73: FutureWarning: `fit_params` is deprecated and will be removed in version 1.6. Pass parameters via `params` instead.\n",
      "  warnings.warn(\n",
      "/Users/kevinfry/opt/anaconda3/envs/spe/lib/python3.11/site-packages/sklearn/model_selection/_validation.py:73: FutureWarning: `fit_params` is deprecated and will be removed in version 1.6. Pass parameters via `params` instead.\n",
      "  warnings.warn(\n",
      " 19%|█▉        | 19/100 [00:01<00:08,  9.99it/s]/Users/kevinfry/opt/anaconda3/envs/spe/lib/python3.11/site-packages/sklearn/model_selection/_validation.py:73: FutureWarning: `fit_params` is deprecated and will be removed in version 1.6. Pass parameters via `params` instead.\n",
      "  warnings.warn(\n",
      "/Users/kevinfry/opt/anaconda3/envs/spe/lib/python3.11/site-packages/sklearn/model_selection/_validation.py:73: FutureWarning: `fit_params` is deprecated and will be removed in version 1.6. Pass parameters via `params` instead.\n",
      "  warnings.warn(\n",
      "/Users/kevinfry/opt/anaconda3/envs/spe/lib/python3.11/site-packages/sklearn/model_selection/_validation.py:73: FutureWarning: `fit_params` is deprecated and will be removed in version 1.6. Pass parameters via `params` instead.\n",
      "  warnings.warn(\n",
      "/Users/kevinfry/opt/anaconda3/envs/spe/lib/python3.11/site-packages/sklearn/model_selection/_validation.py:73: FutureWarning: `fit_params` is deprecated and will be removed in version 1.6. Pass parameters via `params` instead.\n",
      "  warnings.warn(\n",
      " 21%|██        | 21/100 [00:01<00:08,  9.73it/s]/Users/kevinfry/opt/anaconda3/envs/spe/lib/python3.11/site-packages/sklearn/model_selection/_validation.py:73: FutureWarning: `fit_params` is deprecated and will be removed in version 1.6. Pass parameters via `params` instead.\n",
      "  warnings.warn(\n",
      "/Users/kevinfry/opt/anaconda3/envs/spe/lib/python3.11/site-packages/sklearn/model_selection/_validation.py:73: FutureWarning: `fit_params` is deprecated and will be removed in version 1.6. Pass parameters via `params` instead.\n",
      "  warnings.warn(\n",
      "/Users/kevinfry/opt/anaconda3/envs/spe/lib/python3.11/site-packages/sklearn/model_selection/_validation.py:73: FutureWarning: `fit_params` is deprecated and will be removed in version 1.6. Pass parameters via `params` instead.\n",
      "  warnings.warn(\n",
      "/Users/kevinfry/opt/anaconda3/envs/spe/lib/python3.11/site-packages/sklearn/model_selection/_validation.py:73: FutureWarning: `fit_params` is deprecated and will be removed in version 1.6. Pass parameters via `params` instead.\n",
      "  warnings.warn(\n",
      " 23%|██▎       | 23/100 [00:02<00:07,  9.74it/s]/Users/kevinfry/opt/anaconda3/envs/spe/lib/python3.11/site-packages/sklearn/model_selection/_validation.py:73: FutureWarning: `fit_params` is deprecated and will be removed in version 1.6. Pass parameters via `params` instead.\n",
      "  warnings.warn(\n",
      "/Users/kevinfry/opt/anaconda3/envs/spe/lib/python3.11/site-packages/sklearn/model_selection/_validation.py:73: FutureWarning: `fit_params` is deprecated and will be removed in version 1.6. Pass parameters via `params` instead.\n",
      "  warnings.warn(\n",
      "/Users/kevinfry/opt/anaconda3/envs/spe/lib/python3.11/site-packages/sklearn/model_selection/_validation.py:73: FutureWarning: `fit_params` is deprecated and will be removed in version 1.6. Pass parameters via `params` instead.\n",
      "  warnings.warn(\n",
      "/Users/kevinfry/opt/anaconda3/envs/spe/lib/python3.11/site-packages/sklearn/model_selection/_validation.py:73: FutureWarning: `fit_params` is deprecated and will be removed in version 1.6. Pass parameters via `params` instead.\n",
      "  warnings.warn(\n",
      " 25%|██▌       | 25/100 [00:02<00:07,  9.94it/s]/Users/kevinfry/opt/anaconda3/envs/spe/lib/python3.11/site-packages/sklearn/model_selection/_validation.py:73: FutureWarning: `fit_params` is deprecated and will be removed in version 1.6. Pass parameters via `params` instead.\n",
      "  warnings.warn(\n",
      "/Users/kevinfry/opt/anaconda3/envs/spe/lib/python3.11/site-packages/sklearn/model_selection/_validation.py:73: FutureWarning: `fit_params` is deprecated and will be removed in version 1.6. Pass parameters via `params` instead.\n",
      "  warnings.warn(\n",
      "/Users/kevinfry/opt/anaconda3/envs/spe/lib/python3.11/site-packages/sklearn/model_selection/_validation.py:73: FutureWarning: `fit_params` is deprecated and will be removed in version 1.6. Pass parameters via `params` instead.\n",
      "  warnings.warn(\n",
      "/Users/kevinfry/opt/anaconda3/envs/spe/lib/python3.11/site-packages/sklearn/model_selection/_validation.py:73: FutureWarning: `fit_params` is deprecated and will be removed in version 1.6. Pass parameters via `params` instead.\n",
      "  warnings.warn(\n",
      " 27%|██▋       | 27/100 [00:02<00:07,  9.61it/s]/Users/kevinfry/opt/anaconda3/envs/spe/lib/python3.11/site-packages/sklearn/model_selection/_validation.py:73: FutureWarning: `fit_params` is deprecated and will be removed in version 1.6. Pass parameters via `params` instead.\n",
      "  warnings.warn(\n",
      "/Users/kevinfry/opt/anaconda3/envs/spe/lib/python3.11/site-packages/sklearn/model_selection/_validation.py:73: FutureWarning: `fit_params` is deprecated and will be removed in version 1.6. Pass parameters via `params` instead.\n",
      "  warnings.warn(\n",
      "/Users/kevinfry/opt/anaconda3/envs/spe/lib/python3.11/site-packages/sklearn/model_selection/_validation.py:73: FutureWarning: `fit_params` is deprecated and will be removed in version 1.6. Pass parameters via `params` instead.\n",
      "  warnings.warn(\n",
      "/Users/kevinfry/opt/anaconda3/envs/spe/lib/python3.11/site-packages/sklearn/model_selection/_validation.py:73: FutureWarning: `fit_params` is deprecated and will be removed in version 1.6. Pass parameters via `params` instead.\n",
      "  warnings.warn(\n",
      " 29%|██▉       | 29/100 [00:02<00:06, 10.63it/s]/Users/kevinfry/opt/anaconda3/envs/spe/lib/python3.11/site-packages/sklearn/model_selection/_validation.py:73: FutureWarning: `fit_params` is deprecated and will be removed in version 1.6. Pass parameters via `params` instead.\n",
      "  warnings.warn(\n",
      "/Users/kevinfry/opt/anaconda3/envs/spe/lib/python3.11/site-packages/sklearn/model_selection/_validation.py:73: FutureWarning: `fit_params` is deprecated and will be removed in version 1.6. Pass parameters via `params` instead.\n",
      "  warnings.warn(\n",
      "/Users/kevinfry/opt/anaconda3/envs/spe/lib/python3.11/site-packages/sklearn/model_selection/_validation.py:73: FutureWarning: `fit_params` is deprecated and will be removed in version 1.6. Pass parameters via `params` instead.\n",
      "  warnings.warn(\n",
      "/Users/kevinfry/opt/anaconda3/envs/spe/lib/python3.11/site-packages/sklearn/model_selection/_validation.py:73: FutureWarning: `fit_params` is deprecated and will be removed in version 1.6. Pass parameters via `params` instead.\n",
      "  warnings.warn(\n",
      " 31%|███       | 31/100 [00:02<00:06, 10.56it/s]/Users/kevinfry/opt/anaconda3/envs/spe/lib/python3.11/site-packages/sklearn/model_selection/_validation.py:73: FutureWarning: `fit_params` is deprecated and will be removed in version 1.6. Pass parameters via `params` instead.\n",
      "  warnings.warn(\n",
      "/Users/kevinfry/opt/anaconda3/envs/spe/lib/python3.11/site-packages/sklearn/model_selection/_validation.py:73: FutureWarning: `fit_params` is deprecated and will be removed in version 1.6. Pass parameters via `params` instead.\n",
      "  warnings.warn(\n",
      "/Users/kevinfry/opt/anaconda3/envs/spe/lib/python3.11/site-packages/sklearn/model_selection/_validation.py:73: FutureWarning: `fit_params` is deprecated and will be removed in version 1.6. Pass parameters via `params` instead.\n",
      "  warnings.warn(\n",
      "/Users/kevinfry/opt/anaconda3/envs/spe/lib/python3.11/site-packages/sklearn/model_selection/_validation.py:73: FutureWarning: `fit_params` is deprecated and will be removed in version 1.6. Pass parameters via `params` instead.\n",
      "  warnings.warn(\n",
      " 33%|███▎      | 33/100 [00:03<00:06, 10.31it/s]/Users/kevinfry/opt/anaconda3/envs/spe/lib/python3.11/site-packages/sklearn/model_selection/_validation.py:73: FutureWarning: `fit_params` is deprecated and will be removed in version 1.6. Pass parameters via `params` instead.\n",
      "  warnings.warn(\n",
      "/Users/kevinfry/opt/anaconda3/envs/spe/lib/python3.11/site-packages/sklearn/model_selection/_validation.py:73: FutureWarning: `fit_params` is deprecated and will be removed in version 1.6. Pass parameters via `params` instead.\n",
      "  warnings.warn(\n",
      "/Users/kevinfry/opt/anaconda3/envs/spe/lib/python3.11/site-packages/sklearn/model_selection/_validation.py:73: FutureWarning: `fit_params` is deprecated and will be removed in version 1.6. Pass parameters via `params` instead.\n",
      "  warnings.warn(\n",
      "/Users/kevinfry/opt/anaconda3/envs/spe/lib/python3.11/site-packages/sklearn/model_selection/_validation.py:73: FutureWarning: `fit_params` is deprecated and will be removed in version 1.6. Pass parameters via `params` instead.\n",
      "  warnings.warn(\n",
      " 35%|███▌      | 35/100 [00:03<00:05, 11.08it/s]/Users/kevinfry/opt/anaconda3/envs/spe/lib/python3.11/site-packages/sklearn/model_selection/_validation.py:73: FutureWarning: `fit_params` is deprecated and will be removed in version 1.6. Pass parameters via `params` instead.\n",
      "  warnings.warn(\n",
      "/Users/kevinfry/opt/anaconda3/envs/spe/lib/python3.11/site-packages/sklearn/model_selection/_validation.py:73: FutureWarning: `fit_params` is deprecated and will be removed in version 1.6. Pass parameters via `params` instead.\n",
      "  warnings.warn(\n",
      "/Users/kevinfry/opt/anaconda3/envs/spe/lib/python3.11/site-packages/sklearn/model_selection/_validation.py:73: FutureWarning: `fit_params` is deprecated and will be removed in version 1.6. Pass parameters via `params` instead.\n",
      "  warnings.warn(\n",
      "/Users/kevinfry/opt/anaconda3/envs/spe/lib/python3.11/site-packages/sklearn/model_selection/_validation.py:73: FutureWarning: `fit_params` is deprecated and will be removed in version 1.6. Pass parameters via `params` instead.\n",
      "  warnings.warn(\n",
      " 37%|███▋      | 37/100 [00:03<00:05, 10.82it/s]/Users/kevinfry/opt/anaconda3/envs/spe/lib/python3.11/site-packages/sklearn/model_selection/_validation.py:73: FutureWarning: `fit_params` is deprecated and will be removed in version 1.6. Pass parameters via `params` instead.\n",
      "  warnings.warn(\n",
      "/Users/kevinfry/opt/anaconda3/envs/spe/lib/python3.11/site-packages/sklearn/model_selection/_validation.py:73: FutureWarning: `fit_params` is deprecated and will be removed in version 1.6. Pass parameters via `params` instead.\n",
      "  warnings.warn(\n",
      "/Users/kevinfry/opt/anaconda3/envs/spe/lib/python3.11/site-packages/sklearn/model_selection/_validation.py:73: FutureWarning: `fit_params` is deprecated and will be removed in version 1.6. Pass parameters via `params` instead.\n",
      "  warnings.warn(\n",
      "/Users/kevinfry/opt/anaconda3/envs/spe/lib/python3.11/site-packages/sklearn/model_selection/_validation.py:73: FutureWarning: `fit_params` is deprecated and will be removed in version 1.6. Pass parameters via `params` instead.\n",
      "  warnings.warn(\n",
      " 39%|███▉      | 39/100 [00:03<00:05, 10.50it/s]/Users/kevinfry/opt/anaconda3/envs/spe/lib/python3.11/site-packages/sklearn/model_selection/_validation.py:73: FutureWarning: `fit_params` is deprecated and will be removed in version 1.6. Pass parameters via `params` instead.\n",
      "  warnings.warn(\n",
      "/Users/kevinfry/opt/anaconda3/envs/spe/lib/python3.11/site-packages/sklearn/model_selection/_validation.py:73: FutureWarning: `fit_params` is deprecated and will be removed in version 1.6. Pass parameters via `params` instead.\n",
      "  warnings.warn(\n",
      "/Users/kevinfry/opt/anaconda3/envs/spe/lib/python3.11/site-packages/sklearn/model_selection/_validation.py:73: FutureWarning: `fit_params` is deprecated and will be removed in version 1.6. Pass parameters via `params` instead.\n",
      "  warnings.warn(\n",
      "/Users/kevinfry/opt/anaconda3/envs/spe/lib/python3.11/site-packages/sklearn/model_selection/_validation.py:73: FutureWarning: `fit_params` is deprecated and will be removed in version 1.6. Pass parameters via `params` instead.\n",
      "  warnings.warn(\n",
      " 41%|████      | 41/100 [00:03<00:05, 11.43it/s]/Users/kevinfry/opt/anaconda3/envs/spe/lib/python3.11/site-packages/sklearn/model_selection/_validation.py:73: FutureWarning: `fit_params` is deprecated and will be removed in version 1.6. Pass parameters via `params` instead.\n",
      "  warnings.warn(\n",
      "/Users/kevinfry/opt/anaconda3/envs/spe/lib/python3.11/site-packages/sklearn/model_selection/_validation.py:73: FutureWarning: `fit_params` is deprecated and will be removed in version 1.6. Pass parameters via `params` instead.\n",
      "  warnings.warn(\n",
      "/Users/kevinfry/opt/anaconda3/envs/spe/lib/python3.11/site-packages/sklearn/model_selection/_validation.py:73: FutureWarning: `fit_params` is deprecated and will be removed in version 1.6. Pass parameters via `params` instead.\n",
      "  warnings.warn(\n",
      "/Users/kevinfry/opt/anaconda3/envs/spe/lib/python3.11/site-packages/sklearn/model_selection/_validation.py:73: FutureWarning: `fit_params` is deprecated and will be removed in version 1.6. Pass parameters via `params` instead.\n",
      "  warnings.warn(\n",
      " 43%|████▎     | 43/100 [00:04<00:05, 10.80it/s]/Users/kevinfry/opt/anaconda3/envs/spe/lib/python3.11/site-packages/sklearn/model_selection/_validation.py:73: FutureWarning: `fit_params` is deprecated and will be removed in version 1.6. Pass parameters via `params` instead.\n",
      "  warnings.warn(\n",
      "/Users/kevinfry/opt/anaconda3/envs/spe/lib/python3.11/site-packages/sklearn/model_selection/_validation.py:73: FutureWarning: `fit_params` is deprecated and will be removed in version 1.6. Pass parameters via `params` instead.\n",
      "  warnings.warn(\n",
      "/Users/kevinfry/opt/anaconda3/envs/spe/lib/python3.11/site-packages/sklearn/model_selection/_validation.py:73: FutureWarning: `fit_params` is deprecated and will be removed in version 1.6. Pass parameters via `params` instead.\n",
      "  warnings.warn(\n",
      "/Users/kevinfry/opt/anaconda3/envs/spe/lib/python3.11/site-packages/sklearn/model_selection/_validation.py:73: FutureWarning: `fit_params` is deprecated and will be removed in version 1.6. Pass parameters via `params` instead.\n",
      "  warnings.warn(\n",
      " 45%|████▌     | 45/100 [00:04<00:04, 11.54it/s]/Users/kevinfry/opt/anaconda3/envs/spe/lib/python3.11/site-packages/sklearn/model_selection/_validation.py:73: FutureWarning: `fit_params` is deprecated and will be removed in version 1.6. Pass parameters via `params` instead.\n",
      "  warnings.warn(\n",
      "/Users/kevinfry/opt/anaconda3/envs/spe/lib/python3.11/site-packages/sklearn/model_selection/_validation.py:73: FutureWarning: `fit_params` is deprecated and will be removed in version 1.6. Pass parameters via `params` instead.\n",
      "  warnings.warn(\n",
      "/Users/kevinfry/opt/anaconda3/envs/spe/lib/python3.11/site-packages/sklearn/model_selection/_validation.py:73: FutureWarning: `fit_params` is deprecated and will be removed in version 1.6. Pass parameters via `params` instead.\n",
      "  warnings.warn(\n",
      "/Users/kevinfry/opt/anaconda3/envs/spe/lib/python3.11/site-packages/sklearn/model_selection/_validation.py:73: FutureWarning: `fit_params` is deprecated and will be removed in version 1.6. Pass parameters via `params` instead.\n",
      "  warnings.warn(\n",
      " 47%|████▋     | 47/100 [00:04<00:04, 11.00it/s]/Users/kevinfry/opt/anaconda3/envs/spe/lib/python3.11/site-packages/sklearn/model_selection/_validation.py:73: FutureWarning: `fit_params` is deprecated and will be removed in version 1.6. Pass parameters via `params` instead.\n",
      "  warnings.warn(\n",
      "/Users/kevinfry/opt/anaconda3/envs/spe/lib/python3.11/site-packages/sklearn/model_selection/_validation.py:73: FutureWarning: `fit_params` is deprecated and will be removed in version 1.6. Pass parameters via `params` instead.\n",
      "  warnings.warn(\n",
      "/Users/kevinfry/opt/anaconda3/envs/spe/lib/python3.11/site-packages/sklearn/model_selection/_validation.py:73: FutureWarning: `fit_params` is deprecated and will be removed in version 1.6. Pass parameters via `params` instead.\n",
      "  warnings.warn(\n",
      "/Users/kevinfry/opt/anaconda3/envs/spe/lib/python3.11/site-packages/sklearn/model_selection/_validation.py:73: FutureWarning: `fit_params` is deprecated and will be removed in version 1.6. Pass parameters via `params` instead.\n",
      "  warnings.warn(\n",
      " 49%|████▉     | 49/100 [00:04<00:04, 11.07it/s]/Users/kevinfry/opt/anaconda3/envs/spe/lib/python3.11/site-packages/sklearn/model_selection/_validation.py:73: FutureWarning: `fit_params` is deprecated and will be removed in version 1.6. Pass parameters via `params` instead.\n",
      "  warnings.warn(\n",
      "/Users/kevinfry/opt/anaconda3/envs/spe/lib/python3.11/site-packages/sklearn/model_selection/_validation.py:73: FutureWarning: `fit_params` is deprecated and will be removed in version 1.6. Pass parameters via `params` instead.\n",
      "  warnings.warn(\n",
      "/Users/kevinfry/opt/anaconda3/envs/spe/lib/python3.11/site-packages/sklearn/model_selection/_validation.py:73: FutureWarning: `fit_params` is deprecated and will be removed in version 1.6. Pass parameters via `params` instead.\n",
      "  warnings.warn(\n",
      "/Users/kevinfry/opt/anaconda3/envs/spe/lib/python3.11/site-packages/sklearn/model_selection/_validation.py:73: FutureWarning: `fit_params` is deprecated and will be removed in version 1.6. Pass parameters via `params` instead.\n",
      "  warnings.warn(\n",
      " 51%|█████     | 51/100 [00:04<00:04, 11.14it/s]/Users/kevinfry/opt/anaconda3/envs/spe/lib/python3.11/site-packages/sklearn/model_selection/_validation.py:73: FutureWarning: `fit_params` is deprecated and will be removed in version 1.6. Pass parameters via `params` instead.\n",
      "  warnings.warn(\n",
      "/Users/kevinfry/opt/anaconda3/envs/spe/lib/python3.11/site-packages/sklearn/model_selection/_validation.py:73: FutureWarning: `fit_params` is deprecated and will be removed in version 1.6. Pass parameters via `params` instead.\n",
      "  warnings.warn(\n",
      "/Users/kevinfry/opt/anaconda3/envs/spe/lib/python3.11/site-packages/sklearn/model_selection/_validation.py:73: FutureWarning: `fit_params` is deprecated and will be removed in version 1.6. Pass parameters via `params` instead.\n",
      "  warnings.warn(\n",
      "/Users/kevinfry/opt/anaconda3/envs/spe/lib/python3.11/site-packages/sklearn/model_selection/_validation.py:73: FutureWarning: `fit_params` is deprecated and will be removed in version 1.6. Pass parameters via `params` instead.\n",
      "  warnings.warn(\n",
      " 53%|█████▎    | 53/100 [00:04<00:04, 11.19it/s]/Users/kevinfry/opt/anaconda3/envs/spe/lib/python3.11/site-packages/sklearn/model_selection/_validation.py:73: FutureWarning: `fit_params` is deprecated and will be removed in version 1.6. Pass parameters via `params` instead.\n",
      "  warnings.warn(\n",
      "/Users/kevinfry/opt/anaconda3/envs/spe/lib/python3.11/site-packages/sklearn/model_selection/_validation.py:73: FutureWarning: `fit_params` is deprecated and will be removed in version 1.6. Pass parameters via `params` instead.\n",
      "  warnings.warn(\n",
      "/Users/kevinfry/opt/anaconda3/envs/spe/lib/python3.11/site-packages/sklearn/model_selection/_validation.py:73: FutureWarning: `fit_params` is deprecated and will be removed in version 1.6. Pass parameters via `params` instead.\n",
      "  warnings.warn(\n",
      "/Users/kevinfry/opt/anaconda3/envs/spe/lib/python3.11/site-packages/sklearn/model_selection/_validation.py:73: FutureWarning: `fit_params` is deprecated and will be removed in version 1.6. Pass parameters via `params` instead.\n",
      "  warnings.warn(\n",
      " 55%|█████▌    | 55/100 [00:05<00:03, 12.63it/s]/Users/kevinfry/opt/anaconda3/envs/spe/lib/python3.11/site-packages/sklearn/model_selection/_validation.py:73: FutureWarning: `fit_params` is deprecated and will be removed in version 1.6. Pass parameters via `params` instead.\n",
      "  warnings.warn(\n",
      "/Users/kevinfry/opt/anaconda3/envs/spe/lib/python3.11/site-packages/sklearn/model_selection/_validation.py:73: FutureWarning: `fit_params` is deprecated and will be removed in version 1.6. Pass parameters via `params` instead.\n",
      "  warnings.warn(\n",
      "/Users/kevinfry/opt/anaconda3/envs/spe/lib/python3.11/site-packages/sklearn/model_selection/_validation.py:73: FutureWarning: `fit_params` is deprecated and will be removed in version 1.6. Pass parameters via `params` instead.\n",
      "  warnings.warn(\n",
      "/Users/kevinfry/opt/anaconda3/envs/spe/lib/python3.11/site-packages/sklearn/model_selection/_validation.py:73: FutureWarning: `fit_params` is deprecated and will be removed in version 1.6. Pass parameters via `params` instead.\n",
      "  warnings.warn(\n",
      " 57%|█████▋    | 57/100 [00:05<00:03, 12.63it/s]/Users/kevinfry/opt/anaconda3/envs/spe/lib/python3.11/site-packages/sklearn/model_selection/_validation.py:73: FutureWarning: `fit_params` is deprecated and will be removed in version 1.6. Pass parameters via `params` instead.\n",
      "  warnings.warn(\n",
      "/Users/kevinfry/opt/anaconda3/envs/spe/lib/python3.11/site-packages/sklearn/model_selection/_validation.py:73: FutureWarning: `fit_params` is deprecated and will be removed in version 1.6. Pass parameters via `params` instead.\n",
      "  warnings.warn(\n",
      "/Users/kevinfry/opt/anaconda3/envs/spe/lib/python3.11/site-packages/sklearn/model_selection/_validation.py:73: FutureWarning: `fit_params` is deprecated and will be removed in version 1.6. Pass parameters via `params` instead.\n",
      "  warnings.warn(\n",
      "/Users/kevinfry/opt/anaconda3/envs/spe/lib/python3.11/site-packages/sklearn/model_selection/_validation.py:73: FutureWarning: `fit_params` is deprecated and will be removed in version 1.6. Pass parameters via `params` instead.\n",
      "  warnings.warn(\n",
      " 59%|█████▉    | 59/100 [00:05<00:03, 11.69it/s]/Users/kevinfry/opt/anaconda3/envs/spe/lib/python3.11/site-packages/sklearn/model_selection/_validation.py:73: FutureWarning: `fit_params` is deprecated and will be removed in version 1.6. Pass parameters via `params` instead.\n",
      "  warnings.warn(\n",
      "/Users/kevinfry/opt/anaconda3/envs/spe/lib/python3.11/site-packages/sklearn/model_selection/_validation.py:73: FutureWarning: `fit_params` is deprecated and will be removed in version 1.6. Pass parameters via `params` instead.\n",
      "  warnings.warn(\n",
      "/Users/kevinfry/opt/anaconda3/envs/spe/lib/python3.11/site-packages/sklearn/model_selection/_validation.py:73: FutureWarning: `fit_params` is deprecated and will be removed in version 1.6. Pass parameters via `params` instead.\n",
      "  warnings.warn(\n",
      "/Users/kevinfry/opt/anaconda3/envs/spe/lib/python3.11/site-packages/sklearn/model_selection/_validation.py:73: FutureWarning: `fit_params` is deprecated and will be removed in version 1.6. Pass parameters via `params` instead.\n",
      "  warnings.warn(\n",
      " 61%|██████    | 61/100 [00:05<00:03, 10.89it/s]/Users/kevinfry/opt/anaconda3/envs/spe/lib/python3.11/site-packages/sklearn/model_selection/_validation.py:73: FutureWarning: `fit_params` is deprecated and will be removed in version 1.6. Pass parameters via `params` instead.\n",
      "  warnings.warn(\n",
      "/Users/kevinfry/opt/anaconda3/envs/spe/lib/python3.11/site-packages/sklearn/model_selection/_validation.py:73: FutureWarning: `fit_params` is deprecated and will be removed in version 1.6. Pass parameters via `params` instead.\n",
      "  warnings.warn(\n",
      "/Users/kevinfry/opt/anaconda3/envs/spe/lib/python3.11/site-packages/sklearn/model_selection/_validation.py:73: FutureWarning: `fit_params` is deprecated and will be removed in version 1.6. Pass parameters via `params` instead.\n",
      "  warnings.warn(\n",
      "/Users/kevinfry/opt/anaconda3/envs/spe/lib/python3.11/site-packages/sklearn/model_selection/_validation.py:73: FutureWarning: `fit_params` is deprecated and will be removed in version 1.6. Pass parameters via `params` instead.\n",
      "  warnings.warn(\n",
      " 63%|██████▎   | 63/100 [00:05<00:03, 11.76it/s]/Users/kevinfry/opt/anaconda3/envs/spe/lib/python3.11/site-packages/sklearn/model_selection/_validation.py:73: FutureWarning: `fit_params` is deprecated and will be removed in version 1.6. Pass parameters via `params` instead.\n",
      "  warnings.warn(\n",
      "/Users/kevinfry/opt/anaconda3/envs/spe/lib/python3.11/site-packages/sklearn/model_selection/_validation.py:73: FutureWarning: `fit_params` is deprecated and will be removed in version 1.6. Pass parameters via `params` instead.\n",
      "  warnings.warn(\n",
      "/Users/kevinfry/opt/anaconda3/envs/spe/lib/python3.11/site-packages/sklearn/model_selection/_validation.py:73: FutureWarning: `fit_params` is deprecated and will be removed in version 1.6. Pass parameters via `params` instead.\n",
      "  warnings.warn(\n",
      "/Users/kevinfry/opt/anaconda3/envs/spe/lib/python3.11/site-packages/sklearn/model_selection/_validation.py:73: FutureWarning: `fit_params` is deprecated and will be removed in version 1.6. Pass parameters via `params` instead.\n",
      "  warnings.warn(\n",
      " 65%|██████▌   | 65/100 [00:05<00:02, 12.97it/s]/Users/kevinfry/opt/anaconda3/envs/spe/lib/python3.11/site-packages/sklearn/model_selection/_validation.py:73: FutureWarning: `fit_params` is deprecated and will be removed in version 1.6. Pass parameters via `params` instead.\n",
      "  warnings.warn(\n",
      "/Users/kevinfry/opt/anaconda3/envs/spe/lib/python3.11/site-packages/sklearn/model_selection/_validation.py:73: FutureWarning: `fit_params` is deprecated and will be removed in version 1.6. Pass parameters via `params` instead.\n",
      "  warnings.warn(\n",
      "/Users/kevinfry/opt/anaconda3/envs/spe/lib/python3.11/site-packages/sklearn/model_selection/_validation.py:73: FutureWarning: `fit_params` is deprecated and will be removed in version 1.6. Pass parameters via `params` instead.\n",
      "  warnings.warn(\n",
      "/Users/kevinfry/opt/anaconda3/envs/spe/lib/python3.11/site-packages/sklearn/model_selection/_validation.py:73: FutureWarning: `fit_params` is deprecated and will be removed in version 1.6. Pass parameters via `params` instead.\n",
      "  warnings.warn(\n",
      " 67%|██████▋   | 67/100 [00:06<00:02, 12.69it/s]/Users/kevinfry/opt/anaconda3/envs/spe/lib/python3.11/site-packages/sklearn/model_selection/_validation.py:73: FutureWarning: `fit_params` is deprecated and will be removed in version 1.6. Pass parameters via `params` instead.\n",
      "  warnings.warn(\n",
      "/Users/kevinfry/opt/anaconda3/envs/spe/lib/python3.11/site-packages/sklearn/model_selection/_validation.py:73: FutureWarning: `fit_params` is deprecated and will be removed in version 1.6. Pass parameters via `params` instead.\n",
      "  warnings.warn(\n",
      "/Users/kevinfry/opt/anaconda3/envs/spe/lib/python3.11/site-packages/sklearn/model_selection/_validation.py:73: FutureWarning: `fit_params` is deprecated and will be removed in version 1.6. Pass parameters via `params` instead.\n",
      "  warnings.warn(\n",
      "/Users/kevinfry/opt/anaconda3/envs/spe/lib/python3.11/site-packages/sklearn/model_selection/_validation.py:73: FutureWarning: `fit_params` is deprecated and will be removed in version 1.6. Pass parameters via `params` instead.\n",
      "  warnings.warn(\n",
      " 69%|██████▉   | 69/100 [00:06<00:02, 11.89it/s]/Users/kevinfry/opt/anaconda3/envs/spe/lib/python3.11/site-packages/sklearn/model_selection/_validation.py:73: FutureWarning: `fit_params` is deprecated and will be removed in version 1.6. Pass parameters via `params` instead.\n",
      "  warnings.warn(\n",
      "/Users/kevinfry/opt/anaconda3/envs/spe/lib/python3.11/site-packages/sklearn/model_selection/_validation.py:73: FutureWarning: `fit_params` is deprecated and will be removed in version 1.6. Pass parameters via `params` instead.\n",
      "  warnings.warn(\n",
      "/Users/kevinfry/opt/anaconda3/envs/spe/lib/python3.11/site-packages/sklearn/model_selection/_validation.py:73: FutureWarning: `fit_params` is deprecated and will be removed in version 1.6. Pass parameters via `params` instead.\n",
      "  warnings.warn(\n",
      "/Users/kevinfry/opt/anaconda3/envs/spe/lib/python3.11/site-packages/sklearn/model_selection/_validation.py:73: FutureWarning: `fit_params` is deprecated and will be removed in version 1.6. Pass parameters via `params` instead.\n",
      "  warnings.warn(\n",
      " 71%|███████   | 71/100 [00:06<00:02, 11.90it/s]/Users/kevinfry/opt/anaconda3/envs/spe/lib/python3.11/site-packages/sklearn/model_selection/_validation.py:73: FutureWarning: `fit_params` is deprecated and will be removed in version 1.6. Pass parameters via `params` instead.\n",
      "  warnings.warn(\n",
      "/Users/kevinfry/opt/anaconda3/envs/spe/lib/python3.11/site-packages/sklearn/model_selection/_validation.py:73: FutureWarning: `fit_params` is deprecated and will be removed in version 1.6. Pass parameters via `params` instead.\n",
      "  warnings.warn(\n",
      "/Users/kevinfry/opt/anaconda3/envs/spe/lib/python3.11/site-packages/sklearn/model_selection/_validation.py:73: FutureWarning: `fit_params` is deprecated and will be removed in version 1.6. Pass parameters via `params` instead.\n",
      "  warnings.warn(\n",
      "/Users/kevinfry/opt/anaconda3/envs/spe/lib/python3.11/site-packages/sklearn/model_selection/_validation.py:73: FutureWarning: `fit_params` is deprecated and will be removed in version 1.6. Pass parameters via `params` instead.\n",
      "  warnings.warn(\n",
      " 73%|███████▎  | 73/100 [00:06<00:02, 13.08it/s]/Users/kevinfry/opt/anaconda3/envs/spe/lib/python3.11/site-packages/sklearn/model_selection/_validation.py:73: FutureWarning: `fit_params` is deprecated and will be removed in version 1.6. Pass parameters via `params` instead.\n",
      "  warnings.warn(\n",
      "/Users/kevinfry/opt/anaconda3/envs/spe/lib/python3.11/site-packages/sklearn/model_selection/_validation.py:73: FutureWarning: `fit_params` is deprecated and will be removed in version 1.6. Pass parameters via `params` instead.\n",
      "  warnings.warn(\n",
      "/Users/kevinfry/opt/anaconda3/envs/spe/lib/python3.11/site-packages/sklearn/model_selection/_validation.py:73: FutureWarning: `fit_params` is deprecated and will be removed in version 1.6. Pass parameters via `params` instead.\n",
      "  warnings.warn(\n",
      "/Users/kevinfry/opt/anaconda3/envs/spe/lib/python3.11/site-packages/sklearn/model_selection/_validation.py:73: FutureWarning: `fit_params` is deprecated and will be removed in version 1.6. Pass parameters via `params` instead.\n",
      "  warnings.warn(\n",
      " 75%|███████▌  | 75/100 [00:06<00:01, 13.63it/s]/Users/kevinfry/opt/anaconda3/envs/spe/lib/python3.11/site-packages/sklearn/model_selection/_validation.py:73: FutureWarning: `fit_params` is deprecated and will be removed in version 1.6. Pass parameters via `params` instead.\n",
      "  warnings.warn(\n",
      "/Users/kevinfry/opt/anaconda3/envs/spe/lib/python3.11/site-packages/sklearn/model_selection/_validation.py:73: FutureWarning: `fit_params` is deprecated and will be removed in version 1.6. Pass parameters via `params` instead.\n",
      "  warnings.warn(\n",
      "/Users/kevinfry/opt/anaconda3/envs/spe/lib/python3.11/site-packages/sklearn/model_selection/_validation.py:73: FutureWarning: `fit_params` is deprecated and will be removed in version 1.6. Pass parameters via `params` instead.\n",
      "  warnings.warn(\n",
      "/Users/kevinfry/opt/anaconda3/envs/spe/lib/python3.11/site-packages/sklearn/model_selection/_validation.py:73: FutureWarning: `fit_params` is deprecated and will be removed in version 1.6. Pass parameters via `params` instead.\n",
      "  warnings.warn(\n",
      " 77%|███████▋  | 77/100 [00:06<00:01, 13.51it/s]/Users/kevinfry/opt/anaconda3/envs/spe/lib/python3.11/site-packages/sklearn/model_selection/_validation.py:73: FutureWarning: `fit_params` is deprecated and will be removed in version 1.6. Pass parameters via `params` instead.\n",
      "  warnings.warn(\n",
      "/Users/kevinfry/opt/anaconda3/envs/spe/lib/python3.11/site-packages/sklearn/model_selection/_validation.py:73: FutureWarning: `fit_params` is deprecated and will be removed in version 1.6. Pass parameters via `params` instead.\n",
      "  warnings.warn(\n",
      "/Users/kevinfry/opt/anaconda3/envs/spe/lib/python3.11/site-packages/sklearn/model_selection/_validation.py:73: FutureWarning: `fit_params` is deprecated and will be removed in version 1.6. Pass parameters via `params` instead.\n",
      "  warnings.warn(\n",
      "/Users/kevinfry/opt/anaconda3/envs/spe/lib/python3.11/site-packages/sklearn/model_selection/_validation.py:73: FutureWarning: `fit_params` is deprecated and will be removed in version 1.6. Pass parameters via `params` instead.\n",
      "  warnings.warn(\n",
      " 79%|███████▉  | 79/100 [00:06<00:01, 13.99it/s]/Users/kevinfry/opt/anaconda3/envs/spe/lib/python3.11/site-packages/sklearn/model_selection/_validation.py:73: FutureWarning: `fit_params` is deprecated and will be removed in version 1.6. Pass parameters via `params` instead.\n",
      "  warnings.warn(\n",
      "/Users/kevinfry/opt/anaconda3/envs/spe/lib/python3.11/site-packages/sklearn/model_selection/_validation.py:73: FutureWarning: `fit_params` is deprecated and will be removed in version 1.6. Pass parameters via `params` instead.\n",
      "  warnings.warn(\n",
      "/Users/kevinfry/opt/anaconda3/envs/spe/lib/python3.11/site-packages/sklearn/model_selection/_validation.py:73: FutureWarning: `fit_params` is deprecated and will be removed in version 1.6. Pass parameters via `params` instead.\n",
      "  warnings.warn(\n",
      "/Users/kevinfry/opt/anaconda3/envs/spe/lib/python3.11/site-packages/sklearn/model_selection/_validation.py:73: FutureWarning: `fit_params` is deprecated and will be removed in version 1.6. Pass parameters via `params` instead.\n",
      "  warnings.warn(\n",
      " 81%|████████  | 81/100 [00:07<00:01, 14.05it/s]/Users/kevinfry/opt/anaconda3/envs/spe/lib/python3.11/site-packages/sklearn/model_selection/_validation.py:73: FutureWarning: `fit_params` is deprecated and will be removed in version 1.6. Pass parameters via `params` instead.\n",
      "  warnings.warn(\n",
      "/Users/kevinfry/opt/anaconda3/envs/spe/lib/python3.11/site-packages/sklearn/model_selection/_validation.py:73: FutureWarning: `fit_params` is deprecated and will be removed in version 1.6. Pass parameters via `params` instead.\n",
      "  warnings.warn(\n",
      "/Users/kevinfry/opt/anaconda3/envs/spe/lib/python3.11/site-packages/sklearn/model_selection/_validation.py:73: FutureWarning: `fit_params` is deprecated and will be removed in version 1.6. Pass parameters via `params` instead.\n",
      "  warnings.warn(\n",
      "/Users/kevinfry/opt/anaconda3/envs/spe/lib/python3.11/site-packages/sklearn/model_selection/_validation.py:73: FutureWarning: `fit_params` is deprecated and will be removed in version 1.6. Pass parameters via `params` instead.\n",
      "  warnings.warn(\n",
      " 83%|████████▎ | 83/100 [00:07<00:01, 11.07it/s]/Users/kevinfry/opt/anaconda3/envs/spe/lib/python3.11/site-packages/sklearn/model_selection/_validation.py:73: FutureWarning: `fit_params` is deprecated and will be removed in version 1.6. Pass parameters via `params` instead.\n",
      "  warnings.warn(\n",
      "/Users/kevinfry/opt/anaconda3/envs/spe/lib/python3.11/site-packages/sklearn/model_selection/_validation.py:73: FutureWarning: `fit_params` is deprecated and will be removed in version 1.6. Pass parameters via `params` instead.\n",
      "  warnings.warn(\n",
      "/Users/kevinfry/opt/anaconda3/envs/spe/lib/python3.11/site-packages/sklearn/model_selection/_validation.py:73: FutureWarning: `fit_params` is deprecated and will be removed in version 1.6. Pass parameters via `params` instead.\n",
      "  warnings.warn(\n",
      "/Users/kevinfry/opt/anaconda3/envs/spe/lib/python3.11/site-packages/sklearn/model_selection/_validation.py:73: FutureWarning: `fit_params` is deprecated and will be removed in version 1.6. Pass parameters via `params` instead.\n",
      "  warnings.warn(\n",
      " 85%|████████▌ | 85/100 [00:07<00:01, 12.51it/s]/Users/kevinfry/opt/anaconda3/envs/spe/lib/python3.11/site-packages/sklearn/model_selection/_validation.py:73: FutureWarning: `fit_params` is deprecated and will be removed in version 1.6. Pass parameters via `params` instead.\n",
      "  warnings.warn(\n",
      "/Users/kevinfry/opt/anaconda3/envs/spe/lib/python3.11/site-packages/sklearn/model_selection/_validation.py:73: FutureWarning: `fit_params` is deprecated and will be removed in version 1.6. Pass parameters via `params` instead.\n",
      "  warnings.warn(\n",
      "/Users/kevinfry/opt/anaconda3/envs/spe/lib/python3.11/site-packages/sklearn/model_selection/_validation.py:73: FutureWarning: `fit_params` is deprecated and will be removed in version 1.6. Pass parameters via `params` instead.\n",
      "  warnings.warn(\n",
      "/Users/kevinfry/opt/anaconda3/envs/spe/lib/python3.11/site-packages/sklearn/model_selection/_validation.py:73: FutureWarning: `fit_params` is deprecated and will be removed in version 1.6. Pass parameters via `params` instead.\n",
      "  warnings.warn(\n",
      " 87%|████████▋ | 87/100 [00:07<00:00, 13.06it/s]/Users/kevinfry/opt/anaconda3/envs/spe/lib/python3.11/site-packages/sklearn/model_selection/_validation.py:73: FutureWarning: `fit_params` is deprecated and will be removed in version 1.6. Pass parameters via `params` instead.\n",
      "  warnings.warn(\n",
      "/Users/kevinfry/opt/anaconda3/envs/spe/lib/python3.11/site-packages/sklearn/model_selection/_validation.py:73: FutureWarning: `fit_params` is deprecated and will be removed in version 1.6. Pass parameters via `params` instead.\n",
      "  warnings.warn(\n",
      "/Users/kevinfry/opt/anaconda3/envs/spe/lib/python3.11/site-packages/sklearn/model_selection/_validation.py:73: FutureWarning: `fit_params` is deprecated and will be removed in version 1.6. Pass parameters via `params` instead.\n",
      "  warnings.warn(\n",
      "/Users/kevinfry/opt/anaconda3/envs/spe/lib/python3.11/site-packages/sklearn/model_selection/_validation.py:73: FutureWarning: `fit_params` is deprecated and will be removed in version 1.6. Pass parameters via `params` instead.\n",
      "  warnings.warn(\n",
      " 89%|████████▉ | 89/100 [00:07<00:00, 13.20it/s]/Users/kevinfry/opt/anaconda3/envs/spe/lib/python3.11/site-packages/sklearn/model_selection/_validation.py:73: FutureWarning: `fit_params` is deprecated and will be removed in version 1.6. Pass parameters via `params` instead.\n",
      "  warnings.warn(\n",
      "/Users/kevinfry/opt/anaconda3/envs/spe/lib/python3.11/site-packages/sklearn/model_selection/_validation.py:73: FutureWarning: `fit_params` is deprecated and will be removed in version 1.6. Pass parameters via `params` instead.\n",
      "  warnings.warn(\n",
      "/Users/kevinfry/opt/anaconda3/envs/spe/lib/python3.11/site-packages/sklearn/model_selection/_validation.py:73: FutureWarning: `fit_params` is deprecated and will be removed in version 1.6. Pass parameters via `params` instead.\n",
      "  warnings.warn(\n",
      "/Users/kevinfry/opt/anaconda3/envs/spe/lib/python3.11/site-packages/sklearn/model_selection/_validation.py:73: FutureWarning: `fit_params` is deprecated and will be removed in version 1.6. Pass parameters via `params` instead.\n",
      "  warnings.warn(\n",
      " 91%|█████████ | 91/100 [00:07<00:00, 13.58it/s]/Users/kevinfry/opt/anaconda3/envs/spe/lib/python3.11/site-packages/sklearn/model_selection/_validation.py:73: FutureWarning: `fit_params` is deprecated and will be removed in version 1.6. Pass parameters via `params` instead.\n",
      "  warnings.warn(\n",
      "/Users/kevinfry/opt/anaconda3/envs/spe/lib/python3.11/site-packages/sklearn/model_selection/_validation.py:73: FutureWarning: `fit_params` is deprecated and will be removed in version 1.6. Pass parameters via `params` instead.\n",
      "  warnings.warn(\n",
      "/Users/kevinfry/opt/anaconda3/envs/spe/lib/python3.11/site-packages/sklearn/model_selection/_validation.py:73: FutureWarning: `fit_params` is deprecated and will be removed in version 1.6. Pass parameters via `params` instead.\n",
      "  warnings.warn(\n",
      "/Users/kevinfry/opt/anaconda3/envs/spe/lib/python3.11/site-packages/sklearn/model_selection/_validation.py:73: FutureWarning: `fit_params` is deprecated and will be removed in version 1.6. Pass parameters via `params` instead.\n",
      "  warnings.warn(\n",
      " 93%|█████████▎| 93/100 [00:08<00:00, 12.93it/s]/Users/kevinfry/opt/anaconda3/envs/spe/lib/python3.11/site-packages/sklearn/model_selection/_validation.py:73: FutureWarning: `fit_params` is deprecated and will be removed in version 1.6. Pass parameters via `params` instead.\n",
      "  warnings.warn(\n",
      "/Users/kevinfry/opt/anaconda3/envs/spe/lib/python3.11/site-packages/sklearn/model_selection/_validation.py:73: FutureWarning: `fit_params` is deprecated and will be removed in version 1.6. Pass parameters via `params` instead.\n",
      "  warnings.warn(\n",
      "/Users/kevinfry/opt/anaconda3/envs/spe/lib/python3.11/site-packages/sklearn/model_selection/_validation.py:73: FutureWarning: `fit_params` is deprecated and will be removed in version 1.6. Pass parameters via `params` instead.\n",
      "  warnings.warn(\n",
      "/Users/kevinfry/opt/anaconda3/envs/spe/lib/python3.11/site-packages/sklearn/model_selection/_validation.py:73: FutureWarning: `fit_params` is deprecated and will be removed in version 1.6. Pass parameters via `params` instead.\n",
      "  warnings.warn(\n",
      " 95%|█████████▌| 95/100 [00:08<00:00, 12.71it/s]/Users/kevinfry/opt/anaconda3/envs/spe/lib/python3.11/site-packages/sklearn/model_selection/_validation.py:73: FutureWarning: `fit_params` is deprecated and will be removed in version 1.6. Pass parameters via `params` instead.\n",
      "  warnings.warn(\n",
      "/Users/kevinfry/opt/anaconda3/envs/spe/lib/python3.11/site-packages/sklearn/model_selection/_validation.py:73: FutureWarning: `fit_params` is deprecated and will be removed in version 1.6. Pass parameters via `params` instead.\n",
      "  warnings.warn(\n",
      "/Users/kevinfry/opt/anaconda3/envs/spe/lib/python3.11/site-packages/sklearn/model_selection/_validation.py:73: FutureWarning: `fit_params` is deprecated and will be removed in version 1.6. Pass parameters via `params` instead.\n",
      "  warnings.warn(\n",
      "/Users/kevinfry/opt/anaconda3/envs/spe/lib/python3.11/site-packages/sklearn/model_selection/_validation.py:73: FutureWarning: `fit_params` is deprecated and will be removed in version 1.6. Pass parameters via `params` instead.\n",
      "  warnings.warn(\n",
      " 97%|█████████▋| 97/100 [00:08<00:00, 12.10it/s]/Users/kevinfry/opt/anaconda3/envs/spe/lib/python3.11/site-packages/sklearn/model_selection/_validation.py:73: FutureWarning: `fit_params` is deprecated and will be removed in version 1.6. Pass parameters via `params` instead.\n",
      "  warnings.warn(\n",
      "/Users/kevinfry/opt/anaconda3/envs/spe/lib/python3.11/site-packages/sklearn/model_selection/_validation.py:73: FutureWarning: `fit_params` is deprecated and will be removed in version 1.6. Pass parameters via `params` instead.\n",
      "  warnings.warn(\n",
      "/Users/kevinfry/opt/anaconda3/envs/spe/lib/python3.11/site-packages/sklearn/model_selection/_validation.py:73: FutureWarning: `fit_params` is deprecated and will be removed in version 1.6. Pass parameters via `params` instead.\n",
      "  warnings.warn(\n",
      "/Users/kevinfry/opt/anaconda3/envs/spe/lib/python3.11/site-packages/sklearn/model_selection/_validation.py:73: FutureWarning: `fit_params` is deprecated and will be removed in version 1.6. Pass parameters via `params` instead.\n",
      "  warnings.warn(\n",
      " 99%|█████████▉| 99/100 [00:08<00:00, 12.42it/s]/Users/kevinfry/opt/anaconda3/envs/spe/lib/python3.11/site-packages/sklearn/model_selection/_validation.py:73: FutureWarning: `fit_params` is deprecated and will be removed in version 1.6. Pass parameters via `params` instead.\n",
      "  warnings.warn(\n",
      "/Users/kevinfry/opt/anaconda3/envs/spe/lib/python3.11/site-packages/sklearn/model_selection/_validation.py:73: FutureWarning: `fit_params` is deprecated and will be removed in version 1.6. Pass parameters via `params` instead.\n",
      "  warnings.warn(\n",
      "100%|██████████| 100/100 [00:08<00:00, 11.59it/s]\n",
      "  0%|          | 0/100 [00:00<?, ?it/s]/Users/kevinfry/opt/anaconda3/envs/spe/lib/python3.11/site-packages/sklearn/model_selection/_validation.py:73: FutureWarning: `fit_params` is deprecated and will be removed in version 1.6. Pass parameters via `params` instead.\n",
      "  warnings.warn(\n",
      "/Users/kevinfry/opt/anaconda3/envs/spe/lib/python3.11/site-packages/sklearn/model_selection/_validation.py:73: FutureWarning: `fit_params` is deprecated and will be removed in version 1.6. Pass parameters via `params` instead.\n",
      "  warnings.warn(\n",
      "  1%|          | 1/100 [00:00<00:15,  6.56it/s]/Users/kevinfry/opt/anaconda3/envs/spe/lib/python3.11/site-packages/sklearn/model_selection/_validation.py:73: FutureWarning: `fit_params` is deprecated and will be removed in version 1.6. Pass parameters via `params` instead.\n",
      "  warnings.warn(\n",
      "/Users/kevinfry/opt/anaconda3/envs/spe/lib/python3.11/site-packages/sklearn/model_selection/_validation.py:73: FutureWarning: `fit_params` is deprecated and will be removed in version 1.6. Pass parameters via `params` instead.\n",
      "  warnings.warn(\n",
      "  2%|▏         | 2/100 [00:00<00:13,  7.03it/s]/Users/kevinfry/opt/anaconda3/envs/spe/lib/python3.11/site-packages/sklearn/model_selection/_validation.py:73: FutureWarning: `fit_params` is deprecated and will be removed in version 1.6. Pass parameters via `params` instead.\n",
      "  warnings.warn(\n",
      "/Users/kevinfry/opt/anaconda3/envs/spe/lib/python3.11/site-packages/sklearn/model_selection/_validation.py:73: FutureWarning: `fit_params` is deprecated and will be removed in version 1.6. Pass parameters via `params` instead.\n",
      "  warnings.warn(\n",
      "  3%|▎         | 3/100 [00:00<00:17,  5.47it/s]/Users/kevinfry/opt/anaconda3/envs/spe/lib/python3.11/site-packages/sklearn/model_selection/_validation.py:73: FutureWarning: `fit_params` is deprecated and will be removed in version 1.6. Pass parameters via `params` instead.\n",
      "  warnings.warn(\n",
      "/Users/kevinfry/opt/anaconda3/envs/spe/lib/python3.11/site-packages/sklearn/model_selection/_validation.py:73: FutureWarning: `fit_params` is deprecated and will be removed in version 1.6. Pass parameters via `params` instead.\n",
      "  warnings.warn(\n",
      "  4%|▍         | 4/100 [00:00<00:15,  6.00it/s]/Users/kevinfry/opt/anaconda3/envs/spe/lib/python3.11/site-packages/sklearn/model_selection/_validation.py:73: FutureWarning: `fit_params` is deprecated and will be removed in version 1.6. Pass parameters via `params` instead.\n",
      "  warnings.warn(\n",
      "/Users/kevinfry/opt/anaconda3/envs/spe/lib/python3.11/site-packages/sklearn/model_selection/_validation.py:73: FutureWarning: `fit_params` is deprecated and will be removed in version 1.6. Pass parameters via `params` instead.\n",
      "  warnings.warn(\n",
      "  5%|▌         | 5/100 [00:00<00:17,  5.44it/s]/Users/kevinfry/opt/anaconda3/envs/spe/lib/python3.11/site-packages/sklearn/model_selection/_validation.py:73: FutureWarning: `fit_params` is deprecated and will be removed in version 1.6. Pass parameters via `params` instead.\n",
      "  warnings.warn(\n",
      "/Users/kevinfry/opt/anaconda3/envs/spe/lib/python3.11/site-packages/sklearn/model_selection/_validation.py:73: FutureWarning: `fit_params` is deprecated and will be removed in version 1.6. Pass parameters via `params` instead.\n",
      "  warnings.warn(\n",
      "  6%|▌         | 6/100 [00:01<00:18,  4.98it/s]/Users/kevinfry/opt/anaconda3/envs/spe/lib/python3.11/site-packages/sklearn/model_selection/_validation.py:73: FutureWarning: `fit_params` is deprecated and will be removed in version 1.6. Pass parameters via `params` instead.\n",
      "  warnings.warn(\n",
      "/Users/kevinfry/opt/anaconda3/envs/spe/lib/python3.11/site-packages/sklearn/model_selection/_validation.py:73: FutureWarning: `fit_params` is deprecated and will be removed in version 1.6. Pass parameters via `params` instead.\n",
      "  warnings.warn(\n",
      "  7%|▋         | 7/100 [00:01<00:17,  5.29it/s]/Users/kevinfry/opt/anaconda3/envs/spe/lib/python3.11/site-packages/sklearn/model_selection/_validation.py:73: FutureWarning: `fit_params` is deprecated and will be removed in version 1.6. Pass parameters via `params` instead.\n",
      "  warnings.warn(\n",
      "/Users/kevinfry/opt/anaconda3/envs/spe/lib/python3.11/site-packages/sklearn/model_selection/_validation.py:73: FutureWarning: `fit_params` is deprecated and will be removed in version 1.6. Pass parameters via `params` instead.\n",
      "  warnings.warn(\n",
      "  8%|▊         | 8/100 [00:01<00:18,  4.89it/s]/Users/kevinfry/opt/anaconda3/envs/spe/lib/python3.11/site-packages/sklearn/model_selection/_validation.py:73: FutureWarning: `fit_params` is deprecated and will be removed in version 1.6. Pass parameters via `params` instead.\n",
      "  warnings.warn(\n",
      "/Users/kevinfry/opt/anaconda3/envs/spe/lib/python3.11/site-packages/sklearn/model_selection/_validation.py:73: FutureWarning: `fit_params` is deprecated and will be removed in version 1.6. Pass parameters via `params` instead.\n",
      "  warnings.warn(\n",
      "  9%|▉         | 9/100 [00:01<00:18,  4.80it/s]/Users/kevinfry/opt/anaconda3/envs/spe/lib/python3.11/site-packages/sklearn/model_selection/_validation.py:73: FutureWarning: `fit_params` is deprecated and will be removed in version 1.6. Pass parameters via `params` instead.\n",
      "  warnings.warn(\n",
      "/Users/kevinfry/opt/anaconda3/envs/spe/lib/python3.11/site-packages/sklearn/model_selection/_validation.py:73: FutureWarning: `fit_params` is deprecated and will be removed in version 1.6. Pass parameters via `params` instead.\n",
      "  warnings.warn(\n",
      " 10%|█         | 10/100 [00:01<00:19,  4.63it/s]/Users/kevinfry/opt/anaconda3/envs/spe/lib/python3.11/site-packages/sklearn/model_selection/_validation.py:73: FutureWarning: `fit_params` is deprecated and will be removed in version 1.6. Pass parameters via `params` instead.\n",
      "  warnings.warn(\n",
      "/Users/kevinfry/opt/anaconda3/envs/spe/lib/python3.11/site-packages/sklearn/model_selection/_validation.py:73: FutureWarning: `fit_params` is deprecated and will be removed in version 1.6. Pass parameters via `params` instead.\n",
      "  warnings.warn(\n",
      " 11%|█         | 11/100 [00:02<00:22,  3.98it/s]/Users/kevinfry/opt/anaconda3/envs/spe/lib/python3.11/site-packages/sklearn/model_selection/_validation.py:73: FutureWarning: `fit_params` is deprecated and will be removed in version 1.6. Pass parameters via `params` instead.\n",
      "  warnings.warn(\n",
      "/Users/kevinfry/opt/anaconda3/envs/spe/lib/python3.11/site-packages/sklearn/model_selection/_validation.py:73: FutureWarning: `fit_params` is deprecated and will be removed in version 1.6. Pass parameters via `params` instead.\n",
      "  warnings.warn(\n",
      " 12%|█▏        | 12/100 [00:02<00:21,  4.08it/s]/Users/kevinfry/opt/anaconda3/envs/spe/lib/python3.11/site-packages/sklearn/model_selection/_validation.py:73: FutureWarning: `fit_params` is deprecated and will be removed in version 1.6. Pass parameters via `params` instead.\n",
      "  warnings.warn(\n",
      "/Users/kevinfry/opt/anaconda3/envs/spe/lib/python3.11/site-packages/sklearn/model_selection/_validation.py:73: FutureWarning: `fit_params` is deprecated and will be removed in version 1.6. Pass parameters via `params` instead.\n",
      "  warnings.warn(\n",
      " 13%|█▎        | 13/100 [00:02<00:18,  4.72it/s]/Users/kevinfry/opt/anaconda3/envs/spe/lib/python3.11/site-packages/sklearn/model_selection/_validation.py:73: FutureWarning: `fit_params` is deprecated and will be removed in version 1.6. Pass parameters via `params` instead.\n",
      "  warnings.warn(\n",
      "/Users/kevinfry/opt/anaconda3/envs/spe/lib/python3.11/site-packages/sklearn/model_selection/_validation.py:73: FutureWarning: `fit_params` is deprecated and will be removed in version 1.6. Pass parameters via `params` instead.\n",
      "  warnings.warn(\n",
      " 14%|█▍        | 14/100 [00:02<00:16,  5.32it/s]/Users/kevinfry/opt/anaconda3/envs/spe/lib/python3.11/site-packages/sklearn/model_selection/_validation.py:73: FutureWarning: `fit_params` is deprecated and will be removed in version 1.6. Pass parameters via `params` instead.\n",
      "  warnings.warn(\n",
      "/Users/kevinfry/opt/anaconda3/envs/spe/lib/python3.11/site-packages/sklearn/model_selection/_validation.py:73: FutureWarning: `fit_params` is deprecated and will be removed in version 1.6. Pass parameters via `params` instead.\n",
      "  warnings.warn(\n",
      " 15%|█▌        | 15/100 [00:02<00:15,  5.41it/s]/Users/kevinfry/opt/anaconda3/envs/spe/lib/python3.11/site-packages/sklearn/model_selection/_validation.py:73: FutureWarning: `fit_params` is deprecated and will be removed in version 1.6. Pass parameters via `params` instead.\n",
      "  warnings.warn(\n",
      "/Users/kevinfry/opt/anaconda3/envs/spe/lib/python3.11/site-packages/sklearn/model_selection/_validation.py:73: FutureWarning: `fit_params` is deprecated and will be removed in version 1.6. Pass parameters via `params` instead.\n",
      "  warnings.warn(\n",
      " 16%|█▌        | 16/100 [00:03<00:14,  5.93it/s]/Users/kevinfry/opt/anaconda3/envs/spe/lib/python3.11/site-packages/sklearn/model_selection/_validation.py:73: FutureWarning: `fit_params` is deprecated and will be removed in version 1.6. Pass parameters via `params` instead.\n",
      "  warnings.warn(\n",
      "/Users/kevinfry/opt/anaconda3/envs/spe/lib/python3.11/site-packages/sklearn/model_selection/_validation.py:73: FutureWarning: `fit_params` is deprecated and will be removed in version 1.6. Pass parameters via `params` instead.\n",
      "  warnings.warn(\n",
      " 17%|█▋        | 17/100 [00:03<00:13,  6.23it/s]/Users/kevinfry/opt/anaconda3/envs/spe/lib/python3.11/site-packages/sklearn/model_selection/_validation.py:73: FutureWarning: `fit_params` is deprecated and will be removed in version 1.6. Pass parameters via `params` instead.\n",
      "  warnings.warn(\n",
      "/Users/kevinfry/opt/anaconda3/envs/spe/lib/python3.11/site-packages/sklearn/model_selection/_validation.py:73: FutureWarning: `fit_params` is deprecated and will be removed in version 1.6. Pass parameters via `params` instead.\n",
      "  warnings.warn(\n",
      " 18%|█▊        | 18/100 [00:03<00:13,  6.21it/s]/Users/kevinfry/opt/anaconda3/envs/spe/lib/python3.11/site-packages/sklearn/model_selection/_validation.py:73: FutureWarning: `fit_params` is deprecated and will be removed in version 1.6. Pass parameters via `params` instead.\n",
      "  warnings.warn(\n",
      "/Users/kevinfry/opt/anaconda3/envs/spe/lib/python3.11/site-packages/sklearn/model_selection/_validation.py:73: FutureWarning: `fit_params` is deprecated and will be removed in version 1.6. Pass parameters via `params` instead.\n",
      "  warnings.warn(\n",
      " 19%|█▉        | 19/100 [00:03<00:14,  5.55it/s]/Users/kevinfry/opt/anaconda3/envs/spe/lib/python3.11/site-packages/sklearn/model_selection/_validation.py:73: FutureWarning: `fit_params` is deprecated and will be removed in version 1.6. Pass parameters via `params` instead.\n",
      "  warnings.warn(\n",
      "/Users/kevinfry/opt/anaconda3/envs/spe/lib/python3.11/site-packages/sklearn/model_selection/_validation.py:73: FutureWarning: `fit_params` is deprecated and will be removed in version 1.6. Pass parameters via `params` instead.\n",
      "  warnings.warn(\n",
      " 20%|██        | 20/100 [00:03<00:14,  5.35it/s]/Users/kevinfry/opt/anaconda3/envs/spe/lib/python3.11/site-packages/sklearn/model_selection/_validation.py:73: FutureWarning: `fit_params` is deprecated and will be removed in version 1.6. Pass parameters via `params` instead.\n",
      "  warnings.warn(\n",
      "/Users/kevinfry/opt/anaconda3/envs/spe/lib/python3.11/site-packages/sklearn/model_selection/_validation.py:73: FutureWarning: `fit_params` is deprecated and will be removed in version 1.6. Pass parameters via `params` instead.\n",
      "  warnings.warn(\n",
      " 21%|██        | 21/100 [00:04<00:14,  5.40it/s]/Users/kevinfry/opt/anaconda3/envs/spe/lib/python3.11/site-packages/sklearn/model_selection/_validation.py:73: FutureWarning: `fit_params` is deprecated and will be removed in version 1.6. Pass parameters via `params` instead.\n",
      "  warnings.warn(\n",
      "/Users/kevinfry/opt/anaconda3/envs/spe/lib/python3.11/site-packages/sklearn/model_selection/_validation.py:73: FutureWarning: `fit_params` is deprecated and will be removed in version 1.6. Pass parameters via `params` instead.\n",
      "  warnings.warn(\n",
      " 22%|██▏       | 22/100 [00:04<00:15,  4.96it/s]/Users/kevinfry/opt/anaconda3/envs/spe/lib/python3.11/site-packages/sklearn/model_selection/_validation.py:73: FutureWarning: `fit_params` is deprecated and will be removed in version 1.6. Pass parameters via `params` instead.\n",
      "  warnings.warn(\n",
      "/Users/kevinfry/opt/anaconda3/envs/spe/lib/python3.11/site-packages/sklearn/model_selection/_validation.py:73: FutureWarning: `fit_params` is deprecated and will be removed in version 1.6. Pass parameters via `params` instead.\n",
      "  warnings.warn(\n",
      " 23%|██▎       | 23/100 [00:04<00:17,  4.46it/s]/Users/kevinfry/opt/anaconda3/envs/spe/lib/python3.11/site-packages/sklearn/model_selection/_validation.py:73: FutureWarning: `fit_params` is deprecated and will be removed in version 1.6. Pass parameters via `params` instead.\n",
      "  warnings.warn(\n",
      "/Users/kevinfry/opt/anaconda3/envs/spe/lib/python3.11/site-packages/sklearn/model_selection/_validation.py:73: FutureWarning: `fit_params` is deprecated and will be removed in version 1.6. Pass parameters via `params` instead.\n",
      "  warnings.warn(\n",
      " 24%|██▍       | 24/100 [00:04<00:18,  4.22it/s]/Users/kevinfry/opt/anaconda3/envs/spe/lib/python3.11/site-packages/sklearn/model_selection/_validation.py:73: FutureWarning: `fit_params` is deprecated and will be removed in version 1.6. Pass parameters via `params` instead.\n",
      "  warnings.warn(\n",
      "/Users/kevinfry/opt/anaconda3/envs/spe/lib/python3.11/site-packages/sklearn/model_selection/_validation.py:73: FutureWarning: `fit_params` is deprecated and will be removed in version 1.6. Pass parameters via `params` instead.\n",
      "  warnings.warn(\n",
      " 25%|██▌       | 25/100 [00:05<00:17,  4.31it/s]/Users/kevinfry/opt/anaconda3/envs/spe/lib/python3.11/site-packages/sklearn/model_selection/_validation.py:73: FutureWarning: `fit_params` is deprecated and will be removed in version 1.6. Pass parameters via `params` instead.\n",
      "  warnings.warn(\n",
      "/Users/kevinfry/opt/anaconda3/envs/spe/lib/python3.11/site-packages/sklearn/model_selection/_validation.py:73: FutureWarning: `fit_params` is deprecated and will be removed in version 1.6. Pass parameters via `params` instead.\n",
      "  warnings.warn(\n",
      " 26%|██▌       | 26/100 [00:05<00:16,  4.45it/s]/Users/kevinfry/opt/anaconda3/envs/spe/lib/python3.11/site-packages/sklearn/model_selection/_validation.py:73: FutureWarning: `fit_params` is deprecated and will be removed in version 1.6. Pass parameters via `params` instead.\n",
      "  warnings.warn(\n",
      "/Users/kevinfry/opt/anaconda3/envs/spe/lib/python3.11/site-packages/sklearn/model_selection/_validation.py:73: FutureWarning: `fit_params` is deprecated and will be removed in version 1.6. Pass parameters via `params` instead.\n",
      "  warnings.warn(\n",
      " 27%|██▋       | 27/100 [00:05<00:16,  4.44it/s]/Users/kevinfry/opt/anaconda3/envs/spe/lib/python3.11/site-packages/sklearn/model_selection/_validation.py:73: FutureWarning: `fit_params` is deprecated and will be removed in version 1.6. Pass parameters via `params` instead.\n",
      "  warnings.warn(\n",
      "/Users/kevinfry/opt/anaconda3/envs/spe/lib/python3.11/site-packages/sklearn/model_selection/_validation.py:73: FutureWarning: `fit_params` is deprecated and will be removed in version 1.6. Pass parameters via `params` instead.\n",
      "  warnings.warn(\n",
      " 28%|██▊       | 28/100 [00:05<00:13,  5.18it/s]/Users/kevinfry/opt/anaconda3/envs/spe/lib/python3.11/site-packages/sklearn/model_selection/_validation.py:73: FutureWarning: `fit_params` is deprecated and will be removed in version 1.6. Pass parameters via `params` instead.\n",
      "  warnings.warn(\n",
      "/Users/kevinfry/opt/anaconda3/envs/spe/lib/python3.11/site-packages/sklearn/model_selection/_validation.py:73: FutureWarning: `fit_params` is deprecated and will be removed in version 1.6. Pass parameters via `params` instead.\n",
      "  warnings.warn(\n",
      " 29%|██▉       | 29/100 [00:05<00:14,  5.07it/s]/Users/kevinfry/opt/anaconda3/envs/spe/lib/python3.11/site-packages/sklearn/model_selection/_validation.py:73: FutureWarning: `fit_params` is deprecated and will be removed in version 1.6. Pass parameters via `params` instead.\n",
      "  warnings.warn(\n",
      "/Users/kevinfry/opt/anaconda3/envs/spe/lib/python3.11/site-packages/sklearn/model_selection/_validation.py:73: FutureWarning: `fit_params` is deprecated and will be removed in version 1.6. Pass parameters via `params` instead.\n",
      "  warnings.warn(\n",
      " 30%|███       | 30/100 [00:05<00:13,  5.01it/s]/Users/kevinfry/opt/anaconda3/envs/spe/lib/python3.11/site-packages/sklearn/model_selection/_validation.py:73: FutureWarning: `fit_params` is deprecated and will be removed in version 1.6. Pass parameters via `params` instead.\n",
      "  warnings.warn(\n",
      "/Users/kevinfry/opt/anaconda3/envs/spe/lib/python3.11/site-packages/sklearn/model_selection/_validation.py:73: FutureWarning: `fit_params` is deprecated and will be removed in version 1.6. Pass parameters via `params` instead.\n",
      "  warnings.warn(\n",
      " 31%|███       | 31/100 [00:06<00:15,  4.57it/s]/Users/kevinfry/opt/anaconda3/envs/spe/lib/python3.11/site-packages/sklearn/model_selection/_validation.py:73: FutureWarning: `fit_params` is deprecated and will be removed in version 1.6. Pass parameters via `params` instead.\n",
      "  warnings.warn(\n",
      "/Users/kevinfry/opt/anaconda3/envs/spe/lib/python3.11/site-packages/sklearn/model_selection/_validation.py:73: FutureWarning: `fit_params` is deprecated and will be removed in version 1.6. Pass parameters via `params` instead.\n",
      "  warnings.warn(\n",
      " 32%|███▏      | 32/100 [00:06<00:15,  4.28it/s]/Users/kevinfry/opt/anaconda3/envs/spe/lib/python3.11/site-packages/sklearn/model_selection/_validation.py:73: FutureWarning: `fit_params` is deprecated and will be removed in version 1.6. Pass parameters via `params` instead.\n",
      "  warnings.warn(\n",
      "/Users/kevinfry/opt/anaconda3/envs/spe/lib/python3.11/site-packages/sklearn/model_selection/_validation.py:73: FutureWarning: `fit_params` is deprecated and will be removed in version 1.6. Pass parameters via `params` instead.\n",
      "  warnings.warn(\n",
      " 33%|███▎      | 33/100 [00:06<00:13,  4.98it/s]/Users/kevinfry/opt/anaconda3/envs/spe/lib/python3.11/site-packages/sklearn/model_selection/_validation.py:73: FutureWarning: `fit_params` is deprecated and will be removed in version 1.6. Pass parameters via `params` instead.\n",
      "  warnings.warn(\n",
      "/Users/kevinfry/opt/anaconda3/envs/spe/lib/python3.11/site-packages/sklearn/model_selection/_validation.py:73: FutureWarning: `fit_params` is deprecated and will be removed in version 1.6. Pass parameters via `params` instead.\n",
      "  warnings.warn(\n",
      " 34%|███▍      | 34/100 [00:06<00:13,  4.89it/s]/Users/kevinfry/opt/anaconda3/envs/spe/lib/python3.11/site-packages/sklearn/model_selection/_validation.py:73: FutureWarning: `fit_params` is deprecated and will be removed in version 1.6. Pass parameters via `params` instead.\n",
      "  warnings.warn(\n",
      "/Users/kevinfry/opt/anaconda3/envs/spe/lib/python3.11/site-packages/sklearn/model_selection/_validation.py:73: FutureWarning: `fit_params` is deprecated and will be removed in version 1.6. Pass parameters via `params` instead.\n",
      "  warnings.warn(\n",
      " 35%|███▌      | 35/100 [00:07<00:12,  5.15it/s]/Users/kevinfry/opt/anaconda3/envs/spe/lib/python3.11/site-packages/sklearn/model_selection/_validation.py:73: FutureWarning: `fit_params` is deprecated and will be removed in version 1.6. Pass parameters via `params` instead.\n",
      "  warnings.warn(\n",
      "/Users/kevinfry/opt/anaconda3/envs/spe/lib/python3.11/site-packages/sklearn/model_selection/_validation.py:73: FutureWarning: `fit_params` is deprecated and will be removed in version 1.6. Pass parameters via `params` instead.\n",
      "  warnings.warn(\n",
      " 36%|███▌      | 36/100 [00:07<00:13,  4.90it/s]/Users/kevinfry/opt/anaconda3/envs/spe/lib/python3.11/site-packages/sklearn/model_selection/_validation.py:73: FutureWarning: `fit_params` is deprecated and will be removed in version 1.6. Pass parameters via `params` instead.\n",
      "  warnings.warn(\n",
      "/Users/kevinfry/opt/anaconda3/envs/spe/lib/python3.11/site-packages/sklearn/model_selection/_validation.py:73: FutureWarning: `fit_params` is deprecated and will be removed in version 1.6. Pass parameters via `params` instead.\n",
      "  warnings.warn(\n",
      " 37%|███▋      | 37/100 [00:07<00:12,  5.17it/s]/Users/kevinfry/opt/anaconda3/envs/spe/lib/python3.11/site-packages/sklearn/model_selection/_validation.py:73: FutureWarning: `fit_params` is deprecated and will be removed in version 1.6. Pass parameters via `params` instead.\n",
      "  warnings.warn(\n",
      "/Users/kevinfry/opt/anaconda3/envs/spe/lib/python3.11/site-packages/sklearn/model_selection/_validation.py:73: FutureWarning: `fit_params` is deprecated and will be removed in version 1.6. Pass parameters via `params` instead.\n",
      "  warnings.warn(\n",
      " 38%|███▊      | 38/100 [00:07<00:10,  5.70it/s]/Users/kevinfry/opt/anaconda3/envs/spe/lib/python3.11/site-packages/sklearn/model_selection/_validation.py:73: FutureWarning: `fit_params` is deprecated and will be removed in version 1.6. Pass parameters via `params` instead.\n",
      "  warnings.warn(\n",
      "/Users/kevinfry/opt/anaconda3/envs/spe/lib/python3.11/site-packages/sklearn/model_selection/_validation.py:73: FutureWarning: `fit_params` is deprecated and will be removed in version 1.6. Pass parameters via `params` instead.\n",
      "  warnings.warn(\n",
      " 39%|███▉      | 39/100 [00:07<00:11,  5.42it/s]/Users/kevinfry/opt/anaconda3/envs/spe/lib/python3.11/site-packages/sklearn/model_selection/_validation.py:73: FutureWarning: `fit_params` is deprecated and will be removed in version 1.6. Pass parameters via `params` instead.\n",
      "  warnings.warn(\n",
      "/Users/kevinfry/opt/anaconda3/envs/spe/lib/python3.11/site-packages/sklearn/model_selection/_validation.py:73: FutureWarning: `fit_params` is deprecated and will be removed in version 1.6. Pass parameters via `params` instead.\n",
      "  warnings.warn(\n",
      " 40%|████      | 40/100 [00:07<00:10,  5.57it/s]/Users/kevinfry/opt/anaconda3/envs/spe/lib/python3.11/site-packages/sklearn/model_selection/_validation.py:73: FutureWarning: `fit_params` is deprecated and will be removed in version 1.6. Pass parameters via `params` instead.\n",
      "  warnings.warn(\n",
      "/Users/kevinfry/opt/anaconda3/envs/spe/lib/python3.11/site-packages/sklearn/model_selection/_validation.py:73: FutureWarning: `fit_params` is deprecated and will be removed in version 1.6. Pass parameters via `params` instead.\n",
      "  warnings.warn(\n",
      " 41%|████      | 41/100 [00:08<00:10,  5.86it/s]/Users/kevinfry/opt/anaconda3/envs/spe/lib/python3.11/site-packages/sklearn/model_selection/_validation.py:73: FutureWarning: `fit_params` is deprecated and will be removed in version 1.6. Pass parameters via `params` instead.\n",
      "  warnings.warn(\n",
      "/Users/kevinfry/opt/anaconda3/envs/spe/lib/python3.11/site-packages/sklearn/model_selection/_validation.py:73: FutureWarning: `fit_params` is deprecated and will be removed in version 1.6. Pass parameters via `params` instead.\n",
      "  warnings.warn(\n",
      " 42%|████▏     | 42/100 [00:08<00:11,  5.19it/s]/Users/kevinfry/opt/anaconda3/envs/spe/lib/python3.11/site-packages/sklearn/model_selection/_validation.py:73: FutureWarning: `fit_params` is deprecated and will be removed in version 1.6. Pass parameters via `params` instead.\n",
      "  warnings.warn(\n",
      "/Users/kevinfry/opt/anaconda3/envs/spe/lib/python3.11/site-packages/sklearn/model_selection/_validation.py:73: FutureWarning: `fit_params` is deprecated and will be removed in version 1.6. Pass parameters via `params` instead.\n",
      "  warnings.warn(\n",
      " 43%|████▎     | 43/100 [00:08<00:11,  4.93it/s]/Users/kevinfry/opt/anaconda3/envs/spe/lib/python3.11/site-packages/sklearn/model_selection/_validation.py:73: FutureWarning: `fit_params` is deprecated and will be removed in version 1.6. Pass parameters via `params` instead.\n",
      "  warnings.warn(\n",
      "/Users/kevinfry/opt/anaconda3/envs/spe/lib/python3.11/site-packages/sklearn/model_selection/_validation.py:73: FutureWarning: `fit_params` is deprecated and will be removed in version 1.6. Pass parameters via `params` instead.\n",
      "  warnings.warn(\n",
      " 44%|████▍     | 44/100 [00:08<00:12,  4.67it/s]/Users/kevinfry/opt/anaconda3/envs/spe/lib/python3.11/site-packages/sklearn/model_selection/_validation.py:73: FutureWarning: `fit_params` is deprecated and will be removed in version 1.6. Pass parameters via `params` instead.\n",
      "  warnings.warn(\n",
      "/Users/kevinfry/opt/anaconda3/envs/spe/lib/python3.11/site-packages/sklearn/model_selection/_validation.py:73: FutureWarning: `fit_params` is deprecated and will be removed in version 1.6. Pass parameters via `params` instead.\n",
      "  warnings.warn(\n",
      " 45%|████▌     | 45/100 [00:09<00:11,  4.64it/s]/Users/kevinfry/opt/anaconda3/envs/spe/lib/python3.11/site-packages/sklearn/model_selection/_validation.py:73: FutureWarning: `fit_params` is deprecated and will be removed in version 1.6. Pass parameters via `params` instead.\n",
      "  warnings.warn(\n",
      "/Users/kevinfry/opt/anaconda3/envs/spe/lib/python3.11/site-packages/sklearn/model_selection/_validation.py:73: FutureWarning: `fit_params` is deprecated and will be removed in version 1.6. Pass parameters via `params` instead.\n",
      "  warnings.warn(\n",
      " 46%|████▌     | 46/100 [00:09<00:10,  5.11it/s]/Users/kevinfry/opt/anaconda3/envs/spe/lib/python3.11/site-packages/sklearn/model_selection/_validation.py:73: FutureWarning: `fit_params` is deprecated and will be removed in version 1.6. Pass parameters via `params` instead.\n",
      "  warnings.warn(\n",
      "/Users/kevinfry/opt/anaconda3/envs/spe/lib/python3.11/site-packages/sklearn/model_selection/_validation.py:73: FutureWarning: `fit_params` is deprecated and will be removed in version 1.6. Pass parameters via `params` instead.\n",
      "  warnings.warn(\n",
      " 47%|████▋     | 47/100 [00:09<00:10,  4.91it/s]/Users/kevinfry/opt/anaconda3/envs/spe/lib/python3.11/site-packages/sklearn/model_selection/_validation.py:73: FutureWarning: `fit_params` is deprecated and will be removed in version 1.6. Pass parameters via `params` instead.\n",
      "  warnings.warn(\n",
      "/Users/kevinfry/opt/anaconda3/envs/spe/lib/python3.11/site-packages/sklearn/model_selection/_validation.py:73: FutureWarning: `fit_params` is deprecated and will be removed in version 1.6. Pass parameters via `params` instead.\n",
      "  warnings.warn(\n",
      " 48%|████▊     | 48/100 [00:09<00:11,  4.70it/s]/Users/kevinfry/opt/anaconda3/envs/spe/lib/python3.11/site-packages/sklearn/model_selection/_validation.py:73: FutureWarning: `fit_params` is deprecated and will be removed in version 1.6. Pass parameters via `params` instead.\n",
      "  warnings.warn(\n",
      "/Users/kevinfry/opt/anaconda3/envs/spe/lib/python3.11/site-packages/sklearn/model_selection/_validation.py:73: FutureWarning: `fit_params` is deprecated and will be removed in version 1.6. Pass parameters via `params` instead.\n",
      "  warnings.warn(\n",
      " 49%|████▉     | 49/100 [00:09<00:11,  4.57it/s]/Users/kevinfry/opt/anaconda3/envs/spe/lib/python3.11/site-packages/sklearn/model_selection/_validation.py:73: FutureWarning: `fit_params` is deprecated and will be removed in version 1.6. Pass parameters via `params` instead.\n",
      "  warnings.warn(\n",
      "/Users/kevinfry/opt/anaconda3/envs/spe/lib/python3.11/site-packages/sklearn/model_selection/_validation.py:73: FutureWarning: `fit_params` is deprecated and will be removed in version 1.6. Pass parameters via `params` instead.\n",
      "  warnings.warn(\n",
      " 50%|█████     | 50/100 [00:10<00:10,  4.61it/s]/Users/kevinfry/opt/anaconda3/envs/spe/lib/python3.11/site-packages/sklearn/model_selection/_validation.py:73: FutureWarning: `fit_params` is deprecated and will be removed in version 1.6. Pass parameters via `params` instead.\n",
      "  warnings.warn(\n",
      "/Users/kevinfry/opt/anaconda3/envs/spe/lib/python3.11/site-packages/sklearn/model_selection/_validation.py:73: FutureWarning: `fit_params` is deprecated and will be removed in version 1.6. Pass parameters via `params` instead.\n",
      "  warnings.warn(\n",
      " 51%|█████     | 51/100 [00:10<00:10,  4.57it/s]/Users/kevinfry/opt/anaconda3/envs/spe/lib/python3.11/site-packages/sklearn/model_selection/_validation.py:73: FutureWarning: `fit_params` is deprecated and will be removed in version 1.6. Pass parameters via `params` instead.\n",
      "  warnings.warn(\n",
      "/Users/kevinfry/opt/anaconda3/envs/spe/lib/python3.11/site-packages/sklearn/model_selection/_validation.py:73: FutureWarning: `fit_params` is deprecated and will be removed in version 1.6. Pass parameters via `params` instead.\n",
      "  warnings.warn(\n",
      " 52%|█████▏    | 52/100 [00:10<00:10,  4.61it/s]/Users/kevinfry/opt/anaconda3/envs/spe/lib/python3.11/site-packages/sklearn/model_selection/_validation.py:73: FutureWarning: `fit_params` is deprecated and will be removed in version 1.6. Pass parameters via `params` instead.\n",
      "  warnings.warn(\n",
      "/Users/kevinfry/opt/anaconda3/envs/spe/lib/python3.11/site-packages/sklearn/model_selection/_validation.py:73: FutureWarning: `fit_params` is deprecated and will be removed in version 1.6. Pass parameters via `params` instead.\n",
      "  warnings.warn(\n",
      " 53%|█████▎    | 53/100 [00:10<00:10,  4.53it/s]/Users/kevinfry/opt/anaconda3/envs/spe/lib/python3.11/site-packages/sklearn/model_selection/_validation.py:73: FutureWarning: `fit_params` is deprecated and will be removed in version 1.6. Pass parameters via `params` instead.\n",
      "  warnings.warn(\n",
      "/Users/kevinfry/opt/anaconda3/envs/spe/lib/python3.11/site-packages/sklearn/model_selection/_validation.py:73: FutureWarning: `fit_params` is deprecated and will be removed in version 1.6. Pass parameters via `params` instead.\n",
      "  warnings.warn(\n",
      " 54%|█████▍    | 54/100 [00:10<00:10,  4.32it/s]/Users/kevinfry/opt/anaconda3/envs/spe/lib/python3.11/site-packages/sklearn/model_selection/_validation.py:73: FutureWarning: `fit_params` is deprecated and will be removed in version 1.6. Pass parameters via `params` instead.\n",
      "  warnings.warn(\n",
      "/Users/kevinfry/opt/anaconda3/envs/spe/lib/python3.11/site-packages/sklearn/model_selection/_validation.py:73: FutureWarning: `fit_params` is deprecated and will be removed in version 1.6. Pass parameters via `params` instead.\n",
      "  warnings.warn(\n",
      " 55%|█████▌    | 55/100 [00:11<00:10,  4.28it/s]/Users/kevinfry/opt/anaconda3/envs/spe/lib/python3.11/site-packages/sklearn/model_selection/_validation.py:73: FutureWarning: `fit_params` is deprecated and will be removed in version 1.6. Pass parameters via `params` instead.\n",
      "  warnings.warn(\n",
      "/Users/kevinfry/opt/anaconda3/envs/spe/lib/python3.11/site-packages/sklearn/model_selection/_validation.py:73: FutureWarning: `fit_params` is deprecated and will be removed in version 1.6. Pass parameters via `params` instead.\n",
      "  warnings.warn(\n",
      " 56%|█████▌    | 56/100 [00:11<00:10,  4.29it/s]/Users/kevinfry/opt/anaconda3/envs/spe/lib/python3.11/site-packages/sklearn/model_selection/_validation.py:73: FutureWarning: `fit_params` is deprecated and will be removed in version 1.6. Pass parameters via `params` instead.\n",
      "  warnings.warn(\n",
      "/Users/kevinfry/opt/anaconda3/envs/spe/lib/python3.11/site-packages/sklearn/model_selection/_validation.py:73: FutureWarning: `fit_params` is deprecated and will be removed in version 1.6. Pass parameters via `params` instead.\n",
      "  warnings.warn(\n",
      " 57%|█████▋    | 57/100 [00:11<00:09,  4.35it/s]/Users/kevinfry/opt/anaconda3/envs/spe/lib/python3.11/site-packages/sklearn/model_selection/_validation.py:73: FutureWarning: `fit_params` is deprecated and will be removed in version 1.6. Pass parameters via `params` instead.\n",
      "  warnings.warn(\n",
      "/Users/kevinfry/opt/anaconda3/envs/spe/lib/python3.11/site-packages/sklearn/model_selection/_validation.py:73: FutureWarning: `fit_params` is deprecated and will be removed in version 1.6. Pass parameters via `params` instead.\n",
      "  warnings.warn(\n",
      " 58%|█████▊    | 58/100 [00:11<00:09,  4.41it/s]/Users/kevinfry/opt/anaconda3/envs/spe/lib/python3.11/site-packages/sklearn/model_selection/_validation.py:73: FutureWarning: `fit_params` is deprecated and will be removed in version 1.6. Pass parameters via `params` instead.\n",
      "  warnings.warn(\n",
      "/Users/kevinfry/opt/anaconda3/envs/spe/lib/python3.11/site-packages/sklearn/model_selection/_validation.py:73: FutureWarning: `fit_params` is deprecated and will be removed in version 1.6. Pass parameters via `params` instead.\n",
      "  warnings.warn(\n",
      " 59%|█████▉    | 59/100 [00:12<00:08,  4.91it/s]/Users/kevinfry/opt/anaconda3/envs/spe/lib/python3.11/site-packages/sklearn/model_selection/_validation.py:73: FutureWarning: `fit_params` is deprecated and will be removed in version 1.6. Pass parameters via `params` instead.\n",
      "  warnings.warn(\n",
      "/Users/kevinfry/opt/anaconda3/envs/spe/lib/python3.11/site-packages/sklearn/model_selection/_validation.py:73: FutureWarning: `fit_params` is deprecated and will be removed in version 1.6. Pass parameters via `params` instead.\n",
      "  warnings.warn(\n",
      " 60%|██████    | 60/100 [00:12<00:08,  4.82it/s]/Users/kevinfry/opt/anaconda3/envs/spe/lib/python3.11/site-packages/sklearn/model_selection/_validation.py:73: FutureWarning: `fit_params` is deprecated and will be removed in version 1.6. Pass parameters via `params` instead.\n",
      "  warnings.warn(\n",
      "/Users/kevinfry/opt/anaconda3/envs/spe/lib/python3.11/site-packages/sklearn/model_selection/_validation.py:73: FutureWarning: `fit_params` is deprecated and will be removed in version 1.6. Pass parameters via `params` instead.\n",
      "  warnings.warn(\n",
      " 61%|██████    | 61/100 [00:12<00:08,  4.81it/s]/Users/kevinfry/opt/anaconda3/envs/spe/lib/python3.11/site-packages/sklearn/model_selection/_validation.py:73: FutureWarning: `fit_params` is deprecated and will be removed in version 1.6. Pass parameters via `params` instead.\n",
      "  warnings.warn(\n",
      "/Users/kevinfry/opt/anaconda3/envs/spe/lib/python3.11/site-packages/sklearn/model_selection/_validation.py:73: FutureWarning: `fit_params` is deprecated and will be removed in version 1.6. Pass parameters via `params` instead.\n",
      "  warnings.warn(\n",
      " 62%|██████▏   | 62/100 [00:12<00:06,  5.44it/s]/Users/kevinfry/opt/anaconda3/envs/spe/lib/python3.11/site-packages/sklearn/model_selection/_validation.py:73: FutureWarning: `fit_params` is deprecated and will be removed in version 1.6. Pass parameters via `params` instead.\n",
      "  warnings.warn(\n",
      "/Users/kevinfry/opt/anaconda3/envs/spe/lib/python3.11/site-packages/sklearn/model_selection/_validation.py:73: FutureWarning: `fit_params` is deprecated and will be removed in version 1.6. Pass parameters via `params` instead.\n",
      "  warnings.warn(\n",
      " 63%|██████▎   | 63/100 [00:12<00:07,  5.05it/s]/Users/kevinfry/opt/anaconda3/envs/spe/lib/python3.11/site-packages/sklearn/model_selection/_validation.py:73: FutureWarning: `fit_params` is deprecated and will be removed in version 1.6. Pass parameters via `params` instead.\n",
      "  warnings.warn(\n",
      "/Users/kevinfry/opt/anaconda3/envs/spe/lib/python3.11/site-packages/sklearn/model_selection/_validation.py:73: FutureWarning: `fit_params` is deprecated and will be removed in version 1.6. Pass parameters via `params` instead.\n",
      "  warnings.warn(\n",
      " 64%|██████▍   | 64/100 [00:13<00:07,  4.87it/s]/Users/kevinfry/opt/anaconda3/envs/spe/lib/python3.11/site-packages/sklearn/model_selection/_validation.py:73: FutureWarning: `fit_params` is deprecated and will be removed in version 1.6. Pass parameters via `params` instead.\n",
      "  warnings.warn(\n",
      "/Users/kevinfry/opt/anaconda3/envs/spe/lib/python3.11/site-packages/sklearn/model_selection/_validation.py:73: FutureWarning: `fit_params` is deprecated and will be removed in version 1.6. Pass parameters via `params` instead.\n",
      "  warnings.warn(\n",
      " 65%|██████▌   | 65/100 [00:13<00:07,  4.68it/s]/Users/kevinfry/opt/anaconda3/envs/spe/lib/python3.11/site-packages/sklearn/model_selection/_validation.py:73: FutureWarning: `fit_params` is deprecated and will be removed in version 1.6. Pass parameters via `params` instead.\n",
      "  warnings.warn(\n",
      "/Users/kevinfry/opt/anaconda3/envs/spe/lib/python3.11/site-packages/sklearn/model_selection/_validation.py:73: FutureWarning: `fit_params` is deprecated and will be removed in version 1.6. Pass parameters via `params` instead.\n",
      "  warnings.warn(\n",
      " 66%|██████▌   | 66/100 [00:13<00:06,  5.02it/s]/Users/kevinfry/opt/anaconda3/envs/spe/lib/python3.11/site-packages/sklearn/model_selection/_validation.py:73: FutureWarning: `fit_params` is deprecated and will be removed in version 1.6. Pass parameters via `params` instead.\n",
      "  warnings.warn(\n",
      "/Users/kevinfry/opt/anaconda3/envs/spe/lib/python3.11/site-packages/sklearn/model_selection/_validation.py:73: FutureWarning: `fit_params` is deprecated and will be removed in version 1.6. Pass parameters via `params` instead.\n",
      "  warnings.warn(\n",
      " 67%|██████▋   | 67/100 [00:13<00:07,  4.48it/s]/Users/kevinfry/opt/anaconda3/envs/spe/lib/python3.11/site-packages/sklearn/model_selection/_validation.py:73: FutureWarning: `fit_params` is deprecated and will be removed in version 1.6. Pass parameters via `params` instead.\n",
      "  warnings.warn(\n",
      "/Users/kevinfry/opt/anaconda3/envs/spe/lib/python3.11/site-packages/sklearn/model_selection/_validation.py:73: FutureWarning: `fit_params` is deprecated and will be removed in version 1.6. Pass parameters via `params` instead.\n",
      "  warnings.warn(\n",
      " 68%|██████▊   | 68/100 [00:13<00:06,  5.01it/s]/Users/kevinfry/opt/anaconda3/envs/spe/lib/python3.11/site-packages/sklearn/model_selection/_validation.py:73: FutureWarning: `fit_params` is deprecated and will be removed in version 1.6. Pass parameters via `params` instead.\n",
      "  warnings.warn(\n",
      "/Users/kevinfry/opt/anaconda3/envs/spe/lib/python3.11/site-packages/sklearn/model_selection/_validation.py:73: FutureWarning: `fit_params` is deprecated and will be removed in version 1.6. Pass parameters via `params` instead.\n",
      "  warnings.warn(\n",
      " 69%|██████▉   | 69/100 [00:14<00:06,  4.82it/s]/Users/kevinfry/opt/anaconda3/envs/spe/lib/python3.11/site-packages/sklearn/model_selection/_validation.py:73: FutureWarning: `fit_params` is deprecated and will be removed in version 1.6. Pass parameters via `params` instead.\n",
      "  warnings.warn(\n",
      "/Users/kevinfry/opt/anaconda3/envs/spe/lib/python3.11/site-packages/sklearn/model_selection/_validation.py:73: FutureWarning: `fit_params` is deprecated and will be removed in version 1.6. Pass parameters via `params` instead.\n",
      "  warnings.warn(\n",
      " 70%|███████   | 70/100 [00:14<00:05,  5.31it/s]/Users/kevinfry/opt/anaconda3/envs/spe/lib/python3.11/site-packages/sklearn/model_selection/_validation.py:73: FutureWarning: `fit_params` is deprecated and will be removed in version 1.6. Pass parameters via `params` instead.\n",
      "  warnings.warn(\n",
      "/Users/kevinfry/opt/anaconda3/envs/spe/lib/python3.11/site-packages/sklearn/model_selection/_validation.py:73: FutureWarning: `fit_params` is deprecated and will be removed in version 1.6. Pass parameters via `params` instead.\n",
      "  warnings.warn(\n",
      " 71%|███████   | 71/100 [00:14<00:05,  5.07it/s]/Users/kevinfry/opt/anaconda3/envs/spe/lib/python3.11/site-packages/sklearn/model_selection/_validation.py:73: FutureWarning: `fit_params` is deprecated and will be removed in version 1.6. Pass parameters via `params` instead.\n",
      "  warnings.warn(\n",
      "/Users/kevinfry/opt/anaconda3/envs/spe/lib/python3.11/site-packages/sklearn/model_selection/_validation.py:73: FutureWarning: `fit_params` is deprecated and will be removed in version 1.6. Pass parameters via `params` instead.\n",
      "  warnings.warn(\n",
      " 72%|███████▏  | 72/100 [00:14<00:05,  4.92it/s]/Users/kevinfry/opt/anaconda3/envs/spe/lib/python3.11/site-packages/sklearn/model_selection/_validation.py:73: FutureWarning: `fit_params` is deprecated and will be removed in version 1.6. Pass parameters via `params` instead.\n",
      "  warnings.warn(\n",
      "/Users/kevinfry/opt/anaconda3/envs/spe/lib/python3.11/site-packages/sklearn/model_selection/_validation.py:73: FutureWarning: `fit_params` is deprecated and will be removed in version 1.6. Pass parameters via `params` instead.\n",
      "  warnings.warn(\n",
      " 73%|███████▎  | 73/100 [00:14<00:05,  4.79it/s]/Users/kevinfry/opt/anaconda3/envs/spe/lib/python3.11/site-packages/sklearn/model_selection/_validation.py:73: FutureWarning: `fit_params` is deprecated and will be removed in version 1.6. Pass parameters via `params` instead.\n",
      "  warnings.warn(\n",
      "/Users/kevinfry/opt/anaconda3/envs/spe/lib/python3.11/site-packages/sklearn/model_selection/_validation.py:73: FutureWarning: `fit_params` is deprecated and will be removed in version 1.6. Pass parameters via `params` instead.\n",
      "  warnings.warn(\n",
      " 74%|███████▍  | 74/100 [00:15<00:05,  4.67it/s]/Users/kevinfry/opt/anaconda3/envs/spe/lib/python3.11/site-packages/sklearn/model_selection/_validation.py:73: FutureWarning: `fit_params` is deprecated and will be removed in version 1.6. Pass parameters via `params` instead.\n",
      "  warnings.warn(\n",
      "/Users/kevinfry/opt/anaconda3/envs/spe/lib/python3.11/site-packages/sklearn/model_selection/_validation.py:73: FutureWarning: `fit_params` is deprecated and will be removed in version 1.6. Pass parameters via `params` instead.\n",
      "  warnings.warn(\n",
      " 75%|███████▌  | 75/100 [00:15<00:05,  4.60it/s]/Users/kevinfry/opt/anaconda3/envs/spe/lib/python3.11/site-packages/sklearn/model_selection/_validation.py:73: FutureWarning: `fit_params` is deprecated and will be removed in version 1.6. Pass parameters via `params` instead.\n",
      "  warnings.warn(\n",
      "/Users/kevinfry/opt/anaconda3/envs/spe/lib/python3.11/site-packages/sklearn/model_selection/_validation.py:73: FutureWarning: `fit_params` is deprecated and will be removed in version 1.6. Pass parameters via `params` instead.\n",
      "  warnings.warn(\n",
      " 76%|███████▌  | 76/100 [00:15<00:05,  4.43it/s]/Users/kevinfry/opt/anaconda3/envs/spe/lib/python3.11/site-packages/sklearn/model_selection/_validation.py:73: FutureWarning: `fit_params` is deprecated and will be removed in version 1.6. Pass parameters via `params` instead.\n",
      "  warnings.warn(\n",
      "/Users/kevinfry/opt/anaconda3/envs/spe/lib/python3.11/site-packages/sklearn/model_selection/_validation.py:73: FutureWarning: `fit_params` is deprecated and will be removed in version 1.6. Pass parameters via `params` instead.\n",
      "  warnings.warn(\n",
      " 77%|███████▋  | 77/100 [00:15<00:05,  4.37it/s]/Users/kevinfry/opt/anaconda3/envs/spe/lib/python3.11/site-packages/sklearn/model_selection/_validation.py:73: FutureWarning: `fit_params` is deprecated and will be removed in version 1.6. Pass parameters via `params` instead.\n",
      "  warnings.warn(\n",
      "/Users/kevinfry/opt/anaconda3/envs/spe/lib/python3.11/site-packages/sklearn/model_selection/_validation.py:73: FutureWarning: `fit_params` is deprecated and will be removed in version 1.6. Pass parameters via `params` instead.\n",
      "  warnings.warn(\n",
      " 78%|███████▊  | 78/100 [00:15<00:04,  4.73it/s]/Users/kevinfry/opt/anaconda3/envs/spe/lib/python3.11/site-packages/sklearn/model_selection/_validation.py:73: FutureWarning: `fit_params` is deprecated and will be removed in version 1.6. Pass parameters via `params` instead.\n",
      "  warnings.warn(\n",
      "/Users/kevinfry/opt/anaconda3/envs/spe/lib/python3.11/site-packages/sklearn/model_selection/_validation.py:73: FutureWarning: `fit_params` is deprecated and will be removed in version 1.6. Pass parameters via `params` instead.\n",
      "  warnings.warn(\n",
      " 79%|███████▉  | 79/100 [00:16<00:04,  5.04it/s]/Users/kevinfry/opt/anaconda3/envs/spe/lib/python3.11/site-packages/sklearn/model_selection/_validation.py:73: FutureWarning: `fit_params` is deprecated and will be removed in version 1.6. Pass parameters via `params` instead.\n",
      "  warnings.warn(\n",
      "/Users/kevinfry/opt/anaconda3/envs/spe/lib/python3.11/site-packages/sklearn/model_selection/_validation.py:73: FutureWarning: `fit_params` is deprecated and will be removed in version 1.6. Pass parameters via `params` instead.\n",
      "  warnings.warn(\n",
      " 80%|████████  | 80/100 [00:16<00:03,  5.65it/s]/Users/kevinfry/opt/anaconda3/envs/spe/lib/python3.11/site-packages/sklearn/model_selection/_validation.py:73: FutureWarning: `fit_params` is deprecated and will be removed in version 1.6. Pass parameters via `params` instead.\n",
      "  warnings.warn(\n",
      "/Users/kevinfry/opt/anaconda3/envs/spe/lib/python3.11/site-packages/sklearn/model_selection/_validation.py:73: FutureWarning: `fit_params` is deprecated and will be removed in version 1.6. Pass parameters via `params` instead.\n",
      "  warnings.warn(\n",
      " 81%|████████  | 81/100 [00:16<00:03,  5.17it/s]/Users/kevinfry/opt/anaconda3/envs/spe/lib/python3.11/site-packages/sklearn/model_selection/_validation.py:73: FutureWarning: `fit_params` is deprecated and will be removed in version 1.6. Pass parameters via `params` instead.\n",
      "  warnings.warn(\n",
      "/Users/kevinfry/opt/anaconda3/envs/spe/lib/python3.11/site-packages/sklearn/model_selection/_validation.py:73: FutureWarning: `fit_params` is deprecated and will be removed in version 1.6. Pass parameters via `params` instead.\n",
      "  warnings.warn(\n",
      " 82%|████████▏ | 82/100 [00:16<00:03,  5.56it/s]/Users/kevinfry/opt/anaconda3/envs/spe/lib/python3.11/site-packages/sklearn/model_selection/_validation.py:73: FutureWarning: `fit_params` is deprecated and will be removed in version 1.6. Pass parameters via `params` instead.\n",
      "  warnings.warn(\n",
      "/Users/kevinfry/opt/anaconda3/envs/spe/lib/python3.11/site-packages/sklearn/model_selection/_validation.py:73: FutureWarning: `fit_params` is deprecated and will be removed in version 1.6. Pass parameters via `params` instead.\n",
      "  warnings.warn(\n",
      " 83%|████████▎ | 83/100 [00:16<00:02,  5.86it/s]/Users/kevinfry/opt/anaconda3/envs/spe/lib/python3.11/site-packages/sklearn/model_selection/_validation.py:73: FutureWarning: `fit_params` is deprecated and will be removed in version 1.6. Pass parameters via `params` instead.\n",
      "  warnings.warn(\n",
      "/Users/kevinfry/opt/anaconda3/envs/spe/lib/python3.11/site-packages/sklearn/model_selection/_validation.py:73: FutureWarning: `fit_params` is deprecated and will be removed in version 1.6. Pass parameters via `params` instead.\n",
      "  warnings.warn(\n",
      " 84%|████████▍ | 84/100 [00:16<00:02,  6.03it/s]/Users/kevinfry/opt/anaconda3/envs/spe/lib/python3.11/site-packages/sklearn/model_selection/_validation.py:73: FutureWarning: `fit_params` is deprecated and will be removed in version 1.6. Pass parameters via `params` instead.\n",
      "  warnings.warn(\n",
      "/Users/kevinfry/opt/anaconda3/envs/spe/lib/python3.11/site-packages/sklearn/model_selection/_validation.py:73: FutureWarning: `fit_params` is deprecated and will be removed in version 1.6. Pass parameters via `params` instead.\n",
      "  warnings.warn(\n",
      " 85%|████████▌ | 85/100 [00:17<00:02,  5.61it/s]/Users/kevinfry/opt/anaconda3/envs/spe/lib/python3.11/site-packages/sklearn/model_selection/_validation.py:73: FutureWarning: `fit_params` is deprecated and will be removed in version 1.6. Pass parameters via `params` instead.\n",
      "  warnings.warn(\n",
      "/Users/kevinfry/opt/anaconda3/envs/spe/lib/python3.11/site-packages/sklearn/model_selection/_validation.py:73: FutureWarning: `fit_params` is deprecated and will be removed in version 1.6. Pass parameters via `params` instead.\n",
      "  warnings.warn(\n",
      " 86%|████████▌ | 86/100 [00:17<00:02,  5.42it/s]/Users/kevinfry/opt/anaconda3/envs/spe/lib/python3.11/site-packages/sklearn/model_selection/_validation.py:73: FutureWarning: `fit_params` is deprecated and will be removed in version 1.6. Pass parameters via `params` instead.\n",
      "  warnings.warn(\n",
      "/Users/kevinfry/opt/anaconda3/envs/spe/lib/python3.11/site-packages/sklearn/model_selection/_validation.py:73: FutureWarning: `fit_params` is deprecated and will be removed in version 1.6. Pass parameters via `params` instead.\n",
      "  warnings.warn(\n",
      " 87%|████████▋ | 87/100 [00:17<00:02,  5.35it/s]/Users/kevinfry/opt/anaconda3/envs/spe/lib/python3.11/site-packages/sklearn/model_selection/_validation.py:73: FutureWarning: `fit_params` is deprecated and will be removed in version 1.6. Pass parameters via `params` instead.\n",
      "  warnings.warn(\n",
      "/Users/kevinfry/opt/anaconda3/envs/spe/lib/python3.11/site-packages/sklearn/model_selection/_validation.py:73: FutureWarning: `fit_params` is deprecated and will be removed in version 1.6. Pass parameters via `params` instead.\n",
      "  warnings.warn(\n",
      " 88%|████████▊ | 88/100 [00:17<00:02,  5.06it/s]/Users/kevinfry/opt/anaconda3/envs/spe/lib/python3.11/site-packages/sklearn/model_selection/_validation.py:73: FutureWarning: `fit_params` is deprecated and will be removed in version 1.6. Pass parameters via `params` instead.\n",
      "  warnings.warn(\n",
      "/Users/kevinfry/opt/anaconda3/envs/spe/lib/python3.11/site-packages/sklearn/model_selection/_validation.py:73: FutureWarning: `fit_params` is deprecated and will be removed in version 1.6. Pass parameters via `params` instead.\n",
      "  warnings.warn(\n",
      " 89%|████████▉ | 89/100 [00:18<00:02,  4.84it/s]/Users/kevinfry/opt/anaconda3/envs/spe/lib/python3.11/site-packages/sklearn/model_selection/_validation.py:73: FutureWarning: `fit_params` is deprecated and will be removed in version 1.6. Pass parameters via `params` instead.\n",
      "  warnings.warn(\n",
      "/Users/kevinfry/opt/anaconda3/envs/spe/lib/python3.11/site-packages/sklearn/model_selection/_validation.py:73: FutureWarning: `fit_params` is deprecated and will be removed in version 1.6. Pass parameters via `params` instead.\n",
      "  warnings.warn(\n",
      " 90%|█████████ | 90/100 [00:18<00:01,  5.02it/s]/Users/kevinfry/opt/anaconda3/envs/spe/lib/python3.11/site-packages/sklearn/model_selection/_validation.py:73: FutureWarning: `fit_params` is deprecated and will be removed in version 1.6. Pass parameters via `params` instead.\n",
      "  warnings.warn(\n",
      "/Users/kevinfry/opt/anaconda3/envs/spe/lib/python3.11/site-packages/sklearn/model_selection/_validation.py:73: FutureWarning: `fit_params` is deprecated and will be removed in version 1.6. Pass parameters via `params` instead.\n",
      "  warnings.warn(\n",
      " 91%|█████████ | 91/100 [00:18<00:01,  5.27it/s]/Users/kevinfry/opt/anaconda3/envs/spe/lib/python3.11/site-packages/sklearn/model_selection/_validation.py:73: FutureWarning: `fit_params` is deprecated and will be removed in version 1.6. Pass parameters via `params` instead.\n",
      "  warnings.warn(\n",
      "/Users/kevinfry/opt/anaconda3/envs/spe/lib/python3.11/site-packages/sklearn/model_selection/_validation.py:73: FutureWarning: `fit_params` is deprecated and will be removed in version 1.6. Pass parameters via `params` instead.\n",
      "  warnings.warn(\n",
      " 92%|█████████▏| 92/100 [00:18<00:01,  5.09it/s]/Users/kevinfry/opt/anaconda3/envs/spe/lib/python3.11/site-packages/sklearn/model_selection/_validation.py:73: FutureWarning: `fit_params` is deprecated and will be removed in version 1.6. Pass parameters via `params` instead.\n",
      "  warnings.warn(\n",
      "/Users/kevinfry/opt/anaconda3/envs/spe/lib/python3.11/site-packages/sklearn/model_selection/_validation.py:73: FutureWarning: `fit_params` is deprecated and will be removed in version 1.6. Pass parameters via `params` instead.\n",
      "  warnings.warn(\n",
      " 93%|█████████▎| 93/100 [00:18<00:01,  5.46it/s]/Users/kevinfry/opt/anaconda3/envs/spe/lib/python3.11/site-packages/sklearn/model_selection/_validation.py:73: FutureWarning: `fit_params` is deprecated and will be removed in version 1.6. Pass parameters via `params` instead.\n",
      "  warnings.warn(\n",
      "/Users/kevinfry/opt/anaconda3/envs/spe/lib/python3.11/site-packages/sklearn/model_selection/_validation.py:73: FutureWarning: `fit_params` is deprecated and will be removed in version 1.6. Pass parameters via `params` instead.\n",
      "  warnings.warn(\n",
      " 94%|█████████▍| 94/100 [00:18<00:01,  5.89it/s]/Users/kevinfry/opt/anaconda3/envs/spe/lib/python3.11/site-packages/sklearn/model_selection/_validation.py:73: FutureWarning: `fit_params` is deprecated and will be removed in version 1.6. Pass parameters via `params` instead.\n",
      "  warnings.warn(\n",
      "/Users/kevinfry/opt/anaconda3/envs/spe/lib/python3.11/site-packages/sklearn/model_selection/_validation.py:73: FutureWarning: `fit_params` is deprecated and will be removed in version 1.6. Pass parameters via `params` instead.\n",
      "  warnings.warn(\n",
      " 95%|█████████▌| 95/100 [00:19<00:00,  5.47it/s]/Users/kevinfry/opt/anaconda3/envs/spe/lib/python3.11/site-packages/sklearn/model_selection/_validation.py:73: FutureWarning: `fit_params` is deprecated and will be removed in version 1.6. Pass parameters via `params` instead.\n",
      "  warnings.warn(\n",
      "/Users/kevinfry/opt/anaconda3/envs/spe/lib/python3.11/site-packages/sklearn/model_selection/_validation.py:73: FutureWarning: `fit_params` is deprecated and will be removed in version 1.6. Pass parameters via `params` instead.\n",
      "  warnings.warn(\n",
      " 96%|█████████▌| 96/100 [00:19<00:00,  5.21it/s]/Users/kevinfry/opt/anaconda3/envs/spe/lib/python3.11/site-packages/sklearn/model_selection/_validation.py:73: FutureWarning: `fit_params` is deprecated and will be removed in version 1.6. Pass parameters via `params` instead.\n",
      "  warnings.warn(\n",
      "/Users/kevinfry/opt/anaconda3/envs/spe/lib/python3.11/site-packages/sklearn/model_selection/_validation.py:73: FutureWarning: `fit_params` is deprecated and will be removed in version 1.6. Pass parameters via `params` instead.\n",
      "  warnings.warn(\n",
      " 97%|█████████▋| 97/100 [00:19<00:00,  4.91it/s]/Users/kevinfry/opt/anaconda3/envs/spe/lib/python3.11/site-packages/sklearn/model_selection/_validation.py:73: FutureWarning: `fit_params` is deprecated and will be removed in version 1.6. Pass parameters via `params` instead.\n",
      "  warnings.warn(\n",
      "/Users/kevinfry/opt/anaconda3/envs/spe/lib/python3.11/site-packages/sklearn/model_selection/_validation.py:73: FutureWarning: `fit_params` is deprecated and will be removed in version 1.6. Pass parameters via `params` instead.\n",
      "  warnings.warn(\n",
      " 98%|█████████▊| 98/100 [00:19<00:00,  4.98it/s]/Users/kevinfry/opt/anaconda3/envs/spe/lib/python3.11/site-packages/sklearn/model_selection/_validation.py:73: FutureWarning: `fit_params` is deprecated and will be removed in version 1.6. Pass parameters via `params` instead.\n",
      "  warnings.warn(\n",
      "/Users/kevinfry/opt/anaconda3/envs/spe/lib/python3.11/site-packages/sklearn/model_selection/_validation.py:73: FutureWarning: `fit_params` is deprecated and will be removed in version 1.6. Pass parameters via `params` instead.\n",
      "  warnings.warn(\n",
      " 99%|█████████▉| 99/100 [00:19<00:00,  5.38it/s]/Users/kevinfry/opt/anaconda3/envs/spe/lib/python3.11/site-packages/sklearn/model_selection/_validation.py:73: FutureWarning: `fit_params` is deprecated and will be removed in version 1.6. Pass parameters via `params` instead.\n",
      "  warnings.warn(\n",
      "/Users/kevinfry/opt/anaconda3/envs/spe/lib/python3.11/site-packages/sklearn/model_selection/_validation.py:73: FutureWarning: `fit_params` is deprecated and will be removed in version 1.6. Pass parameters via `params` instead.\n",
      "  warnings.warn(\n",
      "100%|██████████| 100/100 [00:20<00:00,  4.97it/s]\n"
     ]
    }
   ],
   "source": [
    "model_errs = []\n",
    "\n",
    "for model in models:\n",
    "    errs = err_cmp.compare(\n",
    "        model,\n",
    "        ests,\n",
    "        est_kwargs,\n",
    "        niter=niter,\n",
    "        n=n,\n",
    "        p=p,\n",
    "        s=s,\n",
    "        snr=snr, \n",
    "        X=X,\n",
    "        beta=beta,\n",
    "        coord=coord,\n",
    "        Chol_y=Chol_y,\n",
    "        Chol_ystar=None,\n",
    "        Cov_y_ystar=None,\n",
    "        tr_idx=tr_idx,\n",
    "        fair=False,\n",
    "        est_sigma=False,\n",
    "    )\n",
    "    model_errs.append(errs)"
   ]
  },
  {
   "cell_type": "code",
   "execution_count": 10,
   "metadata": {},
   "outputs": [
    {
     "data": {
      "application/vnd.plotly.v1+json": {
       "config": {
        "plotlyServerURL": "https://plot.ly"
       },
       "data": [
        {
         "marker": {
          "color": [
           "rgb(127, 60, 141)",
           "rgb(17, 165, 121)",
           "rgb(57, 105, 172)",
           "rgb(242, 183, 1)",
           "rgb(231, 63, 116)",
           "rgb(128, 186, 90)",
           "rgb(230, 131, 16)",
           "rgb(0, 134, 149)",
           "rgb(207, 28, 144)",
           "rgb(249, 123, 114)",
           "rgb(165, 170, 153)"
          ]
         },
         "text": [
          0.991,
          0.839,
          1.17
         ],
         "textposition": "outside",
         "type": "bar",
         "x": [
          "GenCp",
          "KFCV",
          "SPCV"
         ],
         "xaxis": "x",
         "y": [
          0.9914485247685214,
          0.8385587704988675,
          1.1695236753296399
         ],
         "yaxis": "y"
        },
        {
         "marker": {
          "color": [
           "rgb(127, 60, 141)",
           "rgb(17, 165, 121)",
           "rgb(57, 105, 172)",
           "rgb(242, 183, 1)",
           "rgb(231, 63, 116)",
           "rgb(128, 186, 90)",
           "rgb(230, 131, 16)",
           "rgb(0, 134, 149)",
           "rgb(207, 28, 144)",
           "rgb(249, 123, 114)",
           "rgb(165, 170, 153)"
          ]
         },
         "text": [
          1.021,
          1.038,
          72.383
         ],
         "textposition": "outside",
         "type": "bar",
         "x": [
          "GenCp",
          "KFCV",
          "SPCV"
         ],
         "xaxis": "x2",
         "y": [
          1.0208544439303309,
          1.0377296924379855,
          72.38341930990039
         ],
         "yaxis": "y2"
        }
       ],
       "layout": {
        "annotations": [
         {
          "font": {
           "size": 16
          },
          "showarrow": false,
          "text": "Linear Regression",
          "x": 0.225,
          "xanchor": "center",
          "xref": "paper",
          "y": 1,
          "yanchor": "bottom",
          "yref": "paper"
         },
         {
          "font": {
           "size": 16
          },
          "showarrow": false,
          "text": "Spline Regression",
          "x": 0.775,
          "xanchor": "center",
          "xref": "paper",
          "y": 1,
          "yanchor": "bottom",
          "yref": "paper"
         }
        ],
        "shapes": [
         {
          "line": {
           "color": "red"
          },
          "type": "line",
          "x0": 0,
          "x1": 1,
          "xref": "x domain",
          "y0": 1,
          "y1": 1,
          "yref": "y"
         },
         {
          "line": {
           "color": "red"
          },
          "type": "line",
          "x0": 0,
          "x1": 1,
          "xref": "x2 domain",
          "y0": 1,
          "y1": 1,
          "yref": "y2"
         }
        ],
        "showlegend": false,
        "template": {
         "data": {
          "bar": [
           {
            "error_x": {
             "color": "#2a3f5f"
            },
            "error_y": {
             "color": "#2a3f5f"
            },
            "marker": {
             "line": {
              "color": "#E5ECF6",
              "width": 0.5
             },
             "pattern": {
              "fillmode": "overlay",
              "size": 10,
              "solidity": 0.2
             }
            },
            "type": "bar"
           }
          ],
          "barpolar": [
           {
            "marker": {
             "line": {
              "color": "#E5ECF6",
              "width": 0.5
             },
             "pattern": {
              "fillmode": "overlay",
              "size": 10,
              "solidity": 0.2
             }
            },
            "type": "barpolar"
           }
          ],
          "carpet": [
           {
            "aaxis": {
             "endlinecolor": "#2a3f5f",
             "gridcolor": "white",
             "linecolor": "white",
             "minorgridcolor": "white",
             "startlinecolor": "#2a3f5f"
            },
            "baxis": {
             "endlinecolor": "#2a3f5f",
             "gridcolor": "white",
             "linecolor": "white",
             "minorgridcolor": "white",
             "startlinecolor": "#2a3f5f"
            },
            "type": "carpet"
           }
          ],
          "choropleth": [
           {
            "colorbar": {
             "outlinewidth": 0,
             "ticks": ""
            },
            "type": "choropleth"
           }
          ],
          "contour": [
           {
            "colorbar": {
             "outlinewidth": 0,
             "ticks": ""
            },
            "colorscale": [
             [
              0,
              "#0d0887"
             ],
             [
              0.1111111111111111,
              "#46039f"
             ],
             [
              0.2222222222222222,
              "#7201a8"
             ],
             [
              0.3333333333333333,
              "#9c179e"
             ],
             [
              0.4444444444444444,
              "#bd3786"
             ],
             [
              0.5555555555555556,
              "#d8576b"
             ],
             [
              0.6666666666666666,
              "#ed7953"
             ],
             [
              0.7777777777777778,
              "#fb9f3a"
             ],
             [
              0.8888888888888888,
              "#fdca26"
             ],
             [
              1,
              "#f0f921"
             ]
            ],
            "type": "contour"
           }
          ],
          "contourcarpet": [
           {
            "colorbar": {
             "outlinewidth": 0,
             "ticks": ""
            },
            "type": "contourcarpet"
           }
          ],
          "heatmap": [
           {
            "colorbar": {
             "outlinewidth": 0,
             "ticks": ""
            },
            "colorscale": [
             [
              0,
              "#0d0887"
             ],
             [
              0.1111111111111111,
              "#46039f"
             ],
             [
              0.2222222222222222,
              "#7201a8"
             ],
             [
              0.3333333333333333,
              "#9c179e"
             ],
             [
              0.4444444444444444,
              "#bd3786"
             ],
             [
              0.5555555555555556,
              "#d8576b"
             ],
             [
              0.6666666666666666,
              "#ed7953"
             ],
             [
              0.7777777777777778,
              "#fb9f3a"
             ],
             [
              0.8888888888888888,
              "#fdca26"
             ],
             [
              1,
              "#f0f921"
             ]
            ],
            "type": "heatmap"
           }
          ],
          "heatmapgl": [
           {
            "colorbar": {
             "outlinewidth": 0,
             "ticks": ""
            },
            "colorscale": [
             [
              0,
              "#0d0887"
             ],
             [
              0.1111111111111111,
              "#46039f"
             ],
             [
              0.2222222222222222,
              "#7201a8"
             ],
             [
              0.3333333333333333,
              "#9c179e"
             ],
             [
              0.4444444444444444,
              "#bd3786"
             ],
             [
              0.5555555555555556,
              "#d8576b"
             ],
             [
              0.6666666666666666,
              "#ed7953"
             ],
             [
              0.7777777777777778,
              "#fb9f3a"
             ],
             [
              0.8888888888888888,
              "#fdca26"
             ],
             [
              1,
              "#f0f921"
             ]
            ],
            "type": "heatmapgl"
           }
          ],
          "histogram": [
           {
            "marker": {
             "pattern": {
              "fillmode": "overlay",
              "size": 10,
              "solidity": 0.2
             }
            },
            "type": "histogram"
           }
          ],
          "histogram2d": [
           {
            "colorbar": {
             "outlinewidth": 0,
             "ticks": ""
            },
            "colorscale": [
             [
              0,
              "#0d0887"
             ],
             [
              0.1111111111111111,
              "#46039f"
             ],
             [
              0.2222222222222222,
              "#7201a8"
             ],
             [
              0.3333333333333333,
              "#9c179e"
             ],
             [
              0.4444444444444444,
              "#bd3786"
             ],
             [
              0.5555555555555556,
              "#d8576b"
             ],
             [
              0.6666666666666666,
              "#ed7953"
             ],
             [
              0.7777777777777778,
              "#fb9f3a"
             ],
             [
              0.8888888888888888,
              "#fdca26"
             ],
             [
              1,
              "#f0f921"
             ]
            ],
            "type": "histogram2d"
           }
          ],
          "histogram2dcontour": [
           {
            "colorbar": {
             "outlinewidth": 0,
             "ticks": ""
            },
            "colorscale": [
             [
              0,
              "#0d0887"
             ],
             [
              0.1111111111111111,
              "#46039f"
             ],
             [
              0.2222222222222222,
              "#7201a8"
             ],
             [
              0.3333333333333333,
              "#9c179e"
             ],
             [
              0.4444444444444444,
              "#bd3786"
             ],
             [
              0.5555555555555556,
              "#d8576b"
             ],
             [
              0.6666666666666666,
              "#ed7953"
             ],
             [
              0.7777777777777778,
              "#fb9f3a"
             ],
             [
              0.8888888888888888,
              "#fdca26"
             ],
             [
              1,
              "#f0f921"
             ]
            ],
            "type": "histogram2dcontour"
           }
          ],
          "mesh3d": [
           {
            "colorbar": {
             "outlinewidth": 0,
             "ticks": ""
            },
            "type": "mesh3d"
           }
          ],
          "parcoords": [
           {
            "line": {
             "colorbar": {
              "outlinewidth": 0,
              "ticks": ""
             }
            },
            "type": "parcoords"
           }
          ],
          "pie": [
           {
            "automargin": true,
            "type": "pie"
           }
          ],
          "scatter": [
           {
            "fillpattern": {
             "fillmode": "overlay",
             "size": 10,
             "solidity": 0.2
            },
            "type": "scatter"
           }
          ],
          "scatter3d": [
           {
            "line": {
             "colorbar": {
              "outlinewidth": 0,
              "ticks": ""
             }
            },
            "marker": {
             "colorbar": {
              "outlinewidth": 0,
              "ticks": ""
             }
            },
            "type": "scatter3d"
           }
          ],
          "scattercarpet": [
           {
            "marker": {
             "colorbar": {
              "outlinewidth": 0,
              "ticks": ""
             }
            },
            "type": "scattercarpet"
           }
          ],
          "scattergeo": [
           {
            "marker": {
             "colorbar": {
              "outlinewidth": 0,
              "ticks": ""
             }
            },
            "type": "scattergeo"
           }
          ],
          "scattergl": [
           {
            "marker": {
             "colorbar": {
              "outlinewidth": 0,
              "ticks": ""
             }
            },
            "type": "scattergl"
           }
          ],
          "scattermapbox": [
           {
            "marker": {
             "colorbar": {
              "outlinewidth": 0,
              "ticks": ""
             }
            },
            "type": "scattermapbox"
           }
          ],
          "scatterpolar": [
           {
            "marker": {
             "colorbar": {
              "outlinewidth": 0,
              "ticks": ""
             }
            },
            "type": "scatterpolar"
           }
          ],
          "scatterpolargl": [
           {
            "marker": {
             "colorbar": {
              "outlinewidth": 0,
              "ticks": ""
             }
            },
            "type": "scatterpolargl"
           }
          ],
          "scatterternary": [
           {
            "marker": {
             "colorbar": {
              "outlinewidth": 0,
              "ticks": ""
             }
            },
            "type": "scatterternary"
           }
          ],
          "surface": [
           {
            "colorbar": {
             "outlinewidth": 0,
             "ticks": ""
            },
            "colorscale": [
             [
              0,
              "#0d0887"
             ],
             [
              0.1111111111111111,
              "#46039f"
             ],
             [
              0.2222222222222222,
              "#7201a8"
             ],
             [
              0.3333333333333333,
              "#9c179e"
             ],
             [
              0.4444444444444444,
              "#bd3786"
             ],
             [
              0.5555555555555556,
              "#d8576b"
             ],
             [
              0.6666666666666666,
              "#ed7953"
             ],
             [
              0.7777777777777778,
              "#fb9f3a"
             ],
             [
              0.8888888888888888,
              "#fdca26"
             ],
             [
              1,
              "#f0f921"
             ]
            ],
            "type": "surface"
           }
          ],
          "table": [
           {
            "cells": {
             "fill": {
              "color": "#EBF0F8"
             },
             "line": {
              "color": "white"
             }
            },
            "header": {
             "fill": {
              "color": "#C8D4E3"
             },
             "line": {
              "color": "white"
             }
            },
            "type": "table"
           }
          ]
         },
         "layout": {
          "annotationdefaults": {
           "arrowcolor": "#2a3f5f",
           "arrowhead": 0,
           "arrowwidth": 1
          },
          "autotypenumbers": "strict",
          "coloraxis": {
           "colorbar": {
            "outlinewidth": 0,
            "ticks": ""
           }
          },
          "colorscale": {
           "diverging": [
            [
             0,
             "#8e0152"
            ],
            [
             0.1,
             "#c51b7d"
            ],
            [
             0.2,
             "#de77ae"
            ],
            [
             0.3,
             "#f1b6da"
            ],
            [
             0.4,
             "#fde0ef"
            ],
            [
             0.5,
             "#f7f7f7"
            ],
            [
             0.6,
             "#e6f5d0"
            ],
            [
             0.7,
             "#b8e186"
            ],
            [
             0.8,
             "#7fbc41"
            ],
            [
             0.9,
             "#4d9221"
            ],
            [
             1,
             "#276419"
            ]
           ],
           "sequential": [
            [
             0,
             "#0d0887"
            ],
            [
             0.1111111111111111,
             "#46039f"
            ],
            [
             0.2222222222222222,
             "#7201a8"
            ],
            [
             0.3333333333333333,
             "#9c179e"
            ],
            [
             0.4444444444444444,
             "#bd3786"
            ],
            [
             0.5555555555555556,
             "#d8576b"
            ],
            [
             0.6666666666666666,
             "#ed7953"
            ],
            [
             0.7777777777777778,
             "#fb9f3a"
            ],
            [
             0.8888888888888888,
             "#fdca26"
            ],
            [
             1,
             "#f0f921"
            ]
           ],
           "sequentialminus": [
            [
             0,
             "#0d0887"
            ],
            [
             0.1111111111111111,
             "#46039f"
            ],
            [
             0.2222222222222222,
             "#7201a8"
            ],
            [
             0.3333333333333333,
             "#9c179e"
            ],
            [
             0.4444444444444444,
             "#bd3786"
            ],
            [
             0.5555555555555556,
             "#d8576b"
            ],
            [
             0.6666666666666666,
             "#ed7953"
            ],
            [
             0.7777777777777778,
             "#fb9f3a"
            ],
            [
             0.8888888888888888,
             "#fdca26"
            ],
            [
             1,
             "#f0f921"
            ]
           ]
          },
          "colorway": [
           "#636efa",
           "#EF553B",
           "#00cc96",
           "#ab63fa",
           "#FFA15A",
           "#19d3f3",
           "#FF6692",
           "#B6E880",
           "#FF97FF",
           "#FECB52"
          ],
          "font": {
           "color": "#2a3f5f"
          },
          "geo": {
           "bgcolor": "white",
           "lakecolor": "white",
           "landcolor": "#E5ECF6",
           "showlakes": true,
           "showland": true,
           "subunitcolor": "white"
          },
          "hoverlabel": {
           "align": "left"
          },
          "hovermode": "closest",
          "mapbox": {
           "style": "light"
          },
          "paper_bgcolor": "white",
          "plot_bgcolor": "#E5ECF6",
          "polar": {
           "angularaxis": {
            "gridcolor": "white",
            "linecolor": "white",
            "ticks": ""
           },
           "bgcolor": "#E5ECF6",
           "radialaxis": {
            "gridcolor": "white",
            "linecolor": "white",
            "ticks": ""
           }
          },
          "scene": {
           "xaxis": {
            "backgroundcolor": "#E5ECF6",
            "gridcolor": "white",
            "gridwidth": 2,
            "linecolor": "white",
            "showbackground": true,
            "ticks": "",
            "zerolinecolor": "white"
           },
           "yaxis": {
            "backgroundcolor": "#E5ECF6",
            "gridcolor": "white",
            "gridwidth": 2,
            "linecolor": "white",
            "showbackground": true,
            "ticks": "",
            "zerolinecolor": "white"
           },
           "zaxis": {
            "backgroundcolor": "#E5ECF6",
            "gridcolor": "white",
            "gridwidth": 2,
            "linecolor": "white",
            "showbackground": true,
            "ticks": "",
            "zerolinecolor": "white"
           }
          },
          "shapedefaults": {
           "line": {
            "color": "#2a3f5f"
           }
          },
          "ternary": {
           "aaxis": {
            "gridcolor": "white",
            "linecolor": "white",
            "ticks": ""
           },
           "baxis": {
            "gridcolor": "white",
            "linecolor": "white",
            "ticks": ""
           },
           "bgcolor": "#E5ECF6",
           "caxis": {
            "gridcolor": "white",
            "linecolor": "white",
            "ticks": ""
           }
          },
          "title": {
           "x": 0.05
          },
          "xaxis": {
           "automargin": true,
           "gridcolor": "white",
           "linecolor": "white",
           "ticks": "",
           "title": {
            "standoff": 15
           },
           "zerolinecolor": "white",
           "zerolinewidth": 2
          },
          "yaxis": {
           "automargin": true,
           "gridcolor": "white",
           "linecolor": "white",
           "ticks": "",
           "title": {
            "standoff": 15
           },
           "zerolinecolor": "white",
           "zerolinewidth": 2
          }
         }
        },
        "title": {
         "text": "Linear Smoothers: No Shared Noise"
        },
        "xaxis": {
         "anchor": "y",
         "domain": [
          0,
          0.45
         ],
         "title": {
          "text": "Method"
         }
        },
        "xaxis2": {
         "anchor": "y2",
         "domain": [
          0.55,
          1
         ],
         "title": {
          "text": "Method"
         }
        },
        "yaxis": {
         "anchor": "x",
         "domain": [
          0,
          1
         ],
         "title": {
          "text": "Relative MSE"
         }
        },
        "yaxis2": {
         "anchor": "x2",
         "domain": [
          0,
          1
         ]
        }
       }
      }
     },
     "metadata": {},
     "output_type": "display_data"
    }
   ],
   "source": [
    "fig = gen_model_barplots(\n",
    "    model_errs, \n",
    "    model_names, \n",
    "    est_names, \n",
    "    title=\"Linear Smoothers: No Shared Noise\"\n",
    ")\n",
    "fig.show()"
   ]
  },
  {
   "attachments": {},
   "cell_type": "markdown",
   "metadata": {},
   "source": [
    "# Simulate $\\begin{pmatrix} Y \\\\ Y^* \\end{pmatrix} \\sim \\mathcal{N}\\left(\\begin{pmatrix} \\mu \\\\ \\mu \\end{pmatrix}, \\begin{pmatrix}\\Sigma_Y & \\Sigma_{Y, Y^*} \\\\ \\Sigma_{Y^*, Y} & \\Sigma_{Y}  \\end{pmatrix}\\right)$"
   ]
  },
  {
   "cell_type": "code",
   "execution_count": 11,
   "metadata": {},
   "outputs": [
    {
     "name": "stderr",
     "output_type": "stream",
     "text": [
      "  0%|          | 0/100 [00:00<?, ?it/s]/Users/kevinfry/opt/anaconda3/envs/spe/lib/python3.11/site-packages/sklearn/model_selection/_validation.py:73: FutureWarning:\n",
      "\n",
      "`fit_params` is deprecated and will be removed in version 1.6. Pass parameters via `params` instead.\n",
      "\n",
      "/Users/kevinfry/opt/anaconda3/envs/spe/lib/python3.11/site-packages/sklearn/model_selection/_validation.py:73: FutureWarning:\n",
      "\n",
      "`fit_params` is deprecated and will be removed in version 1.6. Pass parameters via `params` instead.\n",
      "\n",
      "  1%|          | 1/100 [00:00<00:10,  9.18it/s]/Users/kevinfry/opt/anaconda3/envs/spe/lib/python3.11/site-packages/sklearn/model_selection/_validation.py:73: FutureWarning:\n",
      "\n",
      "`fit_params` is deprecated and will be removed in version 1.6. Pass parameters via `params` instead.\n",
      "\n",
      "/Users/kevinfry/opt/anaconda3/envs/spe/lib/python3.11/site-packages/sklearn/model_selection/_validation.py:73: FutureWarning:\n",
      "\n",
      "`fit_params` is deprecated and will be removed in version 1.6. Pass parameters via `params` instead.\n",
      "\n",
      "  2%|▏         | 2/100 [00:00<00:12,  8.06it/s]/Users/kevinfry/opt/anaconda3/envs/spe/lib/python3.11/site-packages/sklearn/model_selection/_validation.py:73: FutureWarning:\n",
      "\n",
      "`fit_params` is deprecated and will be removed in version 1.6. Pass parameters via `params` instead.\n",
      "\n",
      "/Users/kevinfry/opt/anaconda3/envs/spe/lib/python3.11/site-packages/sklearn/model_selection/_validation.py:73: FutureWarning:\n",
      "\n",
      "`fit_params` is deprecated and will be removed in version 1.6. Pass parameters via `params` instead.\n",
      "\n",
      "/Users/kevinfry/opt/anaconda3/envs/spe/lib/python3.11/site-packages/sklearn/model_selection/_validation.py:73: FutureWarning:\n",
      "\n",
      "`fit_params` is deprecated and will be removed in version 1.6. Pass parameters via `params` instead.\n",
      "\n",
      "/Users/kevinfry/opt/anaconda3/envs/spe/lib/python3.11/site-packages/sklearn/model_selection/_validation.py:73: FutureWarning:\n",
      "\n",
      "`fit_params` is deprecated and will be removed in version 1.6. Pass parameters via `params` instead.\n",
      "\n",
      "  4%|▍         | 4/100 [00:00<00:12,  7.86it/s]/Users/kevinfry/opt/anaconda3/envs/spe/lib/python3.11/site-packages/sklearn/model_selection/_validation.py:73: FutureWarning:\n",
      "\n",
      "`fit_params` is deprecated and will be removed in version 1.6. Pass parameters via `params` instead.\n",
      "\n",
      "/Users/kevinfry/opt/anaconda3/envs/spe/lib/python3.11/site-packages/sklearn/model_selection/_validation.py:73: FutureWarning:\n",
      "\n",
      "`fit_params` is deprecated and will be removed in version 1.6. Pass parameters via `params` instead.\n",
      "\n",
      "  5%|▌         | 5/100 [00:00<00:13,  7.23it/s]/Users/kevinfry/opt/anaconda3/envs/spe/lib/python3.11/site-packages/sklearn/model_selection/_validation.py:73: FutureWarning:\n",
      "\n",
      "`fit_params` is deprecated and will be removed in version 1.6. Pass parameters via `params` instead.\n",
      "\n",
      "/Users/kevinfry/opt/anaconda3/envs/spe/lib/python3.11/site-packages/sklearn/model_selection/_validation.py:73: FutureWarning:\n",
      "\n",
      "`fit_params` is deprecated and will be removed in version 1.6. Pass parameters via `params` instead.\n",
      "\n",
      "  6%|▌         | 6/100 [00:00<00:14,  6.62it/s]/Users/kevinfry/opt/anaconda3/envs/spe/lib/python3.11/site-packages/sklearn/model_selection/_validation.py:73: FutureWarning:\n",
      "\n",
      "`fit_params` is deprecated and will be removed in version 1.6. Pass parameters via `params` instead.\n",
      "\n",
      "/Users/kevinfry/opt/anaconda3/envs/spe/lib/python3.11/site-packages/sklearn/model_selection/_validation.py:73: FutureWarning:\n",
      "\n",
      "`fit_params` is deprecated and will be removed in version 1.6. Pass parameters via `params` instead.\n",
      "\n",
      "  7%|▋         | 7/100 [00:00<00:12,  7.20it/s]/Users/kevinfry/opt/anaconda3/envs/spe/lib/python3.11/site-packages/sklearn/model_selection/_validation.py:73: FutureWarning:\n",
      "\n",
      "`fit_params` is deprecated and will be removed in version 1.6. Pass parameters via `params` instead.\n",
      "\n",
      "/Users/kevinfry/opt/anaconda3/envs/spe/lib/python3.11/site-packages/sklearn/model_selection/_validation.py:73: FutureWarning:\n",
      "\n",
      "`fit_params` is deprecated and will be removed in version 1.6. Pass parameters via `params` instead.\n",
      "\n",
      "  8%|▊         | 8/100 [00:01<00:12,  7.48it/s]/Users/kevinfry/opt/anaconda3/envs/spe/lib/python3.11/site-packages/sklearn/model_selection/_validation.py:73: FutureWarning:\n",
      "\n",
      "`fit_params` is deprecated and will be removed in version 1.6. Pass parameters via `params` instead.\n",
      "\n",
      "/Users/kevinfry/opt/anaconda3/envs/spe/lib/python3.11/site-packages/sklearn/model_selection/_validation.py:73: FutureWarning:\n",
      "\n",
      "`fit_params` is deprecated and will be removed in version 1.6. Pass parameters via `params` instead.\n",
      "\n",
      "  9%|▉         | 9/100 [00:01<00:11,  7.74it/s]/Users/kevinfry/opt/anaconda3/envs/spe/lib/python3.11/site-packages/sklearn/model_selection/_validation.py:73: FutureWarning:\n",
      "\n",
      "`fit_params` is deprecated and will be removed in version 1.6. Pass parameters via `params` instead.\n",
      "\n",
      "/Users/kevinfry/opt/anaconda3/envs/spe/lib/python3.11/site-packages/sklearn/model_selection/_validation.py:73: FutureWarning:\n",
      "\n",
      "`fit_params` is deprecated and will be removed in version 1.6. Pass parameters via `params` instead.\n",
      "\n",
      " 10%|█         | 10/100 [00:01<00:12,  7.25it/s]/Users/kevinfry/opt/anaconda3/envs/spe/lib/python3.11/site-packages/sklearn/model_selection/_validation.py:73: FutureWarning:\n",
      "\n",
      "`fit_params` is deprecated and will be removed in version 1.6. Pass parameters via `params` instead.\n",
      "\n",
      "/Users/kevinfry/opt/anaconda3/envs/spe/lib/python3.11/site-packages/sklearn/model_selection/_validation.py:73: FutureWarning:\n",
      "\n",
      "`fit_params` is deprecated and will be removed in version 1.6. Pass parameters via `params` instead.\n",
      "\n",
      " 11%|█         | 11/100 [00:01<00:13,  6.66it/s]/Users/kevinfry/opt/anaconda3/envs/spe/lib/python3.11/site-packages/sklearn/model_selection/_validation.py:73: FutureWarning:\n",
      "\n",
      "`fit_params` is deprecated and will be removed in version 1.6. Pass parameters via `params` instead.\n",
      "\n",
      "/Users/kevinfry/opt/anaconda3/envs/spe/lib/python3.11/site-packages/sklearn/model_selection/_validation.py:73: FutureWarning:\n",
      "\n",
      "`fit_params` is deprecated and will be removed in version 1.6. Pass parameters via `params` instead.\n",
      "\n",
      "/Users/kevinfry/opt/anaconda3/envs/spe/lib/python3.11/site-packages/sklearn/model_selection/_validation.py:73: FutureWarning:\n",
      "\n",
      "`fit_params` is deprecated and will be removed in version 1.6. Pass parameters via `params` instead.\n",
      "\n",
      "/Users/kevinfry/opt/anaconda3/envs/spe/lib/python3.11/site-packages/sklearn/model_selection/_validation.py:73: FutureWarning:\n",
      "\n",
      "`fit_params` is deprecated and will be removed in version 1.6. Pass parameters via `params` instead.\n",
      "\n",
      " 13%|█▎        | 13/100 [00:01<00:11,  7.47it/s]/Users/kevinfry/opt/anaconda3/envs/spe/lib/python3.11/site-packages/sklearn/model_selection/_validation.py:73: FutureWarning:\n",
      "\n",
      "`fit_params` is deprecated and will be removed in version 1.6. Pass parameters via `params` instead.\n",
      "\n",
      "/Users/kevinfry/opt/anaconda3/envs/spe/lib/python3.11/site-packages/sklearn/model_selection/_validation.py:73: FutureWarning:\n",
      "\n",
      "`fit_params` is deprecated and will be removed in version 1.6. Pass parameters via `params` instead.\n",
      "\n",
      " 14%|█▍        | 14/100 [00:01<00:11,  7.68it/s]/Users/kevinfry/opt/anaconda3/envs/spe/lib/python3.11/site-packages/sklearn/model_selection/_validation.py:73: FutureWarning:\n",
      "\n",
      "`fit_params` is deprecated and will be removed in version 1.6. Pass parameters via `params` instead.\n",
      "\n",
      "/Users/kevinfry/opt/anaconda3/envs/spe/lib/python3.11/site-packages/sklearn/model_selection/_validation.py:73: FutureWarning:\n",
      "\n",
      "`fit_params` is deprecated and will be removed in version 1.6. Pass parameters via `params` instead.\n",
      "\n",
      " 15%|█▌        | 15/100 [00:02<00:10,  7.77it/s]/Users/kevinfry/opt/anaconda3/envs/spe/lib/python3.11/site-packages/sklearn/model_selection/_validation.py:73: FutureWarning:\n",
      "\n",
      "`fit_params` is deprecated and will be removed in version 1.6. Pass parameters via `params` instead.\n",
      "\n",
      "/Users/kevinfry/opt/anaconda3/envs/spe/lib/python3.11/site-packages/sklearn/model_selection/_validation.py:73: FutureWarning:\n",
      "\n",
      "`fit_params` is deprecated and will be removed in version 1.6. Pass parameters via `params` instead.\n",
      "\n",
      " 16%|█▌        | 16/100 [00:02<00:11,  7.11it/s]/Users/kevinfry/opt/anaconda3/envs/spe/lib/python3.11/site-packages/sklearn/model_selection/_validation.py:73: FutureWarning:\n",
      "\n",
      "`fit_params` is deprecated and will be removed in version 1.6. Pass parameters via `params` instead.\n",
      "\n",
      "/Users/kevinfry/opt/anaconda3/envs/spe/lib/python3.11/site-packages/sklearn/model_selection/_validation.py:73: FutureWarning:\n",
      "\n",
      "`fit_params` is deprecated and will be removed in version 1.6. Pass parameters via `params` instead.\n",
      "\n",
      " 17%|█▋        | 17/100 [00:02<00:11,  7.43it/s]/Users/kevinfry/opt/anaconda3/envs/spe/lib/python3.11/site-packages/sklearn/model_selection/_validation.py:73: FutureWarning:\n",
      "\n",
      "`fit_params` is deprecated and will be removed in version 1.6. Pass parameters via `params` instead.\n",
      "\n",
      "/Users/kevinfry/opt/anaconda3/envs/spe/lib/python3.11/site-packages/sklearn/model_selection/_validation.py:73: FutureWarning:\n",
      "\n",
      "`fit_params` is deprecated and will be removed in version 1.6. Pass parameters via `params` instead.\n",
      "\n",
      " 18%|█▊        | 18/100 [00:02<00:11,  7.17it/s]/Users/kevinfry/opt/anaconda3/envs/spe/lib/python3.11/site-packages/sklearn/model_selection/_validation.py:73: FutureWarning:\n",
      "\n",
      "`fit_params` is deprecated and will be removed in version 1.6. Pass parameters via `params` instead.\n",
      "\n",
      "/Users/kevinfry/opt/anaconda3/envs/spe/lib/python3.11/site-packages/sklearn/model_selection/_validation.py:73: FutureWarning:\n",
      "\n",
      "`fit_params` is deprecated and will be removed in version 1.6. Pass parameters via `params` instead.\n",
      "\n",
      " 19%|█▉        | 19/100 [00:02<00:11,  7.01it/s]/Users/kevinfry/opt/anaconda3/envs/spe/lib/python3.11/site-packages/sklearn/model_selection/_validation.py:73: FutureWarning:\n",
      "\n",
      "`fit_params` is deprecated and will be removed in version 1.6. Pass parameters via `params` instead.\n",
      "\n",
      "/Users/kevinfry/opt/anaconda3/envs/spe/lib/python3.11/site-packages/sklearn/model_selection/_validation.py:73: FutureWarning:\n",
      "\n",
      "`fit_params` is deprecated and will be removed in version 1.6. Pass parameters via `params` instead.\n",
      "\n",
      " 20%|██        | 20/100 [00:02<00:11,  6.94it/s]/Users/kevinfry/opt/anaconda3/envs/spe/lib/python3.11/site-packages/sklearn/model_selection/_validation.py:73: FutureWarning:\n",
      "\n",
      "`fit_params` is deprecated and will be removed in version 1.6. Pass parameters via `params` instead.\n",
      "\n",
      "/Users/kevinfry/opt/anaconda3/envs/spe/lib/python3.11/site-packages/sklearn/model_selection/_validation.py:73: FutureWarning:\n",
      "\n",
      "`fit_params` is deprecated and will be removed in version 1.6. Pass parameters via `params` instead.\n",
      "\n",
      " 21%|██        | 21/100 [00:03<00:14,  5.30it/s]/Users/kevinfry/opt/anaconda3/envs/spe/lib/python3.11/site-packages/sklearn/model_selection/_validation.py:73: FutureWarning:\n",
      "\n",
      "`fit_params` is deprecated and will be removed in version 1.6. Pass parameters via `params` instead.\n",
      "\n",
      "/Users/kevinfry/opt/anaconda3/envs/spe/lib/python3.11/site-packages/sklearn/model_selection/_validation.py:73: FutureWarning:\n",
      "\n",
      "`fit_params` is deprecated and will be removed in version 1.6. Pass parameters via `params` instead.\n",
      "\n",
      " 22%|██▏       | 22/100 [00:03<00:13,  5.80it/s]/Users/kevinfry/opt/anaconda3/envs/spe/lib/python3.11/site-packages/sklearn/model_selection/_validation.py:73: FutureWarning:\n",
      "\n",
      "`fit_params` is deprecated and will be removed in version 1.6. Pass parameters via `params` instead.\n",
      "\n",
      "/Users/kevinfry/opt/anaconda3/envs/spe/lib/python3.11/site-packages/sklearn/model_selection/_validation.py:73: FutureWarning:\n",
      "\n",
      "`fit_params` is deprecated and will be removed in version 1.6. Pass parameters via `params` instead.\n",
      "\n",
      " 23%|██▎       | 23/100 [00:03<00:11,  6.63it/s]/Users/kevinfry/opt/anaconda3/envs/spe/lib/python3.11/site-packages/sklearn/model_selection/_validation.py:73: FutureWarning:\n",
      "\n",
      "`fit_params` is deprecated and will be removed in version 1.6. Pass parameters via `params` instead.\n",
      "\n",
      "/Users/kevinfry/opt/anaconda3/envs/spe/lib/python3.11/site-packages/sklearn/model_selection/_validation.py:73: FutureWarning:\n",
      "\n",
      "`fit_params` is deprecated and will be removed in version 1.6. Pass parameters via `params` instead.\n",
      "\n",
      " 24%|██▍       | 24/100 [00:03<00:11,  6.53it/s]/Users/kevinfry/opt/anaconda3/envs/spe/lib/python3.11/site-packages/sklearn/model_selection/_validation.py:73: FutureWarning:\n",
      "\n",
      "`fit_params` is deprecated and will be removed in version 1.6. Pass parameters via `params` instead.\n",
      "\n",
      "/Users/kevinfry/opt/anaconda3/envs/spe/lib/python3.11/site-packages/sklearn/model_selection/_validation.py:73: FutureWarning:\n",
      "\n",
      "`fit_params` is deprecated and will be removed in version 1.6. Pass parameters via `params` instead.\n",
      "\n",
      " 25%|██▌       | 25/100 [00:03<00:10,  6.96it/s]/Users/kevinfry/opt/anaconda3/envs/spe/lib/python3.11/site-packages/sklearn/model_selection/_validation.py:73: FutureWarning:\n",
      "\n",
      "`fit_params` is deprecated and will be removed in version 1.6. Pass parameters via `params` instead.\n",
      "\n",
      "/Users/kevinfry/opt/anaconda3/envs/spe/lib/python3.11/site-packages/sklearn/model_selection/_validation.py:73: FutureWarning:\n",
      "\n",
      "`fit_params` is deprecated and will be removed in version 1.6. Pass parameters via `params` instead.\n",
      "\n",
      " 26%|██▌       | 26/100 [00:03<00:10,  6.83it/s]/Users/kevinfry/opt/anaconda3/envs/spe/lib/python3.11/site-packages/sklearn/model_selection/_validation.py:73: FutureWarning:\n",
      "\n",
      "`fit_params` is deprecated and will be removed in version 1.6. Pass parameters via `params` instead.\n",
      "\n",
      "/Users/kevinfry/opt/anaconda3/envs/spe/lib/python3.11/site-packages/sklearn/model_selection/_validation.py:73: FutureWarning:\n",
      "\n",
      "`fit_params` is deprecated and will be removed in version 1.6. Pass parameters via `params` instead.\n",
      "\n",
      " 27%|██▋       | 27/100 [00:03<00:11,  6.29it/s]/Users/kevinfry/opt/anaconda3/envs/spe/lib/python3.11/site-packages/sklearn/model_selection/_validation.py:73: FutureWarning:\n",
      "\n",
      "`fit_params` is deprecated and will be removed in version 1.6. Pass parameters via `params` instead.\n",
      "\n",
      "/Users/kevinfry/opt/anaconda3/envs/spe/lib/python3.11/site-packages/sklearn/model_selection/_validation.py:73: FutureWarning:\n",
      "\n",
      "`fit_params` is deprecated and will be removed in version 1.6. Pass parameters via `params` instead.\n",
      "\n",
      "/Users/kevinfry/opt/anaconda3/envs/spe/lib/python3.11/site-packages/sklearn/model_selection/_validation.py:73: FutureWarning:\n",
      "\n",
      "`fit_params` is deprecated and will be removed in version 1.6. Pass parameters via `params` instead.\n",
      "\n",
      "/Users/kevinfry/opt/anaconda3/envs/spe/lib/python3.11/site-packages/sklearn/model_selection/_validation.py:73: FutureWarning:\n",
      "\n",
      "`fit_params` is deprecated and will be removed in version 1.6. Pass parameters via `params` instead.\n",
      "\n",
      " 29%|██▉       | 29/100 [00:04<00:09,  7.26it/s]/Users/kevinfry/opt/anaconda3/envs/spe/lib/python3.11/site-packages/sklearn/model_selection/_validation.py:73: FutureWarning:\n",
      "\n",
      "`fit_params` is deprecated and will be removed in version 1.6. Pass parameters via `params` instead.\n",
      "\n",
      "/Users/kevinfry/opt/anaconda3/envs/spe/lib/python3.11/site-packages/sklearn/model_selection/_validation.py:73: FutureWarning:\n",
      "\n",
      "`fit_params` is deprecated and will be removed in version 1.6. Pass parameters via `params` instead.\n",
      "\n",
      " 30%|███       | 30/100 [00:04<00:09,  7.41it/s]/Users/kevinfry/opt/anaconda3/envs/spe/lib/python3.11/site-packages/sklearn/model_selection/_validation.py:73: FutureWarning:\n",
      "\n",
      "`fit_params` is deprecated and will be removed in version 1.6. Pass parameters via `params` instead.\n",
      "\n",
      "/Users/kevinfry/opt/anaconda3/envs/spe/lib/python3.11/site-packages/sklearn/model_selection/_validation.py:73: FutureWarning:\n",
      "\n",
      "`fit_params` is deprecated and will be removed in version 1.6. Pass parameters via `params` instead.\n",
      "\n",
      " 31%|███       | 31/100 [00:04<00:10,  6.74it/s]/Users/kevinfry/opt/anaconda3/envs/spe/lib/python3.11/site-packages/sklearn/model_selection/_validation.py:73: FutureWarning:\n",
      "\n",
      "`fit_params` is deprecated and will be removed in version 1.6. Pass parameters via `params` instead.\n",
      "\n",
      "/Users/kevinfry/opt/anaconda3/envs/spe/lib/python3.11/site-packages/sklearn/model_selection/_validation.py:73: FutureWarning:\n",
      "\n",
      "`fit_params` is deprecated and will be removed in version 1.6. Pass parameters via `params` instead.\n",
      "\n",
      " 32%|███▏      | 32/100 [00:04<00:09,  6.86it/s]/Users/kevinfry/opt/anaconda3/envs/spe/lib/python3.11/site-packages/sklearn/model_selection/_validation.py:73: FutureWarning:\n",
      "\n",
      "`fit_params` is deprecated and will be removed in version 1.6. Pass parameters via `params` instead.\n",
      "\n",
      "/Users/kevinfry/opt/anaconda3/envs/spe/lib/python3.11/site-packages/sklearn/model_selection/_validation.py:73: FutureWarning:\n",
      "\n",
      "`fit_params` is deprecated and will be removed in version 1.6. Pass parameters via `params` instead.\n",
      "\n",
      "/Users/kevinfry/opt/anaconda3/envs/spe/lib/python3.11/site-packages/sklearn/model_selection/_validation.py:73: FutureWarning:\n",
      "\n",
      "`fit_params` is deprecated and will be removed in version 1.6. Pass parameters via `params` instead.\n",
      "\n",
      "/Users/kevinfry/opt/anaconda3/envs/spe/lib/python3.11/site-packages/sklearn/model_selection/_validation.py:73: FutureWarning:\n",
      "\n",
      "`fit_params` is deprecated and will be removed in version 1.6. Pass parameters via `params` instead.\n",
      "\n",
      " 34%|███▍      | 34/100 [00:04<00:08,  7.36it/s]/Users/kevinfry/opt/anaconda3/envs/spe/lib/python3.11/site-packages/sklearn/model_selection/_validation.py:73: FutureWarning:\n",
      "\n",
      "`fit_params` is deprecated and will be removed in version 1.6. Pass parameters via `params` instead.\n",
      "\n",
      "/Users/kevinfry/opt/anaconda3/envs/spe/lib/python3.11/site-packages/sklearn/model_selection/_validation.py:73: FutureWarning:\n",
      "\n",
      "`fit_params` is deprecated and will be removed in version 1.6. Pass parameters via `params` instead.\n",
      "\n",
      " 35%|███▌      | 35/100 [00:04<00:08,  7.28it/s]/Users/kevinfry/opt/anaconda3/envs/spe/lib/python3.11/site-packages/sklearn/model_selection/_validation.py:73: FutureWarning:\n",
      "\n",
      "`fit_params` is deprecated and will be removed in version 1.6. Pass parameters via `params` instead.\n",
      "\n",
      "/Users/kevinfry/opt/anaconda3/envs/spe/lib/python3.11/site-packages/sklearn/model_selection/_validation.py:73: FutureWarning:\n",
      "\n",
      "`fit_params` is deprecated and will be removed in version 1.6. Pass parameters via `params` instead.\n",
      "\n",
      " 36%|███▌      | 36/100 [00:05<00:09,  6.92it/s]/Users/kevinfry/opt/anaconda3/envs/spe/lib/python3.11/site-packages/sklearn/model_selection/_validation.py:73: FutureWarning:\n",
      "\n",
      "`fit_params` is deprecated and will be removed in version 1.6. Pass parameters via `params` instead.\n",
      "\n",
      "/Users/kevinfry/opt/anaconda3/envs/spe/lib/python3.11/site-packages/sklearn/model_selection/_validation.py:73: FutureWarning:\n",
      "\n",
      "`fit_params` is deprecated and will be removed in version 1.6. Pass parameters via `params` instead.\n",
      "\n",
      " 37%|███▋      | 37/100 [00:05<00:08,  7.11it/s]/Users/kevinfry/opt/anaconda3/envs/spe/lib/python3.11/site-packages/sklearn/model_selection/_validation.py:73: FutureWarning:\n",
      "\n",
      "`fit_params` is deprecated and will be removed in version 1.6. Pass parameters via `params` instead.\n",
      "\n",
      "/Users/kevinfry/opt/anaconda3/envs/spe/lib/python3.11/site-packages/sklearn/model_selection/_validation.py:73: FutureWarning:\n",
      "\n",
      "`fit_params` is deprecated and will be removed in version 1.6. Pass parameters via `params` instead.\n",
      "\n",
      " 38%|███▊      | 38/100 [00:05<00:08,  7.14it/s]/Users/kevinfry/opt/anaconda3/envs/spe/lib/python3.11/site-packages/sklearn/model_selection/_validation.py:73: FutureWarning:\n",
      "\n",
      "`fit_params` is deprecated and will be removed in version 1.6. Pass parameters via `params` instead.\n",
      "\n",
      "/Users/kevinfry/opt/anaconda3/envs/spe/lib/python3.11/site-packages/sklearn/model_selection/_validation.py:73: FutureWarning:\n",
      "\n",
      "`fit_params` is deprecated and will be removed in version 1.6. Pass parameters via `params` instead.\n",
      "\n",
      " 39%|███▉      | 39/100 [00:05<00:08,  7.29it/s]/Users/kevinfry/opt/anaconda3/envs/spe/lib/python3.11/site-packages/sklearn/model_selection/_validation.py:73: FutureWarning:\n",
      "\n",
      "`fit_params` is deprecated and will be removed in version 1.6. Pass parameters via `params` instead.\n",
      "\n",
      "/Users/kevinfry/opt/anaconda3/envs/spe/lib/python3.11/site-packages/sklearn/model_selection/_validation.py:73: FutureWarning:\n",
      "\n",
      "`fit_params` is deprecated and will be removed in version 1.6. Pass parameters via `params` instead.\n",
      "\n",
      " 40%|████      | 40/100 [00:05<00:08,  6.85it/s]/Users/kevinfry/opt/anaconda3/envs/spe/lib/python3.11/site-packages/sklearn/model_selection/_validation.py:73: FutureWarning:\n",
      "\n",
      "`fit_params` is deprecated and will be removed in version 1.6. Pass parameters via `params` instead.\n",
      "\n",
      "/Users/kevinfry/opt/anaconda3/envs/spe/lib/python3.11/site-packages/sklearn/model_selection/_validation.py:73: FutureWarning:\n",
      "\n",
      "`fit_params` is deprecated and will be removed in version 1.6. Pass parameters via `params` instead.\n",
      "\n",
      " 41%|████      | 41/100 [00:05<00:08,  6.71it/s]/Users/kevinfry/opt/anaconda3/envs/spe/lib/python3.11/site-packages/sklearn/model_selection/_validation.py:73: FutureWarning:\n",
      "\n",
      "`fit_params` is deprecated and will be removed in version 1.6. Pass parameters via `params` instead.\n",
      "\n",
      "/Users/kevinfry/opt/anaconda3/envs/spe/lib/python3.11/site-packages/sklearn/model_selection/_validation.py:73: FutureWarning:\n",
      "\n",
      "`fit_params` is deprecated and will be removed in version 1.6. Pass parameters via `params` instead.\n",
      "\n",
      "/Users/kevinfry/opt/anaconda3/envs/spe/lib/python3.11/site-packages/sklearn/model_selection/_validation.py:73: FutureWarning:\n",
      "\n",
      "`fit_params` is deprecated and will be removed in version 1.6. Pass parameters via `params` instead.\n",
      "\n",
      "/Users/kevinfry/opt/anaconda3/envs/spe/lib/python3.11/site-packages/sklearn/model_selection/_validation.py:73: FutureWarning:\n",
      "\n",
      "`fit_params` is deprecated and will be removed in version 1.6. Pass parameters via `params` instead.\n",
      "\n",
      " 43%|████▎     | 43/100 [00:06<00:06,  8.16it/s]/Users/kevinfry/opt/anaconda3/envs/spe/lib/python3.11/site-packages/sklearn/model_selection/_validation.py:73: FutureWarning:\n",
      "\n",
      "`fit_params` is deprecated and will be removed in version 1.6. Pass parameters via `params` instead.\n",
      "\n",
      "/Users/kevinfry/opt/anaconda3/envs/spe/lib/python3.11/site-packages/sklearn/model_selection/_validation.py:73: FutureWarning:\n",
      "\n",
      "`fit_params` is deprecated and will be removed in version 1.6. Pass parameters via `params` instead.\n",
      "\n",
      " 44%|████▍     | 44/100 [00:06<00:07,  7.63it/s]/Users/kevinfry/opt/anaconda3/envs/spe/lib/python3.11/site-packages/sklearn/model_selection/_validation.py:73: FutureWarning:\n",
      "\n",
      "`fit_params` is deprecated and will be removed in version 1.6. Pass parameters via `params` instead.\n",
      "\n",
      "/Users/kevinfry/opt/anaconda3/envs/spe/lib/python3.11/site-packages/sklearn/model_selection/_validation.py:73: FutureWarning:\n",
      "\n",
      "`fit_params` is deprecated and will be removed in version 1.6. Pass parameters via `params` instead.\n",
      "\n",
      " 45%|████▌     | 45/100 [00:06<00:06,  7.88it/s]/Users/kevinfry/opt/anaconda3/envs/spe/lib/python3.11/site-packages/sklearn/model_selection/_validation.py:73: FutureWarning:\n",
      "\n",
      "`fit_params` is deprecated and will be removed in version 1.6. Pass parameters via `params` instead.\n",
      "\n",
      "/Users/kevinfry/opt/anaconda3/envs/spe/lib/python3.11/site-packages/sklearn/model_selection/_validation.py:73: FutureWarning:\n",
      "\n",
      "`fit_params` is deprecated and will be removed in version 1.6. Pass parameters via `params` instead.\n",
      "\n",
      "/Users/kevinfry/opt/anaconda3/envs/spe/lib/python3.11/site-packages/sklearn/model_selection/_validation.py:73: FutureWarning:\n",
      "\n",
      "`fit_params` is deprecated and will be removed in version 1.6. Pass parameters via `params` instead.\n",
      "\n",
      "/Users/kevinfry/opt/anaconda3/envs/spe/lib/python3.11/site-packages/sklearn/model_selection/_validation.py:73: FutureWarning:\n",
      "\n",
      "`fit_params` is deprecated and will be removed in version 1.6. Pass parameters via `params` instead.\n",
      "\n",
      " 47%|████▋     | 47/100 [00:06<00:06,  8.44it/s]/Users/kevinfry/opt/anaconda3/envs/spe/lib/python3.11/site-packages/sklearn/model_selection/_validation.py:73: FutureWarning:\n",
      "\n",
      "`fit_params` is deprecated and will be removed in version 1.6. Pass parameters via `params` instead.\n",
      "\n",
      "/Users/kevinfry/opt/anaconda3/envs/spe/lib/python3.11/site-packages/sklearn/model_selection/_validation.py:73: FutureWarning:\n",
      "\n",
      "`fit_params` is deprecated and will be removed in version 1.6. Pass parameters via `params` instead.\n",
      "\n",
      " 48%|████▊     | 48/100 [00:06<00:06,  8.34it/s]/Users/kevinfry/opt/anaconda3/envs/spe/lib/python3.11/site-packages/sklearn/model_selection/_validation.py:73: FutureWarning:\n",
      "\n",
      "`fit_params` is deprecated and will be removed in version 1.6. Pass parameters via `params` instead.\n",
      "\n",
      "/Users/kevinfry/opt/anaconda3/envs/spe/lib/python3.11/site-packages/sklearn/model_selection/_validation.py:73: FutureWarning:\n",
      "\n",
      "`fit_params` is deprecated and will be removed in version 1.6. Pass parameters via `params` instead.\n",
      "\n",
      "/Users/kevinfry/opt/anaconda3/envs/spe/lib/python3.11/site-packages/sklearn/model_selection/_validation.py:73: FutureWarning:\n",
      "\n",
      "`fit_params` is deprecated and will be removed in version 1.6. Pass parameters via `params` instead.\n",
      "\n",
      "/Users/kevinfry/opt/anaconda3/envs/spe/lib/python3.11/site-packages/sklearn/model_selection/_validation.py:73: FutureWarning:\n",
      "\n",
      "`fit_params` is deprecated and will be removed in version 1.6. Pass parameters via `params` instead.\n",
      "\n",
      " 50%|█████     | 50/100 [00:06<00:05,  9.31it/s]/Users/kevinfry/opt/anaconda3/envs/spe/lib/python3.11/site-packages/sklearn/model_selection/_validation.py:73: FutureWarning:\n",
      "\n",
      "`fit_params` is deprecated and will be removed in version 1.6. Pass parameters via `params` instead.\n",
      "\n",
      "/Users/kevinfry/opt/anaconda3/envs/spe/lib/python3.11/site-packages/sklearn/model_selection/_validation.py:73: FutureWarning:\n",
      "\n",
      "`fit_params` is deprecated and will be removed in version 1.6. Pass parameters via `params` instead.\n",
      "\n",
      " 51%|█████     | 51/100 [00:06<00:05,  8.64it/s]/Users/kevinfry/opt/anaconda3/envs/spe/lib/python3.11/site-packages/sklearn/model_selection/_validation.py:73: FutureWarning:\n",
      "\n",
      "`fit_params` is deprecated and will be removed in version 1.6. Pass parameters via `params` instead.\n",
      "\n",
      "/Users/kevinfry/opt/anaconda3/envs/spe/lib/python3.11/site-packages/sklearn/model_selection/_validation.py:73: FutureWarning:\n",
      "\n",
      "`fit_params` is deprecated and will be removed in version 1.6. Pass parameters via `params` instead.\n",
      "\n",
      " 52%|█████▏    | 52/100 [00:07<00:05,  8.50it/s]/Users/kevinfry/opt/anaconda3/envs/spe/lib/python3.11/site-packages/sklearn/model_selection/_validation.py:73: FutureWarning:\n",
      "\n",
      "`fit_params` is deprecated and will be removed in version 1.6. Pass parameters via `params` instead.\n",
      "\n",
      "/Users/kevinfry/opt/anaconda3/envs/spe/lib/python3.11/site-packages/sklearn/model_selection/_validation.py:73: FutureWarning:\n",
      "\n",
      "`fit_params` is deprecated and will be removed in version 1.6. Pass parameters via `params` instead.\n",
      "\n",
      " 53%|█████▎    | 53/100 [00:07<00:05,  8.31it/s]/Users/kevinfry/opt/anaconda3/envs/spe/lib/python3.11/site-packages/sklearn/model_selection/_validation.py:73: FutureWarning:\n",
      "\n",
      "`fit_params` is deprecated and will be removed in version 1.6. Pass parameters via `params` instead.\n",
      "\n",
      "/Users/kevinfry/opt/anaconda3/envs/spe/lib/python3.11/site-packages/sklearn/model_selection/_validation.py:73: FutureWarning:\n",
      "\n",
      "`fit_params` is deprecated and will be removed in version 1.6. Pass parameters via `params` instead.\n",
      "\n",
      " 54%|█████▍    | 54/100 [00:07<00:05,  8.27it/s]/Users/kevinfry/opt/anaconda3/envs/spe/lib/python3.11/site-packages/sklearn/model_selection/_validation.py:73: FutureWarning:\n",
      "\n",
      "`fit_params` is deprecated and will be removed in version 1.6. Pass parameters via `params` instead.\n",
      "\n",
      "/Users/kevinfry/opt/anaconda3/envs/spe/lib/python3.11/site-packages/sklearn/model_selection/_validation.py:73: FutureWarning:\n",
      "\n",
      "`fit_params` is deprecated and will be removed in version 1.6. Pass parameters via `params` instead.\n",
      "\n",
      " 55%|█████▌    | 55/100 [00:07<00:05,  8.00it/s]/Users/kevinfry/opt/anaconda3/envs/spe/lib/python3.11/site-packages/sklearn/model_selection/_validation.py:73: FutureWarning:\n",
      "\n",
      "`fit_params` is deprecated and will be removed in version 1.6. Pass parameters via `params` instead.\n",
      "\n",
      "/Users/kevinfry/opt/anaconda3/envs/spe/lib/python3.11/site-packages/sklearn/model_selection/_validation.py:73: FutureWarning:\n",
      "\n",
      "`fit_params` is deprecated and will be removed in version 1.6. Pass parameters via `params` instead.\n",
      "\n",
      " 56%|█████▌    | 56/100 [00:07<00:05,  8.25it/s]/Users/kevinfry/opt/anaconda3/envs/spe/lib/python3.11/site-packages/sklearn/model_selection/_validation.py:73: FutureWarning:\n",
      "\n",
      "`fit_params` is deprecated and will be removed in version 1.6. Pass parameters via `params` instead.\n",
      "\n",
      "/Users/kevinfry/opt/anaconda3/envs/spe/lib/python3.11/site-packages/sklearn/model_selection/_validation.py:73: FutureWarning:\n",
      "\n",
      "`fit_params` is deprecated and will be removed in version 1.6. Pass parameters via `params` instead.\n",
      "\n",
      "/Users/kevinfry/opt/anaconda3/envs/spe/lib/python3.11/site-packages/sklearn/model_selection/_validation.py:73: FutureWarning:\n",
      "\n",
      "`fit_params` is deprecated and will be removed in version 1.6. Pass parameters via `params` instead.\n",
      "\n",
      "/Users/kevinfry/opt/anaconda3/envs/spe/lib/python3.11/site-packages/sklearn/model_selection/_validation.py:73: FutureWarning:\n",
      "\n",
      "`fit_params` is deprecated and will be removed in version 1.6. Pass parameters via `params` instead.\n",
      "\n",
      " 58%|█████▊    | 58/100 [00:07<00:04,  9.07it/s]/Users/kevinfry/opt/anaconda3/envs/spe/lib/python3.11/site-packages/sklearn/model_selection/_validation.py:73: FutureWarning:\n",
      "\n",
      "`fit_params` is deprecated and will be removed in version 1.6. Pass parameters via `params` instead.\n",
      "\n",
      "/Users/kevinfry/opt/anaconda3/envs/spe/lib/python3.11/site-packages/sklearn/model_selection/_validation.py:73: FutureWarning:\n",
      "\n",
      "`fit_params` is deprecated and will be removed in version 1.6. Pass parameters via `params` instead.\n",
      "\n",
      " 59%|█████▉    | 59/100 [00:07<00:04,  8.63it/s]/Users/kevinfry/opt/anaconda3/envs/spe/lib/python3.11/site-packages/sklearn/model_selection/_validation.py:73: FutureWarning:\n",
      "\n",
      "`fit_params` is deprecated and will be removed in version 1.6. Pass parameters via `params` instead.\n",
      "\n",
      "/Users/kevinfry/opt/anaconda3/envs/spe/lib/python3.11/site-packages/sklearn/model_selection/_validation.py:73: FutureWarning:\n",
      "\n",
      "`fit_params` is deprecated and will be removed in version 1.6. Pass parameters via `params` instead.\n",
      "\n",
      "/Users/kevinfry/opt/anaconda3/envs/spe/lib/python3.11/site-packages/sklearn/model_selection/_validation.py:73: FutureWarning:\n",
      "\n",
      "`fit_params` is deprecated and will be removed in version 1.6. Pass parameters via `params` instead.\n",
      "\n",
      "/Users/kevinfry/opt/anaconda3/envs/spe/lib/python3.11/site-packages/sklearn/model_selection/_validation.py:73: FutureWarning:\n",
      "\n",
      "`fit_params` is deprecated and will be removed in version 1.6. Pass parameters via `params` instead.\n",
      "\n",
      " 61%|██████    | 61/100 [00:08<00:04,  8.39it/s]/Users/kevinfry/opt/anaconda3/envs/spe/lib/python3.11/site-packages/sklearn/model_selection/_validation.py:73: FutureWarning:\n",
      "\n",
      "`fit_params` is deprecated and will be removed in version 1.6. Pass parameters via `params` instead.\n",
      "\n",
      "/Users/kevinfry/opt/anaconda3/envs/spe/lib/python3.11/site-packages/sklearn/model_selection/_validation.py:73: FutureWarning:\n",
      "\n",
      "`fit_params` is deprecated and will be removed in version 1.6. Pass parameters via `params` instead.\n",
      "\n",
      "/Users/kevinfry/opt/anaconda3/envs/spe/lib/python3.11/site-packages/sklearn/model_selection/_validation.py:73: FutureWarning:\n",
      "\n",
      "`fit_params` is deprecated and will be removed in version 1.6. Pass parameters via `params` instead.\n",
      "\n",
      "/Users/kevinfry/opt/anaconda3/envs/spe/lib/python3.11/site-packages/sklearn/model_selection/_validation.py:73: FutureWarning:\n",
      "\n",
      "`fit_params` is deprecated and will be removed in version 1.6. Pass parameters via `params` instead.\n",
      "\n",
      " 63%|██████▎   | 63/100 [00:08<00:04,  8.24it/s]/Users/kevinfry/opt/anaconda3/envs/spe/lib/python3.11/site-packages/sklearn/model_selection/_validation.py:73: FutureWarning:\n",
      "\n",
      "`fit_params` is deprecated and will be removed in version 1.6. Pass parameters via `params` instead.\n",
      "\n",
      "/Users/kevinfry/opt/anaconda3/envs/spe/lib/python3.11/site-packages/sklearn/model_selection/_validation.py:73: FutureWarning:\n",
      "\n",
      "`fit_params` is deprecated and will be removed in version 1.6. Pass parameters via `params` instead.\n",
      "\n",
      " 64%|██████▍   | 64/100 [00:08<00:04,  7.75it/s]/Users/kevinfry/opt/anaconda3/envs/spe/lib/python3.11/site-packages/sklearn/model_selection/_validation.py:73: FutureWarning:\n",
      "\n",
      "`fit_params` is deprecated and will be removed in version 1.6. Pass parameters via `params` instead.\n",
      "\n",
      "/Users/kevinfry/opt/anaconda3/envs/spe/lib/python3.11/site-packages/sklearn/model_selection/_validation.py:73: FutureWarning:\n",
      "\n",
      "`fit_params` is deprecated and will be removed in version 1.6. Pass parameters via `params` instead.\n",
      "\n",
      " 65%|██████▌   | 65/100 [00:08<00:05,  6.30it/s]/Users/kevinfry/opt/anaconda3/envs/spe/lib/python3.11/site-packages/sklearn/model_selection/_validation.py:73: FutureWarning:\n",
      "\n",
      "`fit_params` is deprecated and will be removed in version 1.6. Pass parameters via `params` instead.\n",
      "\n",
      "/Users/kevinfry/opt/anaconda3/envs/spe/lib/python3.11/site-packages/sklearn/model_selection/_validation.py:73: FutureWarning:\n",
      "\n",
      "`fit_params` is deprecated and will be removed in version 1.6. Pass parameters via `params` instead.\n",
      "\n",
      " 66%|██████▌   | 66/100 [00:08<00:05,  6.56it/s]/Users/kevinfry/opt/anaconda3/envs/spe/lib/python3.11/site-packages/sklearn/model_selection/_validation.py:73: FutureWarning:\n",
      "\n",
      "`fit_params` is deprecated and will be removed in version 1.6. Pass parameters via `params` instead.\n",
      "\n",
      "/Users/kevinfry/opt/anaconda3/envs/spe/lib/python3.11/site-packages/sklearn/model_selection/_validation.py:73: FutureWarning:\n",
      "\n",
      "`fit_params` is deprecated and will be removed in version 1.6. Pass parameters via `params` instead.\n",
      "\n",
      " 67%|██████▋   | 67/100 [00:09<00:04,  6.68it/s]/Users/kevinfry/opt/anaconda3/envs/spe/lib/python3.11/site-packages/sklearn/model_selection/_validation.py:73: FutureWarning:\n",
      "\n",
      "`fit_params` is deprecated and will be removed in version 1.6. Pass parameters via `params` instead.\n",
      "\n",
      "/Users/kevinfry/opt/anaconda3/envs/spe/lib/python3.11/site-packages/sklearn/model_selection/_validation.py:73: FutureWarning:\n",
      "\n",
      "`fit_params` is deprecated and will be removed in version 1.6. Pass parameters via `params` instead.\n",
      "\n",
      "/Users/kevinfry/opt/anaconda3/envs/spe/lib/python3.11/site-packages/sklearn/model_selection/_validation.py:73: FutureWarning:\n",
      "\n",
      "`fit_params` is deprecated and will be removed in version 1.6. Pass parameters via `params` instead.\n",
      "\n",
      "/Users/kevinfry/opt/anaconda3/envs/spe/lib/python3.11/site-packages/sklearn/model_selection/_validation.py:73: FutureWarning:\n",
      "\n",
      "`fit_params` is deprecated and will be removed in version 1.6. Pass parameters via `params` instead.\n",
      "\n",
      " 69%|██████▉   | 69/100 [00:09<00:04,  7.49it/s]/Users/kevinfry/opt/anaconda3/envs/spe/lib/python3.11/site-packages/sklearn/model_selection/_validation.py:73: FutureWarning:\n",
      "\n",
      "`fit_params` is deprecated and will be removed in version 1.6. Pass parameters via `params` instead.\n",
      "\n",
      "/Users/kevinfry/opt/anaconda3/envs/spe/lib/python3.11/site-packages/sklearn/model_selection/_validation.py:73: FutureWarning:\n",
      "\n",
      "`fit_params` is deprecated and will be removed in version 1.6. Pass parameters via `params` instead.\n",
      "\n",
      " 70%|███████   | 70/100 [00:09<00:04,  6.74it/s]/Users/kevinfry/opt/anaconda3/envs/spe/lib/python3.11/site-packages/sklearn/model_selection/_validation.py:73: FutureWarning:\n",
      "\n",
      "`fit_params` is deprecated and will be removed in version 1.6. Pass parameters via `params` instead.\n",
      "\n",
      "/Users/kevinfry/opt/anaconda3/envs/spe/lib/python3.11/site-packages/sklearn/model_selection/_validation.py:73: FutureWarning:\n",
      "\n",
      "`fit_params` is deprecated and will be removed in version 1.6. Pass parameters via `params` instead.\n",
      "\n",
      " 71%|███████   | 71/100 [00:09<00:04,  7.16it/s]/Users/kevinfry/opt/anaconda3/envs/spe/lib/python3.11/site-packages/sklearn/model_selection/_validation.py:73: FutureWarning:\n",
      "\n",
      "`fit_params` is deprecated and will be removed in version 1.6. Pass parameters via `params` instead.\n",
      "\n",
      "/Users/kevinfry/opt/anaconda3/envs/spe/lib/python3.11/site-packages/sklearn/model_selection/_validation.py:73: FutureWarning:\n",
      "\n",
      "`fit_params` is deprecated and will be removed in version 1.6. Pass parameters via `params` instead.\n",
      "\n",
      " 72%|███████▏  | 72/100 [00:09<00:03,  7.73it/s]/Users/kevinfry/opt/anaconda3/envs/spe/lib/python3.11/site-packages/sklearn/model_selection/_validation.py:73: FutureWarning:\n",
      "\n",
      "`fit_params` is deprecated and will be removed in version 1.6. Pass parameters via `params` instead.\n",
      "\n",
      "/Users/kevinfry/opt/anaconda3/envs/spe/lib/python3.11/site-packages/sklearn/model_selection/_validation.py:73: FutureWarning:\n",
      "\n",
      "`fit_params` is deprecated and will be removed in version 1.6. Pass parameters via `params` instead.\n",
      "\n",
      " 73%|███████▎  | 73/100 [00:09<00:03,  7.67it/s]/Users/kevinfry/opt/anaconda3/envs/spe/lib/python3.11/site-packages/sklearn/model_selection/_validation.py:73: FutureWarning:\n",
      "\n",
      "`fit_params` is deprecated and will be removed in version 1.6. Pass parameters via `params` instead.\n",
      "\n",
      "/Users/kevinfry/opt/anaconda3/envs/spe/lib/python3.11/site-packages/sklearn/model_selection/_validation.py:73: FutureWarning:\n",
      "\n",
      "`fit_params` is deprecated and will be removed in version 1.6. Pass parameters via `params` instead.\n",
      "\n",
      "/Users/kevinfry/opt/anaconda3/envs/spe/lib/python3.11/site-packages/sklearn/model_selection/_validation.py:73: FutureWarning:\n",
      "\n",
      "`fit_params` is deprecated and will be removed in version 1.6. Pass parameters via `params` instead.\n",
      "\n",
      "/Users/kevinfry/opt/anaconda3/envs/spe/lib/python3.11/site-packages/sklearn/model_selection/_validation.py:73: FutureWarning:\n",
      "\n",
      "`fit_params` is deprecated and will be removed in version 1.6. Pass parameters via `params` instead.\n",
      "\n",
      " 75%|███████▌  | 75/100 [00:10<00:03,  8.15it/s]/Users/kevinfry/opt/anaconda3/envs/spe/lib/python3.11/site-packages/sklearn/model_selection/_validation.py:73: FutureWarning:\n",
      "\n",
      "`fit_params` is deprecated and will be removed in version 1.6. Pass parameters via `params` instead.\n",
      "\n",
      "/Users/kevinfry/opt/anaconda3/envs/spe/lib/python3.11/site-packages/sklearn/model_selection/_validation.py:73: FutureWarning:\n",
      "\n",
      "`fit_params` is deprecated and will be removed in version 1.6. Pass parameters via `params` instead.\n",
      "\n",
      " 76%|███████▌  | 76/100 [00:10<00:03,  7.97it/s]/Users/kevinfry/opt/anaconda3/envs/spe/lib/python3.11/site-packages/sklearn/model_selection/_validation.py:73: FutureWarning:\n",
      "\n",
      "`fit_params` is deprecated and will be removed in version 1.6. Pass parameters via `params` instead.\n",
      "\n",
      "/Users/kevinfry/opt/anaconda3/envs/spe/lib/python3.11/site-packages/sklearn/model_selection/_validation.py:73: FutureWarning:\n",
      "\n",
      "`fit_params` is deprecated and will be removed in version 1.6. Pass parameters via `params` instead.\n",
      "\n",
      "/Users/kevinfry/opt/anaconda3/envs/spe/lib/python3.11/site-packages/sklearn/model_selection/_validation.py:73: FutureWarning:\n",
      "\n",
      "`fit_params` is deprecated and will be removed in version 1.6. Pass parameters via `params` instead.\n",
      "\n",
      "/Users/kevinfry/opt/anaconda3/envs/spe/lib/python3.11/site-packages/sklearn/model_selection/_validation.py:73: FutureWarning:\n",
      "\n",
      "`fit_params` is deprecated and will be removed in version 1.6. Pass parameters via `params` instead.\n",
      "\n",
      " 78%|███████▊  | 78/100 [00:10<00:02,  7.90it/s]/Users/kevinfry/opt/anaconda3/envs/spe/lib/python3.11/site-packages/sklearn/model_selection/_validation.py:73: FutureWarning:\n",
      "\n",
      "`fit_params` is deprecated and will be removed in version 1.6. Pass parameters via `params` instead.\n",
      "\n",
      "/Users/kevinfry/opt/anaconda3/envs/spe/lib/python3.11/site-packages/sklearn/model_selection/_validation.py:73: FutureWarning:\n",
      "\n",
      "`fit_params` is deprecated and will be removed in version 1.6. Pass parameters via `params` instead.\n",
      "\n",
      " 79%|███████▉  | 79/100 [00:10<00:02,  7.34it/s]/Users/kevinfry/opt/anaconda3/envs/spe/lib/python3.11/site-packages/sklearn/model_selection/_validation.py:73: FutureWarning:\n",
      "\n",
      "`fit_params` is deprecated and will be removed in version 1.6. Pass parameters via `params` instead.\n",
      "\n",
      "/Users/kevinfry/opt/anaconda3/envs/spe/lib/python3.11/site-packages/sklearn/model_selection/_validation.py:73: FutureWarning:\n",
      "\n",
      "`fit_params` is deprecated and will be removed in version 1.6. Pass parameters via `params` instead.\n",
      "\n",
      " 80%|████████  | 80/100 [00:10<00:02,  7.10it/s]/Users/kevinfry/opt/anaconda3/envs/spe/lib/python3.11/site-packages/sklearn/model_selection/_validation.py:73: FutureWarning:\n",
      "\n",
      "`fit_params` is deprecated and will be removed in version 1.6. Pass parameters via `params` instead.\n",
      "\n",
      "/Users/kevinfry/opt/anaconda3/envs/spe/lib/python3.11/site-packages/sklearn/model_selection/_validation.py:73: FutureWarning:\n",
      "\n",
      "`fit_params` is deprecated and will be removed in version 1.6. Pass parameters via `params` instead.\n",
      "\n",
      " 81%|████████  | 81/100 [00:10<00:02,  6.95it/s]/Users/kevinfry/opt/anaconda3/envs/spe/lib/python3.11/site-packages/sklearn/model_selection/_validation.py:73: FutureWarning:\n",
      "\n",
      "`fit_params` is deprecated and will be removed in version 1.6. Pass parameters via `params` instead.\n",
      "\n",
      "/Users/kevinfry/opt/anaconda3/envs/spe/lib/python3.11/site-packages/sklearn/model_selection/_validation.py:73: FutureWarning:\n",
      "\n",
      "`fit_params` is deprecated and will be removed in version 1.6. Pass parameters via `params` instead.\n",
      "\n",
      " 82%|████████▏ | 82/100 [00:11<00:02,  7.04it/s]/Users/kevinfry/opt/anaconda3/envs/spe/lib/python3.11/site-packages/sklearn/model_selection/_validation.py:73: FutureWarning:\n",
      "\n",
      "`fit_params` is deprecated and will be removed in version 1.6. Pass parameters via `params` instead.\n",
      "\n",
      "/Users/kevinfry/opt/anaconda3/envs/spe/lib/python3.11/site-packages/sklearn/model_selection/_validation.py:73: FutureWarning:\n",
      "\n",
      "`fit_params` is deprecated and will be removed in version 1.6. Pass parameters via `params` instead.\n",
      "\n",
      " 83%|████████▎ | 83/100 [00:11<00:02,  7.46it/s]/Users/kevinfry/opt/anaconda3/envs/spe/lib/python3.11/site-packages/sklearn/model_selection/_validation.py:73: FutureWarning:\n",
      "\n",
      "`fit_params` is deprecated and will be removed in version 1.6. Pass parameters via `params` instead.\n",
      "\n",
      "/Users/kevinfry/opt/anaconda3/envs/spe/lib/python3.11/site-packages/sklearn/model_selection/_validation.py:73: FutureWarning:\n",
      "\n",
      "`fit_params` is deprecated and will be removed in version 1.6. Pass parameters via `params` instead.\n",
      "\n",
      " 84%|████████▍ | 84/100 [00:11<00:02,  7.78it/s]/Users/kevinfry/opt/anaconda3/envs/spe/lib/python3.11/site-packages/sklearn/model_selection/_validation.py:73: FutureWarning:\n",
      "\n",
      "`fit_params` is deprecated and will be removed in version 1.6. Pass parameters via `params` instead.\n",
      "\n",
      "/Users/kevinfry/opt/anaconda3/envs/spe/lib/python3.11/site-packages/sklearn/model_selection/_validation.py:73: FutureWarning:\n",
      "\n",
      "`fit_params` is deprecated and will be removed in version 1.6. Pass parameters via `params` instead.\n",
      "\n",
      " 85%|████████▌ | 85/100 [00:11<00:02,  7.25it/s]/Users/kevinfry/opt/anaconda3/envs/spe/lib/python3.11/site-packages/sklearn/model_selection/_validation.py:73: FutureWarning:\n",
      "\n",
      "`fit_params` is deprecated and will be removed in version 1.6. Pass parameters via `params` instead.\n",
      "\n",
      "/Users/kevinfry/opt/anaconda3/envs/spe/lib/python3.11/site-packages/sklearn/model_selection/_validation.py:73: FutureWarning:\n",
      "\n",
      "`fit_params` is deprecated and will be removed in version 1.6. Pass parameters via `params` instead.\n",
      "\n",
      " 86%|████████▌ | 86/100 [00:11<00:01,  7.27it/s]/Users/kevinfry/opt/anaconda3/envs/spe/lib/python3.11/site-packages/sklearn/model_selection/_validation.py:73: FutureWarning:\n",
      "\n",
      "`fit_params` is deprecated and will be removed in version 1.6. Pass parameters via `params` instead.\n",
      "\n",
      "/Users/kevinfry/opt/anaconda3/envs/spe/lib/python3.11/site-packages/sklearn/model_selection/_validation.py:73: FutureWarning:\n",
      "\n",
      "`fit_params` is deprecated and will be removed in version 1.6. Pass parameters via `params` instead.\n",
      "\n",
      " 87%|████████▋ | 87/100 [00:11<00:01,  6.74it/s]/Users/kevinfry/opt/anaconda3/envs/spe/lib/python3.11/site-packages/sklearn/model_selection/_validation.py:73: FutureWarning:\n",
      "\n",
      "`fit_params` is deprecated and will be removed in version 1.6. Pass parameters via `params` instead.\n",
      "\n",
      "/Users/kevinfry/opt/anaconda3/envs/spe/lib/python3.11/site-packages/sklearn/model_selection/_validation.py:73: FutureWarning:\n",
      "\n",
      "`fit_params` is deprecated and will be removed in version 1.6. Pass parameters via `params` instead.\n",
      "\n",
      " 88%|████████▊ | 88/100 [00:11<00:01,  6.80it/s]/Users/kevinfry/opt/anaconda3/envs/spe/lib/python3.11/site-packages/sklearn/model_selection/_validation.py:73: FutureWarning:\n",
      "\n",
      "`fit_params` is deprecated and will be removed in version 1.6. Pass parameters via `params` instead.\n",
      "\n",
      "/Users/kevinfry/opt/anaconda3/envs/spe/lib/python3.11/site-packages/sklearn/model_selection/_validation.py:73: FutureWarning:\n",
      "\n",
      "`fit_params` is deprecated and will be removed in version 1.6. Pass parameters via `params` instead.\n",
      "\n",
      " 89%|████████▉ | 89/100 [00:12<00:01,  6.28it/s]/Users/kevinfry/opt/anaconda3/envs/spe/lib/python3.11/site-packages/sklearn/model_selection/_validation.py:73: FutureWarning:\n",
      "\n",
      "`fit_params` is deprecated and will be removed in version 1.6. Pass parameters via `params` instead.\n",
      "\n",
      "/Users/kevinfry/opt/anaconda3/envs/spe/lib/python3.11/site-packages/sklearn/model_selection/_validation.py:73: FutureWarning:\n",
      "\n",
      "`fit_params` is deprecated and will be removed in version 1.6. Pass parameters via `params` instead.\n",
      "\n",
      "/Users/kevinfry/opt/anaconda3/envs/spe/lib/python3.11/site-packages/sklearn/model_selection/_validation.py:73: FutureWarning:\n",
      "\n",
      "`fit_params` is deprecated and will be removed in version 1.6. Pass parameters via `params` instead.\n",
      "\n",
      "/Users/kevinfry/opt/anaconda3/envs/spe/lib/python3.11/site-packages/sklearn/model_selection/_validation.py:73: FutureWarning:\n",
      "\n",
      "`fit_params` is deprecated and will be removed in version 1.6. Pass parameters via `params` instead.\n",
      "\n",
      " 91%|█████████ | 91/100 [00:12<00:01,  7.36it/s]/Users/kevinfry/opt/anaconda3/envs/spe/lib/python3.11/site-packages/sklearn/model_selection/_validation.py:73: FutureWarning:\n",
      "\n",
      "`fit_params` is deprecated and will be removed in version 1.6. Pass parameters via `params` instead.\n",
      "\n",
      "/Users/kevinfry/opt/anaconda3/envs/spe/lib/python3.11/site-packages/sklearn/model_selection/_validation.py:73: FutureWarning:\n",
      "\n",
      "`fit_params` is deprecated and will be removed in version 1.6. Pass parameters via `params` instead.\n",
      "\n",
      " 92%|█████████▏| 92/100 [00:12<00:01,  7.15it/s]/Users/kevinfry/opt/anaconda3/envs/spe/lib/python3.11/site-packages/sklearn/model_selection/_validation.py:73: FutureWarning:\n",
      "\n",
      "`fit_params` is deprecated and will be removed in version 1.6. Pass parameters via `params` instead.\n",
      "\n",
      "/Users/kevinfry/opt/anaconda3/envs/spe/lib/python3.11/site-packages/sklearn/model_selection/_validation.py:73: FutureWarning:\n",
      "\n",
      "`fit_params` is deprecated and will be removed in version 1.6. Pass parameters via `params` instead.\n",
      "\n",
      " 93%|█████████▎| 93/100 [00:12<00:00,  7.20it/s]/Users/kevinfry/opt/anaconda3/envs/spe/lib/python3.11/site-packages/sklearn/model_selection/_validation.py:73: FutureWarning:\n",
      "\n",
      "`fit_params` is deprecated and will be removed in version 1.6. Pass parameters via `params` instead.\n",
      "\n",
      "/Users/kevinfry/opt/anaconda3/envs/spe/lib/python3.11/site-packages/sklearn/model_selection/_validation.py:73: FutureWarning:\n",
      "\n",
      "`fit_params` is deprecated and will be removed in version 1.6. Pass parameters via `params` instead.\n",
      "\n",
      " 94%|█████████▍| 94/100 [00:12<00:00,  6.87it/s]/Users/kevinfry/opt/anaconda3/envs/spe/lib/python3.11/site-packages/sklearn/model_selection/_validation.py:73: FutureWarning:\n",
      "\n",
      "`fit_params` is deprecated and will be removed in version 1.6. Pass parameters via `params` instead.\n",
      "\n",
      "/Users/kevinfry/opt/anaconda3/envs/spe/lib/python3.11/site-packages/sklearn/model_selection/_validation.py:73: FutureWarning:\n",
      "\n",
      "`fit_params` is deprecated and will be removed in version 1.6. Pass parameters via `params` instead.\n",
      "\n",
      " 95%|█████████▌| 95/100 [00:12<00:00,  6.61it/s]/Users/kevinfry/opt/anaconda3/envs/spe/lib/python3.11/site-packages/sklearn/model_selection/_validation.py:73: FutureWarning:\n",
      "\n",
      "`fit_params` is deprecated and will be removed in version 1.6. Pass parameters via `params` instead.\n",
      "\n",
      "/Users/kevinfry/opt/anaconda3/envs/spe/lib/python3.11/site-packages/sklearn/model_selection/_validation.py:73: FutureWarning:\n",
      "\n",
      "`fit_params` is deprecated and will be removed in version 1.6. Pass parameters via `params` instead.\n",
      "\n",
      " 96%|█████████▌| 96/100 [00:13<00:00,  7.06it/s]/Users/kevinfry/opt/anaconda3/envs/spe/lib/python3.11/site-packages/sklearn/model_selection/_validation.py:73: FutureWarning:\n",
      "\n",
      "`fit_params` is deprecated and will be removed in version 1.6. Pass parameters via `params` instead.\n",
      "\n",
      "/Users/kevinfry/opt/anaconda3/envs/spe/lib/python3.11/site-packages/sklearn/model_selection/_validation.py:73: FutureWarning:\n",
      "\n",
      "`fit_params` is deprecated and will be removed in version 1.6. Pass parameters via `params` instead.\n",
      "\n",
      " 97%|█████████▋| 97/100 [00:13<00:00,  7.51it/s]/Users/kevinfry/opt/anaconda3/envs/spe/lib/python3.11/site-packages/sklearn/model_selection/_validation.py:73: FutureWarning:\n",
      "\n",
      "`fit_params` is deprecated and will be removed in version 1.6. Pass parameters via `params` instead.\n",
      "\n",
      "/Users/kevinfry/opt/anaconda3/envs/spe/lib/python3.11/site-packages/sklearn/model_selection/_validation.py:73: FutureWarning:\n",
      "\n",
      "`fit_params` is deprecated and will be removed in version 1.6. Pass parameters via `params` instead.\n",
      "\n",
      " 98%|█████████▊| 98/100 [00:13<00:00,  7.24it/s]/Users/kevinfry/opt/anaconda3/envs/spe/lib/python3.11/site-packages/sklearn/model_selection/_validation.py:73: FutureWarning:\n",
      "\n",
      "`fit_params` is deprecated and will be removed in version 1.6. Pass parameters via `params` instead.\n",
      "\n",
      "/Users/kevinfry/opt/anaconda3/envs/spe/lib/python3.11/site-packages/sklearn/model_selection/_validation.py:73: FutureWarning:\n",
      "\n",
      "`fit_params` is deprecated and will be removed in version 1.6. Pass parameters via `params` instead.\n",
      "\n",
      "/Users/kevinfry/opt/anaconda3/envs/spe/lib/python3.11/site-packages/sklearn/model_selection/_validation.py:73: FutureWarning:\n",
      "\n",
      "`fit_params` is deprecated and will be removed in version 1.6. Pass parameters via `params` instead.\n",
      "\n",
      "/Users/kevinfry/opt/anaconda3/envs/spe/lib/python3.11/site-packages/sklearn/model_selection/_validation.py:73: FutureWarning:\n",
      "\n",
      "`fit_params` is deprecated and will be removed in version 1.6. Pass parameters via `params` instead.\n",
      "\n",
      "100%|██████████| 100/100 [00:13<00:00,  7.39it/s]\n",
      "  0%|          | 0/100 [00:00<?, ?it/s]/Users/kevinfry/opt/anaconda3/envs/spe/lib/python3.11/site-packages/sklearn/model_selection/_validation.py:73: FutureWarning:\n",
      "\n",
      "`fit_params` is deprecated and will be removed in version 1.6. Pass parameters via `params` instead.\n",
      "\n",
      "/Users/kevinfry/opt/anaconda3/envs/spe/lib/python3.11/site-packages/sklearn/model_selection/_validation.py:73: FutureWarning:\n",
      "\n",
      "`fit_params` is deprecated and will be removed in version 1.6. Pass parameters via `params` instead.\n",
      "\n",
      "  1%|          | 1/100 [00:00<00:22,  4.32it/s]/Users/kevinfry/opt/anaconda3/envs/spe/lib/python3.11/site-packages/sklearn/model_selection/_validation.py:73: FutureWarning:\n",
      "\n",
      "`fit_params` is deprecated and will be removed in version 1.6. Pass parameters via `params` instead.\n",
      "\n",
      "/Users/kevinfry/opt/anaconda3/envs/spe/lib/python3.11/site-packages/sklearn/model_selection/_validation.py:73: FutureWarning:\n",
      "\n",
      "`fit_params` is deprecated and will be removed in version 1.6. Pass parameters via `params` instead.\n",
      "\n",
      "  2%|▏         | 2/100 [00:00<00:26,  3.63it/s]/Users/kevinfry/opt/anaconda3/envs/spe/lib/python3.11/site-packages/sklearn/model_selection/_validation.py:73: FutureWarning:\n",
      "\n",
      "`fit_params` is deprecated and will be removed in version 1.6. Pass parameters via `params` instead.\n",
      "\n",
      "/Users/kevinfry/opt/anaconda3/envs/spe/lib/python3.11/site-packages/sklearn/model_selection/_validation.py:73: FutureWarning:\n",
      "\n",
      "`fit_params` is deprecated and will be removed in version 1.6. Pass parameters via `params` instead.\n",
      "\n",
      "  3%|▎         | 3/100 [00:00<00:27,  3.52it/s]/Users/kevinfry/opt/anaconda3/envs/spe/lib/python3.11/site-packages/sklearn/model_selection/_validation.py:73: FutureWarning:\n",
      "\n",
      "`fit_params` is deprecated and will be removed in version 1.6. Pass parameters via `params` instead.\n",
      "\n",
      "/Users/kevinfry/opt/anaconda3/envs/spe/lib/python3.11/site-packages/sklearn/model_selection/_validation.py:73: FutureWarning:\n",
      "\n",
      "`fit_params` is deprecated and will be removed in version 1.6. Pass parameters via `params` instead.\n",
      "\n",
      "  4%|▍         | 4/100 [00:01<00:28,  3.34it/s]/Users/kevinfry/opt/anaconda3/envs/spe/lib/python3.11/site-packages/sklearn/model_selection/_validation.py:73: FutureWarning:\n",
      "\n",
      "`fit_params` is deprecated and will be removed in version 1.6. Pass parameters via `params` instead.\n",
      "\n",
      "/Users/kevinfry/opt/anaconda3/envs/spe/lib/python3.11/site-packages/sklearn/model_selection/_validation.py:73: FutureWarning:\n",
      "\n",
      "`fit_params` is deprecated and will be removed in version 1.6. Pass parameters via `params` instead.\n",
      "\n",
      "  5%|▌         | 5/100 [00:01<00:29,  3.27it/s]/Users/kevinfry/opt/anaconda3/envs/spe/lib/python3.11/site-packages/sklearn/model_selection/_validation.py:73: FutureWarning:\n",
      "\n",
      "`fit_params` is deprecated and will be removed in version 1.6. Pass parameters via `params` instead.\n",
      "\n",
      "/Users/kevinfry/opt/anaconda3/envs/spe/lib/python3.11/site-packages/sklearn/model_selection/_validation.py:73: FutureWarning:\n",
      "\n",
      "`fit_params` is deprecated and will be removed in version 1.6. Pass parameters via `params` instead.\n",
      "\n",
      "  6%|▌         | 6/100 [00:01<00:25,  3.64it/s]/Users/kevinfry/opt/anaconda3/envs/spe/lib/python3.11/site-packages/sklearn/model_selection/_validation.py:73: FutureWarning:\n",
      "\n",
      "`fit_params` is deprecated and will be removed in version 1.6. Pass parameters via `params` instead.\n",
      "\n",
      "/Users/kevinfry/opt/anaconda3/envs/spe/lib/python3.11/site-packages/sklearn/model_selection/_validation.py:73: FutureWarning:\n",
      "\n",
      "`fit_params` is deprecated and will be removed in version 1.6. Pass parameters via `params` instead.\n",
      "\n",
      "  7%|▋         | 7/100 [00:01<00:25,  3.64it/s]/Users/kevinfry/opt/anaconda3/envs/spe/lib/python3.11/site-packages/sklearn/model_selection/_validation.py:73: FutureWarning:\n",
      "\n",
      "`fit_params` is deprecated and will be removed in version 1.6. Pass parameters via `params` instead.\n",
      "\n",
      "/Users/kevinfry/opt/anaconda3/envs/spe/lib/python3.11/site-packages/sklearn/model_selection/_validation.py:73: FutureWarning:\n",
      "\n",
      "`fit_params` is deprecated and will be removed in version 1.6. Pass parameters via `params` instead.\n",
      "\n",
      "  8%|▊         | 8/100 [00:02<00:25,  3.66it/s]/Users/kevinfry/opt/anaconda3/envs/spe/lib/python3.11/site-packages/sklearn/model_selection/_validation.py:73: FutureWarning:\n",
      "\n",
      "`fit_params` is deprecated and will be removed in version 1.6. Pass parameters via `params` instead.\n",
      "\n",
      "/Users/kevinfry/opt/anaconda3/envs/spe/lib/python3.11/site-packages/sklearn/model_selection/_validation.py:73: FutureWarning:\n",
      "\n",
      "`fit_params` is deprecated and will be removed in version 1.6. Pass parameters via `params` instead.\n",
      "\n",
      "  9%|▉         | 9/100 [00:02<00:27,  3.33it/s]/Users/kevinfry/opt/anaconda3/envs/spe/lib/python3.11/site-packages/sklearn/model_selection/_validation.py:73: FutureWarning:\n",
      "\n",
      "`fit_params` is deprecated and will be removed in version 1.6. Pass parameters via `params` instead.\n",
      "\n",
      "/Users/kevinfry/opt/anaconda3/envs/spe/lib/python3.11/site-packages/sklearn/model_selection/_validation.py:73: FutureWarning:\n",
      "\n",
      "`fit_params` is deprecated and will be removed in version 1.6. Pass parameters via `params` instead.\n",
      "\n",
      " 10%|█         | 10/100 [00:02<00:27,  3.21it/s]/Users/kevinfry/opt/anaconda3/envs/spe/lib/python3.11/site-packages/sklearn/model_selection/_validation.py:73: FutureWarning:\n",
      "\n",
      "`fit_params` is deprecated and will be removed in version 1.6. Pass parameters via `params` instead.\n",
      "\n",
      "/Users/kevinfry/opt/anaconda3/envs/spe/lib/python3.11/site-packages/sklearn/model_selection/_validation.py:73: FutureWarning:\n",
      "\n",
      "`fit_params` is deprecated and will be removed in version 1.6. Pass parameters via `params` instead.\n",
      "\n",
      " 11%|█         | 11/100 [00:03<00:26,  3.35it/s]/Users/kevinfry/opt/anaconda3/envs/spe/lib/python3.11/site-packages/sklearn/model_selection/_validation.py:73: FutureWarning:\n",
      "\n",
      "`fit_params` is deprecated and will be removed in version 1.6. Pass parameters via `params` instead.\n",
      "\n",
      "/Users/kevinfry/opt/anaconda3/envs/spe/lib/python3.11/site-packages/sklearn/model_selection/_validation.py:73: FutureWarning:\n",
      "\n",
      "`fit_params` is deprecated and will be removed in version 1.6. Pass parameters via `params` instead.\n",
      "\n",
      " 12%|█▏        | 12/100 [00:03<00:25,  3.43it/s]/Users/kevinfry/opt/anaconda3/envs/spe/lib/python3.11/site-packages/sklearn/model_selection/_validation.py:73: FutureWarning:\n",
      "\n",
      "`fit_params` is deprecated and will be removed in version 1.6. Pass parameters via `params` instead.\n",
      "\n",
      "/Users/kevinfry/opt/anaconda3/envs/spe/lib/python3.11/site-packages/sklearn/model_selection/_validation.py:73: FutureWarning:\n",
      "\n",
      "`fit_params` is deprecated and will be removed in version 1.6. Pass parameters via `params` instead.\n",
      "\n",
      " 13%|█▎        | 13/100 [00:03<00:27,  3.14it/s]/Users/kevinfry/opt/anaconda3/envs/spe/lib/python3.11/site-packages/sklearn/model_selection/_validation.py:73: FutureWarning:\n",
      "\n",
      "`fit_params` is deprecated and will be removed in version 1.6. Pass parameters via `params` instead.\n",
      "\n",
      "/Users/kevinfry/opt/anaconda3/envs/spe/lib/python3.11/site-packages/sklearn/model_selection/_validation.py:73: FutureWarning:\n",
      "\n",
      "`fit_params` is deprecated and will be removed in version 1.6. Pass parameters via `params` instead.\n",
      "\n",
      " 14%|█▍        | 14/100 [00:04<00:23,  3.62it/s]/Users/kevinfry/opt/anaconda3/envs/spe/lib/python3.11/site-packages/sklearn/model_selection/_validation.py:73: FutureWarning:\n",
      "\n",
      "`fit_params` is deprecated and will be removed in version 1.6. Pass parameters via `params` instead.\n",
      "\n",
      "/Users/kevinfry/opt/anaconda3/envs/spe/lib/python3.11/site-packages/sklearn/model_selection/_validation.py:73: FutureWarning:\n",
      "\n",
      "`fit_params` is deprecated and will be removed in version 1.6. Pass parameters via `params` instead.\n",
      "\n",
      " 15%|█▌        | 15/100 [00:04<00:22,  3.83it/s]/Users/kevinfry/opt/anaconda3/envs/spe/lib/python3.11/site-packages/sklearn/model_selection/_validation.py:73: FutureWarning:\n",
      "\n",
      "`fit_params` is deprecated and will be removed in version 1.6. Pass parameters via `params` instead.\n",
      "\n",
      "/Users/kevinfry/opt/anaconda3/envs/spe/lib/python3.11/site-packages/sklearn/model_selection/_validation.py:73: FutureWarning:\n",
      "\n",
      "`fit_params` is deprecated and will be removed in version 1.6. Pass parameters via `params` instead.\n",
      "\n",
      " 16%|█▌        | 16/100 [00:04<00:21,  3.82it/s]/Users/kevinfry/opt/anaconda3/envs/spe/lib/python3.11/site-packages/sklearn/model_selection/_validation.py:73: FutureWarning:\n",
      "\n",
      "`fit_params` is deprecated and will be removed in version 1.6. Pass parameters via `params` instead.\n",
      "\n",
      "/Users/kevinfry/opt/anaconda3/envs/spe/lib/python3.11/site-packages/sklearn/model_selection/_validation.py:73: FutureWarning:\n",
      "\n",
      "`fit_params` is deprecated and will be removed in version 1.6. Pass parameters via `params` instead.\n",
      "\n",
      " 17%|█▋        | 17/100 [00:04<00:21,  3.87it/s]/Users/kevinfry/opt/anaconda3/envs/spe/lib/python3.11/site-packages/sklearn/model_selection/_validation.py:73: FutureWarning:\n",
      "\n",
      "`fit_params` is deprecated and will be removed in version 1.6. Pass parameters via `params` instead.\n",
      "\n",
      "/Users/kevinfry/opt/anaconda3/envs/spe/lib/python3.11/site-packages/sklearn/model_selection/_validation.py:73: FutureWarning:\n",
      "\n",
      "`fit_params` is deprecated and will be removed in version 1.6. Pass parameters via `params` instead.\n",
      "\n",
      " 18%|█▊        | 18/100 [00:04<00:19,  4.20it/s]/Users/kevinfry/opt/anaconda3/envs/spe/lib/python3.11/site-packages/sklearn/model_selection/_validation.py:73: FutureWarning:\n",
      "\n",
      "`fit_params` is deprecated and will be removed in version 1.6. Pass parameters via `params` instead.\n",
      "\n",
      "/Users/kevinfry/opt/anaconda3/envs/spe/lib/python3.11/site-packages/sklearn/model_selection/_validation.py:73: FutureWarning:\n",
      "\n",
      "`fit_params` is deprecated and will be removed in version 1.6. Pass parameters via `params` instead.\n",
      "\n",
      " 19%|█▉        | 19/100 [00:05<00:18,  4.27it/s]/Users/kevinfry/opt/anaconda3/envs/spe/lib/python3.11/site-packages/sklearn/model_selection/_validation.py:73: FutureWarning:\n",
      "\n",
      "`fit_params` is deprecated and will be removed in version 1.6. Pass parameters via `params` instead.\n",
      "\n",
      "/Users/kevinfry/opt/anaconda3/envs/spe/lib/python3.11/site-packages/sklearn/model_selection/_validation.py:73: FutureWarning:\n",
      "\n",
      "`fit_params` is deprecated and will be removed in version 1.6. Pass parameters via `params` instead.\n",
      "\n",
      " 20%|██        | 20/100 [00:05<00:17,  4.46it/s]/Users/kevinfry/opt/anaconda3/envs/spe/lib/python3.11/site-packages/sklearn/model_selection/_validation.py:73: FutureWarning:\n",
      "\n",
      "`fit_params` is deprecated and will be removed in version 1.6. Pass parameters via `params` instead.\n",
      "\n",
      "/Users/kevinfry/opt/anaconda3/envs/spe/lib/python3.11/site-packages/sklearn/model_selection/_validation.py:73: FutureWarning:\n",
      "\n",
      "`fit_params` is deprecated and will be removed in version 1.6. Pass parameters via `params` instead.\n",
      "\n",
      " 21%|██        | 21/100 [00:05<00:16,  4.83it/s]/Users/kevinfry/opt/anaconda3/envs/spe/lib/python3.11/site-packages/sklearn/model_selection/_validation.py:73: FutureWarning:\n",
      "\n",
      "`fit_params` is deprecated and will be removed in version 1.6. Pass parameters via `params` instead.\n",
      "\n",
      "/Users/kevinfry/opt/anaconda3/envs/spe/lib/python3.11/site-packages/sklearn/model_selection/_validation.py:73: FutureWarning:\n",
      "\n",
      "`fit_params` is deprecated and will be removed in version 1.6. Pass parameters via `params` instead.\n",
      "\n",
      " 22%|██▏       | 22/100 [00:05<00:15,  5.02it/s]/Users/kevinfry/opt/anaconda3/envs/spe/lib/python3.11/site-packages/sklearn/model_selection/_validation.py:73: FutureWarning:\n",
      "\n",
      "`fit_params` is deprecated and will be removed in version 1.6. Pass parameters via `params` instead.\n",
      "\n",
      "/Users/kevinfry/opt/anaconda3/envs/spe/lib/python3.11/site-packages/sklearn/model_selection/_validation.py:73: FutureWarning:\n",
      "\n",
      "`fit_params` is deprecated and will be removed in version 1.6. Pass parameters via `params` instead.\n",
      "\n",
      " 23%|██▎       | 23/100 [00:06<00:17,  4.30it/s]/Users/kevinfry/opt/anaconda3/envs/spe/lib/python3.11/site-packages/sklearn/model_selection/_validation.py:73: FutureWarning:\n",
      "\n",
      "`fit_params` is deprecated and will be removed in version 1.6. Pass parameters via `params` instead.\n",
      "\n",
      "/Users/kevinfry/opt/anaconda3/envs/spe/lib/python3.11/site-packages/sklearn/model_selection/_validation.py:73: FutureWarning:\n",
      "\n",
      "`fit_params` is deprecated and will be removed in version 1.6. Pass parameters via `params` instead.\n",
      "\n",
      " 24%|██▍       | 24/100 [00:06<00:17,  4.35it/s]/Users/kevinfry/opt/anaconda3/envs/spe/lib/python3.11/site-packages/sklearn/model_selection/_validation.py:73: FutureWarning:\n",
      "\n",
      "`fit_params` is deprecated and will be removed in version 1.6. Pass parameters via `params` instead.\n",
      "\n",
      "/Users/kevinfry/opt/anaconda3/envs/spe/lib/python3.11/site-packages/sklearn/model_selection/_validation.py:73: FutureWarning:\n",
      "\n",
      "`fit_params` is deprecated and will be removed in version 1.6. Pass parameters via `params` instead.\n",
      "\n",
      " 25%|██▌       | 25/100 [00:06<00:17,  4.25it/s]/Users/kevinfry/opt/anaconda3/envs/spe/lib/python3.11/site-packages/sklearn/model_selection/_validation.py:73: FutureWarning:\n",
      "\n",
      "`fit_params` is deprecated and will be removed in version 1.6. Pass parameters via `params` instead.\n",
      "\n",
      "/Users/kevinfry/opt/anaconda3/envs/spe/lib/python3.11/site-packages/sklearn/model_selection/_validation.py:73: FutureWarning:\n",
      "\n",
      "`fit_params` is deprecated and will be removed in version 1.6. Pass parameters via `params` instead.\n",
      "\n",
      " 26%|██▌       | 26/100 [00:06<00:18,  3.94it/s]/Users/kevinfry/opt/anaconda3/envs/spe/lib/python3.11/site-packages/sklearn/model_selection/_validation.py:73: FutureWarning:\n",
      "\n",
      "`fit_params` is deprecated and will be removed in version 1.6. Pass parameters via `params` instead.\n",
      "\n",
      "/Users/kevinfry/opt/anaconda3/envs/spe/lib/python3.11/site-packages/sklearn/model_selection/_validation.py:73: FutureWarning:\n",
      "\n",
      "`fit_params` is deprecated and will be removed in version 1.6. Pass parameters via `params` instead.\n",
      "\n",
      " 27%|██▋       | 27/100 [00:07<00:18,  3.99it/s]/Users/kevinfry/opt/anaconda3/envs/spe/lib/python3.11/site-packages/sklearn/model_selection/_validation.py:73: FutureWarning:\n",
      "\n",
      "`fit_params` is deprecated and will be removed in version 1.6. Pass parameters via `params` instead.\n",
      "\n",
      "/Users/kevinfry/opt/anaconda3/envs/spe/lib/python3.11/site-packages/sklearn/model_selection/_validation.py:73: FutureWarning:\n",
      "\n",
      "`fit_params` is deprecated and will be removed in version 1.6. Pass parameters via `params` instead.\n",
      "\n",
      " 28%|██▊       | 28/100 [00:07<00:16,  4.39it/s]/Users/kevinfry/opt/anaconda3/envs/spe/lib/python3.11/site-packages/sklearn/model_selection/_validation.py:73: FutureWarning:\n",
      "\n",
      "`fit_params` is deprecated and will be removed in version 1.6. Pass parameters via `params` instead.\n",
      "\n",
      "/Users/kevinfry/opt/anaconda3/envs/spe/lib/python3.11/site-packages/sklearn/model_selection/_validation.py:73: FutureWarning:\n",
      "\n",
      "`fit_params` is deprecated and will be removed in version 1.6. Pass parameters via `params` instead.\n",
      "\n",
      " 29%|██▉       | 29/100 [00:07<00:16,  4.25it/s]/Users/kevinfry/opt/anaconda3/envs/spe/lib/python3.11/site-packages/sklearn/model_selection/_validation.py:73: FutureWarning:\n",
      "\n",
      "`fit_params` is deprecated and will be removed in version 1.6. Pass parameters via `params` instead.\n",
      "\n",
      "/Users/kevinfry/opt/anaconda3/envs/spe/lib/python3.11/site-packages/sklearn/model_selection/_validation.py:73: FutureWarning:\n",
      "\n",
      "`fit_params` is deprecated and will be removed in version 1.6. Pass parameters via `params` instead.\n",
      "\n",
      " 30%|███       | 30/100 [00:07<00:15,  4.47it/s]/Users/kevinfry/opt/anaconda3/envs/spe/lib/python3.11/site-packages/sklearn/model_selection/_validation.py:73: FutureWarning:\n",
      "\n",
      "`fit_params` is deprecated and will be removed in version 1.6. Pass parameters via `params` instead.\n",
      "\n",
      "/Users/kevinfry/opt/anaconda3/envs/spe/lib/python3.11/site-packages/sklearn/model_selection/_validation.py:73: FutureWarning:\n",
      "\n",
      "`fit_params` is deprecated and will be removed in version 1.6. Pass parameters via `params` instead.\n",
      "\n",
      " 31%|███       | 31/100 [00:07<00:14,  4.92it/s]/Users/kevinfry/opt/anaconda3/envs/spe/lib/python3.11/site-packages/sklearn/model_selection/_validation.py:73: FutureWarning:\n",
      "\n",
      "`fit_params` is deprecated and will be removed in version 1.6. Pass parameters via `params` instead.\n",
      "\n",
      "/Users/kevinfry/opt/anaconda3/envs/spe/lib/python3.11/site-packages/sklearn/model_selection/_validation.py:73: FutureWarning:\n",
      "\n",
      "`fit_params` is deprecated and will be removed in version 1.6. Pass parameters via `params` instead.\n",
      "\n",
      " 32%|███▏      | 32/100 [00:08<00:14,  4.84it/s]/Users/kevinfry/opt/anaconda3/envs/spe/lib/python3.11/site-packages/sklearn/model_selection/_validation.py:73: FutureWarning:\n",
      "\n",
      "`fit_params` is deprecated and will be removed in version 1.6. Pass parameters via `params` instead.\n",
      "\n",
      "/Users/kevinfry/opt/anaconda3/envs/spe/lib/python3.11/site-packages/sklearn/model_selection/_validation.py:73: FutureWarning:\n",
      "\n",
      "`fit_params` is deprecated and will be removed in version 1.6. Pass parameters via `params` instead.\n",
      "\n",
      " 33%|███▎      | 33/100 [00:08<00:14,  4.74it/s]/Users/kevinfry/opt/anaconda3/envs/spe/lib/python3.11/site-packages/sklearn/model_selection/_validation.py:73: FutureWarning:\n",
      "\n",
      "`fit_params` is deprecated and will be removed in version 1.6. Pass parameters via `params` instead.\n",
      "\n",
      "/Users/kevinfry/opt/anaconda3/envs/spe/lib/python3.11/site-packages/sklearn/model_selection/_validation.py:73: FutureWarning:\n",
      "\n",
      "`fit_params` is deprecated and will be removed in version 1.6. Pass parameters via `params` instead.\n",
      "\n",
      " 34%|███▍      | 34/100 [00:08<00:14,  4.54it/s]/Users/kevinfry/opt/anaconda3/envs/spe/lib/python3.11/site-packages/sklearn/model_selection/_validation.py:73: FutureWarning:\n",
      "\n",
      "`fit_params` is deprecated and will be removed in version 1.6. Pass parameters via `params` instead.\n",
      "\n",
      "/Users/kevinfry/opt/anaconda3/envs/spe/lib/python3.11/site-packages/sklearn/model_selection/_validation.py:73: FutureWarning:\n",
      "\n",
      "`fit_params` is deprecated and will be removed in version 1.6. Pass parameters via `params` instead.\n",
      "\n",
      " 35%|███▌      | 35/100 [00:08<00:14,  4.56it/s]/Users/kevinfry/opt/anaconda3/envs/spe/lib/python3.11/site-packages/sklearn/model_selection/_validation.py:73: FutureWarning:\n",
      "\n",
      "`fit_params` is deprecated and will be removed in version 1.6. Pass parameters via `params` instead.\n",
      "\n",
      "/Users/kevinfry/opt/anaconda3/envs/spe/lib/python3.11/site-packages/sklearn/model_selection/_validation.py:73: FutureWarning:\n",
      "\n",
      "`fit_params` is deprecated and will be removed in version 1.6. Pass parameters via `params` instead.\n",
      "\n",
      " 36%|███▌      | 36/100 [00:09<00:15,  4.07it/s]/Users/kevinfry/opt/anaconda3/envs/spe/lib/python3.11/site-packages/sklearn/model_selection/_validation.py:73: FutureWarning:\n",
      "\n",
      "`fit_params` is deprecated and will be removed in version 1.6. Pass parameters via `params` instead.\n",
      "\n",
      "/Users/kevinfry/opt/anaconda3/envs/spe/lib/python3.11/site-packages/sklearn/model_selection/_validation.py:73: FutureWarning:\n",
      "\n",
      "`fit_params` is deprecated and will be removed in version 1.6. Pass parameters via `params` instead.\n",
      "\n",
      " 37%|███▋      | 37/100 [00:09<00:14,  4.33it/s]/Users/kevinfry/opt/anaconda3/envs/spe/lib/python3.11/site-packages/sklearn/model_selection/_validation.py:73: FutureWarning:\n",
      "\n",
      "`fit_params` is deprecated and will be removed in version 1.6. Pass parameters via `params` instead.\n",
      "\n",
      "/Users/kevinfry/opt/anaconda3/envs/spe/lib/python3.11/site-packages/sklearn/model_selection/_validation.py:73: FutureWarning:\n",
      "\n",
      "`fit_params` is deprecated and will be removed in version 1.6. Pass parameters via `params` instead.\n",
      "\n",
      " 38%|███▊      | 38/100 [00:09<00:16,  3.81it/s]/Users/kevinfry/opt/anaconda3/envs/spe/lib/python3.11/site-packages/sklearn/model_selection/_validation.py:73: FutureWarning:\n",
      "\n",
      "`fit_params` is deprecated and will be removed in version 1.6. Pass parameters via `params` instead.\n",
      "\n",
      "/Users/kevinfry/opt/anaconda3/envs/spe/lib/python3.11/site-packages/sklearn/model_selection/_validation.py:73: FutureWarning:\n",
      "\n",
      "`fit_params` is deprecated and will be removed in version 1.6. Pass parameters via `params` instead.\n",
      "\n",
      " 39%|███▉      | 39/100 [00:09<00:17,  3.49it/s]/Users/kevinfry/opt/anaconda3/envs/spe/lib/python3.11/site-packages/sklearn/model_selection/_validation.py:73: FutureWarning:\n",
      "\n",
      "`fit_params` is deprecated and will be removed in version 1.6. Pass parameters via `params` instead.\n",
      "\n",
      "/Users/kevinfry/opt/anaconda3/envs/spe/lib/python3.11/site-packages/sklearn/model_selection/_validation.py:73: FutureWarning:\n",
      "\n",
      "`fit_params` is deprecated and will be removed in version 1.6. Pass parameters via `params` instead.\n",
      "\n",
      " 40%|████      | 40/100 [00:10<00:16,  3.66it/s]/Users/kevinfry/opt/anaconda3/envs/spe/lib/python3.11/site-packages/sklearn/model_selection/_validation.py:73: FutureWarning:\n",
      "\n",
      "`fit_params` is deprecated and will be removed in version 1.6. Pass parameters via `params` instead.\n",
      "\n",
      "/Users/kevinfry/opt/anaconda3/envs/spe/lib/python3.11/site-packages/sklearn/model_selection/_validation.py:73: FutureWarning:\n",
      "\n",
      "`fit_params` is deprecated and will be removed in version 1.6. Pass parameters via `params` instead.\n",
      "\n",
      " 41%|████      | 41/100 [00:10<00:15,  3.91it/s]/Users/kevinfry/opt/anaconda3/envs/spe/lib/python3.11/site-packages/sklearn/model_selection/_validation.py:73: FutureWarning:\n",
      "\n",
      "`fit_params` is deprecated and will be removed in version 1.6. Pass parameters via `params` instead.\n",
      "\n",
      "/Users/kevinfry/opt/anaconda3/envs/spe/lib/python3.11/site-packages/sklearn/model_selection/_validation.py:73: FutureWarning:\n",
      "\n",
      "`fit_params` is deprecated and will be removed in version 1.6. Pass parameters via `params` instead.\n",
      "\n",
      " 42%|████▏     | 42/100 [00:10<00:14,  4.06it/s]/Users/kevinfry/opt/anaconda3/envs/spe/lib/python3.11/site-packages/sklearn/model_selection/_validation.py:73: FutureWarning:\n",
      "\n",
      "`fit_params` is deprecated and will be removed in version 1.6. Pass parameters via `params` instead.\n",
      "\n",
      "/Users/kevinfry/opt/anaconda3/envs/spe/lib/python3.11/site-packages/sklearn/model_selection/_validation.py:73: FutureWarning:\n",
      "\n",
      "`fit_params` is deprecated and will be removed in version 1.6. Pass parameters via `params` instead.\n",
      "\n",
      " 43%|████▎     | 43/100 [00:10<00:14,  3.88it/s]/Users/kevinfry/opt/anaconda3/envs/spe/lib/python3.11/site-packages/sklearn/model_selection/_validation.py:73: FutureWarning:\n",
      "\n",
      "`fit_params` is deprecated and will be removed in version 1.6. Pass parameters via `params` instead.\n",
      "\n",
      "/Users/kevinfry/opt/anaconda3/envs/spe/lib/python3.11/site-packages/sklearn/model_selection/_validation.py:73: FutureWarning:\n",
      "\n",
      "`fit_params` is deprecated and will be removed in version 1.6. Pass parameters via `params` instead.\n",
      "\n",
      " 44%|████▍     | 44/100 [00:11<00:14,  3.84it/s]/Users/kevinfry/opt/anaconda3/envs/spe/lib/python3.11/site-packages/sklearn/model_selection/_validation.py:73: FutureWarning:\n",
      "\n",
      "`fit_params` is deprecated and will be removed in version 1.6. Pass parameters via `params` instead.\n",
      "\n",
      "/Users/kevinfry/opt/anaconda3/envs/spe/lib/python3.11/site-packages/sklearn/model_selection/_validation.py:73: FutureWarning:\n",
      "\n",
      "`fit_params` is deprecated and will be removed in version 1.6. Pass parameters via `params` instead.\n",
      "\n",
      " 45%|████▌     | 45/100 [00:11<00:13,  3.97it/s]/Users/kevinfry/opt/anaconda3/envs/spe/lib/python3.11/site-packages/sklearn/model_selection/_validation.py:73: FutureWarning:\n",
      "\n",
      "`fit_params` is deprecated and will be removed in version 1.6. Pass parameters via `params` instead.\n",
      "\n",
      "/Users/kevinfry/opt/anaconda3/envs/spe/lib/python3.11/site-packages/sklearn/model_selection/_validation.py:73: FutureWarning:\n",
      "\n",
      "`fit_params` is deprecated and will be removed in version 1.6. Pass parameters via `params` instead.\n",
      "\n",
      " 46%|████▌     | 46/100 [00:11<00:13,  4.09it/s]/Users/kevinfry/opt/anaconda3/envs/spe/lib/python3.11/site-packages/sklearn/model_selection/_validation.py:73: FutureWarning:\n",
      "\n",
      "`fit_params` is deprecated and will be removed in version 1.6. Pass parameters via `params` instead.\n",
      "\n",
      "/Users/kevinfry/opt/anaconda3/envs/spe/lib/python3.11/site-packages/sklearn/model_selection/_validation.py:73: FutureWarning:\n",
      "\n",
      "`fit_params` is deprecated and will be removed in version 1.6. Pass parameters via `params` instead.\n",
      "\n",
      " 47%|████▋     | 47/100 [00:11<00:12,  4.09it/s]/Users/kevinfry/opt/anaconda3/envs/spe/lib/python3.11/site-packages/sklearn/model_selection/_validation.py:73: FutureWarning:\n",
      "\n",
      "`fit_params` is deprecated and will be removed in version 1.6. Pass parameters via `params` instead.\n",
      "\n",
      "/Users/kevinfry/opt/anaconda3/envs/spe/lib/python3.11/site-packages/sklearn/model_selection/_validation.py:73: FutureWarning:\n",
      "\n",
      "`fit_params` is deprecated and will be removed in version 1.6. Pass parameters via `params` instead.\n",
      "\n",
      " 48%|████▊     | 48/100 [00:12<00:12,  4.16it/s]/Users/kevinfry/opt/anaconda3/envs/spe/lib/python3.11/site-packages/sklearn/model_selection/_validation.py:73: FutureWarning:\n",
      "\n",
      "`fit_params` is deprecated and will be removed in version 1.6. Pass parameters via `params` instead.\n",
      "\n",
      "/Users/kevinfry/opt/anaconda3/envs/spe/lib/python3.11/site-packages/sklearn/model_selection/_validation.py:73: FutureWarning:\n",
      "\n",
      "`fit_params` is deprecated and will be removed in version 1.6. Pass parameters via `params` instead.\n",
      "\n",
      " 49%|████▉     | 49/100 [00:12<00:12,  4.20it/s]/Users/kevinfry/opt/anaconda3/envs/spe/lib/python3.11/site-packages/sklearn/model_selection/_validation.py:73: FutureWarning:\n",
      "\n",
      "`fit_params` is deprecated and will be removed in version 1.6. Pass parameters via `params` instead.\n",
      "\n",
      "/Users/kevinfry/opt/anaconda3/envs/spe/lib/python3.11/site-packages/sklearn/model_selection/_validation.py:73: FutureWarning:\n",
      "\n",
      "`fit_params` is deprecated and will be removed in version 1.6. Pass parameters via `params` instead.\n",
      "\n",
      " 50%|█████     | 50/100 [00:12<00:11,  4.52it/s]/Users/kevinfry/opt/anaconda3/envs/spe/lib/python3.11/site-packages/sklearn/model_selection/_validation.py:73: FutureWarning:\n",
      "\n",
      "`fit_params` is deprecated and will be removed in version 1.6. Pass parameters via `params` instead.\n",
      "\n",
      "/Users/kevinfry/opt/anaconda3/envs/spe/lib/python3.11/site-packages/sklearn/model_selection/_validation.py:73: FutureWarning:\n",
      "\n",
      "`fit_params` is deprecated and will be removed in version 1.6. Pass parameters via `params` instead.\n",
      "\n",
      " 51%|█████     | 51/100 [00:12<00:11,  4.09it/s]/Users/kevinfry/opt/anaconda3/envs/spe/lib/python3.11/site-packages/sklearn/model_selection/_validation.py:73: FutureWarning:\n",
      "\n",
      "`fit_params` is deprecated and will be removed in version 1.6. Pass parameters via `params` instead.\n",
      "\n",
      "/Users/kevinfry/opt/anaconda3/envs/spe/lib/python3.11/site-packages/sklearn/model_selection/_validation.py:73: FutureWarning:\n",
      "\n",
      "`fit_params` is deprecated and will be removed in version 1.6. Pass parameters via `params` instead.\n",
      "\n",
      " 52%|█████▏    | 52/100 [00:13<00:12,  3.75it/s]/Users/kevinfry/opt/anaconda3/envs/spe/lib/python3.11/site-packages/sklearn/model_selection/_validation.py:73: FutureWarning:\n",
      "\n",
      "`fit_params` is deprecated and will be removed in version 1.6. Pass parameters via `params` instead.\n",
      "\n",
      "/Users/kevinfry/opt/anaconda3/envs/spe/lib/python3.11/site-packages/sklearn/model_selection/_validation.py:73: FutureWarning:\n",
      "\n",
      "`fit_params` is deprecated and will be removed in version 1.6. Pass parameters via `params` instead.\n",
      "\n",
      " 53%|█████▎    | 53/100 [00:13<00:12,  3.76it/s]/Users/kevinfry/opt/anaconda3/envs/spe/lib/python3.11/site-packages/sklearn/model_selection/_validation.py:73: FutureWarning:\n",
      "\n",
      "`fit_params` is deprecated and will be removed in version 1.6. Pass parameters via `params` instead.\n",
      "\n",
      "/Users/kevinfry/opt/anaconda3/envs/spe/lib/python3.11/site-packages/sklearn/model_selection/_validation.py:73: FutureWarning:\n",
      "\n",
      "`fit_params` is deprecated and will be removed in version 1.6. Pass parameters via `params` instead.\n",
      "\n",
      " 54%|█████▍    | 54/100 [00:13<00:12,  3.83it/s]/Users/kevinfry/opt/anaconda3/envs/spe/lib/python3.11/site-packages/sklearn/model_selection/_validation.py:73: FutureWarning:\n",
      "\n",
      "`fit_params` is deprecated and will be removed in version 1.6. Pass parameters via `params` instead.\n",
      "\n",
      "/Users/kevinfry/opt/anaconda3/envs/spe/lib/python3.11/site-packages/sklearn/model_selection/_validation.py:73: FutureWarning:\n",
      "\n",
      "`fit_params` is deprecated and will be removed in version 1.6. Pass parameters via `params` instead.\n",
      "\n",
      " 55%|█████▌    | 55/100 [00:13<00:11,  4.05it/s]/Users/kevinfry/opt/anaconda3/envs/spe/lib/python3.11/site-packages/sklearn/model_selection/_validation.py:73: FutureWarning:\n",
      "\n",
      "`fit_params` is deprecated and will be removed in version 1.6. Pass parameters via `params` instead.\n",
      "\n",
      "/Users/kevinfry/opt/anaconda3/envs/spe/lib/python3.11/site-packages/sklearn/model_selection/_validation.py:73: FutureWarning:\n",
      "\n",
      "`fit_params` is deprecated and will be removed in version 1.6. Pass parameters via `params` instead.\n",
      "\n",
      " 56%|█████▌    | 56/100 [00:14<00:10,  4.38it/s]/Users/kevinfry/opt/anaconda3/envs/spe/lib/python3.11/site-packages/sklearn/model_selection/_validation.py:73: FutureWarning:\n",
      "\n",
      "`fit_params` is deprecated and will be removed in version 1.6. Pass parameters via `params` instead.\n",
      "\n",
      "/Users/kevinfry/opt/anaconda3/envs/spe/lib/python3.11/site-packages/sklearn/model_selection/_validation.py:73: FutureWarning:\n",
      "\n",
      "`fit_params` is deprecated and will be removed in version 1.6. Pass parameters via `params` instead.\n",
      "\n",
      " 57%|█████▋    | 57/100 [00:14<00:09,  4.40it/s]/Users/kevinfry/opt/anaconda3/envs/spe/lib/python3.11/site-packages/sklearn/model_selection/_validation.py:73: FutureWarning:\n",
      "\n",
      "`fit_params` is deprecated and will be removed in version 1.6. Pass parameters via `params` instead.\n",
      "\n",
      "/Users/kevinfry/opt/anaconda3/envs/spe/lib/python3.11/site-packages/sklearn/model_selection/_validation.py:73: FutureWarning:\n",
      "\n",
      "`fit_params` is deprecated and will be removed in version 1.6. Pass parameters via `params` instead.\n",
      "\n",
      " 58%|█████▊    | 58/100 [00:14<00:09,  4.62it/s]/Users/kevinfry/opt/anaconda3/envs/spe/lib/python3.11/site-packages/sklearn/model_selection/_validation.py:73: FutureWarning:\n",
      "\n",
      "`fit_params` is deprecated and will be removed in version 1.6. Pass parameters via `params` instead.\n",
      "\n",
      "/Users/kevinfry/opt/anaconda3/envs/spe/lib/python3.11/site-packages/sklearn/model_selection/_validation.py:73: FutureWarning:\n",
      "\n",
      "`fit_params` is deprecated and will be removed in version 1.6. Pass parameters via `params` instead.\n",
      "\n",
      " 59%|█████▉    | 59/100 [00:14<00:09,  4.51it/s]/Users/kevinfry/opt/anaconda3/envs/spe/lib/python3.11/site-packages/sklearn/model_selection/_validation.py:73: FutureWarning:\n",
      "\n",
      "`fit_params` is deprecated and will be removed in version 1.6. Pass parameters via `params` instead.\n",
      "\n",
      "/Users/kevinfry/opt/anaconda3/envs/spe/lib/python3.11/site-packages/sklearn/model_selection/_validation.py:73: FutureWarning:\n",
      "\n",
      "`fit_params` is deprecated and will be removed in version 1.6. Pass parameters via `params` instead.\n",
      "\n",
      " 60%|██████    | 60/100 [00:14<00:08,  4.60it/s]/Users/kevinfry/opt/anaconda3/envs/spe/lib/python3.11/site-packages/sklearn/model_selection/_validation.py:73: FutureWarning:\n",
      "\n",
      "`fit_params` is deprecated and will be removed in version 1.6. Pass parameters via `params` instead.\n",
      "\n",
      "/Users/kevinfry/opt/anaconda3/envs/spe/lib/python3.11/site-packages/sklearn/model_selection/_validation.py:73: FutureWarning:\n",
      "\n",
      "`fit_params` is deprecated and will be removed in version 1.6. Pass parameters via `params` instead.\n",
      "\n",
      " 61%|██████    | 61/100 [00:15<00:08,  4.74it/s]/Users/kevinfry/opt/anaconda3/envs/spe/lib/python3.11/site-packages/sklearn/model_selection/_validation.py:73: FutureWarning:\n",
      "\n",
      "`fit_params` is deprecated and will be removed in version 1.6. Pass parameters via `params` instead.\n",
      "\n",
      "/Users/kevinfry/opt/anaconda3/envs/spe/lib/python3.11/site-packages/sklearn/model_selection/_validation.py:73: FutureWarning:\n",
      "\n",
      "`fit_params` is deprecated and will be removed in version 1.6. Pass parameters via `params` instead.\n",
      "\n",
      " 62%|██████▏   | 62/100 [00:15<00:07,  4.86it/s]/Users/kevinfry/opt/anaconda3/envs/spe/lib/python3.11/site-packages/sklearn/model_selection/_validation.py:73: FutureWarning:\n",
      "\n",
      "`fit_params` is deprecated and will be removed in version 1.6. Pass parameters via `params` instead.\n",
      "\n",
      "/Users/kevinfry/opt/anaconda3/envs/spe/lib/python3.11/site-packages/sklearn/model_selection/_validation.py:73: FutureWarning:\n",
      "\n",
      "`fit_params` is deprecated and will be removed in version 1.6. Pass parameters via `params` instead.\n",
      "\n",
      " 63%|██████▎   | 63/100 [00:15<00:07,  4.92it/s]/Users/kevinfry/opt/anaconda3/envs/spe/lib/python3.11/site-packages/sklearn/model_selection/_validation.py:73: FutureWarning:\n",
      "\n",
      "`fit_params` is deprecated and will be removed in version 1.6. Pass parameters via `params` instead.\n",
      "\n",
      "/Users/kevinfry/opt/anaconda3/envs/spe/lib/python3.11/site-packages/sklearn/model_selection/_validation.py:73: FutureWarning:\n",
      "\n",
      "`fit_params` is deprecated and will be removed in version 1.6. Pass parameters via `params` instead.\n",
      "\n",
      " 64%|██████▍   | 64/100 [00:15<00:07,  4.63it/s]/Users/kevinfry/opt/anaconda3/envs/spe/lib/python3.11/site-packages/sklearn/model_selection/_validation.py:73: FutureWarning:\n",
      "\n",
      "`fit_params` is deprecated and will be removed in version 1.6. Pass parameters via `params` instead.\n",
      "\n",
      "/Users/kevinfry/opt/anaconda3/envs/spe/lib/python3.11/site-packages/sklearn/model_selection/_validation.py:73: FutureWarning:\n",
      "\n",
      "`fit_params` is deprecated and will be removed in version 1.6. Pass parameters via `params` instead.\n",
      "\n",
      " 65%|██████▌   | 65/100 [00:15<00:07,  4.47it/s]/Users/kevinfry/opt/anaconda3/envs/spe/lib/python3.11/site-packages/sklearn/model_selection/_validation.py:73: FutureWarning:\n",
      "\n",
      "`fit_params` is deprecated and will be removed in version 1.6. Pass parameters via `params` instead.\n",
      "\n",
      "/Users/kevinfry/opt/anaconda3/envs/spe/lib/python3.11/site-packages/sklearn/model_selection/_validation.py:73: FutureWarning:\n",
      "\n",
      "`fit_params` is deprecated and will be removed in version 1.6. Pass parameters via `params` instead.\n",
      "\n",
      " 66%|██████▌   | 66/100 [00:16<00:08,  4.08it/s]/Users/kevinfry/opt/anaconda3/envs/spe/lib/python3.11/site-packages/sklearn/model_selection/_validation.py:73: FutureWarning:\n",
      "\n",
      "`fit_params` is deprecated and will be removed in version 1.6. Pass parameters via `params` instead.\n",
      "\n",
      "/Users/kevinfry/opt/anaconda3/envs/spe/lib/python3.11/site-packages/sklearn/model_selection/_validation.py:73: FutureWarning:\n",
      "\n",
      "`fit_params` is deprecated and will be removed in version 1.6. Pass parameters via `params` instead.\n",
      "\n",
      " 67%|██████▋   | 67/100 [00:16<00:09,  3.53it/s]/Users/kevinfry/opt/anaconda3/envs/spe/lib/python3.11/site-packages/sklearn/model_selection/_validation.py:73: FutureWarning:\n",
      "\n",
      "`fit_params` is deprecated and will be removed in version 1.6. Pass parameters via `params` instead.\n",
      "\n",
      "/Users/kevinfry/opt/anaconda3/envs/spe/lib/python3.11/site-packages/sklearn/model_selection/_validation.py:73: FutureWarning:\n",
      "\n",
      "`fit_params` is deprecated and will be removed in version 1.6. Pass parameters via `params` instead.\n",
      "\n",
      " 68%|██████▊   | 68/100 [00:16<00:08,  3.70it/s]/Users/kevinfry/opt/anaconda3/envs/spe/lib/python3.11/site-packages/sklearn/model_selection/_validation.py:73: FutureWarning:\n",
      "\n",
      "`fit_params` is deprecated and will be removed in version 1.6. Pass parameters via `params` instead.\n",
      "\n",
      "/Users/kevinfry/opt/anaconda3/envs/spe/lib/python3.11/site-packages/sklearn/model_selection/_validation.py:73: FutureWarning:\n",
      "\n",
      "`fit_params` is deprecated and will be removed in version 1.6. Pass parameters via `params` instead.\n",
      "\n",
      " 69%|██████▉   | 69/100 [00:17<00:08,  3.85it/s]/Users/kevinfry/opt/anaconda3/envs/spe/lib/python3.11/site-packages/sklearn/model_selection/_validation.py:73: FutureWarning:\n",
      "\n",
      "`fit_params` is deprecated and will be removed in version 1.6. Pass parameters via `params` instead.\n",
      "\n",
      "/Users/kevinfry/opt/anaconda3/envs/spe/lib/python3.11/site-packages/sklearn/model_selection/_validation.py:73: FutureWarning:\n",
      "\n",
      "`fit_params` is deprecated and will be removed in version 1.6. Pass parameters via `params` instead.\n",
      "\n",
      " 70%|███████   | 70/100 [00:17<00:07,  4.04it/s]/Users/kevinfry/opt/anaconda3/envs/spe/lib/python3.11/site-packages/sklearn/model_selection/_validation.py:73: FutureWarning:\n",
      "\n",
      "`fit_params` is deprecated and will be removed in version 1.6. Pass parameters via `params` instead.\n",
      "\n",
      "/Users/kevinfry/opt/anaconda3/envs/spe/lib/python3.11/site-packages/sklearn/model_selection/_validation.py:73: FutureWarning:\n",
      "\n",
      "`fit_params` is deprecated and will be removed in version 1.6. Pass parameters via `params` instead.\n",
      "\n",
      " 71%|███████   | 71/100 [00:17<00:07,  4.10it/s]/Users/kevinfry/opt/anaconda3/envs/spe/lib/python3.11/site-packages/sklearn/model_selection/_validation.py:73: FutureWarning:\n",
      "\n",
      "`fit_params` is deprecated and will be removed in version 1.6. Pass parameters via `params` instead.\n",
      "\n",
      "/Users/kevinfry/opt/anaconda3/envs/spe/lib/python3.11/site-packages/sklearn/model_selection/_validation.py:73: FutureWarning:\n",
      "\n",
      "`fit_params` is deprecated and will be removed in version 1.6. Pass parameters via `params` instead.\n",
      "\n",
      " 72%|███████▏  | 72/100 [00:17<00:06,  4.16it/s]/Users/kevinfry/opt/anaconda3/envs/spe/lib/python3.11/site-packages/sklearn/model_selection/_validation.py:73: FutureWarning:\n",
      "\n",
      "`fit_params` is deprecated and will be removed in version 1.6. Pass parameters via `params` instead.\n",
      "\n",
      "/Users/kevinfry/opt/anaconda3/envs/spe/lib/python3.11/site-packages/sklearn/model_selection/_validation.py:73: FutureWarning:\n",
      "\n",
      "`fit_params` is deprecated and will be removed in version 1.6. Pass parameters via `params` instead.\n",
      "\n",
      " 73%|███████▎  | 73/100 [00:18<00:07,  3.79it/s]/Users/kevinfry/opt/anaconda3/envs/spe/lib/python3.11/site-packages/sklearn/model_selection/_validation.py:73: FutureWarning:\n",
      "\n",
      "`fit_params` is deprecated and will be removed in version 1.6. Pass parameters via `params` instead.\n",
      "\n",
      "/Users/kevinfry/opt/anaconda3/envs/spe/lib/python3.11/site-packages/sklearn/model_selection/_validation.py:73: FutureWarning:\n",
      "\n",
      "`fit_params` is deprecated and will be removed in version 1.6. Pass parameters via `params` instead.\n",
      "\n",
      " 74%|███████▍  | 74/100 [00:18<00:06,  3.93it/s]/Users/kevinfry/opt/anaconda3/envs/spe/lib/python3.11/site-packages/sklearn/model_selection/_validation.py:73: FutureWarning:\n",
      "\n",
      "`fit_params` is deprecated and will be removed in version 1.6. Pass parameters via `params` instead.\n",
      "\n",
      "/Users/kevinfry/opt/anaconda3/envs/spe/lib/python3.11/site-packages/sklearn/model_selection/_validation.py:73: FutureWarning:\n",
      "\n",
      "`fit_params` is deprecated and will be removed in version 1.6. Pass parameters via `params` instead.\n",
      "\n",
      " 75%|███████▌  | 75/100 [00:18<00:06,  3.59it/s]/Users/kevinfry/opt/anaconda3/envs/spe/lib/python3.11/site-packages/sklearn/model_selection/_validation.py:73: FutureWarning:\n",
      "\n",
      "`fit_params` is deprecated and will be removed in version 1.6. Pass parameters via `params` instead.\n",
      "\n",
      "/Users/kevinfry/opt/anaconda3/envs/spe/lib/python3.11/site-packages/sklearn/model_selection/_validation.py:73: FutureWarning:\n",
      "\n",
      "`fit_params` is deprecated and will be removed in version 1.6. Pass parameters via `params` instead.\n",
      "\n",
      " 76%|███████▌  | 76/100 [00:18<00:06,  3.60it/s]/Users/kevinfry/opt/anaconda3/envs/spe/lib/python3.11/site-packages/sklearn/model_selection/_validation.py:73: FutureWarning:\n",
      "\n",
      "`fit_params` is deprecated and will be removed in version 1.6. Pass parameters via `params` instead.\n",
      "\n",
      "/Users/kevinfry/opt/anaconda3/envs/spe/lib/python3.11/site-packages/sklearn/model_selection/_validation.py:73: FutureWarning:\n",
      "\n",
      "`fit_params` is deprecated and will be removed in version 1.6. Pass parameters via `params` instead.\n",
      "\n",
      " 77%|███████▋  | 77/100 [00:19<00:05,  3.91it/s]/Users/kevinfry/opt/anaconda3/envs/spe/lib/python3.11/site-packages/sklearn/model_selection/_validation.py:73: FutureWarning:\n",
      "\n",
      "`fit_params` is deprecated and will be removed in version 1.6. Pass parameters via `params` instead.\n",
      "\n",
      "/Users/kevinfry/opt/anaconda3/envs/spe/lib/python3.11/site-packages/sklearn/model_selection/_validation.py:73: FutureWarning:\n",
      "\n",
      "`fit_params` is deprecated and will be removed in version 1.6. Pass parameters via `params` instead.\n",
      "\n",
      " 78%|███████▊  | 78/100 [00:19<00:05,  4.15it/s]/Users/kevinfry/opt/anaconda3/envs/spe/lib/python3.11/site-packages/sklearn/model_selection/_validation.py:73: FutureWarning:\n",
      "\n",
      "`fit_params` is deprecated and will be removed in version 1.6. Pass parameters via `params` instead.\n",
      "\n",
      "/Users/kevinfry/opt/anaconda3/envs/spe/lib/python3.11/site-packages/sklearn/model_selection/_validation.py:73: FutureWarning:\n",
      "\n",
      "`fit_params` is deprecated and will be removed in version 1.6. Pass parameters via `params` instead.\n",
      "\n",
      " 79%|███████▉  | 79/100 [00:19<00:05,  3.70it/s]/Users/kevinfry/opt/anaconda3/envs/spe/lib/python3.11/site-packages/sklearn/model_selection/_validation.py:73: FutureWarning:\n",
      "\n",
      "`fit_params` is deprecated and will be removed in version 1.6. Pass parameters via `params` instead.\n",
      "\n",
      "/Users/kevinfry/opt/anaconda3/envs/spe/lib/python3.11/site-packages/sklearn/model_selection/_validation.py:73: FutureWarning:\n",
      "\n",
      "`fit_params` is deprecated and will be removed in version 1.6. Pass parameters via `params` instead.\n",
      "\n",
      " 80%|████████  | 80/100 [00:19<00:05,  3.76it/s]/Users/kevinfry/opt/anaconda3/envs/spe/lib/python3.11/site-packages/sklearn/model_selection/_validation.py:73: FutureWarning:\n",
      "\n",
      "`fit_params` is deprecated and will be removed in version 1.6. Pass parameters via `params` instead.\n",
      "\n",
      "/Users/kevinfry/opt/anaconda3/envs/spe/lib/python3.11/site-packages/sklearn/model_selection/_validation.py:73: FutureWarning:\n",
      "\n",
      "`fit_params` is deprecated and will be removed in version 1.6. Pass parameters via `params` instead.\n",
      "\n",
      " 81%|████████  | 81/100 [00:20<00:04,  3.81it/s]/Users/kevinfry/opt/anaconda3/envs/spe/lib/python3.11/site-packages/sklearn/model_selection/_validation.py:73: FutureWarning:\n",
      "\n",
      "`fit_params` is deprecated and will be removed in version 1.6. Pass parameters via `params` instead.\n",
      "\n",
      "/Users/kevinfry/opt/anaconda3/envs/spe/lib/python3.11/site-packages/sklearn/model_selection/_validation.py:73: FutureWarning:\n",
      "\n",
      "`fit_params` is deprecated and will be removed in version 1.6. Pass parameters via `params` instead.\n",
      "\n",
      " 82%|████████▏ | 82/100 [00:20<00:05,  3.49it/s]/Users/kevinfry/opt/anaconda3/envs/spe/lib/python3.11/site-packages/sklearn/model_selection/_validation.py:73: FutureWarning:\n",
      "\n",
      "`fit_params` is deprecated and will be removed in version 1.6. Pass parameters via `params` instead.\n",
      "\n",
      "/Users/kevinfry/opt/anaconda3/envs/spe/lib/python3.11/site-packages/sklearn/model_selection/_validation.py:73: FutureWarning:\n",
      "\n",
      "`fit_params` is deprecated and will be removed in version 1.6. Pass parameters via `params` instead.\n",
      "\n",
      " 83%|████████▎ | 83/100 [00:20<00:04,  3.51it/s]/Users/kevinfry/opt/anaconda3/envs/spe/lib/python3.11/site-packages/sklearn/model_selection/_validation.py:73: FutureWarning:\n",
      "\n",
      "`fit_params` is deprecated and will be removed in version 1.6. Pass parameters via `params` instead.\n",
      "\n",
      "/Users/kevinfry/opt/anaconda3/envs/spe/lib/python3.11/site-packages/sklearn/model_selection/_validation.py:73: FutureWarning:\n",
      "\n",
      "`fit_params` is deprecated and will be removed in version 1.6. Pass parameters via `params` instead.\n",
      "\n",
      " 84%|████████▍ | 84/100 [00:21<00:04,  3.34it/s]/Users/kevinfry/opt/anaconda3/envs/spe/lib/python3.11/site-packages/sklearn/model_selection/_validation.py:73: FutureWarning:\n",
      "\n",
      "`fit_params` is deprecated and will be removed in version 1.6. Pass parameters via `params` instead.\n",
      "\n",
      "/Users/kevinfry/opt/anaconda3/envs/spe/lib/python3.11/site-packages/sklearn/model_selection/_validation.py:73: FutureWarning:\n",
      "\n",
      "`fit_params` is deprecated and will be removed in version 1.6. Pass parameters via `params` instead.\n",
      "\n",
      " 85%|████████▌ | 85/100 [00:21<00:04,  3.21it/s]/Users/kevinfry/opt/anaconda3/envs/spe/lib/python3.11/site-packages/sklearn/model_selection/_validation.py:73: FutureWarning:\n",
      "\n",
      "`fit_params` is deprecated and will be removed in version 1.6. Pass parameters via `params` instead.\n",
      "\n",
      "/Users/kevinfry/opt/anaconda3/envs/spe/lib/python3.11/site-packages/sklearn/model_selection/_validation.py:73: FutureWarning:\n",
      "\n",
      "`fit_params` is deprecated and will be removed in version 1.6. Pass parameters via `params` instead.\n",
      "\n",
      " 86%|████████▌ | 86/100 [00:21<00:03,  3.86it/s]/Users/kevinfry/opt/anaconda3/envs/spe/lib/python3.11/site-packages/sklearn/model_selection/_validation.py:73: FutureWarning:\n",
      "\n",
      "`fit_params` is deprecated and will be removed in version 1.6. Pass parameters via `params` instead.\n",
      "\n",
      "/Users/kevinfry/opt/anaconda3/envs/spe/lib/python3.11/site-packages/sklearn/model_selection/_validation.py:73: FutureWarning:\n",
      "\n",
      "`fit_params` is deprecated and will be removed in version 1.6. Pass parameters via `params` instead.\n",
      "\n",
      " 87%|████████▋ | 87/100 [00:21<00:03,  3.89it/s]/Users/kevinfry/opt/anaconda3/envs/spe/lib/python3.11/site-packages/sklearn/model_selection/_validation.py:73: FutureWarning:\n",
      "\n",
      "`fit_params` is deprecated and will be removed in version 1.6. Pass parameters via `params` instead.\n",
      "\n",
      "/Users/kevinfry/opt/anaconda3/envs/spe/lib/python3.11/site-packages/sklearn/model_selection/_validation.py:73: FutureWarning:\n",
      "\n",
      "`fit_params` is deprecated and will be removed in version 1.6. Pass parameters via `params` instead.\n",
      "\n",
      " 88%|████████▊ | 88/100 [00:22<00:03,  3.78it/s]/Users/kevinfry/opt/anaconda3/envs/spe/lib/python3.11/site-packages/sklearn/model_selection/_validation.py:73: FutureWarning:\n",
      "\n",
      "`fit_params` is deprecated and will be removed in version 1.6. Pass parameters via `params` instead.\n",
      "\n",
      "/Users/kevinfry/opt/anaconda3/envs/spe/lib/python3.11/site-packages/sklearn/model_selection/_validation.py:73: FutureWarning:\n",
      "\n",
      "`fit_params` is deprecated and will be removed in version 1.6. Pass parameters via `params` instead.\n",
      "\n",
      " 89%|████████▉ | 89/100 [00:22<00:02,  3.86it/s]/Users/kevinfry/opt/anaconda3/envs/spe/lib/python3.11/site-packages/sklearn/model_selection/_validation.py:73: FutureWarning:\n",
      "\n",
      "`fit_params` is deprecated and will be removed in version 1.6. Pass parameters via `params` instead.\n",
      "\n",
      "/Users/kevinfry/opt/anaconda3/envs/spe/lib/python3.11/site-packages/sklearn/model_selection/_validation.py:73: FutureWarning:\n",
      "\n",
      "`fit_params` is deprecated and will be removed in version 1.6. Pass parameters via `params` instead.\n",
      "\n",
      " 90%|█████████ | 90/100 [00:22<00:02,  3.52it/s]/Users/kevinfry/opt/anaconda3/envs/spe/lib/python3.11/site-packages/sklearn/model_selection/_validation.py:73: FutureWarning:\n",
      "\n",
      "`fit_params` is deprecated and will be removed in version 1.6. Pass parameters via `params` instead.\n",
      "\n",
      "/Users/kevinfry/opt/anaconda3/envs/spe/lib/python3.11/site-packages/sklearn/model_selection/_validation.py:73: FutureWarning:\n",
      "\n",
      "`fit_params` is deprecated and will be removed in version 1.6. Pass parameters via `params` instead.\n",
      "\n",
      " 91%|█████████ | 91/100 [00:22<00:02,  3.95it/s]/Users/kevinfry/opt/anaconda3/envs/spe/lib/python3.11/site-packages/sklearn/model_selection/_validation.py:73: FutureWarning:\n",
      "\n",
      "`fit_params` is deprecated and will be removed in version 1.6. Pass parameters via `params` instead.\n",
      "\n",
      "/Users/kevinfry/opt/anaconda3/envs/spe/lib/python3.11/site-packages/sklearn/model_selection/_validation.py:73: FutureWarning:\n",
      "\n",
      "`fit_params` is deprecated and will be removed in version 1.6. Pass parameters via `params` instead.\n",
      "\n",
      " 92%|█████████▏| 92/100 [00:23<00:02,  3.58it/s]/Users/kevinfry/opt/anaconda3/envs/spe/lib/python3.11/site-packages/sklearn/model_selection/_validation.py:73: FutureWarning:\n",
      "\n",
      "`fit_params` is deprecated and will be removed in version 1.6. Pass parameters via `params` instead.\n",
      "\n",
      "/Users/kevinfry/opt/anaconda3/envs/spe/lib/python3.11/site-packages/sklearn/model_selection/_validation.py:73: FutureWarning:\n",
      "\n",
      "`fit_params` is deprecated and will be removed in version 1.6. Pass parameters via `params` instead.\n",
      "\n",
      " 93%|█████████▎| 93/100 [00:23<00:01,  3.63it/s]/Users/kevinfry/opt/anaconda3/envs/spe/lib/python3.11/site-packages/sklearn/model_selection/_validation.py:73: FutureWarning:\n",
      "\n",
      "`fit_params` is deprecated and will be removed in version 1.6. Pass parameters via `params` instead.\n",
      "\n",
      "/Users/kevinfry/opt/anaconda3/envs/spe/lib/python3.11/site-packages/sklearn/model_selection/_validation.py:73: FutureWarning:\n",
      "\n",
      "`fit_params` is deprecated and will be removed in version 1.6. Pass parameters via `params` instead.\n",
      "\n",
      " 94%|█████████▍| 94/100 [00:23<00:01,  3.96it/s]/Users/kevinfry/opt/anaconda3/envs/spe/lib/python3.11/site-packages/sklearn/model_selection/_validation.py:73: FutureWarning:\n",
      "\n",
      "`fit_params` is deprecated and will be removed in version 1.6. Pass parameters via `params` instead.\n",
      "\n",
      "/Users/kevinfry/opt/anaconda3/envs/spe/lib/python3.11/site-packages/sklearn/model_selection/_validation.py:73: FutureWarning:\n",
      "\n",
      "`fit_params` is deprecated and will be removed in version 1.6. Pass parameters via `params` instead.\n",
      "\n",
      " 95%|█████████▌| 95/100 [00:23<00:01,  4.17it/s]/Users/kevinfry/opt/anaconda3/envs/spe/lib/python3.11/site-packages/sklearn/model_selection/_validation.py:73: FutureWarning:\n",
      "\n",
      "`fit_params` is deprecated and will be removed in version 1.6. Pass parameters via `params` instead.\n",
      "\n",
      "/Users/kevinfry/opt/anaconda3/envs/spe/lib/python3.11/site-packages/sklearn/model_selection/_validation.py:73: FutureWarning:\n",
      "\n",
      "`fit_params` is deprecated and will be removed in version 1.6. Pass parameters via `params` instead.\n",
      "\n",
      " 96%|█████████▌| 96/100 [00:24<00:00,  4.25it/s]/Users/kevinfry/opt/anaconda3/envs/spe/lib/python3.11/site-packages/sklearn/model_selection/_validation.py:73: FutureWarning:\n",
      "\n",
      "`fit_params` is deprecated and will be removed in version 1.6. Pass parameters via `params` instead.\n",
      "\n",
      "/Users/kevinfry/opt/anaconda3/envs/spe/lib/python3.11/site-packages/sklearn/model_selection/_validation.py:73: FutureWarning:\n",
      "\n",
      "`fit_params` is deprecated and will be removed in version 1.6. Pass parameters via `params` instead.\n",
      "\n",
      " 97%|█████████▋| 97/100 [00:24<00:00,  3.84it/s]/Users/kevinfry/opt/anaconda3/envs/spe/lib/python3.11/site-packages/sklearn/model_selection/_validation.py:73: FutureWarning:\n",
      "\n",
      "`fit_params` is deprecated and will be removed in version 1.6. Pass parameters via `params` instead.\n",
      "\n",
      "/Users/kevinfry/opt/anaconda3/envs/spe/lib/python3.11/site-packages/sklearn/model_selection/_validation.py:73: FutureWarning:\n",
      "\n",
      "`fit_params` is deprecated and will be removed in version 1.6. Pass parameters via `params` instead.\n",
      "\n",
      " 98%|█████████▊| 98/100 [00:24<00:00,  3.46it/s]/Users/kevinfry/opt/anaconda3/envs/spe/lib/python3.11/site-packages/sklearn/model_selection/_validation.py:73: FutureWarning:\n",
      "\n",
      "`fit_params` is deprecated and will be removed in version 1.6. Pass parameters via `params` instead.\n",
      "\n",
      "/Users/kevinfry/opt/anaconda3/envs/spe/lib/python3.11/site-packages/sklearn/model_selection/_validation.py:73: FutureWarning:\n",
      "\n",
      "`fit_params` is deprecated and will be removed in version 1.6. Pass parameters via `params` instead.\n",
      "\n",
      " 99%|█████████▉| 99/100 [00:25<00:00,  3.45it/s]/Users/kevinfry/opt/anaconda3/envs/spe/lib/python3.11/site-packages/sklearn/model_selection/_validation.py:73: FutureWarning:\n",
      "\n",
      "`fit_params` is deprecated and will be removed in version 1.6. Pass parameters via `params` instead.\n",
      "\n",
      "/Users/kevinfry/opt/anaconda3/envs/spe/lib/python3.11/site-packages/sklearn/model_selection/_validation.py:73: FutureWarning:\n",
      "\n",
      "`fit_params` is deprecated and will be removed in version 1.6. Pass parameters via `params` instead.\n",
      "\n",
      "100%|██████████| 100/100 [00:25<00:00,  3.93it/s]\n"
     ]
    }
   ],
   "source": [
    "model_errs = []\n",
    "\n",
    "for model in models:\n",
    "    errs = err_cmp.compare(\n",
    "        model,\n",
    "        ests,\n",
    "        est_kwargs,\n",
    "        niter=niter,\n",
    "        n=n,\n",
    "        p=p,\n",
    "        s=s,\n",
    "        snr=snr, \n",
    "        X=X,\n",
    "        beta=beta,\n",
    "        coord=coord,\n",
    "        Chol_y=Chol_y,\n",
    "        Chol_ystar=Chol_y,\n",
    "        Cov_y_ystar=Cov_y_ystar,\n",
    "        tr_idx=tr_idx,\n",
    "        fair=False,\n",
    "        est_sigma=False,\n",
    "    )\n",
    "    model_errs.append(errs)"
   ]
  },
  {
   "cell_type": "code",
   "execution_count": 12,
   "metadata": {},
   "outputs": [
    {
     "data": {
      "application/vnd.plotly.v1+json": {
       "config": {
        "plotlyServerURL": "https://plot.ly"
       },
       "data": [
        {
         "marker": {
          "color": [
           "rgb(127, 60, 141)",
           "rgb(17, 165, 121)",
           "rgb(57, 105, 172)",
           "rgb(242, 183, 1)",
           "rgb(231, 63, 116)",
           "rgb(128, 186, 90)",
           "rgb(230, 131, 16)",
           "rgb(0, 134, 149)",
           "rgb(207, 28, 144)",
           "rgb(249, 123, 114)",
           "rgb(165, 170, 153)"
          ]
         },
         "text": [
          1.01,
          1.098,
          1.546
         ],
         "textposition": "outside",
         "type": "bar",
         "x": [
          "GenCp",
          "KFCV",
          "SPCV"
         ],
         "xaxis": "x",
         "y": [
          1.00958936749813,
          1.0979055531529018,
          1.546466859295137
         ],
         "yaxis": "y"
        },
        {
         "marker": {
          "color": [
           "rgb(127, 60, 141)",
           "rgb(17, 165, 121)",
           "rgb(57, 105, 172)",
           "rgb(242, 183, 1)",
           "rgb(231, 63, 116)",
           "rgb(128, 186, 90)",
           "rgb(230, 131, 16)",
           "rgb(0, 134, 149)",
           "rgb(207, 28, 144)",
           "rgb(249, 123, 114)",
           "rgb(165, 170, 153)"
          ]
         },
         "text": [
          1.004,
          2.196,
          159.9
         ],
         "textposition": "outside",
         "type": "bar",
         "x": [
          "GenCp",
          "KFCV",
          "SPCV"
         ],
         "xaxis": "x2",
         "y": [
          1.004465083323096,
          2.1964842373829776,
          159.89985959620054
         ],
         "yaxis": "y2"
        }
       ],
       "layout": {
        "annotations": [
         {
          "font": {
           "size": 16
          },
          "showarrow": false,
          "text": "Linear Regression",
          "x": 0.225,
          "xanchor": "center",
          "xref": "paper",
          "y": 1,
          "yanchor": "bottom",
          "yref": "paper"
         },
         {
          "font": {
           "size": 16
          },
          "showarrow": false,
          "text": "Spline Regression",
          "x": 0.775,
          "xanchor": "center",
          "xref": "paper",
          "y": 1,
          "yanchor": "bottom",
          "yref": "paper"
         }
        ],
        "shapes": [
         {
          "line": {
           "color": "red"
          },
          "type": "line",
          "x0": 0,
          "x1": 1,
          "xref": "x domain",
          "y0": 1,
          "y1": 1,
          "yref": "y"
         },
         {
          "line": {
           "color": "red"
          },
          "type": "line",
          "x0": 0,
          "x1": 1,
          "xref": "x2 domain",
          "y0": 1,
          "y1": 1,
          "yref": "y2"
         }
        ],
        "showlegend": false,
        "template": {
         "data": {
          "bar": [
           {
            "error_x": {
             "color": "#2a3f5f"
            },
            "error_y": {
             "color": "#2a3f5f"
            },
            "marker": {
             "line": {
              "color": "#E5ECF6",
              "width": 0.5
             },
             "pattern": {
              "fillmode": "overlay",
              "size": 10,
              "solidity": 0.2
             }
            },
            "type": "bar"
           }
          ],
          "barpolar": [
           {
            "marker": {
             "line": {
              "color": "#E5ECF6",
              "width": 0.5
             },
             "pattern": {
              "fillmode": "overlay",
              "size": 10,
              "solidity": 0.2
             }
            },
            "type": "barpolar"
           }
          ],
          "carpet": [
           {
            "aaxis": {
             "endlinecolor": "#2a3f5f",
             "gridcolor": "white",
             "linecolor": "white",
             "minorgridcolor": "white",
             "startlinecolor": "#2a3f5f"
            },
            "baxis": {
             "endlinecolor": "#2a3f5f",
             "gridcolor": "white",
             "linecolor": "white",
             "minorgridcolor": "white",
             "startlinecolor": "#2a3f5f"
            },
            "type": "carpet"
           }
          ],
          "choropleth": [
           {
            "colorbar": {
             "outlinewidth": 0,
             "ticks": ""
            },
            "type": "choropleth"
           }
          ],
          "contour": [
           {
            "colorbar": {
             "outlinewidth": 0,
             "ticks": ""
            },
            "colorscale": [
             [
              0,
              "#0d0887"
             ],
             [
              0.1111111111111111,
              "#46039f"
             ],
             [
              0.2222222222222222,
              "#7201a8"
             ],
             [
              0.3333333333333333,
              "#9c179e"
             ],
             [
              0.4444444444444444,
              "#bd3786"
             ],
             [
              0.5555555555555556,
              "#d8576b"
             ],
             [
              0.6666666666666666,
              "#ed7953"
             ],
             [
              0.7777777777777778,
              "#fb9f3a"
             ],
             [
              0.8888888888888888,
              "#fdca26"
             ],
             [
              1,
              "#f0f921"
             ]
            ],
            "type": "contour"
           }
          ],
          "contourcarpet": [
           {
            "colorbar": {
             "outlinewidth": 0,
             "ticks": ""
            },
            "type": "contourcarpet"
           }
          ],
          "heatmap": [
           {
            "colorbar": {
             "outlinewidth": 0,
             "ticks": ""
            },
            "colorscale": [
             [
              0,
              "#0d0887"
             ],
             [
              0.1111111111111111,
              "#46039f"
             ],
             [
              0.2222222222222222,
              "#7201a8"
             ],
             [
              0.3333333333333333,
              "#9c179e"
             ],
             [
              0.4444444444444444,
              "#bd3786"
             ],
             [
              0.5555555555555556,
              "#d8576b"
             ],
             [
              0.6666666666666666,
              "#ed7953"
             ],
             [
              0.7777777777777778,
              "#fb9f3a"
             ],
             [
              0.8888888888888888,
              "#fdca26"
             ],
             [
              1,
              "#f0f921"
             ]
            ],
            "type": "heatmap"
           }
          ],
          "heatmapgl": [
           {
            "colorbar": {
             "outlinewidth": 0,
             "ticks": ""
            },
            "colorscale": [
             [
              0,
              "#0d0887"
             ],
             [
              0.1111111111111111,
              "#46039f"
             ],
             [
              0.2222222222222222,
              "#7201a8"
             ],
             [
              0.3333333333333333,
              "#9c179e"
             ],
             [
              0.4444444444444444,
              "#bd3786"
             ],
             [
              0.5555555555555556,
              "#d8576b"
             ],
             [
              0.6666666666666666,
              "#ed7953"
             ],
             [
              0.7777777777777778,
              "#fb9f3a"
             ],
             [
              0.8888888888888888,
              "#fdca26"
             ],
             [
              1,
              "#f0f921"
             ]
            ],
            "type": "heatmapgl"
           }
          ],
          "histogram": [
           {
            "marker": {
             "pattern": {
              "fillmode": "overlay",
              "size": 10,
              "solidity": 0.2
             }
            },
            "type": "histogram"
           }
          ],
          "histogram2d": [
           {
            "colorbar": {
             "outlinewidth": 0,
             "ticks": ""
            },
            "colorscale": [
             [
              0,
              "#0d0887"
             ],
             [
              0.1111111111111111,
              "#46039f"
             ],
             [
              0.2222222222222222,
              "#7201a8"
             ],
             [
              0.3333333333333333,
              "#9c179e"
             ],
             [
              0.4444444444444444,
              "#bd3786"
             ],
             [
              0.5555555555555556,
              "#d8576b"
             ],
             [
              0.6666666666666666,
              "#ed7953"
             ],
             [
              0.7777777777777778,
              "#fb9f3a"
             ],
             [
              0.8888888888888888,
              "#fdca26"
             ],
             [
              1,
              "#f0f921"
             ]
            ],
            "type": "histogram2d"
           }
          ],
          "histogram2dcontour": [
           {
            "colorbar": {
             "outlinewidth": 0,
             "ticks": ""
            },
            "colorscale": [
             [
              0,
              "#0d0887"
             ],
             [
              0.1111111111111111,
              "#46039f"
             ],
             [
              0.2222222222222222,
              "#7201a8"
             ],
             [
              0.3333333333333333,
              "#9c179e"
             ],
             [
              0.4444444444444444,
              "#bd3786"
             ],
             [
              0.5555555555555556,
              "#d8576b"
             ],
             [
              0.6666666666666666,
              "#ed7953"
             ],
             [
              0.7777777777777778,
              "#fb9f3a"
             ],
             [
              0.8888888888888888,
              "#fdca26"
             ],
             [
              1,
              "#f0f921"
             ]
            ],
            "type": "histogram2dcontour"
           }
          ],
          "mesh3d": [
           {
            "colorbar": {
             "outlinewidth": 0,
             "ticks": ""
            },
            "type": "mesh3d"
           }
          ],
          "parcoords": [
           {
            "line": {
             "colorbar": {
              "outlinewidth": 0,
              "ticks": ""
             }
            },
            "type": "parcoords"
           }
          ],
          "pie": [
           {
            "automargin": true,
            "type": "pie"
           }
          ],
          "scatter": [
           {
            "fillpattern": {
             "fillmode": "overlay",
             "size": 10,
             "solidity": 0.2
            },
            "type": "scatter"
           }
          ],
          "scatter3d": [
           {
            "line": {
             "colorbar": {
              "outlinewidth": 0,
              "ticks": ""
             }
            },
            "marker": {
             "colorbar": {
              "outlinewidth": 0,
              "ticks": ""
             }
            },
            "type": "scatter3d"
           }
          ],
          "scattercarpet": [
           {
            "marker": {
             "colorbar": {
              "outlinewidth": 0,
              "ticks": ""
             }
            },
            "type": "scattercarpet"
           }
          ],
          "scattergeo": [
           {
            "marker": {
             "colorbar": {
              "outlinewidth": 0,
              "ticks": ""
             }
            },
            "type": "scattergeo"
           }
          ],
          "scattergl": [
           {
            "marker": {
             "colorbar": {
              "outlinewidth": 0,
              "ticks": ""
             }
            },
            "type": "scattergl"
           }
          ],
          "scattermapbox": [
           {
            "marker": {
             "colorbar": {
              "outlinewidth": 0,
              "ticks": ""
             }
            },
            "type": "scattermapbox"
           }
          ],
          "scatterpolar": [
           {
            "marker": {
             "colorbar": {
              "outlinewidth": 0,
              "ticks": ""
             }
            },
            "type": "scatterpolar"
           }
          ],
          "scatterpolargl": [
           {
            "marker": {
             "colorbar": {
              "outlinewidth": 0,
              "ticks": ""
             }
            },
            "type": "scatterpolargl"
           }
          ],
          "scatterternary": [
           {
            "marker": {
             "colorbar": {
              "outlinewidth": 0,
              "ticks": ""
             }
            },
            "type": "scatterternary"
           }
          ],
          "surface": [
           {
            "colorbar": {
             "outlinewidth": 0,
             "ticks": ""
            },
            "colorscale": [
             [
              0,
              "#0d0887"
             ],
             [
              0.1111111111111111,
              "#46039f"
             ],
             [
              0.2222222222222222,
              "#7201a8"
             ],
             [
              0.3333333333333333,
              "#9c179e"
             ],
             [
              0.4444444444444444,
              "#bd3786"
             ],
             [
              0.5555555555555556,
              "#d8576b"
             ],
             [
              0.6666666666666666,
              "#ed7953"
             ],
             [
              0.7777777777777778,
              "#fb9f3a"
             ],
             [
              0.8888888888888888,
              "#fdca26"
             ],
             [
              1,
              "#f0f921"
             ]
            ],
            "type": "surface"
           }
          ],
          "table": [
           {
            "cells": {
             "fill": {
              "color": "#EBF0F8"
             },
             "line": {
              "color": "white"
             }
            },
            "header": {
             "fill": {
              "color": "#C8D4E3"
             },
             "line": {
              "color": "white"
             }
            },
            "type": "table"
           }
          ]
         },
         "layout": {
          "annotationdefaults": {
           "arrowcolor": "#2a3f5f",
           "arrowhead": 0,
           "arrowwidth": 1
          },
          "autotypenumbers": "strict",
          "coloraxis": {
           "colorbar": {
            "outlinewidth": 0,
            "ticks": ""
           }
          },
          "colorscale": {
           "diverging": [
            [
             0,
             "#8e0152"
            ],
            [
             0.1,
             "#c51b7d"
            ],
            [
             0.2,
             "#de77ae"
            ],
            [
             0.3,
             "#f1b6da"
            ],
            [
             0.4,
             "#fde0ef"
            ],
            [
             0.5,
             "#f7f7f7"
            ],
            [
             0.6,
             "#e6f5d0"
            ],
            [
             0.7,
             "#b8e186"
            ],
            [
             0.8,
             "#7fbc41"
            ],
            [
             0.9,
             "#4d9221"
            ],
            [
             1,
             "#276419"
            ]
           ],
           "sequential": [
            [
             0,
             "#0d0887"
            ],
            [
             0.1111111111111111,
             "#46039f"
            ],
            [
             0.2222222222222222,
             "#7201a8"
            ],
            [
             0.3333333333333333,
             "#9c179e"
            ],
            [
             0.4444444444444444,
             "#bd3786"
            ],
            [
             0.5555555555555556,
             "#d8576b"
            ],
            [
             0.6666666666666666,
             "#ed7953"
            ],
            [
             0.7777777777777778,
             "#fb9f3a"
            ],
            [
             0.8888888888888888,
             "#fdca26"
            ],
            [
             1,
             "#f0f921"
            ]
           ],
           "sequentialminus": [
            [
             0,
             "#0d0887"
            ],
            [
             0.1111111111111111,
             "#46039f"
            ],
            [
             0.2222222222222222,
             "#7201a8"
            ],
            [
             0.3333333333333333,
             "#9c179e"
            ],
            [
             0.4444444444444444,
             "#bd3786"
            ],
            [
             0.5555555555555556,
             "#d8576b"
            ],
            [
             0.6666666666666666,
             "#ed7953"
            ],
            [
             0.7777777777777778,
             "#fb9f3a"
            ],
            [
             0.8888888888888888,
             "#fdca26"
            ],
            [
             1,
             "#f0f921"
            ]
           ]
          },
          "colorway": [
           "#636efa",
           "#EF553B",
           "#00cc96",
           "#ab63fa",
           "#FFA15A",
           "#19d3f3",
           "#FF6692",
           "#B6E880",
           "#FF97FF",
           "#FECB52"
          ],
          "font": {
           "color": "#2a3f5f"
          },
          "geo": {
           "bgcolor": "white",
           "lakecolor": "white",
           "landcolor": "#E5ECF6",
           "showlakes": true,
           "showland": true,
           "subunitcolor": "white"
          },
          "hoverlabel": {
           "align": "left"
          },
          "hovermode": "closest",
          "mapbox": {
           "style": "light"
          },
          "paper_bgcolor": "white",
          "plot_bgcolor": "#E5ECF6",
          "polar": {
           "angularaxis": {
            "gridcolor": "white",
            "linecolor": "white",
            "ticks": ""
           },
           "bgcolor": "#E5ECF6",
           "radialaxis": {
            "gridcolor": "white",
            "linecolor": "white",
            "ticks": ""
           }
          },
          "scene": {
           "xaxis": {
            "backgroundcolor": "#E5ECF6",
            "gridcolor": "white",
            "gridwidth": 2,
            "linecolor": "white",
            "showbackground": true,
            "ticks": "",
            "zerolinecolor": "white"
           },
           "yaxis": {
            "backgroundcolor": "#E5ECF6",
            "gridcolor": "white",
            "gridwidth": 2,
            "linecolor": "white",
            "showbackground": true,
            "ticks": "",
            "zerolinecolor": "white"
           },
           "zaxis": {
            "backgroundcolor": "#E5ECF6",
            "gridcolor": "white",
            "gridwidth": 2,
            "linecolor": "white",
            "showbackground": true,
            "ticks": "",
            "zerolinecolor": "white"
           }
          },
          "shapedefaults": {
           "line": {
            "color": "#2a3f5f"
           }
          },
          "ternary": {
           "aaxis": {
            "gridcolor": "white",
            "linecolor": "white",
            "ticks": ""
           },
           "baxis": {
            "gridcolor": "white",
            "linecolor": "white",
            "ticks": ""
           },
           "bgcolor": "#E5ECF6",
           "caxis": {
            "gridcolor": "white",
            "linecolor": "white",
            "ticks": ""
           }
          },
          "title": {
           "x": 0.05
          },
          "xaxis": {
           "automargin": true,
           "gridcolor": "white",
           "linecolor": "white",
           "ticks": "",
           "title": {
            "standoff": 15
           },
           "zerolinecolor": "white",
           "zerolinewidth": 2
          },
          "yaxis": {
           "automargin": true,
           "gridcolor": "white",
           "linecolor": "white",
           "ticks": "",
           "title": {
            "standoff": 15
           },
           "zerolinecolor": "white",
           "zerolinewidth": 2
          }
         }
        },
        "title": {
         "text": "Linear Smoothers: Shared Structured Noise"
        },
        "xaxis": {
         "anchor": "y",
         "domain": [
          0,
          0.45
         ],
         "title": {
          "text": "Method"
         }
        },
        "xaxis2": {
         "anchor": "y2",
         "domain": [
          0.55,
          1
         ],
         "title": {
          "text": "Method"
         }
        },
        "yaxis": {
         "anchor": "x",
         "domain": [
          0,
          1
         ],
         "title": {
          "text": "Relative MSE"
         }
        },
        "yaxis2": {
         "anchor": "x2",
         "domain": [
          0,
          1
         ]
        }
       }
      }
     },
     "metadata": {},
     "output_type": "display_data"
    }
   ],
   "source": [
    "fig = gen_model_barplots(\n",
    "    model_errs, \n",
    "    model_names, \n",
    "    est_names, \n",
    "    title=\"Linear Smoothers: Shared Structured Noise\"\n",
    ")\n",
    "fig.show()"
   ]
  },
  {
   "cell_type": "code",
   "execution_count": null,
   "metadata": {},
   "outputs": [],
   "source": []
  }
 ],
 "metadata": {
  "celltoolbar": "Tags",
  "kernelspec": {
   "display_name": "spe",
   "language": "python",
   "name": "python3"
  },
  "language_info": {
   "codemirror_mode": {
    "name": "ipython",
    "version": 3
   },
   "file_extension": ".py",
   "mimetype": "text/x-python",
   "name": "python",
   "nbconvert_exporter": "python",
   "pygments_lexer": "ipython3",
   "version": "3.11.7"
  }
 },
 "nbformat": 4,
 "nbformat_minor": 4
}
