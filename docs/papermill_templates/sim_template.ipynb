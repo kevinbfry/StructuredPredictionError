{
 "cells": [
  {
   "cell_type": "code",
   "execution_count": null,
   "metadata": {},
   "outputs": [],
   "source": [
    "import numpy as np\n",
    "from sklearn.gaussian_process.kernels import Matern, RBF\n",
    "\n",
    "import plotly\n",
    "from IPython.display import display, Markdown\n",
    "\n",
    "from docs.mse_estimator import ErrorComparer, gen_X_beta\n",
    "from docs.data_generation import gen_chol_cov, gen_coords, gen_tr_idxs\n",
    "from docs.plotting_utils import gen_model_barplots\n",
    "from docs.sim_utils import *\n",
    "from docs import fitting_models\n",
    "from spe import estimators"
   ]
  },
  {
   "cell_type": "code",
   "execution_count": null,
   "metadata": {},
   "outputs": [],
   "source": [
    "np.random.seed(1)"
   ]
  },
  {
   "cell_type": "code",
   "execution_count": null,
   "metadata": {},
   "outputs": [],
   "source": [
    "n = sqrt_n**2\n",
    "try:\n",
    "    est_strs\n",
    "except:\n",
    "    est_strs = get_est_array(spe_est_str_list)\n",
    "    \n",
    "model_md_str = get_model_md_str(spe_est_str)\n",
    "try:\n",
    "    fig_name_prefix\n",
    "except:\n",
    "    fig_name_prefix = model_md_str\n",
    "est_md_str = get_est_md_str(spe_est_str)\n",
    "models = [getattr(fitting_models, m)(**kwargs) for m,kwargs in zip(model_names, model_kwargs)]\n",
    "ests = [getattr(estimators, e) for e in est_strs]\n"
   ]
  },
  {
   "cell_type": "code",
   "execution_count": null,
   "metadata": {},
   "outputs": [
    {
     "data": {
      "text/markdown": [
       "\n",
       "# Arbitrary Models\n",
       "Here we demonstrate the effectiveness of ```spe.estimators.cp_arbitrary``` to estimate MSE on simulated data.\n"
      ],
      "text/plain": [
       "<IPython.core.display.Markdown object>"
      ]
     },
     "metadata": {},
     "output_type": "display_data"
    }
   ],
   "source": [
    "try:\n",
    "    markdown_str = eval(f'f\"\"\"{markdown_str}\"\"\"')\n",
    "except:\n",
    "    markdown_str = f\"\"\"# {model_md_str} Models\\n Here we demonstrate the effectiveness of ```{est_md_str}``` to estimate MSE on simulated data.\"\"\"\n",
    "    \n",
    "display(Markdown(markdown_str))"
   ]
  },
  {
   "cell_type": "code",
   "execution_count": null,
   "metadata": {},
   "outputs": [],
   "source": [
    "err_cmp = ErrorComparer()"
   ]
  },
  {
   "cell_type": "code",
   "execution_count": null,
   "metadata": {},
   "outputs": [],
   "source": [
    "coord = gen_coords(sqrt_n, gsize)\n",
    "c_x = coord[:,0]\n",
    "c_y = coord[:,1]"
   ]
  },
  {
   "cell_type": "code",
   "execution_count": null,
   "metadata": {},
   "outputs": [],
   "source": [
    "Chol_y, Cov_y_ystar = gen_chol_cov(delta, c_x, c_y, noise_kernel, noise_length_scale, noise_nu)"
   ]
  },
  {
   "cell_type": "code",
   "execution_count": null,
   "metadata": {},
   "outputs": [],
   "source": [
    "X, beta = gen_X_beta(n, p, s, x_kernel, c_x, c_y, x_length_scale, x_nu)"
   ]
  },
  {
   "cell_type": "code",
   "execution_count": null,
   "metadata": {},
   "outputs": [],
   "source": [
    "tr_idx = gen_tr_idxs(n, tr_frac, use_spatial_split)"
   ]
  },
  {
   "attachments": {},
   "cell_type": "markdown",
   "metadata": {},
   "source": [
    "## Simulate $Y, Y^* \\overset{iid}{\\sim} \\mathcal{N}(\\mu, \\Sigma_Y)$"
   ]
  },
  {
   "cell_type": "code",
   "execution_count": null,
   "metadata": {
    "scrolled": true
   },
   "outputs": [],
   "source": [
    "model_errs = []\n",
    "\n",
    "for model in models:\n",
    "    errs = err_cmp.compare(\n",
    "        model,\n",
    "        ests,\n",
    "        est_kwargs,\n",
    "        niter=niter,\n",
    "        n=n,\n",
    "        p=p,\n",
    "        s=s,\n",
    "        snr=snr, \n",
    "        X=X,\n",
    "        beta=beta,\n",
    "        coord=coord,\n",
    "        Chol_y=Chol_y,\n",
    "        Chol_ystar=None,\n",
    "        Cov_y_ystar=None,\n",
    "        tr_idx=tr_idx,\n",
    "        fair=fair,\n",
    "        est_sigma=est_sigma,\n",
    "        friedman_mu=friedman_mu,\n",
    "    )\n",
    "    model_errs.append(errs)"
   ]
  },
  {
   "cell_type": "code",
   "execution_count": null,
   "metadata": {},
   "outputs": [],
   "source": [
    "plotly.offline.init_notebook_mode()\n",
    "fig = gen_model_barplots(\n",
    "    model_errs, \n",
    "    model_names, \n",
    "    est_names, \n",
    "    title=f\"{fig_name_prefix} Models: NSN\", \n",
    "    has_elev_err=has_elev_err,\n",
    "    err_bars=True,\n",
    "    color_discrete_sequence=colors,\n",
    "    fig_name=f\"{fig_name_prefix.lower()}_ind\",\n",
    ")\n",
    "fig.show()"
   ]
  },
  {
   "attachments": {},
   "cell_type": "markdown",
   "metadata": {},
   "source": [
    "## Simulate $\\begin{pmatrix} Y \\\\ Y^* \\end{pmatrix} \\sim \\mathcal{N}\\left(\\begin{pmatrix} \\mu \\\\ \\mu \\end{pmatrix}, \\begin{pmatrix}\\Sigma_Y & \\Sigma_{Y, Y^*} \\\\ \\Sigma_{Y^*, Y} & \\Sigma_{Y}  \\end{pmatrix}\\right)$"
   ]
  },
  {
   "cell_type": "code",
   "execution_count": null,
   "metadata": {},
   "outputs": [],
   "source": [
    "corr_model_errs = []\n",
    "\n",
    "for model in models:\n",
    "    errs = err_cmp.compare(\n",
    "        model,\n",
    "        ests,\n",
    "        est_kwargs,\n",
    "        niter=niter,\n",
    "        n=n,\n",
    "        p=p,\n",
    "        s=s,\n",
    "        snr=snr,\n",
    "        X=X,\n",
    "        beta=beta,\n",
    "        coord=coord,\n",
    "        Chol_y=Chol_y,\n",
    "        Chol_ystar=None,\n",
    "        Cov_y_ystar=Cov_y_ystar,\n",
    "        tr_idx=tr_idx,\n",
    "        fair=fair,\n",
    "        est_sigma=est_sigma,\n",
    "        friedman_mu=friedman_mu,\n",
    "    )\n",
    "    corr_model_errs.append(errs)"
   ]
  },
  {
   "cell_type": "code",
   "execution_count": null,
   "metadata": {},
   "outputs": [],
   "source": [
    "corr_fig = gen_model_barplots(\n",
    "    corr_model_errs, \n",
    "    model_names, \n",
    "    est_names, \n",
    "    title=f\"{fig_name_prefix} Models: SSN\", \n",
    "    has_elev_err=has_elev_err,\n",
    "    err_bars=True,\n",
    "    color_discrete_sequence=colors,\n",
    "    fig_name=f\"{fig_name_prefix.lower()}_corr\",\n",
    ")\n",
    "corr_fig.show()"
   ]
  },
  {
   "cell_type": "code",
   "execution_count": null,
   "metadata": {},
   "outputs": [],
   "source": []
  }
 ],
 "metadata": {
  "celltoolbar": "Tags",
  "kernelspec": {
   "display_name": "spe",
   "language": "python",
   "name": "python3"
  },
  "language_info": {
   "codemirror_mode": {
    "name": "ipython",
    "version": 3
   },
   "file_extension": ".py",
   "mimetype": "text/x-python",
   "name": "python",
   "nbconvert_exporter": "python",
   "pygments_lexer": "ipython3",
   "version": "3.11.7"
  }
 },
 "nbformat": 4,
 "nbformat_minor": 4
}
