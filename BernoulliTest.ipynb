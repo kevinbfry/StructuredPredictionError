{
 "cells": [
  {
   "cell_type": "code",
   "execution_count": 1,
   "id": "8fd3f5dd",
   "metadata": {},
   "outputs": [],
   "source": [
    "import numpy as np\n",
    "import pandas as pd\n",
    "\n",
    "from scipy.stats import bernoulli\n",
    "\n",
    "from sklearn.linear_model import LogisticRegression\n",
    "\n",
    "import matplotlib.pyplot as plt"
   ]
  },
  {
   "cell_type": "code",
   "execution_count": 2,
   "id": "153ff0de",
   "metadata": {},
   "outputs": [],
   "source": [
    "def loglik(theta, X, y):\n",
    "    return np.mean(bernoulli.logpmf(y, mu=X.dot(theta)))"
   ]
  },
  {
   "cell_type": "code",
   "execution_count": 3,
   "id": "7633adc6",
   "metadata": {},
   "outputs": [],
   "source": [
    "def grad_loglik(theta, X, y):\n",
    "#     n = y.shape[0]\n",
    "    mu = 1./(1 + np.exp(-X.dot(theta)))\n",
    "    return np.mean(X.T.dot(y - mu))"
   ]
  },
  {
   "cell_type": "code",
   "execution_count": 4,
   "id": "8fdc5510",
   "metadata": {},
   "outputs": [],
   "source": [
    "def hess_loglik(theta, X):\n",
    "    mu = 1./(1 + np.exp(-X.dot(theta)))\n",
    "    D = np.diag(mu*(1-mu))\n",
    "    return X.T.dot(D.dot(X))"
   ]
  },
  {
   "cell_type": "markdown",
   "id": "f0ef66c9",
   "metadata": {},
   "source": [
    "If we're doing predictive deviance reltaive to $\\beta^*$, the relevant term we need to estimate is approximately just $p$.\n",
    "\n",
    "If its relative to $\\beta_{full}$ when we're doing some kind of selection, should be $tr(I - S)$??"
   ]
  },
  {
   "cell_type": "code",
   "execution_count": 54,
   "id": "7442431c",
   "metadata": {},
   "outputs": [],
   "source": [
    "def mc_sim_term_star(theta, n=5000, niter=200):\n",
    "    p = len(theta)\n",
    "    ests = np.zeros(niter)\n",
    "    \n",
    "    for i in np.arange(niter):\n",
    "        X = np.random.randn(n,p)\n",
    "        mu = 1/(1 + np.exp(-X.dot(theta)))\n",
    "        y = bernoulli.rvs(mu)\n",
    "        y_star = bernoulli.rvs(mu)\n",
    "        \n",
    "        m = LogisticRegression(fit_intercept=False, penalty='none')\n",
    "        m.fit(X,y)\n",
    "        beta_hat = m.coef_\n",
    "        \n",
    "        a = beta_hat - theta\n",
    "        b = X.T.dot(y_star - y)\n",
    "        \n",
    "        ests[i] = a.dot(b)\n",
    "        \n",
    "    return ests.mean()\n",
    "    "
   ]
  },
  {
   "cell_type": "code",
   "execution_count": 55,
   "id": "316dfc86",
   "metadata": {},
   "outputs": [
    {
     "data": {
      "text/plain": [
       "20"
      ]
     },
     "execution_count": 55,
     "metadata": {},
     "output_type": "execute_result"
    }
   ],
   "source": [
    "p = 20\n",
    "beta_0 = np.random.randn(p)\n",
    "len(beta_0)"
   ]
  },
  {
   "cell_type": "code",
   "execution_count": 56,
   "id": "4a3baa9f",
   "metadata": {},
   "outputs": [],
   "source": [
    "est = mc_sim_term_star(beta_0)"
   ]
  },
  {
   "cell_type": "code",
   "execution_count": 57,
   "id": "4153dfc6",
   "metadata": {},
   "outputs": [
    {
     "data": {
      "text/plain": [
       "-20.59966633147342"
      ]
     },
     "execution_count": 57,
     "metadata": {},
     "output_type": "execute_result"
    }
   ],
   "source": [
    "est"
   ]
  },
  {
   "cell_type": "code",
   "execution_count": 17,
   "id": "1b6611d1",
   "metadata": {},
   "outputs": [],
   "source": [
    "def est_dev_term_lasso(theta, n=5000, niter=200):\n",
    "    p = len(theta)\n",
    "    \n",
    "    mc_ests = np.zeros(niter)\n",
    "    math_ests = np.zeros(niter)\n",
    "    s = np.zeros(niter)\n",
    "    \n",
    "    for i in np.arange(niter):\n",
    "        X = np.random.randn(n,p)\n",
    "        mu = 1/(1 + np.exp(-X.dot(theta)))\n",
    "        y = bernoulli.rvs(mu)\n",
    "        y_star = bernoulli.rvs(mu)\n",
    "        \n",
    "        fm = LogisticRegression(fit_intercept=False, penalty='none')\n",
    "        fm.fit(X,y)\n",
    "        beta_full = fm.coef_[0]\n",
    "        \n",
    "        sm = LogisticRegression(fit_intercept=False, penalty='l1', solver='liblinear', C=.1)\n",
    "        sm.fit(X,y)\n",
    "        beta_sel = sm.coef_[0]\n",
    "        \n",
    "        a = beta_full - beta_sel\n",
    "        b = X.T.dot(y_star - y)\n",
    "        \n",
    "        E = beta_sel != 0\n",
    "        XE = X[:, E]\n",
    "        SE = np.diag(E)[E,:]\n",
    "        W = np.diag(1./(1 + np.exp(-X.dot(beta_sel))))\n",
    "        HE = np.linalg.inv(XE.T.dot(W.dot(XE))).dot(SE).dot(np.linalg.inv(X.T.dot(W.dot(X))).dot(beta_full))\n",
    "        math_ests[i] = np.sum(np.diag(HE)) - p\n",
    "        \n",
    "        s[i] = E.sum() - p\n",
    "        \n",
    "        mc_ests[i] = a.dot(b)\n",
    "        \n",
    "    return mc_ests.mean(), math_ests.mean(), s.mean()\n",
    "    "
   ]
  },
  {
   "cell_type": "code",
   "execution_count": 18,
   "id": "048cafd7",
   "metadata": {},
   "outputs": [
    {
     "data": {
      "text/plain": [
       "20"
      ]
     },
     "execution_count": 18,
     "metadata": {},
     "output_type": "execute_result"
    }
   ],
   "source": [
    "p = 20\n",
    "beta_0 = np.random.randn(p)\n",
    "beta_0[np.random.choice(p,int(3*p/4),replace=False)] = 0\n",
    "len(beta_0)"
   ]
  },
  {
   "cell_type": "code",
   "execution_count": 19,
   "id": "019a94f4",
   "metadata": {},
   "outputs": [],
   "source": [
    "mc_est_lasso, math_est_lasso, s_est_lasso = est_dev_term_lasso(beta_0)"
   ]
  },
  {
   "cell_type": "code",
   "execution_count": 20,
   "id": "283fb942",
   "metadata": {},
   "outputs": [
    {
     "data": {
      "text/plain": [
       "-4.563374027671653"
      ]
     },
     "execution_count": 20,
     "metadata": {},
     "output_type": "execute_result"
    }
   ],
   "source": [
    "mc_est_lasso"
   ]
  },
  {
   "cell_type": "code",
   "execution_count": 21,
   "id": "e63d905d",
   "metadata": {},
   "outputs": [
    {
     "data": {
      "text/plain": [
       "-20.000000032481175"
      ]
     },
     "execution_count": 21,
     "metadata": {},
     "output_type": "execute_result"
    }
   ],
   "source": [
    "math_est_lasso"
   ]
  },
  {
   "cell_type": "code",
   "execution_count": 22,
   "id": "662f3505",
   "metadata": {},
   "outputs": [
    {
     "data": {
      "text/plain": [
       "-4.12"
      ]
     },
     "execution_count": 22,
     "metadata": {},
     "output_type": "execute_result"
    }
   ],
   "source": [
    "s_est_lasso"
   ]
  },
  {
   "cell_type": "code",
   "execution_count": null,
   "id": "352bcb6e",
   "metadata": {},
   "outputs": [],
   "source": []
  },
  {
   "cell_type": "code",
   "execution_count": 75,
   "id": "a2662fea",
   "metadata": {},
   "outputs": [],
   "source": [
    "def est_dev_term_rl(theta, n=5000, niter=200):\n",
    "    p = len(theta)\n",
    "    \n",
    "    mc_ests = np.zeros(niter)\n",
    "    math_ests = np.zeros(niter)\n",
    "    s = np.zeros(niter)\n",
    "    \n",
    "    for i in np.arange(niter):\n",
    "        X = np.random.randn(n,p)\n",
    "        mu = 1/(1 + np.exp(-X.dot(theta)))\n",
    "        y = bernoulli.rvs(mu)\n",
    "        y_star = bernoulli.rvs(mu)\n",
    "        \n",
    "        fm = LogisticRegression(fit_intercept=False, penalty='none')\n",
    "        fm.fit(X,y)\n",
    "        beta_full = fm.coef_[0]\n",
    "#         W_full = np.diag(1./(1 + np.exp(-X.dot(beta_full))))\n",
    "        \n",
    "        sm = LogisticRegression(fit_intercept=False, penalty='l1', solver='liblinear', C=.1)\n",
    "        sm.fit(X,y)\n",
    "        beta_sel = sm.coef_[0]\n",
    "        \n",
    "        E = beta_sel != 0\n",
    "#         E = np.ones(p).astype(int)\n",
    "#         E[np.random.choice(p, int(3*p/4),replace=False)] = 0\n",
    "#         E = theta != 0\n",
    "#         add_idx = np.where(theta == 0)[0]\n",
    "#         E[np.random.choice(add_idx,3,replace=False)] = True\n",
    "        XE = X[:, E]\n",
    "        s[i] = E.sum()\n",
    "\n",
    "        rm = LogisticRegression(fit_intercept=False, penalty='none')\n",
    "        rm.fit(XE, y)\n",
    "        beta_rl = np.zeros_like(beta_full)\n",
    "        beta_rl[E] = rm.coef_[0]\n",
    "        \n",
    "        a = beta_full - beta_rl\n",
    "        b = X.T.dot(y_star - y)\n",
    "        mc_ests[i] = a.dot(b)\n",
    "        \n",
    "#         SE = np.diag(E)[E,:]\n",
    "#         W_rl = np.diag(1./(1 + np.exp(-X.dot(beta_rl))))\n",
    "#         HE = np.linalg.inv(XE.T.dot(W_rl.dot(XE))).dot(SE).dot(np.linalg.inv(X.T.dot(W_full.dot(X))).dot(beta_full)) / np.diag(W_full) * np.diag(W_rl)\n",
    "#         math_ests[i] = np.sum(np.diag(HE)) - p\n",
    "                \n",
    "    return mc_ests.mean(), math_ests.mean(), s.mean()\n",
    "    "
   ]
  },
  {
   "cell_type": "code",
   "execution_count": 76,
   "id": "a53712c6",
   "metadata": {},
   "outputs": [
    {
     "data": {
      "text/plain": [
       "(20, 5)"
      ]
     },
     "execution_count": 76,
     "metadata": {},
     "output_type": "execute_result"
    }
   ],
   "source": [
    "p = 20\n",
    "beta_0 = np.random.randn(p)\n",
    "beta_0[np.random.choice(p,int(3*p/4),replace=False)] = 0\n",
    "len(beta_0), (beta_0 != 0).sum()"
   ]
  },
  {
   "cell_type": "code",
   "execution_count": 77,
   "id": "dc60cc59",
   "metadata": {},
   "outputs": [],
   "source": [
    "mc_est_rl, math_est_rl, s_rl = est_dev_term_rl(beta_0)"
   ]
  },
  {
   "cell_type": "code",
   "execution_count": 78,
   "id": "59d6da9c",
   "metadata": {},
   "outputs": [
    {
     "data": {
      "text/plain": [
       "-0.1538609084019507"
      ]
     },
     "execution_count": 78,
     "metadata": {},
     "output_type": "execute_result"
    }
   ],
   "source": [
    "mc_est_rl"
   ]
  },
  {
   "cell_type": "code",
   "execution_count": 79,
   "id": "441ad4f9",
   "metadata": {},
   "outputs": [
    {
     "data": {
      "text/plain": [
       "15.885"
      ]
     },
     "execution_count": 79,
     "metadata": {},
     "output_type": "execute_result"
    }
   ],
   "source": [
    "s_rl"
   ]
  },
  {
   "cell_type": "code",
   "execution_count": null,
   "id": "76623498",
   "metadata": {},
   "outputs": [],
   "source": []
  },
  {
   "cell_type": "code",
   "execution_count": null,
   "id": "b34d6e66",
   "metadata": {},
   "outputs": [],
   "source": []
  },
  {
   "cell_type": "code",
   "execution_count": null,
   "id": "5ab593f9",
   "metadata": {},
   "outputs": [],
   "source": []
  },
  {
   "cell_type": "code",
   "execution_count": 73,
   "id": "f3aedf65",
   "metadata": {},
   "outputs": [
    {
     "data": {
      "text/plain": [
       "-11.684117589769489"
      ]
     },
     "execution_count": 73,
     "metadata": {},
     "output_type": "execute_result"
    }
   ],
   "source": [
    "mc_est_rl"
   ]
  },
  {
   "cell_type": "code",
   "execution_count": 74,
   "id": "668b6e64",
   "metadata": {},
   "outputs": [
    {
     "data": {
      "text/plain": [
       "8.0"
      ]
     },
     "execution_count": 74,
     "metadata": {},
     "output_type": "execute_result"
    }
   ],
   "source": [
    "s_rl"
   ]
  },
  {
   "cell_type": "code",
   "execution_count": null,
   "id": "eab9bf6b",
   "metadata": {},
   "outputs": [],
   "source": []
  },
  {
   "cell_type": "code",
   "execution_count": null,
   "id": "b3807a13",
   "metadata": {},
   "outputs": [],
   "source": []
  },
  {
   "cell_type": "code",
   "execution_count": null,
   "id": "4b0b7827",
   "metadata": {},
   "outputs": [],
   "source": []
  },
  {
   "cell_type": "code",
   "execution_count": 61,
   "id": "b80c3551",
   "metadata": {},
   "outputs": [
    {
     "data": {
      "text/plain": [
       "-14.538643519431188"
      ]
     },
     "execution_count": 61,
     "metadata": {},
     "output_type": "execute_result"
    }
   ],
   "source": [
    "mc_est_rl"
   ]
  },
  {
   "cell_type": "code",
   "execution_count": 62,
   "id": "7f533207",
   "metadata": {},
   "outputs": [
    {
     "data": {
      "text/plain": [
       "5.0"
      ]
     },
     "execution_count": 62,
     "metadata": {},
     "output_type": "execute_result"
    }
   ],
   "source": [
    "s_rl"
   ]
  },
  {
   "cell_type": "markdown",
   "id": "ac2935a3",
   "metadata": {},
   "source": [
    "Seems to be true for properly specificed $E$, i.e. correction is $\\mathrm{tr}(I-S)$"
   ]
  },
  {
   "cell_type": "code",
   "execution_count": 66,
   "id": "dd11ef8a",
   "metadata": {},
   "outputs": [
    {
     "data": {
      "text/plain": [
       "(700, 175)"
      ]
     },
     "execution_count": 66,
     "metadata": {},
     "output_type": "execute_result"
    }
   ],
   "source": [
    "p = 700\n",
    "beta_0 = np.random.randn(p)\n",
    "beta_0[np.random.choice(p,int(3*p/4),replace=False)] = 0\n",
    "len(beta_0), (beta_0 != 0).sum()"
   ]
  },
  {
   "cell_type": "code",
   "execution_count": 67,
   "id": "b5539834",
   "metadata": {},
   "outputs": [],
   "source": [
    "mc_est_rl, math_est_rl, s_rl = est_dev_term_rl(beta_0)"
   ]
  },
  {
   "cell_type": "code",
   "execution_count": 68,
   "id": "8597f45a",
   "metadata": {},
   "outputs": [
    {
     "data": {
      "text/plain": [
       "-9619.843287457727"
      ]
     },
     "execution_count": 68,
     "metadata": {},
     "output_type": "execute_result"
    }
   ],
   "source": [
    "mc_est_rl"
   ]
  },
  {
   "cell_type": "code",
   "execution_count": 69,
   "id": "b6dd0f69",
   "metadata": {},
   "outputs": [
    {
     "data": {
      "text/plain": [
       "175.0"
      ]
     },
     "execution_count": 69,
     "metadata": {},
     "output_type": "execute_result"
    }
   ],
   "source": [
    "s_rl"
   ]
  },
  {
   "cell_type": "code",
   "execution_count": null,
   "id": "2f204ad4",
   "metadata": {},
   "outputs": [],
   "source": []
  }
 ],
 "metadata": {
  "kernelspec": {
   "display_name": "Python 3 (ipykernel)",
   "language": "python",
   "name": "python3"
  },
  "language_info": {
   "codemirror_mode": {
    "name": "ipython",
    "version": 3
   },
   "file_extension": ".py",
   "mimetype": "text/x-python",
   "name": "python",
   "nbconvert_exporter": "python",
   "pygments_lexer": "ipython3",
   "version": "3.10.6"
  }
 },
 "nbformat": 4,
 "nbformat_minor": 5
}
