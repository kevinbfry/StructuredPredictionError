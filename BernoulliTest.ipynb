{
 "cells": [
  {
   "cell_type": "code",
   "execution_count": 3,
   "id": "8fd3f5dd",
   "metadata": {},
   "outputs": [],
   "source": [
    "import numpy as np\n",
    "import pandas as pd\n",
    "\n",
    "from scipy.stats import bernoulli\n",
    "\n",
    "from sklearn.linear_model import LogisticRegression\n",
    "\n",
    "import matplotlib.pyplot as plt"
   ]
  },
  {
   "cell_type": "code",
   "execution_count": 4,
   "id": "153ff0de",
   "metadata": {},
   "outputs": [],
   "source": [
    "def loglik(theta, X, y):\n",
    "    return np.mean(bernoulli.logpmf(y, mu=X.dot(theta)))"
   ]
  },
  {
   "cell_type": "code",
   "execution_count": 6,
   "id": "7633adc6",
   "metadata": {},
   "outputs": [],
   "source": [
    "def grad_loglik(theta, X, y):\n",
    "#     n = y.shape[0]\n",
    "    mu = 1./(1 + np.exp(-X.dot(theta)))\n",
    "    return np.mean(X.T.dot(y - mu))"
   ]
  },
  {
   "cell_type": "code",
   "execution_count": 8,
   "id": "8fdc5510",
   "metadata": {},
   "outputs": [],
   "source": [
    "def hess_loglik(theta, X):\n",
    "    mu = 1./(1 + np.exp(-X.dot(theta)))\n",
    "    D = np.diag(mu*(1-mu))\n",
    "    return X.T.dot(D.dot(X))"
   ]
  },
  {
   "cell_type": "markdown",
   "id": "f0ef66c9",
   "metadata": {},
   "source": [
    "If we're doing predictive deviance reltaive to $\\beta^*$, the relevant term we need to estimate is approximately just $p$.\n",
    "\n",
    "If its relative to $\\beta_{full}$ when we're doing some kind of selection, should be $tr(I - S)$??"
   ]
  },
  {
   "cell_type": "code",
   "execution_count": 166,
   "id": "7442431c",
   "metadata": {},
   "outputs": [],
   "source": [
    "def mc_sim_term_star(theta, n=2000, niter=200):\n",
    "    p = len(theta)\n",
    "    ests = np.zeros(niter)\n",
    "    \n",
    "    for i in np.arange(niter):\n",
    "        X = np.random.randn(n,p)\n",
    "        mu = 1/(1 + np.exp(-X.dot(theta)))\n",
    "        y = bernoulli.rvs(mu)\n",
    "        y_star = bernoulli.rvs(mu)\n",
    "        \n",
    "        m = LogisticRegression(fit_intercept=False, penalty='none')\n",
    "        m.fit(X,y)\n",
    "        beta_hat = m.coef_\n",
    "        \n",
    "        a = beta_hat - theta\n",
    "        b = X.T.dot(y_star - y)\n",
    "        \n",
    "        ests[i] = a.dot(b)\n",
    "        \n",
    "    return ests.mean()\n",
    "    "
   ]
  },
  {
   "cell_type": "code",
   "execution_count": 167,
   "id": "316dfc86",
   "metadata": {},
   "outputs": [
    {
     "data": {
      "text/plain": [
       "20"
      ]
     },
     "execution_count": 167,
     "metadata": {},
     "output_type": "execute_result"
    }
   ],
   "source": [
    "p = 20\n",
    "beta_0 = np.random.randn(p)\n",
    "len(beta_0)"
   ]
  },
  {
   "cell_type": "code",
   "execution_count": 168,
   "id": "4a3baa9f",
   "metadata": {},
   "outputs": [],
   "source": [
    "est = mc_sim_term_star(beta_0)"
   ]
  },
  {
   "cell_type": "code",
   "execution_count": 169,
   "id": "4153dfc6",
   "metadata": {},
   "outputs": [
    {
     "data": {
      "text/plain": [
       "-19.849475457712753"
      ]
     },
     "execution_count": 169,
     "metadata": {},
     "output_type": "execute_result"
    }
   ],
   "source": [
    "est"
   ]
  },
  {
   "cell_type": "code",
   "execution_count": 294,
   "id": "1b6611d1",
   "metadata": {},
   "outputs": [],
   "source": [
    "def est_dev_term_lasso(theta, n=3000, niter=500):\n",
    "    p = len(theta)\n",
    "    \n",
    "    mc_ests = np.zeros(niter)\n",
    "    math_ests = np.zeros(niter)\n",
    "    s = np.zeros(niter)\n",
    "    \n",
    "    for i in np.arange(niter):\n",
    "        X = np.random.randn(n,p)\n",
    "        mu = 1/(1 + np.exp(-X.dot(theta)))\n",
    "        y = bernoulli.rvs(mu)\n",
    "        y_star = bernoulli.rvs(mu)\n",
    "        \n",
    "        fm = LogisticRegression(fit_intercept=False, penalty='none')\n",
    "        fm.fit(X,y)\n",
    "        beta_full = fm.coef_[0]\n",
    "        \n",
    "        sm = LogisticRegression(fit_intercept=False, penalty='l1', solver='liblinear', C=.1)\n",
    "        sm.fit(X,y)\n",
    "        beta_sel = sm.coef_[0]\n",
    "        \n",
    "        a = beta_full - beta_sel\n",
    "        b = X.T.dot(y_star - y)\n",
    "        \n",
    "        E = beta_sel != 0\n",
    "        XE = X[:, E]\n",
    "        SE = np.diag(E)[E,:]\n",
    "        W = np.diag(1./(1 + np.exp(-X.dot(beta_sel))))\n",
    "        HE = np.linalg.inv(XE.T.dot(W.dot(XE))).dot(SE).dot(np.linalg.inv(X.T.dot(W.dot(X))).dot(beta_full))\n",
    "        math_ests[i] = np.sum(np.diag(HE)) - p\n",
    "        \n",
    "        s[i] = E.sum() - p\n",
    "        \n",
    "        mc_ests[i] = a.dot(b)\n",
    "        \n",
    "    return mc_ests.mean(), math_ests.mean(), s.mean()\n",
    "    "
   ]
  },
  {
   "cell_type": "code",
   "execution_count": 295,
   "id": "048cafd7",
   "metadata": {},
   "outputs": [
    {
     "data": {
      "text/plain": [
       "20"
      ]
     },
     "execution_count": 295,
     "metadata": {},
     "output_type": "execute_result"
    }
   ],
   "source": [
    "p = 20\n",
    "beta_0 = np.random.randn(p)\n",
    "beta_0[np.random.choice(p,int(3*p/4),replace=False)] = 0\n",
    "len(beta_0)"
   ]
  },
  {
   "cell_type": "code",
   "execution_count": 296,
   "id": "019a94f4",
   "metadata": {},
   "outputs": [],
   "source": [
    "mc_est_lasso, math_est_lasso, s_est_lasso = est_dev_term_lasso(beta_0, niter=100)"
   ]
  },
  {
   "cell_type": "code",
   "execution_count": 297,
   "id": "283fb942",
   "metadata": {},
   "outputs": [
    {
     "data": {
      "text/plain": [
       "-5.391789764376155"
      ]
     },
     "execution_count": 297,
     "metadata": {},
     "output_type": "execute_result"
    }
   ],
   "source": [
    "mc_est_lasso"
   ]
  },
  {
   "cell_type": "code",
   "execution_count": 298,
   "id": "e63d905d",
   "metadata": {},
   "outputs": [
    {
     "data": {
      "text/plain": [
       "-19.999999842629578"
      ]
     },
     "execution_count": 298,
     "metadata": {},
     "output_type": "execute_result"
    }
   ],
   "source": [
    "math_est_lasso"
   ]
  },
  {
   "cell_type": "code",
   "execution_count": 299,
   "id": "662f3505",
   "metadata": {},
   "outputs": [
    {
     "data": {
      "text/plain": [
       "-5.31"
      ]
     },
     "execution_count": 299,
     "metadata": {},
     "output_type": "execute_result"
    }
   ],
   "source": [
    "s_est_lasso"
   ]
  },
  {
   "cell_type": "code",
   "execution_count": null,
   "id": "352bcb6e",
   "metadata": {},
   "outputs": [],
   "source": []
  },
  {
   "cell_type": "code",
   "execution_count": 341,
   "id": "a2662fea",
   "metadata": {},
   "outputs": [],
   "source": [
    "def est_dev_term_rl(theta, n=3000, niter=500):\n",
    "    p = len(theta)\n",
    "    \n",
    "    mc_ests = np.zeros(niter)\n",
    "    math_ests = np.zeros(niter)\n",
    "    s = np.zeros(niter)\n",
    "    \n",
    "    for i in np.arange(niter):\n",
    "        X = np.random.randn(n,p)\n",
    "        mu = 1/(1 + np.exp(-X.dot(theta)))\n",
    "        y = bernoulli.rvs(mu)\n",
    "        y_star = bernoulli.rvs(mu)\n",
    "        \n",
    "        fm = LogisticRegression(fit_intercept=False, penalty='none')\n",
    "        fm.fit(X,y)\n",
    "        beta_full = fm.coef_[0]\n",
    "        W_full = np.diag(1./(1 + np.exp(-X.dot(beta_full))))\n",
    "        \n",
    "        sm = LogisticRegression(fit_intercept=False, penalty='l1', solver='liblinear', C=.1)\n",
    "        sm.fit(X,y)\n",
    "        beta_sel = sm.coef_[0]\n",
    "        \n",
    "        E = beta_sel != 0\n",
    "        XE = X[:, E]\n",
    "        s[i] = E.sum()\n",
    "\n",
    "        rm = LogisticRegression(fit_intercept=False, penalty='none')\n",
    "        rm.fit(XE, y)\n",
    "        beta_rl = np.zeros_like(beta_full)\n",
    "        beta_rl[E] = rm.coef_[0]\n",
    "        \n",
    "        a = beta_full - beta_rl\n",
    "        b = X.T.dot(y_star - y)\n",
    "        mc_ests[i] = a.dot(b)\n",
    "        \n",
    "        SE = np.diag(E)[E,:]\n",
    "        W_rl = np.diag(1./(1 + np.exp(-X.dot(beta_rl))))\n",
    "        HE = np.linalg.inv(XE.T.dot(W_rl.dot(XE))).dot(SE).dot(np.linalg.inv(X.T.dot(W_full.dot(X))).dot(beta_full)) / np.diag(W_full) * np.diag(W_rl)\n",
    "        math_ests[i] = np.sum(np.diag(HE)) - p\n",
    "                \n",
    "    return mc_ests.mean(), math_ests.mean(), s.mean()\n",
    "    "
   ]
  },
  {
   "cell_type": "code",
   "execution_count": 342,
   "id": "a53712c6",
   "metadata": {},
   "outputs": [
    {
     "data": {
      "text/plain": [
       "20"
      ]
     },
     "execution_count": 342,
     "metadata": {},
     "output_type": "execute_result"
    }
   ],
   "source": [
    "p = 20\n",
    "beta_0 = np.random.randn(p)\n",
    "beta_0[np.random.choice(p,int(3*p/4),replace=False)] = 0\n",
    "len(beta_0)"
   ]
  },
  {
   "cell_type": "code",
   "execution_count": 343,
   "id": "dc60cc59",
   "metadata": {},
   "outputs": [
    {
     "ename": "ValueError",
     "evalue": "operands could not be broadcast together with shapes (16,) (3000,) ",
     "output_type": "error",
     "traceback": [
      "\u001b[0;31m---------------------------------------------------------------------------\u001b[0m",
      "\u001b[0;31mValueError\u001b[0m                                Traceback (most recent call last)",
      "\u001b[0;32m/var/folders/6f/_l6d5fqj12zg60thjgmbdc5r0000gn/T/ipykernel_20032/2425783274.py\u001b[0m in \u001b[0;36m<cell line: 1>\u001b[0;34m()\u001b[0m\n\u001b[0;32m----> 1\u001b[0;31m \u001b[0mmc_est_rl\u001b[0m\u001b[0;34m,\u001b[0m \u001b[0mmath_est_rl\u001b[0m\u001b[0;34m,\u001b[0m \u001b[0ms_rl\u001b[0m \u001b[0;34m=\u001b[0m \u001b[0mest_dev_term_rl\u001b[0m\u001b[0;34m(\u001b[0m\u001b[0mbeta_0\u001b[0m\u001b[0;34m,\u001b[0m \u001b[0mniter\u001b[0m\u001b[0;34m=\u001b[0m\u001b[0;36m100\u001b[0m\u001b[0;34m)\u001b[0m\u001b[0;34m\u001b[0m\u001b[0;34m\u001b[0m\u001b[0m\n\u001b[0m",
      "\u001b[0;32m/var/folders/6f/_l6d5fqj12zg60thjgmbdc5r0000gn/T/ipykernel_20032/626618145.py\u001b[0m in \u001b[0;36mest_dev_term_rl\u001b[0;34m(theta, n, niter)\u001b[0m\n\u001b[1;32m     36\u001b[0m         \u001b[0mSE\u001b[0m \u001b[0;34m=\u001b[0m \u001b[0mnp\u001b[0m\u001b[0;34m.\u001b[0m\u001b[0mdiag\u001b[0m\u001b[0;34m(\u001b[0m\u001b[0mE\u001b[0m\u001b[0;34m)\u001b[0m\u001b[0;34m[\u001b[0m\u001b[0mE\u001b[0m\u001b[0;34m,\u001b[0m\u001b[0;34m:\u001b[0m\u001b[0;34m]\u001b[0m\u001b[0;34m\u001b[0m\u001b[0;34m\u001b[0m\u001b[0m\n\u001b[1;32m     37\u001b[0m         \u001b[0mW_rl\u001b[0m \u001b[0;34m=\u001b[0m \u001b[0mnp\u001b[0m\u001b[0;34m.\u001b[0m\u001b[0mdiag\u001b[0m\u001b[0;34m(\u001b[0m\u001b[0;36m1.\u001b[0m\u001b[0;34m/\u001b[0m\u001b[0;34m(\u001b[0m\u001b[0;36m1\u001b[0m \u001b[0;34m+\u001b[0m \u001b[0mnp\u001b[0m\u001b[0;34m.\u001b[0m\u001b[0mexp\u001b[0m\u001b[0;34m(\u001b[0m\u001b[0;34m-\u001b[0m\u001b[0mX\u001b[0m\u001b[0;34m.\u001b[0m\u001b[0mdot\u001b[0m\u001b[0;34m(\u001b[0m\u001b[0mbeta_rl\u001b[0m\u001b[0;34m)\u001b[0m\u001b[0;34m)\u001b[0m\u001b[0;34m)\u001b[0m\u001b[0;34m)\u001b[0m\u001b[0;34m\u001b[0m\u001b[0;34m\u001b[0m\u001b[0m\n\u001b[0;32m---> 38\u001b[0;31m         \u001b[0mHE\u001b[0m \u001b[0;34m=\u001b[0m \u001b[0mnp\u001b[0m\u001b[0;34m.\u001b[0m\u001b[0mlinalg\u001b[0m\u001b[0;34m.\u001b[0m\u001b[0minv\u001b[0m\u001b[0;34m(\u001b[0m\u001b[0mXE\u001b[0m\u001b[0;34m.\u001b[0m\u001b[0mT\u001b[0m\u001b[0;34m.\u001b[0m\u001b[0mdot\u001b[0m\u001b[0;34m(\u001b[0m\u001b[0mW_rl\u001b[0m\u001b[0;34m.\u001b[0m\u001b[0mdot\u001b[0m\u001b[0;34m(\u001b[0m\u001b[0mXE\u001b[0m\u001b[0;34m)\u001b[0m\u001b[0;34m)\u001b[0m\u001b[0;34m)\u001b[0m\u001b[0;34m.\u001b[0m\u001b[0mdot\u001b[0m\u001b[0;34m(\u001b[0m\u001b[0mSE\u001b[0m\u001b[0;34m)\u001b[0m\u001b[0;34m.\u001b[0m\u001b[0mdot\u001b[0m\u001b[0;34m(\u001b[0m\u001b[0mnp\u001b[0m\u001b[0;34m.\u001b[0m\u001b[0mlinalg\u001b[0m\u001b[0;34m.\u001b[0m\u001b[0minv\u001b[0m\u001b[0;34m(\u001b[0m\u001b[0mX\u001b[0m\u001b[0;34m.\u001b[0m\u001b[0mT\u001b[0m\u001b[0;34m.\u001b[0m\u001b[0mdot\u001b[0m\u001b[0;34m(\u001b[0m\u001b[0mW_full\u001b[0m\u001b[0;34m.\u001b[0m\u001b[0mdot\u001b[0m\u001b[0;34m(\u001b[0m\u001b[0mX\u001b[0m\u001b[0;34m)\u001b[0m\u001b[0;34m)\u001b[0m\u001b[0;34m)\u001b[0m\u001b[0;34m.\u001b[0m\u001b[0mdot\u001b[0m\u001b[0;34m(\u001b[0m\u001b[0mbeta_full\u001b[0m\u001b[0;34m)\u001b[0m\u001b[0;34m)\u001b[0m \u001b[0;34m/\u001b[0m \u001b[0mnp\u001b[0m\u001b[0;34m.\u001b[0m\u001b[0mdiag\u001b[0m\u001b[0;34m(\u001b[0m\u001b[0mW_full\u001b[0m\u001b[0;34m)\u001b[0m \u001b[0;34m*\u001b[0m \u001b[0mnp\u001b[0m\u001b[0;34m.\u001b[0m\u001b[0mdiag\u001b[0m\u001b[0;34m(\u001b[0m\u001b[0mW_rl\u001b[0m\u001b[0;34m)\u001b[0m\u001b[0;34m\u001b[0m\u001b[0;34m\u001b[0m\u001b[0m\n\u001b[0m\u001b[1;32m     39\u001b[0m         \u001b[0mmath_ests\u001b[0m\u001b[0;34m[\u001b[0m\u001b[0mi\u001b[0m\u001b[0;34m]\u001b[0m \u001b[0;34m=\u001b[0m \u001b[0mnp\u001b[0m\u001b[0;34m.\u001b[0m\u001b[0msum\u001b[0m\u001b[0;34m(\u001b[0m\u001b[0mnp\u001b[0m\u001b[0;34m.\u001b[0m\u001b[0mdiag\u001b[0m\u001b[0;34m(\u001b[0m\u001b[0mHE\u001b[0m\u001b[0;34m)\u001b[0m\u001b[0;34m)\u001b[0m \u001b[0;34m-\u001b[0m \u001b[0mp\u001b[0m\u001b[0;34m\u001b[0m\u001b[0;34m\u001b[0m\u001b[0m\n\u001b[1;32m     40\u001b[0m \u001b[0;34m\u001b[0m\u001b[0m\n",
      "\u001b[0;31mValueError\u001b[0m: operands could not be broadcast together with shapes (16,) (3000,) "
     ]
    }
   ],
   "source": [
    "mc_est_rl, math_est_rl, s_rl = est_dev_term_rl(beta_0, niter=100)"
   ]
  },
  {
   "cell_type": "code",
   "execution_count": 344,
   "id": "a5795bc1",
   "metadata": {},
   "outputs": [
    {
     "name": "stdout",
     "output_type": "stream",
     "text": [
      "> \u001b[0;32m/var/folders/6f/_l6d5fqj12zg60thjgmbdc5r0000gn/T/ipykernel_20032/626618145.py\u001b[0m(38)\u001b[0;36mest_dev_term_rl\u001b[0;34m()\u001b[0m\n",
      "\u001b[0;32m     36 \u001b[0;31m        \u001b[0mSE\u001b[0m \u001b[0;34m=\u001b[0m \u001b[0mnp\u001b[0m\u001b[0;34m.\u001b[0m\u001b[0mdiag\u001b[0m\u001b[0;34m(\u001b[0m\u001b[0mE\u001b[0m\u001b[0;34m)\u001b[0m\u001b[0;34m[\u001b[0m\u001b[0mE\u001b[0m\u001b[0;34m,\u001b[0m\u001b[0;34m:\u001b[0m\u001b[0;34m]\u001b[0m\u001b[0;34m\u001b[0m\u001b[0;34m\u001b[0m\u001b[0m\n",
      "\u001b[0m\u001b[0;32m     37 \u001b[0;31m        \u001b[0mW_rl\u001b[0m \u001b[0;34m=\u001b[0m \u001b[0mnp\u001b[0m\u001b[0;34m.\u001b[0m\u001b[0mdiag\u001b[0m\u001b[0;34m(\u001b[0m\u001b[0;36m1.\u001b[0m\u001b[0;34m/\u001b[0m\u001b[0;34m(\u001b[0m\u001b[0;36m1\u001b[0m \u001b[0;34m+\u001b[0m \u001b[0mnp\u001b[0m\u001b[0;34m.\u001b[0m\u001b[0mexp\u001b[0m\u001b[0;34m(\u001b[0m\u001b[0;34m-\u001b[0m\u001b[0mX\u001b[0m\u001b[0;34m.\u001b[0m\u001b[0mdot\u001b[0m\u001b[0;34m(\u001b[0m\u001b[0mbeta_rl\u001b[0m\u001b[0;34m)\u001b[0m\u001b[0;34m)\u001b[0m\u001b[0;34m)\u001b[0m\u001b[0;34m)\u001b[0m\u001b[0;34m\u001b[0m\u001b[0;34m\u001b[0m\u001b[0m\n",
      "\u001b[0m\u001b[0;32m---> 38 \u001b[0;31m        \u001b[0mHE\u001b[0m \u001b[0;34m=\u001b[0m \u001b[0mnp\u001b[0m\u001b[0;34m.\u001b[0m\u001b[0mlinalg\u001b[0m\u001b[0;34m.\u001b[0m\u001b[0minv\u001b[0m\u001b[0;34m(\u001b[0m\u001b[0mXE\u001b[0m\u001b[0;34m.\u001b[0m\u001b[0mT\u001b[0m\u001b[0;34m.\u001b[0m\u001b[0mdot\u001b[0m\u001b[0;34m(\u001b[0m\u001b[0mW_rl\u001b[0m\u001b[0;34m.\u001b[0m\u001b[0mdot\u001b[0m\u001b[0;34m(\u001b[0m\u001b[0mXE\u001b[0m\u001b[0;34m)\u001b[0m\u001b[0;34m)\u001b[0m\u001b[0;34m)\u001b[0m\u001b[0;34m.\u001b[0m\u001b[0mdot\u001b[0m\u001b[0;34m(\u001b[0m\u001b[0mSE\u001b[0m\u001b[0;34m)\u001b[0m\u001b[0;34m.\u001b[0m\u001b[0mdot\u001b[0m\u001b[0;34m(\u001b[0m\u001b[0mnp\u001b[0m\u001b[0;34m.\u001b[0m\u001b[0mlinalg\u001b[0m\u001b[0;34m.\u001b[0m\u001b[0minv\u001b[0m\u001b[0;34m(\u001b[0m\u001b[0mX\u001b[0m\u001b[0;34m.\u001b[0m\u001b[0mT\u001b[0m\u001b[0;34m.\u001b[0m\u001b[0mdot\u001b[0m\u001b[0;34m(\u001b[0m\u001b[0mW_full\u001b[0m\u001b[0;34m.\u001b[0m\u001b[0mdot\u001b[0m\u001b[0;34m(\u001b[0m\u001b[0mX\u001b[0m\u001b[0;34m)\u001b[0m\u001b[0;34m)\u001b[0m\u001b[0;34m)\u001b[0m\u001b[0;34m.\u001b[0m\u001b[0mdot\u001b[0m\u001b[0;34m(\u001b[0m\u001b[0mbeta_full\u001b[0m\u001b[0;34m)\u001b[0m\u001b[0;34m)\u001b[0m \u001b[0;34m/\u001b[0m \u001b[0mnp\u001b[0m\u001b[0;34m.\u001b[0m\u001b[0mdiag\u001b[0m\u001b[0;34m(\u001b[0m\u001b[0mW_full\u001b[0m\u001b[0;34m)\u001b[0m \u001b[0;34m*\u001b[0m \u001b[0mnp\u001b[0m\u001b[0;34m.\u001b[0m\u001b[0mdiag\u001b[0m\u001b[0;34m(\u001b[0m\u001b[0mW_rl\u001b[0m\u001b[0;34m)\u001b[0m\u001b[0;34m\u001b[0m\u001b[0;34m\u001b[0m\u001b[0m\n",
      "\u001b[0m\u001b[0;32m     39 \u001b[0;31m        \u001b[0mmath_ests\u001b[0m\u001b[0;34m[\u001b[0m\u001b[0mi\u001b[0m\u001b[0;34m]\u001b[0m \u001b[0;34m=\u001b[0m \u001b[0mnp\u001b[0m\u001b[0;34m.\u001b[0m\u001b[0msum\u001b[0m\u001b[0;34m(\u001b[0m\u001b[0mnp\u001b[0m\u001b[0;34m.\u001b[0m\u001b[0mdiag\u001b[0m\u001b[0;34m(\u001b[0m\u001b[0mHE\u001b[0m\u001b[0;34m)\u001b[0m\u001b[0;34m)\u001b[0m \u001b[0;34m-\u001b[0m \u001b[0mp\u001b[0m\u001b[0;34m\u001b[0m\u001b[0;34m\u001b[0m\u001b[0m\n",
      "\u001b[0m\u001b[0;32m     40 \u001b[0;31m\u001b[0;34m\u001b[0m\u001b[0m\n",
      "\u001b[0m\n",
      "ipdb> W_full.shape\n",
      "(3000, 3000)\n",
      "ipdb> beta_full.shape\n",
      "(20,)\n",
      "ipdb> quit\n"
     ]
    }
   ],
   "source": [
    "%debug"
   ]
  },
  {
   "cell_type": "code",
   "execution_count": 338,
   "id": "359f07a1",
   "metadata": {},
   "outputs": [
    {
     "data": {
      "text/plain": [
       "-0.7912955512491406"
      ]
     },
     "execution_count": 338,
     "metadata": {},
     "output_type": "execute_result"
    }
   ],
   "source": [
    "mc_est_rl"
   ]
  },
  {
   "cell_type": "code",
   "execution_count": 339,
   "id": "240cded8",
   "metadata": {},
   "outputs": [
    {
     "data": {
      "text/plain": [
       "-19.999999700914284"
      ]
     },
     "execution_count": 339,
     "metadata": {},
     "output_type": "execute_result"
    }
   ],
   "source": [
    "math_est_rl"
   ]
  },
  {
   "cell_type": "code",
   "execution_count": 340,
   "id": "3a1527ba",
   "metadata": {},
   "outputs": [
    {
     "data": {
      "text/plain": [
       "13.31"
      ]
     },
     "execution_count": 340,
     "metadata": {},
     "output_type": "execute_result"
    }
   ],
   "source": [
    "s_rl"
   ]
  },
  {
   "cell_type": "code",
   "execution_count": null,
   "id": "2f204ad4",
   "metadata": {},
   "outputs": [],
   "source": []
  }
 ],
 "metadata": {
  "kernelspec": {
   "display_name": "Python 3 (ipykernel)",
   "language": "python",
   "name": "python3"
  },
  "language_info": {
   "codemirror_mode": {
    "name": "ipython",
    "version": 3
   },
   "file_extension": ".py",
   "mimetype": "text/x-python",
   "name": "python",
   "nbconvert_exporter": "python",
   "pygments_lexer": "ipython3",
   "version": "3.8.13"
  }
 },
 "nbformat": 4,
 "nbformat_minor": 5
}
