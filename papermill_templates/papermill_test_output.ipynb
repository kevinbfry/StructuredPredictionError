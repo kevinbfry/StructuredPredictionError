{
 "cells": [
  {
   "cell_type": "code",
   "execution_count": 1,
   "id": "eee84be3",
   "metadata": {
    "execution": {
     "iopub.execute_input": "2022-06-18T22:23:38.283284Z",
     "iopub.status.busy": "2022-06-18T22:23:38.282915Z",
     "iopub.status.idle": "2022-06-18T22:23:38.457672Z",
     "shell.execute_reply": "2022-06-18T22:23:38.457107Z"
    },
    "papermill": {
     "duration": 0.18134,
     "end_time": "2022-06-18T22:23:38.459836",
     "exception": false,
     "start_time": "2022-06-18T22:23:38.278496",
     "status": "completed"
    },
    "tags": []
   },
   "outputs": [],
   "source": [
    "import numpy as np\n",
    "import papermill as pm"
   ]
  },
  {
   "cell_type": "code",
   "execution_count": 2,
   "id": "190086e9",
   "metadata": {
    "execution": {
     "iopub.execute_input": "2022-06-18T22:23:38.463350Z",
     "iopub.status.busy": "2022-06-18T22:23:38.463141Z",
     "iopub.status.idle": "2022-06-18T22:23:38.466459Z",
     "shell.execute_reply": "2022-06-18T22:23:38.465636Z"
    },
    "papermill": {
     "duration": 0.007572,
     "end_time": "2022-06-18T22:23:38.468735",
     "exception": false,
     "start_time": "2022-06-18T22:23:38.461163",
     "status": "completed"
    },
    "tags": [
     "parameters"
    ]
   },
   "outputs": [],
   "source": [
    "alpha=0.1\n",
    "ratio=0.2\n",
    "name=\"bob\""
   ]
  },
  {
   "cell_type": "code",
   "execution_count": 3,
   "id": "f4729950",
   "metadata": {
    "execution": {
     "iopub.execute_input": "2022-06-18T22:23:38.473308Z",
     "iopub.status.busy": "2022-06-18T22:23:38.473055Z",
     "iopub.status.idle": "2022-06-18T22:23:38.477433Z",
     "shell.execute_reply": "2022-06-18T22:23:38.476221Z"
    },
    "papermill": {
     "duration": 0.009988,
     "end_time": "2022-06-18T22:23:38.480097",
     "exception": false,
     "start_time": "2022-06-18T22:23:38.470109",
     "status": "completed"
    },
    "tags": [
     "injected-parameters"
    ]
   },
   "outputs": [],
   "source": [
    "# Parameters\n",
    "alpha = 0.5\n",
    "name = \"Jimmy\"\n"
   ]
  },
  {
   "cell_type": "code",
   "execution_count": 4,
   "id": "d5cee4d6",
   "metadata": {
    "execution": {
     "iopub.execute_input": "2022-06-18T22:23:38.483888Z",
     "iopub.status.busy": "2022-06-18T22:23:38.483658Z",
     "iopub.status.idle": "2022-06-18T22:23:38.486919Z",
     "shell.execute_reply": "2022-06-18T22:23:38.486186Z"
    },
    "papermill": {
     "duration": 0.007615,
     "end_time": "2022-06-18T22:23:38.488934",
     "exception": false,
     "start_time": "2022-06-18T22:23:38.481319",
     "status": "completed"
    },
    "tags": []
   },
   "outputs": [
    {
     "name": "stdout",
     "output_type": "stream",
     "text": [
      "0.5\n"
     ]
    }
   ],
   "source": [
    "# pm.execute_notebook(\n",
    "#    '~/Documents/GitHub/StructuredPredictionError/papermill/papermill_test.ipynb',\n",
    "#    '~/Documents/GitHub/StructuredPredictionError/papermill/papermill_test_output.ipynb',\n",
    "#    parameters=dict(alpha=0.6, ratio=0.1)\n",
    "# )\n",
    "print(alpha)"
   ]
  },
  {
   "cell_type": "code",
   "execution_count": 5,
   "id": "d732d7dd",
   "metadata": {
    "execution": {
     "iopub.execute_input": "2022-06-18T22:23:38.492953Z",
     "iopub.status.busy": "2022-06-18T22:23:38.492740Z",
     "iopub.status.idle": "2022-06-18T22:23:38.495923Z",
     "shell.execute_reply": "2022-06-18T22:23:38.495235Z"
    },
    "papermill": {
     "duration": 0.007232,
     "end_time": "2022-06-18T22:23:38.497689",
     "exception": false,
     "start_time": "2022-06-18T22:23:38.490457",
     "status": "completed"
    },
    "tags": []
   },
   "outputs": [
    {
     "name": "stdout",
     "output_type": "stream",
     "text": [
      "0.2\n"
     ]
    }
   ],
   "source": [
    "print(ratio)"
   ]
  },
  {
   "cell_type": "code",
   "execution_count": 6,
   "id": "3cc0ef59",
   "metadata": {
    "execution": {
     "iopub.execute_input": "2022-06-18T22:23:38.501599Z",
     "iopub.status.busy": "2022-06-18T22:23:38.501389Z",
     "iopub.status.idle": "2022-06-18T22:23:38.504508Z",
     "shell.execute_reply": "2022-06-18T22:23:38.503785Z"
    },
    "papermill": {
     "duration": 0.00712,
     "end_time": "2022-06-18T22:23:38.506288",
     "exception": false,
     "start_time": "2022-06-18T22:23:38.499168",
     "status": "completed"
    },
    "tags": []
   },
   "outputs": [
    {
     "name": "stdout",
     "output_type": "stream",
     "text": [
      "Jimmy\n"
     ]
    }
   ],
   "source": [
    "print(name)"
   ]
  }
 ],
 "metadata": {
  "celltoolbar": "Tags",
  "kernelspec": {
   "display_name": "blur",
   "language": "python",
   "name": "blur"
  },
  "language_info": {
   "codemirror_mode": {
    "name": "ipython",
    "version": 3
   },
   "file_extension": ".py",
   "mimetype": "text/x-python",
   "name": "python",
   "nbconvert_exporter": "python",
   "pygments_lexer": "ipython3",
   "version": "3.8.13"
  },
  "papermill": {
   "default_parameters": {},
   "duration": 1.48225,
   "end_time": "2022-06-18T22:23:38.828854",
   "environment_variables": {},
   "exception": null,
   "input_path": "papermill/papermill_test.ipynb",
   "output_path": "papermill/papermill_test_output.ipynb",
   "parameters": {
    "alpha": 0.5,
    "name": "Jimmy"
   },
   "start_time": "2022-06-18T22:23:37.346604",
   "version": "2.3.4"
  }
 },
 "nbformat": 4,
 "nbformat_minor": 5
}