{
 "cells": [
  {
   "cell_type": "code",
   "execution_count": 1,
   "id": "459b4164",
   "metadata": {
    "execution": {
     "iopub.execute_input": "2022-06-26T23:58:58.470164Z",
     "iopub.status.busy": "2022-06-26T23:58:58.469915Z",
     "iopub.status.idle": "2022-06-26T23:59:00.134340Z",
     "shell.execute_reply": "2022-06-26T23:59:00.133698Z"
    },
    "papermill": {
     "duration": 1.683571,
     "end_time": "2022-06-26T23:59:00.136291",
     "exception": false,
     "start_time": "2022-06-26T23:58:58.452720",
     "status": "completed"
    },
    "tags": []
   },
   "outputs": [],
   "source": [
    "import numpy as np\n",
    "import pandas as pd\n",
    "from sklearn.linear_model import Lasso, LinearRegression\n",
    "from sklearn.cluster import KMeans\n",
    "from sklearn.gaussian_process.kernels import Matern, RBF\n",
    "\n",
    "import plotly.express as px\n",
    "\n",
    "import plotly.graph_objects as go\n",
    "\n",
    "from scipy.linalg import toeplitz, block_diag\n",
    "\n",
    "from spe.mse_estimator import ErrorComparer\n",
    "from spe.data_generation import gen_rbf_X, gen_matern_X, create_clus_split, gen_cov_mat\n",
    "from spe.forest import BlurredForest\n",
    "from spe.estimators import kfoldcv, kmeanscv, better_test_est_split, cp_rf_train_test, cp_general_train_test, bag_kfoldcv, bag_kmeanscv\n",
    "\n",
    "import os"
   ]
  },
  {
   "cell_type": "code",
   "execution_count": 2,
   "id": "3309e6e9",
   "metadata": {
    "execution": {
     "iopub.execute_input": "2022-06-26T23:59:00.160918Z",
     "iopub.status.busy": "2022-06-26T23:59:00.160738Z",
     "iopub.status.idle": "2022-06-26T23:59:00.164965Z",
     "shell.execute_reply": "2022-06-26T23:59:00.164413Z"
    },
    "papermill": {
     "duration": 0.017967,
     "end_time": "2022-06-26T23:59:00.166594",
     "exception": false,
     "start_time": "2022-06-26T23:59:00.148627",
     "status": "completed"
    },
    "tags": [
     "parameters"
    ]
   },
   "outputs": [],
   "source": [
    "niter = 50\n",
    "\n",
    "n=30**2\n",
    "p=30\n",
    "s=30\n",
    "\n",
    "k=2\n",
    "\n",
    "delta = 0.8\n",
    "\n",
    "snr = 0.4\n",
    "\n",
    "n_estimators = 50\n",
    "max_depth = 6\n",
    "\n",
    "noise_kernel = 'matern'\n",
    "noise_length_scale = 5.\n",
    "noise_nu = 0.5\n",
    "\n",
    "X_kernel = 'matern'\n",
    "X_length_scale = 5.\n",
    "X_nu =2.5\n",
    "\n",
    "idx = -1\n",
    "\n",
    "savedir='~'"
   ]
  },
  {
   "cell_type": "code",
   "execution_count": 3,
   "id": "96b85ccc",
   "metadata": {
    "execution": {
     "iopub.execute_input": "2022-06-26T23:59:00.190338Z",
     "iopub.status.busy": "2022-06-26T23:59:00.190156Z",
     "iopub.status.idle": "2022-06-26T23:59:00.193774Z",
     "shell.execute_reply": "2022-06-26T23:59:00.193306Z"
    },
    "papermill": {
     "duration": 0.016906,
     "end_time": "2022-06-26T23:59:00.195426",
     "exception": false,
     "start_time": "2022-06-26T23:59:00.178520",
     "status": "completed"
    },
    "tags": [
     "injected-parameters"
    ]
   },
   "outputs": [],
   "source": [
    "# Parameters\n",
    "niter = 100\n",
    "n = 900\n",
    "p = 30\n",
    "s = 30\n",
    "k = 10\n",
    "snr = 1.0\n",
    "delta = 0.5\n",
    "noise_kernel = \"matern\"\n",
    "noise_length_scale = 5.0\n",
    "noise_nu = 0.5\n",
    "X_kernel = \"matern\"\n",
    "X_length_scale = 5.0\n",
    "X_nu = 2.5\n",
    "savedir = \"/Users/kevinfry/Documents/GitHub/StructuredPredictionError/papermill_templates/output/BF/BFFR_our_vs_CV/run_43_\\u03b40.5_snr1.0_nkmatern_nls5.0_nv0.5_Xkmatern_Xls5.0_Xv2.5/\"\n",
    "idx = 43\n"
   ]
  },
  {
   "cell_type": "code",
   "execution_count": 4,
   "id": "571d2102",
   "metadata": {
    "execution": {
     "iopub.execute_input": "2022-06-26T23:59:00.218737Z",
     "iopub.status.busy": "2022-06-26T23:59:00.218554Z",
     "iopub.status.idle": "2022-06-26T23:59:00.220903Z",
     "shell.execute_reply": "2022-06-26T23:59:00.220376Z"
    },
    "papermill": {
     "duration": 0.016011,
     "end_time": "2022-06-26T23:59:00.222523",
     "exception": false,
     "start_time": "2022-06-26T23:59:00.206512",
     "status": "completed"
    },
    "tags": []
   },
   "outputs": [],
   "source": [
    "# noise_kernel = kernel\n",
    "# X_kernel = 'matern'#kernel\n",
    "\n",
    "# noise_length_scale = length_scale\n",
    "# X_length_scale = 1.#length_scale\n",
    "\n",
    "# noise_nu = nu\n",
    "# X_nu = 1.5#nu"
   ]
  },
  {
   "cell_type": "code",
   "execution_count": 5,
   "id": "a807b37d",
   "metadata": {
    "execution": {
     "iopub.execute_input": "2022-06-26T23:59:00.245284Z",
     "iopub.status.busy": "2022-06-26T23:59:00.245109Z",
     "iopub.status.idle": "2022-06-26T23:59:00.248866Z",
     "shell.execute_reply": "2022-06-26T23:59:00.248382Z"
    },
    "papermill": {
     "duration": 0.017434,
     "end_time": "2022-06-26T23:59:00.251127",
     "exception": false,
     "start_time": "2022-06-26T23:59:00.233693",
     "status": "completed"
    },
    "tags": []
   },
   "outputs": [],
   "source": [
    "models = BlurredForest(n_estimators=n_estimators,  \n",
    "                        max_depth=max_depth, \n",
    "                        bootstrap_type='blur')\n",
    "\n",
    "ests = [better_test_est_split,\n",
    "        cp_rf_train_test, \n",
    "        cp_rf_train_test, \n",
    "        bag_kfoldcv,\n",
    "        bag_kmeanscv]\n",
    "\n",
    "est_kwargs = [{'full_refit':True},\n",
    "              {'use_trace_corr': False, 'full_refit':True}, \n",
    "              {'use_trace_corr': True, 'full_refit':True},\n",
    "              {'k': k},\n",
    "              {'k': k}]"
   ]
  },
  {
   "cell_type": "code",
   "execution_count": 6,
   "id": "22aa4896",
   "metadata": {
    "execution": {
     "iopub.execute_input": "2022-06-26T23:59:00.277866Z",
     "iopub.status.busy": "2022-06-26T23:59:00.277683Z",
     "iopub.status.idle": "2022-06-26T23:59:00.285731Z",
     "shell.execute_reply": "2022-06-26T23:59:00.285210Z"
    },
    "papermill": {
     "duration": 0.022234,
     "end_time": "2022-06-26T23:59:00.287358",
     "exception": false,
     "start_time": "2022-06-26T23:59:00.265124",
     "status": "completed"
    },
    "tags": []
   },
   "outputs": [],
   "source": [
    "if not os.path.exists(os.path.expanduser(savedir)):\n",
    "    os.makedirs(os.path.expanduser(savedir))\n",
    "\n",
    "params = pd.DataFrame({'niter': niter,\n",
    "                       'n': n, \n",
    "                       'p': p, \n",
    "                       's': s,\n",
    "                       'k': k,\n",
    "                       'snr':snr,\n",
    "                       'n_estimators': n_estimators,\n",
    "                       'max_depth': max_depth,\n",
    "                       'delta': delta,\n",
    "                       'nk': noise_kernel, \n",
    "                       'nls': noise_length_scale, \n",
    "                       'nn': noise_nu, \n",
    "                       'xk': X_kernel,\n",
    "                       'xls': X_length_scale,\n",
    "                       'xn': X_nu}, index=[idx])\n",
    "params.to_csv(os.path.expanduser(savedir + 'params.csv'))\n",
    "dffp = os.path.expanduser(savedir + \"err_df.csv\")\n",
    "# barfp = os.path.expanduser(savedir + 'barchart.jpeg')"
   ]
  },
  {
   "cell_type": "code",
   "execution_count": 7,
   "id": "e48cf07d",
   "metadata": {
    "execution": {
     "iopub.execute_input": "2022-06-26T23:59:00.311036Z",
     "iopub.status.busy": "2022-06-26T23:59:00.310864Z",
     "iopub.status.idle": "2022-06-26T23:59:00.313567Z",
     "shell.execute_reply": "2022-06-26T23:59:00.313014Z"
    },
    "papermill": {
     "duration": 0.016516,
     "end_time": "2022-06-26T23:59:00.315194",
     "exception": false,
     "start_time": "2022-06-26T23:59:00.298678",
     "status": "completed"
    },
    "tags": []
   },
   "outputs": [],
   "source": [
    "err_cmp = ErrorComparer()"
   ]
  },
  {
   "cell_type": "code",
   "execution_count": 8,
   "id": "d1e98060",
   "metadata": {
    "execution": {
     "iopub.execute_input": "2022-06-26T23:59:00.339115Z",
     "iopub.status.busy": "2022-06-26T23:59:00.338938Z",
     "iopub.status.idle": "2022-06-26T23:59:00.343058Z",
     "shell.execute_reply": "2022-06-26T23:59:00.342587Z"
    },
    "papermill": {
     "duration": 0.017866,
     "end_time": "2022-06-26T23:59:00.344752",
     "exception": false,
     "start_time": "2022-06-26T23:59:00.326886",
     "status": "completed"
    },
    "tags": []
   },
   "outputs": [],
   "source": [
    "nx = ny = int(np.sqrt(n))\n",
    "xs = np.linspace(0, 10, nx)\n",
    "ys = np.linspace(0, 10, ny)\n",
    "c_x, c_y = np.meshgrid(xs, ys)\n",
    "c_x = c_x.flatten()\n",
    "c_y = c_y.flatten()\n",
    "coord = np.stack([c_x, c_y]).T"
   ]
  },
  {
   "cell_type": "code",
   "execution_count": 9,
   "id": "8e1fba2c",
   "metadata": {
    "execution": {
     "iopub.execute_input": "2022-06-26T23:59:00.369072Z",
     "iopub.status.busy": "2022-06-26T23:59:00.368890Z",
     "iopub.status.idle": "2022-06-26T23:59:00.398598Z",
     "shell.execute_reply": "2022-06-26T23:59:00.397979Z"
    },
    "papermill": {
     "duration": 0.044349,
     "end_time": "2022-06-26T23:59:00.400852",
     "exception": false,
     "start_time": "2022-06-26T23:59:00.356503",
     "status": "completed"
    },
    "tags": []
   },
   "outputs": [],
   "source": [
    "if noise_kernel == 'rbf':\n",
    "    Sigma_t = gen_cov_mat(c_x, c_y, RBF(length_scale=noise_length_scale))\n",
    "elif noise_kernel == 'matern':\n",
    "    Sigma_t = gen_cov_mat(c_x, c_y, Matern(length_scale=noise_length_scale, nu=noise_nu))\n",
    "else:\n",
    "    Sigma_t = np.eye(n)\n",
    "    \n",
    "Sigma_t = delta*Sigma_t + (1-delta)*np.eye(n)\n",
    "\n",
    "if noise_kernel == 'rbf' or noise_kernel == 'matern':\n",
    "    Chol_t = np.linalg.cholesky(Sigma_t)\n",
    "else:\n",
    "    Chol_t = np.eye(n)"
   ]
  },
  {
   "cell_type": "code",
   "execution_count": 10,
   "id": "8c7a4a61",
   "metadata": {
    "execution": {
     "iopub.execute_input": "2022-06-26T23:59:00.428893Z",
     "iopub.status.busy": "2022-06-26T23:59:00.428688Z",
     "iopub.status.idle": "2022-06-26T23:59:00.456275Z",
     "shell.execute_reply": "2022-06-26T23:59:00.455680Z"
    },
    "papermill": {
     "duration": 0.043392,
     "end_time": "2022-06-26T23:59:00.458327",
     "exception": false,
     "start_time": "2022-06-26T23:59:00.414935",
     "status": "completed"
    },
    "tags": []
   },
   "outputs": [],
   "source": [
    "if X_kernel == 'rbf':\n",
    "    X = gen_rbf_X(c_x, c_y, p)\n",
    "elif X_kernel == 'matern':\n",
    "    X = gen_matern_X(c_x, c_y, p, length_scale=X_length_scale, nu=X_nu)\n",
    "else:\n",
    "#     X = np.random.randn(n,p)\n",
    "    X = np.random.uniform(size=(n,p))\n",
    "\n",
    "beta = np.zeros(p)\n",
    "idx = np.random.choice(p,size=s)\n",
    "beta[idx] = np.random.uniform(-1,1,size=s)"
   ]
  },
  {
   "cell_type": "code",
   "execution_count": 11,
   "id": "89b37186",
   "metadata": {
    "execution": {
     "iopub.execute_input": "2022-06-26T23:59:00.485526Z",
     "iopub.status.busy": "2022-06-26T23:59:00.485343Z",
     "iopub.status.idle": "2022-06-27T00:06:17.899992Z",
     "shell.execute_reply": "2022-06-27T00:06:17.898619Z"
    },
    "papermill": {
     "duration": 436.220113,
     "end_time": "2022-06-27T00:06:16.693078",
     "exception": false,
     "start_time": "2022-06-26T23:59:00.472965",
     "status": "completed"
    },
    "tags": []
   },
   "outputs": [
    {
     "name": "stdout",
     "output_type": "stream",
     "text": [
      "[BlurredForest(max_depth=6, n_estimators=50), BlurredForest(max_depth=6, n_estimators=50), BlurredForest(max_depth=6, n_estimators=50), BlurredForest(max_depth=6, n_estimators=50), BlurredForest(max_depth=6, n_estimators=50)]\n",
      "0\n",
      "0.5833333333333334\n"
     ]
    },
    {
     "name": "stdout",
     "output_type": "stream",
     "text": [
      "10\n"
     ]
    },
    {
     "name": "stdout",
     "output_type": "stream",
     "text": [
      "20\n"
     ]
    },
    {
     "name": "stdout",
     "output_type": "stream",
     "text": [
      "30\n"
     ]
    },
    {
     "ename": "KeyboardInterrupt",
     "evalue": "",
     "output_type": "error",
     "traceback": [
      "\u001b[0;31m---------------------------------------------------------------------------\u001b[0m",
      "\u001b[0;31mKeyboardInterrupt\u001b[0m                         Traceback (most recent call last)",
      "Input \u001b[0;32mIn [11]\u001b[0m, in \u001b[0;36m<cell line: 5>\u001b[0;34m()\u001b[0m\n\u001b[1;32m      1\u001b[0m (test_err,\n\u001b[1;32m      2\u001b[0m  rnd_err,\n\u001b[1;32m      3\u001b[0m  trc_err,\n\u001b[1;32m      4\u001b[0m  kfcv_err,\n\u001b[0;32m----> 5\u001b[0m  spcv_err) \u001b[38;5;241m=\u001b[39m \u001b[43merr_cmp\u001b[49m\u001b[38;5;241;43m.\u001b[39;49m\u001b[43mcompare\u001b[49m\u001b[43m(\u001b[49m\u001b[43mmodels\u001b[49m\u001b[43m,\u001b[49m\n\u001b[1;32m      6\u001b[0m \u001b[43m                             \u001b[49m\u001b[43mests\u001b[49m\u001b[43m,\u001b[49m\n\u001b[1;32m      7\u001b[0m \u001b[43m                             \u001b[49m\u001b[43mest_kwargs\u001b[49m\u001b[43m,\u001b[49m\n\u001b[1;32m      8\u001b[0m \u001b[43m                             \u001b[49m\u001b[43mniter\u001b[49m\u001b[38;5;241;43m=\u001b[39;49m\u001b[43mniter\u001b[49m\u001b[43m,\u001b[49m\n\u001b[1;32m      9\u001b[0m \u001b[43m                             \u001b[49m\u001b[43mn\u001b[49m\u001b[38;5;241;43m=\u001b[39;49m\u001b[43mn\u001b[49m\u001b[43m,\u001b[49m\n\u001b[1;32m     10\u001b[0m \u001b[43m                             \u001b[49m\u001b[43mp\u001b[49m\u001b[38;5;241;43m=\u001b[39;49m\u001b[43mp\u001b[49m\u001b[43m,\u001b[49m\n\u001b[1;32m     11\u001b[0m \u001b[43m                             \u001b[49m\u001b[43ms\u001b[49m\u001b[38;5;241;43m=\u001b[39;49m\u001b[43mp\u001b[49m\u001b[43m,\u001b[49m\n\u001b[1;32m     12\u001b[0m \u001b[43m                             \u001b[49m\u001b[43msnr\u001b[49m\u001b[38;5;241;43m=\u001b[39;49m\u001b[43msnr\u001b[49m\u001b[43m,\u001b[49m\u001b[43m \u001b[49m\n\u001b[1;32m     13\u001b[0m \u001b[43m                             \u001b[49m\u001b[43mX\u001b[49m\u001b[38;5;241;43m=\u001b[39;49m\u001b[43mX\u001b[49m\u001b[43m,\u001b[49m\n\u001b[1;32m     14\u001b[0m \u001b[43m                             \u001b[49m\u001b[43mbeta\u001b[49m\u001b[38;5;241;43m=\u001b[39;49m\u001b[43mbeta\u001b[49m\u001b[43m,\u001b[49m\n\u001b[1;32m     15\u001b[0m \u001b[43m                             \u001b[49m\u001b[43mcoord\u001b[49m\u001b[38;5;241;43m=\u001b[39;49m\u001b[43mcoord\u001b[49m\u001b[43m,\u001b[49m\n\u001b[1;32m     16\u001b[0m \u001b[43m                             \u001b[49m\u001b[43mChol_t\u001b[49m\u001b[38;5;241;43m=\u001b[39;49m\u001b[43mChol_t\u001b[49m\u001b[43m,\u001b[49m\n\u001b[1;32m     17\u001b[0m \u001b[43m                             \u001b[49m\u001b[43mChol_s\u001b[49m\u001b[38;5;241;43m=\u001b[39;49m\u001b[38;5;28;43;01mNone\u001b[39;49;00m\u001b[43m,\u001b[49m\n\u001b[1;32m     18\u001b[0m \u001b[43m                             \u001b[49m\u001b[43mtr_idx\u001b[49m\u001b[38;5;241;43m=\u001b[39;49m\u001b[38;5;28;43;01mNone\u001b[39;49;00m\u001b[43m,\u001b[49m\u001b[38;5;66;43;03m#np.ones(n, dtype=bool),\u001b[39;49;00m\n\u001b[1;32m     19\u001b[0m \u001b[43m                             \u001b[49m\u001b[43mfair\u001b[49m\u001b[38;5;241;43m=\u001b[39;49m\u001b[38;5;28;43;01mFalse\u001b[39;49;00m\u001b[43m,\u001b[49m\n\u001b[1;32m     20\u001b[0m \u001b[43m                             \u001b[49m\u001b[43m)\u001b[49m\n",
      "File \u001b[0;32m~/Documents/GitHub/StructuredPredictionError/spe/mse_estimator.py:211\u001b[0m, in \u001b[0;36mErrorComparer.compare\u001b[0;34m(self, models, ests, est_kwargs, niter, n, p, s, snr, X, beta, coord, Chol_t, Chol_s, tr_idx, fair, tr_frac, **kwargs)\u001b[0m\n\u001b[1;32m    208\u001b[0m \t\t\test_kwargs[j]\u001b[38;5;241m.\u001b[39mpop(\u001b[38;5;124m'\u001b[39m\u001b[38;5;124mtr_idx\u001b[39m\u001b[38;5;124m'\u001b[39m,\u001b[38;5;28;01mNone\u001b[39;00m)\n\u001b[1;32m    210\u001b[0m \t\u001b[38;5;28;01mfor\u001b[39;00m err, est, est_kwarg \u001b[38;5;129;01min\u001b[39;00m \u001b[38;5;28mzip\u001b[39m(errs, ests, est_kwargs):\n\u001b[0;32m--> 211\u001b[0m \t\terr[i] \u001b[38;5;241m=\u001b[39m \u001b[43mest\u001b[49m\u001b[43m(\u001b[49m\u001b[38;5;241;43m*\u001b[39;49m\u001b[38;5;241;43m*\u001b[39;49m\u001b[43mest_kwarg\u001b[49m\u001b[43m)\u001b[49m\n\u001b[1;32m    213\u001b[0m \u001b[38;5;28;01mreturn\u001b[39;00m errs\n",
      "File \u001b[0;32m~/Documents/GitHub/StructuredPredictionError/spe/estimators.py:1101\u001b[0m, in \u001b[0;36mbag_kmeanscv\u001b[0;34m(model, X, y, coord, k, Chol_t)\u001b[0m\n\u001b[1;32m   1099\u001b[0m \t\u001b[38;5;28;01melse\u001b[39;00m:\n\u001b[1;32m   1100\u001b[0m \t\tkwargs[\u001b[38;5;124m'\u001b[39m\u001b[38;5;124mchol_eps\u001b[39m\u001b[38;5;124m'\u001b[39m] \u001b[38;5;241m=\u001b[39m Chol_t[tr_idx,:][:,tr_idx]\n\u001b[0;32m-> 1101\u001b[0m \t\u001b[43mmodel\u001b[49m\u001b[38;5;241;43m.\u001b[39;49m\u001b[43mfit\u001b[49m\u001b[43m(\u001b[49m\u001b[43mX_tr\u001b[49m\u001b[43m,\u001b[49m\u001b[43m \u001b[49m\u001b[43my_tr\u001b[49m\u001b[43m,\u001b[49m\u001b[43m \u001b[49m\u001b[38;5;241;43m*\u001b[39;49m\u001b[38;5;241;43m*\u001b[39;49m\u001b[43mkwargs\u001b[49m\u001b[43m)\u001b[49m\n\u001b[1;32m   1102\u001b[0m \terr\u001b[38;5;241m.\u001b[39mappend(np\u001b[38;5;241m.\u001b[39mmean((y_ts \u001b[38;5;241m-\u001b[39m model\u001b[38;5;241m.\u001b[39mpredict(X_ts))\u001b[38;5;241m*\u001b[39m\u001b[38;5;241m*\u001b[39m\u001b[38;5;241m2\u001b[39m))\n\u001b[1;32m   1104\u001b[0m \u001b[38;5;28;01mreturn\u001b[39;00m np\u001b[38;5;241m.\u001b[39mmean(err)\n",
      "File \u001b[0;32m~/Documents/GitHub/StructuredPredictionError/spe/forest.py:65\u001b[0m, in \u001b[0;36mBlurredForest.fit\u001b[0;34m(self, X, y, sample_weight, chol_eps, idx_tr)\u001b[0m\n\u001b[1;32m     63\u001b[0m \u001b[38;5;28mself\u001b[39m\u001b[38;5;241m.\u001b[39my_refit_ \u001b[38;5;241m=\u001b[39m y\n\u001b[1;32m     64\u001b[0m \u001b[38;5;28msuper\u001b[39m()\u001b[38;5;241m.\u001b[39mfit(X,y,sample_weight\u001b[38;5;241m=\u001b[39msample_weight, chol_eps\u001b[38;5;241m=\u001b[39mchol_eps, idx_tr\u001b[38;5;241m=\u001b[39midx_tr)\n\u001b[0;32m---> 65\u001b[0m \u001b[38;5;28mself\u001b[39m\u001b[38;5;241m.\u001b[39mw_refit_ \u001b[38;5;241m=\u001b[39m [y \u001b[38;5;241m+\u001b[39m eps \u001b[38;5;28;01mfor\u001b[39;00m eps \u001b[38;5;129;01min\u001b[39;00m \u001b[38;5;28mself\u001b[39m\u001b[38;5;241m.\u001b[39meps_]\n\u001b[1;32m     67\u001b[0m \u001b[38;5;28;01mreturn\u001b[39;00m \u001b[38;5;28mself\u001b[39m\n",
      "\u001b[0;31mKeyboardInterrupt\u001b[0m: "
     ]
    }
   ],
   "source": [
    "(test_err,\n",
    " rnd_err,\n",
    " trc_err,\n",
    " kfcv_err,\n",
    " spcv_err) = err_cmp.compare(models,\n",
    "                             ests,\n",
    "                             est_kwargs,\n",
    "                             niter=niter,\n",
    "                             n=n,\n",
    "                             p=p,\n",
    "                             s=p,\n",
    "                             snr=snr, \n",
    "                             X=X,\n",
    "                             beta=beta,\n",
    "                             coord=coord,\n",
    "                             Chol_t=Chol_t,\n",
    "                             Chol_s=None,\n",
    "                             tr_idx=None,#np.ones(n, dtype=bool),\n",
    "                             fair=False,\n",
    "                             )"
   ]
  },
  {
   "cell_type": "code",
   "execution_count": null,
   "id": "912aab21",
   "metadata": {
    "papermill": {
     "duration": null,
     "end_time": null,
     "exception": null,
     "start_time": null,
     "status": "completed"
    },
    "tags": []
   },
   "outputs": [],
   "source": [
    "risk = test_err.mean()\n",
    "risk_kfcv = kfcv_err.mean()\n",
    "risk_spcv = spcv_err.mean()\n",
    "risk_rnd = rnd_err.mean()\n",
    "risk_trc = trc_err.mean()\n",
    "# risk, risk_kfcv, risk_spcv, risk_lin"
   ]
  },
  {
   "cell_type": "code",
   "execution_count": null,
   "id": "8a98a29c",
   "metadata": {
    "papermill": {
     "duration": null,
     "end_time": null,
     "exception": null,
     "start_time": null,
     "status": "completed"
    },
    "tags": []
   },
   "outputs": [],
   "source": [
    "save_df = pd.DataFrame({'Rand_FR': (rnd_err.T),\n",
    "                        'Trace_FR': (trc_err.T),\n",
    "                        'KFCV': (kfcv_err.T),\n",
    "                        'SPCV': (spcv_err.T),\n",
    "                        'Test': (test_err.T)})\n",
    "save_df.to_csv(dffp)"
   ]
  },
  {
   "cell_type": "code",
   "execution_count": null,
   "id": "885e309c",
   "metadata": {
    "papermill": {
     "duration": null,
     "end_time": null,
     "exception": null,
     "start_time": null,
     "status": "completed"
    },
    "tags": []
   },
   "outputs": [],
   "source": [
    "df = pd.DataFrame({'Rand_FR': (rnd_err.T),\n",
    "                   'Trace_FR': (trc_err.T),\n",
    "                   'KFCV': (kfcv_err.T),\n",
    "                   'SPCV': (spcv_err.T)})"
   ]
  },
  {
   "cell_type": "code",
   "execution_count": null,
   "id": "72ed2cd8",
   "metadata": {
    "papermill": {
     "duration": null,
     "end_time": null,
     "exception": null,
     "start_time": null,
     "status": "completed"
    },
    "tags": []
   },
   "outputs": [],
   "source": [
    "(df/risk).mean()"
   ]
  },
  {
   "cell_type": "code",
   "execution_count": null,
   "id": "d8b1ea1a",
   "metadata": {
    "papermill": {
     "duration": null,
     "end_time": null,
     "exception": null,
     "start_time": null,
     "status": "completed"
    },
    "tags": []
   },
   "outputs": [],
   "source": [
    "df.var(), (df/risk).var()"
   ]
  },
  {
   "cell_type": "code",
   "execution_count": null,
   "id": "20799597",
   "metadata": {
    "papermill": {
     "duration": null,
     "end_time": null,
     "exception": null,
     "start_time": null,
     "status": "completed"
    },
    "scrolled": false,
    "tags": []
   },
   "outputs": [],
   "source": [
    "fig = go.Figure()\n",
    "fig.add_trace(go.Bar(\n",
    "    name='Control',\n",
    "    x=['Rand_FR', 'Trace_FR', 'KFCV', 'SPCV'], y=(df/risk).mean(),\n",
    "    marker_color=px.colors.qualitative.Plotly,\n",
    "    text=np.around((df/risk).mean(),3),\n",
    "    textposition='outside',\n",
    "    error_y=dict(\n",
    "        type='data',\n",
    "        color='black',\n",
    "        symmetric=False,\n",
    "        array=(df/risk).quantile(.75),\n",
    "        arrayminus=(df/risk).quantile(.25))\n",
    "#         array=(df/risk).mean() + (df/risk).std(),\n",
    "#         arrayminus=(df/risk).mean() - (df/risk).std())\n",
    "))\n",
    "# fig.add_trace(go.Bar(\n",
    "#     name='Experimental',\n",
    "#     x=['GenCp', 'KFCV', 'SPCV'], y=(df/risk).mean(),\n",
    "#     error_y=dict(type='data', array=[1, 2])\n",
    "# ))\n",
    "# fig.update_layout(barmode='group')\n",
    "fig.add_hline(y=1., line_color='red')\n",
    "fig.update_layout(\n",
    "    title=f\"BFFR_\\u03B4{delta}_snr{snr}_nk{noise_kernel}_nls{noise_length_scale}_nv{noise_nu}_Xk{X_kernel}_Xls{X_length_scale}_Xv{X_nu}\",\n",
    "    xaxis_title=\"Method\",\n",
    "    yaxis_title=\"Relative MSE\",\n",
    "#     legend_title=\"Legend Title\",\n",
    "#     font=dict(\n",
    "#         family=\"Courier New, monospace\",\n",
    "#         size=18,\n",
    "#         color=\"RebeccaPurple\"\n",
    "#     )\n",
    ")\n",
    "barfp = os.path.expanduser(savedir + fig.layout.title['text'] + \".jpeg\")\n",
    "fig.write_image(os.path.expanduser(barfp))\n",
    "fig.show()"
   ]
  },
  {
   "cell_type": "code",
   "execution_count": null,
   "id": "fc948f22",
   "metadata": {
    "papermill": {
     "duration": null,
     "end_time": null,
     "exception": null,
     "start_time": null,
     "status": "completed"
    },
    "tags": []
   },
   "outputs": [],
   "source": []
  },
  {
   "cell_type": "code",
   "execution_count": null,
   "id": "c08c2d71",
   "metadata": {
    "papermill": {
     "duration": null,
     "end_time": null,
     "exception": null,
     "start_time": null,
     "status": "completed"
    },
    "tags": []
   },
   "outputs": [],
   "source": []
  }
 ],
 "metadata": {
  "celltoolbar": "Tags",
  "kernelspec": {
   "display_name": "blur",
   "language": "python",
   "name": "blur"
  },
  "language_info": {
   "codemirror_mode": {
    "name": "ipython",
    "version": 3
   },
   "file_extension": ".py",
   "mimetype": "text/x-python",
   "name": "python",
   "nbconvert_exporter": "python",
   "pygments_lexer": "ipython3",
   "version": "3.8.13"
  },
  "papermill": {
   "default_parameters": {},
   "duration": 442.081631,
   "end_time": "2022-06-27T00:06:19.426018",
   "environment_variables": {},
   "exception": null,
   "input_path": "/Users/kevinfry/Documents/GitHub/StructuredPredictionError/papermill_templates/BFTemplate.ipynb",
   "output_path": "/Users/kevinfry/Documents/GitHub/StructuredPredictionError/papermill_templates/output/BF/BFFR_our_vs_CV/run_43_δ0.5_snr1.0_nkmatern_nls5.0_nv0.5_Xkmatern_Xls5.0_Xv2.5/δ0.5_snr1.0_nkmatern_nls5.0_nv0.5_Xkmatern_Xls5.0_Xv2.5.ipynb",
   "parameters": {
    "X_kernel": "matern",
    "X_length_scale": 5.0,
    "X_nu": 2.5,
    "delta": 0.5,
    "idx": 43,
    "k": 10,
    "n": 900,
    "niter": 100,
    "noise_kernel": "matern",
    "noise_length_scale": 5.0,
    "noise_nu": 0.5,
    "p": 30,
    "s": 30,
    "savedir": "/Users/kevinfry/Documents/GitHub/StructuredPredictionError/papermill_templates/output/BF/BFFR_our_vs_CV/run_43_δ0.5_snr1.0_nkmatern_nls5.0_nv0.5_Xkmatern_Xls5.0_Xv2.5/",
    "snr": 1.0
   },
   "start_time": "2022-06-26T23:58:57.344387",
   "version": "2.3.4"
  }
 },
 "nbformat": 4,
 "nbformat_minor": 5
}