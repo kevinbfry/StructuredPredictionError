{
 "cells": [
  {
   "cell_type": "code",
   "execution_count": 1,
   "id": "e4a733af",
   "metadata": {
    "execution": {
     "iopub.execute_input": "2022-06-25T04:57:04.152003Z",
     "iopub.status.busy": "2022-06-25T04:57:04.151710Z",
     "iopub.status.idle": "2022-06-25T04:57:06.404742Z",
     "shell.execute_reply": "2022-06-25T04:57:06.403860Z"
    },
    "papermill": {
     "duration": 2.273012,
     "end_time": "2022-06-25T04:57:06.407225",
     "exception": false,
     "start_time": "2022-06-25T04:57:04.134213",
     "status": "completed"
    },
    "tags": []
   },
   "outputs": [],
   "source": [
    "import numpy as np\n",
    "import pandas as pd\n",
    "from sklearn.linear_model import Lasso, LinearRegression\n",
    "from sklearn.cluster import KMeans\n",
    "from sklearn.gaussian_process.kernels import Matern, RBF\n",
    "\n",
    "import plotly.express as px\n",
    "\n",
    "import plotly.graph_objects as go\n",
    "\n",
    "from scipy.linalg import toeplitz, block_diag\n",
    "\n",
    "from spe.mse_estimator import ErrorComparer\n",
    "from spe.data_generation import gen_rbf_X, gen_matern_X, create_clus_split, gen_cov_mat\n",
    "from spe.relaxed_lasso import RelaxedLasso\n",
    "from spe.estimators import kfoldcv, kmeanscv, better_test_est_split, cp_relaxed_lasso_train_test, bag_kfoldcv, bag_kmeanscv\n",
    "\n",
    "import os"
   ]
  },
  {
   "cell_type": "code",
   "execution_count": 2,
   "id": "97e9db10",
   "metadata": {
    "execution": {
     "iopub.execute_input": "2022-06-25T04:57:06.440498Z",
     "iopub.status.busy": "2022-06-25T04:57:06.440213Z",
     "iopub.status.idle": "2022-06-25T04:57:06.445736Z",
     "shell.execute_reply": "2022-06-25T04:57:06.444869Z"
    },
    "papermill": {
     "duration": 0.024321,
     "end_time": "2022-06-25T04:57:06.447899",
     "exception": false,
     "start_time": "2022-06-25T04:57:06.423578",
     "status": "completed"
    },
    "tags": [
     "parameters"
    ]
   },
   "outputs": [],
   "source": [
    "niter = 50\n",
    "\n",
    "n=20**2\n",
    "p=500\n",
    "s=30\n",
    "\n",
    "k=2\n",
    "\n",
    "alpha = 1.#0.05\n",
    "delta = 0.8\n",
    "\n",
    "lambd = 1.\n",
    "nboot = 1#100\n",
    "\n",
    "snr = 0.4\n",
    "\n",
    "noise_kernel = 'matern'\n",
    "noise_length_scale = 1.\n",
    "noise_nu = 0.5\n",
    "\n",
    "X_kernel = 'matern'\n",
    "X_length_scale = 1.\n",
    "X_nu = 2.5\n",
    "\n",
    "idx = -1\n",
    "\n",
    "savedir='~'"
   ]
  },
  {
   "cell_type": "code",
   "execution_count": 3,
   "id": "12890e5a",
   "metadata": {
    "execution": {
     "iopub.execute_input": "2022-06-25T04:57:06.478193Z",
     "iopub.status.busy": "2022-06-25T04:57:06.477925Z",
     "iopub.status.idle": "2022-06-25T04:57:06.482899Z",
     "shell.execute_reply": "2022-06-25T04:57:06.481992Z"
    },
    "papermill": {
     "duration": 0.022714,
     "end_time": "2022-06-25T04:57:06.485042",
     "exception": false,
     "start_time": "2022-06-25T04:57:06.462328",
     "status": "completed"
    },
    "tags": [
     "injected-parameters"
    ]
   },
   "outputs": [],
   "source": [
    "# Parameters\n",
    "niter = 100\n",
    "n = 400\n",
    "p = 500\n",
    "s = 30\n",
    "k = 10\n",
    "snr = 1.0\n",
    "lambd = 1.0\n",
    "delta = 0.8\n",
    "alpha = 0.05\n",
    "nboot = 100\n",
    "noise_kernel = \"matern\"\n",
    "noise_length_scale = 1.0\n",
    "noise_nu = 0.5\n",
    "X_kernel = \"matern\"\n",
    "X_length_scale = 1.0\n",
    "X_nu = 0.5\n",
    "savedir = \"/Users/kevinfry/Documents/GitHub/StructuredPredictionError/papermill_templates/output/RL/RLWR_our_vs_CV_alpha05/run_48_\\u03b1=0.05_\\u03b40.8_snr1.0_nkmatern_nls1.0_nv0.5_Xkmatern_Xls1.0_Xv0.5/\"\n",
    "idx = 0\n"
   ]
  },
  {
   "cell_type": "code",
   "execution_count": 4,
   "id": "0f0470da",
   "metadata": {
    "execution": {
     "iopub.execute_input": "2022-06-25T04:57:06.514172Z",
     "iopub.status.busy": "2022-06-25T04:57:06.513948Z",
     "iopub.status.idle": "2022-06-25T04:57:06.517630Z",
     "shell.execute_reply": "2022-06-25T04:57:06.516892Z"
    },
    "papermill": {
     "duration": 0.020956,
     "end_time": "2022-06-25T04:57:06.519837",
     "exception": false,
     "start_time": "2022-06-25T04:57:06.498881",
     "status": "completed"
    },
    "tags": []
   },
   "outputs": [],
   "source": [
    "# noise_kernel = kernel\n",
    "# noise_length_scale = length_scale\n",
    "# noise_nu = nu\n",
    "\n",
    "if X_kernel is None:\n",
    "    X_kernel = kernel\n",
    "if X_length_scale is None:\n",
    "    X_length_scale = noise_length_scale\n",
    "if X_nu is None:\n",
    "    X_nu = noise_nu\n"
   ]
  },
  {
   "cell_type": "code",
   "execution_count": 5,
   "id": "44bf937e",
   "metadata": {
    "execution": {
     "iopub.execute_input": "2022-06-25T04:57:06.552973Z",
     "iopub.status.busy": "2022-06-25T04:57:06.552711Z",
     "iopub.status.idle": "2022-06-25T04:57:06.557832Z",
     "shell.execute_reply": "2022-06-25T04:57:06.556947Z"
    },
    "papermill": {
     "duration": 0.023443,
     "end_time": "2022-06-25T04:57:06.560108",
     "exception": false,
     "start_time": "2022-06-25T04:57:06.536665",
     "status": "completed"
    },
    "tags": []
   },
   "outputs": [],
   "source": [
    "models = RelaxedLasso(lambd=lambd)\n",
    "\n",
    "ests = [better_test_est_split,\n",
    "        cp_relaxed_lasso_train_test, \n",
    "        cp_relaxed_lasso_train_test, \n",
    "        kfoldcv, \n",
    "        kmeanscv]\n",
    "est_kwargs = [{'w_fit': True},\n",
    "              {'alpha': alpha, \n",
    "               'use_trace_corr': False, \n",
    "               'full_refit': False,\n",
    "               'nboot': nboot}, \n",
    "              {'alpha': alpha, \n",
    "               'use_trace_corr': True, \n",
    "               'full_refit': False,\n",
    "               'nboot': nboot},\n",
    "              {'k': k},\n",
    "              {'k': k}]"
   ]
  },
  {
   "cell_type": "code",
   "execution_count": 6,
   "id": "c9666f6f",
   "metadata": {
    "execution": {
     "iopub.execute_input": "2022-06-25T04:57:06.592911Z",
     "iopub.status.busy": "2022-06-25T04:57:06.592679Z",
     "iopub.status.idle": "2022-06-25T04:57:06.602441Z",
     "shell.execute_reply": "2022-06-25T04:57:06.601781Z"
    },
    "papermill": {
     "duration": 0.029346,
     "end_time": "2022-06-25T04:57:06.604605",
     "exception": false,
     "start_time": "2022-06-25T04:57:06.575259",
     "status": "completed"
    },
    "tags": []
   },
   "outputs": [],
   "source": [
    "if not os.path.exists(os.path.expanduser(savedir)):\n",
    "    os.makedirs(os.path.expanduser(savedir))\n",
    "\n",
    "params = pd.DataFrame({'niter': niter,\n",
    "                       'n': n, \n",
    "                       'p': p, \n",
    "                       's': s,\n",
    "                       'k': k,\n",
    "                       'snr': snr,\n",
    "                       'lambd': lambd,\n",
    "                       'alpha': alpha,\n",
    "                       'delta': delta,\n",
    "                       'nboot': nboot,\n",
    "                       'nk': noise_kernel, \n",
    "                       'nls': noise_length_scale, \n",
    "                       'nn': noise_nu, \n",
    "                       'xk': X_kernel,\n",
    "                       'xls': X_length_scale,\n",
    "                       'xn': X_nu}, index=[idx])\n",
    "params.to_csv(os.path.expanduser(savedir + 'params.csv'))\n",
    "dffp = os.path.expanduser(savedir + \"err_df.csv\")\n",
    "# barfp = os.path.expanduser(savedir + 'barchart.jpeg')"
   ]
  },
  {
   "cell_type": "code",
   "execution_count": 7,
   "id": "115738ad",
   "metadata": {
    "execution": {
     "iopub.execute_input": "2022-06-25T04:57:06.635443Z",
     "iopub.status.busy": "2022-06-25T04:57:06.635205Z",
     "iopub.status.idle": "2022-06-25T04:57:06.638552Z",
     "shell.execute_reply": "2022-06-25T04:57:06.637737Z"
    },
    "papermill": {
     "duration": 0.021221,
     "end_time": "2022-06-25T04:57:06.640814",
     "exception": false,
     "start_time": "2022-06-25T04:57:06.619593",
     "status": "completed"
    },
    "tags": []
   },
   "outputs": [],
   "source": [
    "err_cmp = ErrorComparer()"
   ]
  },
  {
   "cell_type": "code",
   "execution_count": 8,
   "id": "25a053fa",
   "metadata": {
    "execution": {
     "iopub.execute_input": "2022-06-25T04:57:06.673642Z",
     "iopub.status.busy": "2022-06-25T04:57:06.673361Z",
     "iopub.status.idle": "2022-06-25T04:57:06.678718Z",
     "shell.execute_reply": "2022-06-25T04:57:06.677967Z"
    },
    "papermill": {
     "duration": 0.023962,
     "end_time": "2022-06-25T04:57:06.680974",
     "exception": false,
     "start_time": "2022-06-25T04:57:06.657012",
     "status": "completed"
    },
    "tags": []
   },
   "outputs": [],
   "source": [
    "nx = ny = int(np.sqrt(n))\n",
    "xs = np.linspace(0, 10, nx)\n",
    "ys = np.linspace(0, 10, ny)\n",
    "c_x, c_y = np.meshgrid(xs, ys)\n",
    "c_x = c_x.flatten()\n",
    "c_y = c_y.flatten()\n",
    "coord = np.stack([c_x, c_y]).T"
   ]
  },
  {
   "cell_type": "code",
   "execution_count": 9,
   "id": "1614790b",
   "metadata": {
    "execution": {
     "iopub.execute_input": "2022-06-25T04:57:06.712322Z",
     "iopub.status.busy": "2022-06-25T04:57:06.712059Z",
     "iopub.status.idle": "2022-06-25T04:57:06.723324Z",
     "shell.execute_reply": "2022-06-25T04:57:06.722595Z"
    },
    "papermill": {
     "duration": 0.029336,
     "end_time": "2022-06-25T04:57:06.725767",
     "exception": false,
     "start_time": "2022-06-25T04:57:06.696431",
     "status": "completed"
    },
    "tags": []
   },
   "outputs": [],
   "source": [
    "if noise_kernel == 'rbf':\n",
    "    Sigma_t = gen_cov_mat(c_x, c_y, RBF(length_scale=noise_length_scale))\n",
    "elif noise_kernel == 'matern':\n",
    "    Sigma_t = gen_cov_mat(c_x, c_y, Matern(length_scale=noise_length_scale, nu=noise_nu))\n",
    "else:\n",
    "    Sigma_t = np.eye(n)\n",
    "    \n",
    "Sigma_t = delta*Sigma_t + (1-delta)*np.eye(n)\n",
    "\n",
    "if noise_kernel == 'rbf' or noise_kernel == 'matern':\n",
    "    Chol_t = np.linalg.cholesky(Sigma_t)\n",
    "else:\n",
    "    Chol_t = np.eye(n)"
   ]
  },
  {
   "cell_type": "code",
   "execution_count": 10,
   "id": "7ee3f50d",
   "metadata": {
    "execution": {
     "iopub.execute_input": "2022-06-25T04:57:06.757281Z",
     "iopub.status.busy": "2022-06-25T04:57:06.756995Z",
     "iopub.status.idle": "2022-06-25T04:57:06.830110Z",
     "shell.execute_reply": "2022-06-25T04:57:06.829270Z"
    },
    "papermill": {
     "duration": 0.092375,
     "end_time": "2022-06-25T04:57:06.832828",
     "exception": false,
     "start_time": "2022-06-25T04:57:06.740453",
     "status": "completed"
    },
    "tags": []
   },
   "outputs": [],
   "source": [
    "if X_kernel == 'rbf':\n",
    "    X = gen_rbf_X(c_x, c_y, p)\n",
    "elif X_kernel == 'matern':\n",
    "    X = gen_matern_X(c_x, c_y, p, length_scale=X_length_scale, nu=X_nu)\n",
    "else:\n",
    "    X = np.random.randn(n,p)\n",
    "\n",
    "beta = np.zeros(p)\n",
    "idx = np.random.choice(p,size=s)\n",
    "beta[idx] = np.random.uniform(-1,1,size=s)"
   ]
  },
  {
   "cell_type": "code",
   "execution_count": 11,
   "id": "e58091a5",
   "metadata": {
    "execution": {
     "iopub.execute_input": "2022-06-25T04:57:06.867540Z",
     "iopub.status.busy": "2022-06-25T04:57:06.867273Z"
    },
    "papermill": {
     "duration": 28.897994,
     "end_time": "2022-06-25T04:57:35.747423",
     "exception": false,
     "start_time": "2022-06-25T04:57:06.849429",
     "status": "completed"
    },
    "tags": []
   },
   "outputs": [
    {
     "name": "stdout",
     "output_type": "stream",
     "text": [
      "[RelaxedLasso(), RelaxedLasso(), RelaxedLasso(), RelaxedLasso(), RelaxedLasso()]\n",
      "0\n",
      "0.5625\n"
     ]
    },
    {
     "name": "stdout",
     "output_type": "stream",
     "text": [
      "10\n"
     ]
    }
   ],
   "source": [
    "(test_err,\n",
    " rnd_err,\n",
    " trc_err,\n",
    " kfcv_err,\n",
    " spcv_err) = err_cmp.compare(models,\n",
    "                             ests,\n",
    "                             est_kwargs,\n",
    "                             niter=niter,\n",
    "                             n=n,\n",
    "                             p=p,\n",
    "                             s=p,\n",
    "                             snr=snr, \n",
    "                             X=X,\n",
    "                             beta=beta,\n",
    "                             coord=coord,\n",
    "                             Chol_t=Chol_t,\n",
    "                             Chol_s=None,\n",
    "                             tr_idx=None,\n",
    "                             fair=False,\n",
    "                             )"
   ]
  },
  {
   "cell_type": "code",
   "execution_count": null,
   "id": "bae1484e",
   "metadata": {
    "papermill": {
     "duration": null,
     "end_time": null,
     "exception": null,
     "start_time": null,
     "status": "completed"
    },
    "tags": []
   },
   "outputs": [],
   "source": [
    "risk = test_err.mean()\n",
    "risk_kfcv = kfcv_err.mean()\n",
    "risk_spcv = spcv_err.mean()\n",
    "risk_rnd = rnd_err.mean()\n",
    "risk_trc = trc_err.mean()\n",
    "# risk, risk_kfcv, risk_spcv, risk_lin"
   ]
  },
  {
   "cell_type": "code",
   "execution_count": null,
   "id": "318136e9",
   "metadata": {
    "papermill": {
     "duration": null,
     "end_time": null,
     "exception": null,
     "start_time": null,
     "status": "completed"
    },
    "tags": []
   },
   "outputs": [],
   "source": [
    "save_df = pd.DataFrame({'Rand_WR': (rnd_err.T),\n",
    "                        'Trace_WR': (trc_err.T),\n",
    "                        'KFCV': (kfcv_err.T),\n",
    "                        'SPCV': (spcv_err.T),\n",
    "                        'Test': (test_err.T)})\n",
    "save_df.to_csv(dffp)"
   ]
  },
  {
   "cell_type": "code",
   "execution_count": null,
   "id": "49652452",
   "metadata": {
    "papermill": {
     "duration": null,
     "end_time": null,
     "exception": null,
     "start_time": null,
     "status": "completed"
    },
    "tags": []
   },
   "outputs": [],
   "source": [
    "df = pd.DataFrame({'Rand_WR': (rnd_err.T),\n",
    "                   'Trace_WR': (trc_err.T),\n",
    "                   'KFCV': (kfcv_err.T),\n",
    "                   'SPCV': (spcv_err.T)})"
   ]
  },
  {
   "cell_type": "code",
   "execution_count": null,
   "id": "311258ce",
   "metadata": {
    "papermill": {
     "duration": null,
     "end_time": null,
     "exception": null,
     "start_time": null,
     "status": "completed"
    },
    "tags": []
   },
   "outputs": [],
   "source": [
    "(df/risk).mean()"
   ]
  },
  {
   "cell_type": "code",
   "execution_count": null,
   "id": "9dea46d2",
   "metadata": {
    "papermill": {
     "duration": null,
     "end_time": null,
     "exception": null,
     "start_time": null,
     "status": "completed"
    },
    "tags": []
   },
   "outputs": [],
   "source": [
    "df.var(), (df/risk).var()"
   ]
  },
  {
   "cell_type": "code",
   "execution_count": null,
   "id": "63b5aba4",
   "metadata": {
    "papermill": {
     "duration": null,
     "end_time": null,
     "exception": null,
     "start_time": null,
     "status": "completed"
    },
    "tags": []
   },
   "outputs": [],
   "source": [
    "fig = go.Figure()\n",
    "fig.add_trace(go.Bar(\n",
    "    name='Control',\n",
    "    x=['Rand_WR', 'Trace_WR', 'KFCV', 'SPCV'], y=(df/risk).mean(),\n",
    "    marker_color=px.colors.qualitative.Plotly,\n",
    "    text=np.around((df/risk).mean(),3),\n",
    "    textposition='outside',\n",
    "    error_y=dict(\n",
    "        type='data',\n",
    "        color='black',\n",
    "        symmetric=False,\n",
    "        array=(df/risk).quantile(.75),\n",
    "        arrayminus=(df/risk).quantile(.25))\n",
    "#         array=(df/risk).mean() + (df/risk).std(),\n",
    "#         arrayminus=(df/risk).mean() - (df/risk).std())\n",
    "))\n",
    "# fig.add_trace(go.Bar(\n",
    "#     name='Experimental',\n",
    "#     x=['GenCp', 'KFCV', 'SPCV'], y=(df/risk).mean(),\n",
    "#     error_y=dict(type='data', array=[1, 2])\n",
    "# ))\n",
    "# fig.update_layout(barmode='group')\n",
    "fig.add_hline(y=1., line_color='red')\n",
    "fig.update_layout(\n",
    "    title=f\"RL_\\u03B1={alpha}_\\u03B4{delta}_snr{snr}_nk{noise_kernel}_nls{noise_length_scale}_nv{noise_nu}_Xk{X_kernel}_Xls{X_length_scale}_Xv{X_nu}\",\n",
    "    xaxis_title=\"Method\",\n",
    "    yaxis_title=\"Relative MSE\",\n",
    "#     legend_title=\"Legend Title\",\n",
    "#     font=dict(\n",
    "#         family=\"Courier New, monospace\",\n",
    "#         size=18,\n",
    "#         color=\"RebeccaPurple\"\n",
    "#     )\n",
    ")\n",
    "barfp = os.path.expanduser(savedir + fig.layout.title['text'] + \".jpeg\")\n",
    "fig.write_image(os.path.expanduser(barfp))\n",
    "fig.show()"
   ]
  },
  {
   "cell_type": "code",
   "execution_count": null,
   "id": "265e64e7",
   "metadata": {
    "papermill": {
     "duration": null,
     "end_time": null,
     "exception": null,
     "start_time": null,
     "status": "completed"
    },
    "tags": []
   },
   "outputs": [],
   "source": []
  }
 ],
 "metadata": {
  "celltoolbar": "Tags",
  "kernelspec": {
   "display_name": "blur",
   "language": "python",
   "name": "blur"
  },
  "language_info": {
   "codemirror_mode": {
    "name": "ipython",
    "version": 3
   },
   "file_extension": ".py",
   "mimetype": "text/x-python",
   "name": "python",
   "nbconvert_exporter": "python",
   "pygments_lexer": "ipython3",
   "version": "3.8.13"
  },
  "papermill": {
   "default_parameters": {},
   "duration": 35.338831,
   "end_time": "2022-06-25T04:57:38.391567",
   "environment_variables": {},
   "exception": null,
   "input_path": "/Users/kevinfry/Documents/GitHub/StructuredPredictionError/papermill_templates/RLTemplate.ipynb",
   "output_path": "/Users/kevinfry/Documents/GitHub/StructuredPredictionError/papermill_templates/output/RL/RLWR_our_vs_CV_alpha05/run_48_α=0.05_δ0.8_snr1.0_nkmatern_nls1.0_nv0.5_Xkmatern_Xls1.0_Xv0.5/α=0.05_δ0.8_snr1.0_nkmatern_nls1.0_nv0.5_Xkmatern_Xls1.0_Xv0.5.ipynb",
   "parameters": {
    "X_kernel": "matern",
    "X_length_scale": 1.0,
    "X_nu": 0.5,
    "alpha": 0.05,
    "delta": 0.8,
    "idx": 0,
    "k": 10,
    "lambd": 1.0,
    "n": 400,
    "nboot": 100,
    "niter": 100,
    "noise_kernel": "matern",
    "noise_length_scale": 1.0,
    "noise_nu": 0.5,
    "p": 500,
    "s": 30,
    "savedir": "/Users/kevinfry/Documents/GitHub/StructuredPredictionError/papermill_templates/output/RL/RLWR_our_vs_CV_alpha05/run_48_α=0.05_δ0.8_snr1.0_nkmatern_nls1.0_nv0.5_Xkmatern_Xls1.0_Xv0.5/",
    "snr": 1.0
   },
   "start_time": "2022-06-25T04:57:03.052736",
   "version": "2.3.4"
  }
 },
 "nbformat": 4,
 "nbformat_minor": 5
}