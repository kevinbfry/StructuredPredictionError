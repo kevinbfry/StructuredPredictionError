{
 "cells": [
  {
   "cell_type": "code",
   "execution_count": 1,
   "id": "530c162c",
   "metadata": {
    "execution": {
     "iopub.execute_input": "2022-06-25T04:51:43.852647Z",
     "iopub.status.busy": "2022-06-25T04:51:43.852384Z",
     "iopub.status.idle": "2022-06-25T04:51:45.690832Z",
     "shell.execute_reply": "2022-06-25T04:51:45.689816Z"
    },
    "papermill": {
     "duration": 1.858307,
     "end_time": "2022-06-25T04:51:45.693021",
     "exception": false,
     "start_time": "2022-06-25T04:51:43.834714",
     "status": "completed"
    },
    "tags": []
   },
   "outputs": [],
   "source": [
    "import numpy as np\n",
    "import pandas as pd\n",
    "from sklearn.linear_model import Lasso, LinearRegression\n",
    "from sklearn.cluster import KMeans\n",
    "from sklearn.gaussian_process.kernels import Matern, RBF\n",
    "\n",
    "import plotly.express as px\n",
    "\n",
    "import plotly.graph_objects as go\n",
    "\n",
    "from scipy.linalg import toeplitz, block_diag\n",
    "\n",
    "from spe.mse_estimator import ErrorComparer\n",
    "from spe.data_generation import gen_rbf_X, gen_matern_X, create_clus_split, gen_cov_mat\n",
    "from spe.relaxed_lasso import RelaxedLasso\n",
    "from spe.estimators import kfoldcv, kmeanscv, better_test_est_split, cp_relaxed_lasso_train_test, bag_kfoldcv, bag_kmeanscv\n",
    "\n",
    "import os"
   ]
  },
  {
   "cell_type": "code",
   "execution_count": 2,
   "id": "40603b0e",
   "metadata": {
    "execution": {
     "iopub.execute_input": "2022-06-25T04:51:45.720517Z",
     "iopub.status.busy": "2022-06-25T04:51:45.720276Z",
     "iopub.status.idle": "2022-06-25T04:51:45.724985Z",
     "shell.execute_reply": "2022-06-25T04:51:45.724366Z"
    },
    "papermill": {
     "duration": 0.020171,
     "end_time": "2022-06-25T04:51:45.726825",
     "exception": false,
     "start_time": "2022-06-25T04:51:45.706654",
     "status": "completed"
    },
    "tags": [
     "parameters"
    ]
   },
   "outputs": [],
   "source": [
    "niter = 50\n",
    "\n",
    "n=20**2\n",
    "p=500\n",
    "s=30\n",
    "\n",
    "k=2\n",
    "\n",
    "alpha = 1.#0.05\n",
    "delta = 0.8\n",
    "\n",
    "lambd = 1.\n",
    "nboot = 1#100\n",
    "\n",
    "snr = 0.4\n",
    "\n",
    "noise_kernel = 'matern'\n",
    "noise_length_scale = 1.\n",
    "noise_nu = 0.5\n",
    "\n",
    "X_kernel = 'matern'\n",
    "X_length_scale = 1.\n",
    "X_nu = 2.5\n",
    "\n",
    "idx = -1\n",
    "\n",
    "savedir='~'"
   ]
  },
  {
   "cell_type": "code",
   "execution_count": 3,
   "id": "9389c0d1",
   "metadata": {
    "execution": {
     "iopub.execute_input": "2022-06-25T04:51:45.751575Z",
     "iopub.status.busy": "2022-06-25T04:51:45.751376Z",
     "iopub.status.idle": "2022-06-25T04:51:45.755591Z",
     "shell.execute_reply": "2022-06-25T04:51:45.755039Z"
    },
    "papermill": {
     "duration": 0.018834,
     "end_time": "2022-06-25T04:51:45.757494",
     "exception": false,
     "start_time": "2022-06-25T04:51:45.738660",
     "status": "completed"
    },
    "tags": [
     "injected-parameters"
    ]
   },
   "outputs": [],
   "source": [
    "# Parameters\n",
    "niter = 100\n",
    "n = 400\n",
    "p = 500\n",
    "s = 30\n",
    "k = 10\n",
    "snr = 1.0\n",
    "lambd = 1.0\n",
    "delta = 0.8\n",
    "alpha = 0.05\n",
    "nboot = 100\n",
    "noise_kernel = \"matern\"\n",
    "noise_length_scale = 1.0\n",
    "noise_nu = 0.5\n",
    "X_kernel = \"matern\"\n",
    "X_length_scale = 5.0\n",
    "X_nu = 0.5\n",
    "savedir = \"/Users/kevinfry/Documents/GitHub/StructuredPredictionError/papermill_templates/output/RL/RLWR_our_vs_CV_alpha05/run_50_\\u03b1=0.05_\\u03b40.8_snr1.0_nkmatern_nls1.0_nv0.5_Xkmatern_Xls5.0_Xv0.5/\"\n",
    "idx = 50\n"
   ]
  },
  {
   "cell_type": "code",
   "execution_count": 4,
   "id": "a24677b2",
   "metadata": {
    "execution": {
     "iopub.execute_input": "2022-06-25T04:51:45.782905Z",
     "iopub.status.busy": "2022-06-25T04:51:45.782707Z",
     "iopub.status.idle": "2022-06-25T04:51:45.785954Z",
     "shell.execute_reply": "2022-06-25T04:51:45.785346Z"
    },
    "papermill": {
     "duration": 0.018382,
     "end_time": "2022-06-25T04:51:45.787808",
     "exception": false,
     "start_time": "2022-06-25T04:51:45.769426",
     "status": "completed"
    },
    "tags": []
   },
   "outputs": [],
   "source": [
    "# noise_kernel = kernel\n",
    "# noise_length_scale = length_scale\n",
    "# noise_nu = nu\n",
    "\n",
    "if X_kernel is None:\n",
    "    X_kernel = kernel\n",
    "if X_length_scale is None:\n",
    "    X_length_scale = noise_length_scale\n",
    "if X_nu is None:\n",
    "    X_nu = noise_nu\n"
   ]
  },
  {
   "cell_type": "code",
   "execution_count": 5,
   "id": "5afad17d",
   "metadata": {
    "execution": {
     "iopub.execute_input": "2022-06-25T04:51:45.813168Z",
     "iopub.status.busy": "2022-06-25T04:51:45.812986Z",
     "iopub.status.idle": "2022-06-25T04:51:45.816779Z",
     "shell.execute_reply": "2022-06-25T04:51:45.816212Z"
    },
    "papermill": {
     "duration": 0.01854,
     "end_time": "2022-06-25T04:51:45.818624",
     "exception": false,
     "start_time": "2022-06-25T04:51:45.800084",
     "status": "completed"
    },
    "tags": []
   },
   "outputs": [],
   "source": [
    "models = RelaxedLasso(lambd=lambd)\n",
    "\n",
    "ests = [better_test_est_split,\n",
    "        cp_relaxed_lasso_train_test, \n",
    "        cp_relaxed_lasso_train_test, \n",
    "        kfoldcv, \n",
    "        kmeanscv]\n",
    "est_kwargs = [{'w_fit': True},\n",
    "              {'alpha': alpha, \n",
    "               'use_trace_corr': False, \n",
    "               'full_refit': False,\n",
    "               'nboot': nboot}, \n",
    "              {'alpha': alpha, \n",
    "               'use_trace_corr': True, \n",
    "               'full_refit': False,\n",
    "               'nboot': nboot},\n",
    "              {'k': k},\n",
    "              {'k': k}]"
   ]
  },
  {
   "cell_type": "code",
   "execution_count": 6,
   "id": "e5a13451",
   "metadata": {
    "execution": {
     "iopub.execute_input": "2022-06-25T04:51:45.845375Z",
     "iopub.status.busy": "2022-06-25T04:51:45.845171Z",
     "iopub.status.idle": "2022-06-25T04:51:45.854137Z",
     "shell.execute_reply": "2022-06-25T04:51:45.853159Z"
    },
    "papermill": {
     "duration": 0.024262,
     "end_time": "2022-06-25T04:51:45.856102",
     "exception": false,
     "start_time": "2022-06-25T04:51:45.831840",
     "status": "completed"
    },
    "tags": []
   },
   "outputs": [],
   "source": [
    "if not os.path.exists(os.path.expanduser(savedir)):\n",
    "    os.makedirs(os.path.expanduser(savedir))\n",
    "\n",
    "params = pd.DataFrame({'niter': niter,\n",
    "                       'n': n, \n",
    "                       'p': p, \n",
    "                       's': s,\n",
    "                       'k': k,\n",
    "                       'snr': snr,\n",
    "                       'lambd': lambd,\n",
    "                       'alpha': alpha,\n",
    "                       'delta': delta,\n",
    "                       'nboot': nboot,\n",
    "                       'nk': noise_kernel, \n",
    "                       'nls': noise_length_scale, \n",
    "                       'nn': noise_nu, \n",
    "                       'xk': X_kernel,\n",
    "                       'xls': X_length_scale,\n",
    "                       'xn': X_nu}, index=[idx])\n",
    "params.to_csv(os.path.expanduser(savedir + 'params.csv'))\n",
    "dffp = os.path.expanduser(savedir + \"err_df.csv\")\n",
    "# barfp = os.path.expanduser(savedir + 'barchart.jpeg')"
   ]
  },
  {
   "cell_type": "code",
   "execution_count": 7,
   "id": "90e7e9b6",
   "metadata": {
    "execution": {
     "iopub.execute_input": "2022-06-25T04:51:45.881823Z",
     "iopub.status.busy": "2022-06-25T04:51:45.881620Z",
     "iopub.status.idle": "2022-06-25T04:51:45.884502Z",
     "shell.execute_reply": "2022-06-25T04:51:45.883873Z"
    },
    "papermill": {
     "duration": 0.018025,
     "end_time": "2022-06-25T04:51:45.886339",
     "exception": false,
     "start_time": "2022-06-25T04:51:45.868314",
     "status": "completed"
    },
    "tags": []
   },
   "outputs": [],
   "source": [
    "err_cmp = ErrorComparer()"
   ]
  },
  {
   "cell_type": "code",
   "execution_count": 8,
   "id": "927b3062",
   "metadata": {
    "execution": {
     "iopub.execute_input": "2022-06-25T04:51:45.911488Z",
     "iopub.status.busy": "2022-06-25T04:51:45.911305Z",
     "iopub.status.idle": "2022-06-25T04:51:45.915716Z",
     "shell.execute_reply": "2022-06-25T04:51:45.915126Z"
    },
    "papermill": {
     "duration": 0.019694,
     "end_time": "2022-06-25T04:51:45.918100",
     "exception": false,
     "start_time": "2022-06-25T04:51:45.898406",
     "status": "completed"
    },
    "tags": []
   },
   "outputs": [],
   "source": [
    "nx = ny = int(np.sqrt(n))\n",
    "xs = np.linspace(0, 10, nx)\n",
    "ys = np.linspace(0, 10, ny)\n",
    "c_x, c_y = np.meshgrid(xs, ys)\n",
    "c_x = c_x.flatten()\n",
    "c_y = c_y.flatten()\n",
    "coord = np.stack([c_x, c_y]).T"
   ]
  },
  {
   "cell_type": "code",
   "execution_count": 9,
   "id": "279935ce",
   "metadata": {
    "execution": {
     "iopub.execute_input": "2022-06-25T04:51:45.947881Z",
     "iopub.status.busy": "2022-06-25T04:51:45.947683Z",
     "iopub.status.idle": "2022-06-25T04:51:45.957407Z",
     "shell.execute_reply": "2022-06-25T04:51:45.956750Z"
    },
    "papermill": {
     "duration": 0.025623,
     "end_time": "2022-06-25T04:51:45.959521",
     "exception": false,
     "start_time": "2022-06-25T04:51:45.933898",
     "status": "completed"
    },
    "tags": []
   },
   "outputs": [],
   "source": [
    "if noise_kernel == 'rbf':\n",
    "    Sigma_t = gen_cov_mat(c_x, c_y, RBF(length_scale=noise_length_scale))\n",
    "elif noise_kernel == 'matern':\n",
    "    Sigma_t = gen_cov_mat(c_x, c_y, Matern(length_scale=noise_length_scale, nu=noise_nu))\n",
    "else:\n",
    "    Sigma_t = np.eye(n)\n",
    "    \n",
    "Sigma_t = delta*Sigma_t + (1-delta)*np.eye(n)\n",
    "\n",
    "if noise_kernel == 'rbf' or noise_kernel == 'matern':\n",
    "    Chol_t = np.linalg.cholesky(Sigma_t)\n",
    "else:\n",
    "    Chol_t = np.eye(n)"
   ]
  },
  {
   "cell_type": "code",
   "execution_count": 10,
   "id": "a820b6f4",
   "metadata": {
    "execution": {
     "iopub.execute_input": "2022-06-25T04:51:45.986288Z",
     "iopub.status.busy": "2022-06-25T04:51:45.986077Z",
     "iopub.status.idle": "2022-06-25T04:51:46.048858Z",
     "shell.execute_reply": "2022-06-25T04:51:46.048202Z"
    },
    "papermill": {
     "duration": 0.079001,
     "end_time": "2022-06-25T04:51:46.051097",
     "exception": false,
     "start_time": "2022-06-25T04:51:45.972096",
     "status": "completed"
    },
    "tags": []
   },
   "outputs": [],
   "source": [
    "if X_kernel == 'rbf':\n",
    "    X = gen_rbf_X(c_x, c_y, p)\n",
    "elif X_kernel == 'matern':\n",
    "    X = gen_matern_X(c_x, c_y, p, length_scale=X_length_scale, nu=X_nu)\n",
    "else:\n",
    "    X = np.random.randn(n,p)\n",
    "\n",
    "beta = np.zeros(p)\n",
    "idx = np.random.choice(p,size=s)\n",
    "beta[idx] = np.random.uniform(-1,1,size=s)"
   ]
  },
  {
   "cell_type": "code",
   "execution_count": 11,
   "id": "77962320",
   "metadata": {
    "execution": {
     "iopub.execute_input": "2022-06-25T04:51:46.079587Z",
     "iopub.status.busy": "2022-06-25T04:51:46.079333Z",
     "iopub.status.idle": "2022-06-25T04:56:34.224611Z",
     "shell.execute_reply": "2022-06-25T04:56:34.223028Z"
    },
    "papermill": {
     "duration": 286.353888,
     "end_time": "2022-06-25T04:56:32.418122",
     "exception": false,
     "start_time": "2022-06-25T04:51:46.064234",
     "status": "completed"
    },
    "tags": []
   },
   "outputs": [
    {
     "name": "stdout",
     "output_type": "stream",
     "text": [
      "[RelaxedLasso(), RelaxedLasso(), RelaxedLasso(), RelaxedLasso(), RelaxedLasso()]\n",
      "0\n",
      "0.5625\n"
     ]
    },
    {
     "name": "stdout",
     "output_type": "stream",
     "text": [
      "10\n"
     ]
    },
    {
     "name": "stdout",
     "output_type": "stream",
     "text": [
      "20\n"
     ]
    },
    {
     "name": "stdout",
     "output_type": "stream",
     "text": [
      "30\n"
     ]
    },
    {
     "name": "stdout",
     "output_type": "stream",
     "text": [
      "40\n"
     ]
    },
    {
     "name": "stdout",
     "output_type": "stream",
     "text": [
      "50\n"
     ]
    },
    {
     "name": "stdout",
     "output_type": "stream",
     "text": [
      "60\n"
     ]
    },
    {
     "name": "stdout",
     "output_type": "stream",
     "text": [
      "70\n"
     ]
    },
    {
     "name": "stdout",
     "output_type": "stream",
     "text": [
      "80\n"
     ]
    },
    {
     "name": "stdout",
     "output_type": "stream",
     "text": [
      "90\n"
     ]
    },
    {
     "ename": "KeyboardInterrupt",
     "evalue": "",
     "output_type": "error",
     "traceback": [
      "\u001b[0;31m---------------------------------------------------------------------------\u001b[0m",
      "\u001b[0;31mKeyboardInterrupt\u001b[0m                         Traceback (most recent call last)",
      "Input \u001b[0;32mIn [11]\u001b[0m, in \u001b[0;36m<cell line: 5>\u001b[0;34m()\u001b[0m\n\u001b[1;32m      1\u001b[0m (test_err,\n\u001b[1;32m      2\u001b[0m  rnd_err,\n\u001b[1;32m      3\u001b[0m  trc_err,\n\u001b[1;32m      4\u001b[0m  kfcv_err,\n\u001b[0;32m----> 5\u001b[0m  spcv_err) \u001b[38;5;241m=\u001b[39m \u001b[43merr_cmp\u001b[49m\u001b[38;5;241;43m.\u001b[39;49m\u001b[43mcompare\u001b[49m\u001b[43m(\u001b[49m\u001b[43mmodels\u001b[49m\u001b[43m,\u001b[49m\n\u001b[1;32m      6\u001b[0m \u001b[43m                             \u001b[49m\u001b[43mests\u001b[49m\u001b[43m,\u001b[49m\n\u001b[1;32m      7\u001b[0m \u001b[43m                             \u001b[49m\u001b[43mest_kwargs\u001b[49m\u001b[43m,\u001b[49m\n\u001b[1;32m      8\u001b[0m \u001b[43m                             \u001b[49m\u001b[43mniter\u001b[49m\u001b[38;5;241;43m=\u001b[39;49m\u001b[43mniter\u001b[49m\u001b[43m,\u001b[49m\n\u001b[1;32m      9\u001b[0m \u001b[43m                             \u001b[49m\u001b[43mn\u001b[49m\u001b[38;5;241;43m=\u001b[39;49m\u001b[43mn\u001b[49m\u001b[43m,\u001b[49m\n\u001b[1;32m     10\u001b[0m \u001b[43m                             \u001b[49m\u001b[43mp\u001b[49m\u001b[38;5;241;43m=\u001b[39;49m\u001b[43mp\u001b[49m\u001b[43m,\u001b[49m\n\u001b[1;32m     11\u001b[0m \u001b[43m                             \u001b[49m\u001b[43ms\u001b[49m\u001b[38;5;241;43m=\u001b[39;49m\u001b[43mp\u001b[49m\u001b[43m,\u001b[49m\n\u001b[1;32m     12\u001b[0m \u001b[43m                             \u001b[49m\u001b[43msnr\u001b[49m\u001b[38;5;241;43m=\u001b[39;49m\u001b[43msnr\u001b[49m\u001b[43m,\u001b[49m\u001b[43m \u001b[49m\n\u001b[1;32m     13\u001b[0m \u001b[43m                             \u001b[49m\u001b[43mX\u001b[49m\u001b[38;5;241;43m=\u001b[39;49m\u001b[43mX\u001b[49m\u001b[43m,\u001b[49m\n\u001b[1;32m     14\u001b[0m \u001b[43m                             \u001b[49m\u001b[43mbeta\u001b[49m\u001b[38;5;241;43m=\u001b[39;49m\u001b[43mbeta\u001b[49m\u001b[43m,\u001b[49m\n\u001b[1;32m     15\u001b[0m \u001b[43m                             \u001b[49m\u001b[43mcoord\u001b[49m\u001b[38;5;241;43m=\u001b[39;49m\u001b[43mcoord\u001b[49m\u001b[43m,\u001b[49m\n\u001b[1;32m     16\u001b[0m \u001b[43m                             \u001b[49m\u001b[43mChol_t\u001b[49m\u001b[38;5;241;43m=\u001b[39;49m\u001b[43mChol_t\u001b[49m\u001b[43m,\u001b[49m\n\u001b[1;32m     17\u001b[0m \u001b[43m                             \u001b[49m\u001b[43mChol_s\u001b[49m\u001b[38;5;241;43m=\u001b[39;49m\u001b[38;5;28;43;01mNone\u001b[39;49;00m\u001b[43m,\u001b[49m\n\u001b[1;32m     18\u001b[0m \u001b[43m                             \u001b[49m\u001b[43mtr_idx\u001b[49m\u001b[38;5;241;43m=\u001b[39;49m\u001b[38;5;28;43;01mNone\u001b[39;49;00m\u001b[43m,\u001b[49m\n\u001b[1;32m     19\u001b[0m \u001b[43m                             \u001b[49m\u001b[43mfair\u001b[49m\u001b[38;5;241;43m=\u001b[39;49m\u001b[38;5;28;43;01mFalse\u001b[39;49;00m\u001b[43m,\u001b[49m\n\u001b[1;32m     20\u001b[0m \u001b[43m                             \u001b[49m\u001b[43m)\u001b[49m\n",
      "File \u001b[0;32m~/Documents/GitHub/StructuredPredictionError/spe/mse_estimator.py:211\u001b[0m, in \u001b[0;36mErrorComparer.compare\u001b[0;34m(self, models, ests, est_kwargs, niter, n, p, s, snr, X, beta, coord, Chol_t, Chol_s, tr_idx, fair, tr_frac, **kwargs)\u001b[0m\n\u001b[1;32m    208\u001b[0m \t\t\test_kwargs[j]\u001b[38;5;241m.\u001b[39mpop(\u001b[38;5;124m'\u001b[39m\u001b[38;5;124mtr_idx\u001b[39m\u001b[38;5;124m'\u001b[39m,\u001b[38;5;28;01mNone\u001b[39;00m)\n\u001b[1;32m    210\u001b[0m \t\u001b[38;5;28;01mfor\u001b[39;00m err, est, est_kwarg \u001b[38;5;129;01min\u001b[39;00m \u001b[38;5;28mzip\u001b[39m(errs, ests, est_kwargs):\n\u001b[0;32m--> 211\u001b[0m \t\terr[i] \u001b[38;5;241m=\u001b[39m \u001b[43mest\u001b[49m\u001b[43m(\u001b[49m\u001b[38;5;241;43m*\u001b[39;49m\u001b[38;5;241;43m*\u001b[39;49m\u001b[43mest_kwarg\u001b[49m\u001b[43m)\u001b[49m\n\u001b[1;32m    213\u001b[0m \u001b[38;5;28;01mreturn\u001b[39;00m errs\n",
      "File \u001b[0;32m~/Documents/GitHub/StructuredPredictionError/spe/estimators.py:448\u001b[0m, in \u001b[0;36mcp_relaxed_lasso_train_test\u001b[0;34m(model, X, y, tr_idx, Chol_t, Chol_s, nboot, alpha, full_refit, use_trace_corr)\u001b[0m\n\u001b[1;32m    435\u001b[0m \u001b[38;5;28;01mdef\u001b[39;00m \u001b[38;5;21mcp_relaxed_lasso_train_test\u001b[39m(\n\u001b[1;32m    436\u001b[0m \tmodel,\n\u001b[1;32m    437\u001b[0m \tX,\n\u001b[0;32m   (...)\u001b[0m\n\u001b[1;32m    445\u001b[0m \tuse_trace_corr\u001b[38;5;241m=\u001b[39m\u001b[38;5;28;01mTrue\u001b[39;00m,\n\u001b[1;32m    446\u001b[0m \t):\n\u001b[1;32m    447\u001b[0m \t\u001b[38;5;28;01mif\u001b[39;00m model\u001b[38;5;241m.\u001b[39m\u001b[38;5;18m__class__\u001b[39m\u001b[38;5;241m.\u001b[39m\u001b[38;5;18m__name__\u001b[39m \u001b[38;5;241m==\u001b[39m \u001b[38;5;124m'\u001b[39m\u001b[38;5;124mRelaxedLasso\u001b[39m\u001b[38;5;124m'\u001b[39m:\n\u001b[0;32m--> 448\u001b[0m \t\t\u001b[38;5;28;01mreturn\u001b[39;00m \u001b[43mcp_adaptive_smoother_train_test\u001b[49m\u001b[43m(\u001b[49m\u001b[43mmodel\u001b[49m\u001b[43m,\u001b[49m\n\u001b[1;32m    449\u001b[0m \u001b[43m\t\t\t\t\t\t\t\t\t\t\t\t\u001b[49m\u001b[43mX\u001b[49m\u001b[43m,\u001b[49m\n\u001b[1;32m    450\u001b[0m \u001b[43m\t\t\t\t\t\t\t\t\t\t\t\t\u001b[49m\u001b[43my\u001b[49m\u001b[43m,\u001b[49m\u001b[43m \u001b[49m\n\u001b[1;32m    451\u001b[0m \u001b[43m\t\t\t\t\t\t\t\t\t\t\t\t\u001b[49m\u001b[43mtr_idx\u001b[49m\u001b[43m,\u001b[49m\n\u001b[1;32m    452\u001b[0m \u001b[43m\t\t\t\t\t\t\t\t\t\t\t\t\u001b[49m\u001b[43mChol_t\u001b[49m\u001b[43m,\u001b[49m\n\u001b[1;32m    453\u001b[0m \u001b[43m\t\t\t\t\t\t\t\t\t\t\t\t\u001b[49m\u001b[43mChol_s\u001b[49m\u001b[43m,\u001b[49m\n\u001b[1;32m    454\u001b[0m \u001b[43m\t\t\t\t\t\t\t\t\t\t\t\t\u001b[49m\u001b[43mnboot\u001b[49m\u001b[43m,\u001b[49m\n\u001b[1;32m    455\u001b[0m \u001b[43m\t\t\t\t\t\t\t\t\t\t\t\t\u001b[49m\u001b[43malpha\u001b[49m\u001b[43m,\u001b[49m\n\u001b[1;32m    456\u001b[0m \u001b[43m\t\t\t\t\t\t\t\t\t\t\t\t\u001b[49m\u001b[43mfull_refit\u001b[49m\u001b[43m,\u001b[49m\n\u001b[1;32m    457\u001b[0m \u001b[43m\t\t\t\t\t\t\t\t\t\t\t\t\u001b[49m\u001b[43muse_trace_corr\u001b[49m\u001b[43m,\u001b[49m\n\u001b[1;32m    458\u001b[0m \u001b[43m\t\t\t\t\t\t\t\t\t\t\t\t\u001b[49m\u001b[43m)\u001b[49m\n\u001b[1;32m    459\u001b[0m \t\u001b[38;5;28;01melse\u001b[39;00m:\n\u001b[1;32m    460\u001b[0m \t\t\u001b[38;5;28;01mreturn\u001b[39;00m cp_adaptive_smoother_train_test(RelaxedLasso(lambd\u001b[38;5;241m=\u001b[39m\u001b[38;5;241m1.\u001b[39m),\n\u001b[1;32m    461\u001b[0m \t\t\t\t\t\t\t\t\t\t\t\tX,\n\u001b[1;32m    462\u001b[0m \t\t\t\t\t\t\t\t\t\t\t\ty, \n\u001b[0;32m   (...)\u001b[0m\n\u001b[1;32m    469\u001b[0m \t\t\t\t\t\t\t\t\t\t\t\tuse_trace_corr,\n\u001b[1;32m    470\u001b[0m \t\t\t\t\t\t\t\t\t\t\t\t)\n",
      "File \u001b[0;32m~/Documents/GitHub/StructuredPredictionError/spe/estimators.py:389\u001b[0m, in \u001b[0;36mcp_adaptive_smoother_train_test\u001b[0;34m(model, X, y, tr_idx, Chol_t, Chol_s, nboot, alpha, full_refit, use_trace_corr)\u001b[0m\n\u001b[1;32m    386\u001b[0m w_tr \u001b[38;5;241m=\u001b[39m w[tr_idx]\n\u001b[1;32m    387\u001b[0m wp_ts \u001b[38;5;241m=\u001b[39m wp[ts_idx]\n\u001b[0;32m--> 389\u001b[0m \u001b[43mmodel\u001b[49m\u001b[38;5;241;43m.\u001b[39;49m\u001b[43mfit\u001b[49m\u001b[43m(\u001b[49m\u001b[43mX_tr\u001b[49m\u001b[43m,\u001b[49m\u001b[43m \u001b[49m\u001b[43mw_tr\u001b[49m\u001b[43m)\u001b[49m\n\u001b[1;32m    391\u001b[0m P \u001b[38;5;241m=\u001b[39m model\u001b[38;5;241m.\u001b[39mget_linear_smoother(X_tr, X_ts)\n\u001b[1;32m    393\u001b[0m \u001b[38;5;28;01mif\u001b[39;00m full_refit:\n\u001b[1;32m    394\u001b[0m \t\u001b[38;5;66;03m# correction = 2*np.diag(Cov_tr_ts @ P).sum()\u001b[39;00m\n",
      "File \u001b[0;32m~/Documents/GitHub/StructuredPredictionError/spe/relaxed_lasso.py:128\u001b[0m, in \u001b[0;36mRelaxedLasso.fit\u001b[0;34m(self, X, lasso_y, lin_y, sample_weight, check_input)\u001b[0m\n\u001b[1;32m    124\u001b[0m \u001b[38;5;28;01mif\u001b[39;00m lin_y \u001b[38;5;129;01mis\u001b[39;00m \u001b[38;5;28;01mNone\u001b[39;00m:\n\u001b[1;32m    125\u001b[0m \tlin_y \u001b[38;5;241m=\u001b[39m lasso_y\u001b[38;5;241m.\u001b[39mcopy()\n\u001b[0;32m--> 128\u001b[0m \u001b[38;5;28;43mself\u001b[39;49m\u001b[38;5;241;43m.\u001b[39;49m\u001b[43mlassom\u001b[49m\u001b[38;5;241;43m.\u001b[39;49m\u001b[43mfit\u001b[49m\u001b[43m(\u001b[49m\u001b[43mX\u001b[49m\u001b[43m,\u001b[49m\u001b[43m \u001b[49m\n\u001b[1;32m    129\u001b[0m \u001b[43m\t\t\t\t\u001b[49m\u001b[43mlasso_y\u001b[49m\u001b[43m,\u001b[49m\n\u001b[1;32m    130\u001b[0m \u001b[43m\t\t\t\t\u001b[49m\u001b[43msample_weight\u001b[49m\u001b[38;5;241;43m=\u001b[39;49m\u001b[43msample_weight\u001b[49m\u001b[43m,\u001b[49m\n\u001b[1;32m    131\u001b[0m \u001b[43m\t\t\t\t\u001b[49m\u001b[43mcheck_input\u001b[49m\u001b[38;5;241;43m=\u001b[39;49m\u001b[43mcheck_input\u001b[49m\u001b[43m)\u001b[49m\n\u001b[1;32m    133\u001b[0m \u001b[38;5;28mself\u001b[39m\u001b[38;5;241m.\u001b[39mE_ \u001b[38;5;241m=\u001b[39m E \u001b[38;5;241m=\u001b[39m np\u001b[38;5;241m.\u001b[39mwhere(\u001b[38;5;28mself\u001b[39m\u001b[38;5;241m.\u001b[39mlassom\u001b[38;5;241m.\u001b[39mcoef_ \u001b[38;5;241m!=\u001b[39m \u001b[38;5;241m0\u001b[39m)[\u001b[38;5;241m0\u001b[39m]\n\u001b[1;32m    135\u001b[0m \u001b[38;5;28mself\u001b[39m\u001b[38;5;241m.\u001b[39mfit_linear(X, \n\u001b[1;32m    136\u001b[0m \t\t\t\tlin_y, \n\u001b[1;32m    137\u001b[0m \t\t\t\tsample_weight\u001b[38;5;241m=\u001b[39msample_weight)\n",
      "File \u001b[0;32m~/Documents/GitHub/scikit-learn/sklearn/linear_model/_coordinate_descent.py:1048\u001b[0m, in \u001b[0;36mElasticNet.fit\u001b[0;34m(self, X, y, sample_weight, check_input)\u001b[0m\n\u001b[1;32m   1046\u001b[0m \u001b[38;5;28;01melse\u001b[39;00m:\n\u001b[1;32m   1047\u001b[0m     this_Xy \u001b[38;5;241m=\u001b[39m \u001b[38;5;28;01mNone\u001b[39;00m\n\u001b[0;32m-> 1048\u001b[0m _, this_coef, this_dual_gap, this_iter \u001b[38;5;241m=\u001b[39m \u001b[38;5;28;43mself\u001b[39;49m\u001b[38;5;241;43m.\u001b[39;49m\u001b[43mpath\u001b[49m\u001b[43m(\u001b[49m\n\u001b[1;32m   1049\u001b[0m \u001b[43m    \u001b[49m\u001b[43mX\u001b[49m\u001b[43m,\u001b[49m\n\u001b[1;32m   1050\u001b[0m \u001b[43m    \u001b[49m\u001b[43my\u001b[49m\u001b[43m[\u001b[49m\u001b[43m:\u001b[49m\u001b[43m,\u001b[49m\u001b[43m \u001b[49m\u001b[43mk\u001b[49m\u001b[43m]\u001b[49m\u001b[43m,\u001b[49m\n\u001b[1;32m   1051\u001b[0m \u001b[43m    \u001b[49m\u001b[43ml1_ratio\u001b[49m\u001b[38;5;241;43m=\u001b[39;49m\u001b[38;5;28;43mself\u001b[39;49m\u001b[38;5;241;43m.\u001b[39;49m\u001b[43ml1_ratio\u001b[49m\u001b[43m,\u001b[49m\n\u001b[1;32m   1052\u001b[0m \u001b[43m    \u001b[49m\u001b[43meps\u001b[49m\u001b[38;5;241;43m=\u001b[39;49m\u001b[38;5;28;43;01mNone\u001b[39;49;00m\u001b[43m,\u001b[49m\n\u001b[1;32m   1053\u001b[0m \u001b[43m    \u001b[49m\u001b[43mn_alphas\u001b[49m\u001b[38;5;241;43m=\u001b[39;49m\u001b[38;5;28;43;01mNone\u001b[39;49;00m\u001b[43m,\u001b[49m\n\u001b[1;32m   1054\u001b[0m \u001b[43m    \u001b[49m\u001b[43malphas\u001b[49m\u001b[38;5;241;43m=\u001b[39;49m\u001b[43m[\u001b[49m\u001b[43malpha\u001b[49m\u001b[43m]\u001b[49m\u001b[43m,\u001b[49m\n\u001b[1;32m   1055\u001b[0m \u001b[43m    \u001b[49m\u001b[43mprecompute\u001b[49m\u001b[38;5;241;43m=\u001b[39;49m\u001b[43mprecompute\u001b[49m\u001b[43m,\u001b[49m\n\u001b[1;32m   1056\u001b[0m \u001b[43m    \u001b[49m\u001b[43mXy\u001b[49m\u001b[38;5;241;43m=\u001b[39;49m\u001b[43mthis_Xy\u001b[49m\u001b[43m,\u001b[49m\n\u001b[1;32m   1057\u001b[0m \u001b[43m    \u001b[49m\u001b[43mcopy_X\u001b[49m\u001b[38;5;241;43m=\u001b[39;49m\u001b[38;5;28;43;01mTrue\u001b[39;49;00m\u001b[43m,\u001b[49m\n\u001b[1;32m   1058\u001b[0m \u001b[43m    \u001b[49m\u001b[43mcoef_init\u001b[49m\u001b[38;5;241;43m=\u001b[39;49m\u001b[43mcoef_\u001b[49m\u001b[43m[\u001b[49m\u001b[43mk\u001b[49m\u001b[43m]\u001b[49m\u001b[43m,\u001b[49m\n\u001b[1;32m   1059\u001b[0m \u001b[43m    \u001b[49m\u001b[43mverbose\u001b[49m\u001b[38;5;241;43m=\u001b[39;49m\u001b[38;5;28;43;01mFalse\u001b[39;49;00m\u001b[43m,\u001b[49m\n\u001b[1;32m   1060\u001b[0m \u001b[43m    \u001b[49m\u001b[43mreturn_n_iter\u001b[49m\u001b[38;5;241;43m=\u001b[39;49m\u001b[38;5;28;43;01mTrue\u001b[39;49;00m\u001b[43m,\u001b[49m\n\u001b[1;32m   1061\u001b[0m \u001b[43m    \u001b[49m\u001b[43mpositive\u001b[49m\u001b[38;5;241;43m=\u001b[39;49m\u001b[38;5;28;43mself\u001b[39;49m\u001b[38;5;241;43m.\u001b[39;49m\u001b[43mpositive\u001b[49m\u001b[43m,\u001b[49m\n\u001b[1;32m   1062\u001b[0m \u001b[43m    \u001b[49m\u001b[43mcheck_input\u001b[49m\u001b[38;5;241;43m=\u001b[39;49m\u001b[38;5;28;43;01mFalse\u001b[39;49;00m\u001b[43m,\u001b[49m\n\u001b[1;32m   1063\u001b[0m \u001b[43m    \u001b[49m\u001b[38;5;66;43;03m# from here on **params\u001b[39;49;00m\n\u001b[1;32m   1064\u001b[0m \u001b[43m    \u001b[49m\u001b[43mtol\u001b[49m\u001b[38;5;241;43m=\u001b[39;49m\u001b[38;5;28;43mself\u001b[39;49m\u001b[38;5;241;43m.\u001b[39;49m\u001b[43mtol\u001b[49m\u001b[43m,\u001b[49m\n\u001b[1;32m   1065\u001b[0m \u001b[43m    \u001b[49m\u001b[43mX_offset\u001b[49m\u001b[38;5;241;43m=\u001b[39;49m\u001b[43mX_offset\u001b[49m\u001b[43m,\u001b[49m\n\u001b[1;32m   1066\u001b[0m \u001b[43m    \u001b[49m\u001b[43mX_scale\u001b[49m\u001b[38;5;241;43m=\u001b[39;49m\u001b[43mX_scale\u001b[49m\u001b[43m,\u001b[49m\n\u001b[1;32m   1067\u001b[0m \u001b[43m    \u001b[49m\u001b[43mmax_iter\u001b[49m\u001b[38;5;241;43m=\u001b[39;49m\u001b[38;5;28;43mself\u001b[39;49m\u001b[38;5;241;43m.\u001b[39;49m\u001b[43mmax_iter\u001b[49m\u001b[43m,\u001b[49m\n\u001b[1;32m   1068\u001b[0m \u001b[43m    \u001b[49m\u001b[43mrandom_state\u001b[49m\u001b[38;5;241;43m=\u001b[39;49m\u001b[38;5;28;43mself\u001b[39;49m\u001b[38;5;241;43m.\u001b[39;49m\u001b[43mrandom_state\u001b[49m\u001b[43m,\u001b[49m\n\u001b[1;32m   1069\u001b[0m \u001b[43m    \u001b[49m\u001b[43mselection\u001b[49m\u001b[38;5;241;43m=\u001b[39;49m\u001b[38;5;28;43mself\u001b[39;49m\u001b[38;5;241;43m.\u001b[39;49m\u001b[43mselection\u001b[49m\u001b[43m,\u001b[49m\n\u001b[1;32m   1070\u001b[0m \u001b[43m    \u001b[49m\u001b[43msample_weight\u001b[49m\u001b[38;5;241;43m=\u001b[39;49m\u001b[43msample_weight\u001b[49m\u001b[43m,\u001b[49m\n\u001b[1;32m   1071\u001b[0m \u001b[43m\u001b[49m\u001b[43m)\u001b[49m\n\u001b[1;32m   1072\u001b[0m coef_[k] \u001b[38;5;241m=\u001b[39m this_coef[:, \u001b[38;5;241m0\u001b[39m]\n\u001b[1;32m   1073\u001b[0m dual_gaps_[k] \u001b[38;5;241m=\u001b[39m this_dual_gap[\u001b[38;5;241m0\u001b[39m]\n",
      "File \u001b[0;32m~/Documents/GitHub/scikit-learn/sklearn/linear_model/_coordinate_descent.py:648\u001b[0m, in \u001b[0;36menet_path\u001b[0;34m(X, y, l1_ratio, eps, n_alphas, alphas, precompute, Xy, copy_X, coef_init, verbose, return_n_iter, positive, check_input, **params)\u001b[0m\n\u001b[1;32m    634\u001b[0m     model \u001b[38;5;241m=\u001b[39m cd_fast\u001b[38;5;241m.\u001b[39menet_coordinate_descent_gram(\n\u001b[1;32m    635\u001b[0m         coef_,\n\u001b[1;32m    636\u001b[0m         l1_reg,\n\u001b[0;32m   (...)\u001b[0m\n\u001b[1;32m    645\u001b[0m         positive,\n\u001b[1;32m    646\u001b[0m     )\n\u001b[1;32m    647\u001b[0m \u001b[38;5;28;01melif\u001b[39;00m precompute \u001b[38;5;129;01mis\u001b[39;00m \u001b[38;5;28;01mFalse\u001b[39;00m:\n\u001b[0;32m--> 648\u001b[0m     model \u001b[38;5;241m=\u001b[39m \u001b[43mcd_fast\u001b[49m\u001b[38;5;241;43m.\u001b[39;49m\u001b[43menet_coordinate_descent\u001b[49m\u001b[43m(\u001b[49m\n\u001b[1;32m    649\u001b[0m \u001b[43m        \u001b[49m\u001b[43mcoef_\u001b[49m\u001b[43m,\u001b[49m\u001b[43m \u001b[49m\u001b[43ml1_reg\u001b[49m\u001b[43m,\u001b[49m\u001b[43m \u001b[49m\u001b[43ml2_reg\u001b[49m\u001b[43m,\u001b[49m\u001b[43m \u001b[49m\u001b[43mX\u001b[49m\u001b[43m,\u001b[49m\u001b[43m \u001b[49m\u001b[43my\u001b[49m\u001b[43m,\u001b[49m\u001b[43m \u001b[49m\u001b[43mmax_iter\u001b[49m\u001b[43m,\u001b[49m\u001b[43m \u001b[49m\u001b[43mtol\u001b[49m\u001b[43m,\u001b[49m\u001b[43m \u001b[49m\u001b[43mrng\u001b[49m\u001b[43m,\u001b[49m\u001b[43m \u001b[49m\u001b[43mrandom\u001b[49m\u001b[43m,\u001b[49m\u001b[43m \u001b[49m\u001b[43mpositive\u001b[49m\n\u001b[1;32m    650\u001b[0m \u001b[43m    \u001b[49m\u001b[43m)\u001b[49m\n\u001b[1;32m    651\u001b[0m \u001b[38;5;28;01melse\u001b[39;00m:\n\u001b[1;32m    652\u001b[0m     \u001b[38;5;28;01mraise\u001b[39;00m \u001b[38;5;167;01mValueError\u001b[39;00m(\n\u001b[1;32m    653\u001b[0m         \u001b[38;5;124m\"\u001b[39m\u001b[38;5;124mPrecompute should be one of True, False, \u001b[39m\u001b[38;5;124m'\u001b[39m\u001b[38;5;124mauto\u001b[39m\u001b[38;5;124m'\u001b[39m\u001b[38;5;124m or array-like. Got \u001b[39m\u001b[38;5;132;01m%r\u001b[39;00m\u001b[38;5;124m\"\u001b[39m\n\u001b[1;32m    654\u001b[0m         \u001b[38;5;241m%\u001b[39m precompute\n\u001b[1;32m    655\u001b[0m     )\n",
      "\u001b[0;31mKeyboardInterrupt\u001b[0m: "
     ]
    }
   ],
   "source": [
    "(test_err,\n",
    " rnd_err,\n",
    " trc_err,\n",
    " kfcv_err,\n",
    " spcv_err) = err_cmp.compare(models,\n",
    "                             ests,\n",
    "                             est_kwargs,\n",
    "                             niter=niter,\n",
    "                             n=n,\n",
    "                             p=p,\n",
    "                             s=p,\n",
    "                             snr=snr, \n",
    "                             X=X,\n",
    "                             beta=beta,\n",
    "                             coord=coord,\n",
    "                             Chol_t=Chol_t,\n",
    "                             Chol_s=None,\n",
    "                             tr_idx=None,\n",
    "                             fair=False,\n",
    "                             )"
   ]
  },
  {
   "cell_type": "code",
   "execution_count": null,
   "id": "8ce593ed",
   "metadata": {
    "papermill": {
     "duration": null,
     "end_time": null,
     "exception": null,
     "start_time": null,
     "status": "completed"
    },
    "tags": []
   },
   "outputs": [],
   "source": [
    "risk = test_err.mean()\n",
    "risk_kfcv = kfcv_err.mean()\n",
    "risk_spcv = spcv_err.mean()\n",
    "risk_rnd = rnd_err.mean()\n",
    "risk_trc = trc_err.mean()\n",
    "# risk, risk_kfcv, risk_spcv, risk_lin"
   ]
  },
  {
   "cell_type": "code",
   "execution_count": null,
   "id": "4f4d8ecf",
   "metadata": {
    "papermill": {
     "duration": null,
     "end_time": null,
     "exception": null,
     "start_time": null,
     "status": "completed"
    },
    "tags": []
   },
   "outputs": [],
   "source": [
    "save_df = pd.DataFrame({'Rand_WR': (rnd_err.T),\n",
    "                        'Trace_WR': (trc_err.T),\n",
    "                        'KFCV': (kfcv_err.T),\n",
    "                        'SPCV': (spcv_err.T),\n",
    "                        'Test': (test_err.T)})\n",
    "save_df.to_csv(dffp)"
   ]
  },
  {
   "cell_type": "code",
   "execution_count": null,
   "id": "b2d693e8",
   "metadata": {
    "papermill": {
     "duration": null,
     "end_time": null,
     "exception": null,
     "start_time": null,
     "status": "completed"
    },
    "tags": []
   },
   "outputs": [],
   "source": [
    "df = pd.DataFrame({'Rand_WR': (rnd_err.T),\n",
    "                   'Trace_WR': (trc_err.T),\n",
    "                   'KFCV': (kfcv_err.T),\n",
    "                   'SPCV': (spcv_err.T)})"
   ]
  },
  {
   "cell_type": "code",
   "execution_count": null,
   "id": "f865d5c1",
   "metadata": {
    "papermill": {
     "duration": null,
     "end_time": null,
     "exception": null,
     "start_time": null,
     "status": "completed"
    },
    "tags": []
   },
   "outputs": [],
   "source": [
    "(df/risk).mean()"
   ]
  },
  {
   "cell_type": "code",
   "execution_count": null,
   "id": "4e5d397d",
   "metadata": {
    "papermill": {
     "duration": null,
     "end_time": null,
     "exception": null,
     "start_time": null,
     "status": "completed"
    },
    "tags": []
   },
   "outputs": [],
   "source": [
    "df.var(), (df/risk).var()"
   ]
  },
  {
   "cell_type": "code",
   "execution_count": null,
   "id": "3eaecc78",
   "metadata": {
    "papermill": {
     "duration": null,
     "end_time": null,
     "exception": null,
     "start_time": null,
     "status": "completed"
    },
    "tags": []
   },
   "outputs": [],
   "source": [
    "fig = go.Figure()\n",
    "fig.add_trace(go.Bar(\n",
    "    name='Control',\n",
    "    x=['Rand_WR', 'Trace_WR', 'KFCV', 'SPCV'], y=(df/risk).mean(),\n",
    "    marker_color=px.colors.qualitative.Plotly,\n",
    "    text=np.around((df/risk).mean(),3),\n",
    "    textposition='outside',\n",
    "    error_y=dict(\n",
    "        type='data',\n",
    "        color='black',\n",
    "        symmetric=False,\n",
    "        array=(df/risk).quantile(.75),\n",
    "        arrayminus=(df/risk).quantile(.25))\n",
    "#         array=(df/risk).mean() + (df/risk).std(),\n",
    "#         arrayminus=(df/risk).mean() - (df/risk).std())\n",
    "))\n",
    "# fig.add_trace(go.Bar(\n",
    "#     name='Experimental',\n",
    "#     x=['GenCp', 'KFCV', 'SPCV'], y=(df/risk).mean(),\n",
    "#     error_y=dict(type='data', array=[1, 2])\n",
    "# ))\n",
    "# fig.update_layout(barmode='group')\n",
    "fig.add_hline(y=1., line_color='red')\n",
    "fig.update_layout(\n",
    "    title=f\"RL_\\u03B1={alpha}_\\u03B4{delta}_snr{snr}_nk{noise_kernel}_nls{noise_length_scale}_nv{noise_nu}_Xk{X_kernel}_Xls{X_length_scale}_Xv{X_nu}\",\n",
    "    xaxis_title=\"Method\",\n",
    "    yaxis_title=\"Relative MSE\",\n",
    "#     legend_title=\"Legend Title\",\n",
    "#     font=dict(\n",
    "#         family=\"Courier New, monospace\",\n",
    "#         size=18,\n",
    "#         color=\"RebeccaPurple\"\n",
    "#     )\n",
    ")\n",
    "barfp = os.path.expanduser(savedir + fig.layout.title['text'] + \".jpeg\")\n",
    "fig.write_image(os.path.expanduser(barfp))\n",
    "fig.show()"
   ]
  },
  {
   "cell_type": "code",
   "execution_count": null,
   "id": "5b285dc4",
   "metadata": {
    "papermill": {
     "duration": null,
     "end_time": null,
     "exception": null,
     "start_time": null,
     "status": "completed"
    },
    "tags": []
   },
   "outputs": [],
   "source": []
  }
 ],
 "metadata": {
  "celltoolbar": "Tags",
  "kernelspec": {
   "display_name": "blur",
   "language": "python",
   "name": "blur"
  },
  "language_info": {
   "codemirror_mode": {
    "name": "ipython",
    "version": 3
   },
   "file_extension": ".py",
   "mimetype": "text/x-python",
   "name": "python",
   "nbconvert_exporter": "python",
   "pygments_lexer": "ipython3",
   "version": "3.8.13"
  },
  "papermill": {
   "default_parameters": {},
   "duration": 292.259242,
   "end_time": "2022-06-25T04:56:35.066648",
   "environment_variables": {},
   "exception": null,
   "input_path": "/Users/kevinfry/Documents/GitHub/StructuredPredictionError/papermill_templates/RLTemplate.ipynb",
   "output_path": "/Users/kevinfry/Documents/GitHub/StructuredPredictionError/papermill_templates/output/RL/RLWR_our_vs_CV_alpha05/run_50_α=0.05_δ0.8_snr1.0_nkmatern_nls1.0_nv0.5_Xkmatern_Xls5.0_Xv0.5/α=0.05_δ0.8_snr1.0_nkmatern_nls1.0_nv0.5_Xkmatern_Xls5.0_Xv0.5.ipynb",
   "parameters": {
    "X_kernel": "matern",
    "X_length_scale": 5.0,
    "X_nu": 0.5,
    "alpha": 0.05,
    "delta": 0.8,
    "idx": 50,
    "k": 10,
    "lambd": 1.0,
    "n": 400,
    "nboot": 100,
    "niter": 100,
    "noise_kernel": "matern",
    "noise_length_scale": 1.0,
    "noise_nu": 0.5,
    "p": 500,
    "s": 30,
    "savedir": "/Users/kevinfry/Documents/GitHub/StructuredPredictionError/papermill_templates/output/RL/RLWR_our_vs_CV_alpha05/run_50_α=0.05_δ0.8_snr1.0_nkmatern_nls1.0_nv0.5_Xkmatern_Xls5.0_Xv0.5/",
    "snr": 1.0
   },
   "start_time": "2022-06-25T04:51:42.807406",
   "version": "2.3.4"
  }
 },
 "nbformat": 4,
 "nbformat_minor": 5
}