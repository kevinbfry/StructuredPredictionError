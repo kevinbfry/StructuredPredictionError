{
 "cells": [
  {
   "cell_type": "code",
   "execution_count": 1,
   "id": "6f66c3a4",
   "metadata": {
    "execution": {
     "iopub.execute_input": "2022-06-25T02:47:39.591862Z",
     "iopub.status.busy": "2022-06-25T02:47:39.591555Z",
     "iopub.status.idle": "2022-06-25T02:47:41.225450Z",
     "shell.execute_reply": "2022-06-25T02:47:41.224832Z"
    },
    "papermill": {
     "duration": 1.671392,
     "end_time": "2022-06-25T02:47:41.227337",
     "exception": false,
     "start_time": "2022-06-25T02:47:39.555945",
     "status": "completed"
    },
    "tags": []
   },
   "outputs": [],
   "source": [
    "import numpy as np\n",
    "import pandas as pd\n",
    "from sklearn.linear_model import Lasso, LinearRegression\n",
    "from sklearn.cluster import KMeans\n",
    "from sklearn.gaussian_process.kernels import Matern, RBF\n",
    "\n",
    "import plotly.express as px\n",
    "\n",
    "import plotly.graph_objects as go\n",
    "\n",
    "from scipy.linalg import toeplitz, block_diag\n",
    "\n",
    "from spe.mse_estimator import ErrorComparer\n",
    "from spe.data_generation import gen_rbf_X, gen_matern_X, create_clus_split, gen_cov_mat\n",
    "from spe.relaxed_lasso import RelaxedLasso\n",
    "from spe.estimators import kfoldcv, kmeanscv, better_test_est_split, cp_relaxed_lasso_train_test, bag_kfoldcv, bag_kmeanscv\n",
    "\n",
    "import os"
   ]
  },
  {
   "cell_type": "code",
   "execution_count": 2,
   "id": "70e8970a",
   "metadata": {
    "execution": {
     "iopub.execute_input": "2022-06-25T02:47:41.252151Z",
     "iopub.status.busy": "2022-06-25T02:47:41.251936Z",
     "iopub.status.idle": "2022-06-25T02:47:41.256255Z",
     "shell.execute_reply": "2022-06-25T02:47:41.255693Z"
    },
    "papermill": {
     "duration": 0.018135,
     "end_time": "2022-06-25T02:47:41.257941",
     "exception": false,
     "start_time": "2022-06-25T02:47:41.239806",
     "status": "completed"
    },
    "tags": [
     "parameters"
    ]
   },
   "outputs": [],
   "source": [
    "niter = 50\n",
    "\n",
    "n=20**2\n",
    "p=500\n",
    "s=30\n",
    "\n",
    "k=2\n",
    "\n",
    "alpha = 1.#0.05\n",
    "delta = 0.8\n",
    "\n",
    "lambd = 1.\n",
    "nboot = 1#100\n",
    "\n",
    "snr = 0.4\n",
    "\n",
    "noise_kernel = 'matern'\n",
    "noise_length_scale = 1.\n",
    "noise_nu = 0.5\n",
    "\n",
    "X_kernel = 'matern'\n",
    "X_length_scale = 1.\n",
    "X_nu = 2.5\n",
    "\n",
    "idx = -1\n",
    "\n",
    "savedir='~'"
   ]
  },
  {
   "cell_type": "code",
   "execution_count": 3,
   "id": "93b72a55",
   "metadata": {
    "execution": {
     "iopub.execute_input": "2022-06-25T02:47:41.282018Z",
     "iopub.status.busy": "2022-06-25T02:47:41.281833Z",
     "iopub.status.idle": "2022-06-25T02:47:41.286312Z",
     "shell.execute_reply": "2022-06-25T02:47:41.285756Z"
    },
    "papermill": {
     "duration": 0.018214,
     "end_time": "2022-06-25T02:47:41.288006",
     "exception": false,
     "start_time": "2022-06-25T02:47:41.269792",
     "status": "completed"
    },
    "tags": [
     "injected-parameters"
    ]
   },
   "outputs": [],
   "source": [
    "# Parameters\n",
    "niter = 100\n",
    "n = 400\n",
    "p = 500\n",
    "s = 30\n",
    "k = 10\n",
    "snr = 0.4\n",
    "lambd = 1.0\n",
    "delta = 0.0\n",
    "alpha = 0.05\n",
    "nboot = 100\n",
    "noise_kernel = \"matern\"\n",
    "noise_length_scale = 1.0\n",
    "noise_nu = 0.5\n",
    "X_kernel = \"matern\"\n",
    "X_length_scale = 1.0\n",
    "X_nu = 0.5\n",
    "savedir = \"/Users/kevinfry/Documents/GitHub/StructuredPredictionError/papermill_templates/output/RL/RLWR_our_vs_CV_alpha05/run_0_\\u03b1=0.05_\\u03b40.0_snr0.4_nkmatern_nls1.0_nv0.5_Xkmatern_Xls1.0_Xv0.5/\"\n",
    "idx = 0\n"
   ]
  },
  {
   "cell_type": "code",
   "execution_count": 4,
   "id": "97112761",
   "metadata": {
    "execution": {
     "iopub.execute_input": "2022-06-25T02:47:41.312157Z",
     "iopub.status.busy": "2022-06-25T02:47:41.311970Z",
     "iopub.status.idle": "2022-06-25T02:47:41.315374Z",
     "shell.execute_reply": "2022-06-25T02:47:41.314611Z"
    },
    "papermill": {
     "duration": 0.018319,
     "end_time": "2022-06-25T02:47:41.317627",
     "exception": false,
     "start_time": "2022-06-25T02:47:41.299308",
     "status": "completed"
    },
    "tags": []
   },
   "outputs": [],
   "source": [
    "# noise_kernel = kernel\n",
    "# noise_length_scale = length_scale\n",
    "# noise_nu = nu\n",
    "\n",
    "if X_kernel is None:\n",
    "    X_kernel = kernel\n",
    "if X_length_scale is None:\n",
    "    X_length_scale = noise_length_scale\n",
    "if X_nu is None:\n",
    "    X_nu = noise_nu\n"
   ]
  },
  {
   "cell_type": "code",
   "execution_count": 5,
   "id": "6deee944",
   "metadata": {
    "execution": {
     "iopub.execute_input": "2022-06-25T02:47:41.342655Z",
     "iopub.status.busy": "2022-06-25T02:47:41.342465Z",
     "iopub.status.idle": "2022-06-25T02:47:41.346043Z",
     "shell.execute_reply": "2022-06-25T02:47:41.345512Z"
    },
    "papermill": {
     "duration": 0.018015,
     "end_time": "2022-06-25T02:47:41.347762",
     "exception": false,
     "start_time": "2022-06-25T02:47:41.329747",
     "status": "completed"
    },
    "tags": []
   },
   "outputs": [],
   "source": [
    "models = RelaxedLasso(lambd=lambd)\n",
    "\n",
    "ests = [better_test_est_split,\n",
    "        cp_relaxed_lasso_train_test, \n",
    "        cp_relaxed_lasso_train_test, \n",
    "        kfoldcv, \n",
    "        kmeanscv]\n",
    "est_kwargs = [{'w_fit': True},\n",
    "              {'alpha': alpha, \n",
    "               'use_trace_corr': False, \n",
    "               'full_refit': False,\n",
    "               'nboot': nboot}, \n",
    "              {'alpha': alpha, \n",
    "               'use_trace_corr': True, \n",
    "               'full_refit': False,\n",
    "               'nboot': nboot},\n",
    "              {'k': k},\n",
    "              {'k': k}]"
   ]
  },
  {
   "cell_type": "code",
   "execution_count": 6,
   "id": "ba8e5732",
   "metadata": {
    "execution": {
     "iopub.execute_input": "2022-06-25T02:47:41.373303Z",
     "iopub.status.busy": "2022-06-25T02:47:41.373118Z",
     "iopub.status.idle": "2022-06-25T02:47:41.381862Z",
     "shell.execute_reply": "2022-06-25T02:47:41.381220Z"
    },
    "papermill": {
     "duration": 0.024196,
     "end_time": "2022-06-25T02:47:41.384324",
     "exception": false,
     "start_time": "2022-06-25T02:47:41.360128",
     "status": "completed"
    },
    "tags": []
   },
   "outputs": [],
   "source": [
    "if not os.path.exists(os.path.expanduser(savedir)):\n",
    "    os.makedirs(os.path.expanduser(savedir))\n",
    "\n",
    "params = pd.DataFrame({'niter': niter,\n",
    "                       'n': n, \n",
    "                       'p': p, \n",
    "                       's': s,\n",
    "                       'k': k,\n",
    "                       'snr': snr,\n",
    "                       'lambd': lambd,\n",
    "                       'alpha': alpha,\n",
    "                       'delta': delta,\n",
    "                       'nboot': nboot,\n",
    "                       'nk': noise_kernel, \n",
    "                       'nls': noise_length_scale, \n",
    "                       'nn': noise_nu, \n",
    "                       'xk': X_kernel,\n",
    "                       'xls': X_length_scale,\n",
    "                       'xn': X_nu}, index=[idx])\n",
    "params.to_csv(os.path.expanduser(savedir + 'params.csv'))\n",
    "dffp = os.path.expanduser(savedir + \"err_df.csv\")\n",
    "# barfp = os.path.expanduser(savedir + 'barchart.jpeg')"
   ]
  },
  {
   "cell_type": "code",
   "execution_count": 7,
   "id": "eaa571cd",
   "metadata": {
    "execution": {
     "iopub.execute_input": "2022-06-25T02:47:41.411001Z",
     "iopub.status.busy": "2022-06-25T02:47:41.410690Z",
     "iopub.status.idle": "2022-06-25T02:47:41.414660Z",
     "shell.execute_reply": "2022-06-25T02:47:41.413734Z"
    },
    "papermill": {
     "duration": 0.02026,
     "end_time": "2022-06-25T02:47:41.417116",
     "exception": false,
     "start_time": "2022-06-25T02:47:41.396856",
     "status": "completed"
    },
    "tags": []
   },
   "outputs": [],
   "source": [
    "err_cmp = ErrorComparer()"
   ]
  },
  {
   "cell_type": "code",
   "execution_count": 8,
   "id": "8f4391b4",
   "metadata": {
    "execution": {
     "iopub.execute_input": "2022-06-25T02:47:41.446998Z",
     "iopub.status.busy": "2022-06-25T02:47:41.446739Z",
     "iopub.status.idle": "2022-06-25T02:47:41.451573Z",
     "shell.execute_reply": "2022-06-25T02:47:41.450609Z"
    },
    "papermill": {
     "duration": 0.02143,
     "end_time": "2022-06-25T02:47:41.453852",
     "exception": false,
     "start_time": "2022-06-25T02:47:41.432422",
     "status": "completed"
    },
    "tags": []
   },
   "outputs": [],
   "source": [
    "nx = ny = int(np.sqrt(n))\n",
    "xs = np.linspace(0, 10, nx)\n",
    "ys = np.linspace(0, 10, ny)\n",
    "c_x, c_y = np.meshgrid(xs, ys)\n",
    "c_x = c_x.flatten()\n",
    "c_y = c_y.flatten()\n",
    "coord = np.stack([c_x, c_y]).T"
   ]
  },
  {
   "cell_type": "code",
   "execution_count": 9,
   "id": "8791087f",
   "metadata": {
    "execution": {
     "iopub.execute_input": "2022-06-25T02:47:41.483804Z",
     "iopub.status.busy": "2022-06-25T02:47:41.483473Z",
     "iopub.status.idle": "2022-06-25T02:47:41.494212Z",
     "shell.execute_reply": "2022-06-25T02:47:41.493507Z"
    },
    "papermill": {
     "duration": 0.027974,
     "end_time": "2022-06-25T02:47:41.496920",
     "exception": false,
     "start_time": "2022-06-25T02:47:41.468946",
     "status": "completed"
    },
    "tags": []
   },
   "outputs": [],
   "source": [
    "if noise_kernel == 'rbf':\n",
    "    Sigma_t = gen_cov_mat(c_x, c_y, RBF(length_scale=noise_length_scale))\n",
    "elif noise_kernel == 'matern':\n",
    "    Sigma_t = gen_cov_mat(c_x, c_y, Matern(length_scale=noise_length_scale, nu=noise_nu))\n",
    "else:\n",
    "    Sigma_t = np.eye(n)\n",
    "    \n",
    "Sigma_t = delta*Sigma_t + (1-delta)*np.eye(n)\n",
    "\n",
    "if noise_kernel == 'rbf' or noise_kernel == 'matern':\n",
    "    Chol_t = np.linalg.cholesky(Sigma_t)\n",
    "else:\n",
    "    Chol_t = np.eye(n)"
   ]
  },
  {
   "cell_type": "code",
   "execution_count": 10,
   "id": "296f3dd9",
   "metadata": {
    "execution": {
     "iopub.execute_input": "2022-06-25T02:47:41.529384Z",
     "iopub.status.busy": "2022-06-25T02:47:41.529123Z",
     "iopub.status.idle": "2022-06-25T02:47:41.591897Z",
     "shell.execute_reply": "2022-06-25T02:47:41.591325Z"
    },
    "papermill": {
     "duration": 0.080867,
     "end_time": "2022-06-25T02:47:41.594016",
     "exception": false,
     "start_time": "2022-06-25T02:47:41.513149",
     "status": "completed"
    },
    "tags": []
   },
   "outputs": [],
   "source": [
    "if X_kernel == 'rbf':\n",
    "    X = gen_rbf_X(c_x, c_y, p)\n",
    "elif X_kernel == 'matern':\n",
    "    X = gen_matern_X(c_x, c_y, p, length_scale=X_length_scale, nu=X_nu)\n",
    "else:\n",
    "    X = np.random.randn(n,p)\n",
    "\n",
    "beta = np.zeros(p)\n",
    "idx = np.random.choice(p,size=s)\n",
    "beta[idx] = np.random.uniform(-1,1,size=s)"
   ]
  },
  {
   "cell_type": "code",
   "execution_count": 11,
   "id": "5721bd0b",
   "metadata": {
    "execution": {
     "iopub.execute_input": "2022-06-25T02:47:41.617890Z",
     "iopub.status.busy": "2022-06-25T02:47:41.617668Z"
    },
    "papermill": {
     "duration": 220.279321,
     "end_time": "2022-06-25T02:51:21.884568",
     "exception": false,
     "start_time": "2022-06-25T02:47:41.605247",
     "status": "completed"
    },
    "tags": []
   },
   "outputs": [
    {
     "name": "stdout",
     "output_type": "stream",
     "text": [
      "[RelaxedLasso(), RelaxedLasso(), RelaxedLasso(), RelaxedLasso(), RelaxedLasso()]\n",
      "0\n",
      "0.5625\n"
     ]
    },
    {
     "name": "stdout",
     "output_type": "stream",
     "text": [
      "10\n"
     ]
    },
    {
     "name": "stdout",
     "output_type": "stream",
     "text": [
      "20\n"
     ]
    },
    {
     "name": "stdout",
     "output_type": "stream",
     "text": [
      "30\n"
     ]
    },
    {
     "name": "stdout",
     "output_type": "stream",
     "text": [
      "40\n"
     ]
    },
    {
     "name": "stdout",
     "output_type": "stream",
     "text": [
      "50\n"
     ]
    },
    {
     "name": "stdout",
     "output_type": "stream",
     "text": [
      "60\n"
     ]
    },
    {
     "name": "stdout",
     "output_type": "stream",
     "text": [
      "70\n"
     ]
    },
    {
     "name": "stdout",
     "output_type": "stream",
     "text": [
      "80\n"
     ]
    },
    {
     "name": "stdout",
     "output_type": "stream",
     "text": [
      "90\n"
     ]
    }
   ],
   "source": [
    "(test_err,\n",
    " rnd_err,\n",
    " trc_err,\n",
    " kfcv_err,\n",
    " spcv_err) = err_cmp.compare(models,\n",
    "                             ests,\n",
    "                             est_kwargs,\n",
    "                             niter=niter,\n",
    "                             n=n,\n",
    "                             p=p,\n",
    "                             s=p,\n",
    "                             snr=snr, \n",
    "                             X=X,\n",
    "                             beta=beta,\n",
    "                             coord=coord,\n",
    "                             Chol_t=Chol_t,\n",
    "                             Chol_s=None,\n",
    "                             tr_idx=None,\n",
    "                             fair=False,\n",
    "                             )"
   ]
  },
  {
   "cell_type": "code",
   "execution_count": null,
   "id": "1c9457ee",
   "metadata": {
    "papermill": {
     "duration": null,
     "end_time": null,
     "exception": null,
     "start_time": null,
     "status": "completed"
    },
    "tags": []
   },
   "outputs": [],
   "source": [
    "risk = test_err.mean()\n",
    "risk_kfcv = kfcv_err.mean()\n",
    "risk_spcv = spcv_err.mean()\n",
    "risk_rnd = rnd_err.mean()\n",
    "risk_trc = trc_err.mean()\n",
    "# risk, risk_kfcv, risk_spcv, risk_lin"
   ]
  },
  {
   "cell_type": "code",
   "execution_count": null,
   "id": "37603035",
   "metadata": {
    "papermill": {
     "duration": null,
     "end_time": null,
     "exception": null,
     "start_time": null,
     "status": "completed"
    },
    "tags": []
   },
   "outputs": [],
   "source": [
    "save_df = pd.DataFrame({'Rand_WR': (rnd_err.T),\n",
    "                        'Trace_WR': (trc_err.T),\n",
    "                        'KFCV': (kfcv_err.T),\n",
    "                        'SPCV': (spcv_err.T),\n",
    "                        'Test': (test_err.T)})\n",
    "save_df.to_csv(dffp)"
   ]
  },
  {
   "cell_type": "code",
   "execution_count": null,
   "id": "2d5145a2",
   "metadata": {
    "papermill": {
     "duration": null,
     "end_time": null,
     "exception": null,
     "start_time": null,
     "status": "completed"
    },
    "tags": []
   },
   "outputs": [],
   "source": [
    "df = pd.DataFrame({'Rand_WR': (rnd_err.T),\n",
    "                   'Trace_WR': (trc_err.T),\n",
    "                   'KFCV': (kfcv_err.T),\n",
    "                   'SPCV': (spcv_err.T)})"
   ]
  },
  {
   "cell_type": "code",
   "execution_count": null,
   "id": "8d006309",
   "metadata": {
    "papermill": {
     "duration": null,
     "end_time": null,
     "exception": null,
     "start_time": null,
     "status": "completed"
    },
    "tags": []
   },
   "outputs": [],
   "source": [
    "(df/risk).mean()"
   ]
  },
  {
   "cell_type": "code",
   "execution_count": null,
   "id": "752985af",
   "metadata": {
    "papermill": {
     "duration": null,
     "end_time": null,
     "exception": null,
     "start_time": null,
     "status": "completed"
    },
    "tags": []
   },
   "outputs": [],
   "source": [
    "df.var(), (df/risk).var()"
   ]
  },
  {
   "cell_type": "code",
   "execution_count": null,
   "id": "9292ba2d",
   "metadata": {
    "papermill": {
     "duration": null,
     "end_time": null,
     "exception": null,
     "start_time": null,
     "status": "completed"
    },
    "tags": []
   },
   "outputs": [],
   "source": [
    "fig = go.Figure()\n",
    "fig.add_trace(go.Bar(\n",
    "    name='Control',\n",
    "    x=['Rand_WR', 'Trace_WR', 'KFCV', 'SPCV'], y=(df/risk).mean(),\n",
    "    marker_color=px.colors.qualitative.Plotly,\n",
    "    text=np.around((df/risk).mean(),3),\n",
    "    textposition='outside',\n",
    "    error_y=dict(\n",
    "        type='data',\n",
    "        color='black',\n",
    "        symmetric=False,\n",
    "        array=(df/risk).quantile(.75),\n",
    "        arrayminus=(df/risk).quantile(.25))\n",
    "#         array=(df/risk).mean() + (df/risk).std(),\n",
    "#         arrayminus=(df/risk).mean() - (df/risk).std())\n",
    "))\n",
    "# fig.add_trace(go.Bar(\n",
    "#     name='Experimental',\n",
    "#     x=['GenCp', 'KFCV', 'SPCV'], y=(df/risk).mean(),\n",
    "#     error_y=dict(type='data', array=[1, 2])\n",
    "# ))\n",
    "# fig.update_layout(barmode='group')\n",
    "fig.add_hline(y=1., line_color='red')\n",
    "fig.update_layout(\n",
    "    title=f\"RL_\\u03B1={alpha}_\\u03B4{delta}_snr{snr}_nk{noise_kernel}_nls{noise_length_scale}_nv{noise_nu}_Xk{X_kernel}_Xls{X_length_scale}_Xv{X_nu}\",\n",
    "    xaxis_title=\"Method\",\n",
    "    yaxis_title=\"Relative MSE\",\n",
    "#     legend_title=\"Legend Title\",\n",
    "#     font=dict(\n",
    "#         family=\"Courier New, monospace\",\n",
    "#         size=18,\n",
    "#         color=\"RebeccaPurple\"\n",
    "#     )\n",
    ")\n",
    "barfp = os.path.expanduser(savedir + fig.layout.title['text'] + \".jpeg\")\n",
    "fig.write_image(os.path.expanduser(barfp))\n",
    "fig.show()"
   ]
  },
  {
   "cell_type": "code",
   "execution_count": null,
   "id": "ff053ad7",
   "metadata": {
    "papermill": {
     "duration": null,
     "end_time": null,
     "exception": null,
     "start_time": null,
     "status": "completed"
    },
    "tags": []
   },
   "outputs": [],
   "source": []
  }
 ],
 "metadata": {
  "celltoolbar": "Tags",
  "kernelspec": {
   "display_name": "blur",
   "language": "python",
   "name": "blur"
  },
  "language_info": {
   "codemirror_mode": {
    "name": "ipython",
    "version": 3
   },
   "file_extension": ".py",
   "mimetype": "text/x-python",
   "name": "python",
   "nbconvert_exporter": "python",
   "pygments_lexer": "ipython3",
   "version": "3.8.13"
  },
  "papermill": {
   "default_parameters": {},
   "duration": 226.005663,
   "end_time": "2022-06-25T02:51:24.761137",
   "environment_variables": {},
   "exception": null,
   "input_path": "/Users/kevinfry/Documents/GitHub/StructuredPredictionError/papermill_templates/RLTemplate.ipynb",
   "output_path": "/Users/kevinfry/Documents/GitHub/StructuredPredictionError/papermill_templates/output/RL/RLWR_our_vs_CV_alpha05/run_0_α=0.05_δ0.0_snr0.4_nkmatern_nls1.0_nv0.5_Xkmatern_Xls1.0_Xv0.5/α=0.05_δ0.0_snr0.4_nkmatern_nls1.0_nv0.5_Xkmatern_Xls1.0_Xv0.5.ipynb",
   "parameters": {
    "X_kernel": "matern",
    "X_length_scale": 1.0,
    "X_nu": 0.5,
    "alpha": 0.05,
    "delta": 0.0,
    "idx": 0,
    "k": 10,
    "lambd": 1.0,
    "n": 400,
    "nboot": 100,
    "niter": 100,
    "noise_kernel": "matern",
    "noise_length_scale": 1.0,
    "noise_nu": 0.5,
    "p": 500,
    "s": 30,
    "savedir": "/Users/kevinfry/Documents/GitHub/StructuredPredictionError/papermill_templates/output/RL/RLWR_our_vs_CV_alpha05/run_0_α=0.05_δ0.0_snr0.4_nkmatern_nls1.0_nv0.5_Xkmatern_Xls1.0_Xv0.5/",
    "snr": 0.4
   },
   "start_time": "2022-06-25T02:47:38.755474",
   "version": "2.3.4"
  }
 },
 "nbformat": 4,
 "nbformat_minor": 5
}