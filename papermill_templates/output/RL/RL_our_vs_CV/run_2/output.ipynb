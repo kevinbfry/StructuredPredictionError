{
 "cells": [
  {
   "cell_type": "code",
   "execution_count": 1,
   "id": "fba983b7",
   "metadata": {
    "execution": {
     "iopub.execute_input": "2022-06-23T01:09:20.461099Z",
     "iopub.status.busy": "2022-06-23T01:09:20.460807Z",
     "iopub.status.idle": "2022-06-23T01:09:22.433533Z",
     "shell.execute_reply": "2022-06-23T01:09:22.432695Z"
    },
    "papermill": {
     "duration": 1.990998,
     "end_time": "2022-06-23T01:09:22.435831",
     "exception": false,
     "start_time": "2022-06-23T01:09:20.444833",
     "status": "completed"
    },
    "tags": []
   },
   "outputs": [],
   "source": [
    "import numpy as np\n",
    "import pandas as pd\n",
    "from sklearn.linear_model import Lasso, LinearRegression\n",
    "from sklearn.cluster import KMeans\n",
    "from sklearn.gaussian_process.kernels import Matern, RBF\n",
    "\n",
    "import plotly.express as px\n",
    "\n",
    "import plotly.graph_objects as go\n",
    "\n",
    "from scipy.linalg import toeplitz, block_diag\n",
    "\n",
    "from spe.mse_estimator import ErrorComparer\n",
    "from spe.data_generation import gen_rbf_X, gen_matern_X, create_clus_split, gen_cov_mat\n",
    "from spe.relaxed_lasso import RelaxedLasso\n",
    "from spe.estimators import kfoldcv, kmeanscv, better_test_est_split, cp_relaxed_lasso_train_test, bag_kfoldcv, bag_kmeanscv\n",
    "\n",
    "import os"
   ]
  },
  {
   "cell_type": "code",
   "execution_count": 2,
   "id": "d45f46ac",
   "metadata": {
    "execution": {
     "iopub.execute_input": "2022-06-23T01:09:22.461775Z",
     "iopub.status.busy": "2022-06-23T01:09:22.461513Z",
     "iopub.status.idle": "2022-06-23T01:09:22.467028Z",
     "shell.execute_reply": "2022-06-23T01:09:22.466264Z"
    },
    "papermill": {
     "duration": 0.020765,
     "end_time": "2022-06-23T01:09:22.468991",
     "exception": false,
     "start_time": "2022-06-23T01:09:22.448226",
     "status": "completed"
    },
    "tags": [
     "parameters"
    ]
   },
   "outputs": [],
   "source": [
    "niter = 50\n",
    "\n",
    "n=20**2\n",
    "p=500\n",
    "s=30\n",
    "\n",
    "k=10\n",
    "\n",
    "delta = 0.8\n",
    "\n",
    "noise_kernel = 'matern'\n",
    "noise_length_scale = 1\n",
    "noise_nu = 2.5\n",
    "\n",
    "X_kernel = 'rbf'\n",
    "X_length_scale = 1\n",
    "X_nu = 4.5\n",
    "\n",
    "idx = -1\n",
    "\n",
    "savedir='~'\n",
    "\n",
    "models = RelaxedLasso(lambd=1.)\n",
    "\n",
    "ests = [better_test_est_split,\n",
    "        cp_relaxed_lasso_train_test, \n",
    "        cp_relaxed_lasso_train_test, \n",
    "        kfoldcv, \n",
    "        kmeanscv]\n",
    "est_kwargs = [{},\n",
    "              {'alpha': 1., \n",
    "               'use_trace_corr': False, \n",
    "               'full_refit': False}, \n",
    "              {'alpha': 1., \n",
    "               'use_trace_corr': True, \n",
    "               'full_refit': False},\n",
    "              {'k': k},\n",
    "              {'k': k}]"
   ]
  },
  {
   "cell_type": "code",
   "execution_count": 3,
   "id": "2637dabb",
   "metadata": {
    "execution": {
     "iopub.execute_input": "2022-06-23T01:09:22.493956Z",
     "iopub.status.busy": "2022-06-23T01:09:22.493728Z",
     "iopub.status.idle": "2022-06-23T01:09:22.497872Z",
     "shell.execute_reply": "2022-06-23T01:09:22.497156Z"
    },
    "papermill": {
     "duration": 0.019019,
     "end_time": "2022-06-23T01:09:22.499814",
     "exception": false,
     "start_time": "2022-06-23T01:09:22.480795",
     "status": "completed"
    },
    "tags": [
     "injected-parameters"
    ]
   },
   "outputs": [],
   "source": [
    "# Parameters\n",
    "niter = 100\n",
    "n = 400\n",
    "p = 500\n",
    "s = 30\n",
    "k = 10\n",
    "delta = 0.8\n",
    "noise_kernel = \"matern\"\n",
    "noise_length_scale = 1.0\n",
    "noise_nu = 0.5\n",
    "X_kernel = \"rbf\"\n",
    "X_length_scale = 5.0\n",
    "X_nu = 1.0\n",
    "savedir = \"/Users/kevinfry/Documents/GitHub/StructuredPredictionError/papermill_templates/output/RL/RL_our_vs_CV/run_2/\"\n",
    "idx = 2\n"
   ]
  },
  {
   "cell_type": "code",
   "execution_count": 4,
   "id": "3f76fa5e",
   "metadata": {
    "execution": {
     "iopub.execute_input": "2022-06-23T01:09:22.524956Z",
     "iopub.status.busy": "2022-06-23T01:09:22.524741Z",
     "iopub.status.idle": "2022-06-23T01:09:22.528401Z",
     "shell.execute_reply": "2022-06-23T01:09:22.527715Z"
    },
    "papermill": {
     "duration": 0.018374,
     "end_time": "2022-06-23T01:09:22.530313",
     "exception": false,
     "start_time": "2022-06-23T01:09:22.511939",
     "status": "completed"
    },
    "tags": []
   },
   "outputs": [],
   "source": [
    "if not os.path.exists(os.path.expanduser(savedir)):\n",
    "    os.makedirs(os.path.expanduser(savedir))\n",
    "\n",
    "dffp = os.path.expanduser(savedir + \"err_df.csv\")\n",
    "barfp = os.path.expanduser(savedir + 'barchart.jpeg')"
   ]
  },
  {
   "cell_type": "code",
   "execution_count": 5,
   "id": "537924a8",
   "metadata": {
    "execution": {
     "iopub.execute_input": "2022-06-23T01:09:22.554798Z",
     "iopub.status.busy": "2022-06-23T01:09:22.554583Z",
     "iopub.status.idle": "2022-06-23T01:09:22.557525Z",
     "shell.execute_reply": "2022-06-23T01:09:22.556888Z"
    },
    "papermill": {
     "duration": 0.017695,
     "end_time": "2022-06-23T01:09:22.559608",
     "exception": false,
     "start_time": "2022-06-23T01:09:22.541913",
     "status": "completed"
    },
    "tags": []
   },
   "outputs": [],
   "source": [
    "err_cmp = ErrorComparer()"
   ]
  },
  {
   "cell_type": "code",
   "execution_count": 6,
   "id": "0328ff18",
   "metadata": {
    "execution": {
     "iopub.execute_input": "2022-06-23T01:09:22.586472Z",
     "iopub.status.busy": "2022-06-23T01:09:22.586253Z",
     "iopub.status.idle": "2022-06-23T01:09:22.590947Z",
     "shell.execute_reply": "2022-06-23T01:09:22.590117Z"
    },
    "papermill": {
     "duration": 0.02066,
     "end_time": "2022-06-23T01:09:22.593088",
     "exception": false,
     "start_time": "2022-06-23T01:09:22.572428",
     "status": "completed"
    },
    "tags": []
   },
   "outputs": [],
   "source": [
    "nx = ny = int(np.sqrt(n))\n",
    "xs = np.linspace(0, 10, nx)\n",
    "ys = np.linspace(0, 10, ny)\n",
    "c_x, c_y = np.meshgrid(xs, ys)\n",
    "c_x = c_x.flatten()\n",
    "c_y = c_y.flatten()\n",
    "coord = np.stack([c_x, c_y]).T"
   ]
  },
  {
   "cell_type": "code",
   "execution_count": 7,
   "id": "3bcdf51b",
   "metadata": {
    "execution": {
     "iopub.execute_input": "2022-06-23T01:09:22.619768Z",
     "iopub.status.busy": "2022-06-23T01:09:22.619551Z",
     "iopub.status.idle": "2022-06-23T01:09:22.629723Z",
     "shell.execute_reply": "2022-06-23T01:09:22.629024Z"
    },
    "papermill": {
     "duration": 0.025954,
     "end_time": "2022-06-23T01:09:22.632004",
     "exception": false,
     "start_time": "2022-06-23T01:09:22.606050",
     "status": "completed"
    },
    "tags": []
   },
   "outputs": [],
   "source": [
    "if noise_kernel == 'rbf':\n",
    "    Sigma_t = gen_cov_mat(c_x, c_y, RBF(length_scale=noise_length_scale))\n",
    "elif noise_kernel == 'matern':\n",
    "    Sigma_t = gen_cov_mat(c_x, c_y, Matern(length_scale=noise_length_scale, nu=noise_nu))\n",
    "else:\n",
    "    Sigma_t = np.eye(n)\n",
    "    \n",
    "Sigma_t = delta*Sigma_t + (1-delta)*np.eye(n)\n",
    "\n",
    "if noise_kernel == 'rbf' or noise_kernel == 'matern':\n",
    "    Chol_t = np.linalg.cholesky(Sigma_t)\n",
    "else:\n",
    "    Chol_t = np.eye(n)"
   ]
  },
  {
   "cell_type": "code",
   "execution_count": 8,
   "id": "57a83d6f",
   "metadata": {
    "execution": {
     "iopub.execute_input": "2022-06-23T01:09:22.660078Z",
     "iopub.status.busy": "2022-06-23T01:09:22.659836Z",
     "iopub.status.idle": "2022-06-23T01:09:22.729215Z",
     "shell.execute_reply": "2022-06-23T01:09:22.728372Z"
    },
    "papermill": {
     "duration": 0.086313,
     "end_time": "2022-06-23T01:09:22.731659",
     "exception": false,
     "start_time": "2022-06-23T01:09:22.645346",
     "status": "completed"
    },
    "tags": []
   },
   "outputs": [],
   "source": [
    "if X_kernel == 'rbf':\n",
    "    X = gen_rbf_X(c_x, c_y, p)\n",
    "elif X_kernel == 'matern':\n",
    "    X = gen_matern_X(c_x, c_y, p, length_scale=X_length_scale, nu=X_nu)\n",
    "else:\n",
    "    X = np.random.randn(n,p)\n",
    "\n",
    "beta = np.zeros(p)\n",
    "idx = np.random.choice(p,size=s)\n",
    "beta[idx] = np.random.uniform(-1,1,size=s)"
   ]
  },
  {
   "cell_type": "code",
   "execution_count": 9,
   "id": "9ad059ae",
   "metadata": {
    "execution": {
     "iopub.execute_input": "2022-06-23T01:09:22.763717Z",
     "iopub.status.busy": "2022-06-23T01:09:22.763370Z"
    },
    "papermill": {
     "duration": 90.960277,
     "end_time": "2022-06-23T01:10:53.707096",
     "exception": false,
     "start_time": "2022-06-23T01:09:22.746819",
     "status": "completed"
    },
    "tags": []
   },
   "outputs": [
    {
     "name": "stdout",
     "output_type": "stream",
     "text": [
      "[RelaxedLasso(), RelaxedLasso(), RelaxedLasso(), RelaxedLasso(), RelaxedLasso()]\n",
      "0\n",
      "0.4975\n"
     ]
    },
    {
     "name": "stdout",
     "output_type": "stream",
     "text": [
      "10\n"
     ]
    },
    {
     "name": "stdout",
     "output_type": "stream",
     "text": [
      "20\n"
     ]
    },
    {
     "name": "stdout",
     "output_type": "stream",
     "text": [
      "30\n"
     ]
    },
    {
     "name": "stdout",
     "output_type": "stream",
     "text": [
      "40\n"
     ]
    },
    {
     "name": "stdout",
     "output_type": "stream",
     "text": [
      "50\n"
     ]
    },
    {
     "name": "stdout",
     "output_type": "stream",
     "text": [
      "60\n"
     ]
    },
    {
     "name": "stdout",
     "output_type": "stream",
     "text": [
      "70\n"
     ]
    },
    {
     "name": "stdout",
     "output_type": "stream",
     "text": [
      "80\n"
     ]
    },
    {
     "name": "stdout",
     "output_type": "stream",
     "text": [
      "90\n"
     ]
    }
   ],
   "source": [
    "(test_err,\n",
    " rnd_err,\n",
    " trc_err,\n",
    " kfcv_err,\n",
    " spcv_err) = err_cmp.compare(models,\n",
    "                             ests,\n",
    "                             est_kwargs,\n",
    "                             niter=niter,\n",
    "                             n=n,\n",
    "                             p=p,\n",
    "                             s=p,\n",
    "                             snr=0.4, \n",
    "                             X=X,\n",
    "                             beta=beta,\n",
    "                             coord=coord,\n",
    "                             Chol_t=Chol_t,\n",
    "                             Chol_s=None,\n",
    "                             tr_idx=None,\n",
    "                             fair=False,\n",
    "                             )"
   ]
  },
  {
   "cell_type": "code",
   "execution_count": null,
   "id": "6b20be6f",
   "metadata": {
    "papermill": {
     "duration": null,
     "end_time": null,
     "exception": null,
     "start_time": null,
     "status": "completed"
    },
    "tags": []
   },
   "outputs": [],
   "source": [
    "risk = test_err.mean()\n",
    "risk_kfcv = kfcv_err.mean()\n",
    "risk_spcv = spcv_err.mean()\n",
    "risk_rnd = rnd_err.mean()\n",
    "risk_trc = trc_err.mean()\n",
    "# risk, risk_kfcv, risk_spcv, risk_lin"
   ]
  },
  {
   "cell_type": "code",
   "execution_count": null,
   "id": "9c0a1004",
   "metadata": {
    "papermill": {
     "duration": null,
     "end_time": null,
     "exception": null,
     "start_time": null,
     "status": "completed"
    },
    "tags": []
   },
   "outputs": [],
   "source": [
    "save_df = pd.DataFrame({'Rand_WR': (rnd_err.T),\n",
    "                        'Trace_WR': (trc_err.T),\n",
    "                        'KFCV': (kfcv_err.T),\n",
    "                        'SPCV': (spcv_err.T),\n",
    "                        'Test': (test_err.T)})\n",
    "# save_df.to_csv(dffp)"
   ]
  },
  {
   "cell_type": "code",
   "execution_count": null,
   "id": "8bbd8842",
   "metadata": {
    "papermill": {
     "duration": null,
     "end_time": null,
     "exception": null,
     "start_time": null,
     "status": "completed"
    },
    "tags": []
   },
   "outputs": [],
   "source": [
    "df = pd.DataFrame({'Rand_WR': (rnd_err.T),\n",
    "                   'Trace_WR': (trc_err.T),\n",
    "                   'KFCV': (kfcv_err.T),\n",
    "                   'SPCV': (spcv_err.T)})"
   ]
  },
  {
   "cell_type": "code",
   "execution_count": null,
   "id": "d4ab1fa8",
   "metadata": {
    "papermill": {
     "duration": null,
     "end_time": null,
     "exception": null,
     "start_time": null,
     "status": "completed"
    },
    "tags": []
   },
   "outputs": [],
   "source": [
    "(df/risk).mean()"
   ]
  },
  {
   "cell_type": "code",
   "execution_count": null,
   "id": "6b27bae6",
   "metadata": {
    "papermill": {
     "duration": null,
     "end_time": null,
     "exception": null,
     "start_time": null,
     "status": "completed"
    },
    "tags": []
   },
   "outputs": [],
   "source": [
    "df.var(), (df/risk).var()"
   ]
  },
  {
   "cell_type": "code",
   "execution_count": null,
   "id": "a8ff126a",
   "metadata": {
    "papermill": {
     "duration": null,
     "end_time": null,
     "exception": null,
     "start_time": null,
     "status": "completed"
    },
    "tags": []
   },
   "outputs": [],
   "source": [
    "fig = go.Figure()\n",
    "fig.add_trace(go.Bar(\n",
    "    name='Control',\n",
    "    x=['Rand_WR', 'Trace_WR', 'KFCV', 'SPCV'], y=(df/risk).mean(),\n",
    "    marker_color=px.colors.qualitative.Plotly,\n",
    "    text=np.around((df/risk).mean(),3),\n",
    "    textposition='outside',\n",
    "    error_y=dict(\n",
    "        type='data',\n",
    "        color='black',\n",
    "        symmetric=False,\n",
    "        array=(df/risk).quantile(.75),\n",
    "        arrayminus=(df/risk).quantile(.25))\n",
    "#         array=(df/risk).mean() + (df/risk).std(),\n",
    "#         arrayminus=(df/risk).mean() - (df/risk).std())\n",
    "))\n",
    "# fig.add_trace(go.Bar(\n",
    "#     name='Experimental',\n",
    "#     x=['GenCp', 'KFCV', 'SPCV'], y=(df/risk).mean(),\n",
    "#     error_y=dict(type='data', array=[1, 2])\n",
    "# ))\n",
    "# fig.update_layout(barmode='group')\n",
    "fig.add_hline(y=1., line_color='red')\n",
    "fig.update_layout(\n",
    "    title=\"RL Test Error Estimates\",\n",
    "    xaxis_title=\"Method\",\n",
    "    yaxis_title=\"Relative MSE\",\n",
    "#     legend_title=\"Legend Title\",\n",
    "#     font=dict(\n",
    "#         family=\"Courier New, monospace\",\n",
    "#         size=18,\n",
    "#         color=\"RebeccaPurple\"\n",
    "#     )\n",
    ")\n",
    "# fig.write_image(os.path.expanduser(barfp))\n",
    "fig.show()"
   ]
  },
  {
   "cell_type": "code",
   "execution_count": null,
   "id": "9cdd7a02",
   "metadata": {
    "papermill": {
     "duration": null,
     "end_time": null,
     "exception": null,
     "start_time": null,
     "status": "completed"
    },
    "tags": []
   },
   "outputs": [],
   "source": []
  },
  {
   "cell_type": "code",
   "execution_count": null,
   "id": "7724b70e",
   "metadata": {
    "papermill": {
     "duration": null,
     "end_time": null,
     "exception": null,
     "start_time": null,
     "status": "completed"
    },
    "tags": []
   },
   "outputs": [],
   "source": []
  }
 ],
 "metadata": {
  "celltoolbar": "Tags",
  "kernelspec": {
   "display_name": "blur",
   "language": "python",
   "name": "blur"
  },
  "language_info": {
   "codemirror_mode": {
    "name": "ipython",
    "version": 3
   },
   "file_extension": ".py",
   "mimetype": "text/x-python",
   "name": "python",
   "nbconvert_exporter": "python",
   "pygments_lexer": "ipython3",
   "version": "3.8.13"
  },
  "papermill": {
   "default_parameters": {},
   "duration": 99.385268,
   "end_time": "2022-06-23T01:10:58.856298",
   "environment_variables": {},
   "exception": null,
   "input_path": "/Users/kevinfry/Documents/GitHub/StructuredPredictionError/papermill_templates/RLTemplate.ipynb",
   "output_path": "/Users/kevinfry/Documents/GitHub/StructuredPredictionError/papermill_templates/output/RL/RL_our_vs_CV/run_2/output.ipynb",
   "parameters": {
    "X_kernel": "rbf",
    "X_length_scale": 5.0,
    "X_nu": 1.0,
    "delta": 0.8,
    "idx": 2,
    "k": 10,
    "n": 400,
    "niter": 100,
    "noise_kernel": "matern",
    "noise_length_scale": 1.0,
    "noise_nu": 0.5,
    "p": 500,
    "s": 30,
    "savedir": "/Users/kevinfry/Documents/GitHub/StructuredPredictionError/papermill_templates/output/RL/RL_our_vs_CV/run_2/"
   },
   "start_time": "2022-06-23T01:09:19.471030",
   "version": "2.3.4"
  }
 },
 "nbformat": 4,
 "nbformat_minor": 5
}