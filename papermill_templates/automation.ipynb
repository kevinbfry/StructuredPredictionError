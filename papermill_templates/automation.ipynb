{
 "cells": [
  {
   "cell_type": "markdown",
   "metadata": {},
   "source": [
    "# Import, Generic Setup"
   ]
  },
  {
   "cell_type": "code",
   "execution_count": 1,
   "metadata": {},
   "outputs": [],
   "source": [
    "import papermill as pm\n",
    "from itertools import product\n",
    "import sys\n",
    "import os"
   ]
  },
  {
   "cell_type": "code",
   "execution_count": 2,
   "metadata": {},
   "outputs": [],
   "source": [
    "template_dir = '~/Documents/GitHub/StructuredPredictionError/papermill_templates/'\n",
    "wdir = '~/Documents/GitHub/StructuredPredictionError/papermill_templates/output/'"
   ]
  },
  {
   "cell_type": "code",
   "execution_count": 3,
   "metadata": {},
   "outputs": [],
   "source": [
    "def product_dict(**kwargs):\n",
    "    keys = kwargs.keys()\n",
    "    vals = kwargs.values()\n",
    "    for instance in product(*vals):\n",
    "        yield dict(zip(keys, instance))"
   ]
  },
  {
   "cell_type": "code",
   "execution_count": 4,
   "metadata": {},
   "outputs": [],
   "source": [
    "def get_inputfp(model, folder_name):\n",
    "    input_nb = model + \"Template.ipynb\"\n",
    "    indir = wdir + model + '/' + folder_name + '/'\n",
    "\n",
    "    inputfp = os.path.expanduser(template_dir) + input_nb\n",
    "    return indir, inputfp"
   ]
  },
  {
   "cell_type": "code",
   "execution_count": 5,
   "metadata": {},
   "outputs": [],
   "source": [
    "def run_nbs(indir, inputfp, params, start_idx=0):\n",
    "#     if model == 'RL':\n",
    "#         params = product_dict(**rl_dict)\n",
    "#         # input_nb = 'RLTemplate.ipynb'\n",
    "#         # indir = wdir + 'RL/exp_kern_multik/'\n",
    "#     elif model == 'RF':\n",
    "#         params = product_dict(**rf_dict)\n",
    "#         # input_nb = 'RFTemplate.ipynb'\n",
    "#         # indir = wdir + 'RF/exp_kern_multik/'\n",
    "#     elif model == 'RFRefits':\n",
    "#         params = product_dict(**rfrefits_dict)\n",
    "#         # input_nb = 'RFRefitsTemplate.ipynb'\n",
    "#         # indir = wdir + 'RFRefits/exp_kern_multik/'\n",
    "\n",
    "#     input_nb = model + \"Template.ipynb\"\n",
    "#     indir = wdir + model + '/' + folder_name + '/'\n",
    "\n",
    "#     inputfp = os.path.expanduser(template_dir) + input_nb\n",
    "    if not os.path.exists(inputfp):\n",
    "        os.makedirs(inputfp)\n",
    "\n",
    "#     output_nb = 'output.ipynb'\n",
    "#     output_nb = \"\\u03B4{delta}_kern{kernel}_nls{noise_length_scale}_nv{noise_nu}_Xls{X_length_scale}_Xv{X_nu}\"\n",
    "\n",
    "    for i,param in enumerate(params):\n",
    "        output_nb = f\"\\u03B4{param['delta']}_snr{param['snr']}\" \\\n",
    "                    f\"_nk{param['noise_kernel']}\" \\\n",
    "                    f\"_nls{param['noise_length_scale']}\" \\\n",
    "                    f\"_nv{param['noise_nu']}_Xk{param['X_kernel']}\" \\\n",
    "                    f\"_Xls{param['X_length_scale']}_Xv{param['X_nu']}\"\n",
    "        if 'alpha' in param:\n",
    "            output_nb = f\"\\u03B1={param['alpha']}_\" + output_nb\n",
    "            \n",
    "#         outputdir = os.path.expanduser(indir) + 'run_' + str(i+start_idx) + '/'\n",
    "        outputdir = os.path.expanduser(indir) + 'run_' \\\n",
    "                    + str(i+start_idx) + '_' + output_nb + '/'\n",
    "        output_nb += \".ipynb\"\n",
    "        outputfp = outputdir + output_nb\n",
    "        if not os.path.exists(outputdir):\n",
    "            os.makedirs(outputdir)\n",
    "        param['savedir'] = outputdir\n",
    "        param['idx'] = i\n",
    "        pm.execute_notebook(\n",
    "            inputfp,\n",
    "            outputfp,\n",
    "            parameters=param\n",
    "        )"
   ]
  },
  {
   "cell_type": "markdown",
   "metadata": {},
   "source": [
    "# Compare RL: Correction vs CV"
   ]
  },
  {
   "cell_type": "code",
   "execution_count": 6,
   "metadata": {},
   "outputs": [
    {
     "data": {
      "application/vnd.jupyter.widget-view+json": {
       "model_id": "d513ee20d270412ca16f26e50d05ef23",
       "version_major": 2,
       "version_minor": 0
      },
      "text/plain": [
       "Executing:   0%|          | 0/18 [00:00<?, ?cell/s]"
      ]
     },
     "metadata": {},
     "output_type": "display_data"
    },
    {
     "data": {
      "application/vnd.jupyter.widget-view+json": {
       "model_id": "9797258673d24e6dba2e26216164d853",
       "version_major": 2,
       "version_minor": 0
      },
      "text/plain": [
       "Executing:   0%|          | 0/18 [00:00<?, ?cell/s]"
      ]
     },
     "metadata": {},
     "output_type": "display_data"
    },
    {
     "data": {
      "application/vnd.jupyter.widget-view+json": {
       "model_id": "8b3cdb80ea834d019def636b2927c1f4",
       "version_major": 2,
       "version_minor": 0
      },
      "text/plain": [
       "Executing:   0%|          | 0/18 [00:00<?, ?cell/s]"
      ]
     },
     "metadata": {},
     "output_type": "display_data"
    },
    {
     "data": {
      "application/vnd.jupyter.widget-view+json": {
       "model_id": "78f4095d5c5f4187b0551dfd1a33b7d8",
       "version_major": 2,
       "version_minor": 0
      },
      "text/plain": [
       "Executing:   0%|          | 0/18 [00:00<?, ?cell/s]"
      ]
     },
     "metadata": {},
     "output_type": "display_data"
    }
   ],
   "source": [
    "rl_dict = {\n",
    "    'niter': [50],\n",
    "    'n': [400],\n",
    "    'p': [500],\n",
    "    's': [30],\n",
    "    'k': [10],\n",
    "    'snr': [0.4],\n",
    "    'lambd': [1.],\n",
    "    'delta':[0.8],\n",
    "    'alpha': [0.05],\n",
    "    'nboot': [100],\n",
    "    'noise_kernel': ['matern'],\n",
    "    'noise_length_scale':[1.],\n",
    "    'noise_nu':[0.5, 2.5],\n",
    "    'X_kernel': ['matern'],\n",
    "    'X_length_scale':[1.],\n",
    "    'X_nu':[0.5, 2.5],\n",
    "}\n",
    "\n",
    "params = product_dict(**rl_dict)\n",
    "indir, inputfp = get_inputfp('RL', 'RLWR_our_vs_CV_alpha05')\n",
    "run_nbs(indir, inputfp, params)"
   ]
  },
  {
   "cell_type": "markdown",
   "metadata": {},
   "source": [
    "# Compare RL corr $Y, Y^*$: correction vs CV "
   ]
  },
  {
   "cell_type": "code",
   "execution_count": 7,
   "metadata": {},
   "outputs": [
    {
     "data": {
      "application/vnd.jupyter.widget-view+json": {
       "model_id": "2459dda7e93345c4bfc6ca66eaf7ec41",
       "version_major": 2,
       "version_minor": 0
      },
      "text/plain": [
       "Executing:   0%|          | 0/21 [00:00<?, ?cell/s]"
      ]
     },
     "metadata": {},
     "output_type": "display_data"
    },
    {
     "data": {
      "application/vnd.jupyter.widget-view+json": {
       "model_id": "07c1a8ea849d4c988fef9fd28635dba2",
       "version_major": 2,
       "version_minor": 0
      },
      "text/plain": [
       "Executing:   0%|          | 0/21 [00:00<?, ?cell/s]"
      ]
     },
     "metadata": {},
     "output_type": "display_data"
    },
    {
     "data": {
      "application/vnd.jupyter.widget-view+json": {
       "model_id": "e35ba920a179494196f7e34d44560b6e",
       "version_major": 2,
       "version_minor": 0
      },
      "text/plain": [
       "Executing:   0%|          | 0/21 [00:00<?, ?cell/s]"
      ]
     },
     "metadata": {},
     "output_type": "display_data"
    },
    {
     "data": {
      "application/vnd.jupyter.widget-view+json": {
       "model_id": "aa64e40fbd7a4b808f3b40f3e3c60a3b",
       "version_major": 2,
       "version_minor": 0
      },
      "text/plain": [
       "Executing:   0%|          | 0/21 [00:00<?, ?cell/s]"
      ]
     },
     "metadata": {},
     "output_type": "display_data"
    }
   ],
   "source": [
    "rl_dict = {\n",
    "    'niter': [50],\n",
    "    'n': [400],\n",
    "    'p': [500],\n",
    "    's': [30],\n",
    "    'k': [10],\n",
    "    'snr': [0.4],\n",
    "    'lambd': [1.],\n",
    "    'delta':[0.8],\n",
    "    'alpha': [0.05],\n",
    "    'nboot': [100],\n",
    "    'noise_kernel': ['matern'],\n",
    "    'noise_length_scale':[1.],\n",
    "    'noise_nu':[0.5, 2.5],\n",
    "    'X_kernel': ['matern'],\n",
    "    'X_length_scale':[1.],\n",
    "    'X_nu':[0.5, 2.5],\n",
    "}\n",
    "\n",
    "params = product_dict(**rl_dict)\n",
    "indir, inputfp = get_inputfp('CRL', 'CRLWR_our_vs_CV_alpha05')\n",
    "run_nbs(indir, inputfp, params, 48)"
   ]
  },
  {
   "cell_type": "markdown",
   "metadata": {},
   "source": [
    "# Compare VRF: Correction vs CV"
   ]
  },
  {
   "cell_type": "code",
   "execution_count": 17,
   "metadata": {},
   "outputs": [
    {
     "data": {
      "application/vnd.jupyter.widget-view+json": {
       "model_id": "00be89ea2b5c4f38bf05bdaab6381cac",
       "version_major": 2,
       "version_minor": 0
      },
      "text/plain": [
       "Executing:   0%|          | 0/19 [00:00<?, ?cell/s]"
      ]
     },
     "metadata": {},
     "output_type": "display_data"
    },
    {
     "data": {
      "application/vnd.jupyter.widget-view+json": {
       "model_id": "dbd07326c57e40a985f862339be68778",
       "version_major": 2,
       "version_minor": 0
      },
      "text/plain": [
       "Executing:   0%|          | 0/19 [00:00<?, ?cell/s]"
      ]
     },
     "metadata": {},
     "output_type": "display_data"
    },
    {
     "data": {
      "application/vnd.jupyter.widget-view+json": {
       "model_id": "8d8e6eca74f9426abcf67b91fed2d8a7",
       "version_major": 2,
       "version_minor": 0
      },
      "text/plain": [
       "Executing:   0%|          | 0/19 [00:00<?, ?cell/s]"
      ]
     },
     "metadata": {},
     "output_type": "display_data"
    },
    {
     "data": {
      "application/vnd.jupyter.widget-view+json": {
       "model_id": "61ae4aa9490a4bd485ea776e5bce9074",
       "version_major": 2,
       "version_minor": 0
      },
      "text/plain": [
       "Executing:   0%|          | 0/19 [00:00<?, ?cell/s]"
      ]
     },
     "metadata": {},
     "output_type": "display_data"
    }
   ],
   "source": [
    "rf_dict = {\n",
    "    'niter': [50],\n",
    "    'n': [900],\n",
    "    'p': [30],\n",
    "    's': [30],\n",
    "    'k': [10],\n",
    "    'snr': [0.4],\n",
    "    'n_estimators': [100],\n",
    "    'max_depth': [6],\n",
    "    'delta':[0.8],\n",
    "    'alpha': [0.05],\n",
    "    'nboot': [100],\n",
    "    'noise_kernel': ['matern'],\n",
    "    'noise_length_scale':[1.],\n",
    "    'noise_nu':[0.5, 2.5],\n",
    "    'X_kernel': ['matern'],\n",
    "    'X_length_scale':[1.],\n",
    "    'X_nu':[0.5, 2.5],\n",
    "}\n",
    "\n",
    "params = product_dict(**rf_dict)\n",
    "indir, inputfp = get_inputfp('RF', 'RF_our_vs_CV_alpha05')\n",
    "run_nbs(indir, inputfp, params)"
   ]
  },
  {
   "cell_type": "markdown",
   "metadata": {},
   "source": [
    "# Compare VRF corr $Y, Y^*$: correction vs CV "
   ]
  },
  {
   "cell_type": "markdown",
   "metadata": {},
   "source": [
    "# Compare BF full refit: Correction vs CV"
   ]
  },
  {
   "cell_type": "code",
   "execution_count": null,
   "metadata": {},
   "outputs": [
    {
     "data": {
      "application/vnd.jupyter.widget-view+json": {
       "model_id": "1ef33d062bc445708adf12604ee3baf2",
       "version_major": 2,
       "version_minor": 0
      },
      "text/plain": [
       "Executing:   0%|          | 0/19 [00:00<?, ?cell/s]"
      ]
     },
     "metadata": {},
     "output_type": "display_data"
    }
   ],
   "source": [
    "rf_dict = {\n",
    "    'niter': [50],\n",
    "    'n': [900],\n",
    "    'p': [30],\n",
    "    's': [30],\n",
    "    'k': [10],\n",
    "    'snr': [0.4],\n",
    "    'n_estimators': [100],\n",
    "    'max_depth': [6],\n",
    "    'delta':[0.8],\n",
    "    'noise_kernel': ['matern'],\n",
    "    'noise_length_scale':[1., 5.],\n",
    "    'noise_nu':[0.5, 2.5],\n",
    "    'X_kernel': [None, 'matern'],\n",
    "    'X_length_scale':[1., 5.],\n",
    "    'X_nu':[0.5, 2.5],\n",
    "}\n",
    "\n",
    "params = product_dict(**rf_dict)\n",
    "indir, inputfp = get_inputfp('BF', 'BFFR_our_vs_CV')\n",
    "run_nbs(indir, inputfp, params)"
   ]
  },
  {
   "cell_type": "markdown",
   "metadata": {},
   "source": [
    "# Compare BF full refit, corr $Y, Y^*$: Correction vs CV"
   ]
  },
  {
   "cell_type": "markdown",
   "metadata": {},
   "source": [
    "# Compare: VRF vs WRF vs BFWR vs BFFR"
   ]
  },
  {
   "cell_type": "code",
   "execution_count": 12,
   "metadata": {
    "scrolled": false
   },
   "outputs": [
    {
     "data": {
      "application/vnd.jupyter.widget-view+json": {
       "model_id": "caec5f3abf7e43dc8efa600d4b9166ce",
       "version_major": 2,
       "version_minor": 0
      },
      "text/plain": [
       "Executing:   0%|          | 0/19 [00:00<?, ?cell/s]"
      ]
     },
     "metadata": {},
     "output_type": "display_data"
    },
    {
     "data": {
      "application/vnd.jupyter.widget-view+json": {
       "model_id": "959c985a35fb4c72ad518967234d7e39",
       "version_major": 2,
       "version_minor": 0
      },
      "text/plain": [
       "Executing:   0%|          | 0/19 [00:00<?, ?cell/s]"
      ]
     },
     "metadata": {},
     "output_type": "display_data"
    },
    {
     "data": {
      "application/vnd.jupyter.widget-view+json": {
       "model_id": "4b7f222cf5034f5fb446314e78c9c701",
       "version_major": 2,
       "version_minor": 0
      },
      "text/plain": [
       "Executing:   0%|          | 0/19 [00:00<?, ?cell/s]"
      ]
     },
     "metadata": {},
     "output_type": "display_data"
    },
    {
     "data": {
      "application/vnd.jupyter.widget-view+json": {
       "model_id": "21e1dc14dbcf40849107330830439ba3",
       "version_major": 2,
       "version_minor": 0
      },
      "text/plain": [
       "Executing:   0%|          | 0/19 [00:00<?, ?cell/s]"
      ]
     },
     "metadata": {},
     "output_type": "display_data"
    }
   ],
   "source": [
    "rf_dict = {\n",
    "    'niter': [50],\n",
    "    'n': [900],\n",
    "    'p': [30],\n",
    "    's': [30],\n",
    "    'snr': [0.4],\n",
    "    'n_estimators': [5],\n",
    "    'max_depth': [6],\n",
    "    'delta':[0.8],\n",
    "    'noise_kernel': ['matern'],\n",
    "    'noise_length_scale':[1.],\n",
    "    'noise_nu':[0.5, 2.5],\n",
    "    'X_kernel': ['matern'],\n",
    "    'X_length_scale':[1.],\n",
    "    'X_nu':[0.5, 2.5],\n",
    "}\n",
    "\n",
    "params = product_dict(**rf_dict)\n",
    "indir, inputfp = get_inputfp('RFBF', 'RFBF_comps_5trees')\n",
    "run_nbs(indir, inputfp, params)"
   ]
  },
  {
   "cell_type": "code",
   "execution_count": 16,
   "metadata": {},
   "outputs": [
    {
     "data": {
      "application/vnd.jupyter.widget-view+json": {
       "model_id": "45d9ccbb8d4d426ab5b054e9bdca1c85",
       "version_major": 2,
       "version_minor": 0
      },
      "text/plain": [
       "Executing:   0%|          | 0/19 [00:00<?, ?cell/s]"
      ]
     },
     "metadata": {},
     "output_type": "display_data"
    },
    {
     "data": {
      "application/vnd.jupyter.widget-view+json": {
       "model_id": "9df24418d9404af393abe820f617f5f3",
       "version_major": 2,
       "version_minor": 0
      },
      "text/plain": [
       "Executing:   0%|          | 0/19 [00:00<?, ?cell/s]"
      ]
     },
     "metadata": {},
     "output_type": "display_data"
    },
    {
     "data": {
      "application/vnd.jupyter.widget-view+json": {
       "model_id": "9814ce865394462ca08582d1dc14a50d",
       "version_major": 2,
       "version_minor": 0
      },
      "text/plain": [
       "Executing:   0%|          | 0/19 [00:00<?, ?cell/s]"
      ]
     },
     "metadata": {},
     "output_type": "display_data"
    },
    {
     "name": "stderr",
     "output_type": "stream",
     "text": [
      "Task exception was never retrieved\n",
      "future: <Task finished name='Task-1047' coro=<NotebookClient.async_execute_cell() done, defined at /Users/kevinfry/opt/anaconda3/envs/blur/lib/python3.8/site-packages/nbclient/client.py:915> exception=CellExecutionError('An error occurred while executing the following cell:\\n------------------\\n(vrf_err,\\n wrf_err,\\n bfw_err,\\n bff_err) = err_cmp.compare(models,\\n                             ests,\\n                             est_kwargs,\\n                             niter=niter,\\n                             n=n,\\n                             p=p,\\n                             s=p,\\n                             snr=snr, \\n                             X=X,\\n                             beta=beta,\\n                             coord=coord,\\n                             Chol_t=Chol_t,\\n                             Chol_s=None,\\n                             tr_idx=None,\\n                             fair=False,\\n                             )\\n------------------\\n\\n\\x1b[0;31m---------------------------------------------------------------------------\\x1b[0m\\n\\x1b[0;31mKeyboardInterrupt\\x1b[0m                         Traceback (most recent call last)\\nInput \\x1b[0;32mIn [11]\\x1b[0m, in \\x1b[0;36m<cell line: 4>\\x1b[0;34m()\\x1b[0m\\n\\x1b[1;32m      1\\x1b[0m (vrf_err,\\n\\x1b[1;32m      2\\x1b[0m  wrf_err,\\n\\x1b[1;32m      3\\x1b[0m  bfw_err,\\n\\x1b[0;32m----> 4\\x1b[0m  bff_err) \\x1b[38;5;241m=\\x1b[39m \\x1b[43merr_cmp\\x1b[49m\\x1b[38;5;241;43m.\\x1b[39;49m\\x1b[43mcompare\\x1b[49m\\x1b[43m(\\x1b[49m\\x1b[43mmodels\\x1b[49m\\x1b[43m,\\x1b[49m\\n\\x1b[1;32m      5\\x1b[0m \\x1b[43m                             \\x1b[49m\\x1b[43mests\\x1b[49m\\x1b[43m,\\x1b[49m\\n\\x1b[1;32m      6\\x1b[0m \\x1b[43m                             \\x1b[49m\\x1b[43mest_kwargs\\x1b[49m\\x1b[43m,\\x1b[49m\\n\\x1b[1;32m      7\\x1b[0m \\x1b[43m                             \\x1b[49m\\x1b[43mniter\\x1b[49m\\x1b[38;5;241;43m=\\x1b[39;49m\\x1b[43mniter\\x1b[49m\\x1b[43m,\\x1b[49m\\n\\x1b[1;32m      8\\x1b[0m \\x1b[43m                             \\x1b[49m\\x1b[43mn\\x1b[49m\\x1b[38;5;241;43m=\\x1b[39;49m\\x1b[43mn\\x1b[49m\\x1b[43m,\\x1b[49m\\n\\x1b[1;32m      9\\x1b[0m \\x1b[43m                             \\x1b[49m\\x1b[43mp\\x1b[49m\\x1b[38;5;241;43m=\\x1b[39;49m\\x1b[43mp\\x1b[49m\\x1b[43m,\\x1b[49m\\n\\x1b[1;32m     10\\x1b[0m \\x1b[43m                             \\x1b[49m\\x1b[43ms\\x1b[49m\\x1b[38;5;241;43m=\\x1b[39;49m\\x1b[43mp\\x1b[49m\\x1b[43m,\\x1b[49m\\n\\x1b[1;32m     11\\x1b[0m \\x1b[43m                             \\x1b[49m\\x1b[43msnr\\x1b[49m\\x1b[38;5;241;43m=\\x1b[39;49m\\x1b[43msnr\\x1b[49m\\x1b[43m,\\x1b[49m\\x1b[43m \\x1b[49m\\n\\x1b[1;32m     12\\x1b[0m \\x1b[43m                             \\x1b[49m\\x1b[43mX\\x1b[49m\\x1b[38;5;241;43m=\\x1b[39;49m\\x1b[43mX\\x1b[49m\\x1b[43m,\\x1b[49m\\n\\x1b[1;32m     13\\x1b[0m \\x1b[43m                             \\x1b[49m\\x1b[43mbeta\\x1b[49m\\x1b[38;5;241;43m=\\x1b[39;49m\\x1b[43mbeta\\x1b[49m\\x1b[43m,\\x1b[49m\\n\\x1b[1;32m     14\\x1b[0m \\x1b[43m                             \\x1b[49m\\x1b[43mcoord\\x1b[49m\\x1b[38;5;241;43m=\\x1b[39;49m\\x1b[43mcoord\\x1b[49m\\x1b[43m,\\x1b[49m\\n\\x1b[1;32m     15\\x1b[0m \\x1b[43m                             \\x1b[49m\\x1b[43mChol_t\\x1b[49m\\x1b[38;5;241;43m=\\x1b[39;49m\\x1b[43mChol_t\\x1b[49m\\x1b[43m,\\x1b[49m\\n\\x1b[1;32m     16\\x1b[0m \\x1b[43m                             \\x1b[49m\\x1b[43mChol_s\\x1b[49m\\x1b[38;5;241;43m=\\x1b[39;49m\\x1b[38;5;28;43;01mNone\\x1b[39;49;00m\\x1b[43m,\\x1b[49m\\n\\x1b[1;32m     17\\x1b[0m \\x1b[43m                             \\x1b[49m\\x1b[43mtr_idx\\x1b[49m\\x1b[38;5;241;43m=\\x1b[39;49m\\x1b[38;5;28;43;01mNone\\x1b[39;49;00m\\x1b[43m,\\x1b[49m\\n\\x1b[1;32m     18\\x1b[0m \\x1b[43m                             \\x1b[49m\\x1b[43mfair\\x1b[49m\\x1b[38;5;241;43m=\\x1b[39;49m\\x1b[38;5;28;43;01mFalse\\x1b[39;49;00m\\x1b[43m,\\x1b[49m\\n\\x1b[1;32m     19\\x1b[0m \\x1b[43m                             \\x1b[49m\\x1b[43m)\\x1b[49m\\n\\nFile \\x1b[0;32m~/Documents/GitHub/StructuredPredictionError/spe/mse_estimator.py:233\\x1b[0m, in \\x1b[0;36mErrorComparer.compare\\x1b[0;34m(self, models, ests, est_kwargs, niter, n, p, s, snr, X, beta, coord, Chol_t, Chol_s, Cov_st, delta, tr_idx, fair, tr_frac, **kwargs)\\x1b[0m\\n\\x1b[1;32m    230\\x1b[0m \\t\\x1b[38;5;66;03m# print(ests)\\x1b[39;00m\\n\\x1b[1;32m    231\\x1b[0m \\t\\x1b[38;5;66;03m# print([e.keys() for e in est_kwargs])\\x1b[39;00m\\n\\x1b[1;32m    232\\x1b[0m \\t\\x1b[38;5;28;01mfor\\x1b[39;00m err, est, est_kwarg \\x1b[38;5;129;01min\\x1b[39;00m \\x1b[38;5;28mzip\\x1b[39m(errs, ests, est_kwargs):\\n\\x1b[0;32m--> 233\\x1b[0m \\t\\terr[i] \\x1b[38;5;241m=\\x1b[39m \\x1b[43mest\\x1b[49m\\x1b[43m(\\x1b[49m\\x1b[38;5;241;43m*\\x1b[39;49m\\x1b[38;5;241;43m*\\x1b[39;49m\\x1b[43mest_kwarg\\x1b[49m\\x1b[43m)\\x1b[49m\\n\\x1b[1;32m    235\\x1b[0m \\x1b[38;5;28;01mreturn\\x1b[39;00m errs\\n\\nFile \\x1b[0;32m~/Documents/GitHub/StructuredPredictionError/spe/estimators.py:158\\x1b[0m, in \\x1b[0;36mbetter_test_est_split\\x1b[0;34m(model, X, y, y2, tr_idx, full_refit, alpha, Chol_t, **kwargs)\\x1b[0m\\n\\x1b[1;32m    156\\x1b[0m \\tmodel\\x1b[38;5;241m.\\x1b[39mfit(X_tr, w_tr, \\x1b[38;5;241m*\\x1b[39m\\x1b[38;5;241m*\\x1b[39mkwargs)\\n\\x1b[1;32m    157\\x1b[0m \\x1b[38;5;28;01melse\\x1b[39;00m:\\n\\x1b[0;32m--> 158\\x1b[0m \\t\\x1b[43mmodel\\x1b[49m\\x1b[38;5;241;43m.\\x1b[39;49m\\x1b[43mfit\\x1b[49m\\x1b[43m(\\x1b[49m\\x1b[43mX_tr\\x1b[49m\\x1b[43m,\\x1b[49m\\x1b[43m \\x1b[49m\\x1b[43my_tr\\x1b[49m\\x1b[43m,\\x1b[49m\\x1b[43m \\x1b[49m\\x1b[38;5;241;43m*\\x1b[39;49m\\x1b[38;5;241;43m*\\x1b[39;49m\\x1b[43mkwargs\\x1b[49m\\x1b[43m)\\x1b[49m\\n\\x1b[1;32m    160\\x1b[0m \\x1b[38;5;28;01mif\\x1b[39;00m full_refit \\x1b[38;5;129;01mis\\x1b[39;00m \\x1b[38;5;28;01mNone\\x1b[39;00m:\\n\\x1b[1;32m    161\\x1b[0m \\tpreds \\x1b[38;5;241m=\\x1b[39m model\\x1b[38;5;241m.\\x1b[39mpredict(X_ts)\\n\\nFile \\x1b[0;32m~/Documents/GitHub/scikit-learn/sklearn/ensemble/_forest.py:510\\x1b[0m, in \\x1b[0;36mBaseForest.fit\\x1b[0;34m(self, X, y, sample_weight, chol_eps, idx_tr)\\x1b[0m\\n\\x1b[1;32m    505\\x1b[0m \\x1b[38;5;28;01mif\\x1b[39;00m \\x1b[38;5;28mself\\x1b[39m\\x1b[38;5;241m.\\x1b[39mwarm_start \\x1b[38;5;129;01mand\\x1b[39;00m \\x1b[38;5;28mlen\\x1b[39m(\\x1b[38;5;28mself\\x1b[39m\\x1b[38;5;241m.\\x1b[39mestimators_) \\x1b[38;5;241m>\\x1b[39m \\x1b[38;5;241m0\\x1b[39m:\\n\\x1b[1;32m    506\\x1b[0m     \\x1b[38;5;66;03m# We draw from the random state to get the random state we\\x1b[39;00m\\n\\x1b[1;32m    507\\x1b[0m     \\x1b[38;5;66;03m# would have got if we hadn\\'t used a warm_start.\\x1b[39;00m\\n\\x1b[1;32m    508\\x1b[0m     random_state\\x1b[38;5;241m.\\x1b[39mrandint(MAX_INT, size\\x1b[38;5;241m=\\x1b[39m\\x1b[38;5;28mlen\\x1b[39m(\\x1b[38;5;28mself\\x1b[39m\\x1b[38;5;241m.\\x1b[39mestimators_))\\n\\x1b[0;32m--> 510\\x1b[0m trees \\x1b[38;5;241m=\\x1b[39m [\\n\\x1b[1;32m    511\\x1b[0m     \\x1b[38;5;28mself\\x1b[39m\\x1b[38;5;241m.\\x1b[39m_make_estimator(append\\x1b[38;5;241m=\\x1b[39m\\x1b[38;5;28;01mFalse\\x1b[39;00m, random_state\\x1b[38;5;241m=\\x1b[39mrandom_state)\\n\\x1b[1;32m    512\\x1b[0m     \\x1b[38;5;28;01mfor\\x1b[39;00m i \\x1b[38;5;129;01min\\x1b[39;00m \\x1b[38;5;28mrange\\x1b[39m(n_more_estimators)\\n\\x1b[1;32m    513\\x1b[0m ]\\n\\x1b[1;32m    515\\x1b[0m \\x1b[38;5;66;03m# Parallel loop: we prefer the threading backend as the Cython code\\x1b[39;00m\\n\\x1b[1;32m    516\\x1b[0m \\x1b[38;5;66;03m# for fitting the trees is internally releasing the Python GIL\\x1b[39;00m\\n\\x1b[1;32m    517\\x1b[0m \\x1b[38;5;66;03m# making threading more efficient than multiprocessing in\\x1b[39;00m\\n\\x1b[1;32m    518\\x1b[0m \\x1b[38;5;66;03m# that case. However, for joblib 0.12+ we respect any\\x1b[39;00m\\n\\x1b[1;32m    519\\x1b[0m \\x1b[38;5;66;03m# parallel_backend contexts set at a higher level,\\x1b[39;00m\\n\\x1b[1;32m    520\\x1b[0m \\x1b[38;5;66;03m# since correctness does not rely on using threads.\\x1b[39;00m\\n\\x1b[1;32m    521\\x1b[0m trees \\x1b[38;5;241m=\\x1b[39m Parallel(\\n\\x1b[1;32m    522\\x1b[0m     n_jobs\\x1b[38;5;241m=\\x1b[39m\\x1b[38;5;28mself\\x1b[39m\\x1b[38;5;241m.\\x1b[39mn_jobs,\\n\\x1b[1;32m    523\\x1b[0m     verbose\\x1b[38;5;241m=\\x1b[39m\\x1b[38;5;28mself\\x1b[39m\\x1b[38;5;241m.\\x1b[39mverbose,\\n\\x1b[0;32m   (...)\\x1b[0m\\n\\x1b[1;32m    543\\x1b[0m     \\x1b[38;5;28;01mfor\\x1b[39;00m i, t \\x1b[38;5;129;01min\\x1b[39;00m \\x1b[38;5;28menumerate\\x1b[39m(trees)\\n\\x1b[1;32m    544\\x1b[0m )\\n\\nFile \\x1b[0;32m~/Documents/GitHub/scikit-learn/sklearn/ensemble/_forest.py:511\\x1b[0m, in \\x1b[0;36m<listcomp>\\x1b[0;34m(.0)\\x1b[0m\\n\\x1b[1;32m    505\\x1b[0m \\x1b[38;5;28;01mif\\x1b[39;00m \\x1b[38;5;28mself\\x1b[39m\\x1b[38;5;241m.\\x1b[39mwarm_start \\x1b[38;5;129;01mand\\x1b[39;00m \\x1b[38;5;28mlen\\x1b[39m(\\x1b[38;5;28mself\\x1b[39m\\x1b[38;5;241m.\\x1b[39mestimators_) \\x1b[38;5;241m>\\x1b[39m \\x1b[38;5;241m0\\x1b[39m:\\n\\x1b[1;32m    506\\x1b[0m     \\x1b[38;5;66;03m# We draw from the random state to get the random state we\\x1b[39;00m\\n\\x1b[1;32m    507\\x1b[0m     \\x1b[38;5;66;03m# would have got if we hadn\\'t used a warm_start.\\x1b[39;00m\\n\\x1b[1;32m    508\\x1b[0m     random_state\\x1b[38;5;241m.\\x1b[39mrandint(MAX_INT, size\\x1b[38;5;241m=\\x1b[39m\\x1b[38;5;28mlen\\x1b[39m(\\x1b[38;5;28mself\\x1b[39m\\x1b[38;5;241m.\\x1b[39mestimators_))\\n\\x1b[1;32m    510\\x1b[0m trees \\x1b[38;5;241m=\\x1b[39m [\\n\\x1b[0;32m--> 511\\x1b[0m     \\x1b[38;5;28;43mself\\x1b[39;49m\\x1b[38;5;241;43m.\\x1b[39;49m\\x1b[43m_make_estimator\\x1b[49m\\x1b[43m(\\x1b[49m\\x1b[43mappend\\x1b[49m\\x1b[38;5;241;43m=\\x1b[39;49m\\x1b[38;5;28;43;01mFalse\\x1b[39;49;00m\\x1b[43m,\\x1b[49m\\x1b[43m \\x1b[49m\\x1b[43mrandom_state\\x1b[49m\\x1b[38;5;241;43m=\\x1b[39;49m\\x1b[43mrandom_state\\x1b[49m\\x1b[43m)\\x1b[49m\\n\\x1b[1;32m    512\\x1b[0m     \\x1b[38;5;28;01mfor\\x1b[39;00m i \\x1b[38;5;129;01min\\x1b[39;00m \\x1b[38;5;28mrange\\x1b[39m(n_more_estimators)\\n\\x1b[1;32m    513\\x1b[0m ]\\n\\x1b[1;32m    515\\x1b[0m \\x1b[38;5;66;03m# Parallel loop: we prefer the threading backend as the Cython code\\x1b[39;00m\\n\\x1b[1;32m    516\\x1b[0m \\x1b[38;5;66;03m# for fitting the trees is internally releasing the Python GIL\\x1b[39;00m\\n\\x1b[1;32m    517\\x1b[0m \\x1b[38;5;66;03m# making threading more efficient than multiprocessing in\\x1b[39;00m\\n\\x1b[1;32m    518\\x1b[0m \\x1b[38;5;66;03m# that case. However, for joblib 0.12+ we respect any\\x1b[39;00m\\n\\x1b[1;32m    519\\x1b[0m \\x1b[38;5;66;03m# parallel_backend contexts set at a higher level,\\x1b[39;00m\\n\\x1b[1;32m    520\\x1b[0m \\x1b[38;5;66;03m# since correctness does not rely on using threads.\\x1b[39;00m\\n\\x1b[1;32m    521\\x1b[0m trees \\x1b[38;5;241m=\\x1b[39m Parallel(\\n\\x1b[1;32m    522\\x1b[0m     n_jobs\\x1b[38;5;241m=\\x1b[39m\\x1b[38;5;28mself\\x1b[39m\\x1b[38;5;241m.\\x1b[39mn_jobs,\\n\\x1b[1;32m    523\\x1b[0m     verbose\\x1b[38;5;241m=\\x1b[39m\\x1b[38;5;28mself\\x1b[39m\\x1b[38;5;241m.\\x1b[39mverbose,\\n\\x1b[0;32m   (...)\\x1b[0m\\n\\x1b[1;32m    543\\x1b[0m     \\x1b[38;5;28;01mfor\\x1b[39;00m i, t \\x1b[38;5;129;01min\\x1b[39;00m \\x1b[38;5;28menumerate\\x1b[39m(trees)\\n\\x1b[1;32m    544\\x1b[0m )\\n\\nFile \\x1b[0;32m~/Documents/GitHub/scikit-learn/sklearn/ensemble/_base.py:164\\x1b[0m, in \\x1b[0;36mBaseEnsemble._make_estimator\\x1b[0;34m(self, append, random_state)\\x1b[0m\\n\\x1b[1;32m    158\\x1b[0m \\x1b[38;5;124;03m\"\"\"Make and configure a copy of the `base_estimator_` attribute.\\x1b[39;00m\\n\\x1b[1;32m    159\\x1b[0m \\n\\x1b[1;32m    160\\x1b[0m \\x1b[38;5;124;03mWarning: This method should be used to properly instantiate new\\x1b[39;00m\\n\\x1b[1;32m    161\\x1b[0m \\x1b[38;5;124;03msub-estimators.\\x1b[39;00m\\n\\x1b[1;32m    162\\x1b[0m \\x1b[38;5;124;03m\"\"\"\\x1b[39;00m\\n\\x1b[1;32m    163\\x1b[0m estimator \\x1b[38;5;241m=\\x1b[39m clone(\\x1b[38;5;28mself\\x1b[39m\\x1b[38;5;241m.\\x1b[39mbase_estimator_)\\n\\x1b[0;32m--> 164\\x1b[0m estimator\\x1b[38;5;241m.\\x1b[39mset_params(\\x1b[38;5;241m*\\x1b[39m\\x1b[38;5;241m*\\x1b[39m{p: \\x1b[38;5;28mgetattr\\x1b[39m(\\x1b[38;5;28mself\\x1b[39m, p) \\x1b[38;5;28;01mfor\\x1b[39;00m p \\x1b[38;5;129;01min\\x1b[39;00m \\x1b[38;5;28mself\\x1b[39m\\x1b[38;5;241m.\\x1b[39mestimator_params})\\n\\x1b[1;32m    166\\x1b[0m \\x1b[38;5;66;03m# TODO: Remove in v1.2\\x1b[39;00m\\n\\x1b[1;32m    167\\x1b[0m \\x1b[38;5;66;03m# criterion \"mse\" and \"mae\" would cause warnings in every call to\\x1b[39;00m\\n\\x1b[1;32m    168\\x1b[0m \\x1b[38;5;66;03m# DecisionTreeRegressor.fit(..)\\x1b[39;00m\\n\\x1b[1;32m    169\\x1b[0m \\x1b[38;5;28;01mif\\x1b[39;00m \\x1b[38;5;28misinstance\\x1b[39m(estimator, (DecisionTreeRegressor, ExtraTreeRegressor)):\\n\\nFile \\x1b[0;32m~/Documents/GitHub/scikit-learn/sklearn/ensemble/_base.py:164\\x1b[0m, in \\x1b[0;36m<dictcomp>\\x1b[0;34m(.0)\\x1b[0m\\n\\x1b[1;32m    158\\x1b[0m \\x1b[38;5;124;03m\"\"\"Make and configure a copy of the `base_estimator_` attribute.\\x1b[39;00m\\n\\x1b[1;32m    159\\x1b[0m \\n\\x1b[1;32m    160\\x1b[0m \\x1b[38;5;124;03mWarning: This method should be used to properly instantiate new\\x1b[39;00m\\n\\x1b[1;32m    161\\x1b[0m \\x1b[38;5;124;03msub-estimators.\\x1b[39;00m\\n\\x1b[1;32m    162\\x1b[0m \\x1b[38;5;124;03m\"\"\"\\x1b[39;00m\\n\\x1b[1;32m    163\\x1b[0m estimator \\x1b[38;5;241m=\\x1b[39m clone(\\x1b[38;5;28mself\\x1b[39m\\x1b[38;5;241m.\\x1b[39mbase_estimator_)\\n\\x1b[0;32m--> 164\\x1b[0m estimator\\x1b[38;5;241m.\\x1b[39mset_params(\\x1b[38;5;241m*\\x1b[39m\\x1b[38;5;241m*\\x1b[39m{p: \\x1b[38;5;28;43mgetattr\\x1b[39;49m(\\x1b[38;5;28mself\\x1b[39m, p) \\x1b[38;5;28;01mfor\\x1b[39;00m p \\x1b[38;5;129;01min\\x1b[39;00m \\x1b[38;5;28mself\\x1b[39m\\x1b[38;5;241m.\\x1b[39mestimator_params})\\n\\x1b[1;32m    166\\x1b[0m \\x1b[38;5;66;03m# TODO: Remove in v1.2\\x1b[39;00m\\n\\x1b[1;32m    167\\x1b[0m \\x1b[38;5;66;03m# criterion \"mse\" and \"mae\" would cause warnings in every call to\\x1b[39;00m\\n\\x1b[1;32m    168\\x1b[0m \\x1b[38;5;66;03m# DecisionTreeRegressor.fit(..)\\x1b[39;00m\\n\\x1b[1;32m    169\\x1b[0m \\x1b[38;5;28;01mif\\x1b[39;00m \\x1b[38;5;28misinstance\\x1b[39m(estimator, (DecisionTreeRegressor, ExtraTreeRegressor)):\\n\\n\\x1b[0;31mKeyboardInterrupt\\x1b[0m: \\nKeyboardInterrupt: \\n')>\n",
      "Traceback (most recent call last):\n",
      "  File \"/Users/kevinfry/opt/anaconda3/envs/blur/lib/python3.8/site-packages/IPython/core/interactiveshell.py\", line 3397, in run_code\n",
      "    exec(code_obj, self.user_global_ns, self.user_ns)\n",
      "  File \"<ipython-input-10-7ad90bd2e08a>\", line 20, in <cell line: 20>\n",
      "    run_nbs(indir, inputfp, params)\n",
      "  File \"<ipython-input-5-c37d602784f3>\", line 43, in run_nbs\n",
      "    pm.execute_notebook(\n",
      "  File \"/Users/kevinfry/opt/anaconda3/envs/blur/lib/python3.8/site-packages/papermill/execute.py\", line 107, in execute_notebook\n",
      "    nb = papermill_engines.execute_notebook_with_engine(\n",
      "  File \"/Users/kevinfry/opt/anaconda3/envs/blur/lib/python3.8/site-packages/papermill/engines.py\", line 49, in execute_notebook_with_engine\n",
      "    return self.get_engine(engine_name).execute_notebook(nb, kernel_name, **kwargs)\n",
      "  File \"/Users/kevinfry/opt/anaconda3/envs/blur/lib/python3.8/site-packages/papermill/engines.py\", line 359, in execute_notebook\n",
      "    cls.execute_managed_notebook(nb_man, kernel_name, log_output=log_output, **kwargs)\n",
      "  File \"/Users/kevinfry/opt/anaconda3/envs/blur/lib/python3.8/site-packages/papermill/engines.py\", line 418, in execute_managed_notebook\n",
      "    return PapermillNotebookClient(nb_man, **final_kwargs).execute()\n",
      "  File \"/Users/kevinfry/opt/anaconda3/envs/blur/lib/python3.8/site-packages/papermill/clientwrap.py\", line 45, in execute\n",
      "    self.papermill_execute_cells()\n",
      "  File \"/Users/kevinfry/opt/anaconda3/envs/blur/lib/python3.8/site-packages/papermill/clientwrap.py\", line 72, in papermill_execute_cells\n",
      "    self.execute_cell(cell, index)\n",
      "  File \"/Users/kevinfry/opt/anaconda3/envs/blur/lib/python3.8/site-packages/nbclient/util.py\", line 85, in wrapped\n",
      "    return just_run(coro(*args, **kwargs))\n",
      "  File \"/Users/kevinfry/opt/anaconda3/envs/blur/lib/python3.8/site-packages/nbclient/util.py\", line 60, in just_run\n",
      "    return loop.run_until_complete(coro)\n",
      "  File \"/Users/kevinfry/opt/anaconda3/envs/blur/lib/python3.8/site-packages/nest_asyncio.py\", line 83, in run_until_complete\n",
      "    self._run_once()\n",
      "  File \"/Users/kevinfry/opt/anaconda3/envs/blur/lib/python3.8/site-packages/nest_asyncio.py\", line 106, in _run_once\n",
      "    event_list = self._selector.select(timeout)\n",
      "  File \"/Users/kevinfry/opt/anaconda3/envs/blur/lib/python3.8/selectors.py\", line 558, in select\n",
      "    kev_list = self._selector.control(None, max_ev, timeout)\n",
      "KeyboardInterrupt\n",
      "\n",
      "During handling of the above exception, another exception occurred:\n",
      "\n",
      "Traceback (most recent call last):\n",
      "  File \"/Users/kevinfry/opt/anaconda3/envs/blur/lib/python3.8/asyncio/tasks.py\", line 280, in __step\n",
      "    result = coro.send(None)\n",
      "  File \"/Users/kevinfry/opt/anaconda3/envs/blur/lib/python3.8/site-packages/nbclient/client.py\", line 1019, in async_execute_cell\n",
      "    await self._check_raise_for_error(cell, cell_index, exec_reply)\n",
      "  File \"/Users/kevinfry/opt/anaconda3/envs/blur/lib/python3.8/site-packages/nbclient/client.py\", line 913, in _check_raise_for_error\n",
      "    raise CellExecutionError.from_cell_and_msg(cell, exec_reply_content)\n",
      "nbclient.exceptions.CellExecutionError: An error occurred while executing the following cell:\n",
      "------------------\n",
      "(vrf_err,\n",
      " wrf_err,\n",
      " bfw_err,\n",
      " bff_err) = err_cmp.compare(models,\n",
      "                             ests,\n",
      "                             est_kwargs,\n",
      "                             niter=niter,\n",
      "                             n=n,\n",
      "                             p=p,\n",
      "                             s=p,\n",
      "                             snr=snr, \n",
      "                             X=X,\n",
      "                             beta=beta,\n",
      "                             coord=coord,\n",
      "                             Chol_t=Chol_t,\n",
      "                             Chol_s=None,\n",
      "                             tr_idx=None,\n",
      "                             fair=False,\n",
      "                             )\n",
      "------------------\n",
      "\n",
      "\u001b[0;31m---------------------------------------------------------------------------\u001b[0m\n",
      "\u001b[0;31mKeyboardInterrupt\u001b[0m                         Traceback (most recent call last)\n",
      "Input \u001b[0;32mIn [11]\u001b[0m, in \u001b[0;36m<cell line: 4>\u001b[0;34m()\u001b[0m\n",
      "\u001b[1;32m      1\u001b[0m (vrf_err,\n",
      "\u001b[1;32m      2\u001b[0m  wrf_err,\n",
      "\u001b[1;32m      3\u001b[0m  bfw_err,\n",
      "\u001b[0;32m----> 4\u001b[0m  bff_err) \u001b[38;5;241m=\u001b[39m \u001b[43merr_cmp\u001b[49m\u001b[38;5;241;43m.\u001b[39;49m\u001b[43mcompare\u001b[49m\u001b[43m(\u001b[49m\u001b[43mmodels\u001b[49m\u001b[43m,\u001b[49m\n",
      "\u001b[1;32m      5\u001b[0m \u001b[43m                             \u001b[49m\u001b[43mests\u001b[49m\u001b[43m,\u001b[49m\n",
      "\u001b[1;32m      6\u001b[0m \u001b[43m                             \u001b[49m\u001b[43mest_kwargs\u001b[49m\u001b[43m,\u001b[49m\n",
      "\u001b[1;32m      7\u001b[0m \u001b[43m                             \u001b[49m\u001b[43mniter\u001b[49m\u001b[38;5;241;43m=\u001b[39;49m\u001b[43mniter\u001b[49m\u001b[43m,\u001b[49m\n",
      "\u001b[1;32m      8\u001b[0m \u001b[43m                             \u001b[49m\u001b[43mn\u001b[49m\u001b[38;5;241;43m=\u001b[39;49m\u001b[43mn\u001b[49m\u001b[43m,\u001b[49m\n",
      "\u001b[1;32m      9\u001b[0m \u001b[43m                             \u001b[49m\u001b[43mp\u001b[49m\u001b[38;5;241;43m=\u001b[39;49m\u001b[43mp\u001b[49m\u001b[43m,\u001b[49m\n",
      "\u001b[1;32m     10\u001b[0m \u001b[43m                             \u001b[49m\u001b[43ms\u001b[49m\u001b[38;5;241;43m=\u001b[39;49m\u001b[43mp\u001b[49m\u001b[43m,\u001b[49m\n",
      "\u001b[1;32m     11\u001b[0m \u001b[43m                             \u001b[49m\u001b[43msnr\u001b[49m\u001b[38;5;241;43m=\u001b[39;49m\u001b[43msnr\u001b[49m\u001b[43m,\u001b[49m\u001b[43m \u001b[49m\n",
      "\u001b[1;32m     12\u001b[0m \u001b[43m                             \u001b[49m\u001b[43mX\u001b[49m\u001b[38;5;241;43m=\u001b[39;49m\u001b[43mX\u001b[49m\u001b[43m,\u001b[49m\n",
      "\u001b[1;32m     13\u001b[0m \u001b[43m                             \u001b[49m\u001b[43mbeta\u001b[49m\u001b[38;5;241;43m=\u001b[39;49m\u001b[43mbeta\u001b[49m\u001b[43m,\u001b[49m\n",
      "\u001b[1;32m     14\u001b[0m \u001b[43m                             \u001b[49m\u001b[43mcoord\u001b[49m\u001b[38;5;241;43m=\u001b[39;49m\u001b[43mcoord\u001b[49m\u001b[43m,\u001b[49m\n",
      "\u001b[1;32m     15\u001b[0m \u001b[43m                             \u001b[49m\u001b[43mChol_t\u001b[49m\u001b[38;5;241;43m=\u001b[39;49m\u001b[43mChol_t\u001b[49m\u001b[43m,\u001b[49m\n",
      "\u001b[1;32m     16\u001b[0m \u001b[43m                             \u001b[49m\u001b[43mChol_s\u001b[49m\u001b[38;5;241;43m=\u001b[39;49m\u001b[38;5;28;43;01mNone\u001b[39;49;00m\u001b[43m,\u001b[49m\n",
      "\u001b[1;32m     17\u001b[0m \u001b[43m                             \u001b[49m\u001b[43mtr_idx\u001b[49m\u001b[38;5;241;43m=\u001b[39;49m\u001b[38;5;28;43;01mNone\u001b[39;49;00m\u001b[43m,\u001b[49m\n",
      "\u001b[1;32m     18\u001b[0m \u001b[43m                             \u001b[49m\u001b[43mfair\u001b[49m\u001b[38;5;241;43m=\u001b[39;49m\u001b[38;5;28;43;01mFalse\u001b[39;49;00m\u001b[43m,\u001b[49m\n",
      "\u001b[1;32m     19\u001b[0m \u001b[43m                             \u001b[49m\u001b[43m)\u001b[49m\n",
      "\n",
      "File \u001b[0;32m~/Documents/GitHub/StructuredPredictionError/spe/mse_estimator.py:233\u001b[0m, in \u001b[0;36mErrorComparer.compare\u001b[0;34m(self, models, ests, est_kwargs, niter, n, p, s, snr, X, beta, coord, Chol_t, Chol_s, Cov_st, delta, tr_idx, fair, tr_frac, **kwargs)\u001b[0m\n",
      "\u001b[1;32m    230\u001b[0m \t\u001b[38;5;66;03m# print(ests)\u001b[39;00m\n",
      "\u001b[1;32m    231\u001b[0m \t\u001b[38;5;66;03m# print([e.keys() for e in est_kwargs])\u001b[39;00m\n",
      "\u001b[1;32m    232\u001b[0m \t\u001b[38;5;28;01mfor\u001b[39;00m err, est, est_kwarg \u001b[38;5;129;01min\u001b[39;00m \u001b[38;5;28mzip\u001b[39m(errs, ests, est_kwargs):\n",
      "\u001b[0;32m--> 233\u001b[0m \t\terr[i] \u001b[38;5;241m=\u001b[39m \u001b[43mest\u001b[49m\u001b[43m(\u001b[49m\u001b[38;5;241;43m*\u001b[39;49m\u001b[38;5;241;43m*\u001b[39;49m\u001b[43mest_kwarg\u001b[49m\u001b[43m)\u001b[49m\n",
      "\u001b[1;32m    235\u001b[0m \u001b[38;5;28;01mreturn\u001b[39;00m errs\n",
      "\n",
      "File \u001b[0;32m~/Documents/GitHub/StructuredPredictionError/spe/estimators.py:158\u001b[0m, in \u001b[0;36mbetter_test_est_split\u001b[0;34m(model, X, y, y2, tr_idx, full_refit, alpha, Chol_t, **kwargs)\u001b[0m\n",
      "\u001b[1;32m    156\u001b[0m \tmodel\u001b[38;5;241m.\u001b[39mfit(X_tr, w_tr, \u001b[38;5;241m*\u001b[39m\u001b[38;5;241m*\u001b[39mkwargs)\n",
      "\u001b[1;32m    157\u001b[0m \u001b[38;5;28;01melse\u001b[39;00m:\n",
      "\u001b[0;32m--> 158\u001b[0m \t\u001b[43mmodel\u001b[49m\u001b[38;5;241;43m.\u001b[39;49m\u001b[43mfit\u001b[49m\u001b[43m(\u001b[49m\u001b[43mX_tr\u001b[49m\u001b[43m,\u001b[49m\u001b[43m \u001b[49m\u001b[43my_tr\u001b[49m\u001b[43m,\u001b[49m\u001b[43m \u001b[49m\u001b[38;5;241;43m*\u001b[39;49m\u001b[38;5;241;43m*\u001b[39;49m\u001b[43mkwargs\u001b[49m\u001b[43m)\u001b[49m\n",
      "\u001b[1;32m    160\u001b[0m \u001b[38;5;28;01mif\u001b[39;00m full_refit \u001b[38;5;129;01mis\u001b[39;00m \u001b[38;5;28;01mNone\u001b[39;00m:\n",
      "\u001b[1;32m    161\u001b[0m \tpreds \u001b[38;5;241m=\u001b[39m model\u001b[38;5;241m.\u001b[39mpredict(X_ts)\n",
      "\n",
      "File \u001b[0;32m~/Documents/GitHub/scikit-learn/sklearn/ensemble/_forest.py:510\u001b[0m, in \u001b[0;36mBaseForest.fit\u001b[0;34m(self, X, y, sample_weight, chol_eps, idx_tr)\u001b[0m\n",
      "\u001b[1;32m    505\u001b[0m \u001b[38;5;28;01mif\u001b[39;00m \u001b[38;5;28mself\u001b[39m\u001b[38;5;241m.\u001b[39mwarm_start \u001b[38;5;129;01mand\u001b[39;00m \u001b[38;5;28mlen\u001b[39m(\u001b[38;5;28mself\u001b[39m\u001b[38;5;241m.\u001b[39mestimators_) \u001b[38;5;241m>\u001b[39m \u001b[38;5;241m0\u001b[39m:\n",
      "\u001b[1;32m    506\u001b[0m     \u001b[38;5;66;03m# We draw from the random state to get the random state we\u001b[39;00m\n",
      "\u001b[1;32m    507\u001b[0m     \u001b[38;5;66;03m# would have got if we hadn't used a warm_start.\u001b[39;00m\n",
      "\u001b[1;32m    508\u001b[0m     random_state\u001b[38;5;241m.\u001b[39mrandint(MAX_INT, size\u001b[38;5;241m=\u001b[39m\u001b[38;5;28mlen\u001b[39m(\u001b[38;5;28mself\u001b[39m\u001b[38;5;241m.\u001b[39mestimators_))\n",
      "\u001b[0;32m--> 510\u001b[0m trees \u001b[38;5;241m=\u001b[39m [\n",
      "\u001b[1;32m    511\u001b[0m     \u001b[38;5;28mself\u001b[39m\u001b[38;5;241m.\u001b[39m_make_estimator(append\u001b[38;5;241m=\u001b[39m\u001b[38;5;28;01mFalse\u001b[39;00m, random_state\u001b[38;5;241m=\u001b[39mrandom_state)\n",
      "\u001b[1;32m    512\u001b[0m     \u001b[38;5;28;01mfor\u001b[39;00m i \u001b[38;5;129;01min\u001b[39;00m \u001b[38;5;28mrange\u001b[39m(n_more_estimators)\n",
      "\u001b[1;32m    513\u001b[0m ]\n",
      "\u001b[1;32m    515\u001b[0m \u001b[38;5;66;03m# Parallel loop: we prefer the threading backend as the Cython code\u001b[39;00m\n",
      "\u001b[1;32m    516\u001b[0m \u001b[38;5;66;03m# for fitting the trees is internally releasing the Python GIL\u001b[39;00m\n",
      "\u001b[1;32m    517\u001b[0m \u001b[38;5;66;03m# making threading more efficient than multiprocessing in\u001b[39;00m\n",
      "\u001b[1;32m    518\u001b[0m \u001b[38;5;66;03m# that case. However, for joblib 0.12+ we respect any\u001b[39;00m\n",
      "\u001b[1;32m    519\u001b[0m \u001b[38;5;66;03m# parallel_backend contexts set at a higher level,\u001b[39;00m\n",
      "\u001b[1;32m    520\u001b[0m \u001b[38;5;66;03m# since correctness does not rely on using threads.\u001b[39;00m\n",
      "\u001b[1;32m    521\u001b[0m trees \u001b[38;5;241m=\u001b[39m Parallel(\n",
      "\u001b[1;32m    522\u001b[0m     n_jobs\u001b[38;5;241m=\u001b[39m\u001b[38;5;28mself\u001b[39m\u001b[38;5;241m.\u001b[39mn_jobs,\n",
      "\u001b[1;32m    523\u001b[0m     verbose\u001b[38;5;241m=\u001b[39m\u001b[38;5;28mself\u001b[39m\u001b[38;5;241m.\u001b[39mverbose,\n",
      "\u001b[0;32m   (...)\u001b[0m\n",
      "\u001b[1;32m    543\u001b[0m     \u001b[38;5;28;01mfor\u001b[39;00m i, t \u001b[38;5;129;01min\u001b[39;00m \u001b[38;5;28menumerate\u001b[39m(trees)\n",
      "\u001b[1;32m    544\u001b[0m )\n",
      "\n",
      "File \u001b[0;32m~/Documents/GitHub/scikit-learn/sklearn/ensemble/_forest.py:511\u001b[0m, in \u001b[0;36m<listcomp>\u001b[0;34m(.0)\u001b[0m\n",
      "\u001b[1;32m    505\u001b[0m \u001b[38;5;28;01mif\u001b[39;00m \u001b[38;5;28mself\u001b[39m\u001b[38;5;241m.\u001b[39mwarm_start \u001b[38;5;129;01mand\u001b[39;00m \u001b[38;5;28mlen\u001b[39m(\u001b[38;5;28mself\u001b[39m\u001b[38;5;241m.\u001b[39mestimators_) \u001b[38;5;241m>\u001b[39m \u001b[38;5;241m0\u001b[39m:\n",
      "\u001b[1;32m    506\u001b[0m     \u001b[38;5;66;03m# We draw from the random state to get the random state we\u001b[39;00m\n",
      "\u001b[1;32m    507\u001b[0m     \u001b[38;5;66;03m# would have got if we hadn't used a warm_start.\u001b[39;00m\n",
      "\u001b[1;32m    508\u001b[0m     random_state\u001b[38;5;241m.\u001b[39mrandint(MAX_INT, size\u001b[38;5;241m=\u001b[39m\u001b[38;5;28mlen\u001b[39m(\u001b[38;5;28mself\u001b[39m\u001b[38;5;241m.\u001b[39mestimators_))\n",
      "\u001b[1;32m    510\u001b[0m trees \u001b[38;5;241m=\u001b[39m [\n",
      "\u001b[0;32m--> 511\u001b[0m     \u001b[38;5;28;43mself\u001b[39;49m\u001b[38;5;241;43m.\u001b[39;49m\u001b[43m_make_estimator\u001b[49m\u001b[43m(\u001b[49m\u001b[43mappend\u001b[49m\u001b[38;5;241;43m=\u001b[39;49m\u001b[38;5;28;43;01mFalse\u001b[39;49;00m\u001b[43m,\u001b[49m\u001b[43m \u001b[49m\u001b[43mrandom_state\u001b[49m\u001b[38;5;241;43m=\u001b[39;49m\u001b[43mrandom_state\u001b[49m\u001b[43m)\u001b[49m\n",
      "\u001b[1;32m    512\u001b[0m     \u001b[38;5;28;01mfor\u001b[39;00m i \u001b[38;5;129;01min\u001b[39;00m \u001b[38;5;28mrange\u001b[39m(n_more_estimators)\n",
      "\u001b[1;32m    513\u001b[0m ]\n",
      "\u001b[1;32m    515\u001b[0m \u001b[38;5;66;03m# Parallel loop: we prefer the threading backend as the Cython code\u001b[39;00m\n",
      "\u001b[1;32m    516\u001b[0m \u001b[38;5;66;03m# for fitting the trees is internally releasing the Python GIL\u001b[39;00m\n",
      "\u001b[1;32m    517\u001b[0m \u001b[38;5;66;03m# making threading more efficient than multiprocessing in\u001b[39;00m\n",
      "\u001b[1;32m    518\u001b[0m \u001b[38;5;66;03m# that case. However, for joblib 0.12+ we respect any\u001b[39;00m\n",
      "\u001b[1;32m    519\u001b[0m \u001b[38;5;66;03m# parallel_backend contexts set at a higher level,\u001b[39;00m\n",
      "\u001b[1;32m    520\u001b[0m \u001b[38;5;66;03m# since correctness does not rely on using threads.\u001b[39;00m\n",
      "\u001b[1;32m    521\u001b[0m trees \u001b[38;5;241m=\u001b[39m Parallel(\n",
      "\u001b[1;32m    522\u001b[0m     n_jobs\u001b[38;5;241m=\u001b[39m\u001b[38;5;28mself\u001b[39m\u001b[38;5;241m.\u001b[39mn_jobs,\n",
      "\u001b[1;32m    523\u001b[0m     verbose\u001b[38;5;241m=\u001b[39m\u001b[38;5;28mself\u001b[39m\u001b[38;5;241m.\u001b[39mverbose,\n",
      "\u001b[0;32m   (...)\u001b[0m\n",
      "\u001b[1;32m    543\u001b[0m     \u001b[38;5;28;01mfor\u001b[39;00m i, t \u001b[38;5;129;01min\u001b[39;00m \u001b[38;5;28menumerate\u001b[39m(trees)\n",
      "\u001b[1;32m    544\u001b[0m )\n",
      "\n",
      "File \u001b[0;32m~/Documents/GitHub/scikit-learn/sklearn/ensemble/_base.py:164\u001b[0m, in \u001b[0;36mBaseEnsemble._make_estimator\u001b[0;34m(self, append, random_state)\u001b[0m\n",
      "\u001b[1;32m    158\u001b[0m \u001b[38;5;124;03m\"\"\"Make and configure a copy of the `base_estimator_` attribute.\u001b[39;00m\n",
      "\u001b[1;32m    159\u001b[0m \n",
      "\u001b[1;32m    160\u001b[0m \u001b[38;5;124;03mWarning: This method should be used to properly instantiate new\u001b[39;00m\n",
      "\u001b[1;32m    161\u001b[0m \u001b[38;5;124;03msub-estimators.\u001b[39;00m\n",
      "\u001b[1;32m    162\u001b[0m \u001b[38;5;124;03m\"\"\"\u001b[39;00m\n",
      "\u001b[1;32m    163\u001b[0m estimator \u001b[38;5;241m=\u001b[39m clone(\u001b[38;5;28mself\u001b[39m\u001b[38;5;241m.\u001b[39mbase_estimator_)\n",
      "\u001b[0;32m--> 164\u001b[0m estimator\u001b[38;5;241m.\u001b[39mset_params(\u001b[38;5;241m*\u001b[39m\u001b[38;5;241m*\u001b[39m{p: \u001b[38;5;28mgetattr\u001b[39m(\u001b[38;5;28mself\u001b[39m, p) \u001b[38;5;28;01mfor\u001b[39;00m p \u001b[38;5;129;01min\u001b[39;00m \u001b[38;5;28mself\u001b[39m\u001b[38;5;241m.\u001b[39mestimator_params})\n",
      "\u001b[1;32m    166\u001b[0m \u001b[38;5;66;03m# TODO: Remove in v1.2\u001b[39;00m\n",
      "\u001b[1;32m    167\u001b[0m \u001b[38;5;66;03m# criterion \"mse\" and \"mae\" would cause warnings in every call to\u001b[39;00m\n",
      "\u001b[1;32m    168\u001b[0m \u001b[38;5;66;03m# DecisionTreeRegressor.fit(..)\u001b[39;00m\n",
      "\u001b[1;32m    169\u001b[0m \u001b[38;5;28;01mif\u001b[39;00m \u001b[38;5;28misinstance\u001b[39m(estimator, (DecisionTreeRegressor, ExtraTreeRegressor)):\n",
      "\n",
      "File \u001b[0;32m~/Documents/GitHub/scikit-learn/sklearn/ensemble/_base.py:164\u001b[0m, in \u001b[0;36m<dictcomp>\u001b[0;34m(.0)\u001b[0m\n",
      "\u001b[1;32m    158\u001b[0m \u001b[38;5;124;03m\"\"\"Make and configure a copy of the `base_estimator_` attribute.\u001b[39;00m\n",
      "\u001b[1;32m    159\u001b[0m \n",
      "\u001b[1;32m    160\u001b[0m \u001b[38;5;124;03mWarning: This method should be used to properly instantiate new\u001b[39;00m\n",
      "\u001b[1;32m    161\u001b[0m \u001b[38;5;124;03msub-estimators.\u001b[39;00m\n",
      "\u001b[1;32m    162\u001b[0m \u001b[38;5;124;03m\"\"\"\u001b[39;00m\n",
      "\u001b[1;32m    163\u001b[0m estimator \u001b[38;5;241m=\u001b[39m clone(\u001b[38;5;28mself\u001b[39m\u001b[38;5;241m.\u001b[39mbase_estimator_)\n",
      "\u001b[0;32m--> 164\u001b[0m estimator\u001b[38;5;241m.\u001b[39mset_params(\u001b[38;5;241m*\u001b[39m\u001b[38;5;241m*\u001b[39m{p: \u001b[38;5;28;43mgetattr\u001b[39;49m(\u001b[38;5;28mself\u001b[39m, p) \u001b[38;5;28;01mfor\u001b[39;00m p \u001b[38;5;129;01min\u001b[39;00m \u001b[38;5;28mself\u001b[39m\u001b[38;5;241m.\u001b[39mestimator_params})\n",
      "\u001b[1;32m    166\u001b[0m \u001b[38;5;66;03m# TODO: Remove in v1.2\u001b[39;00m\n",
      "\u001b[1;32m    167\u001b[0m \u001b[38;5;66;03m# criterion \"mse\" and \"mae\" would cause warnings in every call to\u001b[39;00m\n",
      "\u001b[1;32m    168\u001b[0m \u001b[38;5;66;03m# DecisionTreeRegressor.fit(..)\u001b[39;00m\n",
      "\u001b[1;32m    169\u001b[0m \u001b[38;5;28;01mif\u001b[39;00m \u001b[38;5;28misinstance\u001b[39m(estimator, (DecisionTreeRegressor, ExtraTreeRegressor)):\n",
      "\n",
      "\u001b[0;31mKeyboardInterrupt\u001b[0m: \n",
      "KeyboardInterrupt: \n",
      "\n"
     ]
    },
    {
     "name": "stderr",
     "output_type": "stream",
     "text": [
      "Task exception was never retrieved\n",
      "future: <Task finished name='Task-1560' coro=<NotebookClient.async_execute_cell() done, defined at /Users/kevinfry/opt/anaconda3/envs/blur/lib/python3.8/site-packages/nbclient/client.py:915> exception=DeadKernelError('Kernel died')>\n",
      "Traceback (most recent call last):\n",
      "  File \"/Users/kevinfry/opt/anaconda3/envs/blur/lib/python3.8/site-packages/nbclient/client.py\", line 1000, in async_execute_cell\n",
      "    exec_reply = await self.task_poll_for_reply\n",
      "  File \"/Users/kevinfry/opt/anaconda3/envs/blur/lib/python3.8/asyncio/futures.py\", line 260, in __await__\n",
      "    yield self  # This tells Task to wait for completion.\n",
      "  File \"/Users/kevinfry/opt/anaconda3/envs/blur/lib/python3.8/asyncio/tasks.py\", line 349, in __wakeup\n",
      "    future.result()\n",
      "  File \"/Users/kevinfry/opt/anaconda3/envs/blur/lib/python3.8/asyncio/futures.py\", line 173, in result\n",
      "    raise exceptions.CancelledError\n",
      "asyncio.exceptions.CancelledError\n",
      "\n",
      "During handling of the above exception, another exception occurred:\n",
      "\n",
      "Traceback (most recent call last):\n",
      "  File \"/Users/kevinfry/opt/anaconda3/envs/blur/lib/python3.8/asyncio/tasks.py\", line 282, in __step\n",
      "    result = coro.throw(exc)\n",
      "  File \"/Users/kevinfry/opt/anaconda3/envs/blur/lib/python3.8/site-packages/nbclient/client.py\", line 1004, in async_execute_cell\n",
      "    raise DeadKernelError(\"Kernel died\")\n",
      "nbclient.exceptions.DeadKernelError: Kernel died\n",
      "Task exception was never retrieved\n",
      "future: <Task finished name='Task-1561' coro=<NotebookClient._async_poll_kernel_alive() done, defined at /Users/kevinfry/opt/anaconda3/envs/blur/lib/python3.8/site-packages/nbclient/client.py:814> exception=AssertionError()>\n",
      "Traceback (most recent call last):\n",
      "  File \"/Users/kevinfry/opt/anaconda3/envs/blur/lib/python3.8/asyncio/tasks.py\", line 280, in __step\n",
      "    result = coro.send(None)\n",
      "  File \"/Users/kevinfry/opt/anaconda3/envs/blur/lib/python3.8/site-packages/nbclient/client.py\", line 818, in _async_poll_kernel_alive\n",
      "    await self._async_check_alive()\n",
      "  File \"/Users/kevinfry/opt/anaconda3/envs/blur/lib/python3.8/site-packages/nbclient/client.py\", line 855, in _async_check_alive\n",
      "    assert self.kc is not None\n",
      "AssertionError\n",
      "Task exception was never retrieved\n",
      "future: <Task finished name='Task-1610' coro=<NotebookClient.async_execute_cell() done, defined at /Users/kevinfry/opt/anaconda3/envs/blur/lib/python3.8/site-packages/nbclient/client.py:915> exception=CellExecutionError('An error occurred while executing the following cell:\\n------------------\\n(test_err,\\n rnd_err,\\n trc_err,\\n kfcv_err,\\n spcv_err) = err_cmp.compare(models,\\n                             ests,\\n                             est_kwargs,\\n                             niter=niter,\\n                             n=n,\\n                             p=p,\\n                             s=p,\\n                             snr=snr, \\n                             X=X,\\n                             beta=beta,\\n                             coord=coord,\\n                             Chol_t=Chol_t,\\n                             Chol_s=None,\\n                             tr_idx=None,\\n                             fair=False,\\n                             )\\n------------------\\n\\n\\x1b[0;31m---------------------------------------------------------------------------\\x1b[0m\\n\\x1b[0;31mKeyboardInterrupt\\x1b[0m                         Traceback (most recent call last)\\nInput \\x1b[0;32mIn [11]\\x1b[0m, in \\x1b[0;36m<cell line: 5>\\x1b[0;34m()\\x1b[0m\\n\\x1b[1;32m      1\\x1b[0m (test_err,\\n\\x1b[1;32m      2\\x1b[0m  rnd_err,\\n\\x1b[1;32m      3\\x1b[0m  trc_err,\\n\\x1b[1;32m      4\\x1b[0m  kfcv_err,\\n\\x1b[0;32m----> 5\\x1b[0m  spcv_err) \\x1b[38;5;241m=\\x1b[39m \\x1b[43merr_cmp\\x1b[49m\\x1b[38;5;241;43m.\\x1b[39;49m\\x1b[43mcompare\\x1b[49m\\x1b[43m(\\x1b[49m\\x1b[43mmodels\\x1b[49m\\x1b[43m,\\x1b[49m\\n\\x1b[1;32m      6\\x1b[0m \\x1b[43m                             \\x1b[49m\\x1b[43mests\\x1b[49m\\x1b[43m,\\x1b[49m\\n\\x1b[1;32m      7\\x1b[0m \\x1b[43m                             \\x1b[49m\\x1b[43mest_kwargs\\x1b[49m\\x1b[43m,\\x1b[49m\\n\\x1b[1;32m      8\\x1b[0m \\x1b[43m                             \\x1b[49m\\x1b[43mniter\\x1b[49m\\x1b[38;5;241;43m=\\x1b[39;49m\\x1b[43mniter\\x1b[49m\\x1b[43m,\\x1b[49m\\n\\x1b[1;32m      9\\x1b[0m \\x1b[43m                             \\x1b[49m\\x1b[43mn\\x1b[49m\\x1b[38;5;241;43m=\\x1b[39;49m\\x1b[43mn\\x1b[49m\\x1b[43m,\\x1b[49m\\n\\x1b[1;32m     10\\x1b[0m \\x1b[43m                             \\x1b[49m\\x1b[43mp\\x1b[49m\\x1b[38;5;241;43m=\\x1b[39;49m\\x1b[43mp\\x1b[49m\\x1b[43m,\\x1b[49m\\n\\x1b[1;32m     11\\x1b[0m \\x1b[43m                             \\x1b[49m\\x1b[43ms\\x1b[49m\\x1b[38;5;241;43m=\\x1b[39;49m\\x1b[43mp\\x1b[49m\\x1b[43m,\\x1b[49m\\n\\x1b[1;32m     12\\x1b[0m \\x1b[43m                             \\x1b[49m\\x1b[43msnr\\x1b[49m\\x1b[38;5;241;43m=\\x1b[39;49m\\x1b[43msnr\\x1b[49m\\x1b[43m,\\x1b[49m\\x1b[43m \\x1b[49m\\n\\x1b[1;32m     13\\x1b[0m \\x1b[43m                             \\x1b[49m\\x1b[43mX\\x1b[49m\\x1b[38;5;241;43m=\\x1b[39;49m\\x1b[43mX\\x1b[49m\\x1b[43m,\\x1b[49m\\n\\x1b[1;32m     14\\x1b[0m \\x1b[43m                             \\x1b[49m\\x1b[43mbeta\\x1b[49m\\x1b[38;5;241;43m=\\x1b[39;49m\\x1b[43mbeta\\x1b[49m\\x1b[43m,\\x1b[49m\\n\\x1b[1;32m     15\\x1b[0m \\x1b[43m                             \\x1b[49m\\x1b[43mcoord\\x1b[49m\\x1b[38;5;241;43m=\\x1b[39;49m\\x1b[43mcoord\\x1b[49m\\x1b[43m,\\x1b[49m\\n\\x1b[1;32m     16\\x1b[0m \\x1b[43m                             \\x1b[49m\\x1b[43mChol_t\\x1b[49m\\x1b[38;5;241;43m=\\x1b[39;49m\\x1b[43mChol_t\\x1b[49m\\x1b[43m,\\x1b[49m\\n\\x1b[1;32m     17\\x1b[0m \\x1b[43m                             \\x1b[49m\\x1b[43mChol_s\\x1b[49m\\x1b[38;5;241;43m=\\x1b[39;49m\\x1b[38;5;28;43;01mNone\\x1b[39;49;00m\\x1b[43m,\\x1b[49m\\n\\x1b[1;32m     18\\x1b[0m \\x1b[43m                             \\x1b[49m\\x1b[43mtr_idx\\x1b[49m\\x1b[38;5;241;43m=\\x1b[39;49m\\x1b[38;5;28;43;01mNone\\x1b[39;49;00m\\x1b[43m,\\x1b[49m\\n\\x1b[1;32m     19\\x1b[0m \\x1b[43m                             \\x1b[49m\\x1b[43mfair\\x1b[49m\\x1b[38;5;241;43m=\\x1b[39;49m\\x1b[38;5;28;43;01mFalse\\x1b[39;49;00m\\x1b[43m,\\x1b[49m\\n\\x1b[1;32m     20\\x1b[0m \\x1b[43m                             \\x1b[49m\\x1b[43m)\\x1b[49m\\n\\nFile \\x1b[0;32m~/Documents/GitHub/StructuredPredictionError/spe/mse_estimator.py:233\\x1b[0m, in \\x1b[0;36mErrorComparer.compare\\x1b[0;34m(self, models, ests, est_kwargs, niter, n, p, s, snr, X, beta, coord, Chol_t, Chol_s, Cov_st, delta, tr_idx, fair, tr_frac, **kwargs)\\x1b[0m\\n\\x1b[1;32m    230\\x1b[0m \\t\\x1b[38;5;66;03m# print(ests)\\x1b[39;00m\\n\\x1b[1;32m    231\\x1b[0m \\t\\x1b[38;5;66;03m# print([e.keys() for e in est_kwargs])\\x1b[39;00m\\n\\x1b[1;32m    232\\x1b[0m \\t\\x1b[38;5;28;01mfor\\x1b[39;00m err, est, est_kwarg \\x1b[38;5;129;01min\\x1b[39;00m \\x1b[38;5;28mzip\\x1b[39m(errs, ests, est_kwargs):\\n\\x1b[0;32m--> 233\\x1b[0m \\t\\terr[i] \\x1b[38;5;241m=\\x1b[39m \\x1b[43mest\\x1b[49m\\x1b[43m(\\x1b[49m\\x1b[38;5;241;43m*\\x1b[39;49m\\x1b[38;5;241;43m*\\x1b[39;49m\\x1b[43mest_kwarg\\x1b[49m\\x1b[43m)\\x1b[49m\\n\\x1b[1;32m    235\\x1b[0m \\x1b[38;5;28;01mreturn\\x1b[39;00m errs\\n\\nFile \\x1b[0;32m~/Documents/GitHub/StructuredPredictionError/spe/estimators.py:326\\x1b[0m, in \\x1b[0;36mcp_general_train_test\\x1b[0;34m(model, X, y, tr_idx, Chol_t, Chol_s, nboot, alpha, use_trace_corr)\\x1b[0m\\n\\x1b[1;32m    323\\x1b[0m w_tr \\x1b[38;5;241m=\\x1b[39m w[tr_idx]\\n\\x1b[1;32m    324\\x1b[0m wp_ts \\x1b[38;5;241m=\\x1b[39m wp[ts_idx]\\n\\x1b[0;32m--> 326\\x1b[0m \\x1b[43mmodel\\x1b[49m\\x1b[38;5;241;43m.\\x1b[39;49m\\x1b[43mfit\\x1b[49m\\x1b[43m(\\x1b[49m\\x1b[43mX_tr\\x1b[49m\\x1b[43m,\\x1b[49m\\x1b[43m \\x1b[49m\\x1b[43mw_tr\\x1b[49m\\x1b[43m)\\x1b[49m\\n\\x1b[1;32m    328\\x1b[0m \\x1b[38;5;28;01mif\\x1b[39;00m use_trace_corr:\\n\\x1b[1;32m    329\\x1b[0m \\t\\x1b[38;5;66;03m# correction += 0\\x1b[39;00m\\n\\x1b[1;32m    330\\x1b[0m \\t\\x1b[38;5;66;03m# correction = np.diag(Cov_s_ts).sum() \\\\\\x1b[39;00m\\n\\x1b[1;32m    331\\x1b[0m \\t\\x1b[38;5;66;03m# \\t\\t\\t\\t- np.diag(Cov_wp_ts).sum()\\x1b[39;00m\\n\\x1b[1;32m    332\\x1b[0m \\tcorrection \\x1b[38;5;241m=\\x1b[39m (np\\x1b[38;5;241m.\\x1b[39mdiag(Cov_s_ts)\\x1b[38;5;241m.\\x1b[39msum() \\\\\\n\\x1b[1;32m    333\\x1b[0m \\t\\t\\t\\t\\t\\x1b[38;5;241m-\\x1b[39m np\\x1b[38;5;241m.\\x1b[39mdiag(Cov_wp_ts)\\x1b[38;5;241m.\\x1b[39msum()) \\x1b[38;5;241m/\\x1b[39m n_ts\\n\\nFile \\x1b[0;32m~/Documents/GitHub/scikit-learn/sklearn/ensemble/_forest.py:521\\x1b[0m, in \\x1b[0;36mBaseForest.fit\\x1b[0;34m(self, X, y, sample_weight, chol_eps, idx_tr)\\x1b[0m\\n\\x1b[1;32m    510\\x1b[0m trees \\x1b[38;5;241m=\\x1b[39m [\\n\\x1b[1;32m    511\\x1b[0m     \\x1b[38;5;28mself\\x1b[39m\\x1b[38;5;241m.\\x1b[39m_make_estimator(append\\x1b[38;5;241m=\\x1b[39m\\x1b[38;5;28;01mFalse\\x1b[39;00m, random_state\\x1b[38;5;241m=\\x1b[39mrandom_state)\\n\\x1b[1;32m    512\\x1b[0m     \\x1b[38;5;28;01mfor\\x1b[39;00m i \\x1b[38;5;129;01min\\x1b[39;00m \\x1b[38;5;28mrange\\x1b[39m(n_more_estimators)\\n\\x1b[1;32m    513\\x1b[0m ]\\n\\x1b[1;32m    515\\x1b[0m \\x1b[38;5;66;03m# Parallel loop: we prefer the threading backend as the Cython code\\x1b[39;00m\\n\\x1b[1;32m    516\\x1b[0m \\x1b[38;5;66;03m# for fitting the trees is internally releasing the Python GIL\\x1b[39;00m\\n\\x1b[1;32m    517\\x1b[0m \\x1b[38;5;66;03m# making threading more efficient than multiprocessing in\\x1b[39;00m\\n\\x1b[1;32m    518\\x1b[0m \\x1b[38;5;66;03m# that case. However, for joblib 0.12+ we respect any\\x1b[39;00m\\n\\x1b[1;32m    519\\x1b[0m \\x1b[38;5;66;03m# parallel_backend contexts set at a higher level,\\x1b[39;00m\\n\\x1b[1;32m    520\\x1b[0m \\x1b[38;5;66;03m# since correctness does not rely on using threads.\\x1b[39;00m\\n\\x1b[0;32m--> 521\\x1b[0m trees \\x1b[38;5;241m=\\x1b[39m \\x1b[43mParallel\\x1b[49m\\x1b[43m(\\x1b[49m\\n\\x1b[1;32m    522\\x1b[0m \\x1b[43m    \\x1b[49m\\x1b[43mn_jobs\\x1b[49m\\x1b[38;5;241;43m=\\x1b[39;49m\\x1b[38;5;28;43mself\\x1b[39;49m\\x1b[38;5;241;43m.\\x1b[39;49m\\x1b[43mn_jobs\\x1b[49m\\x1b[43m,\\x1b[49m\\n\\x1b[1;32m    523\\x1b[0m \\x1b[43m    \\x1b[49m\\x1b[43mverbose\\x1b[49m\\x1b[38;5;241;43m=\\x1b[39;49m\\x1b[38;5;28;43mself\\x1b[39;49m\\x1b[38;5;241;43m.\\x1b[39;49m\\x1b[43mverbose\\x1b[49m\\x1b[43m,\\x1b[49m\\n\\x1b[1;32m    524\\x1b[0m \\x1b[43m    \\x1b[49m\\x1b[43mprefer\\x1b[49m\\x1b[38;5;241;43m=\\x1b[39;49m\\x1b[38;5;124;43m\"\\x1b[39;49m\\x1b[38;5;124;43mthreads\\x1b[39;49m\\x1b[38;5;124;43m\"\\x1b[39;49m\\x1b[43m,\\x1b[49m\\n\\x1b[1;32m    525\\x1b[0m \\x1b[43m\\x1b[49m\\x1b[43m)\\x1b[49m\\x1b[43m(\\x1b[49m\\n\\x1b[1;32m    526\\x1b[0m \\x1b[43m    \\x1b[49m\\x1b[43mdelayed\\x1b[49m\\x1b[43m(\\x1b[49m\\x1b[43m_parallel_build_trees\\x1b[49m\\x1b[43m)\\x1b[49m\\x1b[43m(\\x1b[49m\\n\\x1b[1;32m    527\\x1b[0m \\x1b[43m        \\x1b[49m\\x1b[43mt\\x1b[49m\\x1b[43m,\\x1b[49m\\n\\x1b[1;32m    528\\x1b[0m \\x1b[43m        \\x1b[49m\\x1b[38;5;28;43mself\\x1b[39;49m\\x1b[38;5;241;43m.\\x1b[39;49m\\x1b[43mbootstrap\\x1b[49m\\x1b[43m,\\x1b[49m\\n\\x1b[1;32m    529\\x1b[0m \\x1b[43m        \\x1b[49m\\x1b[43mX\\x1b[49m\\x1b[43m,\\x1b[49m\\n\\x1b[1;32m    530\\x1b[0m \\x1b[43m        \\x1b[49m\\x1b[43my\\x1b[49m\\x1b[43m,\\x1b[49m\\n\\x1b[1;32m    531\\x1b[0m \\x1b[43m        \\x1b[49m\\x1b[43msample_weight\\x1b[49m\\x1b[43m,\\x1b[49m\\n\\x1b[1;32m    532\\x1b[0m \\x1b[43m        \\x1b[49m\\x1b[43mi\\x1b[49m\\x1b[43m,\\x1b[49m\\n\\x1b[1;32m    533\\x1b[0m \\x1b[43m        \\x1b[49m\\x1b[38;5;28;43mlen\\x1b[39;49m\\x1b[43m(\\x1b[49m\\x1b[43mtrees\\x1b[49m\\x1b[43m)\\x1b[49m\\x1b[43m,\\x1b[49m\\n\\x1b[1;32m    534\\x1b[0m \\x1b[43m        \\x1b[49m\\x1b[43mverbose\\x1b[49m\\x1b[38;5;241;43m=\\x1b[39;49m\\x1b[38;5;28;43mself\\x1b[39;49m\\x1b[38;5;241;43m.\\x1b[39;49m\\x1b[43mverbose\\x1b[49m\\x1b[43m,\\x1b[49m\\n\\x1b[1;32m    535\\x1b[0m \\x1b[43m        \\x1b[49m\\x1b[43mclass_weight\\x1b[49m\\x1b[38;5;241;43m=\\x1b[39;49m\\x1b[38;5;28;43mself\\x1b[39;49m\\x1b[38;5;241;43m.\\x1b[39;49m\\x1b[43mclass_weight\\x1b[49m\\x1b[43m,\\x1b[49m\\n\\x1b[1;32m    536\\x1b[0m \\x1b[43m        \\x1b[49m\\x1b[43mn_samples_bootstrap\\x1b[49m\\x1b[38;5;241;43m=\\x1b[39;49m\\x1b[43mn_samples_bootstrap\\x1b[49m\\x1b[43m,\\x1b[49m\\n\\x1b[1;32m    537\\x1b[0m \\x1b[43m        \\x1b[49m\\x1b[38;5;66;43;03m### KF:\\x1b[39;49;00m\\n\\x1b[1;32m    538\\x1b[0m \\x1b[43m        \\x1b[49m\\x1b[43mchol_eps\\x1b[49m\\x1b[38;5;241;43m=\\x1b[39;49m\\x1b[38;5;28;43mself\\x1b[39;49m\\x1b[38;5;241;43m.\\x1b[39;49m\\x1b[43mchol_eps\\x1b[49m\\x1b[43m,\\x1b[49m\\n\\x1b[1;32m    539\\x1b[0m \\x1b[43m        \\x1b[49m\\x1b[43midx_tr\\x1b[49m\\x1b[38;5;241;43m=\\x1b[39;49m\\x1b[43midx_tr\\x1b[49m\\x1b[43m,\\x1b[49m\\n\\x1b[1;32m    540\\x1b[0m \\x1b[43m        \\x1b[49m\\x1b[43mbootstrap_type\\x1b[49m\\x1b[38;5;241;43m=\\x1b[39;49m\\x1b[38;5;28;43mself\\x1b[39;49m\\x1b[38;5;241;43m.\\x1b[39;49m\\x1b[43mbootstrap_type\\x1b[49m\\x1b[43m,\\x1b[49m\\n\\x1b[1;32m    541\\x1b[0m \\x1b[43m        \\x1b[49m\\x1b[38;5;66;43;03m###\\x1b[39;49;00m\\n\\x1b[1;32m    542\\x1b[0m \\x1b[43m    \\x1b[49m\\x1b[43m)\\x1b[49m\\n\\x1b[1;32m    543\\x1b[0m \\x1b[43m    \\x1b[49m\\x1b[38;5;28;43;01mfor\\x1b[39;49;00m\\x1b[43m \\x1b[49m\\x1b[43mi\\x1b[49m\\x1b[43m,\\x1b[49m\\x1b[43m \\x1b[49m\\x1b[43mt\\x1b[49m\\x1b[43m \\x1b[49m\\x1b[38;5;129;43;01min\\x1b[39;49;00m\\x1b[43m \\x1b[49m\\x1b[38;5;28;43menumerate\\x1b[39;49m\\x1b[43m(\\x1b[49m\\x1b[43mtrees\\x1b[49m\\x1b[43m)\\x1b[49m\\n\\x1b[1;32m    544\\x1b[0m \\x1b[43m\\x1b[49m\\x1b[43m)\\x1b[49m\\n\\x1b[1;32m    546\\x1b[0m \\x1b[38;5;66;03m### KF:\\x1b[39;00m\\n\\x1b[1;32m    547\\x1b[0m \\x1b[38;5;28;01mif\\x1b[39;00m \\x1b[38;5;28mself\\x1b[39m\\x1b[38;5;241m.\\x1b[39mbootstrap_type \\x1b[38;5;241m==\\x1b[39m \\x1b[38;5;124m\\'\\x1b[39m\\x1b[38;5;124mblur\\x1b[39m\\x1b[38;5;124m\\'\\x1b[39m:\\n\\nFile \\x1b[0;32m~/opt/anaconda3/envs/blur/lib/python3.8/site-packages/joblib/parallel.py:1046\\x1b[0m, in \\x1b[0;36mParallel.__call__\\x1b[0;34m(self, iterable)\\x1b[0m\\n\\x1b[1;32m   1043\\x1b[0m \\x1b[38;5;28;01mif\\x1b[39;00m \\x1b[38;5;28mself\\x1b[39m\\x1b[38;5;241m.\\x1b[39mdispatch_one_batch(iterator):\\n\\x1b[1;32m   1044\\x1b[0m     \\x1b[38;5;28mself\\x1b[39m\\x1b[38;5;241m.\\x1b[39m_iterating \\x1b[38;5;241m=\\x1b[39m \\x1b[38;5;28mself\\x1b[39m\\x1b[38;5;241m.\\x1b[39m_original_iterator \\x1b[38;5;129;01mis\\x1b[39;00m \\x1b[38;5;129;01mnot\\x1b[39;00m \\x1b[38;5;28;01mNone\\x1b[39;00m\\n\\x1b[0;32m-> 1046\\x1b[0m \\x1b[38;5;28;01mwhile\\x1b[39;00m \\x1b[38;5;28;43mself\\x1b[39;49m\\x1b[38;5;241;43m.\\x1b[39;49m\\x1b[43mdispatch_one_batch\\x1b[49m\\x1b[43m(\\x1b[49m\\x1b[43miterator\\x1b[49m\\x1b[43m)\\x1b[49m:\\n\\x1b[1;32m   1047\\x1b[0m     \\x1b[38;5;28;01mpass\\x1b[39;00m\\n\\x1b[1;32m   1049\\x1b[0m \\x1b[38;5;28;01mif\\x1b[39;00m pre_dispatch \\x1b[38;5;241m==\\x1b[39m \\x1b[38;5;124m\"\\x1b[39m\\x1b[38;5;124mall\\x1b[39m\\x1b[38;5;124m\"\\x1b[39m \\x1b[38;5;129;01mor\\x1b[39;00m n_jobs \\x1b[38;5;241m==\\x1b[39m \\x1b[38;5;241m1\\x1b[39m:\\n\\x1b[1;32m   1050\\x1b[0m     \\x1b[38;5;66;03m# The iterable was consumed all at once by the above for loop.\\x1b[39;00m\\n\\x1b[1;32m   1051\\x1b[0m     \\x1b[38;5;66;03m# No need to wait for async callbacks to trigger to\\x1b[39;00m\\n\\x1b[1;32m   1052\\x1b[0m     \\x1b[38;5;66;03m# consumption.\\x1b[39;00m\\n\\nFile \\x1b[0;32m~/opt/anaconda3/envs/blur/lib/python3.8/site-packages/joblib/parallel.py:861\\x1b[0m, in \\x1b[0;36mParallel.dispatch_one_batch\\x1b[0;34m(self, iterator)\\x1b[0m\\n\\x1b[1;32m    859\\x1b[0m     \\x1b[38;5;28;01mreturn\\x1b[39;00m \\x1b[38;5;28;01mFalse\\x1b[39;00m\\n\\x1b[1;32m    860\\x1b[0m \\x1b[38;5;28;01melse\\x1b[39;00m:\\n\\x1b[0;32m--> 861\\x1b[0m     \\x1b[38;5;28;43mself\\x1b[39;49m\\x1b[38;5;241;43m.\\x1b[39;49m\\x1b[43m_dispatch\\x1b[49m\\x1b[43m(\\x1b[49m\\x1b[43mtasks\\x1b[49m\\x1b[43m)\\x1b[49m\\n\\x1b[1;32m    862\\x1b[0m     \\x1b[38;5;28;01mreturn\\x1b[39;00m \\x1b[38;5;28;01mTrue\\x1b[39;00m\\n\\nFile \\x1b[0;32m~/opt/anaconda3/envs/blur/lib/python3.8/site-packages/joblib/parallel.py:779\\x1b[0m, in \\x1b[0;36mParallel._dispatch\\x1b[0;34m(self, batch)\\x1b[0m\\n\\x1b[1;32m    777\\x1b[0m \\x1b[38;5;28;01mwith\\x1b[39;00m \\x1b[38;5;28mself\\x1b[39m\\x1b[38;5;241m.\\x1b[39m_lock:\\n\\x1b[1;32m    778\\x1b[0m     job_idx \\x1b[38;5;241m=\\x1b[39m \\x1b[38;5;28mlen\\x1b[39m(\\x1b[38;5;28mself\\x1b[39m\\x1b[38;5;241m.\\x1b[39m_jobs)\\n\\x1b[0;32m--> 779\\x1b[0m     job \\x1b[38;5;241m=\\x1b[39m \\x1b[38;5;28;43mself\\x1b[39;49m\\x1b[38;5;241;43m.\\x1b[39;49m\\x1b[43m_backend\\x1b[49m\\x1b[38;5;241;43m.\\x1b[39;49m\\x1b[43mapply_async\\x1b[49m\\x1b[43m(\\x1b[49m\\x1b[43mbatch\\x1b[49m\\x1b[43m,\\x1b[49m\\x1b[43m \\x1b[49m\\x1b[43mcallback\\x1b[49m\\x1b[38;5;241;43m=\\x1b[39;49m\\x1b[43mcb\\x1b[49m\\x1b[43m)\\x1b[49m\\n\\x1b[1;32m    780\\x1b[0m     \\x1b[38;5;66;03m# A job can complete so quickly than its callback is\\x1b[39;00m\\n\\x1b[1;32m    781\\x1b[0m     \\x1b[38;5;66;03m# called before we get here, causing self._jobs to\\x1b[39;00m\\n\\x1b[1;32m    782\\x1b[0m     \\x1b[38;5;66;03m# grow. To ensure correct results ordering, .insert is\\x1b[39;00m\\n\\x1b[1;32m    783\\x1b[0m     \\x1b[38;5;66;03m# used (rather than .append) in the following line\\x1b[39;00m\\n\\x1b[1;32m    784\\x1b[0m     \\x1b[38;5;28mself\\x1b[39m\\x1b[38;5;241m.\\x1b[39m_jobs\\x1b[38;5;241m.\\x1b[39minsert(job_idx, job)\\n\\nFile \\x1b[0;32m~/opt/anaconda3/envs/blur/lib/python3.8/site-packages/joblib/_parallel_backends.py:208\\x1b[0m, in \\x1b[0;36mSequentialBackend.apply_async\\x1b[0;34m(self, func, callback)\\x1b[0m\\n\\x1b[1;32m    206\\x1b[0m \\x1b[38;5;28;01mdef\\x1b[39;00m \\x1b[38;5;21mapply_async\\x1b[39m(\\x1b[38;5;28mself\\x1b[39m, func, callback\\x1b[38;5;241m=\\x1b[39m\\x1b[38;5;28;01mNone\\x1b[39;00m):\\n\\x1b[1;32m    207\\x1b[0m     \\x1b[38;5;124;03m\"\"\"Schedule a func to be run\"\"\"\\x1b[39;00m\\n\\x1b[0;32m--> 208\\x1b[0m     result \\x1b[38;5;241m=\\x1b[39m \\x1b[43mImmediateResult\\x1b[49m\\x1b[43m(\\x1b[49m\\x1b[43mfunc\\x1b[49m\\x1b[43m)\\x1b[49m\\n\\x1b[1;32m    209\\x1b[0m     \\x1b[38;5;28;01mif\\x1b[39;00m callback:\\n\\x1b[1;32m    210\\x1b[0m         callback(result)\\n\\nFile \\x1b[0;32m~/opt/anaconda3/envs/blur/lib/python3.8/site-packages/joblib/_parallel_backends.py:572\\x1b[0m, in \\x1b[0;36mImmediateResult.__init__\\x1b[0;34m(self, batch)\\x1b[0m\\n\\x1b[1;32m    569\\x1b[0m \\x1b[38;5;28;01mdef\\x1b[39;00m \\x1b[38;5;21m__init__\\x1b[39m(\\x1b[38;5;28mself\\x1b[39m, batch):\\n\\x1b[1;32m    570\\x1b[0m     \\x1b[38;5;66;03m# Don\\'t delay the application, to avoid keeping the input\\x1b[39;00m\\n\\x1b[1;32m    571\\x1b[0m     \\x1b[38;5;66;03m# arguments in memory\\x1b[39;00m\\n\\x1b[0;32m--> 572\\x1b[0m     \\x1b[38;5;28mself\\x1b[39m\\x1b[38;5;241m.\\x1b[39mresults \\x1b[38;5;241m=\\x1b[39m \\x1b[43mbatch\\x1b[49m\\x1b[43m(\\x1b[49m\\x1b[43m)\\x1b[49m\\n\\nFile \\x1b[0;32m~/opt/anaconda3/envs/blur/lib/python3.8/site-packages/joblib/parallel.py:262\\x1b[0m, in \\x1b[0;36mBatchedCalls.__call__\\x1b[0;34m(self)\\x1b[0m\\n\\x1b[1;32m    258\\x1b[0m \\x1b[38;5;28;01mdef\\x1b[39;00m \\x1b[38;5;21m__call__\\x1b[39m(\\x1b[38;5;28mself\\x1b[39m):\\n\\x1b[1;32m    259\\x1b[0m     \\x1b[38;5;66;03m# Set the default nested backend to self._backend but do not set the\\x1b[39;00m\\n\\x1b[1;32m    260\\x1b[0m     \\x1b[38;5;66;03m# change the default number of processes to -1\\x1b[39;00m\\n\\x1b[1;32m    261\\x1b[0m     \\x1b[38;5;28;01mwith\\x1b[39;00m parallel_backend(\\x1b[38;5;28mself\\x1b[39m\\x1b[38;5;241m.\\x1b[39m_backend, n_jobs\\x1b[38;5;241m=\\x1b[39m\\x1b[38;5;28mself\\x1b[39m\\x1b[38;5;241m.\\x1b[39m_n_jobs):\\n\\x1b[0;32m--> 262\\x1b[0m         \\x1b[38;5;28;01mreturn\\x1b[39;00m [func(\\x1b[38;5;241m*\\x1b[39margs, \\x1b[38;5;241m*\\x1b[39m\\x1b[38;5;241m*\\x1b[39mkwargs)\\n\\x1b[1;32m    263\\x1b[0m                 \\x1b[38;5;28;01mfor\\x1b[39;00m func, args, kwargs \\x1b[38;5;129;01min\\x1b[39;00m \\x1b[38;5;28mself\\x1b[39m\\x1b[38;5;241m.\\x1b[39mitems]\\n\\nFile \\x1b[0;32m~/opt/anaconda3/envs/blur/lib/python3.8/site-packages/joblib/parallel.py:262\\x1b[0m, in \\x1b[0;36m<listcomp>\\x1b[0;34m(.0)\\x1b[0m\\n\\x1b[1;32m    258\\x1b[0m \\x1b[38;5;28;01mdef\\x1b[39;00m \\x1b[38;5;21m__call__\\x1b[39m(\\x1b[38;5;28mself\\x1b[39m):\\n\\x1b[1;32m    259\\x1b[0m     \\x1b[38;5;66;03m# Set the default nested backend to self._backend but do not set the\\x1b[39;00m\\n\\x1b[1;32m    260\\x1b[0m     \\x1b[38;5;66;03m# change the default number of processes to -1\\x1b[39;00m\\n\\x1b[1;32m    261\\x1b[0m     \\x1b[38;5;28;01mwith\\x1b[39;00m parallel_backend(\\x1b[38;5;28mself\\x1b[39m\\x1b[38;5;241m.\\x1b[39m_backend, n_jobs\\x1b[38;5;241m=\\x1b[39m\\x1b[38;5;28mself\\x1b[39m\\x1b[38;5;241m.\\x1b[39m_n_jobs):\\n\\x1b[0;32m--> 262\\x1b[0m         \\x1b[38;5;28;01mreturn\\x1b[39;00m [\\x1b[43mfunc\\x1b[49m\\x1b[43m(\\x1b[49m\\x1b[38;5;241;43m*\\x1b[39;49m\\x1b[43margs\\x1b[49m\\x1b[43m,\\x1b[49m\\x1b[43m \\x1b[49m\\x1b[38;5;241;43m*\\x1b[39;49m\\x1b[38;5;241;43m*\\x1b[39;49m\\x1b[43mkwargs\\x1b[49m\\x1b[43m)\\x1b[49m\\n\\x1b[1;32m    263\\x1b[0m                 \\x1b[38;5;28;01mfor\\x1b[39;00m func, args, kwargs \\x1b[38;5;129;01min\\x1b[39;00m \\x1b[38;5;28mself\\x1b[39m\\x1b[38;5;241m.\\x1b[39mitems]\\n\\nFile \\x1b[0;32m~/Documents/GitHub/scikit-learn/sklearn/utils/fixes.py:117\\x1b[0m, in \\x1b[0;36m_FuncWrapper.__call__\\x1b[0;34m(self, *args, **kwargs)\\x1b[0m\\n\\x1b[1;32m    115\\x1b[0m \\x1b[38;5;28;01mdef\\x1b[39;00m \\x1b[38;5;21m__call__\\x1b[39m(\\x1b[38;5;28mself\\x1b[39m, \\x1b[38;5;241m*\\x1b[39margs, \\x1b[38;5;241m*\\x1b[39m\\x1b[38;5;241m*\\x1b[39mkwargs):\\n\\x1b[1;32m    116\\x1b[0m     \\x1b[38;5;28;01mwith\\x1b[39;00m config_context(\\x1b[38;5;241m*\\x1b[39m\\x1b[38;5;241m*\\x1b[39m\\x1b[38;5;28mself\\x1b[39m\\x1b[38;5;241m.\\x1b[39mconfig):\\n\\x1b[0;32m--> 117\\x1b[0m         \\x1b[38;5;28;01mreturn\\x1b[39;00m \\x1b[38;5;28;43mself\\x1b[39;49m\\x1b[38;5;241;43m.\\x1b[39;49m\\x1b[43mfunction\\x1b[49m\\x1b[43m(\\x1b[49m\\x1b[38;5;241;43m*\\x1b[39;49m\\x1b[43margs\\x1b[49m\\x1b[43m,\\x1b[49m\\x1b[43m \\x1b[49m\\x1b[38;5;241;43m*\\x1b[39;49m\\x1b[38;5;241;43m*\\x1b[39;49m\\x1b[43mkwargs\\x1b[49m\\x1b[43m)\\x1b[49m\\n\\nFile \\x1b[0;32m~/Documents/GitHub/scikit-learn/sklearn/ensemble/_forest.py:220\\x1b[0m, in \\x1b[0;36m_parallel_build_trees\\x1b[0;34m(tree, bootstrap, X, y, sample_weight, tree_idx, n_trees, verbose, class_weight, n_samples_bootstrap, chol_eps, idx_tr, bootstrap_type)\\x1b[0m\\n\\x1b[1;32m    217\\x1b[0m     \\x1b[38;5;28;01melif\\x1b[39;00m class_weight \\x1b[38;5;241m==\\x1b[39m \\x1b[38;5;124m\"\\x1b[39m\\x1b[38;5;124mbalanced_subsample\\x1b[39m\\x1b[38;5;124m\"\\x1b[39m:\\n\\x1b[1;32m    218\\x1b[0m         curr_sample_weight \\x1b[38;5;241m*\\x1b[39m\\x1b[38;5;241m=\\x1b[39m compute_sample_weight(\\x1b[38;5;124m\"\\x1b[39m\\x1b[38;5;124mbalanced\\x1b[39m\\x1b[38;5;124m\"\\x1b[39m, y, indices\\x1b[38;5;241m=\\x1b[39mindices)\\n\\x1b[0;32m--> 220\\x1b[0m     \\x1b[43mtree\\x1b[49m\\x1b[38;5;241;43m.\\x1b[39;49m\\x1b[43mfit\\x1b[49m\\x1b[43m(\\x1b[49m\\x1b[43mX\\x1b[49m\\x1b[43m,\\x1b[49m\\x1b[43m \\x1b[49m\\x1b[43my\\x1b[49m\\x1b[43m,\\x1b[49m\\x1b[43m \\x1b[49m\\x1b[43msample_weight\\x1b[49m\\x1b[38;5;241;43m=\\x1b[39;49m\\x1b[43mcurr_sample_weight\\x1b[49m\\x1b[43m,\\x1b[49m\\x1b[43m \\x1b[49m\\x1b[43mcheck_input\\x1b[49m\\x1b[38;5;241;43m=\\x1b[39;49m\\x1b[38;5;28;43;01mFalse\\x1b[39;49;00m\\x1b[43m)\\x1b[49m\\n\\x1b[1;32m    222\\x1b[0m     \\x1b[38;5;28;01mreturn\\x1b[39;00m tree\\n\\x1b[1;32m    223\\x1b[0m \\x1b[38;5;28;01melse\\x1b[39;00m:\\n\\nFile \\x1b[0;32m~/Documents/GitHub/scikit-learn/sklearn/tree/_classes.py:1342\\x1b[0m, in \\x1b[0;36mDecisionTreeRegressor.fit\\x1b[0;34m(self, X, y, sample_weight, check_input)\\x1b[0m\\n\\x1b[1;32m   1313\\x1b[0m \\x1b[38;5;28;01mdef\\x1b[39;00m \\x1b[38;5;21mfit\\x1b[39m(\\x1b[38;5;28mself\\x1b[39m, X, y, sample_weight\\x1b[38;5;241m=\\x1b[39m\\x1b[38;5;28;01mNone\\x1b[39;00m, check_input\\x1b[38;5;241m=\\x1b[39m\\x1b[38;5;28;01mTrue\\x1b[39;00m):\\n\\x1b[1;32m   1314\\x1b[0m     \\x1b[38;5;124;03m\"\"\"Build a decision tree regressor from the training set (X, y).\\x1b[39;00m\\n\\x1b[1;32m   1315\\x1b[0m \\n\\x1b[1;32m   1316\\x1b[0m \\x1b[38;5;124;03m    Parameters\\x1b[39;00m\\n\\x1b[0;32m   (...)\\x1b[0m\\n\\x1b[1;32m   1339\\x1b[0m \\x1b[38;5;124;03m        Fitted estimator.\\x1b[39;00m\\n\\x1b[1;32m   1340\\x1b[0m \\x1b[38;5;124;03m    \"\"\"\\x1b[39;00m\\n\\x1b[0;32m-> 1342\\x1b[0m     \\x1b[38;5;28;43msuper\\x1b[39;49m\\x1b[43m(\\x1b[49m\\x1b[43m)\\x1b[49m\\x1b[38;5;241;43m.\\x1b[39;49m\\x1b[43mfit\\x1b[49m\\x1b[43m(\\x1b[49m\\n\\x1b[1;32m   1343\\x1b[0m \\x1b[43m        \\x1b[49m\\x1b[43mX\\x1b[49m\\x1b[43m,\\x1b[49m\\n\\x1b[1;32m   1344\\x1b[0m \\x1b[43m        \\x1b[49m\\x1b[43my\\x1b[49m\\x1b[43m,\\x1b[49m\\n\\x1b[1;32m   1345\\x1b[0m \\x1b[43m        \\x1b[49m\\x1b[43msample_weight\\x1b[49m\\x1b[38;5;241;43m=\\x1b[39;49m\\x1b[43msample_weight\\x1b[49m\\x1b[43m,\\x1b[49m\\n\\x1b[1;32m   1346\\x1b[0m \\x1b[43m        \\x1b[49m\\x1b[43mcheck_input\\x1b[49m\\x1b[38;5;241;43m=\\x1b[39;49m\\x1b[43mcheck_input\\x1b[49m\\x1b[43m,\\x1b[49m\\n\\x1b[1;32m   1347\\x1b[0m \\x1b[43m    \\x1b[49m\\x1b[43m)\\x1b[49m\\n\\x1b[1;32m   1348\\x1b[0m     \\x1b[38;5;28;01mreturn\\x1b[39;00m \\x1b[38;5;28mself\\x1b[39m\\n\\nFile \\x1b[0;32m~/Documents/GitHub/scikit-learn/sklearn/tree/_classes.py:458\\x1b[0m, in \\x1b[0;36mBaseDecisionTree.fit\\x1b[0;34m(self, X, y, sample_weight, check_input)\\x1b[0m\\n\\x1b[1;32m    447\\x1b[0m \\x1b[38;5;28;01melse\\x1b[39;00m:\\n\\x1b[1;32m    448\\x1b[0m     builder \\x1b[38;5;241m=\\x1b[39m BestFirstTreeBuilder(\\n\\x1b[1;32m    449\\x1b[0m         splitter,\\n\\x1b[1;32m    450\\x1b[0m         min_samples_split,\\n\\x1b[0;32m   (...)\\x1b[0m\\n\\x1b[1;32m    455\\x1b[0m         \\x1b[38;5;28mself\\x1b[39m\\x1b[38;5;241m.\\x1b[39mmin_impurity_decrease,\\n\\x1b[1;32m    456\\x1b[0m     )\\n\\x1b[0;32m--> 458\\x1b[0m \\x1b[43mbuilder\\x1b[49m\\x1b[38;5;241;43m.\\x1b[39;49m\\x1b[43mbuild\\x1b[49m\\x1b[43m(\\x1b[49m\\x1b[38;5;28;43mself\\x1b[39;49m\\x1b[38;5;241;43m.\\x1b[39;49m\\x1b[43mtree_\\x1b[49m\\x1b[43m,\\x1b[49m\\x1b[43m \\x1b[49m\\x1b[43mX\\x1b[49m\\x1b[43m,\\x1b[49m\\x1b[43m \\x1b[49m\\x1b[43my\\x1b[49m\\x1b[43m,\\x1b[49m\\x1b[43m \\x1b[49m\\x1b[43msample_weight\\x1b[49m\\x1b[43m)\\x1b[49m\\n\\x1b[1;32m    460\\x1b[0m \\x1b[38;5;28;01mif\\x1b[39;00m \\x1b[38;5;28mself\\x1b[39m\\x1b[38;5;241m.\\x1b[39mn_outputs_ \\x1b[38;5;241m==\\x1b[39m \\x1b[38;5;241m1\\x1b[39m \\x1b[38;5;129;01mand\\x1b[39;00m is_classifier(\\x1b[38;5;28mself\\x1b[39m):\\n\\x1b[1;32m    461\\x1b[0m     \\x1b[38;5;28mself\\x1b[39m\\x1b[38;5;241m.\\x1b[39mn_classes_ \\x1b[38;5;241m=\\x1b[39m \\x1b[38;5;28mself\\x1b[39m\\x1b[38;5;241m.\\x1b[39mn_classes_[\\x1b[38;5;241m0\\x1b[39m]\\n\\n\\x1b[0;31mKeyboardInterrupt\\x1b[0m: \\nKeyboardInterrupt: \\n')>\n",
      "Traceback (most recent call last):\n",
      "  File \"/Users/kevinfry/opt/anaconda3/envs/blur/lib/python3.8/site-packages/IPython/core/interactiveshell.py\", line 3397, in run_code\n",
      "    exec(code_obj, self.user_global_ns, self.user_ns)\n",
      "  File \"<ipython-input-14-c95c489f6e66>\", line 23, in <cell line: 23>\n",
      "    run_nbs(indir, inputfp, params)\n",
      "  File \"<ipython-input-5-c37d602784f3>\", line 43, in run_nbs\n",
      "    pm.execute_notebook(\n",
      "  File \"/Users/kevinfry/opt/anaconda3/envs/blur/lib/python3.8/site-packages/papermill/execute.py\", line 107, in execute_notebook\n",
      "    nb = papermill_engines.execute_notebook_with_engine(\n",
      "  File \"/Users/kevinfry/opt/anaconda3/envs/blur/lib/python3.8/site-packages/papermill/engines.py\", line 49, in execute_notebook_with_engine\n",
      "    return self.get_engine(engine_name).execute_notebook(nb, kernel_name, **kwargs)\n",
      "  File \"/Users/kevinfry/opt/anaconda3/envs/blur/lib/python3.8/site-packages/papermill/engines.py\", line 359, in execute_notebook\n",
      "    cls.execute_managed_notebook(nb_man, kernel_name, log_output=log_output, **kwargs)\n",
      "  File \"/Users/kevinfry/opt/anaconda3/envs/blur/lib/python3.8/site-packages/papermill/engines.py\", line 418, in execute_managed_notebook\n",
      "    return PapermillNotebookClient(nb_man, **final_kwargs).execute()\n",
      "  File \"/Users/kevinfry/opt/anaconda3/envs/blur/lib/python3.8/site-packages/papermill/clientwrap.py\", line 45, in execute\n",
      "    self.papermill_execute_cells()\n",
      "  File \"/Users/kevinfry/opt/anaconda3/envs/blur/lib/python3.8/site-packages/papermill/clientwrap.py\", line 72, in papermill_execute_cells\n",
      "    self.execute_cell(cell, index)\n",
      "  File \"/Users/kevinfry/opt/anaconda3/envs/blur/lib/python3.8/site-packages/nbclient/util.py\", line 85, in wrapped\n",
      "    return just_run(coro(*args, **kwargs))\n",
      "  File \"/Users/kevinfry/opt/anaconda3/envs/blur/lib/python3.8/site-packages/nbclient/util.py\", line 60, in just_run\n",
      "    return loop.run_until_complete(coro)\n",
      "  File \"/Users/kevinfry/opt/anaconda3/envs/blur/lib/python3.8/site-packages/nest_asyncio.py\", line 83, in run_until_complete\n",
      "    self._run_once()\n",
      "  File \"/Users/kevinfry/opt/anaconda3/envs/blur/lib/python3.8/site-packages/nest_asyncio.py\", line 106, in _run_once\n",
      "    event_list = self._selector.select(timeout)\n",
      "  File \"/Users/kevinfry/opt/anaconda3/envs/blur/lib/python3.8/selectors.py\", line 558, in select\n",
      "    kev_list = self._selector.control(None, max_ev, timeout)\n",
      "KeyboardInterrupt\n",
      "\n",
      "During handling of the above exception, another exception occurred:\n",
      "\n",
      "Traceback (most recent call last):\n",
      "  File \"/Users/kevinfry/opt/anaconda3/envs/blur/lib/python3.8/asyncio/tasks.py\", line 280, in __step\n",
      "    result = coro.send(None)\n",
      "  File \"/Users/kevinfry/opt/anaconda3/envs/blur/lib/python3.8/site-packages/nbclient/client.py\", line 1019, in async_execute_cell\n",
      "    await self._check_raise_for_error(cell, cell_index, exec_reply)\n",
      "  File \"/Users/kevinfry/opt/anaconda3/envs/blur/lib/python3.8/site-packages/nbclient/client.py\", line 913, in _check_raise_for_error\n",
      "    raise CellExecutionError.from_cell_and_msg(cell, exec_reply_content)\n",
      "nbclient.exceptions.CellExecutionError: An error occurred while executing the following cell:\n",
      "------------------\n",
      "(test_err,\n",
      " rnd_err,\n",
      " trc_err,\n",
      " kfcv_err,\n",
      " spcv_err) = err_cmp.compare(models,\n",
      "                             ests,\n",
      "                             est_kwargs,\n",
      "                             niter=niter,\n",
      "                             n=n,\n",
      "                             p=p,\n",
      "                             s=p,\n",
      "                             snr=snr, \n",
      "                             X=X,\n",
      "                             beta=beta,\n",
      "                             coord=coord,\n",
      "                             Chol_t=Chol_t,\n",
      "                             Chol_s=None,\n",
      "                             tr_idx=None,\n",
      "                             fair=False,\n",
      "                             )\n",
      "------------------\n",
      "\n",
      "\u001b[0;31m---------------------------------------------------------------------------\u001b[0m\n",
      "\u001b[0;31mKeyboardInterrupt\u001b[0m                         Traceback (most recent call last)\n",
      "Input \u001b[0;32mIn [11]\u001b[0m, in \u001b[0;36m<cell line: 5>\u001b[0;34m()\u001b[0m\n",
      "\u001b[1;32m      1\u001b[0m (test_err,\n",
      "\u001b[1;32m      2\u001b[0m  rnd_err,\n",
      "\u001b[1;32m      3\u001b[0m  trc_err,\n",
      "\u001b[1;32m      4\u001b[0m  kfcv_err,\n",
      "\u001b[0;32m----> 5\u001b[0m  spcv_err) \u001b[38;5;241m=\u001b[39m \u001b[43merr_cmp\u001b[49m\u001b[38;5;241;43m.\u001b[39;49m\u001b[43mcompare\u001b[49m\u001b[43m(\u001b[49m\u001b[43mmodels\u001b[49m\u001b[43m,\u001b[49m\n",
      "\u001b[1;32m      6\u001b[0m \u001b[43m                             \u001b[49m\u001b[43mests\u001b[49m\u001b[43m,\u001b[49m\n",
      "\u001b[1;32m      7\u001b[0m \u001b[43m                             \u001b[49m\u001b[43mest_kwargs\u001b[49m\u001b[43m,\u001b[49m\n",
      "\u001b[1;32m      8\u001b[0m \u001b[43m                             \u001b[49m\u001b[43mniter\u001b[49m\u001b[38;5;241;43m=\u001b[39;49m\u001b[43mniter\u001b[49m\u001b[43m,\u001b[49m\n",
      "\u001b[1;32m      9\u001b[0m \u001b[43m                             \u001b[49m\u001b[43mn\u001b[49m\u001b[38;5;241;43m=\u001b[39;49m\u001b[43mn\u001b[49m\u001b[43m,\u001b[49m\n",
      "\u001b[1;32m     10\u001b[0m \u001b[43m                             \u001b[49m\u001b[43mp\u001b[49m\u001b[38;5;241;43m=\u001b[39;49m\u001b[43mp\u001b[49m\u001b[43m,\u001b[49m\n",
      "\u001b[1;32m     11\u001b[0m \u001b[43m                             \u001b[49m\u001b[43ms\u001b[49m\u001b[38;5;241;43m=\u001b[39;49m\u001b[43mp\u001b[49m\u001b[43m,\u001b[49m\n",
      "\u001b[1;32m     12\u001b[0m \u001b[43m                             \u001b[49m\u001b[43msnr\u001b[49m\u001b[38;5;241;43m=\u001b[39;49m\u001b[43msnr\u001b[49m\u001b[43m,\u001b[49m\u001b[43m \u001b[49m\n",
      "\u001b[1;32m     13\u001b[0m \u001b[43m                             \u001b[49m\u001b[43mX\u001b[49m\u001b[38;5;241;43m=\u001b[39;49m\u001b[43mX\u001b[49m\u001b[43m,\u001b[49m\n",
      "\u001b[1;32m     14\u001b[0m \u001b[43m                             \u001b[49m\u001b[43mbeta\u001b[49m\u001b[38;5;241;43m=\u001b[39;49m\u001b[43mbeta\u001b[49m\u001b[43m,\u001b[49m\n",
      "\u001b[1;32m     15\u001b[0m \u001b[43m                             \u001b[49m\u001b[43mcoord\u001b[49m\u001b[38;5;241;43m=\u001b[39;49m\u001b[43mcoord\u001b[49m\u001b[43m,\u001b[49m\n",
      "\u001b[1;32m     16\u001b[0m \u001b[43m                             \u001b[49m\u001b[43mChol_t\u001b[49m\u001b[38;5;241;43m=\u001b[39;49m\u001b[43mChol_t\u001b[49m\u001b[43m,\u001b[49m\n",
      "\u001b[1;32m     17\u001b[0m \u001b[43m                             \u001b[49m\u001b[43mChol_s\u001b[49m\u001b[38;5;241;43m=\u001b[39;49m\u001b[38;5;28;43;01mNone\u001b[39;49;00m\u001b[43m,\u001b[49m\n",
      "\u001b[1;32m     18\u001b[0m \u001b[43m                             \u001b[49m\u001b[43mtr_idx\u001b[49m\u001b[38;5;241;43m=\u001b[39;49m\u001b[38;5;28;43;01mNone\u001b[39;49;00m\u001b[43m,\u001b[49m\n",
      "\u001b[1;32m     19\u001b[0m \u001b[43m                             \u001b[49m\u001b[43mfair\u001b[49m\u001b[38;5;241;43m=\u001b[39;49m\u001b[38;5;28;43;01mFalse\u001b[39;49;00m\u001b[43m,\u001b[49m\n",
      "\u001b[1;32m     20\u001b[0m \u001b[43m                             \u001b[49m\u001b[43m)\u001b[49m\n",
      "\n",
      "File \u001b[0;32m~/Documents/GitHub/StructuredPredictionError/spe/mse_estimator.py:233\u001b[0m, in \u001b[0;36mErrorComparer.compare\u001b[0;34m(self, models, ests, est_kwargs, niter, n, p, s, snr, X, beta, coord, Chol_t, Chol_s, Cov_st, delta, tr_idx, fair, tr_frac, **kwargs)\u001b[0m\n",
      "\u001b[1;32m    230\u001b[0m \t\u001b[38;5;66;03m# print(ests)\u001b[39;00m\n",
      "\u001b[1;32m    231\u001b[0m \t\u001b[38;5;66;03m# print([e.keys() for e in est_kwargs])\u001b[39;00m\n",
      "\u001b[1;32m    232\u001b[0m \t\u001b[38;5;28;01mfor\u001b[39;00m err, est, est_kwarg \u001b[38;5;129;01min\u001b[39;00m \u001b[38;5;28mzip\u001b[39m(errs, ests, est_kwargs):\n",
      "\u001b[0;32m--> 233\u001b[0m \t\terr[i] \u001b[38;5;241m=\u001b[39m \u001b[43mest\u001b[49m\u001b[43m(\u001b[49m\u001b[38;5;241;43m*\u001b[39;49m\u001b[38;5;241;43m*\u001b[39;49m\u001b[43mest_kwarg\u001b[49m\u001b[43m)\u001b[49m\n",
      "\u001b[1;32m    235\u001b[0m \u001b[38;5;28;01mreturn\u001b[39;00m errs\n",
      "\n",
      "File \u001b[0;32m~/Documents/GitHub/StructuredPredictionError/spe/estimators.py:326\u001b[0m, in \u001b[0;36mcp_general_train_test\u001b[0;34m(model, X, y, tr_idx, Chol_t, Chol_s, nboot, alpha, use_trace_corr)\u001b[0m\n",
      "\u001b[1;32m    323\u001b[0m w_tr \u001b[38;5;241m=\u001b[39m w[tr_idx]\n",
      "\u001b[1;32m    324\u001b[0m wp_ts \u001b[38;5;241m=\u001b[39m wp[ts_idx]\n",
      "\u001b[0;32m--> 326\u001b[0m \u001b[43mmodel\u001b[49m\u001b[38;5;241;43m.\u001b[39;49m\u001b[43mfit\u001b[49m\u001b[43m(\u001b[49m\u001b[43mX_tr\u001b[49m\u001b[43m,\u001b[49m\u001b[43m \u001b[49m\u001b[43mw_tr\u001b[49m\u001b[43m)\u001b[49m\n",
      "\u001b[1;32m    328\u001b[0m \u001b[38;5;28;01mif\u001b[39;00m use_trace_corr:\n",
      "\u001b[1;32m    329\u001b[0m \t\u001b[38;5;66;03m# correction += 0\u001b[39;00m\n",
      "\u001b[1;32m    330\u001b[0m \t\u001b[38;5;66;03m# correction = np.diag(Cov_s_ts).sum() \\\u001b[39;00m\n",
      "\u001b[1;32m    331\u001b[0m \t\u001b[38;5;66;03m# \t\t\t\t- np.diag(Cov_wp_ts).sum()\u001b[39;00m\n",
      "\u001b[1;32m    332\u001b[0m \tcorrection \u001b[38;5;241m=\u001b[39m (np\u001b[38;5;241m.\u001b[39mdiag(Cov_s_ts)\u001b[38;5;241m.\u001b[39msum() \\\n",
      "\u001b[1;32m    333\u001b[0m \t\t\t\t\t\u001b[38;5;241m-\u001b[39m np\u001b[38;5;241m.\u001b[39mdiag(Cov_wp_ts)\u001b[38;5;241m.\u001b[39msum()) \u001b[38;5;241m/\u001b[39m n_ts\n",
      "\n",
      "File \u001b[0;32m~/Documents/GitHub/scikit-learn/sklearn/ensemble/_forest.py:521\u001b[0m, in \u001b[0;36mBaseForest.fit\u001b[0;34m(self, X, y, sample_weight, chol_eps, idx_tr)\u001b[0m\n",
      "\u001b[1;32m    510\u001b[0m trees \u001b[38;5;241m=\u001b[39m [\n",
      "\u001b[1;32m    511\u001b[0m     \u001b[38;5;28mself\u001b[39m\u001b[38;5;241m.\u001b[39m_make_estimator(append\u001b[38;5;241m=\u001b[39m\u001b[38;5;28;01mFalse\u001b[39;00m, random_state\u001b[38;5;241m=\u001b[39mrandom_state)\n",
      "\u001b[1;32m    512\u001b[0m     \u001b[38;5;28;01mfor\u001b[39;00m i \u001b[38;5;129;01min\u001b[39;00m \u001b[38;5;28mrange\u001b[39m(n_more_estimators)\n",
      "\u001b[1;32m    513\u001b[0m ]\n",
      "\u001b[1;32m    515\u001b[0m \u001b[38;5;66;03m# Parallel loop: we prefer the threading backend as the Cython code\u001b[39;00m\n",
      "\u001b[1;32m    516\u001b[0m \u001b[38;5;66;03m# for fitting the trees is internally releasing the Python GIL\u001b[39;00m\n",
      "\u001b[1;32m    517\u001b[0m \u001b[38;5;66;03m# making threading more efficient than multiprocessing in\u001b[39;00m\n",
      "\u001b[1;32m    518\u001b[0m \u001b[38;5;66;03m# that case. However, for joblib 0.12+ we respect any\u001b[39;00m\n",
      "\u001b[1;32m    519\u001b[0m \u001b[38;5;66;03m# parallel_backend contexts set at a higher level,\u001b[39;00m\n",
      "\u001b[1;32m    520\u001b[0m \u001b[38;5;66;03m# since correctness does not rely on using threads.\u001b[39;00m\n",
      "\u001b[0;32m--> 521\u001b[0m trees \u001b[38;5;241m=\u001b[39m \u001b[43mParallel\u001b[49m\u001b[43m(\u001b[49m\n",
      "\u001b[1;32m    522\u001b[0m \u001b[43m    \u001b[49m\u001b[43mn_jobs\u001b[49m\u001b[38;5;241;43m=\u001b[39;49m\u001b[38;5;28;43mself\u001b[39;49m\u001b[38;5;241;43m.\u001b[39;49m\u001b[43mn_jobs\u001b[49m\u001b[43m,\u001b[49m\n",
      "\u001b[1;32m    523\u001b[0m \u001b[43m    \u001b[49m\u001b[43mverbose\u001b[49m\u001b[38;5;241;43m=\u001b[39;49m\u001b[38;5;28;43mself\u001b[39;49m\u001b[38;5;241;43m.\u001b[39;49m\u001b[43mverbose\u001b[49m\u001b[43m,\u001b[49m\n",
      "\u001b[1;32m    524\u001b[0m \u001b[43m    \u001b[49m\u001b[43mprefer\u001b[49m\u001b[38;5;241;43m=\u001b[39;49m\u001b[38;5;124;43m\"\u001b[39;49m\u001b[38;5;124;43mthreads\u001b[39;49m\u001b[38;5;124;43m\"\u001b[39;49m\u001b[43m,\u001b[49m\n",
      "\u001b[1;32m    525\u001b[0m \u001b[43m\u001b[49m\u001b[43m)\u001b[49m\u001b[43m(\u001b[49m\n",
      "\u001b[1;32m    526\u001b[0m \u001b[43m    \u001b[49m\u001b[43mdelayed\u001b[49m\u001b[43m(\u001b[49m\u001b[43m_parallel_build_trees\u001b[49m\u001b[43m)\u001b[49m\u001b[43m(\u001b[49m\n",
      "\u001b[1;32m    527\u001b[0m \u001b[43m        \u001b[49m\u001b[43mt\u001b[49m\u001b[43m,\u001b[49m\n",
      "\u001b[1;32m    528\u001b[0m \u001b[43m        \u001b[49m\u001b[38;5;28;43mself\u001b[39;49m\u001b[38;5;241;43m.\u001b[39;49m\u001b[43mbootstrap\u001b[49m\u001b[43m,\u001b[49m\n",
      "\u001b[1;32m    529\u001b[0m \u001b[43m        \u001b[49m\u001b[43mX\u001b[49m\u001b[43m,\u001b[49m\n",
      "\u001b[1;32m    530\u001b[0m \u001b[43m        \u001b[49m\u001b[43my\u001b[49m\u001b[43m,\u001b[49m\n",
      "\u001b[1;32m    531\u001b[0m \u001b[43m        \u001b[49m\u001b[43msample_weight\u001b[49m\u001b[43m,\u001b[49m\n",
      "\u001b[1;32m    532\u001b[0m \u001b[43m        \u001b[49m\u001b[43mi\u001b[49m\u001b[43m,\u001b[49m\n",
      "\u001b[1;32m    533\u001b[0m \u001b[43m        \u001b[49m\u001b[38;5;28;43mlen\u001b[39;49m\u001b[43m(\u001b[49m\u001b[43mtrees\u001b[49m\u001b[43m)\u001b[49m\u001b[43m,\u001b[49m\n",
      "\u001b[1;32m    534\u001b[0m \u001b[43m        \u001b[49m\u001b[43mverbose\u001b[49m\u001b[38;5;241;43m=\u001b[39;49m\u001b[38;5;28;43mself\u001b[39;49m\u001b[38;5;241;43m.\u001b[39;49m\u001b[43mverbose\u001b[49m\u001b[43m,\u001b[49m\n",
      "\u001b[1;32m    535\u001b[0m \u001b[43m        \u001b[49m\u001b[43mclass_weight\u001b[49m\u001b[38;5;241;43m=\u001b[39;49m\u001b[38;5;28;43mself\u001b[39;49m\u001b[38;5;241;43m.\u001b[39;49m\u001b[43mclass_weight\u001b[49m\u001b[43m,\u001b[49m\n",
      "\u001b[1;32m    536\u001b[0m \u001b[43m        \u001b[49m\u001b[43mn_samples_bootstrap\u001b[49m\u001b[38;5;241;43m=\u001b[39;49m\u001b[43mn_samples_bootstrap\u001b[49m\u001b[43m,\u001b[49m\n",
      "\u001b[1;32m    537\u001b[0m \u001b[43m        \u001b[49m\u001b[38;5;66;43;03m### KF:\u001b[39;49;00m\n",
      "\u001b[1;32m    538\u001b[0m \u001b[43m        \u001b[49m\u001b[43mchol_eps\u001b[49m\u001b[38;5;241;43m=\u001b[39;49m\u001b[38;5;28;43mself\u001b[39;49m\u001b[38;5;241;43m.\u001b[39;49m\u001b[43mchol_eps\u001b[49m\u001b[43m,\u001b[49m\n",
      "\u001b[1;32m    539\u001b[0m \u001b[43m        \u001b[49m\u001b[43midx_tr\u001b[49m\u001b[38;5;241;43m=\u001b[39;49m\u001b[43midx_tr\u001b[49m\u001b[43m,\u001b[49m\n",
      "\u001b[1;32m    540\u001b[0m \u001b[43m        \u001b[49m\u001b[43mbootstrap_type\u001b[49m\u001b[38;5;241;43m=\u001b[39;49m\u001b[38;5;28;43mself\u001b[39;49m\u001b[38;5;241;43m.\u001b[39;49m\u001b[43mbootstrap_type\u001b[49m\u001b[43m,\u001b[49m\n",
      "\u001b[1;32m    541\u001b[0m \u001b[43m        \u001b[49m\u001b[38;5;66;43;03m###\u001b[39;49;00m\n",
      "\u001b[1;32m    542\u001b[0m \u001b[43m    \u001b[49m\u001b[43m)\u001b[49m\n",
      "\u001b[1;32m    543\u001b[0m \u001b[43m    \u001b[49m\u001b[38;5;28;43;01mfor\u001b[39;49;00m\u001b[43m \u001b[49m\u001b[43mi\u001b[49m\u001b[43m,\u001b[49m\u001b[43m \u001b[49m\u001b[43mt\u001b[49m\u001b[43m \u001b[49m\u001b[38;5;129;43;01min\u001b[39;49;00m\u001b[43m \u001b[49m\u001b[38;5;28;43menumerate\u001b[39;49m\u001b[43m(\u001b[49m\u001b[43mtrees\u001b[49m\u001b[43m)\u001b[49m\n",
      "\u001b[1;32m    544\u001b[0m \u001b[43m\u001b[49m\u001b[43m)\u001b[49m\n",
      "\u001b[1;32m    546\u001b[0m \u001b[38;5;66;03m### KF:\u001b[39;00m\n",
      "\u001b[1;32m    547\u001b[0m \u001b[38;5;28;01mif\u001b[39;00m \u001b[38;5;28mself\u001b[39m\u001b[38;5;241m.\u001b[39mbootstrap_type \u001b[38;5;241m==\u001b[39m \u001b[38;5;124m'\u001b[39m\u001b[38;5;124mblur\u001b[39m\u001b[38;5;124m'\u001b[39m:\n",
      "\n",
      "File \u001b[0;32m~/opt/anaconda3/envs/blur/lib/python3.8/site-packages/joblib/parallel.py:1046\u001b[0m, in \u001b[0;36mParallel.__call__\u001b[0;34m(self, iterable)\u001b[0m\n",
      "\u001b[1;32m   1043\u001b[0m \u001b[38;5;28;01mif\u001b[39;00m \u001b[38;5;28mself\u001b[39m\u001b[38;5;241m.\u001b[39mdispatch_one_batch(iterator):\n",
      "\u001b[1;32m   1044\u001b[0m     \u001b[38;5;28mself\u001b[39m\u001b[38;5;241m.\u001b[39m_iterating \u001b[38;5;241m=\u001b[39m \u001b[38;5;28mself\u001b[39m\u001b[38;5;241m.\u001b[39m_original_iterator \u001b[38;5;129;01mis\u001b[39;00m \u001b[38;5;129;01mnot\u001b[39;00m \u001b[38;5;28;01mNone\u001b[39;00m\n",
      "\u001b[0;32m-> 1046\u001b[0m \u001b[38;5;28;01mwhile\u001b[39;00m \u001b[38;5;28;43mself\u001b[39;49m\u001b[38;5;241;43m.\u001b[39;49m\u001b[43mdispatch_one_batch\u001b[49m\u001b[43m(\u001b[49m\u001b[43miterator\u001b[49m\u001b[43m)\u001b[49m:\n",
      "\u001b[1;32m   1047\u001b[0m     \u001b[38;5;28;01mpass\u001b[39;00m\n",
      "\u001b[1;32m   1049\u001b[0m \u001b[38;5;28;01mif\u001b[39;00m pre_dispatch \u001b[38;5;241m==\u001b[39m \u001b[38;5;124m\"\u001b[39m\u001b[38;5;124mall\u001b[39m\u001b[38;5;124m\"\u001b[39m \u001b[38;5;129;01mor\u001b[39;00m n_jobs \u001b[38;5;241m==\u001b[39m \u001b[38;5;241m1\u001b[39m:\n",
      "\u001b[1;32m   1050\u001b[0m     \u001b[38;5;66;03m# The iterable was consumed all at once by the above for loop.\u001b[39;00m\n",
      "\u001b[1;32m   1051\u001b[0m     \u001b[38;5;66;03m# No need to wait for async callbacks to trigger to\u001b[39;00m\n",
      "\u001b[1;32m   1052\u001b[0m     \u001b[38;5;66;03m# consumption.\u001b[39;00m\n",
      "\n",
      "File \u001b[0;32m~/opt/anaconda3/envs/blur/lib/python3.8/site-packages/joblib/parallel.py:861\u001b[0m, in \u001b[0;36mParallel.dispatch_one_batch\u001b[0;34m(self, iterator)\u001b[0m\n",
      "\u001b[1;32m    859\u001b[0m     \u001b[38;5;28;01mreturn\u001b[39;00m \u001b[38;5;28;01mFalse\u001b[39;00m\n",
      "\u001b[1;32m    860\u001b[0m \u001b[38;5;28;01melse\u001b[39;00m:\n",
      "\u001b[0;32m--> 861\u001b[0m     \u001b[38;5;28;43mself\u001b[39;49m\u001b[38;5;241;43m.\u001b[39;49m\u001b[43m_dispatch\u001b[49m\u001b[43m(\u001b[49m\u001b[43mtasks\u001b[49m\u001b[43m)\u001b[49m\n",
      "\u001b[1;32m    862\u001b[0m     \u001b[38;5;28;01mreturn\u001b[39;00m \u001b[38;5;28;01mTrue\u001b[39;00m\n",
      "\n",
      "File \u001b[0;32m~/opt/anaconda3/envs/blur/lib/python3.8/site-packages/joblib/parallel.py:779\u001b[0m, in \u001b[0;36mParallel._dispatch\u001b[0;34m(self, batch)\u001b[0m\n",
      "\u001b[1;32m    777\u001b[0m \u001b[38;5;28;01mwith\u001b[39;00m \u001b[38;5;28mself\u001b[39m\u001b[38;5;241m.\u001b[39m_lock:\n",
      "\u001b[1;32m    778\u001b[0m     job_idx \u001b[38;5;241m=\u001b[39m \u001b[38;5;28mlen\u001b[39m(\u001b[38;5;28mself\u001b[39m\u001b[38;5;241m.\u001b[39m_jobs)\n",
      "\u001b[0;32m--> 779\u001b[0m     job \u001b[38;5;241m=\u001b[39m \u001b[38;5;28;43mself\u001b[39;49m\u001b[38;5;241;43m.\u001b[39;49m\u001b[43m_backend\u001b[49m\u001b[38;5;241;43m.\u001b[39;49m\u001b[43mapply_async\u001b[49m\u001b[43m(\u001b[49m\u001b[43mbatch\u001b[49m\u001b[43m,\u001b[49m\u001b[43m \u001b[49m\u001b[43mcallback\u001b[49m\u001b[38;5;241;43m=\u001b[39;49m\u001b[43mcb\u001b[49m\u001b[43m)\u001b[49m\n",
      "\u001b[1;32m    780\u001b[0m     \u001b[38;5;66;03m# A job can complete so quickly than its callback is\u001b[39;00m\n",
      "\u001b[1;32m    781\u001b[0m     \u001b[38;5;66;03m# called before we get here, causing self._jobs to\u001b[39;00m\n",
      "\u001b[1;32m    782\u001b[0m     \u001b[38;5;66;03m# grow. To ensure correct results ordering, .insert is\u001b[39;00m\n",
      "\u001b[1;32m    783\u001b[0m     \u001b[38;5;66;03m# used (rather than .append) in the following line\u001b[39;00m\n",
      "\u001b[1;32m    784\u001b[0m     \u001b[38;5;28mself\u001b[39m\u001b[38;5;241m.\u001b[39m_jobs\u001b[38;5;241m.\u001b[39minsert(job_idx, job)\n",
      "\n",
      "File \u001b[0;32m~/opt/anaconda3/envs/blur/lib/python3.8/site-packages/joblib/_parallel_backends.py:208\u001b[0m, in \u001b[0;36mSequentialBackend.apply_async\u001b[0;34m(self, func, callback)\u001b[0m\n",
      "\u001b[1;32m    206\u001b[0m \u001b[38;5;28;01mdef\u001b[39;00m \u001b[38;5;21mapply_async\u001b[39m(\u001b[38;5;28mself\u001b[39m, func, callback\u001b[38;5;241m=\u001b[39m\u001b[38;5;28;01mNone\u001b[39;00m):\n",
      "\u001b[1;32m    207\u001b[0m     \u001b[38;5;124;03m\"\"\"Schedule a func to be run\"\"\"\u001b[39;00m\n",
      "\u001b[0;32m--> 208\u001b[0m     result \u001b[38;5;241m=\u001b[39m \u001b[43mImmediateResult\u001b[49m\u001b[43m(\u001b[49m\u001b[43mfunc\u001b[49m\u001b[43m)\u001b[49m\n",
      "\u001b[1;32m    209\u001b[0m     \u001b[38;5;28;01mif\u001b[39;00m callback:\n",
      "\u001b[1;32m    210\u001b[0m         callback(result)\n",
      "\n",
      "File \u001b[0;32m~/opt/anaconda3/envs/blur/lib/python3.8/site-packages/joblib/_parallel_backends.py:572\u001b[0m, in \u001b[0;36mImmediateResult.__init__\u001b[0;34m(self, batch)\u001b[0m\n",
      "\u001b[1;32m    569\u001b[0m \u001b[38;5;28;01mdef\u001b[39;00m \u001b[38;5;21m__init__\u001b[39m(\u001b[38;5;28mself\u001b[39m, batch):\n",
      "\u001b[1;32m    570\u001b[0m     \u001b[38;5;66;03m# Don't delay the application, to avoid keeping the input\u001b[39;00m\n",
      "\u001b[1;32m    571\u001b[0m     \u001b[38;5;66;03m# arguments in memory\u001b[39;00m\n",
      "\u001b[0;32m--> 572\u001b[0m     \u001b[38;5;28mself\u001b[39m\u001b[38;5;241m.\u001b[39mresults \u001b[38;5;241m=\u001b[39m \u001b[43mbatch\u001b[49m\u001b[43m(\u001b[49m\u001b[43m)\u001b[49m\n",
      "\n",
      "File \u001b[0;32m~/opt/anaconda3/envs/blur/lib/python3.8/site-packages/joblib/parallel.py:262\u001b[0m, in \u001b[0;36mBatchedCalls.__call__\u001b[0;34m(self)\u001b[0m\n",
      "\u001b[1;32m    258\u001b[0m \u001b[38;5;28;01mdef\u001b[39;00m \u001b[38;5;21m__call__\u001b[39m(\u001b[38;5;28mself\u001b[39m):\n",
      "\u001b[1;32m    259\u001b[0m     \u001b[38;5;66;03m# Set the default nested backend to self._backend but do not set the\u001b[39;00m\n",
      "\u001b[1;32m    260\u001b[0m     \u001b[38;5;66;03m# change the default number of processes to -1\u001b[39;00m\n",
      "\u001b[1;32m    261\u001b[0m     \u001b[38;5;28;01mwith\u001b[39;00m parallel_backend(\u001b[38;5;28mself\u001b[39m\u001b[38;5;241m.\u001b[39m_backend, n_jobs\u001b[38;5;241m=\u001b[39m\u001b[38;5;28mself\u001b[39m\u001b[38;5;241m.\u001b[39m_n_jobs):\n",
      "\u001b[0;32m--> 262\u001b[0m         \u001b[38;5;28;01mreturn\u001b[39;00m [func(\u001b[38;5;241m*\u001b[39margs, \u001b[38;5;241m*\u001b[39m\u001b[38;5;241m*\u001b[39mkwargs)\n",
      "\u001b[1;32m    263\u001b[0m                 \u001b[38;5;28;01mfor\u001b[39;00m func, args, kwargs \u001b[38;5;129;01min\u001b[39;00m \u001b[38;5;28mself\u001b[39m\u001b[38;5;241m.\u001b[39mitems]\n",
      "\n",
      "File \u001b[0;32m~/opt/anaconda3/envs/blur/lib/python3.8/site-packages/joblib/parallel.py:262\u001b[0m, in \u001b[0;36m<listcomp>\u001b[0;34m(.0)\u001b[0m\n",
      "\u001b[1;32m    258\u001b[0m \u001b[38;5;28;01mdef\u001b[39;00m \u001b[38;5;21m__call__\u001b[39m(\u001b[38;5;28mself\u001b[39m):\n",
      "\u001b[1;32m    259\u001b[0m     \u001b[38;5;66;03m# Set the default nested backend to self._backend but do not set the\u001b[39;00m\n",
      "\u001b[1;32m    260\u001b[0m     \u001b[38;5;66;03m# change the default number of processes to -1\u001b[39;00m\n",
      "\u001b[1;32m    261\u001b[0m     \u001b[38;5;28;01mwith\u001b[39;00m parallel_backend(\u001b[38;5;28mself\u001b[39m\u001b[38;5;241m.\u001b[39m_backend, n_jobs\u001b[38;5;241m=\u001b[39m\u001b[38;5;28mself\u001b[39m\u001b[38;5;241m.\u001b[39m_n_jobs):\n",
      "\u001b[0;32m--> 262\u001b[0m         \u001b[38;5;28;01mreturn\u001b[39;00m [\u001b[43mfunc\u001b[49m\u001b[43m(\u001b[49m\u001b[38;5;241;43m*\u001b[39;49m\u001b[43margs\u001b[49m\u001b[43m,\u001b[49m\u001b[43m \u001b[49m\u001b[38;5;241;43m*\u001b[39;49m\u001b[38;5;241;43m*\u001b[39;49m\u001b[43mkwargs\u001b[49m\u001b[43m)\u001b[49m\n",
      "\u001b[1;32m    263\u001b[0m                 \u001b[38;5;28;01mfor\u001b[39;00m func, args, kwargs \u001b[38;5;129;01min\u001b[39;00m \u001b[38;5;28mself\u001b[39m\u001b[38;5;241m.\u001b[39mitems]\n",
      "\n",
      "File \u001b[0;32m~/Documents/GitHub/scikit-learn/sklearn/utils/fixes.py:117\u001b[0m, in \u001b[0;36m_FuncWrapper.__call__\u001b[0;34m(self, *args, **kwargs)\u001b[0m\n",
      "\u001b[1;32m    115\u001b[0m \u001b[38;5;28;01mdef\u001b[39;00m \u001b[38;5;21m__call__\u001b[39m(\u001b[38;5;28mself\u001b[39m, \u001b[38;5;241m*\u001b[39margs, \u001b[38;5;241m*\u001b[39m\u001b[38;5;241m*\u001b[39mkwargs):\n",
      "\u001b[1;32m    116\u001b[0m     \u001b[38;5;28;01mwith\u001b[39;00m config_context(\u001b[38;5;241m*\u001b[39m\u001b[38;5;241m*\u001b[39m\u001b[38;5;28mself\u001b[39m\u001b[38;5;241m.\u001b[39mconfig):\n",
      "\u001b[0;32m--> 117\u001b[0m         \u001b[38;5;28;01mreturn\u001b[39;00m \u001b[38;5;28;43mself\u001b[39;49m\u001b[38;5;241;43m.\u001b[39;49m\u001b[43mfunction\u001b[49m\u001b[43m(\u001b[49m\u001b[38;5;241;43m*\u001b[39;49m\u001b[43margs\u001b[49m\u001b[43m,\u001b[49m\u001b[43m \u001b[49m\u001b[38;5;241;43m*\u001b[39;49m\u001b[38;5;241;43m*\u001b[39;49m\u001b[43mkwargs\u001b[49m\u001b[43m)\u001b[49m\n",
      "\n",
      "File \u001b[0;32m~/Documents/GitHub/scikit-learn/sklearn/ensemble/_forest.py:220\u001b[0m, in \u001b[0;36m_parallel_build_trees\u001b[0;34m(tree, bootstrap, X, y, sample_weight, tree_idx, n_trees, verbose, class_weight, n_samples_bootstrap, chol_eps, idx_tr, bootstrap_type)\u001b[0m\n",
      "\u001b[1;32m    217\u001b[0m     \u001b[38;5;28;01melif\u001b[39;00m class_weight \u001b[38;5;241m==\u001b[39m \u001b[38;5;124m\"\u001b[39m\u001b[38;5;124mbalanced_subsample\u001b[39m\u001b[38;5;124m\"\u001b[39m:\n",
      "\u001b[1;32m    218\u001b[0m         curr_sample_weight \u001b[38;5;241m*\u001b[39m\u001b[38;5;241m=\u001b[39m compute_sample_weight(\u001b[38;5;124m\"\u001b[39m\u001b[38;5;124mbalanced\u001b[39m\u001b[38;5;124m\"\u001b[39m, y, indices\u001b[38;5;241m=\u001b[39mindices)\n",
      "\u001b[0;32m--> 220\u001b[0m     \u001b[43mtree\u001b[49m\u001b[38;5;241;43m.\u001b[39;49m\u001b[43mfit\u001b[49m\u001b[43m(\u001b[49m\u001b[43mX\u001b[49m\u001b[43m,\u001b[49m\u001b[43m \u001b[49m\u001b[43my\u001b[49m\u001b[43m,\u001b[49m\u001b[43m \u001b[49m\u001b[43msample_weight\u001b[49m\u001b[38;5;241;43m=\u001b[39;49m\u001b[43mcurr_sample_weight\u001b[49m\u001b[43m,\u001b[49m\u001b[43m \u001b[49m\u001b[43mcheck_input\u001b[49m\u001b[38;5;241;43m=\u001b[39;49m\u001b[38;5;28;43;01mFalse\u001b[39;49;00m\u001b[43m)\u001b[49m\n",
      "\u001b[1;32m    222\u001b[0m     \u001b[38;5;28;01mreturn\u001b[39;00m tree\n",
      "\u001b[1;32m    223\u001b[0m \u001b[38;5;28;01melse\u001b[39;00m:\n",
      "\n",
      "File \u001b[0;32m~/Documents/GitHub/scikit-learn/sklearn/tree/_classes.py:1342\u001b[0m, in \u001b[0;36mDecisionTreeRegressor.fit\u001b[0;34m(self, X, y, sample_weight, check_input)\u001b[0m\n",
      "\u001b[1;32m   1313\u001b[0m \u001b[38;5;28;01mdef\u001b[39;00m \u001b[38;5;21mfit\u001b[39m(\u001b[38;5;28mself\u001b[39m, X, y, sample_weight\u001b[38;5;241m=\u001b[39m\u001b[38;5;28;01mNone\u001b[39;00m, check_input\u001b[38;5;241m=\u001b[39m\u001b[38;5;28;01mTrue\u001b[39;00m):\n",
      "\u001b[1;32m   1314\u001b[0m     \u001b[38;5;124;03m\"\"\"Build a decision tree regressor from the training set (X, y).\u001b[39;00m\n",
      "\u001b[1;32m   1315\u001b[0m \n",
      "\u001b[1;32m   1316\u001b[0m \u001b[38;5;124;03m    Parameters\u001b[39;00m\n",
      "\u001b[0;32m   (...)\u001b[0m\n",
      "\u001b[1;32m   1339\u001b[0m \u001b[38;5;124;03m        Fitted estimator.\u001b[39;00m\n",
      "\u001b[1;32m   1340\u001b[0m \u001b[38;5;124;03m    \"\"\"\u001b[39;00m\n",
      "\u001b[0;32m-> 1342\u001b[0m     \u001b[38;5;28;43msuper\u001b[39;49m\u001b[43m(\u001b[49m\u001b[43m)\u001b[49m\u001b[38;5;241;43m.\u001b[39;49m\u001b[43mfit\u001b[49m\u001b[43m(\u001b[49m\n",
      "\u001b[1;32m   1343\u001b[0m \u001b[43m        \u001b[49m\u001b[43mX\u001b[49m\u001b[43m,\u001b[49m\n",
      "\u001b[1;32m   1344\u001b[0m \u001b[43m        \u001b[49m\u001b[43my\u001b[49m\u001b[43m,\u001b[49m\n",
      "\u001b[1;32m   1345\u001b[0m \u001b[43m        \u001b[49m\u001b[43msample_weight\u001b[49m\u001b[38;5;241;43m=\u001b[39;49m\u001b[43msample_weight\u001b[49m\u001b[43m,\u001b[49m\n",
      "\u001b[1;32m   1346\u001b[0m \u001b[43m        \u001b[49m\u001b[43mcheck_input\u001b[49m\u001b[38;5;241;43m=\u001b[39;49m\u001b[43mcheck_input\u001b[49m\u001b[43m,\u001b[49m\n",
      "\u001b[1;32m   1347\u001b[0m \u001b[43m    \u001b[49m\u001b[43m)\u001b[49m\n",
      "\u001b[1;32m   1348\u001b[0m     \u001b[38;5;28;01mreturn\u001b[39;00m \u001b[38;5;28mself\u001b[39m\n",
      "\n",
      "File \u001b[0;32m~/Documents/GitHub/scikit-learn/sklearn/tree/_classes.py:458\u001b[0m, in \u001b[0;36mBaseDecisionTree.fit\u001b[0;34m(self, X, y, sample_weight, check_input)\u001b[0m\n",
      "\u001b[1;32m    447\u001b[0m \u001b[38;5;28;01melse\u001b[39;00m:\n",
      "\u001b[1;32m    448\u001b[0m     builder \u001b[38;5;241m=\u001b[39m BestFirstTreeBuilder(\n",
      "\u001b[1;32m    449\u001b[0m         splitter,\n",
      "\u001b[1;32m    450\u001b[0m         min_samples_split,\n",
      "\u001b[0;32m   (...)\u001b[0m\n",
      "\u001b[1;32m    455\u001b[0m         \u001b[38;5;28mself\u001b[39m\u001b[38;5;241m.\u001b[39mmin_impurity_decrease,\n",
      "\u001b[1;32m    456\u001b[0m     )\n",
      "\u001b[0;32m--> 458\u001b[0m \u001b[43mbuilder\u001b[49m\u001b[38;5;241;43m.\u001b[39;49m\u001b[43mbuild\u001b[49m\u001b[43m(\u001b[49m\u001b[38;5;28;43mself\u001b[39;49m\u001b[38;5;241;43m.\u001b[39;49m\u001b[43mtree_\u001b[49m\u001b[43m,\u001b[49m\u001b[43m \u001b[49m\u001b[43mX\u001b[49m\u001b[43m,\u001b[49m\u001b[43m \u001b[49m\u001b[43my\u001b[49m\u001b[43m,\u001b[49m\u001b[43m \u001b[49m\u001b[43msample_weight\u001b[49m\u001b[43m)\u001b[49m\n",
      "\u001b[1;32m    460\u001b[0m \u001b[38;5;28;01mif\u001b[39;00m \u001b[38;5;28mself\u001b[39m\u001b[38;5;241m.\u001b[39mn_outputs_ \u001b[38;5;241m==\u001b[39m \u001b[38;5;241m1\u001b[39m \u001b[38;5;129;01mand\u001b[39;00m is_classifier(\u001b[38;5;28mself\u001b[39m):\n",
      "\u001b[1;32m    461\u001b[0m     \u001b[38;5;28mself\u001b[39m\u001b[38;5;241m.\u001b[39mn_classes_ \u001b[38;5;241m=\u001b[39m \u001b[38;5;28mself\u001b[39m\u001b[38;5;241m.\u001b[39mn_classes_[\u001b[38;5;241m0\u001b[39m]\n",
      "\n",
      "\u001b[0;31mKeyboardInterrupt\u001b[0m: \n",
      "KeyboardInterrupt: \n",
      "\n"
     ]
    },
    {
     "data": {
      "application/vnd.jupyter.widget-view+json": {
       "model_id": "bfe4176626f14fa38b8c190db17a717d",
       "version_major": 2,
       "version_minor": 0
      },
      "text/plain": [
       "Executing:   0%|          | 0/19 [00:00<?, ?cell/s]"
      ]
     },
     "metadata": {},
     "output_type": "display_data"
    }
   ],
   "source": [
    "rf_dict = {\n",
    "    'niter': [50],\n",
    "    'n': [900],\n",
    "    'p': [30],\n",
    "    's': [30],\n",
    "    'snr': [0.4],\n",
    "    'n_estimators': [100],\n",
    "    'max_depth': [6],\n",
    "    'delta':[0.8],\n",
    "    'noise_kernel': ['matern'],\n",
    "    'noise_length_scale':[1.],\n",
    "    'noise_nu':[0.5, 2.5],\n",
    "    'X_kernel': ['matern'],\n",
    "    'X_length_scale':[1.],\n",
    "    'X_nu':[0.5, 2.5],\n",
    "}\n",
    "\n",
    "params = product_dict(**rf_dict)\n",
    "indir, inputfp = get_inputfp('RFBF', 'RFBF_comps')\n",
    "run_nbs(indir, inputfp, params)"
   ]
  },
  {
   "cell_type": "markdown",
   "metadata": {},
   "source": [
    "# Compare BF: OLS vs GLS"
   ]
  },
  {
   "cell_type": "code",
   "execution_count": null,
   "metadata": {},
   "outputs": [],
   "source": []
  }
 ],
 "metadata": {
  "kernelspec": {
   "display_name": "blur",
   "language": "python",
   "name": "blur"
  },
  "language_info": {
   "codemirror_mode": {
    "name": "ipython",
    "version": 3
   },
   "file_extension": ".py",
   "mimetype": "text/x-python",
   "name": "python",
   "nbconvert_exporter": "python",
   "pygments_lexer": "ipython3",
   "version": "3.8.13"
  }
 },
 "nbformat": 4,
 "nbformat_minor": 4
}
