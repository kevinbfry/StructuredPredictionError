{
 "cells": [
  {
   "cell_type": "code",
   "execution_count": 1,
   "metadata": {},
   "outputs": [],
   "source": [
    "import numpy as np\n",
    "import pandas as pd\n",
    "from sklearn.linear_model import Lasso, LinearRegression\n",
    "from sklearn.cluster import KMeans\n",
    "from sklearn.gaussian_process.kernels import Matern, RBF\n",
    "from sklearn.ensemble import RandomForestRegressor\n",
    "\n",
    "import plotly.express as px\n",
    "\n",
    "import plotly.graph_objects as go\n",
    "\n",
    "from scipy.linalg import toeplitz, block_diag\n",
    "\n",
    "from spe.mse_estimator import ErrorComparer\n",
    "from spe.data_generation import gen_rbf_X, gen_matern_X, create_clus_split, gen_cov_mat\n",
    "from spe.forest import BlurredForest\n",
    "from spe.estimators import kfoldcv, kmeanscv, better_test_est_split, cp_rf_train_test, cp_general_train_test, bag_kfoldcv, bag_kmeanscv\n",
    "\n",
    "import os"
   ]
  },
  {
   "cell_type": "code",
   "execution_count": 2,
   "metadata": {
    "tags": [
     "parameters"
    ]
   },
   "outputs": [],
   "source": [
    "niter = 50\n",
    "\n",
    "n=30**2\n",
    "p=30\n",
    "s=30\n",
    "\n",
    "delta = 0.\n",
    "\n",
    "n_estimators = 100\n",
    "max_depth = 6\n",
    "\n",
    "snr = 0.4\n",
    "\n",
    "noise_kernel = 'matern'\n",
    "noise_length_scale = 1.\n",
    "noise_nu = 0.5\n",
    "\n",
    "X_kernel = 'matern'\n",
    "X_length_scale = 1.\n",
    "X_nu = 0.5\n",
    "\n",
    "idx = -1\n",
    "\n",
    "savedir='~'"
   ]
  },
  {
   "cell_type": "code",
   "execution_count": 3,
   "metadata": {},
   "outputs": [],
   "source": [
    "# noise_kernel = kernel\n",
    "# X_kernel = kernel\n",
    "\n",
    "# noise_length_scale = length_scale\n",
    "# X_length_scale = length_scale\n",
    "\n",
    "# noise_nu = nu\n",
    "# X_nu = nu"
   ]
  },
  {
   "cell_type": "code",
   "execution_count": 5,
   "metadata": {},
   "outputs": [],
   "source": [
    "if not os.path.exists(os.path.expanduser(savedir)):\n",
    "    os.makedirs(os.path.expanduser(savedir))\n",
    "\n",
    "params = pd.DataFrame({'niter': niter,\n",
    "                       'n': n, \n",
    "                       'p': p, \n",
    "                       's': s,\n",
    "                       'snr': snr,\n",
    "                       'n_estimators': n_estimators,\n",
    "                       'max_depth': max_depth,\n",
    "                       'delta': delta,\n",
    "                       'nk': noise_kernel, \n",
    "                       'nls': noise_length_scale, \n",
    "                       'nn': noise_nu, \n",
    "                       'xk': X_kernel,\n",
    "                       'xls': X_length_scale,\n",
    "                       'xn': X_nu}, index=[idx])\n",
    "params.to_csv(os.path.expanduser(savedir + 'params.csv'))\n",
    "dffp = os.path.expanduser(savedir + \"err_df.csv\")\n",
    "# barfp = os.path.expanduser(savedir + 'barchart.jpeg')"
   ]
  },
  {
   "cell_type": "code",
   "execution_count": 6,
   "metadata": {},
   "outputs": [],
   "source": [
    "err_cmp = ErrorComparer()"
   ]
  },
  {
   "cell_type": "code",
   "execution_count": 7,
   "metadata": {},
   "outputs": [],
   "source": [
    "nx = ny = int(np.sqrt(n))\n",
    "xs = np.linspace(0, 10, nx)\n",
    "ys = np.linspace(0, 10, ny)\n",
    "c_x, c_y = np.meshgrid(xs, ys)\n",
    "c_x = c_x.flatten()\n",
    "c_y = c_y.flatten()\n",
    "coord = np.stack([c_x, c_y]).T"
   ]
  },
  {
   "cell_type": "code",
   "execution_count": 8,
   "metadata": {},
   "outputs": [],
   "source": [
    "if noise_kernel == 'rbf':\n",
    "    Sigma_t = gen_cov_mat(c_x, c_y, RBF(length_scale=noise_length_scale))\n",
    "elif noise_kernel == 'matern':\n",
    "    Sigma_t = gen_cov_mat(c_x, c_y, Matern(length_scale=noise_length_scale, nu=noise_nu))\n",
    "else:\n",
    "    Sigma_t = np.eye(n)\n",
    "    \n",
    "Sigma_t = delta*Sigma_t + (1-delta)*np.eye(n)\n",
    "\n",
    "if noise_kernel == 'rbf' or noise_kernel == 'matern':\n",
    "    Chol_t = np.linalg.cholesky(Sigma_t)\n",
    "else:\n",
    "    Chol_t = np.eye(n)"
   ]
  },
  {
   "cell_type": "code",
   "execution_count": 4,
   "metadata": {},
   "outputs": [],
   "source": [
    "models = [RandomForestRegressor(n_estimators=n_estimators,\n",
    "                                max_depth=max_depth),\n",
    "          BlurredForest(n_estimators=n_estimators,  \n",
    "                        max_depth=max_depth, \n",
    "                        bootstrap_type=None),\n",
    "          BlurredForest(n_estimators=n_estimators,  \n",
    "                        max_depth=max_depth, \n",
    "                        bootstrap_type='blur'),\n",
    "          BlurredForest(n_estimators=n_estimators,  \n",
    "                        max_depth=max_depth, \n",
    "                        bootstrap_type='blur'),\n",
    "          BlurredForest(n_estimators=n_estimators,  \n",
    "                        max_depth=max_depth, \n",
    "                        bootstrap_type='blur')]\n",
    "\n",
    "ests = [better_test_est_split,\n",
    "        better_test_est_split,\n",
    "        better_test_est_split,\n",
    "        better_test_est_split,\n",
    "        better_test_est_split]\n",
    "\n",
    "est_kwargs = [{'alpha':None},\n",
    "              {'full_refit': True},\n",
    "              {'full_refit':False,\n",
    "               'chol_eps': Chol_t},\n",
    "              {'full_refit':True,\n",
    "               'chol_eps': Chol_t},\n",
    "              {'full_refit':True,\n",
    "               'chol_eps': np.eye(n)}]"
   ]
  },
  {
   "cell_type": "code",
   "execution_count": 9,
   "metadata": {},
   "outputs": [],
   "source": [
    "if X_kernel == 'rbf':\n",
    "    X = gen_rbf_X(c_x, c_y, p)\n",
    "elif X_kernel == 'matern':\n",
    "    X = gen_matern_X(c_x, c_y, p, length_scale=X_length_scale, nu=X_nu)\n",
    "else:\n",
    "    X = np.random.randn(n,p)\n",
    "\n",
    "beta = np.zeros(p)\n",
    "idx = np.random.choice(p,size=s)\n",
    "beta[idx] = np.random.uniform(-1,1,size=s)"
   ]
  },
  {
   "cell_type": "code",
   "execution_count": 10,
   "metadata": {},
   "outputs": [
    {
     "name": "stdout",
     "output_type": "stream",
     "text": [
      "0\n",
      "0.5833333333333334\n",
      "Chol_t [[ 5.25154607  0.          0.         ...  0.          0.\n",
      "   0.        ]\n",
      " [ 0.          5.25154607  0.         ...  0.          0.\n",
      "   0.        ]\n",
      " [ 0.          0.          5.25154607 ...  0.          0.\n",
      "   0.        ]\n",
      " ...\n",
      " [ 0.          0.          0.         ...  5.25154607  0.\n",
      "   0.        ]\n",
      " [ 0.          0.          0.         ... -0.          5.25154607\n",
      "   0.        ]\n",
      " [ 0.          0.          0.         ... -0.         -0.\n",
      "   5.25154607]]\n",
      "Chol_t [[ 5.25154607  0.          0.         ...  0.          0.\n",
      "   0.        ]\n",
      " [ 0.          5.25154607  0.         ...  0.          0.\n",
      "   0.        ]\n",
      " [ 0.          0.          5.25154607 ...  0.          0.\n",
      "   0.        ]\n",
      " ...\n",
      " [ 0.          0.          0.         ...  5.25154607  0.\n",
      "   0.        ]\n",
      " [ 0.          0.          0.         ... -0.          5.25154607\n",
      "   0.        ]\n",
      " [ 0.          0.          0.         ... -0.         -0.\n",
      "   5.25154607]]\n",
      "Chol_t [[ 5.25154607  0.          0.         ...  0.          0.\n",
      "   0.        ]\n",
      " [ 0.          5.25154607  0.         ...  0.          0.\n",
      "   0.        ]\n",
      " [ 0.          0.          5.25154607 ...  0.          0.\n",
      "   0.        ]\n",
      " ...\n",
      " [ 0.          0.          0.         ...  5.25154607  0.\n",
      "   0.        ]\n",
      " [ 0.          0.          0.         ... -0.          5.25154607\n",
      "   0.        ]\n",
      " [ 0.          0.          0.         ... -0.         -0.\n",
      "   5.25154607]]\n",
      "Chol_t [[ 5.25154607  0.          0.         ...  0.          0.\n",
      "   0.        ]\n",
      " [ 0.          5.25154607  0.         ...  0.          0.\n",
      "   0.        ]\n",
      " [ 0.          0.          5.25154607 ...  0.          0.\n",
      "   0.        ]\n",
      " ...\n",
      " [ 0.          0.          0.         ...  5.25154607  0.\n",
      "   0.        ]\n",
      " [ 0.          0.          0.         ... -0.          5.25154607\n",
      "   0.        ]\n",
      " [ 0.          0.          0.         ... -0.         -0.\n",
      "   5.25154607]]\n",
      "Chol_t [[ 5.25154607  0.          0.         ...  0.          0.\n",
      "   0.        ]\n",
      " [ 0.          5.25154607  0.         ...  0.          0.\n",
      "   0.        ]\n",
      " [ 0.          0.          5.25154607 ...  0.          0.\n",
      "   0.        ]\n",
      " ...\n",
      " [ 0.          0.          0.         ...  5.25154607  0.\n",
      "   0.        ]\n",
      " [ 0.          0.          0.         ... -0.          5.25154607\n",
      "   0.        ]\n",
      " [ 0.          0.          0.         ... -0.         -0.\n",
      "   5.25154607]]\n",
      "Chol_t [[ 5.25154607  0.          0.         ...  0.          0.\n",
      "   0.        ]\n",
      " [ 0.          5.25154607  0.         ...  0.          0.\n",
      "   0.        ]\n",
      " [ 0.          0.          5.25154607 ...  0.          0.\n",
      "   0.        ]\n",
      " ...\n",
      " [ 0.          0.          0.         ...  5.25154607  0.\n",
      "   0.        ]\n",
      " [ 0.          0.          0.         ... -0.          5.25154607\n",
      "   0.        ]\n",
      " [ 0.          0.          0.         ... -0.         -0.\n",
      "   5.25154607]]\n"
     ]
    },
    {
     "ename": "KeyboardInterrupt",
     "evalue": "",
     "output_type": "error",
     "traceback": [
      "\u001b[0;31m---------------------------------------------------------------------------\u001b[0m",
      "\u001b[0;31mKeyboardInterrupt\u001b[0m                         Traceback (most recent call last)",
      "Input \u001b[0;32mIn [10]\u001b[0m, in \u001b[0;36m<cell line: 4>\u001b[0;34m()\u001b[0m\n\u001b[1;32m      1\u001b[0m (vrf_err,\n\u001b[1;32m      2\u001b[0m  rff_err,\n\u001b[1;32m      3\u001b[0m  bfw_err,\n\u001b[0;32m----> 4\u001b[0m  bff_err) \u001b[38;5;241m=\u001b[39m \u001b[43merr_cmp\u001b[49m\u001b[38;5;241;43m.\u001b[39;49m\u001b[43mcompare\u001b[49m\u001b[43m(\u001b[49m\u001b[43mmodels\u001b[49m\u001b[43m,\u001b[49m\n\u001b[1;32m      5\u001b[0m \u001b[43m                             \u001b[49m\u001b[43mests\u001b[49m\u001b[43m,\u001b[49m\n\u001b[1;32m      6\u001b[0m \u001b[43m                             \u001b[49m\u001b[43mest_kwargs\u001b[49m\u001b[43m,\u001b[49m\n\u001b[1;32m      7\u001b[0m \u001b[43m                             \u001b[49m\u001b[43mniter\u001b[49m\u001b[38;5;241;43m=\u001b[39;49m\u001b[43mniter\u001b[49m\u001b[43m,\u001b[49m\n\u001b[1;32m      8\u001b[0m \u001b[43m                             \u001b[49m\u001b[43mn\u001b[49m\u001b[38;5;241;43m=\u001b[39;49m\u001b[43mn\u001b[49m\u001b[43m,\u001b[49m\n\u001b[1;32m      9\u001b[0m \u001b[43m                             \u001b[49m\u001b[43mp\u001b[49m\u001b[38;5;241;43m=\u001b[39;49m\u001b[43mp\u001b[49m\u001b[43m,\u001b[49m\n\u001b[1;32m     10\u001b[0m \u001b[43m                             \u001b[49m\u001b[43ms\u001b[49m\u001b[38;5;241;43m=\u001b[39;49m\u001b[43mp\u001b[49m\u001b[43m,\u001b[49m\n\u001b[1;32m     11\u001b[0m \u001b[43m                             \u001b[49m\u001b[43msnr\u001b[49m\u001b[38;5;241;43m=\u001b[39;49m\u001b[43msnr\u001b[49m\u001b[43m,\u001b[49m\u001b[43m \u001b[49m\n\u001b[1;32m     12\u001b[0m \u001b[43m                             \u001b[49m\u001b[43mX\u001b[49m\u001b[38;5;241;43m=\u001b[39;49m\u001b[43mX\u001b[49m\u001b[43m,\u001b[49m\n\u001b[1;32m     13\u001b[0m \u001b[43m                             \u001b[49m\u001b[43mbeta\u001b[49m\u001b[38;5;241;43m=\u001b[39;49m\u001b[43mbeta\u001b[49m\u001b[43m,\u001b[49m\n\u001b[1;32m     14\u001b[0m \u001b[43m                             \u001b[49m\u001b[43mcoord\u001b[49m\u001b[38;5;241;43m=\u001b[39;49m\u001b[43mcoord\u001b[49m\u001b[43m,\u001b[49m\n\u001b[1;32m     15\u001b[0m \u001b[43m                             \u001b[49m\u001b[43mChol_t\u001b[49m\u001b[38;5;241;43m=\u001b[39;49m\u001b[43mChol_t\u001b[49m\u001b[43m,\u001b[49m\n\u001b[1;32m     16\u001b[0m \u001b[43m                             \u001b[49m\u001b[43mChol_s\u001b[49m\u001b[38;5;241;43m=\u001b[39;49m\u001b[38;5;28;43;01mNone\u001b[39;49;00m\u001b[43m,\u001b[49m\n\u001b[1;32m     17\u001b[0m \u001b[43m                             \u001b[49m\u001b[43mtr_idx\u001b[49m\u001b[38;5;241;43m=\u001b[39;49m\u001b[38;5;28;43;01mNone\u001b[39;49;00m\u001b[43m,\u001b[49m\n\u001b[1;32m     18\u001b[0m \u001b[43m                             \u001b[49m\u001b[43mfair\u001b[49m\u001b[38;5;241;43m=\u001b[39;49m\u001b[38;5;28;43;01mFalse\u001b[39;49;00m\u001b[43m,\u001b[49m\n\u001b[1;32m     19\u001b[0m \u001b[43m                             \u001b[49m\u001b[43m)\u001b[49m\n",
      "File \u001b[0;32m~/Documents/GitHub/StructuredPredictionError/spe/mse_estimator.py:233\u001b[0m, in \u001b[0;36mErrorComparer.compare\u001b[0;34m(self, models, ests, est_kwargs, niter, n, p, s, snr, X, beta, coord, Chol_t, Chol_s, Cov_st, delta, tr_idx, fair, tr_frac, **kwargs)\u001b[0m\n\u001b[1;32m    230\u001b[0m \t\u001b[38;5;66;03m# print(ests)\u001b[39;00m\n\u001b[1;32m    231\u001b[0m \t\u001b[38;5;66;03m# print([e.keys() for e in est_kwargs])\u001b[39;00m\n\u001b[1;32m    232\u001b[0m \t\u001b[38;5;28;01mfor\u001b[39;00m err, est, est_kwarg \u001b[38;5;129;01min\u001b[39;00m \u001b[38;5;28mzip\u001b[39m(errs, ests, est_kwargs):\n\u001b[0;32m--> 233\u001b[0m \t\terr[i] \u001b[38;5;241m=\u001b[39m \u001b[43mest\u001b[49m\u001b[43m(\u001b[49m\u001b[38;5;241;43m*\u001b[39;49m\u001b[38;5;241;43m*\u001b[39;49m\u001b[43mest_kwarg\u001b[49m\u001b[43m)\u001b[49m\n\u001b[1;32m    235\u001b[0m \u001b[38;5;28;01mreturn\u001b[39;00m errs\n",
      "File \u001b[0;32m~/Documents/GitHub/StructuredPredictionError/spe/estimators.py:166\u001b[0m, in \u001b[0;36mbetter_test_est_split\u001b[0;34m(model, X, y, y2, tr_idx, full_refit, alpha, Chol_t, **kwargs)\u001b[0m\n\u001b[1;32m    164\u001b[0m \t\tpreds \u001b[38;5;241m=\u001b[39m P \u001b[38;5;241m@\u001b[39m y_tr\n\u001b[1;32m    165\u001b[0m \t\u001b[38;5;28;01melse\u001b[39;00m:\n\u001b[0;32m--> 166\u001b[0m \t\tpreds \u001b[38;5;241m=\u001b[39m \u001b[43mmodel\u001b[49m\u001b[38;5;241;43m.\u001b[39;49m\u001b[43mpredict\u001b[49m\u001b[43m(\u001b[49m\u001b[43mX_ts\u001b[49m\u001b[43m,\u001b[49m\u001b[43m \u001b[49m\u001b[43mfull_refit\u001b[49m\u001b[38;5;241;43m=\u001b[39;49m\u001b[43mfull_refit\u001b[49m\u001b[43m)\u001b[49m\n\u001b[1;32m    167\u001b[0m \t\u001b[38;5;66;03m# preds = model.predict(X_ts, full_refit=full_refit, chol=chol)\u001b[39;00m\n\u001b[1;32m    168\u001b[0m \u001b[38;5;28;01melse\u001b[39;00m:\n\u001b[1;32m    169\u001b[0m \tpreds \u001b[38;5;241m=\u001b[39m model\u001b[38;5;241m.\u001b[39mpredict(X_ts)\n",
      "\u001b[0;31mKeyboardInterrupt\u001b[0m: "
     ]
    }
   ],
   "source": [
    "(vrf_err,\n",
    " rff_err,\n",
    " bfw_err,\n",
    " bff_err,\n",
    " bfi_err) = err_cmp.compare(models,\n",
    "                             ests,\n",
    "                             est_kwargs,\n",
    "                             niter=niter,\n",
    "                             n=n,\n",
    "                             p=p,\n",
    "                             s=p,\n",
    "                             snr=snr, \n",
    "                             X=X,\n",
    "                             beta=beta,\n",
    "                             coord=coord,\n",
    "                             Chol_t=Chol_t,\n",
    "                             Chol_s=None,\n",
    "                             tr_idx=None,\n",
    "                             fair=False,\n",
    "                             )"
   ]
  },
  {
   "cell_type": "code",
   "execution_count": null,
   "metadata": {},
   "outputs": [],
   "source": [
    "risk_vrf = vrf_err.mean()\n",
    "risk_rff = rff_err.mean()\n",
    "risk_bfw = bfw_err.mean()\n",
    "risk_bff = bff_err.mean()\n",
    "risk_bfi = bfi_err.mean()"
   ]
  },
  {
   "cell_type": "code",
   "execution_count": null,
   "metadata": {},
   "outputs": [],
   "source": [
    "save_df = pd.DataFrame({'VRF': (vrf_err.T),\n",
    "                        'RF_FR': (rff_err.T),\n",
    "                        'BF_WR': (bfw_err.T),\n",
    "                        'BF_FR': (bff_err.T),\n",
    "                        'BFI_FR': (bfi_err.T)})\n",
    "save_df.to_csv(dffp)"
   ]
  },
  {
   "cell_type": "code",
   "execution_count": null,
   "metadata": {},
   "outputs": [],
   "source": [
    "df = pd.DataFrame({'VRF': (vrf_err.T),\n",
    "                   'RF_FR': (rff_err.T),\n",
    "                   'BF_WR': (bfw_err.T),\n",
    "                   'BF_FR': (bff_err.T),\n",
    "                   'BFI_FR': (bfi_err.T)})"
   ]
  },
  {
   "cell_type": "code",
   "execution_count": null,
   "metadata": {},
   "outputs": [],
   "source": [
    "(df).mean()"
   ]
  },
  {
   "cell_type": "code",
   "execution_count": null,
   "metadata": {},
   "outputs": [],
   "source": [
    "df.var()"
   ]
  },
  {
   "cell_type": "code",
   "execution_count": null,
   "metadata": {},
   "outputs": [],
   "source": [
    "fig = go.Figure()\n",
    "fig.add_trace(go.Bar(\n",
    "    name='Control',\n",
    "    x=['VRF', 'RF_FR', 'BF_WR', 'BF_FR', 'BFI_FR'], y=(df).mean(),\n",
    "    marker_color=px.colors.qualitative.Plotly,\n",
    "    text=np.around((df).mean(),3),\n",
    "    textposition='outside',\n",
    "    error_y=dict(\n",
    "        type='data',\n",
    "        color='black',\n",
    "        symmetric=False,\n",
    "        array=(df).quantile(.75) - (df).mean(),\n",
    "        arrayminus=(df).mean() - (df).quantile(.25))\n",
    "#         array=(df).mean() + (df).std(),\n",
    "#         arrayminus=(df).mean() - (df).std())\n",
    "))\n",
    "# fig.add_trace(go.Bar(\n",
    "#     name='Experimental',\n",
    "#     x=['GenCp', 'KFCV', 'SPCV'], y=(df).mean(),\n",
    "#     error_y=dict(type='data', array=[1, 2])\n",
    "# ))\n",
    "# fig.update_layout(barmode='group')\n",
    "# fig.add_hline(y=1., line_color='red')\n",
    "fig.update_layout(\n",
    "    title=f\"FC_\\u03B4{delta}_snr{snr}_nk{noise_kernel}_nls{noise_length_scale}_nv{noise_nu}_Xk{X_kernel}_Xls{X_length_scale}_Xv{X_nu}\",\n",
    "    xaxis_title=\"Method\",\n",
    "    yaxis_title=\"MSE\",\n",
    "#     legend_title=\"Legend Title\",\n",
    "#     font=dict(\n",
    "#         family=\"Courier New, monospace\",\n",
    "#         size=18,\n",
    "#         color=\"RebeccaPurple\"\n",
    "#     )\n",
    ")\n",
    "barfp = os.path.expanduser(savedir + fig.layout.title['text'] + \".jpeg\")\n",
    "fig.write_image(os.path.expanduser(barfp))\n",
    "fig.show()"
   ]
  },
  {
   "cell_type": "code",
   "execution_count": null,
   "metadata": {},
   "outputs": [],
   "source": []
  },
  {
   "cell_type": "code",
   "execution_count": null,
   "metadata": {},
   "outputs": [],
   "source": []
  }
 ],
 "metadata": {
  "celltoolbar": "Tags",
  "kernelspec": {
   "display_name": "blur",
   "language": "python",
   "name": "blur"
  },
  "language_info": {
   "codemirror_mode": {
    "name": "ipython",
    "version": 3
   },
   "file_extension": ".py",
   "mimetype": "text/x-python",
   "name": "python",
   "nbconvert_exporter": "python",
   "pygments_lexer": "ipython3",
   "version": "3.8.13"
  }
 },
 "nbformat": 4,
 "nbformat_minor": 4
}
