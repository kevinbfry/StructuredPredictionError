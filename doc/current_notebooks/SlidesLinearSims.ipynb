{
 "cells": [
  {
   "cell_type": "code",
   "execution_count": 1,
   "metadata": {},
   "outputs": [],
   "source": [
    "import numpy as np\n",
    "import pandas as pd\n",
    "from sklearn.linear_model import Lasso, LinearRegression\n",
    "from sklearn.cluster import KMeans\n",
    "\n",
    "import plotly.express as px\n",
    "\n",
    "import plotly.graph_objects as go\n",
    "\n",
    "from scipy.linalg import toeplitz, block_diag\n",
    "\n",
    "from spe.mse_estimator import ErrorComparer, gen_rbf_X, create_clus_split\n",
    "from spe.relaxed_lasso import RelaxedLasso"
   ]
  },
  {
   "cell_type": "code",
   "execution_count": 2,
   "metadata": {},
   "outputs": [],
   "source": [
    "err_cmp = ErrorComparer()"
   ]
  },
  {
   "cell_type": "code",
   "execution_count": 78,
   "metadata": {},
   "outputs": [],
   "source": [
    "niter = 300\n",
    "\n",
    "n=50**2\n",
    "p=30\n",
    "s=30\n",
    "\n",
    "k=10"
   ]
  },
  {
   "cell_type": "code",
   "execution_count": 79,
   "metadata": {},
   "outputs": [],
   "source": [
    "nx = ny = int(np.sqrt(n))\n",
    "xs = np.linspace(0, 10, nx)\n",
    "ys = np.linspace(0, 10, ny)\n",
    "c_x, c_y = np.meshgrid(xs, ys)\n",
    "c_x = c_x.flatten()\n",
    "c_y = c_y.flatten()"
   ]
  },
  {
   "cell_type": "code",
   "execution_count": 80,
   "metadata": {},
   "outputs": [],
   "source": [
    "rho = 0.5\n",
    "delta = 0.8\n",
    "\n",
    "D = np.abs(c_x - c_x[:,None]) + np.abs(c_y - c_y[:,None])\n",
    "Sigma_t = rho**D\n",
    "Sigma_t = delta*Sigma_t + (1-delta) * np.eye(n)\n",
    "\n",
    "# m = 20\n",
    "# c = np.zeros(n)\n",
    "# c[:m] = [rho**i for i in np.arange(m)]\n",
    "# Sigma_t = toeplitz(c)\n",
    "\n",
    "# b = n / m\n",
    "# c = [rho**i for i in np.arange(m)] \n",
    "# Sigma_t = block_diag(*[toeplitz(c) for _ in np.arange(b)])\n",
    "\n",
    "Chol_t = np.linalg.cholesky(Sigma_t)\n",
    "# Sigma_t = np.eye(n)\n",
    "# Chol_t = np.eye(n)"
   ]
  },
  {
   "cell_type": "code",
   "execution_count": 81,
   "metadata": {},
   "outputs": [],
   "source": [
    "# c_x = np.random.uniform(0,10,size=n)\n",
    "# c_y = np.random.uniform(0,10,size=n)\n",
    "\n",
    "# rn = int(np.sqrt(n))\n",
    "# ctr_x = np.random.uniform(0,10,size=rn)\n",
    "# ctr_y = np.random.uniform(0,10,size=rn)\n",
    "# c_x = np.concatenate([c + .35 * np.random.randn(rn) for c in ctr_x])\n",
    "# c_y = np.concatenate([c + .35 * np.random.randn(rn) for c in ctr_y])\n",
    "\n",
    "X = gen_rbf_X(c_x, c_y, p)\n",
    "# X = np.random.randn(n,p)\n",
    "\n",
    "beta = np.zeros(p)\n",
    "idx = np.random.choice(p,size=s)\n",
    "beta[idx] = np.random.uniform(-1,1,size=s)"
   ]
  },
  {
   "cell_type": "code",
   "execution_count": 82,
   "metadata": {},
   "outputs": [],
   "source": [
    "# xv, yv = np.meshgrid(np.arange(nx), np.arange(ny))\n",
    "# pts = np.stack([xv.ravel(), yv.ravel()]).T\n",
    "# n = nx*ny\n",
    "# rn = int(np.sqrt(n))\n",
    "# ctr = np.random.choice(pts.shape[0], size=rn, replace=True)\n",
    "# ctr = pts[ctr]\n",
    "# tr_idx = np.vstack([[pt + np.array((1.25*np.random.randn(2)).astype(int)) for _ in np.arange(rn)] for pt in ctr])\n",
    "# tr_idx = np.maximum(0, tr_idx)\n",
    "# tr_idx[:,0] = cx = np.minimum(nx-1, tr_idx[:,0])\n",
    "# tr_idx[:,1] = cy = np.minimum(ny-1, tr_idx[:,1])\n",
    "# tr_idx = np.unique(np.ravel_multi_index(tr_idx.T, (nx,ny)))\n",
    "# tr_idx.shape"
   ]
  },
  {
   "cell_type": "code",
   "execution_count": 96,
   "metadata": {},
   "outputs": [
    {
     "name": "stdout",
     "output_type": "stream",
     "text": [
      "0\n",
      "0.0696\n",
      "10\n",
      "20\n",
      "30\n",
      "40\n",
      "50\n",
      "60\n",
      "70\n",
      "80\n",
      "90\n",
      "100\n",
      "110\n",
      "120\n",
      "130\n",
      "140\n",
      "150\n",
      "160\n",
      "170\n",
      "180\n",
      "190\n",
      "200\n",
      "210\n",
      "220\n",
      "230\n",
      "240\n",
      "250\n",
      "260\n",
      "270\n",
      "280\n",
      "290\n"
     ]
    }
   ],
   "source": [
    "(test_err,\n",
    " kfcv_err,\n",
    " spcv_err,\n",
    " lin_err) = err_cmp.compareLinearTrTs(n=n,\n",
    "                                     p=p,\n",
    "                                     X=X,\n",
    "                                     beta=beta,\n",
    "                                     coord=np.stack([c_x, c_y]).T,\n",
    "                                     Chol_t=Chol_t,\n",
    "                                     niter=niter,\n",
    "                                     k=k,\n",
    "                                     tr_frac=.07)\n",
    "    "
   ]
  },
  {
   "cell_type": "code",
   "execution_count": 97,
   "metadata": {},
   "outputs": [],
   "source": [
    "# fig_X = go.Figure(data=[go.Mesh3d(x=c_x, y=c_y, z=X[:,13], opacity=0.50)])\n",
    "# fig_X.update_layout(scene = dict(\n",
    "#                     xaxis_title='Latitude',\n",
    "#                     yaxis_title='Longitude',\n",
    "#                     zaxis_title='Feature Xj'),\n",
    "# )\n",
    "# fig_X.show()"
   ]
  },
  {
   "cell_type": "code",
   "execution_count": 98,
   "metadata": {},
   "outputs": [],
   "source": [
    "# fig_y = go.Figure(data=[go.Mesh3d(x=c_x, y=c_y, z=y, opacity=0.50)])\n",
    "# fig_y.update_layout(scene = dict(\n",
    "#                     xaxis_title='Latitude',\n",
    "#                     yaxis_title='Longitude',\n",
    "#                     zaxis_title='Response Y'),\n",
    "# )\n",
    "# fig_y.show()"
   ]
  },
  {
   "cell_type": "code",
   "execution_count": 99,
   "metadata": {},
   "outputs": [],
   "source": [
    "# fig_mu = go.Figure(data=[go.Mesh3d(x=c_x, y=c_y, z=mu, opacity=0.50)])\n",
    "# fig_mu.update_layout(scene = dict(\n",
    "#                     xaxis_title='Latitude',\n",
    "#                     yaxis_title='Longitude',\n",
    "#                     zaxis_title='Mean'),\n",
    "# )\n",
    "# fig_mu.show()"
   ]
  },
  {
   "cell_type": "code",
   "execution_count": 100,
   "metadata": {},
   "outputs": [],
   "source": [
    "# fig_eps = go.Figure(data=[go.Mesh3d(x=c_x, y=c_y, z=y-mu, opacity=0.50)])\n",
    "# fig_eps.update_layout(scene = dict(\n",
    "#                     xaxis_title='Latitude',\n",
    "#                     yaxis_title='Longitude',\n",
    "#                     zaxis_title='Eps'),\n",
    "# )\n",
    "# fig_eps.show()"
   ]
  },
  {
   "cell_type": "code",
   "execution_count": null,
   "metadata": {},
   "outputs": [],
   "source": []
  },
  {
   "cell_type": "code",
   "execution_count": 101,
   "metadata": {},
   "outputs": [],
   "source": [
    "# groups = KMeans(n_clusters=10).fit(tr_idx).labels_"
   ]
  },
  {
   "cell_type": "code",
   "execution_count": 102,
   "metadata": {
    "scrolled": true
   },
   "outputs": [],
   "source": [
    "# px.scatter(pd.DataFrame({'x': tr_idx[:,0], 'y': tr_idx[:,1], 'g': groups}), x='x', y='y', color='g')"
   ]
  },
  {
   "cell_type": "code",
   "execution_count": 103,
   "metadata": {},
   "outputs": [
    {
     "data": {
      "text/plain": [
       "(7316.282573604084,\n",
       " 0.0010518916143365897,\n",
       " 0.02292893773293611,\n",
       " 5564.8280748288535)"
      ]
     },
     "execution_count": 103,
     "metadata": {},
     "output_type": "execute_result"
    }
   ],
   "source": [
    "risk = test_err.mean()\n",
    "risk_kfcv = kfcv_err.mean()\n",
    "risk_spcv = spcv_err.mean()\n",
    "risk_lin = lin_err.mean()\n",
    "risk, risk_kfcv, risk_spcv, risk_lin"
   ]
  },
  {
   "cell_type": "code",
   "execution_count": 104,
   "metadata": {},
   "outputs": [],
   "source": [
    "df = pd.DataFrame({'GenCp': (lin_err.T),# - test_err.T) / test_err.T,\n",
    "                   'KFCV': (kfcv_err.T),# - test_err.T) / test_err.T,\n",
    "                   'SPCV': (spcv_err.T)})# - test_err.T) / test_err.T})"
   ]
  },
  {
   "cell_type": "code",
   "execution_count": 105,
   "metadata": {
    "scrolled": false
   },
   "outputs": [
    {
     "data": {
      "application/vnd.plotly.v1+json": {
       "config": {
        "plotlyServerURL": "https://plot.ly"
       },
       "data": [
        {
         "alignmentgroup": "True",
         "boxmean": true,
         "boxpoints": false,
         "hovertemplate": "Method=%{x}<br>Relative MSE=%{y}<extra></extra>",
         "legendgroup": "",
         "marker": {
          "color": "#636efa"
         },
         "name": "",
         "notched": false,
         "offsetgroup": "",
         "orientation": "v",
         "showlegend": false,
         "type": "box",
         "x": [
          "GenCp",
          "GenCp",
          "GenCp",
          "GenCp",
          "GenCp",
          "GenCp",
          "GenCp",
          "GenCp",
          "GenCp",
          "GenCp",
          "GenCp",
          "GenCp",
          "GenCp",
          "GenCp",
          "GenCp",
          "GenCp",
          "GenCp",
          "GenCp",
          "GenCp",
          "GenCp",
          "GenCp",
          "GenCp",
          "GenCp",
          "GenCp",
          "GenCp",
          "GenCp",
          "GenCp",
          "GenCp",
          "GenCp",
          "GenCp",
          "GenCp",
          "GenCp",
          "GenCp",
          "GenCp",
          "GenCp",
          "GenCp",
          "GenCp",
          "GenCp",
          "GenCp",
          "GenCp",
          "GenCp",
          "GenCp",
          "GenCp",
          "GenCp",
          "GenCp",
          "GenCp",
          "GenCp",
          "GenCp",
          "GenCp",
          "GenCp",
          "GenCp",
          "GenCp",
          "GenCp",
          "GenCp",
          "GenCp",
          "GenCp",
          "GenCp",
          "GenCp",
          "GenCp",
          "GenCp",
          "GenCp",
          "GenCp",
          "GenCp",
          "GenCp",
          "GenCp",
          "GenCp",
          "GenCp",
          "GenCp",
          "GenCp",
          "GenCp",
          "GenCp",
          "GenCp",
          "GenCp",
          "GenCp",
          "GenCp",
          "GenCp",
          "GenCp",
          "GenCp",
          "GenCp",
          "GenCp",
          "GenCp",
          "GenCp",
          "GenCp",
          "GenCp",
          "GenCp",
          "GenCp",
          "GenCp",
          "GenCp",
          "GenCp",
          "GenCp",
          "GenCp",
          "GenCp",
          "GenCp",
          "GenCp",
          "GenCp",
          "GenCp",
          "GenCp",
          "GenCp",
          "GenCp",
          "GenCp",
          "GenCp",
          "GenCp",
          "GenCp",
          "GenCp",
          "GenCp",
          "GenCp",
          "GenCp",
          "GenCp",
          "GenCp",
          "GenCp",
          "GenCp",
          "GenCp",
          "GenCp",
          "GenCp",
          "GenCp",
          "GenCp",
          "GenCp",
          "GenCp",
          "GenCp",
          "GenCp",
          "GenCp",
          "GenCp",
          "GenCp",
          "GenCp",
          "GenCp",
          "GenCp",
          "GenCp",
          "GenCp",
          "GenCp",
          "GenCp",
          "GenCp",
          "GenCp",
          "GenCp",
          "GenCp",
          "GenCp",
          "GenCp",
          "GenCp",
          "GenCp",
          "GenCp",
          "GenCp",
          "GenCp",
          "GenCp",
          "GenCp",
          "GenCp",
          "GenCp",
          "GenCp",
          "GenCp",
          "GenCp",
          "GenCp",
          "GenCp",
          "GenCp",
          "GenCp",
          "GenCp",
          "GenCp",
          "GenCp",
          "GenCp",
          "GenCp",
          "GenCp",
          "GenCp",
          "GenCp",
          "GenCp",
          "GenCp",
          "GenCp",
          "GenCp",
          "GenCp",
          "GenCp",
          "GenCp",
          "GenCp",
          "GenCp",
          "GenCp",
          "GenCp",
          "GenCp",
          "GenCp",
          "GenCp",
          "GenCp",
          "GenCp",
          "GenCp",
          "GenCp",
          "GenCp",
          "GenCp",
          "GenCp",
          "GenCp",
          "GenCp",
          "GenCp",
          "GenCp",
          "GenCp",
          "GenCp",
          "GenCp",
          "GenCp",
          "GenCp",
          "GenCp",
          "GenCp",
          "GenCp",
          "GenCp",
          "GenCp",
          "GenCp",
          "GenCp",
          "GenCp",
          "GenCp",
          "GenCp",
          "GenCp",
          "GenCp",
          "GenCp",
          "GenCp",
          "GenCp",
          "GenCp",
          "GenCp",
          "GenCp",
          "GenCp",
          "GenCp",
          "GenCp",
          "GenCp",
          "GenCp",
          "GenCp",
          "GenCp",
          "GenCp",
          "GenCp",
          "GenCp",
          "GenCp",
          "GenCp",
          "GenCp",
          "GenCp",
          "GenCp",
          "GenCp",
          "GenCp",
          "GenCp",
          "GenCp",
          "GenCp",
          "GenCp",
          "GenCp",
          "GenCp",
          "GenCp",
          "GenCp",
          "GenCp",
          "GenCp",
          "GenCp",
          "GenCp",
          "GenCp",
          "GenCp",
          "GenCp",
          "GenCp",
          "GenCp",
          "GenCp",
          "GenCp",
          "GenCp",
          "GenCp",
          "GenCp",
          "GenCp",
          "GenCp",
          "GenCp",
          "GenCp",
          "GenCp",
          "GenCp",
          "GenCp",
          "GenCp",
          "GenCp",
          "GenCp",
          "GenCp",
          "GenCp",
          "GenCp",
          "GenCp",
          "GenCp",
          "GenCp",
          "GenCp",
          "GenCp",
          "GenCp",
          "GenCp",
          "GenCp",
          "GenCp",
          "GenCp",
          "GenCp",
          "GenCp",
          "GenCp",
          "GenCp",
          "GenCp",
          "GenCp",
          "GenCp",
          "GenCp",
          "GenCp",
          "GenCp",
          "GenCp",
          "GenCp",
          "GenCp",
          "GenCp",
          "GenCp",
          "GenCp",
          "GenCp",
          "GenCp",
          "GenCp",
          "GenCp",
          "GenCp",
          "GenCp",
          "GenCp",
          "GenCp",
          "GenCp",
          "GenCp",
          "GenCp",
          "GenCp",
          "GenCp",
          "GenCp",
          "KFCV",
          "KFCV",
          "KFCV",
          "KFCV",
          "KFCV",
          "KFCV",
          "KFCV",
          "KFCV",
          "KFCV",
          "KFCV",
          "KFCV",
          "KFCV",
          "KFCV",
          "KFCV",
          "KFCV",
          "KFCV",
          "KFCV",
          "KFCV",
          "KFCV",
          "KFCV",
          "KFCV",
          "KFCV",
          "KFCV",
          "KFCV",
          "KFCV",
          "KFCV",
          "KFCV",
          "KFCV",
          "KFCV",
          "KFCV",
          "KFCV",
          "KFCV",
          "KFCV",
          "KFCV",
          "KFCV",
          "KFCV",
          "KFCV",
          "KFCV",
          "KFCV",
          "KFCV",
          "KFCV",
          "KFCV",
          "KFCV",
          "KFCV",
          "KFCV",
          "KFCV",
          "KFCV",
          "KFCV",
          "KFCV",
          "KFCV",
          "KFCV",
          "KFCV",
          "KFCV",
          "KFCV",
          "KFCV",
          "KFCV",
          "KFCV",
          "KFCV",
          "KFCV",
          "KFCV",
          "KFCV",
          "KFCV",
          "KFCV",
          "KFCV",
          "KFCV",
          "KFCV",
          "KFCV",
          "KFCV",
          "KFCV",
          "KFCV",
          "KFCV",
          "KFCV",
          "KFCV",
          "KFCV",
          "KFCV",
          "KFCV",
          "KFCV",
          "KFCV",
          "KFCV",
          "KFCV",
          "KFCV",
          "KFCV",
          "KFCV",
          "KFCV",
          "KFCV",
          "KFCV",
          "KFCV",
          "KFCV",
          "KFCV",
          "KFCV",
          "KFCV",
          "KFCV",
          "KFCV",
          "KFCV",
          "KFCV",
          "KFCV",
          "KFCV",
          "KFCV",
          "KFCV",
          "KFCV",
          "KFCV",
          "KFCV",
          "KFCV",
          "KFCV",
          "KFCV",
          "KFCV",
          "KFCV",
          "KFCV",
          "KFCV",
          "KFCV",
          "KFCV",
          "KFCV",
          "KFCV",
          "KFCV",
          "KFCV",
          "KFCV",
          "KFCV",
          "KFCV",
          "KFCV",
          "KFCV",
          "KFCV",
          "KFCV",
          "KFCV",
          "KFCV",
          "KFCV",
          "KFCV",
          "KFCV",
          "KFCV",
          "KFCV",
          "KFCV",
          "KFCV",
          "KFCV",
          "KFCV",
          "KFCV",
          "KFCV",
          "KFCV",
          "KFCV",
          "KFCV",
          "KFCV",
          "KFCV",
          "KFCV",
          "KFCV",
          "KFCV",
          "KFCV",
          "KFCV",
          "KFCV",
          "KFCV",
          "KFCV",
          "KFCV",
          "KFCV",
          "KFCV",
          "KFCV",
          "KFCV",
          "KFCV",
          "KFCV",
          "KFCV",
          "KFCV",
          "KFCV",
          "KFCV",
          "KFCV",
          "KFCV",
          "KFCV",
          "KFCV",
          "KFCV",
          "KFCV",
          "KFCV",
          "KFCV",
          "KFCV",
          "KFCV",
          "KFCV",
          "KFCV",
          "KFCV",
          "KFCV",
          "KFCV",
          "KFCV",
          "KFCV",
          "KFCV",
          "KFCV",
          "KFCV",
          "KFCV",
          "KFCV",
          "KFCV",
          "KFCV",
          "KFCV",
          "KFCV",
          "KFCV",
          "KFCV",
          "KFCV",
          "KFCV",
          "KFCV",
          "KFCV",
          "KFCV",
          "KFCV",
          "KFCV",
          "KFCV",
          "KFCV",
          "KFCV",
          "KFCV",
          "KFCV",
          "KFCV",
          "KFCV",
          "KFCV",
          "KFCV",
          "KFCV",
          "KFCV",
          "KFCV",
          "KFCV",
          "KFCV",
          "KFCV",
          "KFCV",
          "KFCV",
          "KFCV",
          "KFCV",
          "KFCV",
          "KFCV",
          "KFCV",
          "KFCV",
          "KFCV",
          "KFCV",
          "KFCV",
          "KFCV",
          "KFCV",
          "KFCV",
          "KFCV",
          "KFCV",
          "KFCV",
          "KFCV",
          "KFCV",
          "KFCV",
          "KFCV",
          "KFCV",
          "KFCV",
          "KFCV",
          "KFCV",
          "KFCV",
          "KFCV",
          "KFCV",
          "KFCV",
          "KFCV",
          "KFCV",
          "KFCV",
          "KFCV",
          "KFCV",
          "KFCV",
          "KFCV",
          "KFCV",
          "KFCV",
          "KFCV",
          "KFCV",
          "KFCV",
          "KFCV",
          "KFCV",
          "KFCV",
          "KFCV",
          "KFCV",
          "KFCV",
          "KFCV",
          "KFCV",
          "KFCV",
          "KFCV",
          "KFCV",
          "KFCV",
          "KFCV",
          "KFCV",
          "KFCV",
          "KFCV",
          "KFCV",
          "KFCV",
          "KFCV",
          "KFCV",
          "KFCV",
          "KFCV",
          "KFCV",
          "KFCV",
          "KFCV",
          "KFCV",
          "KFCV",
          "KFCV",
          "KFCV",
          "KFCV",
          "KFCV",
          "KFCV",
          "KFCV",
          "KFCV",
          "KFCV",
          "KFCV",
          "KFCV",
          "KFCV",
          "KFCV",
          "KFCV",
          "KFCV",
          "KFCV",
          "KFCV",
          "KFCV",
          "KFCV",
          "KFCV",
          "KFCV",
          "KFCV",
          "KFCV",
          "KFCV",
          "SPCV",
          "SPCV",
          "SPCV",
          "SPCV",
          "SPCV",
          "SPCV",
          "SPCV",
          "SPCV",
          "SPCV",
          "SPCV",
          "SPCV",
          "SPCV",
          "SPCV",
          "SPCV",
          "SPCV",
          "SPCV",
          "SPCV",
          "SPCV",
          "SPCV",
          "SPCV",
          "SPCV",
          "SPCV",
          "SPCV",
          "SPCV",
          "SPCV",
          "SPCV",
          "SPCV",
          "SPCV",
          "SPCV",
          "SPCV",
          "SPCV",
          "SPCV",
          "SPCV",
          "SPCV",
          "SPCV",
          "SPCV",
          "SPCV",
          "SPCV",
          "SPCV",
          "SPCV",
          "SPCV",
          "SPCV",
          "SPCV",
          "SPCV",
          "SPCV",
          "SPCV",
          "SPCV",
          "SPCV",
          "SPCV",
          "SPCV",
          "SPCV",
          "SPCV",
          "SPCV",
          "SPCV",
          "SPCV",
          "SPCV",
          "SPCV",
          "SPCV",
          "SPCV",
          "SPCV",
          "SPCV",
          "SPCV",
          "SPCV",
          "SPCV",
          "SPCV",
          "SPCV",
          "SPCV",
          "SPCV",
          "SPCV",
          "SPCV",
          "SPCV",
          "SPCV",
          "SPCV",
          "SPCV",
          "SPCV",
          "SPCV",
          "SPCV",
          "SPCV",
          "SPCV",
          "SPCV",
          "SPCV",
          "SPCV",
          "SPCV",
          "SPCV",
          "SPCV",
          "SPCV",
          "SPCV",
          "SPCV",
          "SPCV",
          "SPCV",
          "SPCV",
          "SPCV",
          "SPCV",
          "SPCV",
          "SPCV",
          "SPCV",
          "SPCV",
          "SPCV",
          "SPCV",
          "SPCV",
          "SPCV",
          "SPCV",
          "SPCV",
          "SPCV",
          "SPCV",
          "SPCV",
          "SPCV",
          "SPCV",
          "SPCV",
          "SPCV",
          "SPCV",
          "SPCV",
          "SPCV",
          "SPCV",
          "SPCV",
          "SPCV",
          "SPCV",
          "SPCV",
          "SPCV",
          "SPCV",
          "SPCV",
          "SPCV",
          "SPCV",
          "SPCV",
          "SPCV",
          "SPCV",
          "SPCV",
          "SPCV",
          "SPCV",
          "SPCV",
          "SPCV",
          "SPCV",
          "SPCV",
          "SPCV",
          "SPCV",
          "SPCV",
          "SPCV",
          "SPCV",
          "SPCV",
          "SPCV",
          "SPCV",
          "SPCV",
          "SPCV",
          "SPCV",
          "SPCV",
          "SPCV",
          "SPCV",
          "SPCV",
          "SPCV",
          "SPCV",
          "SPCV",
          "SPCV",
          "SPCV",
          "SPCV",
          "SPCV",
          "SPCV",
          "SPCV",
          "SPCV",
          "SPCV",
          "SPCV",
          "SPCV",
          "SPCV",
          "SPCV",
          "SPCV",
          "SPCV",
          "SPCV",
          "SPCV",
          "SPCV",
          "SPCV",
          "SPCV",
          "SPCV",
          "SPCV",
          "SPCV",
          "SPCV",
          "SPCV",
          "SPCV",
          "SPCV",
          "SPCV",
          "SPCV",
          "SPCV",
          "SPCV",
          "SPCV",
          "SPCV",
          "SPCV",
          "SPCV",
          "SPCV",
          "SPCV",
          "SPCV",
          "SPCV",
          "SPCV",
          "SPCV",
          "SPCV",
          "SPCV",
          "SPCV",
          "SPCV",
          "SPCV",
          "SPCV",
          "SPCV",
          "SPCV",
          "SPCV",
          "SPCV",
          "SPCV",
          "SPCV",
          "SPCV",
          "SPCV",
          "SPCV",
          "SPCV",
          "SPCV",
          "SPCV",
          "SPCV",
          "SPCV",
          "SPCV",
          "SPCV",
          "SPCV",
          "SPCV",
          "SPCV",
          "SPCV",
          "SPCV",
          "SPCV",
          "SPCV",
          "SPCV",
          "SPCV",
          "SPCV",
          "SPCV",
          "SPCV",
          "SPCV",
          "SPCV",
          "SPCV",
          "SPCV",
          "SPCV",
          "SPCV",
          "SPCV",
          "SPCV",
          "SPCV",
          "SPCV",
          "SPCV",
          "SPCV",
          "SPCV",
          "SPCV",
          "SPCV",
          "SPCV",
          "SPCV",
          "SPCV",
          "SPCV",
          "SPCV",
          "SPCV",
          "SPCV",
          "SPCV",
          "SPCV",
          "SPCV",
          "SPCV",
          "SPCV",
          "SPCV",
          "SPCV",
          "SPCV",
          "SPCV",
          "SPCV",
          "SPCV",
          "SPCV",
          "SPCV",
          "SPCV",
          "SPCV",
          "SPCV",
          "SPCV",
          "SPCV",
          "SPCV",
          "SPCV",
          "SPCV",
          "SPCV",
          "SPCV",
          "SPCV",
          "SPCV",
          "SPCV",
          "SPCV",
          "SPCV",
          "SPCV",
          "SPCV",
          "SPCV",
          "SPCV",
          "SPCV",
          "SPCV",
          "SPCV",
          "SPCV",
          "SPCV",
          "SPCV",
          "SPCV",
          "SPCV",
          "SPCV",
          "SPCV",
          "SPCV",
          "SPCV",
          "SPCV",
          "SPCV",
          "SPCV",
          "SPCV",
          "SPCV",
          "SPCV",
          "SPCV",
          "SPCV",
          "SPCV"
         ],
         "x0": " ",
         "xaxis": "x",
         "y": [
          -0.9966079525256609,
          1.3022283646601296,
          -0.9811870631763703,
          -0.34623340558783816,
          -0.792932759185234,
          0.6476255360558097,
          -0.282314505532477,
          0.6366030502776923,
          -0.7127058882562133,
          -0.6660273458505034,
          -0.38712056782028254,
          -0.9723485732319515,
          0.24493822849871227,
          -0.92688729625083,
          -0.4541320327929407,
          -0.7294629981915629,
          -0.797598447564554,
          -0.9431303556460277,
          0.26127139996945914,
          -0.8966276539583864,
          -0.21385462639040909,
          -0.8183538961833918,
          -0.8686334121340235,
          -0.9495355206248683,
          -0.9471093141780621,
          1.1637790439220055,
          -0.9859753759893205,
          -0.7992245235652333,
          -0.8971614474328666,
          0.6077301882306477,
          -0.9357433337136383,
          -0.8497692833851384,
          -0.836025371841477,
          0.4860892783863052,
          0.03836556809237829,
          -0.9765259538484755,
          0.2791489567832678,
          -0.7478180789778163,
          -0.9767234802579863,
          -0.8817446463699106,
          3.592585417644646,
          -0.5856710717131196,
          -0.9933269841234987,
          -0.880029073054231,
          -0.9232565417741593,
          -0.3725573261886855,
          -0.8351350547078615,
          -0.6177437827338058,
          0.273569321897085,
          -0.6965062393714445,
          -0.46439727047205526,
          -0.7131694098155372,
          2.873386159926547,
          0.15477561956943917,
          -0.7271460824176953,
          -0.5554096378262057,
          -0.9337339525396352,
          -0.8140489057686767,
          -0.45101426215822854,
          -0.8979122115752032,
          -0.07189975472590436,
          -0.3328474305194792,
          -0.8842344599543297,
          -0.39724783672493197,
          2.288520339208365,
          -0.9343202556528004,
          3.4110409057608058,
          -0.8649450919971639,
          2.949253972967652,
          -0.28293694219373,
          -0.9641197831722513,
          0.2671277516104284,
          -0.38994926089293785,
          -0.9178000218804192,
          1.0611294512368463,
          -0.5753087394918696,
          -0.4140698594980983,
          0.926442714597273,
          -0.7665980202919538,
          0.6889264827009598,
          0.4428776823060465,
          -0.499534264032758,
          -0.8664462014064253,
          0.7989648165054105,
          2.3931773502623606,
          -0.8898790677451047,
          -0.9116356670539262,
          -0.9956659727790879,
          -0.7163612571703128,
          -0.7577953363213685,
          -0.9505330639685622,
          -0.9728308274845526,
          -0.9442211957013641,
          -0.8078474547923599,
          -0.5754337034188123,
          -0.5578091568238558,
          -0.44936948021925577,
          0.6216806094597853,
          0.8665147964855756,
          -0.5101939433437408,
          -0.7218455216740571,
          -0.011967566210045012,
          -0.75177917476092,
          -0.9864920473178794,
          0.11493114810299636,
          -0.778689991461138,
          -0.9921280529729664,
          -0.734998095414436,
          -0.614611407860449,
          -0.7507941657982813,
          -0.9343176232750389,
          -0.823869154807472,
          -0.51091371714971,
          -0.3727465478241615,
          -0.6071423225993949,
          3.583979279959037,
          -0.9031973316910324,
          -0.976731589379958,
          -0.8556899109186625,
          0.4474416053874682,
          0.5853741367956944,
          -0.48329648308829787,
          -0.3247492273437184,
          -0.9309435211359584,
          0.038008708689196986,
          0.03710295048910179,
          -0.3023970069809015,
          -0.35203961431986175,
          0.252727562763927,
          0.22758741413494446,
          -0.9939174074872552,
          0.6506763519804947,
          -0.5658134392678216,
          -0.1653430493318455,
          1.0003421698035695,
          -0.7672039324923791,
          -0.754803780844959,
          -0.9808217062262357,
          1.6654320912658973,
          -0.12065509368378681,
          -0.9381140138096183,
          1.3948323982353639,
          -0.8817431837683509,
          -0.9908004105549998,
          -0.9312613842351846,
          -0.8370821876899868,
          -0.1575348474483312,
          0.8357885032812089,
          -0.918942463252525,
          -0.7709534770718266,
          0.48704360358597015,
          -0.46194435200402684,
          1.2973648994069393,
          -0.21702115427841873,
          1.1541687451631104,
          -0.9480921081702679,
          -0.20116463999817044,
          -0.9504087107562886,
          -0.159081576645245,
          1.4692998253374954,
          0.555067343786423,
          -0.8801895055704577,
          -0.8068778198877715,
          -0.46898906028248466,
          -0.8215786916263871,
          0.6070436325101498,
          -0.47182242576898503,
          0.7281235986359827,
          -0.3095438388570541,
          1.8219606576741074,
          0.45442854169696906,
          -0.4582735158239502,
          -0.8570883346478555,
          -0.8815799207523127,
          -0.7746440835067026,
          0.8921353570746259,
          -0.9179626140820932,
          -0.8982515680087794,
          1.9488010023755056,
          1.2481036911627426,
          -0.2198372604379965,
          0.7144736655667622,
          -0.024194822012523633,
          -0.5422927171156227,
          0.6718256993857527,
          -0.5743133789850128,
          -0.8834227030249213,
          -0.8289283564298848,
          -0.6641343758297769,
          -0.5337110798787258,
          -0.3276442697249873,
          -0.6786713578162646,
          -0.9782079357826005,
          -0.7385850147935479,
          -0.5055126599410962,
          -0.5504917469845131,
          -0.512440564703489,
          -0.9035871959266107,
          -0.7556483292758124,
          -0.802718861426579,
          0.7894027670485838,
          -0.636183505983683,
          -0.989861206821304,
          -0.8406978520990661,
          -0.8856432896519152,
          -0.9386601112956574,
          3.809070578534961,
          -0.5892995994850012,
          -0.3455182305499051,
          1.511830730347738,
          -0.2990702810906579,
          1.303636822265733,
          -0.989330627813419,
          -0.4447259256427517,
          -0.1562082737334777,
          -0.8840877490181749,
          0.4276231162551636,
          0.030109036005863017,
          -0.6291829186464795,
          -0.768635278616028,
          -0.6436094557361836,
          -0.6865327181756792,
          -0.4310264354125666,
          -0.0704984642044452,
          -0.33066795577538355,
          -0.9912358304355278,
          0.7235115264309037,
          -0.006190987858039516,
          0.5798032323421751,
          -0.648653100458357,
          -0.21612154569471098,
          -0.5667857886290841,
          -0.8110165396679552,
          -0.351746157287726,
          -0.8723299011202312,
          -0.7188837508232923,
          -0.836870807094886,
          -0.3993779636994905,
          -0.9679475023473211,
          -0.7526990772087456,
          -0.3287069108780751,
          0.5039794686564149,
          -0.1321371132782491,
          -0.6176614002736402,
          -0.7016634641930742,
          0.2974068822296232,
          0.43390159606060563,
          0.8313360605767562,
          0.5169469771124039,
          -0.73565427270174,
          0.9874355393530377,
          -0.6546521672960067,
          -0.9628739037685808,
          -0.967340219366417,
          2.252120805649846,
          -0.9773979425045849,
          -0.7468384151911436,
          -0.552478169033214,
          0.17654104204682758,
          -0.06481610733907814,
          -0.9627932072375474,
          1.0981105078723399,
          -0.7908722082679293,
          0.10485504101819701,
          -0.9140090427260901,
          0.16597956391117497,
          -0.9797400909907013,
          -0.5969924432744624,
          0.22385697428832055,
          -0.7780807101948397,
          -0.18737454797733769,
          -0.18193819053310706,
          -0.9249343618748805,
          -0.6360550912099192,
          -0.6969386706494481,
          0.19709691190393616,
          -0.9488116270089817,
          0.37906648858549274,
          -0.7336356871193667,
          -0.9443116719234653,
          -0.7929090454325542,
          0.9501683636908269,
          -0.849694670899264,
          0.4948857325732723,
          -0.9432169178282956,
          -0.8832288260671703,
          1.5554163783658113,
          1.738582844463225,
          -0.05721571812076634,
          -0.7637370756239389,
          -0.8780004605781827,
          -0.946851996822623,
          -0.6586531511417901,
          -0.9652540339860289,
          0.5156431003765298,
          -0.32762450099760415,
          -0.24707375770147086,
          -0.8669877358107214,
          1.1501513742126097,
          -0.8916329209567081,
          -0.9999998355745541,
          -0.9999998332168284,
          -0.9999998603604409,
          -0.9999999051023083,
          -0.999999865217034,
          -0.9999998416635184,
          -0.9999998402721207,
          -0.9999998719137112,
          -0.9999998781624969,
          -0.9999998911687972,
          -0.9999998710949788,
          -0.9999998896165471,
          -0.999999707388488,
          -0.9999998172700093,
          -0.999999838099441,
          -0.9999998798958099,
          -0.9999998492145216,
          -0.9999998401651843,
          -0.9999998647439239,
          -0.9999998727067947,
          -0.9999998524037105,
          -0.9999998298878339,
          -0.999999871160615,
          -0.9999998496086673,
          -0.9999998486720895,
          -0.9999998752133689,
          -0.9999998337781402,
          -0.9999998527981092,
          -0.999999839639441,
          -0.9999998456319632,
          -0.9999998630660537,
          -0.9999998066213299,
          -0.9999998447330327,
          -0.99999987476154,
          -0.9999998792532537,
          -0.9999998501768271,
          -0.9999997971840558,
          -0.9999998469430221,
          -0.9999998553499875,
          -0.9999998557109349,
          -0.99999983352624,
          -0.9999998815528063,
          -0.9999998233799147,
          -0.9999997803490694,
          -0.9999998270391336,
          -0.9999998770440693,
          -0.999999869996007,
          -0.9999998630652935,
          -0.999999855758556,
          -0.9999998806237607,
          -0.9999998555023373,
          -0.9999998224017826,
          -0.9999998380006735,
          -0.9999998241867227,
          -0.9999998913453336,
          -0.9999998598453901,
          -0.9999998757378991,
          -0.9999998739407289,
          -0.999999878488714,
          -0.9999998215007193,
          -0.9999998329195726,
          -0.9999998479458143,
          -0.9999998767056978,
          -0.9999998907099334,
          -0.9999998626394714,
          -0.9999998608427144,
          -0.9999997989863377,
          -0.9999998993874385,
          -0.9999998640607975,
          -0.9999998745460831,
          -0.9999998772505342,
          -0.9999998506497636,
          -0.9999998450789584,
          -0.9999998527159648,
          -0.9999998327585891,
          -0.9999998758394862,
          -0.9999998461033809,
          -0.9999998598177738,
          -0.9999998586369147,
          -0.9999998822832158,
          -0.9999998414309411,
          -0.9999998629568303,
          -0.9999998569122603,
          -0.999999840863428,
          -0.99999984580673,
          -0.9999997810773277,
          -0.9999997731178738,
          -0.999999845046524,
          -0.9999998411106772,
          -0.9999998900250304,
          -0.9999998849171318,
          -0.9999998637277459,
          -0.9999998727154258,
          -0.9999998743387178,
          -0.9999998545134147,
          -0.9999998694579773,
          -0.9999998569800207,
          -0.999999820348097,
          -0.9999998688752096,
          -0.9999998497026488,
          -0.999999808869602,
          -0.9999998504670939,
          -0.9999998370797732,
          -0.9999998346464445,
          -0.9999998442874777,
          -0.9999998478944124,
          -0.9999998611201192,
          -0.9999998522240133,
          -0.9999998452788567,
          -0.9999998397166112,
          -0.9999998821809449,
          -0.9999998665482177,
          -0.999999865400182,
          -0.9999997573601731,
          -0.9999998466350273,
          -0.9999998710137215,
          -0.9999998888983567,
          -0.9999998527063736,
          -0.9999998455212633,
          -0.9999998663894484,
          -0.9999998296190065,
          -0.999999819556393,
          -0.9999998890512518,
          -0.9999998856228923,
          -0.9999998573584594,
          -0.9999998389318677,
          -0.9999998900074204,
          -0.9999998357226252,
          -0.9999998198321636,
          -0.9999998987249767,
          -0.9999998579835803,
          -0.9999998046081622,
          -0.9999998320515988,
          -0.9999998560883073,
          -0.9999998475848958,
          -0.9999998711935519,
          -0.9999998882301276,
          -0.9999998881582792,
          -0.999999870875205,
          -0.9999998681616339,
          -0.9999998505416634,
          -0.9999998558692166,
          -0.999999884081042,
          -0.9999998739563523,
          -0.9999998211262721,
          -0.9999998475696816,
          -0.9999998686552118,
          -0.9999998496746696,
          -0.9999998757980061,
          -0.9999998757126152,
          -0.9999998472641949,
          -0.9999998784372408,
          -0.9999998944873633,
          -0.9999998743103871,
          -0.9999998334709722,
          -0.9999998377634634,
          -0.999999857081351,
          -0.9999998410044233,
          -0.9999998750885569,
          -0.9999998744230396,
          -0.9999998491419115,
          -0.9999998641383301,
          -0.9999998577057657,
          -0.9999998503796395,
          -0.9999998241642706,
          -0.9999999005201621,
          -0.9999998304764839,
          -0.9999998895077097,
          -0.9999998514776196,
          -0.9999998627558906,
          -0.9999998626824493,
          -0.9999998289447387,
          -0.9999998490780374,
          -0.9999998863957879,
          -0.9999998863451492,
          -0.9999998559062174,
          -0.9999998640472438,
          -0.9999998734569353,
          -0.9999998143551727,
          -0.9999998138343039,
          -0.9999998873595404,
          -0.999999872892581,
          -0.9999998582000281,
          -0.9999999006055215,
          -0.9999998486995634,
          -0.999999848040241,
          -0.9999998643901544,
          -0.9999998327404884,
          -0.9999998697212604,
          -0.9999998690923058,
          -0.9999998473458599,
          -0.999999870213521,
          -0.9999998552538845,
          -0.9999998676355263,
          -0.9999998076003326,
          -0.9999998655208978,
          -0.9999998445954627,
          -0.9999998802742593,
          -0.9999998451916353,
          -0.999999875616453,
          -0.9999998736724393,
          -0.9999998515018758,
          -0.9999998680788128,
          -0.99999988372243,
          -0.9999998810436904,
          -0.9999998379754227,
          -0.9999998373025352,
          -0.999999844473301,
          -0.9999998248800106,
          -0.9999998611658585,
          -0.9999998765182314,
          -0.9999998770352706,
          -0.9999998654865492,
          -0.999999820386403,
          -0.9999998667984729,
          -0.9999997922406685,
          -0.9999998442211706,
          -0.9999997959656433,
          -0.9999999057117883,
          -0.9999998835340265,
          -0.9999998310278129,
          -0.9999998473756913,
          -0.9999998738787959,
          -0.9999998931861287,
          -0.9999997961684024,
          -0.9999998495096047,
          -0.9999998732874628,
          -0.9999998239004179,
          -0.9999998654895655,
          -0.9999998457877128,
          -0.99999988661671,
          -0.999999894728959,
          -0.9999998669884435,
          -0.9999998772269277,
          -0.9999998808901968,
          -0.9999998805991026,
          -0.9999998579321836,
          -0.9999998833059244,
          -0.9999998994392943,
          -0.9999998381258527,
          -0.9999998782658581,
          -0.9999998139618046,
          -0.9999998680190578,
          -0.999999855482544,
          -0.999999745806092,
          -0.9999998834449428,
          -0.9999998608132523,
          -0.9999998585084657,
          -0.9999996999162918,
          -0.9999998648173128,
          -0.9999998675889094,
          -0.9999998565644697,
          -0.9999998584503887,
          -0.9999998339849633,
          -0.999999879886172,
          -0.9999998634710757,
          -0.9999998801013349,
          -0.9999998700269693,
          -0.999999853112609,
          -0.9999998588928061,
          -0.9999998587990863,
          -0.9999998441347004,
          -0.9999998418096316,
          -0.9999998472529188,
          -0.9999998869280634,
          -0.9999998147440974,
          -0.9999998506556126,
          -0.999999862068936,
          -0.9999998509329269,
          -0.9999998508612243,
          -0.9999998689406172,
          -0.999999875748457,
          -0.9999998742984664,
          -0.999999874254235,
          -0.9999998678667579,
          -0.9999998339688942,
          -0.9999998844087876,
          -0.999999835144145,
          -0.9999998696016544,
          -0.9999998430768143,
          -0.9999998881587457,
          -0.9999998788398791,
          -0.9999998760448625,
          -0.9999998779648053,
          -0.9999998853063543,
          -0.9999998666622999,
          -0.9999998544115397,
          -0.9999998895996403,
          -0.9999998692906996,
          -0.9999998395993513,
          -0.9999998877320865,
          -0.9999998397872008,
          -0.999999887204656,
          -0.9999998568754238,
          -0.9999998914406021,
          -0.9999999071121912,
          -0.9999998943504391,
          -0.9999998758950598,
          -0.9999998901678137,
          -0.9999998688000044,
          -0.9999959693609842,
          -0.9999966980230801,
          -0.9999963080859013,
          -0.9999979700697338,
          -0.9999974612498463,
          -0.9999985474713821,
          -0.999996752565411,
          -0.9999938788684052,
          -0.9999974954681349,
          -0.9999978651342866,
          -0.999997881160247,
          -0.9999983744012559,
          -0.9999952929926283,
          -0.9999989159656163,
          -0.9999980120649644,
          -0.9999987621453937,
          -0.9999961512764225,
          -0.9999918704882369,
          -0.9999980245896964,
          -0.9999991002275342,
          -0.9999984392075683,
          -0.9999978021064654,
          -0.9999985434106534,
          -0.999997893938659,
          -0.9999885413750806,
          -0.9999981170520055,
          -0.9999979761179678,
          -0.9999945901349591,
          -0.9999919928824368,
          -0.9999966418604477,
          -0.9999980129543001,
          -0.9999937896930597,
          -0.9999982988302291,
          -0.9999975110788315,
          -0.9999979333193693,
          -0.9999986434165976,
          -0.9999965046688827,
          -0.9999986672148518,
          -0.9999967899168081,
          -0.9999988552198206,
          -0.9999966058105387,
          -0.9999974544990284,
          -0.9999969930208498,
          -0.9999970388898745,
          -0.9999952016968449,
          -0.9999988380564048,
          -0.9999948982562367,
          -0.9999977160770308,
          -0.999997257395008,
          -0.9999971212857974,
          -0.9999930142123706,
          -0.9999947271477326,
          -0.9999945535625776,
          -0.9999957713190296,
          -0.9999959948542116,
          -0.9999972277729696,
          -0.9999976005859854,
          -0.9999956211684286,
          -0.9999982318986094,
          -0.9999952299290111,
          -0.9999923336294465,
          -0.9999977874833749,
          -0.9999919047442648,
          -0.9999973269355804,
          -0.999992276986205,
          -0.9999974615106414,
          -0.9999984503668948,
          -0.9999988446605478,
          -0.9999992073684599,
          -0.9999985875712566,
          -0.9999976624813272,
          -0.9999971883808438,
          -0.9999977851864604,
          -0.9999979200409853,
          -0.9999987733354172,
          -0.9999889233349218,
          -0.9999964751847201,
          -0.9999986665835696,
          -0.9999978897049429,
          -0.9999970175578997,
          -0.999995926408704,
          -0.9999967604185686,
          -0.9999978973413265,
          -0.9999964963670576,
          -0.9999963188344528,
          -0.9999921517814955,
          -0.9999960481759421,
          -0.9999991156267868,
          -0.9999980888330402,
          -0.9999982397723373,
          -0.9999994009631014,
          -0.9999982658086266,
          -0.9999991011989233,
          -0.9999983998298922,
          -0.9999970914607741,
          -0.9999980352936931,
          -0.9999990499991639,
          -0.9999949710021779,
          -0.9999978304652526,
          -0.9999961702782563,
          -0.9999919658751529,
          -0.9999974110332791,
          -0.9999985675375662,
          -0.9999969097539517,
          -0.9999941177766895,
          -0.999997999703821,
          -0.999997111824285,
          -0.9999951703834634,
          -0.9999956583772555,
          -0.9999977181506968,
          -0.9999972888229138,
          -0.9999982291828344,
          -0.9999985387759491,
          -0.9999973533027258,
          -0.9999944162713492,
          -0.9999992500970437,
          -0.9999979422417259,
          -0.999996726171652,
          -0.9999976050923453,
          -0.9999949253661846,
          -0.999998566586296,
          -0.9999905502907148,
          -0.9999982046199,
          -0.9999980144893543,
          -0.9999982909808718,
          -0.9999968001297818,
          -0.9999970248787541,
          -0.9999942299048303,
          -0.9999943331937756,
          -0.9999975035927541,
          -0.9999975202140238,
          -0.9999957711600044,
          -0.9999948236503196,
          -0.9999985011242172,
          -0.9999931446454222,
          -0.9999986958124063,
          -0.9999981589093192,
          -0.9999972355818063,
          -0.9999992573081229,
          -0.999999250853602,
          -0.9999982017699726,
          -0.9999970624715926,
          -0.999995675039811,
          -0.9999980493098638,
          -0.9999966622326892,
          -0.999996331848213,
          -0.9999970686003405,
          -0.9999968375164012,
          -0.9999984705174991,
          -0.9999947020037665,
          -0.9999965049515972,
          -0.999999316439873,
          -0.9999988270828702,
          -0.9999979021838201,
          -0.999997324982092,
          -0.9999971294161633,
          -0.9999989782762982,
          -0.9999965927411963,
          -0.999997804436595,
          -0.999998161379562,
          -0.9999980583964624,
          -0.9999983622103367,
          -0.9999972446781533,
          -0.9999974559912496,
          -0.9999878085283015,
          -0.9999991317131013,
          -0.9999941831210925,
          -0.999996889993938,
          -0.9999979325622123,
          -0.9999996832691752,
          -0.9999937461096492,
          -0.9999925433838466,
          -0.9999980042317851,
          -0.9999963982532933,
          -0.9999977157189711,
          -0.9999944592440859,
          -0.9999972593045277,
          -0.999997113148072,
          -0.9999986170158309,
          -0.9999950393120717,
          -0.9999939842167862,
          -0.9999958767763865,
          -0.9999984051175467,
          -0.9999988678109323,
          -0.9999978312413049,
          -0.9999983482796614,
          -0.9999946938310023,
          -0.9999980789672078,
          -0.9999972163977828,
          -0.9999960846212304,
          -0.999995837718388,
          -0.9999983570703991,
          -0.9999976664764614,
          -0.9999947808159079,
          -0.9999930673016592,
          -0.9999967101765742,
          -0.9999989498851869,
          -0.9999970016409974,
          -0.9999965466061989,
          -0.999997598297965,
          -0.9999978722549948,
          -0.9999980394227992,
          -0.9999976923291569,
          -0.999996330476911,
          -0.9999983390749035,
          -0.9999969705399526,
          -0.999998192563929,
          -0.9999957313417668,
          -0.999993184310614,
          -0.9999991626836193,
          -0.9999982552645755,
          -0.9999952053429917,
          -0.9999926866157018,
          -0.9999959166251878,
          -0.9999957810641336,
          -0.9999944614649067,
          -0.99998917459371,
          -0.9999938731316532,
          -0.9999989896987116,
          -0.9999970803158571,
          -0.9999978951580927,
          -0.9999963560517223,
          -0.9999974670849363,
          -0.9999981990183221,
          -0.9999968732641866,
          -0.9999971862406536,
          -0.9999970904795337,
          -0.9999965286962276,
          -0.9999977741476938,
          -0.9999980265934322,
          -0.9999993168782241,
          -0.9999954612318513,
          -0.9999991761877125,
          -0.9999972456901178,
          -0.9999983352519686,
          -0.9999968255228343,
          -0.9999971541308791,
          -0.999997649072718,
          -0.999998461024222,
          -0.9999949966345182,
          -0.9999951423432316,
          -0.9999955283843286,
          -0.9999985893987177,
          -0.9999993522357071,
          -0.9999923942230978,
          -0.999999107921296,
          -0.9999982608097916,
          -0.9999967426904168,
          -0.9999954571388503,
          -0.9999984009854246,
          -0.9999970852453676,
          -0.9999929771899019,
          -0.9999991254241677,
          -0.9999925034589089,
          -0.9999989328109403,
          -0.9999971838338525,
          -0.9999970327258935,
          -0.9999966012491119,
          -0.9999979023116486,
          -0.9999984915406682,
          -0.9999982998092185,
          -0.9999964063455306,
          -0.9999973410265367,
          -0.9999975513496009,
          -0.9999974869342263,
          -0.9999947321379422,
          -0.9999967829878043,
          -0.999996894611911,
          -0.9999972114648156,
          -0.9999955487516575,
          -0.9999982901532859,
          -0.9999978332354162,
          -0.999995684354301,
          -0.9999976101289895,
          -0.9999966227819186,
          -0.9999972781816441,
          -0.9999991526791386,
          -0.9999984178205038,
          -0.9999968847569075,
          -0.9999953793109033,
          -0.9999976432115115,
          -0.9999971942596032,
          -0.9999967176691471,
          -0.9999930700025068,
          -0.9999986480515801,
          -0.9999977425160433,
          -0.9999979545000308,
          -0.9999961602606136,
          -0.9999985085418462,
          -0.9999977843162436,
          -0.9999992109086214,
          -0.9999956680681591,
          -0.9999985934838715,
          -0.9999976514204905,
          -0.99999864319947,
          -0.9999976029699894,
          -0.9999966117462595,
          -0.9999960656220396,
          -0.9999987485561855,
          -0.9999966617864018
         ],
         "y0": " ",
         "yaxis": "y"
        }
       ],
       "layout": {
        "boxmode": "group",
        "legend": {
         "tracegroupgap": 0
        },
        "shapes": [
         {
          "line": {
           "color": "red"
          },
          "type": "line",
          "x0": 0,
          "x1": 1,
          "xref": "x domain",
          "y0": 0,
          "y1": 0,
          "yref": "y"
         }
        ],
        "template": {
         "data": {
          "bar": [
           {
            "error_x": {
             "color": "#2a3f5f"
            },
            "error_y": {
             "color": "#2a3f5f"
            },
            "marker": {
             "line": {
              "color": "#E5ECF6",
              "width": 0.5
             },
             "pattern": {
              "fillmode": "overlay",
              "size": 10,
              "solidity": 0.2
             }
            },
            "type": "bar"
           }
          ],
          "barpolar": [
           {
            "marker": {
             "line": {
              "color": "#E5ECF6",
              "width": 0.5
             },
             "pattern": {
              "fillmode": "overlay",
              "size": 10,
              "solidity": 0.2
             }
            },
            "type": "barpolar"
           }
          ],
          "carpet": [
           {
            "aaxis": {
             "endlinecolor": "#2a3f5f",
             "gridcolor": "white",
             "linecolor": "white",
             "minorgridcolor": "white",
             "startlinecolor": "#2a3f5f"
            },
            "baxis": {
             "endlinecolor": "#2a3f5f",
             "gridcolor": "white",
             "linecolor": "white",
             "minorgridcolor": "white",
             "startlinecolor": "#2a3f5f"
            },
            "type": "carpet"
           }
          ],
          "choropleth": [
           {
            "colorbar": {
             "outlinewidth": 0,
             "ticks": ""
            },
            "type": "choropleth"
           }
          ],
          "contour": [
           {
            "colorbar": {
             "outlinewidth": 0,
             "ticks": ""
            },
            "colorscale": [
             [
              0,
              "#0d0887"
             ],
             [
              0.1111111111111111,
              "#46039f"
             ],
             [
              0.2222222222222222,
              "#7201a8"
             ],
             [
              0.3333333333333333,
              "#9c179e"
             ],
             [
              0.4444444444444444,
              "#bd3786"
             ],
             [
              0.5555555555555556,
              "#d8576b"
             ],
             [
              0.6666666666666666,
              "#ed7953"
             ],
             [
              0.7777777777777778,
              "#fb9f3a"
             ],
             [
              0.8888888888888888,
              "#fdca26"
             ],
             [
              1,
              "#f0f921"
             ]
            ],
            "type": "contour"
           }
          ],
          "contourcarpet": [
           {
            "colorbar": {
             "outlinewidth": 0,
             "ticks": ""
            },
            "type": "contourcarpet"
           }
          ],
          "heatmap": [
           {
            "colorbar": {
             "outlinewidth": 0,
             "ticks": ""
            },
            "colorscale": [
             [
              0,
              "#0d0887"
             ],
             [
              0.1111111111111111,
              "#46039f"
             ],
             [
              0.2222222222222222,
              "#7201a8"
             ],
             [
              0.3333333333333333,
              "#9c179e"
             ],
             [
              0.4444444444444444,
              "#bd3786"
             ],
             [
              0.5555555555555556,
              "#d8576b"
             ],
             [
              0.6666666666666666,
              "#ed7953"
             ],
             [
              0.7777777777777778,
              "#fb9f3a"
             ],
             [
              0.8888888888888888,
              "#fdca26"
             ],
             [
              1,
              "#f0f921"
             ]
            ],
            "type": "heatmap"
           }
          ],
          "heatmapgl": [
           {
            "colorbar": {
             "outlinewidth": 0,
             "ticks": ""
            },
            "colorscale": [
             [
              0,
              "#0d0887"
             ],
             [
              0.1111111111111111,
              "#46039f"
             ],
             [
              0.2222222222222222,
              "#7201a8"
             ],
             [
              0.3333333333333333,
              "#9c179e"
             ],
             [
              0.4444444444444444,
              "#bd3786"
             ],
             [
              0.5555555555555556,
              "#d8576b"
             ],
             [
              0.6666666666666666,
              "#ed7953"
             ],
             [
              0.7777777777777778,
              "#fb9f3a"
             ],
             [
              0.8888888888888888,
              "#fdca26"
             ],
             [
              1,
              "#f0f921"
             ]
            ],
            "type": "heatmapgl"
           }
          ],
          "histogram": [
           {
            "marker": {
             "pattern": {
              "fillmode": "overlay",
              "size": 10,
              "solidity": 0.2
             }
            },
            "type": "histogram"
           }
          ],
          "histogram2d": [
           {
            "colorbar": {
             "outlinewidth": 0,
             "ticks": ""
            },
            "colorscale": [
             [
              0,
              "#0d0887"
             ],
             [
              0.1111111111111111,
              "#46039f"
             ],
             [
              0.2222222222222222,
              "#7201a8"
             ],
             [
              0.3333333333333333,
              "#9c179e"
             ],
             [
              0.4444444444444444,
              "#bd3786"
             ],
             [
              0.5555555555555556,
              "#d8576b"
             ],
             [
              0.6666666666666666,
              "#ed7953"
             ],
             [
              0.7777777777777778,
              "#fb9f3a"
             ],
             [
              0.8888888888888888,
              "#fdca26"
             ],
             [
              1,
              "#f0f921"
             ]
            ],
            "type": "histogram2d"
           }
          ],
          "histogram2dcontour": [
           {
            "colorbar": {
             "outlinewidth": 0,
             "ticks": ""
            },
            "colorscale": [
             [
              0,
              "#0d0887"
             ],
             [
              0.1111111111111111,
              "#46039f"
             ],
             [
              0.2222222222222222,
              "#7201a8"
             ],
             [
              0.3333333333333333,
              "#9c179e"
             ],
             [
              0.4444444444444444,
              "#bd3786"
             ],
             [
              0.5555555555555556,
              "#d8576b"
             ],
             [
              0.6666666666666666,
              "#ed7953"
             ],
             [
              0.7777777777777778,
              "#fb9f3a"
             ],
             [
              0.8888888888888888,
              "#fdca26"
             ],
             [
              1,
              "#f0f921"
             ]
            ],
            "type": "histogram2dcontour"
           }
          ],
          "mesh3d": [
           {
            "colorbar": {
             "outlinewidth": 0,
             "ticks": ""
            },
            "type": "mesh3d"
           }
          ],
          "parcoords": [
           {
            "line": {
             "colorbar": {
              "outlinewidth": 0,
              "ticks": ""
             }
            },
            "type": "parcoords"
           }
          ],
          "pie": [
           {
            "automargin": true,
            "type": "pie"
           }
          ],
          "scatter": [
           {
            "marker": {
             "colorbar": {
              "outlinewidth": 0,
              "ticks": ""
             }
            },
            "type": "scatter"
           }
          ],
          "scatter3d": [
           {
            "line": {
             "colorbar": {
              "outlinewidth": 0,
              "ticks": ""
             }
            },
            "marker": {
             "colorbar": {
              "outlinewidth": 0,
              "ticks": ""
             }
            },
            "type": "scatter3d"
           }
          ],
          "scattercarpet": [
           {
            "marker": {
             "colorbar": {
              "outlinewidth": 0,
              "ticks": ""
             }
            },
            "type": "scattercarpet"
           }
          ],
          "scattergeo": [
           {
            "marker": {
             "colorbar": {
              "outlinewidth": 0,
              "ticks": ""
             }
            },
            "type": "scattergeo"
           }
          ],
          "scattergl": [
           {
            "marker": {
             "colorbar": {
              "outlinewidth": 0,
              "ticks": ""
             }
            },
            "type": "scattergl"
           }
          ],
          "scattermapbox": [
           {
            "marker": {
             "colorbar": {
              "outlinewidth": 0,
              "ticks": ""
             }
            },
            "type": "scattermapbox"
           }
          ],
          "scatterpolar": [
           {
            "marker": {
             "colorbar": {
              "outlinewidth": 0,
              "ticks": ""
             }
            },
            "type": "scatterpolar"
           }
          ],
          "scatterpolargl": [
           {
            "marker": {
             "colorbar": {
              "outlinewidth": 0,
              "ticks": ""
             }
            },
            "type": "scatterpolargl"
           }
          ],
          "scatterternary": [
           {
            "marker": {
             "colorbar": {
              "outlinewidth": 0,
              "ticks": ""
             }
            },
            "type": "scatterternary"
           }
          ],
          "surface": [
           {
            "colorbar": {
             "outlinewidth": 0,
             "ticks": ""
            },
            "colorscale": [
             [
              0,
              "#0d0887"
             ],
             [
              0.1111111111111111,
              "#46039f"
             ],
             [
              0.2222222222222222,
              "#7201a8"
             ],
             [
              0.3333333333333333,
              "#9c179e"
             ],
             [
              0.4444444444444444,
              "#bd3786"
             ],
             [
              0.5555555555555556,
              "#d8576b"
             ],
             [
              0.6666666666666666,
              "#ed7953"
             ],
             [
              0.7777777777777778,
              "#fb9f3a"
             ],
             [
              0.8888888888888888,
              "#fdca26"
             ],
             [
              1,
              "#f0f921"
             ]
            ],
            "type": "surface"
           }
          ],
          "table": [
           {
            "cells": {
             "fill": {
              "color": "#EBF0F8"
             },
             "line": {
              "color": "white"
             }
            },
            "header": {
             "fill": {
              "color": "#C8D4E3"
             },
             "line": {
              "color": "white"
             }
            },
            "type": "table"
           }
          ]
         },
         "layout": {
          "annotationdefaults": {
           "arrowcolor": "#2a3f5f",
           "arrowhead": 0,
           "arrowwidth": 1
          },
          "autotypenumbers": "strict",
          "coloraxis": {
           "colorbar": {
            "outlinewidth": 0,
            "ticks": ""
           }
          },
          "colorscale": {
           "diverging": [
            [
             0,
             "#8e0152"
            ],
            [
             0.1,
             "#c51b7d"
            ],
            [
             0.2,
             "#de77ae"
            ],
            [
             0.3,
             "#f1b6da"
            ],
            [
             0.4,
             "#fde0ef"
            ],
            [
             0.5,
             "#f7f7f7"
            ],
            [
             0.6,
             "#e6f5d0"
            ],
            [
             0.7,
             "#b8e186"
            ],
            [
             0.8,
             "#7fbc41"
            ],
            [
             0.9,
             "#4d9221"
            ],
            [
             1,
             "#276419"
            ]
           ],
           "sequential": [
            [
             0,
             "#0d0887"
            ],
            [
             0.1111111111111111,
             "#46039f"
            ],
            [
             0.2222222222222222,
             "#7201a8"
            ],
            [
             0.3333333333333333,
             "#9c179e"
            ],
            [
             0.4444444444444444,
             "#bd3786"
            ],
            [
             0.5555555555555556,
             "#d8576b"
            ],
            [
             0.6666666666666666,
             "#ed7953"
            ],
            [
             0.7777777777777778,
             "#fb9f3a"
            ],
            [
             0.8888888888888888,
             "#fdca26"
            ],
            [
             1,
             "#f0f921"
            ]
           ],
           "sequentialminus": [
            [
             0,
             "#0d0887"
            ],
            [
             0.1111111111111111,
             "#46039f"
            ],
            [
             0.2222222222222222,
             "#7201a8"
            ],
            [
             0.3333333333333333,
             "#9c179e"
            ],
            [
             0.4444444444444444,
             "#bd3786"
            ],
            [
             0.5555555555555556,
             "#d8576b"
            ],
            [
             0.6666666666666666,
             "#ed7953"
            ],
            [
             0.7777777777777778,
             "#fb9f3a"
            ],
            [
             0.8888888888888888,
             "#fdca26"
            ],
            [
             1,
             "#f0f921"
            ]
           ]
          },
          "colorway": [
           "#636efa",
           "#EF553B",
           "#00cc96",
           "#ab63fa",
           "#FFA15A",
           "#19d3f3",
           "#FF6692",
           "#B6E880",
           "#FF97FF",
           "#FECB52"
          ],
          "font": {
           "color": "#2a3f5f"
          },
          "geo": {
           "bgcolor": "white",
           "lakecolor": "white",
           "landcolor": "#E5ECF6",
           "showlakes": true,
           "showland": true,
           "subunitcolor": "white"
          },
          "hoverlabel": {
           "align": "left"
          },
          "hovermode": "closest",
          "mapbox": {
           "style": "light"
          },
          "paper_bgcolor": "white",
          "plot_bgcolor": "#E5ECF6",
          "polar": {
           "angularaxis": {
            "gridcolor": "white",
            "linecolor": "white",
            "ticks": ""
           },
           "bgcolor": "#E5ECF6",
           "radialaxis": {
            "gridcolor": "white",
            "linecolor": "white",
            "ticks": ""
           }
          },
          "scene": {
           "xaxis": {
            "backgroundcolor": "#E5ECF6",
            "gridcolor": "white",
            "gridwidth": 2,
            "linecolor": "white",
            "showbackground": true,
            "ticks": "",
            "zerolinecolor": "white"
           },
           "yaxis": {
            "backgroundcolor": "#E5ECF6",
            "gridcolor": "white",
            "gridwidth": 2,
            "linecolor": "white",
            "showbackground": true,
            "ticks": "",
            "zerolinecolor": "white"
           },
           "zaxis": {
            "backgroundcolor": "#E5ECF6",
            "gridcolor": "white",
            "gridwidth": 2,
            "linecolor": "white",
            "showbackground": true,
            "ticks": "",
            "zerolinecolor": "white"
           }
          },
          "shapedefaults": {
           "line": {
            "color": "#2a3f5f"
           }
          },
          "ternary": {
           "aaxis": {
            "gridcolor": "white",
            "linecolor": "white",
            "ticks": ""
           },
           "baxis": {
            "gridcolor": "white",
            "linecolor": "white",
            "ticks": ""
           },
           "bgcolor": "#E5ECF6",
           "caxis": {
            "gridcolor": "white",
            "linecolor": "white",
            "ticks": ""
           }
          },
          "title": {
           "x": 0.05
          },
          "xaxis": {
           "automargin": true,
           "gridcolor": "white",
           "linecolor": "white",
           "ticks": "",
           "title": {
            "standoff": 15
           },
           "zerolinecolor": "white",
           "zerolinewidth": 2
          },
          "yaxis": {
           "automargin": true,
           "gridcolor": "white",
           "linecolor": "white",
           "ticks": "",
           "title": {
            "standoff": 15
           },
           "zerolinecolor": "white",
           "zerolinewidth": 2
          }
         }
        },
        "title": {
         "text": "lin correction"
        },
        "xaxis": {
         "anchor": "y",
         "domain": [
          0,
          1
         ],
         "title": {
          "text": "Method"
         }
        },
        "yaxis": {
         "anchor": "x",
         "domain": [
          0,
          1
         ],
         "title": {
          "text": "Relative MSE"
         }
        }
       }
      },
      "text/html": [
       "<div>                            <div id=\"a9bf6705-450e-4604-9927-fea73929930a\" class=\"plotly-graph-div\" style=\"height:525px; width:100%;\"></div>            <script type=\"text/javascript\">                require([\"plotly\"], function(Plotly) {                    window.PLOTLYENV=window.PLOTLYENV || {};                                    if (document.getElementById(\"a9bf6705-450e-4604-9927-fea73929930a\")) {                    Plotly.newPlot(                        \"a9bf6705-450e-4604-9927-fea73929930a\",                        [{\"alignmentgroup\":\"True\",\"boxpoints\":false,\"hovertemplate\":\"Method=%{x}<br>Relative MSE=%{y}<extra></extra>\",\"legendgroup\":\"\",\"marker\":{\"color\":\"#636efa\"},\"name\":\"\",\"notched\":false,\"offsetgroup\":\"\",\"orientation\":\"v\",\"showlegend\":false,\"x\":[\"GenCp\",\"GenCp\",\"GenCp\",\"GenCp\",\"GenCp\",\"GenCp\",\"GenCp\",\"GenCp\",\"GenCp\",\"GenCp\",\"GenCp\",\"GenCp\",\"GenCp\",\"GenCp\",\"GenCp\",\"GenCp\",\"GenCp\",\"GenCp\",\"GenCp\",\"GenCp\",\"GenCp\",\"GenCp\",\"GenCp\",\"GenCp\",\"GenCp\",\"GenCp\",\"GenCp\",\"GenCp\",\"GenCp\",\"GenCp\",\"GenCp\",\"GenCp\",\"GenCp\",\"GenCp\",\"GenCp\",\"GenCp\",\"GenCp\",\"GenCp\",\"GenCp\",\"GenCp\",\"GenCp\",\"GenCp\",\"GenCp\",\"GenCp\",\"GenCp\",\"GenCp\",\"GenCp\",\"GenCp\",\"GenCp\",\"GenCp\",\"GenCp\",\"GenCp\",\"GenCp\",\"GenCp\",\"GenCp\",\"GenCp\",\"GenCp\",\"GenCp\",\"GenCp\",\"GenCp\",\"GenCp\",\"GenCp\",\"GenCp\",\"GenCp\",\"GenCp\",\"GenCp\",\"GenCp\",\"GenCp\",\"GenCp\",\"GenCp\",\"GenCp\",\"GenCp\",\"GenCp\",\"GenCp\",\"GenCp\",\"GenCp\",\"GenCp\",\"GenCp\",\"GenCp\",\"GenCp\",\"GenCp\",\"GenCp\",\"GenCp\",\"GenCp\",\"GenCp\",\"GenCp\",\"GenCp\",\"GenCp\",\"GenCp\",\"GenCp\",\"GenCp\",\"GenCp\",\"GenCp\",\"GenCp\",\"GenCp\",\"GenCp\",\"GenCp\",\"GenCp\",\"GenCp\",\"GenCp\",\"GenCp\",\"GenCp\",\"GenCp\",\"GenCp\",\"GenCp\",\"GenCp\",\"GenCp\",\"GenCp\",\"GenCp\",\"GenCp\",\"GenCp\",\"GenCp\",\"GenCp\",\"GenCp\",\"GenCp\",\"GenCp\",\"GenCp\",\"GenCp\",\"GenCp\",\"GenCp\",\"GenCp\",\"GenCp\",\"GenCp\",\"GenCp\",\"GenCp\",\"GenCp\",\"GenCp\",\"GenCp\",\"GenCp\",\"GenCp\",\"GenCp\",\"GenCp\",\"GenCp\",\"GenCp\",\"GenCp\",\"GenCp\",\"GenCp\",\"GenCp\",\"GenCp\",\"GenCp\",\"GenCp\",\"GenCp\",\"GenCp\",\"GenCp\",\"GenCp\",\"GenCp\",\"GenCp\",\"GenCp\",\"GenCp\",\"GenCp\",\"GenCp\",\"GenCp\",\"GenCp\",\"GenCp\",\"GenCp\",\"GenCp\",\"GenCp\",\"GenCp\",\"GenCp\",\"GenCp\",\"GenCp\",\"GenCp\",\"GenCp\",\"GenCp\",\"GenCp\",\"GenCp\",\"GenCp\",\"GenCp\",\"GenCp\",\"GenCp\",\"GenCp\",\"GenCp\",\"GenCp\",\"GenCp\",\"GenCp\",\"GenCp\",\"GenCp\",\"GenCp\",\"GenCp\",\"GenCp\",\"GenCp\",\"GenCp\",\"GenCp\",\"GenCp\",\"GenCp\",\"GenCp\",\"GenCp\",\"GenCp\",\"GenCp\",\"GenCp\",\"GenCp\",\"GenCp\",\"GenCp\",\"GenCp\",\"GenCp\",\"GenCp\",\"GenCp\",\"GenCp\",\"GenCp\",\"GenCp\",\"GenCp\",\"GenCp\",\"GenCp\",\"GenCp\",\"GenCp\",\"GenCp\",\"GenCp\",\"GenCp\",\"GenCp\",\"GenCp\",\"GenCp\",\"GenCp\",\"GenCp\",\"GenCp\",\"GenCp\",\"GenCp\",\"GenCp\",\"GenCp\",\"GenCp\",\"GenCp\",\"GenCp\",\"GenCp\",\"GenCp\",\"GenCp\",\"GenCp\",\"GenCp\",\"GenCp\",\"GenCp\",\"GenCp\",\"GenCp\",\"GenCp\",\"GenCp\",\"GenCp\",\"GenCp\",\"GenCp\",\"GenCp\",\"GenCp\",\"GenCp\",\"GenCp\",\"GenCp\",\"GenCp\",\"GenCp\",\"GenCp\",\"GenCp\",\"GenCp\",\"GenCp\",\"GenCp\",\"GenCp\",\"GenCp\",\"GenCp\",\"GenCp\",\"GenCp\",\"GenCp\",\"GenCp\",\"GenCp\",\"GenCp\",\"GenCp\",\"GenCp\",\"GenCp\",\"GenCp\",\"GenCp\",\"GenCp\",\"GenCp\",\"GenCp\",\"GenCp\",\"GenCp\",\"GenCp\",\"GenCp\",\"GenCp\",\"GenCp\",\"GenCp\",\"GenCp\",\"GenCp\",\"GenCp\",\"GenCp\",\"GenCp\",\"GenCp\",\"GenCp\",\"GenCp\",\"GenCp\",\"GenCp\",\"GenCp\",\"GenCp\",\"GenCp\",\"GenCp\",\"GenCp\",\"GenCp\",\"GenCp\",\"GenCp\",\"GenCp\",\"GenCp\",\"GenCp\",\"GenCp\",\"GenCp\",\"GenCp\",\"GenCp\",\"GenCp\",\"GenCp\",\"GenCp\",\"GenCp\",\"KFCV\",\"KFCV\",\"KFCV\",\"KFCV\",\"KFCV\",\"KFCV\",\"KFCV\",\"KFCV\",\"KFCV\",\"KFCV\",\"KFCV\",\"KFCV\",\"KFCV\",\"KFCV\",\"KFCV\",\"KFCV\",\"KFCV\",\"KFCV\",\"KFCV\",\"KFCV\",\"KFCV\",\"KFCV\",\"KFCV\",\"KFCV\",\"KFCV\",\"KFCV\",\"KFCV\",\"KFCV\",\"KFCV\",\"KFCV\",\"KFCV\",\"KFCV\",\"KFCV\",\"KFCV\",\"KFCV\",\"KFCV\",\"KFCV\",\"KFCV\",\"KFCV\",\"KFCV\",\"KFCV\",\"KFCV\",\"KFCV\",\"KFCV\",\"KFCV\",\"KFCV\",\"KFCV\",\"KFCV\",\"KFCV\",\"KFCV\",\"KFCV\",\"KFCV\",\"KFCV\",\"KFCV\",\"KFCV\",\"KFCV\",\"KFCV\",\"KFCV\",\"KFCV\",\"KFCV\",\"KFCV\",\"KFCV\",\"KFCV\",\"KFCV\",\"KFCV\",\"KFCV\",\"KFCV\",\"KFCV\",\"KFCV\",\"KFCV\",\"KFCV\",\"KFCV\",\"KFCV\",\"KFCV\",\"KFCV\",\"KFCV\",\"KFCV\",\"KFCV\",\"KFCV\",\"KFCV\",\"KFCV\",\"KFCV\",\"KFCV\",\"KFCV\",\"KFCV\",\"KFCV\",\"KFCV\",\"KFCV\",\"KFCV\",\"KFCV\",\"KFCV\",\"KFCV\",\"KFCV\",\"KFCV\",\"KFCV\",\"KFCV\",\"KFCV\",\"KFCV\",\"KFCV\",\"KFCV\",\"KFCV\",\"KFCV\",\"KFCV\",\"KFCV\",\"KFCV\",\"KFCV\",\"KFCV\",\"KFCV\",\"KFCV\",\"KFCV\",\"KFCV\",\"KFCV\",\"KFCV\",\"KFCV\",\"KFCV\",\"KFCV\",\"KFCV\",\"KFCV\",\"KFCV\",\"KFCV\",\"KFCV\",\"KFCV\",\"KFCV\",\"KFCV\",\"KFCV\",\"KFCV\",\"KFCV\",\"KFCV\",\"KFCV\",\"KFCV\",\"KFCV\",\"KFCV\",\"KFCV\",\"KFCV\",\"KFCV\",\"KFCV\",\"KFCV\",\"KFCV\",\"KFCV\",\"KFCV\",\"KFCV\",\"KFCV\",\"KFCV\",\"KFCV\",\"KFCV\",\"KFCV\",\"KFCV\",\"KFCV\",\"KFCV\",\"KFCV\",\"KFCV\",\"KFCV\",\"KFCV\",\"KFCV\",\"KFCV\",\"KFCV\",\"KFCV\",\"KFCV\",\"KFCV\",\"KFCV\",\"KFCV\",\"KFCV\",\"KFCV\",\"KFCV\",\"KFCV\",\"KFCV\",\"KFCV\",\"KFCV\",\"KFCV\",\"KFCV\",\"KFCV\",\"KFCV\",\"KFCV\",\"KFCV\",\"KFCV\",\"KFCV\",\"KFCV\",\"KFCV\",\"KFCV\",\"KFCV\",\"KFCV\",\"KFCV\",\"KFCV\",\"KFCV\",\"KFCV\",\"KFCV\",\"KFCV\",\"KFCV\",\"KFCV\",\"KFCV\",\"KFCV\",\"KFCV\",\"KFCV\",\"KFCV\",\"KFCV\",\"KFCV\",\"KFCV\",\"KFCV\",\"KFCV\",\"KFCV\",\"KFCV\",\"KFCV\",\"KFCV\",\"KFCV\",\"KFCV\",\"KFCV\",\"KFCV\",\"KFCV\",\"KFCV\",\"KFCV\",\"KFCV\",\"KFCV\",\"KFCV\",\"KFCV\",\"KFCV\",\"KFCV\",\"KFCV\",\"KFCV\",\"KFCV\",\"KFCV\",\"KFCV\",\"KFCV\",\"KFCV\",\"KFCV\",\"KFCV\",\"KFCV\",\"KFCV\",\"KFCV\",\"KFCV\",\"KFCV\",\"KFCV\",\"KFCV\",\"KFCV\",\"KFCV\",\"KFCV\",\"KFCV\",\"KFCV\",\"KFCV\",\"KFCV\",\"KFCV\",\"KFCV\",\"KFCV\",\"KFCV\",\"KFCV\",\"KFCV\",\"KFCV\",\"KFCV\",\"KFCV\",\"KFCV\",\"KFCV\",\"KFCV\",\"KFCV\",\"KFCV\",\"KFCV\",\"KFCV\",\"KFCV\",\"KFCV\",\"KFCV\",\"KFCV\",\"KFCV\",\"KFCV\",\"KFCV\",\"KFCV\",\"KFCV\",\"KFCV\",\"KFCV\",\"KFCV\",\"KFCV\",\"KFCV\",\"KFCV\",\"KFCV\",\"KFCV\",\"KFCV\",\"KFCV\",\"KFCV\",\"KFCV\",\"KFCV\",\"KFCV\",\"KFCV\",\"KFCV\",\"KFCV\",\"KFCV\",\"KFCV\",\"KFCV\",\"KFCV\",\"KFCV\",\"KFCV\",\"KFCV\",\"KFCV\",\"KFCV\",\"KFCV\",\"KFCV\",\"KFCV\",\"KFCV\",\"KFCV\",\"KFCV\",\"KFCV\",\"KFCV\",\"KFCV\",\"KFCV\",\"SPCV\",\"SPCV\",\"SPCV\",\"SPCV\",\"SPCV\",\"SPCV\",\"SPCV\",\"SPCV\",\"SPCV\",\"SPCV\",\"SPCV\",\"SPCV\",\"SPCV\",\"SPCV\",\"SPCV\",\"SPCV\",\"SPCV\",\"SPCV\",\"SPCV\",\"SPCV\",\"SPCV\",\"SPCV\",\"SPCV\",\"SPCV\",\"SPCV\",\"SPCV\",\"SPCV\",\"SPCV\",\"SPCV\",\"SPCV\",\"SPCV\",\"SPCV\",\"SPCV\",\"SPCV\",\"SPCV\",\"SPCV\",\"SPCV\",\"SPCV\",\"SPCV\",\"SPCV\",\"SPCV\",\"SPCV\",\"SPCV\",\"SPCV\",\"SPCV\",\"SPCV\",\"SPCV\",\"SPCV\",\"SPCV\",\"SPCV\",\"SPCV\",\"SPCV\",\"SPCV\",\"SPCV\",\"SPCV\",\"SPCV\",\"SPCV\",\"SPCV\",\"SPCV\",\"SPCV\",\"SPCV\",\"SPCV\",\"SPCV\",\"SPCV\",\"SPCV\",\"SPCV\",\"SPCV\",\"SPCV\",\"SPCV\",\"SPCV\",\"SPCV\",\"SPCV\",\"SPCV\",\"SPCV\",\"SPCV\",\"SPCV\",\"SPCV\",\"SPCV\",\"SPCV\",\"SPCV\",\"SPCV\",\"SPCV\",\"SPCV\",\"SPCV\",\"SPCV\",\"SPCV\",\"SPCV\",\"SPCV\",\"SPCV\",\"SPCV\",\"SPCV\",\"SPCV\",\"SPCV\",\"SPCV\",\"SPCV\",\"SPCV\",\"SPCV\",\"SPCV\",\"SPCV\",\"SPCV\",\"SPCV\",\"SPCV\",\"SPCV\",\"SPCV\",\"SPCV\",\"SPCV\",\"SPCV\",\"SPCV\",\"SPCV\",\"SPCV\",\"SPCV\",\"SPCV\",\"SPCV\",\"SPCV\",\"SPCV\",\"SPCV\",\"SPCV\",\"SPCV\",\"SPCV\",\"SPCV\",\"SPCV\",\"SPCV\",\"SPCV\",\"SPCV\",\"SPCV\",\"SPCV\",\"SPCV\",\"SPCV\",\"SPCV\",\"SPCV\",\"SPCV\",\"SPCV\",\"SPCV\",\"SPCV\",\"SPCV\",\"SPCV\",\"SPCV\",\"SPCV\",\"SPCV\",\"SPCV\",\"SPCV\",\"SPCV\",\"SPCV\",\"SPCV\",\"SPCV\",\"SPCV\",\"SPCV\",\"SPCV\",\"SPCV\",\"SPCV\",\"SPCV\",\"SPCV\",\"SPCV\",\"SPCV\",\"SPCV\",\"SPCV\",\"SPCV\",\"SPCV\",\"SPCV\",\"SPCV\",\"SPCV\",\"SPCV\",\"SPCV\",\"SPCV\",\"SPCV\",\"SPCV\",\"SPCV\",\"SPCV\",\"SPCV\",\"SPCV\",\"SPCV\",\"SPCV\",\"SPCV\",\"SPCV\",\"SPCV\",\"SPCV\",\"SPCV\",\"SPCV\",\"SPCV\",\"SPCV\",\"SPCV\",\"SPCV\",\"SPCV\",\"SPCV\",\"SPCV\",\"SPCV\",\"SPCV\",\"SPCV\",\"SPCV\",\"SPCV\",\"SPCV\",\"SPCV\",\"SPCV\",\"SPCV\",\"SPCV\",\"SPCV\",\"SPCV\",\"SPCV\",\"SPCV\",\"SPCV\",\"SPCV\",\"SPCV\",\"SPCV\",\"SPCV\",\"SPCV\",\"SPCV\",\"SPCV\",\"SPCV\",\"SPCV\",\"SPCV\",\"SPCV\",\"SPCV\",\"SPCV\",\"SPCV\",\"SPCV\",\"SPCV\",\"SPCV\",\"SPCV\",\"SPCV\",\"SPCV\",\"SPCV\",\"SPCV\",\"SPCV\",\"SPCV\",\"SPCV\",\"SPCV\",\"SPCV\",\"SPCV\",\"SPCV\",\"SPCV\",\"SPCV\",\"SPCV\",\"SPCV\",\"SPCV\",\"SPCV\",\"SPCV\",\"SPCV\",\"SPCV\",\"SPCV\",\"SPCV\",\"SPCV\",\"SPCV\",\"SPCV\",\"SPCV\",\"SPCV\",\"SPCV\",\"SPCV\",\"SPCV\",\"SPCV\",\"SPCV\",\"SPCV\",\"SPCV\",\"SPCV\",\"SPCV\",\"SPCV\",\"SPCV\",\"SPCV\",\"SPCV\",\"SPCV\",\"SPCV\",\"SPCV\",\"SPCV\",\"SPCV\",\"SPCV\",\"SPCV\",\"SPCV\",\"SPCV\",\"SPCV\",\"SPCV\",\"SPCV\",\"SPCV\",\"SPCV\",\"SPCV\",\"SPCV\",\"SPCV\",\"SPCV\",\"SPCV\",\"SPCV\",\"SPCV\",\"SPCV\",\"SPCV\",\"SPCV\",\"SPCV\",\"SPCV\",\"SPCV\",\"SPCV\",\"SPCV\",\"SPCV\",\"SPCV\",\"SPCV\",\"SPCV\",\"SPCV\",\"SPCV\",\"SPCV\",\"SPCV\",\"SPCV\",\"SPCV\",\"SPCV\",\"SPCV\",\"SPCV\"],\"x0\":\" \",\"xaxis\":\"x\",\"y\":[-0.9966079525256609,1.3022283646601296,-0.9811870631763703,-0.34623340558783816,-0.792932759185234,0.6476255360558097,-0.282314505532477,0.6366030502776923,-0.7127058882562133,-0.6660273458505034,-0.38712056782028254,-0.9723485732319515,0.24493822849871227,-0.92688729625083,-0.4541320327929407,-0.7294629981915629,-0.797598447564554,-0.9431303556460277,0.26127139996945914,-0.8966276539583864,-0.21385462639040909,-0.8183538961833918,-0.8686334121340235,-0.9495355206248683,-0.9471093141780621,1.1637790439220055,-0.9859753759893205,-0.7992245235652333,-0.8971614474328666,0.6077301882306477,-0.9357433337136383,-0.8497692833851384,-0.836025371841477,0.4860892783863052,0.03836556809237829,-0.9765259538484755,0.2791489567832678,-0.7478180789778163,-0.9767234802579863,-0.8817446463699106,3.592585417644646,-0.5856710717131196,-0.9933269841234987,-0.880029073054231,-0.9232565417741593,-0.3725573261886855,-0.8351350547078615,-0.6177437827338058,0.273569321897085,-0.6965062393714445,-0.46439727047205526,-0.7131694098155372,2.873386159926547,0.15477561956943917,-0.7271460824176953,-0.5554096378262057,-0.9337339525396352,-0.8140489057686767,-0.45101426215822854,-0.8979122115752032,-0.07189975472590436,-0.3328474305194792,-0.8842344599543297,-0.39724783672493197,2.288520339208365,-0.9343202556528004,3.4110409057608058,-0.8649450919971639,2.949253972967652,-0.28293694219373,-0.9641197831722513,0.2671277516104284,-0.38994926089293785,-0.9178000218804192,1.0611294512368463,-0.5753087394918696,-0.4140698594980983,0.926442714597273,-0.7665980202919538,0.6889264827009598,0.4428776823060465,-0.499534264032758,-0.8664462014064253,0.7989648165054105,2.3931773502623606,-0.8898790677451047,-0.9116356670539262,-0.9956659727790879,-0.7163612571703128,-0.7577953363213685,-0.9505330639685622,-0.9728308274845526,-0.9442211957013641,-0.8078474547923599,-0.5754337034188123,-0.5578091568238558,-0.44936948021925577,0.6216806094597853,0.8665147964855756,-0.5101939433437408,-0.7218455216740571,-0.011967566210045012,-0.75177917476092,-0.9864920473178794,0.11493114810299636,-0.778689991461138,-0.9921280529729664,-0.734998095414436,-0.614611407860449,-0.7507941657982813,-0.9343176232750389,-0.823869154807472,-0.51091371714971,-0.3727465478241615,-0.6071423225993949,3.583979279959037,-0.9031973316910324,-0.976731589379958,-0.8556899109186625,0.4474416053874682,0.5853741367956944,-0.48329648308829787,-0.3247492273437184,-0.9309435211359584,0.038008708689196986,0.03710295048910179,-0.3023970069809015,-0.35203961431986175,0.252727562763927,0.22758741413494446,-0.9939174074872552,0.6506763519804947,-0.5658134392678216,-0.1653430493318455,1.0003421698035695,-0.7672039324923791,-0.754803780844959,-0.9808217062262357,1.6654320912658973,-0.12065509368378681,-0.9381140138096183,1.3948323982353639,-0.8817431837683509,-0.9908004105549998,-0.9312613842351846,-0.8370821876899868,-0.1575348474483312,0.8357885032812089,-0.918942463252525,-0.7709534770718266,0.48704360358597015,-0.46194435200402684,1.2973648994069393,-0.21702115427841873,1.1541687451631104,-0.9480921081702679,-0.20116463999817044,-0.9504087107562886,-0.159081576645245,1.4692998253374954,0.555067343786423,-0.8801895055704577,-0.8068778198877715,-0.46898906028248466,-0.8215786916263871,0.6070436325101498,-0.47182242576898503,0.7281235986359827,-0.3095438388570541,1.8219606576741074,0.45442854169696906,-0.4582735158239502,-0.8570883346478555,-0.8815799207523127,-0.7746440835067026,0.8921353570746259,-0.9179626140820932,-0.8982515680087794,1.9488010023755056,1.2481036911627426,-0.2198372604379965,0.7144736655667622,-0.024194822012523633,-0.5422927171156227,0.6718256993857527,-0.5743133789850128,-0.8834227030249213,-0.8289283564298848,-0.6641343758297769,-0.5337110798787258,-0.3276442697249873,-0.6786713578162646,-0.9782079357826005,-0.7385850147935479,-0.5055126599410962,-0.5504917469845131,-0.512440564703489,-0.9035871959266107,-0.7556483292758124,-0.802718861426579,0.7894027670485838,-0.636183505983683,-0.989861206821304,-0.8406978520990661,-0.8856432896519152,-0.9386601112956574,3.809070578534961,-0.5892995994850012,-0.3455182305499051,1.511830730347738,-0.2990702810906579,1.303636822265733,-0.989330627813419,-0.4447259256427517,-0.1562082737334777,-0.8840877490181749,0.4276231162551636,0.030109036005863017,-0.6291829186464795,-0.768635278616028,-0.6436094557361836,-0.6865327181756792,-0.4310264354125666,-0.0704984642044452,-0.33066795577538355,-0.9912358304355278,0.7235115264309037,-0.006190987858039516,0.5798032323421751,-0.648653100458357,-0.21612154569471098,-0.5667857886290841,-0.8110165396679552,-0.351746157287726,-0.8723299011202312,-0.7188837508232923,-0.836870807094886,-0.3993779636994905,-0.9679475023473211,-0.7526990772087456,-0.3287069108780751,0.5039794686564149,-0.1321371132782491,-0.6176614002736402,-0.7016634641930742,0.2974068822296232,0.43390159606060563,0.8313360605767562,0.5169469771124039,-0.73565427270174,0.9874355393530377,-0.6546521672960067,-0.9628739037685808,-0.967340219366417,2.252120805649846,-0.9773979425045849,-0.7468384151911436,-0.552478169033214,0.17654104204682758,-0.06481610733907814,-0.9627932072375474,1.0981105078723399,-0.7908722082679293,0.10485504101819701,-0.9140090427260901,0.16597956391117497,-0.9797400909907013,-0.5969924432744624,0.22385697428832055,-0.7780807101948397,-0.18737454797733769,-0.18193819053310706,-0.9249343618748805,-0.6360550912099192,-0.6969386706494481,0.19709691190393616,-0.9488116270089817,0.37906648858549274,-0.7336356871193667,-0.9443116719234653,-0.7929090454325542,0.9501683636908269,-0.849694670899264,0.4948857325732723,-0.9432169178282956,-0.8832288260671703,1.5554163783658113,1.738582844463225,-0.05721571812076634,-0.7637370756239389,-0.8780004605781827,-0.946851996822623,-0.6586531511417901,-0.9652540339860289,0.5156431003765298,-0.32762450099760415,-0.24707375770147086,-0.8669877358107214,1.1501513742126097,-0.8916329209567081,-0.9999998355745541,-0.9999998332168284,-0.9999998603604409,-0.9999999051023083,-0.999999865217034,-0.9999998416635184,-0.9999998402721207,-0.9999998719137112,-0.9999998781624969,-0.9999998911687972,-0.9999998710949788,-0.9999998896165471,-0.999999707388488,-0.9999998172700093,-0.999999838099441,-0.9999998798958099,-0.9999998492145216,-0.9999998401651843,-0.9999998647439239,-0.9999998727067947,-0.9999998524037105,-0.9999998298878339,-0.999999871160615,-0.9999998496086673,-0.9999998486720895,-0.9999998752133689,-0.9999998337781402,-0.9999998527981092,-0.999999839639441,-0.9999998456319632,-0.9999998630660537,-0.9999998066213299,-0.9999998447330327,-0.99999987476154,-0.9999998792532537,-0.9999998501768271,-0.9999997971840558,-0.9999998469430221,-0.9999998553499875,-0.9999998557109349,-0.99999983352624,-0.9999998815528063,-0.9999998233799147,-0.9999997803490694,-0.9999998270391336,-0.9999998770440693,-0.999999869996007,-0.9999998630652935,-0.999999855758556,-0.9999998806237607,-0.9999998555023373,-0.9999998224017826,-0.9999998380006735,-0.9999998241867227,-0.9999998913453336,-0.9999998598453901,-0.9999998757378991,-0.9999998739407289,-0.999999878488714,-0.9999998215007193,-0.9999998329195726,-0.9999998479458143,-0.9999998767056978,-0.9999998907099334,-0.9999998626394714,-0.9999998608427144,-0.9999997989863377,-0.9999998993874385,-0.9999998640607975,-0.9999998745460831,-0.9999998772505342,-0.9999998506497636,-0.9999998450789584,-0.9999998527159648,-0.9999998327585891,-0.9999998758394862,-0.9999998461033809,-0.9999998598177738,-0.9999998586369147,-0.9999998822832158,-0.9999998414309411,-0.9999998629568303,-0.9999998569122603,-0.999999840863428,-0.99999984580673,-0.9999997810773277,-0.9999997731178738,-0.999999845046524,-0.9999998411106772,-0.9999998900250304,-0.9999998849171318,-0.9999998637277459,-0.9999998727154258,-0.9999998743387178,-0.9999998545134147,-0.9999998694579773,-0.9999998569800207,-0.999999820348097,-0.9999998688752096,-0.9999998497026488,-0.999999808869602,-0.9999998504670939,-0.9999998370797732,-0.9999998346464445,-0.9999998442874777,-0.9999998478944124,-0.9999998611201192,-0.9999998522240133,-0.9999998452788567,-0.9999998397166112,-0.9999998821809449,-0.9999998665482177,-0.999999865400182,-0.9999997573601731,-0.9999998466350273,-0.9999998710137215,-0.9999998888983567,-0.9999998527063736,-0.9999998455212633,-0.9999998663894484,-0.9999998296190065,-0.999999819556393,-0.9999998890512518,-0.9999998856228923,-0.9999998573584594,-0.9999998389318677,-0.9999998900074204,-0.9999998357226252,-0.9999998198321636,-0.9999998987249767,-0.9999998579835803,-0.9999998046081622,-0.9999998320515988,-0.9999998560883073,-0.9999998475848958,-0.9999998711935519,-0.9999998882301276,-0.9999998881582792,-0.999999870875205,-0.9999998681616339,-0.9999998505416634,-0.9999998558692166,-0.999999884081042,-0.9999998739563523,-0.9999998211262721,-0.9999998475696816,-0.9999998686552118,-0.9999998496746696,-0.9999998757980061,-0.9999998757126152,-0.9999998472641949,-0.9999998784372408,-0.9999998944873633,-0.9999998743103871,-0.9999998334709722,-0.9999998377634634,-0.999999857081351,-0.9999998410044233,-0.9999998750885569,-0.9999998744230396,-0.9999998491419115,-0.9999998641383301,-0.9999998577057657,-0.9999998503796395,-0.9999998241642706,-0.9999999005201621,-0.9999998304764839,-0.9999998895077097,-0.9999998514776196,-0.9999998627558906,-0.9999998626824493,-0.9999998289447387,-0.9999998490780374,-0.9999998863957879,-0.9999998863451492,-0.9999998559062174,-0.9999998640472438,-0.9999998734569353,-0.9999998143551727,-0.9999998138343039,-0.9999998873595404,-0.999999872892581,-0.9999998582000281,-0.9999999006055215,-0.9999998486995634,-0.999999848040241,-0.9999998643901544,-0.9999998327404884,-0.9999998697212604,-0.9999998690923058,-0.9999998473458599,-0.999999870213521,-0.9999998552538845,-0.9999998676355263,-0.9999998076003326,-0.9999998655208978,-0.9999998445954627,-0.9999998802742593,-0.9999998451916353,-0.999999875616453,-0.9999998736724393,-0.9999998515018758,-0.9999998680788128,-0.99999988372243,-0.9999998810436904,-0.9999998379754227,-0.9999998373025352,-0.999999844473301,-0.9999998248800106,-0.9999998611658585,-0.9999998765182314,-0.9999998770352706,-0.9999998654865492,-0.999999820386403,-0.9999998667984729,-0.9999997922406685,-0.9999998442211706,-0.9999997959656433,-0.9999999057117883,-0.9999998835340265,-0.9999998310278129,-0.9999998473756913,-0.9999998738787959,-0.9999998931861287,-0.9999997961684024,-0.9999998495096047,-0.9999998732874628,-0.9999998239004179,-0.9999998654895655,-0.9999998457877128,-0.99999988661671,-0.999999894728959,-0.9999998669884435,-0.9999998772269277,-0.9999998808901968,-0.9999998805991026,-0.9999998579321836,-0.9999998833059244,-0.9999998994392943,-0.9999998381258527,-0.9999998782658581,-0.9999998139618046,-0.9999998680190578,-0.999999855482544,-0.999999745806092,-0.9999998834449428,-0.9999998608132523,-0.9999998585084657,-0.9999996999162918,-0.9999998648173128,-0.9999998675889094,-0.9999998565644697,-0.9999998584503887,-0.9999998339849633,-0.999999879886172,-0.9999998634710757,-0.9999998801013349,-0.9999998700269693,-0.999999853112609,-0.9999998588928061,-0.9999998587990863,-0.9999998441347004,-0.9999998418096316,-0.9999998472529188,-0.9999998869280634,-0.9999998147440974,-0.9999998506556126,-0.999999862068936,-0.9999998509329269,-0.9999998508612243,-0.9999998689406172,-0.999999875748457,-0.9999998742984664,-0.999999874254235,-0.9999998678667579,-0.9999998339688942,-0.9999998844087876,-0.999999835144145,-0.9999998696016544,-0.9999998430768143,-0.9999998881587457,-0.9999998788398791,-0.9999998760448625,-0.9999998779648053,-0.9999998853063543,-0.9999998666622999,-0.9999998544115397,-0.9999998895996403,-0.9999998692906996,-0.9999998395993513,-0.9999998877320865,-0.9999998397872008,-0.999999887204656,-0.9999998568754238,-0.9999998914406021,-0.9999999071121912,-0.9999998943504391,-0.9999998758950598,-0.9999998901678137,-0.9999998688000044,-0.9999959693609842,-0.9999966980230801,-0.9999963080859013,-0.9999979700697338,-0.9999974612498463,-0.9999985474713821,-0.999996752565411,-0.9999938788684052,-0.9999974954681349,-0.9999978651342866,-0.999997881160247,-0.9999983744012559,-0.9999952929926283,-0.9999989159656163,-0.9999980120649644,-0.9999987621453937,-0.9999961512764225,-0.9999918704882369,-0.9999980245896964,-0.9999991002275342,-0.9999984392075683,-0.9999978021064654,-0.9999985434106534,-0.999997893938659,-0.9999885413750806,-0.9999981170520055,-0.9999979761179678,-0.9999945901349591,-0.9999919928824368,-0.9999966418604477,-0.9999980129543001,-0.9999937896930597,-0.9999982988302291,-0.9999975110788315,-0.9999979333193693,-0.9999986434165976,-0.9999965046688827,-0.9999986672148518,-0.9999967899168081,-0.9999988552198206,-0.9999966058105387,-0.9999974544990284,-0.9999969930208498,-0.9999970388898745,-0.9999952016968449,-0.9999988380564048,-0.9999948982562367,-0.9999977160770308,-0.999997257395008,-0.9999971212857974,-0.9999930142123706,-0.9999947271477326,-0.9999945535625776,-0.9999957713190296,-0.9999959948542116,-0.9999972277729696,-0.9999976005859854,-0.9999956211684286,-0.9999982318986094,-0.9999952299290111,-0.9999923336294465,-0.9999977874833749,-0.9999919047442648,-0.9999973269355804,-0.999992276986205,-0.9999974615106414,-0.9999984503668948,-0.9999988446605478,-0.9999992073684599,-0.9999985875712566,-0.9999976624813272,-0.9999971883808438,-0.9999977851864604,-0.9999979200409853,-0.9999987733354172,-0.9999889233349218,-0.9999964751847201,-0.9999986665835696,-0.9999978897049429,-0.9999970175578997,-0.999995926408704,-0.9999967604185686,-0.9999978973413265,-0.9999964963670576,-0.9999963188344528,-0.9999921517814955,-0.9999960481759421,-0.9999991156267868,-0.9999980888330402,-0.9999982397723373,-0.9999994009631014,-0.9999982658086266,-0.9999991011989233,-0.9999983998298922,-0.9999970914607741,-0.9999980352936931,-0.9999990499991639,-0.9999949710021779,-0.9999978304652526,-0.9999961702782563,-0.9999919658751529,-0.9999974110332791,-0.9999985675375662,-0.9999969097539517,-0.9999941177766895,-0.999997999703821,-0.999997111824285,-0.9999951703834634,-0.9999956583772555,-0.9999977181506968,-0.9999972888229138,-0.9999982291828344,-0.9999985387759491,-0.9999973533027258,-0.9999944162713492,-0.9999992500970437,-0.9999979422417259,-0.999996726171652,-0.9999976050923453,-0.9999949253661846,-0.999998566586296,-0.9999905502907148,-0.9999982046199,-0.9999980144893543,-0.9999982909808718,-0.9999968001297818,-0.9999970248787541,-0.9999942299048303,-0.9999943331937756,-0.9999975035927541,-0.9999975202140238,-0.9999957711600044,-0.9999948236503196,-0.9999985011242172,-0.9999931446454222,-0.9999986958124063,-0.9999981589093192,-0.9999972355818063,-0.9999992573081229,-0.999999250853602,-0.9999982017699726,-0.9999970624715926,-0.999995675039811,-0.9999980493098638,-0.9999966622326892,-0.999996331848213,-0.9999970686003405,-0.9999968375164012,-0.9999984705174991,-0.9999947020037665,-0.9999965049515972,-0.999999316439873,-0.9999988270828702,-0.9999979021838201,-0.999997324982092,-0.9999971294161633,-0.9999989782762982,-0.9999965927411963,-0.999997804436595,-0.999998161379562,-0.9999980583964624,-0.9999983622103367,-0.9999972446781533,-0.9999974559912496,-0.9999878085283015,-0.9999991317131013,-0.9999941831210925,-0.999996889993938,-0.9999979325622123,-0.9999996832691752,-0.9999937461096492,-0.9999925433838466,-0.9999980042317851,-0.9999963982532933,-0.9999977157189711,-0.9999944592440859,-0.9999972593045277,-0.999997113148072,-0.9999986170158309,-0.9999950393120717,-0.9999939842167862,-0.9999958767763865,-0.9999984051175467,-0.9999988678109323,-0.9999978312413049,-0.9999983482796614,-0.9999946938310023,-0.9999980789672078,-0.9999972163977828,-0.9999960846212304,-0.999995837718388,-0.9999983570703991,-0.9999976664764614,-0.9999947808159079,-0.9999930673016592,-0.9999967101765742,-0.9999989498851869,-0.9999970016409974,-0.9999965466061989,-0.999997598297965,-0.9999978722549948,-0.9999980394227992,-0.9999976923291569,-0.999996330476911,-0.9999983390749035,-0.9999969705399526,-0.999998192563929,-0.9999957313417668,-0.999993184310614,-0.9999991626836193,-0.9999982552645755,-0.9999952053429917,-0.9999926866157018,-0.9999959166251878,-0.9999957810641336,-0.9999944614649067,-0.99998917459371,-0.9999938731316532,-0.9999989896987116,-0.9999970803158571,-0.9999978951580927,-0.9999963560517223,-0.9999974670849363,-0.9999981990183221,-0.9999968732641866,-0.9999971862406536,-0.9999970904795337,-0.9999965286962276,-0.9999977741476938,-0.9999980265934322,-0.9999993168782241,-0.9999954612318513,-0.9999991761877125,-0.9999972456901178,-0.9999983352519686,-0.9999968255228343,-0.9999971541308791,-0.999997649072718,-0.999998461024222,-0.9999949966345182,-0.9999951423432316,-0.9999955283843286,-0.9999985893987177,-0.9999993522357071,-0.9999923942230978,-0.999999107921296,-0.9999982608097916,-0.9999967426904168,-0.9999954571388503,-0.9999984009854246,-0.9999970852453676,-0.9999929771899019,-0.9999991254241677,-0.9999925034589089,-0.9999989328109403,-0.9999971838338525,-0.9999970327258935,-0.9999966012491119,-0.9999979023116486,-0.9999984915406682,-0.9999982998092185,-0.9999964063455306,-0.9999973410265367,-0.9999975513496009,-0.9999974869342263,-0.9999947321379422,-0.9999967829878043,-0.999996894611911,-0.9999972114648156,-0.9999955487516575,-0.9999982901532859,-0.9999978332354162,-0.999995684354301,-0.9999976101289895,-0.9999966227819186,-0.9999972781816441,-0.9999991526791386,-0.9999984178205038,-0.9999968847569075,-0.9999953793109033,-0.9999976432115115,-0.9999971942596032,-0.9999967176691471,-0.9999930700025068,-0.9999986480515801,-0.9999977425160433,-0.9999979545000308,-0.9999961602606136,-0.9999985085418462,-0.9999977843162436,-0.9999992109086214,-0.9999956680681591,-0.9999985934838715,-0.9999976514204905,-0.99999864319947,-0.9999976029699894,-0.9999966117462595,-0.9999960656220396,-0.9999987485561855,-0.9999966617864018],\"y0\":\" \",\"yaxis\":\"y\",\"type\":\"box\",\"boxmean\":true}],                        {\"template\":{\"data\":{\"bar\":[{\"error_x\":{\"color\":\"#2a3f5f\"},\"error_y\":{\"color\":\"#2a3f5f\"},\"marker\":{\"line\":{\"color\":\"#E5ECF6\",\"width\":0.5},\"pattern\":{\"fillmode\":\"overlay\",\"size\":10,\"solidity\":0.2}},\"type\":\"bar\"}],\"barpolar\":[{\"marker\":{\"line\":{\"color\":\"#E5ECF6\",\"width\":0.5},\"pattern\":{\"fillmode\":\"overlay\",\"size\":10,\"solidity\":0.2}},\"type\":\"barpolar\"}],\"carpet\":[{\"aaxis\":{\"endlinecolor\":\"#2a3f5f\",\"gridcolor\":\"white\",\"linecolor\":\"white\",\"minorgridcolor\":\"white\",\"startlinecolor\":\"#2a3f5f\"},\"baxis\":{\"endlinecolor\":\"#2a3f5f\",\"gridcolor\":\"white\",\"linecolor\":\"white\",\"minorgridcolor\":\"white\",\"startlinecolor\":\"#2a3f5f\"},\"type\":\"carpet\"}],\"choropleth\":[{\"colorbar\":{\"outlinewidth\":0,\"ticks\":\"\"},\"type\":\"choropleth\"}],\"contour\":[{\"colorbar\":{\"outlinewidth\":0,\"ticks\":\"\"},\"colorscale\":[[0.0,\"#0d0887\"],[0.1111111111111111,\"#46039f\"],[0.2222222222222222,\"#7201a8\"],[0.3333333333333333,\"#9c179e\"],[0.4444444444444444,\"#bd3786\"],[0.5555555555555556,\"#d8576b\"],[0.6666666666666666,\"#ed7953\"],[0.7777777777777778,\"#fb9f3a\"],[0.8888888888888888,\"#fdca26\"],[1.0,\"#f0f921\"]],\"type\":\"contour\"}],\"contourcarpet\":[{\"colorbar\":{\"outlinewidth\":0,\"ticks\":\"\"},\"type\":\"contourcarpet\"}],\"heatmap\":[{\"colorbar\":{\"outlinewidth\":0,\"ticks\":\"\"},\"colorscale\":[[0.0,\"#0d0887\"],[0.1111111111111111,\"#46039f\"],[0.2222222222222222,\"#7201a8\"],[0.3333333333333333,\"#9c179e\"],[0.4444444444444444,\"#bd3786\"],[0.5555555555555556,\"#d8576b\"],[0.6666666666666666,\"#ed7953\"],[0.7777777777777778,\"#fb9f3a\"],[0.8888888888888888,\"#fdca26\"],[1.0,\"#f0f921\"]],\"type\":\"heatmap\"}],\"heatmapgl\":[{\"colorbar\":{\"outlinewidth\":0,\"ticks\":\"\"},\"colorscale\":[[0.0,\"#0d0887\"],[0.1111111111111111,\"#46039f\"],[0.2222222222222222,\"#7201a8\"],[0.3333333333333333,\"#9c179e\"],[0.4444444444444444,\"#bd3786\"],[0.5555555555555556,\"#d8576b\"],[0.6666666666666666,\"#ed7953\"],[0.7777777777777778,\"#fb9f3a\"],[0.8888888888888888,\"#fdca26\"],[1.0,\"#f0f921\"]],\"type\":\"heatmapgl\"}],\"histogram\":[{\"marker\":{\"pattern\":{\"fillmode\":\"overlay\",\"size\":10,\"solidity\":0.2}},\"type\":\"histogram\"}],\"histogram2d\":[{\"colorbar\":{\"outlinewidth\":0,\"ticks\":\"\"},\"colorscale\":[[0.0,\"#0d0887\"],[0.1111111111111111,\"#46039f\"],[0.2222222222222222,\"#7201a8\"],[0.3333333333333333,\"#9c179e\"],[0.4444444444444444,\"#bd3786\"],[0.5555555555555556,\"#d8576b\"],[0.6666666666666666,\"#ed7953\"],[0.7777777777777778,\"#fb9f3a\"],[0.8888888888888888,\"#fdca26\"],[1.0,\"#f0f921\"]],\"type\":\"histogram2d\"}],\"histogram2dcontour\":[{\"colorbar\":{\"outlinewidth\":0,\"ticks\":\"\"},\"colorscale\":[[0.0,\"#0d0887\"],[0.1111111111111111,\"#46039f\"],[0.2222222222222222,\"#7201a8\"],[0.3333333333333333,\"#9c179e\"],[0.4444444444444444,\"#bd3786\"],[0.5555555555555556,\"#d8576b\"],[0.6666666666666666,\"#ed7953\"],[0.7777777777777778,\"#fb9f3a\"],[0.8888888888888888,\"#fdca26\"],[1.0,\"#f0f921\"]],\"type\":\"histogram2dcontour\"}],\"mesh3d\":[{\"colorbar\":{\"outlinewidth\":0,\"ticks\":\"\"},\"type\":\"mesh3d\"}],\"parcoords\":[{\"line\":{\"colorbar\":{\"outlinewidth\":0,\"ticks\":\"\"}},\"type\":\"parcoords\"}],\"pie\":[{\"automargin\":true,\"type\":\"pie\"}],\"scatter\":[{\"marker\":{\"colorbar\":{\"outlinewidth\":0,\"ticks\":\"\"}},\"type\":\"scatter\"}],\"scatter3d\":[{\"line\":{\"colorbar\":{\"outlinewidth\":0,\"ticks\":\"\"}},\"marker\":{\"colorbar\":{\"outlinewidth\":0,\"ticks\":\"\"}},\"type\":\"scatter3d\"}],\"scattercarpet\":[{\"marker\":{\"colorbar\":{\"outlinewidth\":0,\"ticks\":\"\"}},\"type\":\"scattercarpet\"}],\"scattergeo\":[{\"marker\":{\"colorbar\":{\"outlinewidth\":0,\"ticks\":\"\"}},\"type\":\"scattergeo\"}],\"scattergl\":[{\"marker\":{\"colorbar\":{\"outlinewidth\":0,\"ticks\":\"\"}},\"type\":\"scattergl\"}],\"scattermapbox\":[{\"marker\":{\"colorbar\":{\"outlinewidth\":0,\"ticks\":\"\"}},\"type\":\"scattermapbox\"}],\"scatterpolar\":[{\"marker\":{\"colorbar\":{\"outlinewidth\":0,\"ticks\":\"\"}},\"type\":\"scatterpolar\"}],\"scatterpolargl\":[{\"marker\":{\"colorbar\":{\"outlinewidth\":0,\"ticks\":\"\"}},\"type\":\"scatterpolargl\"}],\"scatterternary\":[{\"marker\":{\"colorbar\":{\"outlinewidth\":0,\"ticks\":\"\"}},\"type\":\"scatterternary\"}],\"surface\":[{\"colorbar\":{\"outlinewidth\":0,\"ticks\":\"\"},\"colorscale\":[[0.0,\"#0d0887\"],[0.1111111111111111,\"#46039f\"],[0.2222222222222222,\"#7201a8\"],[0.3333333333333333,\"#9c179e\"],[0.4444444444444444,\"#bd3786\"],[0.5555555555555556,\"#d8576b\"],[0.6666666666666666,\"#ed7953\"],[0.7777777777777778,\"#fb9f3a\"],[0.8888888888888888,\"#fdca26\"],[1.0,\"#f0f921\"]],\"type\":\"surface\"}],\"table\":[{\"cells\":{\"fill\":{\"color\":\"#EBF0F8\"},\"line\":{\"color\":\"white\"}},\"header\":{\"fill\":{\"color\":\"#C8D4E3\"},\"line\":{\"color\":\"white\"}},\"type\":\"table\"}]},\"layout\":{\"annotationdefaults\":{\"arrowcolor\":\"#2a3f5f\",\"arrowhead\":0,\"arrowwidth\":1},\"autotypenumbers\":\"strict\",\"coloraxis\":{\"colorbar\":{\"outlinewidth\":0,\"ticks\":\"\"}},\"colorscale\":{\"diverging\":[[0,\"#8e0152\"],[0.1,\"#c51b7d\"],[0.2,\"#de77ae\"],[0.3,\"#f1b6da\"],[0.4,\"#fde0ef\"],[0.5,\"#f7f7f7\"],[0.6,\"#e6f5d0\"],[0.7,\"#b8e186\"],[0.8,\"#7fbc41\"],[0.9,\"#4d9221\"],[1,\"#276419\"]],\"sequential\":[[0.0,\"#0d0887\"],[0.1111111111111111,\"#46039f\"],[0.2222222222222222,\"#7201a8\"],[0.3333333333333333,\"#9c179e\"],[0.4444444444444444,\"#bd3786\"],[0.5555555555555556,\"#d8576b\"],[0.6666666666666666,\"#ed7953\"],[0.7777777777777778,\"#fb9f3a\"],[0.8888888888888888,\"#fdca26\"],[1.0,\"#f0f921\"]],\"sequentialminus\":[[0.0,\"#0d0887\"],[0.1111111111111111,\"#46039f\"],[0.2222222222222222,\"#7201a8\"],[0.3333333333333333,\"#9c179e\"],[0.4444444444444444,\"#bd3786\"],[0.5555555555555556,\"#d8576b\"],[0.6666666666666666,\"#ed7953\"],[0.7777777777777778,\"#fb9f3a\"],[0.8888888888888888,\"#fdca26\"],[1.0,\"#f0f921\"]]},\"colorway\":[\"#636efa\",\"#EF553B\",\"#00cc96\",\"#ab63fa\",\"#FFA15A\",\"#19d3f3\",\"#FF6692\",\"#B6E880\",\"#FF97FF\",\"#FECB52\"],\"font\":{\"color\":\"#2a3f5f\"},\"geo\":{\"bgcolor\":\"white\",\"lakecolor\":\"white\",\"landcolor\":\"#E5ECF6\",\"showlakes\":true,\"showland\":true,\"subunitcolor\":\"white\"},\"hoverlabel\":{\"align\":\"left\"},\"hovermode\":\"closest\",\"mapbox\":{\"style\":\"light\"},\"paper_bgcolor\":\"white\",\"plot_bgcolor\":\"#E5ECF6\",\"polar\":{\"angularaxis\":{\"gridcolor\":\"white\",\"linecolor\":\"white\",\"ticks\":\"\"},\"bgcolor\":\"#E5ECF6\",\"radialaxis\":{\"gridcolor\":\"white\",\"linecolor\":\"white\",\"ticks\":\"\"}},\"scene\":{\"xaxis\":{\"backgroundcolor\":\"#E5ECF6\",\"gridcolor\":\"white\",\"gridwidth\":2,\"linecolor\":\"white\",\"showbackground\":true,\"ticks\":\"\",\"zerolinecolor\":\"white\"},\"yaxis\":{\"backgroundcolor\":\"#E5ECF6\",\"gridcolor\":\"white\",\"gridwidth\":2,\"linecolor\":\"white\",\"showbackground\":true,\"ticks\":\"\",\"zerolinecolor\":\"white\"},\"zaxis\":{\"backgroundcolor\":\"#E5ECF6\",\"gridcolor\":\"white\",\"gridwidth\":2,\"linecolor\":\"white\",\"showbackground\":true,\"ticks\":\"\",\"zerolinecolor\":\"white\"}},\"shapedefaults\":{\"line\":{\"color\":\"#2a3f5f\"}},\"ternary\":{\"aaxis\":{\"gridcolor\":\"white\",\"linecolor\":\"white\",\"ticks\":\"\"},\"baxis\":{\"gridcolor\":\"white\",\"linecolor\":\"white\",\"ticks\":\"\"},\"bgcolor\":\"#E5ECF6\",\"caxis\":{\"gridcolor\":\"white\",\"linecolor\":\"white\",\"ticks\":\"\"}},\"title\":{\"x\":0.05},\"xaxis\":{\"automargin\":true,\"gridcolor\":\"white\",\"linecolor\":\"white\",\"ticks\":\"\",\"title\":{\"standoff\":15},\"zerolinecolor\":\"white\",\"zerolinewidth\":2},\"yaxis\":{\"automargin\":true,\"gridcolor\":\"white\",\"linecolor\":\"white\",\"ticks\":\"\",\"title\":{\"standoff\":15},\"zerolinecolor\":\"white\",\"zerolinewidth\":2}}},\"xaxis\":{\"anchor\":\"y\",\"domain\":[0.0,1.0],\"title\":{\"text\":\"Method\"}},\"yaxis\":{\"anchor\":\"x\",\"domain\":[0.0,1.0],\"title\":{\"text\":\"Relative MSE\"}},\"legend\":{\"tracegroupgap\":0},\"title\":{\"text\":\"lin correction\"},\"boxmode\":\"group\",\"shapes\":[{\"line\":{\"color\":\"red\"},\"type\":\"line\",\"x0\":0,\"x1\":1,\"xref\":\"x domain\",\"y0\":0.0,\"y1\":0.0,\"yref\":\"y\"}]},                        {\"responsive\": true}                    ).then(function(){\n",
       "                            \n",
       "var gd = document.getElementById('a9bf6705-450e-4604-9927-fea73929930a');\n",
       "var x = new MutationObserver(function (mutations, observer) {{\n",
       "        var display = window.getComputedStyle(gd).display;\n",
       "        if (!display || display === 'none') {{\n",
       "            console.log([gd, 'removed!']);\n",
       "            Plotly.purge(gd);\n",
       "            observer.disconnect();\n",
       "        }}\n",
       "}});\n",
       "\n",
       "// Listen for the removal of the full notebook cells\n",
       "var notebookContainer = gd.closest('#notebook-container');\n",
       "if (notebookContainer) {{\n",
       "    x.observe(notebookContainer, {childList: true});\n",
       "}}\n",
       "\n",
       "// Listen for the clearing of the current output cell\n",
       "var outputEl = gd.closest('.output');\n",
       "if (outputEl) {{\n",
       "    x.observe(outputEl, {childList: true});\n",
       "}}\n",
       "\n",
       "                        })                };                });            </script>        </div>"
      ]
     },
     "metadata": {},
     "output_type": "display_data"
    }
   ],
   "source": [
    "fig_lin = px.box((df - risk) / risk, \n",
    "             labels={\n",
    "                     \"variable\": \"Method\",\n",
    "                     \"value\": \"Relative MSE\"\n",
    "                     },\n",
    "             title=\"lin correction\",\n",
    "             points=False)\n",
    "fig_lin.update_traces(boxmean=True)\n",
    "\n",
    "fig_lin.add_hline(y=0., line_color='red')"
   ]
  },
  {
   "cell_type": "code",
   "execution_count": 106,
   "metadata": {},
   "outputs": [
    {
     "data": {
      "application/vnd.plotly.v1+json": {
       "config": {
        "plotlyServerURL": "https://plot.ly"
       },
       "data": [
        {
         "error_y": {
          "array": [
           0.891148912591175,
           2.826237195823834e-08,
           1.982944410161004e-06
          ],
          "type": "data",
          "visible": true
         },
         "type": "scatter",
         "x": [
          0,
          1,
          2
         ],
         "y": [
          -0.23939131398426075,
          -0.9999998562259447,
          -0.9999968660398908
         ]
        }
       ],
       "layout": {
        "template": {
         "data": {
          "bar": [
           {
            "error_x": {
             "color": "#2a3f5f"
            },
            "error_y": {
             "color": "#2a3f5f"
            },
            "marker": {
             "line": {
              "color": "#E5ECF6",
              "width": 0.5
             },
             "pattern": {
              "fillmode": "overlay",
              "size": 10,
              "solidity": 0.2
             }
            },
            "type": "bar"
           }
          ],
          "barpolar": [
           {
            "marker": {
             "line": {
              "color": "#E5ECF6",
              "width": 0.5
             },
             "pattern": {
              "fillmode": "overlay",
              "size": 10,
              "solidity": 0.2
             }
            },
            "type": "barpolar"
           }
          ],
          "carpet": [
           {
            "aaxis": {
             "endlinecolor": "#2a3f5f",
             "gridcolor": "white",
             "linecolor": "white",
             "minorgridcolor": "white",
             "startlinecolor": "#2a3f5f"
            },
            "baxis": {
             "endlinecolor": "#2a3f5f",
             "gridcolor": "white",
             "linecolor": "white",
             "minorgridcolor": "white",
             "startlinecolor": "#2a3f5f"
            },
            "type": "carpet"
           }
          ],
          "choropleth": [
           {
            "colorbar": {
             "outlinewidth": 0,
             "ticks": ""
            },
            "type": "choropleth"
           }
          ],
          "contour": [
           {
            "colorbar": {
             "outlinewidth": 0,
             "ticks": ""
            },
            "colorscale": [
             [
              0,
              "#0d0887"
             ],
             [
              0.1111111111111111,
              "#46039f"
             ],
             [
              0.2222222222222222,
              "#7201a8"
             ],
             [
              0.3333333333333333,
              "#9c179e"
             ],
             [
              0.4444444444444444,
              "#bd3786"
             ],
             [
              0.5555555555555556,
              "#d8576b"
             ],
             [
              0.6666666666666666,
              "#ed7953"
             ],
             [
              0.7777777777777778,
              "#fb9f3a"
             ],
             [
              0.8888888888888888,
              "#fdca26"
             ],
             [
              1,
              "#f0f921"
             ]
            ],
            "type": "contour"
           }
          ],
          "contourcarpet": [
           {
            "colorbar": {
             "outlinewidth": 0,
             "ticks": ""
            },
            "type": "contourcarpet"
           }
          ],
          "heatmap": [
           {
            "colorbar": {
             "outlinewidth": 0,
             "ticks": ""
            },
            "colorscale": [
             [
              0,
              "#0d0887"
             ],
             [
              0.1111111111111111,
              "#46039f"
             ],
             [
              0.2222222222222222,
              "#7201a8"
             ],
             [
              0.3333333333333333,
              "#9c179e"
             ],
             [
              0.4444444444444444,
              "#bd3786"
             ],
             [
              0.5555555555555556,
              "#d8576b"
             ],
             [
              0.6666666666666666,
              "#ed7953"
             ],
             [
              0.7777777777777778,
              "#fb9f3a"
             ],
             [
              0.8888888888888888,
              "#fdca26"
             ],
             [
              1,
              "#f0f921"
             ]
            ],
            "type": "heatmap"
           }
          ],
          "heatmapgl": [
           {
            "colorbar": {
             "outlinewidth": 0,
             "ticks": ""
            },
            "colorscale": [
             [
              0,
              "#0d0887"
             ],
             [
              0.1111111111111111,
              "#46039f"
             ],
             [
              0.2222222222222222,
              "#7201a8"
             ],
             [
              0.3333333333333333,
              "#9c179e"
             ],
             [
              0.4444444444444444,
              "#bd3786"
             ],
             [
              0.5555555555555556,
              "#d8576b"
             ],
             [
              0.6666666666666666,
              "#ed7953"
             ],
             [
              0.7777777777777778,
              "#fb9f3a"
             ],
             [
              0.8888888888888888,
              "#fdca26"
             ],
             [
              1,
              "#f0f921"
             ]
            ],
            "type": "heatmapgl"
           }
          ],
          "histogram": [
           {
            "marker": {
             "pattern": {
              "fillmode": "overlay",
              "size": 10,
              "solidity": 0.2
             }
            },
            "type": "histogram"
           }
          ],
          "histogram2d": [
           {
            "colorbar": {
             "outlinewidth": 0,
             "ticks": ""
            },
            "colorscale": [
             [
              0,
              "#0d0887"
             ],
             [
              0.1111111111111111,
              "#46039f"
             ],
             [
              0.2222222222222222,
              "#7201a8"
             ],
             [
              0.3333333333333333,
              "#9c179e"
             ],
             [
              0.4444444444444444,
              "#bd3786"
             ],
             [
              0.5555555555555556,
              "#d8576b"
             ],
             [
              0.6666666666666666,
              "#ed7953"
             ],
             [
              0.7777777777777778,
              "#fb9f3a"
             ],
             [
              0.8888888888888888,
              "#fdca26"
             ],
             [
              1,
              "#f0f921"
             ]
            ],
            "type": "histogram2d"
           }
          ],
          "histogram2dcontour": [
           {
            "colorbar": {
             "outlinewidth": 0,
             "ticks": ""
            },
            "colorscale": [
             [
              0,
              "#0d0887"
             ],
             [
              0.1111111111111111,
              "#46039f"
             ],
             [
              0.2222222222222222,
              "#7201a8"
             ],
             [
              0.3333333333333333,
              "#9c179e"
             ],
             [
              0.4444444444444444,
              "#bd3786"
             ],
             [
              0.5555555555555556,
              "#d8576b"
             ],
             [
              0.6666666666666666,
              "#ed7953"
             ],
             [
              0.7777777777777778,
              "#fb9f3a"
             ],
             [
              0.8888888888888888,
              "#fdca26"
             ],
             [
              1,
              "#f0f921"
             ]
            ],
            "type": "histogram2dcontour"
           }
          ],
          "mesh3d": [
           {
            "colorbar": {
             "outlinewidth": 0,
             "ticks": ""
            },
            "type": "mesh3d"
           }
          ],
          "parcoords": [
           {
            "line": {
             "colorbar": {
              "outlinewidth": 0,
              "ticks": ""
             }
            },
            "type": "parcoords"
           }
          ],
          "pie": [
           {
            "automargin": true,
            "type": "pie"
           }
          ],
          "scatter": [
           {
            "marker": {
             "colorbar": {
              "outlinewidth": 0,
              "ticks": ""
             }
            },
            "type": "scatter"
           }
          ],
          "scatter3d": [
           {
            "line": {
             "colorbar": {
              "outlinewidth": 0,
              "ticks": ""
             }
            },
            "marker": {
             "colorbar": {
              "outlinewidth": 0,
              "ticks": ""
             }
            },
            "type": "scatter3d"
           }
          ],
          "scattercarpet": [
           {
            "marker": {
             "colorbar": {
              "outlinewidth": 0,
              "ticks": ""
             }
            },
            "type": "scattercarpet"
           }
          ],
          "scattergeo": [
           {
            "marker": {
             "colorbar": {
              "outlinewidth": 0,
              "ticks": ""
             }
            },
            "type": "scattergeo"
           }
          ],
          "scattergl": [
           {
            "marker": {
             "colorbar": {
              "outlinewidth": 0,
              "ticks": ""
             }
            },
            "type": "scattergl"
           }
          ],
          "scattermapbox": [
           {
            "marker": {
             "colorbar": {
              "outlinewidth": 0,
              "ticks": ""
             }
            },
            "type": "scattermapbox"
           }
          ],
          "scatterpolar": [
           {
            "marker": {
             "colorbar": {
              "outlinewidth": 0,
              "ticks": ""
             }
            },
            "type": "scatterpolar"
           }
          ],
          "scatterpolargl": [
           {
            "marker": {
             "colorbar": {
              "outlinewidth": 0,
              "ticks": ""
             }
            },
            "type": "scatterpolargl"
           }
          ],
          "scatterternary": [
           {
            "marker": {
             "colorbar": {
              "outlinewidth": 0,
              "ticks": ""
             }
            },
            "type": "scatterternary"
           }
          ],
          "surface": [
           {
            "colorbar": {
             "outlinewidth": 0,
             "ticks": ""
            },
            "colorscale": [
             [
              0,
              "#0d0887"
             ],
             [
              0.1111111111111111,
              "#46039f"
             ],
             [
              0.2222222222222222,
              "#7201a8"
             ],
             [
              0.3333333333333333,
              "#9c179e"
             ],
             [
              0.4444444444444444,
              "#bd3786"
             ],
             [
              0.5555555555555556,
              "#d8576b"
             ],
             [
              0.6666666666666666,
              "#ed7953"
             ],
             [
              0.7777777777777778,
              "#fb9f3a"
             ],
             [
              0.8888888888888888,
              "#fdca26"
             ],
             [
              1,
              "#f0f921"
             ]
            ],
            "type": "surface"
           }
          ],
          "table": [
           {
            "cells": {
             "fill": {
              "color": "#EBF0F8"
             },
             "line": {
              "color": "white"
             }
            },
            "header": {
             "fill": {
              "color": "#C8D4E3"
             },
             "line": {
              "color": "white"
             }
            },
            "type": "table"
           }
          ]
         },
         "layout": {
          "annotationdefaults": {
           "arrowcolor": "#2a3f5f",
           "arrowhead": 0,
           "arrowwidth": 1
          },
          "autotypenumbers": "strict",
          "coloraxis": {
           "colorbar": {
            "outlinewidth": 0,
            "ticks": ""
           }
          },
          "colorscale": {
           "diverging": [
            [
             0,
             "#8e0152"
            ],
            [
             0.1,
             "#c51b7d"
            ],
            [
             0.2,
             "#de77ae"
            ],
            [
             0.3,
             "#f1b6da"
            ],
            [
             0.4,
             "#fde0ef"
            ],
            [
             0.5,
             "#f7f7f7"
            ],
            [
             0.6,
             "#e6f5d0"
            ],
            [
             0.7,
             "#b8e186"
            ],
            [
             0.8,
             "#7fbc41"
            ],
            [
             0.9,
             "#4d9221"
            ],
            [
             1,
             "#276419"
            ]
           ],
           "sequential": [
            [
             0,
             "#0d0887"
            ],
            [
             0.1111111111111111,
             "#46039f"
            ],
            [
             0.2222222222222222,
             "#7201a8"
            ],
            [
             0.3333333333333333,
             "#9c179e"
            ],
            [
             0.4444444444444444,
             "#bd3786"
            ],
            [
             0.5555555555555556,
             "#d8576b"
            ],
            [
             0.6666666666666666,
             "#ed7953"
            ],
            [
             0.7777777777777778,
             "#fb9f3a"
            ],
            [
             0.8888888888888888,
             "#fdca26"
            ],
            [
             1,
             "#f0f921"
            ]
           ],
           "sequentialminus": [
            [
             0,
             "#0d0887"
            ],
            [
             0.1111111111111111,
             "#46039f"
            ],
            [
             0.2222222222222222,
             "#7201a8"
            ],
            [
             0.3333333333333333,
             "#9c179e"
            ],
            [
             0.4444444444444444,
             "#bd3786"
            ],
            [
             0.5555555555555556,
             "#d8576b"
            ],
            [
             0.6666666666666666,
             "#ed7953"
            ],
            [
             0.7777777777777778,
             "#fb9f3a"
            ],
            [
             0.8888888888888888,
             "#fdca26"
            ],
            [
             1,
             "#f0f921"
            ]
           ]
          },
          "colorway": [
           "#636efa",
           "#EF553B",
           "#00cc96",
           "#ab63fa",
           "#FFA15A",
           "#19d3f3",
           "#FF6692",
           "#B6E880",
           "#FF97FF",
           "#FECB52"
          ],
          "font": {
           "color": "#2a3f5f"
          },
          "geo": {
           "bgcolor": "white",
           "lakecolor": "white",
           "landcolor": "#E5ECF6",
           "showlakes": true,
           "showland": true,
           "subunitcolor": "white"
          },
          "hoverlabel": {
           "align": "left"
          },
          "hovermode": "closest",
          "mapbox": {
           "style": "light"
          },
          "paper_bgcolor": "white",
          "plot_bgcolor": "#E5ECF6",
          "polar": {
           "angularaxis": {
            "gridcolor": "white",
            "linecolor": "white",
            "ticks": ""
           },
           "bgcolor": "#E5ECF6",
           "radialaxis": {
            "gridcolor": "white",
            "linecolor": "white",
            "ticks": ""
           }
          },
          "scene": {
           "xaxis": {
            "backgroundcolor": "#E5ECF6",
            "gridcolor": "white",
            "gridwidth": 2,
            "linecolor": "white",
            "showbackground": true,
            "ticks": "",
            "zerolinecolor": "white"
           },
           "yaxis": {
            "backgroundcolor": "#E5ECF6",
            "gridcolor": "white",
            "gridwidth": 2,
            "linecolor": "white",
            "showbackground": true,
            "ticks": "",
            "zerolinecolor": "white"
           },
           "zaxis": {
            "backgroundcolor": "#E5ECF6",
            "gridcolor": "white",
            "gridwidth": 2,
            "linecolor": "white",
            "showbackground": true,
            "ticks": "",
            "zerolinecolor": "white"
           }
          },
          "shapedefaults": {
           "line": {
            "color": "#2a3f5f"
           }
          },
          "ternary": {
           "aaxis": {
            "gridcolor": "white",
            "linecolor": "white",
            "ticks": ""
           },
           "baxis": {
            "gridcolor": "white",
            "linecolor": "white",
            "ticks": ""
           },
           "bgcolor": "#E5ECF6",
           "caxis": {
            "gridcolor": "white",
            "linecolor": "white",
            "ticks": ""
           }
          },
          "title": {
           "x": 0.05
          },
          "xaxis": {
           "automargin": true,
           "gridcolor": "white",
           "linecolor": "white",
           "ticks": "",
           "title": {
            "standoff": 15
           },
           "zerolinecolor": "white",
           "zerolinewidth": 2
          },
          "yaxis": {
           "automargin": true,
           "gridcolor": "white",
           "linecolor": "white",
           "ticks": "",
           "title": {
            "standoff": 15
           },
           "zerolinecolor": "white",
           "zerolinewidth": 2
          }
         }
        }
       }
      },
      "text/html": [
       "<div>                            <div id=\"ec094ef8-db91-46e5-af7c-051f5f384dc0\" class=\"plotly-graph-div\" style=\"height:525px; width:100%;\"></div>            <script type=\"text/javascript\">                require([\"plotly\"], function(Plotly) {                    window.PLOTLYENV=window.PLOTLYENV || {};                                    if (document.getElementById(\"ec094ef8-db91-46e5-af7c-051f5f384dc0\")) {                    Plotly.newPlot(                        \"ec094ef8-db91-46e5-af7c-051f5f384dc0\",                        [{\"error_y\":{\"array\":[0.891148912591175,2.826237195823834e-08,1.982944410161004e-06],\"type\":\"data\",\"visible\":true},\"x\":[0,1,2],\"y\":[-0.23939131398426075,-0.9999998562259447,-0.9999968660398908],\"type\":\"scatter\"}],                        {\"template\":{\"data\":{\"bar\":[{\"error_x\":{\"color\":\"#2a3f5f\"},\"error_y\":{\"color\":\"#2a3f5f\"},\"marker\":{\"line\":{\"color\":\"#E5ECF6\",\"width\":0.5},\"pattern\":{\"fillmode\":\"overlay\",\"size\":10,\"solidity\":0.2}},\"type\":\"bar\"}],\"barpolar\":[{\"marker\":{\"line\":{\"color\":\"#E5ECF6\",\"width\":0.5},\"pattern\":{\"fillmode\":\"overlay\",\"size\":10,\"solidity\":0.2}},\"type\":\"barpolar\"}],\"carpet\":[{\"aaxis\":{\"endlinecolor\":\"#2a3f5f\",\"gridcolor\":\"white\",\"linecolor\":\"white\",\"minorgridcolor\":\"white\",\"startlinecolor\":\"#2a3f5f\"},\"baxis\":{\"endlinecolor\":\"#2a3f5f\",\"gridcolor\":\"white\",\"linecolor\":\"white\",\"minorgridcolor\":\"white\",\"startlinecolor\":\"#2a3f5f\"},\"type\":\"carpet\"}],\"choropleth\":[{\"colorbar\":{\"outlinewidth\":0,\"ticks\":\"\"},\"type\":\"choropleth\"}],\"contour\":[{\"colorbar\":{\"outlinewidth\":0,\"ticks\":\"\"},\"colorscale\":[[0.0,\"#0d0887\"],[0.1111111111111111,\"#46039f\"],[0.2222222222222222,\"#7201a8\"],[0.3333333333333333,\"#9c179e\"],[0.4444444444444444,\"#bd3786\"],[0.5555555555555556,\"#d8576b\"],[0.6666666666666666,\"#ed7953\"],[0.7777777777777778,\"#fb9f3a\"],[0.8888888888888888,\"#fdca26\"],[1.0,\"#f0f921\"]],\"type\":\"contour\"}],\"contourcarpet\":[{\"colorbar\":{\"outlinewidth\":0,\"ticks\":\"\"},\"type\":\"contourcarpet\"}],\"heatmap\":[{\"colorbar\":{\"outlinewidth\":0,\"ticks\":\"\"},\"colorscale\":[[0.0,\"#0d0887\"],[0.1111111111111111,\"#46039f\"],[0.2222222222222222,\"#7201a8\"],[0.3333333333333333,\"#9c179e\"],[0.4444444444444444,\"#bd3786\"],[0.5555555555555556,\"#d8576b\"],[0.6666666666666666,\"#ed7953\"],[0.7777777777777778,\"#fb9f3a\"],[0.8888888888888888,\"#fdca26\"],[1.0,\"#f0f921\"]],\"type\":\"heatmap\"}],\"heatmapgl\":[{\"colorbar\":{\"outlinewidth\":0,\"ticks\":\"\"},\"colorscale\":[[0.0,\"#0d0887\"],[0.1111111111111111,\"#46039f\"],[0.2222222222222222,\"#7201a8\"],[0.3333333333333333,\"#9c179e\"],[0.4444444444444444,\"#bd3786\"],[0.5555555555555556,\"#d8576b\"],[0.6666666666666666,\"#ed7953\"],[0.7777777777777778,\"#fb9f3a\"],[0.8888888888888888,\"#fdca26\"],[1.0,\"#f0f921\"]],\"type\":\"heatmapgl\"}],\"histogram\":[{\"marker\":{\"pattern\":{\"fillmode\":\"overlay\",\"size\":10,\"solidity\":0.2}},\"type\":\"histogram\"}],\"histogram2d\":[{\"colorbar\":{\"outlinewidth\":0,\"ticks\":\"\"},\"colorscale\":[[0.0,\"#0d0887\"],[0.1111111111111111,\"#46039f\"],[0.2222222222222222,\"#7201a8\"],[0.3333333333333333,\"#9c179e\"],[0.4444444444444444,\"#bd3786\"],[0.5555555555555556,\"#d8576b\"],[0.6666666666666666,\"#ed7953\"],[0.7777777777777778,\"#fb9f3a\"],[0.8888888888888888,\"#fdca26\"],[1.0,\"#f0f921\"]],\"type\":\"histogram2d\"}],\"histogram2dcontour\":[{\"colorbar\":{\"outlinewidth\":0,\"ticks\":\"\"},\"colorscale\":[[0.0,\"#0d0887\"],[0.1111111111111111,\"#46039f\"],[0.2222222222222222,\"#7201a8\"],[0.3333333333333333,\"#9c179e\"],[0.4444444444444444,\"#bd3786\"],[0.5555555555555556,\"#d8576b\"],[0.6666666666666666,\"#ed7953\"],[0.7777777777777778,\"#fb9f3a\"],[0.8888888888888888,\"#fdca26\"],[1.0,\"#f0f921\"]],\"type\":\"histogram2dcontour\"}],\"mesh3d\":[{\"colorbar\":{\"outlinewidth\":0,\"ticks\":\"\"},\"type\":\"mesh3d\"}],\"parcoords\":[{\"line\":{\"colorbar\":{\"outlinewidth\":0,\"ticks\":\"\"}},\"type\":\"parcoords\"}],\"pie\":[{\"automargin\":true,\"type\":\"pie\"}],\"scatter\":[{\"marker\":{\"colorbar\":{\"outlinewidth\":0,\"ticks\":\"\"}},\"type\":\"scatter\"}],\"scatter3d\":[{\"line\":{\"colorbar\":{\"outlinewidth\":0,\"ticks\":\"\"}},\"marker\":{\"colorbar\":{\"outlinewidth\":0,\"ticks\":\"\"}},\"type\":\"scatter3d\"}],\"scattercarpet\":[{\"marker\":{\"colorbar\":{\"outlinewidth\":0,\"ticks\":\"\"}},\"type\":\"scattercarpet\"}],\"scattergeo\":[{\"marker\":{\"colorbar\":{\"outlinewidth\":0,\"ticks\":\"\"}},\"type\":\"scattergeo\"}],\"scattergl\":[{\"marker\":{\"colorbar\":{\"outlinewidth\":0,\"ticks\":\"\"}},\"type\":\"scattergl\"}],\"scattermapbox\":[{\"marker\":{\"colorbar\":{\"outlinewidth\":0,\"ticks\":\"\"}},\"type\":\"scattermapbox\"}],\"scatterpolar\":[{\"marker\":{\"colorbar\":{\"outlinewidth\":0,\"ticks\":\"\"}},\"type\":\"scatterpolar\"}],\"scatterpolargl\":[{\"marker\":{\"colorbar\":{\"outlinewidth\":0,\"ticks\":\"\"}},\"type\":\"scatterpolargl\"}],\"scatterternary\":[{\"marker\":{\"colorbar\":{\"outlinewidth\":0,\"ticks\":\"\"}},\"type\":\"scatterternary\"}],\"surface\":[{\"colorbar\":{\"outlinewidth\":0,\"ticks\":\"\"},\"colorscale\":[[0.0,\"#0d0887\"],[0.1111111111111111,\"#46039f\"],[0.2222222222222222,\"#7201a8\"],[0.3333333333333333,\"#9c179e\"],[0.4444444444444444,\"#bd3786\"],[0.5555555555555556,\"#d8576b\"],[0.6666666666666666,\"#ed7953\"],[0.7777777777777778,\"#fb9f3a\"],[0.8888888888888888,\"#fdca26\"],[1.0,\"#f0f921\"]],\"type\":\"surface\"}],\"table\":[{\"cells\":{\"fill\":{\"color\":\"#EBF0F8\"},\"line\":{\"color\":\"white\"}},\"header\":{\"fill\":{\"color\":\"#C8D4E3\"},\"line\":{\"color\":\"white\"}},\"type\":\"table\"}]},\"layout\":{\"annotationdefaults\":{\"arrowcolor\":\"#2a3f5f\",\"arrowhead\":0,\"arrowwidth\":1},\"autotypenumbers\":\"strict\",\"coloraxis\":{\"colorbar\":{\"outlinewidth\":0,\"ticks\":\"\"}},\"colorscale\":{\"diverging\":[[0,\"#8e0152\"],[0.1,\"#c51b7d\"],[0.2,\"#de77ae\"],[0.3,\"#f1b6da\"],[0.4,\"#fde0ef\"],[0.5,\"#f7f7f7\"],[0.6,\"#e6f5d0\"],[0.7,\"#b8e186\"],[0.8,\"#7fbc41\"],[0.9,\"#4d9221\"],[1,\"#276419\"]],\"sequential\":[[0.0,\"#0d0887\"],[0.1111111111111111,\"#46039f\"],[0.2222222222222222,\"#7201a8\"],[0.3333333333333333,\"#9c179e\"],[0.4444444444444444,\"#bd3786\"],[0.5555555555555556,\"#d8576b\"],[0.6666666666666666,\"#ed7953\"],[0.7777777777777778,\"#fb9f3a\"],[0.8888888888888888,\"#fdca26\"],[1.0,\"#f0f921\"]],\"sequentialminus\":[[0.0,\"#0d0887\"],[0.1111111111111111,\"#46039f\"],[0.2222222222222222,\"#7201a8\"],[0.3333333333333333,\"#9c179e\"],[0.4444444444444444,\"#bd3786\"],[0.5555555555555556,\"#d8576b\"],[0.6666666666666666,\"#ed7953\"],[0.7777777777777778,\"#fb9f3a\"],[0.8888888888888888,\"#fdca26\"],[1.0,\"#f0f921\"]]},\"colorway\":[\"#636efa\",\"#EF553B\",\"#00cc96\",\"#ab63fa\",\"#FFA15A\",\"#19d3f3\",\"#FF6692\",\"#B6E880\",\"#FF97FF\",\"#FECB52\"],\"font\":{\"color\":\"#2a3f5f\"},\"geo\":{\"bgcolor\":\"white\",\"lakecolor\":\"white\",\"landcolor\":\"#E5ECF6\",\"showlakes\":true,\"showland\":true,\"subunitcolor\":\"white\"},\"hoverlabel\":{\"align\":\"left\"},\"hovermode\":\"closest\",\"mapbox\":{\"style\":\"light\"},\"paper_bgcolor\":\"white\",\"plot_bgcolor\":\"#E5ECF6\",\"polar\":{\"angularaxis\":{\"gridcolor\":\"white\",\"linecolor\":\"white\",\"ticks\":\"\"},\"bgcolor\":\"#E5ECF6\",\"radialaxis\":{\"gridcolor\":\"white\",\"linecolor\":\"white\",\"ticks\":\"\"}},\"scene\":{\"xaxis\":{\"backgroundcolor\":\"#E5ECF6\",\"gridcolor\":\"white\",\"gridwidth\":2,\"linecolor\":\"white\",\"showbackground\":true,\"ticks\":\"\",\"zerolinecolor\":\"white\"},\"yaxis\":{\"backgroundcolor\":\"#E5ECF6\",\"gridcolor\":\"white\",\"gridwidth\":2,\"linecolor\":\"white\",\"showbackground\":true,\"ticks\":\"\",\"zerolinecolor\":\"white\"},\"zaxis\":{\"backgroundcolor\":\"#E5ECF6\",\"gridcolor\":\"white\",\"gridwidth\":2,\"linecolor\":\"white\",\"showbackground\":true,\"ticks\":\"\",\"zerolinecolor\":\"white\"}},\"shapedefaults\":{\"line\":{\"color\":\"#2a3f5f\"}},\"ternary\":{\"aaxis\":{\"gridcolor\":\"white\",\"linecolor\":\"white\",\"ticks\":\"\"},\"baxis\":{\"gridcolor\":\"white\",\"linecolor\":\"white\",\"ticks\":\"\"},\"bgcolor\":\"#E5ECF6\",\"caxis\":{\"gridcolor\":\"white\",\"linecolor\":\"white\",\"ticks\":\"\"}},\"title\":{\"x\":0.05},\"xaxis\":{\"automargin\":true,\"gridcolor\":\"white\",\"linecolor\":\"white\",\"ticks\":\"\",\"title\":{\"standoff\":15},\"zerolinecolor\":\"white\",\"zerolinewidth\":2},\"yaxis\":{\"automargin\":true,\"gridcolor\":\"white\",\"linecolor\":\"white\",\"ticks\":\"\",\"title\":{\"standoff\":15},\"zerolinecolor\":\"white\",\"zerolinewidth\":2}}}},                        {\"responsive\": true}                    ).then(function(){\n",
       "                            \n",
       "var gd = document.getElementById('ec094ef8-db91-46e5-af7c-051f5f384dc0');\n",
       "var x = new MutationObserver(function (mutations, observer) {{\n",
       "        var display = window.getComputedStyle(gd).display;\n",
       "        if (!display || display === 'none') {{\n",
       "            console.log([gd, 'removed!']);\n",
       "            Plotly.purge(gd);\n",
       "            observer.disconnect();\n",
       "        }}\n",
       "}});\n",
       "\n",
       "// Listen for the removal of the full notebook cells\n",
       "var notebookContainer = gd.closest('#notebook-container');\n",
       "if (notebookContainer) {{\n",
       "    x.observe(notebookContainer, {childList: true});\n",
       "}}\n",
       "\n",
       "// Listen for the clearing of the current output cell\n",
       "var outputEl = gd.closest('.output');\n",
       "if (outputEl) {{\n",
       "    x.observe(outputEl, {childList: true});\n",
       "}}\n",
       "\n",
       "                        })                };                });            </script>        </div>"
      ]
     },
     "metadata": {},
     "output_type": "display_data"
    }
   ],
   "source": [
    "fig = go.Figure(data=go.Scatter(\n",
    "        x=[0, 1, 2],\n",
    "        y=((df - risk)/risk).mean(),\n",
    "        error_y=dict(\n",
    "            type='data', # value of error bar given in data coordinates\n",
    "            array=((df - risk)/risk).std(),\n",
    "            visible=True)\n",
    "    ))\n",
    "fig.show()"
   ]
  },
  {
   "cell_type": "code",
   "execution_count": 107,
   "metadata": {},
   "outputs": [
    {
     "data": {
      "text/plain": [
       "GenCp    7.606087e-01\n",
       "KFCV     1.437741e-07\n",
       "SPCV     3.133960e-06\n",
       "dtype: float64"
      ]
     },
     "execution_count": 107,
     "metadata": {},
     "output_type": "execute_result"
    }
   ],
   "source": [
    "(df/risk).mean()"
   ]
  },
  {
   "cell_type": "code",
   "execution_count": 108,
   "metadata": {},
   "outputs": [
    {
     "data": {
      "application/vnd.plotly.v1+json": {
       "config": {
        "plotlyServerURL": "https://plot.ly"
       },
       "data": [
        {
         "error_y": {
          "array": [
           1.1248922659696072,
           1.5580044692224927e-07,
           3.920128567287222e-06
          ],
          "arrayminus": [
           0.13260084510845307,
           1.2468586007742464e-07,
           1.7892393663474915e-06
          ],
          "color": "black",
          "symmetric": false,
          "type": "data"
         },
         "marker": {
          "color": [
           "#636EFA",
           "#EF553B",
           "#00CC96",
           "#AB63FA",
           "#FFA15A",
           "#19D3F3",
           "#FF6692",
           "#B6E880",
           "#FF97FF",
           "#FECB52"
          ]
         },
         "name": "Control",
         "text": [
          0.761,
          0,
          0
         ],
         "textposition": "outside",
         "type": "bar",
         "x": [
          "GenCp",
          "KFCV",
          "SPCV"
         ],
         "y": [
          0.7606086860157392,
          1.4377405516452264e-07,
          3.1339601091488563e-06
         ]
        }
       ],
       "layout": {
        "shapes": [
         {
          "line": {
           "color": "red"
          },
          "type": "line",
          "x0": 0,
          "x1": 1,
          "xref": "x domain",
          "y0": 1,
          "y1": 1,
          "yref": "y"
         }
        ],
        "template": {
         "data": {
          "bar": [
           {
            "error_x": {
             "color": "#2a3f5f"
            },
            "error_y": {
             "color": "#2a3f5f"
            },
            "marker": {
             "line": {
              "color": "#E5ECF6",
              "width": 0.5
             },
             "pattern": {
              "fillmode": "overlay",
              "size": 10,
              "solidity": 0.2
             }
            },
            "type": "bar"
           }
          ],
          "barpolar": [
           {
            "marker": {
             "line": {
              "color": "#E5ECF6",
              "width": 0.5
             },
             "pattern": {
              "fillmode": "overlay",
              "size": 10,
              "solidity": 0.2
             }
            },
            "type": "barpolar"
           }
          ],
          "carpet": [
           {
            "aaxis": {
             "endlinecolor": "#2a3f5f",
             "gridcolor": "white",
             "linecolor": "white",
             "minorgridcolor": "white",
             "startlinecolor": "#2a3f5f"
            },
            "baxis": {
             "endlinecolor": "#2a3f5f",
             "gridcolor": "white",
             "linecolor": "white",
             "minorgridcolor": "white",
             "startlinecolor": "#2a3f5f"
            },
            "type": "carpet"
           }
          ],
          "choropleth": [
           {
            "colorbar": {
             "outlinewidth": 0,
             "ticks": ""
            },
            "type": "choropleth"
           }
          ],
          "contour": [
           {
            "colorbar": {
             "outlinewidth": 0,
             "ticks": ""
            },
            "colorscale": [
             [
              0,
              "#0d0887"
             ],
             [
              0.1111111111111111,
              "#46039f"
             ],
             [
              0.2222222222222222,
              "#7201a8"
             ],
             [
              0.3333333333333333,
              "#9c179e"
             ],
             [
              0.4444444444444444,
              "#bd3786"
             ],
             [
              0.5555555555555556,
              "#d8576b"
             ],
             [
              0.6666666666666666,
              "#ed7953"
             ],
             [
              0.7777777777777778,
              "#fb9f3a"
             ],
             [
              0.8888888888888888,
              "#fdca26"
             ],
             [
              1,
              "#f0f921"
             ]
            ],
            "type": "contour"
           }
          ],
          "contourcarpet": [
           {
            "colorbar": {
             "outlinewidth": 0,
             "ticks": ""
            },
            "type": "contourcarpet"
           }
          ],
          "heatmap": [
           {
            "colorbar": {
             "outlinewidth": 0,
             "ticks": ""
            },
            "colorscale": [
             [
              0,
              "#0d0887"
             ],
             [
              0.1111111111111111,
              "#46039f"
             ],
             [
              0.2222222222222222,
              "#7201a8"
             ],
             [
              0.3333333333333333,
              "#9c179e"
             ],
             [
              0.4444444444444444,
              "#bd3786"
             ],
             [
              0.5555555555555556,
              "#d8576b"
             ],
             [
              0.6666666666666666,
              "#ed7953"
             ],
             [
              0.7777777777777778,
              "#fb9f3a"
             ],
             [
              0.8888888888888888,
              "#fdca26"
             ],
             [
              1,
              "#f0f921"
             ]
            ],
            "type": "heatmap"
           }
          ],
          "heatmapgl": [
           {
            "colorbar": {
             "outlinewidth": 0,
             "ticks": ""
            },
            "colorscale": [
             [
              0,
              "#0d0887"
             ],
             [
              0.1111111111111111,
              "#46039f"
             ],
             [
              0.2222222222222222,
              "#7201a8"
             ],
             [
              0.3333333333333333,
              "#9c179e"
             ],
             [
              0.4444444444444444,
              "#bd3786"
             ],
             [
              0.5555555555555556,
              "#d8576b"
             ],
             [
              0.6666666666666666,
              "#ed7953"
             ],
             [
              0.7777777777777778,
              "#fb9f3a"
             ],
             [
              0.8888888888888888,
              "#fdca26"
             ],
             [
              1,
              "#f0f921"
             ]
            ],
            "type": "heatmapgl"
           }
          ],
          "histogram": [
           {
            "marker": {
             "pattern": {
              "fillmode": "overlay",
              "size": 10,
              "solidity": 0.2
             }
            },
            "type": "histogram"
           }
          ],
          "histogram2d": [
           {
            "colorbar": {
             "outlinewidth": 0,
             "ticks": ""
            },
            "colorscale": [
             [
              0,
              "#0d0887"
             ],
             [
              0.1111111111111111,
              "#46039f"
             ],
             [
              0.2222222222222222,
              "#7201a8"
             ],
             [
              0.3333333333333333,
              "#9c179e"
             ],
             [
              0.4444444444444444,
              "#bd3786"
             ],
             [
              0.5555555555555556,
              "#d8576b"
             ],
             [
              0.6666666666666666,
              "#ed7953"
             ],
             [
              0.7777777777777778,
              "#fb9f3a"
             ],
             [
              0.8888888888888888,
              "#fdca26"
             ],
             [
              1,
              "#f0f921"
             ]
            ],
            "type": "histogram2d"
           }
          ],
          "histogram2dcontour": [
           {
            "colorbar": {
             "outlinewidth": 0,
             "ticks": ""
            },
            "colorscale": [
             [
              0,
              "#0d0887"
             ],
             [
              0.1111111111111111,
              "#46039f"
             ],
             [
              0.2222222222222222,
              "#7201a8"
             ],
             [
              0.3333333333333333,
              "#9c179e"
             ],
             [
              0.4444444444444444,
              "#bd3786"
             ],
             [
              0.5555555555555556,
              "#d8576b"
             ],
             [
              0.6666666666666666,
              "#ed7953"
             ],
             [
              0.7777777777777778,
              "#fb9f3a"
             ],
             [
              0.8888888888888888,
              "#fdca26"
             ],
             [
              1,
              "#f0f921"
             ]
            ],
            "type": "histogram2dcontour"
           }
          ],
          "mesh3d": [
           {
            "colorbar": {
             "outlinewidth": 0,
             "ticks": ""
            },
            "type": "mesh3d"
           }
          ],
          "parcoords": [
           {
            "line": {
             "colorbar": {
              "outlinewidth": 0,
              "ticks": ""
             }
            },
            "type": "parcoords"
           }
          ],
          "pie": [
           {
            "automargin": true,
            "type": "pie"
           }
          ],
          "scatter": [
           {
            "marker": {
             "colorbar": {
              "outlinewidth": 0,
              "ticks": ""
             }
            },
            "type": "scatter"
           }
          ],
          "scatter3d": [
           {
            "line": {
             "colorbar": {
              "outlinewidth": 0,
              "ticks": ""
             }
            },
            "marker": {
             "colorbar": {
              "outlinewidth": 0,
              "ticks": ""
             }
            },
            "type": "scatter3d"
           }
          ],
          "scattercarpet": [
           {
            "marker": {
             "colorbar": {
              "outlinewidth": 0,
              "ticks": ""
             }
            },
            "type": "scattercarpet"
           }
          ],
          "scattergeo": [
           {
            "marker": {
             "colorbar": {
              "outlinewidth": 0,
              "ticks": ""
             }
            },
            "type": "scattergeo"
           }
          ],
          "scattergl": [
           {
            "marker": {
             "colorbar": {
              "outlinewidth": 0,
              "ticks": ""
             }
            },
            "type": "scattergl"
           }
          ],
          "scattermapbox": [
           {
            "marker": {
             "colorbar": {
              "outlinewidth": 0,
              "ticks": ""
             }
            },
            "type": "scattermapbox"
           }
          ],
          "scatterpolar": [
           {
            "marker": {
             "colorbar": {
              "outlinewidth": 0,
              "ticks": ""
             }
            },
            "type": "scatterpolar"
           }
          ],
          "scatterpolargl": [
           {
            "marker": {
             "colorbar": {
              "outlinewidth": 0,
              "ticks": ""
             }
            },
            "type": "scatterpolargl"
           }
          ],
          "scatterternary": [
           {
            "marker": {
             "colorbar": {
              "outlinewidth": 0,
              "ticks": ""
             }
            },
            "type": "scatterternary"
           }
          ],
          "surface": [
           {
            "colorbar": {
             "outlinewidth": 0,
             "ticks": ""
            },
            "colorscale": [
             [
              0,
              "#0d0887"
             ],
             [
              0.1111111111111111,
              "#46039f"
             ],
             [
              0.2222222222222222,
              "#7201a8"
             ],
             [
              0.3333333333333333,
              "#9c179e"
             ],
             [
              0.4444444444444444,
              "#bd3786"
             ],
             [
              0.5555555555555556,
              "#d8576b"
             ],
             [
              0.6666666666666666,
              "#ed7953"
             ],
             [
              0.7777777777777778,
              "#fb9f3a"
             ],
             [
              0.8888888888888888,
              "#fdca26"
             ],
             [
              1,
              "#f0f921"
             ]
            ],
            "type": "surface"
           }
          ],
          "table": [
           {
            "cells": {
             "fill": {
              "color": "#EBF0F8"
             },
             "line": {
              "color": "white"
             }
            },
            "header": {
             "fill": {
              "color": "#C8D4E3"
             },
             "line": {
              "color": "white"
             }
            },
            "type": "table"
           }
          ]
         },
         "layout": {
          "annotationdefaults": {
           "arrowcolor": "#2a3f5f",
           "arrowhead": 0,
           "arrowwidth": 1
          },
          "autotypenumbers": "strict",
          "coloraxis": {
           "colorbar": {
            "outlinewidth": 0,
            "ticks": ""
           }
          },
          "colorscale": {
           "diverging": [
            [
             0,
             "#8e0152"
            ],
            [
             0.1,
             "#c51b7d"
            ],
            [
             0.2,
             "#de77ae"
            ],
            [
             0.3,
             "#f1b6da"
            ],
            [
             0.4,
             "#fde0ef"
            ],
            [
             0.5,
             "#f7f7f7"
            ],
            [
             0.6,
             "#e6f5d0"
            ],
            [
             0.7,
             "#b8e186"
            ],
            [
             0.8,
             "#7fbc41"
            ],
            [
             0.9,
             "#4d9221"
            ],
            [
             1,
             "#276419"
            ]
           ],
           "sequential": [
            [
             0,
             "#0d0887"
            ],
            [
             0.1111111111111111,
             "#46039f"
            ],
            [
             0.2222222222222222,
             "#7201a8"
            ],
            [
             0.3333333333333333,
             "#9c179e"
            ],
            [
             0.4444444444444444,
             "#bd3786"
            ],
            [
             0.5555555555555556,
             "#d8576b"
            ],
            [
             0.6666666666666666,
             "#ed7953"
            ],
            [
             0.7777777777777778,
             "#fb9f3a"
            ],
            [
             0.8888888888888888,
             "#fdca26"
            ],
            [
             1,
             "#f0f921"
            ]
           ],
           "sequentialminus": [
            [
             0,
             "#0d0887"
            ],
            [
             0.1111111111111111,
             "#46039f"
            ],
            [
             0.2222222222222222,
             "#7201a8"
            ],
            [
             0.3333333333333333,
             "#9c179e"
            ],
            [
             0.4444444444444444,
             "#bd3786"
            ],
            [
             0.5555555555555556,
             "#d8576b"
            ],
            [
             0.6666666666666666,
             "#ed7953"
            ],
            [
             0.7777777777777778,
             "#fb9f3a"
            ],
            [
             0.8888888888888888,
             "#fdca26"
            ],
            [
             1,
             "#f0f921"
            ]
           ]
          },
          "colorway": [
           "#636efa",
           "#EF553B",
           "#00cc96",
           "#ab63fa",
           "#FFA15A",
           "#19d3f3",
           "#FF6692",
           "#B6E880",
           "#FF97FF",
           "#FECB52"
          ],
          "font": {
           "color": "#2a3f5f"
          },
          "geo": {
           "bgcolor": "white",
           "lakecolor": "white",
           "landcolor": "#E5ECF6",
           "showlakes": true,
           "showland": true,
           "subunitcolor": "white"
          },
          "hoverlabel": {
           "align": "left"
          },
          "hovermode": "closest",
          "mapbox": {
           "style": "light"
          },
          "paper_bgcolor": "white",
          "plot_bgcolor": "#E5ECF6",
          "polar": {
           "angularaxis": {
            "gridcolor": "white",
            "linecolor": "white",
            "ticks": ""
           },
           "bgcolor": "#E5ECF6",
           "radialaxis": {
            "gridcolor": "white",
            "linecolor": "white",
            "ticks": ""
           }
          },
          "scene": {
           "xaxis": {
            "backgroundcolor": "#E5ECF6",
            "gridcolor": "white",
            "gridwidth": 2,
            "linecolor": "white",
            "showbackground": true,
            "ticks": "",
            "zerolinecolor": "white"
           },
           "yaxis": {
            "backgroundcolor": "#E5ECF6",
            "gridcolor": "white",
            "gridwidth": 2,
            "linecolor": "white",
            "showbackground": true,
            "ticks": "",
            "zerolinecolor": "white"
           },
           "zaxis": {
            "backgroundcolor": "#E5ECF6",
            "gridcolor": "white",
            "gridwidth": 2,
            "linecolor": "white",
            "showbackground": true,
            "ticks": "",
            "zerolinecolor": "white"
           }
          },
          "shapedefaults": {
           "line": {
            "color": "#2a3f5f"
           }
          },
          "ternary": {
           "aaxis": {
            "gridcolor": "white",
            "linecolor": "white",
            "ticks": ""
           },
           "baxis": {
            "gridcolor": "white",
            "linecolor": "white",
            "ticks": ""
           },
           "bgcolor": "#E5ECF6",
           "caxis": {
            "gridcolor": "white",
            "linecolor": "white",
            "ticks": ""
           }
          },
          "title": {
           "x": 0.05
          },
          "xaxis": {
           "automargin": true,
           "gridcolor": "white",
           "linecolor": "white",
           "ticks": "",
           "title": {
            "standoff": 15
           },
           "zerolinecolor": "white",
           "zerolinewidth": 2
          },
          "yaxis": {
           "automargin": true,
           "gridcolor": "white",
           "linecolor": "white",
           "ticks": "",
           "title": {
            "standoff": 15
           },
           "zerolinecolor": "white",
           "zerolinewidth": 2
          }
         }
        },
        "title": {
         "text": "Linear Regression Test Error Estimates"
        },
        "xaxis": {
         "title": {
          "text": "Method"
         }
        },
        "yaxis": {
         "title": {
          "text": "Relative MSE"
         }
        }
       }
      },
      "text/html": [
       "<div>                            <div id=\"54ee400a-bf96-4e63-82f2-64e2392764d4\" class=\"plotly-graph-div\" style=\"height:525px; width:100%;\"></div>            <script type=\"text/javascript\">                require([\"plotly\"], function(Plotly) {                    window.PLOTLYENV=window.PLOTLYENV || {};                                    if (document.getElementById(\"54ee400a-bf96-4e63-82f2-64e2392764d4\")) {                    Plotly.newPlot(                        \"54ee400a-bf96-4e63-82f2-64e2392764d4\",                        [{\"error_y\":{\"array\":[1.1248922659696072,1.5580044692224927e-07,3.920128567287222e-06],\"arrayminus\":[0.13260084510845307,1.2468586007742464e-07,1.7892393663474915e-06],\"color\":\"black\",\"symmetric\":false,\"type\":\"data\"},\"marker\":{\"color\":[\"#636EFA\",\"#EF553B\",\"#00CC96\",\"#AB63FA\",\"#FFA15A\",\"#19D3F3\",\"#FF6692\",\"#B6E880\",\"#FF97FF\",\"#FECB52\"]},\"name\":\"Control\",\"text\":[0.761,0.0,0.0],\"textposition\":\"outside\",\"x\":[\"GenCp\",\"KFCV\",\"SPCV\"],\"y\":[0.7606086860157392,1.4377405516452264e-07,3.1339601091488563e-06],\"type\":\"bar\"}],                        {\"template\":{\"data\":{\"bar\":[{\"error_x\":{\"color\":\"#2a3f5f\"},\"error_y\":{\"color\":\"#2a3f5f\"},\"marker\":{\"line\":{\"color\":\"#E5ECF6\",\"width\":0.5},\"pattern\":{\"fillmode\":\"overlay\",\"size\":10,\"solidity\":0.2}},\"type\":\"bar\"}],\"barpolar\":[{\"marker\":{\"line\":{\"color\":\"#E5ECF6\",\"width\":0.5},\"pattern\":{\"fillmode\":\"overlay\",\"size\":10,\"solidity\":0.2}},\"type\":\"barpolar\"}],\"carpet\":[{\"aaxis\":{\"endlinecolor\":\"#2a3f5f\",\"gridcolor\":\"white\",\"linecolor\":\"white\",\"minorgridcolor\":\"white\",\"startlinecolor\":\"#2a3f5f\"},\"baxis\":{\"endlinecolor\":\"#2a3f5f\",\"gridcolor\":\"white\",\"linecolor\":\"white\",\"minorgridcolor\":\"white\",\"startlinecolor\":\"#2a3f5f\"},\"type\":\"carpet\"}],\"choropleth\":[{\"colorbar\":{\"outlinewidth\":0,\"ticks\":\"\"},\"type\":\"choropleth\"}],\"contour\":[{\"colorbar\":{\"outlinewidth\":0,\"ticks\":\"\"},\"colorscale\":[[0.0,\"#0d0887\"],[0.1111111111111111,\"#46039f\"],[0.2222222222222222,\"#7201a8\"],[0.3333333333333333,\"#9c179e\"],[0.4444444444444444,\"#bd3786\"],[0.5555555555555556,\"#d8576b\"],[0.6666666666666666,\"#ed7953\"],[0.7777777777777778,\"#fb9f3a\"],[0.8888888888888888,\"#fdca26\"],[1.0,\"#f0f921\"]],\"type\":\"contour\"}],\"contourcarpet\":[{\"colorbar\":{\"outlinewidth\":0,\"ticks\":\"\"},\"type\":\"contourcarpet\"}],\"heatmap\":[{\"colorbar\":{\"outlinewidth\":0,\"ticks\":\"\"},\"colorscale\":[[0.0,\"#0d0887\"],[0.1111111111111111,\"#46039f\"],[0.2222222222222222,\"#7201a8\"],[0.3333333333333333,\"#9c179e\"],[0.4444444444444444,\"#bd3786\"],[0.5555555555555556,\"#d8576b\"],[0.6666666666666666,\"#ed7953\"],[0.7777777777777778,\"#fb9f3a\"],[0.8888888888888888,\"#fdca26\"],[1.0,\"#f0f921\"]],\"type\":\"heatmap\"}],\"heatmapgl\":[{\"colorbar\":{\"outlinewidth\":0,\"ticks\":\"\"},\"colorscale\":[[0.0,\"#0d0887\"],[0.1111111111111111,\"#46039f\"],[0.2222222222222222,\"#7201a8\"],[0.3333333333333333,\"#9c179e\"],[0.4444444444444444,\"#bd3786\"],[0.5555555555555556,\"#d8576b\"],[0.6666666666666666,\"#ed7953\"],[0.7777777777777778,\"#fb9f3a\"],[0.8888888888888888,\"#fdca26\"],[1.0,\"#f0f921\"]],\"type\":\"heatmapgl\"}],\"histogram\":[{\"marker\":{\"pattern\":{\"fillmode\":\"overlay\",\"size\":10,\"solidity\":0.2}},\"type\":\"histogram\"}],\"histogram2d\":[{\"colorbar\":{\"outlinewidth\":0,\"ticks\":\"\"},\"colorscale\":[[0.0,\"#0d0887\"],[0.1111111111111111,\"#46039f\"],[0.2222222222222222,\"#7201a8\"],[0.3333333333333333,\"#9c179e\"],[0.4444444444444444,\"#bd3786\"],[0.5555555555555556,\"#d8576b\"],[0.6666666666666666,\"#ed7953\"],[0.7777777777777778,\"#fb9f3a\"],[0.8888888888888888,\"#fdca26\"],[1.0,\"#f0f921\"]],\"type\":\"histogram2d\"}],\"histogram2dcontour\":[{\"colorbar\":{\"outlinewidth\":0,\"ticks\":\"\"},\"colorscale\":[[0.0,\"#0d0887\"],[0.1111111111111111,\"#46039f\"],[0.2222222222222222,\"#7201a8\"],[0.3333333333333333,\"#9c179e\"],[0.4444444444444444,\"#bd3786\"],[0.5555555555555556,\"#d8576b\"],[0.6666666666666666,\"#ed7953\"],[0.7777777777777778,\"#fb9f3a\"],[0.8888888888888888,\"#fdca26\"],[1.0,\"#f0f921\"]],\"type\":\"histogram2dcontour\"}],\"mesh3d\":[{\"colorbar\":{\"outlinewidth\":0,\"ticks\":\"\"},\"type\":\"mesh3d\"}],\"parcoords\":[{\"line\":{\"colorbar\":{\"outlinewidth\":0,\"ticks\":\"\"}},\"type\":\"parcoords\"}],\"pie\":[{\"automargin\":true,\"type\":\"pie\"}],\"scatter\":[{\"marker\":{\"colorbar\":{\"outlinewidth\":0,\"ticks\":\"\"}},\"type\":\"scatter\"}],\"scatter3d\":[{\"line\":{\"colorbar\":{\"outlinewidth\":0,\"ticks\":\"\"}},\"marker\":{\"colorbar\":{\"outlinewidth\":0,\"ticks\":\"\"}},\"type\":\"scatter3d\"}],\"scattercarpet\":[{\"marker\":{\"colorbar\":{\"outlinewidth\":0,\"ticks\":\"\"}},\"type\":\"scattercarpet\"}],\"scattergeo\":[{\"marker\":{\"colorbar\":{\"outlinewidth\":0,\"ticks\":\"\"}},\"type\":\"scattergeo\"}],\"scattergl\":[{\"marker\":{\"colorbar\":{\"outlinewidth\":0,\"ticks\":\"\"}},\"type\":\"scattergl\"}],\"scattermapbox\":[{\"marker\":{\"colorbar\":{\"outlinewidth\":0,\"ticks\":\"\"}},\"type\":\"scattermapbox\"}],\"scatterpolar\":[{\"marker\":{\"colorbar\":{\"outlinewidth\":0,\"ticks\":\"\"}},\"type\":\"scatterpolar\"}],\"scatterpolargl\":[{\"marker\":{\"colorbar\":{\"outlinewidth\":0,\"ticks\":\"\"}},\"type\":\"scatterpolargl\"}],\"scatterternary\":[{\"marker\":{\"colorbar\":{\"outlinewidth\":0,\"ticks\":\"\"}},\"type\":\"scatterternary\"}],\"surface\":[{\"colorbar\":{\"outlinewidth\":0,\"ticks\":\"\"},\"colorscale\":[[0.0,\"#0d0887\"],[0.1111111111111111,\"#46039f\"],[0.2222222222222222,\"#7201a8\"],[0.3333333333333333,\"#9c179e\"],[0.4444444444444444,\"#bd3786\"],[0.5555555555555556,\"#d8576b\"],[0.6666666666666666,\"#ed7953\"],[0.7777777777777778,\"#fb9f3a\"],[0.8888888888888888,\"#fdca26\"],[1.0,\"#f0f921\"]],\"type\":\"surface\"}],\"table\":[{\"cells\":{\"fill\":{\"color\":\"#EBF0F8\"},\"line\":{\"color\":\"white\"}},\"header\":{\"fill\":{\"color\":\"#C8D4E3\"},\"line\":{\"color\":\"white\"}},\"type\":\"table\"}]},\"layout\":{\"annotationdefaults\":{\"arrowcolor\":\"#2a3f5f\",\"arrowhead\":0,\"arrowwidth\":1},\"autotypenumbers\":\"strict\",\"coloraxis\":{\"colorbar\":{\"outlinewidth\":0,\"ticks\":\"\"}},\"colorscale\":{\"diverging\":[[0,\"#8e0152\"],[0.1,\"#c51b7d\"],[0.2,\"#de77ae\"],[0.3,\"#f1b6da\"],[0.4,\"#fde0ef\"],[0.5,\"#f7f7f7\"],[0.6,\"#e6f5d0\"],[0.7,\"#b8e186\"],[0.8,\"#7fbc41\"],[0.9,\"#4d9221\"],[1,\"#276419\"]],\"sequential\":[[0.0,\"#0d0887\"],[0.1111111111111111,\"#46039f\"],[0.2222222222222222,\"#7201a8\"],[0.3333333333333333,\"#9c179e\"],[0.4444444444444444,\"#bd3786\"],[0.5555555555555556,\"#d8576b\"],[0.6666666666666666,\"#ed7953\"],[0.7777777777777778,\"#fb9f3a\"],[0.8888888888888888,\"#fdca26\"],[1.0,\"#f0f921\"]],\"sequentialminus\":[[0.0,\"#0d0887\"],[0.1111111111111111,\"#46039f\"],[0.2222222222222222,\"#7201a8\"],[0.3333333333333333,\"#9c179e\"],[0.4444444444444444,\"#bd3786\"],[0.5555555555555556,\"#d8576b\"],[0.6666666666666666,\"#ed7953\"],[0.7777777777777778,\"#fb9f3a\"],[0.8888888888888888,\"#fdca26\"],[1.0,\"#f0f921\"]]},\"colorway\":[\"#636efa\",\"#EF553B\",\"#00cc96\",\"#ab63fa\",\"#FFA15A\",\"#19d3f3\",\"#FF6692\",\"#B6E880\",\"#FF97FF\",\"#FECB52\"],\"font\":{\"color\":\"#2a3f5f\"},\"geo\":{\"bgcolor\":\"white\",\"lakecolor\":\"white\",\"landcolor\":\"#E5ECF6\",\"showlakes\":true,\"showland\":true,\"subunitcolor\":\"white\"},\"hoverlabel\":{\"align\":\"left\"},\"hovermode\":\"closest\",\"mapbox\":{\"style\":\"light\"},\"paper_bgcolor\":\"white\",\"plot_bgcolor\":\"#E5ECF6\",\"polar\":{\"angularaxis\":{\"gridcolor\":\"white\",\"linecolor\":\"white\",\"ticks\":\"\"},\"bgcolor\":\"#E5ECF6\",\"radialaxis\":{\"gridcolor\":\"white\",\"linecolor\":\"white\",\"ticks\":\"\"}},\"scene\":{\"xaxis\":{\"backgroundcolor\":\"#E5ECF6\",\"gridcolor\":\"white\",\"gridwidth\":2,\"linecolor\":\"white\",\"showbackground\":true,\"ticks\":\"\",\"zerolinecolor\":\"white\"},\"yaxis\":{\"backgroundcolor\":\"#E5ECF6\",\"gridcolor\":\"white\",\"gridwidth\":2,\"linecolor\":\"white\",\"showbackground\":true,\"ticks\":\"\",\"zerolinecolor\":\"white\"},\"zaxis\":{\"backgroundcolor\":\"#E5ECF6\",\"gridcolor\":\"white\",\"gridwidth\":2,\"linecolor\":\"white\",\"showbackground\":true,\"ticks\":\"\",\"zerolinecolor\":\"white\"}},\"shapedefaults\":{\"line\":{\"color\":\"#2a3f5f\"}},\"ternary\":{\"aaxis\":{\"gridcolor\":\"white\",\"linecolor\":\"white\",\"ticks\":\"\"},\"baxis\":{\"gridcolor\":\"white\",\"linecolor\":\"white\",\"ticks\":\"\"},\"bgcolor\":\"#E5ECF6\",\"caxis\":{\"gridcolor\":\"white\",\"linecolor\":\"white\",\"ticks\":\"\"}},\"title\":{\"x\":0.05},\"xaxis\":{\"automargin\":true,\"gridcolor\":\"white\",\"linecolor\":\"white\",\"ticks\":\"\",\"title\":{\"standoff\":15},\"zerolinecolor\":\"white\",\"zerolinewidth\":2},\"yaxis\":{\"automargin\":true,\"gridcolor\":\"white\",\"linecolor\":\"white\",\"ticks\":\"\",\"title\":{\"standoff\":15},\"zerolinecolor\":\"white\",\"zerolinewidth\":2}}},\"shapes\":[{\"line\":{\"color\":\"red\"},\"type\":\"line\",\"x0\":0,\"x1\":1,\"xref\":\"x domain\",\"y0\":1.0,\"y1\":1.0,\"yref\":\"y\"}],\"title\":{\"text\":\"Linear Regression Test Error Estimates\"},\"xaxis\":{\"title\":{\"text\":\"Method\"}},\"yaxis\":{\"title\":{\"text\":\"Relative MSE\"}}},                        {\"responsive\": true}                    ).then(function(){\n",
       "                            \n",
       "var gd = document.getElementById('54ee400a-bf96-4e63-82f2-64e2392764d4');\n",
       "var x = new MutationObserver(function (mutations, observer) {{\n",
       "        var display = window.getComputedStyle(gd).display;\n",
       "        if (!display || display === 'none') {{\n",
       "            console.log([gd, 'removed!']);\n",
       "            Plotly.purge(gd);\n",
       "            observer.disconnect();\n",
       "        }}\n",
       "}});\n",
       "\n",
       "// Listen for the removal of the full notebook cells\n",
       "var notebookContainer = gd.closest('#notebook-container');\n",
       "if (notebookContainer) {{\n",
       "    x.observe(notebookContainer, {childList: true});\n",
       "}}\n",
       "\n",
       "// Listen for the clearing of the current output cell\n",
       "var outputEl = gd.closest('.output');\n",
       "if (outputEl) {{\n",
       "    x.observe(outputEl, {childList: true});\n",
       "}}\n",
       "\n",
       "                        })                };                });            </script>        </div>"
      ]
     },
     "metadata": {},
     "output_type": "display_data"
    }
   ],
   "source": [
    "fig = go.Figure()\n",
    "fig.add_trace(go.Bar(\n",
    "    name='Control',\n",
    "    x=['GenCp', 'KFCV', 'SPCV'], y=(df/risk).mean(),\n",
    "    marker_color=px.colors.qualitative.Plotly,\n",
    "    text=np.around((df/risk).mean(),3),\n",
    "    textposition='outside',\n",
    "    error_y=dict(\n",
    "        type='data',\n",
    "        color='black',\n",
    "        symmetric=False,\n",
    "        array=(df/risk).quantile(.75),\n",
    "        arrayminus=(df/risk).quantile(.25))\n",
    "))\n",
    "# fig.add_trace(go.Bar(\n",
    "#     name='Experimental',\n",
    "#     x=['GenCp', 'KFCV', 'SPCV'], y=(df/risk).mean(),\n",
    "#     error_y=dict(type='data', array=[1, 2])\n",
    "# ))\n",
    "# fig.update_layout(barmode='group')\n",
    "fig.add_hline(y=1., line_color='red')\n",
    "fig.update_layout(\n",
    "    title=\"Linear Regression Test Error Estimates\",\n",
    "    xaxis_title=\"Method\",\n",
    "    yaxis_title=\"Relative MSE\",\n",
    "#     legend_title=\"Legend Title\",\n",
    "#     font=dict(\n",
    "#         family=\"Courier New, monospace\",\n",
    "#         size=18,\n",
    "#         color=\"RebeccaPurple\"\n",
    "#     )\n",
    ")\n",
    "fig.show()"
   ]
  },
  {
   "cell_type": "code",
   "execution_count": null,
   "metadata": {},
   "outputs": [],
   "source": []
  },
  {
   "cell_type": "code",
   "execution_count": null,
   "metadata": {},
   "outputs": [],
   "source": []
  }
 ],
 "metadata": {
  "kernelspec": {
   "display_name": "blur",
   "language": "python",
   "name": "blur"
  },
  "language_info": {
   "codemirror_mode": {
    "name": "ipython",
    "version": 3
   },
   "file_extension": ".py",
   "mimetype": "text/x-python",
   "name": "python",
   "nbconvert_exporter": "python",
   "pygments_lexer": "ipython3",
   "version": "3.8.13"
  }
 },
 "nbformat": 4,
 "nbformat_minor": 4
}
