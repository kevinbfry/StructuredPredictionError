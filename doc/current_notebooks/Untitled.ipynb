{
 "cells": [
  {
   "cell_type": "code",
   "execution_count": 10,
   "id": "ce4ee364",
   "metadata": {},
   "outputs": [],
   "source": [
    "import numpy as np\n",
    "from sklearn.linear_model import LinearRegression"
   ]
  },
  {
   "cell_type": "code",
   "execution_count": 11,
   "id": "71cd08d8",
   "metadata": {},
   "outputs": [],
   "source": [
    "def gen_y(mu=.3, n=100):\n",
    "    return np.random.binomial(n=1,p=mu,size=n)\n",
    "\n",
    "def gen_X(n=100,p=10):\n",
    "    return np.random.randn(n,p)\n",
    "\n",
    "def gen_beta(p=10):\n",
    "    return np.random.uniform(-1,1,size=p)"
   ]
  },
  {
   "cell_type": "code",
   "execution_count": 51,
   "id": "da6660a4",
   "metadata": {},
   "outputs": [],
   "source": [
    "n = 400\n",
    "p = 20\n",
    "niter = 1000\n",
    "\n",
    "model = LinearRegression(fit_intercept=False)\n",
    "\n",
    "X = gen_X(n,p)\n",
    "# beta = gen_beta(p)\n",
    "# lor = X @ beta\n",
    "mu = .7*np.ones(n)#np.exp(lor)/(1 + np.exp(lor))"
   ]
  },
  {
   "cell_type": "code",
   "execution_count": 53,
   "id": "ce86ff7b",
   "metadata": {},
   "outputs": [
    {
     "data": {
      "text/plain": [
       "(0.693820660187016, 0.6801741904026015)"
      ]
     },
     "execution_count": 53,
     "metadata": {},
     "output_type": "execute_result"
    }
   ],
   "source": [
    "err = np.zeros(niter)\n",
    "err_est = np.zeros(niter)\n",
    "sigmas = np.zeros(niter)\n",
    "\n",
    "for i in np.arange(niter):\n",
    "    y = gen_y(mu, n=n)\n",
    "    y2 = gen_y(mu, n=n)\n",
    "    \n",
    "    model.fit(X,y)\n",
    "    ypred = model.predict(X)\n",
    "    err[i] = np.mean((y2 - ypred)**2)\n",
    "    \n",
    "    w = gen_y(.5,n=n)\n",
    "    \n",
    "    sigmasq = np.var(y - ypred)\n",
    "#     offset = np.sqrt(1-4*sigmasq)/2\n",
    "    offset = np.fabs(1/4 - sigmasq)\n",
    "    \n",
    "    err_est[i] = np.mean((w - ypred)**2) + 2*np.sqrt(offset)*(.5 - ypred).mean()\n",
    "    sigmas[i] = sigmasq\n",
    "    \n",
    "err.mean(), err_est.mean()"
   ]
  },
  {
   "cell_type": "code",
   "execution_count": 36,
   "id": "ce29c237",
   "metadata": {},
   "outputs": [
    {
     "data": {
      "text/plain": [
       "0.21"
      ]
     },
     "execution_count": 36,
     "metadata": {},
     "output_type": "execute_result"
    }
   ],
   "source": [
    "sigmasq.mean()"
   ]
  },
  {
   "cell_type": "code",
   "execution_count": 25,
   "id": "531b6d6b",
   "metadata": {
    "scrolled": true
   },
   "outputs": [
    {
     "data": {
      "text/plain": [
       "array([8.30007467e-01, 6.73423353e-01, 1.34932226e-01, 9.40874734e-02,\n",
       "       5.44648788e-02, 1.00459434e-01, 2.04855772e-01, 5.96278885e-01,\n",
       "       7.33702043e-01, 5.63072273e-02, 3.18624033e-02, 1.68247955e-01,\n",
       "       4.46304732e-02, 7.94227670e-01, 2.44160615e-01, 8.94339709e-02,\n",
       "       3.59081600e-02, 9.74879058e-03, 9.83488670e-01, 2.18773885e-02,\n",
       "       9.51940527e-01, 7.59212707e-01, 6.02444347e-01, 9.26250430e-01,\n",
       "       8.37897141e-01, 2.96381744e-02, 4.36820470e-01, 9.30429865e-01,\n",
       "       4.84670390e-02, 1.85200750e-01, 1.26800519e-02, 5.74264943e-01,\n",
       "       3.36146497e-01, 2.57444618e-01, 1.88564242e-01, 6.58926034e-01,\n",
       "       8.68145414e-01, 9.80073489e-01, 2.62274374e-01, 9.14420940e-01,\n",
       "       9.27444801e-01, 8.51211840e-01, 5.48244696e-03, 9.05905952e-01,\n",
       "       5.74279590e-01, 8.15787304e-01, 9.91263335e-01, 4.66518593e-01,\n",
       "       9.86298440e-01, 3.86898110e-01, 8.89044890e-01, 1.15004479e-01,\n",
       "       8.48477803e-01, 9.85987990e-01, 9.00704091e-01, 6.53602166e-01,\n",
       "       3.12448643e-01, 2.48416257e-01, 1.41585851e-01, 9.52570858e-01,\n",
       "       9.55554879e-03, 9.97294185e-01, 9.39592949e-01, 2.90079489e-01,\n",
       "       1.81602537e-01, 3.47981306e-01, 8.56915366e-01, 1.42337201e-01,\n",
       "       8.16521242e-01, 1.50308631e-01, 3.71236337e-01, 6.95817961e-01,\n",
       "       1.75993367e-01, 9.30277167e-01, 9.99447957e-01, 9.50272790e-01,\n",
       "       5.41555495e-01, 9.46227141e-01, 3.97390055e-01, 6.96575435e-02,\n",
       "       6.81440803e-01, 5.88283591e-01, 8.57847035e-01, 9.85680927e-01,\n",
       "       3.20459782e-01, 1.94636831e-03, 2.62335831e-01, 7.91914341e-01,\n",
       "       8.05211282e-01, 9.99544282e-01, 2.49185709e-02, 1.73136592e-02,\n",
       "       1.83309097e-01, 1.70045370e-02, 1.48042028e-01, 5.74310696e-01,\n",
       "       9.60230243e-01, 2.08671263e-01, 2.21548620e-01, 9.20737341e-01,\n",
       "       9.84749846e-01, 9.52306714e-01, 3.47804636e-01, 4.59523561e-01,\n",
       "       1.71411251e-01, 8.84872058e-01, 7.25543404e-02, 5.88775419e-01,\n",
       "       3.84105912e-02, 5.89675531e-01, 3.18832013e-02, 9.40327702e-01,\n",
       "       4.01512077e-03, 1.03852238e-01, 8.95431677e-01, 3.74130703e-01,\n",
       "       7.28900407e-02, 9.61445811e-01, 2.11149650e-01, 5.40730059e-01,\n",
       "       6.69955123e-01, 6.37202813e-02, 4.15608684e-03, 5.34925406e-01,\n",
       "       5.78344869e-01, 6.74401320e-01, 7.45448648e-01, 8.87843171e-03,\n",
       "       8.71994167e-02, 2.54816287e-02, 3.10855691e-01, 2.16466267e-01,\n",
       "       2.71700876e-02, 3.94367942e-03, 4.85477069e-03, 6.11546425e-01,\n",
       "       3.77604264e-02, 9.24497304e-01, 8.35723430e-01, 3.31621606e-01,\n",
       "       2.50208278e-01, 7.23794669e-01, 9.84959555e-01, 2.50692979e-03,\n",
       "       5.75943416e-01, 4.97721787e-01, 9.93802065e-01, 5.11175626e-02,\n",
       "       1.96335397e-01, 9.81090778e-01, 3.39119810e-02, 7.43490264e-01,\n",
       "       5.71334451e-01, 6.86487834e-01, 6.19216291e-01, 4.75408788e-01,\n",
       "       1.59642935e-01, 3.02228016e-01, 9.81152757e-01, 6.12154378e-02,\n",
       "       7.30923110e-02, 9.70181040e-01, 7.61215352e-01, 9.07200254e-01,\n",
       "       3.30708469e-03, 3.29510849e-02, 1.58187151e-02, 8.83962319e-01,\n",
       "       4.86934859e-01, 7.78135881e-03, 3.20755139e-01, 1.39981957e-02,\n",
       "       1.84729817e-01, 8.34381326e-01, 4.52420268e-02, 6.73925841e-01,\n",
       "       9.72521982e-01, 2.05245937e-01, 9.83694708e-01, 9.98704351e-02,\n",
       "       7.81550345e-01, 2.02907065e-02, 3.40921799e-01, 3.96541244e-01,\n",
       "       6.60633772e-03, 1.57566629e-01, 9.16426737e-01, 8.18995416e-01,\n",
       "       5.73027265e-02, 5.53547601e-01, 4.65166988e-01, 9.80593532e-01,\n",
       "       7.54923868e-01, 9.46428891e-01, 6.20655804e-04, 1.59513639e-01,\n",
       "       5.41325269e-01, 1.00198066e-01, 7.61969996e-01, 3.88794989e-01])"
      ]
     },
     "execution_count": 25,
     "metadata": {},
     "output_type": "execute_result"
    }
   ],
   "source": [
    "mu"
   ]
  },
  {
   "cell_type": "code",
   "execution_count": null,
   "id": "2a59f6ad",
   "metadata": {},
   "outputs": [],
   "source": [
    "y = gen_y(mu=.3, n=100000000)\n",
    "z1 = gen_y(mu=.25, n=100000000)\n",
    "z2 = gen_y(mu=.25, n=100000000)\n",
    "\n",
    "w1 = y*(1-z1) + z1*(1-y)\n",
    "w2 = y*(1-z2) + z2*(1-y)"
   ]
  },
  {
   "cell_type": "code",
   "execution_count": 112,
   "id": "0404ce59",
   "metadata": {},
   "outputs": [
    {
     "data": {
      "text/plain": [
       "0.052535596773495896"
      ]
     },
     "execution_count": 112,
     "metadata": {},
     "output_type": "execute_result"
    }
   ],
   "source": [
    "w1.dot(w2) / 100000000 - w1.mean()*w2.mean()"
   ]
  },
  {
   "cell_type": "code",
   "execution_count": 103,
   "id": "58fdce99",
   "metadata": {},
   "outputs": [
    {
     "data": {
      "text/plain": [
       "0.0525"
      ]
     },
     "execution_count": 103,
     "metadata": {},
     "output_type": "execute_result"
    }
   ],
   "source": [
    ".3*.7*(2*.25 - 1)**2"
   ]
  },
  {
   "cell_type": "code",
   "execution_count": 113,
   "id": "4aa6c167",
   "metadata": {},
   "outputs": [
    {
     "data": {
      "text/plain": [
       "0.5314214879707442"
      ]
     },
     "execution_count": 113,
     "metadata": {},
     "output_type": "execute_result"
    }
   ],
   "source": [
    "(w1*w2).mean()/w1.mean()"
   ]
  },
  {
   "cell_type": "code",
   "execution_count": 114,
   "id": "1fbff8fe",
   "metadata": {},
   "outputs": [
    {
     "data": {
      "text/plain": [
       "0.53125"
      ]
     },
     "execution_count": 114,
     "metadata": {},
     "output_type": "execute_result"
    }
   ],
   "source": [
    "1 - .25*.75/(.3 + .25 -2*.25*.3)"
   ]
  },
  {
   "cell_type": "code",
   "execution_count": 115,
   "id": "02a4ea91",
   "metadata": {},
   "outputs": [
    {
     "data": {
      "text/plain": [
       "0.31234257468561527"
      ]
     },
     "execution_count": 115,
     "metadata": {},
     "output_type": "execute_result"
    }
   ],
   "source": [
    "(w1*(1-w2)).mean()/(1-w2).mean()"
   ]
  },
  {
   "cell_type": "code",
   "execution_count": 116,
   "id": "8669be7e",
   "metadata": {},
   "outputs": [
    {
     "data": {
      "text/plain": [
       "0.3125"
      ]
     },
     "execution_count": 116,
     "metadata": {},
     "output_type": "execute_result"
    }
   ],
   "source": [
    ".25*.75/(1-.3-.25+2*.25*.3)"
   ]
  },
  {
   "cell_type": "code",
   "execution_count": null,
   "id": "66b55187",
   "metadata": {},
   "outputs": [],
   "source": []
  },
  {
   "cell_type": "code",
   "execution_count": null,
   "id": "81edc20f",
   "metadata": {},
   "outputs": [],
   "source": []
  },
  {
   "cell_type": "code",
   "execution_count": null,
   "id": "48e8ea68",
   "metadata": {},
   "outputs": [],
   "source": []
  },
  {
   "cell_type": "code",
   "execution_count": null,
   "id": "ff120ce8",
   "metadata": {},
   "outputs": [],
   "source": []
  },
  {
   "cell_type": "code",
   "execution_count": null,
   "id": "96f9b803",
   "metadata": {},
   "outputs": [],
   "source": []
  },
  {
   "cell_type": "code",
   "execution_count": null,
   "id": "3c6c6a46",
   "metadata": {},
   "outputs": [],
   "source": []
  }
 ],
 "metadata": {
  "kernelspec": {
   "display_name": "spe",
   "language": "python",
   "name": "spe"
  },
  "language_info": {
   "codemirror_mode": {
    "name": "ipython",
    "version": 3
   },
   "file_extension": ".py",
   "mimetype": "text/x-python",
   "name": "python",
   "nbconvert_exporter": "python",
   "pygments_lexer": "ipython3",
   "version": "3.10.6"
  }
 },
 "nbformat": 4,
 "nbformat_minor": 5
}
