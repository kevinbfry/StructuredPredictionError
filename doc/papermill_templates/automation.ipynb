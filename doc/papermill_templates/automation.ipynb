{
 "cells": [
  {
   "cell_type": "markdown",
   "metadata": {},
   "source": [
    "# Import, Generic Setup"
   ]
  },
  {
   "cell_type": "code",
   "execution_count": 1,
   "metadata": {},
   "outputs": [],
   "source": [
    "import papermill as pm\n",
    "from itertools import product\n",
    "import sys\n",
    "import os"
   ]
  },
  {
   "cell_type": "code",
   "execution_count": 2,
   "metadata": {},
   "outputs": [],
   "source": [
    "template_dir = '~/Documents/GitHub/StructuredPredictionError/papermill_templates/'\n",
    "wdir = '~/Documents/GitHub/StructuredPredictionError/papermill_templates/output/'"
   ]
  },
  {
   "cell_type": "code",
   "execution_count": 3,
   "metadata": {},
   "outputs": [],
   "source": [
    "def product_dict(**kwargs):\n",
    "    keys = kwargs.keys()\n",
    "    vals = kwargs.values()\n",
    "    for instance in product(*vals):\n",
    "        yield dict(zip(keys, instance))"
   ]
  },
  {
   "cell_type": "code",
   "execution_count": 4,
   "metadata": {},
   "outputs": [],
   "source": [
    "def get_inputfp(model, folder_name):\n",
    "    input_nb = model + \"Template.ipynb\"\n",
    "    indir = wdir + model + '/' + folder_name + '/'\n",
    "\n",
    "    inputfp = os.path.expanduser(template_dir) + input_nb\n",
    "    return indir, inputfp"
   ]
  },
  {
   "cell_type": "code",
   "execution_count": 5,
   "metadata": {},
   "outputs": [],
   "source": [
    "def run_nbs(indir, inputfp, params, start_idx=0):\n",
    "#     if model == 'RL':\n",
    "#         params = product_dict(**rl_dict)\n",
    "#         # input_nb = 'RLTemplate.ipynb'\n",
    "#         # indir = wdir + 'RL/exp_kern_multik/'\n",
    "#     elif model == 'RF':\n",
    "#         params = product_dict(**rf_dict)\n",
    "#         # input_nb = 'RFTemplate.ipynb'\n",
    "#         # indir = wdir + 'RF/exp_kern_multik/'\n",
    "#     elif model == 'RFRefits':\n",
    "#         params = product_dict(**rfrefits_dict)\n",
    "#         # input_nb = 'RFRefitsTemplate.ipynb'\n",
    "#         # indir = wdir + 'RFRefits/exp_kern_multik/'\n",
    "\n",
    "#     input_nb = model + \"Template.ipynb\"\n",
    "#     indir = wdir + model + '/' + folder_name + '/'\n",
    "\n",
    "#     inputfp = os.path.expanduser(template_dir) + input_nb\n",
    "    if not os.path.exists(inputfp):\n",
    "        os.makedirs(inputfp)\n",
    "\n",
    "#     output_nb = 'output.ipynb'\n",
    "#     output_nb = \"\\u03B4{delta}_kern{kernel}_nls{noise_length_scale}_nv{noise_nu}_Xls{X_length_scale}_Xv{X_nu}\"\n",
    "\n",
    "    for i,param in enumerate(params):\n",
    "        output_nb = f\"\\u03B4{param['delta']}_snr{param['snr']}\" \\\n",
    "                    f\"_nk{param['noise_kernel']}\" \\\n",
    "                    f\"_nls{param['noise_length_scale']}\" \\\n",
    "                    f\"_nv{param['noise_nu']}_Xk{param['X_kernel']}\" \\\n",
    "                    f\"_Xls{param['X_length_scale']}_Xv{param['X_nu']}\"\n",
    "        if 'alpha' in param:\n",
    "            output_nb = f\"\\u03B1={param['alpha']}_\" + output_nb\n",
    "            \n",
    "#         outputdir = os.path.expanduser(indir) + 'run_' + str(i+start_idx) + '/'\n",
    "        outputdir = os.path.expanduser(indir) + 'run_' \\\n",
    "                    + str(i+start_idx) + '_' + output_nb + '/'\n",
    "        output_nb += \".ipynb\"\n",
    "        outputfp = outputdir + output_nb\n",
    "        if not os.path.exists(outputdir):\n",
    "            os.makedirs(outputdir)\n",
    "        param['savedir'] = outputdir\n",
    "        param['idx'] = i\n",
    "        pm.execute_notebook(\n",
    "            inputfp,\n",
    "            outputfp,\n",
    "            parameters=param\n",
    "        )"
   ]
  },
  {
   "cell_type": "markdown",
   "metadata": {},
   "source": [
    "# Compare RL: Correction vs CV"
   ]
  },
  {
   "cell_type": "code",
   "execution_count": 6,
   "metadata": {},
   "outputs": [
    {
     "data": {
      "application/vnd.jupyter.widget-view+json": {
       "model_id": "d513ee20d270412ca16f26e50d05ef23",
       "version_major": 2,
       "version_minor": 0
      },
      "text/plain": [
       "Executing:   0%|          | 0/18 [00:00<?, ?cell/s]"
      ]
     },
     "metadata": {},
     "output_type": "display_data"
    },
    {
     "data": {
      "application/vnd.jupyter.widget-view+json": {
       "model_id": "9797258673d24e6dba2e26216164d853",
       "version_major": 2,
       "version_minor": 0
      },
      "text/plain": [
       "Executing:   0%|          | 0/18 [00:00<?, ?cell/s]"
      ]
     },
     "metadata": {},
     "output_type": "display_data"
    },
    {
     "data": {
      "application/vnd.jupyter.widget-view+json": {
       "model_id": "8b3cdb80ea834d019def636b2927c1f4",
       "version_major": 2,
       "version_minor": 0
      },
      "text/plain": [
       "Executing:   0%|          | 0/18 [00:00<?, ?cell/s]"
      ]
     },
     "metadata": {},
     "output_type": "display_data"
    },
    {
     "data": {
      "application/vnd.jupyter.widget-view+json": {
       "model_id": "78f4095d5c5f4187b0551dfd1a33b7d8",
       "version_major": 2,
       "version_minor": 0
      },
      "text/plain": [
       "Executing:   0%|          | 0/18 [00:00<?, ?cell/s]"
      ]
     },
     "metadata": {},
     "output_type": "display_data"
    }
   ],
   "source": [
    "rl_dict = {\n",
    "    'niter': [50],\n",
    "    'n': [400],\n",
    "    'p': [500],\n",
    "    's': [30],\n",
    "    'k': [10],\n",
    "    'snr': [0.4],\n",
    "    'lambd': [1.],\n",
    "    'delta':[0.8],\n",
    "    'alpha': [0.05],\n",
    "    'nboot': [100],\n",
    "    'noise_kernel': ['matern'],\n",
    "    'noise_length_scale':[1.],\n",
    "    'noise_nu':[0.5, 2.5],\n",
    "    'X_kernel': ['matern'],\n",
    "    'X_length_scale':[1.],\n",
    "    'X_nu':[0.5, 2.5],\n",
    "}\n",
    "\n",
    "params = product_dict(**rl_dict)\n",
    "indir, inputfp = get_inputfp('RL', 'RLWR_our_vs_CV_alpha05')\n",
    "run_nbs(indir, inputfp, params)"
   ]
  },
  {
   "cell_type": "markdown",
   "metadata": {},
   "source": [
    "# Compare RL corr $Y, Y^*$: correction vs CV "
   ]
  },
  {
   "cell_type": "code",
   "execution_count": 7,
   "metadata": {},
   "outputs": [
    {
     "data": {
      "application/vnd.jupyter.widget-view+json": {
       "model_id": "2459dda7e93345c4bfc6ca66eaf7ec41",
       "version_major": 2,
       "version_minor": 0
      },
      "text/plain": [
       "Executing:   0%|          | 0/21 [00:00<?, ?cell/s]"
      ]
     },
     "metadata": {},
     "output_type": "display_data"
    },
    {
     "data": {
      "application/vnd.jupyter.widget-view+json": {
       "model_id": "07c1a8ea849d4c988fef9fd28635dba2",
       "version_major": 2,
       "version_minor": 0
      },
      "text/plain": [
       "Executing:   0%|          | 0/21 [00:00<?, ?cell/s]"
      ]
     },
     "metadata": {},
     "output_type": "display_data"
    },
    {
     "data": {
      "application/vnd.jupyter.widget-view+json": {
       "model_id": "e35ba920a179494196f7e34d44560b6e",
       "version_major": 2,
       "version_minor": 0
      },
      "text/plain": [
       "Executing:   0%|          | 0/21 [00:00<?, ?cell/s]"
      ]
     },
     "metadata": {},
     "output_type": "display_data"
    },
    {
     "data": {
      "application/vnd.jupyter.widget-view+json": {
       "model_id": "aa64e40fbd7a4b808f3b40f3e3c60a3b",
       "version_major": 2,
       "version_minor": 0
      },
      "text/plain": [
       "Executing:   0%|          | 0/21 [00:00<?, ?cell/s]"
      ]
     },
     "metadata": {},
     "output_type": "display_data"
    }
   ],
   "source": [
    "rl_dict = {\n",
    "    'niter': [50],\n",
    "    'n': [400],\n",
    "    'p': [500],\n",
    "    's': [30],\n",
    "    'k': [10],\n",
    "    'snr': [0.4],\n",
    "    'lambd': [1.],\n",
    "    'delta':[0.8],\n",
    "    'alpha': [0.05],\n",
    "    'nboot': [100],\n",
    "    'noise_kernel': ['matern'],\n",
    "    'noise_length_scale':[1.],\n",
    "    'noise_nu':[0.5, 2.5],\n",
    "    'X_kernel': ['matern'],\n",
    "    'X_length_scale':[1.],\n",
    "    'X_nu':[0.5, 2.5],\n",
    "}\n",
    "\n",
    "params = product_dict(**rl_dict)\n",
    "indir, inputfp = get_inputfp('CRL', 'CRLWR_our_vs_CV_alpha05')\n",
    "run_nbs(indir, inputfp, params, 48)"
   ]
  },
  {
   "cell_type": "markdown",
   "metadata": {},
   "source": [
    "# Compare VRF: Correction vs CV"
   ]
  },
  {
   "cell_type": "code",
   "execution_count": 17,
   "metadata": {},
   "outputs": [
    {
     "data": {
      "application/vnd.jupyter.widget-view+json": {
       "model_id": "00be89ea2b5c4f38bf05bdaab6381cac",
       "version_major": 2,
       "version_minor": 0
      },
      "text/plain": [
       "Executing:   0%|          | 0/19 [00:00<?, ?cell/s]"
      ]
     },
     "metadata": {},
     "output_type": "display_data"
    },
    {
     "data": {
      "application/vnd.jupyter.widget-view+json": {
       "model_id": "dbd07326c57e40a985f862339be68778",
       "version_major": 2,
       "version_minor": 0
      },
      "text/plain": [
       "Executing:   0%|          | 0/19 [00:00<?, ?cell/s]"
      ]
     },
     "metadata": {},
     "output_type": "display_data"
    },
    {
     "data": {
      "application/vnd.jupyter.widget-view+json": {
       "model_id": "8d8e6eca74f9426abcf67b91fed2d8a7",
       "version_major": 2,
       "version_minor": 0
      },
      "text/plain": [
       "Executing:   0%|          | 0/19 [00:00<?, ?cell/s]"
      ]
     },
     "metadata": {},
     "output_type": "display_data"
    },
    {
     "data": {
      "application/vnd.jupyter.widget-view+json": {
       "model_id": "61ae4aa9490a4bd485ea776e5bce9074",
       "version_major": 2,
       "version_minor": 0
      },
      "text/plain": [
       "Executing:   0%|          | 0/19 [00:00<?, ?cell/s]"
      ]
     },
     "metadata": {},
     "output_type": "display_data"
    }
   ],
   "source": [
    "rf_dict = {\n",
    "    'niter': [50],\n",
    "    'n': [900],\n",
    "    'p': [30],\n",
    "    's': [30],\n",
    "    'k': [10],\n",
    "    'snr': [0.4],\n",
    "    'n_estimators': [100],\n",
    "    'max_depth': [6],\n",
    "    'delta':[0.8],\n",
    "    'alpha': [0.05],\n",
    "    'nboot': [100],\n",
    "    'noise_kernel': ['matern'],\n",
    "    'noise_length_scale':[1.],\n",
    "    'noise_nu':[0.5, 2.5],\n",
    "    'X_kernel': ['matern'],\n",
    "    'X_length_scale':[1.],\n",
    "    'X_nu':[0.5, 2.5],\n",
    "}\n",
    "\n",
    "params = product_dict(**rf_dict)\n",
    "indir, inputfp = get_inputfp('RF', 'RF_our_vs_CV_alpha05')\n",
    "run_nbs(indir, inputfp, params)"
   ]
  },
  {
   "cell_type": "markdown",
   "metadata": {},
   "source": [
    "# Compare VRF corr $Y, Y^*$: correction vs CV "
   ]
  },
  {
   "cell_type": "markdown",
   "metadata": {},
   "source": [
    "# Compare BF full refit: Correction vs CV"
   ]
  },
  {
   "cell_type": "code",
   "execution_count": 18,
   "metadata": {},
   "outputs": [
    {
     "data": {
      "application/vnd.jupyter.widget-view+json": {
       "model_id": "1ef33d062bc445708adf12604ee3baf2",
       "version_major": 2,
       "version_minor": 0
      },
      "text/plain": [
       "Executing:   0%|          | 0/19 [00:00<?, ?cell/s]"
      ]
     },
     "metadata": {},
     "output_type": "display_data"
    },
    {
     "data": {
      "application/vnd.jupyter.widget-view+json": {
       "model_id": "d09f35e0cb864962a40def7ae757736d",
       "version_major": 2,
       "version_minor": 0
      },
      "text/plain": [
       "Executing:   0%|          | 0/19 [00:00<?, ?cell/s]"
      ]
     },
     "metadata": {},
     "output_type": "display_data"
    },
    {
     "data": {
      "application/vnd.jupyter.widget-view+json": {
       "model_id": "2c86298248a242d7afaf93600f1583de",
       "version_major": 2,
       "version_minor": 0
      },
      "text/plain": [
       "Executing:   0%|          | 0/19 [00:00<?, ?cell/s]"
      ]
     },
     "metadata": {},
     "output_type": "display_data"
    },
    {
     "data": {
      "application/vnd.jupyter.widget-view+json": {
       "model_id": "7ec3bbb6edee4c37bd0c294604a7f929",
       "version_major": 2,
       "version_minor": 0
      },
      "text/plain": [
       "Executing:   0%|          | 0/19 [00:00<?, ?cell/s]"
      ]
     },
     "metadata": {},
     "output_type": "display_data"
    },
    {
     "data": {
      "application/vnd.jupyter.widget-view+json": {
       "model_id": "b6f5ba086c454b9cbb3d83c755386b12",
       "version_major": 2,
       "version_minor": 0
      },
      "text/plain": [
       "Executing:   0%|          | 0/19 [00:00<?, ?cell/s]"
      ]
     },
     "metadata": {},
     "output_type": "display_data"
    },
    {
     "data": {
      "application/vnd.jupyter.widget-view+json": {
       "model_id": "26e57452c2b741a48b96ed24c5096275",
       "version_major": 2,
       "version_minor": 0
      },
      "text/plain": [
       "Executing:   0%|          | 0/19 [00:00<?, ?cell/s]"
      ]
     },
     "metadata": {},
     "output_type": "display_data"
    },
    {
     "data": {
      "application/vnd.jupyter.widget-view+json": {
       "model_id": "37ce52ed35374913b0df5ee365915f3f",
       "version_major": 2,
       "version_minor": 0
      },
      "text/plain": [
       "Executing:   0%|          | 0/19 [00:00<?, ?cell/s]"
      ]
     },
     "metadata": {},
     "output_type": "display_data"
    },
    {
     "data": {
      "application/vnd.jupyter.widget-view+json": {
       "model_id": "b15eb341ffea4cc292470654a7c45311",
       "version_major": 2,
       "version_minor": 0
      },
      "text/plain": [
       "Executing:   0%|          | 0/19 [00:00<?, ?cell/s]"
      ]
     },
     "metadata": {},
     "output_type": "display_data"
    },
    {
     "data": {
      "application/vnd.jupyter.widget-view+json": {
       "model_id": "df7015ef3d334a0898236d3b022ad805",
       "version_major": 2,
       "version_minor": 0
      },
      "text/plain": [
       "Executing:   0%|          | 0/19 [00:00<?, ?cell/s]"
      ]
     },
     "metadata": {},
     "output_type": "display_data"
    },
    {
     "data": {
      "application/vnd.jupyter.widget-view+json": {
       "model_id": "1a38230e6fb740e687cef92a8d07d348",
       "version_major": 2,
       "version_minor": 0
      },
      "text/plain": [
       "Executing:   0%|          | 0/19 [00:00<?, ?cell/s]"
      ]
     },
     "metadata": {},
     "output_type": "display_data"
    },
    {
     "data": {
      "application/vnd.jupyter.widget-view+json": {
       "model_id": "b84435a9fdbc4407a8b0f68b61b9f435",
       "version_major": 2,
       "version_minor": 0
      },
      "text/plain": [
       "Executing:   0%|          | 0/19 [00:00<?, ?cell/s]"
      ]
     },
     "metadata": {},
     "output_type": "display_data"
    },
    {
     "data": {
      "application/vnd.jupyter.widget-view+json": {
       "model_id": "d634f85fba0541e28594c3fc2a25a989",
       "version_major": 2,
       "version_minor": 0
      },
      "text/plain": [
       "Executing:   0%|          | 0/19 [00:00<?, ?cell/s]"
      ]
     },
     "metadata": {},
     "output_type": "display_data"
    },
    {
     "data": {
      "application/vnd.jupyter.widget-view+json": {
       "model_id": "f680552dfed3405081a341dfc61ead6e",
       "version_major": 2,
       "version_minor": 0
      },
      "text/plain": [
       "Executing:   0%|          | 0/19 [00:00<?, ?cell/s]"
      ]
     },
     "metadata": {},
     "output_type": "display_data"
    },
    {
     "data": {
      "application/vnd.jupyter.widget-view+json": {
       "model_id": "b3797b8b56064171839e39acdbf1c170",
       "version_major": 2,
       "version_minor": 0
      },
      "text/plain": [
       "Executing:   0%|          | 0/19 [00:00<?, ?cell/s]"
      ]
     },
     "metadata": {},
     "output_type": "display_data"
    },
    {
     "data": {
      "application/vnd.jupyter.widget-view+json": {
       "model_id": "2921715eefc04db1b2e6e3f1097c7aa5",
       "version_major": 2,
       "version_minor": 0
      },
      "text/plain": [
       "Executing:   0%|          | 0/19 [00:00<?, ?cell/s]"
      ]
     },
     "metadata": {},
     "output_type": "display_data"
    },
    {
     "data": {
      "application/vnd.jupyter.widget-view+json": {
       "model_id": "8d813779806949a6b50372b8f2773d4d",
       "version_major": 2,
       "version_minor": 0
      },
      "text/plain": [
       "Executing:   0%|          | 0/19 [00:00<?, ?cell/s]"
      ]
     },
     "metadata": {},
     "output_type": "display_data"
    },
    {
     "data": {
      "application/vnd.jupyter.widget-view+json": {
       "model_id": "3463a83da0554ea9bfaea603ebe8cbde",
       "version_major": 2,
       "version_minor": 0
      },
      "text/plain": [
       "Executing:   0%|          | 0/19 [00:00<?, ?cell/s]"
      ]
     },
     "metadata": {},
     "output_type": "display_data"
    },
    {
     "data": {
      "application/vnd.jupyter.widget-view+json": {
       "model_id": "6828a22f02cf48a2b66f73f8091ad57e",
       "version_major": 2,
       "version_minor": 0
      },
      "text/plain": [
       "Executing:   0%|          | 0/19 [00:00<?, ?cell/s]"
      ]
     },
     "metadata": {},
     "output_type": "display_data"
    },
    {
     "data": {
      "application/vnd.jupyter.widget-view+json": {
       "model_id": "4395b52eac9640bea4e21d793b788526",
       "version_major": 2,
       "version_minor": 0
      },
      "text/plain": [
       "Executing:   0%|          | 0/19 [00:00<?, ?cell/s]"
      ]
     },
     "metadata": {},
     "output_type": "display_data"
    },
    {
     "data": {
      "application/vnd.jupyter.widget-view+json": {
       "model_id": "8692ae564a924d9da628eeb4feb8af89",
       "version_major": 2,
       "version_minor": 0
      },
      "text/plain": [
       "Executing:   0%|          | 0/19 [00:00<?, ?cell/s]"
      ]
     },
     "metadata": {},
     "output_type": "display_data"
    },
    {
     "data": {
      "application/vnd.jupyter.widget-view+json": {
       "model_id": "8d2da190d29f43f2be8ab9c398afc87b",
       "version_major": 2,
       "version_minor": 0
      },
      "text/plain": [
       "Executing:   0%|          | 0/19 [00:00<?, ?cell/s]"
      ]
     },
     "metadata": {},
     "output_type": "display_data"
    },
    {
     "data": {
      "application/vnd.jupyter.widget-view+json": {
       "model_id": "3a57c4340e414519baa10d7d49672bf0",
       "version_major": 2,
       "version_minor": 0
      },
      "text/plain": [
       "Executing:   0%|          | 0/19 [00:00<?, ?cell/s]"
      ]
     },
     "metadata": {},
     "output_type": "display_data"
    },
    {
     "data": {
      "application/vnd.jupyter.widget-view+json": {
       "model_id": "e83c7e0b012343388282935476a4cf53",
       "version_major": 2,
       "version_minor": 0
      },
      "text/plain": [
       "Executing:   0%|          | 0/19 [00:00<?, ?cell/s]"
      ]
     },
     "metadata": {},
     "output_type": "display_data"
    },
    {
     "data": {
      "application/vnd.jupyter.widget-view+json": {
       "model_id": "a82d0b9a34f34003b04dbc5fab8ff2b6",
       "version_major": 2,
       "version_minor": 0
      },
      "text/plain": [
       "Executing:   0%|          | 0/19 [00:00<?, ?cell/s]"
      ]
     },
     "metadata": {},
     "output_type": "display_data"
    },
    {
     "data": {
      "application/vnd.jupyter.widget-view+json": {
       "model_id": "c82725a8a2614e058a62bfd7ab84a57a",
       "version_major": 2,
       "version_minor": 0
      },
      "text/plain": [
       "Executing:   0%|          | 0/19 [00:00<?, ?cell/s]"
      ]
     },
     "metadata": {},
     "output_type": "display_data"
    },
    {
     "data": {
      "application/vnd.jupyter.widget-view+json": {
       "model_id": "75b0e2a983b1497297109cb3587b82a4",
       "version_major": 2,
       "version_minor": 0
      },
      "text/plain": [
       "Executing:   0%|          | 0/19 [00:00<?, ?cell/s]"
      ]
     },
     "metadata": {},
     "output_type": "display_data"
    },
    {
     "data": {
      "application/vnd.jupyter.widget-view+json": {
       "model_id": "e0f5fd21f55844119612c729cd2a4dac",
       "version_major": 2,
       "version_minor": 0
      },
      "text/plain": [
       "Executing:   0%|          | 0/19 [00:00<?, ?cell/s]"
      ]
     },
     "metadata": {},
     "output_type": "display_data"
    },
    {
     "data": {
      "application/vnd.jupyter.widget-view+json": {
       "model_id": "65bf773f3d6c46129ad367497ff5b2c7",
       "version_major": 2,
       "version_minor": 0
      },
      "text/plain": [
       "Executing:   0%|          | 0/19 [00:00<?, ?cell/s]"
      ]
     },
     "metadata": {},
     "output_type": "display_data"
    },
    {
     "data": {
      "application/vnd.jupyter.widget-view+json": {
       "model_id": "423eb07ee912402cb3b62198e659c851",
       "version_major": 2,
       "version_minor": 0
      },
      "text/plain": [
       "Executing:   0%|          | 0/19 [00:00<?, ?cell/s]"
      ]
     },
     "metadata": {},
     "output_type": "display_data"
    },
    {
     "data": {
      "application/vnd.jupyter.widget-view+json": {
       "model_id": "dcfbf8f186c44d9d81b8f684962f6b48",
       "version_major": 2,
       "version_minor": 0
      },
      "text/plain": [
       "Executing:   0%|          | 0/19 [00:00<?, ?cell/s]"
      ]
     },
     "metadata": {},
     "output_type": "display_data"
    },
    {
     "data": {
      "application/vnd.jupyter.widget-view+json": {
       "model_id": "48faf2df33ea42d99a36147e877cbd2d",
       "version_major": 2,
       "version_minor": 0
      },
      "text/plain": [
       "Executing:   0%|          | 0/19 [00:00<?, ?cell/s]"
      ]
     },
     "metadata": {},
     "output_type": "display_data"
    },
    {
     "data": {
      "application/vnd.jupyter.widget-view+json": {
       "model_id": "ad6cc52aeaba45eabc11ddaab2c588bf",
       "version_major": 2,
       "version_minor": 0
      },
      "text/plain": [
       "Executing:   0%|          | 0/19 [00:00<?, ?cell/s]"
      ]
     },
     "metadata": {},
     "output_type": "display_data"
    }
   ],
   "source": [
    "rf_dict = {\n",
    "    'niter': [50],\n",
    "    'n': [900],\n",
    "    'p': [30],\n",
    "    's': [30],\n",
    "    'k': [10],\n",
    "    'snr': [0.4],\n",
    "    'n_estimators': [100],\n",
    "    'max_depth': [6],\n",
    "    'delta':[0.8],\n",
    "    'noise_kernel': ['matern'],\n",
    "    'noise_length_scale':[1., 5.],\n",
    "    'noise_nu':[0.5, 2.5],\n",
    "    'X_kernel': [None, 'matern'],\n",
    "    'X_length_scale':[1., 5.],\n",
    "    'X_nu':[0.5, 2.5],\n",
    "}\n",
    "\n",
    "params = product_dict(**rf_dict)\n",
    "indir, inputfp = get_inputfp('BF', 'BFFR_our_vs_CV')\n",
    "run_nbs(indir, inputfp, params)"
   ]
  },
  {
   "cell_type": "markdown",
   "metadata": {},
   "source": [
    "# Compare BF full refit, corr $Y, Y^*$: Correction vs CV"
   ]
  },
  {
   "cell_type": "markdown",
   "metadata": {},
   "source": [
    "# Compare: VRF vs WRF vs BFWR vs BFFR"
   ]
  },
  {
   "cell_type": "code",
   "execution_count": 7,
   "metadata": {
    "scrolled": false
   },
   "outputs": [
    {
     "data": {
      "application/vnd.jupyter.widget-view+json": {
       "model_id": "88cbead825e94581bd2616835c0ca629",
       "version_major": 2,
       "version_minor": 0
      },
      "text/plain": [
       "Executing:   0%|          | 0/19 [00:00<?, ?cell/s]"
      ]
     },
     "metadata": {},
     "output_type": "display_data"
    },
    {
     "data": {
      "application/vnd.jupyter.widget-view+json": {
       "model_id": "79381902656d4efb9ddb23cffb6fab62",
       "version_major": 2,
       "version_minor": 0
      },
      "text/plain": [
       "Executing:   0%|          | 0/19 [00:00<?, ?cell/s]"
      ]
     },
     "metadata": {},
     "output_type": "display_data"
    },
    {
     "data": {
      "application/vnd.jupyter.widget-view+json": {
       "model_id": "da1d277f1a9f408f835ece6d2f2be829",
       "version_major": 2,
       "version_minor": 0
      },
      "text/plain": [
       "Executing:   0%|          | 0/19 [00:00<?, ?cell/s]"
      ]
     },
     "metadata": {},
     "output_type": "display_data"
    },
    {
     "data": {
      "application/vnd.jupyter.widget-view+json": {
       "model_id": "9f41ea0d29d44bb5a1a62044c76fde3b",
       "version_major": 2,
       "version_minor": 0
      },
      "text/plain": [
       "Executing:   0%|          | 0/19 [00:00<?, ?cell/s]"
      ]
     },
     "metadata": {},
     "output_type": "display_data"
    }
   ],
   "source": [
    "rf_dict = {\n",
    "    'niter': [50],\n",
    "    'n': [900],\n",
    "    'p': [30],\n",
    "    's': [30],\n",
    "    'snr': [0.4],\n",
    "    'n_estimators': [5],\n",
    "    'max_depth': [6],\n",
    "    'delta':[0.8],\n",
    "    'noise_kernel': ['matern'],\n",
    "    'noise_length_scale':[1.],\n",
    "    'noise_nu':[0.5, 2.5],\n",
    "    'X_kernel': ['matern'],\n",
    "    'X_length_scale':[1.],\n",
    "    'X_nu':[0.5, 2.5],\n",
    "}\n",
    "\n",
    "params = product_dict(**rf_dict)\n",
    "indir, inputfp = get_inputfp('RFBF', 'RFBF_comps_iid_5trees')\n",
    "run_nbs(indir, inputfp, params)"
   ]
  },
  {
   "cell_type": "code",
   "execution_count": 8,
   "metadata": {},
   "outputs": [
    {
     "data": {
      "application/vnd.jupyter.widget-view+json": {
       "model_id": "d8448fd8799c48a9a1d4e16ce2778551",
       "version_major": 2,
       "version_minor": 0
      },
      "text/plain": [
       "Executing:   0%|          | 0/19 [00:00<?, ?cell/s]"
      ]
     },
     "metadata": {},
     "output_type": "display_data"
    },
    {
     "data": {
      "application/vnd.jupyter.widget-view+json": {
       "model_id": "30190cc93aff4578a922d33bcb0341cc",
       "version_major": 2,
       "version_minor": 0
      },
      "text/plain": [
       "Executing:   0%|          | 0/19 [00:00<?, ?cell/s]"
      ]
     },
     "metadata": {},
     "output_type": "display_data"
    },
    {
     "data": {
      "application/vnd.jupyter.widget-view+json": {
       "model_id": "dae744d089e244f38e2b14c5d91b2973",
       "version_major": 2,
       "version_minor": 0
      },
      "text/plain": [
       "Executing:   0%|          | 0/19 [00:00<?, ?cell/s]"
      ]
     },
     "metadata": {},
     "output_type": "display_data"
    },
    {
     "data": {
      "application/vnd.jupyter.widget-view+json": {
       "model_id": "9d119490ed2441afb91023c92dce6e17",
       "version_major": 2,
       "version_minor": 0
      },
      "text/plain": [
       "Executing:   0%|          | 0/19 [00:00<?, ?cell/s]"
      ]
     },
     "metadata": {},
     "output_type": "display_data"
    }
   ],
   "source": [
    "rf_dict = {\n",
    "    'niter': [50],\n",
    "    'n': [900],\n",
    "    'p': [30],\n",
    "    's': [30],\n",
    "    'snr': [0.4],\n",
    "    'n_estimators': [100],\n",
    "    'max_depth': [6],\n",
    "    'delta':[0.8],\n",
    "    'noise_kernel': ['matern'],\n",
    "    'noise_length_scale':[1.],\n",
    "    'noise_nu':[0.5, 2.5],\n",
    "    'X_kernel': ['matern'],\n",
    "    'X_length_scale':[1.],\n",
    "    'X_nu':[0.5, 2.5],\n",
    "}\n",
    "\n",
    "params = product_dict(**rf_dict)\n",
    "indir, inputfp = get_inputfp('RFBF', 'RFBF_comps_new')\n",
    "run_nbs(indir, inputfp, params)"
   ]
  },
  {
   "cell_type": "markdown",
   "metadata": {},
   "source": [
    "# Compare BF: OLS vs GLS"
   ]
  },
  {
   "cell_type": "code",
   "execution_count": null,
   "metadata": {},
   "outputs": [],
   "source": []
  }
 ],
 "metadata": {
  "kernelspec": {
   "display_name": "blur",
   "language": "python",
   "name": "blur"
  },
  "language_info": {
   "codemirror_mode": {
    "name": "ipython",
    "version": 3
   },
   "file_extension": ".py",
   "mimetype": "text/x-python",
   "name": "python",
   "nbconvert_exporter": "python",
   "pygments_lexer": "ipython3",
   "version": "3.8.13"
  }
 },
 "nbformat": 4,
 "nbformat_minor": 4
}
