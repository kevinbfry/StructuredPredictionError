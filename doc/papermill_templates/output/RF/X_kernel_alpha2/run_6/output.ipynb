{
 "cells": [
  {
   "cell_type": "code",
   "execution_count": 1,
   "id": "73419f60",
   "metadata": {
    "execution": {
     "iopub.execute_input": "2022-06-20T17:00:49.746403Z",
     "iopub.status.busy": "2022-06-20T17:00:49.746068Z",
     "iopub.status.idle": "2022-06-20T17:00:51.131423Z",
     "shell.execute_reply": "2022-06-20T17:00:51.130320Z"
    },
    "papermill": {
     "duration": 1.393417,
     "end_time": "2022-06-20T17:00:51.133855",
     "exception": false,
     "start_time": "2022-06-20T17:00:49.740438",
     "status": "completed"
    },
    "tags": []
   },
   "outputs": [],
   "source": [
    "import numpy as np\n",
    "import pandas as pd\n",
    "from sklearn.linear_model import Lasso, LinearRegression\n",
    "from sklearn.cluster import KMeans\n",
    "from sklearn.gaussian_process.kernels import Matern, RBF\n",
    "\n",
    "import plotly.express as px\n",
    "\n",
    "import plotly.graph_objects as go\n",
    "\n",
    "from scipy.linalg import toeplitz, block_diag\n",
    "\n",
    "from spe.mse_estimator import ErrorComparer\n",
    "from spe.data_generation import gen_rbf_X, gen_matern_X, create_clus_split, gen_cov_mat\n",
    "from spe.forest import BlurredForest\n",
    "from spe.estimators import kfoldcv, kmeanscv, cp_rf_train_test\n",
    "\n",
    "import os"
   ]
  },
  {
   "cell_type": "code",
   "execution_count": 2,
   "id": "35fb97dd",
   "metadata": {
    "execution": {
     "iopub.execute_input": "2022-06-20T17:00:51.142128Z",
     "iopub.status.busy": "2022-06-20T17:00:51.141709Z",
     "iopub.status.idle": "2022-06-20T17:00:51.146278Z",
     "shell.execute_reply": "2022-06-20T17:00:51.145586Z"
    },
    "papermill": {
     "duration": 0.01119,
     "end_time": "2022-06-20T17:00:51.148471",
     "exception": false,
     "start_time": "2022-06-20T17:00:51.137281",
     "status": "completed"
    },
    "tags": [
     "parameters"
    ]
   },
   "outputs": [],
   "source": [
    "niter = 100\n",
    "\n",
    "n=30**2\n",
    "p=30\n",
    "s=30\n",
    "\n",
    "k=10\n",
    "\n",
    "delta = 0.8\n",
    "\n",
    "noise_kernel = 'matern'\n",
    "noise_length_scale = 1\n",
    "noise_nu = 2.5\n",
    "\n",
    "X_kernel = 'matern'\n",
    "X_length_scale = 1\n",
    "X_nu = 1.5\n",
    "\n",
    "n_estimators=100\n",
    "max_depth=6\n",
    "\n",
    "idx = -1"
   ]
  },
  {
   "cell_type": "code",
   "execution_count": 3,
   "id": "e3d44a64",
   "metadata": {
    "execution": {
     "iopub.execute_input": "2022-06-20T17:00:51.156241Z",
     "iopub.status.busy": "2022-06-20T17:00:51.155934Z",
     "iopub.status.idle": "2022-06-20T17:00:51.160079Z",
     "shell.execute_reply": "2022-06-20T17:00:51.159395Z"
    },
    "papermill": {
     "duration": 0.010468,
     "end_time": "2022-06-20T17:00:51.162408",
     "exception": false,
     "start_time": "2022-06-20T17:00:51.151940",
     "status": "completed"
    },
    "tags": [
     "injected-parameters"
    ]
   },
   "outputs": [],
   "source": [
    "# Parameters\n",
    "niter = 100\n",
    "n = 900\n",
    "p = 30\n",
    "s = 30\n",
    "n_estimators = 100\n",
    "max_depth = 6\n",
    "noise_kernel = \"matern\"\n",
    "noise_length_scale = 1.0\n",
    "noise_nu = 2.5\n",
    "X_kernel = \"matern\"\n",
    "X_length_scale = 1.0\n",
    "X_nu = 1.5\n",
    "idx = 6\n"
   ]
  },
  {
   "cell_type": "code",
   "execution_count": 4,
   "id": "a4022deb",
   "metadata": {
    "execution": {
     "iopub.execute_input": "2022-06-20T17:00:51.170137Z",
     "iopub.status.busy": "2022-06-20T17:00:51.169764Z",
     "iopub.status.idle": "2022-06-20T17:00:51.181969Z",
     "shell.execute_reply": "2022-06-20T17:00:51.181120Z"
    },
    "papermill": {
     "duration": 0.01858,
     "end_time": "2022-06-20T17:00:51.184183",
     "exception": false,
     "start_time": "2022-06-20T17:00:51.165603",
     "status": "completed"
    },
    "tags": []
   },
   "outputs": [],
   "source": [
    "wdir = '~/Documents/GitHub/StructuredPredictionError/papermill_templates/output/RF/X_kernel/'\n",
    "fldr = 'run_' + str(idx) + \"/\"\n",
    "savedir = wdir + fldr + \"/\"\n",
    "if not os.path.exists(os.path.expanduser(savedir)):\n",
    "    os.makedirs(os.path.expanduser(savedir))\n",
    "    \n",
    "params = pd.DataFrame({'niter': niter,\n",
    "                       'n': n, \n",
    "                       'p': p, \n",
    "                       's': s,\n",
    "                       'n_estimators': n_estimators,\n",
    "                       'max_depth': max_depth,\n",
    "                       'delta': delta,\n",
    "                       'nk': noise_kernel, \n",
    "                       'nls': noise_length_scale, \n",
    "                       'nn': noise_nu, \n",
    "                       'xk': X_kernel,\n",
    "                       'xls': X_length_scale,\n",
    "                       'xn': X_nu}, index=[idx])\n",
    "params.to_csv(savedir + 'params.csv')\n",
    "dffp = savedir + \"err_df.csv\"\n",
    "barfp = savedir + 'barchart.jpeg'"
   ]
  },
  {
   "cell_type": "code",
   "execution_count": 5,
   "id": "4e5e1e3b",
   "metadata": {
    "execution": {
     "iopub.execute_input": "2022-06-20T17:00:51.192385Z",
     "iopub.status.busy": "2022-06-20T17:00:51.192092Z",
     "iopub.status.idle": "2022-06-20T17:00:51.195868Z",
     "shell.execute_reply": "2022-06-20T17:00:51.194941Z"
    },
    "papermill": {
     "duration": 0.01082,
     "end_time": "2022-06-20T17:00:51.198211",
     "exception": false,
     "start_time": "2022-06-20T17:00:51.187391",
     "status": "completed"
    },
    "tags": []
   },
   "outputs": [],
   "source": [
    "err_cmp = ErrorComparer()"
   ]
  },
  {
   "cell_type": "code",
   "execution_count": 6,
   "id": "a4994f53",
   "metadata": {
    "execution": {
     "iopub.execute_input": "2022-06-20T17:00:51.207057Z",
     "iopub.status.busy": "2022-06-20T17:00:51.206743Z",
     "iopub.status.idle": "2022-06-20T17:00:51.211912Z",
     "shell.execute_reply": "2022-06-20T17:00:51.211132Z"
    },
    "papermill": {
     "duration": 0.011812,
     "end_time": "2022-06-20T17:00:51.214087",
     "exception": false,
     "start_time": "2022-06-20T17:00:51.202275",
     "status": "completed"
    },
    "tags": []
   },
   "outputs": [],
   "source": [
    "nx = ny = int(np.sqrt(n))\n",
    "xs = np.linspace(0, 10, nx)\n",
    "ys = np.linspace(0, 10, ny)\n",
    "c_x, c_y = np.meshgrid(xs, ys)\n",
    "c_x = c_x.flatten()\n",
    "c_y = c_y.flatten()\n",
    "coord = np.stack([c_x, c_y]).T"
   ]
  },
  {
   "cell_type": "code",
   "execution_count": 7,
   "id": "e746c31b",
   "metadata": {
    "execution": {
     "iopub.execute_input": "2022-06-20T17:00:51.222102Z",
     "iopub.status.busy": "2022-06-20T17:00:51.221825Z",
     "iopub.status.idle": "2022-06-20T17:00:51.260610Z",
     "shell.execute_reply": "2022-06-20T17:00:51.259781Z"
    },
    "papermill": {
     "duration": 0.045714,
     "end_time": "2022-06-20T17:00:51.263174",
     "exception": false,
     "start_time": "2022-06-20T17:00:51.217460",
     "status": "completed"
    },
    "tags": []
   },
   "outputs": [],
   "source": [
    "if noise_kernel == 'rbf':\n",
    "    Sigma_t = gen_cov_mat(c_x, c_y, RBF(length_scale=noise_length_scale))\n",
    "elif noise_kernel == 'matern':\n",
    "    Sigma_t = gen_cov_mat(c_x, c_y, Matern(length_scale=noise_length_scale, nu=noise_nu))\n",
    "else:\n",
    "    Sigma_t = np.eye(n)\n",
    "    \n",
    "Sigma_t = delta*Sigma_t + (1-delta)*np.eye(n)\n",
    "\n",
    "if noise_kernel == 'rbf' or noise_kernel == 'matern':\n",
    "    Chol_t = np.linalg.cholesky(Sigma_t)\n",
    "else:\n",
    "    Chol_t = np.eye(n)"
   ]
  },
  {
   "cell_type": "code",
   "execution_count": 8,
   "id": "b36a2b1d",
   "metadata": {
    "execution": {
     "iopub.execute_input": "2022-06-20T17:00:51.271712Z",
     "iopub.status.busy": "2022-06-20T17:00:51.271419Z",
     "iopub.status.idle": "2022-06-20T17:00:51.298924Z",
     "shell.execute_reply": "2022-06-20T17:00:51.298108Z"
    },
    "papermill": {
     "duration": 0.034794,
     "end_time": "2022-06-20T17:00:51.301659",
     "exception": false,
     "start_time": "2022-06-20T17:00:51.266865",
     "status": "completed"
    },
    "tags": []
   },
   "outputs": [],
   "source": [
    "if X_kernel == 'rbf':\n",
    "    X = gen_rbf_X(c_x, c_y, p)\n",
    "elif X_kernel == 'matern':\n",
    "    X = gen_matern_X(c_x, c_y, p, length_scale=X_length_scale, nu=X_nu)\n",
    "else:\n",
    "    X = np.random.randn(n,p)\n",
    "\n",
    "beta = np.zeros(p)\n",
    "idx = np.random.choice(p,size=s)\n",
    "beta[idx] = np.random.uniform(-1,1,size=s)"
   ]
  },
  {
   "cell_type": "code",
   "execution_count": 9,
   "id": "b42bb918",
   "metadata": {
    "execution": {
     "iopub.execute_input": "2022-06-20T17:00:51.310704Z",
     "iopub.status.busy": "2022-06-20T17:00:51.310385Z",
     "iopub.status.idle": "2022-06-20T17:00:51.315398Z",
     "shell.execute_reply": "2022-06-20T17:00:51.314326Z"
    },
    "papermill": {
     "duration": 0.012809,
     "end_time": "2022-06-20T17:00:51.318134",
     "exception": false,
     "start_time": "2022-06-20T17:00:51.305325",
     "status": "completed"
    },
    "tags": []
   },
   "outputs": [],
   "source": [
    "ests = [cp_rf_train_test, \n",
    "        cp_rf_train_test, \n",
    "        kfoldcv, \n",
    "        kmeanscv]\n",
    "est_kwargs = [{'use_trace_corr': False, 'bootstrap_type': 'blur'}, \n",
    "              {'use_trace_corr': True, 'bootstrap_type': 'blur'},\n",
    "              {'k': k},\n",
    "              {'k': k}]"
   ]
  },
  {
   "cell_type": "code",
   "execution_count": 10,
   "id": "dbab91c9",
   "metadata": {
    "execution": {
     "iopub.execute_input": "2022-06-20T17:00:51.328488Z",
     "iopub.status.busy": "2022-06-20T17:00:51.328165Z"
    },
    "papermill": {
     "duration": 584.326756,
     "end_time": "2022-06-20T17:10:35.648358",
     "exception": false,
     "start_time": "2022-06-20T17:00:51.321602",
     "status": "completed"
    },
    "tags": []
   },
   "outputs": [
    {
     "name": "stdout",
     "output_type": "stream",
     "text": [
      "0\n",
      "0.35444444444444445\n"
     ]
    },
    {
     "name": "stdout",
     "output_type": "stream",
     "text": [
      "10\n"
     ]
    },
    {
     "name": "stdout",
     "output_type": "stream",
     "text": [
      "20\n"
     ]
    },
    {
     "name": "stdout",
     "output_type": "stream",
     "text": [
      "30\n"
     ]
    },
    {
     "name": "stdout",
     "output_type": "stream",
     "text": [
      "40\n"
     ]
    }
   ],
   "source": [
    "(test_err,\n",
    " rnd_err,\n",
    " trc_err,\n",
    " kfcv_err,\n",
    " spcv_err) = err_cmp.compare(BlurredForest(n_estimators=n_estimators, max_depth=max_depth),\n",
    "                                 ests,\n",
    "                                 est_kwargs,\n",
    "                                 niter=niter,\n",
    "                                 n=n,\n",
    "                                 p=p,\n",
    "                                 s=p,\n",
    "                                 snr=0.4, \n",
    "                                 X=X,\n",
    "                                 beta=beta,\n",
    "                                 coord=coord,\n",
    "                                 Chol_t=Chol_t,\n",
    "                                 Chol_s=None,\n",
    "                                 tr_idx=None,\n",
    "                                 fair=False,\n",
    "                                 )"
   ]
  },
  {
   "cell_type": "code",
   "execution_count": null,
   "id": "6becafb8",
   "metadata": {
    "papermill": {
     "duration": null,
     "end_time": null,
     "exception": null,
     "start_time": null,
     "status": "completed"
    },
    "tags": []
   },
   "outputs": [],
   "source": [
    "risk = test_err.mean()\n",
    "risk_kfcv = kfcv_err.mean()\n",
    "risk_spcv = spcv_err.mean()\n",
    "risk_rnd = rnd_err.mean()\n",
    "risk_trc = trc_err.mean()\n",
    "# risk, risk_kfcv, risk_spcv, risk_lin"
   ]
  },
  {
   "cell_type": "code",
   "execution_count": null,
   "id": "2d44e9d2",
   "metadata": {
    "papermill": {
     "duration": null,
     "end_time": null,
     "exception": null,
     "start_time": null,
     "status": "completed"
    },
    "tags": []
   },
   "outputs": [],
   "source": [
    "save_df = pd.DataFrame({'Rand': (rnd_err.T),\n",
    "                        'Trace': (trc_err.T),\n",
    "                        'KFCV': (kfcv_err.T),\n",
    "                        'SPCV': (spcv_err.T),\n",
    "                        'Test': (test_err.T)})\n",
    "save_df.to_csv(dffp)"
   ]
  },
  {
   "cell_type": "code",
   "execution_count": null,
   "id": "fc1755a3",
   "metadata": {
    "papermill": {
     "duration": null,
     "end_time": null,
     "exception": null,
     "start_time": null,
     "status": "completed"
    },
    "tags": []
   },
   "outputs": [],
   "source": [
    "df = pd.DataFrame({'Rand': (rnd_err.T),\n",
    "                   'Trace': (trc_err.T),\n",
    "                   'KFCV': (kfcv_err.T),\n",
    "                   'SPCV': (spcv_err.T)})"
   ]
  },
  {
   "cell_type": "code",
   "execution_count": null,
   "id": "049a82ee",
   "metadata": {
    "papermill": {
     "duration": null,
     "end_time": null,
     "exception": null,
     "start_time": null,
     "status": "completed"
    },
    "tags": []
   },
   "outputs": [],
   "source": [
    "(df/risk).mean()"
   ]
  },
  {
   "cell_type": "code",
   "execution_count": null,
   "id": "fb123d19",
   "metadata": {
    "papermill": {
     "duration": null,
     "end_time": null,
     "exception": null,
     "start_time": null,
     "status": "completed"
    },
    "tags": []
   },
   "outputs": [],
   "source": [
    "df.var(), (df/risk).var()"
   ]
  },
  {
   "cell_type": "code",
   "execution_count": null,
   "id": "9601344e",
   "metadata": {
    "papermill": {
     "duration": null,
     "end_time": null,
     "exception": null,
     "start_time": null,
     "status": "completed"
    },
    "tags": []
   },
   "outputs": [],
   "source": [
    "fig = go.Figure()\n",
    "fig.add_trace(go.Bar(\n",
    "    name='Control',\n",
    "    x=['Rand', 'Trace', 'KFCV', 'SPCV'], y=(df/risk).mean(),\n",
    "    marker_color=px.colors.qualitative.Plotly,\n",
    "    text=np.around((df/risk).mean(),3),\n",
    "    textposition='outside',\n",
    "    error_y=dict(\n",
    "        type='data',\n",
    "        color='black',\n",
    "        symmetric=False,\n",
    "        array=(df/risk).quantile(.75),\n",
    "        arrayminus=(df/risk).quantile(.25))\n",
    "#         array=(df/risk).mean() + (df/risk).std(),\n",
    "#         arrayminus=(df/risk).mean() - (df/risk).std())\n",
    "))\n",
    "# fig.add_trace(go.Bar(\n",
    "#     name='Experimental',\n",
    "#     x=['GenCp', 'KFCV', 'SPCV'], y=(df/risk).mean(),\n",
    "#     error_y=dict(type='data', array=[1, 2])\n",
    "# ))\n",
    "# fig.update_layout(barmode='group')\n",
    "fig.add_hline(y=1., line_color='red')\n",
    "fig.update_layout(\n",
    "    title=\"RF Test Error Estimates\",\n",
    "    xaxis_title=\"Method\",\n",
    "    yaxis_title=\"Relative MSE\",\n",
    "#     legend_title=\"Legend Title\",\n",
    "#     font=dict(\n",
    "#         family=\"Courier New, monospace\",\n",
    "#         size=18,\n",
    "#         color=\"RebeccaPurple\"\n",
    "#     )\n",
    ")\n",
    "fig.write_image(os.path.expanduser(barfp))\n",
    "fig.show()"
   ]
  },
  {
   "cell_type": "code",
   "execution_count": null,
   "id": "58e4ecae",
   "metadata": {
    "papermill": {
     "duration": null,
     "end_time": null,
     "exception": null,
     "start_time": null,
     "status": "completed"
    },
    "tags": []
   },
   "outputs": [],
   "source": []
  },
  {
   "cell_type": "code",
   "execution_count": null,
   "id": "28cdd48f",
   "metadata": {
    "papermill": {
     "duration": null,
     "end_time": null,
     "exception": null,
     "start_time": null,
     "status": "completed"
    },
    "tags": []
   },
   "outputs": [],
   "source": []
  }
 ],
 "metadata": {
  "celltoolbar": "Tags",
  "kernelspec": {
   "display_name": "blur",
   "language": "python",
   "name": "blur"
  },
  "language_info": {
   "codemirror_mode": {
    "name": "ipython",
    "version": 3
   },
   "file_extension": ".py",
   "mimetype": "text/x-python",
   "name": "python",
   "nbconvert_exporter": "python",
   "pygments_lexer": "ipython3",
   "version": "3.8.13"
  },
  "papermill": {
   "default_parameters": {},
   "duration": 588.121962,
   "end_time": "2022-06-20T17:10:36.391626",
   "environment_variables": {},
   "exception": null,
   "input_path": "/Users/kevinfry/Documents/GitHub/StructuredPredictionError/papermill_templates/RFTemplate.ipynb",
   "output_path": "/Users/kevinfry/Documents/GitHub/StructuredPredictionError/papermill_templates/output/RF/X_kernel/run_6/output.ipynb",
   "parameters": {
    "X_kernel": "matern",
    "X_length_scale": 1.0,
    "X_nu": 1.5,
    "idx": 6,
    "max_depth": 6,
    "n": 900,
    "n_estimators": 100,
    "niter": 100,
    "noise_kernel": "matern",
    "noise_length_scale": 1.0,
    "noise_nu": 2.5,
    "p": 30,
    "s": 30
   },
   "start_time": "2022-06-20T17:00:48.269664",
   "version": "2.3.4"
  }
 },
 "nbformat": 4,
 "nbformat_minor": 5
}