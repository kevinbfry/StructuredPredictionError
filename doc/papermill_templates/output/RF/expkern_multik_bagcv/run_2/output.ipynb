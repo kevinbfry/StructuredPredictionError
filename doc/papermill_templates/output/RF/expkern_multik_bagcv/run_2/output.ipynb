{
 "cells": [
  {
   "cell_type": "code",
   "execution_count": 1,
   "id": "d13fdb18",
   "metadata": {
    "execution": {
     "iopub.execute_input": "2022-06-20T20:50:42.744393Z",
     "iopub.status.busy": "2022-06-20T20:50:42.743385Z",
     "iopub.status.idle": "2022-06-20T20:50:44.158390Z",
     "shell.execute_reply": "2022-06-20T20:50:44.157171Z"
    },
    "papermill": {
     "duration": 1.428751,
     "end_time": "2022-06-20T20:50:44.162372",
     "exception": false,
     "start_time": "2022-06-20T20:50:42.733621",
     "status": "completed"
    },
    "tags": []
   },
   "outputs": [],
   "source": [
    "import numpy as np\n",
    "import pandas as pd\n",
    "from sklearn.linear_model import Lasso, LinearRegression\n",
    "from sklearn.cluster import KMeans\n",
    "from sklearn.gaussian_process.kernels import Matern, RBF\n",
    "\n",
    "import plotly.express as px\n",
    "\n",
    "import plotly.graph_objects as go\n",
    "\n",
    "from scipy.linalg import toeplitz, block_diag\n",
    "\n",
    "from spe.mse_estimator import ErrorComparer\n",
    "from spe.data_generation import gen_rbf_X, gen_matern_X, create_clus_split, gen_cov_mat\n",
    "from spe.forest import BlurredForest\n",
    "from spe.estimators import kfoldcv, kmeanscv, cp_rf_train_test, bag_kfoldcv, bag_kmeanscv\n",
    "\n",
    "import os"
   ]
  },
  {
   "cell_type": "code",
   "execution_count": 2,
   "id": "a1b8245d",
   "metadata": {
    "execution": {
     "iopub.execute_input": "2022-06-20T20:50:44.175970Z",
     "iopub.status.busy": "2022-06-20T20:50:44.175439Z",
     "iopub.status.idle": "2022-06-20T20:50:44.182748Z",
     "shell.execute_reply": "2022-06-20T20:50:44.181474Z"
    },
    "papermill": {
     "duration": 0.019056,
     "end_time": "2022-06-20T20:50:44.186395",
     "exception": false,
     "start_time": "2022-06-20T20:50:44.167339",
     "status": "completed"
    },
    "tags": [
     "parameters"
    ]
   },
   "outputs": [],
   "source": [
    "niter = 100\n",
    "\n",
    "n=30**2\n",
    "p=30\n",
    "s=30\n",
    "\n",
    "k=10\n",
    "\n",
    "delta = 0.8\n",
    "\n",
    "noise_kernel = 'matern'\n",
    "noise_length_scale = 1\n",
    "noise_nu = 2.5\n",
    "\n",
    "X_kernel = 'matern'\n",
    "X_length_scale = 1\n",
    "X_nu = 1.5\n",
    "\n",
    "n_estimators=100\n",
    "max_depth=6\n",
    "\n",
    "idx = -1\n",
    "\n",
    "savedir='~'"
   ]
  },
  {
   "cell_type": "code",
   "execution_count": 3,
   "id": "89daa1cd",
   "metadata": {
    "execution": {
     "iopub.execute_input": "2022-06-20T20:50:44.201780Z",
     "iopub.status.busy": "2022-06-20T20:50:44.201262Z",
     "iopub.status.idle": "2022-06-20T20:50:44.208408Z",
     "shell.execute_reply": "2022-06-20T20:50:44.207038Z"
    },
    "papermill": {
     "duration": 0.01806,
     "end_time": "2022-06-20T20:50:44.211892",
     "exception": false,
     "start_time": "2022-06-20T20:50:44.193832",
     "status": "completed"
    },
    "tags": [
     "injected-parameters"
    ]
   },
   "outputs": [],
   "source": [
    "# Parameters\n",
    "niter = 100\n",
    "n = 900\n",
    "p = 30\n",
    "s = 30\n",
    "k = 5\n",
    "delta = 0.8\n",
    "n_estimators = 100\n",
    "max_depth = 6\n",
    "noise_kernel = \"matern\"\n",
    "noise_length_scale = 1.0\n",
    "noise_nu = 0.5\n",
    "X_kernel = \"rbf\"\n",
    "X_length_scale = 5.0\n",
    "X_nu = 1.0\n",
    "savedir = \"/Users/kevinfry/Documents/GitHub/StructuredPredictionError/papermill_templates/output/RF/expkern_multik_bagcv/run_2/\"\n",
    "idx = 2\n"
   ]
  },
  {
   "cell_type": "code",
   "execution_count": 4,
   "id": "74d41557",
   "metadata": {
    "execution": {
     "iopub.execute_input": "2022-06-20T20:50:44.223202Z",
     "iopub.status.busy": "2022-06-20T20:50:44.222765Z",
     "iopub.status.idle": "2022-06-20T20:50:44.240345Z",
     "shell.execute_reply": "2022-06-20T20:50:44.238988Z"
    },
    "papermill": {
     "duration": 0.028219,
     "end_time": "2022-06-20T20:50:44.244862",
     "exception": false,
     "start_time": "2022-06-20T20:50:44.216643",
     "status": "completed"
    },
    "tags": []
   },
   "outputs": [],
   "source": [
    "# wdir = '~/Documents/GitHub/StructuredPredictionError/papermill_templates/output/RF/X_kernel/'\n",
    "# fldr = 'run_' + str(idx) + \"/\"\n",
    "# savedir = wdir + fldr + \"/\"\n",
    "if not os.path.exists(os.path.expanduser(savedir)):\n",
    "    os.makedirs(os.path.expanduser(savedir))\n",
    "    \n",
    "params = pd.DataFrame({'niter': niter,\n",
    "                       'n': n, \n",
    "                       'p': p, \n",
    "                       's': s,\n",
    "                       'k': k,\n",
    "                       'n_estimators': n_estimators,\n",
    "                       'max_depth': max_depth,\n",
    "                       'delta': delta,\n",
    "                       'nk': noise_kernel, \n",
    "                       'nls': noise_length_scale, \n",
    "                       'nn': noise_nu, \n",
    "                       'xk': X_kernel,\n",
    "                       'xls': X_length_scale,\n",
    "                       'xn': X_nu}, index=[idx])\n",
    "params.to_csv(os.path.expanduser(savedir + 'params.csv'))\n",
    "dffp = os.path.expanduser(savedir + \"err_df.csv\")\n",
    "barfp = os.path.expanduser(savedir + 'barchart.jpeg')"
   ]
  },
  {
   "cell_type": "code",
   "execution_count": 5,
   "id": "51668a96",
   "metadata": {
    "execution": {
     "iopub.execute_input": "2022-06-20T20:50:44.262456Z",
     "iopub.status.busy": "2022-06-20T20:50:44.261890Z",
     "iopub.status.idle": "2022-06-20T20:50:44.268691Z",
     "shell.execute_reply": "2022-06-20T20:50:44.266980Z"
    },
    "papermill": {
     "duration": 0.019815,
     "end_time": "2022-06-20T20:50:44.272586",
     "exception": false,
     "start_time": "2022-06-20T20:50:44.252771",
     "status": "completed"
    },
    "tags": []
   },
   "outputs": [],
   "source": [
    "err_cmp = ErrorComparer()"
   ]
  },
  {
   "cell_type": "code",
   "execution_count": 6,
   "id": "1cefc277",
   "metadata": {
    "execution": {
     "iopub.execute_input": "2022-06-20T20:50:44.288538Z",
     "iopub.status.busy": "2022-06-20T20:50:44.288009Z",
     "iopub.status.idle": "2022-06-20T20:50:44.297243Z",
     "shell.execute_reply": "2022-06-20T20:50:44.295865Z"
    },
    "papermill": {
     "duration": 0.020841,
     "end_time": "2022-06-20T20:50:44.301357",
     "exception": false,
     "start_time": "2022-06-20T20:50:44.280516",
     "status": "completed"
    },
    "tags": []
   },
   "outputs": [],
   "source": [
    "nx = ny = int(np.sqrt(n))\n",
    "xs = np.linspace(0, 10, nx)\n",
    "ys = np.linspace(0, 10, ny)\n",
    "c_x, c_y = np.meshgrid(xs, ys)\n",
    "c_x = c_x.flatten()\n",
    "c_y = c_y.flatten()\n",
    "coord = np.stack([c_x, c_y]).T"
   ]
  },
  {
   "cell_type": "code",
   "execution_count": 7,
   "id": "fcf4e353",
   "metadata": {
    "execution": {
     "iopub.execute_input": "2022-06-20T20:50:44.314969Z",
     "iopub.status.busy": "2022-06-20T20:50:44.314476Z",
     "iopub.status.idle": "2022-06-20T20:50:44.377180Z",
     "shell.execute_reply": "2022-06-20T20:50:44.375721Z"
    },
    "papermill": {
     "duration": 0.075019,
     "end_time": "2022-06-20T20:50:44.381727",
     "exception": false,
     "start_time": "2022-06-20T20:50:44.306708",
     "status": "completed"
    },
    "tags": []
   },
   "outputs": [],
   "source": [
    "if noise_kernel == 'rbf':\n",
    "    Sigma_t = gen_cov_mat(c_x, c_y, RBF(length_scale=noise_length_scale))\n",
    "elif noise_kernel == 'matern':\n",
    "    Sigma_t = gen_cov_mat(c_x, c_y, Matern(length_scale=noise_length_scale, nu=noise_nu))\n",
    "else:\n",
    "    Sigma_t = np.eye(n)\n",
    "    \n",
    "Sigma_t = delta*Sigma_t + (1-delta)*np.eye(n)\n",
    "\n",
    "if noise_kernel == 'rbf' or noise_kernel == 'matern':\n",
    "    Chol_t = np.linalg.cholesky(Sigma_t)\n",
    "else:\n",
    "    Chol_t = np.eye(n)"
   ]
  },
  {
   "cell_type": "code",
   "execution_count": 8,
   "id": "112a1ada",
   "metadata": {
    "execution": {
     "iopub.execute_input": "2022-06-20T20:50:44.399660Z",
     "iopub.status.busy": "2022-06-20T20:50:44.399125Z",
     "iopub.status.idle": "2022-06-20T20:50:44.449772Z",
     "shell.execute_reply": "2022-06-20T20:50:44.448312Z"
    },
    "papermill": {
     "duration": 0.06511,
     "end_time": "2022-06-20T20:50:44.454366",
     "exception": false,
     "start_time": "2022-06-20T20:50:44.389256",
     "status": "completed"
    },
    "tags": []
   },
   "outputs": [],
   "source": [
    "if X_kernel == 'rbf':\n",
    "    X = gen_rbf_X(c_x, c_y, p)\n",
    "elif X_kernel == 'matern':\n",
    "    X = gen_matern_X(c_x, c_y, p, length_scale=X_length_scale, nu=X_nu)\n",
    "else:\n",
    "    X = np.random.randn(n,p)\n",
    "\n",
    "beta = np.zeros(p)\n",
    "idx = np.random.choice(p,size=s)\n",
    "beta[idx] = np.random.uniform(-1,1,size=s)"
   ]
  },
  {
   "cell_type": "code",
   "execution_count": 9,
   "id": "4b4eb1c2",
   "metadata": {
    "execution": {
     "iopub.execute_input": "2022-06-20T20:50:44.473481Z",
     "iopub.status.busy": "2022-06-20T20:50:44.472728Z",
     "iopub.status.idle": "2022-06-20T20:50:44.480610Z",
     "shell.execute_reply": "2022-06-20T20:50:44.479083Z"
    },
    "papermill": {
     "duration": 0.022364,
     "end_time": "2022-06-20T20:50:44.485174",
     "exception": false,
     "start_time": "2022-06-20T20:50:44.462810",
     "status": "completed"
    },
    "tags": []
   },
   "outputs": [],
   "source": [
    "ests = [cp_rf_train_test, \n",
    "        cp_rf_train_test, \n",
    "        bag_kfoldcv, \n",
    "        bag_kmeanscv]\n",
    "est_kwargs = [{'use_trace_corr': False, 'bootstrap_type': 'blur'}, \n",
    "              {'use_trace_corr': True, 'bootstrap_type': 'blur'},\n",
    "              {'k': k},\n",
    "              {'k': k}]"
   ]
  },
  {
   "cell_type": "code",
   "execution_count": 10,
   "id": "60b51be5",
   "metadata": {
    "execution": {
     "iopub.execute_input": "2022-06-20T20:50:44.504357Z",
     "iopub.status.busy": "2022-06-20T20:50:44.503531Z"
    },
    "papermill": {
     "duration": 166.964239,
     "end_time": "2022-06-20T20:53:31.457981",
     "exception": false,
     "start_time": "2022-06-20T20:50:44.493742",
     "status": "completed"
    },
    "tags": []
   },
   "outputs": [
    {
     "name": "stdout",
     "output_type": "stream",
     "text": [
      "0\n",
      "0.33\n"
     ]
    },
    {
     "name": "stdout",
     "output_type": "stream",
     "text": [
      "10\n"
     ]
    }
   ],
   "source": [
    "(test_err,\n",
    " rnd_err,\n",
    " trc_err,\n",
    " kfcv_err,\n",
    " spcv_err) = err_cmp.compare(BlurredForest(n_estimators=n_estimators, max_depth=max_depth),\n",
    "                                 ests,\n",
    "                                 est_kwargs,\n",
    "                                 niter=niter,\n",
    "                                 n=n,\n",
    "                                 p=p,\n",
    "                                 s=p,\n",
    "                                 snr=0.4, \n",
    "                                 X=X,\n",
    "                                 beta=beta,\n",
    "                                 coord=coord,\n",
    "                                 Chol_t=Chol_t,\n",
    "                                 Chol_s=None,\n",
    "                                 tr_idx=None,\n",
    "                                 fair=False,\n",
    "                                 )"
   ]
  },
  {
   "cell_type": "code",
   "execution_count": null,
   "id": "262421fb",
   "metadata": {
    "papermill": {
     "duration": null,
     "end_time": null,
     "exception": null,
     "start_time": null,
     "status": "completed"
    },
    "tags": []
   },
   "outputs": [],
   "source": [
    "risk = test_err.mean()\n",
    "risk_kfcv = kfcv_err.mean()\n",
    "risk_spcv = spcv_err.mean()\n",
    "risk_rnd = rnd_err.mean()\n",
    "risk_trc = trc_err.mean()\n",
    "# risk, risk_kfcv, risk_spcv, risk_lin"
   ]
  },
  {
   "cell_type": "code",
   "execution_count": null,
   "id": "d8634a2f",
   "metadata": {
    "papermill": {
     "duration": null,
     "end_time": null,
     "exception": null,
     "start_time": null,
     "status": "completed"
    },
    "tags": []
   },
   "outputs": [],
   "source": [
    "save_df = pd.DataFrame({'Rand': (rnd_err.T),\n",
    "                        'Trace': (trc_err.T),\n",
    "                        'KFCV': (kfcv_err.T),\n",
    "                        'SPCV': (spcv_err.T),\n",
    "                        'Test': (test_err.T)})\n",
    "save_df.to_csv(dffp)"
   ]
  },
  {
   "cell_type": "code",
   "execution_count": null,
   "id": "a4228739",
   "metadata": {
    "papermill": {
     "duration": null,
     "end_time": null,
     "exception": null,
     "start_time": null,
     "status": "completed"
    },
    "tags": []
   },
   "outputs": [],
   "source": [
    "df = pd.DataFrame({'Rand': (rnd_err.T),\n",
    "                   'Trace': (trc_err.T),\n",
    "                   'KFCV': (kfcv_err.T),\n",
    "                   'SPCV': (spcv_err.T)})"
   ]
  },
  {
   "cell_type": "code",
   "execution_count": null,
   "id": "793cfa41",
   "metadata": {
    "papermill": {
     "duration": null,
     "end_time": null,
     "exception": null,
     "start_time": null,
     "status": "completed"
    },
    "tags": []
   },
   "outputs": [],
   "source": [
    "(df/risk).mean()"
   ]
  },
  {
   "cell_type": "code",
   "execution_count": null,
   "id": "3a52af28",
   "metadata": {
    "papermill": {
     "duration": null,
     "end_time": null,
     "exception": null,
     "start_time": null,
     "status": "completed"
    },
    "tags": []
   },
   "outputs": [],
   "source": [
    "df.var(), (df/risk).var()"
   ]
  },
  {
   "cell_type": "code",
   "execution_count": null,
   "id": "d7a6dae8",
   "metadata": {
    "papermill": {
     "duration": null,
     "end_time": null,
     "exception": null,
     "start_time": null,
     "status": "completed"
    },
    "tags": []
   },
   "outputs": [],
   "source": [
    "fig = go.Figure()\n",
    "fig.add_trace(go.Bar(\n",
    "    name='Control',\n",
    "    x=['Rand', 'Trace', 'KFCV', 'SPCV'], y=(df/risk).mean(),\n",
    "    marker_color=px.colors.qualitative.Plotly,\n",
    "    text=np.around((df/risk).mean(),3),\n",
    "    textposition='outside',\n",
    "    error_y=dict(\n",
    "        type='data',\n",
    "        color='black',\n",
    "        symmetric=False,\n",
    "        array=(df/risk).quantile(.75),\n",
    "        arrayminus=(df/risk).quantile(.25))\n",
    "#         array=(df/risk).mean() + (df/risk).std(),\n",
    "#         arrayminus=(df/risk).mean() - (df/risk).std())\n",
    "))\n",
    "# fig.add_trace(go.Bar(\n",
    "#     name='Experimental',\n",
    "#     x=['GenCp', 'KFCV', 'SPCV'], y=(df/risk).mean(),\n",
    "#     error_y=dict(type='data', array=[1, 2])\n",
    "# ))\n",
    "# fig.update_layout(barmode='group')\n",
    "fig.add_hline(y=1., line_color='red')\n",
    "fig.update_layout(\n",
    "    title=\"RF Test Error Estimates\",\n",
    "    xaxis_title=\"Method\",\n",
    "    yaxis_title=\"Relative MSE\",\n",
    "#     legend_title=\"Legend Title\",\n",
    "#     font=dict(\n",
    "#         family=\"Courier New, monospace\",\n",
    "#         size=18,\n",
    "#         color=\"RebeccaPurple\"\n",
    "#     )\n",
    ")\n",
    "fig.write_image(os.path.expanduser(barfp))\n",
    "fig.show()"
   ]
  },
  {
   "cell_type": "code",
   "execution_count": null,
   "id": "4780b8f0",
   "metadata": {
    "papermill": {
     "duration": null,
     "end_time": null,
     "exception": null,
     "start_time": null,
     "status": "completed"
    },
    "tags": []
   },
   "outputs": [],
   "source": []
  },
  {
   "cell_type": "code",
   "execution_count": null,
   "id": "d2cf4680",
   "metadata": {
    "papermill": {
     "duration": null,
     "end_time": null,
     "exception": null,
     "start_time": null,
     "status": "completed"
    },
    "tags": []
   },
   "outputs": [],
   "source": []
  }
 ],
 "metadata": {
  "celltoolbar": "Tags",
  "kernelspec": {
   "display_name": "blur",
   "language": "python",
   "name": "blur"
  },
  "language_info": {
   "codemirror_mode": {
    "name": "ipython",
    "version": 3
   },
   "file_extension": ".py",
   "mimetype": "text/x-python",
   "name": "python",
   "nbconvert_exporter": "python",
   "pygments_lexer": "ipython3",
   "version": "3.8.13"
  },
  "papermill": {
   "default_parameters": {},
   "duration": 170.998106,
   "end_time": "2022-06-20T20:53:32.422983",
   "environment_variables": {},
   "exception": null,
   "input_path": "/Users/kevinfry/Documents/GitHub/StructuredPredictionError/papermill_templates/RFTemplate.ipynb",
   "output_path": "/Users/kevinfry/Documents/GitHub/StructuredPredictionError/papermill_templates/output/RF/expkern_multik_bagcv/run_2/output.ipynb",
   "parameters": {
    "X_kernel": "rbf",
    "X_length_scale": 5.0,
    "X_nu": 1.0,
    "delta": 0.8,
    "idx": 2,
    "k": 5,
    "max_depth": 6,
    "n": 900,
    "n_estimators": 100,
    "niter": 100,
    "noise_kernel": "matern",
    "noise_length_scale": 1.0,
    "noise_nu": 0.5,
    "p": 30,
    "s": 30,
    "savedir": "/Users/kevinfry/Documents/GitHub/StructuredPredictionError/papermill_templates/output/RF/expkern_multik_bagcv/run_2/"
   },
   "start_time": "2022-06-20T20:50:41.424877",
   "version": "2.3.4"
  }
 },
 "nbformat": 4,
 "nbformat_minor": 5
}