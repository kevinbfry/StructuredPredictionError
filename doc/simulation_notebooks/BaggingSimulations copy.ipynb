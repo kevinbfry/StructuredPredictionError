{
 "cells": [
  {
   "cell_type": "code",
   "execution_count": 1,
   "metadata": {},
   "outputs": [],
   "source": [
    "import numpy as np\n",
    "import pandas as pd\n",
    "from sklearn.gaussian_process.kernels import Matern, RBF\n",
    "from sklearn.linear_model import Lasso\n",
    "from sklearn.ensemble import RandomForestRegressor, BaggingRegressor\n",
    "\n",
    "import plotly.express as px\n",
    "import plotly.graph_objects as go\n",
    "from plotly.subplots import make_subplots\n",
    "\n",
    "from doc.mse_estimator import ErrorComparer\n",
    "from doc.data_generation import gen_rbf_X, gen_matern_X, create_clus_split, gen_cov_mat\n",
    "from spe.tree import Tree\n",
    "from spe.relaxed_lasso import RelaxedLasso\n",
    "from spe.forest import ParametricBaggingRegressor\n",
    "from spe.estimators import better_test_est_split, cp_bagged_train_test, simple_train_test_split"
   ]
  },
  {
   "cell_type": "code",
   "execution_count": 2,
   "metadata": {},
   "outputs": [],
   "source": [
    "np.random.seed(1)"
   ]
  },
  {
   "cell_type": "code",
   "execution_count": 3,
   "metadata": {
    "tags": [
     "parameters"
    ]
   },
   "outputs": [],
   "source": [
    "## number of realizations to run\n",
    "niter = 100\n",
    "\n",
    "## data generation parameters\n",
    "n=10**2\n",
    "p=5\n",
    "s=5\n",
    "delta = 0.75\n",
    "snr = 0.4\n",
    "tr_frac = .5\n",
    "\n",
    "noise_kernel = 'matern'\n",
    "noise_length_scale = 1.\n",
    "noise_nu = .5\n",
    "\n",
    "X_kernel = 'matern'\n",
    "X_length_scale = 5.\n",
    "X_nu = 2.5\n",
    "\n",
    "## ErrorComparer parameters\n",
    "k = 5\n",
    "max_depth = 3\n",
    "models = [RelaxedLasso(lambd=.05), Tree(max_depth=max_depth, max_features='sqrt')]\n",
    "# model_names = [\"RelaxedLasso lambda=.05\", f\"Bagged Depth {max_depth} Decision Trees\"]\n",
    "model_names = [\"Relaxed Lasso\", \"Random Forest\"]\n",
    "ests = [\n",
    "    better_test_est_split,\n",
    "    # better_test_est_split,\n",
    "    cp_bagged_train_test,\n",
    "    # cp_bagged_train_test2,\n",
    "    simple_train_test_split, \n",
    "]\n",
    "est_kwargs = [\n",
    "    {'alpha': None,\n",
    "    'full_refit': False,\n",
    "    'bagg': True},\n",
    "    # {'alpha': 1.,\n",
    "    # 'full_refit': False,\n",
    "    # 'bagg': False},\n",
    "    {'use_trace_corr': False, \n",
    "    'full_refit': False},\n",
    "    # {'use_trace_corr': False, \n",
    "    # 'full_refit': False},\n",
    "    {},\n",
    "    # {'k': k},\n",
    "    # {'k': k}\n",
    "]\n",
    "\n",
    "## plot parameters\n",
    "title = \"Simulated Model Comparisons\"\n",
    "est_names = [\"GenCp\", \"TrTs\"]\n",
    "\n",
    "## output/save parameters\n",
    "idx = -1\n",
    "\n",
    "savedir='~'"
   ]
  },
  {
   "cell_type": "code",
   "execution_count": 4,
   "metadata": {},
   "outputs": [],
   "source": [
    "# if not os.path.exists(os.path.expanduser(savedir)):\n",
    "#     os.makedirs(os.path.expanduser(savedir))\n",
    "\n",
    "# params = pd.DataFrame({'niter': niter,\n",
    "#                        'n': n, \n",
    "#                        'p': p, \n",
    "#                        's': s,\n",
    "#                        'snr': snr,\n",
    "#                        'n_estimators': n_estimators,\n",
    "#                        'max_depth': max_depth,\n",
    "#                        'delta': delta,\n",
    "#                        'nk': noise_kernel, \n",
    "#                        'nls': noise_length_scale, \n",
    "#                        'nn': noise_nu, \n",
    "#                        'xk': X_kernel,\n",
    "#                        'xls': X_length_scale,\n",
    "#                        'xn': X_nu}, index=[idx])\n",
    "# params.to_csv(os.path.expanduser(savedir + 'params.csv'))\n",
    "# dffp = os.path.expanduser(savedir + \"err_df.csv\")\n",
    "# barfp = os.path.expanduser(savedir + 'barchart.jpeg')"
   ]
  },
  {
   "cell_type": "code",
   "execution_count": 5,
   "metadata": {},
   "outputs": [],
   "source": [
    "err_cmp = ErrorComparer()"
   ]
  },
  {
   "cell_type": "code",
   "execution_count": 6,
   "metadata": {},
   "outputs": [],
   "source": [
    "nx = ny = int(np.sqrt(n))\n",
    "xs = np.linspace(0, 10, nx)\n",
    "ys = np.linspace(0, 10, ny)\n",
    "c_x, c_y = np.meshgrid(xs, ys)\n",
    "c_x = c_x.flatten()\n",
    "c_y = c_y.flatten()\n",
    "coord = np.stack([c_x, c_y]).T"
   ]
  },
  {
   "cell_type": "code",
   "execution_count": 7,
   "metadata": {},
   "outputs": [],
   "source": [
    "if noise_kernel == 'rbf':\n",
    "    Sigma_t = gen_cov_mat(c_x, c_y, RBF(length_scale=noise_length_scale))\n",
    "elif noise_kernel == 'matern':\n",
    "    Sigma_t = gen_cov_mat(c_x, c_y, Matern(length_scale=noise_length_scale, nu=noise_nu))\n",
    "else:\n",
    "    Sigma_t = np.eye(n)\n",
    "\n",
    "Cov_st = delta*Sigma_t\n",
    "Sigma_t = delta*Sigma_t + (1-delta)*np.eye(n)\n",
    "\n",
    "if noise_kernel == 'rbf' or noise_kernel == 'matern':\n",
    "    Chol_t = np.linalg.cholesky(Sigma_t)\n",
    "else:\n",
    "    Chol_t = np.eye(n)"
   ]
  },
  {
   "cell_type": "code",
   "execution_count": 8,
   "metadata": {},
   "outputs": [],
   "source": [
    "if X_kernel == 'rbf':\n",
    "    X = gen_rbf_X(c_x, c_y, p)\n",
    "elif X_kernel == 'matern':\n",
    "    X = gen_matern_X(c_x, c_y, p, length_scale=X_length_scale, nu=X_nu)\n",
    "else:\n",
    "    X = np.random.randn(n,p)\n",
    "\n",
    "# beta = np.zeros(p)\n",
    "# idx = np.random.choice(p,size=s,replace=False)\n",
    "# beta[idx] = np.random.uniform(-1,1,size=s)\n",
    "# beta[idx] = np.random.uniform(1,3,size=s) * np.random.choice([-1,1],size=s,replace=True)"
   ]
  },
  {
   "attachments": {},
   "cell_type": "markdown",
   "metadata": {},
   "source": [
    "# Spatial 80/20 Split"
   ]
  },
  {
   "cell_type": "code",
   "execution_count": 9,
   "metadata": {},
   "outputs": [],
   "source": [
    "tr_idx = create_clus_split(\n",
    "            int(np.sqrt(n)), int(np.sqrt(n)), tr_frac\n",
    "        )\n",
    "# tr_idx = np.ones(n, dtype=bool)"
   ]
  },
  {
   "attachments": {},
   "cell_type": "markdown",
   "metadata": {},
   "source": [
    "# Simulate $Y, Y^* \\overset{iid}{\\sim} \\mathcal{N}(\\mu, \\Sigma_Y)$"
   ]
  },
  {
   "cell_type": "code",
   "execution_count": 10,
   "metadata": {
    "scrolled": true
   },
   "outputs": [
    {
     "name": "stderr",
     "output_type": "stream",
     "text": [
      "  0%|          | 0/100 [00:00<?, ?it/s]"
     ]
    },
    {
     "name": "stderr",
     "output_type": "stream",
     "text": [
      "100%|██████████| 100/100 [00:32<00:00,  3.10it/s]\n",
      "100%|██████████| 100/100 [00:15<00:00,  6.26it/s]\n"
     ]
    }
   ],
   "source": [
    "model_errs = []\n",
    "\n",
    "for model in models:\n",
    "    errs = err_cmp.compare(model,\n",
    "                         ests,\n",
    "                         est_kwargs,\n",
    "                         niter=niter,\n",
    "                         n=n,\n",
    "                         p=p,\n",
    "                         s=s,\n",
    "                         snr=snr, \n",
    "                         X=X,\n",
    "                        #  beta=beta,\n",
    "    #                        X_kernel=X_kernel,\n",
    "    #                        X_ls = X_length_scale,\n",
    "    #                        X_nu = X_nu,\n",
    "                         coord=coord,\n",
    "                         Chol_y=Chol_t,\n",
    "                         Chol_ystar=Chol_t,\n",
    "                         Cov_y_ystar=None,\n",
    "                         tr_idx=tr_idx,\n",
    "                         fair=False,\n",
    "                         friedman_mu=True,\n",
    "                        #    tr_frac=tr_frac,\n",
    "                        # est_sigma=True,\n",
    "                        # est_sigma_model=BaggingRegressor(\n",
    "                        #     base_estimator=model, \n",
    "                        #     n_estimators=100\n",
    "                        # ),\n",
    "                        # est_sigma_model=RandomForestRegressor(\n",
    "                        #     max_depth=max_depth, \n",
    "                        #     max_features='sqrt', \n",
    "                        #     n_estimators=100\n",
    "                        # ),\n",
    "                         )\n",
    "    model_errs.append(errs)"
   ]
  },
  {
   "cell_type": "code",
   "execution_count": 11,
   "metadata": {},
   "outputs": [
    {
     "data": {
      "application/vnd.plotly.v1+json": {
       "config": {
        "plotlyServerURL": "https://plot.ly"
       },
       "data": [
        {
         "marker": {
          "color": [
           "#636EFA",
           "#EF553B",
           "#00CC96",
           "#AB63FA",
           "#FFA15A",
           "#19D3F3",
           "#FF6692",
           "#B6E880",
           "#FF97FF",
           "#FECB52"
          ]
         },
         "text": [
          1.024,
          0.872
         ],
         "textposition": "outside",
         "type": "bar",
         "x": [
          "GenCp",
          "TrTs"
         ],
         "xaxis": "x",
         "y": [
          1.0235743996824607,
          0.8722194628208384
         ],
         "yaxis": "y"
        },
        {
         "marker": {
          "color": [
           "#636EFA",
           "#EF553B",
           "#00CC96",
           "#AB63FA",
           "#FFA15A",
           "#19D3F3",
           "#FF6692",
           "#B6E880",
           "#FF97FF",
           "#FECB52"
          ]
         },
         "text": [
          0.989,
          0.986
         ],
         "textposition": "outside",
         "type": "bar",
         "x": [
          "GenCp",
          "TrTs"
         ],
         "xaxis": "x2",
         "y": [
          0.9892067452576203,
          0.9863490589369632
         ],
         "yaxis": "y2"
        }
       ],
       "layout": {
        "annotations": [
         {
          "font": {
           "size": 16
          },
          "showarrow": false,
          "text": "Relaxed Lasso",
          "x": 0.225,
          "xanchor": "center",
          "xref": "paper",
          "y": 1,
          "yanchor": "bottom",
          "yref": "paper"
         },
         {
          "font": {
           "size": 16
          },
          "showarrow": false,
          "text": "Random Forest",
          "x": 0.775,
          "xanchor": "center",
          "xref": "paper",
          "y": 1,
          "yanchor": "bottom",
          "yref": "paper"
         }
        ],
        "shapes": [
         {
          "line": {
           "color": "red"
          },
          "type": "line",
          "x0": 0,
          "x1": 1,
          "xref": "x domain",
          "y0": 1,
          "y1": 1,
          "yref": "y"
         },
         {
          "line": {
           "color": "red"
          },
          "type": "line",
          "x0": 0,
          "x1": 1,
          "xref": "x2 domain",
          "y0": 1,
          "y1": 1,
          "yref": "y2"
         }
        ],
        "showlegend": false,
        "template": {
         "data": {
          "bar": [
           {
            "error_x": {
             "color": "#2a3f5f"
            },
            "error_y": {
             "color": "#2a3f5f"
            },
            "marker": {
             "line": {
              "color": "#E5ECF6",
              "width": 0.5
             },
             "pattern": {
              "fillmode": "overlay",
              "size": 10,
              "solidity": 0.2
             }
            },
            "type": "bar"
           }
          ],
          "barpolar": [
           {
            "marker": {
             "line": {
              "color": "#E5ECF6",
              "width": 0.5
             },
             "pattern": {
              "fillmode": "overlay",
              "size": 10,
              "solidity": 0.2
             }
            },
            "type": "barpolar"
           }
          ],
          "carpet": [
           {
            "aaxis": {
             "endlinecolor": "#2a3f5f",
             "gridcolor": "white",
             "linecolor": "white",
             "minorgridcolor": "white",
             "startlinecolor": "#2a3f5f"
            },
            "baxis": {
             "endlinecolor": "#2a3f5f",
             "gridcolor": "white",
             "linecolor": "white",
             "minorgridcolor": "white",
             "startlinecolor": "#2a3f5f"
            },
            "type": "carpet"
           }
          ],
          "choropleth": [
           {
            "colorbar": {
             "outlinewidth": 0,
             "ticks": ""
            },
            "type": "choropleth"
           }
          ],
          "contour": [
           {
            "colorbar": {
             "outlinewidth": 0,
             "ticks": ""
            },
            "colorscale": [
             [
              0,
              "#0d0887"
             ],
             [
              0.1111111111111111,
              "#46039f"
             ],
             [
              0.2222222222222222,
              "#7201a8"
             ],
             [
              0.3333333333333333,
              "#9c179e"
             ],
             [
              0.4444444444444444,
              "#bd3786"
             ],
             [
              0.5555555555555556,
              "#d8576b"
             ],
             [
              0.6666666666666666,
              "#ed7953"
             ],
             [
              0.7777777777777778,
              "#fb9f3a"
             ],
             [
              0.8888888888888888,
              "#fdca26"
             ],
             [
              1,
              "#f0f921"
             ]
            ],
            "type": "contour"
           }
          ],
          "contourcarpet": [
           {
            "colorbar": {
             "outlinewidth": 0,
             "ticks": ""
            },
            "type": "contourcarpet"
           }
          ],
          "heatmap": [
           {
            "colorbar": {
             "outlinewidth": 0,
             "ticks": ""
            },
            "colorscale": [
             [
              0,
              "#0d0887"
             ],
             [
              0.1111111111111111,
              "#46039f"
             ],
             [
              0.2222222222222222,
              "#7201a8"
             ],
             [
              0.3333333333333333,
              "#9c179e"
             ],
             [
              0.4444444444444444,
              "#bd3786"
             ],
             [
              0.5555555555555556,
              "#d8576b"
             ],
             [
              0.6666666666666666,
              "#ed7953"
             ],
             [
              0.7777777777777778,
              "#fb9f3a"
             ],
             [
              0.8888888888888888,
              "#fdca26"
             ],
             [
              1,
              "#f0f921"
             ]
            ],
            "type": "heatmap"
           }
          ],
          "heatmapgl": [
           {
            "colorbar": {
             "outlinewidth": 0,
             "ticks": ""
            },
            "colorscale": [
             [
              0,
              "#0d0887"
             ],
             [
              0.1111111111111111,
              "#46039f"
             ],
             [
              0.2222222222222222,
              "#7201a8"
             ],
             [
              0.3333333333333333,
              "#9c179e"
             ],
             [
              0.4444444444444444,
              "#bd3786"
             ],
             [
              0.5555555555555556,
              "#d8576b"
             ],
             [
              0.6666666666666666,
              "#ed7953"
             ],
             [
              0.7777777777777778,
              "#fb9f3a"
             ],
             [
              0.8888888888888888,
              "#fdca26"
             ],
             [
              1,
              "#f0f921"
             ]
            ],
            "type": "heatmapgl"
           }
          ],
          "histogram": [
           {
            "marker": {
             "pattern": {
              "fillmode": "overlay",
              "size": 10,
              "solidity": 0.2
             }
            },
            "type": "histogram"
           }
          ],
          "histogram2d": [
           {
            "colorbar": {
             "outlinewidth": 0,
             "ticks": ""
            },
            "colorscale": [
             [
              0,
              "#0d0887"
             ],
             [
              0.1111111111111111,
              "#46039f"
             ],
             [
              0.2222222222222222,
              "#7201a8"
             ],
             [
              0.3333333333333333,
              "#9c179e"
             ],
             [
              0.4444444444444444,
              "#bd3786"
             ],
             [
              0.5555555555555556,
              "#d8576b"
             ],
             [
              0.6666666666666666,
              "#ed7953"
             ],
             [
              0.7777777777777778,
              "#fb9f3a"
             ],
             [
              0.8888888888888888,
              "#fdca26"
             ],
             [
              1,
              "#f0f921"
             ]
            ],
            "type": "histogram2d"
           }
          ],
          "histogram2dcontour": [
           {
            "colorbar": {
             "outlinewidth": 0,
             "ticks": ""
            },
            "colorscale": [
             [
              0,
              "#0d0887"
             ],
             [
              0.1111111111111111,
              "#46039f"
             ],
             [
              0.2222222222222222,
              "#7201a8"
             ],
             [
              0.3333333333333333,
              "#9c179e"
             ],
             [
              0.4444444444444444,
              "#bd3786"
             ],
             [
              0.5555555555555556,
              "#d8576b"
             ],
             [
              0.6666666666666666,
              "#ed7953"
             ],
             [
              0.7777777777777778,
              "#fb9f3a"
             ],
             [
              0.8888888888888888,
              "#fdca26"
             ],
             [
              1,
              "#f0f921"
             ]
            ],
            "type": "histogram2dcontour"
           }
          ],
          "mesh3d": [
           {
            "colorbar": {
             "outlinewidth": 0,
             "ticks": ""
            },
            "type": "mesh3d"
           }
          ],
          "parcoords": [
           {
            "line": {
             "colorbar": {
              "outlinewidth": 0,
              "ticks": ""
             }
            },
            "type": "parcoords"
           }
          ],
          "pie": [
           {
            "automargin": true,
            "type": "pie"
           }
          ],
          "scatter": [
           {
            "fillpattern": {
             "fillmode": "overlay",
             "size": 10,
             "solidity": 0.2
            },
            "type": "scatter"
           }
          ],
          "scatter3d": [
           {
            "line": {
             "colorbar": {
              "outlinewidth": 0,
              "ticks": ""
             }
            },
            "marker": {
             "colorbar": {
              "outlinewidth": 0,
              "ticks": ""
             }
            },
            "type": "scatter3d"
           }
          ],
          "scattercarpet": [
           {
            "marker": {
             "colorbar": {
              "outlinewidth": 0,
              "ticks": ""
             }
            },
            "type": "scattercarpet"
           }
          ],
          "scattergeo": [
           {
            "marker": {
             "colorbar": {
              "outlinewidth": 0,
              "ticks": ""
             }
            },
            "type": "scattergeo"
           }
          ],
          "scattergl": [
           {
            "marker": {
             "colorbar": {
              "outlinewidth": 0,
              "ticks": ""
             }
            },
            "type": "scattergl"
           }
          ],
          "scattermapbox": [
           {
            "marker": {
             "colorbar": {
              "outlinewidth": 0,
              "ticks": ""
             }
            },
            "type": "scattermapbox"
           }
          ],
          "scatterpolar": [
           {
            "marker": {
             "colorbar": {
              "outlinewidth": 0,
              "ticks": ""
             }
            },
            "type": "scatterpolar"
           }
          ],
          "scatterpolargl": [
           {
            "marker": {
             "colorbar": {
              "outlinewidth": 0,
              "ticks": ""
             }
            },
            "type": "scatterpolargl"
           }
          ],
          "scatterternary": [
           {
            "marker": {
             "colorbar": {
              "outlinewidth": 0,
              "ticks": ""
             }
            },
            "type": "scatterternary"
           }
          ],
          "surface": [
           {
            "colorbar": {
             "outlinewidth": 0,
             "ticks": ""
            },
            "colorscale": [
             [
              0,
              "#0d0887"
             ],
             [
              0.1111111111111111,
              "#46039f"
             ],
             [
              0.2222222222222222,
              "#7201a8"
             ],
             [
              0.3333333333333333,
              "#9c179e"
             ],
             [
              0.4444444444444444,
              "#bd3786"
             ],
             [
              0.5555555555555556,
              "#d8576b"
             ],
             [
              0.6666666666666666,
              "#ed7953"
             ],
             [
              0.7777777777777778,
              "#fb9f3a"
             ],
             [
              0.8888888888888888,
              "#fdca26"
             ],
             [
              1,
              "#f0f921"
             ]
            ],
            "type": "surface"
           }
          ],
          "table": [
           {
            "cells": {
             "fill": {
              "color": "#EBF0F8"
             },
             "line": {
              "color": "white"
             }
            },
            "header": {
             "fill": {
              "color": "#C8D4E3"
             },
             "line": {
              "color": "white"
             }
            },
            "type": "table"
           }
          ]
         },
         "layout": {
          "annotationdefaults": {
           "arrowcolor": "#2a3f5f",
           "arrowhead": 0,
           "arrowwidth": 1
          },
          "autotypenumbers": "strict",
          "coloraxis": {
           "colorbar": {
            "outlinewidth": 0,
            "ticks": ""
           }
          },
          "colorscale": {
           "diverging": [
            [
             0,
             "#8e0152"
            ],
            [
             0.1,
             "#c51b7d"
            ],
            [
             0.2,
             "#de77ae"
            ],
            [
             0.3,
             "#f1b6da"
            ],
            [
             0.4,
             "#fde0ef"
            ],
            [
             0.5,
             "#f7f7f7"
            ],
            [
             0.6,
             "#e6f5d0"
            ],
            [
             0.7,
             "#b8e186"
            ],
            [
             0.8,
             "#7fbc41"
            ],
            [
             0.9,
             "#4d9221"
            ],
            [
             1,
             "#276419"
            ]
           ],
           "sequential": [
            [
             0,
             "#0d0887"
            ],
            [
             0.1111111111111111,
             "#46039f"
            ],
            [
             0.2222222222222222,
             "#7201a8"
            ],
            [
             0.3333333333333333,
             "#9c179e"
            ],
            [
             0.4444444444444444,
             "#bd3786"
            ],
            [
             0.5555555555555556,
             "#d8576b"
            ],
            [
             0.6666666666666666,
             "#ed7953"
            ],
            [
             0.7777777777777778,
             "#fb9f3a"
            ],
            [
             0.8888888888888888,
             "#fdca26"
            ],
            [
             1,
             "#f0f921"
            ]
           ],
           "sequentialminus": [
            [
             0,
             "#0d0887"
            ],
            [
             0.1111111111111111,
             "#46039f"
            ],
            [
             0.2222222222222222,
             "#7201a8"
            ],
            [
             0.3333333333333333,
             "#9c179e"
            ],
            [
             0.4444444444444444,
             "#bd3786"
            ],
            [
             0.5555555555555556,
             "#d8576b"
            ],
            [
             0.6666666666666666,
             "#ed7953"
            ],
            [
             0.7777777777777778,
             "#fb9f3a"
            ],
            [
             0.8888888888888888,
             "#fdca26"
            ],
            [
             1,
             "#f0f921"
            ]
           ]
          },
          "colorway": [
           "#636efa",
           "#EF553B",
           "#00cc96",
           "#ab63fa",
           "#FFA15A",
           "#19d3f3",
           "#FF6692",
           "#B6E880",
           "#FF97FF",
           "#FECB52"
          ],
          "font": {
           "color": "#2a3f5f"
          },
          "geo": {
           "bgcolor": "white",
           "lakecolor": "white",
           "landcolor": "#E5ECF6",
           "showlakes": true,
           "showland": true,
           "subunitcolor": "white"
          },
          "hoverlabel": {
           "align": "left"
          },
          "hovermode": "closest",
          "mapbox": {
           "style": "light"
          },
          "paper_bgcolor": "white",
          "plot_bgcolor": "#E5ECF6",
          "polar": {
           "angularaxis": {
            "gridcolor": "white",
            "linecolor": "white",
            "ticks": ""
           },
           "bgcolor": "#E5ECF6",
           "radialaxis": {
            "gridcolor": "white",
            "linecolor": "white",
            "ticks": ""
           }
          },
          "scene": {
           "xaxis": {
            "backgroundcolor": "#E5ECF6",
            "gridcolor": "white",
            "gridwidth": 2,
            "linecolor": "white",
            "showbackground": true,
            "ticks": "",
            "zerolinecolor": "white"
           },
           "yaxis": {
            "backgroundcolor": "#E5ECF6",
            "gridcolor": "white",
            "gridwidth": 2,
            "linecolor": "white",
            "showbackground": true,
            "ticks": "",
            "zerolinecolor": "white"
           },
           "zaxis": {
            "backgroundcolor": "#E5ECF6",
            "gridcolor": "white",
            "gridwidth": 2,
            "linecolor": "white",
            "showbackground": true,
            "ticks": "",
            "zerolinecolor": "white"
           }
          },
          "shapedefaults": {
           "line": {
            "color": "#2a3f5f"
           }
          },
          "ternary": {
           "aaxis": {
            "gridcolor": "white",
            "linecolor": "white",
            "ticks": ""
           },
           "baxis": {
            "gridcolor": "white",
            "linecolor": "white",
            "ticks": ""
           },
           "bgcolor": "#E5ECF6",
           "caxis": {
            "gridcolor": "white",
            "linecolor": "white",
            "ticks": ""
           }
          },
          "title": {
           "x": 0.05
          },
          "xaxis": {
           "automargin": true,
           "gridcolor": "white",
           "linecolor": "white",
           "ticks": "",
           "title": {
            "standoff": 15
           },
           "zerolinecolor": "white",
           "zerolinewidth": 2
          },
          "yaxis": {
           "automargin": true,
           "gridcolor": "white",
           "linecolor": "white",
           "ticks": "",
           "title": {
            "standoff": 15
           },
           "zerolinecolor": "white",
           "zerolinewidth": 2
          }
         }
        },
        "title": {
         "text": "Bagged Models: Spatial Train/Test Split, No Shared Noise"
        },
        "xaxis": {
         "anchor": "y",
         "domain": [
          0,
          0.45
         ],
         "title": {
          "text": "Method"
         }
        },
        "xaxis2": {
         "anchor": "y2",
         "domain": [
          0.55,
          1
         ],
         "title": {
          "text": "Method"
         }
        },
        "yaxis": {
         "anchor": "x",
         "domain": [
          0,
          1
         ],
         "title": {
          "text": "Relative MSE"
         }
        },
        "yaxis2": {
         "anchor": "x2",
         "domain": [
          0,
          1
         ],
         "title": {
          "text": "Relative MSE"
         }
        }
       }
      }
     },
     "metadata": {},
     "output_type": "display_data"
    }
   ],
   "source": [
    "fig = make_subplots(\n",
    "    rows=1, cols=len(models),\n",
    "    subplot_titles=model_names)\n",
    "#     subplot_titles=(\"Relaxed Lasso\", \"Depth 2 Decision Tree\"))\n",
    "\n",
    "for i, errs in enumerate(model_errs):\n",
    "    risks = [err.mean() for err in errs]\n",
    "    test_risk = risks[0]\n",
    "    # elev_test_risk = risks[1]\n",
    "    # est_risks = risks[2:]\n",
    "    est_risks = risks[1:]\n",
    "\n",
    "    df = pd.DataFrame({est_names[i]: errs[i+1] for i in np.arange(len(est_names))})\n",
    "\n",
    "    fig.add_trace(go.Bar(\n",
    "    #     x=['VRF', 'BF_WR', 'BF_FR'], \n",
    "        x = df.columns,\n",
    "        y=(df).mean()/test_risk,\n",
    "        marker_color=px.colors.qualitative.Plotly,\n",
    "        text=np.around((df).mean()/test_risk,3),\n",
    "        textposition='outside',\n",
    "    #     error_y=dict(\n",
    "    #         type='data',\n",
    "    #         color='black',\n",
    "    #         array=(df).std() / test_risk,\n",
    "    # #         array=(df/test_risk).clip(upper=(df/test_risk).quantile(.95),axis=1).std(),\n",
    "    # #         symmetric=False,\n",
    "    # #         array=(df/test_risk).quantile(.95) - (df/test_risk).mean(),\n",
    "    # #         arrayminus=(df/test_risk).mean() - (df/test_risk).quantile(.93)\n",
    "    #     )\n",
    "    #         array=(df).mean() + (df).std(),\n",
    "    #         arrayminus=(df).mean() - (df).std())\n",
    "    ), row=1, col=i+1)\n",
    "    # fig.add_trace(go.Bar(\n",
    "    #     name='Experimental',\n",
    "    #     x=['GenCp', 'KFCV', 'SPCV'], y=(df).mean(),\n",
    "    #     error_y=dict(type='data', array=[1, 2])\n",
    "    # ))\n",
    "    # fig.update_layout(barmode='group')\n",
    "    fig.add_hline(y=1., line_color='red', row=1, col=i+1)\n",
    "    # fig.add_hline(y=elev_test_risk / test_risk, line_color='gray', line_dash='dash', row=1, col=i+1)\n",
    "    \n",
    "    fig.update_xaxes(title_text=\"Method\", row=1, col=i+1)\n",
    "    fig.update_yaxes(title_text=\"Relative MSE\", row=1, col=i+1)\n",
    "    \n",
    "# fig.update_layout(\n",
    "# #     title=f\"FC_\\u03B4{delta}_snr{snr}_nk{noise_kernel}_nls{noise_length_scale}_nv{noise_nu}_Xk{X_kernel}_Xls{X_length_scale}_Xv{X_nu}\",\n",
    "#     title=title,\n",
    "#     xaxis_title=\"Method\",\n",
    "#     yaxis_title=\"MSE\",\n",
    "# #     legend_title=\"Legend Title\",\n",
    "# #     font=dict(\n",
    "# #         family=\"Courier New, monospace\",\n",
    "# #         size=18,\n",
    "# #         color=\"RebeccaPurple\"\n",
    "# #     )\n",
    "# )\n",
    "# barfp = os.path.expanduser(savedir + fig.layout.title['text'] + \".jpeg\")\n",
    "# fig.write_image(os.path.expanduser(barfp))\n",
    "fig.update_layout(title=\"Bagged Models: Spatial Train/Test Split, No Shared Noise\", showlegend=False)\n",
    "fig.show()"
   ]
  },
  {
   "attachments": {},
   "cell_type": "markdown",
   "metadata": {},
   "source": [
    "# Simulate $\\begin{pmatrix} Y \\\\ Y^* \\end{pmatrix} \\sim \\mathcal{N}\\left(\\begin{pmatrix} \\mu \\\\ \\mu \\end{pmatrix}, \\begin{pmatrix}\\Sigma_Y & \\Sigma_{Y, Y^*} \\\\ \\Sigma_{Y^*, Y} & \\Sigma_{Y}  \\end{pmatrix}\\right)$"
   ]
  },
  {
   "cell_type": "code",
   "execution_count": 12,
   "metadata": {},
   "outputs": [
    {
     "name": "stderr",
     "output_type": "stream",
     "text": [
      "100%|██████████| 100/100 [00:35<00:00,  2.78it/s]\n",
      "100%|██████████| 100/100 [00:17<00:00,  5.83it/s]\n"
     ]
    }
   ],
   "source": [
    "model_errs = []\n",
    "\n",
    "for model in models:\n",
    "    errs = err_cmp.compare(model,\n",
    "                         ests,\n",
    "                         est_kwargs,\n",
    "                         niter=niter,\n",
    "                         n=n,\n",
    "                         p=p,\n",
    "                         s=s,\n",
    "                         snr=snr, \n",
    "                         X=X,\n",
    "                        #  beta=beta,\n",
    "    #                        X_kernel=X_kernel,\n",
    "    #                        X_ls = X_length_scale,\n",
    "    #                        X_nu = X_nu,\n",
    "                         coord=coord,\n",
    "                         Chol_y=Chol_t,\n",
    "                         Chol_ystar=Chol_t,\n",
    "                         Cov_y_ystar=Cov_st,\n",
    "                         tr_idx=tr_idx,\n",
    "                         fair=False,\n",
    "                         friedman_mu=True,\n",
    "                        #    tr_frac=tr_frac,\n",
    "                        # est_sigma=True,\n",
    "                        # est_sigma_model=BaggingRegressor(\n",
    "                        #     base_estimator=model, \n",
    "                        #     n_estimators=100\n",
    "                        # ),\n",
    "                        # est_sigma_model=RandomForestRegressor(\n",
    "                        #     max_depth=max_depth, \n",
    "                        #     max_features='sqrt', \n",
    "                        #     n_estimators=100\n",
    "                        # ),\n",
    "                         )\n",
    "    model_errs.append(errs)"
   ]
  },
  {
   "cell_type": "code",
   "execution_count": 13,
   "metadata": {},
   "outputs": [
    {
     "data": {
      "application/vnd.plotly.v1+json": {
       "config": {
        "plotlyServerURL": "https://plot.ly"
       },
       "data": [
        {
         "marker": {
          "color": [
           "#636EFA",
           "#EF553B",
           "#00CC96",
           "#AB63FA",
           "#FFA15A",
           "#19D3F3",
           "#FF6692",
           "#B6E880",
           "#FF97FF",
           "#FECB52"
          ]
         },
         "text": [
          0.984,
          0.998
         ],
         "textposition": "outside",
         "type": "bar",
         "x": [
          "GenCp",
          "TrTs"
         ],
         "xaxis": "x",
         "y": [
          0.9836716180109254,
          0.9982413144505364
         ],
         "yaxis": "y"
        },
        {
         "marker": {
          "color": [
           "#636EFA",
           "#EF553B",
           "#00CC96",
           "#AB63FA",
           "#FFA15A",
           "#19D3F3",
           "#FF6692",
           "#B6E880",
           "#FF97FF",
           "#FECB52"
          ]
         },
         "text": [
          0.994,
          1.256
         ],
         "textposition": "outside",
         "type": "bar",
         "x": [
          "GenCp",
          "TrTs"
         ],
         "xaxis": "x2",
         "y": [
          0.9938729431348428,
          1.2559261364849719
         ],
         "yaxis": "y2"
        }
       ],
       "layout": {
        "annotations": [
         {
          "font": {
           "size": 16
          },
          "showarrow": false,
          "text": "Relaxed Lasso",
          "x": 0.225,
          "xanchor": "center",
          "xref": "paper",
          "y": 1,
          "yanchor": "bottom",
          "yref": "paper"
         },
         {
          "font": {
           "size": 16
          },
          "showarrow": false,
          "text": "Random Forest",
          "x": 0.775,
          "xanchor": "center",
          "xref": "paper",
          "y": 1,
          "yanchor": "bottom",
          "yref": "paper"
         }
        ],
        "shapes": [
         {
          "line": {
           "color": "red"
          },
          "type": "line",
          "x0": 0,
          "x1": 1,
          "xref": "x domain",
          "y0": 1,
          "y1": 1,
          "yref": "y"
         },
         {
          "line": {
           "color": "red"
          },
          "type": "line",
          "x0": 0,
          "x1": 1,
          "xref": "x2 domain",
          "y0": 1,
          "y1": 1,
          "yref": "y2"
         }
        ],
        "showlegend": false,
        "template": {
         "data": {
          "bar": [
           {
            "error_x": {
             "color": "#2a3f5f"
            },
            "error_y": {
             "color": "#2a3f5f"
            },
            "marker": {
             "line": {
              "color": "#E5ECF6",
              "width": 0.5
             },
             "pattern": {
              "fillmode": "overlay",
              "size": 10,
              "solidity": 0.2
             }
            },
            "type": "bar"
           }
          ],
          "barpolar": [
           {
            "marker": {
             "line": {
              "color": "#E5ECF6",
              "width": 0.5
             },
             "pattern": {
              "fillmode": "overlay",
              "size": 10,
              "solidity": 0.2
             }
            },
            "type": "barpolar"
           }
          ],
          "carpet": [
           {
            "aaxis": {
             "endlinecolor": "#2a3f5f",
             "gridcolor": "white",
             "linecolor": "white",
             "minorgridcolor": "white",
             "startlinecolor": "#2a3f5f"
            },
            "baxis": {
             "endlinecolor": "#2a3f5f",
             "gridcolor": "white",
             "linecolor": "white",
             "minorgridcolor": "white",
             "startlinecolor": "#2a3f5f"
            },
            "type": "carpet"
           }
          ],
          "choropleth": [
           {
            "colorbar": {
             "outlinewidth": 0,
             "ticks": ""
            },
            "type": "choropleth"
           }
          ],
          "contour": [
           {
            "colorbar": {
             "outlinewidth": 0,
             "ticks": ""
            },
            "colorscale": [
             [
              0,
              "#0d0887"
             ],
             [
              0.1111111111111111,
              "#46039f"
             ],
             [
              0.2222222222222222,
              "#7201a8"
             ],
             [
              0.3333333333333333,
              "#9c179e"
             ],
             [
              0.4444444444444444,
              "#bd3786"
             ],
             [
              0.5555555555555556,
              "#d8576b"
             ],
             [
              0.6666666666666666,
              "#ed7953"
             ],
             [
              0.7777777777777778,
              "#fb9f3a"
             ],
             [
              0.8888888888888888,
              "#fdca26"
             ],
             [
              1,
              "#f0f921"
             ]
            ],
            "type": "contour"
           }
          ],
          "contourcarpet": [
           {
            "colorbar": {
             "outlinewidth": 0,
             "ticks": ""
            },
            "type": "contourcarpet"
           }
          ],
          "heatmap": [
           {
            "colorbar": {
             "outlinewidth": 0,
             "ticks": ""
            },
            "colorscale": [
             [
              0,
              "#0d0887"
             ],
             [
              0.1111111111111111,
              "#46039f"
             ],
             [
              0.2222222222222222,
              "#7201a8"
             ],
             [
              0.3333333333333333,
              "#9c179e"
             ],
             [
              0.4444444444444444,
              "#bd3786"
             ],
             [
              0.5555555555555556,
              "#d8576b"
             ],
             [
              0.6666666666666666,
              "#ed7953"
             ],
             [
              0.7777777777777778,
              "#fb9f3a"
             ],
             [
              0.8888888888888888,
              "#fdca26"
             ],
             [
              1,
              "#f0f921"
             ]
            ],
            "type": "heatmap"
           }
          ],
          "heatmapgl": [
           {
            "colorbar": {
             "outlinewidth": 0,
             "ticks": ""
            },
            "colorscale": [
             [
              0,
              "#0d0887"
             ],
             [
              0.1111111111111111,
              "#46039f"
             ],
             [
              0.2222222222222222,
              "#7201a8"
             ],
             [
              0.3333333333333333,
              "#9c179e"
             ],
             [
              0.4444444444444444,
              "#bd3786"
             ],
             [
              0.5555555555555556,
              "#d8576b"
             ],
             [
              0.6666666666666666,
              "#ed7953"
             ],
             [
              0.7777777777777778,
              "#fb9f3a"
             ],
             [
              0.8888888888888888,
              "#fdca26"
             ],
             [
              1,
              "#f0f921"
             ]
            ],
            "type": "heatmapgl"
           }
          ],
          "histogram": [
           {
            "marker": {
             "pattern": {
              "fillmode": "overlay",
              "size": 10,
              "solidity": 0.2
             }
            },
            "type": "histogram"
           }
          ],
          "histogram2d": [
           {
            "colorbar": {
             "outlinewidth": 0,
             "ticks": ""
            },
            "colorscale": [
             [
              0,
              "#0d0887"
             ],
             [
              0.1111111111111111,
              "#46039f"
             ],
             [
              0.2222222222222222,
              "#7201a8"
             ],
             [
              0.3333333333333333,
              "#9c179e"
             ],
             [
              0.4444444444444444,
              "#bd3786"
             ],
             [
              0.5555555555555556,
              "#d8576b"
             ],
             [
              0.6666666666666666,
              "#ed7953"
             ],
             [
              0.7777777777777778,
              "#fb9f3a"
             ],
             [
              0.8888888888888888,
              "#fdca26"
             ],
             [
              1,
              "#f0f921"
             ]
            ],
            "type": "histogram2d"
           }
          ],
          "histogram2dcontour": [
           {
            "colorbar": {
             "outlinewidth": 0,
             "ticks": ""
            },
            "colorscale": [
             [
              0,
              "#0d0887"
             ],
             [
              0.1111111111111111,
              "#46039f"
             ],
             [
              0.2222222222222222,
              "#7201a8"
             ],
             [
              0.3333333333333333,
              "#9c179e"
             ],
             [
              0.4444444444444444,
              "#bd3786"
             ],
             [
              0.5555555555555556,
              "#d8576b"
             ],
             [
              0.6666666666666666,
              "#ed7953"
             ],
             [
              0.7777777777777778,
              "#fb9f3a"
             ],
             [
              0.8888888888888888,
              "#fdca26"
             ],
             [
              1,
              "#f0f921"
             ]
            ],
            "type": "histogram2dcontour"
           }
          ],
          "mesh3d": [
           {
            "colorbar": {
             "outlinewidth": 0,
             "ticks": ""
            },
            "type": "mesh3d"
           }
          ],
          "parcoords": [
           {
            "line": {
             "colorbar": {
              "outlinewidth": 0,
              "ticks": ""
             }
            },
            "type": "parcoords"
           }
          ],
          "pie": [
           {
            "automargin": true,
            "type": "pie"
           }
          ],
          "scatter": [
           {
            "fillpattern": {
             "fillmode": "overlay",
             "size": 10,
             "solidity": 0.2
            },
            "type": "scatter"
           }
          ],
          "scatter3d": [
           {
            "line": {
             "colorbar": {
              "outlinewidth": 0,
              "ticks": ""
             }
            },
            "marker": {
             "colorbar": {
              "outlinewidth": 0,
              "ticks": ""
             }
            },
            "type": "scatter3d"
           }
          ],
          "scattercarpet": [
           {
            "marker": {
             "colorbar": {
              "outlinewidth": 0,
              "ticks": ""
             }
            },
            "type": "scattercarpet"
           }
          ],
          "scattergeo": [
           {
            "marker": {
             "colorbar": {
              "outlinewidth": 0,
              "ticks": ""
             }
            },
            "type": "scattergeo"
           }
          ],
          "scattergl": [
           {
            "marker": {
             "colorbar": {
              "outlinewidth": 0,
              "ticks": ""
             }
            },
            "type": "scattergl"
           }
          ],
          "scattermapbox": [
           {
            "marker": {
             "colorbar": {
              "outlinewidth": 0,
              "ticks": ""
             }
            },
            "type": "scattermapbox"
           }
          ],
          "scatterpolar": [
           {
            "marker": {
             "colorbar": {
              "outlinewidth": 0,
              "ticks": ""
             }
            },
            "type": "scatterpolar"
           }
          ],
          "scatterpolargl": [
           {
            "marker": {
             "colorbar": {
              "outlinewidth": 0,
              "ticks": ""
             }
            },
            "type": "scatterpolargl"
           }
          ],
          "scatterternary": [
           {
            "marker": {
             "colorbar": {
              "outlinewidth": 0,
              "ticks": ""
             }
            },
            "type": "scatterternary"
           }
          ],
          "surface": [
           {
            "colorbar": {
             "outlinewidth": 0,
             "ticks": ""
            },
            "colorscale": [
             [
              0,
              "#0d0887"
             ],
             [
              0.1111111111111111,
              "#46039f"
             ],
             [
              0.2222222222222222,
              "#7201a8"
             ],
             [
              0.3333333333333333,
              "#9c179e"
             ],
             [
              0.4444444444444444,
              "#bd3786"
             ],
             [
              0.5555555555555556,
              "#d8576b"
             ],
             [
              0.6666666666666666,
              "#ed7953"
             ],
             [
              0.7777777777777778,
              "#fb9f3a"
             ],
             [
              0.8888888888888888,
              "#fdca26"
             ],
             [
              1,
              "#f0f921"
             ]
            ],
            "type": "surface"
           }
          ],
          "table": [
           {
            "cells": {
             "fill": {
              "color": "#EBF0F8"
             },
             "line": {
              "color": "white"
             }
            },
            "header": {
             "fill": {
              "color": "#C8D4E3"
             },
             "line": {
              "color": "white"
             }
            },
            "type": "table"
           }
          ]
         },
         "layout": {
          "annotationdefaults": {
           "arrowcolor": "#2a3f5f",
           "arrowhead": 0,
           "arrowwidth": 1
          },
          "autotypenumbers": "strict",
          "coloraxis": {
           "colorbar": {
            "outlinewidth": 0,
            "ticks": ""
           }
          },
          "colorscale": {
           "diverging": [
            [
             0,
             "#8e0152"
            ],
            [
             0.1,
             "#c51b7d"
            ],
            [
             0.2,
             "#de77ae"
            ],
            [
             0.3,
             "#f1b6da"
            ],
            [
             0.4,
             "#fde0ef"
            ],
            [
             0.5,
             "#f7f7f7"
            ],
            [
             0.6,
             "#e6f5d0"
            ],
            [
             0.7,
             "#b8e186"
            ],
            [
             0.8,
             "#7fbc41"
            ],
            [
             0.9,
             "#4d9221"
            ],
            [
             1,
             "#276419"
            ]
           ],
           "sequential": [
            [
             0,
             "#0d0887"
            ],
            [
             0.1111111111111111,
             "#46039f"
            ],
            [
             0.2222222222222222,
             "#7201a8"
            ],
            [
             0.3333333333333333,
             "#9c179e"
            ],
            [
             0.4444444444444444,
             "#bd3786"
            ],
            [
             0.5555555555555556,
             "#d8576b"
            ],
            [
             0.6666666666666666,
             "#ed7953"
            ],
            [
             0.7777777777777778,
             "#fb9f3a"
            ],
            [
             0.8888888888888888,
             "#fdca26"
            ],
            [
             1,
             "#f0f921"
            ]
           ],
           "sequentialminus": [
            [
             0,
             "#0d0887"
            ],
            [
             0.1111111111111111,
             "#46039f"
            ],
            [
             0.2222222222222222,
             "#7201a8"
            ],
            [
             0.3333333333333333,
             "#9c179e"
            ],
            [
             0.4444444444444444,
             "#bd3786"
            ],
            [
             0.5555555555555556,
             "#d8576b"
            ],
            [
             0.6666666666666666,
             "#ed7953"
            ],
            [
             0.7777777777777778,
             "#fb9f3a"
            ],
            [
             0.8888888888888888,
             "#fdca26"
            ],
            [
             1,
             "#f0f921"
            ]
           ]
          },
          "colorway": [
           "#636efa",
           "#EF553B",
           "#00cc96",
           "#ab63fa",
           "#FFA15A",
           "#19d3f3",
           "#FF6692",
           "#B6E880",
           "#FF97FF",
           "#FECB52"
          ],
          "font": {
           "color": "#2a3f5f"
          },
          "geo": {
           "bgcolor": "white",
           "lakecolor": "white",
           "landcolor": "#E5ECF6",
           "showlakes": true,
           "showland": true,
           "subunitcolor": "white"
          },
          "hoverlabel": {
           "align": "left"
          },
          "hovermode": "closest",
          "mapbox": {
           "style": "light"
          },
          "paper_bgcolor": "white",
          "plot_bgcolor": "#E5ECF6",
          "polar": {
           "angularaxis": {
            "gridcolor": "white",
            "linecolor": "white",
            "ticks": ""
           },
           "bgcolor": "#E5ECF6",
           "radialaxis": {
            "gridcolor": "white",
            "linecolor": "white",
            "ticks": ""
           }
          },
          "scene": {
           "xaxis": {
            "backgroundcolor": "#E5ECF6",
            "gridcolor": "white",
            "gridwidth": 2,
            "linecolor": "white",
            "showbackground": true,
            "ticks": "",
            "zerolinecolor": "white"
           },
           "yaxis": {
            "backgroundcolor": "#E5ECF6",
            "gridcolor": "white",
            "gridwidth": 2,
            "linecolor": "white",
            "showbackground": true,
            "ticks": "",
            "zerolinecolor": "white"
           },
           "zaxis": {
            "backgroundcolor": "#E5ECF6",
            "gridcolor": "white",
            "gridwidth": 2,
            "linecolor": "white",
            "showbackground": true,
            "ticks": "",
            "zerolinecolor": "white"
           }
          },
          "shapedefaults": {
           "line": {
            "color": "#2a3f5f"
           }
          },
          "ternary": {
           "aaxis": {
            "gridcolor": "white",
            "linecolor": "white",
            "ticks": ""
           },
           "baxis": {
            "gridcolor": "white",
            "linecolor": "white",
            "ticks": ""
           },
           "bgcolor": "#E5ECF6",
           "caxis": {
            "gridcolor": "white",
            "linecolor": "white",
            "ticks": ""
           }
          },
          "title": {
           "x": 0.05
          },
          "xaxis": {
           "automargin": true,
           "gridcolor": "white",
           "linecolor": "white",
           "ticks": "",
           "title": {
            "standoff": 15
           },
           "zerolinecolor": "white",
           "zerolinewidth": 2
          },
          "yaxis": {
           "automargin": true,
           "gridcolor": "white",
           "linecolor": "white",
           "ticks": "",
           "title": {
            "standoff": 15
           },
           "zerolinecolor": "white",
           "zerolinewidth": 2
          }
         }
        },
        "title": {
         "text": "Bagged Models: Spatial Train/Test Split, Shared Structured Noise"
        },
        "xaxis": {
         "anchor": "y",
         "domain": [
          0,
          0.45
         ],
         "title": {
          "text": "Method"
         }
        },
        "xaxis2": {
         "anchor": "y2",
         "domain": [
          0.55,
          1
         ],
         "title": {
          "text": "Method"
         }
        },
        "yaxis": {
         "anchor": "x",
         "domain": [
          0,
          1
         ],
         "title": {
          "text": "Relative MSE"
         }
        },
        "yaxis2": {
         "anchor": "x2",
         "domain": [
          0,
          1
         ],
         "title": {
          "text": "Relative MSE"
         }
        }
       }
      }
     },
     "metadata": {},
     "output_type": "display_data"
    }
   ],
   "source": [
    "fig = make_subplots(\n",
    "    rows=1, cols=len(models),\n",
    "    subplot_titles=model_names)\n",
    "#     subplot_titles=(\"Relaxed Lasso\", \"Depth 2 Decision Tree\"))\n",
    "\n",
    "for i, errs in enumerate(model_errs):\n",
    "    risks = [err.mean() for err in errs]\n",
    "    test_risk = risks[0]\n",
    "    # elev_test_risk = risks[1]\n",
    "    # est_risks = risks[2:]\n",
    "    est_risks = risks[1:]\n",
    "\n",
    "    df = pd.DataFrame({est_names[i]: errs[i+1] for i in np.arange(len(est_names))})\n",
    "\n",
    "    fig.add_trace(go.Bar(\n",
    "    #     x=['VRF', 'BF_WR', 'BF_FR'], \n",
    "        x = df.columns,\n",
    "        y=(df).mean()/test_risk,\n",
    "        marker_color=px.colors.qualitative.Plotly,\n",
    "        text=np.around((df).mean()/test_risk,3),\n",
    "        textposition='outside',\n",
    "    #     error_y=dict(\n",
    "    #         type='data',\n",
    "    #         color='black',\n",
    "    #         array=(df).std() / test_risk,\n",
    "    # #         array=(df/test_risk).clip(upper=(df/test_risk).quantile(.95),axis=1).std(),\n",
    "    # #         symmetric=False,\n",
    "    # #         array=(df/test_risk).quantile(.95) - (df/test_risk).mean(),\n",
    "    # #         arrayminus=(df/test_risk).mean() - (df/test_risk).quantile(.93)\n",
    "    #     )\n",
    "    #         array=(df).mean() + (df).std(),\n",
    "    #         arrayminus=(df).mean() - (df).std())\n",
    "    ), row=1, col=i+1)\n",
    "    # fig.add_trace(go.Bar(\n",
    "    #     name='Experimental',\n",
    "    #     x=['GenCp', 'KFCV', 'SPCV'], y=(df).mean(),\n",
    "    #     error_y=dict(type='data', array=[1, 2])\n",
    "    # ))\n",
    "    # fig.update_layout(barmode='group')\n",
    "    fig.add_hline(y=1., line_color='red', row=1, col=i+1)\n",
    "    # fig.add_hline(y=elev_test_risk / test_risk, line_color='gray', line_dash='dash', row=1, col=i+1)\n",
    "    \n",
    "    fig.update_xaxes(title_text=\"Method\", row=1, col=i+1)\n",
    "    fig.update_yaxes(title_text=\"Relative MSE\", row=1, col=i+1)\n",
    "    \n",
    "# fig.update_layout(\n",
    "# #     title=f\"FC_\\u03B4{delta}_snr{snr}_nk{noise_kernel}_nls{noise_length_scale}_nv{noise_nu}_Xk{X_kernel}_Xls{X_length_scale}_Xv{X_nu}\",\n",
    "#     title=title,\n",
    "#     xaxis_title=\"Method\",\n",
    "#     yaxis_title=\"MSE\",\n",
    "# #     legend_title=\"Legend Title\",\n",
    "# #     font=dict(\n",
    "# #         family=\"Courier New, monospace\",\n",
    "# #         size=18,\n",
    "# #         color=\"RebeccaPurple\"\n",
    "# #     )\n",
    "# )\n",
    "# barfp = os.path.expanduser(savedir + fig.layout.title['text'] + \".jpeg\")\n",
    "# fig.write_image(os.path.expanduser(barfp))\n",
    "fig.update_layout(title=\"Bagged Models: Spatial Train/Test Split, Shared Structured Noise\", showlegend=False)\n",
    "fig.show()"
   ]
  },
  {
   "attachments": {},
   "cell_type": "markdown",
   "metadata": {},
   "source": [
    "# Random 80/20 Split"
   ]
  },
  {
   "cell_type": "code",
   "execution_count": 14,
   "metadata": {},
   "outputs": [],
   "source": [
    "tr_idx = np.concatenate((np.ones(int(.8*n)), np.zeros(n - int(.8*n)))).astype(bool)\n",
    "np.random.shuffle(tr_idx)"
   ]
  },
  {
   "attachments": {},
   "cell_type": "markdown",
   "metadata": {},
   "source": [
    "# Simulate $Y, Y^* \\overset{iid}{\\sim} \\mathcal{N}(\\mu, \\Sigma_Y)$"
   ]
  },
  {
   "cell_type": "code",
   "execution_count": 15,
   "metadata": {},
   "outputs": [
    {
     "name": "stderr",
     "output_type": "stream",
     "text": [
      "  0%|          | 0/100 [00:00<?, ?it/s]\n"
     ]
    },
    {
     "ename": "IndexError",
     "evalue": "arrays used as indices must be of integer (or boolean) type",
     "output_type": "error",
     "traceback": [
      "\u001b[0;31m---------------------------------------------------------------------------\u001b[0m",
      "\u001b[0;31mIndexError\u001b[0m                                Traceback (most recent call last)",
      "\u001b[1;32m/Users/kevinfry/Documents/GitHub/StructuredPredictionError/doc/simulation_notebooks/BaggingSimulations copy.ipynb Cell 20\u001b[0m in \u001b[0;36m<cell line: 3>\u001b[0;34m()\u001b[0m\n\u001b[1;32m      <a href='vscode-notebook-cell:/Users/kevinfry/Documents/GitHub/StructuredPredictionError/doc/simulation_notebooks/BaggingSimulations%20copy.ipynb#X43sZmlsZQ%3D%3D?line=0'>1</a>\u001b[0m model_errs \u001b[39m=\u001b[39m []\n\u001b[1;32m      <a href='vscode-notebook-cell:/Users/kevinfry/Documents/GitHub/StructuredPredictionError/doc/simulation_notebooks/BaggingSimulations%20copy.ipynb#X43sZmlsZQ%3D%3D?line=2'>3</a>\u001b[0m \u001b[39mfor\u001b[39;00m model \u001b[39min\u001b[39;00m models:\n\u001b[0;32m----> <a href='vscode-notebook-cell:/Users/kevinfry/Documents/GitHub/StructuredPredictionError/doc/simulation_notebooks/BaggingSimulations%20copy.ipynb#X43sZmlsZQ%3D%3D?line=3'>4</a>\u001b[0m     errs \u001b[39m=\u001b[39m err_cmp\u001b[39m.\u001b[39;49mcompare(model,\n\u001b[1;32m      <a href='vscode-notebook-cell:/Users/kevinfry/Documents/GitHub/StructuredPredictionError/doc/simulation_notebooks/BaggingSimulations%20copy.ipynb#X43sZmlsZQ%3D%3D?line=4'>5</a>\u001b[0m                          ests,\n\u001b[1;32m      <a href='vscode-notebook-cell:/Users/kevinfry/Documents/GitHub/StructuredPredictionError/doc/simulation_notebooks/BaggingSimulations%20copy.ipynb#X43sZmlsZQ%3D%3D?line=5'>6</a>\u001b[0m                          est_kwargs,\n\u001b[1;32m      <a href='vscode-notebook-cell:/Users/kevinfry/Documents/GitHub/StructuredPredictionError/doc/simulation_notebooks/BaggingSimulations%20copy.ipynb#X43sZmlsZQ%3D%3D?line=6'>7</a>\u001b[0m                          niter\u001b[39m=\u001b[39;49mniter,\n\u001b[1;32m      <a href='vscode-notebook-cell:/Users/kevinfry/Documents/GitHub/StructuredPredictionError/doc/simulation_notebooks/BaggingSimulations%20copy.ipynb#X43sZmlsZQ%3D%3D?line=7'>8</a>\u001b[0m                          n\u001b[39m=\u001b[39;49mn,\n\u001b[1;32m      <a href='vscode-notebook-cell:/Users/kevinfry/Documents/GitHub/StructuredPredictionError/doc/simulation_notebooks/BaggingSimulations%20copy.ipynb#X43sZmlsZQ%3D%3D?line=8'>9</a>\u001b[0m                          p\u001b[39m=\u001b[39;49mp,\n\u001b[1;32m     <a href='vscode-notebook-cell:/Users/kevinfry/Documents/GitHub/StructuredPredictionError/doc/simulation_notebooks/BaggingSimulations%20copy.ipynb#X43sZmlsZQ%3D%3D?line=9'>10</a>\u001b[0m                          s\u001b[39m=\u001b[39;49ms,\n\u001b[1;32m     <a href='vscode-notebook-cell:/Users/kevinfry/Documents/GitHub/StructuredPredictionError/doc/simulation_notebooks/BaggingSimulations%20copy.ipynb#X43sZmlsZQ%3D%3D?line=10'>11</a>\u001b[0m                          snr\u001b[39m=\u001b[39;49msnr, \n\u001b[1;32m     <a href='vscode-notebook-cell:/Users/kevinfry/Documents/GitHub/StructuredPredictionError/doc/simulation_notebooks/BaggingSimulations%20copy.ipynb#X43sZmlsZQ%3D%3D?line=11'>12</a>\u001b[0m                          X\u001b[39m=\u001b[39;49mX,\n\u001b[1;32m     <a href='vscode-notebook-cell:/Users/kevinfry/Documents/GitHub/StructuredPredictionError/doc/simulation_notebooks/BaggingSimulations%20copy.ipynb#X43sZmlsZQ%3D%3D?line=12'>13</a>\u001b[0m                         \u001b[39m#  beta=beta,\u001b[39;49;00m\n\u001b[1;32m     <a href='vscode-notebook-cell:/Users/kevinfry/Documents/GitHub/StructuredPredictionError/doc/simulation_notebooks/BaggingSimulations%20copy.ipynb#X43sZmlsZQ%3D%3D?line=13'>14</a>\u001b[0m     \u001b[39m#                        X_kernel=X_kernel,\u001b[39;49;00m\n\u001b[1;32m     <a href='vscode-notebook-cell:/Users/kevinfry/Documents/GitHub/StructuredPredictionError/doc/simulation_notebooks/BaggingSimulations%20copy.ipynb#X43sZmlsZQ%3D%3D?line=14'>15</a>\u001b[0m     \u001b[39m#                        X_ls = X_length_scale,\u001b[39;49;00m\n\u001b[1;32m     <a href='vscode-notebook-cell:/Users/kevinfry/Documents/GitHub/StructuredPredictionError/doc/simulation_notebooks/BaggingSimulations%20copy.ipynb#X43sZmlsZQ%3D%3D?line=15'>16</a>\u001b[0m     \u001b[39m#                        X_nu = X_nu,\u001b[39;49;00m\n\u001b[1;32m     <a href='vscode-notebook-cell:/Users/kevinfry/Documents/GitHub/StructuredPredictionError/doc/simulation_notebooks/BaggingSimulations%20copy.ipynb#X43sZmlsZQ%3D%3D?line=16'>17</a>\u001b[0m                          coord\u001b[39m=\u001b[39;49mcoord,\n\u001b[1;32m     <a href='vscode-notebook-cell:/Users/kevinfry/Documents/GitHub/StructuredPredictionError/doc/simulation_notebooks/BaggingSimulations%20copy.ipynb#X43sZmlsZQ%3D%3D?line=17'>18</a>\u001b[0m                          Chol_y\u001b[39m=\u001b[39;49mChol_t,\n\u001b[1;32m     <a href='vscode-notebook-cell:/Users/kevinfry/Documents/GitHub/StructuredPredictionError/doc/simulation_notebooks/BaggingSimulations%20copy.ipynb#X43sZmlsZQ%3D%3D?line=18'>19</a>\u001b[0m                          Chol_ystar\u001b[39m=\u001b[39;49mChol_t,\n\u001b[1;32m     <a href='vscode-notebook-cell:/Users/kevinfry/Documents/GitHub/StructuredPredictionError/doc/simulation_notebooks/BaggingSimulations%20copy.ipynb#X43sZmlsZQ%3D%3D?line=19'>20</a>\u001b[0m                          Cov_y_ystar\u001b[39m=\u001b[39;49m\u001b[39mNone\u001b[39;49;00m,\n\u001b[1;32m     <a href='vscode-notebook-cell:/Users/kevinfry/Documents/GitHub/StructuredPredictionError/doc/simulation_notebooks/BaggingSimulations%20copy.ipynb#X43sZmlsZQ%3D%3D?line=20'>21</a>\u001b[0m                          tr_idx\u001b[39m=\u001b[39;49mtr_idx,\n\u001b[1;32m     <a href='vscode-notebook-cell:/Users/kevinfry/Documents/GitHub/StructuredPredictionError/doc/simulation_notebooks/BaggingSimulations%20copy.ipynb#X43sZmlsZQ%3D%3D?line=21'>22</a>\u001b[0m                          fair\u001b[39m=\u001b[39;49m\u001b[39mFalse\u001b[39;49;00m,\n\u001b[1;32m     <a href='vscode-notebook-cell:/Users/kevinfry/Documents/GitHub/StructuredPredictionError/doc/simulation_notebooks/BaggingSimulations%20copy.ipynb#X43sZmlsZQ%3D%3D?line=22'>23</a>\u001b[0m                          friedman_mu\u001b[39m=\u001b[39;49m\u001b[39mTrue\u001b[39;49;00m,\n\u001b[1;32m     <a href='vscode-notebook-cell:/Users/kevinfry/Documents/GitHub/StructuredPredictionError/doc/simulation_notebooks/BaggingSimulations%20copy.ipynb#X43sZmlsZQ%3D%3D?line=23'>24</a>\u001b[0m                         \u001b[39m#    tr_frac=tr_frac,\u001b[39;49;00m\n\u001b[1;32m     <a href='vscode-notebook-cell:/Users/kevinfry/Documents/GitHub/StructuredPredictionError/doc/simulation_notebooks/BaggingSimulations%20copy.ipynb#X43sZmlsZQ%3D%3D?line=24'>25</a>\u001b[0m                         \u001b[39m# est_sigma=True,\u001b[39;49;00m\n\u001b[1;32m     <a href='vscode-notebook-cell:/Users/kevinfry/Documents/GitHub/StructuredPredictionError/doc/simulation_notebooks/BaggingSimulations%20copy.ipynb#X43sZmlsZQ%3D%3D?line=25'>26</a>\u001b[0m                         \u001b[39m# est_sigma_model=BaggingRegressor(\u001b[39;49;00m\n\u001b[1;32m     <a href='vscode-notebook-cell:/Users/kevinfry/Documents/GitHub/StructuredPredictionError/doc/simulation_notebooks/BaggingSimulations%20copy.ipynb#X43sZmlsZQ%3D%3D?line=26'>27</a>\u001b[0m                         \u001b[39m#     base_estimator=model, \u001b[39;49;00m\n\u001b[1;32m     <a href='vscode-notebook-cell:/Users/kevinfry/Documents/GitHub/StructuredPredictionError/doc/simulation_notebooks/BaggingSimulations%20copy.ipynb#X43sZmlsZQ%3D%3D?line=27'>28</a>\u001b[0m                         \u001b[39m#     n_estimators=100\u001b[39;49;00m\n\u001b[1;32m     <a href='vscode-notebook-cell:/Users/kevinfry/Documents/GitHub/StructuredPredictionError/doc/simulation_notebooks/BaggingSimulations%20copy.ipynb#X43sZmlsZQ%3D%3D?line=28'>29</a>\u001b[0m                         \u001b[39m# ),\u001b[39;49;00m\n\u001b[1;32m     <a href='vscode-notebook-cell:/Users/kevinfry/Documents/GitHub/StructuredPredictionError/doc/simulation_notebooks/BaggingSimulations%20copy.ipynb#X43sZmlsZQ%3D%3D?line=29'>30</a>\u001b[0m                         \u001b[39m# est_sigma_model=RandomForestRegressor(\u001b[39;49;00m\n\u001b[1;32m     <a href='vscode-notebook-cell:/Users/kevinfry/Documents/GitHub/StructuredPredictionError/doc/simulation_notebooks/BaggingSimulations%20copy.ipynb#X43sZmlsZQ%3D%3D?line=30'>31</a>\u001b[0m                         \u001b[39m#     max_depth=max_depth, \u001b[39;49;00m\n\u001b[1;32m     <a href='vscode-notebook-cell:/Users/kevinfry/Documents/GitHub/StructuredPredictionError/doc/simulation_notebooks/BaggingSimulations%20copy.ipynb#X43sZmlsZQ%3D%3D?line=31'>32</a>\u001b[0m                         \u001b[39m#     max_features='sqrt', \u001b[39;49;00m\n\u001b[1;32m     <a href='vscode-notebook-cell:/Users/kevinfry/Documents/GitHub/StructuredPredictionError/doc/simulation_notebooks/BaggingSimulations%20copy.ipynb#X43sZmlsZQ%3D%3D?line=32'>33</a>\u001b[0m                         \u001b[39m#     n_estimators=100\u001b[39;49;00m\n\u001b[1;32m     <a href='vscode-notebook-cell:/Users/kevinfry/Documents/GitHub/StructuredPredictionError/doc/simulation_notebooks/BaggingSimulations%20copy.ipynb#X43sZmlsZQ%3D%3D?line=33'>34</a>\u001b[0m                         \u001b[39m# ),\u001b[39;49;00m\n\u001b[1;32m     <a href='vscode-notebook-cell:/Users/kevinfry/Documents/GitHub/StructuredPredictionError/doc/simulation_notebooks/BaggingSimulations%20copy.ipynb#X43sZmlsZQ%3D%3D?line=34'>35</a>\u001b[0m                          )\n\u001b[1;32m     <a href='vscode-notebook-cell:/Users/kevinfry/Documents/GitHub/StructuredPredictionError/doc/simulation_notebooks/BaggingSimulations%20copy.ipynb#X43sZmlsZQ%3D%3D?line=35'>36</a>\u001b[0m     model_errs\u001b[39m.\u001b[39mappend(errs)\n",
      "File \u001b[0;32m~/Documents/GitHub/StructuredPredictionError/doc/mse_estimator.py:277\u001b[0m, in \u001b[0;36mErrorComparer.compare\u001b[0;34m(self, models, ests, est_kwargs, niter, n, p, s, snr, X, X_kernel, X_ls, X_nu, beta, coord, Chol_y, Chol_ystar, Cov_y_ystar, delta, tr_idx, fair, tr_frac, est_sigma, est_sigma_model, const_mu, friedman_mu, noise_sigma, risk, **kwargs)\u001b[0m\n\u001b[1;32m    272\u001b[0m y, y2 \u001b[39m=\u001b[39m \u001b[39mself\u001b[39m\u001b[39m.\u001b[39mgen_ys(\n\u001b[1;32m    273\u001b[0m     mu, Chol_t, Chol_s, sigma\u001b[39m=\u001b[39msigma, Cov_st\u001b[39m=\u001b[39mCov_st, delta\u001b[39m=\u001b[39mdelta\n\u001b[1;32m    274\u001b[0m )\n\u001b[1;32m    276\u001b[0m \u001b[39mif\u001b[39;00m \u001b[39mnot\u001b[39;00m fair:\n\u001b[0;32m--> 277\u001b[0m     X_tr, y_tr, coord_tr \u001b[39m=\u001b[39m \u001b[39mself\u001b[39;49m\u001b[39m.\u001b[39;49mget_train(X, y, coord, tr_idx)\n\u001b[1;32m    278\u001b[0m     cvChol_t \u001b[39m=\u001b[39m Chol_t[tr_idx, :][:, tr_idx]\n\u001b[1;32m    280\u001b[0m \u001b[39mif\u001b[39;00m est_sigma:\n",
      "File \u001b[0;32m~/Documents/GitHub/StructuredPredictionError/doc/mse_estimator.py:146\u001b[0m, in \u001b[0;36mErrorComparer.get_train\u001b[0;34m(self, X, y, coord, tr_idx)\u001b[0m\n\u001b[1;32m    145\u001b[0m \u001b[39mdef\u001b[39;00m \u001b[39mget_train\u001b[39m(\u001b[39mself\u001b[39m, X, y, coord, tr_idx):\n\u001b[0;32m--> 146\u001b[0m     \u001b[39mreturn\u001b[39;00m X[tr_idx, :], y[tr_idx], coord[tr_idx, :] \u001b[39mif\u001b[39;00m \u001b[39mlen\u001b[39m(coord\u001b[39m.\u001b[39mshape) \u001b[39m==\u001b[39m \u001b[39m2\u001b[39m \u001b[39melse\u001b[39;00m coord[tr_idx]\n",
      "\u001b[0;31mIndexError\u001b[0m: arrays used as indices must be of integer (or boolean) type"
     ]
    }
   ],
   "source": [
    "model_errs = []\n",
    "\n",
    "for model in models:\n",
    "    errs = err_cmp.compare(model,\n",
    "                         ests,\n",
    "                         est_kwargs,\n",
    "                         niter=niter,\n",
    "                         n=n,\n",
    "                         p=p,\n",
    "                         s=s,\n",
    "                         snr=snr, \n",
    "                         X=X,\n",
    "                        #  beta=beta,\n",
    "    #                        X_kernel=X_kernel,\n",
    "    #                        X_ls = X_length_scale,\n",
    "    #                        X_nu = X_nu,\n",
    "                         coord=coord,\n",
    "                         Chol_y=Chol_t,\n",
    "                         Chol_ystar=Chol_t,\n",
    "                         Cov_y_ystar=None,\n",
    "                         tr_idx=tr_idx,\n",
    "                         fair=False,\n",
    "                         friedman_mu=True,\n",
    "                        #    tr_frac=tr_frac,\n",
    "                        # est_sigma=True,\n",
    "                        # est_sigma_model=BaggingRegressor(\n",
    "                        #     base_estimator=model, \n",
    "                        #     n_estimators=100\n",
    "                        # ),\n",
    "                        # est_sigma_model=RandomForestRegressor(\n",
    "                        #     max_depth=max_depth, \n",
    "                        #     max_features='sqrt', \n",
    "                        #     n_estimators=100\n",
    "                        # ),\n",
    "                         )\n",
    "    model_errs.append(errs)"
   ]
  },
  {
   "cell_type": "code",
   "execution_count": null,
   "metadata": {},
   "outputs": [
    {
     "data": {
      "application/vnd.plotly.v1+json": {
       "config": {
        "plotlyServerURL": "https://plot.ly"
       },
       "data": [
        {
         "marker": {
          "color": [
           "#636EFA",
           "#EF553B",
           "#00CC96",
           "#AB63FA",
           "#FFA15A",
           "#19D3F3",
           "#FF6692",
           "#B6E880",
           "#FF97FF",
           "#FECB52"
          ]
         },
         "text": [
          0.984,
          0.998
         ],
         "textposition": "outside",
         "type": "bar",
         "x": [
          "GenCp",
          "TrTs"
         ],
         "xaxis": "x",
         "y": [
          0.9836716180109254,
          0.9982413144505364
         ],
         "yaxis": "y"
        },
        {
         "marker": {
          "color": [
           "#636EFA",
           "#EF553B",
           "#00CC96",
           "#AB63FA",
           "#FFA15A",
           "#19D3F3",
           "#FF6692",
           "#B6E880",
           "#FF97FF",
           "#FECB52"
          ]
         },
         "text": [
          0.994,
          1.256
         ],
         "textposition": "outside",
         "type": "bar",
         "x": [
          "GenCp",
          "TrTs"
         ],
         "xaxis": "x2",
         "y": [
          0.9938729431348428,
          1.2559261364849719
         ],
         "yaxis": "y2"
        }
       ],
       "layout": {
        "annotations": [
         {
          "font": {
           "size": 16
          },
          "showarrow": false,
          "text": "Relaxed Lasso",
          "x": 0.225,
          "xanchor": "center",
          "xref": "paper",
          "y": 1,
          "yanchor": "bottom",
          "yref": "paper"
         },
         {
          "font": {
           "size": 16
          },
          "showarrow": false,
          "text": "Random Forest",
          "x": 0.775,
          "xanchor": "center",
          "xref": "paper",
          "y": 1,
          "yanchor": "bottom",
          "yref": "paper"
         }
        ],
        "shapes": [
         {
          "line": {
           "color": "red"
          },
          "type": "line",
          "x0": 0,
          "x1": 1,
          "xref": "x domain",
          "y0": 1,
          "y1": 1,
          "yref": "y"
         },
         {
          "line": {
           "color": "red"
          },
          "type": "line",
          "x0": 0,
          "x1": 1,
          "xref": "x2 domain",
          "y0": 1,
          "y1": 1,
          "yref": "y2"
         }
        ],
        "showlegend": false,
        "template": {
         "data": {
          "bar": [
           {
            "error_x": {
             "color": "#2a3f5f"
            },
            "error_y": {
             "color": "#2a3f5f"
            },
            "marker": {
             "line": {
              "color": "#E5ECF6",
              "width": 0.5
             },
             "pattern": {
              "fillmode": "overlay",
              "size": 10,
              "solidity": 0.2
             }
            },
            "type": "bar"
           }
          ],
          "barpolar": [
           {
            "marker": {
             "line": {
              "color": "#E5ECF6",
              "width": 0.5
             },
             "pattern": {
              "fillmode": "overlay",
              "size": 10,
              "solidity": 0.2
             }
            },
            "type": "barpolar"
           }
          ],
          "carpet": [
           {
            "aaxis": {
             "endlinecolor": "#2a3f5f",
             "gridcolor": "white",
             "linecolor": "white",
             "minorgridcolor": "white",
             "startlinecolor": "#2a3f5f"
            },
            "baxis": {
             "endlinecolor": "#2a3f5f",
             "gridcolor": "white",
             "linecolor": "white",
             "minorgridcolor": "white",
             "startlinecolor": "#2a3f5f"
            },
            "type": "carpet"
           }
          ],
          "choropleth": [
           {
            "colorbar": {
             "outlinewidth": 0,
             "ticks": ""
            },
            "type": "choropleth"
           }
          ],
          "contour": [
           {
            "colorbar": {
             "outlinewidth": 0,
             "ticks": ""
            },
            "colorscale": [
             [
              0,
              "#0d0887"
             ],
             [
              0.1111111111111111,
              "#46039f"
             ],
             [
              0.2222222222222222,
              "#7201a8"
             ],
             [
              0.3333333333333333,
              "#9c179e"
             ],
             [
              0.4444444444444444,
              "#bd3786"
             ],
             [
              0.5555555555555556,
              "#d8576b"
             ],
             [
              0.6666666666666666,
              "#ed7953"
             ],
             [
              0.7777777777777778,
              "#fb9f3a"
             ],
             [
              0.8888888888888888,
              "#fdca26"
             ],
             [
              1,
              "#f0f921"
             ]
            ],
            "type": "contour"
           }
          ],
          "contourcarpet": [
           {
            "colorbar": {
             "outlinewidth": 0,
             "ticks": ""
            },
            "type": "contourcarpet"
           }
          ],
          "heatmap": [
           {
            "colorbar": {
             "outlinewidth": 0,
             "ticks": ""
            },
            "colorscale": [
             [
              0,
              "#0d0887"
             ],
             [
              0.1111111111111111,
              "#46039f"
             ],
             [
              0.2222222222222222,
              "#7201a8"
             ],
             [
              0.3333333333333333,
              "#9c179e"
             ],
             [
              0.4444444444444444,
              "#bd3786"
             ],
             [
              0.5555555555555556,
              "#d8576b"
             ],
             [
              0.6666666666666666,
              "#ed7953"
             ],
             [
              0.7777777777777778,
              "#fb9f3a"
             ],
             [
              0.8888888888888888,
              "#fdca26"
             ],
             [
              1,
              "#f0f921"
             ]
            ],
            "type": "heatmap"
           }
          ],
          "heatmapgl": [
           {
            "colorbar": {
             "outlinewidth": 0,
             "ticks": ""
            },
            "colorscale": [
             [
              0,
              "#0d0887"
             ],
             [
              0.1111111111111111,
              "#46039f"
             ],
             [
              0.2222222222222222,
              "#7201a8"
             ],
             [
              0.3333333333333333,
              "#9c179e"
             ],
             [
              0.4444444444444444,
              "#bd3786"
             ],
             [
              0.5555555555555556,
              "#d8576b"
             ],
             [
              0.6666666666666666,
              "#ed7953"
             ],
             [
              0.7777777777777778,
              "#fb9f3a"
             ],
             [
              0.8888888888888888,
              "#fdca26"
             ],
             [
              1,
              "#f0f921"
             ]
            ],
            "type": "heatmapgl"
           }
          ],
          "histogram": [
           {
            "marker": {
             "pattern": {
              "fillmode": "overlay",
              "size": 10,
              "solidity": 0.2
             }
            },
            "type": "histogram"
           }
          ],
          "histogram2d": [
           {
            "colorbar": {
             "outlinewidth": 0,
             "ticks": ""
            },
            "colorscale": [
             [
              0,
              "#0d0887"
             ],
             [
              0.1111111111111111,
              "#46039f"
             ],
             [
              0.2222222222222222,
              "#7201a8"
             ],
             [
              0.3333333333333333,
              "#9c179e"
             ],
             [
              0.4444444444444444,
              "#bd3786"
             ],
             [
              0.5555555555555556,
              "#d8576b"
             ],
             [
              0.6666666666666666,
              "#ed7953"
             ],
             [
              0.7777777777777778,
              "#fb9f3a"
             ],
             [
              0.8888888888888888,
              "#fdca26"
             ],
             [
              1,
              "#f0f921"
             ]
            ],
            "type": "histogram2d"
           }
          ],
          "histogram2dcontour": [
           {
            "colorbar": {
             "outlinewidth": 0,
             "ticks": ""
            },
            "colorscale": [
             [
              0,
              "#0d0887"
             ],
             [
              0.1111111111111111,
              "#46039f"
             ],
             [
              0.2222222222222222,
              "#7201a8"
             ],
             [
              0.3333333333333333,
              "#9c179e"
             ],
             [
              0.4444444444444444,
              "#bd3786"
             ],
             [
              0.5555555555555556,
              "#d8576b"
             ],
             [
              0.6666666666666666,
              "#ed7953"
             ],
             [
              0.7777777777777778,
              "#fb9f3a"
             ],
             [
              0.8888888888888888,
              "#fdca26"
             ],
             [
              1,
              "#f0f921"
             ]
            ],
            "type": "histogram2dcontour"
           }
          ],
          "mesh3d": [
           {
            "colorbar": {
             "outlinewidth": 0,
             "ticks": ""
            },
            "type": "mesh3d"
           }
          ],
          "parcoords": [
           {
            "line": {
             "colorbar": {
              "outlinewidth": 0,
              "ticks": ""
             }
            },
            "type": "parcoords"
           }
          ],
          "pie": [
           {
            "automargin": true,
            "type": "pie"
           }
          ],
          "scatter": [
           {
            "fillpattern": {
             "fillmode": "overlay",
             "size": 10,
             "solidity": 0.2
            },
            "type": "scatter"
           }
          ],
          "scatter3d": [
           {
            "line": {
             "colorbar": {
              "outlinewidth": 0,
              "ticks": ""
             }
            },
            "marker": {
             "colorbar": {
              "outlinewidth": 0,
              "ticks": ""
             }
            },
            "type": "scatter3d"
           }
          ],
          "scattercarpet": [
           {
            "marker": {
             "colorbar": {
              "outlinewidth": 0,
              "ticks": ""
             }
            },
            "type": "scattercarpet"
           }
          ],
          "scattergeo": [
           {
            "marker": {
             "colorbar": {
              "outlinewidth": 0,
              "ticks": ""
             }
            },
            "type": "scattergeo"
           }
          ],
          "scattergl": [
           {
            "marker": {
             "colorbar": {
              "outlinewidth": 0,
              "ticks": ""
             }
            },
            "type": "scattergl"
           }
          ],
          "scattermapbox": [
           {
            "marker": {
             "colorbar": {
              "outlinewidth": 0,
              "ticks": ""
             }
            },
            "type": "scattermapbox"
           }
          ],
          "scatterpolar": [
           {
            "marker": {
             "colorbar": {
              "outlinewidth": 0,
              "ticks": ""
             }
            },
            "type": "scatterpolar"
           }
          ],
          "scatterpolargl": [
           {
            "marker": {
             "colorbar": {
              "outlinewidth": 0,
              "ticks": ""
             }
            },
            "type": "scatterpolargl"
           }
          ],
          "scatterternary": [
           {
            "marker": {
             "colorbar": {
              "outlinewidth": 0,
              "ticks": ""
             }
            },
            "type": "scatterternary"
           }
          ],
          "surface": [
           {
            "colorbar": {
             "outlinewidth": 0,
             "ticks": ""
            },
            "colorscale": [
             [
              0,
              "#0d0887"
             ],
             [
              0.1111111111111111,
              "#46039f"
             ],
             [
              0.2222222222222222,
              "#7201a8"
             ],
             [
              0.3333333333333333,
              "#9c179e"
             ],
             [
              0.4444444444444444,
              "#bd3786"
             ],
             [
              0.5555555555555556,
              "#d8576b"
             ],
             [
              0.6666666666666666,
              "#ed7953"
             ],
             [
              0.7777777777777778,
              "#fb9f3a"
             ],
             [
              0.8888888888888888,
              "#fdca26"
             ],
             [
              1,
              "#f0f921"
             ]
            ],
            "type": "surface"
           }
          ],
          "table": [
           {
            "cells": {
             "fill": {
              "color": "#EBF0F8"
             },
             "line": {
              "color": "white"
             }
            },
            "header": {
             "fill": {
              "color": "#C8D4E3"
             },
             "line": {
              "color": "white"
             }
            },
            "type": "table"
           }
          ]
         },
         "layout": {
          "annotationdefaults": {
           "arrowcolor": "#2a3f5f",
           "arrowhead": 0,
           "arrowwidth": 1
          },
          "autotypenumbers": "strict",
          "coloraxis": {
           "colorbar": {
            "outlinewidth": 0,
            "ticks": ""
           }
          },
          "colorscale": {
           "diverging": [
            [
             0,
             "#8e0152"
            ],
            [
             0.1,
             "#c51b7d"
            ],
            [
             0.2,
             "#de77ae"
            ],
            [
             0.3,
             "#f1b6da"
            ],
            [
             0.4,
             "#fde0ef"
            ],
            [
             0.5,
             "#f7f7f7"
            ],
            [
             0.6,
             "#e6f5d0"
            ],
            [
             0.7,
             "#b8e186"
            ],
            [
             0.8,
             "#7fbc41"
            ],
            [
             0.9,
             "#4d9221"
            ],
            [
             1,
             "#276419"
            ]
           ],
           "sequential": [
            [
             0,
             "#0d0887"
            ],
            [
             0.1111111111111111,
             "#46039f"
            ],
            [
             0.2222222222222222,
             "#7201a8"
            ],
            [
             0.3333333333333333,
             "#9c179e"
            ],
            [
             0.4444444444444444,
             "#bd3786"
            ],
            [
             0.5555555555555556,
             "#d8576b"
            ],
            [
             0.6666666666666666,
             "#ed7953"
            ],
            [
             0.7777777777777778,
             "#fb9f3a"
            ],
            [
             0.8888888888888888,
             "#fdca26"
            ],
            [
             1,
             "#f0f921"
            ]
           ],
           "sequentialminus": [
            [
             0,
             "#0d0887"
            ],
            [
             0.1111111111111111,
             "#46039f"
            ],
            [
             0.2222222222222222,
             "#7201a8"
            ],
            [
             0.3333333333333333,
             "#9c179e"
            ],
            [
             0.4444444444444444,
             "#bd3786"
            ],
            [
             0.5555555555555556,
             "#d8576b"
            ],
            [
             0.6666666666666666,
             "#ed7953"
            ],
            [
             0.7777777777777778,
             "#fb9f3a"
            ],
            [
             0.8888888888888888,
             "#fdca26"
            ],
            [
             1,
             "#f0f921"
            ]
           ]
          },
          "colorway": [
           "#636efa",
           "#EF553B",
           "#00cc96",
           "#ab63fa",
           "#FFA15A",
           "#19d3f3",
           "#FF6692",
           "#B6E880",
           "#FF97FF",
           "#FECB52"
          ],
          "font": {
           "color": "#2a3f5f"
          },
          "geo": {
           "bgcolor": "white",
           "lakecolor": "white",
           "landcolor": "#E5ECF6",
           "showlakes": true,
           "showland": true,
           "subunitcolor": "white"
          },
          "hoverlabel": {
           "align": "left"
          },
          "hovermode": "closest",
          "mapbox": {
           "style": "light"
          },
          "paper_bgcolor": "white",
          "plot_bgcolor": "#E5ECF6",
          "polar": {
           "angularaxis": {
            "gridcolor": "white",
            "linecolor": "white",
            "ticks": ""
           },
           "bgcolor": "#E5ECF6",
           "radialaxis": {
            "gridcolor": "white",
            "linecolor": "white",
            "ticks": ""
           }
          },
          "scene": {
           "xaxis": {
            "backgroundcolor": "#E5ECF6",
            "gridcolor": "white",
            "gridwidth": 2,
            "linecolor": "white",
            "showbackground": true,
            "ticks": "",
            "zerolinecolor": "white"
           },
           "yaxis": {
            "backgroundcolor": "#E5ECF6",
            "gridcolor": "white",
            "gridwidth": 2,
            "linecolor": "white",
            "showbackground": true,
            "ticks": "",
            "zerolinecolor": "white"
           },
           "zaxis": {
            "backgroundcolor": "#E5ECF6",
            "gridcolor": "white",
            "gridwidth": 2,
            "linecolor": "white",
            "showbackground": true,
            "ticks": "",
            "zerolinecolor": "white"
           }
          },
          "shapedefaults": {
           "line": {
            "color": "#2a3f5f"
           }
          },
          "ternary": {
           "aaxis": {
            "gridcolor": "white",
            "linecolor": "white",
            "ticks": ""
           },
           "baxis": {
            "gridcolor": "white",
            "linecolor": "white",
            "ticks": ""
           },
           "bgcolor": "#E5ECF6",
           "caxis": {
            "gridcolor": "white",
            "linecolor": "white",
            "ticks": ""
           }
          },
          "title": {
           "x": 0.05
          },
          "xaxis": {
           "automargin": true,
           "gridcolor": "white",
           "linecolor": "white",
           "ticks": "",
           "title": {
            "standoff": 15
           },
           "zerolinecolor": "white",
           "zerolinewidth": 2
          },
          "yaxis": {
           "automargin": true,
           "gridcolor": "white",
           "linecolor": "white",
           "ticks": "",
           "title": {
            "standoff": 15
           },
           "zerolinecolor": "white",
           "zerolinewidth": 2
          }
         }
        },
        "title": {
         "text": "Bagged Models: Train/Test Split, No Shared Noise"
        },
        "xaxis": {
         "anchor": "y",
         "domain": [
          0,
          0.45
         ],
         "title": {
          "text": "Method"
         }
        },
        "xaxis2": {
         "anchor": "y2",
         "domain": [
          0.55,
          1
         ],
         "title": {
          "text": "Method"
         }
        },
        "yaxis": {
         "anchor": "x",
         "domain": [
          0,
          1
         ],
         "title": {
          "text": "Relative MSE"
         }
        },
        "yaxis2": {
         "anchor": "x2",
         "domain": [
          0,
          1
         ],
         "title": {
          "text": "Relative MSE"
         }
        }
       }
      }
     },
     "metadata": {},
     "output_type": "display_data"
    }
   ],
   "source": [
    "fig = make_subplots(\n",
    "    rows=1, cols=len(models),\n",
    "    subplot_titles=model_names)\n",
    "#     subplot_titles=(\"Relaxed Lasso\", \"Depth 2 Decision Tree\"))\n",
    "\n",
    "for i, errs in enumerate(model_errs):\n",
    "    risks = [err.mean() for err in errs]\n",
    "    test_risk = risks[0]\n",
    "    # elev_test_risk = risks[1]\n",
    "    # est_risks = risks[2:]\n",
    "    est_risks = risks[1:]\n",
    "\n",
    "    df = pd.DataFrame({est_names[i]: errs[i+1] for i in np.arange(len(est_names))})\n",
    "\n",
    "    fig.add_trace(go.Bar(\n",
    "    #     x=['VRF', 'BF_WR', 'BF_FR'], \n",
    "        x = df.columns,\n",
    "        y=(df).mean()/test_risk,\n",
    "        marker_color=px.colors.qualitative.Plotly,\n",
    "        text=np.around((df).mean()/test_risk,3),\n",
    "        textposition='outside',\n",
    "    #     error_y=dict(\n",
    "    #         type='data',\n",
    "    #         color='black',\n",
    "    #         array=(df).std() / test_risk,\n",
    "    # #         array=(df/test_risk).clip(upper=(df/test_risk).quantile(.95),axis=1).std(),\n",
    "    # #         symmetric=False,\n",
    "    # #         array=(df/test_risk).quantile(.95) - (df/test_risk).mean(),\n",
    "    # #         arrayminus=(df/test_risk).mean() - (df/test_risk).quantile(.93)\n",
    "    #     )\n",
    "    #         array=(df).mean() + (df).std(),\n",
    "    #         arrayminus=(df).mean() - (df).std())\n",
    "    ), row=1, col=i+1)\n",
    "    # fig.add_trace(go.Bar(\n",
    "    #     name='Experimental',\n",
    "    #     x=['GenCp', 'KFCV', 'SPCV'], y=(df).mean(),\n",
    "    #     error_y=dict(type='data', array=[1, 2])\n",
    "    # ))\n",
    "    # fig.update_layout(barmode='group')\n",
    "    fig.add_hline(y=1., line_color='red', row=1, col=i+1)\n",
    "    # fig.add_hline(y=elev_test_risk / test_risk, line_color='gray', line_dash='dash', row=1, col=i+1)\n",
    "    \n",
    "    fig.update_xaxes(title_text=\"Method\", row=1, col=i+1)\n",
    "    fig.update_yaxes(title_text=\"Relative MSE\", row=1, col=i+1)\n",
    "    \n",
    "# fig.update_layout(\n",
    "# #     title=f\"FC_\\u03B4{delta}_snr{snr}_nk{noise_kernel}_nls{noise_length_scale}_nv{noise_nu}_Xk{X_kernel}_Xls{X_length_scale}_Xv{X_nu}\",\n",
    "#     title=title,\n",
    "#     xaxis_title=\"Method\",\n",
    "#     yaxis_title=\"MSE\",\n",
    "# #     legend_title=\"Legend Title\",\n",
    "# #     font=dict(\n",
    "# #         family=\"Courier New, monospace\",\n",
    "# #         size=18,\n",
    "# #         color=\"RebeccaPurple\"\n",
    "# #     )\n",
    "# )\n",
    "# barfp = os.path.expanduser(savedir + fig.layout.title['text'] + \".jpeg\")\n",
    "# fig.write_image(os.path.expanduser(barfp))\n",
    "fig.update_layout(title=\"Bagged Models: Train/Test Split, No Shared Noise\", showlegend=False)\n",
    "fig.show()"
   ]
  },
  {
   "attachments": {},
   "cell_type": "markdown",
   "metadata": {},
   "source": [
    "# Simulate $\\begin{pmatrix} Y \\\\ Y^* \\end{pmatrix} \\sim \\mathcal{N}\\left(\\begin{pmatrix} \\mu \\\\ \\mu \\end{pmatrix}, \\begin{pmatrix}\\Sigma_Y & \\Sigma_{Y, Y^*} \\\\ \\Sigma_{Y^*, Y} & \\Sigma_{Y}  \\end{pmatrix}\\right)$"
   ]
  },
  {
   "cell_type": "code",
   "execution_count": null,
   "metadata": {},
   "outputs": [
    {
     "name": "stderr",
     "output_type": "stream",
     "text": [
      "100%|██████████| 100/100 [00:33<00:00,  3.00it/s]\n",
      "100%|██████████| 100/100 [00:14<00:00,  7.11it/s]\n"
     ]
    }
   ],
   "source": [
    "model_errs = []\n",
    "\n",
    "for model in models:\n",
    "    errs = err_cmp.compare(model,\n",
    "                         ests,\n",
    "                         est_kwargs,\n",
    "                         niter=niter,\n",
    "                         n=n,\n",
    "                         p=p,\n",
    "                         s=s,\n",
    "                         snr=snr, \n",
    "                         X=X,\n",
    "                        #  beta=beta,\n",
    "    #                        X_kernel=X_kernel,\n",
    "    #                        X_ls = X_length_scale,\n",
    "    #                        X_nu = X_nu,\n",
    "                         coord=coord,\n",
    "                         Chol_y=Chol_t,\n",
    "                         Chol_ystar=Chol_t,\n",
    "                         Cov_y_ystar=Cov_st,\n",
    "                         tr_idx=tr_idx,\n",
    "                         fair=False,\n",
    "                         friedman_mu=True,\n",
    "                        #    tr_frac=tr_frac,\n",
    "                        # est_sigma=True,\n",
    "                        # est_sigma_model=BaggingRegressor(\n",
    "                        #     base_estimator=model, \n",
    "                        #     n_estimators=100\n",
    "                        # ),\n",
    "                        # est_sigma_model=RandomForestRegressor(\n",
    "                        #     max_depth=max_depth, \n",
    "                        #     max_features='sqrt', \n",
    "                        #     n_estimators=100\n",
    "                        # ),\n",
    "                         )\n",
    "    model_errs.append(errs)"
   ]
  },
  {
   "cell_type": "code",
   "execution_count": null,
   "metadata": {},
   "outputs": [
    {
     "data": {
      "application/vnd.plotly.v1+json": {
       "config": {
        "plotlyServerURL": "https://plot.ly"
       },
       "data": [
        {
         "marker": {
          "color": [
           "#636EFA",
           "#EF553B",
           "#00CC96",
           "#AB63FA",
           "#FFA15A",
           "#19D3F3",
           "#FF6692",
           "#B6E880",
           "#FF97FF",
           "#FECB52"
          ]
         },
         "text": [
          0.995,
          1.008
         ],
         "textposition": "outside",
         "type": "bar",
         "x": [
          "GenCp",
          "TrTs"
         ],
         "xaxis": "x",
         "y": [
          0.995432086592662,
          1.0078400969869343
         ],
         "yaxis": "y"
        },
        {
         "marker": {
          "color": [
           "#636EFA",
           "#EF553B",
           "#00CC96",
           "#AB63FA",
           "#FFA15A",
           "#19D3F3",
           "#FF6692",
           "#B6E880",
           "#FF97FF",
           "#FECB52"
          ]
         },
         "text": [
          1.013,
          1.329
         ],
         "textposition": "outside",
         "type": "bar",
         "x": [
          "GenCp",
          "TrTs"
         ],
         "xaxis": "x2",
         "y": [
          1.012824926388658,
          1.3289674526667825
         ],
         "yaxis": "y2"
        }
       ],
       "layout": {
        "annotations": [
         {
          "font": {
           "size": 16
          },
          "showarrow": false,
          "text": "Relaxed Lasso",
          "x": 0.225,
          "xanchor": "center",
          "xref": "paper",
          "y": 1,
          "yanchor": "bottom",
          "yref": "paper"
         },
         {
          "font": {
           "size": 16
          },
          "showarrow": false,
          "text": "Random Forest",
          "x": 0.775,
          "xanchor": "center",
          "xref": "paper",
          "y": 1,
          "yanchor": "bottom",
          "yref": "paper"
         }
        ],
        "shapes": [
         {
          "line": {
           "color": "red"
          },
          "type": "line",
          "x0": 0,
          "x1": 1,
          "xref": "x domain",
          "y0": 1,
          "y1": 1,
          "yref": "y"
         },
         {
          "line": {
           "color": "red"
          },
          "type": "line",
          "x0": 0,
          "x1": 1,
          "xref": "x2 domain",
          "y0": 1,
          "y1": 1,
          "yref": "y2"
         }
        ],
        "showlegend": false,
        "template": {
         "data": {
          "bar": [
           {
            "error_x": {
             "color": "#2a3f5f"
            },
            "error_y": {
             "color": "#2a3f5f"
            },
            "marker": {
             "line": {
              "color": "#E5ECF6",
              "width": 0.5
             },
             "pattern": {
              "fillmode": "overlay",
              "size": 10,
              "solidity": 0.2
             }
            },
            "type": "bar"
           }
          ],
          "barpolar": [
           {
            "marker": {
             "line": {
              "color": "#E5ECF6",
              "width": 0.5
             },
             "pattern": {
              "fillmode": "overlay",
              "size": 10,
              "solidity": 0.2
             }
            },
            "type": "barpolar"
           }
          ],
          "carpet": [
           {
            "aaxis": {
             "endlinecolor": "#2a3f5f",
             "gridcolor": "white",
             "linecolor": "white",
             "minorgridcolor": "white",
             "startlinecolor": "#2a3f5f"
            },
            "baxis": {
             "endlinecolor": "#2a3f5f",
             "gridcolor": "white",
             "linecolor": "white",
             "minorgridcolor": "white",
             "startlinecolor": "#2a3f5f"
            },
            "type": "carpet"
           }
          ],
          "choropleth": [
           {
            "colorbar": {
             "outlinewidth": 0,
             "ticks": ""
            },
            "type": "choropleth"
           }
          ],
          "contour": [
           {
            "colorbar": {
             "outlinewidth": 0,
             "ticks": ""
            },
            "colorscale": [
             [
              0,
              "#0d0887"
             ],
             [
              0.1111111111111111,
              "#46039f"
             ],
             [
              0.2222222222222222,
              "#7201a8"
             ],
             [
              0.3333333333333333,
              "#9c179e"
             ],
             [
              0.4444444444444444,
              "#bd3786"
             ],
             [
              0.5555555555555556,
              "#d8576b"
             ],
             [
              0.6666666666666666,
              "#ed7953"
             ],
             [
              0.7777777777777778,
              "#fb9f3a"
             ],
             [
              0.8888888888888888,
              "#fdca26"
             ],
             [
              1,
              "#f0f921"
             ]
            ],
            "type": "contour"
           }
          ],
          "contourcarpet": [
           {
            "colorbar": {
             "outlinewidth": 0,
             "ticks": ""
            },
            "type": "contourcarpet"
           }
          ],
          "heatmap": [
           {
            "colorbar": {
             "outlinewidth": 0,
             "ticks": ""
            },
            "colorscale": [
             [
              0,
              "#0d0887"
             ],
             [
              0.1111111111111111,
              "#46039f"
             ],
             [
              0.2222222222222222,
              "#7201a8"
             ],
             [
              0.3333333333333333,
              "#9c179e"
             ],
             [
              0.4444444444444444,
              "#bd3786"
             ],
             [
              0.5555555555555556,
              "#d8576b"
             ],
             [
              0.6666666666666666,
              "#ed7953"
             ],
             [
              0.7777777777777778,
              "#fb9f3a"
             ],
             [
              0.8888888888888888,
              "#fdca26"
             ],
             [
              1,
              "#f0f921"
             ]
            ],
            "type": "heatmap"
           }
          ],
          "heatmapgl": [
           {
            "colorbar": {
             "outlinewidth": 0,
             "ticks": ""
            },
            "colorscale": [
             [
              0,
              "#0d0887"
             ],
             [
              0.1111111111111111,
              "#46039f"
             ],
             [
              0.2222222222222222,
              "#7201a8"
             ],
             [
              0.3333333333333333,
              "#9c179e"
             ],
             [
              0.4444444444444444,
              "#bd3786"
             ],
             [
              0.5555555555555556,
              "#d8576b"
             ],
             [
              0.6666666666666666,
              "#ed7953"
             ],
             [
              0.7777777777777778,
              "#fb9f3a"
             ],
             [
              0.8888888888888888,
              "#fdca26"
             ],
             [
              1,
              "#f0f921"
             ]
            ],
            "type": "heatmapgl"
           }
          ],
          "histogram": [
           {
            "marker": {
             "pattern": {
              "fillmode": "overlay",
              "size": 10,
              "solidity": 0.2
             }
            },
            "type": "histogram"
           }
          ],
          "histogram2d": [
           {
            "colorbar": {
             "outlinewidth": 0,
             "ticks": ""
            },
            "colorscale": [
             [
              0,
              "#0d0887"
             ],
             [
              0.1111111111111111,
              "#46039f"
             ],
             [
              0.2222222222222222,
              "#7201a8"
             ],
             [
              0.3333333333333333,
              "#9c179e"
             ],
             [
              0.4444444444444444,
              "#bd3786"
             ],
             [
              0.5555555555555556,
              "#d8576b"
             ],
             [
              0.6666666666666666,
              "#ed7953"
             ],
             [
              0.7777777777777778,
              "#fb9f3a"
             ],
             [
              0.8888888888888888,
              "#fdca26"
             ],
             [
              1,
              "#f0f921"
             ]
            ],
            "type": "histogram2d"
           }
          ],
          "histogram2dcontour": [
           {
            "colorbar": {
             "outlinewidth": 0,
             "ticks": ""
            },
            "colorscale": [
             [
              0,
              "#0d0887"
             ],
             [
              0.1111111111111111,
              "#46039f"
             ],
             [
              0.2222222222222222,
              "#7201a8"
             ],
             [
              0.3333333333333333,
              "#9c179e"
             ],
             [
              0.4444444444444444,
              "#bd3786"
             ],
             [
              0.5555555555555556,
              "#d8576b"
             ],
             [
              0.6666666666666666,
              "#ed7953"
             ],
             [
              0.7777777777777778,
              "#fb9f3a"
             ],
             [
              0.8888888888888888,
              "#fdca26"
             ],
             [
              1,
              "#f0f921"
             ]
            ],
            "type": "histogram2dcontour"
           }
          ],
          "mesh3d": [
           {
            "colorbar": {
             "outlinewidth": 0,
             "ticks": ""
            },
            "type": "mesh3d"
           }
          ],
          "parcoords": [
           {
            "line": {
             "colorbar": {
              "outlinewidth": 0,
              "ticks": ""
             }
            },
            "type": "parcoords"
           }
          ],
          "pie": [
           {
            "automargin": true,
            "type": "pie"
           }
          ],
          "scatter": [
           {
            "fillpattern": {
             "fillmode": "overlay",
             "size": 10,
             "solidity": 0.2
            },
            "type": "scatter"
           }
          ],
          "scatter3d": [
           {
            "line": {
             "colorbar": {
              "outlinewidth": 0,
              "ticks": ""
             }
            },
            "marker": {
             "colorbar": {
              "outlinewidth": 0,
              "ticks": ""
             }
            },
            "type": "scatter3d"
           }
          ],
          "scattercarpet": [
           {
            "marker": {
             "colorbar": {
              "outlinewidth": 0,
              "ticks": ""
             }
            },
            "type": "scattercarpet"
           }
          ],
          "scattergeo": [
           {
            "marker": {
             "colorbar": {
              "outlinewidth": 0,
              "ticks": ""
             }
            },
            "type": "scattergeo"
           }
          ],
          "scattergl": [
           {
            "marker": {
             "colorbar": {
              "outlinewidth": 0,
              "ticks": ""
             }
            },
            "type": "scattergl"
           }
          ],
          "scattermapbox": [
           {
            "marker": {
             "colorbar": {
              "outlinewidth": 0,
              "ticks": ""
             }
            },
            "type": "scattermapbox"
           }
          ],
          "scatterpolar": [
           {
            "marker": {
             "colorbar": {
              "outlinewidth": 0,
              "ticks": ""
             }
            },
            "type": "scatterpolar"
           }
          ],
          "scatterpolargl": [
           {
            "marker": {
             "colorbar": {
              "outlinewidth": 0,
              "ticks": ""
             }
            },
            "type": "scatterpolargl"
           }
          ],
          "scatterternary": [
           {
            "marker": {
             "colorbar": {
              "outlinewidth": 0,
              "ticks": ""
             }
            },
            "type": "scatterternary"
           }
          ],
          "surface": [
           {
            "colorbar": {
             "outlinewidth": 0,
             "ticks": ""
            },
            "colorscale": [
             [
              0,
              "#0d0887"
             ],
             [
              0.1111111111111111,
              "#46039f"
             ],
             [
              0.2222222222222222,
              "#7201a8"
             ],
             [
              0.3333333333333333,
              "#9c179e"
             ],
             [
              0.4444444444444444,
              "#bd3786"
             ],
             [
              0.5555555555555556,
              "#d8576b"
             ],
             [
              0.6666666666666666,
              "#ed7953"
             ],
             [
              0.7777777777777778,
              "#fb9f3a"
             ],
             [
              0.8888888888888888,
              "#fdca26"
             ],
             [
              1,
              "#f0f921"
             ]
            ],
            "type": "surface"
           }
          ],
          "table": [
           {
            "cells": {
             "fill": {
              "color": "#EBF0F8"
             },
             "line": {
              "color": "white"
             }
            },
            "header": {
             "fill": {
              "color": "#C8D4E3"
             },
             "line": {
              "color": "white"
             }
            },
            "type": "table"
           }
          ]
         },
         "layout": {
          "annotationdefaults": {
           "arrowcolor": "#2a3f5f",
           "arrowhead": 0,
           "arrowwidth": 1
          },
          "autotypenumbers": "strict",
          "coloraxis": {
           "colorbar": {
            "outlinewidth": 0,
            "ticks": ""
           }
          },
          "colorscale": {
           "diverging": [
            [
             0,
             "#8e0152"
            ],
            [
             0.1,
             "#c51b7d"
            ],
            [
             0.2,
             "#de77ae"
            ],
            [
             0.3,
             "#f1b6da"
            ],
            [
             0.4,
             "#fde0ef"
            ],
            [
             0.5,
             "#f7f7f7"
            ],
            [
             0.6,
             "#e6f5d0"
            ],
            [
             0.7,
             "#b8e186"
            ],
            [
             0.8,
             "#7fbc41"
            ],
            [
             0.9,
             "#4d9221"
            ],
            [
             1,
             "#276419"
            ]
           ],
           "sequential": [
            [
             0,
             "#0d0887"
            ],
            [
             0.1111111111111111,
             "#46039f"
            ],
            [
             0.2222222222222222,
             "#7201a8"
            ],
            [
             0.3333333333333333,
             "#9c179e"
            ],
            [
             0.4444444444444444,
             "#bd3786"
            ],
            [
             0.5555555555555556,
             "#d8576b"
            ],
            [
             0.6666666666666666,
             "#ed7953"
            ],
            [
             0.7777777777777778,
             "#fb9f3a"
            ],
            [
             0.8888888888888888,
             "#fdca26"
            ],
            [
             1,
             "#f0f921"
            ]
           ],
           "sequentialminus": [
            [
             0,
             "#0d0887"
            ],
            [
             0.1111111111111111,
             "#46039f"
            ],
            [
             0.2222222222222222,
             "#7201a8"
            ],
            [
             0.3333333333333333,
             "#9c179e"
            ],
            [
             0.4444444444444444,
             "#bd3786"
            ],
            [
             0.5555555555555556,
             "#d8576b"
            ],
            [
             0.6666666666666666,
             "#ed7953"
            ],
            [
             0.7777777777777778,
             "#fb9f3a"
            ],
            [
             0.8888888888888888,
             "#fdca26"
            ],
            [
             1,
             "#f0f921"
            ]
           ]
          },
          "colorway": [
           "#636efa",
           "#EF553B",
           "#00cc96",
           "#ab63fa",
           "#FFA15A",
           "#19d3f3",
           "#FF6692",
           "#B6E880",
           "#FF97FF",
           "#FECB52"
          ],
          "font": {
           "color": "#2a3f5f"
          },
          "geo": {
           "bgcolor": "white",
           "lakecolor": "white",
           "landcolor": "#E5ECF6",
           "showlakes": true,
           "showland": true,
           "subunitcolor": "white"
          },
          "hoverlabel": {
           "align": "left"
          },
          "hovermode": "closest",
          "mapbox": {
           "style": "light"
          },
          "paper_bgcolor": "white",
          "plot_bgcolor": "#E5ECF6",
          "polar": {
           "angularaxis": {
            "gridcolor": "white",
            "linecolor": "white",
            "ticks": ""
           },
           "bgcolor": "#E5ECF6",
           "radialaxis": {
            "gridcolor": "white",
            "linecolor": "white",
            "ticks": ""
           }
          },
          "scene": {
           "xaxis": {
            "backgroundcolor": "#E5ECF6",
            "gridcolor": "white",
            "gridwidth": 2,
            "linecolor": "white",
            "showbackground": true,
            "ticks": "",
            "zerolinecolor": "white"
           },
           "yaxis": {
            "backgroundcolor": "#E5ECF6",
            "gridcolor": "white",
            "gridwidth": 2,
            "linecolor": "white",
            "showbackground": true,
            "ticks": "",
            "zerolinecolor": "white"
           },
           "zaxis": {
            "backgroundcolor": "#E5ECF6",
            "gridcolor": "white",
            "gridwidth": 2,
            "linecolor": "white",
            "showbackground": true,
            "ticks": "",
            "zerolinecolor": "white"
           }
          },
          "shapedefaults": {
           "line": {
            "color": "#2a3f5f"
           }
          },
          "ternary": {
           "aaxis": {
            "gridcolor": "white",
            "linecolor": "white",
            "ticks": ""
           },
           "baxis": {
            "gridcolor": "white",
            "linecolor": "white",
            "ticks": ""
           },
           "bgcolor": "#E5ECF6",
           "caxis": {
            "gridcolor": "white",
            "linecolor": "white",
            "ticks": ""
           }
          },
          "title": {
           "x": 0.05
          },
          "xaxis": {
           "automargin": true,
           "gridcolor": "white",
           "linecolor": "white",
           "ticks": "",
           "title": {
            "standoff": 15
           },
           "zerolinecolor": "white",
           "zerolinewidth": 2
          },
          "yaxis": {
           "automargin": true,
           "gridcolor": "white",
           "linecolor": "white",
           "ticks": "",
           "title": {
            "standoff": 15
           },
           "zerolinecolor": "white",
           "zerolinewidth": 2
          }
         }
        },
        "title": {
         "text": "Bagged Models: Train/Test Split, Shared Structured Noise"
        },
        "xaxis": {
         "anchor": "y",
         "domain": [
          0,
          0.45
         ],
         "title": {
          "text": "Method"
         }
        },
        "xaxis2": {
         "anchor": "y2",
         "domain": [
          0.55,
          1
         ],
         "title": {
          "text": "Method"
         }
        },
        "yaxis": {
         "anchor": "x",
         "domain": [
          0,
          1
         ],
         "title": {
          "text": "Relative MSE"
         }
        },
        "yaxis2": {
         "anchor": "x2",
         "domain": [
          0,
          1
         ],
         "title": {
          "text": "Relative MSE"
         }
        }
       }
      }
     },
     "metadata": {},
     "output_type": "display_data"
    }
   ],
   "source": [
    "fig = make_subplots(\n",
    "    rows=1, cols=len(models),\n",
    "    subplot_titles=model_names)\n",
    "#     subplot_titles=(\"Relaxed Lasso\", \"Depth 2 Decision Tree\"))\n",
    "\n",
    "for i, errs in enumerate(model_errs):\n",
    "    risks = [err.mean() for err in errs]\n",
    "    test_risk = risks[0]\n",
    "    # elev_test_risk = risks[1]\n",
    "    # est_risks = risks[2:]\n",
    "    est_risks = risks[1:]\n",
    "\n",
    "    df = pd.DataFrame({est_names[i]: errs[i+1] for i in np.arange(len(est_names))})\n",
    "\n",
    "    fig.add_trace(go.Bar(\n",
    "    #     x=['VRF', 'BF_WR', 'BF_FR'], \n",
    "        x = df.columns,\n",
    "        y=(df).mean()/test_risk,\n",
    "        marker_color=px.colors.qualitative.Plotly,\n",
    "        text=np.around((df).mean()/test_risk,3),\n",
    "        textposition='outside',\n",
    "    #     error_y=dict(\n",
    "    #         type='data',\n",
    "    #         color='black',\n",
    "    #         array=(df).std() / test_risk,\n",
    "    # #         array=(df/test_risk).clip(upper=(df/test_risk).quantile(.95),axis=1).std(),\n",
    "    # #         symmetric=False,\n",
    "    # #         array=(df/test_risk).quantile(.95) - (df/test_risk).mean(),\n",
    "    # #         arrayminus=(df/test_risk).mean() - (df/test_risk).quantile(.93)\n",
    "    #     )\n",
    "    #         array=(df).mean() + (df).std(),\n",
    "    #         arrayminus=(df).mean() - (df).std())\n",
    "    ), row=1, col=i+1)\n",
    "    # fig.add_trace(go.Bar(\n",
    "    #     name='Experimental',\n",
    "    #     x=['GenCp', 'KFCV', 'SPCV'], y=(df).mean(),\n",
    "    #     error_y=dict(type='data', array=[1, 2])\n",
    "    # ))\n",
    "    # fig.update_layout(barmode='group')\n",
    "    fig.add_hline(y=1., line_color='red', row=1, col=i+1)\n",
    "    # fig.add_hline(y=elev_test_risk / test_risk, line_color='gray', line_dash='dash', row=1, col=i+1)\n",
    "    \n",
    "    fig.update_xaxes(title_text=\"Method\", row=1, col=i+1)\n",
    "    fig.update_yaxes(title_text=\"Relative MSE\", row=1, col=i+1)\n",
    "    \n",
    "# fig.update_layout(\n",
    "# #     title=f\"FC_\\u03B4{delta}_snr{snr}_nk{noise_kernel}_nls{noise_length_scale}_nv{noise_nu}_Xk{X_kernel}_Xls{X_length_scale}_Xv{X_nu}\",\n",
    "#     title=title,\n",
    "#     xaxis_title=\"Method\",\n",
    "#     yaxis_title=\"MSE\",\n",
    "# #     legend_title=\"Legend Title\",\n",
    "# #     font=dict(\n",
    "# #         family=\"Courier New, monospace\",\n",
    "# #         size=18,\n",
    "# #         color=\"RebeccaPurple\"\n",
    "# #     )\n",
    "# )\n",
    "# barfp = os.path.expanduser(savedir + fig.layout.title['text'] + \".jpeg\")\n",
    "# fig.write_image(os.path.expanduser(barfp))\n",
    "fig.update_layout(title=\"Bagged Models: Train/Test Split, Shared Structured Noise\", showlegend=False)\n",
    "fig.show()"
   ]
  },
  {
   "cell_type": "code",
   "execution_count": null,
   "metadata": {},
   "outputs": [],
   "source": []
  },
  {
   "cell_type": "code",
   "execution_count": null,
   "metadata": {},
   "outputs": [],
   "source": []
  },
  {
   "cell_type": "code",
   "execution_count": null,
   "metadata": {},
   "outputs": [],
   "source": []
  }
 ],
 "metadata": {
  "celltoolbar": "Tags",
  "kernelspec": {
   "display_name": "spe",
   "language": "python",
   "name": "python3"
  },
  "language_info": {
   "codemirror_mode": {
    "name": "ipython",
    "version": 3
   },
   "file_extension": ".py",
   "mimetype": "text/x-python",
   "name": "python",
   "nbconvert_exporter": "python",
   "pygments_lexer": "ipython3",
   "version": "3.10.6"
  },
  "vscode": {
   "interpreter": {
    "hash": "9b8bb642aa969652c4f270232c6831daface66553032f6686a14a4759430d292"
   }
  }
 },
 "nbformat": 4,
 "nbformat_minor": 4
}
