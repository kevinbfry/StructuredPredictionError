{
 "cells": [
  {
   "cell_type": "code",
   "execution_count": 1,
   "metadata": {},
   "outputs": [],
   "source": [
    "import numpy as np\n",
    "from sklearn.linear_model import LassoCV, RidgeCV, Lasso, Ridge\n",
    "from sklearn.gaussian_process.kernels import Matern, RBF\n",
    "from sklearn.ensemble import RandomForestRegressor\n",
    "\n",
    "from doc.mse_estimator import ErrorComparer\n",
    "from doc.data_generation import gen_rbf_X, gen_matern_X, gen_cov_mat\n",
    "from doc.plotting_utils import gen_model_barplots\n",
    "from spe.estimators import kfoldcv, kmeanscv, new_y_est, cp_general\n",
    "\n",
    "from spe.tree import Tree"
   ]
  },
  {
   "cell_type": "code",
   "execution_count": 2,
   "metadata": {},
   "outputs": [],
   "source": [
    "np.random.seed(1)"
   ]
  },
  {
   "cell_type": "code",
   "execution_count": 3,
   "metadata": {
    "tags": [
     "parameters"
    ]
   },
   "outputs": [],
   "source": [
    "## number of realizations to run\n",
    "niter = 100\n",
    "\n",
    "## data generation parameters]\n",
    "gsize=20\n",
    "n=20**2\n",
    "p=5\n",
    "s=5\n",
    "delta = 0.75\n",
    "snr = 0.4\n",
    "tr_frac = .5\n",
    "\n",
    "noise_kernel = 'matern'\n",
    "noise_length_scale = 1.\n",
    "noise_nu = .5\n",
    "\n",
    "X_kernel = 'matern'\n",
    "X_length_scale = 5.\n",
    "X_nu = 2.5\n",
    "\n",
    "## ErrorComparer parameters\n",
    "alpha = .05\n",
    "nboot = 100\n",
    "k = 5\n",
    "# lambdas = np.logspace(.01, 10, 10)\n",
    "max_depth = 2\n",
    "# models = [Lasso(alpha=.31),RidgeCV(alphas=lambdas), LassoCV(alphas=lambdas)]\n",
    "models = [\n",
    "    Tree(max_depth=max_depth), \n",
    "    RidgeCV(alphas=[.01,.1, 1.]), \n",
    "    RandomForestRegressor(n_estimators=100, max_depth=max_depth)\n",
    "]\n",
    "\n",
    "ests = [\n",
    "    new_y_est,\n",
    "    new_y_est,\n",
    "    cp_general,\n",
    "    kfoldcv, \n",
    "    kmeanscv\n",
    "]\n",
    "est_kwargs = [\n",
    "    {'alpha': None,\n",
    "    'full_refit': False},\n",
    "    {'alpha': alpha,\n",
    "    'full_refit': False},\n",
    "    {'alpha': alpha, \n",
    "    'use_trace_corr': False, \n",
    "    'nboot': nboot},\n",
    "    {'k': k},\n",
    "    {'k': k}\n",
    "]\n",
    "\n",
    "## plot parameters\n",
    "est_names = [\"GenCp\", \"KFCV\", \"SPCV\"]\n",
    "model_names = [\"Decision Tree\", \"Ridge CV\", \"Random Forest\"]"
   ]
  },
  {
   "cell_type": "code",
   "execution_count": 4,
   "metadata": {},
   "outputs": [],
   "source": [
    "err_cmp = ErrorComparer()"
   ]
  },
  {
   "cell_type": "code",
   "execution_count": 5,
   "metadata": {},
   "outputs": [],
   "source": [
    "nx = ny = int(np.sqrt(n))\n",
    "xs = np.linspace(0, gsize, nx)\n",
    "ys = np.linspace(0, gsize, ny)\n",
    "c_x, c_y = np.meshgrid(xs, ys)\n",
    "c_x = c_x.flatten()\n",
    "c_y = c_y.flatten()\n",
    "coord = np.stack([c_x, c_y]).T"
   ]
  },
  {
   "cell_type": "code",
   "execution_count": 6,
   "metadata": {},
   "outputs": [],
   "source": [
    "if noise_kernel == 'rbf':\n",
    "    Sigma_t = gen_cov_mat(c_x, c_y, RBF(length_scale=noise_length_scale))\n",
    "elif noise_kernel == 'matern':\n",
    "    Sigma_t = gen_cov_mat(c_x, c_y, Matern(length_scale=noise_length_scale, nu=noise_nu))\n",
    "else:\n",
    "    Sigma_t = np.eye(n)\n",
    "    \n",
    "Cov_st = delta*Sigma_t\n",
    "Sigma_t = delta*Sigma_t + (1-delta)*np.eye(n)\n",
    "\n",
    "if noise_kernel == 'rbf' or noise_kernel == 'matern':\n",
    "    Chol_t = np.linalg.cholesky(Sigma_t)\n",
    "else:\n",
    "    Chol_t = np.eye(n)"
   ]
  },
  {
   "cell_type": "code",
   "execution_count": 7,
   "metadata": {},
   "outputs": [],
   "source": [
    "if X_kernel == 'rbf':\n",
    "    X = gen_rbf_X(c_x, c_y, p)\n",
    "elif X_kernel == 'matern':\n",
    "    X = gen_matern_X(c_x, c_y, p, length_scale=X_length_scale, nu=X_nu)\n",
    "else:\n",
    "    X = np.random.randn(n,p)\n",
    "\n",
    "beta = np.zeros(p)\n",
    "idx = np.random.choice(p,size=s,replace=False)\n",
    "beta[idx] = np.random.uniform(-1,1,size=s)"
   ]
  },
  {
   "cell_type": "code",
   "execution_count": 8,
   "metadata": {},
   "outputs": [],
   "source": [
    "tr_idx = np.ones(n, dtype=bool)"
   ]
  },
  {
   "attachments": {},
   "cell_type": "markdown",
   "metadata": {},
   "source": [
    "# Simulate $Y, Y^* \\overset{iid}{\\sim} \\mathcal{N}(\\mu, \\Sigma_Y)$"
   ]
  },
  {
   "cell_type": "code",
   "execution_count": 9,
   "metadata": {
    "scrolled": true
   },
   "outputs": [
    {
     "name": "stderr",
     "output_type": "stream",
     "text": [
      "  0%|          | 0/100 [00:00<?, ?it/s]"
     ]
    },
    {
     "name": "stderr",
     "output_type": "stream",
     "text": [
      "/Users/kevinfry/opt/anaconda3/envs/spe/lib/python3.11/site-packages/sklearn/model_selection/_validation.py:73: FutureWarning: `fit_params` is deprecated and will be removed in version 1.6. Pass parameters via `params` instead.\n",
      "  warnings.warn(\n",
      "/Users/kevinfry/opt/anaconda3/envs/spe/lib/python3.11/site-packages/sklearn/model_selection/_validation.py:73: FutureWarning: `fit_params` is deprecated and will be removed in version 1.6. Pass parameters via `params` instead.\n",
      "  warnings.warn(\n",
      "  1%|          | 1/100 [00:00<00:47,  2.11it/s]/Users/kevinfry/opt/anaconda3/envs/spe/lib/python3.11/site-packages/sklearn/model_selection/_validation.py:73: FutureWarning: `fit_params` is deprecated and will be removed in version 1.6. Pass parameters via `params` instead.\n",
      "  warnings.warn(\n",
      "/Users/kevinfry/opt/anaconda3/envs/spe/lib/python3.11/site-packages/sklearn/model_selection/_validation.py:73: FutureWarning: `fit_params` is deprecated and will be removed in version 1.6. Pass parameters via `params` instead.\n",
      "  warnings.warn(\n",
      "  2%|▏         | 2/100 [00:00<00:48,  2.01it/s]/Users/kevinfry/opt/anaconda3/envs/spe/lib/python3.11/site-packages/sklearn/model_selection/_validation.py:73: FutureWarning: `fit_params` is deprecated and will be removed in version 1.6. Pass parameters via `params` instead.\n",
      "  warnings.warn(\n",
      "/Users/kevinfry/opt/anaconda3/envs/spe/lib/python3.11/site-packages/sklearn/model_selection/_validation.py:73: FutureWarning: `fit_params` is deprecated and will be removed in version 1.6. Pass parameters via `params` instead.\n",
      "  warnings.warn(\n",
      "  3%|▎         | 3/100 [00:01<00:48,  2.00it/s]/Users/kevinfry/opt/anaconda3/envs/spe/lib/python3.11/site-packages/sklearn/model_selection/_validation.py:73: FutureWarning: `fit_params` is deprecated and will be removed in version 1.6. Pass parameters via `params` instead.\n",
      "  warnings.warn(\n",
      "/Users/kevinfry/opt/anaconda3/envs/spe/lib/python3.11/site-packages/sklearn/model_selection/_validation.py:73: FutureWarning: `fit_params` is deprecated and will be removed in version 1.6. Pass parameters via `params` instead.\n",
      "  warnings.warn(\n",
      "  4%|▍         | 4/100 [00:02<00:48,  1.99it/s]/Users/kevinfry/opt/anaconda3/envs/spe/lib/python3.11/site-packages/sklearn/model_selection/_validation.py:73: FutureWarning: `fit_params` is deprecated and will be removed in version 1.6. Pass parameters via `params` instead.\n",
      "  warnings.warn(\n",
      "/Users/kevinfry/opt/anaconda3/envs/spe/lib/python3.11/site-packages/sklearn/model_selection/_validation.py:73: FutureWarning: `fit_params` is deprecated and will be removed in version 1.6. Pass parameters via `params` instead.\n",
      "  warnings.warn(\n",
      "  5%|▌         | 5/100 [00:03<01:11,  1.33it/s]/Users/kevinfry/opt/anaconda3/envs/spe/lib/python3.11/site-packages/sklearn/model_selection/_validation.py:73: FutureWarning: `fit_params` is deprecated and will be removed in version 1.6. Pass parameters via `params` instead.\n",
      "  warnings.warn(\n",
      "/Users/kevinfry/opt/anaconda3/envs/spe/lib/python3.11/site-packages/sklearn/model_selection/_validation.py:73: FutureWarning: `fit_params` is deprecated and will be removed in version 1.6. Pass parameters via `params` instead.\n",
      "  warnings.warn(\n",
      "  6%|▌         | 6/100 [00:04<01:14,  1.26it/s]/Users/kevinfry/opt/anaconda3/envs/spe/lib/python3.11/site-packages/sklearn/model_selection/_validation.py:73: FutureWarning: `fit_params` is deprecated and will be removed in version 1.6. Pass parameters via `params` instead.\n",
      "  warnings.warn(\n",
      "/Users/kevinfry/opt/anaconda3/envs/spe/lib/python3.11/site-packages/sklearn/model_selection/_validation.py:73: FutureWarning: `fit_params` is deprecated and will be removed in version 1.6. Pass parameters via `params` instead.\n",
      "  warnings.warn(\n",
      "  7%|▋         | 7/100 [00:05<01:18,  1.19it/s]/Users/kevinfry/opt/anaconda3/envs/spe/lib/python3.11/site-packages/sklearn/model_selection/_validation.py:73: FutureWarning: `fit_params` is deprecated and will be removed in version 1.6. Pass parameters via `params` instead.\n",
      "  warnings.warn(\n",
      "/Users/kevinfry/opt/anaconda3/envs/spe/lib/python3.11/site-packages/sklearn/model_selection/_validation.py:73: FutureWarning: `fit_params` is deprecated and will be removed in version 1.6. Pass parameters via `params` instead.\n",
      "  warnings.warn(\n",
      "  8%|▊         | 8/100 [00:06<01:26,  1.06it/s]/Users/kevinfry/opt/anaconda3/envs/spe/lib/python3.11/site-packages/sklearn/model_selection/_validation.py:73: FutureWarning: `fit_params` is deprecated and will be removed in version 1.6. Pass parameters via `params` instead.\n",
      "  warnings.warn(\n",
      "/Users/kevinfry/opt/anaconda3/envs/spe/lib/python3.11/site-packages/sklearn/model_selection/_validation.py:73: FutureWarning: `fit_params` is deprecated and will be removed in version 1.6. Pass parameters via `params` instead.\n",
      "  warnings.warn(\n",
      "  9%|▉         | 9/100 [00:07<01:35,  1.05s/it]/Users/kevinfry/opt/anaconda3/envs/spe/lib/python3.11/site-packages/sklearn/model_selection/_validation.py:73: FutureWarning: `fit_params` is deprecated and will be removed in version 1.6. Pass parameters via `params` instead.\n",
      "  warnings.warn(\n",
      "/Users/kevinfry/opt/anaconda3/envs/spe/lib/python3.11/site-packages/sklearn/model_selection/_validation.py:73: FutureWarning: `fit_params` is deprecated and will be removed in version 1.6. Pass parameters via `params` instead.\n",
      "  warnings.warn(\n",
      " 10%|█         | 10/100 [00:08<01:23,  1.07it/s]/Users/kevinfry/opt/anaconda3/envs/spe/lib/python3.11/site-packages/sklearn/model_selection/_validation.py:73: FutureWarning: `fit_params` is deprecated and will be removed in version 1.6. Pass parameters via `params` instead.\n",
      "  warnings.warn(\n",
      "/Users/kevinfry/opt/anaconda3/envs/spe/lib/python3.11/site-packages/sklearn/model_selection/_validation.py:73: FutureWarning: `fit_params` is deprecated and will be removed in version 1.6. Pass parameters via `params` instead.\n",
      "  warnings.warn(\n",
      " 11%|█         | 11/100 [00:08<01:09,  1.27it/s]/Users/kevinfry/opt/anaconda3/envs/spe/lib/python3.11/site-packages/sklearn/model_selection/_validation.py:73: FutureWarning: `fit_params` is deprecated and will be removed in version 1.6. Pass parameters via `params` instead.\n",
      "  warnings.warn(\n",
      "/Users/kevinfry/opt/anaconda3/envs/spe/lib/python3.11/site-packages/sklearn/model_selection/_validation.py:73: FutureWarning: `fit_params` is deprecated and will be removed in version 1.6. Pass parameters via `params` instead.\n",
      "  warnings.warn(\n",
      " 12%|█▏        | 12/100 [00:09<01:03,  1.40it/s]/Users/kevinfry/opt/anaconda3/envs/spe/lib/python3.11/site-packages/sklearn/model_selection/_validation.py:73: FutureWarning: `fit_params` is deprecated and will be removed in version 1.6. Pass parameters via `params` instead.\n",
      "  warnings.warn(\n",
      "/Users/kevinfry/opt/anaconda3/envs/spe/lib/python3.11/site-packages/sklearn/model_selection/_validation.py:73: FutureWarning: `fit_params` is deprecated and will be removed in version 1.6. Pass parameters via `params` instead.\n",
      "  warnings.warn(\n",
      " 13%|█▎        | 13/100 [00:10<01:13,  1.18it/s]/Users/kevinfry/opt/anaconda3/envs/spe/lib/python3.11/site-packages/sklearn/model_selection/_validation.py:73: FutureWarning: `fit_params` is deprecated and will be removed in version 1.6. Pass parameters via `params` instead.\n",
      "  warnings.warn(\n",
      "/Users/kevinfry/opt/anaconda3/envs/spe/lib/python3.11/site-packages/sklearn/model_selection/_validation.py:73: FutureWarning: `fit_params` is deprecated and will be removed in version 1.6. Pass parameters via `params` instead.\n",
      "  warnings.warn(\n",
      " 14%|█▍        | 14/100 [00:11<01:15,  1.14it/s]/Users/kevinfry/opt/anaconda3/envs/spe/lib/python3.11/site-packages/sklearn/model_selection/_validation.py:73: FutureWarning: `fit_params` is deprecated and will be removed in version 1.6. Pass parameters via `params` instead.\n",
      "  warnings.warn(\n",
      "/Users/kevinfry/opt/anaconda3/envs/spe/lib/python3.11/site-packages/sklearn/model_selection/_validation.py:73: FutureWarning: `fit_params` is deprecated and will be removed in version 1.6. Pass parameters via `params` instead.\n",
      "  warnings.warn(\n",
      " 15%|█▌        | 15/100 [00:12<01:16,  1.11it/s]/Users/kevinfry/opt/anaconda3/envs/spe/lib/python3.11/site-packages/sklearn/model_selection/_validation.py:73: FutureWarning: `fit_params` is deprecated and will be removed in version 1.6. Pass parameters via `params` instead.\n",
      "  warnings.warn(\n",
      "/Users/kevinfry/opt/anaconda3/envs/spe/lib/python3.11/site-packages/sklearn/model_selection/_validation.py:73: FutureWarning: `fit_params` is deprecated and will be removed in version 1.6. Pass parameters via `params` instead.\n",
      "  warnings.warn(\n",
      " 16%|█▌        | 16/100 [00:12<01:06,  1.27it/s]/Users/kevinfry/opt/anaconda3/envs/spe/lib/python3.11/site-packages/sklearn/model_selection/_validation.py:73: FutureWarning: `fit_params` is deprecated and will be removed in version 1.6. Pass parameters via `params` instead.\n",
      "  warnings.warn(\n",
      "/Users/kevinfry/opt/anaconda3/envs/spe/lib/python3.11/site-packages/sklearn/model_selection/_validation.py:73: FutureWarning: `fit_params` is deprecated and will be removed in version 1.6. Pass parameters via `params` instead.\n",
      "  warnings.warn(\n",
      " 17%|█▋        | 17/100 [00:13<00:54,  1.51it/s]/Users/kevinfry/opt/anaconda3/envs/spe/lib/python3.11/site-packages/sklearn/model_selection/_validation.py:73: FutureWarning: `fit_params` is deprecated and will be removed in version 1.6. Pass parameters via `params` instead.\n",
      "  warnings.warn(\n",
      "/Users/kevinfry/opt/anaconda3/envs/spe/lib/python3.11/site-packages/sklearn/model_selection/_validation.py:73: FutureWarning: `fit_params` is deprecated and will be removed in version 1.6. Pass parameters via `params` instead.\n",
      "  warnings.warn(\n",
      " 18%|█▊        | 18/100 [00:13<00:51,  1.58it/s]/Users/kevinfry/opt/anaconda3/envs/spe/lib/python3.11/site-packages/sklearn/model_selection/_validation.py:73: FutureWarning: `fit_params` is deprecated and will be removed in version 1.6. Pass parameters via `params` instead.\n",
      "  warnings.warn(\n",
      "/Users/kevinfry/opt/anaconda3/envs/spe/lib/python3.11/site-packages/sklearn/model_selection/_validation.py:73: FutureWarning: `fit_params` is deprecated and will be removed in version 1.6. Pass parameters via `params` instead.\n",
      "  warnings.warn(\n",
      " 19%|█▉        | 19/100 [00:14<00:49,  1.63it/s]/Users/kevinfry/opt/anaconda3/envs/spe/lib/python3.11/site-packages/sklearn/model_selection/_validation.py:73: FutureWarning: `fit_params` is deprecated and will be removed in version 1.6. Pass parameters via `params` instead.\n",
      "  warnings.warn(\n",
      "/Users/kevinfry/opt/anaconda3/envs/spe/lib/python3.11/site-packages/sklearn/model_selection/_validation.py:73: FutureWarning: `fit_params` is deprecated and will be removed in version 1.6. Pass parameters via `params` instead.\n",
      "  warnings.warn(\n",
      " 20%|██        | 20/100 [00:14<00:51,  1.56it/s]/Users/kevinfry/opt/anaconda3/envs/spe/lib/python3.11/site-packages/sklearn/model_selection/_validation.py:73: FutureWarning: `fit_params` is deprecated and will be removed in version 1.6. Pass parameters via `params` instead.\n",
      "  warnings.warn(\n",
      "/Users/kevinfry/opt/anaconda3/envs/spe/lib/python3.11/site-packages/sklearn/model_selection/_validation.py:73: FutureWarning: `fit_params` is deprecated and will be removed in version 1.6. Pass parameters via `params` instead.\n",
      "  warnings.warn(\n",
      " 21%|██        | 21/100 [00:16<01:04,  1.23it/s]/Users/kevinfry/opt/anaconda3/envs/spe/lib/python3.11/site-packages/sklearn/model_selection/_validation.py:73: FutureWarning: `fit_params` is deprecated and will be removed in version 1.6. Pass parameters via `params` instead.\n",
      "  warnings.warn(\n",
      "/Users/kevinfry/opt/anaconda3/envs/spe/lib/python3.11/site-packages/sklearn/model_selection/_validation.py:73: FutureWarning: `fit_params` is deprecated and will be removed in version 1.6. Pass parameters via `params` instead.\n",
      "  warnings.warn(\n",
      " 22%|██▏       | 22/100 [00:16<01:03,  1.22it/s]/Users/kevinfry/opt/anaconda3/envs/spe/lib/python3.11/site-packages/sklearn/model_selection/_validation.py:73: FutureWarning: `fit_params` is deprecated and will be removed in version 1.6. Pass parameters via `params` instead.\n",
      "  warnings.warn(\n",
      "/Users/kevinfry/opt/anaconda3/envs/spe/lib/python3.11/site-packages/sklearn/model_selection/_validation.py:73: FutureWarning: `fit_params` is deprecated and will be removed in version 1.6. Pass parameters via `params` instead.\n",
      "  warnings.warn(\n",
      " 23%|██▎       | 23/100 [00:17<00:59,  1.30it/s]/Users/kevinfry/opt/anaconda3/envs/spe/lib/python3.11/site-packages/sklearn/model_selection/_validation.py:73: FutureWarning: `fit_params` is deprecated and will be removed in version 1.6. Pass parameters via `params` instead.\n",
      "  warnings.warn(\n",
      "/Users/kevinfry/opt/anaconda3/envs/spe/lib/python3.11/site-packages/sklearn/model_selection/_validation.py:73: FutureWarning: `fit_params` is deprecated and will be removed in version 1.6. Pass parameters via `params` instead.\n",
      "  warnings.warn(\n",
      " 24%|██▍       | 24/100 [00:18<00:54,  1.40it/s]/Users/kevinfry/opt/anaconda3/envs/spe/lib/python3.11/site-packages/sklearn/model_selection/_validation.py:73: FutureWarning: `fit_params` is deprecated and will be removed in version 1.6. Pass parameters via `params` instead.\n",
      "  warnings.warn(\n",
      "/Users/kevinfry/opt/anaconda3/envs/spe/lib/python3.11/site-packages/sklearn/model_selection/_validation.py:73: FutureWarning: `fit_params` is deprecated and will be removed in version 1.6. Pass parameters via `params` instead.\n",
      "  warnings.warn(\n",
      " 25%|██▌       | 25/100 [00:19<01:00,  1.25it/s]/Users/kevinfry/opt/anaconda3/envs/spe/lib/python3.11/site-packages/sklearn/model_selection/_validation.py:73: FutureWarning: `fit_params` is deprecated and will be removed in version 1.6. Pass parameters via `params` instead.\n",
      "  warnings.warn(\n",
      "/Users/kevinfry/opt/anaconda3/envs/spe/lib/python3.11/site-packages/sklearn/model_selection/_validation.py:73: FutureWarning: `fit_params` is deprecated and will be removed in version 1.6. Pass parameters via `params` instead.\n",
      "  warnings.warn(\n",
      " 26%|██▌       | 26/100 [00:20<01:00,  1.22it/s]/Users/kevinfry/opt/anaconda3/envs/spe/lib/python3.11/site-packages/sklearn/model_selection/_validation.py:73: FutureWarning: `fit_params` is deprecated and will be removed in version 1.6. Pass parameters via `params` instead.\n",
      "  warnings.warn(\n",
      "/Users/kevinfry/opt/anaconda3/envs/spe/lib/python3.11/site-packages/sklearn/model_selection/_validation.py:73: FutureWarning: `fit_params` is deprecated and will be removed in version 1.6. Pass parameters via `params` instead.\n",
      "  warnings.warn(\n",
      " 27%|██▋       | 27/100 [00:21<01:05,  1.12it/s]/Users/kevinfry/opt/anaconda3/envs/spe/lib/python3.11/site-packages/sklearn/model_selection/_validation.py:73: FutureWarning: `fit_params` is deprecated and will be removed in version 1.6. Pass parameters via `params` instead.\n",
      "  warnings.warn(\n",
      "/Users/kevinfry/opt/anaconda3/envs/spe/lib/python3.11/site-packages/sklearn/model_selection/_validation.py:73: FutureWarning: `fit_params` is deprecated and will be removed in version 1.6. Pass parameters via `params` instead.\n",
      "  warnings.warn(\n",
      " 28%|██▊       | 28/100 [00:22<01:03,  1.13it/s]/Users/kevinfry/opt/anaconda3/envs/spe/lib/python3.11/site-packages/sklearn/model_selection/_validation.py:73: FutureWarning: `fit_params` is deprecated and will be removed in version 1.6. Pass parameters via `params` instead.\n",
      "  warnings.warn(\n",
      "/Users/kevinfry/opt/anaconda3/envs/spe/lib/python3.11/site-packages/sklearn/model_selection/_validation.py:73: FutureWarning: `fit_params` is deprecated and will be removed in version 1.6. Pass parameters via `params` instead.\n",
      "  warnings.warn(\n",
      " 29%|██▉       | 29/100 [00:22<01:00,  1.17it/s]/Users/kevinfry/opt/anaconda3/envs/spe/lib/python3.11/site-packages/sklearn/model_selection/_validation.py:73: FutureWarning: `fit_params` is deprecated and will be removed in version 1.6. Pass parameters via `params` instead.\n",
      "  warnings.warn(\n",
      "/Users/kevinfry/opt/anaconda3/envs/spe/lib/python3.11/site-packages/sklearn/model_selection/_validation.py:73: FutureWarning: `fit_params` is deprecated and will be removed in version 1.6. Pass parameters via `params` instead.\n",
      "  warnings.warn(\n",
      " 30%|███       | 30/100 [00:23<00:52,  1.33it/s]/Users/kevinfry/opt/anaconda3/envs/spe/lib/python3.11/site-packages/sklearn/model_selection/_validation.py:73: FutureWarning: `fit_params` is deprecated and will be removed in version 1.6. Pass parameters via `params` instead.\n",
      "  warnings.warn(\n",
      "/Users/kevinfry/opt/anaconda3/envs/spe/lib/python3.11/site-packages/sklearn/model_selection/_validation.py:73: FutureWarning: `fit_params` is deprecated and will be removed in version 1.6. Pass parameters via `params` instead.\n",
      "  warnings.warn(\n",
      " 31%|███       | 31/100 [00:23<00:48,  1.42it/s]/Users/kevinfry/opt/anaconda3/envs/spe/lib/python3.11/site-packages/sklearn/model_selection/_validation.py:73: FutureWarning: `fit_params` is deprecated and will be removed in version 1.6. Pass parameters via `params` instead.\n",
      "  warnings.warn(\n",
      "/Users/kevinfry/opt/anaconda3/envs/spe/lib/python3.11/site-packages/sklearn/model_selection/_validation.py:73: FutureWarning: `fit_params` is deprecated and will be removed in version 1.6. Pass parameters via `params` instead.\n",
      "  warnings.warn(\n",
      " 32%|███▏      | 32/100 [00:24<00:54,  1.25it/s]/Users/kevinfry/opt/anaconda3/envs/spe/lib/python3.11/site-packages/sklearn/model_selection/_validation.py:73: FutureWarning: `fit_params` is deprecated and will be removed in version 1.6. Pass parameters via `params` instead.\n",
      "  warnings.warn(\n",
      "/Users/kevinfry/opt/anaconda3/envs/spe/lib/python3.11/site-packages/sklearn/model_selection/_validation.py:73: FutureWarning: `fit_params` is deprecated and will be removed in version 1.6. Pass parameters via `params` instead.\n",
      "  warnings.warn(\n",
      " 33%|███▎      | 33/100 [00:25<00:47,  1.40it/s]/Users/kevinfry/opt/anaconda3/envs/spe/lib/python3.11/site-packages/sklearn/model_selection/_validation.py:73: FutureWarning: `fit_params` is deprecated and will be removed in version 1.6. Pass parameters via `params` instead.\n",
      "  warnings.warn(\n",
      "/Users/kevinfry/opt/anaconda3/envs/spe/lib/python3.11/site-packages/sklearn/model_selection/_validation.py:73: FutureWarning: `fit_params` is deprecated and will be removed in version 1.6. Pass parameters via `params` instead.\n",
      "  warnings.warn(\n",
      " 34%|███▍      | 34/100 [00:25<00:43,  1.51it/s]/Users/kevinfry/opt/anaconda3/envs/spe/lib/python3.11/site-packages/sklearn/model_selection/_validation.py:73: FutureWarning: `fit_params` is deprecated and will be removed in version 1.6. Pass parameters via `params` instead.\n",
      "  warnings.warn(\n",
      "/Users/kevinfry/opt/anaconda3/envs/spe/lib/python3.11/site-packages/sklearn/model_selection/_validation.py:73: FutureWarning: `fit_params` is deprecated and will be removed in version 1.6. Pass parameters via `params` instead.\n",
      "  warnings.warn(\n",
      " 35%|███▌      | 35/100 [00:26<00:46,  1.41it/s]/Users/kevinfry/opt/anaconda3/envs/spe/lib/python3.11/site-packages/sklearn/model_selection/_validation.py:73: FutureWarning: `fit_params` is deprecated and will be removed in version 1.6. Pass parameters via `params` instead.\n",
      "  warnings.warn(\n",
      "/Users/kevinfry/opt/anaconda3/envs/spe/lib/python3.11/site-packages/sklearn/model_selection/_validation.py:73: FutureWarning: `fit_params` is deprecated and will be removed in version 1.6. Pass parameters via `params` instead.\n",
      "  warnings.warn(\n",
      " 36%|███▌      | 36/100 [00:27<00:44,  1.44it/s]/Users/kevinfry/opt/anaconda3/envs/spe/lib/python3.11/site-packages/sklearn/model_selection/_validation.py:73: FutureWarning: `fit_params` is deprecated and will be removed in version 1.6. Pass parameters via `params` instead.\n",
      "  warnings.warn(\n",
      "/Users/kevinfry/opt/anaconda3/envs/spe/lib/python3.11/site-packages/sklearn/model_selection/_validation.py:73: FutureWarning: `fit_params` is deprecated and will be removed in version 1.6. Pass parameters via `params` instead.\n",
      "  warnings.warn(\n",
      " 37%|███▋      | 37/100 [00:28<00:44,  1.41it/s]/Users/kevinfry/opt/anaconda3/envs/spe/lib/python3.11/site-packages/sklearn/model_selection/_validation.py:73: FutureWarning: `fit_params` is deprecated and will be removed in version 1.6. Pass parameters via `params` instead.\n",
      "  warnings.warn(\n",
      "/Users/kevinfry/opt/anaconda3/envs/spe/lib/python3.11/site-packages/sklearn/model_selection/_validation.py:73: FutureWarning: `fit_params` is deprecated and will be removed in version 1.6. Pass parameters via `params` instead.\n",
      "  warnings.warn(\n",
      " 38%|███▊      | 38/100 [00:29<00:55,  1.12it/s]/Users/kevinfry/opt/anaconda3/envs/spe/lib/python3.11/site-packages/sklearn/model_selection/_validation.py:73: FutureWarning: `fit_params` is deprecated and will be removed in version 1.6. Pass parameters via `params` instead.\n",
      "  warnings.warn(\n",
      "/Users/kevinfry/opt/anaconda3/envs/spe/lib/python3.11/site-packages/sklearn/model_selection/_validation.py:73: FutureWarning: `fit_params` is deprecated and will be removed in version 1.6. Pass parameters via `params` instead.\n",
      "  warnings.warn(\n",
      " 39%|███▉      | 39/100 [00:30<00:55,  1.09it/s]/Users/kevinfry/opt/anaconda3/envs/spe/lib/python3.11/site-packages/sklearn/model_selection/_validation.py:73: FutureWarning: `fit_params` is deprecated and will be removed in version 1.6. Pass parameters via `params` instead.\n",
      "  warnings.warn(\n",
      "/Users/kevinfry/opt/anaconda3/envs/spe/lib/python3.11/site-packages/sklearn/model_selection/_validation.py:73: FutureWarning: `fit_params` is deprecated and will be removed in version 1.6. Pass parameters via `params` instead.\n",
      "  warnings.warn(\n",
      " 40%|████      | 40/100 [00:31<00:51,  1.17it/s]/Users/kevinfry/opt/anaconda3/envs/spe/lib/python3.11/site-packages/sklearn/model_selection/_validation.py:73: FutureWarning: `fit_params` is deprecated and will be removed in version 1.6. Pass parameters via `params` instead.\n",
      "  warnings.warn(\n",
      "/Users/kevinfry/opt/anaconda3/envs/spe/lib/python3.11/site-packages/sklearn/model_selection/_validation.py:73: FutureWarning: `fit_params` is deprecated and will be removed in version 1.6. Pass parameters via `params` instead.\n",
      "  warnings.warn(\n",
      " 41%|████      | 41/100 [00:32<00:49,  1.18it/s]/Users/kevinfry/opt/anaconda3/envs/spe/lib/python3.11/site-packages/sklearn/model_selection/_validation.py:73: FutureWarning: `fit_params` is deprecated and will be removed in version 1.6. Pass parameters via `params` instead.\n",
      "  warnings.warn(\n",
      "/Users/kevinfry/opt/anaconda3/envs/spe/lib/python3.11/site-packages/sklearn/model_selection/_validation.py:73: FutureWarning: `fit_params` is deprecated and will be removed in version 1.6. Pass parameters via `params` instead.\n",
      "  warnings.warn(\n",
      " 42%|████▏     | 42/100 [00:33<00:55,  1.05it/s]/Users/kevinfry/opt/anaconda3/envs/spe/lib/python3.11/site-packages/sklearn/model_selection/_validation.py:73: FutureWarning: `fit_params` is deprecated and will be removed in version 1.6. Pass parameters via `params` instead.\n",
      "  warnings.warn(\n",
      "/Users/kevinfry/opt/anaconda3/envs/spe/lib/python3.11/site-packages/sklearn/model_selection/_validation.py:73: FutureWarning: `fit_params` is deprecated and will be removed in version 1.6. Pass parameters via `params` instead.\n",
      "  warnings.warn(\n",
      " 43%|████▎     | 43/100 [00:33<00:48,  1.17it/s]/Users/kevinfry/opt/anaconda3/envs/spe/lib/python3.11/site-packages/sklearn/model_selection/_validation.py:73: FutureWarning: `fit_params` is deprecated and will be removed in version 1.6. Pass parameters via `params` instead.\n",
      "  warnings.warn(\n",
      "/Users/kevinfry/opt/anaconda3/envs/spe/lib/python3.11/site-packages/sklearn/model_selection/_validation.py:73: FutureWarning: `fit_params` is deprecated and will be removed in version 1.6. Pass parameters via `params` instead.\n",
      "  warnings.warn(\n",
      " 44%|████▍     | 44/100 [00:34<00:50,  1.10it/s]/Users/kevinfry/opt/anaconda3/envs/spe/lib/python3.11/site-packages/sklearn/model_selection/_validation.py:73: FutureWarning: `fit_params` is deprecated and will be removed in version 1.6. Pass parameters via `params` instead.\n",
      "  warnings.warn(\n",
      "/Users/kevinfry/opt/anaconda3/envs/spe/lib/python3.11/site-packages/sklearn/model_selection/_validation.py:73: FutureWarning: `fit_params` is deprecated and will be removed in version 1.6. Pass parameters via `params` instead.\n",
      "  warnings.warn(\n",
      " 45%|████▌     | 45/100 [00:35<00:49,  1.10it/s]/Users/kevinfry/opt/anaconda3/envs/spe/lib/python3.11/site-packages/sklearn/model_selection/_validation.py:73: FutureWarning: `fit_params` is deprecated and will be removed in version 1.6. Pass parameters via `params` instead.\n",
      "  warnings.warn(\n",
      "/Users/kevinfry/opt/anaconda3/envs/spe/lib/python3.11/site-packages/sklearn/model_selection/_validation.py:73: FutureWarning: `fit_params` is deprecated and will be removed in version 1.6. Pass parameters via `params` instead.\n",
      "  warnings.warn(\n",
      " 46%|████▌     | 46/100 [00:36<00:47,  1.14it/s]/Users/kevinfry/opt/anaconda3/envs/spe/lib/python3.11/site-packages/sklearn/model_selection/_validation.py:73: FutureWarning: `fit_params` is deprecated and will be removed in version 1.6. Pass parameters via `params` instead.\n",
      "  warnings.warn(\n",
      "/Users/kevinfry/opt/anaconda3/envs/spe/lib/python3.11/site-packages/sklearn/model_selection/_validation.py:73: FutureWarning: `fit_params` is deprecated and will be removed in version 1.6. Pass parameters via `params` instead.\n",
      "  warnings.warn(\n",
      " 47%|████▋     | 47/100 [00:37<00:43,  1.23it/s]/Users/kevinfry/opt/anaconda3/envs/spe/lib/python3.11/site-packages/sklearn/model_selection/_validation.py:73: FutureWarning: `fit_params` is deprecated and will be removed in version 1.6. Pass parameters via `params` instead.\n",
      "  warnings.warn(\n",
      "/Users/kevinfry/opt/anaconda3/envs/spe/lib/python3.11/site-packages/sklearn/model_selection/_validation.py:73: FutureWarning: `fit_params` is deprecated and will be removed in version 1.6. Pass parameters via `params` instead.\n",
      "  warnings.warn(\n",
      " 48%|████▊     | 48/100 [00:38<00:43,  1.19it/s]/Users/kevinfry/opt/anaconda3/envs/spe/lib/python3.11/site-packages/sklearn/model_selection/_validation.py:73: FutureWarning: `fit_params` is deprecated and will be removed in version 1.6. Pass parameters via `params` instead.\n",
      "  warnings.warn(\n",
      "/Users/kevinfry/opt/anaconda3/envs/spe/lib/python3.11/site-packages/sklearn/model_selection/_validation.py:73: FutureWarning: `fit_params` is deprecated and will be removed in version 1.6. Pass parameters via `params` instead.\n",
      "  warnings.warn(\n",
      " 49%|████▉     | 49/100 [00:38<00:40,  1.27it/s]/Users/kevinfry/opt/anaconda3/envs/spe/lib/python3.11/site-packages/sklearn/model_selection/_validation.py:73: FutureWarning: `fit_params` is deprecated and will be removed in version 1.6. Pass parameters via `params` instead.\n",
      "  warnings.warn(\n",
      "/Users/kevinfry/opt/anaconda3/envs/spe/lib/python3.11/site-packages/sklearn/model_selection/_validation.py:73: FutureWarning: `fit_params` is deprecated and will be removed in version 1.6. Pass parameters via `params` instead.\n",
      "  warnings.warn(\n",
      " 50%|█████     | 50/100 [00:39<00:37,  1.35it/s]/Users/kevinfry/opt/anaconda3/envs/spe/lib/python3.11/site-packages/sklearn/model_selection/_validation.py:73: FutureWarning: `fit_params` is deprecated and will be removed in version 1.6. Pass parameters via `params` instead.\n",
      "  warnings.warn(\n",
      "/Users/kevinfry/opt/anaconda3/envs/spe/lib/python3.11/site-packages/sklearn/model_selection/_validation.py:73: FutureWarning: `fit_params` is deprecated and will be removed in version 1.6. Pass parameters via `params` instead.\n",
      "  warnings.warn(\n",
      " 51%|█████     | 51/100 [00:40<00:36,  1.34it/s]/Users/kevinfry/opt/anaconda3/envs/spe/lib/python3.11/site-packages/sklearn/model_selection/_validation.py:73: FutureWarning: `fit_params` is deprecated and will be removed in version 1.6. Pass parameters via `params` instead.\n",
      "  warnings.warn(\n",
      "/Users/kevinfry/opt/anaconda3/envs/spe/lib/python3.11/site-packages/sklearn/model_selection/_validation.py:73: FutureWarning: `fit_params` is deprecated and will be removed in version 1.6. Pass parameters via `params` instead.\n",
      "  warnings.warn(\n",
      " 52%|█████▏    | 52/100 [00:40<00:35,  1.36it/s]/Users/kevinfry/opt/anaconda3/envs/spe/lib/python3.11/site-packages/sklearn/model_selection/_validation.py:73: FutureWarning: `fit_params` is deprecated and will be removed in version 1.6. Pass parameters via `params` instead.\n",
      "  warnings.warn(\n",
      "/Users/kevinfry/opt/anaconda3/envs/spe/lib/python3.11/site-packages/sklearn/model_selection/_validation.py:73: FutureWarning: `fit_params` is deprecated and will be removed in version 1.6. Pass parameters via `params` instead.\n",
      "  warnings.warn(\n",
      " 53%|█████▎    | 53/100 [00:41<00:35,  1.32it/s]/Users/kevinfry/opt/anaconda3/envs/spe/lib/python3.11/site-packages/sklearn/model_selection/_validation.py:73: FutureWarning: `fit_params` is deprecated and will be removed in version 1.6. Pass parameters via `params` instead.\n",
      "  warnings.warn(\n",
      "/Users/kevinfry/opt/anaconda3/envs/spe/lib/python3.11/site-packages/sklearn/model_selection/_validation.py:73: FutureWarning: `fit_params` is deprecated and will be removed in version 1.6. Pass parameters via `params` instead.\n",
      "  warnings.warn(\n",
      " 54%|█████▍    | 54/100 [00:42<00:35,  1.31it/s]/Users/kevinfry/opt/anaconda3/envs/spe/lib/python3.11/site-packages/sklearn/model_selection/_validation.py:73: FutureWarning: `fit_params` is deprecated and will be removed in version 1.6. Pass parameters via `params` instead.\n",
      "  warnings.warn(\n",
      "/Users/kevinfry/opt/anaconda3/envs/spe/lib/python3.11/site-packages/sklearn/model_selection/_validation.py:73: FutureWarning: `fit_params` is deprecated and will be removed in version 1.6. Pass parameters via `params` instead.\n",
      "  warnings.warn(\n",
      " 55%|█████▌    | 55/100 [00:43<00:38,  1.16it/s]/Users/kevinfry/opt/anaconda3/envs/spe/lib/python3.11/site-packages/sklearn/model_selection/_validation.py:73: FutureWarning: `fit_params` is deprecated and will be removed in version 1.6. Pass parameters via `params` instead.\n",
      "  warnings.warn(\n",
      "/Users/kevinfry/opt/anaconda3/envs/spe/lib/python3.11/site-packages/sklearn/model_selection/_validation.py:73: FutureWarning: `fit_params` is deprecated and will be removed in version 1.6. Pass parameters via `params` instead.\n",
      "  warnings.warn(\n",
      " 56%|█████▌    | 56/100 [00:44<00:36,  1.21it/s]/Users/kevinfry/opt/anaconda3/envs/spe/lib/python3.11/site-packages/sklearn/model_selection/_validation.py:73: FutureWarning: `fit_params` is deprecated and will be removed in version 1.6. Pass parameters via `params` instead.\n",
      "  warnings.warn(\n",
      "/Users/kevinfry/opt/anaconda3/envs/spe/lib/python3.11/site-packages/sklearn/model_selection/_validation.py:73: FutureWarning: `fit_params` is deprecated and will be removed in version 1.6. Pass parameters via `params` instead.\n",
      "  warnings.warn(\n",
      " 57%|█████▋    | 57/100 [00:45<00:37,  1.15it/s]/Users/kevinfry/opt/anaconda3/envs/spe/lib/python3.11/site-packages/sklearn/model_selection/_validation.py:73: FutureWarning: `fit_params` is deprecated and will be removed in version 1.6. Pass parameters via `params` instead.\n",
      "  warnings.warn(\n",
      "/Users/kevinfry/opt/anaconda3/envs/spe/lib/python3.11/site-packages/sklearn/model_selection/_validation.py:73: FutureWarning: `fit_params` is deprecated and will be removed in version 1.6. Pass parameters via `params` instead.\n",
      "  warnings.warn(\n",
      " 58%|█████▊    | 58/100 [00:46<00:38,  1.10it/s]/Users/kevinfry/opt/anaconda3/envs/spe/lib/python3.11/site-packages/sklearn/model_selection/_validation.py:73: FutureWarning: `fit_params` is deprecated and will be removed in version 1.6. Pass parameters via `params` instead.\n",
      "  warnings.warn(\n",
      "/Users/kevinfry/opt/anaconda3/envs/spe/lib/python3.11/site-packages/sklearn/model_selection/_validation.py:73: FutureWarning: `fit_params` is deprecated and will be removed in version 1.6. Pass parameters via `params` instead.\n",
      "  warnings.warn(\n",
      " 59%|█████▉    | 59/100 [00:47<00:39,  1.05it/s]/Users/kevinfry/opt/anaconda3/envs/spe/lib/python3.11/site-packages/sklearn/model_selection/_validation.py:73: FutureWarning: `fit_params` is deprecated and will be removed in version 1.6. Pass parameters via `params` instead.\n",
      "  warnings.warn(\n",
      "/Users/kevinfry/opt/anaconda3/envs/spe/lib/python3.11/site-packages/sklearn/model_selection/_validation.py:73: FutureWarning: `fit_params` is deprecated and will be removed in version 1.6. Pass parameters via `params` instead.\n",
      "  warnings.warn(\n",
      " 60%|██████    | 60/100 [00:47<00:33,  1.21it/s]/Users/kevinfry/opt/anaconda3/envs/spe/lib/python3.11/site-packages/sklearn/model_selection/_validation.py:73: FutureWarning: `fit_params` is deprecated and will be removed in version 1.6. Pass parameters via `params` instead.\n",
      "  warnings.warn(\n",
      "/Users/kevinfry/opt/anaconda3/envs/spe/lib/python3.11/site-packages/sklearn/model_selection/_validation.py:73: FutureWarning: `fit_params` is deprecated and will be removed in version 1.6. Pass parameters via `params` instead.\n",
      "  warnings.warn(\n",
      " 61%|██████    | 61/100 [00:48<00:32,  1.20it/s]/Users/kevinfry/opt/anaconda3/envs/spe/lib/python3.11/site-packages/sklearn/model_selection/_validation.py:73: FutureWarning: `fit_params` is deprecated and will be removed in version 1.6. Pass parameters via `params` instead.\n",
      "  warnings.warn(\n",
      "/Users/kevinfry/opt/anaconda3/envs/spe/lib/python3.11/site-packages/sklearn/model_selection/_validation.py:73: FutureWarning: `fit_params` is deprecated and will be removed in version 1.6. Pass parameters via `params` instead.\n",
      "  warnings.warn(\n",
      " 62%|██████▏   | 62/100 [00:49<00:32,  1.16it/s]/Users/kevinfry/opt/anaconda3/envs/spe/lib/python3.11/site-packages/sklearn/model_selection/_validation.py:73: FutureWarning: `fit_params` is deprecated and will be removed in version 1.6. Pass parameters via `params` instead.\n",
      "  warnings.warn(\n",
      "/Users/kevinfry/opt/anaconda3/envs/spe/lib/python3.11/site-packages/sklearn/model_selection/_validation.py:73: FutureWarning: `fit_params` is deprecated and will be removed in version 1.6. Pass parameters via `params` instead.\n",
      "  warnings.warn(\n",
      " 63%|██████▎   | 63/100 [00:50<00:29,  1.24it/s]/Users/kevinfry/opt/anaconda3/envs/spe/lib/python3.11/site-packages/sklearn/model_selection/_validation.py:73: FutureWarning: `fit_params` is deprecated and will be removed in version 1.6. Pass parameters via `params` instead.\n",
      "  warnings.warn(\n",
      "/Users/kevinfry/opt/anaconda3/envs/spe/lib/python3.11/site-packages/sklearn/model_selection/_validation.py:73: FutureWarning: `fit_params` is deprecated and will be removed in version 1.6. Pass parameters via `params` instead.\n",
      "  warnings.warn(\n",
      " 64%|██████▍   | 64/100 [00:50<00:27,  1.33it/s]/Users/kevinfry/opt/anaconda3/envs/spe/lib/python3.11/site-packages/sklearn/model_selection/_validation.py:73: FutureWarning: `fit_params` is deprecated and will be removed in version 1.6. Pass parameters via `params` instead.\n",
      "  warnings.warn(\n",
      "/Users/kevinfry/opt/anaconda3/envs/spe/lib/python3.11/site-packages/sklearn/model_selection/_validation.py:73: FutureWarning: `fit_params` is deprecated and will be removed in version 1.6. Pass parameters via `params` instead.\n",
      "  warnings.warn(\n",
      " 65%|██████▌   | 65/100 [00:51<00:27,  1.29it/s]/Users/kevinfry/opt/anaconda3/envs/spe/lib/python3.11/site-packages/sklearn/model_selection/_validation.py:73: FutureWarning: `fit_params` is deprecated and will be removed in version 1.6. Pass parameters via `params` instead.\n",
      "  warnings.warn(\n",
      "/Users/kevinfry/opt/anaconda3/envs/spe/lib/python3.11/site-packages/sklearn/model_selection/_validation.py:73: FutureWarning: `fit_params` is deprecated and will be removed in version 1.6. Pass parameters via `params` instead.\n",
      "  warnings.warn(\n",
      " 66%|██████▌   | 66/100 [00:52<00:27,  1.26it/s]/Users/kevinfry/opt/anaconda3/envs/spe/lib/python3.11/site-packages/sklearn/model_selection/_validation.py:73: FutureWarning: `fit_params` is deprecated and will be removed in version 1.6. Pass parameters via `params` instead.\n",
      "  warnings.warn(\n",
      "/Users/kevinfry/opt/anaconda3/envs/spe/lib/python3.11/site-packages/sklearn/model_selection/_validation.py:73: FutureWarning: `fit_params` is deprecated and will be removed in version 1.6. Pass parameters via `params` instead.\n",
      "  warnings.warn(\n",
      " 67%|██████▋   | 67/100 [00:53<00:25,  1.30it/s]/Users/kevinfry/opt/anaconda3/envs/spe/lib/python3.11/site-packages/sklearn/model_selection/_validation.py:73: FutureWarning: `fit_params` is deprecated and will be removed in version 1.6. Pass parameters via `params` instead.\n",
      "  warnings.warn(\n",
      "/Users/kevinfry/opt/anaconda3/envs/spe/lib/python3.11/site-packages/sklearn/model_selection/_validation.py:73: FutureWarning: `fit_params` is deprecated and will be removed in version 1.6. Pass parameters via `params` instead.\n",
      "  warnings.warn(\n",
      " 68%|██████▊   | 68/100 [00:54<00:27,  1.16it/s]/Users/kevinfry/opt/anaconda3/envs/spe/lib/python3.11/site-packages/sklearn/model_selection/_validation.py:73: FutureWarning: `fit_params` is deprecated and will be removed in version 1.6. Pass parameters via `params` instead.\n",
      "  warnings.warn(\n",
      "/Users/kevinfry/opt/anaconda3/envs/spe/lib/python3.11/site-packages/sklearn/model_selection/_validation.py:73: FutureWarning: `fit_params` is deprecated and will be removed in version 1.6. Pass parameters via `params` instead.\n",
      "  warnings.warn(\n",
      " 69%|██████▉   | 69/100 [00:55<00:27,  1.15it/s]/Users/kevinfry/opt/anaconda3/envs/spe/lib/python3.11/site-packages/sklearn/model_selection/_validation.py:73: FutureWarning: `fit_params` is deprecated and will be removed in version 1.6. Pass parameters via `params` instead.\n",
      "  warnings.warn(\n",
      "/Users/kevinfry/opt/anaconda3/envs/spe/lib/python3.11/site-packages/sklearn/model_selection/_validation.py:73: FutureWarning: `fit_params` is deprecated and will be removed in version 1.6. Pass parameters via `params` instead.\n",
      "  warnings.warn(\n",
      " 70%|███████   | 70/100 [00:56<00:26,  1.12it/s]/Users/kevinfry/opt/anaconda3/envs/spe/lib/python3.11/site-packages/sklearn/model_selection/_validation.py:73: FutureWarning: `fit_params` is deprecated and will be removed in version 1.6. Pass parameters via `params` instead.\n",
      "  warnings.warn(\n",
      "/Users/kevinfry/opt/anaconda3/envs/spe/lib/python3.11/site-packages/sklearn/model_selection/_validation.py:73: FutureWarning: `fit_params` is deprecated and will be removed in version 1.6. Pass parameters via `params` instead.\n",
      "  warnings.warn(\n",
      " 71%|███████   | 71/100 [00:57<00:25,  1.12it/s]/Users/kevinfry/opt/anaconda3/envs/spe/lib/python3.11/site-packages/sklearn/model_selection/_validation.py:73: FutureWarning: `fit_params` is deprecated and will be removed in version 1.6. Pass parameters via `params` instead.\n",
      "  warnings.warn(\n",
      "/Users/kevinfry/opt/anaconda3/envs/spe/lib/python3.11/site-packages/sklearn/model_selection/_validation.py:73: FutureWarning: `fit_params` is deprecated and will be removed in version 1.6. Pass parameters via `params` instead.\n",
      "  warnings.warn(\n",
      " 72%|███████▏  | 72/100 [00:58<00:25,  1.09it/s]/Users/kevinfry/opt/anaconda3/envs/spe/lib/python3.11/site-packages/sklearn/model_selection/_validation.py:73: FutureWarning: `fit_params` is deprecated and will be removed in version 1.6. Pass parameters via `params` instead.\n",
      "  warnings.warn(\n",
      "/Users/kevinfry/opt/anaconda3/envs/spe/lib/python3.11/site-packages/sklearn/model_selection/_validation.py:73: FutureWarning: `fit_params` is deprecated and will be removed in version 1.6. Pass parameters via `params` instead.\n",
      "  warnings.warn(\n",
      " 73%|███████▎  | 73/100 [00:58<00:23,  1.16it/s]/Users/kevinfry/opt/anaconda3/envs/spe/lib/python3.11/site-packages/sklearn/model_selection/_validation.py:73: FutureWarning: `fit_params` is deprecated and will be removed in version 1.6. Pass parameters via `params` instead.\n",
      "  warnings.warn(\n",
      "/Users/kevinfry/opt/anaconda3/envs/spe/lib/python3.11/site-packages/sklearn/model_selection/_validation.py:73: FutureWarning: `fit_params` is deprecated and will be removed in version 1.6. Pass parameters via `params` instead.\n",
      "  warnings.warn(\n",
      " 74%|███████▍  | 74/100 [00:59<00:23,  1.12it/s]/Users/kevinfry/opt/anaconda3/envs/spe/lib/python3.11/site-packages/sklearn/model_selection/_validation.py:73: FutureWarning: `fit_params` is deprecated and will be removed in version 1.6. Pass parameters via `params` instead.\n",
      "  warnings.warn(\n",
      "/Users/kevinfry/opt/anaconda3/envs/spe/lib/python3.11/site-packages/sklearn/model_selection/_validation.py:73: FutureWarning: `fit_params` is deprecated and will be removed in version 1.6. Pass parameters via `params` instead.\n",
      "  warnings.warn(\n",
      " 75%|███████▌  | 75/100 [01:00<00:20,  1.21it/s]/Users/kevinfry/opt/anaconda3/envs/spe/lib/python3.11/site-packages/sklearn/model_selection/_validation.py:73: FutureWarning: `fit_params` is deprecated and will be removed in version 1.6. Pass parameters via `params` instead.\n",
      "  warnings.warn(\n",
      "/Users/kevinfry/opt/anaconda3/envs/spe/lib/python3.11/site-packages/sklearn/model_selection/_validation.py:73: FutureWarning: `fit_params` is deprecated and will be removed in version 1.6. Pass parameters via `params` instead.\n",
      "  warnings.warn(\n",
      " 76%|███████▌  | 76/100 [01:01<00:19,  1.25it/s]/Users/kevinfry/opt/anaconda3/envs/spe/lib/python3.11/site-packages/sklearn/model_selection/_validation.py:73: FutureWarning: `fit_params` is deprecated and will be removed in version 1.6. Pass parameters via `params` instead.\n",
      "  warnings.warn(\n",
      "/Users/kevinfry/opt/anaconda3/envs/spe/lib/python3.11/site-packages/sklearn/model_selection/_validation.py:73: FutureWarning: `fit_params` is deprecated and will be removed in version 1.6. Pass parameters via `params` instead.\n",
      "  warnings.warn(\n",
      " 77%|███████▋  | 77/100 [01:01<00:17,  1.28it/s]/Users/kevinfry/opt/anaconda3/envs/spe/lib/python3.11/site-packages/sklearn/model_selection/_validation.py:73: FutureWarning: `fit_params` is deprecated and will be removed in version 1.6. Pass parameters via `params` instead.\n",
      "  warnings.warn(\n",
      "/Users/kevinfry/opt/anaconda3/envs/spe/lib/python3.11/site-packages/sklearn/model_selection/_validation.py:73: FutureWarning: `fit_params` is deprecated and will be removed in version 1.6. Pass parameters via `params` instead.\n",
      "  warnings.warn(\n",
      " 78%|███████▊  | 78/100 [01:02<00:15,  1.39it/s]/Users/kevinfry/opt/anaconda3/envs/spe/lib/python3.11/site-packages/sklearn/model_selection/_validation.py:73: FutureWarning: `fit_params` is deprecated and will be removed in version 1.6. Pass parameters via `params` instead.\n",
      "  warnings.warn(\n",
      "/Users/kevinfry/opt/anaconda3/envs/spe/lib/python3.11/site-packages/sklearn/model_selection/_validation.py:73: FutureWarning: `fit_params` is deprecated and will be removed in version 1.6. Pass parameters via `params` instead.\n",
      "  warnings.warn(\n",
      " 79%|███████▉  | 79/100 [01:03<00:13,  1.52it/s]/Users/kevinfry/opt/anaconda3/envs/spe/lib/python3.11/site-packages/sklearn/model_selection/_validation.py:73: FutureWarning: `fit_params` is deprecated and will be removed in version 1.6. Pass parameters via `params` instead.\n",
      "  warnings.warn(\n",
      "/Users/kevinfry/opt/anaconda3/envs/spe/lib/python3.11/site-packages/sklearn/model_selection/_validation.py:73: FutureWarning: `fit_params` is deprecated and will be removed in version 1.6. Pass parameters via `params` instead.\n",
      "  warnings.warn(\n",
      " 80%|████████  | 80/100 [01:03<00:14,  1.42it/s]/Users/kevinfry/opt/anaconda3/envs/spe/lib/python3.11/site-packages/sklearn/model_selection/_validation.py:73: FutureWarning: `fit_params` is deprecated and will be removed in version 1.6. Pass parameters via `params` instead.\n",
      "  warnings.warn(\n",
      "/Users/kevinfry/opt/anaconda3/envs/spe/lib/python3.11/site-packages/sklearn/model_selection/_validation.py:73: FutureWarning: `fit_params` is deprecated and will be removed in version 1.6. Pass parameters via `params` instead.\n",
      "  warnings.warn(\n",
      " 81%|████████  | 81/100 [01:04<00:13,  1.39it/s]/Users/kevinfry/opt/anaconda3/envs/spe/lib/python3.11/site-packages/sklearn/model_selection/_validation.py:73: FutureWarning: `fit_params` is deprecated and will be removed in version 1.6. Pass parameters via `params` instead.\n",
      "  warnings.warn(\n",
      "/Users/kevinfry/opt/anaconda3/envs/spe/lib/python3.11/site-packages/sklearn/model_selection/_validation.py:73: FutureWarning: `fit_params` is deprecated and will be removed in version 1.6. Pass parameters via `params` instead.\n",
      "  warnings.warn(\n",
      " 82%|████████▏ | 82/100 [01:05<00:11,  1.51it/s]/Users/kevinfry/opt/anaconda3/envs/spe/lib/python3.11/site-packages/sklearn/model_selection/_validation.py:73: FutureWarning: `fit_params` is deprecated and will be removed in version 1.6. Pass parameters via `params` instead.\n",
      "  warnings.warn(\n",
      "/Users/kevinfry/opt/anaconda3/envs/spe/lib/python3.11/site-packages/sklearn/model_selection/_validation.py:73: FutureWarning: `fit_params` is deprecated and will be removed in version 1.6. Pass parameters via `params` instead.\n",
      "  warnings.warn(\n",
      " 83%|████████▎ | 83/100 [01:05<00:10,  1.56it/s]/Users/kevinfry/opt/anaconda3/envs/spe/lib/python3.11/site-packages/sklearn/model_selection/_validation.py:73: FutureWarning: `fit_params` is deprecated and will be removed in version 1.6. Pass parameters via `params` instead.\n",
      "  warnings.warn(\n",
      "/Users/kevinfry/opt/anaconda3/envs/spe/lib/python3.11/site-packages/sklearn/model_selection/_validation.py:73: FutureWarning: `fit_params` is deprecated and will be removed in version 1.6. Pass parameters via `params` instead.\n",
      "  warnings.warn(\n",
      " 84%|████████▍ | 84/100 [01:06<00:10,  1.49it/s]/Users/kevinfry/opt/anaconda3/envs/spe/lib/python3.11/site-packages/sklearn/model_selection/_validation.py:73: FutureWarning: `fit_params` is deprecated and will be removed in version 1.6. Pass parameters via `params` instead.\n",
      "  warnings.warn(\n",
      "/Users/kevinfry/opt/anaconda3/envs/spe/lib/python3.11/site-packages/sklearn/model_selection/_validation.py:73: FutureWarning: `fit_params` is deprecated and will be removed in version 1.6. Pass parameters via `params` instead.\n",
      "  warnings.warn(\n",
      " 85%|████████▌ | 85/100 [01:07<00:10,  1.41it/s]/Users/kevinfry/opt/anaconda3/envs/spe/lib/python3.11/site-packages/sklearn/model_selection/_validation.py:73: FutureWarning: `fit_params` is deprecated and will be removed in version 1.6. Pass parameters via `params` instead.\n",
      "  warnings.warn(\n",
      "/Users/kevinfry/opt/anaconda3/envs/spe/lib/python3.11/site-packages/sklearn/model_selection/_validation.py:73: FutureWarning: `fit_params` is deprecated and will be removed in version 1.6. Pass parameters via `params` instead.\n",
      "  warnings.warn(\n",
      " 86%|████████▌ | 86/100 [01:08<00:10,  1.30it/s]/Users/kevinfry/opt/anaconda3/envs/spe/lib/python3.11/site-packages/sklearn/model_selection/_validation.py:73: FutureWarning: `fit_params` is deprecated and will be removed in version 1.6. Pass parameters via `params` instead.\n",
      "  warnings.warn(\n",
      "/Users/kevinfry/opt/anaconda3/envs/spe/lib/python3.11/site-packages/sklearn/model_selection/_validation.py:73: FutureWarning: `fit_params` is deprecated and will be removed in version 1.6. Pass parameters via `params` instead.\n",
      "  warnings.warn(\n",
      " 87%|████████▋ | 87/100 [01:08<00:09,  1.40it/s]/Users/kevinfry/opt/anaconda3/envs/spe/lib/python3.11/site-packages/sklearn/model_selection/_validation.py:73: FutureWarning: `fit_params` is deprecated and will be removed in version 1.6. Pass parameters via `params` instead.\n",
      "  warnings.warn(\n",
      "/Users/kevinfry/opt/anaconda3/envs/spe/lib/python3.11/site-packages/sklearn/model_selection/_validation.py:73: FutureWarning: `fit_params` is deprecated and will be removed in version 1.6. Pass parameters via `params` instead.\n",
      "  warnings.warn(\n",
      " 88%|████████▊ | 88/100 [01:09<00:08,  1.44it/s]/Users/kevinfry/opt/anaconda3/envs/spe/lib/python3.11/site-packages/sklearn/model_selection/_validation.py:73: FutureWarning: `fit_params` is deprecated and will be removed in version 1.6. Pass parameters via `params` instead.\n",
      "  warnings.warn(\n",
      "/Users/kevinfry/opt/anaconda3/envs/spe/lib/python3.11/site-packages/sklearn/model_selection/_validation.py:73: FutureWarning: `fit_params` is deprecated and will be removed in version 1.6. Pass parameters via `params` instead.\n",
      "  warnings.warn(\n",
      " 89%|████████▉ | 89/100 [01:10<00:07,  1.53it/s]/Users/kevinfry/opt/anaconda3/envs/spe/lib/python3.11/site-packages/sklearn/model_selection/_validation.py:73: FutureWarning: `fit_params` is deprecated and will be removed in version 1.6. Pass parameters via `params` instead.\n",
      "  warnings.warn(\n",
      "/Users/kevinfry/opt/anaconda3/envs/spe/lib/python3.11/site-packages/sklearn/model_selection/_validation.py:73: FutureWarning: `fit_params` is deprecated and will be removed in version 1.6. Pass parameters via `params` instead.\n",
      "  warnings.warn(\n",
      " 90%|█████████ | 90/100 [01:11<00:08,  1.18it/s]/Users/kevinfry/opt/anaconda3/envs/spe/lib/python3.11/site-packages/sklearn/model_selection/_validation.py:73: FutureWarning: `fit_params` is deprecated and will be removed in version 1.6. Pass parameters via `params` instead.\n",
      "  warnings.warn(\n",
      "/Users/kevinfry/opt/anaconda3/envs/spe/lib/python3.11/site-packages/sklearn/model_selection/_validation.py:73: FutureWarning: `fit_params` is deprecated and will be removed in version 1.6. Pass parameters via `params` instead.\n",
      "  warnings.warn(\n",
      " 91%|█████████ | 91/100 [01:11<00:06,  1.33it/s]/Users/kevinfry/opt/anaconda3/envs/spe/lib/python3.11/site-packages/sklearn/model_selection/_validation.py:73: FutureWarning: `fit_params` is deprecated and will be removed in version 1.6. Pass parameters via `params` instead.\n",
      "  warnings.warn(\n",
      "/Users/kevinfry/opt/anaconda3/envs/spe/lib/python3.11/site-packages/sklearn/model_selection/_validation.py:73: FutureWarning: `fit_params` is deprecated and will be removed in version 1.6. Pass parameters via `params` instead.\n",
      "  warnings.warn(\n",
      " 92%|█████████▏| 92/100 [01:12<00:06,  1.26it/s]/Users/kevinfry/opt/anaconda3/envs/spe/lib/python3.11/site-packages/sklearn/model_selection/_validation.py:73: FutureWarning: `fit_params` is deprecated and will be removed in version 1.6. Pass parameters via `params` instead.\n",
      "  warnings.warn(\n",
      "/Users/kevinfry/opt/anaconda3/envs/spe/lib/python3.11/site-packages/sklearn/model_selection/_validation.py:73: FutureWarning: `fit_params` is deprecated and will be removed in version 1.6. Pass parameters via `params` instead.\n",
      "  warnings.warn(\n",
      " 93%|█████████▎| 93/100 [01:13<00:05,  1.27it/s]/Users/kevinfry/opt/anaconda3/envs/spe/lib/python3.11/site-packages/sklearn/model_selection/_validation.py:73: FutureWarning: `fit_params` is deprecated and will be removed in version 1.6. Pass parameters via `params` instead.\n",
      "  warnings.warn(\n",
      "/Users/kevinfry/opt/anaconda3/envs/spe/lib/python3.11/site-packages/sklearn/model_selection/_validation.py:73: FutureWarning: `fit_params` is deprecated and will be removed in version 1.6. Pass parameters via `params` instead.\n",
      "  warnings.warn(\n",
      " 94%|█████████▍| 94/100 [01:14<00:04,  1.26it/s]/Users/kevinfry/opt/anaconda3/envs/spe/lib/python3.11/site-packages/sklearn/model_selection/_validation.py:73: FutureWarning: `fit_params` is deprecated and will be removed in version 1.6. Pass parameters via `params` instead.\n",
      "  warnings.warn(\n",
      "/Users/kevinfry/opt/anaconda3/envs/spe/lib/python3.11/site-packages/sklearn/model_selection/_validation.py:73: FutureWarning: `fit_params` is deprecated and will be removed in version 1.6. Pass parameters via `params` instead.\n",
      "  warnings.warn(\n",
      " 95%|█████████▌| 95/100 [01:15<00:03,  1.27it/s]/Users/kevinfry/opt/anaconda3/envs/spe/lib/python3.11/site-packages/sklearn/model_selection/_validation.py:73: FutureWarning: `fit_params` is deprecated and will be removed in version 1.6. Pass parameters via `params` instead.\n",
      "  warnings.warn(\n",
      "/Users/kevinfry/opt/anaconda3/envs/spe/lib/python3.11/site-packages/sklearn/model_selection/_validation.py:73: FutureWarning: `fit_params` is deprecated and will be removed in version 1.6. Pass parameters via `params` instead.\n",
      "  warnings.warn(\n",
      " 96%|█████████▌| 96/100 [01:15<00:03,  1.30it/s]/Users/kevinfry/opt/anaconda3/envs/spe/lib/python3.11/site-packages/sklearn/model_selection/_validation.py:73: FutureWarning: `fit_params` is deprecated and will be removed in version 1.6. Pass parameters via `params` instead.\n",
      "  warnings.warn(\n",
      "/Users/kevinfry/opt/anaconda3/envs/spe/lib/python3.11/site-packages/sklearn/model_selection/_validation.py:73: FutureWarning: `fit_params` is deprecated and will be removed in version 1.6. Pass parameters via `params` instead.\n",
      "  warnings.warn(\n",
      " 97%|█████████▋| 97/100 [01:16<00:02,  1.32it/s]/Users/kevinfry/opt/anaconda3/envs/spe/lib/python3.11/site-packages/sklearn/model_selection/_validation.py:73: FutureWarning: `fit_params` is deprecated and will be removed in version 1.6. Pass parameters via `params` instead.\n",
      "  warnings.warn(\n",
      "/Users/kevinfry/opt/anaconda3/envs/spe/lib/python3.11/site-packages/sklearn/model_selection/_validation.py:73: FutureWarning: `fit_params` is deprecated and will be removed in version 1.6. Pass parameters via `params` instead.\n",
      "  warnings.warn(\n",
      " 98%|█████████▊| 98/100 [01:17<00:01,  1.39it/s]/Users/kevinfry/opt/anaconda3/envs/spe/lib/python3.11/site-packages/sklearn/model_selection/_validation.py:73: FutureWarning: `fit_params` is deprecated and will be removed in version 1.6. Pass parameters via `params` instead.\n",
      "  warnings.warn(\n",
      "/Users/kevinfry/opt/anaconda3/envs/spe/lib/python3.11/site-packages/sklearn/model_selection/_validation.py:73: FutureWarning: `fit_params` is deprecated and will be removed in version 1.6. Pass parameters via `params` instead.\n",
      "  warnings.warn(\n",
      " 99%|█████████▉| 99/100 [01:17<00:00,  1.50it/s]/Users/kevinfry/opt/anaconda3/envs/spe/lib/python3.11/site-packages/sklearn/model_selection/_validation.py:73: FutureWarning: `fit_params` is deprecated and will be removed in version 1.6. Pass parameters via `params` instead.\n",
      "  warnings.warn(\n",
      "/Users/kevinfry/opt/anaconda3/envs/spe/lib/python3.11/site-packages/sklearn/model_selection/_validation.py:73: FutureWarning: `fit_params` is deprecated and will be removed in version 1.6. Pass parameters via `params` instead.\n",
      "  warnings.warn(\n",
      "100%|██████████| 100/100 [01:18<00:00,  1.27it/s]\n",
      "  0%|          | 0/100 [00:00<?, ?it/s]/Users/kevinfry/opt/anaconda3/envs/spe/lib/python3.11/site-packages/sklearn/model_selection/_validation.py:73: FutureWarning: `fit_params` is deprecated and will be removed in version 1.6. Pass parameters via `params` instead.\n",
      "  warnings.warn(\n",
      "/Users/kevinfry/opt/anaconda3/envs/spe/lib/python3.11/site-packages/sklearn/model_selection/_validation.py:73: FutureWarning: `fit_params` is deprecated and will be removed in version 1.6. Pass parameters via `params` instead.\n",
      "  warnings.warn(\n",
      "  1%|          | 1/100 [00:00<01:01,  1.60it/s]/Users/kevinfry/opt/anaconda3/envs/spe/lib/python3.11/site-packages/sklearn/model_selection/_validation.py:73: FutureWarning: `fit_params` is deprecated and will be removed in version 1.6. Pass parameters via `params` instead.\n",
      "  warnings.warn(\n",
      "/Users/kevinfry/opt/anaconda3/envs/spe/lib/python3.11/site-packages/sklearn/model_selection/_validation.py:73: FutureWarning: `fit_params` is deprecated and will be removed in version 1.6. Pass parameters via `params` instead.\n",
      "  warnings.warn(\n",
      "  2%|▏         | 2/100 [00:01<01:14,  1.32it/s]/Users/kevinfry/opt/anaconda3/envs/spe/lib/python3.11/site-packages/sklearn/model_selection/_validation.py:73: FutureWarning: `fit_params` is deprecated and will be removed in version 1.6. Pass parameters via `params` instead.\n",
      "  warnings.warn(\n",
      "/Users/kevinfry/opt/anaconda3/envs/spe/lib/python3.11/site-packages/sklearn/model_selection/_validation.py:73: FutureWarning: `fit_params` is deprecated and will be removed in version 1.6. Pass parameters via `params` instead.\n",
      "  warnings.warn(\n",
      "  3%|▎         | 3/100 [00:01<01:00,  1.61it/s]/Users/kevinfry/opt/anaconda3/envs/spe/lib/python3.11/site-packages/sklearn/model_selection/_validation.py:73: FutureWarning: `fit_params` is deprecated and will be removed in version 1.6. Pass parameters via `params` instead.\n",
      "  warnings.warn(\n",
      "/Users/kevinfry/opt/anaconda3/envs/spe/lib/python3.11/site-packages/sklearn/model_selection/_validation.py:73: FutureWarning: `fit_params` is deprecated and will be removed in version 1.6. Pass parameters via `params` instead.\n",
      "  warnings.warn(\n",
      "  4%|▍         | 4/100 [00:02<00:49,  1.95it/s]/Users/kevinfry/opt/anaconda3/envs/spe/lib/python3.11/site-packages/sklearn/model_selection/_validation.py:73: FutureWarning: `fit_params` is deprecated and will be removed in version 1.6. Pass parameters via `params` instead.\n",
      "  warnings.warn(\n",
      "/Users/kevinfry/opt/anaconda3/envs/spe/lib/python3.11/site-packages/sklearn/model_selection/_validation.py:73: FutureWarning: `fit_params` is deprecated and will be removed in version 1.6. Pass parameters via `params` instead.\n",
      "  warnings.warn(\n",
      "  5%|▌         | 5/100 [00:02<00:42,  2.23it/s]/Users/kevinfry/opt/anaconda3/envs/spe/lib/python3.11/site-packages/sklearn/model_selection/_validation.py:73: FutureWarning: `fit_params` is deprecated and will be removed in version 1.6. Pass parameters via `params` instead.\n",
      "  warnings.warn(\n",
      "/Users/kevinfry/opt/anaconda3/envs/spe/lib/python3.11/site-packages/sklearn/model_selection/_validation.py:73: FutureWarning: `fit_params` is deprecated and will be removed in version 1.6. Pass parameters via `params` instead.\n",
      "  warnings.warn(\n",
      "  6%|▌         | 6/100 [00:03<00:40,  2.31it/s]/Users/kevinfry/opt/anaconda3/envs/spe/lib/python3.11/site-packages/sklearn/model_selection/_validation.py:73: FutureWarning: `fit_params` is deprecated and will be removed in version 1.6. Pass parameters via `params` instead.\n",
      "  warnings.warn(\n",
      "/Users/kevinfry/opt/anaconda3/envs/spe/lib/python3.11/site-packages/sklearn/model_selection/_validation.py:73: FutureWarning: `fit_params` is deprecated and will be removed in version 1.6. Pass parameters via `params` instead.\n",
      "  warnings.warn(\n",
      "  7%|▋         | 7/100 [00:03<00:39,  2.35it/s]/Users/kevinfry/opt/anaconda3/envs/spe/lib/python3.11/site-packages/sklearn/model_selection/_validation.py:73: FutureWarning: `fit_params` is deprecated and will be removed in version 1.6. Pass parameters via `params` instead.\n",
      "  warnings.warn(\n",
      "/Users/kevinfry/opt/anaconda3/envs/spe/lib/python3.11/site-packages/sklearn/model_selection/_validation.py:73: FutureWarning: `fit_params` is deprecated and will be removed in version 1.6. Pass parameters via `params` instead.\n",
      "  warnings.warn(\n",
      "  8%|▊         | 8/100 [00:03<00:37,  2.47it/s]/Users/kevinfry/opt/anaconda3/envs/spe/lib/python3.11/site-packages/sklearn/model_selection/_validation.py:73: FutureWarning: `fit_params` is deprecated and will be removed in version 1.6. Pass parameters via `params` instead.\n",
      "  warnings.warn(\n",
      "/Users/kevinfry/opt/anaconda3/envs/spe/lib/python3.11/site-packages/sklearn/model_selection/_validation.py:73: FutureWarning: `fit_params` is deprecated and will be removed in version 1.6. Pass parameters via `params` instead.\n",
      "  warnings.warn(\n",
      "  9%|▉         | 9/100 [00:04<00:38,  2.39it/s]/Users/kevinfry/opt/anaconda3/envs/spe/lib/python3.11/site-packages/sklearn/model_selection/_validation.py:73: FutureWarning: `fit_params` is deprecated and will be removed in version 1.6. Pass parameters via `params` instead.\n",
      "  warnings.warn(\n",
      "/Users/kevinfry/opt/anaconda3/envs/spe/lib/python3.11/site-packages/sklearn/model_selection/_validation.py:73: FutureWarning: `fit_params` is deprecated and will be removed in version 1.6. Pass parameters via `params` instead.\n",
      "  warnings.warn(\n",
      " 10%|█         | 10/100 [00:04<00:36,  2.47it/s]/Users/kevinfry/opt/anaconda3/envs/spe/lib/python3.11/site-packages/sklearn/model_selection/_validation.py:73: FutureWarning: `fit_params` is deprecated and will be removed in version 1.6. Pass parameters via `params` instead.\n",
      "  warnings.warn(\n",
      "/Users/kevinfry/opt/anaconda3/envs/spe/lib/python3.11/site-packages/sklearn/model_selection/_validation.py:73: FutureWarning: `fit_params` is deprecated and will be removed in version 1.6. Pass parameters via `params` instead.\n",
      "  warnings.warn(\n",
      " 11%|█         | 11/100 [00:05<00:36,  2.42it/s]/Users/kevinfry/opt/anaconda3/envs/spe/lib/python3.11/site-packages/sklearn/model_selection/_validation.py:73: FutureWarning: `fit_params` is deprecated and will be removed in version 1.6. Pass parameters via `params` instead.\n",
      "  warnings.warn(\n",
      "/Users/kevinfry/opt/anaconda3/envs/spe/lib/python3.11/site-packages/sklearn/model_selection/_validation.py:73: FutureWarning: `fit_params` is deprecated and will be removed in version 1.6. Pass parameters via `params` instead.\n",
      "  warnings.warn(\n",
      " 12%|█▏        | 12/100 [00:05<00:43,  2.04it/s]/Users/kevinfry/opt/anaconda3/envs/spe/lib/python3.11/site-packages/sklearn/model_selection/_validation.py:73: FutureWarning: `fit_params` is deprecated and will be removed in version 1.6. Pass parameters via `params` instead.\n",
      "  warnings.warn(\n",
      "/Users/kevinfry/opt/anaconda3/envs/spe/lib/python3.11/site-packages/sklearn/model_selection/_validation.py:73: FutureWarning: `fit_params` is deprecated and will be removed in version 1.6. Pass parameters via `params` instead.\n",
      "  warnings.warn(\n",
      " 13%|█▎        | 13/100 [00:06<00:43,  1.99it/s]/Users/kevinfry/opt/anaconda3/envs/spe/lib/python3.11/site-packages/sklearn/model_selection/_validation.py:73: FutureWarning: `fit_params` is deprecated and will be removed in version 1.6. Pass parameters via `params` instead.\n",
      "  warnings.warn(\n",
      "/Users/kevinfry/opt/anaconda3/envs/spe/lib/python3.11/site-packages/sklearn/model_selection/_validation.py:73: FutureWarning: `fit_params` is deprecated and will be removed in version 1.6. Pass parameters via `params` instead.\n",
      "  warnings.warn(\n",
      " 14%|█▍        | 14/100 [00:06<00:37,  2.30it/s]/Users/kevinfry/opt/anaconda3/envs/spe/lib/python3.11/site-packages/sklearn/model_selection/_validation.py:73: FutureWarning: `fit_params` is deprecated and will be removed in version 1.6. Pass parameters via `params` instead.\n",
      "  warnings.warn(\n",
      "/Users/kevinfry/opt/anaconda3/envs/spe/lib/python3.11/site-packages/sklearn/model_selection/_validation.py:73: FutureWarning: `fit_params` is deprecated and will be removed in version 1.6. Pass parameters via `params` instead.\n",
      "  warnings.warn(\n",
      " 15%|█▌        | 15/100 [00:07<00:40,  2.12it/s]/Users/kevinfry/opt/anaconda3/envs/spe/lib/python3.11/site-packages/sklearn/model_selection/_validation.py:73: FutureWarning: `fit_params` is deprecated and will be removed in version 1.6. Pass parameters via `params` instead.\n",
      "  warnings.warn(\n",
      "/Users/kevinfry/opt/anaconda3/envs/spe/lib/python3.11/site-packages/sklearn/model_selection/_validation.py:73: FutureWarning: `fit_params` is deprecated and will be removed in version 1.6. Pass parameters via `params` instead.\n",
      "  warnings.warn(\n",
      " 16%|█▌        | 16/100 [00:07<00:42,  1.98it/s]/Users/kevinfry/opt/anaconda3/envs/spe/lib/python3.11/site-packages/sklearn/model_selection/_validation.py:73: FutureWarning: `fit_params` is deprecated and will be removed in version 1.6. Pass parameters via `params` instead.\n",
      "  warnings.warn(\n",
      "/Users/kevinfry/opt/anaconda3/envs/spe/lib/python3.11/site-packages/sklearn/model_selection/_validation.py:73: FutureWarning: `fit_params` is deprecated and will be removed in version 1.6. Pass parameters via `params` instead.\n",
      "  warnings.warn(\n",
      " 17%|█▋        | 17/100 [00:08<00:42,  1.96it/s]/Users/kevinfry/opt/anaconda3/envs/spe/lib/python3.11/site-packages/sklearn/model_selection/_validation.py:73: FutureWarning: `fit_params` is deprecated and will be removed in version 1.6. Pass parameters via `params` instead.\n",
      "  warnings.warn(\n",
      "/Users/kevinfry/opt/anaconda3/envs/spe/lib/python3.11/site-packages/sklearn/model_selection/_validation.py:73: FutureWarning: `fit_params` is deprecated and will be removed in version 1.6. Pass parameters via `params` instead.\n",
      "  warnings.warn(\n",
      " 18%|█▊        | 18/100 [00:08<00:40,  2.05it/s]/Users/kevinfry/opt/anaconda3/envs/spe/lib/python3.11/site-packages/sklearn/model_selection/_validation.py:73: FutureWarning: `fit_params` is deprecated and will be removed in version 1.6. Pass parameters via `params` instead.\n",
      "  warnings.warn(\n",
      "/Users/kevinfry/opt/anaconda3/envs/spe/lib/python3.11/site-packages/sklearn/model_selection/_validation.py:73: FutureWarning: `fit_params` is deprecated and will be removed in version 1.6. Pass parameters via `params` instead.\n",
      "  warnings.warn(\n",
      " 19%|█▉        | 19/100 [00:09<00:45,  1.79it/s]/Users/kevinfry/opt/anaconda3/envs/spe/lib/python3.11/site-packages/sklearn/model_selection/_validation.py:73: FutureWarning: `fit_params` is deprecated and will be removed in version 1.6. Pass parameters via `params` instead.\n",
      "  warnings.warn(\n",
      "/Users/kevinfry/opt/anaconda3/envs/spe/lib/python3.11/site-packages/sklearn/model_selection/_validation.py:73: FutureWarning: `fit_params` is deprecated and will be removed in version 1.6. Pass parameters via `params` instead.\n",
      "  warnings.warn(\n",
      " 20%|██        | 20/100 [00:09<00:40,  1.96it/s]/Users/kevinfry/opt/anaconda3/envs/spe/lib/python3.11/site-packages/sklearn/model_selection/_validation.py:73: FutureWarning: `fit_params` is deprecated and will be removed in version 1.6. Pass parameters via `params` instead.\n",
      "  warnings.warn(\n",
      "/Users/kevinfry/opt/anaconda3/envs/spe/lib/python3.11/site-packages/sklearn/model_selection/_validation.py:73: FutureWarning: `fit_params` is deprecated and will be removed in version 1.6. Pass parameters via `params` instead.\n",
      "  warnings.warn(\n",
      " 21%|██        | 21/100 [00:10<00:35,  2.21it/s]/Users/kevinfry/opt/anaconda3/envs/spe/lib/python3.11/site-packages/sklearn/model_selection/_validation.py:73: FutureWarning: `fit_params` is deprecated and will be removed in version 1.6. Pass parameters via `params` instead.\n",
      "  warnings.warn(\n",
      "/Users/kevinfry/opt/anaconda3/envs/spe/lib/python3.11/site-packages/sklearn/model_selection/_validation.py:73: FutureWarning: `fit_params` is deprecated and will be removed in version 1.6. Pass parameters via `params` instead.\n",
      "  warnings.warn(\n",
      " 22%|██▏       | 22/100 [00:10<00:34,  2.28it/s]/Users/kevinfry/opt/anaconda3/envs/spe/lib/python3.11/site-packages/sklearn/model_selection/_validation.py:73: FutureWarning: `fit_params` is deprecated and will be removed in version 1.6. Pass parameters via `params` instead.\n",
      "  warnings.warn(\n",
      "/Users/kevinfry/opt/anaconda3/envs/spe/lib/python3.11/site-packages/sklearn/model_selection/_validation.py:73: FutureWarning: `fit_params` is deprecated and will be removed in version 1.6. Pass parameters via `params` instead.\n",
      "  warnings.warn(\n",
      " 23%|██▎       | 23/100 [00:10<00:30,  2.52it/s]/Users/kevinfry/opt/anaconda3/envs/spe/lib/python3.11/site-packages/sklearn/model_selection/_validation.py:73: FutureWarning: `fit_params` is deprecated and will be removed in version 1.6. Pass parameters via `params` instead.\n",
      "  warnings.warn(\n",
      "/Users/kevinfry/opt/anaconda3/envs/spe/lib/python3.11/site-packages/sklearn/model_selection/_validation.py:73: FutureWarning: `fit_params` is deprecated and will be removed in version 1.6. Pass parameters via `params` instead.\n",
      "  warnings.warn(\n",
      " 24%|██▍       | 24/100 [00:11<00:29,  2.58it/s]/Users/kevinfry/opt/anaconda3/envs/spe/lib/python3.11/site-packages/sklearn/model_selection/_validation.py:73: FutureWarning: `fit_params` is deprecated and will be removed in version 1.6. Pass parameters via `params` instead.\n",
      "  warnings.warn(\n",
      "/Users/kevinfry/opt/anaconda3/envs/spe/lib/python3.11/site-packages/sklearn/model_selection/_validation.py:73: FutureWarning: `fit_params` is deprecated and will be removed in version 1.6. Pass parameters via `params` instead.\n",
      "  warnings.warn(\n",
      " 25%|██▌       | 25/100 [00:11<00:28,  2.66it/s]/Users/kevinfry/opt/anaconda3/envs/spe/lib/python3.11/site-packages/sklearn/model_selection/_validation.py:73: FutureWarning: `fit_params` is deprecated and will be removed in version 1.6. Pass parameters via `params` instead.\n",
      "  warnings.warn(\n",
      "/Users/kevinfry/opt/anaconda3/envs/spe/lib/python3.11/site-packages/sklearn/model_selection/_validation.py:73: FutureWarning: `fit_params` is deprecated and will be removed in version 1.6. Pass parameters via `params` instead.\n",
      "  warnings.warn(\n",
      " 26%|██▌       | 26/100 [00:11<00:28,  2.58it/s]/Users/kevinfry/opt/anaconda3/envs/spe/lib/python3.11/site-packages/sklearn/model_selection/_validation.py:73: FutureWarning: `fit_params` is deprecated and will be removed in version 1.6. Pass parameters via `params` instead.\n",
      "  warnings.warn(\n",
      "/Users/kevinfry/opt/anaconda3/envs/spe/lib/python3.11/site-packages/sklearn/model_selection/_validation.py:73: FutureWarning: `fit_params` is deprecated and will be removed in version 1.6. Pass parameters via `params` instead.\n",
      "  warnings.warn(\n",
      " 27%|██▋       | 27/100 [00:12<00:32,  2.28it/s]/Users/kevinfry/opt/anaconda3/envs/spe/lib/python3.11/site-packages/sklearn/model_selection/_validation.py:73: FutureWarning: `fit_params` is deprecated and will be removed in version 1.6. Pass parameters via `params` instead.\n",
      "  warnings.warn(\n",
      "/Users/kevinfry/opt/anaconda3/envs/spe/lib/python3.11/site-packages/sklearn/model_selection/_validation.py:73: FutureWarning: `fit_params` is deprecated and will be removed in version 1.6. Pass parameters via `params` instead.\n",
      "  warnings.warn(\n",
      " 28%|██▊       | 28/100 [00:13<00:34,  2.11it/s]/Users/kevinfry/opt/anaconda3/envs/spe/lib/python3.11/site-packages/sklearn/model_selection/_validation.py:73: FutureWarning: `fit_params` is deprecated and will be removed in version 1.6. Pass parameters via `params` instead.\n",
      "  warnings.warn(\n",
      "/Users/kevinfry/opt/anaconda3/envs/spe/lib/python3.11/site-packages/sklearn/model_selection/_validation.py:73: FutureWarning: `fit_params` is deprecated and will be removed in version 1.6. Pass parameters via `params` instead.\n",
      "  warnings.warn(\n",
      " 29%|██▉       | 29/100 [00:13<00:34,  2.06it/s]/Users/kevinfry/opt/anaconda3/envs/spe/lib/python3.11/site-packages/sklearn/model_selection/_validation.py:73: FutureWarning: `fit_params` is deprecated and will be removed in version 1.6. Pass parameters via `params` instead.\n",
      "  warnings.warn(\n",
      "/Users/kevinfry/opt/anaconda3/envs/spe/lib/python3.11/site-packages/sklearn/model_selection/_validation.py:73: FutureWarning: `fit_params` is deprecated and will be removed in version 1.6. Pass parameters via `params` instead.\n",
      "  warnings.warn(\n",
      " 30%|███       | 30/100 [00:14<00:35,  1.99it/s]/Users/kevinfry/opt/anaconda3/envs/spe/lib/python3.11/site-packages/sklearn/model_selection/_validation.py:73: FutureWarning: `fit_params` is deprecated and will be removed in version 1.6. Pass parameters via `params` instead.\n",
      "  warnings.warn(\n",
      "/Users/kevinfry/opt/anaconda3/envs/spe/lib/python3.11/site-packages/sklearn/model_selection/_validation.py:73: FutureWarning: `fit_params` is deprecated and will be removed in version 1.6. Pass parameters via `params` instead.\n",
      "  warnings.warn(\n",
      " 31%|███       | 31/100 [00:14<00:33,  2.06it/s]/Users/kevinfry/opt/anaconda3/envs/spe/lib/python3.11/site-packages/sklearn/model_selection/_validation.py:73: FutureWarning: `fit_params` is deprecated and will be removed in version 1.6. Pass parameters via `params` instead.\n",
      "  warnings.warn(\n",
      "/Users/kevinfry/opt/anaconda3/envs/spe/lib/python3.11/site-packages/sklearn/model_selection/_validation.py:73: FutureWarning: `fit_params` is deprecated and will be removed in version 1.6. Pass parameters via `params` instead.\n",
      "  warnings.warn(\n",
      " 32%|███▏      | 32/100 [00:14<00:30,  2.21it/s]/Users/kevinfry/opt/anaconda3/envs/spe/lib/python3.11/site-packages/sklearn/model_selection/_validation.py:73: FutureWarning: `fit_params` is deprecated and will be removed in version 1.6. Pass parameters via `params` instead.\n",
      "  warnings.warn(\n",
      "/Users/kevinfry/opt/anaconda3/envs/spe/lib/python3.11/site-packages/sklearn/model_selection/_validation.py:73: FutureWarning: `fit_params` is deprecated and will be removed in version 1.6. Pass parameters via `params` instead.\n",
      "  warnings.warn(\n",
      " 33%|███▎      | 33/100 [00:15<00:32,  2.05it/s]/Users/kevinfry/opt/anaconda3/envs/spe/lib/python3.11/site-packages/sklearn/model_selection/_validation.py:73: FutureWarning: `fit_params` is deprecated and will be removed in version 1.6. Pass parameters via `params` instead.\n",
      "  warnings.warn(\n",
      "/Users/kevinfry/opt/anaconda3/envs/spe/lib/python3.11/site-packages/sklearn/model_selection/_validation.py:73: FutureWarning: `fit_params` is deprecated and will be removed in version 1.6. Pass parameters via `params` instead.\n",
      "  warnings.warn(\n",
      " 34%|███▍      | 34/100 [00:15<00:30,  2.17it/s]/Users/kevinfry/opt/anaconda3/envs/spe/lib/python3.11/site-packages/sklearn/model_selection/_validation.py:73: FutureWarning: `fit_params` is deprecated and will be removed in version 1.6. Pass parameters via `params` instead.\n",
      "  warnings.warn(\n",
      "/Users/kevinfry/opt/anaconda3/envs/spe/lib/python3.11/site-packages/sklearn/model_selection/_validation.py:73: FutureWarning: `fit_params` is deprecated and will be removed in version 1.6. Pass parameters via `params` instead.\n",
      "  warnings.warn(\n",
      " 35%|███▌      | 35/100 [00:16<00:29,  2.19it/s]/Users/kevinfry/opt/anaconda3/envs/spe/lib/python3.11/site-packages/sklearn/model_selection/_validation.py:73: FutureWarning: `fit_params` is deprecated and will be removed in version 1.6. Pass parameters via `params` instead.\n",
      "  warnings.warn(\n",
      "/Users/kevinfry/opt/anaconda3/envs/spe/lib/python3.11/site-packages/sklearn/model_selection/_validation.py:73: FutureWarning: `fit_params` is deprecated and will be removed in version 1.6. Pass parameters via `params` instead.\n",
      "  warnings.warn(\n",
      " 36%|███▌      | 36/100 [00:16<00:29,  2.21it/s]/Users/kevinfry/opt/anaconda3/envs/spe/lib/python3.11/site-packages/sklearn/model_selection/_validation.py:73: FutureWarning: `fit_params` is deprecated and will be removed in version 1.6. Pass parameters via `params` instead.\n",
      "  warnings.warn(\n",
      "/Users/kevinfry/opt/anaconda3/envs/spe/lib/python3.11/site-packages/sklearn/model_selection/_validation.py:73: FutureWarning: `fit_params` is deprecated and will be removed in version 1.6. Pass parameters via `params` instead.\n",
      "  warnings.warn(\n",
      " 37%|███▋      | 37/100 [00:17<00:32,  1.92it/s]/Users/kevinfry/opt/anaconda3/envs/spe/lib/python3.11/site-packages/sklearn/model_selection/_validation.py:73: FutureWarning: `fit_params` is deprecated and will be removed in version 1.6. Pass parameters via `params` instead.\n",
      "  warnings.warn(\n",
      "/Users/kevinfry/opt/anaconda3/envs/spe/lib/python3.11/site-packages/sklearn/model_selection/_validation.py:73: FutureWarning: `fit_params` is deprecated and will be removed in version 1.6. Pass parameters via `params` instead.\n",
      "  warnings.warn(\n",
      " 38%|███▊      | 38/100 [00:17<00:32,  1.94it/s]/Users/kevinfry/opt/anaconda3/envs/spe/lib/python3.11/site-packages/sklearn/model_selection/_validation.py:73: FutureWarning: `fit_params` is deprecated and will be removed in version 1.6. Pass parameters via `params` instead.\n",
      "  warnings.warn(\n",
      "/Users/kevinfry/opt/anaconda3/envs/spe/lib/python3.11/site-packages/sklearn/model_selection/_validation.py:73: FutureWarning: `fit_params` is deprecated and will be removed in version 1.6. Pass parameters via `params` instead.\n",
      "  warnings.warn(\n",
      " 39%|███▉      | 39/100 [00:18<00:30,  2.00it/s]/Users/kevinfry/opt/anaconda3/envs/spe/lib/python3.11/site-packages/sklearn/model_selection/_validation.py:73: FutureWarning: `fit_params` is deprecated and will be removed in version 1.6. Pass parameters via `params` instead.\n",
      "  warnings.warn(\n",
      "/Users/kevinfry/opt/anaconda3/envs/spe/lib/python3.11/site-packages/sklearn/model_selection/_validation.py:73: FutureWarning: `fit_params` is deprecated and will be removed in version 1.6. Pass parameters via `params` instead.\n",
      "  warnings.warn(\n",
      " 40%|████      | 40/100 [00:18<00:29,  2.07it/s]/Users/kevinfry/opt/anaconda3/envs/spe/lib/python3.11/site-packages/sklearn/model_selection/_validation.py:73: FutureWarning: `fit_params` is deprecated and will be removed in version 1.6. Pass parameters via `params` instead.\n",
      "  warnings.warn(\n",
      "/Users/kevinfry/opt/anaconda3/envs/spe/lib/python3.11/site-packages/sklearn/model_selection/_validation.py:73: FutureWarning: `fit_params` is deprecated and will be removed in version 1.6. Pass parameters via `params` instead.\n",
      "  warnings.warn(\n",
      " 41%|████      | 41/100 [00:19<00:27,  2.17it/s]/Users/kevinfry/opt/anaconda3/envs/spe/lib/python3.11/site-packages/sklearn/model_selection/_validation.py:73: FutureWarning: `fit_params` is deprecated and will be removed in version 1.6. Pass parameters via `params` instead.\n",
      "  warnings.warn(\n",
      "/Users/kevinfry/opt/anaconda3/envs/spe/lib/python3.11/site-packages/sklearn/model_selection/_validation.py:73: FutureWarning: `fit_params` is deprecated and will be removed in version 1.6. Pass parameters via `params` instead.\n",
      "  warnings.warn(\n",
      " 42%|████▏     | 42/100 [00:19<00:24,  2.33it/s]/Users/kevinfry/opt/anaconda3/envs/spe/lib/python3.11/site-packages/sklearn/model_selection/_validation.py:73: FutureWarning: `fit_params` is deprecated and will be removed in version 1.6. Pass parameters via `params` instead.\n",
      "  warnings.warn(\n",
      "/Users/kevinfry/opt/anaconda3/envs/spe/lib/python3.11/site-packages/sklearn/model_selection/_validation.py:73: FutureWarning: `fit_params` is deprecated and will be removed in version 1.6. Pass parameters via `params` instead.\n",
      "  warnings.warn(\n",
      " 43%|████▎     | 43/100 [00:20<00:24,  2.36it/s]/Users/kevinfry/opt/anaconda3/envs/spe/lib/python3.11/site-packages/sklearn/model_selection/_validation.py:73: FutureWarning: `fit_params` is deprecated and will be removed in version 1.6. Pass parameters via `params` instead.\n",
      "  warnings.warn(\n",
      "/Users/kevinfry/opt/anaconda3/envs/spe/lib/python3.11/site-packages/sklearn/model_selection/_validation.py:73: FutureWarning: `fit_params` is deprecated and will be removed in version 1.6. Pass parameters via `params` instead.\n",
      "  warnings.warn(\n",
      " 44%|████▍     | 44/100 [00:20<00:23,  2.39it/s]/Users/kevinfry/opt/anaconda3/envs/spe/lib/python3.11/site-packages/sklearn/model_selection/_validation.py:73: FutureWarning: `fit_params` is deprecated and will be removed in version 1.6. Pass parameters via `params` instead.\n",
      "  warnings.warn(\n",
      "/Users/kevinfry/opt/anaconda3/envs/spe/lib/python3.11/site-packages/sklearn/model_selection/_validation.py:73: FutureWarning: `fit_params` is deprecated and will be removed in version 1.6. Pass parameters via `params` instead.\n",
      "  warnings.warn(\n",
      " 45%|████▌     | 45/100 [00:20<00:22,  2.48it/s]/Users/kevinfry/opt/anaconda3/envs/spe/lib/python3.11/site-packages/sklearn/model_selection/_validation.py:73: FutureWarning: `fit_params` is deprecated and will be removed in version 1.6. Pass parameters via `params` instead.\n",
      "  warnings.warn(\n",
      "/Users/kevinfry/opt/anaconda3/envs/spe/lib/python3.11/site-packages/sklearn/model_selection/_validation.py:73: FutureWarning: `fit_params` is deprecated and will be removed in version 1.6. Pass parameters via `params` instead.\n",
      "  warnings.warn(\n",
      " 46%|████▌     | 46/100 [00:21<00:21,  2.47it/s]/Users/kevinfry/opt/anaconda3/envs/spe/lib/python3.11/site-packages/sklearn/model_selection/_validation.py:73: FutureWarning: `fit_params` is deprecated and will be removed in version 1.6. Pass parameters via `params` instead.\n",
      "  warnings.warn(\n",
      "/Users/kevinfry/opt/anaconda3/envs/spe/lib/python3.11/site-packages/sklearn/model_selection/_validation.py:73: FutureWarning: `fit_params` is deprecated and will be removed in version 1.6. Pass parameters via `params` instead.\n",
      "  warnings.warn(\n",
      " 47%|████▋     | 47/100 [00:21<00:22,  2.38it/s]/Users/kevinfry/opt/anaconda3/envs/spe/lib/python3.11/site-packages/sklearn/model_selection/_validation.py:73: FutureWarning: `fit_params` is deprecated and will be removed in version 1.6. Pass parameters via `params` instead.\n",
      "  warnings.warn(\n",
      "/Users/kevinfry/opt/anaconda3/envs/spe/lib/python3.11/site-packages/sklearn/model_selection/_validation.py:73: FutureWarning: `fit_params` is deprecated and will be removed in version 1.6. Pass parameters via `params` instead.\n",
      "  warnings.warn(\n",
      " 48%|████▊     | 48/100 [00:21<00:20,  2.57it/s]/Users/kevinfry/opt/anaconda3/envs/spe/lib/python3.11/site-packages/sklearn/model_selection/_validation.py:73: FutureWarning: `fit_params` is deprecated and will be removed in version 1.6. Pass parameters via `params` instead.\n",
      "  warnings.warn(\n",
      "/Users/kevinfry/opt/anaconda3/envs/spe/lib/python3.11/site-packages/sklearn/model_selection/_validation.py:73: FutureWarning: `fit_params` is deprecated and will be removed in version 1.6. Pass parameters via `params` instead.\n",
      "  warnings.warn(\n",
      " 49%|████▉     | 49/100 [00:22<00:19,  2.60it/s]/Users/kevinfry/opt/anaconda3/envs/spe/lib/python3.11/site-packages/sklearn/model_selection/_validation.py:73: FutureWarning: `fit_params` is deprecated and will be removed in version 1.6. Pass parameters via `params` instead.\n",
      "  warnings.warn(\n",
      "/Users/kevinfry/opt/anaconda3/envs/spe/lib/python3.11/site-packages/sklearn/model_selection/_validation.py:73: FutureWarning: `fit_params` is deprecated and will be removed in version 1.6. Pass parameters via `params` instead.\n",
      "  warnings.warn(\n",
      " 50%|█████     | 50/100 [00:22<00:18,  2.67it/s]/Users/kevinfry/opt/anaconda3/envs/spe/lib/python3.11/site-packages/sklearn/model_selection/_validation.py:73: FutureWarning: `fit_params` is deprecated and will be removed in version 1.6. Pass parameters via `params` instead.\n",
      "  warnings.warn(\n",
      "/Users/kevinfry/opt/anaconda3/envs/spe/lib/python3.11/site-packages/sklearn/model_selection/_validation.py:73: FutureWarning: `fit_params` is deprecated and will be removed in version 1.6. Pass parameters via `params` instead.\n",
      "  warnings.warn(\n",
      " 51%|█████     | 51/100 [00:23<00:20,  2.45it/s]/Users/kevinfry/opt/anaconda3/envs/spe/lib/python3.11/site-packages/sklearn/model_selection/_validation.py:73: FutureWarning: `fit_params` is deprecated and will be removed in version 1.6. Pass parameters via `params` instead.\n",
      "  warnings.warn(\n",
      "/Users/kevinfry/opt/anaconda3/envs/spe/lib/python3.11/site-packages/sklearn/model_selection/_validation.py:73: FutureWarning: `fit_params` is deprecated and will be removed in version 1.6. Pass parameters via `params` instead.\n",
      "  warnings.warn(\n",
      " 52%|█████▏    | 52/100 [00:23<00:19,  2.48it/s]/Users/kevinfry/opt/anaconda3/envs/spe/lib/python3.11/site-packages/sklearn/model_selection/_validation.py:73: FutureWarning: `fit_params` is deprecated and will be removed in version 1.6. Pass parameters via `params` instead.\n",
      "  warnings.warn(\n",
      "/Users/kevinfry/opt/anaconda3/envs/spe/lib/python3.11/site-packages/sklearn/model_selection/_validation.py:73: FutureWarning: `fit_params` is deprecated and will be removed in version 1.6. Pass parameters via `params` instead.\n",
      "  warnings.warn(\n",
      " 53%|█████▎    | 53/100 [00:23<00:18,  2.52it/s]/Users/kevinfry/opt/anaconda3/envs/spe/lib/python3.11/site-packages/sklearn/model_selection/_validation.py:73: FutureWarning: `fit_params` is deprecated and will be removed in version 1.6. Pass parameters via `params` instead.\n",
      "  warnings.warn(\n",
      "/Users/kevinfry/opt/anaconda3/envs/spe/lib/python3.11/site-packages/sklearn/model_selection/_validation.py:73: FutureWarning: `fit_params` is deprecated and will be removed in version 1.6. Pass parameters via `params` instead.\n",
      "  warnings.warn(\n",
      " 54%|█████▍    | 54/100 [00:24<00:17,  2.67it/s]/Users/kevinfry/opt/anaconda3/envs/spe/lib/python3.11/site-packages/sklearn/model_selection/_validation.py:73: FutureWarning: `fit_params` is deprecated and will be removed in version 1.6. Pass parameters via `params` instead.\n",
      "  warnings.warn(\n",
      "/Users/kevinfry/opt/anaconda3/envs/spe/lib/python3.11/site-packages/sklearn/model_selection/_validation.py:73: FutureWarning: `fit_params` is deprecated and will be removed in version 1.6. Pass parameters via `params` instead.\n",
      "  warnings.warn(\n",
      " 55%|█████▌    | 55/100 [00:24<00:21,  2.11it/s]/Users/kevinfry/opt/anaconda3/envs/spe/lib/python3.11/site-packages/sklearn/model_selection/_validation.py:73: FutureWarning: `fit_params` is deprecated and will be removed in version 1.6. Pass parameters via `params` instead.\n",
      "  warnings.warn(\n",
      "/Users/kevinfry/opt/anaconda3/envs/spe/lib/python3.11/site-packages/sklearn/model_selection/_validation.py:73: FutureWarning: `fit_params` is deprecated and will be removed in version 1.6. Pass parameters via `params` instead.\n",
      "  warnings.warn(\n",
      " 56%|█████▌    | 56/100 [00:25<00:21,  2.04it/s]/Users/kevinfry/opt/anaconda3/envs/spe/lib/python3.11/site-packages/sklearn/model_selection/_validation.py:73: FutureWarning: `fit_params` is deprecated and will be removed in version 1.6. Pass parameters via `params` instead.\n",
      "  warnings.warn(\n",
      "/Users/kevinfry/opt/anaconda3/envs/spe/lib/python3.11/site-packages/sklearn/model_selection/_validation.py:73: FutureWarning: `fit_params` is deprecated and will be removed in version 1.6. Pass parameters via `params` instead.\n",
      "  warnings.warn(\n",
      " 57%|█████▋    | 57/100 [00:26<00:23,  1.82it/s]/Users/kevinfry/opt/anaconda3/envs/spe/lib/python3.11/site-packages/sklearn/model_selection/_validation.py:73: FutureWarning: `fit_params` is deprecated and will be removed in version 1.6. Pass parameters via `params` instead.\n",
      "  warnings.warn(\n",
      "/Users/kevinfry/opt/anaconda3/envs/spe/lib/python3.11/site-packages/sklearn/model_selection/_validation.py:73: FutureWarning: `fit_params` is deprecated and will be removed in version 1.6. Pass parameters via `params` instead.\n",
      "  warnings.warn(\n",
      " 58%|█████▊    | 58/100 [00:26<00:21,  1.91it/s]/Users/kevinfry/opt/anaconda3/envs/spe/lib/python3.11/site-packages/sklearn/model_selection/_validation.py:73: FutureWarning: `fit_params` is deprecated and will be removed in version 1.6. Pass parameters via `params` instead.\n",
      "  warnings.warn(\n",
      "/Users/kevinfry/opt/anaconda3/envs/spe/lib/python3.11/site-packages/sklearn/model_selection/_validation.py:73: FutureWarning: `fit_params` is deprecated and will be removed in version 1.6. Pass parameters via `params` instead.\n",
      "  warnings.warn(\n",
      " 59%|█████▉    | 59/100 [00:27<00:19,  2.06it/s]/Users/kevinfry/opt/anaconda3/envs/spe/lib/python3.11/site-packages/sklearn/model_selection/_validation.py:73: FutureWarning: `fit_params` is deprecated and will be removed in version 1.6. Pass parameters via `params` instead.\n",
      "  warnings.warn(\n",
      "/Users/kevinfry/opt/anaconda3/envs/spe/lib/python3.11/site-packages/sklearn/model_selection/_validation.py:73: FutureWarning: `fit_params` is deprecated and will be removed in version 1.6. Pass parameters via `params` instead.\n",
      "  warnings.warn(\n",
      " 60%|██████    | 60/100 [00:27<00:17,  2.26it/s]/Users/kevinfry/opt/anaconda3/envs/spe/lib/python3.11/site-packages/sklearn/model_selection/_validation.py:73: FutureWarning: `fit_params` is deprecated and will be removed in version 1.6. Pass parameters via `params` instead.\n",
      "  warnings.warn(\n",
      "/Users/kevinfry/opt/anaconda3/envs/spe/lib/python3.11/site-packages/sklearn/model_selection/_validation.py:73: FutureWarning: `fit_params` is deprecated and will be removed in version 1.6. Pass parameters via `params` instead.\n",
      "  warnings.warn(\n",
      " 61%|██████    | 61/100 [00:27<00:16,  2.38it/s]/Users/kevinfry/opt/anaconda3/envs/spe/lib/python3.11/site-packages/sklearn/model_selection/_validation.py:73: FutureWarning: `fit_params` is deprecated and will be removed in version 1.6. Pass parameters via `params` instead.\n",
      "  warnings.warn(\n",
      "/Users/kevinfry/opt/anaconda3/envs/spe/lib/python3.11/site-packages/sklearn/model_selection/_validation.py:73: FutureWarning: `fit_params` is deprecated and will be removed in version 1.6. Pass parameters via `params` instead.\n",
      "  warnings.warn(\n",
      " 62%|██████▏   | 62/100 [00:28<00:15,  2.47it/s]/Users/kevinfry/opt/anaconda3/envs/spe/lib/python3.11/site-packages/sklearn/model_selection/_validation.py:73: FutureWarning: `fit_params` is deprecated and will be removed in version 1.6. Pass parameters via `params` instead.\n",
      "  warnings.warn(\n",
      "/Users/kevinfry/opt/anaconda3/envs/spe/lib/python3.11/site-packages/sklearn/model_selection/_validation.py:73: FutureWarning: `fit_params` is deprecated and will be removed in version 1.6. Pass parameters via `params` instead.\n",
      "  warnings.warn(\n",
      " 63%|██████▎   | 63/100 [00:28<00:14,  2.61it/s]/Users/kevinfry/opt/anaconda3/envs/spe/lib/python3.11/site-packages/sklearn/model_selection/_validation.py:73: FutureWarning: `fit_params` is deprecated and will be removed in version 1.6. Pass parameters via `params` instead.\n",
      "  warnings.warn(\n",
      "/Users/kevinfry/opt/anaconda3/envs/spe/lib/python3.11/site-packages/sklearn/model_selection/_validation.py:73: FutureWarning: `fit_params` is deprecated and will be removed in version 1.6. Pass parameters via `params` instead.\n",
      "  warnings.warn(\n",
      " 64%|██████▍   | 64/100 [00:29<00:17,  2.02it/s]/Users/kevinfry/opt/anaconda3/envs/spe/lib/python3.11/site-packages/sklearn/model_selection/_validation.py:73: FutureWarning: `fit_params` is deprecated and will be removed in version 1.6. Pass parameters via `params` instead.\n",
      "  warnings.warn(\n",
      "/Users/kevinfry/opt/anaconda3/envs/spe/lib/python3.11/site-packages/sklearn/model_selection/_validation.py:73: FutureWarning: `fit_params` is deprecated and will be removed in version 1.6. Pass parameters via `params` instead.\n",
      "  warnings.warn(\n",
      " 65%|██████▌   | 65/100 [00:30<00:21,  1.61it/s]/Users/kevinfry/opt/anaconda3/envs/spe/lib/python3.11/site-packages/sklearn/model_selection/_validation.py:73: FutureWarning: `fit_params` is deprecated and will be removed in version 1.6. Pass parameters via `params` instead.\n",
      "  warnings.warn(\n",
      "/Users/kevinfry/opt/anaconda3/envs/spe/lib/python3.11/site-packages/sklearn/model_selection/_validation.py:73: FutureWarning: `fit_params` is deprecated and will be removed in version 1.6. Pass parameters via `params` instead.\n",
      "  warnings.warn(\n",
      " 66%|██████▌   | 66/100 [00:30<00:20,  1.69it/s]/Users/kevinfry/opt/anaconda3/envs/spe/lib/python3.11/site-packages/sklearn/model_selection/_validation.py:73: FutureWarning: `fit_params` is deprecated and will be removed in version 1.6. Pass parameters via `params` instead.\n",
      "  warnings.warn(\n",
      "/Users/kevinfry/opt/anaconda3/envs/spe/lib/python3.11/site-packages/sklearn/model_selection/_validation.py:73: FutureWarning: `fit_params` is deprecated and will be removed in version 1.6. Pass parameters via `params` instead.\n",
      "  warnings.warn(\n",
      " 67%|██████▋   | 67/100 [00:31<00:21,  1.51it/s]/Users/kevinfry/opt/anaconda3/envs/spe/lib/python3.11/site-packages/sklearn/model_selection/_validation.py:73: FutureWarning: `fit_params` is deprecated and will be removed in version 1.6. Pass parameters via `params` instead.\n",
      "  warnings.warn(\n",
      "/Users/kevinfry/opt/anaconda3/envs/spe/lib/python3.11/site-packages/sklearn/model_selection/_validation.py:73: FutureWarning: `fit_params` is deprecated and will be removed in version 1.6. Pass parameters via `params` instead.\n",
      "  warnings.warn(\n",
      " 68%|██████▊   | 68/100 [00:32<00:19,  1.61it/s]/Users/kevinfry/opt/anaconda3/envs/spe/lib/python3.11/site-packages/sklearn/model_selection/_validation.py:73: FutureWarning: `fit_params` is deprecated and will be removed in version 1.6. Pass parameters via `params` instead.\n",
      "  warnings.warn(\n",
      "/Users/kevinfry/opt/anaconda3/envs/spe/lib/python3.11/site-packages/sklearn/model_selection/_validation.py:73: FutureWarning: `fit_params` is deprecated and will be removed in version 1.6. Pass parameters via `params` instead.\n",
      "  warnings.warn(\n",
      " 69%|██████▉   | 69/100 [00:32<00:17,  1.77it/s]/Users/kevinfry/opt/anaconda3/envs/spe/lib/python3.11/site-packages/sklearn/model_selection/_validation.py:73: FutureWarning: `fit_params` is deprecated and will be removed in version 1.6. Pass parameters via `params` instead.\n",
      "  warnings.warn(\n",
      "/Users/kevinfry/opt/anaconda3/envs/spe/lib/python3.11/site-packages/sklearn/model_selection/_validation.py:73: FutureWarning: `fit_params` is deprecated and will be removed in version 1.6. Pass parameters via `params` instead.\n",
      "  warnings.warn(\n",
      " 70%|███████   | 70/100 [00:32<00:16,  1.81it/s]/Users/kevinfry/opt/anaconda3/envs/spe/lib/python3.11/site-packages/sklearn/model_selection/_validation.py:73: FutureWarning: `fit_params` is deprecated and will be removed in version 1.6. Pass parameters via `params` instead.\n",
      "  warnings.warn(\n",
      "/Users/kevinfry/opt/anaconda3/envs/spe/lib/python3.11/site-packages/sklearn/model_selection/_validation.py:73: FutureWarning: `fit_params` is deprecated and will be removed in version 1.6. Pass parameters via `params` instead.\n",
      "  warnings.warn(\n",
      " 71%|███████   | 71/100 [00:33<00:15,  1.82it/s]/Users/kevinfry/opt/anaconda3/envs/spe/lib/python3.11/site-packages/sklearn/model_selection/_validation.py:73: FutureWarning: `fit_params` is deprecated and will be removed in version 1.6. Pass parameters via `params` instead.\n",
      "  warnings.warn(\n",
      "/Users/kevinfry/opt/anaconda3/envs/spe/lib/python3.11/site-packages/sklearn/model_selection/_validation.py:73: FutureWarning: `fit_params` is deprecated and will be removed in version 1.6. Pass parameters via `params` instead.\n",
      "  warnings.warn(\n",
      " 72%|███████▏  | 72/100 [00:33<00:13,  2.01it/s]/Users/kevinfry/opt/anaconda3/envs/spe/lib/python3.11/site-packages/sklearn/model_selection/_validation.py:73: FutureWarning: `fit_params` is deprecated and will be removed in version 1.6. Pass parameters via `params` instead.\n",
      "  warnings.warn(\n",
      "/Users/kevinfry/opt/anaconda3/envs/spe/lib/python3.11/site-packages/sklearn/model_selection/_validation.py:73: FutureWarning: `fit_params` is deprecated and will be removed in version 1.6. Pass parameters via `params` instead.\n",
      "  warnings.warn(\n",
      " 73%|███████▎  | 73/100 [00:34<00:15,  1.71it/s]/Users/kevinfry/opt/anaconda3/envs/spe/lib/python3.11/site-packages/sklearn/model_selection/_validation.py:73: FutureWarning: `fit_params` is deprecated and will be removed in version 1.6. Pass parameters via `params` instead.\n",
      "  warnings.warn(\n",
      "/Users/kevinfry/opt/anaconda3/envs/spe/lib/python3.11/site-packages/sklearn/model_selection/_validation.py:73: FutureWarning: `fit_params` is deprecated and will be removed in version 1.6. Pass parameters via `params` instead.\n",
      "  warnings.warn(\n",
      " 74%|███████▍  | 74/100 [00:35<00:13,  1.89it/s]/Users/kevinfry/opt/anaconda3/envs/spe/lib/python3.11/site-packages/sklearn/model_selection/_validation.py:73: FutureWarning: `fit_params` is deprecated and will be removed in version 1.6. Pass parameters via `params` instead.\n",
      "  warnings.warn(\n",
      "/Users/kevinfry/opt/anaconda3/envs/spe/lib/python3.11/site-packages/sklearn/model_selection/_validation.py:73: FutureWarning: `fit_params` is deprecated and will be removed in version 1.6. Pass parameters via `params` instead.\n",
      "  warnings.warn(\n",
      " 75%|███████▌  | 75/100 [00:35<00:13,  1.84it/s]/Users/kevinfry/opt/anaconda3/envs/spe/lib/python3.11/site-packages/sklearn/model_selection/_validation.py:73: FutureWarning: `fit_params` is deprecated and will be removed in version 1.6. Pass parameters via `params` instead.\n",
      "  warnings.warn(\n",
      "/Users/kevinfry/opt/anaconda3/envs/spe/lib/python3.11/site-packages/sklearn/model_selection/_validation.py:73: FutureWarning: `fit_params` is deprecated and will be removed in version 1.6. Pass parameters via `params` instead.\n",
      "  warnings.warn(\n",
      " 76%|███████▌  | 76/100 [00:36<00:12,  1.92it/s]/Users/kevinfry/opt/anaconda3/envs/spe/lib/python3.11/site-packages/sklearn/model_selection/_validation.py:73: FutureWarning: `fit_params` is deprecated and will be removed in version 1.6. Pass parameters via `params` instead.\n",
      "  warnings.warn(\n",
      "/Users/kevinfry/opt/anaconda3/envs/spe/lib/python3.11/site-packages/sklearn/model_selection/_validation.py:73: FutureWarning: `fit_params` is deprecated and will be removed in version 1.6. Pass parameters via `params` instead.\n",
      "  warnings.warn(\n",
      " 77%|███████▋  | 77/100 [00:36<00:11,  2.05it/s]/Users/kevinfry/opt/anaconda3/envs/spe/lib/python3.11/site-packages/sklearn/model_selection/_validation.py:73: FutureWarning: `fit_params` is deprecated and will be removed in version 1.6. Pass parameters via `params` instead.\n",
      "  warnings.warn(\n",
      "/Users/kevinfry/opt/anaconda3/envs/spe/lib/python3.11/site-packages/sklearn/model_selection/_validation.py:73: FutureWarning: `fit_params` is deprecated and will be removed in version 1.6. Pass parameters via `params` instead.\n",
      "  warnings.warn(\n",
      " 78%|███████▊  | 78/100 [00:37<00:11,  1.90it/s]/Users/kevinfry/opt/anaconda3/envs/spe/lib/python3.11/site-packages/sklearn/model_selection/_validation.py:73: FutureWarning: `fit_params` is deprecated and will be removed in version 1.6. Pass parameters via `params` instead.\n",
      "  warnings.warn(\n",
      "/Users/kevinfry/opt/anaconda3/envs/spe/lib/python3.11/site-packages/sklearn/model_selection/_validation.py:73: FutureWarning: `fit_params` is deprecated and will be removed in version 1.6. Pass parameters via `params` instead.\n",
      "  warnings.warn(\n",
      " 79%|███████▉  | 79/100 [00:37<00:12,  1.68it/s]/Users/kevinfry/opt/anaconda3/envs/spe/lib/python3.11/site-packages/sklearn/model_selection/_validation.py:73: FutureWarning: `fit_params` is deprecated and will be removed in version 1.6. Pass parameters via `params` instead.\n",
      "  warnings.warn(\n",
      "/Users/kevinfry/opt/anaconda3/envs/spe/lib/python3.11/site-packages/sklearn/model_selection/_validation.py:73: FutureWarning: `fit_params` is deprecated and will be removed in version 1.6. Pass parameters via `params` instead.\n",
      "  warnings.warn(\n",
      " 80%|████████  | 80/100 [00:38<00:10,  1.88it/s]/Users/kevinfry/opt/anaconda3/envs/spe/lib/python3.11/site-packages/sklearn/model_selection/_validation.py:73: FutureWarning: `fit_params` is deprecated and will be removed in version 1.6. Pass parameters via `params` instead.\n",
      "  warnings.warn(\n",
      "/Users/kevinfry/opt/anaconda3/envs/spe/lib/python3.11/site-packages/sklearn/model_selection/_validation.py:73: FutureWarning: `fit_params` is deprecated and will be removed in version 1.6. Pass parameters via `params` instead.\n",
      "  warnings.warn(\n",
      " 81%|████████  | 81/100 [00:38<00:09,  2.01it/s]/Users/kevinfry/opt/anaconda3/envs/spe/lib/python3.11/site-packages/sklearn/model_selection/_validation.py:73: FutureWarning: `fit_params` is deprecated and will be removed in version 1.6. Pass parameters via `params` instead.\n",
      "  warnings.warn(\n",
      "/Users/kevinfry/opt/anaconda3/envs/spe/lib/python3.11/site-packages/sklearn/model_selection/_validation.py:73: FutureWarning: `fit_params` is deprecated and will be removed in version 1.6. Pass parameters via `params` instead.\n",
      "  warnings.warn(\n",
      " 82%|████████▏ | 82/100 [00:39<00:08,  2.22it/s]/Users/kevinfry/opt/anaconda3/envs/spe/lib/python3.11/site-packages/sklearn/model_selection/_validation.py:73: FutureWarning: `fit_params` is deprecated and will be removed in version 1.6. Pass parameters via `params` instead.\n",
      "  warnings.warn(\n",
      "/Users/kevinfry/opt/anaconda3/envs/spe/lib/python3.11/site-packages/sklearn/model_selection/_validation.py:73: FutureWarning: `fit_params` is deprecated and will be removed in version 1.6. Pass parameters via `params` instead.\n",
      "  warnings.warn(\n",
      " 83%|████████▎ | 83/100 [00:39<00:09,  1.88it/s]/Users/kevinfry/opt/anaconda3/envs/spe/lib/python3.11/site-packages/sklearn/model_selection/_validation.py:73: FutureWarning: `fit_params` is deprecated and will be removed in version 1.6. Pass parameters via `params` instead.\n",
      "  warnings.warn(\n",
      "/Users/kevinfry/opt/anaconda3/envs/spe/lib/python3.11/site-packages/sklearn/model_selection/_validation.py:73: FutureWarning: `fit_params` is deprecated and will be removed in version 1.6. Pass parameters via `params` instead.\n",
      "  warnings.warn(\n",
      " 84%|████████▍ | 84/100 [00:40<00:09,  1.65it/s]/Users/kevinfry/opt/anaconda3/envs/spe/lib/python3.11/site-packages/sklearn/model_selection/_validation.py:73: FutureWarning: `fit_params` is deprecated and will be removed in version 1.6. Pass parameters via `params` instead.\n",
      "  warnings.warn(\n",
      "/Users/kevinfry/opt/anaconda3/envs/spe/lib/python3.11/site-packages/sklearn/model_selection/_validation.py:73: FutureWarning: `fit_params` is deprecated and will be removed in version 1.6. Pass parameters via `params` instead.\n",
      "  warnings.warn(\n",
      " 85%|████████▌ | 85/100 [00:41<00:08,  1.76it/s]/Users/kevinfry/opt/anaconda3/envs/spe/lib/python3.11/site-packages/sklearn/model_selection/_validation.py:73: FutureWarning: `fit_params` is deprecated and will be removed in version 1.6. Pass parameters via `params` instead.\n",
      "  warnings.warn(\n",
      "/Users/kevinfry/opt/anaconda3/envs/spe/lib/python3.11/site-packages/sklearn/model_selection/_validation.py:73: FutureWarning: `fit_params` is deprecated and will be removed in version 1.6. Pass parameters via `params` instead.\n",
      "  warnings.warn(\n",
      " 86%|████████▌ | 86/100 [00:41<00:07,  1.97it/s]/Users/kevinfry/opt/anaconda3/envs/spe/lib/python3.11/site-packages/sklearn/model_selection/_validation.py:73: FutureWarning: `fit_params` is deprecated and will be removed in version 1.6. Pass parameters via `params` instead.\n",
      "  warnings.warn(\n",
      "/Users/kevinfry/opt/anaconda3/envs/spe/lib/python3.11/site-packages/sklearn/model_selection/_validation.py:73: FutureWarning: `fit_params` is deprecated and will be removed in version 1.6. Pass parameters via `params` instead.\n",
      "  warnings.warn(\n",
      " 87%|████████▋ | 87/100 [00:41<00:06,  1.91it/s]/Users/kevinfry/opt/anaconda3/envs/spe/lib/python3.11/site-packages/sklearn/model_selection/_validation.py:73: FutureWarning: `fit_params` is deprecated and will be removed in version 1.6. Pass parameters via `params` instead.\n",
      "  warnings.warn(\n",
      "/Users/kevinfry/opt/anaconda3/envs/spe/lib/python3.11/site-packages/sklearn/model_selection/_validation.py:73: FutureWarning: `fit_params` is deprecated and will be removed in version 1.6. Pass parameters via `params` instead.\n",
      "  warnings.warn(\n",
      " 88%|████████▊ | 88/100 [00:42<00:06,  1.93it/s]/Users/kevinfry/opt/anaconda3/envs/spe/lib/python3.11/site-packages/sklearn/model_selection/_validation.py:73: FutureWarning: `fit_params` is deprecated and will be removed in version 1.6. Pass parameters via `params` instead.\n",
      "  warnings.warn(\n",
      "/Users/kevinfry/opt/anaconda3/envs/spe/lib/python3.11/site-packages/sklearn/model_selection/_validation.py:73: FutureWarning: `fit_params` is deprecated and will be removed in version 1.6. Pass parameters via `params` instead.\n",
      "  warnings.warn(\n",
      " 89%|████████▉ | 89/100 [00:42<00:05,  1.94it/s]/Users/kevinfry/opt/anaconda3/envs/spe/lib/python3.11/site-packages/sklearn/model_selection/_validation.py:73: FutureWarning: `fit_params` is deprecated and will be removed in version 1.6. Pass parameters via `params` instead.\n",
      "  warnings.warn(\n",
      "/Users/kevinfry/opt/anaconda3/envs/spe/lib/python3.11/site-packages/sklearn/model_selection/_validation.py:73: FutureWarning: `fit_params` is deprecated and will be removed in version 1.6. Pass parameters via `params` instead.\n",
      "  warnings.warn(\n",
      " 90%|█████████ | 90/100 [00:43<00:04,  2.12it/s]/Users/kevinfry/opt/anaconda3/envs/spe/lib/python3.11/site-packages/sklearn/model_selection/_validation.py:73: FutureWarning: `fit_params` is deprecated and will be removed in version 1.6. Pass parameters via `params` instead.\n",
      "  warnings.warn(\n",
      "/Users/kevinfry/opt/anaconda3/envs/spe/lib/python3.11/site-packages/sklearn/model_selection/_validation.py:73: FutureWarning: `fit_params` is deprecated and will be removed in version 1.6. Pass parameters via `params` instead.\n",
      "  warnings.warn(\n",
      " 91%|█████████ | 91/100 [00:43<00:03,  2.26it/s]/Users/kevinfry/opt/anaconda3/envs/spe/lib/python3.11/site-packages/sklearn/model_selection/_validation.py:73: FutureWarning: `fit_params` is deprecated and will be removed in version 1.6. Pass parameters via `params` instead.\n",
      "  warnings.warn(\n",
      "/Users/kevinfry/opt/anaconda3/envs/spe/lib/python3.11/site-packages/sklearn/model_selection/_validation.py:73: FutureWarning: `fit_params` is deprecated and will be removed in version 1.6. Pass parameters via `params` instead.\n",
      "  warnings.warn(\n",
      " 92%|█████████▏| 92/100 [00:44<00:03,  2.01it/s]/Users/kevinfry/opt/anaconda3/envs/spe/lib/python3.11/site-packages/sklearn/model_selection/_validation.py:73: FutureWarning: `fit_params` is deprecated and will be removed in version 1.6. Pass parameters via `params` instead.\n",
      "  warnings.warn(\n",
      "/Users/kevinfry/opt/anaconda3/envs/spe/lib/python3.11/site-packages/sklearn/model_selection/_validation.py:73: FutureWarning: `fit_params` is deprecated and will be removed in version 1.6. Pass parameters via `params` instead.\n",
      "  warnings.warn(\n",
      " 93%|█████████▎| 93/100 [00:44<00:03,  1.93it/s]/Users/kevinfry/opt/anaconda3/envs/spe/lib/python3.11/site-packages/sklearn/model_selection/_validation.py:73: FutureWarning: `fit_params` is deprecated and will be removed in version 1.6. Pass parameters via `params` instead.\n",
      "  warnings.warn(\n",
      "/Users/kevinfry/opt/anaconda3/envs/spe/lib/python3.11/site-packages/sklearn/model_selection/_validation.py:73: FutureWarning: `fit_params` is deprecated and will be removed in version 1.6. Pass parameters via `params` instead.\n",
      "  warnings.warn(\n",
      " 94%|█████████▍| 94/100 [00:45<00:03,  1.95it/s]/Users/kevinfry/opt/anaconda3/envs/spe/lib/python3.11/site-packages/sklearn/model_selection/_validation.py:73: FutureWarning: `fit_params` is deprecated and will be removed in version 1.6. Pass parameters via `params` instead.\n",
      "  warnings.warn(\n",
      "/Users/kevinfry/opt/anaconda3/envs/spe/lib/python3.11/site-packages/sklearn/model_selection/_validation.py:73: FutureWarning: `fit_params` is deprecated and will be removed in version 1.6. Pass parameters via `params` instead.\n",
      "  warnings.warn(\n",
      " 95%|█████████▌| 95/100 [00:45<00:02,  2.09it/s]/Users/kevinfry/opt/anaconda3/envs/spe/lib/python3.11/site-packages/sklearn/model_selection/_validation.py:73: FutureWarning: `fit_params` is deprecated and will be removed in version 1.6. Pass parameters via `params` instead.\n",
      "  warnings.warn(\n",
      "/Users/kevinfry/opt/anaconda3/envs/spe/lib/python3.11/site-packages/sklearn/model_selection/_validation.py:73: FutureWarning: `fit_params` is deprecated and will be removed in version 1.6. Pass parameters via `params` instead.\n",
      "  warnings.warn(\n",
      " 96%|█████████▌| 96/100 [00:46<00:02,  1.94it/s]/Users/kevinfry/opt/anaconda3/envs/spe/lib/python3.11/site-packages/sklearn/model_selection/_validation.py:73: FutureWarning: `fit_params` is deprecated and will be removed in version 1.6. Pass parameters via `params` instead.\n",
      "  warnings.warn(\n",
      "/Users/kevinfry/opt/anaconda3/envs/spe/lib/python3.11/site-packages/sklearn/model_selection/_validation.py:73: FutureWarning: `fit_params` is deprecated and will be removed in version 1.6. Pass parameters via `params` instead.\n",
      "  warnings.warn(\n",
      " 97%|█████████▋| 97/100 [00:46<00:01,  1.92it/s]/Users/kevinfry/opt/anaconda3/envs/spe/lib/python3.11/site-packages/sklearn/model_selection/_validation.py:73: FutureWarning: `fit_params` is deprecated and will be removed in version 1.6. Pass parameters via `params` instead.\n",
      "  warnings.warn(\n",
      "/Users/kevinfry/opt/anaconda3/envs/spe/lib/python3.11/site-packages/sklearn/model_selection/_validation.py:73: FutureWarning: `fit_params` is deprecated and will be removed in version 1.6. Pass parameters via `params` instead.\n",
      "  warnings.warn(\n",
      " 98%|█████████▊| 98/100 [00:47<00:01,  1.78it/s]/Users/kevinfry/opt/anaconda3/envs/spe/lib/python3.11/site-packages/sklearn/model_selection/_validation.py:73: FutureWarning: `fit_params` is deprecated and will be removed in version 1.6. Pass parameters via `params` instead.\n",
      "  warnings.warn(\n",
      "/Users/kevinfry/opt/anaconda3/envs/spe/lib/python3.11/site-packages/sklearn/model_selection/_validation.py:73: FutureWarning: `fit_params` is deprecated and will be removed in version 1.6. Pass parameters via `params` instead.\n",
      "  warnings.warn(\n",
      " 99%|█████████▉| 99/100 [00:48<00:00,  1.69it/s]/Users/kevinfry/opt/anaconda3/envs/spe/lib/python3.11/site-packages/sklearn/model_selection/_validation.py:73: FutureWarning: `fit_params` is deprecated and will be removed in version 1.6. Pass parameters via `params` instead.\n",
      "  warnings.warn(\n",
      "/Users/kevinfry/opt/anaconda3/envs/spe/lib/python3.11/site-packages/sklearn/model_selection/_validation.py:73: FutureWarning: `fit_params` is deprecated and will be removed in version 1.6. Pass parameters via `params` instead.\n",
      "  warnings.warn(\n",
      "100%|██████████| 100/100 [00:49<00:00,  2.04it/s]\n",
      "  0%|          | 0/100 [00:00<?, ?it/s]/Users/kevinfry/opt/anaconda3/envs/spe/lib/python3.11/site-packages/sklearn/model_selection/_validation.py:73: FutureWarning: `fit_params` is deprecated and will be removed in version 1.6. Pass parameters via `params` instead.\n",
      "  warnings.warn(\n",
      "/Users/kevinfry/opt/anaconda3/envs/spe/lib/python3.11/site-packages/sklearn/model_selection/_validation.py:73: FutureWarning: `fit_params` is deprecated and will be removed in version 1.6. Pass parameters via `params` instead.\n",
      "  warnings.warn(\n",
      "  1%|          | 1/100 [00:12<20:24, 12.37s/it]/Users/kevinfry/opt/anaconda3/envs/spe/lib/python3.11/site-packages/sklearn/model_selection/_validation.py:73: FutureWarning: `fit_params` is deprecated and will be removed in version 1.6. Pass parameters via `params` instead.\n",
      "  warnings.warn(\n",
      "/Users/kevinfry/opt/anaconda3/envs/spe/lib/python3.11/site-packages/sklearn/model_selection/_validation.py:73: FutureWarning: `fit_params` is deprecated and will be removed in version 1.6. Pass parameters via `params` instead.\n",
      "  warnings.warn(\n",
      "  2%|▏         | 2/100 [00:41<36:08, 22.13s/it]/Users/kevinfry/opt/anaconda3/envs/spe/lib/python3.11/site-packages/sklearn/model_selection/_validation.py:73: FutureWarning: `fit_params` is deprecated and will be removed in version 1.6. Pass parameters via `params` instead.\n",
      "  warnings.warn(\n",
      "/Users/kevinfry/opt/anaconda3/envs/spe/lib/python3.11/site-packages/sklearn/model_selection/_validation.py:73: FutureWarning: `fit_params` is deprecated and will be removed in version 1.6. Pass parameters via `params` instead.\n",
      "  warnings.warn(\n",
      "  3%|▎         | 3/100 [01:03<36:04, 22.31s/it]/Users/kevinfry/opt/anaconda3/envs/spe/lib/python3.11/site-packages/sklearn/model_selection/_validation.py:73: FutureWarning: `fit_params` is deprecated and will be removed in version 1.6. Pass parameters via `params` instead.\n",
      "  warnings.warn(\n",
      "/Users/kevinfry/opt/anaconda3/envs/spe/lib/python3.11/site-packages/sklearn/model_selection/_validation.py:73: FutureWarning: `fit_params` is deprecated and will be removed in version 1.6. Pass parameters via `params` instead.\n",
      "  warnings.warn(\n",
      "  4%|▍         | 4/100 [01:22<33:05, 20.68s/it]/Users/kevinfry/opt/anaconda3/envs/spe/lib/python3.11/site-packages/sklearn/model_selection/_validation.py:73: FutureWarning: `fit_params` is deprecated and will be removed in version 1.6. Pass parameters via `params` instead.\n",
      "  warnings.warn(\n",
      "/Users/kevinfry/opt/anaconda3/envs/spe/lib/python3.11/site-packages/sklearn/model_selection/_validation.py:73: FutureWarning: `fit_params` is deprecated and will be removed in version 1.6. Pass parameters via `params` instead.\n",
      "  warnings.warn(\n",
      "  5%|▌         | 5/100 [01:56<40:40, 25.69s/it]/Users/kevinfry/opt/anaconda3/envs/spe/lib/python3.11/site-packages/sklearn/model_selection/_validation.py:73: FutureWarning: `fit_params` is deprecated and will be removed in version 1.6. Pass parameters via `params` instead.\n",
      "  warnings.warn(\n",
      "/Users/kevinfry/opt/anaconda3/envs/spe/lib/python3.11/site-packages/sklearn/model_selection/_validation.py:73: FutureWarning: `fit_params` is deprecated and will be removed in version 1.6. Pass parameters via `params` instead.\n",
      "  warnings.warn(\n",
      "  6%|▌         | 6/100 [02:14<36:06, 23.05s/it]/Users/kevinfry/opt/anaconda3/envs/spe/lib/python3.11/site-packages/sklearn/model_selection/_validation.py:73: FutureWarning: `fit_params` is deprecated and will be removed in version 1.6. Pass parameters via `params` instead.\n",
      "  warnings.warn(\n",
      "/Users/kevinfry/opt/anaconda3/envs/spe/lib/python3.11/site-packages/sklearn/model_selection/_validation.py:73: FutureWarning: `fit_params` is deprecated and will be removed in version 1.6. Pass parameters via `params` instead.\n",
      "  warnings.warn(\n",
      "  7%|▋         | 7/100 [02:27<30:24, 19.62s/it]/Users/kevinfry/opt/anaconda3/envs/spe/lib/python3.11/site-packages/sklearn/model_selection/_validation.py:73: FutureWarning: `fit_params` is deprecated and will be removed in version 1.6. Pass parameters via `params` instead.\n",
      "  warnings.warn(\n",
      "/Users/kevinfry/opt/anaconda3/envs/spe/lib/python3.11/site-packages/sklearn/model_selection/_validation.py:73: FutureWarning: `fit_params` is deprecated and will be removed in version 1.6. Pass parameters via `params` instead.\n",
      "  warnings.warn(\n",
      "  8%|▊         | 8/100 [02:37<25:36, 16.70s/it]/Users/kevinfry/opt/anaconda3/envs/spe/lib/python3.11/site-packages/sklearn/model_selection/_validation.py:73: FutureWarning: `fit_params` is deprecated and will be removed in version 1.6. Pass parameters via `params` instead.\n",
      "  warnings.warn(\n",
      "/Users/kevinfry/opt/anaconda3/envs/spe/lib/python3.11/site-packages/sklearn/model_selection/_validation.py:73: FutureWarning: `fit_params` is deprecated and will be removed in version 1.6. Pass parameters via `params` instead.\n",
      "  warnings.warn(\n",
      "  9%|▉         | 9/100 [03:10<33:14, 21.92s/it]/Users/kevinfry/opt/anaconda3/envs/spe/lib/python3.11/site-packages/sklearn/model_selection/_validation.py:73: FutureWarning: `fit_params` is deprecated and will be removed in version 1.6. Pass parameters via `params` instead.\n",
      "  warnings.warn(\n",
      "/Users/kevinfry/opt/anaconda3/envs/spe/lib/python3.11/site-packages/sklearn/model_selection/_validation.py:73: FutureWarning: `fit_params` is deprecated and will be removed in version 1.6. Pass parameters via `params` instead.\n",
      "  warnings.warn(\n",
      " 10%|█         | 10/100 [03:20<27:17, 18.20s/it]/Users/kevinfry/opt/anaconda3/envs/spe/lib/python3.11/site-packages/sklearn/model_selection/_validation.py:73: FutureWarning: `fit_params` is deprecated and will be removed in version 1.6. Pass parameters via `params` instead.\n",
      "  warnings.warn(\n",
      "/Users/kevinfry/opt/anaconda3/envs/spe/lib/python3.11/site-packages/sklearn/model_selection/_validation.py:73: FutureWarning: `fit_params` is deprecated and will be removed in version 1.6. Pass parameters via `params` instead.\n",
      "  warnings.warn(\n",
      " 11%|█         | 11/100 [03:31<23:42, 15.98s/it]/Users/kevinfry/opt/anaconda3/envs/spe/lib/python3.11/site-packages/sklearn/model_selection/_validation.py:73: FutureWarning: `fit_params` is deprecated and will be removed in version 1.6. Pass parameters via `params` instead.\n",
      "  warnings.warn(\n",
      "/Users/kevinfry/opt/anaconda3/envs/spe/lib/python3.11/site-packages/sklearn/model_selection/_validation.py:73: FutureWarning: `fit_params` is deprecated and will be removed in version 1.6. Pass parameters via `params` instead.\n",
      "  warnings.warn(\n",
      " 12%|█▏        | 12/100 [03:46<23:02, 15.71s/it]/Users/kevinfry/opt/anaconda3/envs/spe/lib/python3.11/site-packages/sklearn/model_selection/_validation.py:73: FutureWarning: `fit_params` is deprecated and will be removed in version 1.6. Pass parameters via `params` instead.\n",
      "  warnings.warn(\n",
      "/Users/kevinfry/opt/anaconda3/envs/spe/lib/python3.11/site-packages/sklearn/model_selection/_validation.py:73: FutureWarning: `fit_params` is deprecated and will be removed in version 1.6. Pass parameters via `params` instead.\n",
      "  warnings.warn(\n",
      " 13%|█▎        | 13/100 [04:00<21:47, 15.03s/it]/Users/kevinfry/opt/anaconda3/envs/spe/lib/python3.11/site-packages/sklearn/model_selection/_validation.py:73: FutureWarning: `fit_params` is deprecated and will be removed in version 1.6. Pass parameters via `params` instead.\n",
      "  warnings.warn(\n",
      "/Users/kevinfry/opt/anaconda3/envs/spe/lib/python3.11/site-packages/sklearn/model_selection/_validation.py:73: FutureWarning: `fit_params` is deprecated and will be removed in version 1.6. Pass parameters via `params` instead.\n",
      "  warnings.warn(\n",
      " 14%|█▍        | 14/100 [04:09<19:11, 13.38s/it]/Users/kevinfry/opt/anaconda3/envs/spe/lib/python3.11/site-packages/sklearn/model_selection/_validation.py:73: FutureWarning: `fit_params` is deprecated and will be removed in version 1.6. Pass parameters via `params` instead.\n",
      "  warnings.warn(\n",
      "/Users/kevinfry/opt/anaconda3/envs/spe/lib/python3.11/site-packages/sklearn/model_selection/_validation.py:73: FutureWarning: `fit_params` is deprecated and will be removed in version 1.6. Pass parameters via `params` instead.\n",
      "  warnings.warn(\n",
      " 15%|█▌        | 15/100 [04:19<17:19, 12.23s/it]/Users/kevinfry/opt/anaconda3/envs/spe/lib/python3.11/site-packages/sklearn/model_selection/_validation.py:73: FutureWarning: `fit_params` is deprecated and will be removed in version 1.6. Pass parameters via `params` instead.\n",
      "  warnings.warn(\n",
      "/Users/kevinfry/opt/anaconda3/envs/spe/lib/python3.11/site-packages/sklearn/model_selection/_validation.py:73: FutureWarning: `fit_params` is deprecated and will be removed in version 1.6. Pass parameters via `params` instead.\n",
      "  warnings.warn(\n",
      " 16%|█▌        | 16/100 [04:28<15:53, 11.35s/it]/Users/kevinfry/opt/anaconda3/envs/spe/lib/python3.11/site-packages/sklearn/model_selection/_validation.py:73: FutureWarning: `fit_params` is deprecated and will be removed in version 1.6. Pass parameters via `params` instead.\n",
      "  warnings.warn(\n",
      "/Users/kevinfry/opt/anaconda3/envs/spe/lib/python3.11/site-packages/sklearn/model_selection/_validation.py:73: FutureWarning: `fit_params` is deprecated and will be removed in version 1.6. Pass parameters via `params` instead.\n",
      "  warnings.warn(\n",
      " 17%|█▋        | 17/100 [04:38<14:55, 10.79s/it]/Users/kevinfry/opt/anaconda3/envs/spe/lib/python3.11/site-packages/sklearn/model_selection/_validation.py:73: FutureWarning: `fit_params` is deprecated and will be removed in version 1.6. Pass parameters via `params` instead.\n",
      "  warnings.warn(\n",
      "/Users/kevinfry/opt/anaconda3/envs/spe/lib/python3.11/site-packages/sklearn/model_selection/_validation.py:73: FutureWarning: `fit_params` is deprecated and will be removed in version 1.6. Pass parameters via `params` instead.\n",
      "  warnings.warn(\n",
      " 18%|█▊        | 18/100 [04:47<14:06, 10.33s/it]/Users/kevinfry/opt/anaconda3/envs/spe/lib/python3.11/site-packages/sklearn/model_selection/_validation.py:73: FutureWarning: `fit_params` is deprecated and will be removed in version 1.6. Pass parameters via `params` instead.\n",
      "  warnings.warn(\n",
      "/Users/kevinfry/opt/anaconda3/envs/spe/lib/python3.11/site-packages/sklearn/model_selection/_validation.py:73: FutureWarning: `fit_params` is deprecated and will be removed in version 1.6. Pass parameters via `params` instead.\n",
      "  warnings.warn(\n",
      " 19%|█▉        | 19/100 [04:56<13:27,  9.97s/it]/Users/kevinfry/opt/anaconda3/envs/spe/lib/python3.11/site-packages/sklearn/model_selection/_validation.py:73: FutureWarning: `fit_params` is deprecated and will be removed in version 1.6. Pass parameters via `params` instead.\n",
      "  warnings.warn(\n",
      "/Users/kevinfry/opt/anaconda3/envs/spe/lib/python3.11/site-packages/sklearn/model_selection/_validation.py:73: FutureWarning: `fit_params` is deprecated and will be removed in version 1.6. Pass parameters via `params` instead.\n",
      "  warnings.warn(\n",
      " 20%|██        | 20/100 [05:14<16:32, 12.41s/it]/Users/kevinfry/opt/anaconda3/envs/spe/lib/python3.11/site-packages/sklearn/model_selection/_validation.py:73: FutureWarning: `fit_params` is deprecated and will be removed in version 1.6. Pass parameters via `params` instead.\n",
      "  warnings.warn(\n",
      "/Users/kevinfry/opt/anaconda3/envs/spe/lib/python3.11/site-packages/sklearn/model_selection/_validation.py:73: FutureWarning: `fit_params` is deprecated and will be removed in version 1.6. Pass parameters via `params` instead.\n",
      "  warnings.warn(\n",
      " 21%|██        | 21/100 [05:57<28:15, 21.46s/it]/Users/kevinfry/opt/anaconda3/envs/spe/lib/python3.11/site-packages/sklearn/model_selection/_validation.py:73: FutureWarning: `fit_params` is deprecated and will be removed in version 1.6. Pass parameters via `params` instead.\n",
      "  warnings.warn(\n",
      "/Users/kevinfry/opt/anaconda3/envs/spe/lib/python3.11/site-packages/sklearn/model_selection/_validation.py:73: FutureWarning: `fit_params` is deprecated and will be removed in version 1.6. Pass parameters via `params` instead.\n",
      "  warnings.warn(\n",
      " 22%|██▏       | 22/100 [06:35<34:36, 26.63s/it]/Users/kevinfry/opt/anaconda3/envs/spe/lib/python3.11/site-packages/sklearn/model_selection/_validation.py:73: FutureWarning: `fit_params` is deprecated and will be removed in version 1.6. Pass parameters via `params` instead.\n",
      "  warnings.warn(\n",
      "/Users/kevinfry/opt/anaconda3/envs/spe/lib/python3.11/site-packages/sklearn/model_selection/_validation.py:73: FutureWarning: `fit_params` is deprecated and will be removed in version 1.6. Pass parameters via `params` instead.\n",
      "  warnings.warn(\n",
      " 23%|██▎       | 23/100 [06:45<27:36, 21.51s/it]/Users/kevinfry/opt/anaconda3/envs/spe/lib/python3.11/site-packages/sklearn/model_selection/_validation.py:73: FutureWarning: `fit_params` is deprecated and will be removed in version 1.6. Pass parameters via `params` instead.\n",
      "  warnings.warn(\n",
      "/Users/kevinfry/opt/anaconda3/envs/spe/lib/python3.11/site-packages/sklearn/model_selection/_validation.py:73: FutureWarning: `fit_params` is deprecated and will be removed in version 1.6. Pass parameters via `params` instead.\n",
      "  warnings.warn(\n",
      " 24%|██▍       | 24/100 [07:07<27:34, 21.77s/it]/Users/kevinfry/opt/anaconda3/envs/spe/lib/python3.11/site-packages/sklearn/model_selection/_validation.py:73: FutureWarning: `fit_params` is deprecated and will be removed in version 1.6. Pass parameters via `params` instead.\n",
      "  warnings.warn(\n",
      "/Users/kevinfry/opt/anaconda3/envs/spe/lib/python3.11/site-packages/sklearn/model_selection/_validation.py:73: FutureWarning: `fit_params` is deprecated and will be removed in version 1.6. Pass parameters via `params` instead.\n",
      "  warnings.warn(\n",
      " 25%|██▌       | 25/100 [07:25<25:31, 20.42s/it]/Users/kevinfry/opt/anaconda3/envs/spe/lib/python3.11/site-packages/sklearn/model_selection/_validation.py:73: FutureWarning: `fit_params` is deprecated and will be removed in version 1.6. Pass parameters via `params` instead.\n",
      "  warnings.warn(\n",
      "/Users/kevinfry/opt/anaconda3/envs/spe/lib/python3.11/site-packages/sklearn/model_selection/_validation.py:73: FutureWarning: `fit_params` is deprecated and will be removed in version 1.6. Pass parameters via `params` instead.\n",
      "  warnings.warn(\n",
      " 26%|██▌       | 26/100 [07:52<27:44, 22.49s/it]/Users/kevinfry/opt/anaconda3/envs/spe/lib/python3.11/site-packages/sklearn/model_selection/_validation.py:73: FutureWarning: `fit_params` is deprecated and will be removed in version 1.6. Pass parameters via `params` instead.\n",
      "  warnings.warn(\n",
      "/Users/kevinfry/opt/anaconda3/envs/spe/lib/python3.11/site-packages/sklearn/model_selection/_validation.py:73: FutureWarning: `fit_params` is deprecated and will be removed in version 1.6. Pass parameters via `params` instead.\n",
      "  warnings.warn(\n",
      " 27%|██▋       | 27/100 [08:02<22:37, 18.59s/it]/Users/kevinfry/opt/anaconda3/envs/spe/lib/python3.11/site-packages/sklearn/model_selection/_validation.py:73: FutureWarning: `fit_params` is deprecated and will be removed in version 1.6. Pass parameters via `params` instead.\n",
      "  warnings.warn(\n",
      "/Users/kevinfry/opt/anaconda3/envs/spe/lib/python3.11/site-packages/sklearn/model_selection/_validation.py:73: FutureWarning: `fit_params` is deprecated and will be removed in version 1.6. Pass parameters via `params` instead.\n",
      "  warnings.warn(\n",
      " 28%|██▊       | 28/100 [08:15<20:30, 17.08s/it]/Users/kevinfry/opt/anaconda3/envs/spe/lib/python3.11/site-packages/sklearn/model_selection/_validation.py:73: FutureWarning: `fit_params` is deprecated and will be removed in version 1.6. Pass parameters via `params` instead.\n",
      "  warnings.warn(\n",
      "/Users/kevinfry/opt/anaconda3/envs/spe/lib/python3.11/site-packages/sklearn/model_selection/_validation.py:73: FutureWarning: `fit_params` is deprecated and will be removed in version 1.6. Pass parameters via `params` instead.\n",
      "  warnings.warn(\n",
      " 29%|██▉       | 29/100 [08:30<19:33, 16.53s/it]/Users/kevinfry/opt/anaconda3/envs/spe/lib/python3.11/site-packages/sklearn/model_selection/_validation.py:73: FutureWarning: `fit_params` is deprecated and will be removed in version 1.6. Pass parameters via `params` instead.\n",
      "  warnings.warn(\n",
      "/Users/kevinfry/opt/anaconda3/envs/spe/lib/python3.11/site-packages/sklearn/model_selection/_validation.py:73: FutureWarning: `fit_params` is deprecated and will be removed in version 1.6. Pass parameters via `params` instead.\n",
      "  warnings.warn(\n",
      " 30%|███       | 30/100 [08:43<18:04, 15.49s/it]/Users/kevinfry/opt/anaconda3/envs/spe/lib/python3.11/site-packages/sklearn/model_selection/_validation.py:73: FutureWarning: `fit_params` is deprecated and will be removed in version 1.6. Pass parameters via `params` instead.\n",
      "  warnings.warn(\n",
      "/Users/kevinfry/opt/anaconda3/envs/spe/lib/python3.11/site-packages/sklearn/model_selection/_validation.py:73: FutureWarning: `fit_params` is deprecated and will be removed in version 1.6. Pass parameters via `params` instead.\n",
      "  warnings.warn(\n",
      " 31%|███       | 31/100 [08:53<15:39, 13.62s/it]/Users/kevinfry/opt/anaconda3/envs/spe/lib/python3.11/site-packages/sklearn/model_selection/_validation.py:73: FutureWarning: `fit_params` is deprecated and will be removed in version 1.6. Pass parameters via `params` instead.\n",
      "  warnings.warn(\n",
      "/Users/kevinfry/opt/anaconda3/envs/spe/lib/python3.11/site-packages/sklearn/model_selection/_validation.py:73: FutureWarning: `fit_params` is deprecated and will be removed in version 1.6. Pass parameters via `params` instead.\n",
      "  warnings.warn(\n",
      " 32%|███▏      | 32/100 [09:02<13:55, 12.29s/it]/Users/kevinfry/opt/anaconda3/envs/spe/lib/python3.11/site-packages/sklearn/model_selection/_validation.py:73: FutureWarning: `fit_params` is deprecated and will be removed in version 1.6. Pass parameters via `params` instead.\n",
      "  warnings.warn(\n",
      "/Users/kevinfry/opt/anaconda3/envs/spe/lib/python3.11/site-packages/sklearn/model_selection/_validation.py:73: FutureWarning: `fit_params` is deprecated and will be removed in version 1.6. Pass parameters via `params` instead.\n",
      "  warnings.warn(\n",
      " 33%|███▎      | 33/100 [09:11<12:38, 11.32s/it]/Users/kevinfry/opt/anaconda3/envs/spe/lib/python3.11/site-packages/sklearn/model_selection/_validation.py:73: FutureWarning: `fit_params` is deprecated and will be removed in version 1.6. Pass parameters via `params` instead.\n",
      "  warnings.warn(\n",
      "/Users/kevinfry/opt/anaconda3/envs/spe/lib/python3.11/site-packages/sklearn/model_selection/_validation.py:73: FutureWarning: `fit_params` is deprecated and will be removed in version 1.6. Pass parameters via `params` instead.\n",
      "  warnings.warn(\n",
      " 34%|███▍      | 34/100 [09:20<11:44, 10.67s/it]/Users/kevinfry/opt/anaconda3/envs/spe/lib/python3.11/site-packages/sklearn/model_selection/_validation.py:73: FutureWarning: `fit_params` is deprecated and will be removed in version 1.6. Pass parameters via `params` instead.\n",
      "  warnings.warn(\n",
      "/Users/kevinfry/opt/anaconda3/envs/spe/lib/python3.11/site-packages/sklearn/model_selection/_validation.py:73: FutureWarning: `fit_params` is deprecated and will be removed in version 1.6. Pass parameters via `params` instead.\n",
      "  warnings.warn(\n",
      " 35%|███▌      | 35/100 [09:29<11:06, 10.25s/it]/Users/kevinfry/opt/anaconda3/envs/spe/lib/python3.11/site-packages/sklearn/model_selection/_validation.py:73: FutureWarning: `fit_params` is deprecated and will be removed in version 1.6. Pass parameters via `params` instead.\n",
      "  warnings.warn(\n",
      "/Users/kevinfry/opt/anaconda3/envs/spe/lib/python3.11/site-packages/sklearn/model_selection/_validation.py:73: FutureWarning: `fit_params` is deprecated and will be removed in version 1.6. Pass parameters via `params` instead.\n",
      "  warnings.warn(\n",
      " 36%|███▌      | 36/100 [09:42<11:39, 10.93s/it]/Users/kevinfry/opt/anaconda3/envs/spe/lib/python3.11/site-packages/sklearn/model_selection/_validation.py:73: FutureWarning: `fit_params` is deprecated and will be removed in version 1.6. Pass parameters via `params` instead.\n",
      "  warnings.warn(\n",
      "/Users/kevinfry/opt/anaconda3/envs/spe/lib/python3.11/site-packages/sklearn/model_selection/_validation.py:73: FutureWarning: `fit_params` is deprecated and will be removed in version 1.6. Pass parameters via `params` instead.\n",
      "  warnings.warn(\n",
      " 37%|███▋      | 37/100 [09:51<10:54, 10.39s/it]/Users/kevinfry/opt/anaconda3/envs/spe/lib/python3.11/site-packages/sklearn/model_selection/_validation.py:73: FutureWarning: `fit_params` is deprecated and will be removed in version 1.6. Pass parameters via `params` instead.\n",
      "  warnings.warn(\n",
      "/Users/kevinfry/opt/anaconda3/envs/spe/lib/python3.11/site-packages/sklearn/model_selection/_validation.py:73: FutureWarning: `fit_params` is deprecated and will be removed in version 1.6. Pass parameters via `params` instead.\n",
      "  warnings.warn(\n",
      " 38%|███▊      | 38/100 [10:00<10:21, 10.03s/it]/Users/kevinfry/opt/anaconda3/envs/spe/lib/python3.11/site-packages/sklearn/model_selection/_validation.py:73: FutureWarning: `fit_params` is deprecated and will be removed in version 1.6. Pass parameters via `params` instead.\n",
      "  warnings.warn(\n",
      "/Users/kevinfry/opt/anaconda3/envs/spe/lib/python3.11/site-packages/sklearn/model_selection/_validation.py:73: FutureWarning: `fit_params` is deprecated and will be removed in version 1.6. Pass parameters via `params` instead.\n",
      "  warnings.warn(\n",
      " 39%|███▉      | 39/100 [10:09<09:55,  9.76s/it]/Users/kevinfry/opt/anaconda3/envs/spe/lib/python3.11/site-packages/sklearn/model_selection/_validation.py:73: FutureWarning: `fit_params` is deprecated and will be removed in version 1.6. Pass parameters via `params` instead.\n",
      "  warnings.warn(\n",
      "/Users/kevinfry/opt/anaconda3/envs/spe/lib/python3.11/site-packages/sklearn/model_selection/_validation.py:73: FutureWarning: `fit_params` is deprecated and will be removed in version 1.6. Pass parameters via `params` instead.\n",
      "  warnings.warn(\n",
      " 40%|████      | 40/100 [10:18<09:35,  9.58s/it]/Users/kevinfry/opt/anaconda3/envs/spe/lib/python3.11/site-packages/sklearn/model_selection/_validation.py:73: FutureWarning: `fit_params` is deprecated and will be removed in version 1.6. Pass parameters via `params` instead.\n",
      "  warnings.warn(\n",
      "/Users/kevinfry/opt/anaconda3/envs/spe/lib/python3.11/site-packages/sklearn/model_selection/_validation.py:73: FutureWarning: `fit_params` is deprecated and will be removed in version 1.6. Pass parameters via `params` instead.\n",
      "  warnings.warn(\n",
      " 41%|████      | 41/100 [10:28<09:18,  9.46s/it]/Users/kevinfry/opt/anaconda3/envs/spe/lib/python3.11/site-packages/sklearn/model_selection/_validation.py:73: FutureWarning: `fit_params` is deprecated and will be removed in version 1.6. Pass parameters via `params` instead.\n",
      "  warnings.warn(\n",
      "/Users/kevinfry/opt/anaconda3/envs/spe/lib/python3.11/site-packages/sklearn/model_selection/_validation.py:73: FutureWarning: `fit_params` is deprecated and will be removed in version 1.6. Pass parameters via `params` instead.\n",
      "  warnings.warn(\n",
      " 42%|████▏     | 42/100 [10:37<09:02,  9.36s/it]/Users/kevinfry/opt/anaconda3/envs/spe/lib/python3.11/site-packages/sklearn/model_selection/_validation.py:73: FutureWarning: `fit_params` is deprecated and will be removed in version 1.6. Pass parameters via `params` instead.\n",
      "  warnings.warn(\n",
      "/Users/kevinfry/opt/anaconda3/envs/spe/lib/python3.11/site-packages/sklearn/model_selection/_validation.py:73: FutureWarning: `fit_params` is deprecated and will be removed in version 1.6. Pass parameters via `params` instead.\n",
      "  warnings.warn(\n",
      " 43%|████▎     | 43/100 [10:46<08:53,  9.36s/it]/Users/kevinfry/opt/anaconda3/envs/spe/lib/python3.11/site-packages/sklearn/model_selection/_validation.py:73: FutureWarning: `fit_params` is deprecated and will be removed in version 1.6. Pass parameters via `params` instead.\n",
      "  warnings.warn(\n",
      "/Users/kevinfry/opt/anaconda3/envs/spe/lib/python3.11/site-packages/sklearn/model_selection/_validation.py:73: FutureWarning: `fit_params` is deprecated and will be removed in version 1.6. Pass parameters via `params` instead.\n",
      "  warnings.warn(\n",
      " 44%|████▍     | 44/100 [10:56<08:47,  9.42s/it]/Users/kevinfry/opt/anaconda3/envs/spe/lib/python3.11/site-packages/sklearn/model_selection/_validation.py:73: FutureWarning: `fit_params` is deprecated and will be removed in version 1.6. Pass parameters via `params` instead.\n",
      "  warnings.warn(\n",
      "/Users/kevinfry/opt/anaconda3/envs/spe/lib/python3.11/site-packages/sklearn/model_selection/_validation.py:73: FutureWarning: `fit_params` is deprecated and will be removed in version 1.6. Pass parameters via `params` instead.\n",
      "  warnings.warn(\n",
      " 45%|████▌     | 45/100 [11:16<11:30, 12.55s/it]/Users/kevinfry/opt/anaconda3/envs/spe/lib/python3.11/site-packages/sklearn/model_selection/_validation.py:73: FutureWarning: `fit_params` is deprecated and will be removed in version 1.6. Pass parameters via `params` instead.\n",
      "  warnings.warn(\n",
      "/Users/kevinfry/opt/anaconda3/envs/spe/lib/python3.11/site-packages/sklearn/model_selection/_validation.py:73: FutureWarning: `fit_params` is deprecated and will be removed in version 1.6. Pass parameters via `params` instead.\n",
      "  warnings.warn(\n",
      " 46%|████▌     | 46/100 [11:25<10:23, 11.55s/it]/Users/kevinfry/opt/anaconda3/envs/spe/lib/python3.11/site-packages/sklearn/model_selection/_validation.py:73: FutureWarning: `fit_params` is deprecated and will be removed in version 1.6. Pass parameters via `params` instead.\n",
      "  warnings.warn(\n",
      "/Users/kevinfry/opt/anaconda3/envs/spe/lib/python3.11/site-packages/sklearn/model_selection/_validation.py:73: FutureWarning: `fit_params` is deprecated and will be removed in version 1.6. Pass parameters via `params` instead.\n",
      "  warnings.warn(\n",
      " 47%|████▋     | 47/100 [11:56<15:29, 17.53s/it]/Users/kevinfry/opt/anaconda3/envs/spe/lib/python3.11/site-packages/sklearn/model_selection/_validation.py:73: FutureWarning: `fit_params` is deprecated and will be removed in version 1.6. Pass parameters via `params` instead.\n",
      "  warnings.warn(\n",
      "/Users/kevinfry/opt/anaconda3/envs/spe/lib/python3.11/site-packages/sklearn/model_selection/_validation.py:73: FutureWarning: `fit_params` is deprecated and will be removed in version 1.6. Pass parameters via `params` instead.\n",
      "  warnings.warn(\n",
      " 48%|████▊     | 48/100 [12:05<13:02, 15.04s/it]/Users/kevinfry/opt/anaconda3/envs/spe/lib/python3.11/site-packages/sklearn/model_selection/_validation.py:73: FutureWarning: `fit_params` is deprecated and will be removed in version 1.6. Pass parameters via `params` instead.\n",
      "  warnings.warn(\n",
      "/Users/kevinfry/opt/anaconda3/envs/spe/lib/python3.11/site-packages/sklearn/model_selection/_validation.py:73: FutureWarning: `fit_params` is deprecated and will be removed in version 1.6. Pass parameters via `params` instead.\n",
      "  warnings.warn(\n",
      " 49%|████▉     | 49/100 [12:15<11:17, 13.28s/it]/Users/kevinfry/opt/anaconda3/envs/spe/lib/python3.11/site-packages/sklearn/model_selection/_validation.py:73: FutureWarning: `fit_params` is deprecated and will be removed in version 1.6. Pass parameters via `params` instead.\n",
      "  warnings.warn(\n",
      "/Users/kevinfry/opt/anaconda3/envs/spe/lib/python3.11/site-packages/sklearn/model_selection/_validation.py:73: FutureWarning: `fit_params` is deprecated and will be removed in version 1.6. Pass parameters via `params` instead.\n",
      "  warnings.warn(\n",
      " 50%|█████     | 50/100 [12:24<10:02, 12.05s/it]/Users/kevinfry/opt/anaconda3/envs/spe/lib/python3.11/site-packages/sklearn/model_selection/_validation.py:73: FutureWarning: `fit_params` is deprecated and will be removed in version 1.6. Pass parameters via `params` instead.\n",
      "  warnings.warn(\n",
      "/Users/kevinfry/opt/anaconda3/envs/spe/lib/python3.11/site-packages/sklearn/model_selection/_validation.py:73: FutureWarning: `fit_params` is deprecated and will be removed in version 1.6. Pass parameters via `params` instead.\n",
      "  warnings.warn(\n",
      " 51%|█████     | 51/100 [12:33<09:08, 11.18s/it]/Users/kevinfry/opt/anaconda3/envs/spe/lib/python3.11/site-packages/sklearn/model_selection/_validation.py:73: FutureWarning: `fit_params` is deprecated and will be removed in version 1.6. Pass parameters via `params` instead.\n",
      "  warnings.warn(\n",
      "/Users/kevinfry/opt/anaconda3/envs/spe/lib/python3.11/site-packages/sklearn/model_selection/_validation.py:73: FutureWarning: `fit_params` is deprecated and will be removed in version 1.6. Pass parameters via `params` instead.\n",
      "  warnings.warn(\n",
      " 52%|█████▏    | 52/100 [12:42<08:28, 10.60s/it]/Users/kevinfry/opt/anaconda3/envs/spe/lib/python3.11/site-packages/sklearn/model_selection/_validation.py:73: FutureWarning: `fit_params` is deprecated and will be removed in version 1.6. Pass parameters via `params` instead.\n",
      "  warnings.warn(\n",
      "/Users/kevinfry/opt/anaconda3/envs/spe/lib/python3.11/site-packages/sklearn/model_selection/_validation.py:73: FutureWarning: `fit_params` is deprecated and will be removed in version 1.6. Pass parameters via `params` instead.\n",
      "  warnings.warn(\n",
      " 53%|█████▎    | 53/100 [12:51<07:58, 10.18s/it]/Users/kevinfry/opt/anaconda3/envs/spe/lib/python3.11/site-packages/sklearn/model_selection/_validation.py:73: FutureWarning: `fit_params` is deprecated and will be removed in version 1.6. Pass parameters via `params` instead.\n",
      "  warnings.warn(\n",
      "/Users/kevinfry/opt/anaconda3/envs/spe/lib/python3.11/site-packages/sklearn/model_selection/_validation.py:73: FutureWarning: `fit_params` is deprecated and will be removed in version 1.6. Pass parameters via `params` instead.\n",
      "  warnings.warn(\n",
      " 54%|█████▍    | 54/100 [13:01<07:38,  9.96s/it]/Users/kevinfry/opt/anaconda3/envs/spe/lib/python3.11/site-packages/sklearn/model_selection/_validation.py:73: FutureWarning: `fit_params` is deprecated and will be removed in version 1.6. Pass parameters via `params` instead.\n",
      "  warnings.warn(\n",
      "/Users/kevinfry/opt/anaconda3/envs/spe/lib/python3.11/site-packages/sklearn/model_selection/_validation.py:73: FutureWarning: `fit_params` is deprecated and will be removed in version 1.6. Pass parameters via `params` instead.\n",
      "  warnings.warn(\n",
      " 55%|█████▌    | 55/100 [13:10<07:18,  9.75s/it]/Users/kevinfry/opt/anaconda3/envs/spe/lib/python3.11/site-packages/sklearn/model_selection/_validation.py:73: FutureWarning: `fit_params` is deprecated and will be removed in version 1.6. Pass parameters via `params` instead.\n",
      "  warnings.warn(\n",
      "/Users/kevinfry/opt/anaconda3/envs/spe/lib/python3.11/site-packages/sklearn/model_selection/_validation.py:73: FutureWarning: `fit_params` is deprecated and will be removed in version 1.6. Pass parameters via `params` instead.\n",
      "  warnings.warn(\n",
      " 56%|█████▌    | 56/100 [13:19<07:01,  9.58s/it]/Users/kevinfry/opt/anaconda3/envs/spe/lib/python3.11/site-packages/sklearn/model_selection/_validation.py:73: FutureWarning: `fit_params` is deprecated and will be removed in version 1.6. Pass parameters via `params` instead.\n",
      "  warnings.warn(\n",
      "/Users/kevinfry/opt/anaconda3/envs/spe/lib/python3.11/site-packages/sklearn/model_selection/_validation.py:73: FutureWarning: `fit_params` is deprecated and will be removed in version 1.6. Pass parameters via `params` instead.\n",
      "  warnings.warn(\n",
      " 57%|█████▋    | 57/100 [13:29<06:49,  9.51s/it]/Users/kevinfry/opt/anaconda3/envs/spe/lib/python3.11/site-packages/sklearn/model_selection/_validation.py:73: FutureWarning: `fit_params` is deprecated and will be removed in version 1.6. Pass parameters via `params` instead.\n",
      "  warnings.warn(\n",
      "/Users/kevinfry/opt/anaconda3/envs/spe/lib/python3.11/site-packages/sklearn/model_selection/_validation.py:73: FutureWarning: `fit_params` is deprecated and will be removed in version 1.6. Pass parameters via `params` instead.\n",
      "  warnings.warn(\n",
      " 58%|█████▊    | 58/100 [13:38<06:35,  9.41s/it]/Users/kevinfry/opt/anaconda3/envs/spe/lib/python3.11/site-packages/sklearn/model_selection/_validation.py:73: FutureWarning: `fit_params` is deprecated and will be removed in version 1.6. Pass parameters via `params` instead.\n",
      "  warnings.warn(\n",
      "/Users/kevinfry/opt/anaconda3/envs/spe/lib/python3.11/site-packages/sklearn/model_selection/_validation.py:73: FutureWarning: `fit_params` is deprecated and will be removed in version 1.6. Pass parameters via `params` instead.\n",
      "  warnings.warn(\n",
      " 59%|█████▉    | 59/100 [13:47<06:22,  9.33s/it]/Users/kevinfry/opt/anaconda3/envs/spe/lib/python3.11/site-packages/sklearn/model_selection/_validation.py:73: FutureWarning: `fit_params` is deprecated and will be removed in version 1.6. Pass parameters via `params` instead.\n",
      "  warnings.warn(\n",
      "/Users/kevinfry/opt/anaconda3/envs/spe/lib/python3.11/site-packages/sklearn/model_selection/_validation.py:73: FutureWarning: `fit_params` is deprecated and will be removed in version 1.6. Pass parameters via `params` instead.\n",
      "  warnings.warn(\n",
      " 60%|██████    | 60/100 [13:56<06:11,  9.28s/it]/Users/kevinfry/opt/anaconda3/envs/spe/lib/python3.11/site-packages/sklearn/model_selection/_validation.py:73: FutureWarning: `fit_params` is deprecated and will be removed in version 1.6. Pass parameters via `params` instead.\n",
      "  warnings.warn(\n",
      "/Users/kevinfry/opt/anaconda3/envs/spe/lib/python3.11/site-packages/sklearn/model_selection/_validation.py:73: FutureWarning: `fit_params` is deprecated and will be removed in version 1.6. Pass parameters via `params` instead.\n",
      "  warnings.warn(\n",
      " 61%|██████    | 61/100 [14:05<06:01,  9.27s/it]/Users/kevinfry/opt/anaconda3/envs/spe/lib/python3.11/site-packages/sklearn/model_selection/_validation.py:73: FutureWarning: `fit_params` is deprecated and will be removed in version 1.6. Pass parameters via `params` instead.\n",
      "  warnings.warn(\n",
      "/Users/kevinfry/opt/anaconda3/envs/spe/lib/python3.11/site-packages/sklearn/model_selection/_validation.py:73: FutureWarning: `fit_params` is deprecated and will be removed in version 1.6. Pass parameters via `params` instead.\n",
      "  warnings.warn(\n",
      " 62%|██████▏   | 62/100 [14:15<05:53,  9.29s/it]/Users/kevinfry/opt/anaconda3/envs/spe/lib/python3.11/site-packages/sklearn/model_selection/_validation.py:73: FutureWarning: `fit_params` is deprecated and will be removed in version 1.6. Pass parameters via `params` instead.\n",
      "  warnings.warn(\n",
      "/Users/kevinfry/opt/anaconda3/envs/spe/lib/python3.11/site-packages/sklearn/model_selection/_validation.py:73: FutureWarning: `fit_params` is deprecated and will be removed in version 1.6. Pass parameters via `params` instead.\n",
      "  warnings.warn(\n",
      " 63%|██████▎   | 63/100 [14:24<05:42,  9.25s/it]/Users/kevinfry/opt/anaconda3/envs/spe/lib/python3.11/site-packages/sklearn/model_selection/_validation.py:73: FutureWarning: `fit_params` is deprecated and will be removed in version 1.6. Pass parameters via `params` instead.\n",
      "  warnings.warn(\n",
      "/Users/kevinfry/opt/anaconda3/envs/spe/lib/python3.11/site-packages/sklearn/model_selection/_validation.py:73: FutureWarning: `fit_params` is deprecated and will be removed in version 1.6. Pass parameters via `params` instead.\n",
      "  warnings.warn(\n",
      " 64%|██████▍   | 64/100 [14:33<05:31,  9.20s/it]/Users/kevinfry/opt/anaconda3/envs/spe/lib/python3.11/site-packages/sklearn/model_selection/_validation.py:73: FutureWarning: `fit_params` is deprecated and will be removed in version 1.6. Pass parameters via `params` instead.\n",
      "  warnings.warn(\n",
      "/Users/kevinfry/opt/anaconda3/envs/spe/lib/python3.11/site-packages/sklearn/model_selection/_validation.py:73: FutureWarning: `fit_params` is deprecated and will be removed in version 1.6. Pass parameters via `params` instead.\n",
      "  warnings.warn(\n",
      " 65%|██████▌   | 65/100 [14:43<05:27,  9.37s/it]/Users/kevinfry/opt/anaconda3/envs/spe/lib/python3.11/site-packages/sklearn/model_selection/_validation.py:73: FutureWarning: `fit_params` is deprecated and will be removed in version 1.6. Pass parameters via `params` instead.\n",
      "  warnings.warn(\n",
      "/Users/kevinfry/opt/anaconda3/envs/spe/lib/python3.11/site-packages/sklearn/model_selection/_validation.py:73: FutureWarning: `fit_params` is deprecated and will be removed in version 1.6. Pass parameters via `params` instead.\n",
      "  warnings.warn(\n",
      " 66%|██████▌   | 66/100 [14:52<05:15,  9.28s/it]/Users/kevinfry/opt/anaconda3/envs/spe/lib/python3.11/site-packages/sklearn/model_selection/_validation.py:73: FutureWarning: `fit_params` is deprecated and will be removed in version 1.6. Pass parameters via `params` instead.\n",
      "  warnings.warn(\n",
      "/Users/kevinfry/opt/anaconda3/envs/spe/lib/python3.11/site-packages/sklearn/model_selection/_validation.py:73: FutureWarning: `fit_params` is deprecated and will be removed in version 1.6. Pass parameters via `params` instead.\n",
      "  warnings.warn(\n",
      " 67%|██████▋   | 67/100 [15:01<05:06,  9.28s/it]/Users/kevinfry/opt/anaconda3/envs/spe/lib/python3.11/site-packages/sklearn/model_selection/_validation.py:73: FutureWarning: `fit_params` is deprecated and will be removed in version 1.6. Pass parameters via `params` instead.\n",
      "  warnings.warn(\n",
      "/Users/kevinfry/opt/anaconda3/envs/spe/lib/python3.11/site-packages/sklearn/model_selection/_validation.py:73: FutureWarning: `fit_params` is deprecated and will be removed in version 1.6. Pass parameters via `params` instead.\n",
      "  warnings.warn(\n",
      " 68%|██████▊   | 68/100 [15:10<04:56,  9.28s/it]/Users/kevinfry/opt/anaconda3/envs/spe/lib/python3.11/site-packages/sklearn/model_selection/_validation.py:73: FutureWarning: `fit_params` is deprecated and will be removed in version 1.6. Pass parameters via `params` instead.\n",
      "  warnings.warn(\n",
      "/Users/kevinfry/opt/anaconda3/envs/spe/lib/python3.11/site-packages/sklearn/model_selection/_validation.py:73: FutureWarning: `fit_params` is deprecated and will be removed in version 1.6. Pass parameters via `params` instead.\n",
      "  warnings.warn(\n",
      " 69%|██████▉   | 69/100 [15:20<04:47,  9.26s/it]/Users/kevinfry/opt/anaconda3/envs/spe/lib/python3.11/site-packages/sklearn/model_selection/_validation.py:73: FutureWarning: `fit_params` is deprecated and will be removed in version 1.6. Pass parameters via `params` instead.\n",
      "  warnings.warn(\n",
      "/Users/kevinfry/opt/anaconda3/envs/spe/lib/python3.11/site-packages/sklearn/model_selection/_validation.py:73: FutureWarning: `fit_params` is deprecated and will be removed in version 1.6. Pass parameters via `params` instead.\n",
      "  warnings.warn(\n",
      " 70%|███████   | 70/100 [15:29<04:35,  9.20s/it]/Users/kevinfry/opt/anaconda3/envs/spe/lib/python3.11/site-packages/sklearn/model_selection/_validation.py:73: FutureWarning: `fit_params` is deprecated and will be removed in version 1.6. Pass parameters via `params` instead.\n",
      "  warnings.warn(\n",
      "/Users/kevinfry/opt/anaconda3/envs/spe/lib/python3.11/site-packages/sklearn/model_selection/_validation.py:73: FutureWarning: `fit_params` is deprecated and will be removed in version 1.6. Pass parameters via `params` instead.\n",
      "  warnings.warn(\n",
      " 71%|███████   | 71/100 [15:38<04:24,  9.13s/it]/Users/kevinfry/opt/anaconda3/envs/spe/lib/python3.11/site-packages/sklearn/model_selection/_validation.py:73: FutureWarning: `fit_params` is deprecated and will be removed in version 1.6. Pass parameters via `params` instead.\n",
      "  warnings.warn(\n",
      "/Users/kevinfry/opt/anaconda3/envs/spe/lib/python3.11/site-packages/sklearn/model_selection/_validation.py:73: FutureWarning: `fit_params` is deprecated and will be removed in version 1.6. Pass parameters via `params` instead.\n",
      "  warnings.warn(\n",
      " 72%|███████▏  | 72/100 [15:47<04:14,  9.09s/it]/Users/kevinfry/opt/anaconda3/envs/spe/lib/python3.11/site-packages/sklearn/model_selection/_validation.py:73: FutureWarning: `fit_params` is deprecated and will be removed in version 1.6. Pass parameters via `params` instead.\n",
      "  warnings.warn(\n",
      "/Users/kevinfry/opt/anaconda3/envs/spe/lib/python3.11/site-packages/sklearn/model_selection/_validation.py:73: FutureWarning: `fit_params` is deprecated and will be removed in version 1.6. Pass parameters via `params` instead.\n",
      "  warnings.warn(\n",
      " 73%|███████▎  | 73/100 [15:56<04:07,  9.18s/it]/Users/kevinfry/opt/anaconda3/envs/spe/lib/python3.11/site-packages/sklearn/model_selection/_validation.py:73: FutureWarning: `fit_params` is deprecated and will be removed in version 1.6. Pass parameters via `params` instead.\n",
      "  warnings.warn(\n",
      "/Users/kevinfry/opt/anaconda3/envs/spe/lib/python3.11/site-packages/sklearn/model_selection/_validation.py:73: FutureWarning: `fit_params` is deprecated and will be removed in version 1.6. Pass parameters via `params` instead.\n",
      "  warnings.warn(\n",
      " 74%|███████▍  | 74/100 [16:05<04:01,  9.29s/it]/Users/kevinfry/opt/anaconda3/envs/spe/lib/python3.11/site-packages/sklearn/model_selection/_validation.py:73: FutureWarning: `fit_params` is deprecated and will be removed in version 1.6. Pass parameters via `params` instead.\n",
      "  warnings.warn(\n",
      "/Users/kevinfry/opt/anaconda3/envs/spe/lib/python3.11/site-packages/sklearn/model_selection/_validation.py:73: FutureWarning: `fit_params` is deprecated and will be removed in version 1.6. Pass parameters via `params` instead.\n",
      "  warnings.warn(\n",
      " 75%|███████▌  | 75/100 [16:15<03:50,  9.22s/it]/Users/kevinfry/opt/anaconda3/envs/spe/lib/python3.11/site-packages/sklearn/model_selection/_validation.py:73: FutureWarning: `fit_params` is deprecated and will be removed in version 1.6. Pass parameters via `params` instead.\n",
      "  warnings.warn(\n",
      "/Users/kevinfry/opt/anaconda3/envs/spe/lib/python3.11/site-packages/sklearn/model_selection/_validation.py:73: FutureWarning: `fit_params` is deprecated and will be removed in version 1.6. Pass parameters via `params` instead.\n",
      "  warnings.warn(\n",
      " 76%|███████▌  | 76/100 [16:24<03:40,  9.19s/it]/Users/kevinfry/opt/anaconda3/envs/spe/lib/python3.11/site-packages/sklearn/model_selection/_validation.py:73: FutureWarning: `fit_params` is deprecated and will be removed in version 1.6. Pass parameters via `params` instead.\n",
      "  warnings.warn(\n",
      "/Users/kevinfry/opt/anaconda3/envs/spe/lib/python3.11/site-packages/sklearn/model_selection/_validation.py:73: FutureWarning: `fit_params` is deprecated and will be removed in version 1.6. Pass parameters via `params` instead.\n",
      "  warnings.warn(\n",
      " 77%|███████▋  | 77/100 [16:33<03:30,  9.16s/it]/Users/kevinfry/opt/anaconda3/envs/spe/lib/python3.11/site-packages/sklearn/model_selection/_validation.py:73: FutureWarning: `fit_params` is deprecated and will be removed in version 1.6. Pass parameters via `params` instead.\n",
      "  warnings.warn(\n",
      "/Users/kevinfry/opt/anaconda3/envs/spe/lib/python3.11/site-packages/sklearn/model_selection/_validation.py:73: FutureWarning: `fit_params` is deprecated and will be removed in version 1.6. Pass parameters via `params` instead.\n",
      "  warnings.warn(\n",
      " 78%|███████▊  | 78/100 [16:42<03:21,  9.18s/it]/Users/kevinfry/opt/anaconda3/envs/spe/lib/python3.11/site-packages/sklearn/model_selection/_validation.py:73: FutureWarning: `fit_params` is deprecated and will be removed in version 1.6. Pass parameters via `params` instead.\n",
      "  warnings.warn(\n",
      "/Users/kevinfry/opt/anaconda3/envs/spe/lib/python3.11/site-packages/sklearn/model_selection/_validation.py:73: FutureWarning: `fit_params` is deprecated and will be removed in version 1.6. Pass parameters via `params` instead.\n",
      "  warnings.warn(\n",
      " 79%|███████▉  | 79/100 [16:51<03:12,  9.17s/it]/Users/kevinfry/opt/anaconda3/envs/spe/lib/python3.11/site-packages/sklearn/model_selection/_validation.py:73: FutureWarning: `fit_params` is deprecated and will be removed in version 1.6. Pass parameters via `params` instead.\n",
      "  warnings.warn(\n",
      "/Users/kevinfry/opt/anaconda3/envs/spe/lib/python3.11/site-packages/sklearn/model_selection/_validation.py:73: FutureWarning: `fit_params` is deprecated and will be removed in version 1.6. Pass parameters via `params` instead.\n",
      "  warnings.warn(\n",
      " 80%|████████  | 80/100 [17:00<03:02,  9.11s/it]/Users/kevinfry/opt/anaconda3/envs/spe/lib/python3.11/site-packages/sklearn/model_selection/_validation.py:73: FutureWarning: `fit_params` is deprecated and will be removed in version 1.6. Pass parameters via `params` instead.\n",
      "  warnings.warn(\n",
      "/Users/kevinfry/opt/anaconda3/envs/spe/lib/python3.11/site-packages/sklearn/model_selection/_validation.py:73: FutureWarning: `fit_params` is deprecated and will be removed in version 1.6. Pass parameters via `params` instead.\n",
      "  warnings.warn(\n",
      " 81%|████████  | 81/100 [17:09<02:52,  9.06s/it]/Users/kevinfry/opt/anaconda3/envs/spe/lib/python3.11/site-packages/sklearn/model_selection/_validation.py:73: FutureWarning: `fit_params` is deprecated and will be removed in version 1.6. Pass parameters via `params` instead.\n",
      "  warnings.warn(\n",
      "/Users/kevinfry/opt/anaconda3/envs/spe/lib/python3.11/site-packages/sklearn/model_selection/_validation.py:73: FutureWarning: `fit_params` is deprecated and will be removed in version 1.6. Pass parameters via `params` instead.\n",
      "  warnings.warn(\n",
      " 82%|████████▏ | 82/100 [17:18<02:43,  9.06s/it]/Users/kevinfry/opt/anaconda3/envs/spe/lib/python3.11/site-packages/sklearn/model_selection/_validation.py:73: FutureWarning: `fit_params` is deprecated and will be removed in version 1.6. Pass parameters via `params` instead.\n",
      "  warnings.warn(\n",
      "/Users/kevinfry/opt/anaconda3/envs/spe/lib/python3.11/site-packages/sklearn/model_selection/_validation.py:73: FutureWarning: `fit_params` is deprecated and will be removed in version 1.6. Pass parameters via `params` instead.\n",
      "  warnings.warn(\n",
      " 83%|████████▎ | 83/100 [17:27<02:33,  9.06s/it]/Users/kevinfry/opt/anaconda3/envs/spe/lib/python3.11/site-packages/sklearn/model_selection/_validation.py:73: FutureWarning: `fit_params` is deprecated and will be removed in version 1.6. Pass parameters via `params` instead.\n",
      "  warnings.warn(\n",
      "/Users/kevinfry/opt/anaconda3/envs/spe/lib/python3.11/site-packages/sklearn/model_selection/_validation.py:73: FutureWarning: `fit_params` is deprecated and will be removed in version 1.6. Pass parameters via `params` instead.\n",
      "  warnings.warn(\n",
      " 84%|████████▍ | 84/100 [17:36<02:24,  9.04s/it]/Users/kevinfry/opt/anaconda3/envs/spe/lib/python3.11/site-packages/sklearn/model_selection/_validation.py:73: FutureWarning: `fit_params` is deprecated and will be removed in version 1.6. Pass parameters via `params` instead.\n",
      "  warnings.warn(\n",
      "/Users/kevinfry/opt/anaconda3/envs/spe/lib/python3.11/site-packages/sklearn/model_selection/_validation.py:73: FutureWarning: `fit_params` is deprecated and will be removed in version 1.6. Pass parameters via `params` instead.\n",
      "  warnings.warn(\n",
      " 85%|████████▌ | 85/100 [17:45<02:15,  9.04s/it]/Users/kevinfry/opt/anaconda3/envs/spe/lib/python3.11/site-packages/sklearn/model_selection/_validation.py:73: FutureWarning: `fit_params` is deprecated and will be removed in version 1.6. Pass parameters via `params` instead.\n",
      "  warnings.warn(\n",
      "/Users/kevinfry/opt/anaconda3/envs/spe/lib/python3.11/site-packages/sklearn/model_selection/_validation.py:73: FutureWarning: `fit_params` is deprecated and will be removed in version 1.6. Pass parameters via `params` instead.\n",
      "  warnings.warn(\n",
      " 86%|████████▌ | 86/100 [17:54<02:06,  9.03s/it]/Users/kevinfry/opt/anaconda3/envs/spe/lib/python3.11/site-packages/sklearn/model_selection/_validation.py:73: FutureWarning: `fit_params` is deprecated and will be removed in version 1.6. Pass parameters via `params` instead.\n",
      "  warnings.warn(\n",
      "/Users/kevinfry/opt/anaconda3/envs/spe/lib/python3.11/site-packages/sklearn/model_selection/_validation.py:73: FutureWarning: `fit_params` is deprecated and will be removed in version 1.6. Pass parameters via `params` instead.\n",
      "  warnings.warn(\n",
      " 87%|████████▋ | 87/100 [18:03<01:57,  9.03s/it]/Users/kevinfry/opt/anaconda3/envs/spe/lib/python3.11/site-packages/sklearn/model_selection/_validation.py:73: FutureWarning: `fit_params` is deprecated and will be removed in version 1.6. Pass parameters via `params` instead.\n",
      "  warnings.warn(\n",
      "/Users/kevinfry/opt/anaconda3/envs/spe/lib/python3.11/site-packages/sklearn/model_selection/_validation.py:73: FutureWarning: `fit_params` is deprecated and will be removed in version 1.6. Pass parameters via `params` instead.\n",
      "  warnings.warn(\n",
      " 88%|████████▊ | 88/100 [18:12<01:48,  9.03s/it]/Users/kevinfry/opt/anaconda3/envs/spe/lib/python3.11/site-packages/sklearn/model_selection/_validation.py:73: FutureWarning: `fit_params` is deprecated and will be removed in version 1.6. Pass parameters via `params` instead.\n",
      "  warnings.warn(\n",
      "/Users/kevinfry/opt/anaconda3/envs/spe/lib/python3.11/site-packages/sklearn/model_selection/_validation.py:73: FutureWarning: `fit_params` is deprecated and will be removed in version 1.6. Pass parameters via `params` instead.\n",
      "  warnings.warn(\n",
      " 89%|████████▉ | 89/100 [18:21<01:39,  9.03s/it]/Users/kevinfry/opt/anaconda3/envs/spe/lib/python3.11/site-packages/sklearn/model_selection/_validation.py:73: FutureWarning: `fit_params` is deprecated and will be removed in version 1.6. Pass parameters via `params` instead.\n",
      "  warnings.warn(\n",
      "/Users/kevinfry/opt/anaconda3/envs/spe/lib/python3.11/site-packages/sklearn/model_selection/_validation.py:73: FutureWarning: `fit_params` is deprecated and will be removed in version 1.6. Pass parameters via `params` instead.\n",
      "  warnings.warn(\n",
      " 90%|█████████ | 90/100 [18:30<01:30,  9.03s/it]/Users/kevinfry/opt/anaconda3/envs/spe/lib/python3.11/site-packages/sklearn/model_selection/_validation.py:73: FutureWarning: `fit_params` is deprecated and will be removed in version 1.6. Pass parameters via `params` instead.\n",
      "  warnings.warn(\n",
      "/Users/kevinfry/opt/anaconda3/envs/spe/lib/python3.11/site-packages/sklearn/model_selection/_validation.py:73: FutureWarning: `fit_params` is deprecated and will be removed in version 1.6. Pass parameters via `params` instead.\n",
      "  warnings.warn(\n",
      " 91%|█████████ | 91/100 [18:40<01:21,  9.08s/it]/Users/kevinfry/opt/anaconda3/envs/spe/lib/python3.11/site-packages/sklearn/model_selection/_validation.py:73: FutureWarning: `fit_params` is deprecated and will be removed in version 1.6. Pass parameters via `params` instead.\n",
      "  warnings.warn(\n",
      "/Users/kevinfry/opt/anaconda3/envs/spe/lib/python3.11/site-packages/sklearn/model_selection/_validation.py:73: FutureWarning: `fit_params` is deprecated and will be removed in version 1.6. Pass parameters via `params` instead.\n",
      "  warnings.warn(\n",
      " 92%|█████████▏| 92/100 [18:49<01:13,  9.17s/it]/Users/kevinfry/opt/anaconda3/envs/spe/lib/python3.11/site-packages/sklearn/model_selection/_validation.py:73: FutureWarning: `fit_params` is deprecated and will be removed in version 1.6. Pass parameters via `params` instead.\n",
      "  warnings.warn(\n",
      "/Users/kevinfry/opt/anaconda3/envs/spe/lib/python3.11/site-packages/sklearn/model_selection/_validation.py:73: FutureWarning: `fit_params` is deprecated and will be removed in version 1.6. Pass parameters via `params` instead.\n",
      "  warnings.warn(\n",
      " 93%|█████████▎| 93/100 [18:58<01:03,  9.13s/it]/Users/kevinfry/opt/anaconda3/envs/spe/lib/python3.11/site-packages/sklearn/model_selection/_validation.py:73: FutureWarning: `fit_params` is deprecated and will be removed in version 1.6. Pass parameters via `params` instead.\n",
      "  warnings.warn(\n",
      "/Users/kevinfry/opt/anaconda3/envs/spe/lib/python3.11/site-packages/sklearn/model_selection/_validation.py:73: FutureWarning: `fit_params` is deprecated and will be removed in version 1.6. Pass parameters via `params` instead.\n",
      "  warnings.warn(\n",
      " 94%|█████████▍| 94/100 [19:07<00:54,  9.11s/it]/Users/kevinfry/opt/anaconda3/envs/spe/lib/python3.11/site-packages/sklearn/model_selection/_validation.py:73: FutureWarning: `fit_params` is deprecated and will be removed in version 1.6. Pass parameters via `params` instead.\n",
      "  warnings.warn(\n",
      "/Users/kevinfry/opt/anaconda3/envs/spe/lib/python3.11/site-packages/sklearn/model_selection/_validation.py:73: FutureWarning: `fit_params` is deprecated and will be removed in version 1.6. Pass parameters via `params` instead.\n",
      "  warnings.warn(\n",
      " 95%|█████████▌| 95/100 [19:16<00:45,  9.11s/it]/Users/kevinfry/opt/anaconda3/envs/spe/lib/python3.11/site-packages/sklearn/model_selection/_validation.py:73: FutureWarning: `fit_params` is deprecated and will be removed in version 1.6. Pass parameters via `params` instead.\n",
      "  warnings.warn(\n",
      "/Users/kevinfry/opt/anaconda3/envs/spe/lib/python3.11/site-packages/sklearn/model_selection/_validation.py:73: FutureWarning: `fit_params` is deprecated and will be removed in version 1.6. Pass parameters via `params` instead.\n",
      "  warnings.warn(\n",
      " 96%|█████████▌| 96/100 [19:25<00:36,  9.09s/it]/Users/kevinfry/opt/anaconda3/envs/spe/lib/python3.11/site-packages/sklearn/model_selection/_validation.py:73: FutureWarning: `fit_params` is deprecated and will be removed in version 1.6. Pass parameters via `params` instead.\n",
      "  warnings.warn(\n",
      "/Users/kevinfry/opt/anaconda3/envs/spe/lib/python3.11/site-packages/sklearn/model_selection/_validation.py:73: FutureWarning: `fit_params` is deprecated and will be removed in version 1.6. Pass parameters via `params` instead.\n",
      "  warnings.warn(\n",
      " 97%|█████████▋| 97/100 [19:34<00:27,  9.08s/it]/Users/kevinfry/opt/anaconda3/envs/spe/lib/python3.11/site-packages/sklearn/model_selection/_validation.py:73: FutureWarning: `fit_params` is deprecated and will be removed in version 1.6. Pass parameters via `params` instead.\n",
      "  warnings.warn(\n",
      "/Users/kevinfry/opt/anaconda3/envs/spe/lib/python3.11/site-packages/sklearn/model_selection/_validation.py:73: FutureWarning: `fit_params` is deprecated and will be removed in version 1.6. Pass parameters via `params` instead.\n",
      "  warnings.warn(\n",
      " 98%|█████████▊| 98/100 [19:43<00:18,  9.11s/it]/Users/kevinfry/opt/anaconda3/envs/spe/lib/python3.11/site-packages/sklearn/model_selection/_validation.py:73: FutureWarning: `fit_params` is deprecated and will be removed in version 1.6. Pass parameters via `params` instead.\n",
      "  warnings.warn(\n",
      "/Users/kevinfry/opt/anaconda3/envs/spe/lib/python3.11/site-packages/sklearn/model_selection/_validation.py:73: FutureWarning: `fit_params` is deprecated and will be removed in version 1.6. Pass parameters via `params` instead.\n",
      "  warnings.warn(\n",
      " 99%|█████████▉| 99/100 [19:53<00:09,  9.24s/it]/Users/kevinfry/opt/anaconda3/envs/spe/lib/python3.11/site-packages/sklearn/model_selection/_validation.py:73: FutureWarning: `fit_params` is deprecated and will be removed in version 1.6. Pass parameters via `params` instead.\n",
      "  warnings.warn(\n",
      "/Users/kevinfry/opt/anaconda3/envs/spe/lib/python3.11/site-packages/sklearn/model_selection/_validation.py:73: FutureWarning: `fit_params` is deprecated and will be removed in version 1.6. Pass parameters via `params` instead.\n",
      "  warnings.warn(\n",
      "100%|██████████| 100/100 [20:02<00:00, 12.03s/it]\n"
     ]
    }
   ],
   "source": [
    "model_errs = []\n",
    "\n",
    "for model in models:\n",
    "    errs = err_cmp.compare(\n",
    "        model,\n",
    "        ests,\n",
    "        est_kwargs,\n",
    "        niter=niter,\n",
    "        n=n,\n",
    "        p=p,\n",
    "        s=s,\n",
    "        snr=snr, \n",
    "        X=X,\n",
    "        beta=beta,\n",
    "        coord=coord,\n",
    "        Chol_y=Chol_t,\n",
    "        Chol_ystar=None,\n",
    "        Cov_y_ystar=None,\n",
    "        tr_idx=tr_idx,\n",
    "        fair=False,\n",
    "        piecewise_const_mu=True,\n",
    "        est_sigma=False,\n",
    "    )\n",
    "    model_errs.append(errs)"
   ]
  },
  {
   "cell_type": "code",
   "execution_count": 10,
   "metadata": {},
   "outputs": [
    {
     "data": {
      "application/vnd.plotly.v1+json": {
       "config": {
        "plotlyServerURL": "https://plot.ly"
       },
       "data": [
        {
         "marker": {
          "color": [
           "rgb(127, 60, 141)",
           "rgb(17, 165, 121)",
           "rgb(57, 105, 172)",
           "rgb(242, 183, 1)",
           "rgb(231, 63, 116)",
           "rgb(128, 186, 90)",
           "rgb(230, 131, 16)",
           "rgb(0, 134, 149)",
           "rgb(207, 28, 144)",
           "rgb(249, 123, 114)",
           "rgb(165, 170, 153)"
          ]
         },
         "text": [
          1.01,
          0.929,
          1.131
         ],
         "textposition": "outside",
         "type": "bar",
         "x": [
          "GenCp",
          "KFCV",
          "SPCV"
         ],
         "xaxis": "x",
         "y": [
          1.0103580568100963,
          0.9294148617784745,
          1.1305860694836263
         ],
         "yaxis": "y"
        },
        {
         "marker": {
          "color": [
           "rgb(127, 60, 141)",
           "rgb(17, 165, 121)",
           "rgb(57, 105, 172)",
           "rgb(242, 183, 1)",
           "rgb(231, 63, 116)",
           "rgb(128, 186, 90)",
           "rgb(230, 131, 16)",
           "rgb(0, 134, 149)",
           "rgb(207, 28, 144)",
           "rgb(249, 123, 114)",
           "rgb(165, 170, 153)"
          ]
         },
         "text": [
          0.97,
          0.91,
          1.14
         ],
         "textposition": "outside",
         "type": "bar",
         "x": [
          "GenCp",
          "KFCV",
          "SPCV"
         ],
         "xaxis": "x2",
         "y": [
          0.9696767330842122,
          0.9102514686747527,
          1.1403196456606834
         ],
         "yaxis": "y2"
        },
        {
         "marker": {
          "color": [
           "rgb(127, 60, 141)",
           "rgb(17, 165, 121)",
           "rgb(57, 105, 172)",
           "rgb(242, 183, 1)",
           "rgb(231, 63, 116)",
           "rgb(128, 186, 90)",
           "rgb(230, 131, 16)",
           "rgb(0, 134, 149)",
           "rgb(207, 28, 144)",
           "rgb(249, 123, 114)",
           "rgb(165, 170, 153)"
          ]
         },
         "text": [
          0.987,
          0.898,
          1.055
         ],
         "textposition": "outside",
         "type": "bar",
         "x": [
          "GenCp",
          "KFCV",
          "SPCV"
         ],
         "xaxis": "x3",
         "y": [
          0.9869574421836398,
          0.8976090680952838,
          1.0549976194189752
         ],
         "yaxis": "y3"
        }
       ],
       "layout": {
        "annotations": [
         {
          "font": {
           "size": 16
          },
          "showarrow": false,
          "text": "Decision Tree",
          "x": 0.14444444444444446,
          "xanchor": "center",
          "xref": "paper",
          "y": 1,
          "yanchor": "bottom",
          "yref": "paper"
         },
         {
          "font": {
           "size": 16
          },
          "showarrow": false,
          "text": "Ridge CV",
          "x": 0.5,
          "xanchor": "center",
          "xref": "paper",
          "y": 1,
          "yanchor": "bottom",
          "yref": "paper"
         },
         {
          "font": {
           "size": 16
          },
          "showarrow": false,
          "text": "Random Forest",
          "x": 0.8555555555555556,
          "xanchor": "center",
          "xref": "paper",
          "y": 1,
          "yanchor": "bottom",
          "yref": "paper"
         }
        ],
        "shapes": [
         {
          "line": {
           "color": "red"
          },
          "type": "line",
          "x0": 0,
          "x1": 1,
          "xref": "x domain",
          "y0": 1,
          "y1": 1,
          "yref": "y"
         },
         {
          "line": {
           "color": "grey",
           "dash": "dash"
          },
          "type": "line",
          "x0": 0,
          "x1": 1,
          "xref": "x domain",
          "y0": 1.001103434247129,
          "y1": 1.001103434247129,
          "yref": "y"
         },
         {
          "line": {
           "color": "red"
          },
          "type": "line",
          "x0": 0,
          "x1": 1,
          "xref": "x2 domain",
          "y0": 1,
          "y1": 1,
          "yref": "y2"
         },
         {
          "line": {
           "color": "grey",
           "dash": "dash"
          },
          "type": "line",
          "x0": 0,
          "x1": 1,
          "xref": "x2 domain",
          "y0": 1.000995090356995,
          "y1": 1.000995090356995,
          "yref": "y2"
         },
         {
          "line": {
           "color": "red"
          },
          "type": "line",
          "x0": 0,
          "x1": 1,
          "xref": "x3 domain",
          "y0": 1,
          "y1": 1,
          "yref": "y3"
         },
         {
          "line": {
           "color": "grey",
           "dash": "dash"
          },
          "type": "line",
          "x0": 0,
          "x1": 1,
          "xref": "x3 domain",
          "y0": 1.004200568686548,
          "y1": 1.004200568686548,
          "yref": "y3"
         }
        ],
        "showlegend": false,
        "template": {
         "data": {
          "bar": [
           {
            "error_x": {
             "color": "#2a3f5f"
            },
            "error_y": {
             "color": "#2a3f5f"
            },
            "marker": {
             "line": {
              "color": "#E5ECF6",
              "width": 0.5
             },
             "pattern": {
              "fillmode": "overlay",
              "size": 10,
              "solidity": 0.2
             }
            },
            "type": "bar"
           }
          ],
          "barpolar": [
           {
            "marker": {
             "line": {
              "color": "#E5ECF6",
              "width": 0.5
             },
             "pattern": {
              "fillmode": "overlay",
              "size": 10,
              "solidity": 0.2
             }
            },
            "type": "barpolar"
           }
          ],
          "carpet": [
           {
            "aaxis": {
             "endlinecolor": "#2a3f5f",
             "gridcolor": "white",
             "linecolor": "white",
             "minorgridcolor": "white",
             "startlinecolor": "#2a3f5f"
            },
            "baxis": {
             "endlinecolor": "#2a3f5f",
             "gridcolor": "white",
             "linecolor": "white",
             "minorgridcolor": "white",
             "startlinecolor": "#2a3f5f"
            },
            "type": "carpet"
           }
          ],
          "choropleth": [
           {
            "colorbar": {
             "outlinewidth": 0,
             "ticks": ""
            },
            "type": "choropleth"
           }
          ],
          "contour": [
           {
            "colorbar": {
             "outlinewidth": 0,
             "ticks": ""
            },
            "colorscale": [
             [
              0,
              "#0d0887"
             ],
             [
              0.1111111111111111,
              "#46039f"
             ],
             [
              0.2222222222222222,
              "#7201a8"
             ],
             [
              0.3333333333333333,
              "#9c179e"
             ],
             [
              0.4444444444444444,
              "#bd3786"
             ],
             [
              0.5555555555555556,
              "#d8576b"
             ],
             [
              0.6666666666666666,
              "#ed7953"
             ],
             [
              0.7777777777777778,
              "#fb9f3a"
             ],
             [
              0.8888888888888888,
              "#fdca26"
             ],
             [
              1,
              "#f0f921"
             ]
            ],
            "type": "contour"
           }
          ],
          "contourcarpet": [
           {
            "colorbar": {
             "outlinewidth": 0,
             "ticks": ""
            },
            "type": "contourcarpet"
           }
          ],
          "heatmap": [
           {
            "colorbar": {
             "outlinewidth": 0,
             "ticks": ""
            },
            "colorscale": [
             [
              0,
              "#0d0887"
             ],
             [
              0.1111111111111111,
              "#46039f"
             ],
             [
              0.2222222222222222,
              "#7201a8"
             ],
             [
              0.3333333333333333,
              "#9c179e"
             ],
             [
              0.4444444444444444,
              "#bd3786"
             ],
             [
              0.5555555555555556,
              "#d8576b"
             ],
             [
              0.6666666666666666,
              "#ed7953"
             ],
             [
              0.7777777777777778,
              "#fb9f3a"
             ],
             [
              0.8888888888888888,
              "#fdca26"
             ],
             [
              1,
              "#f0f921"
             ]
            ],
            "type": "heatmap"
           }
          ],
          "heatmapgl": [
           {
            "colorbar": {
             "outlinewidth": 0,
             "ticks": ""
            },
            "colorscale": [
             [
              0,
              "#0d0887"
             ],
             [
              0.1111111111111111,
              "#46039f"
             ],
             [
              0.2222222222222222,
              "#7201a8"
             ],
             [
              0.3333333333333333,
              "#9c179e"
             ],
             [
              0.4444444444444444,
              "#bd3786"
             ],
             [
              0.5555555555555556,
              "#d8576b"
             ],
             [
              0.6666666666666666,
              "#ed7953"
             ],
             [
              0.7777777777777778,
              "#fb9f3a"
             ],
             [
              0.8888888888888888,
              "#fdca26"
             ],
             [
              1,
              "#f0f921"
             ]
            ],
            "type": "heatmapgl"
           }
          ],
          "histogram": [
           {
            "marker": {
             "pattern": {
              "fillmode": "overlay",
              "size": 10,
              "solidity": 0.2
             }
            },
            "type": "histogram"
           }
          ],
          "histogram2d": [
           {
            "colorbar": {
             "outlinewidth": 0,
             "ticks": ""
            },
            "colorscale": [
             [
              0,
              "#0d0887"
             ],
             [
              0.1111111111111111,
              "#46039f"
             ],
             [
              0.2222222222222222,
              "#7201a8"
             ],
             [
              0.3333333333333333,
              "#9c179e"
             ],
             [
              0.4444444444444444,
              "#bd3786"
             ],
             [
              0.5555555555555556,
              "#d8576b"
             ],
             [
              0.6666666666666666,
              "#ed7953"
             ],
             [
              0.7777777777777778,
              "#fb9f3a"
             ],
             [
              0.8888888888888888,
              "#fdca26"
             ],
             [
              1,
              "#f0f921"
             ]
            ],
            "type": "histogram2d"
           }
          ],
          "histogram2dcontour": [
           {
            "colorbar": {
             "outlinewidth": 0,
             "ticks": ""
            },
            "colorscale": [
             [
              0,
              "#0d0887"
             ],
             [
              0.1111111111111111,
              "#46039f"
             ],
             [
              0.2222222222222222,
              "#7201a8"
             ],
             [
              0.3333333333333333,
              "#9c179e"
             ],
             [
              0.4444444444444444,
              "#bd3786"
             ],
             [
              0.5555555555555556,
              "#d8576b"
             ],
             [
              0.6666666666666666,
              "#ed7953"
             ],
             [
              0.7777777777777778,
              "#fb9f3a"
             ],
             [
              0.8888888888888888,
              "#fdca26"
             ],
             [
              1,
              "#f0f921"
             ]
            ],
            "type": "histogram2dcontour"
           }
          ],
          "mesh3d": [
           {
            "colorbar": {
             "outlinewidth": 0,
             "ticks": ""
            },
            "type": "mesh3d"
           }
          ],
          "parcoords": [
           {
            "line": {
             "colorbar": {
              "outlinewidth": 0,
              "ticks": ""
             }
            },
            "type": "parcoords"
           }
          ],
          "pie": [
           {
            "automargin": true,
            "type": "pie"
           }
          ],
          "scatter": [
           {
            "fillpattern": {
             "fillmode": "overlay",
             "size": 10,
             "solidity": 0.2
            },
            "type": "scatter"
           }
          ],
          "scatter3d": [
           {
            "line": {
             "colorbar": {
              "outlinewidth": 0,
              "ticks": ""
             }
            },
            "marker": {
             "colorbar": {
              "outlinewidth": 0,
              "ticks": ""
             }
            },
            "type": "scatter3d"
           }
          ],
          "scattercarpet": [
           {
            "marker": {
             "colorbar": {
              "outlinewidth": 0,
              "ticks": ""
             }
            },
            "type": "scattercarpet"
           }
          ],
          "scattergeo": [
           {
            "marker": {
             "colorbar": {
              "outlinewidth": 0,
              "ticks": ""
             }
            },
            "type": "scattergeo"
           }
          ],
          "scattergl": [
           {
            "marker": {
             "colorbar": {
              "outlinewidth": 0,
              "ticks": ""
             }
            },
            "type": "scattergl"
           }
          ],
          "scattermapbox": [
           {
            "marker": {
             "colorbar": {
              "outlinewidth": 0,
              "ticks": ""
             }
            },
            "type": "scattermapbox"
           }
          ],
          "scatterpolar": [
           {
            "marker": {
             "colorbar": {
              "outlinewidth": 0,
              "ticks": ""
             }
            },
            "type": "scatterpolar"
           }
          ],
          "scatterpolargl": [
           {
            "marker": {
             "colorbar": {
              "outlinewidth": 0,
              "ticks": ""
             }
            },
            "type": "scatterpolargl"
           }
          ],
          "scatterternary": [
           {
            "marker": {
             "colorbar": {
              "outlinewidth": 0,
              "ticks": ""
             }
            },
            "type": "scatterternary"
           }
          ],
          "surface": [
           {
            "colorbar": {
             "outlinewidth": 0,
             "ticks": ""
            },
            "colorscale": [
             [
              0,
              "#0d0887"
             ],
             [
              0.1111111111111111,
              "#46039f"
             ],
             [
              0.2222222222222222,
              "#7201a8"
             ],
             [
              0.3333333333333333,
              "#9c179e"
             ],
             [
              0.4444444444444444,
              "#bd3786"
             ],
             [
              0.5555555555555556,
              "#d8576b"
             ],
             [
              0.6666666666666666,
              "#ed7953"
             ],
             [
              0.7777777777777778,
              "#fb9f3a"
             ],
             [
              0.8888888888888888,
              "#fdca26"
             ],
             [
              1,
              "#f0f921"
             ]
            ],
            "type": "surface"
           }
          ],
          "table": [
           {
            "cells": {
             "fill": {
              "color": "#EBF0F8"
             },
             "line": {
              "color": "white"
             }
            },
            "header": {
             "fill": {
              "color": "#C8D4E3"
             },
             "line": {
              "color": "white"
             }
            },
            "type": "table"
           }
          ]
         },
         "layout": {
          "annotationdefaults": {
           "arrowcolor": "#2a3f5f",
           "arrowhead": 0,
           "arrowwidth": 1
          },
          "autotypenumbers": "strict",
          "coloraxis": {
           "colorbar": {
            "outlinewidth": 0,
            "ticks": ""
           }
          },
          "colorscale": {
           "diverging": [
            [
             0,
             "#8e0152"
            ],
            [
             0.1,
             "#c51b7d"
            ],
            [
             0.2,
             "#de77ae"
            ],
            [
             0.3,
             "#f1b6da"
            ],
            [
             0.4,
             "#fde0ef"
            ],
            [
             0.5,
             "#f7f7f7"
            ],
            [
             0.6,
             "#e6f5d0"
            ],
            [
             0.7,
             "#b8e186"
            ],
            [
             0.8,
             "#7fbc41"
            ],
            [
             0.9,
             "#4d9221"
            ],
            [
             1,
             "#276419"
            ]
           ],
           "sequential": [
            [
             0,
             "#0d0887"
            ],
            [
             0.1111111111111111,
             "#46039f"
            ],
            [
             0.2222222222222222,
             "#7201a8"
            ],
            [
             0.3333333333333333,
             "#9c179e"
            ],
            [
             0.4444444444444444,
             "#bd3786"
            ],
            [
             0.5555555555555556,
             "#d8576b"
            ],
            [
             0.6666666666666666,
             "#ed7953"
            ],
            [
             0.7777777777777778,
             "#fb9f3a"
            ],
            [
             0.8888888888888888,
             "#fdca26"
            ],
            [
             1,
             "#f0f921"
            ]
           ],
           "sequentialminus": [
            [
             0,
             "#0d0887"
            ],
            [
             0.1111111111111111,
             "#46039f"
            ],
            [
             0.2222222222222222,
             "#7201a8"
            ],
            [
             0.3333333333333333,
             "#9c179e"
            ],
            [
             0.4444444444444444,
             "#bd3786"
            ],
            [
             0.5555555555555556,
             "#d8576b"
            ],
            [
             0.6666666666666666,
             "#ed7953"
            ],
            [
             0.7777777777777778,
             "#fb9f3a"
            ],
            [
             0.8888888888888888,
             "#fdca26"
            ],
            [
             1,
             "#f0f921"
            ]
           ]
          },
          "colorway": [
           "#636efa",
           "#EF553B",
           "#00cc96",
           "#ab63fa",
           "#FFA15A",
           "#19d3f3",
           "#FF6692",
           "#B6E880",
           "#FF97FF",
           "#FECB52"
          ],
          "font": {
           "color": "#2a3f5f"
          },
          "geo": {
           "bgcolor": "white",
           "lakecolor": "white",
           "landcolor": "#E5ECF6",
           "showlakes": true,
           "showland": true,
           "subunitcolor": "white"
          },
          "hoverlabel": {
           "align": "left"
          },
          "hovermode": "closest",
          "mapbox": {
           "style": "light"
          },
          "paper_bgcolor": "white",
          "plot_bgcolor": "#E5ECF6",
          "polar": {
           "angularaxis": {
            "gridcolor": "white",
            "linecolor": "white",
            "ticks": ""
           },
           "bgcolor": "#E5ECF6",
           "radialaxis": {
            "gridcolor": "white",
            "linecolor": "white",
            "ticks": ""
           }
          },
          "scene": {
           "xaxis": {
            "backgroundcolor": "#E5ECF6",
            "gridcolor": "white",
            "gridwidth": 2,
            "linecolor": "white",
            "showbackground": true,
            "ticks": "",
            "zerolinecolor": "white"
           },
           "yaxis": {
            "backgroundcolor": "#E5ECF6",
            "gridcolor": "white",
            "gridwidth": 2,
            "linecolor": "white",
            "showbackground": true,
            "ticks": "",
            "zerolinecolor": "white"
           },
           "zaxis": {
            "backgroundcolor": "#E5ECF6",
            "gridcolor": "white",
            "gridwidth": 2,
            "linecolor": "white",
            "showbackground": true,
            "ticks": "",
            "zerolinecolor": "white"
           }
          },
          "shapedefaults": {
           "line": {
            "color": "#2a3f5f"
           }
          },
          "ternary": {
           "aaxis": {
            "gridcolor": "white",
            "linecolor": "white",
            "ticks": ""
           },
           "baxis": {
            "gridcolor": "white",
            "linecolor": "white",
            "ticks": ""
           },
           "bgcolor": "#E5ECF6",
           "caxis": {
            "gridcolor": "white",
            "linecolor": "white",
            "ticks": ""
           }
          },
          "title": {
           "x": 0.05
          },
          "xaxis": {
           "automargin": true,
           "gridcolor": "white",
           "linecolor": "white",
           "ticks": "",
           "title": {
            "standoff": 15
           },
           "zerolinecolor": "white",
           "zerolinewidth": 2
          },
          "yaxis": {
           "automargin": true,
           "gridcolor": "white",
           "linecolor": "white",
           "ticks": "",
           "title": {
            "standoff": 15
           },
           "zerolinecolor": "white",
           "zerolinewidth": 2
          }
         }
        },
        "title": {
         "text": "General Models: No Shared Noise"
        },
        "xaxis": {
         "anchor": "y",
         "domain": [
          0,
          0.2888888888888889
         ],
         "title": {
          "text": "Method"
         }
        },
        "xaxis2": {
         "anchor": "y2",
         "domain": [
          0.35555555555555557,
          0.6444444444444445
         ],
         "title": {
          "text": "Method"
         }
        },
        "xaxis3": {
         "anchor": "y3",
         "domain": [
          0.7111111111111111,
          1
         ],
         "title": {
          "text": "Method"
         }
        },
        "yaxis": {
         "anchor": "x",
         "domain": [
          0,
          1
         ],
         "title": {
          "text": "Relative MSE"
         }
        },
        "yaxis2": {
         "anchor": "x2",
         "domain": [
          0,
          1
         ]
        },
        "yaxis3": {
         "anchor": "x3",
         "domain": [
          0,
          1
         ]
        }
       }
      }
     },
     "metadata": {},
     "output_type": "display_data"
    }
   ],
   "source": [
    "fig = gen_model_barplots(\n",
    "    model_errs, \n",
    "    model_names, \n",
    "    est_names, \n",
    "    title=\"General Models: No Shared Noise\", \n",
    "    has_elev_err=True\n",
    ")\n",
    "fig.show()"
   ]
  },
  {
   "attachments": {},
   "cell_type": "markdown",
   "metadata": {},
   "source": [
    "# Simulate $\\begin{pmatrix} Y \\\\ Y^* \\end{pmatrix} \\sim \\mathcal{N}\\left(\\begin{pmatrix} \\mu \\\\ \\mu \\end{pmatrix}, \\begin{pmatrix}\\Sigma_Y & \\Sigma_{Y, Y^*} \\\\ \\Sigma_{Y^*, Y} & \\Sigma_{Y}  \\end{pmatrix}\\right)$"
   ]
  },
  {
   "cell_type": "code",
   "execution_count": 11,
   "metadata": {},
   "outputs": [
    {
     "name": "stderr",
     "output_type": "stream",
     "text": [
      "  0%|          | 0/100 [00:00<?, ?it/s]"
     ]
    },
    {
     "name": "stderr",
     "output_type": "stream",
     "text": [
      "/Users/kevinfry/opt/anaconda3/envs/spe/lib/python3.11/site-packages/sklearn/model_selection/_validation.py:73: FutureWarning:\n",
      "\n",
      "`fit_params` is deprecated and will be removed in version 1.6. Pass parameters via `params` instead.\n",
      "\n",
      "/Users/kevinfry/opt/anaconda3/envs/spe/lib/python3.11/site-packages/sklearn/model_selection/_validation.py:73: FutureWarning:\n",
      "\n",
      "`fit_params` is deprecated and will be removed in version 1.6. Pass parameters via `params` instead.\n",
      "\n",
      "  1%|          | 1/100 [00:00<01:04,  1.54it/s]/Users/kevinfry/opt/anaconda3/envs/spe/lib/python3.11/site-packages/sklearn/model_selection/_validation.py:73: FutureWarning:\n",
      "\n",
      "`fit_params` is deprecated and will be removed in version 1.6. Pass parameters via `params` instead.\n",
      "\n",
      "/Users/kevinfry/opt/anaconda3/envs/spe/lib/python3.11/site-packages/sklearn/model_selection/_validation.py:73: FutureWarning:\n",
      "\n",
      "`fit_params` is deprecated and will be removed in version 1.6. Pass parameters via `params` instead.\n",
      "\n",
      "  2%|▏         | 2/100 [00:01<00:55,  1.75it/s]/Users/kevinfry/opt/anaconda3/envs/spe/lib/python3.11/site-packages/sklearn/model_selection/_validation.py:73: FutureWarning:\n",
      "\n",
      "`fit_params` is deprecated and will be removed in version 1.6. Pass parameters via `params` instead.\n",
      "\n",
      "/Users/kevinfry/opt/anaconda3/envs/spe/lib/python3.11/site-packages/sklearn/model_selection/_validation.py:73: FutureWarning:\n",
      "\n",
      "`fit_params` is deprecated and will be removed in version 1.6. Pass parameters via `params` instead.\n",
      "\n",
      "  3%|▎         | 3/100 [00:01<00:49,  1.97it/s]/Users/kevinfry/opt/anaconda3/envs/spe/lib/python3.11/site-packages/sklearn/model_selection/_validation.py:73: FutureWarning:\n",
      "\n",
      "`fit_params` is deprecated and will be removed in version 1.6. Pass parameters via `params` instead.\n",
      "\n",
      "/Users/kevinfry/opt/anaconda3/envs/spe/lib/python3.11/site-packages/sklearn/model_selection/_validation.py:73: FutureWarning:\n",
      "\n",
      "`fit_params` is deprecated and will be removed in version 1.6. Pass parameters via `params` instead.\n",
      "\n",
      "  4%|▍         | 4/100 [00:02<00:46,  2.06it/s]/Users/kevinfry/opt/anaconda3/envs/spe/lib/python3.11/site-packages/sklearn/model_selection/_validation.py:73: FutureWarning:\n",
      "\n",
      "`fit_params` is deprecated and will be removed in version 1.6. Pass parameters via `params` instead.\n",
      "\n",
      "/Users/kevinfry/opt/anaconda3/envs/spe/lib/python3.11/site-packages/sklearn/model_selection/_validation.py:73: FutureWarning:\n",
      "\n",
      "`fit_params` is deprecated and will be removed in version 1.6. Pass parameters via `params` instead.\n",
      "\n",
      "  5%|▌         | 5/100 [00:02<00:45,  2.07it/s]/Users/kevinfry/opt/anaconda3/envs/spe/lib/python3.11/site-packages/sklearn/model_selection/_validation.py:73: FutureWarning:\n",
      "\n",
      "`fit_params` is deprecated and will be removed in version 1.6. Pass parameters via `params` instead.\n",
      "\n",
      "/Users/kevinfry/opt/anaconda3/envs/spe/lib/python3.11/site-packages/sklearn/model_selection/_validation.py:73: FutureWarning:\n",
      "\n",
      "`fit_params` is deprecated and will be removed in version 1.6. Pass parameters via `params` instead.\n",
      "\n",
      "  6%|▌         | 6/100 [00:03<00:47,  2.00it/s]/Users/kevinfry/opt/anaconda3/envs/spe/lib/python3.11/site-packages/sklearn/model_selection/_validation.py:73: FutureWarning:\n",
      "\n",
      "`fit_params` is deprecated and will be removed in version 1.6. Pass parameters via `params` instead.\n",
      "\n",
      "/Users/kevinfry/opt/anaconda3/envs/spe/lib/python3.11/site-packages/sklearn/model_selection/_validation.py:73: FutureWarning:\n",
      "\n",
      "`fit_params` is deprecated and will be removed in version 1.6. Pass parameters via `params` instead.\n",
      "\n",
      "  7%|▋         | 7/100 [00:03<00:50,  1.85it/s]/Users/kevinfry/opt/anaconda3/envs/spe/lib/python3.11/site-packages/sklearn/model_selection/_validation.py:73: FutureWarning:\n",
      "\n",
      "`fit_params` is deprecated and will be removed in version 1.6. Pass parameters via `params` instead.\n",
      "\n",
      "/Users/kevinfry/opt/anaconda3/envs/spe/lib/python3.11/site-packages/sklearn/model_selection/_validation.py:73: FutureWarning:\n",
      "\n",
      "`fit_params` is deprecated and will be removed in version 1.6. Pass parameters via `params` instead.\n",
      "\n",
      "  8%|▊         | 8/100 [00:04<00:47,  1.92it/s]/Users/kevinfry/opt/anaconda3/envs/spe/lib/python3.11/site-packages/sklearn/model_selection/_validation.py:73: FutureWarning:\n",
      "\n",
      "`fit_params` is deprecated and will be removed in version 1.6. Pass parameters via `params` instead.\n",
      "\n",
      "/Users/kevinfry/opt/anaconda3/envs/spe/lib/python3.11/site-packages/sklearn/model_selection/_validation.py:73: FutureWarning:\n",
      "\n",
      "`fit_params` is deprecated and will be removed in version 1.6. Pass parameters via `params` instead.\n",
      "\n",
      "  9%|▉         | 9/100 [00:04<00:44,  2.07it/s]/Users/kevinfry/opt/anaconda3/envs/spe/lib/python3.11/site-packages/sklearn/model_selection/_validation.py:73: FutureWarning:\n",
      "\n",
      "`fit_params` is deprecated and will be removed in version 1.6. Pass parameters via `params` instead.\n",
      "\n",
      "/Users/kevinfry/opt/anaconda3/envs/spe/lib/python3.11/site-packages/sklearn/model_selection/_validation.py:73: FutureWarning:\n",
      "\n",
      "`fit_params` is deprecated and will be removed in version 1.6. Pass parameters via `params` instead.\n",
      "\n",
      " 10%|█         | 10/100 [00:04<00:41,  2.14it/s]/Users/kevinfry/opt/anaconda3/envs/spe/lib/python3.11/site-packages/sklearn/model_selection/_validation.py:73: FutureWarning:\n",
      "\n",
      "`fit_params` is deprecated and will be removed in version 1.6. Pass parameters via `params` instead.\n",
      "\n",
      "/Users/kevinfry/opt/anaconda3/envs/spe/lib/python3.11/site-packages/sklearn/model_selection/_validation.py:73: FutureWarning:\n",
      "\n",
      "`fit_params` is deprecated and will be removed in version 1.6. Pass parameters via `params` instead.\n",
      "\n",
      " 11%|█         | 11/100 [00:05<00:39,  2.23it/s]/Users/kevinfry/opt/anaconda3/envs/spe/lib/python3.11/site-packages/sklearn/model_selection/_validation.py:73: FutureWarning:\n",
      "\n",
      "`fit_params` is deprecated and will be removed in version 1.6. Pass parameters via `params` instead.\n",
      "\n",
      "/Users/kevinfry/opt/anaconda3/envs/spe/lib/python3.11/site-packages/sklearn/model_selection/_validation.py:73: FutureWarning:\n",
      "\n",
      "`fit_params` is deprecated and will be removed in version 1.6. Pass parameters via `params` instead.\n",
      "\n",
      " 12%|█▏        | 12/100 [00:05<00:39,  2.22it/s]/Users/kevinfry/opt/anaconda3/envs/spe/lib/python3.11/site-packages/sklearn/model_selection/_validation.py:73: FutureWarning:\n",
      "\n",
      "`fit_params` is deprecated and will be removed in version 1.6. Pass parameters via `params` instead.\n",
      "\n",
      "/Users/kevinfry/opt/anaconda3/envs/spe/lib/python3.11/site-packages/sklearn/model_selection/_validation.py:73: FutureWarning:\n",
      "\n",
      "`fit_params` is deprecated and will be removed in version 1.6. Pass parameters via `params` instead.\n",
      "\n",
      " 13%|█▎        | 13/100 [00:06<00:42,  2.07it/s]/Users/kevinfry/opt/anaconda3/envs/spe/lib/python3.11/site-packages/sklearn/model_selection/_validation.py:73: FutureWarning:\n",
      "\n",
      "`fit_params` is deprecated and will be removed in version 1.6. Pass parameters via `params` instead.\n",
      "\n",
      "/Users/kevinfry/opt/anaconda3/envs/spe/lib/python3.11/site-packages/sklearn/model_selection/_validation.py:73: FutureWarning:\n",
      "\n",
      "`fit_params` is deprecated and will be removed in version 1.6. Pass parameters via `params` instead.\n",
      "\n",
      " 14%|█▍        | 14/100 [00:06<00:40,  2.12it/s]/Users/kevinfry/opt/anaconda3/envs/spe/lib/python3.11/site-packages/sklearn/model_selection/_validation.py:73: FutureWarning:\n",
      "\n",
      "`fit_params` is deprecated and will be removed in version 1.6. Pass parameters via `params` instead.\n",
      "\n",
      "/Users/kevinfry/opt/anaconda3/envs/spe/lib/python3.11/site-packages/sklearn/model_selection/_validation.py:73: FutureWarning:\n",
      "\n",
      "`fit_params` is deprecated and will be removed in version 1.6. Pass parameters via `params` instead.\n",
      "\n",
      " 15%|█▌        | 15/100 [00:07<00:38,  2.19it/s]/Users/kevinfry/opt/anaconda3/envs/spe/lib/python3.11/site-packages/sklearn/model_selection/_validation.py:73: FutureWarning:\n",
      "\n",
      "`fit_params` is deprecated and will be removed in version 1.6. Pass parameters via `params` instead.\n",
      "\n",
      "/Users/kevinfry/opt/anaconda3/envs/spe/lib/python3.11/site-packages/sklearn/model_selection/_validation.py:73: FutureWarning:\n",
      "\n",
      "`fit_params` is deprecated and will be removed in version 1.6. Pass parameters via `params` instead.\n",
      "\n",
      " 16%|█▌        | 16/100 [00:07<00:38,  2.21it/s]/Users/kevinfry/opt/anaconda3/envs/spe/lib/python3.11/site-packages/sklearn/model_selection/_validation.py:73: FutureWarning:\n",
      "\n",
      "`fit_params` is deprecated and will be removed in version 1.6. Pass parameters via `params` instead.\n",
      "\n",
      "/Users/kevinfry/opt/anaconda3/envs/spe/lib/python3.11/site-packages/sklearn/model_selection/_validation.py:73: FutureWarning:\n",
      "\n",
      "`fit_params` is deprecated and will be removed in version 1.6. Pass parameters via `params` instead.\n",
      "\n",
      " 17%|█▋        | 17/100 [00:08<00:38,  2.16it/s]/Users/kevinfry/opt/anaconda3/envs/spe/lib/python3.11/site-packages/sklearn/model_selection/_validation.py:73: FutureWarning:\n",
      "\n",
      "`fit_params` is deprecated and will be removed in version 1.6. Pass parameters via `params` instead.\n",
      "\n",
      "/Users/kevinfry/opt/anaconda3/envs/spe/lib/python3.11/site-packages/sklearn/model_selection/_validation.py:73: FutureWarning:\n",
      "\n",
      "`fit_params` is deprecated and will be removed in version 1.6. Pass parameters via `params` instead.\n",
      "\n",
      " 18%|█▊        | 18/100 [00:08<00:36,  2.25it/s]/Users/kevinfry/opt/anaconda3/envs/spe/lib/python3.11/site-packages/sklearn/model_selection/_validation.py:73: FutureWarning:\n",
      "\n",
      "`fit_params` is deprecated and will be removed in version 1.6. Pass parameters via `params` instead.\n",
      "\n",
      "/Users/kevinfry/opt/anaconda3/envs/spe/lib/python3.11/site-packages/sklearn/model_selection/_validation.py:73: FutureWarning:\n",
      "\n",
      "`fit_params` is deprecated and will be removed in version 1.6. Pass parameters via `params` instead.\n",
      "\n",
      " 19%|█▉        | 19/100 [00:09<00:35,  2.26it/s]/Users/kevinfry/opt/anaconda3/envs/spe/lib/python3.11/site-packages/sklearn/model_selection/_validation.py:73: FutureWarning:\n",
      "\n",
      "`fit_params` is deprecated and will be removed in version 1.6. Pass parameters via `params` instead.\n",
      "\n",
      "/Users/kevinfry/opt/anaconda3/envs/spe/lib/python3.11/site-packages/sklearn/model_selection/_validation.py:73: FutureWarning:\n",
      "\n",
      "`fit_params` is deprecated and will be removed in version 1.6. Pass parameters via `params` instead.\n",
      "\n",
      " 20%|██        | 20/100 [00:09<00:36,  2.17it/s]/Users/kevinfry/opt/anaconda3/envs/spe/lib/python3.11/site-packages/sklearn/model_selection/_validation.py:73: FutureWarning:\n",
      "\n",
      "`fit_params` is deprecated and will be removed in version 1.6. Pass parameters via `params` instead.\n",
      "\n",
      "/Users/kevinfry/opt/anaconda3/envs/spe/lib/python3.11/site-packages/sklearn/model_selection/_validation.py:73: FutureWarning:\n",
      "\n",
      "`fit_params` is deprecated and will be removed in version 1.6. Pass parameters via `params` instead.\n",
      "\n",
      " 21%|██        | 21/100 [00:10<00:36,  2.15it/s]/Users/kevinfry/opt/anaconda3/envs/spe/lib/python3.11/site-packages/sklearn/model_selection/_validation.py:73: FutureWarning:\n",
      "\n",
      "`fit_params` is deprecated and will be removed in version 1.6. Pass parameters via `params` instead.\n",
      "\n",
      "/Users/kevinfry/opt/anaconda3/envs/spe/lib/python3.11/site-packages/sklearn/model_selection/_validation.py:73: FutureWarning:\n",
      "\n",
      "`fit_params` is deprecated and will be removed in version 1.6. Pass parameters via `params` instead.\n",
      "\n",
      " 22%|██▏       | 22/100 [00:10<00:36,  2.11it/s]/Users/kevinfry/opt/anaconda3/envs/spe/lib/python3.11/site-packages/sklearn/model_selection/_validation.py:73: FutureWarning:\n",
      "\n",
      "`fit_params` is deprecated and will be removed in version 1.6. Pass parameters via `params` instead.\n",
      "\n",
      "/Users/kevinfry/opt/anaconda3/envs/spe/lib/python3.11/site-packages/sklearn/model_selection/_validation.py:73: FutureWarning:\n",
      "\n",
      "`fit_params` is deprecated and will be removed in version 1.6. Pass parameters via `params` instead.\n",
      "\n",
      " 23%|██▎       | 23/100 [00:11<00:36,  2.10it/s]/Users/kevinfry/opt/anaconda3/envs/spe/lib/python3.11/site-packages/sklearn/model_selection/_validation.py:73: FutureWarning:\n",
      "\n",
      "`fit_params` is deprecated and will be removed in version 1.6. Pass parameters via `params` instead.\n",
      "\n",
      "/Users/kevinfry/opt/anaconda3/envs/spe/lib/python3.11/site-packages/sklearn/model_selection/_validation.py:73: FutureWarning:\n",
      "\n",
      "`fit_params` is deprecated and will be removed in version 1.6. Pass parameters via `params` instead.\n",
      "\n",
      " 24%|██▍       | 24/100 [00:11<00:36,  2.09it/s]/Users/kevinfry/opt/anaconda3/envs/spe/lib/python3.11/site-packages/sklearn/model_selection/_validation.py:73: FutureWarning:\n",
      "\n",
      "`fit_params` is deprecated and will be removed in version 1.6. Pass parameters via `params` instead.\n",
      "\n",
      "/Users/kevinfry/opt/anaconda3/envs/spe/lib/python3.11/site-packages/sklearn/model_selection/_validation.py:73: FutureWarning:\n",
      "\n",
      "`fit_params` is deprecated and will be removed in version 1.6. Pass parameters via `params` instead.\n",
      "\n",
      " 25%|██▌       | 25/100 [00:11<00:35,  2.09it/s]/Users/kevinfry/opt/anaconda3/envs/spe/lib/python3.11/site-packages/sklearn/model_selection/_validation.py:73: FutureWarning:\n",
      "\n",
      "`fit_params` is deprecated and will be removed in version 1.6. Pass parameters via `params` instead.\n",
      "\n",
      "/Users/kevinfry/opt/anaconda3/envs/spe/lib/python3.11/site-packages/sklearn/model_selection/_validation.py:73: FutureWarning:\n",
      "\n",
      "`fit_params` is deprecated and will be removed in version 1.6. Pass parameters via `params` instead.\n",
      "\n",
      " 26%|██▌       | 26/100 [00:12<00:37,  2.00it/s]/Users/kevinfry/opt/anaconda3/envs/spe/lib/python3.11/site-packages/sklearn/model_selection/_validation.py:73: FutureWarning:\n",
      "\n",
      "`fit_params` is deprecated and will be removed in version 1.6. Pass parameters via `params` instead.\n",
      "\n",
      "/Users/kevinfry/opt/anaconda3/envs/spe/lib/python3.11/site-packages/sklearn/model_selection/_validation.py:73: FutureWarning:\n",
      "\n",
      "`fit_params` is deprecated and will be removed in version 1.6. Pass parameters via `params` instead.\n",
      "\n",
      " 27%|██▋       | 27/100 [00:12<00:33,  2.15it/s]/Users/kevinfry/opt/anaconda3/envs/spe/lib/python3.11/site-packages/sklearn/model_selection/_validation.py:73: FutureWarning:\n",
      "\n",
      "`fit_params` is deprecated and will be removed in version 1.6. Pass parameters via `params` instead.\n",
      "\n",
      "/Users/kevinfry/opt/anaconda3/envs/spe/lib/python3.11/site-packages/sklearn/model_selection/_validation.py:73: FutureWarning:\n",
      "\n",
      "`fit_params` is deprecated and will be removed in version 1.6. Pass parameters via `params` instead.\n",
      "\n",
      " 28%|██▊       | 28/100 [00:13<00:34,  2.08it/s]/Users/kevinfry/opt/anaconda3/envs/spe/lib/python3.11/site-packages/sklearn/model_selection/_validation.py:73: FutureWarning:\n",
      "\n",
      "`fit_params` is deprecated and will be removed in version 1.6. Pass parameters via `params` instead.\n",
      "\n",
      "/Users/kevinfry/opt/anaconda3/envs/spe/lib/python3.11/site-packages/sklearn/model_selection/_validation.py:73: FutureWarning:\n",
      "\n",
      "`fit_params` is deprecated and will be removed in version 1.6. Pass parameters via `params` instead.\n",
      "\n",
      " 29%|██▉       | 29/100 [00:13<00:34,  2.07it/s]/Users/kevinfry/opt/anaconda3/envs/spe/lib/python3.11/site-packages/sklearn/model_selection/_validation.py:73: FutureWarning:\n",
      "\n",
      "`fit_params` is deprecated and will be removed in version 1.6. Pass parameters via `params` instead.\n",
      "\n",
      "/Users/kevinfry/opt/anaconda3/envs/spe/lib/python3.11/site-packages/sklearn/model_selection/_validation.py:73: FutureWarning:\n",
      "\n",
      "`fit_params` is deprecated and will be removed in version 1.6. Pass parameters via `params` instead.\n",
      "\n",
      " 30%|███       | 30/100 [00:14<00:33,  2.06it/s]/Users/kevinfry/opt/anaconda3/envs/spe/lib/python3.11/site-packages/sklearn/model_selection/_validation.py:73: FutureWarning:\n",
      "\n",
      "`fit_params` is deprecated and will be removed in version 1.6. Pass parameters via `params` instead.\n",
      "\n",
      "/Users/kevinfry/opt/anaconda3/envs/spe/lib/python3.11/site-packages/sklearn/model_selection/_validation.py:73: FutureWarning:\n",
      "\n",
      "`fit_params` is deprecated and will be removed in version 1.6. Pass parameters via `params` instead.\n",
      "\n",
      " 31%|███       | 31/100 [00:14<00:34,  1.99it/s]/Users/kevinfry/opt/anaconda3/envs/spe/lib/python3.11/site-packages/sklearn/model_selection/_validation.py:73: FutureWarning:\n",
      "\n",
      "`fit_params` is deprecated and will be removed in version 1.6. Pass parameters via `params` instead.\n",
      "\n",
      "/Users/kevinfry/opt/anaconda3/envs/spe/lib/python3.11/site-packages/sklearn/model_selection/_validation.py:73: FutureWarning:\n",
      "\n",
      "`fit_params` is deprecated and will be removed in version 1.6. Pass parameters via `params` instead.\n",
      "\n",
      " 32%|███▏      | 32/100 [00:15<00:36,  1.86it/s]/Users/kevinfry/opt/anaconda3/envs/spe/lib/python3.11/site-packages/sklearn/model_selection/_validation.py:73: FutureWarning:\n",
      "\n",
      "`fit_params` is deprecated and will be removed in version 1.6. Pass parameters via `params` instead.\n",
      "\n",
      "/Users/kevinfry/opt/anaconda3/envs/spe/lib/python3.11/site-packages/sklearn/model_selection/_validation.py:73: FutureWarning:\n",
      "\n",
      "`fit_params` is deprecated and will be removed in version 1.6. Pass parameters via `params` instead.\n",
      "\n",
      " 33%|███▎      | 33/100 [00:15<00:33,  2.02it/s]/Users/kevinfry/opt/anaconda3/envs/spe/lib/python3.11/site-packages/sklearn/model_selection/_validation.py:73: FutureWarning:\n",
      "\n",
      "`fit_params` is deprecated and will be removed in version 1.6. Pass parameters via `params` instead.\n",
      "\n",
      "/Users/kevinfry/opt/anaconda3/envs/spe/lib/python3.11/site-packages/sklearn/model_selection/_validation.py:73: FutureWarning:\n",
      "\n",
      "`fit_params` is deprecated and will be removed in version 1.6. Pass parameters via `params` instead.\n",
      "\n",
      " 34%|███▍      | 34/100 [00:16<00:31,  2.08it/s]/Users/kevinfry/opt/anaconda3/envs/spe/lib/python3.11/site-packages/sklearn/model_selection/_validation.py:73: FutureWarning:\n",
      "\n",
      "`fit_params` is deprecated and will be removed in version 1.6. Pass parameters via `params` instead.\n",
      "\n",
      "/Users/kevinfry/opt/anaconda3/envs/spe/lib/python3.11/site-packages/sklearn/model_selection/_validation.py:73: FutureWarning:\n",
      "\n",
      "`fit_params` is deprecated and will be removed in version 1.6. Pass parameters via `params` instead.\n",
      "\n",
      " 35%|███▌      | 35/100 [00:16<00:30,  2.11it/s]/Users/kevinfry/opt/anaconda3/envs/spe/lib/python3.11/site-packages/sklearn/model_selection/_validation.py:73: FutureWarning:\n",
      "\n",
      "`fit_params` is deprecated and will be removed in version 1.6. Pass parameters via `params` instead.\n",
      "\n",
      "/Users/kevinfry/opt/anaconda3/envs/spe/lib/python3.11/site-packages/sklearn/model_selection/_validation.py:73: FutureWarning:\n",
      "\n",
      "`fit_params` is deprecated and will be removed in version 1.6. Pass parameters via `params` instead.\n",
      "\n",
      " 36%|███▌      | 36/100 [00:17<00:29,  2.18it/s]/Users/kevinfry/opt/anaconda3/envs/spe/lib/python3.11/site-packages/sklearn/model_selection/_validation.py:73: FutureWarning:\n",
      "\n",
      "`fit_params` is deprecated and will be removed in version 1.6. Pass parameters via `params` instead.\n",
      "\n",
      "/Users/kevinfry/opt/anaconda3/envs/spe/lib/python3.11/site-packages/sklearn/model_selection/_validation.py:73: FutureWarning:\n",
      "\n",
      "`fit_params` is deprecated and will be removed in version 1.6. Pass parameters via `params` instead.\n",
      "\n",
      " 37%|███▋      | 37/100 [00:17<00:28,  2.18it/s]/Users/kevinfry/opt/anaconda3/envs/spe/lib/python3.11/site-packages/sklearn/model_selection/_validation.py:73: FutureWarning:\n",
      "\n",
      "`fit_params` is deprecated and will be removed in version 1.6. Pass parameters via `params` instead.\n",
      "\n",
      "/Users/kevinfry/opt/anaconda3/envs/spe/lib/python3.11/site-packages/sklearn/model_selection/_validation.py:73: FutureWarning:\n",
      "\n",
      "`fit_params` is deprecated and will be removed in version 1.6. Pass parameters via `params` instead.\n",
      "\n",
      " 38%|███▊      | 38/100 [00:18<00:28,  2.14it/s]/Users/kevinfry/opt/anaconda3/envs/spe/lib/python3.11/site-packages/sklearn/model_selection/_validation.py:73: FutureWarning:\n",
      "\n",
      "`fit_params` is deprecated and will be removed in version 1.6. Pass parameters via `params` instead.\n",
      "\n",
      "/Users/kevinfry/opt/anaconda3/envs/spe/lib/python3.11/site-packages/sklearn/model_selection/_validation.py:73: FutureWarning:\n",
      "\n",
      "`fit_params` is deprecated and will be removed in version 1.6. Pass parameters via `params` instead.\n",
      "\n",
      " 39%|███▉      | 39/100 [00:18<00:30,  2.03it/s]/Users/kevinfry/opt/anaconda3/envs/spe/lib/python3.11/site-packages/sklearn/model_selection/_validation.py:73: FutureWarning:\n",
      "\n",
      "`fit_params` is deprecated and will be removed in version 1.6. Pass parameters via `params` instead.\n",
      "\n",
      "/Users/kevinfry/opt/anaconda3/envs/spe/lib/python3.11/site-packages/sklearn/model_selection/_validation.py:73: FutureWarning:\n",
      "\n",
      "`fit_params` is deprecated and will be removed in version 1.6. Pass parameters via `params` instead.\n",
      "\n",
      " 40%|████      | 40/100 [00:19<00:30,  1.95it/s]/Users/kevinfry/opt/anaconda3/envs/spe/lib/python3.11/site-packages/sklearn/model_selection/_validation.py:73: FutureWarning:\n",
      "\n",
      "`fit_params` is deprecated and will be removed in version 1.6. Pass parameters via `params` instead.\n",
      "\n",
      "/Users/kevinfry/opt/anaconda3/envs/spe/lib/python3.11/site-packages/sklearn/model_selection/_validation.py:73: FutureWarning:\n",
      "\n",
      "`fit_params` is deprecated and will be removed in version 1.6. Pass parameters via `params` instead.\n",
      "\n",
      " 41%|████      | 41/100 [00:19<00:30,  1.92it/s]/Users/kevinfry/opt/anaconda3/envs/spe/lib/python3.11/site-packages/sklearn/model_selection/_validation.py:73: FutureWarning:\n",
      "\n",
      "`fit_params` is deprecated and will be removed in version 1.6. Pass parameters via `params` instead.\n",
      "\n",
      "/Users/kevinfry/opt/anaconda3/envs/spe/lib/python3.11/site-packages/sklearn/model_selection/_validation.py:73: FutureWarning:\n",
      "\n",
      "`fit_params` is deprecated and will be removed in version 1.6. Pass parameters via `params` instead.\n",
      "\n",
      " 42%|████▏     | 42/100 [00:20<00:28,  2.01it/s]/Users/kevinfry/opt/anaconda3/envs/spe/lib/python3.11/site-packages/sklearn/model_selection/_validation.py:73: FutureWarning:\n",
      "\n",
      "`fit_params` is deprecated and will be removed in version 1.6. Pass parameters via `params` instead.\n",
      "\n",
      "/Users/kevinfry/opt/anaconda3/envs/spe/lib/python3.11/site-packages/sklearn/model_selection/_validation.py:73: FutureWarning:\n",
      "\n",
      "`fit_params` is deprecated and will be removed in version 1.6. Pass parameters via `params` instead.\n",
      "\n",
      " 43%|████▎     | 43/100 [00:20<00:27,  2.07it/s]/Users/kevinfry/opt/anaconda3/envs/spe/lib/python3.11/site-packages/sklearn/model_selection/_validation.py:73: FutureWarning:\n",
      "\n",
      "`fit_params` is deprecated and will be removed in version 1.6. Pass parameters via `params` instead.\n",
      "\n",
      "/Users/kevinfry/opt/anaconda3/envs/spe/lib/python3.11/site-packages/sklearn/model_selection/_validation.py:73: FutureWarning:\n",
      "\n",
      "`fit_params` is deprecated and will be removed in version 1.6. Pass parameters via `params` instead.\n",
      "\n",
      " 44%|████▍     | 44/100 [00:21<00:26,  2.15it/s]/Users/kevinfry/opt/anaconda3/envs/spe/lib/python3.11/site-packages/sklearn/model_selection/_validation.py:73: FutureWarning:\n",
      "\n",
      "`fit_params` is deprecated and will be removed in version 1.6. Pass parameters via `params` instead.\n",
      "\n",
      "/Users/kevinfry/opt/anaconda3/envs/spe/lib/python3.11/site-packages/sklearn/model_selection/_validation.py:73: FutureWarning:\n",
      "\n",
      "`fit_params` is deprecated and will be removed in version 1.6. Pass parameters via `params` instead.\n",
      "\n",
      " 45%|████▌     | 45/100 [00:21<00:25,  2.19it/s]/Users/kevinfry/opt/anaconda3/envs/spe/lib/python3.11/site-packages/sklearn/model_selection/_validation.py:73: FutureWarning:\n",
      "\n",
      "`fit_params` is deprecated and will be removed in version 1.6. Pass parameters via `params` instead.\n",
      "\n",
      "/Users/kevinfry/opt/anaconda3/envs/spe/lib/python3.11/site-packages/sklearn/model_selection/_validation.py:73: FutureWarning:\n",
      "\n",
      "`fit_params` is deprecated and will be removed in version 1.6. Pass parameters via `params` instead.\n",
      "\n",
      " 46%|████▌     | 46/100 [00:22<00:23,  2.27it/s]/Users/kevinfry/opt/anaconda3/envs/spe/lib/python3.11/site-packages/sklearn/model_selection/_validation.py:73: FutureWarning:\n",
      "\n",
      "`fit_params` is deprecated and will be removed in version 1.6. Pass parameters via `params` instead.\n",
      "\n",
      "/Users/kevinfry/opt/anaconda3/envs/spe/lib/python3.11/site-packages/sklearn/model_selection/_validation.py:73: FutureWarning:\n",
      "\n",
      "`fit_params` is deprecated and will be removed in version 1.6. Pass parameters via `params` instead.\n",
      "\n",
      " 47%|████▋     | 47/100 [00:22<00:28,  1.86it/s]/Users/kevinfry/opt/anaconda3/envs/spe/lib/python3.11/site-packages/sklearn/model_selection/_validation.py:73: FutureWarning:\n",
      "\n",
      "`fit_params` is deprecated and will be removed in version 1.6. Pass parameters via `params` instead.\n",
      "\n",
      "/Users/kevinfry/opt/anaconda3/envs/spe/lib/python3.11/site-packages/sklearn/model_selection/_validation.py:73: FutureWarning:\n",
      "\n",
      "`fit_params` is deprecated and will be removed in version 1.6. Pass parameters via `params` instead.\n",
      "\n",
      " 48%|████▊     | 48/100 [00:23<00:27,  1.93it/s]/Users/kevinfry/opt/anaconda3/envs/spe/lib/python3.11/site-packages/sklearn/model_selection/_validation.py:73: FutureWarning:\n",
      "\n",
      "`fit_params` is deprecated and will be removed in version 1.6. Pass parameters via `params` instead.\n",
      "\n",
      "/Users/kevinfry/opt/anaconda3/envs/spe/lib/python3.11/site-packages/sklearn/model_selection/_validation.py:73: FutureWarning:\n",
      "\n",
      "`fit_params` is deprecated and will be removed in version 1.6. Pass parameters via `params` instead.\n",
      "\n",
      " 49%|████▉     | 49/100 [00:23<00:24,  2.07it/s]/Users/kevinfry/opt/anaconda3/envs/spe/lib/python3.11/site-packages/sklearn/model_selection/_validation.py:73: FutureWarning:\n",
      "\n",
      "`fit_params` is deprecated and will be removed in version 1.6. Pass parameters via `params` instead.\n",
      "\n",
      "/Users/kevinfry/opt/anaconda3/envs/spe/lib/python3.11/site-packages/sklearn/model_selection/_validation.py:73: FutureWarning:\n",
      "\n",
      "`fit_params` is deprecated and will be removed in version 1.6. Pass parameters via `params` instead.\n",
      "\n",
      " 50%|█████     | 50/100 [00:24<00:23,  2.11it/s]/Users/kevinfry/opt/anaconda3/envs/spe/lib/python3.11/site-packages/sklearn/model_selection/_validation.py:73: FutureWarning:\n",
      "\n",
      "`fit_params` is deprecated and will be removed in version 1.6. Pass parameters via `params` instead.\n",
      "\n",
      "/Users/kevinfry/opt/anaconda3/envs/spe/lib/python3.11/site-packages/sklearn/model_selection/_validation.py:73: FutureWarning:\n",
      "\n",
      "`fit_params` is deprecated and will be removed in version 1.6. Pass parameters via `params` instead.\n",
      "\n",
      " 51%|█████     | 51/100 [00:24<00:23,  2.07it/s]/Users/kevinfry/opt/anaconda3/envs/spe/lib/python3.11/site-packages/sklearn/model_selection/_validation.py:73: FutureWarning:\n",
      "\n",
      "`fit_params` is deprecated and will be removed in version 1.6. Pass parameters via `params` instead.\n",
      "\n",
      "/Users/kevinfry/opt/anaconda3/envs/spe/lib/python3.11/site-packages/sklearn/model_selection/_validation.py:73: FutureWarning:\n",
      "\n",
      "`fit_params` is deprecated and will be removed in version 1.6. Pass parameters via `params` instead.\n",
      "\n",
      " 52%|█████▏    | 52/100 [00:25<00:23,  2.06it/s]/Users/kevinfry/opt/anaconda3/envs/spe/lib/python3.11/site-packages/sklearn/model_selection/_validation.py:73: FutureWarning:\n",
      "\n",
      "`fit_params` is deprecated and will be removed in version 1.6. Pass parameters via `params` instead.\n",
      "\n",
      "/Users/kevinfry/opt/anaconda3/envs/spe/lib/python3.11/site-packages/sklearn/model_selection/_validation.py:73: FutureWarning:\n",
      "\n",
      "`fit_params` is deprecated and will be removed in version 1.6. Pass parameters via `params` instead.\n",
      "\n",
      " 53%|█████▎    | 53/100 [00:25<00:21,  2.16it/s]/Users/kevinfry/opt/anaconda3/envs/spe/lib/python3.11/site-packages/sklearn/model_selection/_validation.py:73: FutureWarning:\n",
      "\n",
      "`fit_params` is deprecated and will be removed in version 1.6. Pass parameters via `params` instead.\n",
      "\n",
      "/Users/kevinfry/opt/anaconda3/envs/spe/lib/python3.11/site-packages/sklearn/model_selection/_validation.py:73: FutureWarning:\n",
      "\n",
      "`fit_params` is deprecated and will be removed in version 1.6. Pass parameters via `params` instead.\n",
      "\n",
      " 54%|█████▍    | 54/100 [00:25<00:20,  2.24it/s]/Users/kevinfry/opt/anaconda3/envs/spe/lib/python3.11/site-packages/sklearn/model_selection/_validation.py:73: FutureWarning:\n",
      "\n",
      "`fit_params` is deprecated and will be removed in version 1.6. Pass parameters via `params` instead.\n",
      "\n",
      "/Users/kevinfry/opt/anaconda3/envs/spe/lib/python3.11/site-packages/sklearn/model_selection/_validation.py:73: FutureWarning:\n",
      "\n",
      "`fit_params` is deprecated and will be removed in version 1.6. Pass parameters via `params` instead.\n",
      "\n",
      " 55%|█████▌    | 55/100 [00:26<00:19,  2.31it/s]/Users/kevinfry/opt/anaconda3/envs/spe/lib/python3.11/site-packages/sklearn/model_selection/_validation.py:73: FutureWarning:\n",
      "\n",
      "`fit_params` is deprecated and will be removed in version 1.6. Pass parameters via `params` instead.\n",
      "\n",
      "/Users/kevinfry/opt/anaconda3/envs/spe/lib/python3.11/site-packages/sklearn/model_selection/_validation.py:73: FutureWarning:\n",
      "\n",
      "`fit_params` is deprecated and will be removed in version 1.6. Pass parameters via `params` instead.\n",
      "\n",
      " 56%|█████▌    | 56/100 [00:26<00:19,  2.27it/s]/Users/kevinfry/opt/anaconda3/envs/spe/lib/python3.11/site-packages/sklearn/model_selection/_validation.py:73: FutureWarning:\n",
      "\n",
      "`fit_params` is deprecated and will be removed in version 1.6. Pass parameters via `params` instead.\n",
      "\n",
      "/Users/kevinfry/opt/anaconda3/envs/spe/lib/python3.11/site-packages/sklearn/model_selection/_validation.py:73: FutureWarning:\n",
      "\n",
      "`fit_params` is deprecated and will be removed in version 1.6. Pass parameters via `params` instead.\n",
      "\n",
      " 57%|█████▋    | 57/100 [00:27<00:18,  2.27it/s]/Users/kevinfry/opt/anaconda3/envs/spe/lib/python3.11/site-packages/sklearn/model_selection/_validation.py:73: FutureWarning:\n",
      "\n",
      "`fit_params` is deprecated and will be removed in version 1.6. Pass parameters via `params` instead.\n",
      "\n",
      "/Users/kevinfry/opt/anaconda3/envs/spe/lib/python3.11/site-packages/sklearn/model_selection/_validation.py:73: FutureWarning:\n",
      "\n",
      "`fit_params` is deprecated and will be removed in version 1.6. Pass parameters via `params` instead.\n",
      "\n",
      " 58%|█████▊    | 58/100 [00:27<00:18,  2.22it/s]/Users/kevinfry/opt/anaconda3/envs/spe/lib/python3.11/site-packages/sklearn/model_selection/_validation.py:73: FutureWarning:\n",
      "\n",
      "`fit_params` is deprecated and will be removed in version 1.6. Pass parameters via `params` instead.\n",
      "\n",
      "/Users/kevinfry/opt/anaconda3/envs/spe/lib/python3.11/site-packages/sklearn/model_selection/_validation.py:73: FutureWarning:\n",
      "\n",
      "`fit_params` is deprecated and will be removed in version 1.6. Pass parameters via `params` instead.\n",
      "\n",
      " 59%|█████▉    | 59/100 [00:28<00:18,  2.22it/s]/Users/kevinfry/opt/anaconda3/envs/spe/lib/python3.11/site-packages/sklearn/model_selection/_validation.py:73: FutureWarning:\n",
      "\n",
      "`fit_params` is deprecated and will be removed in version 1.6. Pass parameters via `params` instead.\n",
      "\n",
      "/Users/kevinfry/opt/anaconda3/envs/spe/lib/python3.11/site-packages/sklearn/model_selection/_validation.py:73: FutureWarning:\n",
      "\n",
      "`fit_params` is deprecated and will be removed in version 1.6. Pass parameters via `params` instead.\n",
      "\n",
      " 60%|██████    | 60/100 [00:28<00:18,  2.18it/s]/Users/kevinfry/opt/anaconda3/envs/spe/lib/python3.11/site-packages/sklearn/model_selection/_validation.py:73: FutureWarning:\n",
      "\n",
      "`fit_params` is deprecated and will be removed in version 1.6. Pass parameters via `params` instead.\n",
      "\n",
      "/Users/kevinfry/opt/anaconda3/envs/spe/lib/python3.11/site-packages/sklearn/model_selection/_validation.py:73: FutureWarning:\n",
      "\n",
      "`fit_params` is deprecated and will be removed in version 1.6. Pass parameters via `params` instead.\n",
      "\n",
      " 61%|██████    | 61/100 [00:29<00:17,  2.25it/s]/Users/kevinfry/opt/anaconda3/envs/spe/lib/python3.11/site-packages/sklearn/model_selection/_validation.py:73: FutureWarning:\n",
      "\n",
      "`fit_params` is deprecated and will be removed in version 1.6. Pass parameters via `params` instead.\n",
      "\n",
      "/Users/kevinfry/opt/anaconda3/envs/spe/lib/python3.11/site-packages/sklearn/model_selection/_validation.py:73: FutureWarning:\n",
      "\n",
      "`fit_params` is deprecated and will be removed in version 1.6. Pass parameters via `params` instead.\n",
      "\n",
      " 62%|██████▏   | 62/100 [00:29<00:16,  2.34it/s]/Users/kevinfry/opt/anaconda3/envs/spe/lib/python3.11/site-packages/sklearn/model_selection/_validation.py:73: FutureWarning:\n",
      "\n",
      "`fit_params` is deprecated and will be removed in version 1.6. Pass parameters via `params` instead.\n",
      "\n",
      "/Users/kevinfry/opt/anaconda3/envs/spe/lib/python3.11/site-packages/sklearn/model_selection/_validation.py:73: FutureWarning:\n",
      "\n",
      "`fit_params` is deprecated and will be removed in version 1.6. Pass parameters via `params` instead.\n",
      "\n",
      " 63%|██████▎   | 63/100 [00:29<00:16,  2.31it/s]/Users/kevinfry/opt/anaconda3/envs/spe/lib/python3.11/site-packages/sklearn/model_selection/_validation.py:73: FutureWarning:\n",
      "\n",
      "`fit_params` is deprecated and will be removed in version 1.6. Pass parameters via `params` instead.\n",
      "\n",
      "/Users/kevinfry/opt/anaconda3/envs/spe/lib/python3.11/site-packages/sklearn/model_selection/_validation.py:73: FutureWarning:\n",
      "\n",
      "`fit_params` is deprecated and will be removed in version 1.6. Pass parameters via `params` instead.\n",
      "\n",
      " 64%|██████▍   | 64/100 [00:30<00:16,  2.25it/s]/Users/kevinfry/opt/anaconda3/envs/spe/lib/python3.11/site-packages/sklearn/model_selection/_validation.py:73: FutureWarning:\n",
      "\n",
      "`fit_params` is deprecated and will be removed in version 1.6. Pass parameters via `params` instead.\n",
      "\n",
      "/Users/kevinfry/opt/anaconda3/envs/spe/lib/python3.11/site-packages/sklearn/model_selection/_validation.py:73: FutureWarning:\n",
      "\n",
      "`fit_params` is deprecated and will be removed in version 1.6. Pass parameters via `params` instead.\n",
      "\n",
      " 65%|██████▌   | 65/100 [00:30<00:14,  2.33it/s]/Users/kevinfry/opt/anaconda3/envs/spe/lib/python3.11/site-packages/sklearn/model_selection/_validation.py:73: FutureWarning:\n",
      "\n",
      "`fit_params` is deprecated and will be removed in version 1.6. Pass parameters via `params` instead.\n",
      "\n",
      "/Users/kevinfry/opt/anaconda3/envs/spe/lib/python3.11/site-packages/sklearn/model_selection/_validation.py:73: FutureWarning:\n",
      "\n",
      "`fit_params` is deprecated and will be removed in version 1.6. Pass parameters via `params` instead.\n",
      "\n",
      " 66%|██████▌   | 66/100 [00:31<00:14,  2.29it/s]/Users/kevinfry/opt/anaconda3/envs/spe/lib/python3.11/site-packages/sklearn/model_selection/_validation.py:73: FutureWarning:\n",
      "\n",
      "`fit_params` is deprecated and will be removed in version 1.6. Pass parameters via `params` instead.\n",
      "\n",
      "/Users/kevinfry/opt/anaconda3/envs/spe/lib/python3.11/site-packages/sklearn/model_selection/_validation.py:73: FutureWarning:\n",
      "\n",
      "`fit_params` is deprecated and will be removed in version 1.6. Pass parameters via `params` instead.\n",
      "\n",
      " 67%|██████▋   | 67/100 [00:31<00:14,  2.33it/s]/Users/kevinfry/opt/anaconda3/envs/spe/lib/python3.11/site-packages/sklearn/model_selection/_validation.py:73: FutureWarning:\n",
      "\n",
      "`fit_params` is deprecated and will be removed in version 1.6. Pass parameters via `params` instead.\n",
      "\n",
      "/Users/kevinfry/opt/anaconda3/envs/spe/lib/python3.11/site-packages/sklearn/model_selection/_validation.py:73: FutureWarning:\n",
      "\n",
      "`fit_params` is deprecated and will be removed in version 1.6. Pass parameters via `params` instead.\n",
      "\n",
      " 68%|██████▊   | 68/100 [00:32<00:14,  2.24it/s]/Users/kevinfry/opt/anaconda3/envs/spe/lib/python3.11/site-packages/sklearn/model_selection/_validation.py:73: FutureWarning:\n",
      "\n",
      "`fit_params` is deprecated and will be removed in version 1.6. Pass parameters via `params` instead.\n",
      "\n",
      "/Users/kevinfry/opt/anaconda3/envs/spe/lib/python3.11/site-packages/sklearn/model_selection/_validation.py:73: FutureWarning:\n",
      "\n",
      "`fit_params` is deprecated and will be removed in version 1.6. Pass parameters via `params` instead.\n",
      "\n",
      " 69%|██████▉   | 69/100 [00:32<00:13,  2.24it/s]/Users/kevinfry/opt/anaconda3/envs/spe/lib/python3.11/site-packages/sklearn/model_selection/_validation.py:73: FutureWarning:\n",
      "\n",
      "`fit_params` is deprecated and will be removed in version 1.6. Pass parameters via `params` instead.\n",
      "\n",
      "/Users/kevinfry/opt/anaconda3/envs/spe/lib/python3.11/site-packages/sklearn/model_selection/_validation.py:73: FutureWarning:\n",
      "\n",
      "`fit_params` is deprecated and will be removed in version 1.6. Pass parameters via `params` instead.\n",
      "\n",
      " 70%|███████   | 70/100 [00:32<00:13,  2.28it/s]/Users/kevinfry/opt/anaconda3/envs/spe/lib/python3.11/site-packages/sklearn/model_selection/_validation.py:73: FutureWarning:\n",
      "\n",
      "`fit_params` is deprecated and will be removed in version 1.6. Pass parameters via `params` instead.\n",
      "\n",
      "/Users/kevinfry/opt/anaconda3/envs/spe/lib/python3.11/site-packages/sklearn/model_selection/_validation.py:73: FutureWarning:\n",
      "\n",
      "`fit_params` is deprecated and will be removed in version 1.6. Pass parameters via `params` instead.\n",
      "\n",
      " 71%|███████   | 71/100 [00:33<00:12,  2.27it/s]/Users/kevinfry/opt/anaconda3/envs/spe/lib/python3.11/site-packages/sklearn/model_selection/_validation.py:73: FutureWarning:\n",
      "\n",
      "`fit_params` is deprecated and will be removed in version 1.6. Pass parameters via `params` instead.\n",
      "\n",
      "/Users/kevinfry/opt/anaconda3/envs/spe/lib/python3.11/site-packages/sklearn/model_selection/_validation.py:73: FutureWarning:\n",
      "\n",
      "`fit_params` is deprecated and will be removed in version 1.6. Pass parameters via `params` instead.\n",
      "\n",
      " 72%|███████▏  | 72/100 [00:33<00:12,  2.23it/s]/Users/kevinfry/opt/anaconda3/envs/spe/lib/python3.11/site-packages/sklearn/model_selection/_validation.py:73: FutureWarning:\n",
      "\n",
      "`fit_params` is deprecated and will be removed in version 1.6. Pass parameters via `params` instead.\n",
      "\n",
      "/Users/kevinfry/opt/anaconda3/envs/spe/lib/python3.11/site-packages/sklearn/model_selection/_validation.py:73: FutureWarning:\n",
      "\n",
      "`fit_params` is deprecated and will be removed in version 1.6. Pass parameters via `params` instead.\n",
      "\n",
      " 73%|███████▎  | 73/100 [00:34<00:12,  2.21it/s]/Users/kevinfry/opt/anaconda3/envs/spe/lib/python3.11/site-packages/sklearn/model_selection/_validation.py:73: FutureWarning:\n",
      "\n",
      "`fit_params` is deprecated and will be removed in version 1.6. Pass parameters via `params` instead.\n",
      "\n",
      "/Users/kevinfry/opt/anaconda3/envs/spe/lib/python3.11/site-packages/sklearn/model_selection/_validation.py:73: FutureWarning:\n",
      "\n",
      "`fit_params` is deprecated and will be removed in version 1.6. Pass parameters via `params` instead.\n",
      "\n",
      " 74%|███████▍  | 74/100 [00:34<00:11,  2.21it/s]/Users/kevinfry/opt/anaconda3/envs/spe/lib/python3.11/site-packages/sklearn/model_selection/_validation.py:73: FutureWarning:\n",
      "\n",
      "`fit_params` is deprecated and will be removed in version 1.6. Pass parameters via `params` instead.\n",
      "\n",
      "/Users/kevinfry/opt/anaconda3/envs/spe/lib/python3.11/site-packages/sklearn/model_selection/_validation.py:73: FutureWarning:\n",
      "\n",
      "`fit_params` is deprecated and will be removed in version 1.6. Pass parameters via `params` instead.\n",
      "\n",
      " 75%|███████▌  | 75/100 [00:35<00:11,  2.24it/s]/Users/kevinfry/opt/anaconda3/envs/spe/lib/python3.11/site-packages/sklearn/model_selection/_validation.py:73: FutureWarning:\n",
      "\n",
      "`fit_params` is deprecated and will be removed in version 1.6. Pass parameters via `params` instead.\n",
      "\n",
      "/Users/kevinfry/opt/anaconda3/envs/spe/lib/python3.11/site-packages/sklearn/model_selection/_validation.py:73: FutureWarning:\n",
      "\n",
      "`fit_params` is deprecated and will be removed in version 1.6. Pass parameters via `params` instead.\n",
      "\n",
      " 76%|███████▌  | 76/100 [00:35<00:10,  2.27it/s]/Users/kevinfry/opt/anaconda3/envs/spe/lib/python3.11/site-packages/sklearn/model_selection/_validation.py:73: FutureWarning:\n",
      "\n",
      "`fit_params` is deprecated and will be removed in version 1.6. Pass parameters via `params` instead.\n",
      "\n",
      "/Users/kevinfry/opt/anaconda3/envs/spe/lib/python3.11/site-packages/sklearn/model_selection/_validation.py:73: FutureWarning:\n",
      "\n",
      "`fit_params` is deprecated and will be removed in version 1.6. Pass parameters via `params` instead.\n",
      "\n",
      " 77%|███████▋  | 77/100 [00:36<00:10,  2.29it/s]/Users/kevinfry/opt/anaconda3/envs/spe/lib/python3.11/site-packages/sklearn/model_selection/_validation.py:73: FutureWarning:\n",
      "\n",
      "`fit_params` is deprecated and will be removed in version 1.6. Pass parameters via `params` instead.\n",
      "\n",
      "/Users/kevinfry/opt/anaconda3/envs/spe/lib/python3.11/site-packages/sklearn/model_selection/_validation.py:73: FutureWarning:\n",
      "\n",
      "`fit_params` is deprecated and will be removed in version 1.6. Pass parameters via `params` instead.\n",
      "\n",
      " 78%|███████▊  | 78/100 [00:36<00:10,  2.16it/s]/Users/kevinfry/opt/anaconda3/envs/spe/lib/python3.11/site-packages/sklearn/model_selection/_validation.py:73: FutureWarning:\n",
      "\n",
      "`fit_params` is deprecated and will be removed in version 1.6. Pass parameters via `params` instead.\n",
      "\n",
      "/Users/kevinfry/opt/anaconda3/envs/spe/lib/python3.11/site-packages/sklearn/model_selection/_validation.py:73: FutureWarning:\n",
      "\n",
      "`fit_params` is deprecated and will be removed in version 1.6. Pass parameters via `params` instead.\n",
      "\n",
      " 79%|███████▉  | 79/100 [00:37<00:09,  2.21it/s]/Users/kevinfry/opt/anaconda3/envs/spe/lib/python3.11/site-packages/sklearn/model_selection/_validation.py:73: FutureWarning:\n",
      "\n",
      "`fit_params` is deprecated and will be removed in version 1.6. Pass parameters via `params` instead.\n",
      "\n",
      "/Users/kevinfry/opt/anaconda3/envs/spe/lib/python3.11/site-packages/sklearn/model_selection/_validation.py:73: FutureWarning:\n",
      "\n",
      "`fit_params` is deprecated and will be removed in version 1.6. Pass parameters via `params` instead.\n",
      "\n",
      " 80%|████████  | 80/100 [00:37<00:09,  2.21it/s]/Users/kevinfry/opt/anaconda3/envs/spe/lib/python3.11/site-packages/sklearn/model_selection/_validation.py:73: FutureWarning:\n",
      "\n",
      "`fit_params` is deprecated and will be removed in version 1.6. Pass parameters via `params` instead.\n",
      "\n",
      "/Users/kevinfry/opt/anaconda3/envs/spe/lib/python3.11/site-packages/sklearn/model_selection/_validation.py:73: FutureWarning:\n",
      "\n",
      "`fit_params` is deprecated and will be removed in version 1.6. Pass parameters via `params` instead.\n",
      "\n",
      " 81%|████████  | 81/100 [00:37<00:08,  2.22it/s]/Users/kevinfry/opt/anaconda3/envs/spe/lib/python3.11/site-packages/sklearn/model_selection/_validation.py:73: FutureWarning:\n",
      "\n",
      "`fit_params` is deprecated and will be removed in version 1.6. Pass parameters via `params` instead.\n",
      "\n",
      "/Users/kevinfry/opt/anaconda3/envs/spe/lib/python3.11/site-packages/sklearn/model_selection/_validation.py:73: FutureWarning:\n",
      "\n",
      "`fit_params` is deprecated and will be removed in version 1.6. Pass parameters via `params` instead.\n",
      "\n",
      " 82%|████████▏ | 82/100 [00:38<00:08,  2.17it/s]/Users/kevinfry/opt/anaconda3/envs/spe/lib/python3.11/site-packages/sklearn/model_selection/_validation.py:73: FutureWarning:\n",
      "\n",
      "`fit_params` is deprecated and will be removed in version 1.6. Pass parameters via `params` instead.\n",
      "\n",
      "/Users/kevinfry/opt/anaconda3/envs/spe/lib/python3.11/site-packages/sklearn/model_selection/_validation.py:73: FutureWarning:\n",
      "\n",
      "`fit_params` is deprecated and will be removed in version 1.6. Pass parameters via `params` instead.\n",
      "\n",
      " 83%|████████▎ | 83/100 [00:38<00:07,  2.17it/s]/Users/kevinfry/opt/anaconda3/envs/spe/lib/python3.11/site-packages/sklearn/model_selection/_validation.py:73: FutureWarning:\n",
      "\n",
      "`fit_params` is deprecated and will be removed in version 1.6. Pass parameters via `params` instead.\n",
      "\n",
      "/Users/kevinfry/opt/anaconda3/envs/spe/lib/python3.11/site-packages/sklearn/model_selection/_validation.py:73: FutureWarning:\n",
      "\n",
      "`fit_params` is deprecated and will be removed in version 1.6. Pass parameters via `params` instead.\n",
      "\n",
      " 84%|████████▍ | 84/100 [00:39<00:07,  2.22it/s]/Users/kevinfry/opt/anaconda3/envs/spe/lib/python3.11/site-packages/sklearn/model_selection/_validation.py:73: FutureWarning:\n",
      "\n",
      "`fit_params` is deprecated and will be removed in version 1.6. Pass parameters via `params` instead.\n",
      "\n",
      "/Users/kevinfry/opt/anaconda3/envs/spe/lib/python3.11/site-packages/sklearn/model_selection/_validation.py:73: FutureWarning:\n",
      "\n",
      "`fit_params` is deprecated and will be removed in version 1.6. Pass parameters via `params` instead.\n",
      "\n",
      " 85%|████████▌ | 85/100 [00:39<00:06,  2.23it/s]/Users/kevinfry/opt/anaconda3/envs/spe/lib/python3.11/site-packages/sklearn/model_selection/_validation.py:73: FutureWarning:\n",
      "\n",
      "`fit_params` is deprecated and will be removed in version 1.6. Pass parameters via `params` instead.\n",
      "\n",
      "/Users/kevinfry/opt/anaconda3/envs/spe/lib/python3.11/site-packages/sklearn/model_selection/_validation.py:73: FutureWarning:\n",
      "\n",
      "`fit_params` is deprecated and will be removed in version 1.6. Pass parameters via `params` instead.\n",
      "\n",
      " 86%|████████▌ | 86/100 [00:40<00:06,  2.20it/s]/Users/kevinfry/opt/anaconda3/envs/spe/lib/python3.11/site-packages/sklearn/model_selection/_validation.py:73: FutureWarning:\n",
      "\n",
      "`fit_params` is deprecated and will be removed in version 1.6. Pass parameters via `params` instead.\n",
      "\n",
      "/Users/kevinfry/opt/anaconda3/envs/spe/lib/python3.11/site-packages/sklearn/model_selection/_validation.py:73: FutureWarning:\n",
      "\n",
      "`fit_params` is deprecated and will be removed in version 1.6. Pass parameters via `params` instead.\n",
      "\n",
      " 87%|████████▋ | 87/100 [00:40<00:05,  2.22it/s]/Users/kevinfry/opt/anaconda3/envs/spe/lib/python3.11/site-packages/sklearn/model_selection/_validation.py:73: FutureWarning:\n",
      "\n",
      "`fit_params` is deprecated and will be removed in version 1.6. Pass parameters via `params` instead.\n",
      "\n",
      "/Users/kevinfry/opt/anaconda3/envs/spe/lib/python3.11/site-packages/sklearn/model_selection/_validation.py:73: FutureWarning:\n",
      "\n",
      "`fit_params` is deprecated and will be removed in version 1.6. Pass parameters via `params` instead.\n",
      "\n",
      " 88%|████████▊ | 88/100 [00:41<00:05,  2.12it/s]/Users/kevinfry/opt/anaconda3/envs/spe/lib/python3.11/site-packages/sklearn/model_selection/_validation.py:73: FutureWarning:\n",
      "\n",
      "`fit_params` is deprecated and will be removed in version 1.6. Pass parameters via `params` instead.\n",
      "\n",
      "/Users/kevinfry/opt/anaconda3/envs/spe/lib/python3.11/site-packages/sklearn/model_selection/_validation.py:73: FutureWarning:\n",
      "\n",
      "`fit_params` is deprecated and will be removed in version 1.6. Pass parameters via `params` instead.\n",
      "\n",
      " 89%|████████▉ | 89/100 [00:41<00:05,  2.13it/s]/Users/kevinfry/opt/anaconda3/envs/spe/lib/python3.11/site-packages/sklearn/model_selection/_validation.py:73: FutureWarning:\n",
      "\n",
      "`fit_params` is deprecated and will be removed in version 1.6. Pass parameters via `params` instead.\n",
      "\n",
      "/Users/kevinfry/opt/anaconda3/envs/spe/lib/python3.11/site-packages/sklearn/model_selection/_validation.py:73: FutureWarning:\n",
      "\n",
      "`fit_params` is deprecated and will be removed in version 1.6. Pass parameters via `params` instead.\n",
      "\n",
      " 90%|█████████ | 90/100 [00:42<00:04,  2.15it/s]/Users/kevinfry/opt/anaconda3/envs/spe/lib/python3.11/site-packages/sklearn/model_selection/_validation.py:73: FutureWarning:\n",
      "\n",
      "`fit_params` is deprecated and will be removed in version 1.6. Pass parameters via `params` instead.\n",
      "\n",
      "/Users/kevinfry/opt/anaconda3/envs/spe/lib/python3.11/site-packages/sklearn/model_selection/_validation.py:73: FutureWarning:\n",
      "\n",
      "`fit_params` is deprecated and will be removed in version 1.6. Pass parameters via `params` instead.\n",
      "\n",
      " 91%|█████████ | 91/100 [00:42<00:04,  1.91it/s]/Users/kevinfry/opt/anaconda3/envs/spe/lib/python3.11/site-packages/sklearn/model_selection/_validation.py:73: FutureWarning:\n",
      "\n",
      "`fit_params` is deprecated and will be removed in version 1.6. Pass parameters via `params` instead.\n",
      "\n",
      "/Users/kevinfry/opt/anaconda3/envs/spe/lib/python3.11/site-packages/sklearn/model_selection/_validation.py:73: FutureWarning:\n",
      "\n",
      "`fit_params` is deprecated and will be removed in version 1.6. Pass parameters via `params` instead.\n",
      "\n",
      " 92%|█████████▏| 92/100 [00:43<00:03,  2.02it/s]/Users/kevinfry/opt/anaconda3/envs/spe/lib/python3.11/site-packages/sklearn/model_selection/_validation.py:73: FutureWarning:\n",
      "\n",
      "`fit_params` is deprecated and will be removed in version 1.6. Pass parameters via `params` instead.\n",
      "\n",
      "/Users/kevinfry/opt/anaconda3/envs/spe/lib/python3.11/site-packages/sklearn/model_selection/_validation.py:73: FutureWarning:\n",
      "\n",
      "`fit_params` is deprecated and will be removed in version 1.6. Pass parameters via `params` instead.\n",
      "\n",
      " 93%|█████████▎| 93/100 [00:43<00:03,  2.11it/s]/Users/kevinfry/opt/anaconda3/envs/spe/lib/python3.11/site-packages/sklearn/model_selection/_validation.py:73: FutureWarning:\n",
      "\n",
      "`fit_params` is deprecated and will be removed in version 1.6. Pass parameters via `params` instead.\n",
      "\n",
      "/Users/kevinfry/opt/anaconda3/envs/spe/lib/python3.11/site-packages/sklearn/model_selection/_validation.py:73: FutureWarning:\n",
      "\n",
      "`fit_params` is deprecated and will be removed in version 1.6. Pass parameters via `params` instead.\n",
      "\n",
      " 94%|█████████▍| 94/100 [00:44<00:02,  2.05it/s]/Users/kevinfry/opt/anaconda3/envs/spe/lib/python3.11/site-packages/sklearn/model_selection/_validation.py:73: FutureWarning:\n",
      "\n",
      "`fit_params` is deprecated and will be removed in version 1.6. Pass parameters via `params` instead.\n",
      "\n",
      "/Users/kevinfry/opt/anaconda3/envs/spe/lib/python3.11/site-packages/sklearn/model_selection/_validation.py:73: FutureWarning:\n",
      "\n",
      "`fit_params` is deprecated and will be removed in version 1.6. Pass parameters via `params` instead.\n",
      "\n",
      " 95%|█████████▌| 95/100 [00:44<00:02,  2.14it/s]/Users/kevinfry/opt/anaconda3/envs/spe/lib/python3.11/site-packages/sklearn/model_selection/_validation.py:73: FutureWarning:\n",
      "\n",
      "`fit_params` is deprecated and will be removed in version 1.6. Pass parameters via `params` instead.\n",
      "\n",
      "/Users/kevinfry/opt/anaconda3/envs/spe/lib/python3.11/site-packages/sklearn/model_selection/_validation.py:73: FutureWarning:\n",
      "\n",
      "`fit_params` is deprecated and will be removed in version 1.6. Pass parameters via `params` instead.\n",
      "\n",
      " 96%|█████████▌| 96/100 [00:45<00:01,  2.11it/s]/Users/kevinfry/opt/anaconda3/envs/spe/lib/python3.11/site-packages/sklearn/model_selection/_validation.py:73: FutureWarning:\n",
      "\n",
      "`fit_params` is deprecated and will be removed in version 1.6. Pass parameters via `params` instead.\n",
      "\n",
      "/Users/kevinfry/opt/anaconda3/envs/spe/lib/python3.11/site-packages/sklearn/model_selection/_validation.py:73: FutureWarning:\n",
      "\n",
      "`fit_params` is deprecated and will be removed in version 1.6. Pass parameters via `params` instead.\n",
      "\n",
      " 97%|█████████▋| 97/100 [00:45<00:01,  2.13it/s]/Users/kevinfry/opt/anaconda3/envs/spe/lib/python3.11/site-packages/sklearn/model_selection/_validation.py:73: FutureWarning:\n",
      "\n",
      "`fit_params` is deprecated and will be removed in version 1.6. Pass parameters via `params` instead.\n",
      "\n",
      "/Users/kevinfry/opt/anaconda3/envs/spe/lib/python3.11/site-packages/sklearn/model_selection/_validation.py:73: FutureWarning:\n",
      "\n",
      "`fit_params` is deprecated and will be removed in version 1.6. Pass parameters via `params` instead.\n",
      "\n",
      " 98%|█████████▊| 98/100 [00:45<00:00,  2.19it/s]/Users/kevinfry/opt/anaconda3/envs/spe/lib/python3.11/site-packages/sklearn/model_selection/_validation.py:73: FutureWarning:\n",
      "\n",
      "`fit_params` is deprecated and will be removed in version 1.6. Pass parameters via `params` instead.\n",
      "\n",
      "/Users/kevinfry/opt/anaconda3/envs/spe/lib/python3.11/site-packages/sklearn/model_selection/_validation.py:73: FutureWarning:\n",
      "\n",
      "`fit_params` is deprecated and will be removed in version 1.6. Pass parameters via `params` instead.\n",
      "\n",
      " 99%|█████████▉| 99/100 [00:46<00:00,  2.21it/s]/Users/kevinfry/opt/anaconda3/envs/spe/lib/python3.11/site-packages/sklearn/model_selection/_validation.py:73: FutureWarning:\n",
      "\n",
      "`fit_params` is deprecated and will be removed in version 1.6. Pass parameters via `params` instead.\n",
      "\n",
      "/Users/kevinfry/opt/anaconda3/envs/spe/lib/python3.11/site-packages/sklearn/model_selection/_validation.py:73: FutureWarning:\n",
      "\n",
      "`fit_params` is deprecated and will be removed in version 1.6. Pass parameters via `params` instead.\n",
      "\n",
      "100%|██████████| 100/100 [00:46<00:00,  2.14it/s]\n",
      "  0%|          | 0/100 [00:00<?, ?it/s]/Users/kevinfry/opt/anaconda3/envs/spe/lib/python3.11/site-packages/sklearn/model_selection/_validation.py:73: FutureWarning:\n",
      "\n",
      "`fit_params` is deprecated and will be removed in version 1.6. Pass parameters via `params` instead.\n",
      "\n",
      "/Users/kevinfry/opt/anaconda3/envs/spe/lib/python3.11/site-packages/sklearn/model_selection/_validation.py:73: FutureWarning:\n",
      "\n",
      "`fit_params` is deprecated and will be removed in version 1.6. Pass parameters via `params` instead.\n",
      "\n",
      "  1%|          | 1/100 [00:00<00:41,  2.40it/s]/Users/kevinfry/opt/anaconda3/envs/spe/lib/python3.11/site-packages/sklearn/model_selection/_validation.py:73: FutureWarning:\n",
      "\n",
      "`fit_params` is deprecated and will be removed in version 1.6. Pass parameters via `params` instead.\n",
      "\n",
      "/Users/kevinfry/opt/anaconda3/envs/spe/lib/python3.11/site-packages/sklearn/model_selection/_validation.py:73: FutureWarning:\n",
      "\n",
      "`fit_params` is deprecated and will be removed in version 1.6. Pass parameters via `params` instead.\n",
      "\n",
      "  2%|▏         | 2/100 [00:00<00:37,  2.62it/s]/Users/kevinfry/opt/anaconda3/envs/spe/lib/python3.11/site-packages/sklearn/model_selection/_validation.py:73: FutureWarning:\n",
      "\n",
      "`fit_params` is deprecated and will be removed in version 1.6. Pass parameters via `params` instead.\n",
      "\n",
      "/Users/kevinfry/opt/anaconda3/envs/spe/lib/python3.11/site-packages/sklearn/model_selection/_validation.py:73: FutureWarning:\n",
      "\n",
      "`fit_params` is deprecated and will be removed in version 1.6. Pass parameters via `params` instead.\n",
      "\n",
      "  3%|▎         | 3/100 [00:01<00:34,  2.79it/s]/Users/kevinfry/opt/anaconda3/envs/spe/lib/python3.11/site-packages/sklearn/model_selection/_validation.py:73: FutureWarning:\n",
      "\n",
      "`fit_params` is deprecated and will be removed in version 1.6. Pass parameters via `params` instead.\n",
      "\n",
      "/Users/kevinfry/opt/anaconda3/envs/spe/lib/python3.11/site-packages/sklearn/model_selection/_validation.py:73: FutureWarning:\n",
      "\n",
      "`fit_params` is deprecated and will be removed in version 1.6. Pass parameters via `params` instead.\n",
      "\n",
      "  4%|▍         | 4/100 [00:01<00:35,  2.71it/s]/Users/kevinfry/opt/anaconda3/envs/spe/lib/python3.11/site-packages/sklearn/model_selection/_validation.py:73: FutureWarning:\n",
      "\n",
      "`fit_params` is deprecated and will be removed in version 1.6. Pass parameters via `params` instead.\n",
      "\n",
      "/Users/kevinfry/opt/anaconda3/envs/spe/lib/python3.11/site-packages/sklearn/model_selection/_validation.py:73: FutureWarning:\n",
      "\n",
      "`fit_params` is deprecated and will be removed in version 1.6. Pass parameters via `params` instead.\n",
      "\n",
      "  5%|▌         | 5/100 [00:01<00:35,  2.65it/s]/Users/kevinfry/opt/anaconda3/envs/spe/lib/python3.11/site-packages/sklearn/model_selection/_validation.py:73: FutureWarning:\n",
      "\n",
      "`fit_params` is deprecated and will be removed in version 1.6. Pass parameters via `params` instead.\n",
      "\n",
      "/Users/kevinfry/opt/anaconda3/envs/spe/lib/python3.11/site-packages/sklearn/model_selection/_validation.py:73: FutureWarning:\n",
      "\n",
      "`fit_params` is deprecated and will be removed in version 1.6. Pass parameters via `params` instead.\n",
      "\n",
      "  6%|▌         | 6/100 [00:02<00:34,  2.72it/s]/Users/kevinfry/opt/anaconda3/envs/spe/lib/python3.11/site-packages/sklearn/model_selection/_validation.py:73: FutureWarning:\n",
      "\n",
      "`fit_params` is deprecated and will be removed in version 1.6. Pass parameters via `params` instead.\n",
      "\n",
      "/Users/kevinfry/opt/anaconda3/envs/spe/lib/python3.11/site-packages/sklearn/model_selection/_validation.py:73: FutureWarning:\n",
      "\n",
      "`fit_params` is deprecated and will be removed in version 1.6. Pass parameters via `params` instead.\n",
      "\n",
      "  7%|▋         | 7/100 [00:02<00:35,  2.65it/s]/Users/kevinfry/opt/anaconda3/envs/spe/lib/python3.11/site-packages/sklearn/model_selection/_validation.py:73: FutureWarning:\n",
      "\n",
      "`fit_params` is deprecated and will be removed in version 1.6. Pass parameters via `params` instead.\n",
      "\n",
      "/Users/kevinfry/opt/anaconda3/envs/spe/lib/python3.11/site-packages/sklearn/model_selection/_validation.py:73: FutureWarning:\n",
      "\n",
      "`fit_params` is deprecated and will be removed in version 1.6. Pass parameters via `params` instead.\n",
      "\n",
      "  8%|▊         | 8/100 [00:03<00:36,  2.53it/s]/Users/kevinfry/opt/anaconda3/envs/spe/lib/python3.11/site-packages/sklearn/model_selection/_validation.py:73: FutureWarning:\n",
      "\n",
      "`fit_params` is deprecated and will be removed in version 1.6. Pass parameters via `params` instead.\n",
      "\n",
      "/Users/kevinfry/opt/anaconda3/envs/spe/lib/python3.11/site-packages/sklearn/model_selection/_validation.py:73: FutureWarning:\n",
      "\n",
      "`fit_params` is deprecated and will be removed in version 1.6. Pass parameters via `params` instead.\n",
      "\n",
      "  9%|▉         | 9/100 [00:03<00:37,  2.42it/s]/Users/kevinfry/opt/anaconda3/envs/spe/lib/python3.11/site-packages/sklearn/model_selection/_validation.py:73: FutureWarning:\n",
      "\n",
      "`fit_params` is deprecated and will be removed in version 1.6. Pass parameters via `params` instead.\n",
      "\n",
      "/Users/kevinfry/opt/anaconda3/envs/spe/lib/python3.11/site-packages/sklearn/model_selection/_validation.py:73: FutureWarning:\n",
      "\n",
      "`fit_params` is deprecated and will be removed in version 1.6. Pass parameters via `params` instead.\n",
      "\n",
      " 10%|█         | 10/100 [00:03<00:36,  2.49it/s]/Users/kevinfry/opt/anaconda3/envs/spe/lib/python3.11/site-packages/sklearn/model_selection/_validation.py:73: FutureWarning:\n",
      "\n",
      "`fit_params` is deprecated and will be removed in version 1.6. Pass parameters via `params` instead.\n",
      "\n",
      "/Users/kevinfry/opt/anaconda3/envs/spe/lib/python3.11/site-packages/sklearn/model_selection/_validation.py:73: FutureWarning:\n",
      "\n",
      "`fit_params` is deprecated and will be removed in version 1.6. Pass parameters via `params` instead.\n",
      "\n",
      " 11%|█         | 11/100 [00:04<00:34,  2.59it/s]/Users/kevinfry/opt/anaconda3/envs/spe/lib/python3.11/site-packages/sklearn/model_selection/_validation.py:73: FutureWarning:\n",
      "\n",
      "`fit_params` is deprecated and will be removed in version 1.6. Pass parameters via `params` instead.\n",
      "\n",
      "/Users/kevinfry/opt/anaconda3/envs/spe/lib/python3.11/site-packages/sklearn/model_selection/_validation.py:73: FutureWarning:\n",
      "\n",
      "`fit_params` is deprecated and will be removed in version 1.6. Pass parameters via `params` instead.\n",
      "\n",
      " 12%|█▏        | 12/100 [00:04<00:38,  2.27it/s]/Users/kevinfry/opt/anaconda3/envs/spe/lib/python3.11/site-packages/sklearn/model_selection/_validation.py:73: FutureWarning:\n",
      "\n",
      "`fit_params` is deprecated and will be removed in version 1.6. Pass parameters via `params` instead.\n",
      "\n",
      "/Users/kevinfry/opt/anaconda3/envs/spe/lib/python3.11/site-packages/sklearn/model_selection/_validation.py:73: FutureWarning:\n",
      "\n",
      "`fit_params` is deprecated and will be removed in version 1.6. Pass parameters via `params` instead.\n",
      "\n",
      " 13%|█▎        | 13/100 [00:05<00:36,  2.36it/s]/Users/kevinfry/opt/anaconda3/envs/spe/lib/python3.11/site-packages/sklearn/model_selection/_validation.py:73: FutureWarning:\n",
      "\n",
      "`fit_params` is deprecated and will be removed in version 1.6. Pass parameters via `params` instead.\n",
      "\n",
      "/Users/kevinfry/opt/anaconda3/envs/spe/lib/python3.11/site-packages/sklearn/model_selection/_validation.py:73: FutureWarning:\n",
      "\n",
      "`fit_params` is deprecated and will be removed in version 1.6. Pass parameters via `params` instead.\n",
      "\n",
      " 14%|█▍        | 14/100 [00:05<00:35,  2.42it/s]/Users/kevinfry/opt/anaconda3/envs/spe/lib/python3.11/site-packages/sklearn/model_selection/_validation.py:73: FutureWarning:\n",
      "\n",
      "`fit_params` is deprecated and will be removed in version 1.6. Pass parameters via `params` instead.\n",
      "\n",
      "/Users/kevinfry/opt/anaconda3/envs/spe/lib/python3.11/site-packages/sklearn/model_selection/_validation.py:73: FutureWarning:\n",
      "\n",
      "`fit_params` is deprecated and will be removed in version 1.6. Pass parameters via `params` instead.\n",
      "\n",
      " 15%|█▌        | 15/100 [00:06<00:35,  2.39it/s]/Users/kevinfry/opt/anaconda3/envs/spe/lib/python3.11/site-packages/sklearn/model_selection/_validation.py:73: FutureWarning:\n",
      "\n",
      "`fit_params` is deprecated and will be removed in version 1.6. Pass parameters via `params` instead.\n",
      "\n",
      "/Users/kevinfry/opt/anaconda3/envs/spe/lib/python3.11/site-packages/sklearn/model_selection/_validation.py:73: FutureWarning:\n",
      "\n",
      "`fit_params` is deprecated and will be removed in version 1.6. Pass parameters via `params` instead.\n",
      "\n",
      " 16%|█▌        | 16/100 [00:06<00:34,  2.46it/s]/Users/kevinfry/opt/anaconda3/envs/spe/lib/python3.11/site-packages/sklearn/model_selection/_validation.py:73: FutureWarning:\n",
      "\n",
      "`fit_params` is deprecated and will be removed in version 1.6. Pass parameters via `params` instead.\n",
      "\n",
      "/Users/kevinfry/opt/anaconda3/envs/spe/lib/python3.11/site-packages/sklearn/model_selection/_validation.py:73: FutureWarning:\n",
      "\n",
      "`fit_params` is deprecated and will be removed in version 1.6. Pass parameters via `params` instead.\n",
      "\n",
      " 17%|█▋        | 17/100 [00:06<00:32,  2.54it/s]/Users/kevinfry/opt/anaconda3/envs/spe/lib/python3.11/site-packages/sklearn/model_selection/_validation.py:73: FutureWarning:\n",
      "\n",
      "`fit_params` is deprecated and will be removed in version 1.6. Pass parameters via `params` instead.\n",
      "\n",
      "/Users/kevinfry/opt/anaconda3/envs/spe/lib/python3.11/site-packages/sklearn/model_selection/_validation.py:73: FutureWarning:\n",
      "\n",
      "`fit_params` is deprecated and will be removed in version 1.6. Pass parameters via `params` instead.\n",
      "\n",
      " 18%|█▊        | 18/100 [00:07<00:32,  2.56it/s]/Users/kevinfry/opt/anaconda3/envs/spe/lib/python3.11/site-packages/sklearn/model_selection/_validation.py:73: FutureWarning:\n",
      "\n",
      "`fit_params` is deprecated and will be removed in version 1.6. Pass parameters via `params` instead.\n",
      "\n",
      "/Users/kevinfry/opt/anaconda3/envs/spe/lib/python3.11/site-packages/sklearn/model_selection/_validation.py:73: FutureWarning:\n",
      "\n",
      "`fit_params` is deprecated and will be removed in version 1.6. Pass parameters via `params` instead.\n",
      "\n",
      " 19%|█▉        | 19/100 [00:07<00:31,  2.56it/s]/Users/kevinfry/opt/anaconda3/envs/spe/lib/python3.11/site-packages/sklearn/model_selection/_validation.py:73: FutureWarning:\n",
      "\n",
      "`fit_params` is deprecated and will be removed in version 1.6. Pass parameters via `params` instead.\n",
      "\n",
      "/Users/kevinfry/opt/anaconda3/envs/spe/lib/python3.11/site-packages/sklearn/model_selection/_validation.py:73: FutureWarning:\n",
      "\n",
      "`fit_params` is deprecated and will be removed in version 1.6. Pass parameters via `params` instead.\n",
      "\n",
      " 20%|██        | 20/100 [00:07<00:31,  2.55it/s]/Users/kevinfry/opt/anaconda3/envs/spe/lib/python3.11/site-packages/sklearn/model_selection/_validation.py:73: FutureWarning:\n",
      "\n",
      "`fit_params` is deprecated and will be removed in version 1.6. Pass parameters via `params` instead.\n",
      "\n",
      "/Users/kevinfry/opt/anaconda3/envs/spe/lib/python3.11/site-packages/sklearn/model_selection/_validation.py:73: FutureWarning:\n",
      "\n",
      "`fit_params` is deprecated and will be removed in version 1.6. Pass parameters via `params` instead.\n",
      "\n",
      " 21%|██        | 21/100 [00:08<00:32,  2.47it/s]/Users/kevinfry/opt/anaconda3/envs/spe/lib/python3.11/site-packages/sklearn/model_selection/_validation.py:73: FutureWarning:\n",
      "\n",
      "`fit_params` is deprecated and will be removed in version 1.6. Pass parameters via `params` instead.\n",
      "\n",
      "/Users/kevinfry/opt/anaconda3/envs/spe/lib/python3.11/site-packages/sklearn/model_selection/_validation.py:73: FutureWarning:\n",
      "\n",
      "`fit_params` is deprecated and will be removed in version 1.6. Pass parameters via `params` instead.\n",
      "\n",
      " 22%|██▏       | 22/100 [00:08<00:30,  2.55it/s]/Users/kevinfry/opt/anaconda3/envs/spe/lib/python3.11/site-packages/sklearn/model_selection/_validation.py:73: FutureWarning:\n",
      "\n",
      "`fit_params` is deprecated and will be removed in version 1.6. Pass parameters via `params` instead.\n",
      "\n",
      "/Users/kevinfry/opt/anaconda3/envs/spe/lib/python3.11/site-packages/sklearn/model_selection/_validation.py:73: FutureWarning:\n",
      "\n",
      "`fit_params` is deprecated and will be removed in version 1.6. Pass parameters via `params` instead.\n",
      "\n",
      " 23%|██▎       | 23/100 [00:09<00:29,  2.60it/s]/Users/kevinfry/opt/anaconda3/envs/spe/lib/python3.11/site-packages/sklearn/model_selection/_validation.py:73: FutureWarning:\n",
      "\n",
      "`fit_params` is deprecated and will be removed in version 1.6. Pass parameters via `params` instead.\n",
      "\n",
      "/Users/kevinfry/opt/anaconda3/envs/spe/lib/python3.11/site-packages/sklearn/model_selection/_validation.py:73: FutureWarning:\n",
      "\n",
      "`fit_params` is deprecated and will be removed in version 1.6. Pass parameters via `params` instead.\n",
      "\n",
      " 24%|██▍       | 24/100 [00:09<00:29,  2.62it/s]/Users/kevinfry/opt/anaconda3/envs/spe/lib/python3.11/site-packages/sklearn/model_selection/_validation.py:73: FutureWarning:\n",
      "\n",
      "`fit_params` is deprecated and will be removed in version 1.6. Pass parameters via `params` instead.\n",
      "\n",
      "/Users/kevinfry/opt/anaconda3/envs/spe/lib/python3.11/site-packages/sklearn/model_selection/_validation.py:73: FutureWarning:\n",
      "\n",
      "`fit_params` is deprecated and will be removed in version 1.6. Pass parameters via `params` instead.\n",
      "\n",
      " 25%|██▌       | 25/100 [00:09<00:28,  2.59it/s]/Users/kevinfry/opt/anaconda3/envs/spe/lib/python3.11/site-packages/sklearn/model_selection/_validation.py:73: FutureWarning:\n",
      "\n",
      "`fit_params` is deprecated and will be removed in version 1.6. Pass parameters via `params` instead.\n",
      "\n",
      "/Users/kevinfry/opt/anaconda3/envs/spe/lib/python3.11/site-packages/sklearn/model_selection/_validation.py:73: FutureWarning:\n",
      "\n",
      "`fit_params` is deprecated and will be removed in version 1.6. Pass parameters via `params` instead.\n",
      "\n",
      " 26%|██▌       | 26/100 [00:10<00:29,  2.48it/s]/Users/kevinfry/opt/anaconda3/envs/spe/lib/python3.11/site-packages/sklearn/model_selection/_validation.py:73: FutureWarning:\n",
      "\n",
      "`fit_params` is deprecated and will be removed in version 1.6. Pass parameters via `params` instead.\n",
      "\n",
      "/Users/kevinfry/opt/anaconda3/envs/spe/lib/python3.11/site-packages/sklearn/model_selection/_validation.py:73: FutureWarning:\n",
      "\n",
      "`fit_params` is deprecated and will be removed in version 1.6. Pass parameters via `params` instead.\n",
      "\n",
      " 27%|██▋       | 27/100 [00:10<00:28,  2.60it/s]/Users/kevinfry/opt/anaconda3/envs/spe/lib/python3.11/site-packages/sklearn/model_selection/_validation.py:73: FutureWarning:\n",
      "\n",
      "`fit_params` is deprecated and will be removed in version 1.6. Pass parameters via `params` instead.\n",
      "\n",
      "/Users/kevinfry/opt/anaconda3/envs/spe/lib/python3.11/site-packages/sklearn/model_selection/_validation.py:73: FutureWarning:\n",
      "\n",
      "`fit_params` is deprecated and will be removed in version 1.6. Pass parameters via `params` instead.\n",
      "\n",
      " 28%|██▊       | 28/100 [00:11<00:27,  2.61it/s]/Users/kevinfry/opt/anaconda3/envs/spe/lib/python3.11/site-packages/sklearn/model_selection/_validation.py:73: FutureWarning:\n",
      "\n",
      "`fit_params` is deprecated and will be removed in version 1.6. Pass parameters via `params` instead.\n",
      "\n",
      "/Users/kevinfry/opt/anaconda3/envs/spe/lib/python3.11/site-packages/sklearn/model_selection/_validation.py:73: FutureWarning:\n",
      "\n",
      "`fit_params` is deprecated and will be removed in version 1.6. Pass parameters via `params` instead.\n",
      "\n",
      " 29%|██▉       | 29/100 [00:11<00:27,  2.59it/s]/Users/kevinfry/opt/anaconda3/envs/spe/lib/python3.11/site-packages/sklearn/model_selection/_validation.py:73: FutureWarning:\n",
      "\n",
      "`fit_params` is deprecated and will be removed in version 1.6. Pass parameters via `params` instead.\n",
      "\n",
      "/Users/kevinfry/opt/anaconda3/envs/spe/lib/python3.11/site-packages/sklearn/model_selection/_validation.py:73: FutureWarning:\n",
      "\n",
      "`fit_params` is deprecated and will be removed in version 1.6. Pass parameters via `params` instead.\n",
      "\n",
      " 30%|███       | 30/100 [00:11<00:27,  2.59it/s]/Users/kevinfry/opt/anaconda3/envs/spe/lib/python3.11/site-packages/sklearn/model_selection/_validation.py:73: FutureWarning:\n",
      "\n",
      "`fit_params` is deprecated and will be removed in version 1.6. Pass parameters via `params` instead.\n",
      "\n",
      "/Users/kevinfry/opt/anaconda3/envs/spe/lib/python3.11/site-packages/sklearn/model_selection/_validation.py:73: FutureWarning:\n",
      "\n",
      "`fit_params` is deprecated and will be removed in version 1.6. Pass parameters via `params` instead.\n",
      "\n",
      " 31%|███       | 31/100 [00:12<00:26,  2.58it/s]/Users/kevinfry/opt/anaconda3/envs/spe/lib/python3.11/site-packages/sklearn/model_selection/_validation.py:73: FutureWarning:\n",
      "\n",
      "`fit_params` is deprecated and will be removed in version 1.6. Pass parameters via `params` instead.\n",
      "\n",
      "/Users/kevinfry/opt/anaconda3/envs/spe/lib/python3.11/site-packages/sklearn/model_selection/_validation.py:73: FutureWarning:\n",
      "\n",
      "`fit_params` is deprecated and will be removed in version 1.6. Pass parameters via `params` instead.\n",
      "\n",
      " 32%|███▏      | 32/100 [00:12<00:25,  2.65it/s]/Users/kevinfry/opt/anaconda3/envs/spe/lib/python3.11/site-packages/sklearn/model_selection/_validation.py:73: FutureWarning:\n",
      "\n",
      "`fit_params` is deprecated and will be removed in version 1.6. Pass parameters via `params` instead.\n",
      "\n",
      "/Users/kevinfry/opt/anaconda3/envs/spe/lib/python3.11/site-packages/sklearn/model_selection/_validation.py:73: FutureWarning:\n",
      "\n",
      "`fit_params` is deprecated and will be removed in version 1.6. Pass parameters via `params` instead.\n",
      "\n",
      " 33%|███▎      | 33/100 [00:12<00:24,  2.69it/s]/Users/kevinfry/opt/anaconda3/envs/spe/lib/python3.11/site-packages/sklearn/model_selection/_validation.py:73: FutureWarning:\n",
      "\n",
      "`fit_params` is deprecated and will be removed in version 1.6. Pass parameters via `params` instead.\n",
      "\n",
      "/Users/kevinfry/opt/anaconda3/envs/spe/lib/python3.11/site-packages/sklearn/model_selection/_validation.py:73: FutureWarning:\n",
      "\n",
      "`fit_params` is deprecated and will be removed in version 1.6. Pass parameters via `params` instead.\n",
      "\n",
      " 34%|███▍      | 34/100 [00:13<00:24,  2.65it/s]/Users/kevinfry/opt/anaconda3/envs/spe/lib/python3.11/site-packages/sklearn/model_selection/_validation.py:73: FutureWarning:\n",
      "\n",
      "`fit_params` is deprecated and will be removed in version 1.6. Pass parameters via `params` instead.\n",
      "\n",
      "/Users/kevinfry/opt/anaconda3/envs/spe/lib/python3.11/site-packages/sklearn/model_selection/_validation.py:73: FutureWarning:\n",
      "\n",
      "`fit_params` is deprecated and will be removed in version 1.6. Pass parameters via `params` instead.\n",
      "\n",
      " 35%|███▌      | 35/100 [00:13<00:25,  2.55it/s]/Users/kevinfry/opt/anaconda3/envs/spe/lib/python3.11/site-packages/sklearn/model_selection/_validation.py:73: FutureWarning:\n",
      "\n",
      "`fit_params` is deprecated and will be removed in version 1.6. Pass parameters via `params` instead.\n",
      "\n",
      "/Users/kevinfry/opt/anaconda3/envs/spe/lib/python3.11/site-packages/sklearn/model_selection/_validation.py:73: FutureWarning:\n",
      "\n",
      "`fit_params` is deprecated and will be removed in version 1.6. Pass parameters via `params` instead.\n",
      "\n",
      " 36%|███▌      | 36/100 [00:14<00:26,  2.41it/s]/Users/kevinfry/opt/anaconda3/envs/spe/lib/python3.11/site-packages/sklearn/model_selection/_validation.py:73: FutureWarning:\n",
      "\n",
      "`fit_params` is deprecated and will be removed in version 1.6. Pass parameters via `params` instead.\n",
      "\n",
      "/Users/kevinfry/opt/anaconda3/envs/spe/lib/python3.11/site-packages/sklearn/model_selection/_validation.py:73: FutureWarning:\n",
      "\n",
      "`fit_params` is deprecated and will be removed in version 1.6. Pass parameters via `params` instead.\n",
      "\n",
      " 37%|███▋      | 37/100 [00:14<00:25,  2.46it/s]/Users/kevinfry/opt/anaconda3/envs/spe/lib/python3.11/site-packages/sklearn/model_selection/_validation.py:73: FutureWarning:\n",
      "\n",
      "`fit_params` is deprecated and will be removed in version 1.6. Pass parameters via `params` instead.\n",
      "\n",
      "/Users/kevinfry/opt/anaconda3/envs/spe/lib/python3.11/site-packages/sklearn/model_selection/_validation.py:73: FutureWarning:\n",
      "\n",
      "`fit_params` is deprecated and will be removed in version 1.6. Pass parameters via `params` instead.\n",
      "\n",
      " 38%|███▊      | 38/100 [00:14<00:25,  2.44it/s]/Users/kevinfry/opt/anaconda3/envs/spe/lib/python3.11/site-packages/sklearn/model_selection/_validation.py:73: FutureWarning:\n",
      "\n",
      "`fit_params` is deprecated and will be removed in version 1.6. Pass parameters via `params` instead.\n",
      "\n",
      "/Users/kevinfry/opt/anaconda3/envs/spe/lib/python3.11/site-packages/sklearn/model_selection/_validation.py:73: FutureWarning:\n",
      "\n",
      "`fit_params` is deprecated and will be removed in version 1.6. Pass parameters via `params` instead.\n",
      "\n",
      " 39%|███▉      | 39/100 [00:15<00:23,  2.56it/s]/Users/kevinfry/opt/anaconda3/envs/spe/lib/python3.11/site-packages/sklearn/model_selection/_validation.py:73: FutureWarning:\n",
      "\n",
      "`fit_params` is deprecated and will be removed in version 1.6. Pass parameters via `params` instead.\n",
      "\n",
      "/Users/kevinfry/opt/anaconda3/envs/spe/lib/python3.11/site-packages/sklearn/model_selection/_validation.py:73: FutureWarning:\n",
      "\n",
      "`fit_params` is deprecated and will be removed in version 1.6. Pass parameters via `params` instead.\n",
      "\n",
      " 40%|████      | 40/100 [00:15<00:24,  2.47it/s]/Users/kevinfry/opt/anaconda3/envs/spe/lib/python3.11/site-packages/sklearn/model_selection/_validation.py:73: FutureWarning:\n",
      "\n",
      "`fit_params` is deprecated and will be removed in version 1.6. Pass parameters via `params` instead.\n",
      "\n",
      "/Users/kevinfry/opt/anaconda3/envs/spe/lib/python3.11/site-packages/sklearn/model_selection/_validation.py:73: FutureWarning:\n",
      "\n",
      "`fit_params` is deprecated and will be removed in version 1.6. Pass parameters via `params` instead.\n",
      "\n",
      " 41%|████      | 41/100 [00:16<00:23,  2.51it/s]/Users/kevinfry/opt/anaconda3/envs/spe/lib/python3.11/site-packages/sklearn/model_selection/_validation.py:73: FutureWarning:\n",
      "\n",
      "`fit_params` is deprecated and will be removed in version 1.6. Pass parameters via `params` instead.\n",
      "\n",
      "/Users/kevinfry/opt/anaconda3/envs/spe/lib/python3.11/site-packages/sklearn/model_selection/_validation.py:73: FutureWarning:\n",
      "\n",
      "`fit_params` is deprecated and will be removed in version 1.6. Pass parameters via `params` instead.\n",
      "\n",
      " 42%|████▏     | 42/100 [00:16<00:22,  2.58it/s]/Users/kevinfry/opt/anaconda3/envs/spe/lib/python3.11/site-packages/sklearn/model_selection/_validation.py:73: FutureWarning:\n",
      "\n",
      "`fit_params` is deprecated and will be removed in version 1.6. Pass parameters via `params` instead.\n",
      "\n",
      "/Users/kevinfry/opt/anaconda3/envs/spe/lib/python3.11/site-packages/sklearn/model_selection/_validation.py:73: FutureWarning:\n",
      "\n",
      "`fit_params` is deprecated and will be removed in version 1.6. Pass parameters via `params` instead.\n",
      "\n",
      " 43%|████▎     | 43/100 [00:16<00:21,  2.62it/s]/Users/kevinfry/opt/anaconda3/envs/spe/lib/python3.11/site-packages/sklearn/model_selection/_validation.py:73: FutureWarning:\n",
      "\n",
      "`fit_params` is deprecated and will be removed in version 1.6. Pass parameters via `params` instead.\n",
      "\n",
      "/Users/kevinfry/opt/anaconda3/envs/spe/lib/python3.11/site-packages/sklearn/model_selection/_validation.py:73: FutureWarning:\n",
      "\n",
      "`fit_params` is deprecated and will be removed in version 1.6. Pass parameters via `params` instead.\n",
      "\n",
      " 44%|████▍     | 44/100 [00:17<00:20,  2.70it/s]/Users/kevinfry/opt/anaconda3/envs/spe/lib/python3.11/site-packages/sklearn/model_selection/_validation.py:73: FutureWarning:\n",
      "\n",
      "`fit_params` is deprecated and will be removed in version 1.6. Pass parameters via `params` instead.\n",
      "\n",
      "/Users/kevinfry/opt/anaconda3/envs/spe/lib/python3.11/site-packages/sklearn/model_selection/_validation.py:73: FutureWarning:\n",
      "\n",
      "`fit_params` is deprecated and will be removed in version 1.6. Pass parameters via `params` instead.\n",
      "\n",
      " 45%|████▌     | 45/100 [00:17<00:20,  2.66it/s]/Users/kevinfry/opt/anaconda3/envs/spe/lib/python3.11/site-packages/sklearn/model_selection/_validation.py:73: FutureWarning:\n",
      "\n",
      "`fit_params` is deprecated and will be removed in version 1.6. Pass parameters via `params` instead.\n",
      "\n",
      "/Users/kevinfry/opt/anaconda3/envs/spe/lib/python3.11/site-packages/sklearn/model_selection/_validation.py:73: FutureWarning:\n",
      "\n",
      "`fit_params` is deprecated and will be removed in version 1.6. Pass parameters via `params` instead.\n",
      "\n",
      " 46%|████▌     | 46/100 [00:18<00:20,  2.60it/s]/Users/kevinfry/opt/anaconda3/envs/spe/lib/python3.11/site-packages/sklearn/model_selection/_validation.py:73: FutureWarning:\n",
      "\n",
      "`fit_params` is deprecated and will be removed in version 1.6. Pass parameters via `params` instead.\n",
      "\n",
      "/Users/kevinfry/opt/anaconda3/envs/spe/lib/python3.11/site-packages/sklearn/model_selection/_validation.py:73: FutureWarning:\n",
      "\n",
      "`fit_params` is deprecated and will be removed in version 1.6. Pass parameters via `params` instead.\n",
      "\n",
      " 47%|████▋     | 47/100 [00:18<00:20,  2.59it/s]/Users/kevinfry/opt/anaconda3/envs/spe/lib/python3.11/site-packages/sklearn/model_selection/_validation.py:73: FutureWarning:\n",
      "\n",
      "`fit_params` is deprecated and will be removed in version 1.6. Pass parameters via `params` instead.\n",
      "\n",
      "/Users/kevinfry/opt/anaconda3/envs/spe/lib/python3.11/site-packages/sklearn/model_selection/_validation.py:73: FutureWarning:\n",
      "\n",
      "`fit_params` is deprecated and will be removed in version 1.6. Pass parameters via `params` instead.\n",
      "\n",
      " 48%|████▊     | 48/100 [00:18<00:19,  2.71it/s]/Users/kevinfry/opt/anaconda3/envs/spe/lib/python3.11/site-packages/sklearn/model_selection/_validation.py:73: FutureWarning:\n",
      "\n",
      "`fit_params` is deprecated and will be removed in version 1.6. Pass parameters via `params` instead.\n",
      "\n",
      "/Users/kevinfry/opt/anaconda3/envs/spe/lib/python3.11/site-packages/sklearn/model_selection/_validation.py:73: FutureWarning:\n",
      "\n",
      "`fit_params` is deprecated and will be removed in version 1.6. Pass parameters via `params` instead.\n",
      "\n",
      " 49%|████▉     | 49/100 [00:19<00:19,  2.63it/s]/Users/kevinfry/opt/anaconda3/envs/spe/lib/python3.11/site-packages/sklearn/model_selection/_validation.py:73: FutureWarning:\n",
      "\n",
      "`fit_params` is deprecated and will be removed in version 1.6. Pass parameters via `params` instead.\n",
      "\n",
      "/Users/kevinfry/opt/anaconda3/envs/spe/lib/python3.11/site-packages/sklearn/model_selection/_validation.py:73: FutureWarning:\n",
      "\n",
      "`fit_params` is deprecated and will be removed in version 1.6. Pass parameters via `params` instead.\n",
      "\n",
      " 50%|█████     | 50/100 [00:19<00:18,  2.65it/s]/Users/kevinfry/opt/anaconda3/envs/spe/lib/python3.11/site-packages/sklearn/model_selection/_validation.py:73: FutureWarning:\n",
      "\n",
      "`fit_params` is deprecated and will be removed in version 1.6. Pass parameters via `params` instead.\n",
      "\n",
      "/Users/kevinfry/opt/anaconda3/envs/spe/lib/python3.11/site-packages/sklearn/model_selection/_validation.py:73: FutureWarning:\n",
      "\n",
      "`fit_params` is deprecated and will be removed in version 1.6. Pass parameters via `params` instead.\n",
      "\n",
      " 51%|█████     | 51/100 [00:19<00:18,  2.59it/s]/Users/kevinfry/opt/anaconda3/envs/spe/lib/python3.11/site-packages/sklearn/model_selection/_validation.py:73: FutureWarning:\n",
      "\n",
      "`fit_params` is deprecated and will be removed in version 1.6. Pass parameters via `params` instead.\n",
      "\n",
      "/Users/kevinfry/opt/anaconda3/envs/spe/lib/python3.11/site-packages/sklearn/model_selection/_validation.py:73: FutureWarning:\n",
      "\n",
      "`fit_params` is deprecated and will be removed in version 1.6. Pass parameters via `params` instead.\n",
      "\n",
      " 52%|█████▏    | 52/100 [00:20<00:18,  2.62it/s]/Users/kevinfry/opt/anaconda3/envs/spe/lib/python3.11/site-packages/sklearn/model_selection/_validation.py:73: FutureWarning:\n",
      "\n",
      "`fit_params` is deprecated and will be removed in version 1.6. Pass parameters via `params` instead.\n",
      "\n",
      "/Users/kevinfry/opt/anaconda3/envs/spe/lib/python3.11/site-packages/sklearn/model_selection/_validation.py:73: FutureWarning:\n",
      "\n",
      "`fit_params` is deprecated and will be removed in version 1.6. Pass parameters via `params` instead.\n",
      "\n",
      " 53%|█████▎    | 53/100 [00:20<00:18,  2.59it/s]/Users/kevinfry/opt/anaconda3/envs/spe/lib/python3.11/site-packages/sklearn/model_selection/_validation.py:73: FutureWarning:\n",
      "\n",
      "`fit_params` is deprecated and will be removed in version 1.6. Pass parameters via `params` instead.\n",
      "\n",
      "/Users/kevinfry/opt/anaconda3/envs/spe/lib/python3.11/site-packages/sklearn/model_selection/_validation.py:73: FutureWarning:\n",
      "\n",
      "`fit_params` is deprecated and will be removed in version 1.6. Pass parameters via `params` instead.\n",
      "\n",
      " 54%|█████▍    | 54/100 [00:21<00:17,  2.59it/s]/Users/kevinfry/opt/anaconda3/envs/spe/lib/python3.11/site-packages/sklearn/model_selection/_validation.py:73: FutureWarning:\n",
      "\n",
      "`fit_params` is deprecated and will be removed in version 1.6. Pass parameters via `params` instead.\n",
      "\n",
      "/Users/kevinfry/opt/anaconda3/envs/spe/lib/python3.11/site-packages/sklearn/model_selection/_validation.py:73: FutureWarning:\n",
      "\n",
      "`fit_params` is deprecated and will be removed in version 1.6. Pass parameters via `params` instead.\n",
      "\n",
      " 55%|█████▌    | 55/100 [00:21<00:19,  2.32it/s]/Users/kevinfry/opt/anaconda3/envs/spe/lib/python3.11/site-packages/sklearn/model_selection/_validation.py:73: FutureWarning:\n",
      "\n",
      "`fit_params` is deprecated and will be removed in version 1.6. Pass parameters via `params` instead.\n",
      "\n",
      "/Users/kevinfry/opt/anaconda3/envs/spe/lib/python3.11/site-packages/sklearn/model_selection/_validation.py:73: FutureWarning:\n",
      "\n",
      "`fit_params` is deprecated and will be removed in version 1.6. Pass parameters via `params` instead.\n",
      "\n",
      " 56%|█████▌    | 56/100 [00:22<00:18,  2.36it/s]/Users/kevinfry/opt/anaconda3/envs/spe/lib/python3.11/site-packages/sklearn/model_selection/_validation.py:73: FutureWarning:\n",
      "\n",
      "`fit_params` is deprecated and will be removed in version 1.6. Pass parameters via `params` instead.\n",
      "\n",
      "/Users/kevinfry/opt/anaconda3/envs/spe/lib/python3.11/site-packages/sklearn/model_selection/_validation.py:73: FutureWarning:\n",
      "\n",
      "`fit_params` is deprecated and will be removed in version 1.6. Pass parameters via `params` instead.\n",
      "\n",
      " 57%|█████▋    | 57/100 [00:22<00:18,  2.31it/s]/Users/kevinfry/opt/anaconda3/envs/spe/lib/python3.11/site-packages/sklearn/model_selection/_validation.py:73: FutureWarning:\n",
      "\n",
      "`fit_params` is deprecated and will be removed in version 1.6. Pass parameters via `params` instead.\n",
      "\n",
      "/Users/kevinfry/opt/anaconda3/envs/spe/lib/python3.11/site-packages/sklearn/model_selection/_validation.py:73: FutureWarning:\n",
      "\n",
      "`fit_params` is deprecated and will be removed in version 1.6. Pass parameters via `params` instead.\n",
      "\n",
      " 58%|█████▊    | 58/100 [00:22<00:17,  2.35it/s]/Users/kevinfry/opt/anaconda3/envs/spe/lib/python3.11/site-packages/sklearn/model_selection/_validation.py:73: FutureWarning:\n",
      "\n",
      "`fit_params` is deprecated and will be removed in version 1.6. Pass parameters via `params` instead.\n",
      "\n",
      "/Users/kevinfry/opt/anaconda3/envs/spe/lib/python3.11/site-packages/sklearn/model_selection/_validation.py:73: FutureWarning:\n",
      "\n",
      "`fit_params` is deprecated and will be removed in version 1.6. Pass parameters via `params` instead.\n",
      "\n",
      " 59%|█████▉    | 59/100 [00:23<00:17,  2.35it/s]/Users/kevinfry/opt/anaconda3/envs/spe/lib/python3.11/site-packages/sklearn/model_selection/_validation.py:73: FutureWarning:\n",
      "\n",
      "`fit_params` is deprecated and will be removed in version 1.6. Pass parameters via `params` instead.\n",
      "\n",
      "/Users/kevinfry/opt/anaconda3/envs/spe/lib/python3.11/site-packages/sklearn/model_selection/_validation.py:73: FutureWarning:\n",
      "\n",
      "`fit_params` is deprecated and will be removed in version 1.6. Pass parameters via `params` instead.\n",
      "\n",
      " 60%|██████    | 60/100 [00:23<00:16,  2.49it/s]/Users/kevinfry/opt/anaconda3/envs/spe/lib/python3.11/site-packages/sklearn/model_selection/_validation.py:73: FutureWarning:\n",
      "\n",
      "`fit_params` is deprecated and will be removed in version 1.6. Pass parameters via `params` instead.\n",
      "\n",
      "/Users/kevinfry/opt/anaconda3/envs/spe/lib/python3.11/site-packages/sklearn/model_selection/_validation.py:73: FutureWarning:\n",
      "\n",
      "`fit_params` is deprecated and will be removed in version 1.6. Pass parameters via `params` instead.\n",
      "\n",
      " 61%|██████    | 61/100 [00:24<00:15,  2.58it/s]/Users/kevinfry/opt/anaconda3/envs/spe/lib/python3.11/site-packages/sklearn/model_selection/_validation.py:73: FutureWarning:\n",
      "\n",
      "`fit_params` is deprecated and will be removed in version 1.6. Pass parameters via `params` instead.\n",
      "\n",
      "/Users/kevinfry/opt/anaconda3/envs/spe/lib/python3.11/site-packages/sklearn/model_selection/_validation.py:73: FutureWarning:\n",
      "\n",
      "`fit_params` is deprecated and will be removed in version 1.6. Pass parameters via `params` instead.\n",
      "\n",
      " 62%|██████▏   | 62/100 [00:24<00:13,  2.78it/s]/Users/kevinfry/opt/anaconda3/envs/spe/lib/python3.11/site-packages/sklearn/model_selection/_validation.py:73: FutureWarning:\n",
      "\n",
      "`fit_params` is deprecated and will be removed in version 1.6. Pass parameters via `params` instead.\n",
      "\n",
      "/Users/kevinfry/opt/anaconda3/envs/spe/lib/python3.11/site-packages/sklearn/model_selection/_validation.py:73: FutureWarning:\n",
      "\n",
      "`fit_params` is deprecated and will be removed in version 1.6. Pass parameters via `params` instead.\n",
      "\n",
      " 63%|██████▎   | 63/100 [00:24<00:13,  2.76it/s]/Users/kevinfry/opt/anaconda3/envs/spe/lib/python3.11/site-packages/sklearn/model_selection/_validation.py:73: FutureWarning:\n",
      "\n",
      "`fit_params` is deprecated and will be removed in version 1.6. Pass parameters via `params` instead.\n",
      "\n",
      "/Users/kevinfry/opt/anaconda3/envs/spe/lib/python3.11/site-packages/sklearn/model_selection/_validation.py:73: FutureWarning:\n",
      "\n",
      "`fit_params` is deprecated and will be removed in version 1.6. Pass parameters via `params` instead.\n",
      "\n",
      " 64%|██████▍   | 64/100 [00:25<00:12,  2.77it/s]/Users/kevinfry/opt/anaconda3/envs/spe/lib/python3.11/site-packages/sklearn/model_selection/_validation.py:73: FutureWarning:\n",
      "\n",
      "`fit_params` is deprecated and will be removed in version 1.6. Pass parameters via `params` instead.\n",
      "\n",
      "/Users/kevinfry/opt/anaconda3/envs/spe/lib/python3.11/site-packages/sklearn/model_selection/_validation.py:73: FutureWarning:\n",
      "\n",
      "`fit_params` is deprecated and will be removed in version 1.6. Pass parameters via `params` instead.\n",
      "\n",
      " 65%|██████▌   | 65/100 [00:25<00:13,  2.69it/s]/Users/kevinfry/opt/anaconda3/envs/spe/lib/python3.11/site-packages/sklearn/model_selection/_validation.py:73: FutureWarning:\n",
      "\n",
      "`fit_params` is deprecated and will be removed in version 1.6. Pass parameters via `params` instead.\n",
      "\n",
      "/Users/kevinfry/opt/anaconda3/envs/spe/lib/python3.11/site-packages/sklearn/model_selection/_validation.py:73: FutureWarning:\n",
      "\n",
      "`fit_params` is deprecated and will be removed in version 1.6. Pass parameters via `params` instead.\n",
      "\n",
      " 66%|██████▌   | 66/100 [00:25<00:12,  2.74it/s]/Users/kevinfry/opt/anaconda3/envs/spe/lib/python3.11/site-packages/sklearn/model_selection/_validation.py:73: FutureWarning:\n",
      "\n",
      "`fit_params` is deprecated and will be removed in version 1.6. Pass parameters via `params` instead.\n",
      "\n",
      "/Users/kevinfry/opt/anaconda3/envs/spe/lib/python3.11/site-packages/sklearn/model_selection/_validation.py:73: FutureWarning:\n",
      "\n",
      "`fit_params` is deprecated and will be removed in version 1.6. Pass parameters via `params` instead.\n",
      "\n",
      " 67%|██████▋   | 67/100 [00:26<00:11,  2.76it/s]/Users/kevinfry/opt/anaconda3/envs/spe/lib/python3.11/site-packages/sklearn/model_selection/_validation.py:73: FutureWarning:\n",
      "\n",
      "`fit_params` is deprecated and will be removed in version 1.6. Pass parameters via `params` instead.\n",
      "\n",
      "/Users/kevinfry/opt/anaconda3/envs/spe/lib/python3.11/site-packages/sklearn/model_selection/_validation.py:73: FutureWarning:\n",
      "\n",
      "`fit_params` is deprecated and will be removed in version 1.6. Pass parameters via `params` instead.\n",
      "\n",
      " 68%|██████▊   | 68/100 [00:26<00:11,  2.81it/s]/Users/kevinfry/opt/anaconda3/envs/spe/lib/python3.11/site-packages/sklearn/model_selection/_validation.py:73: FutureWarning:\n",
      "\n",
      "`fit_params` is deprecated and will be removed in version 1.6. Pass parameters via `params` instead.\n",
      "\n",
      "/Users/kevinfry/opt/anaconda3/envs/spe/lib/python3.11/site-packages/sklearn/model_selection/_validation.py:73: FutureWarning:\n",
      "\n",
      "`fit_params` is deprecated and will be removed in version 1.6. Pass parameters via `params` instead.\n",
      "\n",
      " 69%|██████▉   | 69/100 [00:26<00:11,  2.77it/s]/Users/kevinfry/opt/anaconda3/envs/spe/lib/python3.11/site-packages/sklearn/model_selection/_validation.py:73: FutureWarning:\n",
      "\n",
      "`fit_params` is deprecated and will be removed in version 1.6. Pass parameters via `params` instead.\n",
      "\n",
      "/Users/kevinfry/opt/anaconda3/envs/spe/lib/python3.11/site-packages/sklearn/model_selection/_validation.py:73: FutureWarning:\n",
      "\n",
      "`fit_params` is deprecated and will be removed in version 1.6. Pass parameters via `params` instead.\n",
      "\n",
      " 70%|███████   | 70/100 [00:27<00:10,  2.79it/s]/Users/kevinfry/opt/anaconda3/envs/spe/lib/python3.11/site-packages/sklearn/model_selection/_validation.py:73: FutureWarning:\n",
      "\n",
      "`fit_params` is deprecated and will be removed in version 1.6. Pass parameters via `params` instead.\n",
      "\n",
      "/Users/kevinfry/opt/anaconda3/envs/spe/lib/python3.11/site-packages/sklearn/model_selection/_validation.py:73: FutureWarning:\n",
      "\n",
      "`fit_params` is deprecated and will be removed in version 1.6. Pass parameters via `params` instead.\n",
      "\n",
      " 71%|███████   | 71/100 [00:27<00:10,  2.76it/s]/Users/kevinfry/opt/anaconda3/envs/spe/lib/python3.11/site-packages/sklearn/model_selection/_validation.py:73: FutureWarning:\n",
      "\n",
      "`fit_params` is deprecated and will be removed in version 1.6. Pass parameters via `params` instead.\n",
      "\n",
      "/Users/kevinfry/opt/anaconda3/envs/spe/lib/python3.11/site-packages/sklearn/model_selection/_validation.py:73: FutureWarning:\n",
      "\n",
      "`fit_params` is deprecated and will be removed in version 1.6. Pass parameters via `params` instead.\n",
      "\n",
      " 72%|███████▏  | 72/100 [00:27<00:10,  2.70it/s]/Users/kevinfry/opt/anaconda3/envs/spe/lib/python3.11/site-packages/sklearn/model_selection/_validation.py:73: FutureWarning:\n",
      "\n",
      "`fit_params` is deprecated and will be removed in version 1.6. Pass parameters via `params` instead.\n",
      "\n",
      "/Users/kevinfry/opt/anaconda3/envs/spe/lib/python3.11/site-packages/sklearn/model_selection/_validation.py:73: FutureWarning:\n",
      "\n",
      "`fit_params` is deprecated and will be removed in version 1.6. Pass parameters via `params` instead.\n",
      "\n",
      " 73%|███████▎  | 73/100 [00:28<00:10,  2.60it/s]/Users/kevinfry/opt/anaconda3/envs/spe/lib/python3.11/site-packages/sklearn/model_selection/_validation.py:73: FutureWarning:\n",
      "\n",
      "`fit_params` is deprecated and will be removed in version 1.6. Pass parameters via `params` instead.\n",
      "\n",
      "/Users/kevinfry/opt/anaconda3/envs/spe/lib/python3.11/site-packages/sklearn/model_selection/_validation.py:73: FutureWarning:\n",
      "\n",
      "`fit_params` is deprecated and will be removed in version 1.6. Pass parameters via `params` instead.\n",
      "\n",
      " 74%|███████▍  | 74/100 [00:28<00:09,  2.62it/s]/Users/kevinfry/opt/anaconda3/envs/spe/lib/python3.11/site-packages/sklearn/model_selection/_validation.py:73: FutureWarning:\n",
      "\n",
      "`fit_params` is deprecated and will be removed in version 1.6. Pass parameters via `params` instead.\n",
      "\n",
      "/Users/kevinfry/opt/anaconda3/envs/spe/lib/python3.11/site-packages/sklearn/model_selection/_validation.py:73: FutureWarning:\n",
      "\n",
      "`fit_params` is deprecated and will be removed in version 1.6. Pass parameters via `params` instead.\n",
      "\n",
      " 75%|███████▌  | 75/100 [00:29<00:09,  2.54it/s]/Users/kevinfry/opt/anaconda3/envs/spe/lib/python3.11/site-packages/sklearn/model_selection/_validation.py:73: FutureWarning:\n",
      "\n",
      "`fit_params` is deprecated and will be removed in version 1.6. Pass parameters via `params` instead.\n",
      "\n",
      "/Users/kevinfry/opt/anaconda3/envs/spe/lib/python3.11/site-packages/sklearn/model_selection/_validation.py:73: FutureWarning:\n",
      "\n",
      "`fit_params` is deprecated and will be removed in version 1.6. Pass parameters via `params` instead.\n",
      "\n",
      " 76%|███████▌  | 76/100 [00:29<00:09,  2.52it/s]/Users/kevinfry/opt/anaconda3/envs/spe/lib/python3.11/site-packages/sklearn/model_selection/_validation.py:73: FutureWarning:\n",
      "\n",
      "`fit_params` is deprecated and will be removed in version 1.6. Pass parameters via `params` instead.\n",
      "\n",
      "/Users/kevinfry/opt/anaconda3/envs/spe/lib/python3.11/site-packages/sklearn/model_selection/_validation.py:73: FutureWarning:\n",
      "\n",
      "`fit_params` is deprecated and will be removed in version 1.6. Pass parameters via `params` instead.\n",
      "\n",
      " 77%|███████▋  | 77/100 [00:29<00:08,  2.57it/s]/Users/kevinfry/opt/anaconda3/envs/spe/lib/python3.11/site-packages/sklearn/model_selection/_validation.py:73: FutureWarning:\n",
      "\n",
      "`fit_params` is deprecated and will be removed in version 1.6. Pass parameters via `params` instead.\n",
      "\n",
      "/Users/kevinfry/opt/anaconda3/envs/spe/lib/python3.11/site-packages/sklearn/model_selection/_validation.py:73: FutureWarning:\n",
      "\n",
      "`fit_params` is deprecated and will be removed in version 1.6. Pass parameters via `params` instead.\n",
      "\n",
      " 78%|███████▊  | 78/100 [00:30<00:09,  2.23it/s]/Users/kevinfry/opt/anaconda3/envs/spe/lib/python3.11/site-packages/sklearn/model_selection/_validation.py:73: FutureWarning:\n",
      "\n",
      "`fit_params` is deprecated and will be removed in version 1.6. Pass parameters via `params` instead.\n",
      "\n",
      "/Users/kevinfry/opt/anaconda3/envs/spe/lib/python3.11/site-packages/sklearn/model_selection/_validation.py:73: FutureWarning:\n",
      "\n",
      "`fit_params` is deprecated and will be removed in version 1.6. Pass parameters via `params` instead.\n",
      "\n",
      " 79%|███████▉  | 79/100 [00:30<00:09,  2.32it/s]/Users/kevinfry/opt/anaconda3/envs/spe/lib/python3.11/site-packages/sklearn/model_selection/_validation.py:73: FutureWarning:\n",
      "\n",
      "`fit_params` is deprecated and will be removed in version 1.6. Pass parameters via `params` instead.\n",
      "\n",
      "/Users/kevinfry/opt/anaconda3/envs/spe/lib/python3.11/site-packages/sklearn/model_selection/_validation.py:73: FutureWarning:\n",
      "\n",
      "`fit_params` is deprecated and will be removed in version 1.6. Pass parameters via `params` instead.\n",
      "\n",
      " 80%|████████  | 80/100 [00:31<00:09,  2.21it/s]/Users/kevinfry/opt/anaconda3/envs/spe/lib/python3.11/site-packages/sklearn/model_selection/_validation.py:73: FutureWarning:\n",
      "\n",
      "`fit_params` is deprecated and will be removed in version 1.6. Pass parameters via `params` instead.\n",
      "\n",
      "/Users/kevinfry/opt/anaconda3/envs/spe/lib/python3.11/site-packages/sklearn/model_selection/_validation.py:73: FutureWarning:\n",
      "\n",
      "`fit_params` is deprecated and will be removed in version 1.6. Pass parameters via `params` instead.\n",
      "\n",
      " 81%|████████  | 81/100 [00:31<00:08,  2.36it/s]/Users/kevinfry/opt/anaconda3/envs/spe/lib/python3.11/site-packages/sklearn/model_selection/_validation.py:73: FutureWarning:\n",
      "\n",
      "`fit_params` is deprecated and will be removed in version 1.6. Pass parameters via `params` instead.\n",
      "\n",
      "/Users/kevinfry/opt/anaconda3/envs/spe/lib/python3.11/site-packages/sklearn/model_selection/_validation.py:73: FutureWarning:\n",
      "\n",
      "`fit_params` is deprecated and will be removed in version 1.6. Pass parameters via `params` instead.\n",
      "\n",
      " 82%|████████▏ | 82/100 [00:32<00:07,  2.51it/s]/Users/kevinfry/opt/anaconda3/envs/spe/lib/python3.11/site-packages/sklearn/model_selection/_validation.py:73: FutureWarning:\n",
      "\n",
      "`fit_params` is deprecated and will be removed in version 1.6. Pass parameters via `params` instead.\n",
      "\n",
      "/Users/kevinfry/opt/anaconda3/envs/spe/lib/python3.11/site-packages/sklearn/model_selection/_validation.py:73: FutureWarning:\n",
      "\n",
      "`fit_params` is deprecated and will be removed in version 1.6. Pass parameters via `params` instead.\n",
      "\n",
      " 83%|████████▎ | 83/100 [00:32<00:06,  2.61it/s]/Users/kevinfry/opt/anaconda3/envs/spe/lib/python3.11/site-packages/sklearn/model_selection/_validation.py:73: FutureWarning:\n",
      "\n",
      "`fit_params` is deprecated and will be removed in version 1.6. Pass parameters via `params` instead.\n",
      "\n",
      "/Users/kevinfry/opt/anaconda3/envs/spe/lib/python3.11/site-packages/sklearn/model_selection/_validation.py:73: FutureWarning:\n",
      "\n",
      "`fit_params` is deprecated and will be removed in version 1.6. Pass parameters via `params` instead.\n",
      "\n",
      " 84%|████████▍ | 84/100 [00:32<00:06,  2.56it/s]/Users/kevinfry/opt/anaconda3/envs/spe/lib/python3.11/site-packages/sklearn/model_selection/_validation.py:73: FutureWarning:\n",
      "\n",
      "`fit_params` is deprecated and will be removed in version 1.6. Pass parameters via `params` instead.\n",
      "\n",
      "/Users/kevinfry/opt/anaconda3/envs/spe/lib/python3.11/site-packages/sklearn/model_selection/_validation.py:73: FutureWarning:\n",
      "\n",
      "`fit_params` is deprecated and will be removed in version 1.6. Pass parameters via `params` instead.\n",
      "\n",
      " 85%|████████▌ | 85/100 [00:33<00:05,  2.50it/s]/Users/kevinfry/opt/anaconda3/envs/spe/lib/python3.11/site-packages/sklearn/model_selection/_validation.py:73: FutureWarning:\n",
      "\n",
      "`fit_params` is deprecated and will be removed in version 1.6. Pass parameters via `params` instead.\n",
      "\n",
      "/Users/kevinfry/opt/anaconda3/envs/spe/lib/python3.11/site-packages/sklearn/model_selection/_validation.py:73: FutureWarning:\n",
      "\n",
      "`fit_params` is deprecated and will be removed in version 1.6. Pass parameters via `params` instead.\n",
      "\n",
      " 86%|████████▌ | 86/100 [00:33<00:05,  2.39it/s]/Users/kevinfry/opt/anaconda3/envs/spe/lib/python3.11/site-packages/sklearn/model_selection/_validation.py:73: FutureWarning:\n",
      "\n",
      "`fit_params` is deprecated and will be removed in version 1.6. Pass parameters via `params` instead.\n",
      "\n",
      "/Users/kevinfry/opt/anaconda3/envs/spe/lib/python3.11/site-packages/sklearn/model_selection/_validation.py:73: FutureWarning:\n",
      "\n",
      "`fit_params` is deprecated and will be removed in version 1.6. Pass parameters via `params` instead.\n",
      "\n",
      " 87%|████████▋ | 87/100 [00:34<00:05,  2.50it/s]/Users/kevinfry/opt/anaconda3/envs/spe/lib/python3.11/site-packages/sklearn/model_selection/_validation.py:73: FutureWarning:\n",
      "\n",
      "`fit_params` is deprecated and will be removed in version 1.6. Pass parameters via `params` instead.\n",
      "\n",
      "/Users/kevinfry/opt/anaconda3/envs/spe/lib/python3.11/site-packages/sklearn/model_selection/_validation.py:73: FutureWarning:\n",
      "\n",
      "`fit_params` is deprecated and will be removed in version 1.6. Pass parameters via `params` instead.\n",
      "\n",
      " 88%|████████▊ | 88/100 [00:34<00:04,  2.42it/s]/Users/kevinfry/opt/anaconda3/envs/spe/lib/python3.11/site-packages/sklearn/model_selection/_validation.py:73: FutureWarning:\n",
      "\n",
      "`fit_params` is deprecated and will be removed in version 1.6. Pass parameters via `params` instead.\n",
      "\n",
      "/Users/kevinfry/opt/anaconda3/envs/spe/lib/python3.11/site-packages/sklearn/model_selection/_validation.py:73: FutureWarning:\n",
      "\n",
      "`fit_params` is deprecated and will be removed in version 1.6. Pass parameters via `params` instead.\n",
      "\n",
      " 89%|████████▉ | 89/100 [00:34<00:04,  2.52it/s]/Users/kevinfry/opt/anaconda3/envs/spe/lib/python3.11/site-packages/sklearn/model_selection/_validation.py:73: FutureWarning:\n",
      "\n",
      "`fit_params` is deprecated and will be removed in version 1.6. Pass parameters via `params` instead.\n",
      "\n",
      "/Users/kevinfry/opt/anaconda3/envs/spe/lib/python3.11/site-packages/sklearn/model_selection/_validation.py:73: FutureWarning:\n",
      "\n",
      "`fit_params` is deprecated and will be removed in version 1.6. Pass parameters via `params` instead.\n",
      "\n",
      " 90%|█████████ | 90/100 [00:35<00:03,  2.70it/s]/Users/kevinfry/opt/anaconda3/envs/spe/lib/python3.11/site-packages/sklearn/model_selection/_validation.py:73: FutureWarning:\n",
      "\n",
      "`fit_params` is deprecated and will be removed in version 1.6. Pass parameters via `params` instead.\n",
      "\n",
      "/Users/kevinfry/opt/anaconda3/envs/spe/lib/python3.11/site-packages/sklearn/model_selection/_validation.py:73: FutureWarning:\n",
      "\n",
      "`fit_params` is deprecated and will be removed in version 1.6. Pass parameters via `params` instead.\n",
      "\n",
      " 91%|█████████ | 91/100 [00:35<00:03,  2.64it/s]/Users/kevinfry/opt/anaconda3/envs/spe/lib/python3.11/site-packages/sklearn/model_selection/_validation.py:73: FutureWarning:\n",
      "\n",
      "`fit_params` is deprecated and will be removed in version 1.6. Pass parameters via `params` instead.\n",
      "\n",
      "/Users/kevinfry/opt/anaconda3/envs/spe/lib/python3.11/site-packages/sklearn/model_selection/_validation.py:73: FutureWarning:\n",
      "\n",
      "`fit_params` is deprecated and will be removed in version 1.6. Pass parameters via `params` instead.\n",
      "\n",
      " 92%|█████████▏| 92/100 [00:36<00:03,  2.62it/s]/Users/kevinfry/opt/anaconda3/envs/spe/lib/python3.11/site-packages/sklearn/model_selection/_validation.py:73: FutureWarning:\n",
      "\n",
      "`fit_params` is deprecated and will be removed in version 1.6. Pass parameters via `params` instead.\n",
      "\n",
      "/Users/kevinfry/opt/anaconda3/envs/spe/lib/python3.11/site-packages/sklearn/model_selection/_validation.py:73: FutureWarning:\n",
      "\n",
      "`fit_params` is deprecated and will be removed in version 1.6. Pass parameters via `params` instead.\n",
      "\n",
      " 93%|█████████▎| 93/100 [00:36<00:03,  2.18it/s]/Users/kevinfry/opt/anaconda3/envs/spe/lib/python3.11/site-packages/sklearn/model_selection/_validation.py:73: FutureWarning:\n",
      "\n",
      "`fit_params` is deprecated and will be removed in version 1.6. Pass parameters via `params` instead.\n",
      "\n",
      "/Users/kevinfry/opt/anaconda3/envs/spe/lib/python3.11/site-packages/sklearn/model_selection/_validation.py:73: FutureWarning:\n",
      "\n",
      "`fit_params` is deprecated and will be removed in version 1.6. Pass parameters via `params` instead.\n",
      "\n",
      " 94%|█████████▍| 94/100 [00:36<00:02,  2.38it/s]/Users/kevinfry/opt/anaconda3/envs/spe/lib/python3.11/site-packages/sklearn/model_selection/_validation.py:73: FutureWarning:\n",
      "\n",
      "`fit_params` is deprecated and will be removed in version 1.6. Pass parameters via `params` instead.\n",
      "\n",
      "/Users/kevinfry/opt/anaconda3/envs/spe/lib/python3.11/site-packages/sklearn/model_selection/_validation.py:73: FutureWarning:\n",
      "\n",
      "`fit_params` is deprecated and will be removed in version 1.6. Pass parameters via `params` instead.\n",
      "\n",
      " 95%|█████████▌| 95/100 [00:37<00:01,  2.52it/s]/Users/kevinfry/opt/anaconda3/envs/spe/lib/python3.11/site-packages/sklearn/model_selection/_validation.py:73: FutureWarning:\n",
      "\n",
      "`fit_params` is deprecated and will be removed in version 1.6. Pass parameters via `params` instead.\n",
      "\n",
      "/Users/kevinfry/opt/anaconda3/envs/spe/lib/python3.11/site-packages/sklearn/model_selection/_validation.py:73: FutureWarning:\n",
      "\n",
      "`fit_params` is deprecated and will be removed in version 1.6. Pass parameters via `params` instead.\n",
      "\n",
      " 96%|█████████▌| 96/100 [00:37<00:01,  2.38it/s]/Users/kevinfry/opt/anaconda3/envs/spe/lib/python3.11/site-packages/sklearn/model_selection/_validation.py:73: FutureWarning:\n",
      "\n",
      "`fit_params` is deprecated and will be removed in version 1.6. Pass parameters via `params` instead.\n",
      "\n",
      "/Users/kevinfry/opt/anaconda3/envs/spe/lib/python3.11/site-packages/sklearn/model_selection/_validation.py:73: FutureWarning:\n",
      "\n",
      "`fit_params` is deprecated and will be removed in version 1.6. Pass parameters via `params` instead.\n",
      "\n",
      " 97%|█████████▋| 97/100 [00:38<00:01,  2.40it/s]/Users/kevinfry/opt/anaconda3/envs/spe/lib/python3.11/site-packages/sklearn/model_selection/_validation.py:73: FutureWarning:\n",
      "\n",
      "`fit_params` is deprecated and will be removed in version 1.6. Pass parameters via `params` instead.\n",
      "\n",
      "/Users/kevinfry/opt/anaconda3/envs/spe/lib/python3.11/site-packages/sklearn/model_selection/_validation.py:73: FutureWarning:\n",
      "\n",
      "`fit_params` is deprecated and will be removed in version 1.6. Pass parameters via `params` instead.\n",
      "\n",
      " 98%|█████████▊| 98/100 [00:38<00:00,  2.13it/s]/Users/kevinfry/opt/anaconda3/envs/spe/lib/python3.11/site-packages/sklearn/model_selection/_validation.py:73: FutureWarning:\n",
      "\n",
      "`fit_params` is deprecated and will be removed in version 1.6. Pass parameters via `params` instead.\n",
      "\n",
      "/Users/kevinfry/opt/anaconda3/envs/spe/lib/python3.11/site-packages/sklearn/model_selection/_validation.py:73: FutureWarning:\n",
      "\n",
      "`fit_params` is deprecated and will be removed in version 1.6. Pass parameters via `params` instead.\n",
      "\n",
      " 99%|█████████▉| 99/100 [00:39<00:00,  2.22it/s]/Users/kevinfry/opt/anaconda3/envs/spe/lib/python3.11/site-packages/sklearn/model_selection/_validation.py:73: FutureWarning:\n",
      "\n",
      "`fit_params` is deprecated and will be removed in version 1.6. Pass parameters via `params` instead.\n",
      "\n",
      "/Users/kevinfry/opt/anaconda3/envs/spe/lib/python3.11/site-packages/sklearn/model_selection/_validation.py:73: FutureWarning:\n",
      "\n",
      "`fit_params` is deprecated and will be removed in version 1.6. Pass parameters via `params` instead.\n",
      "\n",
      "100%|██████████| 100/100 [00:39<00:00,  2.53it/s]\n",
      "  0%|          | 0/100 [00:00<?, ?it/s]/Users/kevinfry/opt/anaconda3/envs/spe/lib/python3.11/site-packages/sklearn/model_selection/_validation.py:73: FutureWarning:\n",
      "\n",
      "`fit_params` is deprecated and will be removed in version 1.6. Pass parameters via `params` instead.\n",
      "\n",
      "/Users/kevinfry/opt/anaconda3/envs/spe/lib/python3.11/site-packages/sklearn/model_selection/_validation.py:73: FutureWarning:\n",
      "\n",
      "`fit_params` is deprecated and will be removed in version 1.6. Pass parameters via `params` instead.\n",
      "\n",
      "  1%|          | 1/100 [00:09<15:44,  9.55s/it]/Users/kevinfry/opt/anaconda3/envs/spe/lib/python3.11/site-packages/sklearn/model_selection/_validation.py:73: FutureWarning:\n",
      "\n",
      "`fit_params` is deprecated and will be removed in version 1.6. Pass parameters via `params` instead.\n",
      "\n",
      "/Users/kevinfry/opt/anaconda3/envs/spe/lib/python3.11/site-packages/sklearn/model_selection/_validation.py:73: FutureWarning:\n",
      "\n",
      "`fit_params` is deprecated and will be removed in version 1.6. Pass parameters via `params` instead.\n",
      "\n",
      "  2%|▏         | 2/100 [00:18<15:24,  9.43s/it]/Users/kevinfry/opt/anaconda3/envs/spe/lib/python3.11/site-packages/sklearn/model_selection/_validation.py:73: FutureWarning:\n",
      "\n",
      "`fit_params` is deprecated and will be removed in version 1.6. Pass parameters via `params` instead.\n",
      "\n",
      "/Users/kevinfry/opt/anaconda3/envs/spe/lib/python3.11/site-packages/sklearn/model_selection/_validation.py:73: FutureWarning:\n",
      "\n",
      "`fit_params` is deprecated and will be removed in version 1.6. Pass parameters via `params` instead.\n",
      "\n",
      "  3%|▎         | 3/100 [00:28<15:12,  9.40s/it]/Users/kevinfry/opt/anaconda3/envs/spe/lib/python3.11/site-packages/sklearn/model_selection/_validation.py:73: FutureWarning:\n",
      "\n",
      "`fit_params` is deprecated and will be removed in version 1.6. Pass parameters via `params` instead.\n",
      "\n",
      "/Users/kevinfry/opt/anaconda3/envs/spe/lib/python3.11/site-packages/sklearn/model_selection/_validation.py:73: FutureWarning:\n",
      "\n",
      "`fit_params` is deprecated and will be removed in version 1.6. Pass parameters via `params` instead.\n",
      "\n",
      "  4%|▍         | 4/100 [00:37<15:00,  9.38s/it]/Users/kevinfry/opt/anaconda3/envs/spe/lib/python3.11/site-packages/sklearn/model_selection/_validation.py:73: FutureWarning:\n",
      "\n",
      "`fit_params` is deprecated and will be removed in version 1.6. Pass parameters via `params` instead.\n",
      "\n",
      "/Users/kevinfry/opt/anaconda3/envs/spe/lib/python3.11/site-packages/sklearn/model_selection/_validation.py:73: FutureWarning:\n",
      "\n",
      "`fit_params` is deprecated and will be removed in version 1.6. Pass parameters via `params` instead.\n",
      "\n",
      "  5%|▌         | 5/100 [00:46<14:50,  9.38s/it]/Users/kevinfry/opt/anaconda3/envs/spe/lib/python3.11/site-packages/sklearn/model_selection/_validation.py:73: FutureWarning:\n",
      "\n",
      "`fit_params` is deprecated and will be removed in version 1.6. Pass parameters via `params` instead.\n",
      "\n",
      "/Users/kevinfry/opt/anaconda3/envs/spe/lib/python3.11/site-packages/sklearn/model_selection/_validation.py:73: FutureWarning:\n",
      "\n",
      "`fit_params` is deprecated and will be removed in version 1.6. Pass parameters via `params` instead.\n",
      "\n",
      "  6%|▌         | 6/100 [00:56<14:43,  9.39s/it]/Users/kevinfry/opt/anaconda3/envs/spe/lib/python3.11/site-packages/sklearn/model_selection/_validation.py:73: FutureWarning:\n",
      "\n",
      "`fit_params` is deprecated and will be removed in version 1.6. Pass parameters via `params` instead.\n",
      "\n",
      "/Users/kevinfry/opt/anaconda3/envs/spe/lib/python3.11/site-packages/sklearn/model_selection/_validation.py:73: FutureWarning:\n",
      "\n",
      "`fit_params` is deprecated and will be removed in version 1.6. Pass parameters via `params` instead.\n",
      "\n",
      "  7%|▋         | 7/100 [01:05<14:31,  9.37s/it]/Users/kevinfry/opt/anaconda3/envs/spe/lib/python3.11/site-packages/sklearn/model_selection/_validation.py:73: FutureWarning:\n",
      "\n",
      "`fit_params` is deprecated and will be removed in version 1.6. Pass parameters via `params` instead.\n",
      "\n",
      "/Users/kevinfry/opt/anaconda3/envs/spe/lib/python3.11/site-packages/sklearn/model_selection/_validation.py:73: FutureWarning:\n",
      "\n",
      "`fit_params` is deprecated and will be removed in version 1.6. Pass parameters via `params` instead.\n",
      "\n",
      "  8%|▊         | 8/100 [01:14<14:18,  9.33s/it]/Users/kevinfry/opt/anaconda3/envs/spe/lib/python3.11/site-packages/sklearn/model_selection/_validation.py:73: FutureWarning:\n",
      "\n",
      "`fit_params` is deprecated and will be removed in version 1.6. Pass parameters via `params` instead.\n",
      "\n",
      "/Users/kevinfry/opt/anaconda3/envs/spe/lib/python3.11/site-packages/sklearn/model_selection/_validation.py:73: FutureWarning:\n",
      "\n",
      "`fit_params` is deprecated and will be removed in version 1.6. Pass parameters via `params` instead.\n",
      "\n",
      "  9%|▉         | 9/100 [01:24<14:08,  9.32s/it]/Users/kevinfry/opt/anaconda3/envs/spe/lib/python3.11/site-packages/sklearn/model_selection/_validation.py:73: FutureWarning:\n",
      "\n",
      "`fit_params` is deprecated and will be removed in version 1.6. Pass parameters via `params` instead.\n",
      "\n",
      "/Users/kevinfry/opt/anaconda3/envs/spe/lib/python3.11/site-packages/sklearn/model_selection/_validation.py:73: FutureWarning:\n",
      "\n",
      "`fit_params` is deprecated and will be removed in version 1.6. Pass parameters via `params` instead.\n",
      "\n",
      " 10%|█         | 10/100 [01:33<14:04,  9.38s/it]/Users/kevinfry/opt/anaconda3/envs/spe/lib/python3.11/site-packages/sklearn/model_selection/_validation.py:73: FutureWarning:\n",
      "\n",
      "`fit_params` is deprecated and will be removed in version 1.6. Pass parameters via `params` instead.\n",
      "\n",
      "/Users/kevinfry/opt/anaconda3/envs/spe/lib/python3.11/site-packages/sklearn/model_selection/_validation.py:73: FutureWarning:\n",
      "\n",
      "`fit_params` is deprecated and will be removed in version 1.6. Pass parameters via `params` instead.\n",
      "\n",
      " 11%|█         | 11/100 [01:43<13:58,  9.42s/it]/Users/kevinfry/opt/anaconda3/envs/spe/lib/python3.11/site-packages/sklearn/model_selection/_validation.py:73: FutureWarning:\n",
      "\n",
      "`fit_params` is deprecated and will be removed in version 1.6. Pass parameters via `params` instead.\n",
      "\n",
      "/Users/kevinfry/opt/anaconda3/envs/spe/lib/python3.11/site-packages/sklearn/model_selection/_validation.py:73: FutureWarning:\n",
      "\n",
      "`fit_params` is deprecated and will be removed in version 1.6. Pass parameters via `params` instead.\n",
      "\n",
      " 12%|█▏        | 12/100 [01:53<13:57,  9.51s/it]/Users/kevinfry/opt/anaconda3/envs/spe/lib/python3.11/site-packages/sklearn/model_selection/_validation.py:73: FutureWarning:\n",
      "\n",
      "`fit_params` is deprecated and will be removed in version 1.6. Pass parameters via `params` instead.\n",
      "\n",
      "/Users/kevinfry/opt/anaconda3/envs/spe/lib/python3.11/site-packages/sklearn/model_selection/_validation.py:73: FutureWarning:\n",
      "\n",
      "`fit_params` is deprecated and will be removed in version 1.6. Pass parameters via `params` instead.\n",
      "\n",
      " 13%|█▎        | 13/100 [02:02<13:47,  9.51s/it]/Users/kevinfry/opt/anaconda3/envs/spe/lib/python3.11/site-packages/sklearn/model_selection/_validation.py:73: FutureWarning:\n",
      "\n",
      "`fit_params` is deprecated and will be removed in version 1.6. Pass parameters via `params` instead.\n",
      "\n",
      "/Users/kevinfry/opt/anaconda3/envs/spe/lib/python3.11/site-packages/sklearn/model_selection/_validation.py:73: FutureWarning:\n",
      "\n",
      "`fit_params` is deprecated and will be removed in version 1.6. Pass parameters via `params` instead.\n",
      "\n",
      " 14%|█▍        | 14/100 [02:11<13:35,  9.48s/it]/Users/kevinfry/opt/anaconda3/envs/spe/lib/python3.11/site-packages/sklearn/model_selection/_validation.py:73: FutureWarning:\n",
      "\n",
      "`fit_params` is deprecated and will be removed in version 1.6. Pass parameters via `params` instead.\n",
      "\n",
      "/Users/kevinfry/opt/anaconda3/envs/spe/lib/python3.11/site-packages/sklearn/model_selection/_validation.py:73: FutureWarning:\n",
      "\n",
      "`fit_params` is deprecated and will be removed in version 1.6. Pass parameters via `params` instead.\n",
      "\n",
      " 15%|█▌        | 15/100 [02:21<13:25,  9.47s/it]/Users/kevinfry/opt/anaconda3/envs/spe/lib/python3.11/site-packages/sklearn/model_selection/_validation.py:73: FutureWarning:\n",
      "\n",
      "`fit_params` is deprecated and will be removed in version 1.6. Pass parameters via `params` instead.\n",
      "\n",
      "/Users/kevinfry/opt/anaconda3/envs/spe/lib/python3.11/site-packages/sklearn/model_selection/_validation.py:73: FutureWarning:\n",
      "\n",
      "`fit_params` is deprecated and will be removed in version 1.6. Pass parameters via `params` instead.\n",
      "\n",
      " 16%|█▌        | 16/100 [02:30<13:12,  9.43s/it]/Users/kevinfry/opt/anaconda3/envs/spe/lib/python3.11/site-packages/sklearn/model_selection/_validation.py:73: FutureWarning:\n",
      "\n",
      "`fit_params` is deprecated and will be removed in version 1.6. Pass parameters via `params` instead.\n",
      "\n",
      "/Users/kevinfry/opt/anaconda3/envs/spe/lib/python3.11/site-packages/sklearn/model_selection/_validation.py:73: FutureWarning:\n",
      "\n",
      "`fit_params` is deprecated and will be removed in version 1.6. Pass parameters via `params` instead.\n",
      "\n",
      " 17%|█▋        | 17/100 [02:40<13:01,  9.42s/it]/Users/kevinfry/opt/anaconda3/envs/spe/lib/python3.11/site-packages/sklearn/model_selection/_validation.py:73: FutureWarning:\n",
      "\n",
      "`fit_params` is deprecated and will be removed in version 1.6. Pass parameters via `params` instead.\n",
      "\n",
      "/Users/kevinfry/opt/anaconda3/envs/spe/lib/python3.11/site-packages/sklearn/model_selection/_validation.py:73: FutureWarning:\n",
      "\n",
      "`fit_params` is deprecated and will be removed in version 1.6. Pass parameters via `params` instead.\n",
      "\n",
      " 18%|█▊        | 18/100 [02:49<12:48,  9.38s/it]/Users/kevinfry/opt/anaconda3/envs/spe/lib/python3.11/site-packages/sklearn/model_selection/_validation.py:73: FutureWarning:\n",
      "\n",
      "`fit_params` is deprecated and will be removed in version 1.6. Pass parameters via `params` instead.\n",
      "\n",
      "/Users/kevinfry/opt/anaconda3/envs/spe/lib/python3.11/site-packages/sklearn/model_selection/_validation.py:73: FutureWarning:\n",
      "\n",
      "`fit_params` is deprecated and will be removed in version 1.6. Pass parameters via `params` instead.\n",
      "\n",
      " 19%|█▉        | 19/100 [02:59<12:45,  9.46s/it]/Users/kevinfry/opt/anaconda3/envs/spe/lib/python3.11/site-packages/sklearn/model_selection/_validation.py:73: FutureWarning:\n",
      "\n",
      "`fit_params` is deprecated and will be removed in version 1.6. Pass parameters via `params` instead.\n",
      "\n",
      "/Users/kevinfry/opt/anaconda3/envs/spe/lib/python3.11/site-packages/sklearn/model_selection/_validation.py:73: FutureWarning:\n",
      "\n",
      "`fit_params` is deprecated and will be removed in version 1.6. Pass parameters via `params` instead.\n",
      "\n",
      " 20%|██        | 20/100 [03:08<12:38,  9.48s/it]/Users/kevinfry/opt/anaconda3/envs/spe/lib/python3.11/site-packages/sklearn/model_selection/_validation.py:73: FutureWarning:\n",
      "\n",
      "`fit_params` is deprecated and will be removed in version 1.6. Pass parameters via `params` instead.\n",
      "\n",
      "/Users/kevinfry/opt/anaconda3/envs/spe/lib/python3.11/site-packages/sklearn/model_selection/_validation.py:73: FutureWarning:\n",
      "\n",
      "`fit_params` is deprecated and will be removed in version 1.6. Pass parameters via `params` instead.\n",
      "\n",
      " 21%|██        | 21/100 [03:18<12:28,  9.47s/it]/Users/kevinfry/opt/anaconda3/envs/spe/lib/python3.11/site-packages/sklearn/model_selection/_validation.py:73: FutureWarning:\n",
      "\n",
      "`fit_params` is deprecated and will be removed in version 1.6. Pass parameters via `params` instead.\n",
      "\n",
      "/Users/kevinfry/opt/anaconda3/envs/spe/lib/python3.11/site-packages/sklearn/model_selection/_validation.py:73: FutureWarning:\n",
      "\n",
      "`fit_params` is deprecated and will be removed in version 1.6. Pass parameters via `params` instead.\n",
      "\n",
      " 22%|██▏       | 22/100 [03:27<12:18,  9.46s/it]/Users/kevinfry/opt/anaconda3/envs/spe/lib/python3.11/site-packages/sklearn/model_selection/_validation.py:73: FutureWarning:\n",
      "\n",
      "`fit_params` is deprecated and will be removed in version 1.6. Pass parameters via `params` instead.\n",
      "\n",
      "/Users/kevinfry/opt/anaconda3/envs/spe/lib/python3.11/site-packages/sklearn/model_selection/_validation.py:73: FutureWarning:\n",
      "\n",
      "`fit_params` is deprecated and will be removed in version 1.6. Pass parameters via `params` instead.\n",
      "\n",
      " 23%|██▎       | 23/100 [03:36<12:06,  9.43s/it]/Users/kevinfry/opt/anaconda3/envs/spe/lib/python3.11/site-packages/sklearn/model_selection/_validation.py:73: FutureWarning:\n",
      "\n",
      "`fit_params` is deprecated and will be removed in version 1.6. Pass parameters via `params` instead.\n",
      "\n",
      "/Users/kevinfry/opt/anaconda3/envs/spe/lib/python3.11/site-packages/sklearn/model_selection/_validation.py:73: FutureWarning:\n",
      "\n",
      "`fit_params` is deprecated and will be removed in version 1.6. Pass parameters via `params` instead.\n",
      "\n",
      " 24%|██▍       | 24/100 [03:46<11:54,  9.40s/it]/Users/kevinfry/opt/anaconda3/envs/spe/lib/python3.11/site-packages/sklearn/model_selection/_validation.py:73: FutureWarning:\n",
      "\n",
      "`fit_params` is deprecated and will be removed in version 1.6. Pass parameters via `params` instead.\n",
      "\n",
      "/Users/kevinfry/opt/anaconda3/envs/spe/lib/python3.11/site-packages/sklearn/model_selection/_validation.py:73: FutureWarning:\n",
      "\n",
      "`fit_params` is deprecated and will be removed in version 1.6. Pass parameters via `params` instead.\n",
      "\n",
      " 25%|██▌       | 25/100 [03:55<11:42,  9.37s/it]/Users/kevinfry/opt/anaconda3/envs/spe/lib/python3.11/site-packages/sklearn/model_selection/_validation.py:73: FutureWarning:\n",
      "\n",
      "`fit_params` is deprecated and will be removed in version 1.6. Pass parameters via `params` instead.\n",
      "\n",
      "/Users/kevinfry/opt/anaconda3/envs/spe/lib/python3.11/site-packages/sklearn/model_selection/_validation.py:73: FutureWarning:\n",
      "\n",
      "`fit_params` is deprecated and will be removed in version 1.6. Pass parameters via `params` instead.\n",
      "\n",
      " 26%|██▌       | 26/100 [04:04<11:36,  9.41s/it]/Users/kevinfry/opt/anaconda3/envs/spe/lib/python3.11/site-packages/sklearn/model_selection/_validation.py:73: FutureWarning:\n",
      "\n",
      "`fit_params` is deprecated and will be removed in version 1.6. Pass parameters via `params` instead.\n",
      "\n",
      "/Users/kevinfry/opt/anaconda3/envs/spe/lib/python3.11/site-packages/sklearn/model_selection/_validation.py:73: FutureWarning:\n",
      "\n",
      "`fit_params` is deprecated and will be removed in version 1.6. Pass parameters via `params` instead.\n",
      "\n",
      " 27%|██▋       | 27/100 [04:14<11:27,  9.42s/it]/Users/kevinfry/opt/anaconda3/envs/spe/lib/python3.11/site-packages/sklearn/model_selection/_validation.py:73: FutureWarning:\n",
      "\n",
      "`fit_params` is deprecated and will be removed in version 1.6. Pass parameters via `params` instead.\n",
      "\n",
      "/Users/kevinfry/opt/anaconda3/envs/spe/lib/python3.11/site-packages/sklearn/model_selection/_validation.py:73: FutureWarning:\n",
      "\n",
      "`fit_params` is deprecated and will be removed in version 1.6. Pass parameters via `params` instead.\n",
      "\n",
      " 28%|██▊       | 28/100 [04:23<11:13,  9.36s/it]/Users/kevinfry/opt/anaconda3/envs/spe/lib/python3.11/site-packages/sklearn/model_selection/_validation.py:73: FutureWarning:\n",
      "\n",
      "`fit_params` is deprecated and will be removed in version 1.6. Pass parameters via `params` instead.\n",
      "\n",
      "/Users/kevinfry/opt/anaconda3/envs/spe/lib/python3.11/site-packages/sklearn/model_selection/_validation.py:73: FutureWarning:\n",
      "\n",
      "`fit_params` is deprecated and will be removed in version 1.6. Pass parameters via `params` instead.\n",
      "\n",
      " 29%|██▉       | 29/100 [04:33<11:05,  9.37s/it]/Users/kevinfry/opt/anaconda3/envs/spe/lib/python3.11/site-packages/sklearn/model_selection/_validation.py:73: FutureWarning:\n",
      "\n",
      "`fit_params` is deprecated and will be removed in version 1.6. Pass parameters via `params` instead.\n",
      "\n",
      "/Users/kevinfry/opt/anaconda3/envs/spe/lib/python3.11/site-packages/sklearn/model_selection/_validation.py:73: FutureWarning:\n",
      "\n",
      "`fit_params` is deprecated and will be removed in version 1.6. Pass parameters via `params` instead.\n",
      "\n",
      " 30%|███       | 30/100 [04:42<10:54,  9.35s/it]/Users/kevinfry/opt/anaconda3/envs/spe/lib/python3.11/site-packages/sklearn/model_selection/_validation.py:73: FutureWarning:\n",
      "\n",
      "`fit_params` is deprecated and will be removed in version 1.6. Pass parameters via `params` instead.\n",
      "\n",
      "/Users/kevinfry/opt/anaconda3/envs/spe/lib/python3.11/site-packages/sklearn/model_selection/_validation.py:73: FutureWarning:\n",
      "\n",
      "`fit_params` is deprecated and will be removed in version 1.6. Pass parameters via `params` instead.\n",
      "\n",
      " 31%|███       | 31/100 [04:51<10:48,  9.40s/it]/Users/kevinfry/opt/anaconda3/envs/spe/lib/python3.11/site-packages/sklearn/model_selection/_validation.py:73: FutureWarning:\n",
      "\n",
      "`fit_params` is deprecated and will be removed in version 1.6. Pass parameters via `params` instead.\n",
      "\n",
      "/Users/kevinfry/opt/anaconda3/envs/spe/lib/python3.11/site-packages/sklearn/model_selection/_validation.py:73: FutureWarning:\n",
      "\n",
      "`fit_params` is deprecated and will be removed in version 1.6. Pass parameters via `params` instead.\n",
      "\n",
      " 32%|███▏      | 32/100 [05:01<10:47,  9.52s/it]/Users/kevinfry/opt/anaconda3/envs/spe/lib/python3.11/site-packages/sklearn/model_selection/_validation.py:73: FutureWarning:\n",
      "\n",
      "`fit_params` is deprecated and will be removed in version 1.6. Pass parameters via `params` instead.\n",
      "\n",
      "/Users/kevinfry/opt/anaconda3/envs/spe/lib/python3.11/site-packages/sklearn/model_selection/_validation.py:73: FutureWarning:\n",
      "\n",
      "`fit_params` is deprecated and will be removed in version 1.6. Pass parameters via `params` instead.\n",
      "\n",
      " 33%|███▎      | 33/100 [05:11<10:36,  9.49s/it]/Users/kevinfry/opt/anaconda3/envs/spe/lib/python3.11/site-packages/sklearn/model_selection/_validation.py:73: FutureWarning:\n",
      "\n",
      "`fit_params` is deprecated and will be removed in version 1.6. Pass parameters via `params` instead.\n",
      "\n",
      "/Users/kevinfry/opt/anaconda3/envs/spe/lib/python3.11/site-packages/sklearn/model_selection/_validation.py:73: FutureWarning:\n",
      "\n",
      "`fit_params` is deprecated and will be removed in version 1.6. Pass parameters via `params` instead.\n",
      "\n",
      " 34%|███▍      | 34/100 [05:20<10:23,  9.45s/it]/Users/kevinfry/opt/anaconda3/envs/spe/lib/python3.11/site-packages/sklearn/model_selection/_validation.py:73: FutureWarning:\n",
      "\n",
      "`fit_params` is deprecated and will be removed in version 1.6. Pass parameters via `params` instead.\n",
      "\n",
      "/Users/kevinfry/opt/anaconda3/envs/spe/lib/python3.11/site-packages/sklearn/model_selection/_validation.py:73: FutureWarning:\n",
      "\n",
      "`fit_params` is deprecated and will be removed in version 1.6. Pass parameters via `params` instead.\n",
      "\n",
      " 35%|███▌      | 35/100 [05:29<10:12,  9.42s/it]/Users/kevinfry/opt/anaconda3/envs/spe/lib/python3.11/site-packages/sklearn/model_selection/_validation.py:73: FutureWarning:\n",
      "\n",
      "`fit_params` is deprecated and will be removed in version 1.6. Pass parameters via `params` instead.\n",
      "\n",
      "/Users/kevinfry/opt/anaconda3/envs/spe/lib/python3.11/site-packages/sklearn/model_selection/_validation.py:73: FutureWarning:\n",
      "\n",
      "`fit_params` is deprecated and will be removed in version 1.6. Pass parameters via `params` instead.\n",
      "\n",
      " 36%|███▌      | 36/100 [05:39<10:05,  9.46s/it]/Users/kevinfry/opt/anaconda3/envs/spe/lib/python3.11/site-packages/sklearn/model_selection/_validation.py:73: FutureWarning:\n",
      "\n",
      "`fit_params` is deprecated and will be removed in version 1.6. Pass parameters via `params` instead.\n",
      "\n",
      "/Users/kevinfry/opt/anaconda3/envs/spe/lib/python3.11/site-packages/sklearn/model_selection/_validation.py:73: FutureWarning:\n",
      "\n",
      "`fit_params` is deprecated and will be removed in version 1.6. Pass parameters via `params` instead.\n",
      "\n",
      " 37%|███▋      | 37/100 [05:48<09:59,  9.51s/it]/Users/kevinfry/opt/anaconda3/envs/spe/lib/python3.11/site-packages/sklearn/model_selection/_validation.py:73: FutureWarning:\n",
      "\n",
      "`fit_params` is deprecated and will be removed in version 1.6. Pass parameters via `params` instead.\n",
      "\n",
      "/Users/kevinfry/opt/anaconda3/envs/spe/lib/python3.11/site-packages/sklearn/model_selection/_validation.py:73: FutureWarning:\n",
      "\n",
      "`fit_params` is deprecated and will be removed in version 1.6. Pass parameters via `params` instead.\n",
      "\n",
      " 38%|███▊      | 38/100 [05:58<09:48,  9.49s/it]/Users/kevinfry/opt/anaconda3/envs/spe/lib/python3.11/site-packages/sklearn/model_selection/_validation.py:73: FutureWarning:\n",
      "\n",
      "`fit_params` is deprecated and will be removed in version 1.6. Pass parameters via `params` instead.\n",
      "\n",
      "/Users/kevinfry/opt/anaconda3/envs/spe/lib/python3.11/site-packages/sklearn/model_selection/_validation.py:73: FutureWarning:\n",
      "\n",
      "`fit_params` is deprecated and will be removed in version 1.6. Pass parameters via `params` instead.\n",
      "\n",
      " 39%|███▉      | 39/100 [06:07<09:37,  9.47s/it]/Users/kevinfry/opt/anaconda3/envs/spe/lib/python3.11/site-packages/sklearn/model_selection/_validation.py:73: FutureWarning:\n",
      "\n",
      "`fit_params` is deprecated and will be removed in version 1.6. Pass parameters via `params` instead.\n",
      "\n",
      "/Users/kevinfry/opt/anaconda3/envs/spe/lib/python3.11/site-packages/sklearn/model_selection/_validation.py:73: FutureWarning:\n",
      "\n",
      "`fit_params` is deprecated and will be removed in version 1.6. Pass parameters via `params` instead.\n",
      "\n",
      " 40%|████      | 40/100 [06:17<09:28,  9.47s/it]/Users/kevinfry/opt/anaconda3/envs/spe/lib/python3.11/site-packages/sklearn/model_selection/_validation.py:73: FutureWarning:\n",
      "\n",
      "`fit_params` is deprecated and will be removed in version 1.6. Pass parameters via `params` instead.\n",
      "\n",
      "/Users/kevinfry/opt/anaconda3/envs/spe/lib/python3.11/site-packages/sklearn/model_selection/_validation.py:73: FutureWarning:\n",
      "\n",
      "`fit_params` is deprecated and will be removed in version 1.6. Pass parameters via `params` instead.\n",
      "\n",
      " 41%|████      | 41/100 [06:26<09:18,  9.47s/it]/Users/kevinfry/opt/anaconda3/envs/spe/lib/python3.11/site-packages/sklearn/model_selection/_validation.py:73: FutureWarning:\n",
      "\n",
      "`fit_params` is deprecated and will be removed in version 1.6. Pass parameters via `params` instead.\n",
      "\n",
      "/Users/kevinfry/opt/anaconda3/envs/spe/lib/python3.11/site-packages/sklearn/model_selection/_validation.py:73: FutureWarning:\n",
      "\n",
      "`fit_params` is deprecated and will be removed in version 1.6. Pass parameters via `params` instead.\n",
      "\n",
      " 42%|████▏     | 42/100 [06:36<09:11,  9.50s/it]/Users/kevinfry/opt/anaconda3/envs/spe/lib/python3.11/site-packages/sklearn/model_selection/_validation.py:73: FutureWarning:\n",
      "\n",
      "`fit_params` is deprecated and will be removed in version 1.6. Pass parameters via `params` instead.\n",
      "\n",
      "/Users/kevinfry/opt/anaconda3/envs/spe/lib/python3.11/site-packages/sklearn/model_selection/_validation.py:73: FutureWarning:\n",
      "\n",
      "`fit_params` is deprecated and will be removed in version 1.6. Pass parameters via `params` instead.\n",
      "\n",
      " 43%|████▎     | 43/100 [06:45<09:02,  9.51s/it]/Users/kevinfry/opt/anaconda3/envs/spe/lib/python3.11/site-packages/sklearn/model_selection/_validation.py:73: FutureWarning:\n",
      "\n",
      "`fit_params` is deprecated and will be removed in version 1.6. Pass parameters via `params` instead.\n",
      "\n",
      "/Users/kevinfry/opt/anaconda3/envs/spe/lib/python3.11/site-packages/sklearn/model_selection/_validation.py:73: FutureWarning:\n",
      "\n",
      "`fit_params` is deprecated and will be removed in version 1.6. Pass parameters via `params` instead.\n",
      "\n",
      " 44%|████▍     | 44/100 [06:55<08:53,  9.53s/it]/Users/kevinfry/opt/anaconda3/envs/spe/lib/python3.11/site-packages/sklearn/model_selection/_validation.py:73: FutureWarning:\n",
      "\n",
      "`fit_params` is deprecated and will be removed in version 1.6. Pass parameters via `params` instead.\n",
      "\n",
      "/Users/kevinfry/opt/anaconda3/envs/spe/lib/python3.11/site-packages/sklearn/model_selection/_validation.py:73: FutureWarning:\n",
      "\n",
      "`fit_params` is deprecated and will be removed in version 1.6. Pass parameters via `params` instead.\n",
      "\n",
      " 45%|████▌     | 45/100 [07:05<08:48,  9.61s/it]/Users/kevinfry/opt/anaconda3/envs/spe/lib/python3.11/site-packages/sklearn/model_selection/_validation.py:73: FutureWarning:\n",
      "\n",
      "`fit_params` is deprecated and will be removed in version 1.6. Pass parameters via `params` instead.\n",
      "\n",
      "/Users/kevinfry/opt/anaconda3/envs/spe/lib/python3.11/site-packages/sklearn/model_selection/_validation.py:73: FutureWarning:\n",
      "\n",
      "`fit_params` is deprecated and will be removed in version 1.6. Pass parameters via `params` instead.\n",
      "\n",
      " 46%|████▌     | 46/100 [07:14<08:36,  9.57s/it]/Users/kevinfry/opt/anaconda3/envs/spe/lib/python3.11/site-packages/sklearn/model_selection/_validation.py:73: FutureWarning:\n",
      "\n",
      "`fit_params` is deprecated and will be removed in version 1.6. Pass parameters via `params` instead.\n",
      "\n",
      "/Users/kevinfry/opt/anaconda3/envs/spe/lib/python3.11/site-packages/sklearn/model_selection/_validation.py:73: FutureWarning:\n",
      "\n",
      "`fit_params` is deprecated and will be removed in version 1.6. Pass parameters via `params` instead.\n",
      "\n",
      " 47%|████▋     | 47/100 [07:24<08:23,  9.51s/it]/Users/kevinfry/opt/anaconda3/envs/spe/lib/python3.11/site-packages/sklearn/model_selection/_validation.py:73: FutureWarning:\n",
      "\n",
      "`fit_params` is deprecated and will be removed in version 1.6. Pass parameters via `params` instead.\n",
      "\n",
      "/Users/kevinfry/opt/anaconda3/envs/spe/lib/python3.11/site-packages/sklearn/model_selection/_validation.py:73: FutureWarning:\n",
      "\n",
      "`fit_params` is deprecated and will be removed in version 1.6. Pass parameters via `params` instead.\n",
      "\n",
      " 48%|████▊     | 48/100 [07:33<08:14,  9.50s/it]/Users/kevinfry/opt/anaconda3/envs/spe/lib/python3.11/site-packages/sklearn/model_selection/_validation.py:73: FutureWarning:\n",
      "\n",
      "`fit_params` is deprecated and will be removed in version 1.6. Pass parameters via `params` instead.\n",
      "\n",
      "/Users/kevinfry/opt/anaconda3/envs/spe/lib/python3.11/site-packages/sklearn/model_selection/_validation.py:73: FutureWarning:\n",
      "\n",
      "`fit_params` is deprecated and will be removed in version 1.6. Pass parameters via `params` instead.\n",
      "\n",
      " 49%|████▉     | 49/100 [07:42<08:03,  9.48s/it]/Users/kevinfry/opt/anaconda3/envs/spe/lib/python3.11/site-packages/sklearn/model_selection/_validation.py:73: FutureWarning:\n",
      "\n",
      "`fit_params` is deprecated and will be removed in version 1.6. Pass parameters via `params` instead.\n",
      "\n",
      "/Users/kevinfry/opt/anaconda3/envs/spe/lib/python3.11/site-packages/sklearn/model_selection/_validation.py:73: FutureWarning:\n",
      "\n",
      "`fit_params` is deprecated and will be removed in version 1.6. Pass parameters via `params` instead.\n",
      "\n",
      " 50%|█████     | 50/100 [07:52<07:53,  9.47s/it]/Users/kevinfry/opt/anaconda3/envs/spe/lib/python3.11/site-packages/sklearn/model_selection/_validation.py:73: FutureWarning:\n",
      "\n",
      "`fit_params` is deprecated and will be removed in version 1.6. Pass parameters via `params` instead.\n",
      "\n",
      "/Users/kevinfry/opt/anaconda3/envs/spe/lib/python3.11/site-packages/sklearn/model_selection/_validation.py:73: FutureWarning:\n",
      "\n",
      "`fit_params` is deprecated and will be removed in version 1.6. Pass parameters via `params` instead.\n",
      "\n",
      " 51%|█████     | 51/100 [08:01<07:44,  9.48s/it]/Users/kevinfry/opt/anaconda3/envs/spe/lib/python3.11/site-packages/sklearn/model_selection/_validation.py:73: FutureWarning:\n",
      "\n",
      "`fit_params` is deprecated and will be removed in version 1.6. Pass parameters via `params` instead.\n",
      "\n",
      "/Users/kevinfry/opt/anaconda3/envs/spe/lib/python3.11/site-packages/sklearn/model_selection/_validation.py:73: FutureWarning:\n",
      "\n",
      "`fit_params` is deprecated and will be removed in version 1.6. Pass parameters via `params` instead.\n",
      "\n",
      " 52%|█████▏    | 52/100 [08:11<07:35,  9.48s/it]/Users/kevinfry/opt/anaconda3/envs/spe/lib/python3.11/site-packages/sklearn/model_selection/_validation.py:73: FutureWarning:\n",
      "\n",
      "`fit_params` is deprecated and will be removed in version 1.6. Pass parameters via `params` instead.\n",
      "\n",
      "/Users/kevinfry/opt/anaconda3/envs/spe/lib/python3.11/site-packages/sklearn/model_selection/_validation.py:73: FutureWarning:\n",
      "\n",
      "`fit_params` is deprecated and will be removed in version 1.6. Pass parameters via `params` instead.\n",
      "\n",
      " 53%|█████▎    | 53/100 [08:20<07:24,  9.45s/it]/Users/kevinfry/opt/anaconda3/envs/spe/lib/python3.11/site-packages/sklearn/model_selection/_validation.py:73: FutureWarning:\n",
      "\n",
      "`fit_params` is deprecated and will be removed in version 1.6. Pass parameters via `params` instead.\n",
      "\n",
      "/Users/kevinfry/opt/anaconda3/envs/spe/lib/python3.11/site-packages/sklearn/model_selection/_validation.py:73: FutureWarning:\n",
      "\n",
      "`fit_params` is deprecated and will be removed in version 1.6. Pass parameters via `params` instead.\n",
      "\n",
      " 54%|█████▍    | 54/100 [08:30<07:15,  9.47s/it]/Users/kevinfry/opt/anaconda3/envs/spe/lib/python3.11/site-packages/sklearn/model_selection/_validation.py:73: FutureWarning:\n",
      "\n",
      "`fit_params` is deprecated and will be removed in version 1.6. Pass parameters via `params` instead.\n",
      "\n",
      "/Users/kevinfry/opt/anaconda3/envs/spe/lib/python3.11/site-packages/sklearn/model_selection/_validation.py:73: FutureWarning:\n",
      "\n",
      "`fit_params` is deprecated and will be removed in version 1.6. Pass parameters via `params` instead.\n",
      "\n",
      " 55%|█████▌    | 55/100 [08:39<07:05,  9.46s/it]/Users/kevinfry/opt/anaconda3/envs/spe/lib/python3.11/site-packages/sklearn/model_selection/_validation.py:73: FutureWarning:\n",
      "\n",
      "`fit_params` is deprecated and will be removed in version 1.6. Pass parameters via `params` instead.\n",
      "\n",
      "/Users/kevinfry/opt/anaconda3/envs/spe/lib/python3.11/site-packages/sklearn/model_selection/_validation.py:73: FutureWarning:\n",
      "\n",
      "`fit_params` is deprecated and will be removed in version 1.6. Pass parameters via `params` instead.\n",
      "\n",
      " 56%|█████▌    | 56/100 [08:49<06:55,  9.44s/it]/Users/kevinfry/opt/anaconda3/envs/spe/lib/python3.11/site-packages/sklearn/model_selection/_validation.py:73: FutureWarning:\n",
      "\n",
      "`fit_params` is deprecated and will be removed in version 1.6. Pass parameters via `params` instead.\n",
      "\n",
      "/Users/kevinfry/opt/anaconda3/envs/spe/lib/python3.11/site-packages/sklearn/model_selection/_validation.py:73: FutureWarning:\n",
      "\n",
      "`fit_params` is deprecated and will be removed in version 1.6. Pass parameters via `params` instead.\n",
      "\n",
      " 57%|█████▋    | 57/100 [08:58<06:49,  9.51s/it]/Users/kevinfry/opt/anaconda3/envs/spe/lib/python3.11/site-packages/sklearn/model_selection/_validation.py:73: FutureWarning:\n",
      "\n",
      "`fit_params` is deprecated and will be removed in version 1.6. Pass parameters via `params` instead.\n",
      "\n",
      "/Users/kevinfry/opt/anaconda3/envs/spe/lib/python3.11/site-packages/sklearn/model_selection/_validation.py:73: FutureWarning:\n",
      "\n",
      "`fit_params` is deprecated and will be removed in version 1.6. Pass parameters via `params` instead.\n",
      "\n",
      " 58%|█████▊    | 58/100 [09:08<06:42,  9.59s/it]/Users/kevinfry/opt/anaconda3/envs/spe/lib/python3.11/site-packages/sklearn/model_selection/_validation.py:73: FutureWarning:\n",
      "\n",
      "`fit_params` is deprecated and will be removed in version 1.6. Pass parameters via `params` instead.\n",
      "\n",
      "/Users/kevinfry/opt/anaconda3/envs/spe/lib/python3.11/site-packages/sklearn/model_selection/_validation.py:73: FutureWarning:\n",
      "\n",
      "`fit_params` is deprecated and will be removed in version 1.6. Pass parameters via `params` instead.\n",
      "\n",
      " 59%|█████▉    | 59/100 [09:17<06:30,  9.53s/it]/Users/kevinfry/opt/anaconda3/envs/spe/lib/python3.11/site-packages/sklearn/model_selection/_validation.py:73: FutureWarning:\n",
      "\n",
      "`fit_params` is deprecated and will be removed in version 1.6. Pass parameters via `params` instead.\n",
      "\n",
      "/Users/kevinfry/opt/anaconda3/envs/spe/lib/python3.11/site-packages/sklearn/model_selection/_validation.py:73: FutureWarning:\n",
      "\n",
      "`fit_params` is deprecated and will be removed in version 1.6. Pass parameters via `params` instead.\n",
      "\n",
      " 60%|██████    | 60/100 [09:27<06:20,  9.51s/it]/Users/kevinfry/opt/anaconda3/envs/spe/lib/python3.11/site-packages/sklearn/model_selection/_validation.py:73: FutureWarning:\n",
      "\n",
      "`fit_params` is deprecated and will be removed in version 1.6. Pass parameters via `params` instead.\n",
      "\n",
      "/Users/kevinfry/opt/anaconda3/envs/spe/lib/python3.11/site-packages/sklearn/model_selection/_validation.py:73: FutureWarning:\n",
      "\n",
      "`fit_params` is deprecated and will be removed in version 1.6. Pass parameters via `params` instead.\n",
      "\n",
      " 61%|██████    | 61/100 [09:36<06:10,  9.51s/it]/Users/kevinfry/opt/anaconda3/envs/spe/lib/python3.11/site-packages/sklearn/model_selection/_validation.py:73: FutureWarning:\n",
      "\n",
      "`fit_params` is deprecated and will be removed in version 1.6. Pass parameters via `params` instead.\n",
      "\n",
      "/Users/kevinfry/opt/anaconda3/envs/spe/lib/python3.11/site-packages/sklearn/model_selection/_validation.py:73: FutureWarning:\n",
      "\n",
      "`fit_params` is deprecated and will be removed in version 1.6. Pass parameters via `params` instead.\n",
      "\n",
      " 62%|██████▏   | 62/100 [09:46<06:00,  9.50s/it]/Users/kevinfry/opt/anaconda3/envs/spe/lib/python3.11/site-packages/sklearn/model_selection/_validation.py:73: FutureWarning:\n",
      "\n",
      "`fit_params` is deprecated and will be removed in version 1.6. Pass parameters via `params` instead.\n",
      "\n",
      "/Users/kevinfry/opt/anaconda3/envs/spe/lib/python3.11/site-packages/sklearn/model_selection/_validation.py:73: FutureWarning:\n",
      "\n",
      "`fit_params` is deprecated and will be removed in version 1.6. Pass parameters via `params` instead.\n",
      "\n",
      " 63%|██████▎   | 63/100 [09:55<05:50,  9.47s/it]/Users/kevinfry/opt/anaconda3/envs/spe/lib/python3.11/site-packages/sklearn/model_selection/_validation.py:73: FutureWarning:\n",
      "\n",
      "`fit_params` is deprecated and will be removed in version 1.6. Pass parameters via `params` instead.\n",
      "\n",
      "/Users/kevinfry/opt/anaconda3/envs/spe/lib/python3.11/site-packages/sklearn/model_selection/_validation.py:73: FutureWarning:\n",
      "\n",
      "`fit_params` is deprecated and will be removed in version 1.6. Pass parameters via `params` instead.\n",
      "\n",
      " 64%|██████▍   | 64/100 [10:05<05:39,  9.44s/it]/Users/kevinfry/opt/anaconda3/envs/spe/lib/python3.11/site-packages/sklearn/model_selection/_validation.py:73: FutureWarning:\n",
      "\n",
      "`fit_params` is deprecated and will be removed in version 1.6. Pass parameters via `params` instead.\n",
      "\n",
      "/Users/kevinfry/opt/anaconda3/envs/spe/lib/python3.11/site-packages/sklearn/model_selection/_validation.py:73: FutureWarning:\n",
      "\n",
      "`fit_params` is deprecated and will be removed in version 1.6. Pass parameters via `params` instead.\n",
      "\n",
      " 65%|██████▌   | 65/100 [10:15<05:34,  9.56s/it]/Users/kevinfry/opt/anaconda3/envs/spe/lib/python3.11/site-packages/sklearn/model_selection/_validation.py:73: FutureWarning:\n",
      "\n",
      "`fit_params` is deprecated and will be removed in version 1.6. Pass parameters via `params` instead.\n",
      "\n",
      "/Users/kevinfry/opt/anaconda3/envs/spe/lib/python3.11/site-packages/sklearn/model_selection/_validation.py:73: FutureWarning:\n",
      "\n",
      "`fit_params` is deprecated and will be removed in version 1.6. Pass parameters via `params` instead.\n",
      "\n",
      " 66%|██████▌   | 66/100 [10:24<05:29,  9.68s/it]/Users/kevinfry/opt/anaconda3/envs/spe/lib/python3.11/site-packages/sklearn/model_selection/_validation.py:73: FutureWarning:\n",
      "\n",
      "`fit_params` is deprecated and will be removed in version 1.6. Pass parameters via `params` instead.\n",
      "\n",
      "/Users/kevinfry/opt/anaconda3/envs/spe/lib/python3.11/site-packages/sklearn/model_selection/_validation.py:73: FutureWarning:\n",
      "\n",
      "`fit_params` is deprecated and will be removed in version 1.6. Pass parameters via `params` instead.\n",
      "\n",
      " 67%|██████▋   | 67/100 [10:34<05:17,  9.63s/it]/Users/kevinfry/opt/anaconda3/envs/spe/lib/python3.11/site-packages/sklearn/model_selection/_validation.py:73: FutureWarning:\n",
      "\n",
      "`fit_params` is deprecated and will be removed in version 1.6. Pass parameters via `params` instead.\n",
      "\n",
      "/Users/kevinfry/opt/anaconda3/envs/spe/lib/python3.11/site-packages/sklearn/model_selection/_validation.py:73: FutureWarning:\n",
      "\n",
      "`fit_params` is deprecated and will be removed in version 1.6. Pass parameters via `params` instead.\n",
      "\n",
      " 68%|██████▊   | 68/100 [10:44<05:07,  9.62s/it]/Users/kevinfry/opt/anaconda3/envs/spe/lib/python3.11/site-packages/sklearn/model_selection/_validation.py:73: FutureWarning:\n",
      "\n",
      "`fit_params` is deprecated and will be removed in version 1.6. Pass parameters via `params` instead.\n",
      "\n",
      "/Users/kevinfry/opt/anaconda3/envs/spe/lib/python3.11/site-packages/sklearn/model_selection/_validation.py:73: FutureWarning:\n",
      "\n",
      "`fit_params` is deprecated and will be removed in version 1.6. Pass parameters via `params` instead.\n",
      "\n",
      " 69%|██████▉   | 69/100 [10:53<04:59,  9.66s/it]/Users/kevinfry/opt/anaconda3/envs/spe/lib/python3.11/site-packages/sklearn/model_selection/_validation.py:73: FutureWarning:\n",
      "\n",
      "`fit_params` is deprecated and will be removed in version 1.6. Pass parameters via `params` instead.\n",
      "\n",
      "/Users/kevinfry/opt/anaconda3/envs/spe/lib/python3.11/site-packages/sklearn/model_selection/_validation.py:73: FutureWarning:\n",
      "\n",
      "`fit_params` is deprecated and will be removed in version 1.6. Pass parameters via `params` instead.\n",
      "\n",
      " 70%|███████   | 70/100 [11:03<04:47,  9.59s/it]/Users/kevinfry/opt/anaconda3/envs/spe/lib/python3.11/site-packages/sklearn/model_selection/_validation.py:73: FutureWarning:\n",
      "\n",
      "`fit_params` is deprecated and will be removed in version 1.6. Pass parameters via `params` instead.\n",
      "\n",
      "/Users/kevinfry/opt/anaconda3/envs/spe/lib/python3.11/site-packages/sklearn/model_selection/_validation.py:73: FutureWarning:\n",
      "\n",
      "`fit_params` is deprecated and will be removed in version 1.6. Pass parameters via `params` instead.\n",
      "\n",
      " 71%|███████   | 71/100 [11:12<04:38,  9.60s/it]/Users/kevinfry/opt/anaconda3/envs/spe/lib/python3.11/site-packages/sklearn/model_selection/_validation.py:73: FutureWarning:\n",
      "\n",
      "`fit_params` is deprecated and will be removed in version 1.6. Pass parameters via `params` instead.\n",
      "\n",
      "/Users/kevinfry/opt/anaconda3/envs/spe/lib/python3.11/site-packages/sklearn/model_selection/_validation.py:73: FutureWarning:\n",
      "\n",
      "`fit_params` is deprecated and will be removed in version 1.6. Pass parameters via `params` instead.\n",
      "\n",
      " 72%|███████▏  | 72/100 [11:22<04:27,  9.54s/it]/Users/kevinfry/opt/anaconda3/envs/spe/lib/python3.11/site-packages/sklearn/model_selection/_validation.py:73: FutureWarning:\n",
      "\n",
      "`fit_params` is deprecated and will be removed in version 1.6. Pass parameters via `params` instead.\n",
      "\n",
      "/Users/kevinfry/opt/anaconda3/envs/spe/lib/python3.11/site-packages/sklearn/model_selection/_validation.py:73: FutureWarning:\n",
      "\n",
      "`fit_params` is deprecated and will be removed in version 1.6. Pass parameters via `params` instead.\n",
      "\n",
      " 73%|███████▎  | 73/100 [11:31<04:17,  9.55s/it]/Users/kevinfry/opt/anaconda3/envs/spe/lib/python3.11/site-packages/sklearn/model_selection/_validation.py:73: FutureWarning:\n",
      "\n",
      "`fit_params` is deprecated and will be removed in version 1.6. Pass parameters via `params` instead.\n",
      "\n",
      "/Users/kevinfry/opt/anaconda3/envs/spe/lib/python3.11/site-packages/sklearn/model_selection/_validation.py:73: FutureWarning:\n",
      "\n",
      "`fit_params` is deprecated and will be removed in version 1.6. Pass parameters via `params` instead.\n",
      "\n",
      " 74%|███████▍  | 74/100 [11:41<04:08,  9.56s/it]/Users/kevinfry/opt/anaconda3/envs/spe/lib/python3.11/site-packages/sklearn/model_selection/_validation.py:73: FutureWarning:\n",
      "\n",
      "`fit_params` is deprecated and will be removed in version 1.6. Pass parameters via `params` instead.\n",
      "\n",
      "/Users/kevinfry/opt/anaconda3/envs/spe/lib/python3.11/site-packages/sklearn/model_selection/_validation.py:73: FutureWarning:\n",
      "\n",
      "`fit_params` is deprecated and will be removed in version 1.6. Pass parameters via `params` instead.\n",
      "\n",
      " 75%|███████▌  | 75/100 [11:50<03:58,  9.53s/it]/Users/kevinfry/opt/anaconda3/envs/spe/lib/python3.11/site-packages/sklearn/model_selection/_validation.py:73: FutureWarning:\n",
      "\n",
      "`fit_params` is deprecated and will be removed in version 1.6. Pass parameters via `params` instead.\n",
      "\n",
      "/Users/kevinfry/opt/anaconda3/envs/spe/lib/python3.11/site-packages/sklearn/model_selection/_validation.py:73: FutureWarning:\n",
      "\n",
      "`fit_params` is deprecated and will be removed in version 1.6. Pass parameters via `params` instead.\n",
      "\n",
      " 76%|███████▌  | 76/100 [12:00<03:49,  9.56s/it]/Users/kevinfry/opt/anaconda3/envs/spe/lib/python3.11/site-packages/sklearn/model_selection/_validation.py:73: FutureWarning:\n",
      "\n",
      "`fit_params` is deprecated and will be removed in version 1.6. Pass parameters via `params` instead.\n",
      "\n",
      "/Users/kevinfry/opt/anaconda3/envs/spe/lib/python3.11/site-packages/sklearn/model_selection/_validation.py:73: FutureWarning:\n",
      "\n",
      "`fit_params` is deprecated and will be removed in version 1.6. Pass parameters via `params` instead.\n",
      "\n",
      " 77%|███████▋  | 77/100 [12:10<03:39,  9.56s/it]/Users/kevinfry/opt/anaconda3/envs/spe/lib/python3.11/site-packages/sklearn/model_selection/_validation.py:73: FutureWarning:\n",
      "\n",
      "`fit_params` is deprecated and will be removed in version 1.6. Pass parameters via `params` instead.\n",
      "\n",
      "/Users/kevinfry/opt/anaconda3/envs/spe/lib/python3.11/site-packages/sklearn/model_selection/_validation.py:73: FutureWarning:\n",
      "\n",
      "`fit_params` is deprecated and will be removed in version 1.6. Pass parameters via `params` instead.\n",
      "\n",
      " 78%|███████▊  | 78/100 [12:19<03:30,  9.55s/it]/Users/kevinfry/opt/anaconda3/envs/spe/lib/python3.11/site-packages/sklearn/model_selection/_validation.py:73: FutureWarning:\n",
      "\n",
      "`fit_params` is deprecated and will be removed in version 1.6. Pass parameters via `params` instead.\n",
      "\n",
      "/Users/kevinfry/opt/anaconda3/envs/spe/lib/python3.11/site-packages/sklearn/model_selection/_validation.py:73: FutureWarning:\n",
      "\n",
      "`fit_params` is deprecated and will be removed in version 1.6. Pass parameters via `params` instead.\n",
      "\n",
      " 79%|███████▉  | 79/100 [12:29<03:20,  9.54s/it]/Users/kevinfry/opt/anaconda3/envs/spe/lib/python3.11/site-packages/sklearn/model_selection/_validation.py:73: FutureWarning:\n",
      "\n",
      "`fit_params` is deprecated and will be removed in version 1.6. Pass parameters via `params` instead.\n",
      "\n",
      "/Users/kevinfry/opt/anaconda3/envs/spe/lib/python3.11/site-packages/sklearn/model_selection/_validation.py:73: FutureWarning:\n",
      "\n",
      "`fit_params` is deprecated and will be removed in version 1.6. Pass parameters via `params` instead.\n",
      "\n",
      " 80%|████████  | 80/100 [12:38<03:11,  9.56s/it]/Users/kevinfry/opt/anaconda3/envs/spe/lib/python3.11/site-packages/sklearn/model_selection/_validation.py:73: FutureWarning:\n",
      "\n",
      "`fit_params` is deprecated and will be removed in version 1.6. Pass parameters via `params` instead.\n",
      "\n",
      "/Users/kevinfry/opt/anaconda3/envs/spe/lib/python3.11/site-packages/sklearn/model_selection/_validation.py:73: FutureWarning:\n",
      "\n",
      "`fit_params` is deprecated and will be removed in version 1.6. Pass parameters via `params` instead.\n",
      "\n",
      " 81%|████████  | 81/100 [12:48<03:01,  9.56s/it]/Users/kevinfry/opt/anaconda3/envs/spe/lib/python3.11/site-packages/sklearn/model_selection/_validation.py:73: FutureWarning:\n",
      "\n",
      "`fit_params` is deprecated and will be removed in version 1.6. Pass parameters via `params` instead.\n",
      "\n",
      "/Users/kevinfry/opt/anaconda3/envs/spe/lib/python3.11/site-packages/sklearn/model_selection/_validation.py:73: FutureWarning:\n",
      "\n",
      "`fit_params` is deprecated and will be removed in version 1.6. Pass parameters via `params` instead.\n",
      "\n",
      " 82%|████████▏ | 82/100 [12:57<02:51,  9.52s/it]/Users/kevinfry/opt/anaconda3/envs/spe/lib/python3.11/site-packages/sklearn/model_selection/_validation.py:73: FutureWarning:\n",
      "\n",
      "`fit_params` is deprecated and will be removed in version 1.6. Pass parameters via `params` instead.\n",
      "\n",
      "/Users/kevinfry/opt/anaconda3/envs/spe/lib/python3.11/site-packages/sklearn/model_selection/_validation.py:73: FutureWarning:\n",
      "\n",
      "`fit_params` is deprecated and will be removed in version 1.6. Pass parameters via `params` instead.\n",
      "\n",
      " 83%|████████▎ | 83/100 [13:07<02:40,  9.44s/it]/Users/kevinfry/opt/anaconda3/envs/spe/lib/python3.11/site-packages/sklearn/model_selection/_validation.py:73: FutureWarning:\n",
      "\n",
      "`fit_params` is deprecated and will be removed in version 1.6. Pass parameters via `params` instead.\n",
      "\n",
      "/Users/kevinfry/opt/anaconda3/envs/spe/lib/python3.11/site-packages/sklearn/model_selection/_validation.py:73: FutureWarning:\n",
      "\n",
      "`fit_params` is deprecated and will be removed in version 1.6. Pass parameters via `params` instead.\n",
      "\n",
      " 84%|████████▍ | 84/100 [13:16<02:31,  9.44s/it]/Users/kevinfry/opt/anaconda3/envs/spe/lib/python3.11/site-packages/sklearn/model_selection/_validation.py:73: FutureWarning:\n",
      "\n",
      "`fit_params` is deprecated and will be removed in version 1.6. Pass parameters via `params` instead.\n",
      "\n",
      "/Users/kevinfry/opt/anaconda3/envs/spe/lib/python3.11/site-packages/sklearn/model_selection/_validation.py:73: FutureWarning:\n",
      "\n",
      "`fit_params` is deprecated and will be removed in version 1.6. Pass parameters via `params` instead.\n",
      "\n",
      " 85%|████████▌ | 85/100 [13:25<02:21,  9.42s/it]/Users/kevinfry/opt/anaconda3/envs/spe/lib/python3.11/site-packages/sklearn/model_selection/_validation.py:73: FutureWarning:\n",
      "\n",
      "`fit_params` is deprecated and will be removed in version 1.6. Pass parameters via `params` instead.\n",
      "\n",
      "/Users/kevinfry/opt/anaconda3/envs/spe/lib/python3.11/site-packages/sklearn/model_selection/_validation.py:73: FutureWarning:\n",
      "\n",
      "`fit_params` is deprecated and will be removed in version 1.6. Pass parameters via `params` instead.\n",
      "\n",
      " 86%|████████▌ | 86/100 [13:35<02:11,  9.39s/it]/Users/kevinfry/opt/anaconda3/envs/spe/lib/python3.11/site-packages/sklearn/model_selection/_validation.py:73: FutureWarning:\n",
      "\n",
      "`fit_params` is deprecated and will be removed in version 1.6. Pass parameters via `params` instead.\n",
      "\n",
      "/Users/kevinfry/opt/anaconda3/envs/spe/lib/python3.11/site-packages/sklearn/model_selection/_validation.py:73: FutureWarning:\n",
      "\n",
      "`fit_params` is deprecated and will be removed in version 1.6. Pass parameters via `params` instead.\n",
      "\n",
      " 87%|████████▋ | 87/100 [13:44<02:01,  9.38s/it]/Users/kevinfry/opt/anaconda3/envs/spe/lib/python3.11/site-packages/sklearn/model_selection/_validation.py:73: FutureWarning:\n",
      "\n",
      "`fit_params` is deprecated and will be removed in version 1.6. Pass parameters via `params` instead.\n",
      "\n",
      "/Users/kevinfry/opt/anaconda3/envs/spe/lib/python3.11/site-packages/sklearn/model_selection/_validation.py:73: FutureWarning:\n",
      "\n",
      "`fit_params` is deprecated and will be removed in version 1.6. Pass parameters via `params` instead.\n",
      "\n",
      " 88%|████████▊ | 88/100 [13:54<01:52,  9.42s/it]/Users/kevinfry/opt/anaconda3/envs/spe/lib/python3.11/site-packages/sklearn/model_selection/_validation.py:73: FutureWarning:\n",
      "\n",
      "`fit_params` is deprecated and will be removed in version 1.6. Pass parameters via `params` instead.\n",
      "\n",
      "/Users/kevinfry/opt/anaconda3/envs/spe/lib/python3.11/site-packages/sklearn/model_selection/_validation.py:73: FutureWarning:\n",
      "\n",
      "`fit_params` is deprecated and will be removed in version 1.6. Pass parameters via `params` instead.\n",
      "\n",
      " 89%|████████▉ | 89/100 [14:03<01:43,  9.45s/it]/Users/kevinfry/opt/anaconda3/envs/spe/lib/python3.11/site-packages/sklearn/model_selection/_validation.py:73: FutureWarning:\n",
      "\n",
      "`fit_params` is deprecated and will be removed in version 1.6. Pass parameters via `params` instead.\n",
      "\n",
      "/Users/kevinfry/opt/anaconda3/envs/spe/lib/python3.11/site-packages/sklearn/model_selection/_validation.py:73: FutureWarning:\n",
      "\n",
      "`fit_params` is deprecated and will be removed in version 1.6. Pass parameters via `params` instead.\n",
      "\n",
      " 90%|█████████ | 90/100 [14:13<01:34,  9.46s/it]/Users/kevinfry/opt/anaconda3/envs/spe/lib/python3.11/site-packages/sklearn/model_selection/_validation.py:73: FutureWarning:\n",
      "\n",
      "`fit_params` is deprecated and will be removed in version 1.6. Pass parameters via `params` instead.\n",
      "\n",
      "/Users/kevinfry/opt/anaconda3/envs/spe/lib/python3.11/site-packages/sklearn/model_selection/_validation.py:73: FutureWarning:\n",
      "\n",
      "`fit_params` is deprecated and will be removed in version 1.6. Pass parameters via `params` instead.\n",
      "\n",
      " 91%|█████████ | 91/100 [14:22<01:25,  9.49s/it]/Users/kevinfry/opt/anaconda3/envs/spe/lib/python3.11/site-packages/sklearn/model_selection/_validation.py:73: FutureWarning:\n",
      "\n",
      "`fit_params` is deprecated and will be removed in version 1.6. Pass parameters via `params` instead.\n",
      "\n",
      "/Users/kevinfry/opt/anaconda3/envs/spe/lib/python3.11/site-packages/sklearn/model_selection/_validation.py:73: FutureWarning:\n",
      "\n",
      "`fit_params` is deprecated and will be removed in version 1.6. Pass parameters via `params` instead.\n",
      "\n",
      " 92%|█████████▏| 92/100 [14:32<01:15,  9.48s/it]/Users/kevinfry/opt/anaconda3/envs/spe/lib/python3.11/site-packages/sklearn/model_selection/_validation.py:73: FutureWarning:\n",
      "\n",
      "`fit_params` is deprecated and will be removed in version 1.6. Pass parameters via `params` instead.\n",
      "\n",
      "/Users/kevinfry/opt/anaconda3/envs/spe/lib/python3.11/site-packages/sklearn/model_selection/_validation.py:73: FutureWarning:\n",
      "\n",
      "`fit_params` is deprecated and will be removed in version 1.6. Pass parameters via `params` instead.\n",
      "\n",
      " 93%|█████████▎| 93/100 [14:41<01:06,  9.46s/it]/Users/kevinfry/opt/anaconda3/envs/spe/lib/python3.11/site-packages/sklearn/model_selection/_validation.py:73: FutureWarning:\n",
      "\n",
      "`fit_params` is deprecated and will be removed in version 1.6. Pass parameters via `params` instead.\n",
      "\n",
      "/Users/kevinfry/opt/anaconda3/envs/spe/lib/python3.11/site-packages/sklearn/model_selection/_validation.py:73: FutureWarning:\n",
      "\n",
      "`fit_params` is deprecated and will be removed in version 1.6. Pass parameters via `params` instead.\n",
      "\n",
      " 94%|█████████▍| 94/100 [14:50<00:56,  9.47s/it]/Users/kevinfry/opt/anaconda3/envs/spe/lib/python3.11/site-packages/sklearn/model_selection/_validation.py:73: FutureWarning:\n",
      "\n",
      "`fit_params` is deprecated and will be removed in version 1.6. Pass parameters via `params` instead.\n",
      "\n",
      "/Users/kevinfry/opt/anaconda3/envs/spe/lib/python3.11/site-packages/sklearn/model_selection/_validation.py:73: FutureWarning:\n",
      "\n",
      "`fit_params` is deprecated and will be removed in version 1.6. Pass parameters via `params` instead.\n",
      "\n",
      " 95%|█████████▌| 95/100 [15:00<00:47,  9.44s/it]/Users/kevinfry/opt/anaconda3/envs/spe/lib/python3.11/site-packages/sklearn/model_selection/_validation.py:73: FutureWarning:\n",
      "\n",
      "`fit_params` is deprecated and will be removed in version 1.6. Pass parameters via `params` instead.\n",
      "\n",
      "/Users/kevinfry/opt/anaconda3/envs/spe/lib/python3.11/site-packages/sklearn/model_selection/_validation.py:73: FutureWarning:\n",
      "\n",
      "`fit_params` is deprecated and will be removed in version 1.6. Pass parameters via `params` instead.\n",
      "\n",
      " 96%|█████████▌| 96/100 [15:09<00:37,  9.43s/it]/Users/kevinfry/opt/anaconda3/envs/spe/lib/python3.11/site-packages/sklearn/model_selection/_validation.py:73: FutureWarning:\n",
      "\n",
      "`fit_params` is deprecated and will be removed in version 1.6. Pass parameters via `params` instead.\n",
      "\n",
      "/Users/kevinfry/opt/anaconda3/envs/spe/lib/python3.11/site-packages/sklearn/model_selection/_validation.py:73: FutureWarning:\n",
      "\n",
      "`fit_params` is deprecated and will be removed in version 1.6. Pass parameters via `params` instead.\n",
      "\n",
      " 97%|█████████▋| 97/100 [15:19<00:28,  9.44s/it]/Users/kevinfry/opt/anaconda3/envs/spe/lib/python3.11/site-packages/sklearn/model_selection/_validation.py:73: FutureWarning:\n",
      "\n",
      "`fit_params` is deprecated and will be removed in version 1.6. Pass parameters via `params` instead.\n",
      "\n",
      "/Users/kevinfry/opt/anaconda3/envs/spe/lib/python3.11/site-packages/sklearn/model_selection/_validation.py:73: FutureWarning:\n",
      "\n",
      "`fit_params` is deprecated and will be removed in version 1.6. Pass parameters via `params` instead.\n",
      "\n",
      " 98%|█████████▊| 98/100 [15:28<00:18,  9.46s/it]/Users/kevinfry/opt/anaconda3/envs/spe/lib/python3.11/site-packages/sklearn/model_selection/_validation.py:73: FutureWarning:\n",
      "\n",
      "`fit_params` is deprecated and will be removed in version 1.6. Pass parameters via `params` instead.\n",
      "\n",
      "/Users/kevinfry/opt/anaconda3/envs/spe/lib/python3.11/site-packages/sklearn/model_selection/_validation.py:73: FutureWarning:\n",
      "\n",
      "`fit_params` is deprecated and will be removed in version 1.6. Pass parameters via `params` instead.\n",
      "\n",
      " 99%|█████████▉| 99/100 [15:38<00:09,  9.50s/it]/Users/kevinfry/opt/anaconda3/envs/spe/lib/python3.11/site-packages/sklearn/model_selection/_validation.py:73: FutureWarning:\n",
      "\n",
      "`fit_params` is deprecated and will be removed in version 1.6. Pass parameters via `params` instead.\n",
      "\n",
      "/Users/kevinfry/opt/anaconda3/envs/spe/lib/python3.11/site-packages/sklearn/model_selection/_validation.py:73: FutureWarning:\n",
      "\n",
      "`fit_params` is deprecated and will be removed in version 1.6. Pass parameters via `params` instead.\n",
      "\n",
      "100%|██████████| 100/100 [15:47<00:00,  9.48s/it]\n"
     ]
    }
   ],
   "source": [
    "model_errs = []\n",
    "\n",
    "for model in models:\n",
    "    errs = err_cmp.compare(\n",
    "        model,\n",
    "        ests,\n",
    "        est_kwargs,\n",
    "        niter=niter,\n",
    "        n=n,\n",
    "        p=p,\n",
    "        s=s,\n",
    "        snr=snr, \n",
    "        X=X,\n",
    "        beta=beta,\n",
    "        coord=coord,\n",
    "        Chol_y=Chol_t,\n",
    "        Chol_ystar=None,\n",
    "        Cov_y_ystar=Cov_st,\n",
    "        tr_idx=tr_idx,\n",
    "        fair=False,\n",
    "        piecewise_const_mu=True,\n",
    "    )\n",
    "    model_errs.append(errs)"
   ]
  },
  {
   "cell_type": "code",
   "execution_count": 12,
   "metadata": {},
   "outputs": [
    {
     "data": {
      "application/vnd.plotly.v1+json": {
       "config": {
        "plotlyServerURL": "https://plot.ly"
       },
       "data": [
        {
         "marker": {
          "color": [
           "rgb(127, 60, 141)",
           "rgb(17, 165, 121)",
           "rgb(57, 105, 172)",
           "rgb(242, 183, 1)",
           "rgb(231, 63, 116)",
           "rgb(128, 186, 90)",
           "rgb(230, 131, 16)",
           "rgb(0, 134, 149)",
           "rgb(207, 28, 144)",
           "rgb(249, 123, 114)",
           "rgb(165, 170, 153)"
          ]
         },
         "text": [
          1.013,
          1.098,
          1.377
         ],
         "textposition": "outside",
         "type": "bar",
         "x": [
          "GenCp",
          "KFCV",
          "SPCV"
         ],
         "xaxis": "x",
         "y": [
          1.0127724060641237,
          1.0978488972566318,
          1.3765104960631698
         ],
         "yaxis": "y"
        },
        {
         "marker": {
          "color": [
           "rgb(127, 60, 141)",
           "rgb(17, 165, 121)",
           "rgb(57, 105, 172)",
           "rgb(242, 183, 1)",
           "rgb(231, 63, 116)",
           "rgb(128, 186, 90)",
           "rgb(230, 131, 16)",
           "rgb(0, 134, 149)",
           "rgb(207, 28, 144)",
           "rgb(249, 123, 114)",
           "rgb(165, 170, 153)"
          ]
         },
         "text": [
          1.005,
          1.029,
          1.328
         ],
         "textposition": "outside",
         "type": "bar",
         "x": [
          "GenCp",
          "KFCV",
          "SPCV"
         ],
         "xaxis": "x2",
         "y": [
          1.0045362010134944,
          1.0286148580711578,
          1.3282442818653917
         ],
         "yaxis": "y2"
        },
        {
         "marker": {
          "color": [
           "rgb(127, 60, 141)",
           "rgb(17, 165, 121)",
           "rgb(57, 105, 172)",
           "rgb(242, 183, 1)",
           "rgb(231, 63, 116)",
           "rgb(128, 186, 90)",
           "rgb(230, 131, 16)",
           "rgb(0, 134, 149)",
           "rgb(207, 28, 144)",
           "rgb(249, 123, 114)",
           "rgb(165, 170, 153)"
          ]
         },
         "text": [
          0.994,
          1.07,
          1.267
         ],
         "textposition": "outside",
         "type": "bar",
         "x": [
          "GenCp",
          "KFCV",
          "SPCV"
         ],
         "xaxis": "x3",
         "y": [
          0.9944630857390047,
          1.0696673069894456,
          1.2672964665394417
         ],
         "yaxis": "y3"
        }
       ],
       "layout": {
        "annotations": [
         {
          "font": {
           "size": 16
          },
          "showarrow": false,
          "text": "Decision Tree",
          "x": 0.14444444444444446,
          "xanchor": "center",
          "xref": "paper",
          "y": 1,
          "yanchor": "bottom",
          "yref": "paper"
         },
         {
          "font": {
           "size": 16
          },
          "showarrow": false,
          "text": "Ridge CV",
          "x": 0.5,
          "xanchor": "center",
          "xref": "paper",
          "y": 1,
          "yanchor": "bottom",
          "yref": "paper"
         },
         {
          "font": {
           "size": 16
          },
          "showarrow": false,
          "text": "Random Forest",
          "x": 0.8555555555555556,
          "xanchor": "center",
          "xref": "paper",
          "y": 1,
          "yanchor": "bottom",
          "yref": "paper"
         }
        ],
        "shapes": [
         {
          "line": {
           "color": "red"
          },
          "type": "line",
          "x0": 0,
          "x1": 1,
          "xref": "x domain",
          "y0": 1,
          "y1": 1,
          "yref": "y"
         },
         {
          "line": {
           "color": "grey",
           "dash": "dash"
          },
          "type": "line",
          "x0": 0,
          "x1": 1,
          "xref": "x domain",
          "y0": 1.0049605655889922,
          "y1": 1.0049605655889922,
          "yref": "y"
         },
         {
          "line": {
           "color": "red"
          },
          "type": "line",
          "x0": 0,
          "x1": 1,
          "xref": "x2 domain",
          "y0": 1,
          "y1": 1,
          "yref": "y2"
         },
         {
          "line": {
           "color": "grey",
           "dash": "dash"
          },
          "type": "line",
          "x0": 0,
          "x1": 1,
          "xref": "x2 domain",
          "y0": 1.0021534820713305,
          "y1": 1.0021534820713305,
          "yref": "y2"
         },
         {
          "line": {
           "color": "red"
          },
          "type": "line",
          "x0": 0,
          "x1": 1,
          "xref": "x3 domain",
          "y0": 1,
          "y1": 1,
          "yref": "y3"
         },
         {
          "line": {
           "color": "grey",
           "dash": "dash"
          },
          "type": "line",
          "x0": 0,
          "x1": 1,
          "xref": "x3 domain",
          "y0": 1.0052873910236153,
          "y1": 1.0052873910236153,
          "yref": "y3"
         }
        ],
        "showlegend": false,
        "template": {
         "data": {
          "bar": [
           {
            "error_x": {
             "color": "#2a3f5f"
            },
            "error_y": {
             "color": "#2a3f5f"
            },
            "marker": {
             "line": {
              "color": "#E5ECF6",
              "width": 0.5
             },
             "pattern": {
              "fillmode": "overlay",
              "size": 10,
              "solidity": 0.2
             }
            },
            "type": "bar"
           }
          ],
          "barpolar": [
           {
            "marker": {
             "line": {
              "color": "#E5ECF6",
              "width": 0.5
             },
             "pattern": {
              "fillmode": "overlay",
              "size": 10,
              "solidity": 0.2
             }
            },
            "type": "barpolar"
           }
          ],
          "carpet": [
           {
            "aaxis": {
             "endlinecolor": "#2a3f5f",
             "gridcolor": "white",
             "linecolor": "white",
             "minorgridcolor": "white",
             "startlinecolor": "#2a3f5f"
            },
            "baxis": {
             "endlinecolor": "#2a3f5f",
             "gridcolor": "white",
             "linecolor": "white",
             "minorgridcolor": "white",
             "startlinecolor": "#2a3f5f"
            },
            "type": "carpet"
           }
          ],
          "choropleth": [
           {
            "colorbar": {
             "outlinewidth": 0,
             "ticks": ""
            },
            "type": "choropleth"
           }
          ],
          "contour": [
           {
            "colorbar": {
             "outlinewidth": 0,
             "ticks": ""
            },
            "colorscale": [
             [
              0,
              "#0d0887"
             ],
             [
              0.1111111111111111,
              "#46039f"
             ],
             [
              0.2222222222222222,
              "#7201a8"
             ],
             [
              0.3333333333333333,
              "#9c179e"
             ],
             [
              0.4444444444444444,
              "#bd3786"
             ],
             [
              0.5555555555555556,
              "#d8576b"
             ],
             [
              0.6666666666666666,
              "#ed7953"
             ],
             [
              0.7777777777777778,
              "#fb9f3a"
             ],
             [
              0.8888888888888888,
              "#fdca26"
             ],
             [
              1,
              "#f0f921"
             ]
            ],
            "type": "contour"
           }
          ],
          "contourcarpet": [
           {
            "colorbar": {
             "outlinewidth": 0,
             "ticks": ""
            },
            "type": "contourcarpet"
           }
          ],
          "heatmap": [
           {
            "colorbar": {
             "outlinewidth": 0,
             "ticks": ""
            },
            "colorscale": [
             [
              0,
              "#0d0887"
             ],
             [
              0.1111111111111111,
              "#46039f"
             ],
             [
              0.2222222222222222,
              "#7201a8"
             ],
             [
              0.3333333333333333,
              "#9c179e"
             ],
             [
              0.4444444444444444,
              "#bd3786"
             ],
             [
              0.5555555555555556,
              "#d8576b"
             ],
             [
              0.6666666666666666,
              "#ed7953"
             ],
             [
              0.7777777777777778,
              "#fb9f3a"
             ],
             [
              0.8888888888888888,
              "#fdca26"
             ],
             [
              1,
              "#f0f921"
             ]
            ],
            "type": "heatmap"
           }
          ],
          "heatmapgl": [
           {
            "colorbar": {
             "outlinewidth": 0,
             "ticks": ""
            },
            "colorscale": [
             [
              0,
              "#0d0887"
             ],
             [
              0.1111111111111111,
              "#46039f"
             ],
             [
              0.2222222222222222,
              "#7201a8"
             ],
             [
              0.3333333333333333,
              "#9c179e"
             ],
             [
              0.4444444444444444,
              "#bd3786"
             ],
             [
              0.5555555555555556,
              "#d8576b"
             ],
             [
              0.6666666666666666,
              "#ed7953"
             ],
             [
              0.7777777777777778,
              "#fb9f3a"
             ],
             [
              0.8888888888888888,
              "#fdca26"
             ],
             [
              1,
              "#f0f921"
             ]
            ],
            "type": "heatmapgl"
           }
          ],
          "histogram": [
           {
            "marker": {
             "pattern": {
              "fillmode": "overlay",
              "size": 10,
              "solidity": 0.2
             }
            },
            "type": "histogram"
           }
          ],
          "histogram2d": [
           {
            "colorbar": {
             "outlinewidth": 0,
             "ticks": ""
            },
            "colorscale": [
             [
              0,
              "#0d0887"
             ],
             [
              0.1111111111111111,
              "#46039f"
             ],
             [
              0.2222222222222222,
              "#7201a8"
             ],
             [
              0.3333333333333333,
              "#9c179e"
             ],
             [
              0.4444444444444444,
              "#bd3786"
             ],
             [
              0.5555555555555556,
              "#d8576b"
             ],
             [
              0.6666666666666666,
              "#ed7953"
             ],
             [
              0.7777777777777778,
              "#fb9f3a"
             ],
             [
              0.8888888888888888,
              "#fdca26"
             ],
             [
              1,
              "#f0f921"
             ]
            ],
            "type": "histogram2d"
           }
          ],
          "histogram2dcontour": [
           {
            "colorbar": {
             "outlinewidth": 0,
             "ticks": ""
            },
            "colorscale": [
             [
              0,
              "#0d0887"
             ],
             [
              0.1111111111111111,
              "#46039f"
             ],
             [
              0.2222222222222222,
              "#7201a8"
             ],
             [
              0.3333333333333333,
              "#9c179e"
             ],
             [
              0.4444444444444444,
              "#bd3786"
             ],
             [
              0.5555555555555556,
              "#d8576b"
             ],
             [
              0.6666666666666666,
              "#ed7953"
             ],
             [
              0.7777777777777778,
              "#fb9f3a"
             ],
             [
              0.8888888888888888,
              "#fdca26"
             ],
             [
              1,
              "#f0f921"
             ]
            ],
            "type": "histogram2dcontour"
           }
          ],
          "mesh3d": [
           {
            "colorbar": {
             "outlinewidth": 0,
             "ticks": ""
            },
            "type": "mesh3d"
           }
          ],
          "parcoords": [
           {
            "line": {
             "colorbar": {
              "outlinewidth": 0,
              "ticks": ""
             }
            },
            "type": "parcoords"
           }
          ],
          "pie": [
           {
            "automargin": true,
            "type": "pie"
           }
          ],
          "scatter": [
           {
            "fillpattern": {
             "fillmode": "overlay",
             "size": 10,
             "solidity": 0.2
            },
            "type": "scatter"
           }
          ],
          "scatter3d": [
           {
            "line": {
             "colorbar": {
              "outlinewidth": 0,
              "ticks": ""
             }
            },
            "marker": {
             "colorbar": {
              "outlinewidth": 0,
              "ticks": ""
             }
            },
            "type": "scatter3d"
           }
          ],
          "scattercarpet": [
           {
            "marker": {
             "colorbar": {
              "outlinewidth": 0,
              "ticks": ""
             }
            },
            "type": "scattercarpet"
           }
          ],
          "scattergeo": [
           {
            "marker": {
             "colorbar": {
              "outlinewidth": 0,
              "ticks": ""
             }
            },
            "type": "scattergeo"
           }
          ],
          "scattergl": [
           {
            "marker": {
             "colorbar": {
              "outlinewidth": 0,
              "ticks": ""
             }
            },
            "type": "scattergl"
           }
          ],
          "scattermapbox": [
           {
            "marker": {
             "colorbar": {
              "outlinewidth": 0,
              "ticks": ""
             }
            },
            "type": "scattermapbox"
           }
          ],
          "scatterpolar": [
           {
            "marker": {
             "colorbar": {
              "outlinewidth": 0,
              "ticks": ""
             }
            },
            "type": "scatterpolar"
           }
          ],
          "scatterpolargl": [
           {
            "marker": {
             "colorbar": {
              "outlinewidth": 0,
              "ticks": ""
             }
            },
            "type": "scatterpolargl"
           }
          ],
          "scatterternary": [
           {
            "marker": {
             "colorbar": {
              "outlinewidth": 0,
              "ticks": ""
             }
            },
            "type": "scatterternary"
           }
          ],
          "surface": [
           {
            "colorbar": {
             "outlinewidth": 0,
             "ticks": ""
            },
            "colorscale": [
             [
              0,
              "#0d0887"
             ],
             [
              0.1111111111111111,
              "#46039f"
             ],
             [
              0.2222222222222222,
              "#7201a8"
             ],
             [
              0.3333333333333333,
              "#9c179e"
             ],
             [
              0.4444444444444444,
              "#bd3786"
             ],
             [
              0.5555555555555556,
              "#d8576b"
             ],
             [
              0.6666666666666666,
              "#ed7953"
             ],
             [
              0.7777777777777778,
              "#fb9f3a"
             ],
             [
              0.8888888888888888,
              "#fdca26"
             ],
             [
              1,
              "#f0f921"
             ]
            ],
            "type": "surface"
           }
          ],
          "table": [
           {
            "cells": {
             "fill": {
              "color": "#EBF0F8"
             },
             "line": {
              "color": "white"
             }
            },
            "header": {
             "fill": {
              "color": "#C8D4E3"
             },
             "line": {
              "color": "white"
             }
            },
            "type": "table"
           }
          ]
         },
         "layout": {
          "annotationdefaults": {
           "arrowcolor": "#2a3f5f",
           "arrowhead": 0,
           "arrowwidth": 1
          },
          "autotypenumbers": "strict",
          "coloraxis": {
           "colorbar": {
            "outlinewidth": 0,
            "ticks": ""
           }
          },
          "colorscale": {
           "diverging": [
            [
             0,
             "#8e0152"
            ],
            [
             0.1,
             "#c51b7d"
            ],
            [
             0.2,
             "#de77ae"
            ],
            [
             0.3,
             "#f1b6da"
            ],
            [
             0.4,
             "#fde0ef"
            ],
            [
             0.5,
             "#f7f7f7"
            ],
            [
             0.6,
             "#e6f5d0"
            ],
            [
             0.7,
             "#b8e186"
            ],
            [
             0.8,
             "#7fbc41"
            ],
            [
             0.9,
             "#4d9221"
            ],
            [
             1,
             "#276419"
            ]
           ],
           "sequential": [
            [
             0,
             "#0d0887"
            ],
            [
             0.1111111111111111,
             "#46039f"
            ],
            [
             0.2222222222222222,
             "#7201a8"
            ],
            [
             0.3333333333333333,
             "#9c179e"
            ],
            [
             0.4444444444444444,
             "#bd3786"
            ],
            [
             0.5555555555555556,
             "#d8576b"
            ],
            [
             0.6666666666666666,
             "#ed7953"
            ],
            [
             0.7777777777777778,
             "#fb9f3a"
            ],
            [
             0.8888888888888888,
             "#fdca26"
            ],
            [
             1,
             "#f0f921"
            ]
           ],
           "sequentialminus": [
            [
             0,
             "#0d0887"
            ],
            [
             0.1111111111111111,
             "#46039f"
            ],
            [
             0.2222222222222222,
             "#7201a8"
            ],
            [
             0.3333333333333333,
             "#9c179e"
            ],
            [
             0.4444444444444444,
             "#bd3786"
            ],
            [
             0.5555555555555556,
             "#d8576b"
            ],
            [
             0.6666666666666666,
             "#ed7953"
            ],
            [
             0.7777777777777778,
             "#fb9f3a"
            ],
            [
             0.8888888888888888,
             "#fdca26"
            ],
            [
             1,
             "#f0f921"
            ]
           ]
          },
          "colorway": [
           "#636efa",
           "#EF553B",
           "#00cc96",
           "#ab63fa",
           "#FFA15A",
           "#19d3f3",
           "#FF6692",
           "#B6E880",
           "#FF97FF",
           "#FECB52"
          ],
          "font": {
           "color": "#2a3f5f"
          },
          "geo": {
           "bgcolor": "white",
           "lakecolor": "white",
           "landcolor": "#E5ECF6",
           "showlakes": true,
           "showland": true,
           "subunitcolor": "white"
          },
          "hoverlabel": {
           "align": "left"
          },
          "hovermode": "closest",
          "mapbox": {
           "style": "light"
          },
          "paper_bgcolor": "white",
          "plot_bgcolor": "#E5ECF6",
          "polar": {
           "angularaxis": {
            "gridcolor": "white",
            "linecolor": "white",
            "ticks": ""
           },
           "bgcolor": "#E5ECF6",
           "radialaxis": {
            "gridcolor": "white",
            "linecolor": "white",
            "ticks": ""
           }
          },
          "scene": {
           "xaxis": {
            "backgroundcolor": "#E5ECF6",
            "gridcolor": "white",
            "gridwidth": 2,
            "linecolor": "white",
            "showbackground": true,
            "ticks": "",
            "zerolinecolor": "white"
           },
           "yaxis": {
            "backgroundcolor": "#E5ECF6",
            "gridcolor": "white",
            "gridwidth": 2,
            "linecolor": "white",
            "showbackground": true,
            "ticks": "",
            "zerolinecolor": "white"
           },
           "zaxis": {
            "backgroundcolor": "#E5ECF6",
            "gridcolor": "white",
            "gridwidth": 2,
            "linecolor": "white",
            "showbackground": true,
            "ticks": "",
            "zerolinecolor": "white"
           }
          },
          "shapedefaults": {
           "line": {
            "color": "#2a3f5f"
           }
          },
          "ternary": {
           "aaxis": {
            "gridcolor": "white",
            "linecolor": "white",
            "ticks": ""
           },
           "baxis": {
            "gridcolor": "white",
            "linecolor": "white",
            "ticks": ""
           },
           "bgcolor": "#E5ECF6",
           "caxis": {
            "gridcolor": "white",
            "linecolor": "white",
            "ticks": ""
           }
          },
          "title": {
           "x": 0.05
          },
          "xaxis": {
           "automargin": true,
           "gridcolor": "white",
           "linecolor": "white",
           "ticks": "",
           "title": {
            "standoff": 15
           },
           "zerolinecolor": "white",
           "zerolinewidth": 2
          },
          "yaxis": {
           "automargin": true,
           "gridcolor": "white",
           "linecolor": "white",
           "ticks": "",
           "title": {
            "standoff": 15
           },
           "zerolinecolor": "white",
           "zerolinewidth": 2
          }
         }
        },
        "title": {
         "text": "General Models: Shared Structured Noise"
        },
        "xaxis": {
         "anchor": "y",
         "domain": [
          0,
          0.2888888888888889
         ],
         "title": {
          "text": "Method"
         }
        },
        "xaxis2": {
         "anchor": "y2",
         "domain": [
          0.35555555555555557,
          0.6444444444444445
         ],
         "title": {
          "text": "Method"
         }
        },
        "xaxis3": {
         "anchor": "y3",
         "domain": [
          0.7111111111111111,
          1
         ],
         "title": {
          "text": "Method"
         }
        },
        "yaxis": {
         "anchor": "x",
         "domain": [
          0,
          1
         ],
         "title": {
          "text": "Relative MSE"
         }
        },
        "yaxis2": {
         "anchor": "x2",
         "domain": [
          0,
          1
         ]
        },
        "yaxis3": {
         "anchor": "x3",
         "domain": [
          0,
          1
         ]
        }
       }
      }
     },
     "metadata": {},
     "output_type": "display_data"
    }
   ],
   "source": [
    "fig = gen_model_barplots(\n",
    "    model_errs, \n",
    "    model_names, \n",
    "    est_names, \n",
    "    title=\"General Models: Shared Structured Noise\", \n",
    "    has_elev_err=True,\n",
    ")\n",
    "fig.show()"
   ]
  },
  {
   "cell_type": "code",
   "execution_count": null,
   "metadata": {},
   "outputs": [],
   "source": []
  }
 ],
 "metadata": {
  "celltoolbar": "Tags",
  "kernelspec": {
   "display_name": "spe",
   "language": "python",
   "name": "python3"
  },
  "language_info": {
   "codemirror_mode": {
    "name": "ipython",
    "version": 3
   },
   "file_extension": ".py",
   "mimetype": "text/x-python",
   "name": "python",
   "nbconvert_exporter": "python",
   "pygments_lexer": "ipython3",
   "version": "3.11.7"
  }
 },
 "nbformat": 4,
 "nbformat_minor": 4
}
