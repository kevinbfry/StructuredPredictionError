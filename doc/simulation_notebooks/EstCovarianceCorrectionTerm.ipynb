{
 "cells": [
  {
   "attachments": {},
   "cell_type": "markdown",
   "metadata": {},
   "source": [
    "# Inspecting Correction Term when Estimating $\\Sigma$"
   ]
  },
  {
   "attachments": {},
   "cell_type": "markdown",
   "metadata": {},
   "source": [
    "If we stick to simple OLS and using a plug-in estimate of $\\Sigma$, all we need is $\\mathrm{tr}(S\\hat\\Sigma_Y) \\approx \\mathrm{tr}(S\\Sigma_Y)$, as this is the only term involving the the covariance.\n",
    "\n",
    "\\begin{align*}\n",
    "    \\mathbb{E}\\|Y^* - SY \\|_2^2 - \\mathbb{E}\\|Y - SY \\|_2^2 &= \\mathrm{tr}(\\Sigma_{Y^*}) - \\mathrm{tr}(\\Sigma_Y) + 2\\mathbb E\\left[ (Y - \\mu)^\\top (\\mu - SY) \\right] \\\\\n",
    "    &= -2\\mathbb E\\left[ (Y - \\mu)^\\top S(Y-\\mu) \\right] \\\\\n",
    "    &= -2\\mathrm{tr}(S\\Sigma_Y) \\\\\n",
    "\\end{align*}\n",
    "\n",
    "So let's look at the differences $\\mathrm{tr}(S\\hat\\Sigma_Y) - \\mathrm{tr}(S\\Sigma_Y)$"
   ]
  },
  {
   "cell_type": "code",
   "execution_count": 61,
   "metadata": {},
   "outputs": [],
   "source": [
    "import numpy as np\n",
    "import pandas as pd\n",
    "from tqdm import tqdm\n",
    "import matplotlib.pyplot as plt\n",
    "from sklearn.gaussian_process.kernels import Matern, RBF\n",
    "# from sklearn.linear_model import LinearRegression\n",
    "from sklearn.ensemble import RandomForestRegressor\n",
    "\n",
    "import plotly.express as px\n",
    "import plotly.graph_objects as go\n",
    "from plotly.subplots import make_subplots\n",
    "\n",
    "from doc.mse_estimator import ErrorComparer\n",
    "from doc.data_generation import gen_rbf_X, gen_matern_X, create_clus_split, gen_cov_mat\n",
    "from spe.relaxed_lasso import RelaxedLasso\n",
    "from spe.tree import Tree\n",
    "from spe.smoothers import LinearRegression\n",
    "from spe.estimators import kfoldcv, kmeanscv, better_test_est_split, cp_smoother_train_test "
   ]
  },
  {
   "cell_type": "code",
   "execution_count": 62,
   "metadata": {},
   "outputs": [],
   "source": [
    "np.random.seed(1)"
   ]
  },
  {
   "cell_type": "code",
   "execution_count": 63,
   "metadata": {
    "tags": [
     "parameters"
    ]
   },
   "outputs": [],
   "source": [
    "## number of realizations to run\n",
    "niter = 100\n",
    "\n",
    "## data generation parameters\n",
    "n=10**2\n",
    "p=5\n",
    "s=5\n",
    "delta = 0.75\n",
    "snr = 0.4\n",
    "tr_frac = .25\n",
    "\n",
    "noise_kernel = 'matern'\n",
    "noise_length_scale = 1.\n",
    "noise_nu = .5\n",
    "\n",
    "X_kernel = 'matern'\n",
    "X_length_scale = 5.\n",
    "X_nu = 2.5\n",
    "\n",
    "## ErrorComparer parameters\n",
    "alpha = 1.\n",
    "nboot = 100\n",
    "k = 5\n",
    "max_depth = 2\n",
    "lambd = .05\n",
    "models = [LinearRegression(fit_intercept=False)]#, Tree(max_depth=max_depth)]\n",
    "model_names = [\"OLS\"]#, f\"Depth {max_depth} Decision Tree\"]\n",
    "# models = [Tree(max_depth=max_depth)]\n",
    "# model_names = [f\"Depth {max_depth} Decision Tree\"]\n",
    "ests = [\n",
    "    better_test_est_split,\n",
    "    cp_smoother_train_test,\n",
    "    # kfoldcv, \n",
    "    # kmeanscv\n",
    "]\n",
    "est_kwargs = [\n",
    "    {},\n",
    "    {},\n",
    "]\n",
    "\n",
    "## plot parameters\n",
    "title = \"Simulated Model Comparisons\"\n",
    "est_names = [\"GenCp\"]#, \"KFCV\", \"SPCV\"]\n",
    "\n",
    "## output/save parameters\n",
    "idx = -1\n",
    "\n",
    "savedir='~'"
   ]
  },
  {
   "cell_type": "code",
   "execution_count": 64,
   "metadata": {},
   "outputs": [],
   "source": [
    "err_cmp = ErrorComparer()"
   ]
  },
  {
   "cell_type": "code",
   "execution_count": 65,
   "metadata": {},
   "outputs": [],
   "source": [
    "nx = ny = int(np.sqrt(n))\n",
    "xs = np.linspace(0, 10, nx)\n",
    "ys = np.linspace(0, 10, ny)\n",
    "c_x, c_y = np.meshgrid(xs, ys)\n",
    "c_x = c_x.flatten()\n",
    "c_y = c_y.flatten()\n",
    "coord = np.stack([c_x, c_y]).T"
   ]
  },
  {
   "cell_type": "code",
   "execution_count": 66,
   "metadata": {},
   "outputs": [],
   "source": [
    "if noise_kernel == 'rbf':\n",
    "    Sigma_t = gen_cov_mat(c_x, c_y, RBF(length_scale=noise_length_scale))\n",
    "elif noise_kernel == 'matern':\n",
    "    Sigma_t = gen_cov_mat(c_x, c_y, Matern(length_scale=noise_length_scale, nu=noise_nu))\n",
    "else:\n",
    "    Sigma_t = np.eye(n)\n",
    "    \n",
    "Cov_st = delta*Sigma_t\n",
    "Sigma_t = delta*Sigma_t + (1-delta)*np.eye(n)\n",
    "\n",
    "if noise_kernel == 'rbf' or noise_kernel == 'matern':\n",
    "    Chol_t = np.linalg.cholesky(Sigma_t)\n",
    "else:\n",
    "    Chol_t = np.eye(n)"
   ]
  },
  {
   "cell_type": "code",
   "execution_count": 67,
   "metadata": {},
   "outputs": [],
   "source": [
    "if X_kernel == 'rbf':\n",
    "    X = gen_rbf_X(c_x, c_y, p)\n",
    "elif X_kernel == 'matern':\n",
    "    X = gen_matern_X(c_x, c_y, p, length_scale=X_length_scale, nu=X_nu)\n",
    "else:\n",
    "    X = np.random.randn(n,p)\n",
    "\n",
    "# beta = np.zeros(p)\n",
    "# idx = np.random.choice(p,size=s,replace=False)\n",
    "# beta[idx] = np.random.uniform(-1,1,size=s)\n",
    "# beta[idx] = np.random.uniform(1,3,size=s) * np.random.choice([-1,1],size=s,replace=True)"
   ]
  },
  {
   "cell_type": "code",
   "execution_count": 68,
   "metadata": {},
   "outputs": [],
   "source": [
    "# tr_idx = create_clus_split(\n",
    "#             int(np.sqrt(n)), int(np.sqrt(n)), tr_frac\n",
    "#         )\n",
    "tr_idx = np.ones(n, dtype=bool)"
   ]
  },
  {
   "cell_type": "markdown",
   "metadata": {},
   "source": [
    "# Estimate with Correct Linear Model"
   ]
  },
  {
   "cell_type": "code",
   "execution_count": 69,
   "metadata": {},
   "outputs": [],
   "source": [
    "np.random.seed(1)"
   ]
  },
  {
   "cell_type": "code",
   "execution_count": 70,
   "metadata": {},
   "outputs": [
    {
     "name": "stderr",
     "output_type": "stream",
     "text": [
      "100%|██████████| 100/100 [00:08<00:00, 11.30it/s]\n"
     ]
    }
   ],
   "source": [
    "model_errs = []\n",
    "S = X @ np.linalg.pinv(X)\n",
    "mu, sigma = err_cmp.gen_mu_sigma(X, None, snr, const_mu=False, friedman_mu=True, sigma=None)\n",
    "for model in models:\n",
    "    errs = []\n",
    "    for i in tqdm(range(niter)):\n",
    "        y, y2 = err_cmp.gen_ys(\n",
    "            mu, Chol_t, Chol_t, sigma=sigma, Cov_st=Cov_st, delta=delta\n",
    "        )\n",
    "        est_Sigma_t = err_cmp.est_Sigma(X, y, coord, model)\n",
    "\n",
    "        corr_term = 2*np.diag(S @ (est_Sigma_t - Sigma_t)).sum()\n",
    "        true_corr = np.sum((y - S @ y)**2) + 2*np.diag(S @ (Sigma_t)).sum()\n",
    "        errs.append(corr_term/(true_corr))\n",
    "        \n",
    "    model_errs.append(errs)\n"
   ]
  },
  {
   "cell_type": "code",
   "execution_count": 85,
   "metadata": {},
   "outputs": [
    {
     "data": {
      "text/plain": [
       "array([[1.00000000e+00, 2.46894741e-01, 8.12760174e-02, ...,\n",
       "        2.36130079e-06, 1.15983639e-06, 5.41015615e-07],\n",
       "       [2.46894741e-01, 1.00000000e+00, 2.46894741e-01, ...,\n",
       "        4.52367282e-06, 2.36130079e-06, 1.15983639e-06],\n",
       "       [8.12760174e-02, 2.46894741e-01, 1.00000000e+00, ...,\n",
       "        8.07069371e-06, 4.52367282e-06, 2.36130079e-06],\n",
       "       ...,\n",
       "       [2.36130079e-06, 4.52367282e-06, 8.07069371e-06, ...,\n",
       "        1.00000000e+00, 2.46894741e-01, 8.12760174e-02],\n",
       "       [1.15983639e-06, 2.36130079e-06, 4.52367282e-06, ...,\n",
       "        2.46894741e-01, 1.00000000e+00, 2.46894741e-01],\n",
       "       [5.41015615e-07, 1.15983639e-06, 2.36130079e-06, ...,\n",
       "        8.12760174e-02, 2.46894741e-01, 1.00000000e+00]])"
      ]
     },
     "execution_count": 85,
     "metadata": {},
     "output_type": "execute_result"
    }
   ],
   "source": [
    "Sigma_t"
   ]
  },
  {
   "cell_type": "code",
   "execution_count": 71,
   "metadata": {},
   "outputs": [
    {
     "data": {
      "text/plain": [
       "array([[1.17315422e+00, 0.00000000e+00, 0.00000000e+00, ...,\n",
       "        0.00000000e+00, 0.00000000e+00, 0.00000000e+00],\n",
       "       [5.05799957e-01, 1.05851652e+00, 0.00000000e+00, ...,\n",
       "        0.00000000e+00, 0.00000000e+00, 0.00000000e+00],\n",
       "       [2.62209778e-01, 4.35284334e-01, 1.05738564e+00, ...,\n",
       "        0.00000000e+00, 0.00000000e+00, 0.00000000e+00],\n",
       "       ...,\n",
       "       [9.15259514e-04, 9.94736024e-04, 1.31315383e-03, ...,\n",
       "        9.78907883e-01, 0.00000000e+00, 0.00000000e+00],\n",
       "       [6.27990398e-04, 7.14304433e-04, 9.83834035e-04, ...,\n",
       "        2.84993348e-01, 9.79961025e-01, 0.00000000e+00],\n",
       "       [4.19441669e-04, 4.95576589e-04, 7.07444943e-04, ...,\n",
       "        1.03187326e-01, 2.92654787e-01, 9.92799895e-01]])"
      ]
     },
     "execution_count": 71,
     "metadata": {},
     "output_type": "execute_result"
    }
   ],
   "source": [
    "est_Sigma_t"
   ]
  },
  {
   "cell_type": "code",
   "execution_count": 72,
   "metadata": {},
   "outputs": [
    {
     "data": {
      "image/png": "[encoded data removed]",
      "text/plain": [
       "<Figure size 640x480 with 1 Axes>"
      ]
     },
     "metadata": {},
     "output_type": "display_data"
    }
   ],
   "source": [
    "model_dict = {model_names[i]: model_errs[i] for i in range(len(model_names))}\n",
    "df = pd.DataFrame(model_dict)\n",
    "df.boxplot(showmeans=True)\n",
    "plt.show()"
   ]
  },
  {
   "attachments": {},
   "cell_type": "markdown",
   "metadata": {},
   "source": [
    "# Estimate with Overparametrized Linear Model"
   ]
  },
  {
   "cell_type": "code",
   "execution_count": 73,
   "metadata": {},
   "outputs": [],
   "source": [
    "np.random.seed(1)"
   ]
  },
  {
   "cell_type": "code",
   "execution_count": 74,
   "metadata": {},
   "outputs": [
    {
     "name": "stderr",
     "output_type": "stream",
     "text": [
      "100%|██████████| 100/100 [00:08<00:00, 11.34it/s]\n"
     ]
    }
   ],
   "source": [
    "model_errs = []\n",
    "Xover = np.hstack([X, np.random.randn(n,p)])\n",
    "S = X @ np.linalg.pinv(X)\n",
    "mu, sigma = err_cmp.gen_mu_sigma(X, None, snr, const_mu=False, friedman_mu=True, sigma=None)\n",
    "for model in models:\n",
    "    errs = []\n",
    "    for i in tqdm(range(niter)):\n",
    "        y, y2 = err_cmp.gen_ys(\n",
    "            mu, Chol_t, Chol_t, sigma=sigma, Cov_st=Cov_st, delta=delta\n",
    "        )\n",
    "        est_Sigma_t = err_cmp.est_Sigma(Xover, y, coord, model)\n",
    "\n",
    "        corr_term = 2*np.diag(S @ (est_Sigma_t - Sigma_t)).sum()\n",
    "        true_corr = np.sum((y - S @ y)**2) + 2*np.diag(S @ (Sigma_t)).sum()\n",
    "        errs.append(corr_term/(true_corr))\n",
    "        \n",
    "    model_errs.append(errs)\n"
   ]
  },
  {
   "cell_type": "code",
   "execution_count": 75,
   "metadata": {},
   "outputs": [
    {
     "data": {
      "text/plain": [
       "array([[1.1238505 , 0.        , 0.        , ..., 0.        , 0.        ,\n",
       "        0.        ],\n",
       "       [0.51533269, 0.99873528, 0.        , ..., 0.        , 0.        ,\n",
       "        0.        ],\n",
       "       [0.30554629, 0.42223292, 0.9956911 , ..., 0.        , 0.        ,\n",
       "        0.        ],\n",
       "       ...,\n",
       "       [0.00440632, 0.00412015, 0.00494723, ..., 0.91499994, 0.        ,\n",
       "        0.        ],\n",
       "       [0.00333867, 0.00323561, 0.00401667, ..., 0.25971827, 0.9165763 ,\n",
       "        0.        ],\n",
       "       [0.00248071, 0.0024769 , 0.00316187, ..., 0.10575818, 0.26954033,\n",
       "        0.93042549]])"
      ]
     },
     "execution_count": 75,
     "metadata": {},
     "output_type": "execute_result"
    }
   ],
   "source": [
    "est_Sigma_t"
   ]
  },
  {
   "cell_type": "code",
   "execution_count": 76,
   "metadata": {},
   "outputs": [
    {
     "data": {
      "image/png": "[encoded data removed]",
      "text/plain": [
       "<Figure size 640x480 with 1 Axes>"
      ]
     },
     "metadata": {},
     "output_type": "display_data"
    }
   ],
   "source": [
    "model_dict = {model_names[i]: model_errs[i] for i in range(len(model_names))}\n",
    "df = pd.DataFrame(model_dict)\n",
    "df.boxplot(showmeans=True)\n",
    "plt.show()"
   ]
  },
  {
   "attachments": {},
   "cell_type": "markdown",
   "metadata": {},
   "source": [
    "# Estimate with RF"
   ]
  },
  {
   "cell_type": "code",
   "execution_count": 77,
   "metadata": {},
   "outputs": [],
   "source": [
    "np.random.seed(1)"
   ]
  },
  {
   "cell_type": "code",
   "execution_count": 78,
   "metadata": {},
   "outputs": [
    {
     "name": "stderr",
     "output_type": "stream",
     "text": [
      "100%|██████████| 100/100 [00:15<00:00,  6.47it/s]\n"
     ]
    }
   ],
   "source": [
    "model_errs = []\n",
    "S = X @ np.linalg.pinv(X)\n",
    "mu, sigma = err_cmp.gen_mu_sigma(X, None, snr, const_mu=False, friedman_mu=True, sigma=None)\n",
    "for model in models:\n",
    "    errs = []\n",
    "    for i in tqdm(range(niter)):\n",
    "        y, y2 = err_cmp.gen_ys(\n",
    "            mu, Chol_t, Chol_t, Cov_st=Cov_st\n",
    "        )\n",
    "        est_Sigma_t = err_cmp.est_Sigma(\n",
    "            X, \n",
    "            y, \n",
    "            coord, \n",
    "            RandomForestRegressor(\n",
    "                max_depth=3, \n",
    "                max_features='sqrt'\n",
    "            )\n",
    "        )\n",
    "\n",
    "        corr_term = 2*np.diag(S @ (est_Sigma_t - Sigma_t)).sum()\n",
    "        true_corr = np.sum((y - S @ y)**2) + 2*np.diag(S @ (Sigma_t)).sum()\n",
    "        errs.append(corr_term/(true_corr))\n",
    "        \n",
    "    model_errs.append(errs)\n"
   ]
  },
  {
   "cell_type": "code",
   "execution_count": 79,
   "metadata": {},
   "outputs": [
    {
     "data": {
      "text/plain": [
       "array([[7.34952524e-01, 0.00000000e+00, 0.00000000e+00, ...,\n",
       "        0.00000000e+00, 0.00000000e+00, 0.00000000e+00],\n",
       "       [1.35556746e-01, 7.22343119e-01, 0.00000000e+00, ...,\n",
       "        0.00000000e+00, 0.00000000e+00, 0.00000000e+00],\n",
       "       [1.10432024e-02, 1.35850663e-01, 7.22203474e-01, ...,\n",
       "        0.00000000e+00, 0.00000000e+00, 0.00000000e+00],\n",
       "       ...,\n",
       "       [1.96378662e-14, 1.09128644e-13, 5.04457756e-13, ...,\n",
       "        7.10354749e-01, 0.00000000e+00, 0.00000000e+00],\n",
       "       [2.87014967e-15, 1.94420502e-14, 1.09134699e-13, ...,\n",
       "        1.24455175e-01, 7.10355255e-01, 0.00000000e+00],\n",
       "       [4.53181527e-16, 2.83520654e-15, 1.94442848e-14, ...,\n",
       "        8.49822608e-03, 1.24432463e-01, 7.10863919e-01]])"
      ]
     },
     "execution_count": 79,
     "metadata": {},
     "output_type": "execute_result"
    }
   ],
   "source": [
    "est_Sigma_t"
   ]
  },
  {
   "cell_type": "code",
   "execution_count": 80,
   "metadata": {},
   "outputs": [
    {
     "data": {
      "image/png": "[encoded data removed]",
      "text/plain": [
       "<Figure size 640x480 with 1 Axes>"
      ]
     },
     "metadata": {},
     "output_type": "display_data"
    }
   ],
   "source": [
    "model_dict = {model_names[i]: model_errs[i] for i in range(len(model_names))}\n",
    "df = pd.DataFrame(model_dict)\n",
    "df.boxplot(showmeans=True)\n",
    "plt.show()"
   ]
  },
  {
   "attachments": {},
   "cell_type": "markdown",
   "metadata": {},
   "source": [
    "# Estimate with Tree"
   ]
  },
  {
   "cell_type": "code",
   "execution_count": 81,
   "metadata": {},
   "outputs": [],
   "source": [
    "np.random.seed(1)"
   ]
  },
  {
   "cell_type": "code",
   "execution_count": 82,
   "metadata": {},
   "outputs": [
    {
     "name": "stderr",
     "output_type": "stream",
     "text": [
      "100%|██████████| 100/100 [00:08<00:00, 11.50it/s]\n"
     ]
    }
   ],
   "source": [
    "model_errs = []\n",
    "S = X @ np.linalg.pinv(X)\n",
    "mu, sigma = err_cmp.gen_mu_sigma(X, None, snr, const_mu=False, friedman_mu=True, sigma=None)\n",
    "for model in models:\n",
    "    errs = []\n",
    "    for i in tqdm(range(niter)):\n",
    "        y, y2 = err_cmp.gen_ys(\n",
    "            mu, Chol_t, Chol_t, sigma=sigma, Cov_st=Cov_st, delta=delta\n",
    "        )\n",
    "        est_Sigma_t = err_cmp.est_Sigma(\n",
    "            X, \n",
    "            y, \n",
    "            coord, \n",
    "            Tree(\n",
    "                max_depth=3, \n",
    "                max_features='sqrt'\n",
    "            )\n",
    "        )\n",
    "\n",
    "        corr_term = 2*np.diag(S @ (est_Sigma_t - Sigma_t)).sum()\n",
    "        true_corr = np.sum((y - S @ y)**2) + 2*np.diag(S @ (Sigma_t)).sum()\n",
    "        errs.append(corr_term/(true_corr))\n",
    "        \n",
    "    model_errs.append(errs)\n"
   ]
  },
  {
   "cell_type": "code",
   "execution_count": 83,
   "metadata": {},
   "outputs": [
    {
     "data": {
      "text/plain": [
       "array([[8.94001038e-01, 0.00000000e+00, 0.00000000e+00, ...,\n",
       "        0.00000000e+00, 0.00000000e+00, 0.00000000e+00],\n",
       "       [1.78432338e-01, 8.76013560e-01, 0.00000000e+00, ...,\n",
       "        0.00000000e+00, 0.00000000e+00, 0.00000000e+00],\n",
       "       [5.86566104e-02, 1.70148575e-01, 8.75697848e-01, ...,\n",
       "        0.00000000e+00, 0.00000000e+00, 0.00000000e+00],\n",
       "       ...,\n",
       "       [4.54683311e-06, 7.32871629e-06, 1.20722388e-05, ...,\n",
       "        8.56895141e-01, 0.00000000e+00, 0.00000000e+00],\n",
       "       [2.42355884e-06, 4.14654797e-06, 7.28980886e-06, ...,\n",
       "        1.38687534e-01, 8.57079809e-01, 0.00000000e+00],\n",
       "       [1.23504287e-06, 2.22176073e-06, 4.12745181e-06, ...,\n",
       "        3.64070163e-02, 1.40193132e-01, 8.60023063e-01]])"
      ]
     },
     "execution_count": 83,
     "metadata": {},
     "output_type": "execute_result"
    }
   ],
   "source": [
    "est_Sigma_t"
   ]
  },
  {
   "cell_type": "code",
   "execution_count": 84,
   "metadata": {},
   "outputs": [
    {
     "data": {
      "image/png": "[encoded data removed]",
      "text/plain": [
       "<Figure size 640x480 with 1 Axes>"
      ]
     },
     "metadata": {},
     "output_type": "display_data"
    }
   ],
   "source": [
    "model_dict = {model_names[i]: model_errs[i] for i in range(len(model_names))}\n",
    "df = pd.DataFrame(model_dict)\n",
    "df.boxplot(showmeans=True)\n",
    "plt.show()"
   ]
  },
  {
   "cell_type": "code",
   "execution_count": null,
   "metadata": {},
   "outputs": [],
   "source": []
  }
 ],
 "metadata": {
  "celltoolbar": "Tags",
  "kernelspec": {
   "display_name": "spe",
   "language": "python",
   "name": "python3"
  },
  "language_info": {
   "codemirror_mode": {
    "name": "ipython",
    "version": 3
   },
   "file_extension": ".py",
   "mimetype": "text/x-python",
   "name": "python",
   "nbconvert_exporter": "python",
   "pygments_lexer": "ipython3",
   "version": "3.10.6"
  }
 },
 "nbformat": 4,
 "nbformat_minor": 4
}
