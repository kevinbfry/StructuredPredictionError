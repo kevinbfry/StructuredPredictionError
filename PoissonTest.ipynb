{
 "cells": [
  {
   "cell_type": "code",
   "execution_count": 1,
   "id": "c1e11872",
   "metadata": {},
   "outputs": [],
   "source": [
    "import numpy as np\n",
    "import pandas as pd\n",
    "\n",
    "from scipy.special import gamma, digamma, polygamma\n",
    "from scipy.stats import poisson\n",
    "\n",
    "from sklearn.linear_model import PoissonRegressor\n",
    "\n",
    "import matplotlib.pyplot as plt"
   ]
  },
  {
   "cell_type": "markdown",
   "id": "5de2c4eb",
   "metadata": {},
   "source": [
    "\\begin{align*}\n",
    "    \\ell(U, V; X) &= \\sum_i \\ln\\left(\\frac{e^{U_i\\theta(X,V)^\\top X_i}}{U_i!}\\exp\\left(-e^{\\theta(X,V)^\\top X_i }\\right) \\right) \\\\\n",
    "    &= \\sum_i U_i\\theta(X,V)^\\top X_i - \\ln(U_i!) - e^{\\theta(X,V)^\\top X_i}\n",
    "\\end{align*}\n",
    "So\n",
    "\\begin{gather*}\n",
    "%    \\nabla_{U_i} \\ell(U, V; X) = \\theta(X,V)^\\top X_i - \\Psi(U_i + 1) \\\\\n",
    "    \\nabla_{U} \\ell(U, V; X) = X\\theta(X,V) - \\Psi(U + 1) \\\\\n",
    "    \\nabla_{U}^2 \\ell(U, V; X) = -diag \\left(\\Psi^{(2)}(U + 1)\\right)\n",
    "\\end{gather*}\n",
    "By Taylor's Theorem\n",
    "\\begin{align*}\n",
    "    \\ell(Y^*, Y; X) &\\approx \\ell(Y, Y; X) + (Y^* - Y)^\\top \\nabla_U \\ell(Y, Y; X) + \\frac{1}{2}(Y^* - Y)^\\top \\nabla_U^2 \\ell(Y, Y; X) (Y^* - Y) \\\\\n",
    "    &= \\ell(Y, Y; X) + (Y^* - Y)^\\top \\left( X\\theta(X,Y) - \\Psi(Y + 1) \\right) - \\frac{1}{2}(Y^* - Y)^\\top diag \\left(\\Psi^{(2)}(Y + 1)\\right) (Y^* - Y) \\\\\n",
    "\\end{align*}\n",
    "So hopefully in expectation its close..."
   ]
  },
  {
   "cell_type": "code",
   "execution_count": 2,
   "id": "fe256d07",
   "metadata": {},
   "outputs": [],
   "source": [
    "def loglik(theta, X, y):\n",
    "    return np.mean(poisson.logpmf(y, mu=X.dot(theta)))"
   ]
  },
  {
   "cell_type": "code",
   "execution_count": 3,
   "id": "d23dab59",
   "metadata": {},
   "outputs": [],
   "source": [
    "def grad_loglik(theta, X, y):\n",
    "    n = y.shape[0]\n",
    "    return (X.dot(theta) - digamma(y+1)) / n"
   ]
  },
  {
   "cell_type": "code",
   "execution_count": 4,
   "id": "736e7047",
   "metadata": {},
   "outputs": [],
   "source": [
    "def hess_loglik(y):\n",
    "    n = y.shape[0]\n",
    "    return -np.diag(polygamma(3,y+1)) / n"
   ]
  },
  {
   "cell_type": "code",
   "execution_count": 5,
   "id": "c78392c4",
   "metadata": {},
   "outputs": [],
   "source": [
    "def third_derivative_loglik(y):\n",
    "    n = y.shape[0]\n",
    "    return -polygamma(4,y+1) / n"
   ]
  },
  {
   "cell_type": "code",
   "execution_count": 6,
   "id": "a9ae2032",
   "metadata": {},
   "outputs": [],
   "source": [
    "def est_loglik(theta, X, y, y_star, third_order=False):\n",
    "    delta = y_star - y\n",
    "    return (\n",
    "#         (\n",
    "            loglik(theta, X, y) + \n",
    "            delta.dot(grad_loglik(theta, X, y)) + \n",
    "            delta.dot(hess_loglik(y).dot(delta))/2. +\n",
    "            third_order*(delta**3).dot(third_derivative_loglik(y)) / 6.\n",
    "#         ),\n",
    "#         (delta**3).dot(third_derivative_loglik(y))\n",
    "    )"
   ]
  },
  {
   "cell_type": "code",
   "execution_count": 7,
   "id": "481b52ba",
   "metadata": {},
   "outputs": [
    {
     "data": {
      "text/plain": [
       "(-15.697275880414438,\n",
       " array([15.37194117,  4.28860783]),\n",
       " array([[-0.02243266, -0.        ],\n",
       "        [-0.        , -3.2469697 ]]),\n",
       " array([ 0.01875035, 12.44313306]),\n",
       " -28.41531039636267)"
      ]
     },
     "execution_count": 7,
     "metadata": {},
     "output_type": "execute_result"
    }
   ],
   "source": [
    "loglik(\n",
    "    np.array([2,1,3]),\n",
    "    np.array([[5,1],[1,0],[7,2]]).T,\n",
    "    np.array([3,0])\n",
    "), grad_loglik(\n",
    "    np.array([2,1,3]),\n",
    "    np.array([[5,1],[1,0],[7,2]]).T,\n",
    "    np.array([3,0])\n",
    "), hess_loglik(\n",
    "    np.array([3,0])\n",
    "), third_derivative_loglik(\n",
    "    np.array([3,0])\n",
    "), est_loglik(\n",
    "    np.array([2,1,3]),\n",
    "    np.array([[5,1],[1,0],[7,2]]).T,\n",
    "    np.array([3,0]),\n",
    "    np.array([2,1])\n",
    ")"
   ]
  },
  {
   "cell_type": "markdown",
   "id": "f69d1fe5",
   "metadata": {},
   "source": [
    "## Start with IID poisson entries"
   ]
  },
  {
   "cell_type": "code",
   "execution_count": 8,
   "id": "e8dc87c1",
   "metadata": {},
   "outputs": [],
   "source": [
    "lam = 3.\n",
    "n = 50\n",
    "p = 10\n",
    "y = poisson.rvs(mu=lam, size=n)\n",
    "y_star = poisson.rvs(mu=lam, size=n)"
   ]
  },
  {
   "cell_type": "code",
   "execution_count": 9,
   "id": "a5b64e19",
   "metadata": {},
   "outputs": [
    {
     "data": {
      "text/plain": [
       "array([3, 4, 5, 5, 2, 3, 1, 5, 3, 2, 1, 1, 1, 6, 3, 1, 4, 2, 3, 2, 4, 4,\n",
       "       3, 4, 3, 3, 4, 2, 3, 3, 7, 1, 4, 2, 3, 1, 5, 1, 1, 4, 0, 2, 4, 6,\n",
       "       5, 3, 4, 2, 4, 4])"
      ]
     },
     "execution_count": 9,
     "metadata": {},
     "output_type": "execute_result"
    }
   ],
   "source": [
    "y"
   ]
  },
  {
   "cell_type": "code",
   "execution_count": 10,
   "id": "fcec8730",
   "metadata": {},
   "outputs": [
    {
     "data": {
      "text/plain": [
       "array([3, 1, 5, 3, 2, 3, 7, 2, 3, 3, 3, 1, 3, 1, 1, 6, 2, 3, 2, 3, 7, 2,\n",
       "       0, 6, 8, 3, 1, 3, 3, 5, 2, 5, 3, 5, 7, 3, 5, 1, 4, 3, 4, 3, 3, 4,\n",
       "       2, 1, 1, 2, 2, 3])"
      ]
     },
     "execution_count": 10,
     "metadata": {},
     "output_type": "execute_result"
    }
   ],
   "source": [
    "y_star"
   ]
  },
  {
   "cell_type": "code",
   "execution_count": 11,
   "id": "741ef44b",
   "metadata": {},
   "outputs": [],
   "source": [
    "niters = 500\n",
    "\n",
    "Ys = np.zeros((n, niters))\n",
    "Y_stars = np.zeros((n, niters))\n",
    "    \n",
    "X = np.hstack((np.ones((n,1)),np.fabs(np.random.randn(n,p))))\n",
    "theta_0 = np.random.uniform(0,3,(p+1))\n",
    "lam = X.dot(theta_0)\n",
    "\n",
    "for i in np.arange(niters):\n",
    "    Ys[:,i] = poisson.rvs(mu=lam, size=n)\n",
    "    Y_stars[:,i] = poisson.rvs(mu=lam, size=n)"
   ]
  },
  {
   "cell_type": "code",
   "execution_count": 12,
   "id": "23d4d2ed",
   "metadata": {},
   "outputs": [],
   "source": [
    "test_errs = []\n",
    "est_errs = []\n",
    "third_est_errs = []\n",
    "naive_errs = []\n",
    "thetas = []\n",
    "for i in np.arange(niters):\n",
    "    y = Ys[:,i]\n",
    "    y_star = Y_stars[:,i]\n",
    "    \n",
    "    pm = PoissonRegressor(alpha=0, fit_intercept=False)\n",
    "    pm.fit(X, y)\n",
    "    theta = pm.coef_\n",
    "    thetas.append(theta)\n",
    "#     if i == 0:\n",
    "#         print(loglik(theta, X, y))\n",
    "    naive_errs.append(loglik(theta, X, y))\n",
    "    test_errs.append(loglik(theta, X, y_star))\n",
    "    est_errs.append(est_loglik(theta, X, y, y_star, third_order=False))\n",
    "    third_est_errs.append(est_loglik(theta, X, y, y_star, third_order=True))"
   ]
  },
  {
   "cell_type": "code",
   "execution_count": 13,
   "id": "cf3a3063",
   "metadata": {},
   "outputs": [
    {
     "data": {
      "text/plain": [
       "(-12.282368631358098,\n",
       " -12.24922702412293,\n",
       " -11.524830822897387,\n",
       " -11.32883783987426)"
      ]
     },
     "execution_count": 13,
     "metadata": {},
     "output_type": "execute_result"
    }
   ],
   "source": [
    "np.mean(test_errs), np.mean(naive_errs), np.mean(est_errs), np.mean(third_est_errs),"
   ]
  },
  {
   "cell_type": "code",
   "execution_count": 14,
   "id": "9139f3e7",
   "metadata": {},
   "outputs": [
    {
     "data": {
      "text/plain": [
       "(0.844876767478407, 0.666447185413693, 0.6779526096687571, 1.379880217904812)"
      ]
     },
     "execution_count": 14,
     "metadata": {},
     "output_type": "execute_result"
    }
   ],
   "source": [
    "np.std(test_errs), np.std(naive_errs), np.std(est_errs), np.std(third_est_errs)"
   ]
  },
  {
   "cell_type": "code",
   "execution_count": 15,
   "id": "e163568d",
   "metadata": {},
   "outputs": [
    {
     "data": {
      "text/plain": [
       "<matplotlib.lines.Line2D at 0x7f9350422ee0>"
      ]
     },
     "execution_count": 15,
     "metadata": {},
     "output_type": "execute_result"
    },
    {
     "data": {
      "image/png": "[encoded data removed]",
      "text/plain": [
       "<Figure size 432x288 with 1 Axes>"
      ]
     },
     "metadata": {
      "needs_background": "light"
     },
     "output_type": "display_data"
    }
   ],
   "source": [
    "fig = plt.boxplot([naive_errs-np.mean(test_errs), est_errs-np.mean(test_errs), third_est_errs-np.mean(test_errs)])\n",
    "plt.axhline(y=0., color='r', linestyle='-')"
   ]
  },
  {
   "cell_type": "code",
   "execution_count": 16,
   "id": "a3499ed0",
   "metadata": {},
   "outputs": [
    {
     "data": {
      "text/plain": [
       "<matplotlib.lines.Line2D at 0x7f93914f9490>"
      ]
     },
     "execution_count": 16,
     "metadata": {},
     "output_type": "execute_result"
    },
    {
     "data": {
      "image/png": "[encoded data removed]",
      "text/plain": [
       "<Figure size 432x288 with 1 Axes>"
      ]
     },
     "metadata": {
      "needs_background": "light"
     },
     "output_type": "display_data"
    }
   ],
   "source": [
    "fig = plt.boxplot([naive_errs-np.mean(test_errs), est_errs-np.mean(test_errs), third_est_errs-np.mean(test_errs)], showfliers=False)\n",
    "plt.axhline(y=0., color='r', linestyle='-')"
   ]
  },
  {
   "cell_type": "markdown",
   "id": "20e4239c",
   "metadata": {},
   "source": [
    "## Now what if Poisson's correlated\n",
    "Simple case, shared core Poisson, then added Poisson noise"
   ]
  },
  {
   "cell_type": "code",
   "execution_count": 17,
   "id": "301eda84",
   "metadata": {},
   "outputs": [],
   "source": [
    "niters = 500\n",
    "core_mu = 3\n",
    "\n",
    "Ys = np.zeros((n, niters))\n",
    "Y_stars = np.zeros((n, niters))\n",
    "cores = np.zeros(niters)\n",
    "star_cores = np.zeros(niters)\n",
    "    \n",
    "X = np.hstack((np.ones((n,1)),np.fabs(np.random.randn(n,p))))\n",
    "theta_0 = np.random.uniform(0,3,(p+1))\n",
    "lam = X.dot(theta_0)\n",
    "\n",
    "\n",
    "for i in np.arange(niters):\n",
    "    cores[i] = poisson.rvs(mu=core_mu, size=1)\n",
    "    star_cores[i] = poisson.rvs(mu=core_mu, size=1)\n",
    "    Ys[:,i] = cores[i] + poisson.rvs(mu=lam, size=n)\n",
    "    Y_stars[:,i] = star_cores[i] + poisson.rvs(mu=lam, size=n)"
   ]
  },
  {
   "cell_type": "code",
   "execution_count": 18,
   "id": "42ca4b1d",
   "metadata": {},
   "outputs": [],
   "source": [
    "test_errs = []\n",
    "est_errs = []\n",
    "third_est_errs = []\n",
    "naive_errs = []\n",
    "thetas = []\n",
    "for i in np.arange(niters):\n",
    "    y = Ys[:,i]\n",
    "    y_star = Y_stars[:,i]\n",
    "    \n",
    "    pm = PoissonRegressor(alpha=0, fit_intercept=False)\n",
    "    pm.fit(X, y)\n",
    "    theta = pm.coef_\n",
    "    thetas.append(theta)\n",
    "#     if i == 0:\n",
    "#         print(loglik(theta, X, y))\n",
    "    naive_errs.append(loglik(theta, X, y))\n",
    "    test_errs.append(loglik(theta, X, y_star))\n",
    "    est_errs.append(est_loglik(theta, X, y, y_star, third_order=False))\n",
    "    third_est_errs.append(est_loglik(theta, X, y, y_star, third_order=True))"
   ]
  },
  {
   "cell_type": "code",
   "execution_count": 19,
   "id": "308d8a31",
   "metadata": {},
   "outputs": [
    {
     "data": {
      "text/plain": [
       "(-15.693605187651793,\n",
       " -15.353725710648614,\n",
       " -14.779284302747216,\n",
       " -14.729799373256347)"
      ]
     },
     "execution_count": 19,
     "metadata": {},
     "output_type": "execute_result"
    }
   ],
   "source": [
    "np.mean(test_errs), np.mean(naive_errs), np.mean(est_errs), np.mean(third_est_errs),"
   ]
  },
  {
   "cell_type": "code",
   "execution_count": 20,
   "id": "434477fc",
   "metadata": {},
   "outputs": [
    {
     "data": {
      "text/plain": [
       "(3.1965864429295894, 2.5964156500031716, 2.6112981093754946, 2.684786329219623)"
      ]
     },
     "execution_count": 20,
     "metadata": {},
     "output_type": "execute_result"
    }
   ],
   "source": [
    "np.std(test_errs), np.std(naive_errs), np.std(est_errs), np.std(third_est_errs)"
   ]
  },
  {
   "cell_type": "code",
   "execution_count": 21,
   "id": "05be717a",
   "metadata": {},
   "outputs": [
    {
     "data": {
      "text/plain": [
       "<matplotlib.lines.Line2D at 0x7f9360bf2400>"
      ]
     },
     "execution_count": 21,
     "metadata": {},
     "output_type": "execute_result"
    },
    {
     "data": {
      "image/png": "[encoded data removed]",
      "text/plain": [
       "<Figure size 432x288 with 1 Axes>"
      ]
     },
     "metadata": {
      "needs_background": "light"
     },
     "output_type": "display_data"
    }
   ],
   "source": [
    "fig = plt.boxplot([naive_errs-np.mean(test_errs), est_errs-np.mean(test_errs), third_est_errs-np.mean(test_errs)])\n",
    "plt.axhline(y=0., color='r', linestyle='-')"
   ]
  },
  {
   "cell_type": "code",
   "execution_count": 22,
   "id": "14d0c13c",
   "metadata": {},
   "outputs": [
    {
     "data": {
      "text/plain": [
       "<matplotlib.lines.Line2D at 0x7f93915e0a30>"
      ]
     },
     "execution_count": 22,
     "metadata": {},
     "output_type": "execute_result"
    },
    {
     "data": {
      "image/png": "[encoded data removed]",
      "text/plain": [
       "<Figure size 432x288 with 1 Axes>"
      ]
     },
     "metadata": {
      "needs_background": "light"
     },
     "output_type": "display_data"
    }
   ],
   "source": [
    "fig = plt.boxplot([naive_errs-np.mean(test_errs), est_errs-np.mean(test_errs), third_est_errs-np.mean(test_errs)], showfliers=False)\n",
    "plt.axhline(y=0., color='r', linestyle='-')"
   ]
  },
  {
   "cell_type": "code",
   "execution_count": null,
   "id": "5c8f08dc",
   "metadata": {},
   "outputs": [],
   "source": []
  },
  {
   "cell_type": "markdown",
   "id": "35df564f",
   "metadata": {},
   "source": [
    "## Additive correlation structure"
   ]
  },
  {
   "cell_type": "code",
   "execution_count": 23,
   "id": "197ca201",
   "metadata": {},
   "outputs": [],
   "source": [
    "niters = 500\n",
    "# core_mu = 3\n",
    "\n",
    "Ys = np.zeros((n, niters))\n",
    "Y_stars = np.zeros((n, niters))\n",
    "cores = np.zeros(niters)\n",
    "star_cores = np.zeros(niters)\n",
    "    \n",
    "X = np.hstack((np.ones((n,1)),np.fabs(np.random.randn(n,p))))\n",
    "theta_0 = np.random.uniform(0,3,(p+1))\n",
    "lam = X.dot(theta_0)\n",
    "\n",
    "m = int(n/2)\n",
    "\n",
    "for i in np.arange(niters):\n",
    "#     cores[i] = poisson.rvs(mu=core_mu, size=1)\n",
    "#     star_cores[i] = poisson.rvs(mu=core_mu, size=1)\n",
    "    Ys[:m,i] = poisson.rvs(mu=lam[:m], size=m)\n",
    "    Ys[m:,i] = Ys[:m,i] + poisson.rvs(mu=lam[m:], size=m)\n",
    "    Y_stars[:m,i] = poisson.rvs(mu=lam[:m], size=m)\n",
    "    Y_stars[m:,i] = Y_stars[:m,i] + poisson.rvs(mu=lam[m:], size=m)"
   ]
  },
  {
   "cell_type": "code",
   "execution_count": 24,
   "id": "07abc3c6",
   "metadata": {},
   "outputs": [],
   "source": [
    "test_errs = []\n",
    "est_errs = []\n",
    "third_est_errs = []\n",
    "naive_errs = []\n",
    "thetas = []\n",
    "for i in np.arange(niters):\n",
    "    y = Ys[:,i]\n",
    "    y_star = Y_stars[:,i]\n",
    "    \n",
    "    pm = PoissonRegressor(alpha=0, fit_intercept=False)\n",
    "    pm.fit(X, y)\n",
    "    theta = pm.coef_\n",
    "    thetas.append(theta)\n",
    "#     if i == 0:\n",
    "#         print(loglik(theta, X, y))\n",
    "    naive_errs.append(loglik(theta, X, y))\n",
    "    test_errs.append(loglik(theta, X, y_star))\n",
    "    est_errs.append(est_loglik(theta, X, y, y_star, third_order=False))\n",
    "    third_est_errs.append(est_loglik(theta, X, y, y_star, third_order=True))"
   ]
  },
  {
   "cell_type": "code",
   "execution_count": 25,
   "id": "4b9df254",
   "metadata": {},
   "outputs": [
    {
     "data": {
      "text/plain": [
       "(-24.533072389240843,\n",
       " -24.562703065926392,\n",
       " -23.842699875109325,\n",
       " -23.792800280396616)"
      ]
     },
     "execution_count": 25,
     "metadata": {},
     "output_type": "execute_result"
    }
   ],
   "source": [
    "np.mean(test_errs), np.mean(naive_errs), np.mean(est_errs), np.mean(third_est_errs),"
   ]
  },
  {
   "cell_type": "code",
   "execution_count": 26,
   "id": "003e60cc",
   "metadata": {},
   "outputs": [
    {
     "data": {
      "text/plain": [
       "(1.5450635181965617, 1.314756215064668, 1.3243437317884141, 1.3690939209151454)"
      ]
     },
     "execution_count": 26,
     "metadata": {},
     "output_type": "execute_result"
    }
   ],
   "source": [
    "np.std(test_errs), np.std(naive_errs), np.std(est_errs), np.std(third_est_errs)"
   ]
  },
  {
   "cell_type": "code",
   "execution_count": 27,
   "id": "8fa4d488",
   "metadata": {},
   "outputs": [
    {
     "data": {
      "text/plain": [
       "<matplotlib.lines.Line2D at 0x7f93916394f0>"
      ]
     },
     "execution_count": 27,
     "metadata": {},
     "output_type": "execute_result"
    },
    {
     "data": {
      "image/png": "[encoded data removed]",
      "text/plain": [
       "<Figure size 432x288 with 1 Axes>"
      ]
     },
     "metadata": {
      "needs_background": "light"
     },
     "output_type": "display_data"
    }
   ],
   "source": [
    "fig = plt.boxplot([naive_errs-np.mean(test_errs), est_errs-np.mean(test_errs), third_est_errs-np.mean(test_errs)])\n",
    "plt.axhline(y=0., color='r', linestyle='-')"
   ]
  },
  {
   "cell_type": "code",
   "execution_count": 28,
   "id": "a732fd33",
   "metadata": {},
   "outputs": [
    {
     "data": {
      "text/plain": [
       "<matplotlib.lines.Line2D at 0x7f93803df850>"
      ]
     },
     "execution_count": 28,
     "metadata": {},
     "output_type": "execute_result"
    },
    {
     "data": {
      "image/png": "[encoded data removed]",
      "text/plain": [
       "<Figure size 432x288 with 1 Axes>"
      ]
     },
     "metadata": {
      "needs_background": "light"
     },
     "output_type": "display_data"
    }
   ],
   "source": [
    "fig = plt.boxplot([naive_errs-np.mean(test_errs), est_errs-np.mean(test_errs), third_est_errs-np.mean(test_errs)], showfliers=False)\n",
    "plt.axhline(y=0., color='r', linestyle='-')"
   ]
  },
  {
   "cell_type": "code",
   "execution_count": null,
   "id": "bcfb5189",
   "metadata": {},
   "outputs": [],
   "source": []
  }
 ],
 "metadata": {
  "kernelspec": {
   "display_name": "Python 3 (ipykernel)",
   "language": "python",
   "name": "python3"
  },
  "language_info": {
   "codemirror_mode": {
    "name": "ipython",
    "version": 3
   },
   "file_extension": ".py",
   "mimetype": "text/x-python",
   "name": "python",
   "nbconvert_exporter": "python",
   "pygments_lexer": "ipython3",
   "version": "3.8.13"
  }
 },
 "nbformat": 4,
 "nbformat_minor": 5
}
